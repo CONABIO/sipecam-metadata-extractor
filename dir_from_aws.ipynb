{
 "cells": [
  {
   "cell_type": "markdown",
   "id": "fa2cb30c-301d-4da8-957c-bcca8d32733a",
   "metadata": {},
   "source": [
    "# New delivery: `/s3_open_data_mount/raw-land-data/entrega.24.Agosto.2022/`"
   ]
  },
  {
   "cell_type": "code",
   "execution_count": 1,
   "id": "7c9b6cf5-aa2f-4b2c-b16c-1480cb3e8f9c",
   "metadata": {},
   "outputs": [],
   "source": [
    "%%bash\n",
    "dir_with_sipecam_data=/s3_open_data_mount/raw-land-data/entrega.24.Agosto.2022/\n",
    "list_of_files_and_subdirectories_to_extract_metadata --input_directory \"$dir_with_sipecam_data\""
   ]
  },
  {
   "cell_type": "markdown",
   "id": "87acf2f8-059e-46d0-bb30-b4cc95b70590",
   "metadata": {},
   "source": [
    "# Check"
   ]
  },
  {
   "cell_type": "code",
   "execution_count": 2,
   "id": "10df9bf3-afb4-4c4e-bf9e-041355ce6eb6",
   "metadata": {},
   "outputs": [
    {
     "name": "stdout",
     "output_type": "stream",
     "text": [
      "-rw-r--r-- 1 root root 4.9K Aug 29 13:15 /shared_volume/sipecam_subdirectories_29-08-2022.txt\n"
     ]
    }
   ],
   "source": [
    "%%bash\n",
    "ls -lh /shared_volume/sipecam_subdirectories_29-08-2022.txt"
   ]
  },
  {
   "cell_type": "code",
   "execution_count": 3,
   "id": "1996ce02-2da6-4733-84bf-ca623fe2bffd",
   "metadata": {},
   "outputs": [
    {
     "name": "stdout",
     "output_type": "stream",
     "text": [
      "-rw-r--r-- 1 root root 7.6M Aug 29 13:15 /shared_volume/sipecam_files_to_extract_metadata_from_29-08-2022.txt\n"
     ]
    }
   ],
   "source": [
    "%%bash\n",
    "ls -lh /shared_volume/sipecam_files_to_extract_metadata_from_29-08-2022.txt"
   ]
  },
  {
   "cell_type": "code",
   "execution_count": 4,
   "id": "795bff99-3cc4-490b-aca2-dd0037fca63c",
   "metadata": {},
   "outputs": [
    {
     "name": "stdout",
     "output_type": "stream",
     "text": [
      "45 /shared_volume/sipecam_subdirectories_29-08-2022.txt\n"
     ]
    }
   ],
   "source": [
    "%%bash\n",
    "wc -l /shared_volume/sipecam_subdirectories_29-08-2022.txt"
   ]
  },
  {
   "cell_type": "code",
   "execution_count": 5,
   "id": "9b080cf3-31a8-4330-8c4a-474134bd0972",
   "metadata": {},
   "outputs": [
    {
     "name": "stdout",
     "output_type": "stream",
     "text": [
      "61777 /shared_volume/sipecam_files_to_extract_metadata_from_29-08-2022.txt\n"
     ]
    }
   ],
   "source": [
    "%%bash\n",
    "wc -l /shared_volume/sipecam_files_to_extract_metadata_from_29-08-2022.txt"
   ]
  },
  {
   "cell_type": "code",
   "execution_count": 6,
   "id": "efff1a10-1226-4496-a2bd-20c2ee2636b3",
   "metadata": {},
   "outputs": [],
   "source": [
    "%%bash\n",
    "mv /shared_volume/sipecam_subdirectories_29-08-2022.txt /shared_volume/sipecam_subdirectories_29-08-2022_cumulus_99.txt"
   ]
  },
  {
   "cell_type": "code",
   "execution_count": 7,
   "id": "08449ae6-21ff-453e-954c-6dc942c2e490",
   "metadata": {},
   "outputs": [],
   "source": [
    "%%bash\n",
    "mv /shared_volume/sipecam_files_to_extract_metadata_from_29-08-2022.txt /shared_volume/sipecam_files_to_extract_metadata_from_29-08-2022_cumulus_99.txt"
   ]
  },
  {
   "cell_type": "code",
   "execution_count": 8,
   "id": "5a5a4cad-9024-484e-9ee6-c76759d6dff4",
   "metadata": {},
   "outputs": [
    {
     "name": "stdout",
     "output_type": "stream",
     "text": [
      "45 /shared_volume/sipecam_subdirectories_29-08-2022_cumulus_99.txt\n"
     ]
    }
   ],
   "source": [
    "%%bash\n",
    "wc -l /shared_volume/sipecam_subdirectories_29-08-2022_cumulus_99.txt"
   ]
  },
  {
   "cell_type": "code",
   "execution_count": 9,
   "id": "9f76b30f-2c6f-4fea-8470-6869bc6d894f",
   "metadata": {},
   "outputs": [
    {
     "name": "stdout",
     "output_type": "stream",
     "text": [
      "61777 /shared_volume/sipecam_files_to_extract_metadata_from_29-08-2022_cumulus_99.txt\n"
     ]
    }
   ],
   "source": [
    "%%bash\n",
    "wc -l /shared_volume/sipecam_files_to_extract_metadata_from_29-08-2022_cumulus_99.txt"
   ]
  },
  {
   "cell_type": "code",
   "execution_count": 10,
   "id": "30685f34-befa-4900-aad0-588fc1c5c21c",
   "metadata": {},
   "outputs": [
    {
     "name": "stdout",
     "output_type": "stream",
     "text": [
      "/s3_open_data_mount/raw-land-data/entrega.24.Agosto.2022/4_99_0_1579/cuatro/audible/3_CAMPO/Audi\n",
      "20220616_134000.WAV\n",
      "20220616_135000.WAV\n",
      "20220616_140000.WAV\n",
      "/s3_open_data_mount/raw-land-data/entrega.24.Agosto.2022/4_99_0_1579/cuatro/audible/CAMPO8\n",
      "20220616_131000.WAV\n",
      "20220616_132000.WAV\n",
      "20220616_133000.WAV\n",
      "/s3_open_data_mount/raw-land-data/entrega.24.Agosto.2022/4_99_0_1579/cuatro/ultrasonico/4_CAMPO\n",
      "20220616_180000.WAV\n",
      "20220616_182000.WAV\n",
      "20220616_184000.WAV\n",
      "/s3_open_data_mount/raw-land-data/entrega.24.Agosto.2022/4_99_0_1579/cuatro/ultrasonico/5_CAMPO/Ultra\n",
      "20220616_180000.WAV\n",
      "20220616_182000.WAV\n",
      "20220616_184000.WAV\n",
      "/s3_open_data_mount/raw-land-data/entrega.24.Agosto.2022/4_99_0_1584/grabadoras/audible/NO NAME 1\n",
      "20220515_180000.WAV\n",
      "20220515_182000.WAV\n",
      "20220515_184000.WAV\n",
      "/s3_open_data_mount/raw-land-data/entrega.24.Agosto.2022/4_99_0_1584/grabadoras/audible/NO NAME\n",
      "20220515_180000.WAV\n",
      "20220515_182000.WAV\n",
      "20220515_184000.WAV\n",
      "/s3_open_data_mount/raw-land-data/entrega.24.Agosto.2022/4_99_0_1584/grabadoras/ultrasonico/NO NAME 2\n",
      "20220515_113000.WAV\n",
      "20220515_114000.WAV\n",
      "20220515_115000.WAV\n",
      "/s3_open_data_mount/raw-land-data/entrega.24.Agosto.2022/4_99_0_1584/grabadoras/ultrasonico/NO NAME 3\n",
      "20220515_115000.WAV\n",
      "20220515_120000.WAV\n",
      "20220515_121000.WAV\n",
      "/s3_open_data_mount/raw-land-data/entrega.24.Agosto.2022/4_99_1_1585/cuatro/audible/CAMPO6\n",
      "19700101_164205.WAV\n",
      "19700101_164206.WAV\n",
      "20220615_180000.WAV\n",
      "/s3_open_data_mount/raw-land-data/entrega.24.Agosto.2022/4_99_1_1585/cuatro/audible/CAMPO7\n",
      "20220615_141016.WAV\n",
      "20220615_142436.WAV\n",
      "20220615_143000.WAV\n",
      "/s3_open_data_mount/raw-land-data/entrega.24.Agosto.2022/4_99_1_1586/visita_06/camaras/2_CAMPO_reconstruida_danada_de_origen/Deep Scan - FAT32\n",
      "20211207_135000.WAV\n",
      "20211207_140000.WAV\n",
      "20211207_141000.WAV\n",
      "/s3_open_data_mount/raw-land-data/entrega.24.Agosto.2022/4_99_1_1586/visita_06/grabadoras/audible/NO NAME 1\n",
      "20220514_180000.WAV\n",
      "20220514_182000.WAV\n",
      "20220514_184000.WAV\n",
      "/s3_open_data_mount/raw-land-data/entrega.24.Agosto.2022/4_99_1_1586/visita_06/grabadoras/audible/NO NAME 2\n",
      "20220514_143000.WAV\n",
      "20220514_144000.WAV\n",
      "20220514_145000.WAV\n",
      "/s3_open_data_mount/raw-land-data/entrega.24.Agosto.2022/4_99_1_1586/visita_06/grabadoras/audible/NO NAME\n",
      "20220514_180000.WAV\n",
      "20220514_182000.WAV\n",
      "20220514_184000.WAV\n",
      "/s3_open_data_mount/raw-land-data/entrega.24.Agosto.2022/4_99_1_1586/visita_06/grabadoras/ultrasonico/NO NAME 3\n",
      "20220514_133000.WAV\n",
      "20220514_134000.WAV\n",
      "20220514_135000.WAV\n",
      "/s3_open_data_mount/raw-land-data/entrega.24.Agosto.2022/4_99_1_1586/visita_06/grabadoras/ultrasonico/NO NAME 4\n",
      "20220514_130000.WAV\n",
      "20220514_131000.WAV\n",
      "20220514_132000.WAV\n",
      "/s3_open_data_mount/raw-land-data/entrega.24.Agosto.2022/4_99_1_1586/visita_06/grabadoras/ultrasonico/NO NAME 5\n",
      "20220514_180000.WAV\n",
      "20220514_182000.WAV\n",
      "20220514_184000.WAV\n",
      "/s3_open_data_mount/raw-land-data/entrega.24.Agosto.2022/4_99_1_1586/visita_06/camaras/2_CAMPO_reconstruida_danada_de_origen/Reconstructed labeled/Audio/wav\n",
      "1.00-768-000000.wav\n",
      "1.00-768-000001.wav\n",
      "1.00-768-000002.wav\n",
      "/s3_open_data_mount/raw-land-data/entrega.24.Agosto.2022/4_99_1_1586/visita_06/camaras/2_CAMPO_reconstruida_danada_de_origen/Reconstructed labeled/Audio/wav/Group 2\n",
      "1.00-768-001000.wav\n",
      "1.00-768-001001.wav\n",
      "1.00-768-001002.wav\n",
      "/s3_open_data_mount/raw-land-data/entrega.24.Agosto.2022/4_99_1_1586/visita_06/camaras/2_CAMPO_reconstruida_danada_de_origen/Reconstructed labeled/Audio/wav/Group 3\n",
      "1.00-768-002000.wav\n",
      "1.00-768-002001.wav\n",
      "1.00-768-002002.wav\n",
      "/s3_open_data_mount/raw-land-data/entrega.24.Agosto.2022/4_99_1_1586/visita_06/camaras/2_CAMPO_reconstruida_danada_de_origen/Reconstructed labeled/Audio/wav/Group 4\n",
      "1.00-768-003000.wav\n",
      "1.00-768-003001.wav\n",
      "1.00-768-003002.wav\n",
      "/s3_open_data_mount/raw-land-data/entrega.24.Agosto.2022/4_99_1_1586/visita_06/camaras/2_CAMPO_reconstruida_danada_de_origen/Reconstructed labeled/Audio/wav/Group 5\n",
      "1.00-768-004000.wav\n",
      "1.00-768-004001.wav\n",
      "1.00-768-004002.wav\n",
      "/s3_open_data_mount/raw-land-data/entrega.24.Agosto.2022/4_99_0_1579/cinco/NO NAME 1/DCIM/100RECNX\n",
      "RCNX0001.JPG\n",
      "RCNX0002.JPG\n",
      "RCNX0003.AVI\n",
      "/s3_open_data_mount/raw-land-data/entrega.24.Agosto.2022/4_99_0_1579/cinco/NO NAME 2/DCIM/100RECNX\n",
      "RCNX0001.JPG\n",
      "RCNX0002.JPG\n",
      "RCNX0003.AVI\n",
      "/s3_open_data_mount/raw-land-data/entrega.24.Agosto.2022/4_99_0_1579/cinco/NO NAME 2/DCIM/101RECNX\n",
      "RCNX0001.JPG\n",
      "RCNX0002.JPG\n",
      "RCNX0003.AVI\n",
      "/s3_open_data_mount/raw-land-data/entrega.24.Agosto.2022/4_99_0_1579/cinco/NO NAME 3/DCIM/100RECNX\n",
      "RCNX0001.JPG\n",
      "RCNX0002.JPG\n",
      "RCNX0003.AVI\n",
      "/s3_open_data_mount/raw-land-data/entrega.24.Agosto.2022/4_99_0_1579/cinco/NO NAME/DCIM/100RECNX\n",
      "RCNX0001.JPG\n",
      "RCNX0002.JPG\n",
      "RCNX0003.AVI\n",
      "/s3_open_data_mount/raw-land-data/entrega.24.Agosto.2022/4_99_0_1579/cinco/Untitled/DCIM/102RECNX\n",
      "RCNX0001.JPG\n",
      "RCNX0002.JPG\n",
      "RCNX0003.JPG\n",
      "/s3_open_data_mount/raw-land-data/entrega.24.Agosto.2022/4_99_0_1584/camaras/3\n",
      "RCNX0001.JPG\n",
      "RCNX0002.JPG\n",
      "RCNX0003.AVI\n",
      "/s3_open_data_mount/raw-land-data/entrega.24.Agosto.2022/4_99_0_1584/camaras/3_CAMPO/1\n",
      "RCNX0001.JPG\n",
      "RCNX0002.JPG\n",
      "RCNX0003.AVI\n",
      "/s3_open_data_mount/raw-land-data/entrega.24.Agosto.2022/4_99_0_1584/camaras/4\n",
      "RCNX0001.JPG\n",
      "RCNX0002.JPG\n",
      "RCNX0003.AVI\n",
      "/s3_open_data_mount/raw-land-data/entrega.24.Agosto.2022/4_99_0_1584/camaras/5_CAMPO/5\n",
      "RCNX0001.JPG\n",
      "RCNX0002.JPG\n",
      "RCNX0003.AVI\n",
      "/s3_open_data_mount/raw-land-data/entrega.24.Agosto.2022/4_99_0_1584/camaras/CAMPO5/2\n",
      "RCNX0001.JPG\n",
      "RCNX0002.JPG\n",
      "RCNX0003.AVI\n",
      "/s3_open_data_mount/raw-land-data/entrega.24.Agosto.2022/4_99_1_1585/cinco/NO NAME 1/DCIM/100RECNX\n",
      "RCNX0001.JPG\n",
      "RCNX0002.JPG\n",
      "RCNX0003.AVI\n",
      "/s3_open_data_mount/raw-land-data/entrega.24.Agosto.2022/4_99_1_1585/cinco/NO NAME 2/DCIM/100RECNX\n",
      "RCNX0001.JPG\n",
      "RCNX0002.JPG\n",
      "RCNX0003.AVI\n",
      "/s3_open_data_mount/raw-land-data/entrega.24.Agosto.2022/4_99_1_1585/cinco/NO NAME 3/DCIM/100RECNX\n",
      "RCNX0001.JPG\n",
      "RCNX0002.JPG\n",
      "RCNX0003.AVI\n",
      "/s3_open_data_mount/raw-land-data/entrega.24.Agosto.2022/4_99_1_1585/cinco/NO NAME 4/DCIM/100RECNX\n",
      "RCNX0001.JPG\n",
      "RCNX0002.JPG\n",
      "RCNX0003.AVI\n",
      "/s3_open_data_mount/raw-land-data/entrega.24.Agosto.2022/4_99_1_1585/cinco/NO NAME/DCIM/100RECNX\n",
      "RCNX0001.JPG\n",
      "RCNX0002.JPG\n",
      "RCNX0003.AVI\n",
      "/s3_open_data_mount/raw-land-data/entrega.24.Agosto.2022/4_99_1_1586/visita_06/camaras/2_CAMPO_reconstruida_danada_de_origen/Deep Scan - NTFS/2\n",
      "RCNX0001.JPG\n",
      "RCNX0002.JPG\n",
      "RCNX0003.AVI\n",
      "/s3_open_data_mount/raw-land-data/entrega.24.Agosto.2022/4_99_1_1586/visita_06/camaras/3_CAMPO/5\n",
      "RCNX0001.JPG\n",
      "RCNX0002.JPG\n",
      "RCNX0003.AVI\n",
      "/s3_open_data_mount/raw-land-data/entrega.24.Agosto.2022/4_99_1_1586/visita_06/camaras/4_CAMPO/4\n",
      "RCNX0001.JPG\n",
      "RCNX0002.JPG\n",
      "RCNX0003.AVI\n",
      "/s3_open_data_mount/raw-land-data/entrega.24.Agosto.2022/4_99_1_1586/visita_06/camaras/7_CAMPO/3\n",
      "RCNX0001.JPG\n",
      "RCNX0002.JPG\n",
      "RCNX0003.AVI\n",
      "/s3_open_data_mount/raw-land-data/entrega.24.Agosto.2022/4_99_1_1586/visita_06/camaras/8_CAMPO/1\n",
      "RCNX0001.JPG\n",
      "RCNX0002.JPG\n",
      "RCNX0003.AVI\n",
      "/s3_open_data_mount/raw-land-data/entrega.24.Agosto.2022/4_99_1_1586/visita_06/camaras/2_CAMPO_reconstruida_danada_de_origen/Reconstructed labeled/Pictures/jpg\n",
      "RECONYX HF2 PRO COVERT 2048x1440_000000.jpg\n",
      "RECONYX HF2 PRO COVERT 2048x1440_000001.jpg\n",
      "RECONYX HF2 PRO COVERT 2048x1440_000002.jpg\n",
      "/s3_open_data_mount/raw-land-data/entrega.24.Agosto.2022/4_99_1_1586/visita_06/camaras/2_CAMPO_reconstruida_danada_de_origen/Reconstructed/Video/avi\n",
      "file000000.avi\n",
      "file000001.avi\n",
      "file000002.avi\n"
     ]
    }
   ],
   "source": [
    "%%bash\n",
    "#check every first subdirectory has a JPG, WAV or AVI file\n",
    "SAVEIFS=$IFS;IFS=$(echo -en \"\\n\\b\")\n",
    "for f in $(cat /shared_volume/sipecam_subdirectories_29-08-2022_cumulus_99.txt)\n",
    "  do echo \"$f\"\n",
    "     ls \"$f\"|grep \"[WAV|wav|JPG|jpg|AVI|avi]$\"|head -n 3\n",
    "done\n",
    "IFS=$SAVEIFS"
   ]
  },
  {
   "cell_type": "markdown",
   "id": "c259b128-19d1-4e87-8abe-aaa6066ad3cc",
   "metadata": {},
   "source": [
    "# Which directories are of audio?"
   ]
  },
  {
   "cell_type": "code",
   "execution_count": 11,
   "id": "f9b014a7-860e-496b-9e65-7db72075eba1",
   "metadata": {},
   "outputs": [],
   "source": [
    "%%bash\n",
    "if [ -f ~/list_dirs_with_audios.txt ]; then\n",
    "     rm ~/list_dirs_with_audios.txt\n",
    "fi\n",
    "if [ -f ~/list_dirs_with_audios_auxiliary.txt ]; then\n",
    "     rm ~/list_dirs_with_audios_auxiliary.txt\n",
    "fi\n",
    "SAVEIFS=$IFS;IFS=$(echo -en \"\\n\\b\")\n",
    "for f in $(find /s3_open_data_mount/raw-land-data/entrega.24.Agosto.2022/ -name \"*.WAV\")\n",
    "  do\n",
    "     dir_audio=$(dirname $f)\n",
    "     echo \"$dir_audio\" >> ~/list_dirs_with_audios_auxiliary.txt\n",
    "done\n",
    "dirs_audio=$(cat ~/list_dirs_with_audios_auxiliary.txt|uniq)\n",
    "echo \"$dirs_audio\" > ~/list_dirs_with_audios.txt\n",
    "IFS=$SAVEIFS\n",
    "\n"
   ]
  },
  {
   "cell_type": "code",
   "execution_count": 12,
   "id": "35309e10-dbe5-4bf9-a3ee-a5311898ab7b",
   "metadata": {},
   "outputs": [
    {
     "name": "stdout",
     "output_type": "stream",
     "text": [
      "/s3_open_data_mount/raw-land-data/entrega.24.Agosto.2022/4_99_0_1579/cuatro/audible/3_CAMPO/Audi\n",
      "/s3_open_data_mount/raw-land-data/entrega.24.Agosto.2022/4_99_0_1579/cuatro/audible/CAMPO8\n",
      "/s3_open_data_mount/raw-land-data/entrega.24.Agosto.2022/4_99_0_1579/cuatro/ultrasonico/4_CAMPO\n",
      "/s3_open_data_mount/raw-land-data/entrega.24.Agosto.2022/4_99_0_1579/cuatro/ultrasonico/5_CAMPO/Ultra\n",
      "/s3_open_data_mount/raw-land-data/entrega.24.Agosto.2022/4_99_0_1584/grabadoras/audible/NO NAME 1\n",
      "/s3_open_data_mount/raw-land-data/entrega.24.Agosto.2022/4_99_0_1584/grabadoras/audible/NO NAME\n",
      "/s3_open_data_mount/raw-land-data/entrega.24.Agosto.2022/4_99_0_1584/grabadoras/ultrasonico/NO NAME 2\n",
      "/s3_open_data_mount/raw-land-data/entrega.24.Agosto.2022/4_99_0_1584/grabadoras/ultrasonico/NO NAME 3\n",
      "/s3_open_data_mount/raw-land-data/entrega.24.Agosto.2022/4_99_1_1585/cuatro/audible/CAMPO6\n",
      "/s3_open_data_mount/raw-land-data/entrega.24.Agosto.2022/4_99_1_1585/cuatro/audible/CAMPO7\n",
      "/s3_open_data_mount/raw-land-data/entrega.24.Agosto.2022/4_99_1_1586/visita_06/camaras/2_CAMPO_reconstruida_danada_de_origen/Deep Scan - FAT32\n",
      "/s3_open_data_mount/raw-land-data/entrega.24.Agosto.2022/4_99_1_1586/visita_06/grabadoras/audible/NO NAME 1\n",
      "/s3_open_data_mount/raw-land-data/entrega.24.Agosto.2022/4_99_1_1586/visita_06/grabadoras/audible/NO NAME 2\n",
      "/s3_open_data_mount/raw-land-data/entrega.24.Agosto.2022/4_99_1_1586/visita_06/grabadoras/audible/NO NAME\n",
      "/s3_open_data_mount/raw-land-data/entrega.24.Agosto.2022/4_99_1_1586/visita_06/grabadoras/ultrasonico/NO NAME 3\n",
      "/s3_open_data_mount/raw-land-data/entrega.24.Agosto.2022/4_99_1_1586/visita_06/grabadoras/ultrasonico/NO NAME 4\n",
      "/s3_open_data_mount/raw-land-data/entrega.24.Agosto.2022/4_99_1_1586/visita_06/grabadoras/ultrasonico/NO NAME 5\n"
     ]
    }
   ],
   "source": [
    "%%bash\n",
    "cat ~/list_dirs_with_audios.txt"
   ]
  },
  {
   "cell_type": "markdown",
   "id": "20ac1f7a-3b31-4b55-b89e-fdbf2b2d3bc6",
   "metadata": {},
   "source": [
    "# check_if_there_are_audio_empty_files_in_dir_and_move_them"
   ]
  },
  {
   "cell_type": "code",
   "execution_count": null,
   "id": "52b20f6d-4b78-4fa1-8426-fa0d87ecb183",
   "metadata": {},
   "outputs": [],
   "source": [
    "%%bash\n",
    "dir_to_be_processed=\"/s3_open_data_mount/raw-land-data/entrega.24.Agosto.2022/4_99_0_1579/cuatro/audible/3_CAMPO/Audi\"\n",
    "check_if_there_are_audio_empty_files_in_dir_and_move_them --input_directory_audio \"$dir_to_be_processed\" --number_of_processes 10"
   ]
  },
  {
   "cell_type": "code",
   "execution_count": null,
   "id": "cd7badd8-aaab-4629-987d-ce6f5a47cd42",
   "metadata": {},
   "outputs": [],
   "source": [
    "\n",
    "\n",
    "%%bash\n",
    "SAVEIFS=$IFS;IFS=$(echo -en \"\\n\\b\")\n",
    "for dir_to_be_processed in $(cat ~/list_dirs_with_audios.txt)\n",
    "    do echo \"$dir_to_be_processed\"\n",
    "    check_if_there_are_audio_empty_files_in_dir_and_move_them --input_directory_audio \"$dir_to_be_processed\" --number_of_processes 10\n",
    "done\n",
    "IFS=$SAVEIFS\n",
    "\n"
   ]
  }
 ],
 "metadata": {
  "kernelspec": {
   "display_name": "Python 3 (ipykernel)",
   "language": "python",
   "name": "python3"
  },
  "language_info": {
   "codemirror_mode": {
    "name": "ipython",
    "version": 3
   },
   "file_extension": ".py",
   "mimetype": "text/x-python",
   "name": "python",
   "nbconvert_exporter": "python",
   "pygments_lexer": "ipython3",
   "version": "3.8.10"
  }
 },
 "nbformat": 4,
 "nbformat_minor": 5
}
