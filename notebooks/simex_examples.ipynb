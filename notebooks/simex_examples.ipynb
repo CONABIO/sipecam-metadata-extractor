{
 "cells": [
  {
   "cell_type": "markdown",
   "id": "55fbee2a-d46a-4c53-80fd-5e9d399e09d4",
   "metadata": {},
   "source": [
    "# Install `simex`"
   ]
  },
  {
   "cell_type": "code",
   "execution_count": 1,
   "id": "156d8c5a-0bbf-4da0-9907-39c89199702e",
   "metadata": {},
   "outputs": [
    {
     "name": "stderr",
     "output_type": "stream",
     "text": [
      "WARNING: Running pip as the 'root' user can result in broken permissions and conflicting behaviour with the system package manager. It is recommended to use a virtual environment instead: https://pip.pypa.io/warnings/venv\n",
      "WARNING: You are using pip version 21.2.4; however, version 21.3.1 is available.\n",
      "You should consider upgrading via the '/usr/bin/python3 -m pip install --upgrade pip' command.\n"
     ]
    }
   ],
   "source": [
    "%%bash\n",
    "#clone repo of `sipecam-metadata-extactor` in server\n",
    "#git clone git@github.com:CONABIO/sipecam-metadata-extractor.git ~/\n",
    "cd ../src\n",
    "#install in editable mode\n",
    "pip install -q -e ."
   ]
  },
  {
   "cell_type": "markdown",
   "id": "18dafca7-40c5-4561-9882-585adc102e64",
   "metadata": {
    "tags": []
   },
   "source": [
    "# List of files to extract metadata"
   ]
  },
  {
   "cell_type": "code",
   "execution_count": 1,
   "id": "bb5da31e-cd09-498c-bea1-1874e7a3bcf8",
   "metadata": {},
   "outputs": [],
   "source": [
    "%%bash\n",
    "dir_with_sipecam_data=/LUSTRE/sacmod/SIPECAM/Entregas_2021/octubre_2021/SIPECAM\n",
    "list_of_files_and_subdirectories_to_extract_metadata --input_directory $dir_with_sipecam_data"
   ]
  },
  {
   "cell_type": "markdown",
   "id": "dd1ec9c2-9ccd-4466-a001-d1a2cb0a3481",
   "metadata": {
    "tags": []
   },
   "source": [
    "## Check"
   ]
  },
  {
   "cell_type": "code",
   "execution_count": 2,
   "id": "c6af410f-441d-4677-90cc-a68d96f88591",
   "metadata": {},
   "outputs": [
    {
     "name": "stdout",
     "output_type": "stream",
     "text": [
      "-rw-r--r-- 1 root root 3.2M Dec 16 18:03 /shared_volume/sipecam_files_to_extract_metadata_from_16-12-2021.txt\n"
     ]
    }
   ],
   "source": [
    "%%bash\n",
    "ls -lh /shared_volume/sipecam_files_to_extract_metadata_from_*"
   ]
  },
  {
   "cell_type": "code",
   "execution_count": 3,
   "id": "3bf2a60c-641e-4e26-b3e3-2d7db80d5ccb",
   "metadata": {},
   "outputs": [
    {
     "name": "stdout",
     "output_type": "stream",
     "text": [
      "-rw-r--r-- 1 root root 1.8K Dec 16 18:03 /shared_volume/sipecam_subdirectories_16-12-2021.txt\n"
     ]
    }
   ],
   "source": [
    "%%bash\n",
    "ls -lh /shared_volume/sipecam_subdirectories_*"
   ]
  },
  {
   "cell_type": "code",
   "execution_count": 4,
   "id": "38b883ef-65eb-4dd9-9fb4-8c2ad55cf876",
   "metadata": {},
   "outputs": [
    {
     "name": "stdout",
     "output_type": "stream",
     "text": [
      "29079 /shared_volume/sipecam_files_to_extract_metadata_from_16-12-2021.txt\n"
     ]
    }
   ],
   "source": [
    "%%bash\n",
    "wc -l /shared_volume/sipecam_files_to_extract_metadata_from_*"
   ]
  },
  {
   "cell_type": "code",
   "execution_count": 5,
   "id": "dacd790d-59cb-414f-99e3-19a2cd943e20",
   "metadata": {},
   "outputs": [
    {
     "name": "stdout",
     "output_type": "stream",
     "text": [
      "20 /shared_volume/sipecam_subdirectories_16-12-2021.txt\n"
     ]
    }
   ],
   "source": [
    "%%bash\n",
    "wc -l /shared_volume/sipecam_subdirectories_*"
   ]
  },
  {
   "cell_type": "code",
   "execution_count": 6,
   "id": "316248c8-d910-47e2-91c8-fb32d64766a3",
   "metadata": {},
   "outputs": [
    {
     "name": "stdout",
     "output_type": "stream",
     "text": [
      "/LUSTRE/sacmod/SIPECAM/Entregas_2021/octubre_2021/SIPECAM/Playon 1338/Audio/1338_1/Ultrasonico\n",
      "20210728_180000.WAV\n",
      "/LUSTRE/sacmod/SIPECAM/Entregas_2021/octubre_2021/SIPECAM/Playon 1338/Audio/1338_1/Audible\n",
      "20210728_093000.WAV\n",
      "/LUSTRE/sacmod/SIPECAM/Entregas_2021/octubre_2021/SIPECAM/Playon 1338/Audio/1338_2/Ultrasonico\n",
      "20210728_180000.WAV\n",
      "/LUSTRE/sacmod/SIPECAM/Entregas_2021/octubre_2021/SIPECAM/Playon 1338/Audio/1338_2/Audible\n",
      "20210728_105000.WAV\n",
      "/LUSTRE/sacmod/SIPECAM/Entregas_2021/octubre_2021/SIPECAM/Playon 1338/Audio/1338_3/Nueva carpeta/Unidad de USB\n",
      "20210728_141000.WAV\n",
      "/LUSTRE/sacmod/SIPECAM/Entregas_2021/octubre_2021/SIPECAM/Galacia 1339/1339_2/Audio/Ultrasonico\n",
      "20210729_102000.WAV\n",
      "/LUSTRE/sacmod/SIPECAM/Entregas_2021/octubre_2021/SIPECAM/Galacia 1339/1339_2/Audio/Audible\n",
      "20210729_180000.WAV\n",
      "/LUSTRE/sacmod/SIPECAM/Entregas_2021/octubre_2021/SIPECAM/Galacia 1339/1339_4/Audible\n",
      "20210729_133000.WAV\n",
      "/LUSTRE/sacmod/SIPECAM/Entregas_2021/octubre_2021/SIPECAM/Galacia 1339/1339_1/Audio\n",
      "20210729_090000.WAV\n",
      "/LUSTRE/sacmod/SIPECAM/Entregas_2021/octubre_2021/SIPECAM/Galacia 1339/1339_1/Audio/Ultrasonico\n",
      "20210729_180000.WAV\n",
      "/LUSTRE/sacmod/SIPECAM/Entregas_2021/octubre_2021/SIPECAM/Playon 1338/Camaras/1338_1/100RECNX\n",
      "RCNX0001.JPG\n",
      "/LUSTRE/sacmod/SIPECAM/Entregas_2021/octubre_2021/SIPECAM/Playon 1338/Camaras/1338_2/100RECNX\n",
      "RCNX0001.JPG\n",
      "/LUSTRE/sacmod/SIPECAM/Entregas_2021/octubre_2021/SIPECAM/Playon 1338/Camaras/1338_3/100RECNX\n",
      "RCNX0001.JPG\n",
      "/LUSTRE/sacmod/SIPECAM/Entregas_2021/octubre_2021/SIPECAM/Playon 1338/Camaras/1338_5\n",
      "RCNX0001.JPG\n",
      "/LUSTRE/sacmod/SIPECAM/Entregas_2021/octubre_2021/SIPECAM/Playon 1338/Camaras/1338_4/100RECNX\n",
      "RCNX0001.JPG\n",
      "/LUSTRE/sacmod/SIPECAM/Entregas_2021/octubre_2021/SIPECAM/Galacia 1339/1339_3/100RECNX\n",
      "RCNX0001.JPG\n",
      "/LUSTRE/sacmod/SIPECAM/Entregas_2021/octubre_2021/SIPECAM/Galacia 1339/1339_2/Cámaras\n",
      "RCNX0001.JPG\n",
      "/LUSTRE/sacmod/SIPECAM/Entregas_2021/octubre_2021/SIPECAM/Galacia 1339/1339_5/100RECNX\n",
      "RCNX0001.JPG\n",
      "/LUSTRE/sacmod/SIPECAM/Entregas_2021/octubre_2021/SIPECAM/Galacia 1339/1339_4\n",
      "RCNX0001.JPG\n",
      "/LUSTRE/sacmod/SIPECAM/Entregas_2021/octubre_2021/SIPECAM/Galacia 1339/1339_1/Camaras\n",
      "RCNX0001.JPG\n"
     ]
    }
   ],
   "source": [
    "%%bash\n",
    "#check every first subdirectory has a JPG, WAV or AVI file\n",
    "SAVEIFS=$IFS;IFS=$(echo -en \"\\n\\b\")\n",
    "for f in $(cat /shared_volume/sipecam_subdirectories_*.txt)\n",
    "  do echo \"$f\"\n",
    "     ls \"$f\"|grep \"[WAV|wav|JPG|jpg|AVI|avi]$\"|head -n 1\n",
    "done\n",
    "IFS=$SAVEIFS"
   ]
  },
  {
   "cell_type": "markdown",
   "id": "d3d45c4d-7b7e-473a-a3b2-b273541aff71",
   "metadata": {},
   "source": [
    "# Generate SiPeCaM Zendro schema (one time only)"
   ]
  },
  {
   "cell_type": "code",
   "execution_count": 1,
   "id": "576cc660-5e0b-4bea-bd03-8b5c31ece159",
   "metadata": {},
   "outputs": [],
   "source": [
    "%%bash\n",
    "echo \"SIPECAM_ZENDRO_GQL_URL=https://gql.sipecamdata.conabio.gob.mx/\" > ~/.simex_env\n",
    "echo \"SIPECAM_ZENDRO_GQL_USER=<user>\" >> ~/.simex_env\n",
    "echo \"SIPECAM_ZENDRO_GQL_PASSWORD=<password>\" >> ~/.simex_env\n"
   ]
  },
  {
   "cell_type": "code",
   "execution_count": 10,
   "id": "ca37e18a-37f6-4a42-b8db-251881ca58a7",
   "metadata": {},
   "outputs": [
    {
     "name": "stdout",
     "output_type": "stream",
     "text": [
      "Standard Error sgqlc.introspection b''\n",
      "Standard Output sgqlc.introspection b'\\n'\n",
      "Standard Error sgqlc-codegen b''\n",
      "Standard Output sgqlc-codegen b''\n"
     ]
    }
   ],
   "source": [
    "%%bash\n",
    "generate_sipecam_zendro_schema"
   ]
  },
  {
   "cell_type": "markdown",
   "id": "c545c347-d736-42b8-aa94-5ab6f2cc7746",
   "metadata": {},
   "source": [
    "## Check"
   ]
  },
  {
   "cell_type": "code",
   "execution_count": 11,
   "id": "69e6bb84-22c6-46a0-88ed-87b6e8cf5dc3",
   "metadata": {},
   "outputs": [
    {
     "name": "stdout",
     "output_type": "stream",
     "text": [
      "import sgqlc.types\n",
      "import sgqlc.types.datetime\n",
      "\n",
      "\n",
      "sipecam_zendro_schema = sgqlc.types.Schema()\n",
      "\n",
      "\n",
      "\n",
      "########################################################################\n",
      "# Scalars and Enumerations\n"
     ]
    }
   ],
   "source": [
    "%%bash\n",
    "head -n 10 /root/sipecam-metadata-extractor/src/simex/sipecam_zendro_schema.py"
   ]
  },
  {
   "cell_type": "markdown",
   "id": "4f2c42e2-7efb-4e4a-80bc-7e5d3e7c14ec",
   "metadata": {
    "tags": []
   },
   "source": [
    "# Extract serial number, datetime and coordinates"
   ]
  },
  {
   "cell_type": "code",
   "execution_count": 1,
   "id": "52e023dc-4598-480f-8724-796b741e18da",
   "metadata": {},
   "outputs": [],
   "source": [
    "%%bash\n",
    "dir_to_be_processed=\"/LUSTRE/sacmod/SIPECAM/Entregas_2021/octubre_2021/SIPECAM/Playon 1338/Camaras/1338_1/100RECNX/\"\n",
    "#default for parallel execution are 4 processes\n",
    "extract_serial_number_datetime_and_coordinates_of_files --input_dir \"$dir_to_be_processed\" --parallel"
   ]
  },
  {
   "cell_type": "code",
   "execution_count": 2,
   "id": "59ebaaff-552b-4bc2-8a0f-8ab651b1ad67",
   "metadata": {},
   "outputs": [],
   "source": [
    "%%bash\n",
    "dir_to_be_processed=\"/LUSTRE/sacmod/SIPECAM/Entregas_2021/octubre_2021/SIPECAM/Playon 1338/Audio/1338_1/Ultrasonico\"\n",
    "#can select number of proceses\n",
    "extract_serial_number_datetime_and_coordinates_of_files --input_dir \"$dir_to_be_processed\" --parallel --number_of_processes 6"
   ]
  },
  {
   "cell_type": "code",
   "execution_count": 3,
   "id": "1fac5575-1a93-48ca-b3de-3cca25646134",
   "metadata": {},
   "outputs": [],
   "source": [
    "%%bash\n",
    "dir_to_be_processed=\"/LUSTRE/sacmod/SIPECAM/Entregas_2021/octubre_2021/SIPECAM/Galacia 1339/1339_2/Audio/Audible\"\n",
    "#if number_of_processes is passed as arg then is assumed will execute in parallel\n",
    "extract_serial_number_datetime_and_coordinates_of_files --input_dir \"$dir_to_be_processed\" --number_of_processes 6"
   ]
  },
  {
   "cell_type": "markdown",
   "id": "6dac045b-97cd-4bc4-9308-d0fd51a3768f",
   "metadata": {},
   "source": [
    "## Example of dir with different serial for images"
   ]
  },
  {
   "cell_type": "code",
   "execution_count": 4,
   "id": "8780e80d-c45a-441e-ab4c-ba8af3af6bc6",
   "metadata": {},
   "outputs": [],
   "source": [
    "%%bash\n",
    "dir_to_be_processed=\"/LUSTRE/MADMEX/tasks/2021/3_extract_metadata_sipecam_files/notebooks/read_image_metadata\"\n",
    "extract_serial_number_datetime_and_coordinates_of_files --input_dir \"$dir_to_be_processed\" --mixed"
   ]
  },
  {
   "cell_type": "markdown",
   "id": "68a7ed05-27fe-4da1-b656-b976c81521a1",
   "metadata": {
    "tags": []
   },
   "source": [
    "## Check"
   ]
  },
  {
   "cell_type": "markdown",
   "id": "83df2886-5ae1-47b8-820e-165d60213794",
   "metadata": {
    "tags": []
   },
   "source": [
    "### Dir with image files"
   ]
  },
  {
   "cell_type": "code",
   "execution_count": 5,
   "id": "0a797958-9442-43da-a85b-66404123f4ec",
   "metadata": {
    "tags": []
   },
   "outputs": [
    {
     "name": "stdout",
     "output_type": "stream",
     "text": [
      "2022-02-05 13:21:09,142 [INFO]  extraction of serial number, datetime and coordinates\n",
      "2022-02-05 13:21:09,143 [INFO]  logs for extraction of serial number, datetime and coordinates in /LUSTRE/sacmod/SIPECAM/Entregas_2021/octubre_2021/SIPECAM/Playon 1338/Camaras/1338_1/100RECNX/100RECNX_simex_extract_serial_numbers_datetime_and_coordinates.json\n",
      "2022-02-05 13:21:09,148 [INFO]  extraction of serial number of /LUSTRE/sacmod/SIPECAM/Entregas_2021/octubre_2021/SIPECAM/Playon 1338/Camaras/1338_1/100RECNX/RCNX0049.JPG\n",
      "2022-02-05 13:21:09,351 [INFO]  SUCCESSFUL extraction of serial number of /LUSTRE/sacmod/SIPECAM/Entregas_2021/octubre_2021/SIPECAM/Playon 1338/Camaras/1338_1/100RECNX/RCNX0049.JPG\n",
      "2022-02-05 13:21:12,222 [INFO]  extraction of datetime of /LUSTRE/sacmod/SIPECAM/Entregas_2021/octubre_2021/SIPECAM/Playon 1338/Camaras/1338_1/100RECNX/RCNX0049.JPG\n",
      "2022-02-05 13:21:12,223 [INFO]  SUCCESSFUL extraction of datetime of /LUSTRE/sacmod/SIPECAM/Entregas_2021/octubre_2021/SIPECAM/Playon 1338/Camaras/1338_1/100RECNX/RCNX0049.JPG\n",
      "2022-02-05 13:21:12,223 [INFO]  extraction of datetime of /LUSTRE/sacmod/SIPECAM/Entregas_2021/octubre_2021/SIPECAM/Playon 1338/Camaras/1338_1/100RECNX/RCNX0055.JPG\n",
      "2022-02-05 13:21:12,223 [INFO]  SUCCESSFUL extraction of datetime of /LUSTRE/sacmod/SIPECAM/Entregas_2021/octubre_2021/SIPECAM/Playon 1338/Camaras/1338_1/100RECNX/RCNX0055.JPG\n",
      "2022-02-05 13:21:12,224 [INFO]  extraction of datetime of /LUSTRE/sacmod/SIPECAM/Entregas_2021/octubre_2021/SIPECAM/Playon 1338/Camaras/1338_1/100RECNX/RCNX0004.JPG\n",
      "2022-02-05 13:21:12,224 [INFO]  SUCCESSFUL extraction of datetime of /LUSTRE/sacmod/SIPECAM/Entregas_2021/octubre_2021/SIPECAM/Playon 1338/Camaras/1338_1/100RECNX/RCNX0004.JPG\n",
      "2022-02-05 13:21:12,224 [INFO]  extraction of datetime of /LUSTRE/sacmod/SIPECAM/Entregas_2021/octubre_2021/SIPECAM/Playon 1338/Camaras/1338_1/100RECNX/RCNX0062.JPG\n",
      "2022-02-05 13:21:12,224 [INFO]  SUCCESSFUL extraction of datetime of /LUSTRE/sacmod/SIPECAM/Entregas_2021/octubre_2021/SIPECAM/Playon 1338/Camaras/1338_1/100RECNX/RCNX0062.JPG\n",
      "2022-02-05 13:21:12,224 [INFO]  extraction of datetime of /LUSTRE/sacmod/SIPECAM/Entregas_2021/octubre_2021/SIPECAM/Playon 1338/Camaras/1338_1/100RECNX/RCNX0029.JPG\n",
      "2022-02-05 13:21:12,224 [INFO]  SUCCESSFUL extraction of datetime of /LUSTRE/sacmod/SIPECAM/Entregas_2021/octubre_2021/SIPECAM/Playon 1338/Camaras/1338_1/100RECNX/RCNX0029.JPG\n",
      "2022-02-05 13:21:12,224 [INFO]  extraction of datetime of /LUSTRE/sacmod/SIPECAM/Entregas_2021/octubre_2021/SIPECAM/Playon 1338/Camaras/1338_1/100RECNX/RCNX0067.JPG\n"
     ]
    }
   ],
   "source": [
    "%%bash\n",
    "dir_to_be_processed=\"/LUSTRE/sacmod/SIPECAM/Entregas_2021/octubre_2021/SIPECAM/Playon 1338/Camaras/1338_1/100RECNX/\"\n",
    "file_for_logs=$(find \"$dir_to_be_processed\" -name \"logs_simex_extract_serial_numbers_datetime_and_coordinates.logs\")\n",
    "head -n 15 \"$file_for_logs\""
   ]
  },
  {
   "cell_type": "code",
   "execution_count": 6,
   "id": "3b28c000-6bca-45e3-8e0c-658c1777332c",
   "metadata": {},
   "outputs": [
    {
     "name": "stdout",
     "output_type": "stream",
     "text": [
      "{\n",
      "    \"SerialNumber\": {\n",
      "        \"/LUSTRE/sacmod/SIPECAM/Entregas_2021/octubre_2021/SIPECAM/Playon 1338/Camaras/1338_1/100RECNX/RCNX0049.JPG\": \"HLPXGM09048890\"\n",
      "    },\n",
      "    \"Coordinates\": {},\n",
      "    \"Datetime\": {\n",
      "        \"/LUSTRE/sacmod/SIPECAM/Entregas_2021/octubre_2021/SIPECAM/Playon 1338/Camaras/1338_1/100RECNX/RCNX0004.JPG\": \"2021-07-28\",\n",
      "        \"/LUSTRE/sacmod/SIPECAM/Entregas_2021/octubre_2021/SIPECAM/Playon 1338/Camaras/1338_1/100RECNX/RCNX0074.JPG\": \"2021-08-26\"\n",
      "    },\n",
      "    \"DaysBetweenFirstAndLastDatetime\": 29\n",
      "}\n"
     ]
    }
   ],
   "source": [
    "%%bash\n",
    "dir_to_be_processed=\"/LUSTRE/sacmod/SIPECAM/Entregas_2021/octubre_2021/SIPECAM/Playon 1338/Camaras/1338_1/100RECNX/\"\n",
    "file_json=$(find \"$dir_to_be_processed\" -name \"*.json\")\n",
    "python3 -mjson.tool \"$file_json\"|head -n 15"
   ]
  },
  {
   "cell_type": "markdown",
   "id": "a88a2d2a-ff93-42e4-bd58-4b6339ce0152",
   "metadata": {},
   "source": [
    "### Dir with audio files"
   ]
  },
  {
   "cell_type": "code",
   "execution_count": 7,
   "id": "86c3b94f-1954-4ddd-a2b6-81df79f96aac",
   "metadata": {
    "tags": []
   },
   "outputs": [
    {
     "name": "stdout",
     "output_type": "stream",
     "text": [
      "2022-02-05 13:21:12,570 [INFO]  extraction of serial number, datetime and coordinates\n",
      "2022-02-05 13:21:12,572 [INFO]  logs for extraction of serial number, datetime and coordinates in /LUSTRE/sacmod/SIPECAM/Entregas_2021/octubre_2021/SIPECAM/Playon 1338/Audio/1338_1/Ultrasonico/Ultrasonico_simex_extract_serial_numbers_datetime_and_coordinates.json\n",
      "2022-02-05 13:21:12,579 [INFO]  extraction of serial number of /LUSTRE/sacmod/SIPECAM/Entregas_2021/octubre_2021/SIPECAM/Playon 1338/Audio/1338_1/Ultrasonico/20210806_044000.WAV\n",
      "2022-02-05 13:21:12,785 [INFO]  SUCCESSFUL extraction of serial number of /LUSTRE/sacmod/SIPECAM/Entregas_2021/octubre_2021/SIPECAM/Playon 1338/Audio/1338_1/Ultrasonico/20210806_044000.WAV\n",
      "2022-02-05 13:22:06,799 [INFO]  extraction of datetime of /LUSTRE/sacmod/SIPECAM/Entregas_2021/octubre_2021/SIPECAM/Playon 1338/Audio/1338_1/Ultrasonico/20210806_044000.WAV\n",
      "2022-02-05 13:22:06,799 [INFO]  SUCCESSFUL extraction of datetime of /LUSTRE/sacmod/SIPECAM/Entregas_2021/octubre_2021/SIPECAM/Playon 1338/Audio/1338_1/Ultrasonico/20210806_044000.WAV\n",
      "2022-02-05 13:22:06,800 [INFO]  extraction of datetime of /LUSTRE/sacmod/SIPECAM/Entregas_2021/octubre_2021/SIPECAM/Playon 1338/Audio/1338_1/Ultrasonico/20210805_180000.WAV\n",
      "2022-02-05 13:22:06,800 [INFO]  SUCCESSFUL extraction of datetime of /LUSTRE/sacmod/SIPECAM/Entregas_2021/octubre_2021/SIPECAM/Playon 1338/Audio/1338_1/Ultrasonico/20210805_180000.WAV\n",
      "2022-02-05 13:22:06,800 [INFO]  extraction of datetime of /LUSTRE/sacmod/SIPECAM/Entregas_2021/octubre_2021/SIPECAM/Playon 1338/Audio/1338_1/Ultrasonico/20210819_050000.WAV\n",
      "2022-02-05 13:22:06,800 [INFO]  SUCCESSFUL extraction of datetime of /LUSTRE/sacmod/SIPECAM/Entregas_2021/octubre_2021/SIPECAM/Playon 1338/Audio/1338_1/Ultrasonico/20210819_050000.WAV\n",
      "2022-02-05 13:22:06,800 [INFO]  extraction of datetime of /LUSTRE/sacmod/SIPECAM/Entregas_2021/octubre_2021/SIPECAM/Playon 1338/Audio/1338_1/Ultrasonico/20210823_194000.WAV\n",
      "2022-02-05 13:22:06,800 [INFO]  SUCCESSFUL extraction of datetime of /LUSTRE/sacmod/SIPECAM/Entregas_2021/octubre_2021/SIPECAM/Playon 1338/Audio/1338_1/Ultrasonico/20210823_194000.WAV\n",
      "2022-02-05 13:22:06,801 [INFO]  extraction of datetime of /LUSTRE/sacmod/SIPECAM/Entregas_2021/octubre_2021/SIPECAM/Playon 1338/Audio/1338_1/Ultrasonico/20210808_024000.WAV\n",
      "2022-02-05 13:22:06,801 [INFO]  SUCCESSFUL extraction of datetime of /LUSTRE/sacmod/SIPECAM/Entregas_2021/octubre_2021/SIPECAM/Playon 1338/Audio/1338_1/Ultrasonico/20210808_024000.WAV\n",
      "2022-02-05 13:22:06,801 [INFO]  extraction of datetime of /LUSTRE/sacmod/SIPECAM/Entregas_2021/octubre_2021/SIPECAM/Playon 1338/Audio/1338_1/Ultrasonico/20210807_230000.WAV\n"
     ]
    }
   ],
   "source": [
    "%%bash\n",
    "dir_to_be_processed=\"/LUSTRE/sacmod/SIPECAM/Entregas_2021/octubre_2021/SIPECAM/Playon 1338/Audio/1338_1/Ultrasonico\"\n",
    "file_for_logs=$(find \"$dir_to_be_processed\" -name \"logs_simex_extract_serial_numbers_datetime_and_coordinates.logs\")\n",
    "head -n 15 \"$file_for_logs\""
   ]
  },
  {
   "cell_type": "code",
   "execution_count": 8,
   "id": "54e58311-a293-497d-8f5b-4907cc357a6c",
   "metadata": {},
   "outputs": [
    {
     "name": "stdout",
     "output_type": "stream",
     "text": [
      "{\n",
      "    \"SerialNumber\": {\n",
      "        \"/LUSTRE/sacmod/SIPECAM/Entregas_2021/octubre_2021/SIPECAM/Playon 1338/Audio/1338_1/Ultrasonico/20210806_044000.WAV\": \"2423C2045F256D74\"\n",
      "    },\n",
      "    \"Coordinates\": {},\n",
      "    \"Datetime\": {\n",
      "        \"/LUSTRE/sacmod/SIPECAM/Entregas_2021/octubre_2021/SIPECAM/Playon 1338/Audio/1338_1/Ultrasonico/20210728_212000.WAV\": \"2021-07-28\",\n",
      "        \"/LUSTRE/sacmod/SIPECAM/Entregas_2021/octubre_2021/SIPECAM/Playon 1338/Audio/1338_1/Ultrasonico/20210826_020000.WAV\": \"2021-08-26\"\n",
      "    },\n",
      "    \"DaysBetweenFirstAndLastDatetime\": 29\n",
      "}\n"
     ]
    }
   ],
   "source": [
    "%%bash\n",
    "dir_to_be_processed=\"/LUSTRE/sacmod/SIPECAM/Entregas_2021/octubre_2021/SIPECAM/Playon 1338/Audio/1338_1/Ultrasonico\"\n",
    "file_json=$(find \"$dir_to_be_processed\" -name \"*.json\")\n",
    "python3 -mjson.tool \"$file_json\" | head -n 15"
   ]
  },
  {
   "cell_type": "markdown",
   "id": "b2dcf36c-cd9d-456d-8e03-510070228ac0",
   "metadata": {},
   "source": [
    "### Dir with audio files"
   ]
  },
  {
   "cell_type": "code",
   "execution_count": 9,
   "id": "a715563a-7658-4cfd-8580-03fa373f78e7",
   "metadata": {
    "tags": []
   },
   "outputs": [
    {
     "name": "stdout",
     "output_type": "stream",
     "text": [
      "2022-02-05 13:22:07,324 [INFO]  extraction of serial number, datetime and coordinates\n",
      "2022-02-05 13:22:07,326 [INFO]  logs for extraction of serial number, datetime and coordinates in /LUSTRE/sacmod/SIPECAM/Entregas_2021/octubre_2021/SIPECAM/Galacia 1339/1339_2/Audio/Audible/Audible_simex_extract_serial_numbers_datetime_and_coordinates.json\n",
      "2022-02-05 13:22:07,334 [INFO]  extraction of serial number of /LUSTRE/sacmod/SIPECAM/Entregas_2021/octubre_2021/SIPECAM/Galacia 1339/1339_2/Audio/Audible/20210806_044000.WAV\n",
      "2022-02-05 13:22:07,542 [INFO]  SUCCESSFUL extraction of serial number of /LUSTRE/sacmod/SIPECAM/Entregas_2021/octubre_2021/SIPECAM/Galacia 1339/1339_2/Audio/Audible/20210806_044000.WAV\n",
      "2022-02-05 13:23:03,628 [INFO]  extraction of datetime of /LUSTRE/sacmod/SIPECAM/Entregas_2021/octubre_2021/SIPECAM/Galacia 1339/1339_2/Audio/Audible/20210806_044000.WAV\n",
      "2022-02-05 13:23:03,628 [INFO]  SUCCESSFUL extraction of datetime of /LUSTRE/sacmod/SIPECAM/Entregas_2021/octubre_2021/SIPECAM/Galacia 1339/1339_2/Audio/Audible/20210806_044000.WAV\n",
      "2022-02-05 13:23:03,629 [INFO]  extraction of datetime of /LUSTRE/sacmod/SIPECAM/Entregas_2021/octubre_2021/SIPECAM/Galacia 1339/1339_2/Audio/Audible/20210827_200000.WAV\n",
      "2022-02-05 13:23:03,629 [INFO]  SUCCESSFUL extraction of datetime of /LUSTRE/sacmod/SIPECAM/Entregas_2021/octubre_2021/SIPECAM/Galacia 1339/1339_2/Audio/Audible/20210827_200000.WAV\n",
      "2022-02-05 13:23:03,629 [INFO]  extraction of datetime of /LUSTRE/sacmod/SIPECAM/Entregas_2021/octubre_2021/SIPECAM/Galacia 1339/1339_2/Audio/Audible/20210805_180000.WAV\n",
      "2022-02-05 13:23:03,629 [INFO]  SUCCESSFUL extraction of datetime of /LUSTRE/sacmod/SIPECAM/Entregas_2021/octubre_2021/SIPECAM/Galacia 1339/1339_2/Audio/Audible/20210805_180000.WAV\n",
      "2022-02-05 13:23:03,629 [INFO]  extraction of datetime of /LUSTRE/sacmod/SIPECAM/Entregas_2021/octubre_2021/SIPECAM/Galacia 1339/1339_2/Audio/Audible/20210819_050000.WAV\n",
      "2022-02-05 13:23:03,630 [INFO]  SUCCESSFUL extraction of datetime of /LUSTRE/sacmod/SIPECAM/Entregas_2021/octubre_2021/SIPECAM/Galacia 1339/1339_2/Audio/Audible/20210819_050000.WAV\n",
      "2022-02-05 13:23:03,630 [INFO]  extraction of datetime of /LUSTRE/sacmod/SIPECAM/Entregas_2021/octubre_2021/SIPECAM/Galacia 1339/1339_2/Audio/Audible/20210827_030000.WAV\n",
      "2022-02-05 13:23:03,630 [INFO]  SUCCESSFUL extraction of datetime of /LUSTRE/sacmod/SIPECAM/Entregas_2021/octubre_2021/SIPECAM/Galacia 1339/1339_2/Audio/Audible/20210827_030000.WAV\n",
      "2022-02-05 13:23:03,630 [INFO]  extraction of datetime of /LUSTRE/sacmod/SIPECAM/Entregas_2021/octubre_2021/SIPECAM/Galacia 1339/1339_2/Audio/Audible/20210823_194000.WAV\n"
     ]
    }
   ],
   "source": [
    "%%bash\n",
    "dir_to_be_processed=\"/LUSTRE/sacmod/SIPECAM/Entregas_2021/octubre_2021/SIPECAM/Galacia 1339/1339_2/Audio/Audible\"\n",
    "file_for_logs=$(find \"$dir_to_be_processed\" -name \"logs_simex_extract_serial_numbers_datetime_and_coordinates.logs\")\n",
    "head -n 15 \"$file_for_logs\""
   ]
  },
  {
   "cell_type": "code",
   "execution_count": 10,
   "id": "cdedb299-fdef-436e-896f-743248072a06",
   "metadata": {},
   "outputs": [
    {
     "name": "stdout",
     "output_type": "stream",
     "text": [
      "{\n",
      "    \"SerialNumber\": {\n",
      "        \"/LUSTRE/sacmod/SIPECAM/Entregas_2021/octubre_2021/SIPECAM/Galacia 1339/1339_2/Audio/Audible/20210806_044000.WAV\": \"248D9B045EC9E6B1\"\n",
      "    },\n",
      "    \"Coordinates\": {},\n",
      "    \"Datetime\": {\n",
      "        \"/LUSTRE/sacmod/SIPECAM/Entregas_2021/octubre_2021/SIPECAM/Galacia 1339/1339_2/Audio/Audible/20210729_220000.WAV\": \"2021-07-29\",\n",
      "        \"/LUSTRE/sacmod/SIPECAM/Entregas_2021/octubre_2021/SIPECAM/Galacia 1339/1339_2/Audio/Audible/20210828_004000.WAV\": \"2021-08-28\"\n",
      "    },\n",
      "    \"DaysBetweenFirstAndLastDatetime\": 30\n",
      "}\n"
     ]
    }
   ],
   "source": [
    "%%bash\n",
    "dir_to_be_processed=\"/LUSTRE/sacmod/SIPECAM/Entregas_2021/octubre_2021/SIPECAM/Galacia 1339/1339_2/Audio/Audible\"\n",
    "file_json=$(find \"$dir_to_be_processed\" -name '*.json')\n",
    "python3 -mjson.tool \"$file_json\" | head -n 15"
   ]
  },
  {
   "cell_type": "markdown",
   "id": "0242ef1c-d0e4-4d9f-8bec-f1fce4779f83",
   "metadata": {
    "tags": []
   },
   "source": [
    "### Dir with different serial for images"
   ]
  },
  {
   "cell_type": "code",
   "execution_count": 11,
   "id": "51fcaab8-8c01-4a27-8224-8947b76324e7",
   "metadata": {},
   "outputs": [
    {
     "name": "stdout",
     "output_type": "stream",
     "text": [
      "2022-02-05 13:23:04,155 [INFO]  extraction of serial number, datetime and coordinates\n",
      "2022-02-05 13:23:04,156 [INFO]  logs for extraction of serial number, datetime and coordinates in /LUSTRE/MADMEX/tasks/2021/3_extract_metadata_sipecam_files/notebooks/read_image_metadata/read_image_metadata_simex_extract_serial_numbers_datetime_and_coordinates.json\n",
      "2022-02-05 13:23:04,161 [INFO]  extraction of serial number of /LUSTRE/MADMEX/tasks/2021/3_extract_metadata_sipecam_files/notebooks/read_image_metadata/RCNX0001.JPG\n",
      "2022-02-05 13:23:04,364 [INFO]  SUCCESSFUL extraction of serial number of /LUSTRE/MADMEX/tasks/2021/3_extract_metadata_sipecam_files/notebooks/read_image_metadata/RCNX0001.JPG\n",
      "2022-02-05 13:23:04,364 [INFO]  extraction of serial number of /LUSTRE/MADMEX/tasks/2021/3_extract_metadata_sipecam_files/notebooks/read_image_metadata/RCNX1736.JPG\n",
      "2022-02-05 13:23:04,573 [INFO]  SUCCESSFUL extraction of serial number of /LUSTRE/MADMEX/tasks/2021/3_extract_metadata_sipecam_files/notebooks/read_image_metadata/RCNX1736.JPG\n",
      "2022-02-05 13:23:04,577 [INFO]  extraction of datetime of /LUSTRE/MADMEX/tasks/2021/3_extract_metadata_sipecam_files/notebooks/read_image_metadata/RCNX0001.JPG\n",
      "2022-02-05 13:23:04,776 [INFO]  SUCCESSFUL extraction of datetime of /LUSTRE/MADMEX/tasks/2021/3_extract_metadata_sipecam_files/notebooks/read_image_metadata/RCNX0001.JPG\n",
      "2022-02-05 13:23:04,776 [INFO]  extraction of datetime of /LUSTRE/MADMEX/tasks/2021/3_extract_metadata_sipecam_files/notebooks/read_image_metadata/RCNX1736.JPG\n",
      "2022-02-05 13:23:04,974 [INFO]  SUCCESSFUL extraction of datetime of /LUSTRE/MADMEX/tasks/2021/3_extract_metadata_sipecam_files/notebooks/read_image_metadata/RCNX1736.JPG\n"
     ]
    }
   ],
   "source": [
    "%%bash\n",
    "dir_to_be_processed=\"/LUSTRE/MADMEX/tasks/2021/3_extract_metadata_sipecam_files/notebooks/read_image_metadata\"\n",
    "file_for_logs=$(find \"$dir_to_be_processed\" -name \"logs_simex_extract_serial_numbers_datetime_and_coordinates.logs\")\n",
    "head -n 15 \"$file_for_logs\""
   ]
  },
  {
   "cell_type": "code",
   "execution_count": 12,
   "id": "5415d7b7-1c7a-4d91-8cd7-5d9f58a9c64c",
   "metadata": {},
   "outputs": [
    {
     "name": "stdout",
     "output_type": "stream",
     "text": [
      "/LUSTRE/MADMEX/tasks/2021/3_extract_metadata_sipecam_files/notebooks/read_image_metadata/read_image_metadata_simex_extract_serial_numbers_datetime_and_coordinates.json\n",
      "{\n",
      "    \"SerialNumber\": {\n",
      "        \"/LUSTRE/MADMEX/tasks/2021/3_extract_metadata_sipecam_files/notebooks/read_image_metadata/RCNX0001.JPG\": \"HLPXGM09048701\",\n",
      "        \"/LUSTRE/MADMEX/tasks/2021/3_extract_metadata_sipecam_files/notebooks/read_image_metadata/RCNX1736.JPG\": \"HLPXGM09048480\"\n",
      "    },\n",
      "    \"Coordinates\": {},\n",
      "    \"Datetime\": {\n",
      "        \"/LUSTRE/MADMEX/tasks/2021/3_extract_metadata_sipecam_files/notebooks/read_image_metadata/RCNX0001.JPG\": \"2021-10-26\",\n",
      "        \"/LUSTRE/MADMEX/tasks/2021/3_extract_metadata_sipecam_files/notebooks/read_image_metadata/RCNX1736.JPG\": \"2021-08-17\"\n",
      "    }\n",
      "}\n"
     ]
    }
   ],
   "source": [
    "%%bash\n",
    "dir_to_be_processed=\"/LUSTRE/MADMEX/tasks/2021/3_extract_metadata_sipecam_files/notebooks/read_image_metadata\"\n",
    "file_json=$(find \"$dir_to_be_processed\" -name '*.json')\n",
    "echo $file_json\n",
    "python3 -mjson.tool \"$file_json\""
   ]
  },
  {
   "cell_type": "markdown",
   "id": "54c394b7-2d49-4f57-ad68-47ca51cfdeef",
   "metadata": {
    "tags": []
   },
   "source": [
    "# Extract metadata and ingest it"
   ]
  },
  {
   "cell_type": "code",
   "execution_count": 12,
   "id": "30d5bc01-2c33-4897-b5a7-426ef64e9dcb",
   "metadata": {},
   "outputs": [],
   "source": [
    "%%bash\n",
    "file_to_be_processed=\"/LUSTRE/sacmod/SIPECAM/Entregas_2021/octubre_2021/SIPECAM/Playon 1338/Camaras/1338_1/100RECNX/RCNX0049.JPG\"\n",
    "extract_metadata_and_ingest_it --input_file \"$file_to_be_processed\""
   ]
  },
  {
   "cell_type": "code",
   "execution_count": 13,
   "id": "4d2b0873-2d07-4220-bb3a-8f7252aca304",
   "metadata": {},
   "outputs": [],
   "source": [
    "%%bash\n",
    "file_to_be_processed=\"/LUSTRE/sacmod/SIPECAM/Entregas_2021/octubre_2021/SIPECAM/Playon 1338/Camaras/1338_1/100RECNX/RCNX0012.AVI\"\n",
    "extract_metadata_and_ingest_it --input_file \"$file_to_be_processed\""
   ]
  },
  {
   "cell_type": "code",
   "execution_count": 14,
   "id": "a43aa386-b77f-44ba-8f32-63e6be7b3076",
   "metadata": {},
   "outputs": [],
   "source": [
    "%%bash\n",
    "file_to_be_processed=\"/LUSTRE/sacmod/SIPECAM/Entregas_2021/octubre_2021/SIPECAM/Playon 1338/Audio/1338_1/Ultrasonico/20210806_044000.WAV\"\n",
    "extract_metadata_and_ingest_it --input_file \"$file_to_be_processed\""
   ]
  },
  {
   "cell_type": "markdown",
   "id": "02f37f58-0240-4ddb-b232-a5828cb625cc",
   "metadata": {
    "tags": []
   },
   "source": [
    "## Check"
   ]
  },
  {
   "cell_type": "code",
   "execution_count": 15,
   "id": "3c9ae9ae-f57d-4372-a9cd-1cfa54e3617e",
   "metadata": {},
   "outputs": [
    {
     "name": "stdout",
     "output_type": "stream",
     "text": [
      "2021-12-15 11:35:34,559 [INFO]  extraction of metadata and ingestion of /LUSTRE/sacmod/SIPECAM/Entregas_2021/octubre_2021/SIPECAM/Playon 1338/Camaras/1338_1/100RECNX/RCNX0049.JPG\n",
      "2021-12-15 11:35:34,561 [INFO]  Read metadata of JPG\n",
      "2021-12-15 11:35:34,561 [INFO]  {}\n",
      "2021-12-15 11:35:34,561 [INFO]  Getting node nomenclature and cumulus name from zendro\n",
      "2021-12-15 11:35:34,562 [INFO]  Copying file to 3/1_3_1_28/2021-10-01/JPG\n"
     ]
    }
   ],
   "source": [
    "%%bash\n",
    "file_to_be_processed=\"/LUSTRE/sacmod/SIPECAM/Entregas_2021/octubre_2021/SIPECAM/Playon 1338/Camaras/1338_1/100RECNX/RCNX0049.JPG\"\n",
    "dirname_file_to_be_processed=$(dirname \"$file_to_be_processed\")\n",
    "dir_for_logs=$(find \"$dirname_file_to_be_processed\" -name 'logs_simex_extract_metadata_and_ingest')\n",
    "filename_to_be_processed=$(basename \"$file_to_be_processed\")\n",
    "cat \"$dir_for_logs/$filename_to_be_processed.logs\""
   ]
  },
  {
   "cell_type": "code",
   "execution_count": 16,
   "id": "24c63ae4-1eb0-4d4c-bbf0-6c2fbe925dc2",
   "metadata": {},
   "outputs": [
    {
     "name": "stdout",
     "output_type": "stream",
     "text": [
      "2021-12-15 11:35:35,463 [INFO]  extraction of metadata and ingestion of /LUSTRE/sacmod/SIPECAM/Entregas_2021/octubre_2021/SIPECAM/Playon 1338/Camaras/1338_1/100RECNX/RCNX0012.AVI\n",
      "2021-12-15 11:35:35,465 [INFO]  Read metadata of AVI\n",
      "2021-12-15 11:35:35,465 [INFO]  {}\n",
      "2021-12-15 11:35:35,465 [INFO]  Getting node nomenclature and cumulus name from zendro\n",
      "2021-12-15 11:35:35,465 [INFO]  Copying file to 3/1_3_1_28/2021-10-01/AVI\n"
     ]
    }
   ],
   "source": [
    "%%bash\n",
    "file_to_be_processed=\"/LUSTRE/sacmod/SIPECAM/Entregas_2021/octubre_2021/SIPECAM/Playon 1338/Camaras/1338_1/100RECNX/RCNX0012.AVI\"\n",
    "dirname_file_to_be_processed=$(dirname \"$file_to_be_processed\")\n",
    "dir_for_logs=$(find \"$dirname_file_to_be_processed\" -name 'logs_simex_extract_metadata_and_ingest')\n",
    "filename_to_be_processed=$(basename \"$file_to_be_processed\")\n",
    "cat \"$dir_for_logs/$filename_to_be_processed.logs\""
   ]
  },
  {
   "cell_type": "code",
   "execution_count": 17,
   "id": "6750bee5-bb0d-4544-b791-8cab897fb8a1",
   "metadata": {},
   "outputs": [
    {
     "name": "stdout",
     "output_type": "stream",
     "text": [
      "2021-12-15 11:35:35,910 [INFO]  extraction of metadata and ingestion of /LUSTRE/sacmod/SIPECAM/Entregas_2021/octubre_2021/SIPECAM/Playon 1338/Audio/1338_1/Ultrasonico/20210806_044000.WAV\n",
      "2021-12-15 11:35:35,912 [INFO]  Read metadata of WAV\n",
      "2021-12-15 11:35:35,912 [INFO]  {}\n",
      "2021-12-15 11:35:35,912 [INFO]  Getting node nomenclature and cumulus name from zendro\n",
      "2021-12-15 11:35:35,912 [INFO]  Copying file to 3/1_3_1_28/2021-10-01/WAV\n"
     ]
    }
   ],
   "source": [
    "%%bash\n",
    "file_to_be_processed=\"/LUSTRE/sacmod/SIPECAM/Entregas_2021/octubre_2021/SIPECAM/Playon 1338/Audio/1338_1/Ultrasonico/20210806_044000.WAV\"\n",
    "dirname_file_to_be_processed=$(dirname \"$file_to_be_processed\")\n",
    "dir_for_logs=$(find \"$dirname_file_to_be_processed\" -name 'logs_simex_extract_metadata_and_ingest')\n",
    "filename_to_be_processed=$(basename \"$file_to_be_processed\")\n",
    "cat \"$dir_for_logs/$filename_to_be_processed.logs\""
   ]
  },
  {
   "cell_type": "markdown",
   "id": "bc8fa7f2-d1a3-4994-a666-67c0ea31bc6b",
   "metadata": {},
   "source": [
    "# Notes:"
   ]
  },
  {
   "cell_type": "markdown",
   "id": "4a551a9d-6d05-4b08-a189-3aaa415fbd70",
   "metadata": {},
   "source": [
    "One option:\n",
    "\n",
    "Serial number + coordinates of image -> node, cumulus, date of deployment (all this from Zendro models)\n",
    "\n",
    "but for audio we can't retrieve coordinates of recording.\n",
    "\n",
    "Another option:\n",
    "\n",
    "Serial number + date of file (audio, image, video) -> node, cumulus and date of deployment from deployment model of Zendro\n",
    "\n"
   ]
  }
 ],
 "metadata": {
  "kernelspec": {
   "display_name": "Python 3 (ipykernel)",
   "language": "python",
   "name": "python3"
  },
  "language_info": {
   "codemirror_mode": {
    "name": "ipython",
    "version": 3
   },
   "file_extension": ".py",
   "mimetype": "text/x-python",
   "name": "python",
   "nbconvert_exporter": "python",
   "pygments_lexer": "ipython3",
   "version": "3.8.10"
  }
 },
 "nbformat": 4,
 "nbformat_minor": 5
}
