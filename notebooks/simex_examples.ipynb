{
 "cells": [
  {
   "cell_type": "markdown",
   "id": "55fbee2a-d46a-4c53-80fd-5e9d399e09d4",
   "metadata": {},
   "source": [
    "# Install `simex`"
   ]
  },
  {
   "cell_type": "code",
   "execution_count": 22,
   "id": "156d8c5a-0bbf-4da0-9907-39c89199702e",
   "metadata": {},
   "outputs": [
    {
     "name": "stderr",
     "output_type": "stream",
     "text": [
      "WARNING: Running pip as the 'root' user can result in broken permissions and conflicting behaviour with the system package manager. It is recommended to use a virtual environment instead: https://pip.pypa.io/warnings/venv\n"
     ]
    }
   ],
   "source": [
    "%%bash\n",
    "#clone repo of `sipecam-metadata-extactor` in server\n",
    "#git clone git@github.com:CONABIO/sipecam-metadata-extractor.git ~/\n",
    "cd ../src\n",
    "#install in editable mode\n",
    "pip install -q -e ."
   ]
  },
  {
   "cell_type": "markdown",
   "id": "4cf835be-59ff-4d7a-8658-175ea2394bb1",
   "metadata": {},
   "source": [
    "# Or `docker run`"
   ]
  },
  {
   "cell_type": "markdown",
   "id": "43cba47b-15db-41b6-942a-2f54a6da4e8a",
   "metadata": {},
   "source": [
    "``` \n",
    "SIMEX_VERSION=0.1\n",
    "REPO_URL=sipecam/simex\n",
    "CONTAINER_NAME=sipecam-simex\n",
    "docker run --rm -v $HOME:/shared_volume --name $CONTAINER_NAME -p 3000:8888 -d $REPO_URL:$SIMEX_VERSION /usr/local/bin/jupyter lab --ip=0.0.0.0 --no-browser --allow-root\n",
    "```"
   ]
  },
  {
   "cell_type": "markdown",
   "id": "359dc9b0-71d9-4063-9cc6-fa026c77a337",
   "metadata": {},
   "source": [
    "# Copy files for testing"
   ]
  },
  {
   "cell_type": "code",
   "execution_count": 1,
   "id": "cd90a6bd-3268-4b87-af7b-0e8fb8d7b1f1",
   "metadata": {},
   "outputs": [],
   "source": [
    "%%bash\n",
    "rm -r /LUSTRE/sacmod/SIPECAM/testing_simex/*"
   ]
  },
  {
   "cell_type": "code",
   "execution_count": 2,
   "id": "87834bd4-b9a4-4058-a546-1eeddee2e972",
   "metadata": {},
   "outputs": [],
   "source": [
    "%%bash\n",
    "cp -r /LUSTRE/sacmod/SIPECAM/testing_simex_backup/* /LUSTRE/sacmod/SIPECAM/testing_simex/"
   ]
  },
  {
   "cell_type": "markdown",
   "id": "18dafca7-40c5-4561-9882-585adc102e64",
   "metadata": {
    "tags": []
   },
   "source": [
    "# List of files to extract metadata"
   ]
  },
  {
   "cell_type": "code",
   "execution_count": 3,
   "id": "bb5da31e-cd09-498c-bea1-1874e7a3bcf8",
   "metadata": {},
   "outputs": [],
   "source": [
    "%%bash\n",
    "dir_with_sipecam_data=/LUSTRE/sacmod/SIPECAM/testing_simex/\n",
    "list_of_files_and_subdirectories_to_extract_metadata --input_directory $dir_with_sipecam_data"
   ]
  },
  {
   "cell_type": "markdown",
   "id": "dd1ec9c2-9ccd-4466-a001-d1a2cb0a3481",
   "metadata": {
    "tags": []
   },
   "source": [
    "## Check"
   ]
  },
  {
   "cell_type": "code",
   "execution_count": 4,
   "id": "c6af410f-441d-4677-90cc-a68d96f88591",
   "metadata": {},
   "outputs": [
    {
     "name": "stdout",
     "output_type": "stream",
     "text": [
      "-rw-r--r-- 1 root root 1.1K Jun 26 13:19 /shared_volume/sipecam_files_to_extract_metadata_from_26-06-2022.txt\n"
     ]
    }
   ],
   "source": [
    "%%bash\n",
    "ls -lh /shared_volume/sipecam_files_to_extract_metadata_from_26-06-2022.txt"
   ]
  },
  {
   "cell_type": "code",
   "execution_count": 5,
   "id": "3bf2a60c-641e-4e26-b3e3-2d7db80d5ccb",
   "metadata": {},
   "outputs": [
    {
     "name": "stdout",
     "output_type": "stream",
     "text": [
      "-rw-r--r-- 1 root root 146 Jun 26 13:19 /shared_volume/sipecam_subdirectories_26-06-2022.txt\n"
     ]
    }
   ],
   "source": [
    "%%bash\n",
    "ls -lh /shared_volume/sipecam_subdirectories_26-06-2022.txt"
   ]
  },
  {
   "cell_type": "code",
   "execution_count": 6,
   "id": "38b883ef-65eb-4dd9-9fb4-8c2ad55cf876",
   "metadata": {},
   "outputs": [
    {
     "name": "stdout",
     "output_type": "stream",
     "text": [
      "17 /shared_volume/sipecam_files_to_extract_metadata_from_26-06-2022.txt\n"
     ]
    }
   ],
   "source": [
    "%%bash\n",
    "wc -l /shared_volume/sipecam_files_to_extract_metadata_from_26-06-2022.txt"
   ]
  },
  {
   "cell_type": "code",
   "execution_count": 7,
   "id": "dacd790d-59cb-414f-99e3-19a2cd943e20",
   "metadata": {},
   "outputs": [
    {
     "name": "stdout",
     "output_type": "stream",
     "text": [
      "3 /shared_volume/sipecam_subdirectories_26-06-2022.txt\n"
     ]
    }
   ],
   "source": [
    "%%bash\n",
    "wc -l /shared_volume/sipecam_subdirectories_26-06-2022.txt"
   ]
  },
  {
   "cell_type": "code",
   "execution_count": 8,
   "id": "316248c8-d910-47e2-91c8-fb32d64766a3",
   "metadata": {},
   "outputs": [
    {
     "name": "stdout",
     "output_type": "stream",
     "text": [
      "/LUSTRE/sacmod/SIPECAM/testing_simex/audios_ultra\n",
      "20210904_180000.WAV\n",
      "/LUSTRE/sacmod/SIPECAM/testing_simex/audios_audible\n",
      "20211114_110000.WAV\n",
      "/LUSTRE/sacmod/SIPECAM/testing_simex/images\n",
      "RCNX0001.JPG\n"
     ]
    }
   ],
   "source": [
    "%%bash\n",
    "#check every first subdirectory has a JPG, WAV or AVI file\n",
    "SAVEIFS=$IFS;IFS=$(echo -en \"\\n\\b\")\n",
    "for f in $(cat /shared_volume/sipecam_subdirectories_26-06-2022.txt)\n",
    "  do echo \"$f\"\n",
    "     ls \"$f\"|grep \"[WAV|wav|JPG|jpg|AVI|avi]$\"|head -n 1\n",
    "done\n",
    "IFS=$SAVEIFS"
   ]
  },
  {
   "cell_type": "markdown",
   "id": "d3d45c4d-7b7e-473a-a3b2-b273541aff71",
   "metadata": {},
   "source": [
    "# Generate SiPeCaM Zendro schema (one time only)"
   ]
  },
  {
   "cell_type": "code",
   "execution_count": 9,
   "id": "576cc660-5e0b-4bea-bd03-8b5c31ece159",
   "metadata": {},
   "outputs": [],
   "source": [
    "%%bash\n",
    "echo \"SIPECAM_ZENDRO_GQL_URL=https://gql.sipecamdata.conabio.gob.mx/\" > ~/.simex_env\n",
    "echo \"SIPECAM_ZENDRO_GQL_USER=<user>\" >> ~/.simex_env\n",
    "echo \"SIPECAM_ZENDRO_GQL_PASSWORD=<password>\" >> ~/.simex_env\n"
   ]
  },
  {
   "cell_type": "code",
   "execution_count": 13,
   "id": "ca37e18a-37f6-4a42-b8db-251881ca58a7",
   "metadata": {},
   "outputs": [
    {
     "name": "stdout",
     "output_type": "stream",
     "text": [
      "Standard Error sgqlc.introspection b''\n",
      "Standard Output sgqlc.introspection b'\\n'\n",
      "Standard Error sgqlc-codegen b''\n",
      "Standard Output sgqlc-codegen b''\n"
     ]
    }
   ],
   "source": [
    "%%bash\n",
    "generate_sipecam_zendro_schema"
   ]
  },
  {
   "cell_type": "markdown",
   "id": "c545c347-d736-42b8-aa94-5ab6f2cc7746",
   "metadata": {},
   "source": [
    "## Check"
   ]
  },
  {
   "cell_type": "code",
   "execution_count": 8,
   "id": "69e6bb84-22c6-46a0-88ed-87b6e8cf5dc3",
   "metadata": {},
   "outputs": [
    {
     "name": "stdout",
     "output_type": "stream",
     "text": [
      "import sgqlc.types\n",
      "import sgqlc.types.datetime\n",
      "\n",
      "\n",
      "sipecam_zendro_schema = sgqlc.types.Schema()\n",
      "\n",
      "\n",
      "\n",
      "########################################################################\n",
      "# Scalars and Enumerations\n"
     ]
    }
   ],
   "source": [
    "%%bash\n",
    "head -n 10 /root/sipecam-metadata-extractor/src/simex/sipecam_zendro_schema.py"
   ]
  },
  {
   "cell_type": "markdown",
   "id": "4f2c42e2-7efb-4e4a-80bc-7e5d3e7c14ec",
   "metadata": {
    "tags": []
   },
   "source": [
    "# Extract serial number, dates and metadata of files and device"
   ]
  },
  {
   "cell_type": "code",
   "execution_count": 9,
   "id": "52e023dc-4598-480f-8724-796b741e18da",
   "metadata": {},
   "outputs": [],
   "source": [
    "%%bash\n",
    "dir_to_be_processed=\"/LUSTRE/sacmod/SIPECAM/testing_simex/images/\"\n",
    "#default for parallel execution are 4 processes\n",
    "extract_serial_numbers_dates_and_metadata_of_files_and_device --input_dir \"$dir_to_be_processed\" --parallel"
   ]
  },
  {
   "cell_type": "code",
   "execution_count": 10,
   "id": "59ebaaff-552b-4bc2-8a0f-8ab651b1ad67",
   "metadata": {},
   "outputs": [],
   "source": [
    "%%bash\n",
    "dir_to_be_processed=\"/LUSTRE/sacmod/SIPECAM/testing_simex/audios_audible\"\n",
    "#can select number of proceses\n",
    "extract_serial_numbers_dates_and_metadata_of_files_and_device --input_dir \"$dir_to_be_processed\" --parallel --number_of_processes 6"
   ]
  },
  {
   "cell_type": "code",
   "execution_count": 11,
   "id": "1fac5575-1a93-48ca-b3de-3cca25646134",
   "metadata": {},
   "outputs": [],
   "source": [
    "%%bash\n",
    "dir_to_be_processed=\"/LUSTRE/sacmod/SIPECAM/testing_simex/audios_ultra\"\n",
    "#if number_of_processes is passed as arg then is assumed will execute in parallel\n",
    "extract_serial_numbers_dates_and_metadata_of_files_and_device --input_dir \"$dir_to_be_processed\" --number_of_processes 6"
   ]
  },
  {
   "cell_type": "markdown",
   "id": "68a7ed05-27fe-4da1-b656-b976c81521a1",
   "metadata": {
    "tags": []
   },
   "source": [
    "## Check"
   ]
  },
  {
   "cell_type": "markdown",
   "id": "83df2886-5ae1-47b8-820e-165d60213794",
   "metadata": {
    "tags": []
   },
   "source": [
    "### Dir with image & video files"
   ]
  },
  {
   "cell_type": "code",
   "execution_count": 12,
   "id": "5960dc7a-6c59-4ad0-86ed-be695ea1b28a",
   "metadata": {
    "tags": []
   },
   "outputs": [
    {
     "name": "stdout",
     "output_type": "stream",
     "text": [
      "2022-06-26 13:19:22,761 [INFO]  extraction of serial_numbers_dates_and_metadata_of_files_and_device\n",
      "2022-06-26 13:19:22,763 [INFO]  logs for extraction of serial_numbers_dates_and_metadata_of_files_and_device in /LUSTRE/sacmod/SIPECAM/testing_simex/images/images_simex_extract_serial_numbers_dates_and_metadata_of_files_and_device.json\n",
      "2022-06-26 13:19:22,768 [INFO]  extraction of metadata of device from /LUSTRE/sacmod/SIPECAM/testing_simex/images/RCNX0014.JPG\n",
      "2022-06-26 13:19:22,991 [INFO]  SUCCESSFUL extraction of serial number of /LUSTRE/sacmod/SIPECAM/testing_simex/images/RCNX0014.JPG\n",
      "2022-06-26 13:19:23,420 [INFO]  there were no GPS metadata associated with file /LUSTRE/sacmod/SIPECAM/testing_simex/images/RCNX0014.JPG, returning empty string\n",
      "2022-06-26 13:19:24,843 [INFO]  extraction of date of /LUSTRE/sacmod/SIPECAM/testing_simex/images/RCNX0014.JPG\n",
      "2022-06-26 13:19:24,843 [INFO]  SUCCESSFUL extraction of date of /LUSTRE/sacmod/SIPECAM/testing_simex/images/RCNX0014.JPG\n",
      "2022-06-26 13:19:24,844 [INFO]  there were no GPS metadata associated with file /LUSTRE/sacmod/SIPECAM/testing_simex/images/RCNX0014.JPG, returning empty string\n",
      "2022-06-26 13:19:24,844 [INFO]  extraction of date of /LUSTRE/sacmod/SIPECAM/testing_simex/images/RCNX0016.JPG\n",
      "2022-06-26 13:19:24,844 [INFO]  SUCCESSFUL extraction of date of /LUSTRE/sacmod/SIPECAM/testing_simex/images/RCNX0016.JPG\n",
      "2022-06-26 13:19:24,845 [INFO]  there were no GPS metadata associated with file /LUSTRE/sacmod/SIPECAM/testing_simex/images/RCNX0016.JPG, returning empty string\n",
      "2022-06-26 13:19:24,845 [INFO]  extraction of date of /LUSTRE/sacmod/SIPECAM/testing_simex/images/RCNX0002.JPG\n",
      "2022-06-26 13:19:24,845 [INFO]  SUCCESSFUL extraction of date of /LUSTRE/sacmod/SIPECAM/testing_simex/images/RCNX0002.JPG\n",
      "2022-06-26 13:19:24,845 [INFO]  there were no GPS metadata associated with file /LUSTRE/sacmod/SIPECAM/testing_simex/images/RCNX0002.JPG, returning empty string\n",
      "2022-06-26 13:19:24,845 [INFO]  extraction of date of /LUSTRE/sacmod/SIPECAM/testing_simex/images/RCNX0001.JPG\n"
     ]
    }
   ],
   "source": [
    "%%bash\n",
    "dir_to_be_processed=\"/LUSTRE/sacmod/SIPECAM/testing_simex/images/\"\n",
    "file_for_logs=$(find \"$dir_to_be_processed\" -name \"logs_simex_extract_serial_numbers_dates_and_metadata_of_files_and_device.logs\")\n",
    "head -n 15 \"$file_for_logs\""
   ]
  },
  {
   "cell_type": "code",
   "execution_count": 13,
   "id": "f6e5f13d-954c-4ff4-ae74-f260426daf2e",
   "metadata": {},
   "outputs": [
    {
     "name": "stdout",
     "output_type": "stream",
     "text": [
      "{\n",
      "    \"MetadataDevice\": {\n",
      "        \"Make\": \"RECONYX\",\n",
      "        \"Model\": \"HF2 PRO COVERT\",\n",
      "        \"SerialNumber\": \"HLPXGM09048594\"\n",
      "    },\n",
      "    \"MetadataFiles\": {\n",
      "        \"/LUSTRE/sacmod/SIPECAM/testing_simex/images/RCNX0014.JPG\": {\n",
      "            \"Make\": \"RECONYX\",\n",
      "            \"Model\": \"HF2 PRO COVERT\",\n",
      "            \"DateTimeOriginal\": \"2021:11:05 12:52:13\",\n",
      "            \"SerialNumber\": \"HLPXGM09048594\",\n",
      "            \"FileSize\": \"625 kB\",\n",
      "            \"ExifByteOrder\": \"Little-endian (Intel, II)\",\n",
      "            \"ImageWidth\": 2048,\n",
      "            \"ImageHeight\": 1440,\n",
      "            \"EncodingProcess\": \"Baseline DCT, Huffman coding\",\n",
      "            \"BitsPerSample\": 8,\n",
      "            \"ColorComponents\": 3,\n",
      "            \"YCbCrSubSampling\": \"YCbCr4:2:2 (2 1)\",\n",
      "            \"XResolution\": 72,\n",
      "            \"YResolution\": 72,\n",
      "            \"ResolutionUnit\": \"inches\",\n",
      "            \"YCbCrPositioning\": \"Co-sited\",\n",
      "            \"ExposureTime\": \"1/51\",\n",
      "            \"ISO\": 400,\n",
      "            \"TimeZoneOffset\": 0,\n",
      "            \"ComponentsConfiguration\": \"Y, Cb, Cr, -\",\n",
      "            \"ColorSpace\": \"sRGB\",\n",
      "            \"AmbientTemperature\": \"23 C\",\n",
      "            \"Contrast\": 128,\n",
      "            \"Brightness\": 0,\n",
      "            \"Sharpness\": 64,\n",
      "            \"Saturation\": 128,\n",
      "            \"Flash\": \"Off\",\n",
      "            \"AmbientInfrared\": 436,\n",
      "            \"AmbientLight\": 988,\n",
      "            \"MotionSensitivity\": 80,\n",
      "            \"BatteryVoltage\": 7187,\n",
      "            \"BatteryVoltageAvg\": 7204,\n",
      "            \"Megapixels\": 2.94912,\n",
      "            \"GPSLatitudeRef\": \"\",\n",
      "            \"GPSLongitudeRef\": \"\",\n",
      "            \"GPSLatitude\": \"\",\n",
      "            \"GPSLongitude\": \"\"\n",
      "        },\n",
      "        \"/LUSTRE/sacmod/SIPECAM/testing_simex/images/RCNX0016.JPG\": {\n",
      "            \"Make\": \"RECONYX\",\n",
      "            \"Model\": \"HF2 PRO COVERT\",\n",
      "            \"DateTimeOriginal\": \"2021:11:05 12:52:39\",\n",
      "            \"SerialNumber\": \"HLPXGM09048594\",\n",
      "            \"FileSize\": \"562 kB\",\n",
      "            \"ExifByteOrder\": \"Little-endian (Intel, II)\",\n",
      "            \"ImageWidth\": 2048,\n",
      "            \"ImageHeight\": 1440,\n",
      "            \"EncodingProcess\": \"Baseline DCT, Huffman coding\",\n",
      "            \"BitsPerSample\": 8,\n",
      "            \"ColorComponents\": 3,\n",
      "            \"YCbCrSubSampling\": \"YCbCr4:2:2 (2 1)\",\n",
      "            \"XResolution\": 72,\n",
      "            \"YResolution\": 72,\n",
      "            \"ResolutionUnit\": \"inches\",\n",
      "            \"YCbCrPositioning\": \"Co-sited\",\n",
      "            \"ExposureTime\": \"1/54\",\n",
      "            \"ISO\": 400,\n",
      "            \"TimeZoneOffset\": 0,\n",
      "            \"ComponentsConfiguration\": \"Y, Cb, Cr, -\",\n",
      "            \"ColorSpace\": \"sRGB\",\n",
      "            \"AmbientTemperature\": \"24 C\",\n",
      "            \"Contrast\": 128,\n",
      "            \"Brightness\": 0,\n",
      "            \"Sharpness\": 64,\n",
      "            \"Saturation\": 128,\n",
      "            \"Flash\": \"Off\",\n",
      "            \"AmbientInfrared\": 472,\n",
      "            \"AmbientLight\": 1057,\n",
      "            \"MotionSensitivity\": 80,\n",
      "            \"BatteryVoltage\": 7187,\n",
      "            \"BatteryVoltageAvg\": 7201,\n",
      "            \"Megapixels\": 2.94912,\n"
     ]
    }
   ],
   "source": [
    "%%bash\n",
    "dir_to_be_processed=\"/LUSTRE/sacmod/SIPECAM/testing_simex/images/\"\n",
    "file_json=$(find \"$dir_to_be_processed\" -name \"*.json\")\n",
    "python3 -mjson.tool \"$file_json\"|head -n 80"
   ]
  },
  {
   "cell_type": "code",
   "execution_count": 14,
   "id": "79a1ef98-fb5b-45c7-aead-0502f199c313",
   "metadata": {},
   "outputs": [
    {
     "name": "stdout",
     "output_type": "stream",
     "text": [
      "            \"GPSLatitudeRef\": \"\",\n",
      "            \"GPSLongitudeRef\": \"\",\n",
      "            \"GPSLatitude\": \"\",\n",
      "            \"GPSLongitude\": \"\",\n",
      "            \"SerialNumber\": \"HLPXGM09048594\"\n",
      "        },\n",
      "        \"/LUSTRE/sacmod/SIPECAM/testing_simex/images/RCNX0015.AVI\": {\n",
      "            \"BitRate\": \"12.3 Mbit/sec\",\n",
      "            \"Endianness\": \"Little endian\",\n",
      "            \"VideoBitsPerPixel\": \"24\",\n",
      "            \"VideoCompression\": \"Motion JPEG DIB (fourcc:\\\"MJPG\\\")\",\n",
      "            \"AudioSampleRate\": \"16.0 kHz\",\n",
      "            \"AudioCompressionRate\": \"1.0x\",\n",
      "            \"AudioCompression\": \"Microsoft Pulse Code Modulation (PCM)\",\n",
      "            \"AudioBitRate\": \"256.4 Kbit/sec\",\n",
      "            \"FileSize\": \"16 MB\",\n",
      "            \"DateTimeOriginal\": \"2021:11:05 12:52:14\",\n",
      "            \"BMPVersion\": \"Windows V3\",\n",
      "            \"ImageWidth\": 1024,\n",
      "            \"ImageHeight\": 720,\n",
      "            \"Planes\": 1,\n",
      "            \"ImageLength\": 2211840,\n",
      "            \"PixelsPerMeterX\": 0,\n",
      "            \"PixelsPerMeterY\": 0,\n",
      "            \"NumColors\": \"Use BitDepth\",\n",
      "            \"NumImportantColors\": \"All\",\n",
      "            \"FrameRate\": 12.5,\n",
      "            \"FrameCount\": 127,\n",
      "            \"StreamCount\": 2,\n",
      "            \"AudioSampleCount\": 0,\n",
      "            \"Encoding\": \"Microsoft PCM\",\n",
      "            \"NumChannels\": 1,\n",
      "            \"AvgBytesPerSec\": 32050,\n",
      "            \"BitsPerSample\": 16,\n",
      "            \"Duration\": \"10.16 s\",\n",
      "            \"MaxDataRate\": 26542080,\n",
      "            \"Megapixels\": 0.73728,\n",
      "            \"GPSLatitudeRef\": \"\",\n",
      "            \"GPSLongitudeRef\": \"\",\n",
      "            \"GPSLatitude\": \"\",\n",
      "            \"GPSLongitude\": \"\",\n",
      "            \"SerialNumber\": \"HLPXGM09048594\"\n",
      "        }\n",
      "    },\n",
      "    \"FirstAndLastDate\": {\n",
      "        \"/LUSTRE/sacmod/SIPECAM/testing_simex/images/RCNX0002.JPG\": \"2021-10-21\",\n",
      "        \"/LUSTRE/sacmod/SIPECAM/testing_simex/images/RCNX0015.AVI\": \"2021-11-05\"\n",
      "    },\n",
      "    \"DaysBetweenFirstAndLastDate\": 15\n",
      "}\n"
     ]
    }
   ],
   "source": [
    "%%bash\n",
    "dir_to_be_processed=\"/LUSTRE/sacmod/SIPECAM/testing_simex/images/\"\n",
    "file_json=$(find \"$dir_to_be_processed\" -name \"*.json\")\n",
    "python3 -mjson.tool \"$file_json\"|tail -n 50"
   ]
  },
  {
   "cell_type": "markdown",
   "id": "a88a2d2a-ff93-42e4-bd58-4b6339ce0152",
   "metadata": {},
   "source": [
    "### Dir with audio files"
   ]
  },
  {
   "cell_type": "code",
   "execution_count": 15,
   "id": "86c3b94f-1954-4ddd-a2b6-81df79f96aac",
   "metadata": {
    "tags": []
   },
   "outputs": [
    {
     "name": "stdout",
     "output_type": "stream",
     "text": [
      "2022-06-26 13:19:25,317 [INFO]  extraction of serial_numbers_dates_and_metadata_of_files_and_device\n",
      "2022-06-26 13:19:25,318 [INFO]  logs for extraction of serial_numbers_dates_and_metadata_of_files_and_device in /LUSTRE/sacmod/SIPECAM/testing_simex/audios_audible/audios_audible_simex_extract_serial_numbers_dates_and_metadata_of_files_and_device.json\n",
      "2022-06-26 13:19:25,321 [INFO]  extraction of metadata of device from /LUSTRE/sacmod/SIPECAM/testing_simex/audios_audible/20211114_110000.WAV\n",
      "2022-06-26 13:19:25,767 [INFO]  SUCCESSFUL extraction of serial number of /LUSTRE/sacmod/SIPECAM/testing_simex/audios_audible/20211114_110000.WAV\n",
      "2022-06-26 13:19:25,768 [INFO]  GPSFile key not found for videos, files from directory are of audio\n",
      "2022-06-26 13:19:27,597 [INFO]  extraction of date of /LUSTRE/sacmod/SIPECAM/testing_simex/audios_audible/20211114_110000.WAV\n",
      "2022-06-26 13:19:27,598 [INFO]  SUCCESSFUL extraction of date of /LUSTRE/sacmod/SIPECAM/testing_simex/audios_audible/20211114_110000.WAV\n",
      "2022-06-26 13:19:27,598 [INFO]  extraction of date of /LUSTRE/sacmod/SIPECAM/testing_simex/audios_audible/20211206_044000.WAV\n",
      "2022-06-26 13:19:27,598 [INFO]  SUCCESSFUL extraction of date of /LUSTRE/sacmod/SIPECAM/testing_simex/audios_audible/20211206_044000.WAV\n",
      "2022-06-26 13:19:27,598 [INFO]  extraction of date of /LUSTRE/sacmod/SIPECAM/testing_simex/audios_audible/20211114_111000.WAV\n",
      "2022-06-26 13:19:27,599 [INFO]  SUCCESSFUL extraction of date of /LUSTRE/sacmod/SIPECAM/testing_simex/audios_audible/20211114_111000.WAV\n",
      "2022-06-26 13:19:27,599 [INFO]  extraction of date of /LUSTRE/sacmod/SIPECAM/testing_simex/audios_audible/20211114_112000.WAV\n",
      "2022-06-26 13:19:27,599 [INFO]  SUCCESSFUL extraction of date of /LUSTRE/sacmod/SIPECAM/testing_simex/audios_audible/20211114_112000.WAV\n",
      "2022-06-26 13:19:27,599 [INFO]  extraction of date of /LUSTRE/sacmod/SIPECAM/testing_simex/audios_audible/20211206_045000.WAV\n",
      "2022-06-26 13:19:27,599 [INFO]  SUCCESSFUL extraction of date of /LUSTRE/sacmod/SIPECAM/testing_simex/audios_audible/20211206_045000.WAV\n"
     ]
    }
   ],
   "source": [
    "%%bash\n",
    "dir_to_be_processed=\"/LUSTRE/sacmod/SIPECAM/testing_simex/audios_audible\"\n",
    "file_for_logs=$(find \"$dir_to_be_processed\" -name \"logs_simex_extract_serial_numbers_dates_and_metadata_of_files_and_device.logs\")\n",
    "head -n 15 \"$file_for_logs\""
   ]
  },
  {
   "cell_type": "code",
   "execution_count": 16,
   "id": "54e58311-a293-497d-8f5b-4907cc357a6c",
   "metadata": {},
   "outputs": [
    {
     "name": "stdout",
     "output_type": "stream",
     "text": [
      "{\n",
      "    \"MetadataDevice\": {\n",
      "        \"Artist\": \"AudioMoth 24E1440360371EA1\",\n",
      "        \"SerialNumber\": \"24E1440360371EA1\"\n",
      "    },\n",
      "    \"MetadataFiles\": {\n",
      "        \"/LUSTRE/sacmod/SIPECAM/testing_simex/audios_audible/20211114_110000.WAV\": {\n",
      "            \"Battery\": \"4.7V\",\n",
      "            \"Datetime\": \"11:00:00 14/11/2021 (UTC-0600)\",\n",
      "            \"Gain\": \"medium\",\n",
      "            \"Timezone\": \"UTC\",\n",
      "            \"BitRate\": \"768.0 Kbit/sec\",\n",
      "            \"SerialNumber\": \"24E1440360371EA1\",\n",
      "            \"FileSize\": \"5.8 MB\",\n",
      "            \"Encoding\": \"Microsoft PCM\",\n",
      "            \"NumChannels\": 1,\n",
      "            \"SampleRate\": 48000,\n",
      "            \"AvgBytesPerSec\": 96000,\n",
      "            \"BitsPerSample\": 16,\n",
      "            \"Comment\": \"Recorded at 11:00:00 14/11/2021 (UTC-6) by AudioMoth 24E1440360371EA1 at medium gain setting while battery state was 4.7V and temperature was 29.8C.\",\n",
      "            \"Duration\": 60.0050833333333\n",
      "        },\n",
      "        \"/LUSTRE/sacmod/SIPECAM/testing_simex/audios_audible/20211206_044000.WAV\": {\n",
      "            \"Battery\": \"4.2V\",\n",
      "            \"Datetime\": \"04:40:00 06/12/2021 (UTC-0600)\",\n",
      "            \"Gain\": \"medium\",\n",
      "            \"Timezone\": \"UTC\",\n",
      "            \"BitRate\": \"768.0 Kbit/sec\",\n",
      "            \"SerialNumber\": \"24E1440360371EA1\",\n",
      "            \"FileSize\": \"5.8 MB\",\n",
      "            \"Encoding\": \"Microsoft PCM\",\n",
      "            \"NumChannels\": 1,\n",
      "            \"SampleRate\": 48000,\n",
      "            \"AvgBytesPerSec\": 96000,\n",
      "            \"BitsPerSample\": 16,\n",
      "            \"Comment\": \"Recorded at 04:40:00 06/12/2021 (UTC-6) by AudioMoth 24E1440360371EA1 at medium gain setting while battery state was 4.2V and temperature was 24.0C.\",\n",
      "            \"Duration\": 60.0050833333333\n",
      "        },\n",
      "        \"/LUSTRE/sacmod/SIPECAM/testing_simex/audios_audible/20211114_111000.WAV\": {\n",
      "            \"Battery\": \"4.9V\",\n"
     ]
    }
   ],
   "source": [
    "%%bash\n",
    "dir_to_be_processed=\"/LUSTRE/sacmod/SIPECAM/testing_simex/audios_audible\"\n",
    "file_json=$(find \"$dir_to_be_processed\" -name \"*.json\")\n",
    "python3 -mjson.tool \"$file_json\" | head -n 40"
   ]
  },
  {
   "cell_type": "code",
   "execution_count": 17,
   "id": "54d79639-39c8-4833-851f-72fddbb1fc5c",
   "metadata": {},
   "outputs": [
    {
     "name": "stdout",
     "output_type": "stream",
     "text": [
      "            \"NumChannels\": 1,\n",
      "            \"SampleRate\": 48000,\n",
      "            \"AvgBytesPerSec\": 96000,\n",
      "            \"BitsPerSample\": 16,\n",
      "            \"Comment\": \"Recorded at 04:50:00 06/12/2021 (UTC-6) by AudioMoth 24E1440360371EA1 at medium gain setting while battery state was 4.2V and temperature was 24.0C.\",\n",
      "            \"Duration\": 60.0050833333333\n",
      "        },\n",
      "        \"/LUSTRE/sacmod/SIPECAM/testing_simex/audios_audible/20211206_060000.WAV\": {\n",
      "            \"Battery\": \"4.2V\",\n",
      "            \"Datetime\": \"06:00:00 06/12/2021 (UTC-0600)\",\n",
      "            \"Gain\": \"medium\",\n",
      "            \"Timezone\": \"UTC\",\n",
      "            \"BitRate\": \"768.0 Kbit/sec\",\n",
      "            \"SerialNumber\": \"24E1440360371EA1\",\n",
      "            \"FileSize\": \"1769 kB\",\n",
      "            \"Encoding\": \"Microsoft PCM\",\n",
      "            \"NumChannels\": 1,\n",
      "            \"SampleRate\": 48000,\n",
      "            \"AvgBytesPerSec\": 96000,\n",
      "            \"BitsPerSample\": 16,\n",
      "            \"Comment\": \"Recorded at 06:00:00 06/12/2021 (UTC-6) by AudioMoth 24E1440360371EA1 at medium gain setting while battery state was 4.2V and temperature was 23.6C. Recording cancelled before completion due to low voltage.\",\n",
      "            \"Duration\": 18.432\n",
      "        }\n",
      "    },\n",
      "    \"FirstAndLastDate\": {\n",
      "        \"/LUSTRE/sacmod/SIPECAM/testing_simex/audios_audible/20211114_110000.WAV\": \"2021-11-14\",\n",
      "        \"/LUSTRE/sacmod/SIPECAM/testing_simex/audios_audible/20211206_060000.WAV\": \"2021-12-06\"\n",
      "    },\n",
      "    \"DaysBetweenFirstAndLastDate\": 22\n",
      "}\n"
     ]
    }
   ],
   "source": [
    "%%bash\n",
    "dir_to_be_processed=\"/LUSTRE/sacmod/SIPECAM/testing_simex/audios_audible\"\n",
    "file_json=$(find \"$dir_to_be_processed\" -name \"*.json\")\n",
    "python3 -mjson.tool \"$file_json\" | tail -n 30"
   ]
  },
  {
   "cell_type": "markdown",
   "id": "b2dcf36c-cd9d-456d-8e03-510070228ac0",
   "metadata": {},
   "source": [
    "### Dir with audio files"
   ]
  },
  {
   "cell_type": "code",
   "execution_count": 18,
   "id": "a715563a-7658-4cfd-8580-03fa373f78e7",
   "metadata": {
    "tags": []
   },
   "outputs": [
    {
     "name": "stdout",
     "output_type": "stream",
     "text": [
      "2022-06-26 13:19:28,070 [INFO]  extraction of serial_numbers_dates_and_metadata_of_files_and_device\n",
      "2022-06-26 13:19:28,072 [INFO]  logs for extraction of serial_numbers_dates_and_metadata_of_files_and_device in /LUSTRE/sacmod/SIPECAM/testing_simex/audios_ultra/audios_ultra_simex_extract_serial_numbers_dates_and_metadata_of_files_and_device.json\n",
      "2022-06-26 13:19:28,075 [INFO]  extraction of metadata of device from /LUSTRE/sacmod/SIPECAM/testing_simex/audios_ultra/20211002_054000.WAV\n",
      "2022-06-26 13:19:28,519 [INFO]  SUCCESSFUL extraction of serial number of /LUSTRE/sacmod/SIPECAM/testing_simex/audios_ultra/20211002_054000.WAV\n",
      "2022-06-26 13:19:28,520 [INFO]  GPSFile key not found for videos, files from directory are of audio\n",
      "2022-06-26 13:19:29,472 [INFO]  extraction of date of /LUSTRE/sacmod/SIPECAM/testing_simex/audios_ultra/20211002_054000.WAV\n",
      "2022-06-26 13:19:29,473 [INFO]  SUCCESSFUL extraction of date of /LUSTRE/sacmod/SIPECAM/testing_simex/audios_ultra/20211002_054000.WAV\n",
      "2022-06-26 13:19:29,473 [INFO]  extraction of date of /LUSTRE/sacmod/SIPECAM/testing_simex/audios_ultra/20210904_182000.WAV\n",
      "2022-06-26 13:19:29,474 [INFO]  SUCCESSFUL extraction of date of /LUSTRE/sacmod/SIPECAM/testing_simex/audios_ultra/20210904_182000.WAV\n",
      "2022-06-26 13:19:29,474 [INFO]  extraction of date of /LUSTRE/sacmod/SIPECAM/testing_simex/audios_ultra/20211002_052000.WAV\n",
      "2022-06-26 13:19:29,474 [INFO]  SUCCESSFUL extraction of date of /LUSTRE/sacmod/SIPECAM/testing_simex/audios_ultra/20211002_052000.WAV\n",
      "2022-06-26 13:19:29,474 [INFO]  extraction of date of /LUSTRE/sacmod/SIPECAM/testing_simex/audios_ultra/20210904_180000.WAV\n",
      "2022-06-26 13:19:29,475 [INFO]  SUCCESSFUL extraction of date of /LUSTRE/sacmod/SIPECAM/testing_simex/audios_ultra/20210904_180000.WAV\n",
      "2022-06-26 13:19:29,483 [INFO]  GPSFile key not found for videos, files from directory are of audio\n"
     ]
    }
   ],
   "source": [
    "%%bash\n",
    "dir_to_be_processed=\"/LUSTRE/sacmod/SIPECAM/testing_simex/audios_ultra\"\n",
    "file_for_logs=$(find \"$dir_to_be_processed\" -name \"logs_simex_extract_serial_numbers_dates_and_metadata_of_files_and_device.logs\")\n",
    "head -n 15 \"$file_for_logs\""
   ]
  },
  {
   "cell_type": "code",
   "execution_count": 19,
   "id": "cdedb299-fdef-436e-896f-743248072a06",
   "metadata": {},
   "outputs": [
    {
     "name": "stdout",
     "output_type": "stream",
     "text": [
      "{\n",
      "    \"MetadataDevice\": {\n",
      "        \"Artist\": \"AudioMoth 24E4C30453E1BE08\",\n",
      "        \"SerialNumber\": \"24E4C30453E1BE08\"\n",
      "    },\n",
      "    \"MetadataFiles\": {\n",
      "        \"/LUSTRE/sacmod/SIPECAM/testing_simex/audios_ultra/20211002_054000.WAV\": {\n",
      "            \"Battery\": \"3.2V\",\n",
      "            \"Datetime\": \"05:40:00 02/10/2021 (UTC-0600)\",\n",
      "            \"Gain\": \"medium\",\n",
      "            \"Timezone\": \"UTC\",\n",
      "            \"BitRate\": \"6.1 Mbit/sec\",\n",
      "            \"SerialNumber\": \"24E4C30453E1BE08\",\n",
      "            \"FileSize\": \"488 bytes\",\n",
      "            \"Encoding\": \"Microsoft PCM\",\n",
      "            \"NumChannels\": 1,\n",
      "            \"SampleRate\": 384000,\n",
      "            \"AvgBytesPerSec\": 768000,\n",
      "            \"BitsPerSample\": 16,\n",
      "            \"Comment\": \"Recorded at 05:40:00 02/10/2021 (UTC-6) by AudioMoth 24E4C30453E1BE08 at medium gain setting while battery state was 3.2V and temperature was 20.2C. Recording cancelled before completion due to low voltage.\",\n",
      "            \"Duration\": \"0.000635416666666667\"\n",
      "        },\n",
      "        \"/LUSTRE/sacmod/SIPECAM/testing_simex/audios_ultra/20210904_182000.WAV\": {\n",
      "            \"Battery\": \"4.2V\",\n",
      "            \"Datetime\": \"18:20:00 04/09/2021 (UTC-0600)\",\n",
      "            \"Gain\": \"medium\",\n",
      "            \"Timezone\": \"UTC\",\n",
      "            \"BitRate\": \"6.1 Mbit/sec\",\n",
      "            \"SerialNumber\": \"24E4C30453E1BE08\",\n",
      "            \"FileSize\": \"23 MB\",\n",
      "            \"Encoding\": \"Microsoft PCM\",\n",
      "            \"NumChannels\": 1,\n",
      "            \"SampleRate\": 384000,\n",
      "            \"AvgBytesPerSec\": 768000,\n",
      "            \"BitsPerSample\": 16,\n",
      "            \"Comment\": \"Recorded at 18:20:00 04/09/2021 (UTC-6) by AudioMoth 24E4C30453E1BE08 at medium gain setting while battery state was 4.2V and temperature was 25.8C.\",\n",
      "            \"Duration\": 30.0006354166667\n",
      "        },\n",
      "        \"/LUSTRE/sacmod/SIPECAM/testing_simex/audios_ultra/20211002_052000.WAV\": {\n",
      "            \"Battery\": \"3.2V\",\n"
     ]
    }
   ],
   "source": [
    "%%bash\n",
    "dir_to_be_processed=\"/LUSTRE/sacmod/SIPECAM/testing_simex/audios_ultra\"\n",
    "file_json=$(find \"$dir_to_be_processed\" -name '*.json')\n",
    "python3 -mjson.tool \"$file_json\" | head -n 40"
   ]
  },
  {
   "cell_type": "code",
   "execution_count": 20,
   "id": "58b4ea5d-787c-4d2e-a51a-4e1d73ae8627",
   "metadata": {},
   "outputs": [
    {
     "name": "stdout",
     "output_type": "stream",
     "text": [
      "            \"NumChannels\": 1,\n",
      "            \"SampleRate\": 384000,\n",
      "            \"AvgBytesPerSec\": 768000,\n",
      "            \"BitsPerSample\": 16,\n",
      "            \"Comment\": \"Recorded at 05:20:00 02/10/2021 (UTC-6) by AudioMoth 24E4C30453E1BE08 at medium gain setting while battery state was 3.2V and temperature was 20.4C. Recording cancelled before completion due to low voltage.\",\n",
      "            \"Duration\": \"0.000635416666666667\"\n",
      "        },\n",
      "        \"/LUSTRE/sacmod/SIPECAM/testing_simex/audios_ultra/20210904_180000.WAV\": {\n",
      "            \"Battery\": \"4.2V\",\n",
      "            \"Datetime\": \"18:00:00 04/09/2021 (UTC-0600)\",\n",
      "            \"Gain\": \"medium\",\n",
      "            \"Timezone\": \"UTC\",\n",
      "            \"BitRate\": \"6.1 Mbit/sec\",\n",
      "            \"SerialNumber\": \"24E4C30453E1BE08\",\n",
      "            \"FileSize\": \"23 MB\",\n",
      "            \"Encoding\": \"Microsoft PCM\",\n",
      "            \"NumChannels\": 1,\n",
      "            \"SampleRate\": 384000,\n",
      "            \"AvgBytesPerSec\": 768000,\n",
      "            \"BitsPerSample\": 16,\n",
      "            \"Comment\": \"Recorded at 18:00:00 04/09/2021 (UTC-6) by AudioMoth 24E4C30453E1BE08 at medium gain setting while battery state was 4.2V and temperature was 25.2C.\",\n",
      "            \"Duration\": 30.0006354166667\n",
      "        }\n",
      "    },\n",
      "    \"FirstAndLastDate\": {\n",
      "        \"/LUSTRE/sacmod/SIPECAM/testing_simex/audios_ultra/20210904_182000.WAV\": \"2021-09-04\",\n",
      "        \"/LUSTRE/sacmod/SIPECAM/testing_simex/audios_ultra/20211002_052000.WAV\": \"2021-10-02\"\n",
      "    },\n",
      "    \"DaysBetweenFirstAndLastDate\": 28\n",
      "}\n"
     ]
    }
   ],
   "source": [
    "%%bash\n",
    "dir_to_be_processed=\"/LUSTRE/sacmod/SIPECAM/testing_simex/audios_ultra\"\n",
    "file_json=$(find \"$dir_to_be_processed\" -name '*.json')\n",
    "python3 -mjson.tool \"$file_json\" | tail -n 30"
   ]
  },
  {
   "cell_type": "markdown",
   "id": "6651eaa9-c0fd-48fe-8ed1-dc7808bdee3d",
   "metadata": {},
   "source": [
    "# Move files to standard directory"
   ]
  },
  {
   "cell_type": "code",
   "execution_count": null,
   "id": "8aa05690-46df-400d-b9ca-6ae7646d9bbb",
   "metadata": {},
   "outputs": [],
   "source": [
    "%%bash\n",
    "echo \"SIPECAM_ZENDRO_GQL_URL=https://gql.sipecamdata.conabio.gob.mx/\" > ~/.simex_env\n",
    "echo \"SIPECAM_ZENDRO_GQL_USER=<user>\" >> ~/.simex_env\n",
    "echo \"SIPECAM_ZENDRO_GQL_PASSWORD=<password>\" >> ~/.simex_env"
   ]
  },
  {
   "cell_type": "markdown",
   "id": "1256c162-8c52-48f5-8bfa-9e7e77da3354",
   "metadata": {},
   "source": [
    "## Dir with images & videos"
   ]
  },
  {
   "cell_type": "markdown",
   "id": "13b96802-a419-44e2-9ffe-ad6f99bf2c99",
   "metadata": {},
   "source": [
    "**For this need to have in `move` cli, MAX_NUMBER_OF_DAYS = 40**"
   ]
  },
  {
   "cell_type": "code",
   "execution_count": 21,
   "id": "0de065c2-71d6-4725-b952-d64715659759",
   "metadata": {},
   "outputs": [],
   "source": [
    "%%bash\n",
    "dir_to_be_processed=\"/LUSTRE/sacmod/SIPECAM/testing_simex/images/\"\n",
    "path_std_dir=\"/LUSTRE/sacmod/SIPECAM/testing_simex/sipecam_simex_std_dir\"\n",
    "move_files_to_standard_directory --directory_with_file_of_serial_number_and_dates \"$dir_to_be_processed\" --path_for_standard_directory \"$path_std_dir\""
   ]
  },
  {
   "cell_type": "markdown",
   "id": "8cdc15a2-2431-4acc-bf01-78a1b413d6c1",
   "metadata": {
    "tags": []
   },
   "source": [
    "## Check it"
   ]
  },
  {
   "cell_type": "code",
   "execution_count": 22,
   "id": "6646be13-a61d-4a1f-b00b-3cf39f8aa31e",
   "metadata": {},
   "outputs": [
    {
     "name": "stdout",
     "output_type": "stream",
     "text": [
      "2022-06-26 13:19:45,411 [INFO]  Dir /LUSTRE/sacmod/SIPECAM/testing_simex/images/ has serial number HLPXGM09048594\n",
      "2022-06-26 13:19:45,412 [INFO]  File /LUSTRE/sacmod/SIPECAM/testing_simex/images/RCNX0002.JPG has date 2021-10-21\n",
      "2022-06-26 13:19:45,412 [INFO]  File /LUSTRE/sacmod/SIPECAM/testing_simex/images/RCNX0015.AVI has date 2021-11-05\n",
      "2022-06-26 13:19:45,412 [INFO]  DaysBetweenFirstAndLastDate: 15\n",
      "2022-06-26 13:19:45,568 [INFO]  Query to Zendro GQL: query {\n",
      "  physical_devices(pagination: {limit: 0}, search: {field: serial_number, value: \"HLPXGM09048594\", operator: like}) {\n",
      "    device_deploymentsFilter(pagination: {limit: 0}, search: {operator: and, search: [{field: date_deployment, value: \"2021-10-21\", valueType: String, operator: gte}, {field: date_deployment, value: \"2021-11-05\", valueType: String, operator: lte}]}) {\n",
      "      node {\n",
      "        nomenclatura\n",
      "        cat_integr\n",
      "        ecosystems {\n",
      "          name\n",
      "        }\n",
      "      }\n",
      "      cumulus {\n",
      "        name\n",
      "        geometry\n",
      "      }\n",
      "      date_deployment\n",
      "      latitude\n",
      "      longitude\n",
      "    }\n",
      "  }\n",
      "}\n",
      "2022-06-26 13:19:45,568 [INFO]  last query wasn't successful\n",
      "2022-06-26 13:19:45,694 [INFO]  Query alternative auxiliar to Zendro GQL: query {\n",
      "  physical_devices(pagination: {limit: 0}, search: {field: serial_number, value: \"HLPXGM09048594\", operator: like}) {\n",
      "    device_deploymentsFilter(pagination: {limit: 0}) {\n",
      "      date_deployment\n",
      "    }\n",
      "  }\n",
      "}\n",
      "2022-06-26 13:19:45,847 [INFO]  Query alternative to Zendro GQL: query {\n",
      "  physical_devices(pagination: {limit: 0}, search: {field: serial_number, value: \"HLPXGM09048594\", operator: like}) {\n",
      "    device_deploymentsFilter(pagination: {limit: 0}, search: {field: date_deployment, value: \"2021-10-08T16:56:00.000Z\", operator: eq}) {\n",
      "      node {\n",
      "        nomenclatura\n",
      "        cat_integr\n",
      "        ecosystems {\n",
      "          name\n",
      "        }\n",
      "      }\n",
      "      cumulus {\n",
      "        name\n",
      "        geometry\n",
      "      }\n",
      "      date_deployment\n",
      "      latitude\n",
      "      longitude\n",
      "    }\n",
      "  }\n",
      "}\n",
      "2022-06-26 13:19:45,847 [INFO]  SUCCESSFUL extraction of nomenclature of node, cumulus name and date of deployment\n",
      "2022-06-26 13:19:45,847 [INFO]  directory /LUSTRE/sacmod/SIPECAM/testing_simex/images/ has nom node: 3_92_1_1334, cum name: 92, date of depl: 2021-10-08, ecosystems name: Selvas humedas,                                          latitude and longitude of device:  16.264693, -90.9371013, node category of integrity: Integro\n",
      "2022-06-26 13:19:45,848 [INFO]  compute centroid of cumulus\n",
      "2022-06-26 13:19:45,848 [INFO]  Centroid of cumulus, lat: 16.17538, long: -90.87685\n",
      "2022-06-26 13:19:45,848 [INFO]  Validating lat and long of device are correct using lat long of cumulus centroid\n",
      "2022-06-26 13:19:45,849 [INFO]  Latitude and Longitude of device are in cumulus geometry\n",
      "2022-06-26 13:19:45,849 [INFO]  filling dict MetadataDevice using query results from Zendro\n",
      "2022-06-26 13:19:45,849 [INFO]  path where files will be moved: /LUSTRE/sacmod/SIPECAM/testing_simex/sipecam_simex_std_dir/92/3_92_1_1334/HLPXGM09048594/2021-10-08\n",
      "2022-06-26 13:19:45,868 [INFO]  File /LUSTRE/sacmod/SIPECAM/testing_simex/images/RCNX0014.JPG will be moved to: /LUSTRE/sacmod/SIPECAM/testing_simex/sipecam_simex_std_dir/92/3_92_1_1334/HLPXGM09048594/2021-10-08/images_videos with name 6ec862f8274e86d7757aedc27acc0293_0014.JPG\n",
      "2022-06-26 13:19:45,868 [INFO]  GPS info of files werent available, using the ones of device to fill them\n",
      "2022-06-26 13:19:45,868 [INFO]  Validating lat and long of file are correct using lat long of cumulus centroid\n",
      "2022-06-26 13:19:45,869 [INFO]  Latitude and Longitude of file are in cumulus geometry\n",
      "2022-06-26 13:19:45,869 [INFO]  Writing lat long of centroid of cumulus for MetadataFiles\n",
      "2022-06-26 13:19:45,872 [INFO]  File /LUSTRE/sacmod/SIPECAM/testing_simex/images/RCNX0016.JPG will be moved to: /LUSTRE/sacmod/SIPECAM/testing_simex/sipecam_simex_std_dir/92/3_92_1_1334/HLPXGM09048594/2021-10-08/images_videos with name 6b405f975d0f91804ae54503291a30e6_0016.JPG\n",
      "2022-06-26 13:19:45,873 [INFO]  GPS info of files werent available, using the ones of device to fill them\n",
      "2022-06-26 13:19:45,873 [INFO]  Validating lat and long of file are correct using lat long of cumulus centroid\n",
      "2022-06-26 13:19:45,873 [INFO]  Latitude and Longitude of file are in cumulus geometry\n",
      "2022-06-26 13:19:45,873 [INFO]  Writing lat long of centroid of cumulus for MetadataFiles\n",
      "2022-06-26 13:19:45,876 [INFO]  File /LUSTRE/sacmod/SIPECAM/testing_simex/images/RCNX0002.JPG will be moved to: /LUSTRE/sacmod/SIPECAM/testing_simex/sipecam_simex_std_dir/92/3_92_1_1334/HLPXGM09048594/2021-10-08/images_videos with name 0d19d86648cd4d3a22dc146658d7e8dd_0002.JPG\n",
      "2022-06-26 13:19:45,877 [INFO]  GPS info of files werent available, using the ones of device to fill them\n",
      "2022-06-26 13:19:45,877 [INFO]  Validating lat and long of file are correct using lat long of cumulus centroid\n",
      "2022-06-26 13:19:45,877 [INFO]  Latitude and Longitude of file are in cumulus geometry\n",
      "2022-06-26 13:19:45,877 [INFO]  Writing lat long of centroid of cumulus for MetadataFiles\n"
     ]
    }
   ],
   "source": [
    "%%bash\n",
    "dir_to_be_processed=\"/LUSTRE/sacmod/SIPECAM/testing_simex/images/\"\n",
    "file_for_logs=$(find \"$dir_to_be_processed\" -name 'logs_simex_move_files_to_standard_directory.logs')\n",
    "head -n 75 \"$file_for_logs\""
   ]
  },
  {
   "cell_type": "code",
   "execution_count": 23,
   "id": "51e88f70-98ca-4a43-9a8e-f0bd82cc08c2",
   "metadata": {},
   "outputs": [
    {
     "name": "stdout",
     "output_type": "stream",
     "text": [
      "{\n",
      "    \"DaysBetweenFirstAndLastDate\": 15,\n",
      "    \"MetadataDevice\": {\n",
      "        \"Make\": \"RECONYX\",\n",
      "        \"Model\": \"HF2 PRO COVERT\",\n",
      "        \"SerialNumber\": \"HLPXGM09048594\",\n",
      "        \"NomenclatureNode\": \"3_92_1_1334\",\n",
      "        \"CumulusName\": \"92\",\n",
      "        \"CentroidCumulusLatitude\": 16.17538,\n",
      "        \"CentroidCumulusLongitude\": -90.87685,\n",
      "        \"DateDeployment\": \"2021-10-08\",\n",
      "        \"EcosystemsName\": \"Selvas humedas\",\n",
      "        \"Latitude\": 16.264693,\n",
      "        \"Longitude\": -90.9371013,\n",
      "        \"NodeCategoryIntegrity\": \"Integro\"\n",
      "    },\n",
      "    \"MetadataFiles\": {\n",
      "        \"/LUSTRE/sacmod/SIPECAM/testing_simex/sipecam_simex_std_dir/92/3_92_1_1334/HLPXGM09048594/2021-10-08/images_videos/6ec862f8274e86d7757aedc27acc0293_0014.JPG\": {\n",
      "            \"Make\": \"RECONYX\",\n",
      "            \"Model\": \"HF2 PRO COVERT\",\n",
      "            \"DateTimeOriginal\": \"2021:11:05 12:52:13\",\n",
      "            \"SerialNumber\": \"HLPXGM09048594\",\n",
      "            \"FileSize\": \"625 kB\",\n",
      "            \"ExifByteOrder\": \"Little-endian (Intel, II)\",\n",
      "            \"ImageWidth\": 2048,\n",
      "            \"ImageHeight\": 1440,\n",
      "            \"EncodingProcess\": \"Baseline DCT, Huffman coding\",\n",
      "            \"BitsPerSample\": 8,\n",
      "            \"ColorComponents\": 3,\n",
      "            \"YCbCrSubSampling\": \"YCbCr4:2:2 (2 1)\",\n",
      "            \"XResolution\": 72,\n",
      "            \"YResolution\": 72,\n",
      "            \"ResolutionUnit\": \"inches\",\n",
      "            \"YCbCrPositioning\": \"Co-sited\",\n",
      "            \"ExposureTime\": \"1/51\",\n",
      "            \"ISO\": 400,\n",
      "            \"TimeZoneOffset\": 0,\n",
      "            \"ComponentsConfiguration\": \"Y, Cb, Cr, -\",\n",
      "            \"ColorSpace\": \"sRGB\",\n",
      "            \"AmbientTemperature\": \"23 C\",\n",
      "            \"Contrast\": 128,\n",
      "            \"Brightness\": 0,\n",
      "            \"Sharpness\": 64,\n",
      "            \"Saturation\": 128,\n",
      "            \"Flash\": \"Off\",\n",
      "            \"AmbientInfrared\": 436,\n",
      "            \"AmbientLight\": 988,\n",
      "            \"MotionSensitivity\": 80,\n",
      "            \"BatteryVoltage\": 7187,\n",
      "            \"BatteryVoltageAvg\": 7204,\n",
      "            \"Megapixels\": 2.94912,\n",
      "            \"GPSLatitudeRef\": \"North\",\n",
      "            \"GPSLongitudeRef\": \"West\",\n",
      "            \"GPSLatitude\": 16.264693,\n",
      "            \"GPSLongitude\": -90.9371013,\n",
      "            \"CentroidCumulusLatitude\": 16.17538,\n",
      "            \"CentroidCumulusLongitude\": -90.87685\n",
      "        },\n",
      "        \"/LUSTRE/sacmod/SIPECAM/testing_simex/sipecam_simex_std_dir/92/3_92_1_1334/HLPXGM09048594/2021-10-08/images_videos/6b405f975d0f91804ae54503291a30e6_0016.JPG\": {\n",
      "            \"Make\": \"RECONYX\",\n",
      "            \"Model\": \"HF2 PRO COVERT\",\n",
      "            \"DateTimeOriginal\": \"2021:11:05 12:52:39\",\n",
      "            \"SerialNumber\": \"HLPXGM09048594\",\n",
      "            \"FileSize\": \"562 kB\",\n",
      "            \"ExifByteOrder\": \"Little-endian (Intel, II)\",\n",
      "            \"ImageWidth\": 2048,\n",
      "            \"ImageHeight\": 1440,\n",
      "            \"EncodingProcess\": \"Baseline DCT, Huffman coding\",\n",
      "            \"BitsPerSample\": 8,\n",
      "            \"ColorComponents\": 3,\n",
      "            \"YCbCrSubSampling\": \"YCbCr4:2:2 (2 1)\",\n",
      "            \"XResolution\": 72,\n",
      "            \"YResolution\": 72,\n",
      "            \"ResolutionUnit\": \"inches\",\n",
      "            \"YCbCrPositioning\": \"Co-sited\",\n",
      "            \"ExposureTime\": \"1/54\",\n",
      "            \"ISO\": 400,\n",
      "            \"TimeZoneOffset\": 0,\n",
      "            \"ComponentsConfiguration\": \"Y, Cb, Cr, -\",\n",
      "            \"ColorSpace\": \"sRGB\",\n",
      "            \"AmbientTemperature\": \"24 C\",\n",
      "            \"Contrast\": 128,\n",
      "            \"Brightness\": 0,\n",
      "            \"Sharpness\": 64,\n",
      "            \"Saturation\": 128,\n",
      "            \"Flash\": \"Off\",\n",
      "            \"AmbientInfrared\": 472,\n",
      "            \"AmbientLight\": 1057,\n",
      "            \"MotionSensitivity\": 80,\n",
      "            \"BatteryVoltage\": 7187,\n",
      "            \"BatteryVoltageAvg\": 7201,\n",
      "            \"Megapixels\": 2.94912,\n",
      "            \"GPSLatitudeRef\": \"North\",\n",
      "            \"GPSLongitudeRef\": \"West\",\n",
      "            \"GPSLatitude\": 16.264693,\n",
      "            \"GPSLongitude\": -90.9371013,\n",
      "            \"CentroidCumulusLatitude\": 16.17538,\n",
      "            \"CentroidCumulusLongitude\": -90.87685\n",
      "        },\n",
      "        \"/LUSTRE/sacmod/SIPECAM/testing_simex/sipecam_simex_std_dir/92/3_92_1_1334/HLPXGM09048594/2021-10-08/images_videos/0d19d86648cd4d3a22dc146658d7e8dd_0002.JPG\": {\n"
     ]
    }
   ],
   "source": [
    "%%bash\n",
    "path_std_dir=\"/LUSTRE/sacmod/SIPECAM/testing_simex/sipecam_simex_std_dir\"\n",
    "dir_images=$(find \"$path_std_dir\" -name \"images_videos\")\n",
    "file=$(find \"$dir_images\" -name \"*.json\")\n",
    "python3 -mjson.tool \"$file\"|head -n 100"
   ]
  },
  {
   "cell_type": "code",
   "execution_count": 24,
   "id": "bab74794-50f2-4fc5-bf77-df08224a75f0",
   "metadata": {},
   "outputs": [
    {
     "name": "stdout",
     "output_type": "stream",
     "text": [
      "            \"Megapixels\": 2.94912,\n",
      "            \"GPSLatitudeRef\": \"North\",\n",
      "            \"GPSLongitudeRef\": \"West\",\n",
      "            \"GPSLatitude\": 16.264693,\n",
      "            \"GPSLongitude\": -90.9371013,\n",
      "            \"CentroidCumulusLatitude\": 16.17538,\n",
      "            \"CentroidCumulusLongitude\": -90.87685\n",
      "        },\n",
      "        \"/LUSTRE/sacmod/SIPECAM/testing_simex/sipecam_simex_std_dir/92/3_92_1_1334/HLPXGM09048594/2021-10-08/images_videos/4619170f846c449ca1d9a613ec46fcd3_0001.JPG\": {\n",
      "            \"Make\": \"RECONYX\",\n",
      "            \"Model\": \"HF2 PRO COVERT\",\n",
      "            \"DateTimeOriginal\": \"2021:10:21 12:20:26\",\n",
      "            \"SerialNumber\": \"HLPXGM09048594\",\n",
      "            \"FileSize\": \"547 kB\",\n",
      "            \"ExifByteOrder\": \"Little-endian (Intel, II)\",\n",
      "            \"ImageWidth\": 2048,\n",
      "            \"ImageHeight\": 1440,\n",
      "            \"EncodingProcess\": \"Baseline DCT, Huffman coding\",\n",
      "            \"BitsPerSample\": 8,\n",
      "            \"ColorComponents\": 3,\n",
      "            \"YCbCrSubSampling\": \"YCbCr4:2:2 (2 1)\",\n",
      "            \"XResolution\": 72,\n",
      "            \"YResolution\": 72,\n",
      "            \"ResolutionUnit\": \"inches\",\n",
      "            \"YCbCrPositioning\": \"Co-sited\",\n",
      "            \"ExposureTime\": \"1/41\",\n",
      "            \"ISO\": 400,\n",
      "            \"TimeZoneOffset\": 0,\n",
      "            \"ComponentsConfiguration\": \"Y, Cb, Cr, -\",\n",
      "            \"ColorSpace\": \"sRGB\",\n",
      "            \"AmbientTemperature\": \"25 C\",\n",
      "            \"Contrast\": 128,\n",
      "            \"Brightness\": 0,\n",
      "            \"Sharpness\": 64,\n",
      "            \"Saturation\": 128,\n",
      "            \"Flash\": \"Off\",\n",
      "            \"AmbientInfrared\": 194,\n",
      "            \"AmbientLight\": 480,\n",
      "            \"MotionSensitivity\": 80,\n",
      "            \"BatteryVoltage\": 7245,\n",
      "            \"BatteryVoltageAvg\": 7245,\n",
      "            \"Megapixels\": 2.94912,\n",
      "            \"GPSLatitudeRef\": \"North\",\n",
      "            \"GPSLongitudeRef\": \"West\",\n",
      "            \"GPSLatitude\": 16.264693,\n",
      "            \"GPSLongitude\": -90.9371013,\n",
      "            \"CentroidCumulusLatitude\": 16.17538,\n",
      "            \"CentroidCumulusLongitude\": -90.87685\n",
      "        },\n",
      "        \"/LUSTRE/sacmod/SIPECAM/testing_simex/sipecam_simex_std_dir/92/3_92_1_1334/HLPXGM09048594/2021-10-08/images_videos/97a2a4cd2b94580273386141c2ac0e86_0017.JPG\": {\n",
      "            \"Make\": \"RECONYX\",\n",
      "            \"Model\": \"HF2 PRO COVERT\",\n",
      "            \"DateTimeOriginal\": \"2021:11:05 12:52:40\",\n",
      "            \"SerialNumber\": \"HLPXGM09048594\",\n",
      "            \"FileSize\": \"448 kB\",\n",
      "            \"ExifByteOrder\": \"Little-endian (Intel, II)\",\n",
      "            \"ImageWidth\": 2048,\n",
      "            \"ImageHeight\": 1440,\n",
      "            \"EncodingProcess\": \"Baseline DCT, Huffman coding\",\n",
      "            \"BitsPerSample\": 8,\n",
      "            \"ColorComponents\": 3,\n",
      "            \"YCbCrSubSampling\": \"YCbCr4:2:2 (2 1)\",\n",
      "            \"XResolution\": 72,\n",
      "            \"YResolution\": 72,\n",
      "            \"ResolutionUnit\": \"inches\",\n",
      "            \"YCbCrPositioning\": \"Co-sited\",\n",
      "            \"ExposureTime\": \"1/54\",\n",
      "            \"ISO\": 400,\n",
      "            \"TimeZoneOffset\": 0,\n",
      "            \"ComponentsConfiguration\": \"Y, Cb, Cr, -\",\n",
      "            \"ColorSpace\": \"sRGB\",\n",
      "            \"AmbientTemperature\": \"24 C\",\n",
      "            \"Contrast\": 128,\n",
      "            \"Brightness\": 0,\n",
      "            \"Sharpness\": 64,\n",
      "            \"Saturation\": 128,\n",
      "            \"Flash\": \"Off\",\n",
      "            \"AmbientInfrared\": 472,\n",
      "            \"AmbientLight\": 1057,\n",
      "            \"MotionSensitivity\": 80,\n",
      "            \"BatteryVoltage\": 7170,\n",
      "            \"BatteryVoltageAvg\": 7201,\n",
      "            \"Megapixels\": 2.94912,\n",
      "            \"GPSLatitudeRef\": \"North\",\n",
      "            \"GPSLongitudeRef\": \"West\",\n",
      "            \"GPSLatitude\": 16.264693,\n",
      "            \"GPSLongitude\": -90.9371013,\n",
      "            \"CentroidCumulusLatitude\": 16.17538,\n",
      "            \"CentroidCumulusLongitude\": -90.87685\n",
      "        },\n",
      "        \"/LUSTRE/sacmod/SIPECAM/testing_simex/sipecam_simex_std_dir/92/3_92_1_1334/HLPXGM09048594/2021-10-08/images_videos/c3baf93d8158a88bc084360f71a2044e_0003.AVI\": {\n",
      "            \"BitRate\": \"10.4 Mbit/sec\",\n",
      "            \"Endianness\": \"Little endian\",\n",
      "            \"VideoBitsPerPixel\": \"24\",\n",
      "            \"VideoCompression\": \"Motion JPEG DIB (fourcc:\\\"MJPG\\\")\",\n",
      "            \"AudioSampleRate\": \"16.0 kHz\",\n",
      "            \"AudioCompressionRate\": \"1.0x\",\n",
      "            \"AudioCompression\": \"Microsoft Pulse Code Modulation (PCM)\",\n",
      "            \"AudioBitRate\": \"256.4 Kbit/sec\",\n",
      "            \"FileSize\": \"6.6 MB\",\n",
      "            \"DateTimeOriginal\": \"2021:10:21 12:20:28\",\n",
      "            \"BMPVersion\": \"Windows V3\",\n",
      "            \"ImageWidth\": 1024,\n",
      "            \"ImageHeight\": 720,\n",
      "            \"Planes\": 1,\n",
      "            \"ImageLength\": 2211840,\n",
      "            \"PixelsPerMeterX\": 0,\n",
      "            \"PixelsPerMeterY\": 0,\n",
      "            \"NumColors\": \"Use BitDepth\",\n",
      "            \"NumImportantColors\": \"All\",\n",
      "            \"FrameRate\": 12.5,\n",
      "            \"FrameCount\": 64,\n",
      "            \"StreamCount\": 2,\n",
      "            \"AudioSampleCount\": 0,\n",
      "            \"Encoding\": \"Microsoft PCM\",\n",
      "            \"NumChannels\": 1,\n",
      "            \"AvgBytesPerSec\": 32050,\n",
      "            \"BitsPerSample\": 16,\n",
      "            \"Duration\": \"5.12 s\",\n",
      "            \"MaxDataRate\": 26542080,\n",
      "            \"Megapixels\": 0.73728,\n",
      "            \"GPSLatitudeRef\": \"North\",\n",
      "            \"GPSLongitudeRef\": \"West\",\n",
      "            \"GPSLatitude\": 16.264693,\n",
      "            \"GPSLongitude\": -90.9371013,\n",
      "            \"SerialNumber\": \"HLPXGM09048594\",\n",
      "            \"CentroidCumulusLatitude\": 16.17538,\n",
      "            \"CentroidCumulusLongitude\": -90.87685\n",
      "        },\n",
      "        \"/LUSTRE/sacmod/SIPECAM/testing_simex/sipecam_simex_std_dir/92/3_92_1_1334/HLPXGM09048594/2021-10-08/images_videos/da95b518d77847b472c4be695129fae3_0015.AVI\": {\n",
      "            \"BitRate\": \"12.3 Mbit/sec\",\n",
      "            \"Endianness\": \"Little endian\",\n",
      "            \"VideoBitsPerPixel\": \"24\",\n",
      "            \"VideoCompression\": \"Motion JPEG DIB (fourcc:\\\"MJPG\\\")\",\n",
      "            \"AudioSampleRate\": \"16.0 kHz\",\n",
      "            \"AudioCompressionRate\": \"1.0x\",\n",
      "            \"AudioCompression\": \"Microsoft Pulse Code Modulation (PCM)\",\n",
      "            \"AudioBitRate\": \"256.4 Kbit/sec\",\n",
      "            \"FileSize\": \"16 MB\",\n",
      "            \"DateTimeOriginal\": \"2021:11:05 12:52:14\",\n",
      "            \"BMPVersion\": \"Windows V3\",\n",
      "            \"ImageWidth\": 1024,\n",
      "            \"ImageHeight\": 720,\n",
      "            \"Planes\": 1,\n",
      "            \"ImageLength\": 2211840,\n",
      "            \"PixelsPerMeterX\": 0,\n",
      "            \"PixelsPerMeterY\": 0,\n",
      "            \"NumColors\": \"Use BitDepth\",\n",
      "            \"NumImportantColors\": \"All\",\n",
      "            \"FrameRate\": 12.5,\n",
      "            \"FrameCount\": 127,\n",
      "            \"StreamCount\": 2,\n",
      "            \"AudioSampleCount\": 0,\n",
      "            \"Encoding\": \"Microsoft PCM\",\n",
      "            \"NumChannels\": 1,\n",
      "            \"AvgBytesPerSec\": 32050,\n",
      "            \"BitsPerSample\": 16,\n",
      "            \"Duration\": \"10.16 s\",\n",
      "            \"MaxDataRate\": 26542080,\n",
      "            \"Megapixels\": 0.73728,\n",
      "            \"GPSLatitudeRef\": \"North\",\n",
      "            \"GPSLongitudeRef\": \"West\",\n",
      "            \"GPSLatitude\": 16.264693,\n",
      "            \"GPSLongitude\": -90.9371013,\n",
      "            \"SerialNumber\": \"HLPXGM09048594\",\n",
      "            \"CentroidCumulusLatitude\": 16.17538,\n",
      "            \"CentroidCumulusLongitude\": -90.87685\n",
      "        }\n",
      "    }\n",
      "}\n"
     ]
    }
   ],
   "source": [
    "%%bash\n",
    "path_std_dir=\"/LUSTRE/sacmod/SIPECAM/testing_simex/sipecam_simex_std_dir\"\n",
    "dir_images=$(find \"$path_std_dir\" -name \"images_videos\")\n",
    "file=$(find \"$dir_images\" -name \"*.json\")\n",
    "python3 -mjson.tool \"$file\"|tail -n 170"
   ]
  },
  {
   "cell_type": "code",
   "execution_count": 25,
   "id": "6a5ac24f-3ca5-4dbf-bc14-9b4c29fb797a",
   "metadata": {},
   "outputs": [
    {
     "name": "stdout",
     "output_type": "stream",
     "text": [
      "/LUSTRE/sacmod/SIPECAM/testing_simex/sipecam_simex_std_dir/92/3_92_1_1334/HLPXGM09048594/2021-10-08/images_videos\n"
     ]
    }
   ],
   "source": [
    "%%bash\n",
    "path_std_dir=\"/LUSTRE/sacmod/SIPECAM/testing_simex/sipecam_simex_std_dir/files_moved_with_simex\"\n",
    "txt_file=$(find \"$path_std_dir\" -name \"*.txt\")\n",
    "cat \"$txt_file\""
   ]
  },
  {
   "cell_type": "markdown",
   "id": "ef2fb0f3-c319-41b0-aae7-d264407bbd74",
   "metadata": {},
   "source": [
    "## Dir with audio files"
   ]
  },
  {
   "cell_type": "markdown",
   "id": "1b402b01-7164-455b-beb4-9fe1a2ad92bc",
   "metadata": {},
   "source": [
    "**For this need to have in `move` cli, MAX_NUMBER_OF_DAYS = 60**"
   ]
  },
  {
   "cell_type": "code",
   "execution_count": 32,
   "id": "a1b4a15c-6646-4b66-a932-d6a69cb5c4e9",
   "metadata": {},
   "outputs": [],
   "source": [
    "%%bash\n",
    "dir_to_be_processed=\"/LUSTRE/sacmod/SIPECAM/testing_simex/audios_audible\"\n",
    "path_std_dir=\"/LUSTRE/sacmod/SIPECAM/testing_simex/sipecam_simex_std_dir\"\n",
    "move_files_to_standard_directory --directory_with_file_of_serial_number_and_dates \"$dir_to_be_processed\" --path_for_standard_directory \"$path_std_dir\""
   ]
  },
  {
   "cell_type": "markdown",
   "id": "d0098197-9f68-4fb0-a232-4e160cf56e52",
   "metadata": {},
   "source": [
    "## Check it"
   ]
  },
  {
   "cell_type": "code",
   "execution_count": 33,
   "id": "fa022340-fe56-428a-9213-a0a3dfec3c49",
   "metadata": {},
   "outputs": [
    {
     "name": "stdout",
     "output_type": "stream",
     "text": [
      "2022-06-26 13:22:06,822 [INFO]  Dir /LUSTRE/sacmod/SIPECAM/testing_simex/audios_audible has serial number 24E1440360371EA1\n",
      "2022-06-26 13:22:06,823 [INFO]  File /LUSTRE/sacmod/SIPECAM/testing_simex/audios_audible/20211114_110000.WAV has date 2021-11-14\n",
      "2022-06-26 13:22:06,823 [INFO]  File /LUSTRE/sacmod/SIPECAM/testing_simex/audios_audible/20211206_060000.WAV has date 2021-12-06\n",
      "2022-06-26 13:22:06,823 [INFO]  DaysBetweenFirstAndLastDate: 22\n",
      "2022-06-26 13:22:06,976 [INFO]  Query to Zendro GQL: query {\n",
      "  physical_devices(pagination: {limit: 0}, search: {field: comments, value: \"ADM24E1440360371EA1\", operator: like}) {\n",
      "    device_deploymentsFilter(pagination: {limit: 0}, search: {operator: and, search: [{field: date_deployment, value: \"2021-11-14\", valueType: String, operator: gte}, {field: date_deployment, value: \"2021-12-06\", valueType: String, operator: lte}]}) {\n",
      "      node {\n",
      "        nomenclatura\n",
      "        cat_integr\n",
      "        ecosystems {\n",
      "          name\n",
      "        }\n",
      "      }\n",
      "      cumulus {\n",
      "        name\n",
      "        geometry\n",
      "      }\n",
      "      date_deployment\n",
      "      latitude\n",
      "      longitude\n",
      "    }\n",
      "  }\n",
      "}\n",
      "2022-06-26 13:22:06,976 [INFO]  last query wasn't successful\n",
      "2022-06-26 13:22:07,107 [INFO]  Query alternative auxiliar to Zendro GQL: query {\n",
      "  physical_devices(pagination: {limit: 0}, search: {field: comments, value: \"ADM24E1440360371EA1\", operator: like}) {\n",
      "    device_deploymentsFilter(pagination: {limit: 0}) {\n",
      "      date_deployment\n",
      "    }\n",
      "  }\n",
      "}\n",
      "2022-06-26 13:22:07,255 [INFO]  Query alternative to Zendro GQL: query {\n",
      "  physical_devices(pagination: {limit: 0}, search: {field: comments, value: \"ADM24E1440360371EA1\", operator: like}) {\n",
      "    device_deploymentsFilter(pagination: {limit: 0}, search: {field: date_deployment, value: \"2021-10-09T14:56:00.000Z\", operator: eq}) {\n",
      "      node {\n",
      "        nomenclatura\n",
      "        cat_integr\n",
      "        ecosystems {\n",
      "          name\n",
      "        }\n",
      "      }\n",
      "      cumulus {\n",
      "        name\n",
      "        geometry\n",
      "      }\n",
      "      date_deployment\n",
      "      latitude\n",
      "      longitude\n",
      "    }\n",
      "  }\n",
      "}\n",
      "2022-06-26 13:22:07,255 [INFO]  SUCCESSFUL extraction of nomenclature of node, cumulus name and date of deployment\n",
      "2022-06-26 13:22:07,255 [INFO]  directory /LUSTRE/sacmod/SIPECAM/testing_simex/audios_audible has nom node: 3_92_0_1343, cum name: 92, date of depl: 2021-10-09, ecosystems name: Selvas humedas,                                          latitude and longitude of device:  16.1087878, -90.9012417, node category of integrity: Degradado\n",
      "2022-06-26 13:22:07,256 [INFO]  compute centroid of cumulus\n",
      "2022-06-26 13:22:07,256 [INFO]  Centroid of cumulus, lat: 16.17538, long: -90.87685\n",
      "2022-06-26 13:22:07,256 [INFO]  Validating lat and long of device are correct using lat long of cumulus centroid\n",
      "2022-06-26 13:22:07,257 [INFO]  Latitude and Longitude of device are in cumulus geometry\n",
      "2022-06-26 13:22:07,257 [INFO]  filling dict MetadataDevice using query results from Zendro\n",
      "2022-06-26 13:22:07,257 [INFO]  path where files will be moved: /LUSTRE/sacmod/SIPECAM/testing_simex/sipecam_simex_std_dir/92/3_92_0_1343/24E1440360371EA1/2021-10-09\n",
      "2022-06-26 13:22:07,291 [INFO]  File /LUSTRE/sacmod/SIPECAM/testing_simex/audios_audible/20211114_110000.WAV will be moved to: /LUSTRE/sacmod/SIPECAM/testing_simex/sipecam_simex_std_dir/92/3_92_0_1343/24E1440360371EA1/2021-10-09/audios/Audible with name bae0c0a09ebb9a4318949f6f14713e29.WAV\n",
      "2022-06-26 13:22:07,291 [INFO]  Validating lat and long of file are correct using lat long of cumulus centroid\n",
      "2022-06-26 13:22:07,292 [INFO]  Latitude and Longitude of file are in cumulus geometry\n",
      "2022-06-26 13:22:07,292 [INFO]  Writing lat long of centroid of cumulus for MetadataFiles\n",
      "2022-06-26 13:22:07,311 [INFO]  File /LUSTRE/sacmod/SIPECAM/testing_simex/audios_audible/20211206_044000.WAV will be moved to: /LUSTRE/sacmod/SIPECAM/testing_simex/sipecam_simex_std_dir/92/3_92_0_1343/24E1440360371EA1/2021-10-09/audios/Audible with name 8803ebcb7eae5bfe0c45f7f395938a15.WAV\n",
      "2022-06-26 13:22:07,311 [INFO]  Validating lat and long of file are correct using lat long of cumulus centroid\n",
      "2022-06-26 13:22:07,311 [INFO]  Latitude and Longitude of file are in cumulus geometry\n",
      "2022-06-26 13:22:07,311 [INFO]  Writing lat long of centroid of cumulus for MetadataFiles\n",
      "2022-06-26 13:22:07,330 [INFO]  File /LUSTRE/sacmod/SIPECAM/testing_simex/audios_audible/20211114_111000.WAV will be moved to: /LUSTRE/sacmod/SIPECAM/testing_simex/sipecam_simex_std_dir/92/3_92_0_1343/24E1440360371EA1/2021-10-09/audios/Audible with name cc15ae6c484320fb2a3a5f09d5318493.WAV\n",
      "2022-06-26 13:22:07,331 [INFO]  Validating lat and long of file are correct using lat long of cumulus centroid\n",
      "2022-06-26 13:22:07,331 [INFO]  Latitude and Longitude of file are in cumulus geometry\n",
      "2022-06-26 13:22:07,331 [INFO]  Writing lat long of centroid of cumulus for MetadataFiles\n",
      "2022-06-26 13:22:07,350 [INFO]  File /LUSTRE/sacmod/SIPECAM/testing_simex/audios_audible/20211114_112000.WAV will be moved to: /LUSTRE/sacmod/SIPECAM/testing_simex/sipecam_simex_std_dir/92/3_92_0_1343/24E1440360371EA1/2021-10-09/audios/Audible with name eca7acc4e3a48aee5479f6bad10d7396.WAV\n",
      "2022-06-26 13:22:07,350 [INFO]  Validating lat and long of file are correct using lat long of cumulus centroid\n",
      "2022-06-26 13:22:07,351 [INFO]  Latitude and Longitude of file are in cumulus geometry\n",
      "2022-06-26 13:22:07,351 [INFO]  Writing lat long of centroid of cumulus for MetadataFiles\n",
      "2022-06-26 13:22:07,369 [INFO]  File /LUSTRE/sacmod/SIPECAM/testing_simex/audios_audible/20211206_045000.WAV will be moved to: /LUSTRE/sacmod/SIPECAM/testing_simex/sipecam_simex_std_dir/92/3_92_0_1343/24E1440360371EA1/2021-10-09/audios/Audible with name dc69ec5bea2af481a8de8fcbbe5f233f.WAV\n",
      "2022-06-26 13:22:07,370 [INFO]  Validating lat and long of file are correct using lat long of cumulus centroid\n",
      "2022-06-26 13:22:07,370 [INFO]  Latitude and Longitude of file are in cumulus geometry\n",
      "2022-06-26 13:22:07,370 [INFO]  Writing lat long of centroid of cumulus for MetadataFiles\n",
      "2022-06-26 13:22:07,377 [INFO]  File /LUSTRE/sacmod/SIPECAM/testing_simex/audios_audible/20211206_060000.WAV will be moved to: /LUSTRE/sacmod/SIPECAM/testing_simex/sipecam_simex_std_dir/92/3_92_0_1343/24E1440360371EA1/2021-10-09/audios/Audible with name 77554ee6f219af0b1ddbfad259223fdb.WAV\n",
      "2022-06-26 13:22:07,377 [INFO]  Validating lat and long of file are correct using lat long of cumulus centroid\n",
      "2022-06-26 13:22:07,378 [INFO]  Latitude and Longitude of file are in cumulus geometry\n",
      "2022-06-26 13:22:07,378 [INFO]  Writing lat long of centroid of cumulus for MetadataFiles\n"
     ]
    }
   ],
   "source": [
    "%%bash\n",
    "dir_to_be_processed=\"/LUSTRE/sacmod/SIPECAM/testing_simex/audios_audible\"\n",
    "file_for_logs=$(find \"$dir_to_be_processed\" -name 'logs_simex_move_files_to_standard_directory.logs')\n",
    "head -n 100 \"$file_for_logs\""
   ]
  },
  {
   "cell_type": "code",
   "execution_count": 34,
   "id": "a07cf2fc-042c-4dd2-81d4-4a29cff97f74",
   "metadata": {},
   "outputs": [
    {
     "name": "stdout",
     "output_type": "stream",
     "text": [
      "{\n",
      "    \"DaysBetweenFirstAndLastDate\": 22,\n",
      "    \"MetadataDevice\": {\n",
      "        \"Artist\": \"AudioMoth 24E1440360371EA1\",\n",
      "        \"SerialNumber\": \"24E1440360371EA1\",\n",
      "        \"NomenclatureNode\": \"3_92_0_1343\",\n",
      "        \"CumulusName\": \"92\",\n",
      "        \"CentroidCumulusLatitude\": 16.17538,\n",
      "        \"CentroidCumulusLongitude\": -90.87685,\n",
      "        \"DateDeployment\": \"2021-10-09\",\n",
      "        \"EcosystemsName\": \"Selvas humedas\",\n",
      "        \"Latitude\": 16.1087878,\n",
      "        \"Longitude\": -90.9012417,\n",
      "        \"NodeCategoryIntegrity\": \"Degradado\"\n",
      "    },\n",
      "    \"MetadataFiles\": {\n",
      "        \"/LUSTRE/sacmod/SIPECAM/testing_simex/sipecam_simex_std_dir/92/3_92_0_1343/24E1440360371EA1/2021-10-09/audios/Audible/bae0c0a09ebb9a4318949f6f14713e29.WAV\": {\n",
      "            \"Battery\": \"4.7V\",\n",
      "            \"Datetime\": \"11:00:00 14/11/2021 (UTC-0600)\",\n",
      "            \"Gain\": \"medium\",\n",
      "            \"Timezone\": \"UTC\",\n",
      "            \"BitRate\": \"768.0 Kbit/sec\",\n",
      "            \"SerialNumber\": \"24E1440360371EA1\",\n",
      "            \"FileSize\": \"5.8 MB\",\n",
      "            \"Encoding\": \"Microsoft PCM\",\n",
      "            \"NumChannels\": 1,\n",
      "            \"SampleRate\": 48000,\n",
      "            \"AvgBytesPerSec\": 96000,\n",
      "            \"BitsPerSample\": 16,\n",
      "            \"Comment\": \"Recorded at 11:00:00 14/11/2021 (UTC-6) by AudioMoth 24E1440360371EA1 at medium gain setting while battery state was 4.7V and temperature was 29.8C.\",\n",
      "            \"Duration\": 60.0050833333333,\n",
      "            \"Latitude\": 16.1087878,\n",
      "            \"Longitude\": -90.9012417,\n",
      "            \"CentroidCumulusLatitude\": 16.17538,\n",
      "            \"CentroidCumulusLongitude\": -90.87685\n",
      "        },\n",
      "        \"/LUSTRE/sacmod/SIPECAM/testing_simex/sipecam_simex_std_dir/92/3_92_0_1343/24E1440360371EA1/2021-10-09/audios/Audible/8803ebcb7eae5bfe0c45f7f395938a15.WAV\": {\n",
      "            \"Battery\": \"4.2V\",\n",
      "            \"Datetime\": \"04:40:00 06/12/2021 (UTC-0600)\",\n",
      "            \"Gain\": \"medium\",\n",
      "            \"Timezone\": \"UTC\",\n",
      "            \"BitRate\": \"768.0 Kbit/sec\",\n",
      "            \"SerialNumber\": \"24E1440360371EA1\",\n",
      "            \"FileSize\": \"5.8 MB\",\n",
      "            \"Encoding\": \"Microsoft PCM\",\n",
      "            \"NumChannels\": 1,\n",
      "            \"SampleRate\": 48000,\n",
      "            \"AvgBytesPerSec\": 96000,\n",
      "            \"BitsPerSample\": 16,\n",
      "            \"Comment\": \"Recorded at 04:40:00 06/12/2021 (UTC-6) by AudioMoth 24E1440360371EA1 at medium gain setting while battery state was 4.2V and temperature was 24.0C.\",\n",
      "            \"Duration\": 60.0050833333333,\n",
      "            \"Latitude\": 16.1087878,\n",
      "            \"Longitude\": -90.9012417,\n",
      "            \"CentroidCumulusLatitude\": 16.17538,\n",
      "            \"CentroidCumulusLongitude\": -90.87685\n",
      "        },\n",
      "        \"/LUSTRE/sacmod/SIPECAM/testing_simex/sipecam_simex_std_dir/92/3_92_0_1343/24E1440360371EA1/2021-10-09/audios/Audible/cc15ae6c484320fb2a3a5f09d5318493.WAV\": {\n",
      "            \"Battery\": \"4.9V\",\n",
      "            \"Datetime\": \"11:10:00 14/11/2021 (UTC-0600)\",\n",
      "            \"Gain\": \"medium\",\n",
      "            \"Timezone\": \"UTC\",\n",
      "            \"BitRate\": \"768.0 Kbit/sec\",\n",
      "            \"SerialNumber\": \"24E1440360371EA1\",\n",
      "            \"FileSize\": \"5.8 MB\",\n",
      "            \"Encoding\": \"Microsoft PCM\",\n",
      "            \"NumChannels\": 1,\n",
      "            \"SampleRate\": 48000,\n",
      "            \"AvgBytesPerSec\": 96000,\n",
      "            \"BitsPerSample\": 16,\n",
      "            \"Comment\": \"Recorded at 11:10:00 14/11/2021 (UTC-6) by AudioMoth 24E1440360371EA1 at medium gain setting while battery state was 4.9V and temperature was 28.0C.\",\n",
      "            \"Duration\": 60.0050833333333,\n",
      "            \"Latitude\": 16.1087878,\n",
      "            \"Longitude\": -90.9012417,\n",
      "            \"CentroidCumulusLatitude\": 16.17538,\n",
      "            \"CentroidCumulusLongitude\": -90.87685\n",
      "        },\n",
      "        \"/LUSTRE/sacmod/SIPECAM/testing_simex/sipecam_simex_std_dir/92/3_92_0_1343/24E1440360371EA1/2021-10-09/audios/Audible/eca7acc4e3a48aee5479f6bad10d7396.WAV\": {\n",
      "            \"Battery\": \"4.9V\",\n",
      "            \"Datetime\": \"11:20:00 14/11/2021 (UTC-0600)\",\n",
      "            \"Gain\": \"medium\",\n",
      "            \"Timezone\": \"UTC\",\n",
      "            \"BitRate\": \"768.0 Kbit/sec\",\n",
      "            \"SerialNumber\": \"24E1440360371EA1\",\n",
      "            \"FileSize\": \"5.8 MB\",\n",
      "            \"Encoding\": \"Microsoft PCM\",\n",
      "            \"NumChannels\": 1,\n",
      "            \"SampleRate\": 48000,\n",
      "            \"AvgBytesPerSec\": 96000,\n",
      "            \"BitsPerSample\": 16,\n",
      "            \"Comment\": \"Recorded at 11:20:00 14/11/2021 (UTC-6) by AudioMoth 24E1440360371EA1 at medium gain setting while battery state was 4.9V and temperature was 27.2C.\",\n",
      "            \"Duration\": 60.0050833333333,\n",
      "            \"Latitude\": 16.1087878,\n",
      "            \"Longitude\": -90.9012417,\n",
      "            \"CentroidCumulusLatitude\": 16.17538,\n",
      "            \"CentroidCumulusLongitude\": -90.87685\n",
      "        },\n",
      "        \"/LUSTRE/sacmod/SIPECAM/testing_simex/sipecam_simex_std_dir/92/3_92_0_1343/24E1440360371EA1/2021-10-09/audios/Audible/dc69ec5bea2af481a8de8fcbbe5f233f.WAV\": {\n",
      "            \"Battery\": \"4.2V\",\n",
      "            \"Datetime\": \"04:50:00 06/12/2021 (UTC-0600)\",\n",
      "            \"Gain\": \"medium\",\n"
     ]
    }
   ],
   "source": [
    "%%bash\n",
    "path_std_dir=\"/LUSTRE/sacmod/SIPECAM/testing_simex/sipecam_simex_std_dir\"\n",
    "dir_audios=$(find \"$path_std_dir\" -name \"24E1440360371EA1\")\n",
    "file=$(find \"$dir_audios\" -name \"*.json\")\n",
    "python3 -mjson.tool \"$file\"|head -n 100"
   ]
  },
  {
   "cell_type": "code",
   "execution_count": 35,
   "id": "c62ccb1e-8db2-4e8a-a0b2-b34b6b9e93b0",
   "metadata": {},
   "outputs": [
    {
     "name": "stdout",
     "output_type": "stream",
     "text": [
      "/LUSTRE/sacmod/SIPECAM/testing_simex/sipecam_simex_std_dir/92/3_92_1_1334/HLPXGM09048594/2021-10-08/images_videos\n",
      "/LUSTRE/sacmod/SIPECAM/testing_simex/sipecam_simex_std_dir/92/3_92_0_1343/24E1440360371EA1/2021-10-09/audios/Audible\n"
     ]
    }
   ],
   "source": [
    "%%bash\n",
    "path_std_dir=\"/LUSTRE/sacmod/SIPECAM/testing_simex/sipecam_simex_std_dir\"\n",
    "txt_file=$(find \"$path_std_dir\" -name \"*.txt\")\n",
    "cat \"$txt_file\""
   ]
  },
  {
   "cell_type": "markdown",
   "id": "27417f57-dfc2-4990-958c-845afe23425f",
   "metadata": {
    "tags": []
   },
   "source": [
    "## Dir with audio files"
   ]
  },
  {
   "cell_type": "markdown",
   "id": "cfa56a8b-16a2-46cc-b721-b8e071e0709f",
   "metadata": {},
   "source": [
    "**For this need to have in `move` cli, MAX_NUMBER_OF_DAYS = 40**"
   ]
  },
  {
   "cell_type": "code",
   "execution_count": 36,
   "id": "7617d5f4-f73b-4e84-a144-a66d281af9e8",
   "metadata": {},
   "outputs": [],
   "source": [
    "%%bash\n",
    "dir_to_be_processed=\"/LUSTRE/sacmod/SIPECAM/testing_simex/audios_ultra\"\n",
    "path_std_dir=\"/LUSTRE/sacmod/SIPECAM/testing_simex/sipecam_simex_std_dir\"\n",
    "move_files_to_standard_directory --directory_with_file_of_serial_number_and_dates \"$dir_to_be_processed\" --path_for_standard_directory \"$path_std_dir\""
   ]
  },
  {
   "cell_type": "markdown",
   "id": "0ee3d7a7-cd0d-4398-a439-e36977613733",
   "metadata": {},
   "source": [
    "## Check it"
   ]
  },
  {
   "cell_type": "code",
   "execution_count": 37,
   "id": "1ad26634-325a-4e4e-aed8-aa6eb2361832",
   "metadata": {},
   "outputs": [
    {
     "name": "stdout",
     "output_type": "stream",
     "text": [
      "2022-06-26 13:23:17,909 [INFO]  Dir /LUSTRE/sacmod/SIPECAM/testing_simex/audios_ultra has serial number 24E4C30453E1BE08\n",
      "2022-06-26 13:23:17,910 [INFO]  File /LUSTRE/sacmod/SIPECAM/testing_simex/audios_ultra/20210904_182000.WAV has date 2021-09-04\n",
      "2022-06-26 13:23:17,910 [INFO]  File /LUSTRE/sacmod/SIPECAM/testing_simex/audios_ultra/20211002_052000.WAV has date 2021-10-02\n",
      "2022-06-26 13:23:17,910 [INFO]  DaysBetweenFirstAndLastDate: 28\n",
      "2022-06-26 13:23:18,066 [INFO]  Query to Zendro GQL: query {\n",
      "  physical_devices(pagination: {limit: 0}, search: {field: comments, value: \"ADM24E4C30453E1BE08\", operator: like}) {\n",
      "    device_deploymentsFilter(pagination: {limit: 0}, search: {operator: and, search: [{field: date_deployment, value: \"2021-09-04\", valueType: String, operator: gte}, {field: date_deployment, value: \"2021-10-02\", valueType: String, operator: lte}]}) {\n",
      "      node {\n",
      "        nomenclatura\n",
      "        cat_integr\n",
      "        ecosystems {\n",
      "          name\n",
      "        }\n",
      "      }\n",
      "      cumulus {\n",
      "        name\n",
      "        geometry\n",
      "      }\n",
      "      date_deployment\n",
      "      latitude\n",
      "      longitude\n",
      "    }\n",
      "  }\n",
      "}\n",
      "2022-06-26 13:23:18,067 [INFO]  last query wasn't successful\n",
      "2022-06-26 13:23:18,201 [INFO]  Query alternative auxiliar to Zendro GQL: query {\n",
      "  physical_devices(pagination: {limit: 0}, search: {field: comments, value: \"ADM24E4C30453E1BE08\", operator: like}) {\n",
      "    device_deploymentsFilter(pagination: {limit: 0}) {\n",
      "      date_deployment\n",
      "    }\n",
      "  }\n",
      "}\n",
      "2022-06-26 13:23:18,204 [INFO]  list indices must be integers or slices, not NoneType\n",
      "2022-06-26 13:23:18,205 [INFO]  unsuccessful query query {\n",
      "  physical_devices(pagination: {limit: 0}, search: {field: comments, value: \"ADM24E4C30453E1BE08\", operator: like}) {\n",
      "    device_deploymentsFilter(pagination: {limit: 0}) {\n",
      "      date_deployment\n",
      "    }\n",
      "  }\n",
      "} or error when moving files to standard dir\n"
     ]
    }
   ],
   "source": [
    "%%bash\n",
    "dir_to_be_processed=\"/LUSTRE/sacmod/SIPECAM/testing_simex/audios_ultra\"\n",
    "file_for_logs=$(find \"$dir_to_be_processed\" -name 'logs_simex_move_files_to_standard_directory.logs')\n",
    "head -n 100 \"$file_for_logs\""
   ]
  },
  {
   "cell_type": "code",
   "execution_count": 38,
   "id": "51ad7b38-35f3-4cb6-bf67-1ce1e2f2f8e1",
   "metadata": {},
   "outputs": [
    {
     "name": "stderr",
     "output_type": "stream",
     "text": [
      "find: ‘’: No such file or directory\n",
      "usage: python -m json.tool [-h] [--sort-keys] [--json-lines]\n",
      "                           [infile] [outfile]\n",
      "python -m json.tool: error: argument infile: can't open '': [Errno 2] No such file or directory: ''\n"
     ]
    }
   ],
   "source": [
    "%%bash\n",
    "path_std_dir=\"/LUSTRE/sacmod/SIPECAM/testing_simex/sipecam_simex_std_dir\"\n",
    "dir_audios=$(find \"$path_std_dir\" -name \"24E4C30453E1BE08\")\n",
    "file=$(find \"$dir_audios\" -name \"*.json\")\n",
    "python3 -mjson.tool \"$file\"|head -n 100"
   ]
  },
  {
   "cell_type": "code",
   "execution_count": 39,
   "id": "3df0843a-8606-4d88-ab0a-6f700db48b24",
   "metadata": {},
   "outputs": [
    {
     "name": "stdout",
     "output_type": "stream",
     "text": [
      "/LUSTRE/sacmod/SIPECAM/testing_simex/sipecam_simex_std_dir/92/3_92_1_1334/HLPXGM09048594/2021-10-08/images_videos\n",
      "/LUSTRE/sacmod/SIPECAM/testing_simex/sipecam_simex_std_dir/92/3_92_0_1343/24E1440360371EA1/2021-10-09/audios/Audible\n"
     ]
    }
   ],
   "source": [
    "%%bash\n",
    "path_std_dir=\"/LUSTRE/sacmod/SIPECAM/testing_simex/sipecam_simex_std_dir\"\n",
    "txt_file=$(find \"$path_std_dir\" -name \"*.txt\")\n",
    "cat \"$txt_file\""
   ]
  },
  {
   "cell_type": "code",
   "execution_count": 40,
   "id": "45572385-ded0-4607-bb8c-bf41efb048e3",
   "metadata": {},
   "outputs": [],
   "source": [
    "%%bash\n",
    "rm /shared_volume/sipecam_files_to_extract_metadata_from_26-06-2022.txt\n",
    "rm /shared_volume/sipecam_subdirectories_26-06-2022.txt"
   ]
  },
  {
   "cell_type": "markdown",
   "id": "ce0a15c0-1d76-42b5-8322-8998c7148013",
   "metadata": {},
   "source": [
    "# Example of alternative query in move_files cli"
   ]
  },
  {
   "cell_type": "code",
   "execution_count": 1,
   "id": "c2efe43f-f881-4d62-97b7-298d22063f69",
   "metadata": {},
   "outputs": [],
   "source": [
    "import datetime\n",
    "from simex.utils.zendro import query_alternative_auxiliar_for_move_files_to_standard_directory, \\\n",
    "query_alternative_for_move_files_to_standard_directory"
   ]
  },
  {
   "cell_type": "code",
   "execution_count": null,
   "id": "0a23014a-15e4-4a8e-a644-a67a9d387c6d",
   "metadata": {},
   "outputs": [],
   "source": [
    "%%bash\n",
    "echo \"SIPECAM_ZENDRO_GQL_URL=https://gql.sipecamdata.conabio.gob.mx/\" > ~/.simex_env\n",
    "echo \"SIPECAM_ZENDRO_GQL_USER=<user>\" >> ~/.simex_env\n",
    "echo \"SIPECAM_ZENDRO_GQL_PASSWORD=<password>\" >> ~/.simex_env\n"
   ]
  },
  {
   "cell_type": "markdown",
   "id": "b4c403e4-6e67-44ee-bde5-6e7e6bc23fd4",
   "metadata": {},
   "source": [
    "`/LUSTRE/sacmod/SIPECAM/cumulo_92/primera_entrega/Mes 3/3_92_1_1334/09048594`"
   ]
  },
  {
   "cell_type": "code",
   "execution_count": 17,
   "id": "7062f2a1-ad49-4cc9-8c8f-90beea241ea4",
   "metadata": {},
   "outputs": [
    {
     "name": "stdout",
     "output_type": "stream",
     "text": [
      "query {\n",
      "  physical_devices(pagination: {limit: 0}, search: {field: serial_number, value: \"HLPXGM09048594\", operator: like}) {\n",
      "    device_deploymentsFilter(pagination: {limit: 0}) {\n",
      "      date_deployment\n",
      "    }\n",
      "  }\n",
      "}\n"
     ]
    }
   ],
   "source": [
    "first_date_str = \"2021-10-21\"\n",
    "second_date_str = \"2021-11-05\"\n",
    "serial_number = \"HLPXGM09048594\"\n",
    "file_type=\"image\"\n",
    "query_result, operation_sgqlc = query_alternative_auxiliar_for_move_files_to_standard_directory(serial_number,\n",
    "                                                                                                file_type)\n",
    "print(operation_sgqlc)\n",
    "device_deploymentsFilter_list = query_result[\"data\"][\"physical_devices\"][0][\"device_deploymentsFilter\"]\n",
    "format_string_data = \"%Y-%m-%d\"\n",
    "list_dates_device_deployment = [d[\"date_deployment\"].split('T')[0] for d in device_deploymentsFilter_list]\n",
    "list_datetimes_device_deployment = [datetime.datetime.strptime(d[\"date_deployment\"].split('T')[0],\n",
    "                                                               format_string_data) for d in device_deploymentsFilter_list]\n",
    "first_datetime  = datetime.datetime.strptime(first_date_str, format_string_data)\n",
    "second_datetime = datetime.datetime.strptime(second_date_str, format_string_data)\n"
   ]
  },
  {
   "cell_type": "code",
   "execution_count": 18,
   "id": "b7f314d3-e7f3-4148-a03a-5d1c30a570ef",
   "metadata": {},
   "outputs": [
    {
     "data": {
      "text/plain": [
       "[{'date_deployment': '2021-10-08T16:56:00.000Z'},\n",
       " {'date_deployment': '2021-11-13T15:50:00.000Z'},\n",
       " {'date_deployment': '2021-07-28T22:29:00.000Z'},\n",
       " {'date_deployment': '2021-12-18T15:58:00.000Z'},\n",
       " {'date_deployment': '2022-01-26T17:55:00.000Z'},\n",
       " {'date_deployment': '2022-03-05T16:06:00.000Z'},\n",
       " {'date_deployment': '2022-04-06T16:09:00.000Z'},\n",
       " {'date_deployment': '2022-05-14T14:10:00.000Z'}]"
      ]
     },
     "execution_count": 18,
     "metadata": {},
     "output_type": "execute_result"
    }
   ],
   "source": [
    "device_deploymentsFilter_list"
   ]
  },
  {
   "cell_type": "code",
   "execution_count": 19,
   "id": "07098943-8a2b-42e8-a288-de75dca430bf",
   "metadata": {},
   "outputs": [
    {
     "data": {
      "text/plain": [
       "[datetime.datetime(2021, 10, 8, 0, 0),\n",
       " datetime.datetime(2021, 11, 13, 0, 0),\n",
       " datetime.datetime(2021, 7, 28, 0, 0),\n",
       " datetime.datetime(2021, 12, 18, 0, 0),\n",
       " datetime.datetime(2022, 1, 26, 0, 0),\n",
       " datetime.datetime(2022, 3, 5, 0, 0),\n",
       " datetime.datetime(2022, 4, 6, 0, 0),\n",
       " datetime.datetime(2022, 5, 14, 0, 0)]"
      ]
     },
     "execution_count": 19,
     "metadata": {},
     "output_type": "execute_result"
    }
   ],
   "source": [
    "list_datetimes_device_deployment"
   ]
  },
  {
   "cell_type": "code",
   "execution_count": 20,
   "id": "963a32cd-75a0-4a05-a475-eb71be9986ad",
   "metadata": {},
   "outputs": [],
   "source": [
    "list_datetimes_device_deployment.sort()\n"
   ]
  },
  {
   "cell_type": "code",
   "execution_count": 21,
   "id": "1e01de50-769c-4cd1-974c-849f3429db9b",
   "metadata": {},
   "outputs": [
    {
     "data": {
      "text/plain": [
       "[datetime.datetime(2021, 7, 28, 0, 0),\n",
       " datetime.datetime(2021, 10, 8, 0, 0),\n",
       " datetime.datetime(2021, 11, 13, 0, 0),\n",
       " datetime.datetime(2021, 12, 18, 0, 0),\n",
       " datetime.datetime(2022, 1, 26, 0, 0),\n",
       " datetime.datetime(2022, 3, 5, 0, 0),\n",
       " datetime.datetime(2022, 4, 6, 0, 0),\n",
       " datetime.datetime(2022, 5, 14, 0, 0)]"
      ]
     },
     "execution_count": 21,
     "metadata": {},
     "output_type": "execute_result"
    }
   ],
   "source": [
    "list_datetimes_device_deployment"
   ]
  },
  {
   "cell_type": "code",
   "execution_count": 22,
   "id": "1ab5dff5-29e7-400e-b654-089d62cc03e5",
   "metadata": {},
   "outputs": [],
   "source": [
    "def get_date_of_device_deploymentsFilter_list(d):\n",
    "    return datetime.datetime.strptime(d[\"date_deployment\"].split('T')[0],\n",
    "                                      format_string_data)"
   ]
  },
  {
   "cell_type": "code",
   "execution_count": 23,
   "id": "1851d5d8-52af-4596-be6c-cf982a745c0c",
   "metadata": {},
   "outputs": [],
   "source": [
    "device_deploymentsFilter_list.sort(key=get_date_of_device_deploymentsFilter_list)"
   ]
  },
  {
   "cell_type": "code",
   "execution_count": 24,
   "id": "1a47fad9-506a-4b9a-a4d5-18266b51b36b",
   "metadata": {},
   "outputs": [
    {
     "data": {
      "text/plain": [
       "[{'date_deployment': '2021-07-28T22:29:00.000Z'},\n",
       " {'date_deployment': '2021-10-08T16:56:00.000Z'},\n",
       " {'date_deployment': '2021-11-13T15:50:00.000Z'},\n",
       " {'date_deployment': '2021-12-18T15:58:00.000Z'},\n",
       " {'date_deployment': '2022-01-26T17:55:00.000Z'},\n",
       " {'date_deployment': '2022-03-05T16:06:00.000Z'},\n",
       " {'date_deployment': '2022-04-06T16:09:00.000Z'},\n",
       " {'date_deployment': '2022-05-14T14:10:00.000Z'}]"
      ]
     },
     "execution_count": 24,
     "metadata": {},
     "output_type": "execute_result"
    }
   ],
   "source": [
    "device_deploymentsFilter_list"
   ]
  },
  {
   "cell_type": "code",
   "execution_count": 25,
   "id": "ba0dc96d-ddf9-4b8e-ae04-be9e31a38c21",
   "metadata": {},
   "outputs": [
    {
     "name": "stdout",
     "output_type": "stream",
     "text": [
      "2021-07-28 00:00:00\n",
      "2021-10-08 00:00:00\n",
      "2021-10-08 00:00:00\n",
      "2021-11-13 00:00:00\n"
     ]
    }
   ],
   "source": [
    "max_number_of_days = 60\n",
    "for k in range(len(list_datetimes_device_deployment) - 1):\n",
    "    datetime_device_deployment_1 = list_datetimes_device_deployment[k]\n",
    "    datetime_device_deployment_2 = list_datetimes_device_deployment[k+1]\n",
    "    diff_datetimes = second_datetime - datetime_device_deployment_1\n",
    "    diff_datetimes_days = diff_datetimes.days\n",
    "    print(datetime_device_deployment_1)\n",
    "    print(datetime_device_deployment_2)\n",
    "    if datetime_device_deployment_1 <= first_datetime and second_datetime <= datetime_device_deployment_2 and diff_datetimes_days <= max_number_of_days:\n",
    "        idx_date = k\n",
    "        break\n",
    "    else:\n",
    "        idx_date = None"
   ]
  },
  {
   "cell_type": "code",
   "execution_count": 26,
   "id": "c1f9c78b-a6b1-47df-9ca2-5963aa2b8df3",
   "metadata": {},
   "outputs": [
    {
     "data": {
      "text/plain": [
       "1"
      ]
     },
     "execution_count": 26,
     "metadata": {},
     "output_type": "execute_result"
    }
   ],
   "source": [
    "idx_date"
   ]
  },
  {
   "cell_type": "code",
   "execution_count": 27,
   "id": "dbc07207-f51d-492d-bb20-26f00c423880",
   "metadata": {},
   "outputs": [],
   "source": [
    "date_for_filter = device_deploymentsFilter_list[idx_date][\"date_deployment\"]"
   ]
  },
  {
   "cell_type": "code",
   "execution_count": 28,
   "id": "3b11cf53-8e8d-4a9c-b43e-88a4c9abea9a",
   "metadata": {},
   "outputs": [
    {
     "data": {
      "text/plain": [
       "'2021-10-08T16:56:00.000Z'"
      ]
     },
     "execution_count": 28,
     "metadata": {},
     "output_type": "execute_result"
    }
   ],
   "source": [
    "date_for_filter"
   ]
  },
  {
   "cell_type": "code",
   "execution_count": 29,
   "id": "d232cca3-f45b-43a1-a516-7a03dfe13926",
   "metadata": {},
   "outputs": [
    {
     "name": "stdout",
     "output_type": "stream",
     "text": [
      "query {\n",
      "  physical_devices(pagination: {limit: 0}, search: {field: serial_number, value: \"HLPXGM09048594\", operator: like}) {\n",
      "    device_deploymentsFilter(pagination: {limit: 0}, search: {field: date_deployment, value: \"2021-10-08T16:56:00.000Z\", operator: eq}) {\n",
      "      node {\n",
      "        nomenclatura\n",
      "        cat_integr\n",
      "        ecosystems {\n",
      "          name\n",
      "        }\n",
      "      }\n",
      "      cumulus {\n",
      "        name\n",
      "        geometry\n",
      "      }\n",
      "      date_deployment\n",
      "      latitude\n",
      "      longitude\n",
      "    }\n",
      "  }\n",
      "}\n"
     ]
    }
   ],
   "source": [
    "\n",
    "\n",
    "query_result, operation_sgqlc = query_alternative_for_move_files_to_standard_directory(serial_number,\n",
    "                                                                                       date_for_filter,\n",
    "                                                                                       file_type)\n",
    "device_deploymentsFilter_list = query_result[\"data\"][\"physical_devices\"][0][\"device_deploymentsFilter\"]\n",
    "print(operation_sgqlc)\n"
   ]
  },
  {
   "cell_type": "code",
   "execution_count": 30,
   "id": "a7578478-7ccb-44af-9284-ae74319904d7",
   "metadata": {},
   "outputs": [
    {
     "data": {
      "text/plain": [
       "[{'node': {'nomenclatura': '3_92_1_1334',\n",
       "   'cat_integr': 'Integro',\n",
       "   'ecosystems': {'name': 'Selvas humedas'}},\n",
       "  'cumulus': {'name': '92',\n",
       "   'geometry': {'type': 'Polygon',\n",
       "    'coordinates': [[[-90.809, 16.202],\n",
       "      [-90.890465, 16.249365],\n",
       "      [-90.936983, 16.252845],\n",
       "      [-90.940578, 16.20791],\n",
       "      [-90.94417, 16.162978],\n",
       "      [-90.894264, 16.103474],\n",
       "      [-90.811481, 16.109274],\n",
       "      [-90.809, 16.202]]]}},\n",
       "  'date_deployment': '2021-10-08T16:56:00.000Z',\n",
       "  'latitude': 16.264693,\n",
       "  'longitude': -90.9371013}]"
      ]
     },
     "execution_count": 30,
     "metadata": {},
     "output_type": "execute_result"
    }
   ],
   "source": [
    "device_deploymentsFilter_list"
   ]
  },
  {
   "cell_type": "markdown",
   "id": "e36e0774-1eac-4c5e-81f0-6ce683b6b05d",
   "metadata": {},
   "source": [
    "**Another example**"
   ]
  },
  {
   "cell_type": "markdown",
   "id": "85793b7e-7c99-4911-9820-71a9ef227995",
   "metadata": {},
   "source": [
    "`/LUSTRE/sacmod/SIPECAM/cumulo_92/primera_entrega/Mes 4/3_92_0_1341/3_92_0_1341_3/audio/Nueva carpeta`"
   ]
  },
  {
   "cell_type": "code",
   "execution_count": 31,
   "id": "6d68dd87-cc41-44d1-a460-71fede0b30aa",
   "metadata": {},
   "outputs": [
    {
     "name": "stdout",
     "output_type": "stream",
     "text": [
      "query {\n",
      "  physical_devices(pagination: {limit: 0}, search: {field: comments, value: \"ADM24E1440360371EA1\", operator: like}) {\n",
      "    device_deploymentsFilter(pagination: {limit: 0}) {\n",
      "      date_deployment\n",
      "    }\n",
      "  }\n",
      "}\n"
     ]
    }
   ],
   "source": [
    "first_date_str = \"2021-11-14\"\n",
    "second_date_str = \"2021-12-06\"\n",
    "serial_number = \"24E1440360371EA1\"\n",
    "file_type=\"audio\"\n",
    "query_result, operation_sgqlc = query_alternative_auxiliar_for_move_files_to_standard_directory(serial_number,\n",
    "                                                                                                file_type)\n",
    "print(operation_sgqlc)\n",
    "device_deploymentsFilter_list = query_result[\"data\"][\"physical_devices\"][0][\"device_deploymentsFilter\"]\n",
    "format_string_data = \"%Y-%m-%d\"\n",
    "list_dates_device_deployment = [d[\"date_deployment\"].split('T')[0] for d in device_deploymentsFilter_list]\n",
    "list_datetimes_device_deployment = [datetime.datetime.strptime(d[\"date_deployment\"].split('T')[0],\n",
    "                                                               format_string_data) for d in device_deploymentsFilter_list]\n",
    "first_datetime  = datetime.datetime.strptime(first_date_str, format_string_data)\n",
    "second_datetime = datetime.datetime.strptime(second_date_str, format_string_data)\n"
   ]
  },
  {
   "cell_type": "code",
   "execution_count": 32,
   "id": "6e8551b9-c532-4529-9880-93d912bd92f4",
   "metadata": {},
   "outputs": [
    {
     "data": {
      "text/plain": [
       "[{'date_deployment': '2021-10-09T14:56:00.000Z'},\n",
       " {'date_deployment': '2021-12-19T16:05:00.000Z'}]"
      ]
     },
     "execution_count": 32,
     "metadata": {},
     "output_type": "execute_result"
    }
   ],
   "source": [
    "device_deploymentsFilter_list"
   ]
  },
  {
   "cell_type": "code",
   "execution_count": 33,
   "id": "c2346e93-90e3-41cc-a5c1-b8ede0f632d4",
   "metadata": {},
   "outputs": [
    {
     "data": {
      "text/plain": [
       "[datetime.datetime(2021, 10, 9, 0, 0), datetime.datetime(2021, 12, 19, 0, 0)]"
      ]
     },
     "execution_count": 33,
     "metadata": {},
     "output_type": "execute_result"
    }
   ],
   "source": [
    "list_datetimes_device_deployment"
   ]
  },
  {
   "cell_type": "code",
   "execution_count": 34,
   "id": "ede02ad5-88b4-4908-b851-395f2e3d1af4",
   "metadata": {},
   "outputs": [],
   "source": [
    "list_datetimes_device_deployment.sort()\n"
   ]
  },
  {
   "cell_type": "code",
   "execution_count": 35,
   "id": "b8346ddf-1578-4d02-a55d-bce2a7b0133e",
   "metadata": {},
   "outputs": [
    {
     "data": {
      "text/plain": [
       "[datetime.datetime(2021, 10, 9, 0, 0), datetime.datetime(2021, 12, 19, 0, 0)]"
      ]
     },
     "execution_count": 35,
     "metadata": {},
     "output_type": "execute_result"
    }
   ],
   "source": [
    "list_datetimes_device_deployment"
   ]
  },
  {
   "cell_type": "code",
   "execution_count": 36,
   "id": "538d24ef-7257-4134-a84e-a77d8b754b73",
   "metadata": {},
   "outputs": [],
   "source": [
    "def get_date_of_device_deploymentsFilter_list(d):\n",
    "    return datetime.datetime.strptime(d[\"date_deployment\"].split('T')[0],\n",
    "                                      format_string_data)"
   ]
  },
  {
   "cell_type": "code",
   "execution_count": 37,
   "id": "911bc55e-5142-4984-b14a-469577278857",
   "metadata": {},
   "outputs": [],
   "source": [
    "device_deploymentsFilter_list.sort(key=get_date_of_device_deploymentsFilter_list)"
   ]
  },
  {
   "cell_type": "code",
   "execution_count": 38,
   "id": "493bc722-8469-40b8-b591-ca1d5928f9df",
   "metadata": {},
   "outputs": [
    {
     "data": {
      "text/plain": [
       "[{'date_deployment': '2021-10-09T14:56:00.000Z'},\n",
       " {'date_deployment': '2021-12-19T16:05:00.000Z'}]"
      ]
     },
     "execution_count": 38,
     "metadata": {},
     "output_type": "execute_result"
    }
   ],
   "source": [
    "device_deploymentsFilter_list"
   ]
  },
  {
   "cell_type": "code",
   "execution_count": 39,
   "id": "847e41c5-85cf-4e65-81ad-1f13411b19a0",
   "metadata": {},
   "outputs": [
    {
     "name": "stdout",
     "output_type": "stream",
     "text": [
      "2021-10-09 00:00:00\n",
      "2021-12-19 00:00:00\n",
      "58\n"
     ]
    }
   ],
   "source": [
    "max_number_of_days = 60\n",
    "for k in range(len(list_datetimes_device_deployment) - 1):\n",
    "    datetime_device_deployment_1 = list_datetimes_device_deployment[k]\n",
    "    datetime_device_deployment_2 = list_datetimes_device_deployment[k+1]\n",
    "    diff_datetimes = second_datetime - datetime_device_deployment_1\n",
    "    diff_datetimes_days = diff_datetimes.days\n",
    "    print(datetime_device_deployment_1)\n",
    "    print(datetime_device_deployment_2)\n",
    "    print(diff_datetimes_days)\n",
    "    if datetime_device_deployment_1 <= first_datetime and second_datetime <= datetime_device_deployment_2 and diff_datetimes_days <= max_number_of_days:\n",
    "        idx_date = k\n",
    "        break\n",
    "    else:\n",
    "        idx_date = None"
   ]
  },
  {
   "cell_type": "code",
   "execution_count": 40,
   "id": "6d2f623d-d457-4161-8d21-dd69a471f4ba",
   "metadata": {},
   "outputs": [
    {
     "data": {
      "text/plain": [
       "0"
      ]
     },
     "execution_count": 40,
     "metadata": {},
     "output_type": "execute_result"
    }
   ],
   "source": [
    "idx_date"
   ]
  },
  {
   "cell_type": "code",
   "execution_count": 41,
   "id": "c19d26ec-26d1-43b7-a023-67a0bc59574d",
   "metadata": {},
   "outputs": [],
   "source": [
    "date_for_filter = device_deploymentsFilter_list[idx_date][\"date_deployment\"]"
   ]
  },
  {
   "cell_type": "code",
   "execution_count": 42,
   "id": "018950e6-b003-4ab4-8128-e3cf6aba0597",
   "metadata": {},
   "outputs": [
    {
     "data": {
      "text/plain": [
       "'2021-10-09T14:56:00.000Z'"
      ]
     },
     "execution_count": 42,
     "metadata": {},
     "output_type": "execute_result"
    }
   ],
   "source": [
    "date_for_filter"
   ]
  },
  {
   "cell_type": "code",
   "execution_count": 43,
   "id": "7021f719-e3d2-4035-89bc-a3443f62fb53",
   "metadata": {},
   "outputs": [
    {
     "name": "stdout",
     "output_type": "stream",
     "text": [
      "query {\n",
      "  physical_devices(pagination: {limit: 0}, search: {field: comments, value: \"ADM24E1440360371EA1\", operator: like}) {\n",
      "    device_deploymentsFilter(pagination: {limit: 0}, search: {field: date_deployment, value: \"2021-10-09T14:56:00.000Z\", operator: eq}) {\n",
      "      node {\n",
      "        nomenclatura\n",
      "        cat_integr\n",
      "        ecosystems {\n",
      "          name\n",
      "        }\n",
      "      }\n",
      "      cumulus {\n",
      "        name\n",
      "        geometry\n",
      "      }\n",
      "      date_deployment\n",
      "      latitude\n",
      "      longitude\n",
      "    }\n",
      "  }\n",
      "}\n"
     ]
    }
   ],
   "source": [
    "\n",
    "\n",
    "query_result, operation_sgqlc = query_alternative_for_move_files_to_standard_directory(serial_number,\n",
    "                                                                                       date_for_filter,\n",
    "                                                                                       file_type)\n",
    "device_deploymentsFilter_list = query_result[\"data\"][\"physical_devices\"][0][\"device_deploymentsFilter\"]\n",
    "print(operation_sgqlc)\n"
   ]
  },
  {
   "cell_type": "code",
   "execution_count": 44,
   "id": "1df1eab5-b3dd-4269-93e8-bc66c9ce4b00",
   "metadata": {},
   "outputs": [
    {
     "data": {
      "text/plain": [
       "[{'node': {'nomenclatura': '3_92_0_1343',\n",
       "   'cat_integr': 'Degradado',\n",
       "   'ecosystems': {'name': 'Selvas humedas'}},\n",
       "  'cumulus': {'name': '92',\n",
       "   'geometry': {'type': 'Polygon',\n",
       "    'coordinates': [[[-90.809, 16.202],\n",
       "      [-90.890465, 16.249365],\n",
       "      [-90.936983, 16.252845],\n",
       "      [-90.940578, 16.20791],\n",
       "      [-90.94417, 16.162978],\n",
       "      [-90.894264, 16.103474],\n",
       "      [-90.811481, 16.109274],\n",
       "      [-90.809, 16.202]]]}},\n",
       "  'date_deployment': '2021-10-09T14:56:00.000Z',\n",
       "  'latitude': 16.1087878,\n",
       "  'longitude': -90.9012417}]"
      ]
     },
     "execution_count": 44,
     "metadata": {},
     "output_type": "execute_result"
    }
   ],
   "source": [
    "device_deploymentsFilter_list"
   ]
  },
  {
   "cell_type": "markdown",
   "id": "54c394b7-2d49-4f57-ad68-47ca51cfdeef",
   "metadata": {
    "tags": []
   },
   "source": [
    "# (Deprecated) Extract metadata and ingest it"
   ]
  },
  {
   "cell_type": "code",
   "execution_count": 12,
   "id": "30d5bc01-2c33-4897-b5a7-426ef64e9dcb",
   "metadata": {},
   "outputs": [],
   "source": [
    "%%bash\n",
    "file_to_be_processed=\"/LUSTRE/sacmod/SIPECAM/Entregas_2021/octubre_2021/SIPECAM/Playon 1338/Camaras/1338_1/100RECNX/RCNX0049.JPG\"\n",
    "extract_metadata_and_ingest_it --input_file \"$file_to_be_processed\""
   ]
  },
  {
   "cell_type": "code",
   "execution_count": 13,
   "id": "4d2b0873-2d07-4220-bb3a-8f7252aca304",
   "metadata": {},
   "outputs": [],
   "source": [
    "%%bash\n",
    "file_to_be_processed=\"/LUSTRE/sacmod/SIPECAM/Entregas_2021/octubre_2021/SIPECAM/Playon 1338/Camaras/1338_1/100RECNX/RCNX0012.AVI\"\n",
    "extract_metadata_and_ingest_it --input_file \"$file_to_be_processed\""
   ]
  },
  {
   "cell_type": "code",
   "execution_count": 14,
   "id": "a43aa386-b77f-44ba-8f32-63e6be7b3076",
   "metadata": {},
   "outputs": [],
   "source": [
    "%%bash\n",
    "file_to_be_processed=\"/LUSTRE/sacmod/SIPECAM/Entregas_2021/octubre_2021/SIPECAM/Playon 1338/Audio/1338_1/Ultrasonico/20210806_044000.WAV\"\n",
    "extract_metadata_and_ingest_it --input_file \"$file_to_be_processed\""
   ]
  },
  {
   "cell_type": "markdown",
   "id": "02f37f58-0240-4ddb-b232-a5828cb625cc",
   "metadata": {
    "tags": []
   },
   "source": [
    "## Check"
   ]
  },
  {
   "cell_type": "code",
   "execution_count": 15,
   "id": "3c9ae9ae-f57d-4372-a9cd-1cfa54e3617e",
   "metadata": {},
   "outputs": [
    {
     "name": "stdout",
     "output_type": "stream",
     "text": [
      "2021-12-15 11:35:34,559 [INFO]  extraction of metadata and ingestion of /LUSTRE/sacmod/SIPECAM/Entregas_2021/octubre_2021/SIPECAM/Playon 1338/Camaras/1338_1/100RECNX/RCNX0049.JPG\n",
      "2021-12-15 11:35:34,561 [INFO]  Read metadata of JPG\n",
      "2021-12-15 11:35:34,561 [INFO]  {}\n",
      "2021-12-15 11:35:34,561 [INFO]  Getting node nomenclature and cumulus name from zendro\n",
      "2021-12-15 11:35:34,562 [INFO]  Copying file to 3/1_3_1_28/2021-10-01/JPG\n"
     ]
    }
   ],
   "source": [
    "%%bash\n",
    "file_to_be_processed=\"/LUSTRE/sacmod/SIPECAM/Entregas_2021/octubre_2021/SIPECAM/Playon 1338/Camaras/1338_1/100RECNX/RCNX0049.JPG\"\n",
    "dirname_file_to_be_processed=$(dirname \"$file_to_be_processed\")\n",
    "dir_for_logs=$(find \"$dirname_file_to_be_processed\" -name 'logs_simex_extract_metadata_and_ingest')\n",
    "filename_to_be_processed=$(basename \"$file_to_be_processed\")\n",
    "cat \"$dir_for_logs/$filename_to_be_processed.logs\""
   ]
  },
  {
   "cell_type": "code",
   "execution_count": 16,
   "id": "24c63ae4-1eb0-4d4c-bbf0-6c2fbe925dc2",
   "metadata": {},
   "outputs": [
    {
     "name": "stdout",
     "output_type": "stream",
     "text": [
      "2021-12-15 11:35:35,463 [INFO]  extraction of metadata and ingestion of /LUSTRE/sacmod/SIPECAM/Entregas_2021/octubre_2021/SIPECAM/Playon 1338/Camaras/1338_1/100RECNX/RCNX0012.AVI\n",
      "2021-12-15 11:35:35,465 [INFO]  Read metadata of AVI\n",
      "2021-12-15 11:35:35,465 [INFO]  {}\n",
      "2021-12-15 11:35:35,465 [INFO]  Getting node nomenclature and cumulus name from zendro\n",
      "2021-12-15 11:35:35,465 [INFO]  Copying file to 3/1_3_1_28/2021-10-01/AVI\n"
     ]
    }
   ],
   "source": [
    "%%bash\n",
    "file_to_be_processed=\"/LUSTRE/sacmod/SIPECAM/Entregas_2021/octubre_2021/SIPECAM/Playon 1338/Camaras/1338_1/100RECNX/RCNX0012.AVI\"\n",
    "dirname_file_to_be_processed=$(dirname \"$file_to_be_processed\")\n",
    "dir_for_logs=$(find \"$dirname_file_to_be_processed\" -name 'logs_simex_extract_metadata_and_ingest')\n",
    "filename_to_be_processed=$(basename \"$file_to_be_processed\")\n",
    "cat \"$dir_for_logs/$filename_to_be_processed.logs\""
   ]
  },
  {
   "cell_type": "code",
   "execution_count": 17,
   "id": "6750bee5-bb0d-4544-b791-8cab897fb8a1",
   "metadata": {},
   "outputs": [
    {
     "name": "stdout",
     "output_type": "stream",
     "text": [
      "2021-12-15 11:35:35,910 [INFO]  extraction of metadata and ingestion of /LUSTRE/sacmod/SIPECAM/Entregas_2021/octubre_2021/SIPECAM/Playon 1338/Audio/1338_1/Ultrasonico/20210806_044000.WAV\n",
      "2021-12-15 11:35:35,912 [INFO]  Read metadata of WAV\n",
      "2021-12-15 11:35:35,912 [INFO]  {}\n",
      "2021-12-15 11:35:35,912 [INFO]  Getting node nomenclature and cumulus name from zendro\n",
      "2021-12-15 11:35:35,912 [INFO]  Copying file to 3/1_3_1_28/2021-10-01/WAV\n"
     ]
    }
   ],
   "source": [
    "%%bash\n",
    "file_to_be_processed=\"/LUSTRE/sacmod/SIPECAM/Entregas_2021/octubre_2021/SIPECAM/Playon 1338/Audio/1338_1/Ultrasonico/20210806_044000.WAV\"\n",
    "dirname_file_to_be_processed=$(dirname \"$file_to_be_processed\")\n",
    "dir_for_logs=$(find \"$dirname_file_to_be_processed\" -name 'logs_simex_extract_metadata_and_ingest')\n",
    "filename_to_be_processed=$(basename \"$file_to_be_processed\")\n",
    "cat \"$dir_for_logs/$filename_to_be_processed.logs\""
   ]
  }
 ],
 "metadata": {
  "kernelspec": {
   "display_name": "Python 3 (ipykernel)",
   "language": "python",
   "name": "python3"
  },
  "language_info": {
   "codemirror_mode": {
    "name": "ipython",
    "version": 3
   },
   "file_extension": ".py",
   "mimetype": "text/x-python",
   "name": "python",
   "nbconvert_exporter": "python",
   "pygments_lexer": "ipython3",
   "version": "3.8.10"
  }
 },
 "nbformat": 4,
 "nbformat_minor": 5
}
