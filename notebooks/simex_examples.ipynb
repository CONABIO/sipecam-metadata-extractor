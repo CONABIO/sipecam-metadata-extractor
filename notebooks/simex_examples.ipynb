{
 "cells": [
  {
   "cell_type": "markdown",
   "id": "55fbee2a-d46a-4c53-80fd-5e9d399e09d4",
   "metadata": {},
   "source": [
    "# Install `simex`"
   ]
  },
  {
   "cell_type": "code",
   "execution_count": 1,
   "id": "156d8c5a-0bbf-4da0-9907-39c89199702e",
   "metadata": {},
   "outputs": [
    {
     "name": "stderr",
     "output_type": "stream",
     "text": [
      "WARNING: Running pip as the 'root' user can result in broken permissions and conflicting behaviour with the system package manager. It is recommended to use a virtual environment instead: https://pip.pypa.io/warnings/venv\n",
      "WARNING: You are using pip version 21.2.4; however, version 21.3.1 is available.\n",
      "You should consider upgrading via the '/usr/bin/python3 -m pip install --upgrade pip' command.\n"
     ]
    }
   ],
   "source": [
    "%%bash\n",
    "#clone repo of `sipecam-metadata-extactor` in server\n",
    "#git clone git@github.com:CONABIO/sipecam-metadata-extractor.git ~/\n",
    "cd ../src\n",
    "#install in editable mode\n",
    "pip install -q -e ."
   ]
  },
  {
   "cell_type": "markdown",
   "id": "18dafca7-40c5-4561-9882-585adc102e64",
   "metadata": {
    "tags": []
   },
   "source": [
    "# List of files to extract metadata"
   ]
  },
  {
   "cell_type": "code",
   "execution_count": 47,
   "id": "bb5da31e-cd09-498c-bea1-1874e7a3bcf8",
   "metadata": {},
   "outputs": [],
   "source": [
    "%%bash\n",
    "dir_with_sipecam_data=/LUSTRE/sacmod/SIPECAM/Entregas_2021/octubre_2021/SIPECAM\n",
    "list_of_files_and_subdirectories_to_extract_metadata --input_directory $dir_with_sipecam_data"
   ]
  },
  {
   "cell_type": "markdown",
   "id": "dd1ec9c2-9ccd-4466-a001-d1a2cb0a3481",
   "metadata": {
    "tags": []
   },
   "source": [
    "## Check"
   ]
  },
  {
   "cell_type": "code",
   "execution_count": 48,
   "id": "c6af410f-441d-4677-90cc-a68d96f88591",
   "metadata": {},
   "outputs": [
    {
     "name": "stdout",
     "output_type": "stream",
     "text": [
      "-rw-r--r-- 1 root root 3.2M Dec 16 16:36 /shared_volume/sipecam_files_to_extract_metadata_from_16-12-2021.txt\n"
     ]
    }
   ],
   "source": [
    "%%bash\n",
    "ls -lh /shared_volume/sipecam_files_to_extract_metadata_from_*"
   ]
  },
  {
   "cell_type": "code",
   "execution_count": 49,
   "id": "3bf2a60c-641e-4e26-b3e3-2d7db80d5ccb",
   "metadata": {},
   "outputs": [
    {
     "name": "stdout",
     "output_type": "stream",
     "text": [
      "-rw-r--r-- 1 root root 1.8K Dec 16 16:36 /shared_volume/sipecam_subdirectories_16-12-2021.txt\n"
     ]
    }
   ],
   "source": [
    "%%bash\n",
    "ls -lh /shared_volume/sipecam_subdirectories_*"
   ]
  },
  {
   "cell_type": "code",
   "execution_count": 50,
   "id": "38b883ef-65eb-4dd9-9fb4-8c2ad55cf876",
   "metadata": {},
   "outputs": [
    {
     "name": "stdout",
     "output_type": "stream",
     "text": [
      "29079 /shared_volume/sipecam_files_to_extract_metadata_from_16-12-2021.txt\n"
     ]
    }
   ],
   "source": [
    "%%bash\n",
    "wc -l /shared_volume/sipecam_files_to_extract_metadata_from_*"
   ]
  },
  {
   "cell_type": "code",
   "execution_count": 51,
   "id": "dacd790d-59cb-414f-99e3-19a2cd943e20",
   "metadata": {},
   "outputs": [
    {
     "name": "stdout",
     "output_type": "stream",
     "text": [
      "20 /shared_volume/sipecam_subdirectories_16-12-2021.txt\n"
     ]
    }
   ],
   "source": [
    "%%bash\n",
    "wc -l /shared_volume/sipecam_subdirectories_*"
   ]
  },
  {
   "cell_type": "code",
   "execution_count": 52,
   "id": "316248c8-d910-47e2-91c8-fb32d64766a3",
   "metadata": {},
   "outputs": [
    {
     "name": "stdout",
     "output_type": "stream",
     "text": [
      "/LUSTRE/sacmod/SIPECAM/Entregas_2021/octubre_2021/SIPECAM/Playon 1338/Audio/1338_1/Ultrasonico\n",
      "20210728_180000.WAV\n",
      "/LUSTRE/sacmod/SIPECAM/Entregas_2021/octubre_2021/SIPECAM/Playon 1338/Audio/1338_1/Audible\n",
      "20210728_093000.WAV\n",
      "/LUSTRE/sacmod/SIPECAM/Entregas_2021/octubre_2021/SIPECAM/Playon 1338/Audio/1338_2/Ultrasonico\n",
      "20210728_180000.WAV\n",
      "/LUSTRE/sacmod/SIPECAM/Entregas_2021/octubre_2021/SIPECAM/Playon 1338/Audio/1338_2/Audible\n",
      "20210728_105000.WAV\n",
      "/LUSTRE/sacmod/SIPECAM/Entregas_2021/octubre_2021/SIPECAM/Playon 1338/Audio/1338_3/Nueva carpeta/Unidad de USB\n",
      "20210728_141000.WAV\n",
      "/LUSTRE/sacmod/SIPECAM/Entregas_2021/octubre_2021/SIPECAM/Galacia 1339/1339_2/Audio/Ultrasonico\n",
      "20210729_102000.WAV\n",
      "/LUSTRE/sacmod/SIPECAM/Entregas_2021/octubre_2021/SIPECAM/Galacia 1339/1339_2/Audio/Audible\n",
      "20210729_180000.WAV\n",
      "/LUSTRE/sacmod/SIPECAM/Entregas_2021/octubre_2021/SIPECAM/Galacia 1339/1339_4/Audible\n",
      "20210729_133000.WAV\n",
      "/LUSTRE/sacmod/SIPECAM/Entregas_2021/octubre_2021/SIPECAM/Galacia 1339/1339_1/Audio\n",
      "20210729_090000.WAV\n",
      "/LUSTRE/sacmod/SIPECAM/Entregas_2021/octubre_2021/SIPECAM/Galacia 1339/1339_1/Audio/Ultrasonico\n",
      "20210729_180000.WAV\n",
      "/LUSTRE/sacmod/SIPECAM/Entregas_2021/octubre_2021/SIPECAM/Playon 1338/Camaras/1338_1/100RECNX\n",
      "RCNX0001.JPG\n",
      "/LUSTRE/sacmod/SIPECAM/Entregas_2021/octubre_2021/SIPECAM/Playon 1338/Camaras/1338_2/100RECNX\n",
      "RCNX0001.JPG\n",
      "/LUSTRE/sacmod/SIPECAM/Entregas_2021/octubre_2021/SIPECAM/Playon 1338/Camaras/1338_3/100RECNX\n",
      "RCNX0001.JPG\n",
      "/LUSTRE/sacmod/SIPECAM/Entregas_2021/octubre_2021/SIPECAM/Playon 1338/Camaras/1338_5\n",
      "RCNX0001.JPG\n",
      "/LUSTRE/sacmod/SIPECAM/Entregas_2021/octubre_2021/SIPECAM/Playon 1338/Camaras/1338_4/100RECNX\n",
      "RCNX0001.JPG\n",
      "/LUSTRE/sacmod/SIPECAM/Entregas_2021/octubre_2021/SIPECAM/Galacia 1339/1339_3/100RECNX\n",
      "RCNX0001.JPG\n",
      "/LUSTRE/sacmod/SIPECAM/Entregas_2021/octubre_2021/SIPECAM/Galacia 1339/1339_2/Cámaras\n",
      "RCNX0001.JPG\n",
      "/LUSTRE/sacmod/SIPECAM/Entregas_2021/octubre_2021/SIPECAM/Galacia 1339/1339_5/100RECNX\n",
      "RCNX0001.JPG\n",
      "/LUSTRE/sacmod/SIPECAM/Entregas_2021/octubre_2021/SIPECAM/Galacia 1339/1339_4\n",
      "RCNX0001.JPG\n",
      "/LUSTRE/sacmod/SIPECAM/Entregas_2021/octubre_2021/SIPECAM/Galacia 1339/1339_1/Camaras\n",
      "RCNX0001.JPG\n"
     ]
    }
   ],
   "source": [
    "%%bash\n",
    "#check every first subdirectory has a JPG, WAV or AVI file\n",
    "SAVEIFS=$IFS;IFS=$(echo -en \"\\n\\b\")\n",
    "for f in $(cat /shared_volume/sipecam_subdirectories_*.txt)\n",
    "  do echo \"$f\"\n",
    "     ls \"$f\"|grep \"[WAV|wav|JPG|jpg|AVI|avi]$\"|head -n 1\n",
    "done\n",
    "IFS=$SAVEIFS"
   ]
  },
  {
   "cell_type": "markdown",
   "id": "4f2c42e2-7efb-4e4a-80bc-7e5d3e7c14ec",
   "metadata": {
    "tags": []
   },
   "source": [
    "# Extract serial number and coordinates"
   ]
  },
  {
   "cell_type": "code",
   "execution_count": 67,
   "id": "52e023dc-4598-480f-8724-796b741e18da",
   "metadata": {},
   "outputs": [],
   "source": [
    "%%bash\n",
    "dir_to_be_processed=\"/LUSTRE/sacmod/SIPECAM/Entregas_2021/octubre_2021/SIPECAM/Playon 1338/Camaras/1338_1/100RECNX/\"\n",
    "extract_serial_number_and_coordinates_of_file --input_dir \"$dir_to_be_processed\""
   ]
  },
  {
   "cell_type": "markdown",
   "id": "68a7ed05-27fe-4da1-b656-b976c81521a1",
   "metadata": {
    "tags": []
   },
   "source": [
    "## Check"
   ]
  },
  {
   "cell_type": "code",
   "execution_count": 68,
   "id": "5dbf22ce-ac08-4329-a2b1-9dc158da367a",
   "metadata": {},
   "outputs": [
    {
     "name": "stdout",
     "output_type": "stream",
     "text": [
      "2021-12-16 16:58:27,394 [INFO]  extraction of serial number and coordinates\n",
      "2021-12-16 16:58:27,396 [INFO]  logs in /LUSTRE/sacmod/SIPECAM/Entregas_2021/octubre_2021/SIPECAM/Playon 1338/Camaras/1338_1/100RECNX/100RECNX_simex_extract_serial_numbers_and_coordinates.json\n"
     ]
    }
   ],
   "source": [
    "%%bash\n",
    "dir_to_be_processed=\"/LUSTRE/sacmod/SIPECAM/Entregas_2021/octubre_2021/SIPECAM/Playon 1338/Camaras/1338_1/100RECNX/\"\n",
    "file_for_logs=$(find \"$dir_to_be_processed\" -name 'logs_simex_extract_serial_numbers_and_coordinates.logs')\n",
    "cat \"$file_for_logs\""
   ]
  },
  {
   "cell_type": "code",
   "execution_count": 71,
   "id": "044647c7-44f2-4c7c-9808-01ece2958fcc",
   "metadata": {},
   "outputs": [
    {
     "name": "stdout",
     "output_type": "stream",
     "text": [
      "{\n",
      "    \"SerialNumber\": {\n",
      "        \"/LUSTRE/sacmod/SIPECAM/Entregas_2021/octubre_2021/SIPECAM/Playon 1338/Camaras/1338_1/100RECNX/RCNX0049.JPG\": \"\",\n",
      "        \"/LUSTRE/sacmod/SIPECAM/Entregas_2021/octubre_2021/SIPECAM/Playon 1338/Camaras/1338_1/100RECNX/RCNX0055.JPG\": \"\",\n",
      "        \"/LUSTRE/sacmod/SIPECAM/Entregas_2021/octubre_2021/SIPECAM/Playon 1338/Camaras/1338_1/100RECNX/RCNX0004.JPG\": \"\",\n",
      "        \"/LUSTRE/sacmod/SIPECAM/Entregas_2021/octubre_2021/SIPECAM/Playon 1338/Camaras/1338_1/100RECNX/RCNX0062.JPG\": \"\",\n",
      "        \"/LUSTRE/sacmod/SIPECAM/Entregas_2021/octubre_2021/SIPECAM/Playon 1338/Camaras/1338_1/100RECNX/RCNX0029.JPG\": \"\",\n",
      "        \"/LUSTRE/sacmod/SIPECAM/Entregas_2021/octubre_2021/SIPECAM/Playon 1338/Camaras/1338_1/100RECNX/RCNX0067.JPG\": \"\",\n",
      "        \"/LUSTRE/sacmod/SIPECAM/Entregas_2021/octubre_2021/SIPECAM/Playon 1338/Camaras/1338_1/100RECNX/RCNX0065.JPG\": \"\",\n",
      "        \"/LUSTRE/sacmod/SIPECAM/Entregas_2021/octubre_2021/SIPECAM/Playon 1338/Camaras/1338_1/100RECNX/RCNX0068.JPG\": \"\",\n",
      "        \"/LUSTRE/sacmod/SIPECAM/Entregas_2021/octubre_2021/SIPECAM/Playon 1338/Camaras/1338_1/100RECNX/RCNX0053.JPG\": \"\",\n",
      "        \"/LUSTRE/sacmod/SIPECAM/Entregas_2021/octubre_2021/SIPECAM/Playon 1338/Camaras/1338_1/100RECNX/RCNX0040.JPG\": \"\",\n",
      "        \"/LUSTRE/sacmod/SIPECAM/Entregas_2021/octubre_2021/SIPECAM/Playon 1338/Camaras/1338_1/100RECNX/RCNX0046.JPG\": \"\",\n",
      "        \"/LUSTRE/sacmod/SIPECAM/Entregas_2021/octubre_2021/SIPECAM/Playon 1338/Camaras/1338_1/100RECNX/RCNX0011.JPG\": \"\",\n",
      "        \"/LUSTRE/sacmod/SIPECAM/Entregas_2021/octubre_2021/SIPECAM/Playon 1338/Camaras/1338_1/100RECNX/RCNX0022.JPG\": \"\",\n",
      "        \"/LUSTRE/sacmod/SIPECAM/Entregas_2021/octubre_2021/SIPECAM/Playon 1338/Camaras/1338_1/100RECNX/RCNX0019.JPG\": \"\",\n",
      "        \"/LUSTRE/sacmod/SIPECAM/Entregas_2021/octubre_2021/SIPECAM/Playon 1338/Camaras/1338_1/100RECNX/RCNX0025.JPG\": \"\",\n",
      "        \"/LUSTRE/sacmod/SIPECAM/Entregas_2021/octubre_2021/SIPECAM/Playon 1338/Camaras/1338_1/100RECNX/RCNX0043.JPG\": \"\",\n",
      "        \"/LUSTRE/sacmod/SIPECAM/Entregas_2021/octubre_2021/SIPECAM/Playon 1338/Camaras/1338_1/100RECNX/RCNX0013.JPG\": \"\",\n",
      "        \"/LUSTRE/sacmod/SIPECAM/Entregas_2021/octubre_2021/SIPECAM/Playon 1338/Camaras/1338_1/100RECNX/RCNX0058.JPG\": \"\",\n",
      "        \"/LUSTRE/sacmod/SIPECAM/Entregas_2021/octubre_2021/SIPECAM/Playon 1338/Camaras/1338_1/100RECNX/RCNX0071.JPG\": \"\",\n",
      "        \"/LUSTRE/sacmod/SIPECAM/Entregas_2021/octubre_2021/SIPECAM/Playon 1338/Camaras/1338_1/100RECNX/RCNX0028.JPG\": \"\",\n",
      "        \"/LUSTRE/sacmod/SIPECAM/Entregas_2021/octubre_2021/SIPECAM/Playon 1338/Camaras/1338_1/100RECNX/RCNX0023.JPG\": \"\",\n",
      "        \"/LUSTRE/sacmod/SIPECAM/Entregas_2021/octubre_2021/SIPECAM/Playon 1338/Camaras/1338_1/100RECNX/RCNX0059.JPG\": \"\",\n",
      "        \"/LUSTRE/sacmod/SIPECAM/Entregas_2021/octubre_2021/SIPECAM/Playon 1338/Camaras/1338_1/100RECNX/RCNX0070.JPG\": \"\",\n",
      "        \"/LUSTRE/sacmod/SIPECAM/Entregas_2021/octubre_2021/SIPECAM/Playon 1338/Camaras/1338_1/100RECNX/RCNX0061.JPG\": \"\",\n",
      "        \"/LUSTRE/sacmod/SIPECAM/Entregas_2021/octubre_2021/SIPECAM/Playon 1338/Camaras/1338_1/100RECNX/RCNX0014.JPG\": \"\",\n",
      "        \"/LUSTRE/sacmod/SIPECAM/Entregas_2021/octubre_2021/SIPECAM/Playon 1338/Camaras/1338_1/100RECNX/RCNX0031.JPG\": \"\",\n",
      "        \"/LUSTRE/sacmod/SIPECAM/Entregas_2021/octubre_2021/SIPECAM/Playon 1338/Camaras/1338_1/100RECNX/RCNX0026.JPG\": \"\",\n",
      "        \"/LUSTRE/sacmod/SIPECAM/Entregas_2021/octubre_2021/SIPECAM/Playon 1338/Camaras/1338_1/100RECNX/RCNX0005.JPG\": \"\",\n",
      "        \"/LUSTRE/sacmod/SIPECAM/Entregas_2021/octubre_2021/SIPECAM/Playon 1338/Camaras/1338_1/100RECNX/RCNX0035.JPG\": \"\",\n",
      "        \"/LUSTRE/sacmod/SIPECAM/Entregas_2021/octubre_2021/SIPECAM/Playon 1338/Camaras/1338_1/100RECNX/RCNX0016.JPG\": \"\",\n",
      "        \"/LUSTRE/sacmod/SIPECAM/Entregas_2021/octubre_2021/SIPECAM/Playon 1338/Camaras/1338_1/100RECNX/RCNX0037.JPG\": \"\",\n",
      "        \"/LUSTRE/sacmod/SIPECAM/Entregas_2021/octubre_2021/SIPECAM/Playon 1338/Camaras/1338_1/100RECNX/RCNX0056.JPG\": \"\",\n",
      "        \"/LUSTRE/sacmod/SIPECAM/Entregas_2021/octubre_2021/SIPECAM/Playon 1338/Camaras/1338_1/100RECNX/RCNX0032.JPG\": \"\",\n",
      "        \"/LUSTRE/sacmod/SIPECAM/Entregas_2021/octubre_2021/SIPECAM/Playon 1338/Camaras/1338_1/100RECNX/RCNX0038.JPG\": \"\",\n",
      "        \"/LUSTRE/sacmod/SIPECAM/Entregas_2021/octubre_2021/SIPECAM/Playon 1338/Camaras/1338_1/100RECNX/RCNX0008.JPG\": \"\",\n",
      "        \"/LUSTRE/sacmod/SIPECAM/Entregas_2021/octubre_2021/SIPECAM/Playon 1338/Camaras/1338_1/100RECNX/RCNX0073.JPG\": \"\",\n",
      "        \"/LUSTRE/sacmod/SIPECAM/Entregas_2021/octubre_2021/SIPECAM/Playon 1338/Camaras/1338_1/100RECNX/RCNX0047.JPG\": \"\",\n",
      "        \"/LUSTRE/sacmod/SIPECAM/Entregas_2021/octubre_2021/SIPECAM/Playon 1338/Camaras/1338_1/100RECNX/RCNX0050.JPG\": \"\",\n",
      "        \"/LUSTRE/sacmod/SIPECAM/Entregas_2021/octubre_2021/SIPECAM/Playon 1338/Camaras/1338_1/100RECNX/RCNX0052.JPG\": \"\",\n",
      "        \"/LUSTRE/sacmod/SIPECAM/Entregas_2021/octubre_2021/SIPECAM/Playon 1338/Camaras/1338_1/100RECNX/RCNX0064.JPG\": \"\",\n",
      "        \"/LUSTRE/sacmod/SIPECAM/Entregas_2021/octubre_2021/SIPECAM/Playon 1338/Camaras/1338_1/100RECNX/RCNX0010.JPG\": \"\",\n",
      "        \"/LUSTRE/sacmod/SIPECAM/Entregas_2021/octubre_2021/SIPECAM/Playon 1338/Camaras/1338_1/100RECNX/RCNX0044.JPG\": \"\",\n",
      "        \"/LUSTRE/sacmod/SIPECAM/Entregas_2021/octubre_2021/SIPECAM/Playon 1338/Camaras/1338_1/100RECNX/RCNX0007.JPG\": \"\",\n",
      "        \"/LUSTRE/sacmod/SIPECAM/Entregas_2021/octubre_2021/SIPECAM/Playon 1338/Camaras/1338_1/100RECNX/RCNX0002.JPG\": \"\",\n",
      "        \"/LUSTRE/sacmod/SIPECAM/Entregas_2021/octubre_2021/SIPECAM/Playon 1338/Camaras/1338_1/100RECNX/RCNX0074.JPG\": \"\",\n",
      "        \"/LUSTRE/sacmod/SIPECAM/Entregas_2021/octubre_2021/SIPECAM/Playon 1338/Camaras/1338_1/100RECNX/RCNX0041.JPG\": \"\",\n",
      "        \"/LUSTRE/sacmod/SIPECAM/Entregas_2021/octubre_2021/SIPECAM/Playon 1338/Camaras/1338_1/100RECNX/RCNX0020.JPG\": \"\",\n",
      "        \"/LUSTRE/sacmod/SIPECAM/Entregas_2021/octubre_2021/SIPECAM/Playon 1338/Camaras/1338_1/100RECNX/RCNX0001.JPG\": \"\",\n",
      "        \"/LUSTRE/sacmod/SIPECAM/Entregas_2021/octubre_2021/SIPECAM/Playon 1338/Camaras/1338_1/100RECNX/RCNX0017.JPG\": \"\",\n",
      "        \"/LUSTRE/sacmod/SIPECAM/Entregas_2021/octubre_2021/SIPECAM/Playon 1338/Camaras/1338_1/100RECNX/RCNX0034.JPG\": \"\"\n",
      "    },\n",
      "    \"Coordinates\": {}\n",
      "}\n"
     ]
    }
   ],
   "source": [
    "%%bash\n",
    "dir_to_be_processed=\"/LUSTRE/sacmod/SIPECAM/Entregas_2021/octubre_2021/SIPECAM/Playon 1338/Camaras/1338_1/100RECNX/\"\n",
    "file_json=$(find \"$dir_to_be_processed\" -name '*.json')\n",
    "#cat \"$file_json\"|python3 -c 'import sys,json;data=json.loads(sys.stdin.read()); print(data)'\n",
    "python3 -mjson.tool \"$file_json\""
   ]
  },
  {
   "cell_type": "markdown",
   "id": "54c394b7-2d49-4f57-ad68-47ca51cfdeef",
   "metadata": {
    "tags": []
   },
   "source": [
    "# Extract metadata and ingest it"
   ]
  },
  {
   "cell_type": "code",
   "execution_count": 12,
   "id": "30d5bc01-2c33-4897-b5a7-426ef64e9dcb",
   "metadata": {},
   "outputs": [],
   "source": [
    "%%bash\n",
    "file_to_be_processed=\"/LUSTRE/sacmod/SIPECAM/Entregas_2021/octubre_2021/SIPECAM/Playon 1338/Camaras/1338_1/100RECNX/RCNX0049.JPG\"\n",
    "extract_metadata_and_ingest_it --input_file \"$file_to_be_processed\""
   ]
  },
  {
   "cell_type": "code",
   "execution_count": 13,
   "id": "4d2b0873-2d07-4220-bb3a-8f7252aca304",
   "metadata": {},
   "outputs": [],
   "source": [
    "%%bash\n",
    "file_to_be_processed=\"/LUSTRE/sacmod/SIPECAM/Entregas_2021/octubre_2021/SIPECAM/Playon 1338/Camaras/1338_1/100RECNX/RCNX0012.AVI\"\n",
    "extract_metadata_and_ingest_it --input_file \"$file_to_be_processed\""
   ]
  },
  {
   "cell_type": "code",
   "execution_count": 14,
   "id": "a43aa386-b77f-44ba-8f32-63e6be7b3076",
   "metadata": {},
   "outputs": [],
   "source": [
    "%%bash\n",
    "file_to_be_processed=\"/LUSTRE/sacmod/SIPECAM/Entregas_2021/octubre_2021/SIPECAM/Playon 1338/Audio/1338_1/Ultrasonico/20210806_044000.WAV\"\n",
    "extract_metadata_and_ingest_it --input_file \"$file_to_be_processed\""
   ]
  },
  {
   "cell_type": "markdown",
   "id": "02f37f58-0240-4ddb-b232-a5828cb625cc",
   "metadata": {
    "tags": []
   },
   "source": [
    "## Check"
   ]
  },
  {
   "cell_type": "code",
   "execution_count": 15,
   "id": "3c9ae9ae-f57d-4372-a9cd-1cfa54e3617e",
   "metadata": {},
   "outputs": [
    {
     "name": "stdout",
     "output_type": "stream",
     "text": [
      "2021-12-15 11:35:34,559 [INFO]  extraction of metadata and ingestion of /LUSTRE/sacmod/SIPECAM/Entregas_2021/octubre_2021/SIPECAM/Playon 1338/Camaras/1338_1/100RECNX/RCNX0049.JPG\n",
      "2021-12-15 11:35:34,561 [INFO]  Read metadata of JPG\n",
      "2021-12-15 11:35:34,561 [INFO]  {}\n",
      "2021-12-15 11:35:34,561 [INFO]  Getting node nomenclature and cumulus name from zendro\n",
      "2021-12-15 11:35:34,562 [INFO]  Copying file to 3/1_3_1_28/2021-10-01/JPG\n"
     ]
    }
   ],
   "source": [
    "%%bash\n",
    "file_to_be_processed=\"/LUSTRE/sacmod/SIPECAM/Entregas_2021/octubre_2021/SIPECAM/Playon 1338/Camaras/1338_1/100RECNX/RCNX0049.JPG\"\n",
    "dirname_file_to_be_processed=$(dirname \"$file_to_be_processed\")\n",
    "dir_for_logs=$(find \"$dirname_file_to_be_processed\" -name 'logs_simex_extract_metadata_and_ingest')\n",
    "filename_to_be_processed=$(basename \"$file_to_be_processed\")\n",
    "cat \"$dir_for_logs/$filename_to_be_processed.logs\""
   ]
  },
  {
   "cell_type": "code",
   "execution_count": 16,
   "id": "24c63ae4-1eb0-4d4c-bbf0-6c2fbe925dc2",
   "metadata": {},
   "outputs": [
    {
     "name": "stdout",
     "output_type": "stream",
     "text": [
      "2021-12-15 11:35:35,463 [INFO]  extraction of metadata and ingestion of /LUSTRE/sacmod/SIPECAM/Entregas_2021/octubre_2021/SIPECAM/Playon 1338/Camaras/1338_1/100RECNX/RCNX0012.AVI\n",
      "2021-12-15 11:35:35,465 [INFO]  Read metadata of AVI\n",
      "2021-12-15 11:35:35,465 [INFO]  {}\n",
      "2021-12-15 11:35:35,465 [INFO]  Getting node nomenclature and cumulus name from zendro\n",
      "2021-12-15 11:35:35,465 [INFO]  Copying file to 3/1_3_1_28/2021-10-01/AVI\n"
     ]
    }
   ],
   "source": [
    "%%bash\n",
    "file_to_be_processed=\"/LUSTRE/sacmod/SIPECAM/Entregas_2021/octubre_2021/SIPECAM/Playon 1338/Camaras/1338_1/100RECNX/RCNX0012.AVI\"\n",
    "dirname_file_to_be_processed=$(dirname \"$file_to_be_processed\")\n",
    "dir_for_logs=$(find \"$dirname_file_to_be_processed\" -name 'logs_simex_extract_metadata_and_ingest')\n",
    "filename_to_be_processed=$(basename \"$file_to_be_processed\")\n",
    "cat \"$dir_for_logs/$filename_to_be_processed.logs\""
   ]
  },
  {
   "cell_type": "code",
   "execution_count": 17,
   "id": "6750bee5-bb0d-4544-b791-8cab897fb8a1",
   "metadata": {},
   "outputs": [
    {
     "name": "stdout",
     "output_type": "stream",
     "text": [
      "2021-12-15 11:35:35,910 [INFO]  extraction of metadata and ingestion of /LUSTRE/sacmod/SIPECAM/Entregas_2021/octubre_2021/SIPECAM/Playon 1338/Audio/1338_1/Ultrasonico/20210806_044000.WAV\n",
      "2021-12-15 11:35:35,912 [INFO]  Read metadata of WAV\n",
      "2021-12-15 11:35:35,912 [INFO]  {}\n",
      "2021-12-15 11:35:35,912 [INFO]  Getting node nomenclature and cumulus name from zendro\n",
      "2021-12-15 11:35:35,912 [INFO]  Copying file to 3/1_3_1_28/2021-10-01/WAV\n"
     ]
    }
   ],
   "source": [
    "%%bash\n",
    "file_to_be_processed=\"/LUSTRE/sacmod/SIPECAM/Entregas_2021/octubre_2021/SIPECAM/Playon 1338/Audio/1338_1/Ultrasonico/20210806_044000.WAV\"\n",
    "dirname_file_to_be_processed=$(dirname \"$file_to_be_processed\")\n",
    "dir_for_logs=$(find \"$dirname_file_to_be_processed\" -name 'logs_simex_extract_metadata_and_ingest')\n",
    "filename_to_be_processed=$(basename \"$file_to_be_processed\")\n",
    "cat \"$dir_for_logs/$filename_to_be_processed.logs\""
   ]
  },
  {
   "cell_type": "code",
   "execution_count": null,
   "id": "656d0b09-4f76-446b-9d9b-8fcf41e76715",
   "metadata": {},
   "outputs": [],
   "source": []
  }
 ],
 "metadata": {
  "kernelspec": {
   "display_name": "Python 3 (ipykernel)",
   "language": "python",
   "name": "python3"
  },
  "language_info": {
   "codemirror_mode": {
    "name": "ipython",
    "version": 3
   },
   "file_extension": ".py",
   "mimetype": "text/x-python",
   "name": "python",
   "nbconvert_exporter": "python",
   "pygments_lexer": "ipython3",
   "version": "3.8.10"
  }
 },
 "nbformat": 4,
 "nbformat_minor": 5
}
