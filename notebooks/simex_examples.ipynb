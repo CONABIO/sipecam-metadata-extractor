{
 "cells": [
  {
   "cell_type": "markdown",
   "id": "55fbee2a-d46a-4c53-80fd-5e9d399e09d4",
   "metadata": {},
   "source": [
    "# Install `simex`"
   ]
  },
  {
   "cell_type": "code",
   "execution_count": 22,
   "id": "156d8c5a-0bbf-4da0-9907-39c89199702e",
   "metadata": {},
   "outputs": [
    {
     "name": "stderr",
     "output_type": "stream",
     "text": [
      "WARNING: Running pip as the 'root' user can result in broken permissions and conflicting behaviour with the system package manager. It is recommended to use a virtual environment instead: https://pip.pypa.io/warnings/venv\n"
     ]
    }
   ],
   "source": [
    "%%bash\n",
    "#clone repo of `sipecam-metadata-extactor` in server\n",
    "#git clone git@github.com:CONABIO/sipecam-metadata-extractor.git ~/\n",
    "cd ../src\n",
    "#install in editable mode\n",
    "pip install -q -e ."
   ]
  },
  {
   "cell_type": "markdown",
   "id": "4cf835be-59ff-4d7a-8658-175ea2394bb1",
   "metadata": {},
   "source": [
    "# Or `docker run`"
   ]
  },
  {
   "cell_type": "markdown",
   "id": "43cba47b-15db-41b6-942a-2f54a6da4e8a",
   "metadata": {},
   "source": [
    "``` \n",
    "SIMEX_VERSION=0.1\n",
    "REPO_URL=sipecam/simex\n",
    "CONTAINER_NAME=sipecam-simex\n",
    "docker run --rm -v $HOME:/shared_volume --name $CONTAINER_NAME -p 3000:8888 -d $REPO_URL:$SIMEX_VERSION /usr/local/bin/jupyter lab --ip=0.0.0.0 --no-browser --allow-root\n",
    "```"
   ]
  },
  {
   "cell_type": "markdown",
   "id": "359dc9b0-71d9-4063-9cc6-fa026c77a337",
   "metadata": {},
   "source": [
    "# Copy files for testing"
   ]
  },
  {
   "cell_type": "code",
   "execution_count": 1,
   "id": "87834bd4-b9a4-4058-a546-1eeddee2e972",
   "metadata": {},
   "outputs": [],
   "source": [
    "%%bash\n",
    "cp -r /shared_volume/testing_simex_backup/sacmod /shared_volume/testing_simex/"
   ]
  },
  {
   "cell_type": "markdown",
   "id": "18dafca7-40c5-4561-9882-585adc102e64",
   "metadata": {
    "tags": []
   },
   "source": [
    "# List of files to extract metadata"
   ]
  },
  {
   "cell_type": "code",
   "execution_count": 2,
   "id": "bb5da31e-cd09-498c-bea1-1874e7a3bcf8",
   "metadata": {},
   "outputs": [],
   "source": [
    "%%bash\n",
    "dir_with_sipecam_data=/shared_volume/testing_simex/sacmod/SIPECAM/\n",
    "list_of_files_and_subdirectories_to_extract_metadata --input_directory $dir_with_sipecam_data"
   ]
  },
  {
   "cell_type": "markdown",
   "id": "dd1ec9c2-9ccd-4466-a001-d1a2cb0a3481",
   "metadata": {
    "tags": []
   },
   "source": [
    "## Check"
   ]
  },
  {
   "cell_type": "code",
   "execution_count": 3,
   "id": "c6af410f-441d-4677-90cc-a68d96f88591",
   "metadata": {},
   "outputs": [
    {
     "name": "stdout",
     "output_type": "stream",
     "text": [
      "-rw-r--r-- 1 root root 5.1K Apr  4 12:10 /shared_volume/sipecam_files_to_extract_metadata_from_04-04-2022.txt\n"
     ]
    }
   ],
   "source": [
    "%%bash\n",
    "ls -lh /shared_volume/sipecam_files_to_extract_metadata_from_*"
   ]
  },
  {
   "cell_type": "code",
   "execution_count": 4,
   "id": "3bf2a60c-641e-4e26-b3e3-2d7db80d5ccb",
   "metadata": {},
   "outputs": [
    {
     "name": "stdout",
     "output_type": "stream",
     "text": [
      "-rw-r--r-- 1 root root 439 Apr  4 12:10 /shared_volume/sipecam_subdirectories_04-04-2022.txt\n"
     ]
    }
   ],
   "source": [
    "%%bash\n",
    "ls -lh /shared_volume/sipecam_subdirectories_*"
   ]
  },
  {
   "cell_type": "code",
   "execution_count": 5,
   "id": "38b883ef-65eb-4dd9-9fb4-8c2ad55cf876",
   "metadata": {},
   "outputs": [
    {
     "name": "stdout",
     "output_type": "stream",
     "text": [
      "41 /shared_volume/sipecam_files_to_extract_metadata_from_04-04-2022.txt\n"
     ]
    }
   ],
   "source": [
    "%%bash\n",
    "wc -l /shared_volume/sipecam_files_to_extract_metadata_from_*"
   ]
  },
  {
   "cell_type": "code",
   "execution_count": 6,
   "id": "dacd790d-59cb-414f-99e3-19a2cd943e20",
   "metadata": {},
   "outputs": [
    {
     "name": "stdout",
     "output_type": "stream",
     "text": [
      "4 /shared_volume/sipecam_subdirectories_04-04-2022.txt\n"
     ]
    }
   ],
   "source": [
    "%%bash\n",
    "wc -l /shared_volume/sipecam_subdirectories_*"
   ]
  },
  {
   "cell_type": "code",
   "execution_count": 7,
   "id": "316248c8-d910-47e2-91c8-fb32d64766a3",
   "metadata": {},
   "outputs": [
    {
     "name": "stdout",
     "output_type": "stream",
     "text": [
      "/shared_volume/testing_simex/sacmod/SIPECAM/Entregas_2021/octubre_2021/SIPECAM/Playon_1338/Audio/1338_1/Ultrasonico\n",
      "20210728_180000.WAV\n",
      "/shared_volume/testing_simex/sacmod/SIPECAM/Entregas_2021/octubre_2021/SIPECAM/Galacia_1339/1339_2/Audio/Audible\n",
      "20210729_180000.WAV\n",
      "/shared_volume/testing_simex/sacmod/SIPECAM/cumulo_92/Mes 4/3_92_0_1341/3_92_0_1341_5/100RECNX\n",
      "RCNX0001.JPG\n",
      "/shared_volume/testing_simex/sacmod/SIPECAM/Entregas_2021/octubre_2021/SIPECAM/Playon_1338/Camaras/1338_1/100RECNX\n",
      "RCNX0001.JPG\n"
     ]
    }
   ],
   "source": [
    "%%bash\n",
    "#check every first subdirectory has a JPG, WAV or AVI file\n",
    "SAVEIFS=$IFS;IFS=$(echo -en \"\\n\\b\")\n",
    "for f in $(cat /shared_volume/sipecam_subdirectories_*.txt)\n",
    "  do echo \"$f\"\n",
    "     ls \"$f\"|grep \"[WAV|wav|JPG|jpg|AVI|avi]$\"|head -n 1\n",
    "done\n",
    "IFS=$SAVEIFS"
   ]
  },
  {
   "cell_type": "markdown",
   "id": "d3d45c4d-7b7e-473a-a3b2-b273541aff71",
   "metadata": {},
   "source": [
    "# Generate SiPeCaM Zendro schema (one time only)"
   ]
  },
  {
   "cell_type": "code",
   "execution_count": null,
   "id": "576cc660-5e0b-4bea-bd03-8b5c31ece159",
   "metadata": {},
   "outputs": [],
   "source": [
    "%%bash\n",
    "echo \"SIPECAM_ZENDRO_GQL_URL=https://gql.sipecamdata.conabio.gob.mx/\" > ~/.simex_env\n",
    "echo \"SIPECAM_ZENDRO_GQL_USER=<user>\" >> ~/.simex_env\n",
    "echo \"SIPECAM_ZENDRO_GQL_PASSWORD=<password>\" >> ~/.simex_env\n"
   ]
  },
  {
   "cell_type": "code",
   "execution_count": 13,
   "id": "ca37e18a-37f6-4a42-b8db-251881ca58a7",
   "metadata": {},
   "outputs": [
    {
     "name": "stdout",
     "output_type": "stream",
     "text": [
      "Standard Error sgqlc.introspection b''\n",
      "Standard Output sgqlc.introspection b'\\n'\n",
      "Standard Error sgqlc-codegen b''\n",
      "Standard Output sgqlc-codegen b''\n"
     ]
    }
   ],
   "source": [
    "%%bash\n",
    "generate_sipecam_zendro_schema"
   ]
  },
  {
   "cell_type": "markdown",
   "id": "c545c347-d736-42b8-aa94-5ab6f2cc7746",
   "metadata": {},
   "source": [
    "## Check"
   ]
  },
  {
   "cell_type": "code",
   "execution_count": 8,
   "id": "69e6bb84-22c6-46a0-88ed-87b6e8cf5dc3",
   "metadata": {},
   "outputs": [
    {
     "name": "stdout",
     "output_type": "stream",
     "text": [
      "import sgqlc.types\n",
      "import sgqlc.types.datetime\n",
      "\n",
      "\n",
      "sipecam_zendro_schema = sgqlc.types.Schema()\n",
      "\n",
      "\n",
      "\n",
      "########################################################################\n",
      "# Scalars and Enumerations\n"
     ]
    }
   ],
   "source": [
    "%%bash\n",
    "head -n 10 /root/sipecam-metadata-extractor/src/simex/sipecam_zendro_schema.py"
   ]
  },
  {
   "cell_type": "markdown",
   "id": "4f2c42e2-7efb-4e4a-80bc-7e5d3e7c14ec",
   "metadata": {
    "tags": []
   },
   "source": [
    "# Extract serial number, dates and metadata of files and device"
   ]
  },
  {
   "cell_type": "code",
   "execution_count": 8,
   "id": "52e023dc-4598-480f-8724-796b741e18da",
   "metadata": {},
   "outputs": [],
   "source": [
    "%%bash\n",
    "dir_to_be_processed=\"/shared_volume/testing_simex/sacmod/SIPECAM/Entregas_2021/octubre_2021/SIPECAM/Playon_1338/Camaras/1338_1/100RECNX/\"\n",
    "#default for parallel execution are 4 processes\n",
    "extract_serial_numbers_dates_and_metadata_of_files_and_device --input_dir \"$dir_to_be_processed\" --parallel"
   ]
  },
  {
   "cell_type": "code",
   "execution_count": 9,
   "id": "59ebaaff-552b-4bc2-8a0f-8ab651b1ad67",
   "metadata": {},
   "outputs": [],
   "source": [
    "%%bash\n",
    "dir_to_be_processed=\"/shared_volume/testing_simex/sacmod/SIPECAM/Entregas_2021/octubre_2021/SIPECAM/Playon_1338/Audio/1338_1/Ultrasonico\"\n",
    "#can select number of proceses\n",
    "extract_serial_numbers_dates_and_metadata_of_files_and_device --input_dir \"$dir_to_be_processed\" --parallel --number_of_processes 6"
   ]
  },
  {
   "cell_type": "code",
   "execution_count": 10,
   "id": "1fac5575-1a93-48ca-b3de-3cca25646134",
   "metadata": {},
   "outputs": [],
   "source": [
    "%%bash\n",
    "dir_to_be_processed=\"/shared_volume/testing_simex/sacmod/SIPECAM/Entregas_2021/octubre_2021/SIPECAM/Galacia_1339/1339_2/Audio/Audible\"\n",
    "#if number_of_processes is passed as arg then is assumed will execute in parallel\n",
    "extract_serial_numbers_dates_and_metadata_of_files_and_device --input_dir \"$dir_to_be_processed\" --number_of_processes 6"
   ]
  },
  {
   "cell_type": "markdown",
   "id": "48185cdc-dd87-4501-847d-b552c1125f09",
   "metadata": {},
   "source": [
    "Dir of images and videos with no GPS info"
   ]
  },
  {
   "cell_type": "code",
   "execution_count": 11,
   "id": "d92b5eeb-805c-4298-b219-b58545164c23",
   "metadata": {},
   "outputs": [],
   "source": [
    "%%bash\n",
    "dir_to_be_processed=\"/shared_volume/testing_simex/sacmod/SIPECAM/cumulo_92/Mes 4/3_92_0_1341/3_92_0_1341_5/100RECNX/\"\n",
    "#if number_of_processes is passed as arg then is assumed will execute in parallel\n",
    "extract_serial_numbers_dates_and_metadata_of_files_and_device --input_dir \"$dir_to_be_processed\" --number_of_processes 6"
   ]
  },
  {
   "cell_type": "markdown",
   "id": "68a7ed05-27fe-4da1-b656-b976c81521a1",
   "metadata": {
    "tags": []
   },
   "source": [
    "## Check"
   ]
  },
  {
   "cell_type": "markdown",
   "id": "83df2886-5ae1-47b8-820e-165d60213794",
   "metadata": {
    "tags": []
   },
   "source": [
    "### Dir with image & video files"
   ]
  },
  {
   "cell_type": "code",
   "execution_count": 12,
   "id": "5960dc7a-6c59-4ad0-86ed-be695ea1b28a",
   "metadata": {
    "tags": []
   },
   "outputs": [
    {
     "name": "stdout",
     "output_type": "stream",
     "text": [
      "2022-04-04 12:10:17,686 [INFO]  extraction of serial_numbers_dates_and_metadata_of_files_and_device\n",
      "2022-04-04 12:10:17,686 [INFO]  logs for extraction of serial_numbers_dates_and_metadata_of_files_and_device in /shared_volume/testing_simex/sacmod/SIPECAM/Entregas_2021/octubre_2021/SIPECAM/Playon_1338/Camaras/1338_1/100RECNX/100RECNX_simex_extract_serial_numbers_dates_and_metadata_of_files_and_device.json\n",
      "2022-04-04 12:10:17,687 [INFO]  extraction of metadata of device from /shared_volume/testing_simex/sacmod/SIPECAM/Entregas_2021/octubre_2021/SIPECAM/Playon_1338/Camaras/1338_1/100RECNX/RCNX0074.JPG\n",
      "2022-04-04 12:10:17,852 [INFO]  SUCCESSFUL extraction of serial number of /shared_volume/testing_simex/sacmod/SIPECAM/Entregas_2021/octubre_2021/SIPECAM/Playon_1338/Camaras/1338_1/100RECNX/RCNX0074.JPG\n",
      "2022-04-04 12:10:19,794 [INFO]  extraction of date of /shared_volume/testing_simex/sacmod/SIPECAM/Entregas_2021/octubre_2021/SIPECAM/Playon_1338/Camaras/1338_1/100RECNX/RCNX0074.JPG\n",
      "2022-04-04 12:10:19,794 [INFO]  SUCCESSFUL extraction of date of /shared_volume/testing_simex/sacmod/SIPECAM/Entregas_2021/octubre_2021/SIPECAM/Playon_1338/Camaras/1338_1/100RECNX/RCNX0074.JPG\n",
      "2022-04-04 12:10:19,794 [INFO]  extraction of date of /shared_volume/testing_simex/sacmod/SIPECAM/Entregas_2021/octubre_2021/SIPECAM/Playon_1338/Camaras/1338_1/100RECNX/RCNX0073.JPG\n",
      "2022-04-04 12:10:19,794 [INFO]  SUCCESSFUL extraction of date of /shared_volume/testing_simex/sacmod/SIPECAM/Entregas_2021/octubre_2021/SIPECAM/Playon_1338/Camaras/1338_1/100RECNX/RCNX0073.JPG\n",
      "2022-04-04 12:10:19,794 [INFO]  extraction of date of /shared_volume/testing_simex/sacmod/SIPECAM/Entregas_2021/octubre_2021/SIPECAM/Playon_1338/Camaras/1338_1/100RECNX/RCNX0005.JPG\n",
      "2022-04-04 12:10:19,794 [INFO]  SUCCESSFUL extraction of date of /shared_volume/testing_simex/sacmod/SIPECAM/Entregas_2021/octubre_2021/SIPECAM/Playon_1338/Camaras/1338_1/100RECNX/RCNX0005.JPG\n",
      "2022-04-04 12:10:19,795 [INFO]  extraction of date of /shared_volume/testing_simex/sacmod/SIPECAM/Entregas_2021/octubre_2021/SIPECAM/Playon_1338/Camaras/1338_1/100RECNX/RCNX0002.JPG\n",
      "2022-04-04 12:10:19,795 [INFO]  SUCCESSFUL extraction of date of /shared_volume/testing_simex/sacmod/SIPECAM/Entregas_2021/octubre_2021/SIPECAM/Playon_1338/Camaras/1338_1/100RECNX/RCNX0002.JPG\n",
      "2022-04-04 12:10:19,795 [INFO]  extraction of date of /shared_volume/testing_simex/sacmod/SIPECAM/Entregas_2021/octubre_2021/SIPECAM/Playon_1338/Camaras/1338_1/100RECNX/RCNX0004.JPG\n",
      "2022-04-04 12:10:19,795 [INFO]  SUCCESSFUL extraction of date of /shared_volume/testing_simex/sacmod/SIPECAM/Entregas_2021/octubre_2021/SIPECAM/Playon_1338/Camaras/1338_1/100RECNX/RCNX0004.JPG\n",
      "2022-04-04 12:10:19,795 [INFO]  extraction of date of /shared_volume/testing_simex/sacmod/SIPECAM/Entregas_2021/octubre_2021/SIPECAM/Playon_1338/Camaras/1338_1/100RECNX/RCNX0001.JPG\n"
     ]
    }
   ],
   "source": [
    "%%bash\n",
    "dir_to_be_processed=\"/shared_volume/testing_simex/sacmod/SIPECAM/Entregas_2021/octubre_2021/SIPECAM/Playon_1338/Camaras/1338_1/100RECNX/\"\n",
    "file_for_logs=$(find \"$dir_to_be_processed\" -name \"logs_simex_extract_serial_numbers_dates_and_metadata_of_files_and_device.logs\")\n",
    "head -n 15 \"$file_for_logs\""
   ]
  },
  {
   "cell_type": "code",
   "execution_count": 13,
   "id": "f6e5f13d-954c-4ff4-ae74-f260426daf2e",
   "metadata": {},
   "outputs": [
    {
     "name": "stdout",
     "output_type": "stream",
     "text": [
      "{\n",
      "    \"MetadataDevice\": {\n",
      "        \"Make\": \"RECONYX\",\n",
      "        \"Model\": \"HF2 PRO COVERT\",\n",
      "        \"SerialNumber\": \"HLPXGM09048890\"\n",
      "    },\n",
      "    \"MetadataFiles\": {\n",
      "        \"/shared_volume/testing_simex/sacmod/SIPECAM/Entregas_2021/octubre_2021/SIPECAM/Playon_1338/Camaras/1338_1/100RECNX/RCNX0074.JPG\": {\n",
      "            \"Make\": \"RECONYX\",\n",
      "            \"Model\": \"HF2 PRO COVERT\",\n",
      "            \"DateTimeOriginal\": \"2021:08:26 13:12:35\",\n",
      "            \"SerialNumber\": \"HLPXGM09048890\",\n",
      "            \"FileSize\": \"627 KiB\",\n",
      "            \"ExifByteOrder\": \"Little-endian (Intel, II)\",\n",
      "            \"ImageWidth\": 2048,\n",
      "            \"ImageHeight\": 1440,\n",
      "            \"EncodingProcess\": \"Baseline DCT, Huffman coding\",\n",
      "            \"BitsPerSample\": 8,\n",
      "            \"ColorComponents\": 3,\n",
      "            \"YCbCrSubSampling\": \"YCbCr4:2:2 (2 1)\",\n",
      "            \"XResolution\": 72,\n",
      "            \"YResolution\": 72,\n",
      "            \"ResolutionUnit\": \"inches\",\n",
      "            \"YCbCrPositioning\": \"Co-sited\",\n",
      "            \"ExposureTime\": \"1/30\",\n",
      "            \"ISO\": 1600,\n",
      "            \"TimeZoneOffset\": -6,\n",
      "            \"ComponentsConfiguration\": \"Y, Cb, Cr, -\",\n",
      "            \"ColorSpace\": \"sRGB\",\n",
      "            \"AmbientTemperature\": \"27 C\",\n",
      "            \"Contrast\": 128,\n",
      "            \"Brightness\": 0,\n",
      "            \"Sharpness\": 64,\n",
      "            \"Saturation\": 128,\n",
      "            \"Flash\": \"Off\",\n",
      "            \"AmbientInfrared\": 363,\n",
      "            \"AmbientLight\": 711,\n",
      "            \"MotionSensitivity\": 80,\n",
      "            \"BatteryVoltage\": 7354,\n",
      "            \"BatteryVoltageAvg\": 7371,\n",
      "            \"Megapixels\": 2.94912,\n",
      "            \"GPSLatitudeRef\": \"North\",\n",
      "            \"GPSLongitudeRef\": \"West\",\n",
      "            \"GPSLatitude\": 16.1583,\n",
      "            \"GPSLongitude\": -90.9048\n",
      "        },\n",
      "        \"/shared_volume/testing_simex/sacmod/SIPECAM/Entregas_2021/octubre_2021/SIPECAM/Playon_1338/Camaras/1338_1/100RECNX/RCNX0073.JPG\": {\n",
      "            \"Make\": \"RECONYX\",\n",
      "            \"Model\": \"HF2 PRO COVERT\",\n",
      "            \"DateTimeOriginal\": \"2021:08:26 13:12:34\",\n",
      "            \"SerialNumber\": \"HLPXGM09048890\",\n",
      "            \"FileSize\": \"751 KiB\",\n",
      "            \"ExifByteOrder\": \"Little-endian (Intel, II)\",\n",
      "            \"ImageWidth\": 2048,\n",
      "            \"ImageHeight\": 1440,\n",
      "            \"EncodingProcess\": \"Baseline DCT, Huffman coding\",\n",
      "            \"BitsPerSample\": 8,\n",
      "            \"ColorComponents\": 3,\n",
      "            \"YCbCrSubSampling\": \"YCbCr4:2:2 (2 1)\",\n",
      "            \"XResolution\": 72,\n",
      "            \"YResolution\": 72,\n",
      "            \"ResolutionUnit\": \"inches\",\n",
      "            \"YCbCrPositioning\": \"Co-sited\",\n",
      "            \"ExposureTime\": \"1/30\",\n",
      "            \"ISO\": 800,\n",
      "            \"TimeZoneOffset\": -6,\n",
      "            \"ComponentsConfiguration\": \"Y, Cb, Cr, -\",\n",
      "            \"ColorSpace\": \"sRGB\",\n",
      "            \"AmbientTemperature\": \"27 C\",\n",
      "            \"Contrast\": 128,\n",
      "            \"Brightness\": 0,\n",
      "            \"Sharpness\": 64,\n",
      "            \"Saturation\": 128,\n",
      "            \"Flash\": \"Off\",\n",
      "            \"AmbientInfrared\": 363,\n",
      "            \"AmbientLight\": 711,\n",
      "            \"MotionSensitivity\": 80,\n",
      "            \"BatteryVoltage\": 7371,\n",
      "            \"BatteryVoltageAvg\": 7371,\n",
      "            \"Megapixels\": 2.94912,\n"
     ]
    }
   ],
   "source": [
    "%%bash\n",
    "dir_to_be_processed=\"/shared_volume/testing_simex/sacmod/SIPECAM/Entregas_2021/octubre_2021/SIPECAM/Playon_1338/Camaras/1338_1/100RECNX/\"\n",
    "file_json=$(find \"$dir_to_be_processed\" -name \"*.json\")\n",
    "python3 -mjson.tool \"$file_json\"|head -n 80"
   ]
  },
  {
   "cell_type": "code",
   "execution_count": 14,
   "id": "79a1ef98-fb5b-45c7-aead-0502f199c313",
   "metadata": {},
   "outputs": [
    {
     "name": "stdout",
     "output_type": "stream",
     "text": [
      "            \"MaxDataRate\": 26542080,\n",
      "            \"Megapixels\": 0.73728,\n",
      "            \"GPSLatitudeRef\": \"North\",\n",
      "            \"GPSLongitudeRef\": \"West\",\n",
      "            \"GPSLatitude\": 16.1583,\n",
      "            \"GPSLongitude\": -90.9048\n",
      "        },\n",
      "        \"/shared_volume/testing_simex/sacmod/SIPECAM/Entregas_2021/octubre_2021/SIPECAM/Playon_1338/Camaras/1338_1/100RECNX/RCNX0075.AVI\": {\n",
      "            \"BitRate\": \"11.3 Mbit/sec\",\n",
      "            \"Endianness\": \"Little endian\",\n",
      "            \"VideoBitsPerPixel\": \"24\",\n",
      "            \"VideoCompression\": \"Motion JPEG DIB (fourcc:\\\"MJPG\\\")\",\n",
      "            \"AudioSampleRate\": \"16.0 kHz\",\n",
      "            \"AudioCompressionRate\": \"1.0x\",\n",
      "            \"AudioCompression\": \"Microsoft Pulse Code Modulation (PCM)\",\n",
      "            \"AudioBitRate\": \"256.4 Kbit/sec\",\n",
      "            \"FileSize\": \"6.0 MiB\",\n",
      "            \"DateTimeOriginal\": \"2021:08:26 13:12:35\",\n",
      "            \"BMPVersion\": \"Windows V3\",\n",
      "            \"ImageWidth\": 1024,\n",
      "            \"ImageHeight\": 720,\n",
      "            \"Planes\": 1,\n",
      "            \"ImageLength\": 2211840,\n",
      "            \"PixelsPerMeterX\": 0,\n",
      "            \"PixelsPerMeterY\": 0,\n",
      "            \"NumColors\": \"Use BitDepth\",\n",
      "            \"NumImportantColors\": \"All\",\n",
      "            \"FrameRate\": 12.5,\n",
      "            \"FrameCount\": 56,\n",
      "            \"StreamCount\": 2,\n",
      "            \"AudioSampleCount\": 0,\n",
      "            \"Encoding\": \"Microsoft PCM\",\n",
      "            \"NumChannels\": 1,\n",
      "            \"AvgBytesPerSec\": 32050,\n",
      "            \"BitsPerSample\": 16,\n",
      "            \"Duration\": \"4.48 s\",\n",
      "            \"MaxDataRate\": 26542080,\n",
      "            \"Megapixels\": 0.73728,\n",
      "            \"GPSLatitudeRef\": \"North\",\n",
      "            \"GPSLongitudeRef\": \"West\",\n",
      "            \"GPSLatitude\": 16.1583,\n",
      "            \"GPSLongitude\": -90.9048\n",
      "        }\n",
      "    },\n",
      "    \"FirstAndLastDate\": {\n",
      "        \"/shared_volume/testing_simex/sacmod/SIPECAM/Entregas_2021/octubre_2021/SIPECAM/Playon_1338/Camaras/1338_1/100RECNX/RCNX0005.JPG\": \"2021-07-28\",\n",
      "        \"/shared_volume/testing_simex/sacmod/SIPECAM/Entregas_2021/octubre_2021/SIPECAM/Playon_1338/Camaras/1338_1/100RECNX/RCNX0075.AVI\": \"2021-08-26\"\n",
      "    },\n",
      "    \"DaysBetweenFirstAndLastDate\": 29\n",
      "}\n"
     ]
    }
   ],
   "source": [
    "%%bash\n",
    "dir_to_be_processed=\"/shared_volume/testing_simex/sacmod/SIPECAM/Entregas_2021/octubre_2021/SIPECAM/Playon_1338/Camaras/1338_1/100RECNX/\"\n",
    "file_json=$(find \"$dir_to_be_processed\" -name \"*.json\")\n",
    "python3 -mjson.tool \"$file_json\"|tail -n 50"
   ]
  },
  {
   "cell_type": "markdown",
   "id": "a88a2d2a-ff93-42e4-bd58-4b6339ce0152",
   "metadata": {},
   "source": [
    "### Dir with audio files"
   ]
  },
  {
   "cell_type": "code",
   "execution_count": 15,
   "id": "86c3b94f-1954-4ddd-a2b6-81df79f96aac",
   "metadata": {
    "tags": []
   },
   "outputs": [
    {
     "name": "stdout",
     "output_type": "stream",
     "text": [
      "2022-04-04 12:10:19,980 [INFO]  extraction of serial_numbers_dates_and_metadata_of_files_and_device\n",
      "2022-04-04 12:10:19,980 [INFO]  logs for extraction of serial_numbers_dates_and_metadata_of_files_and_device in /shared_volume/testing_simex/sacmod/SIPECAM/Entregas_2021/octubre_2021/SIPECAM/Playon_1338/Audio/1338_1/Ultrasonico/Ultrasonico_simex_extract_serial_numbers_dates_and_metadata_of_files_and_device.json\n",
      "2022-04-04 12:10:19,980 [INFO]  extraction of metadata of device from /shared_volume/testing_simex/sacmod/SIPECAM/Entregas_2021/octubre_2021/SIPECAM/Playon_1338/Audio/1338_1/Ultrasonico/20210728_184000.WAV\n",
      "2022-04-04 12:10:20,318 [INFO]  SUCCESSFUL extraction of serial number of /shared_volume/testing_simex/sacmod/SIPECAM/Entregas_2021/octubre_2021/SIPECAM/Playon_1338/Audio/1338_1/Ultrasonico/20210728_184000.WAV\n",
      "2022-04-04 12:10:20,318 [INFO]  GPSFile key not found for videos, files from directory are of audio\n",
      "2022-04-04 12:10:21,901 [INFO]  extraction of date of /shared_volume/testing_simex/sacmod/SIPECAM/Entregas_2021/octubre_2021/SIPECAM/Playon_1338/Audio/1338_1/Ultrasonico/20210728_184000.WAV\n",
      "2022-04-04 12:10:21,901 [INFO]  SUCCESSFUL extraction of date of /shared_volume/testing_simex/sacmod/SIPECAM/Entregas_2021/octubre_2021/SIPECAM/Playon_1338/Audio/1338_1/Ultrasonico/20210728_184000.WAV\n",
      "2022-04-04 12:10:21,901 [INFO]  extraction of date of /shared_volume/testing_simex/sacmod/SIPECAM/Entregas_2021/octubre_2021/SIPECAM/Playon_1338/Audio/1338_1/Ultrasonico/20210826_044000.WAV\n",
      "2022-04-04 12:10:21,902 [INFO]  SUCCESSFUL extraction of date of /shared_volume/testing_simex/sacmod/SIPECAM/Entregas_2021/octubre_2021/SIPECAM/Playon_1338/Audio/1338_1/Ultrasonico/20210826_044000.WAV\n",
      "2022-04-04 12:10:21,902 [INFO]  extraction of date of /shared_volume/testing_simex/sacmod/SIPECAM/Entregas_2021/octubre_2021/SIPECAM/Playon_1338/Audio/1338_1/Ultrasonico/20210728_192000.WAV\n",
      "2022-04-04 12:10:21,902 [INFO]  SUCCESSFUL extraction of date of /shared_volume/testing_simex/sacmod/SIPECAM/Entregas_2021/octubre_2021/SIPECAM/Playon_1338/Audio/1338_1/Ultrasonico/20210728_192000.WAV\n",
      "2022-04-04 12:10:21,902 [INFO]  extraction of date of /shared_volume/testing_simex/sacmod/SIPECAM/Entregas_2021/octubre_2021/SIPECAM/Playon_1338/Audio/1338_1/Ultrasonico/20210826_054000.WAV\n",
      "2022-04-04 12:10:21,902 [INFO]  SUCCESSFUL extraction of date of /shared_volume/testing_simex/sacmod/SIPECAM/Entregas_2021/octubre_2021/SIPECAM/Playon_1338/Audio/1338_1/Ultrasonico/20210826_054000.WAV\n",
      "2022-04-04 12:10:21,902 [INFO]  extraction of date of /shared_volume/testing_simex/sacmod/SIPECAM/Entregas_2021/octubre_2021/SIPECAM/Playon_1338/Audio/1338_1/Ultrasonico/20210728_180000.WAV\n",
      "2022-04-04 12:10:21,902 [INFO]  SUCCESSFUL extraction of date of /shared_volume/testing_simex/sacmod/SIPECAM/Entregas_2021/octubre_2021/SIPECAM/Playon_1338/Audio/1338_1/Ultrasonico/20210728_180000.WAV\n"
     ]
    }
   ],
   "source": [
    "%%bash\n",
    "dir_to_be_processed=\"/shared_volume/testing_simex/sacmod/SIPECAM/Entregas_2021/octubre_2021/SIPECAM/Playon_1338/Audio/1338_1/Ultrasonico\"\n",
    "file_for_logs=$(find \"$dir_to_be_processed\" -name \"logs_simex_extract_serial_numbers_dates_and_metadata_of_files_and_device.logs\")\n",
    "head -n 15 \"$file_for_logs\""
   ]
  },
  {
   "cell_type": "code",
   "execution_count": 16,
   "id": "54e58311-a293-497d-8f5b-4907cc357a6c",
   "metadata": {},
   "outputs": [
    {
     "name": "stdout",
     "output_type": "stream",
     "text": [
      "{\n",
      "    \"MetadataDevice\": {\n",
      "        \"Artist\": \"AudioMoth 2423C2045F256D74\",\n",
      "        \"SerialNumber\": \"2423C2045F256D74\"\n",
      "    },\n",
      "    \"MetadataFiles\": {\n",
      "        \"/shared_volume/testing_simex/sacmod/SIPECAM/Entregas_2021/octubre_2021/SIPECAM/Playon_1338/Audio/1338_1/Ultrasonico/20210728_184000.WAV\": {\n",
      "            \"Battery\": \"4.8V\",\n",
      "            \"Datetime\": \"18:40:00 28/07/2021 (UTC-0600)\",\n",
      "            \"Gain\": \"medium\",\n",
      "            \"Timezone\": \"UTC\",\n",
      "            \"BitRate\": \"6.1 Mbit/sec\",\n",
      "            \"SerialNumber\": \"2423C2045F256D74\",\n",
      "            \"FileSize\": \"22 MiB\",\n",
      "            \"Encoding\": \"Microsoft PCM\",\n",
      "            \"NumChannels\": 1,\n",
      "            \"SampleRate\": 384000,\n",
      "            \"AvgBytesPerSec\": 768000,\n",
      "            \"BitsPerSample\": 16,\n",
      "            \"Comment\": \"Recorded at 18:40:00 28/07/2021 (UTC-6) by AudioMoth 2423C2045F256D74 at medium gain setting while battery state was 4.8V and temperature was 23.4C.\",\n",
      "            \"Duration\": \"0:00:30\"\n",
      "        },\n",
      "        \"/shared_volume/testing_simex/sacmod/SIPECAM/Entregas_2021/octubre_2021/SIPECAM/Playon_1338/Audio/1338_1/Ultrasonico/20210826_044000.WAV\": {\n",
      "            \"Battery\": \"4.4V\",\n",
      "            \"Datetime\": \"04:40:00 26/08/2021 (UTC-0600)\",\n",
      "            \"Gain\": \"medium\",\n",
      "            \"Timezone\": \"UTC\",\n",
      "            \"BitRate\": \"6.1 Mbit/sec\",\n",
      "            \"SerialNumber\": \"2423C2045F256D74\",\n",
      "            \"FileSize\": \"22 MiB\",\n",
      "            \"Encoding\": \"Microsoft PCM\",\n",
      "            \"NumChannels\": 1,\n",
      "            \"SampleRate\": 384000,\n",
      "            \"AvgBytesPerSec\": 768000,\n",
      "            \"BitsPerSample\": 16,\n",
      "            \"Comment\": \"Recorded at 04:40:00 26/08/2021 (UTC-6) by AudioMoth 2423C2045F256D74 at medium gain setting while battery state was 4.4V and temperature was 22.6C.\",\n",
      "            \"Duration\": \"0:00:30\"\n",
      "        },\n",
      "        \"/shared_volume/testing_simex/sacmod/SIPECAM/Entregas_2021/octubre_2021/SIPECAM/Playon_1338/Audio/1338_1/Ultrasonico/20210728_192000.WAV\": {\n",
      "            \"Battery\": \"4.8V\",\n"
     ]
    }
   ],
   "source": [
    "%%bash\n",
    "dir_to_be_processed=\"/shared_volume/testing_simex/sacmod/SIPECAM/Entregas_2021/octubre_2021/SIPECAM/Playon_1338/Audio/1338_1/Ultrasonico\"\n",
    "file_json=$(find \"$dir_to_be_processed\" -name \"*.json\")\n",
    "python3 -mjson.tool \"$file_json\" | head -n 40"
   ]
  },
  {
   "cell_type": "code",
   "execution_count": 17,
   "id": "54d79639-39c8-4833-851f-72fddbb1fc5c",
   "metadata": {},
   "outputs": [
    {
     "name": "stdout",
     "output_type": "stream",
     "text": [
      "            \"NumChannels\": 1,\n",
      "            \"SampleRate\": 384000,\n",
      "            \"AvgBytesPerSec\": 768000,\n",
      "            \"BitsPerSample\": 16,\n",
      "            \"Comment\": \"Recorded at 18:20:00 28/07/2021 (UTC-6) by AudioMoth 2423C2045F256D74 at medium gain setting while battery state was 4.8V and temperature was 24.4C.\",\n",
      "            \"Duration\": \"0:00:30\"\n",
      "        },\n",
      "        \"/shared_volume/testing_simex/sacmod/SIPECAM/Entregas_2021/octubre_2021/SIPECAM/Playon_1338/Audio/1338_1/Ultrasonico/20210826_050000.WAV\": {\n",
      "            \"Battery\": \"4.4V\",\n",
      "            \"Datetime\": \"05:00:00 26/08/2021 (UTC-0600)\",\n",
      "            \"Gain\": \"medium\",\n",
      "            \"Timezone\": \"UTC\",\n",
      "            \"BitRate\": \"6.1 Mbit/sec\",\n",
      "            \"SerialNumber\": \"2423C2045F256D74\",\n",
      "            \"FileSize\": \"22 MiB\",\n",
      "            \"Encoding\": \"Microsoft PCM\",\n",
      "            \"NumChannels\": 1,\n",
      "            \"SampleRate\": 384000,\n",
      "            \"AvgBytesPerSec\": 768000,\n",
      "            \"BitsPerSample\": 16,\n",
      "            \"Comment\": \"Recorded at 05:00:00 26/08/2021 (UTC-6) by AudioMoth 2423C2045F256D74 at medium gain setting while battery state was 4.4V and temperature was 22.8C.\",\n",
      "            \"Duration\": \"0:00:30\"\n",
      "        }\n",
      "    },\n",
      "    \"FirstAndLastDate\": {\n",
      "        \"/shared_volume/testing_simex/sacmod/SIPECAM/Entregas_2021/octubre_2021/SIPECAM/Playon_1338/Audio/1338_1/Ultrasonico/20210728_184000.WAV\": \"2021-07-28\",\n",
      "        \"/shared_volume/testing_simex/sacmod/SIPECAM/Entregas_2021/octubre_2021/SIPECAM/Playon_1338/Audio/1338_1/Ultrasonico/20210826_050000.WAV\": \"2021-08-26\"\n",
      "    },\n",
      "    \"DaysBetweenFirstAndLastDate\": 29\n",
      "}\n"
     ]
    }
   ],
   "source": [
    "%%bash\n",
    "dir_to_be_processed=\"/shared_volume/testing_simex/sacmod/SIPECAM/Entregas_2021/octubre_2021/SIPECAM/Playon_1338/Audio/1338_1/Ultrasonico\"\n",
    "file_json=$(find \"$dir_to_be_processed\" -name \"*.json\")\n",
    "python3 -mjson.tool \"$file_json\" | tail -n 30"
   ]
  },
  {
   "cell_type": "markdown",
   "id": "b2dcf36c-cd9d-456d-8e03-510070228ac0",
   "metadata": {},
   "source": [
    "### Dir with audio files"
   ]
  },
  {
   "cell_type": "code",
   "execution_count": 18,
   "id": "a715563a-7658-4cfd-8580-03fa373f78e7",
   "metadata": {
    "tags": []
   },
   "outputs": [
    {
     "name": "stdout",
     "output_type": "stream",
     "text": [
      "2022-04-04 12:10:22,095 [INFO]  extraction of serial_numbers_dates_and_metadata_of_files_and_device\n",
      "2022-04-04 12:10:22,095 [INFO]  logs for extraction of serial_numbers_dates_and_metadata_of_files_and_device in /shared_volume/testing_simex/sacmod/SIPECAM/Entregas_2021/octubre_2021/SIPECAM/Galacia_1339/1339_2/Audio/Audible/Audible_simex_extract_serial_numbers_dates_and_metadata_of_files_and_device.json\n",
      "2022-04-04 12:10:22,095 [INFO]  extraction of metadata of device from /shared_volume/testing_simex/sacmod/SIPECAM/Entregas_2021/octubre_2021/SIPECAM/Galacia_1339/1339_2/Audio/Audible/20210828_052000.WAV\n",
      "2022-04-04 12:10:22,425 [INFO]  SUCCESSFUL extraction of serial number of /shared_volume/testing_simex/sacmod/SIPECAM/Entregas_2021/octubre_2021/SIPECAM/Galacia_1339/1339_2/Audio/Audible/20210828_052000.WAV\n",
      "2022-04-04 12:10:22,425 [INFO]  GPSFile key not found for videos, files from directory are of audio\n",
      "2022-04-04 12:10:23,996 [INFO]  extraction of date of /shared_volume/testing_simex/sacmod/SIPECAM/Entregas_2021/octubre_2021/SIPECAM/Galacia_1339/1339_2/Audio/Audible/20210828_052000.WAV\n",
      "2022-04-04 12:10:23,996 [INFO]  SUCCESSFUL extraction of date of /shared_volume/testing_simex/sacmod/SIPECAM/Entregas_2021/octubre_2021/SIPECAM/Galacia_1339/1339_2/Audio/Audible/20210828_052000.WAV\n",
      "2022-04-04 12:10:23,997 [INFO]  extraction of date of /shared_volume/testing_simex/sacmod/SIPECAM/Entregas_2021/octubre_2021/SIPECAM/Galacia_1339/1339_2/Audio/Audible/20210828_044000.WAV\n",
      "2022-04-04 12:10:23,997 [INFO]  SUCCESSFUL extraction of date of /shared_volume/testing_simex/sacmod/SIPECAM/Entregas_2021/octubre_2021/SIPECAM/Galacia_1339/1339_2/Audio/Audible/20210828_044000.WAV\n",
      "2022-04-04 12:10:23,997 [INFO]  extraction of date of /shared_volume/testing_simex/sacmod/SIPECAM/Entregas_2021/octubre_2021/SIPECAM/Galacia_1339/1339_2/Audio/Audible/20210729_184000.WAV\n",
      "2022-04-04 12:10:23,997 [INFO]  SUCCESSFUL extraction of date of /shared_volume/testing_simex/sacmod/SIPECAM/Entregas_2021/octubre_2021/SIPECAM/Galacia_1339/1339_2/Audio/Audible/20210729_184000.WAV\n",
      "2022-04-04 12:10:23,997 [INFO]  extraction of date of /shared_volume/testing_simex/sacmod/SIPECAM/Entregas_2021/octubre_2021/SIPECAM/Galacia_1339/1339_2/Audio/Audible/20210828_050000.WAV\n",
      "2022-04-04 12:10:23,997 [INFO]  SUCCESSFUL extraction of date of /shared_volume/testing_simex/sacmod/SIPECAM/Entregas_2021/octubre_2021/SIPECAM/Galacia_1339/1339_2/Audio/Audible/20210828_050000.WAV\n",
      "2022-04-04 12:10:23,997 [INFO]  extraction of date of /shared_volume/testing_simex/sacmod/SIPECAM/Entregas_2021/octubre_2021/SIPECAM/Galacia_1339/1339_2/Audio/Audible/20210729_192000.WAV\n",
      "2022-04-04 12:10:23,997 [INFO]  SUCCESSFUL extraction of date of /shared_volume/testing_simex/sacmod/SIPECAM/Entregas_2021/octubre_2021/SIPECAM/Galacia_1339/1339_2/Audio/Audible/20210729_192000.WAV\n"
     ]
    }
   ],
   "source": [
    "%%bash\n",
    "dir_to_be_processed=\"/shared_volume/testing_simex/sacmod/SIPECAM/Entregas_2021/octubre_2021/SIPECAM/Galacia_1339/1339_2/Audio/Audible\"\n",
    "file_for_logs=$(find \"$dir_to_be_processed\" -name \"logs_simex_extract_serial_numbers_dates_and_metadata_of_files_and_device.logs\")\n",
    "head -n 15 \"$file_for_logs\""
   ]
  },
  {
   "cell_type": "code",
   "execution_count": 19,
   "id": "cdedb299-fdef-436e-896f-743248072a06",
   "metadata": {},
   "outputs": [
    {
     "name": "stdout",
     "output_type": "stream",
     "text": [
      "{\n",
      "    \"MetadataDevice\": {\n",
      "        \"Artist\": \"AudioMoth 248D9B045EC9E6B1\",\n",
      "        \"SerialNumber\": \"248D9B045EC9E6B1\"\n",
      "    },\n",
      "    \"MetadataFiles\": {\n",
      "        \"/shared_volume/testing_simex/sacmod/SIPECAM/Entregas_2021/octubre_2021/SIPECAM/Galacia_1339/1339_2/Audio/Audible/20210828_052000.WAV\": {\n",
      "            \"Battery\": \"4.4V\",\n",
      "            \"Datetime\": \"05:20:00 28/08/2021 (UTC-0600)\",\n",
      "            \"Gain\": \"medium\",\n",
      "            \"Timezone\": \"UTC\",\n",
      "            \"BitRate\": \"6.1 Mbit/sec\",\n",
      "            \"SerialNumber\": \"248D9B045EC9E6B1\",\n",
      "            \"FileSize\": \"22 MiB\",\n",
      "            \"Encoding\": \"Microsoft PCM\",\n",
      "            \"NumChannels\": 1,\n",
      "            \"SampleRate\": 384000,\n",
      "            \"AvgBytesPerSec\": 768000,\n",
      "            \"BitsPerSample\": 16,\n",
      "            \"Comment\": \"Recorded at 05:20:00 28/08/2021 (UTC-6) by AudioMoth 248D9B045EC9E6B1 at medium gain setting while battery state was 4.4V and temperature was 22.6C.\",\n",
      "            \"Duration\": \"0:00:30\"\n",
      "        },\n",
      "        \"/shared_volume/testing_simex/sacmod/SIPECAM/Entregas_2021/octubre_2021/SIPECAM/Galacia_1339/1339_2/Audio/Audible/20210828_044000.WAV\": {\n",
      "            \"Battery\": \"4.4V\",\n",
      "            \"Datetime\": \"04:40:00 28/08/2021 (UTC-0600)\",\n",
      "            \"Gain\": \"medium\",\n",
      "            \"Timezone\": \"UTC\",\n",
      "            \"BitRate\": \"6.1 Mbit/sec\",\n",
      "            \"SerialNumber\": \"248D9B045EC9E6B1\",\n",
      "            \"FileSize\": \"22 MiB\",\n",
      "            \"Encoding\": \"Microsoft PCM\",\n",
      "            \"NumChannels\": 1,\n",
      "            \"SampleRate\": 384000,\n",
      "            \"AvgBytesPerSec\": 768000,\n",
      "            \"BitsPerSample\": 16,\n",
      "            \"Comment\": \"Recorded at 04:40:00 28/08/2021 (UTC-6) by AudioMoth 248D9B045EC9E6B1 at medium gain setting while battery state was 4.4V and temperature was 22.6C.\",\n",
      "            \"Duration\": \"0:00:30\"\n",
      "        },\n",
      "        \"/shared_volume/testing_simex/sacmod/SIPECAM/Entregas_2021/octubre_2021/SIPECAM/Galacia_1339/1339_2/Audio/Audible/20210729_184000.WAV\": {\n",
      "            \"Battery\": \"4.8V\",\n"
     ]
    }
   ],
   "source": [
    "%%bash\n",
    "dir_to_be_processed=\"/shared_volume/testing_simex/sacmod/SIPECAM/Entregas_2021/octubre_2021/SIPECAM/Galacia_1339/1339_2/Audio/Audible\"\n",
    "file_json=$(find \"$dir_to_be_processed\" -name '*.json')\n",
    "python3 -mjson.tool \"$file_json\" | head -n 40"
   ]
  },
  {
   "cell_type": "code",
   "execution_count": 20,
   "id": "58b4ea5d-787c-4d2e-a51a-4e1d73ae8627",
   "metadata": {},
   "outputs": [
    {
     "name": "stdout",
     "output_type": "stream",
     "text": [
      "            \"NumChannels\": 1,\n",
      "            \"SampleRate\": 384000,\n",
      "            \"AvgBytesPerSec\": 768000,\n",
      "            \"BitsPerSample\": 16,\n",
      "            \"Comment\": \"Recorded at 04:20:00 28/08/2021 (UTC-6) by AudioMoth 248D9B045EC9E6B1 at medium gain setting while battery state was 4.4V and temperature was 22.9C.\",\n",
      "            \"Duration\": \"0:00:30\"\n",
      "        },\n",
      "        \"/shared_volume/testing_simex/sacmod/SIPECAM/Entregas_2021/octubre_2021/SIPECAM/Galacia_1339/1339_2/Audio/Audible/20210729_190000.WAV\": {\n",
      "            \"Battery\": \"4.8V\",\n",
      "            \"Datetime\": \"19:00:00 29/07/2021 (UTC-0600)\",\n",
      "            \"Gain\": \"medium\",\n",
      "            \"Timezone\": \"UTC\",\n",
      "            \"BitRate\": \"6.1 Mbit/sec\",\n",
      "            \"SerialNumber\": \"248D9B045EC9E6B1\",\n",
      "            \"FileSize\": \"22 MiB\",\n",
      "            \"Encoding\": \"Microsoft PCM\",\n",
      "            \"NumChannels\": 1,\n",
      "            \"SampleRate\": 384000,\n",
      "            \"AvgBytesPerSec\": 768000,\n",
      "            \"BitsPerSample\": 16,\n",
      "            \"Comment\": \"Recorded at 19:00:00 29/07/2021 (UTC-6) by AudioMoth 248D9B045EC9E6B1 at medium gain setting while battery state was 4.8V and temperature was 26.9C.\",\n",
      "            \"Duration\": \"0:00:30\"\n",
      "        }\n",
      "    },\n",
      "    \"FirstAndLastDate\": {\n",
      "        \"/shared_volume/testing_simex/sacmod/SIPECAM/Entregas_2021/octubre_2021/SIPECAM/Galacia_1339/1339_2/Audio/Audible/20210729_184000.WAV\": \"2021-07-29\",\n",
      "        \"/shared_volume/testing_simex/sacmod/SIPECAM/Entregas_2021/octubre_2021/SIPECAM/Galacia_1339/1339_2/Audio/Audible/20210828_042000.WAV\": \"2021-08-28\"\n",
      "    },\n",
      "    \"DaysBetweenFirstAndLastDate\": 30\n",
      "}\n"
     ]
    }
   ],
   "source": [
    "%%bash\n",
    "dir_to_be_processed=\"/shared_volume/testing_simex/sacmod/SIPECAM/Entregas_2021/octubre_2021/SIPECAM/Galacia_1339/1339_2/Audio/Audible\"\n",
    "file_json=$(find \"$dir_to_be_processed\" -name '*.json')\n",
    "python3 -mjson.tool \"$file_json\" | tail -n 30"
   ]
  },
  {
   "cell_type": "markdown",
   "id": "c8e13683-5190-44b0-908e-e93ecee13a99",
   "metadata": {},
   "source": [
    "## Dir with images and videos empty GPS info"
   ]
  },
  {
   "cell_type": "code",
   "execution_count": 21,
   "id": "f64643b7-bc84-4540-a0ec-419a0977842f",
   "metadata": {
    "tags": []
   },
   "outputs": [
    {
     "name": "stdout",
     "output_type": "stream",
     "text": [
      "2022-04-04 12:10:24,181 [INFO]  extraction of serial_numbers_dates_and_metadata_of_files_and_device\n",
      "2022-04-04 12:10:24,181 [INFO]  logs for extraction of serial_numbers_dates_and_metadata_of_files_and_device in /shared_volume/testing_simex/sacmod/SIPECAM/cumulo_92/Mes 4/3_92_0_1341/3_92_0_1341_5/100RECNX/100RECNX_simex_extract_serial_numbers_dates_and_metadata_of_files_and_device.json\n",
      "2022-04-04 12:10:24,182 [INFO]  extraction of metadata of device from /shared_volume/testing_simex/sacmod/SIPECAM/cumulo_92/Mes 4/3_92_0_1341/3_92_0_1341_5/100RECNX/RCNX0005.JPG\n",
      "2022-04-04 12:10:24,339 [INFO]  SUCCESSFUL extraction of serial number of /shared_volume/testing_simex/sacmod/SIPECAM/cumulo_92/Mes 4/3_92_0_1341/3_92_0_1341_5/100RECNX/RCNX0005.JPG\n",
      "2022-04-04 12:10:24,664 [INFO]  there were no GPS metadata associated with file /shared_volume/testing_simex/sacmod/SIPECAM/cumulo_92/Mes 4/3_92_0_1341/3_92_0_1341_5/100RECNX/RCNX0005.JPG, returning empty string\n",
      "2022-04-04 12:10:26,243 [INFO]  extraction of date of /shared_volume/testing_simex/sacmod/SIPECAM/cumulo_92/Mes 4/3_92_0_1341/3_92_0_1341_5/100RECNX/RCNX0005.JPG\n",
      "2022-04-04 12:10:26,243 [INFO]  SUCCESSFUL extraction of date of /shared_volume/testing_simex/sacmod/SIPECAM/cumulo_92/Mes 4/3_92_0_1341/3_92_0_1341_5/100RECNX/RCNX0005.JPG\n",
      "2022-04-04 12:10:26,243 [INFO]  there were no GPS metadata associated with file /shared_volume/testing_simex/sacmod/SIPECAM/cumulo_92/Mes 4/3_92_0_1341/3_92_0_1341_5/100RECNX/RCNX0005.JPG, returning empty string\n",
      "2022-04-04 12:10:26,243 [INFO]  extraction of date of /shared_volume/testing_simex/sacmod/SIPECAM/cumulo_92/Mes 4/3_92_0_1341/3_92_0_1341_5/100RECNX/RCNX0425.JPG\n",
      "2022-04-04 12:10:26,243 [INFO]  SUCCESSFUL extraction of date of /shared_volume/testing_simex/sacmod/SIPECAM/cumulo_92/Mes 4/3_92_0_1341/3_92_0_1341_5/100RECNX/RCNX0425.JPG\n",
      "2022-04-04 12:10:26,243 [INFO]  there were no GPS metadata associated with file /shared_volume/testing_simex/sacmod/SIPECAM/cumulo_92/Mes 4/3_92_0_1341/3_92_0_1341_5/100RECNX/RCNX0425.JPG, returning empty string\n",
      "2022-04-04 12:10:26,243 [INFO]  extraction of date of /shared_volume/testing_simex/sacmod/SIPECAM/cumulo_92/Mes 4/3_92_0_1341/3_92_0_1341_5/100RECNX/RCNX0002.JPG\n",
      "2022-04-04 12:10:26,243 [INFO]  SUCCESSFUL extraction of date of /shared_volume/testing_simex/sacmod/SIPECAM/cumulo_92/Mes 4/3_92_0_1341/3_92_0_1341_5/100RECNX/RCNX0002.JPG\n",
      "2022-04-04 12:10:26,243 [INFO]  there were no GPS metadata associated with file /shared_volume/testing_simex/sacmod/SIPECAM/cumulo_92/Mes 4/3_92_0_1341/3_92_0_1341_5/100RECNX/RCNX0002.JPG, returning empty string\n",
      "2022-04-04 12:10:26,244 [INFO]  extraction of date of /shared_volume/testing_simex/sacmod/SIPECAM/cumulo_92/Mes 4/3_92_0_1341/3_92_0_1341_5/100RECNX/RCNX0004.JPG\n"
     ]
    }
   ],
   "source": [
    "%%bash\n",
    "dir_to_be_processed=\"/shared_volume/testing_simex/sacmod/SIPECAM/cumulo_92/Mes 4/3_92_0_1341/3_92_0_1341_5/100RECNX/\"\n",
    "file_for_logs=$(find \"$dir_to_be_processed\" -name \"logs_simex_extract_serial_numbers_dates_and_metadata_of_files_and_device.logs\")\n",
    "head -n 15 \"$file_for_logs\""
   ]
  },
  {
   "cell_type": "code",
   "execution_count": 22,
   "id": "1ef87b31-6688-4830-b973-de299a3e1bab",
   "metadata": {},
   "outputs": [
    {
     "name": "stdout",
     "output_type": "stream",
     "text": [
      "{\n",
      "    \"MetadataDevice\": {\n",
      "        \"Make\": \"RECONYX\",\n",
      "        \"Model\": \"HF2 PRO COVERT\",\n",
      "        \"SerialNumber\": \"HLPXGM09048599\"\n",
      "    },\n",
      "    \"MetadataFiles\": {\n",
      "        \"/shared_volume/testing_simex/sacmod/SIPECAM/cumulo_92/Mes 4/3_92_0_1341/3_92_0_1341_5/100RECNX/RCNX0005.JPG\": {\n",
      "            \"Make\": \"RECONYX\",\n",
      "            \"Model\": \"HF2 PRO COVERT\",\n",
      "            \"DateTimeOriginal\": \"2021:11:14 13:36:07\",\n",
      "            \"SerialNumber\": \"HLPXGM09048599\",\n",
      "            \"FileSize\": \"638 KiB\",\n",
      "            \"ExifByteOrder\": \"Little-endian (Intel, II)\",\n",
      "            \"ImageWidth\": 2048,\n",
      "            \"ImageHeight\": 1440,\n",
      "            \"EncodingProcess\": \"Baseline DCT, Huffman coding\",\n",
      "            \"BitsPerSample\": 8,\n",
      "            \"ColorComponents\": 3,\n",
      "            \"YCbCrSubSampling\": \"YCbCr4:2:2 (2 1)\",\n",
      "            \"XResolution\": 72,\n",
      "            \"YResolution\": 72,\n",
      "            \"ResolutionUnit\": \"inches\",\n",
      "            \"YCbCrPositioning\": \"Co-sited\",\n",
      "            \"ExposureTime\": \"1/30\",\n",
      "            \"ISO\": 1600,\n",
      "            \"TimeZoneOffset\": 0,\n",
      "            \"ComponentsConfiguration\": \"Y, Cb, Cr, -\",\n",
      "            \"ColorSpace\": \"sRGB\",\n",
      "            \"AmbientTemperature\": \"25 C\",\n",
      "            \"Contrast\": 128,\n",
      "            \"Brightness\": 0,\n",
      "            \"Sharpness\": 64,\n",
      "            \"Saturation\": 128,\n",
      "            \"Flash\": \"Off\",\n",
      "            \"AmbientInfrared\": 92,\n",
      "            \"AmbientLight\": 180,\n",
      "            \"MotionSensitivity\": 80,\n",
      "            \"BatteryVoltage\": 7463,\n",
      "            \"BatteryVoltageAvg\": 7517,\n",
      "            \"Megapixels\": 2.94912,\n",
      "            \"GPSLatitudeRef\": \"\",\n",
      "            \"GPSLongitudeRef\": \"\",\n",
      "            \"GPSLatitude\": \"\",\n",
      "            \"GPSLongitude\": \"\"\n",
      "        },\n",
      "        \"/shared_volume/testing_simex/sacmod/SIPECAM/cumulo_92/Mes 4/3_92_0_1341/3_92_0_1341_5/100RECNX/RCNX0425.JPG\": {\n",
      "            \"Make\": \"RECONYX\",\n",
      "            \"Model\": \"HF2 PRO COVERT\",\n",
      "            \"DateTimeOriginal\": \"2021:12:17 10:13:13\",\n",
      "            \"SerialNumber\": \"HLPXGM09048599\",\n",
      "            \"FileSize\": \"582 KiB\",\n",
      "            \"ExifByteOrder\": \"Little-endian (Intel, II)\",\n",
      "            \"ImageWidth\": 2048,\n",
      "            \"ImageHeight\": 1440,\n",
      "            \"EncodingProcess\": \"Baseline DCT, Huffman coding\",\n",
      "            \"BitsPerSample\": 8,\n",
      "            \"ColorComponents\": 3,\n",
      "            \"YCbCrSubSampling\": \"YCbCr4:2:2 (2 1)\",\n",
      "            \"XResolution\": 72,\n",
      "            \"YResolution\": 72,\n",
      "            \"ResolutionUnit\": \"inches\",\n",
      "            \"YCbCrPositioning\": \"Co-sited\",\n",
      "            \"ExposureTime\": \"1/30\",\n",
      "            \"ISO\": 1250,\n",
      "            \"TimeZoneOffset\": 0,\n",
      "            \"ComponentsConfiguration\": \"Y, Cb, Cr, -\",\n",
      "            \"ColorSpace\": \"sRGB\",\n",
      "            \"AmbientTemperature\": \"21 C\",\n",
      "            \"Contrast\": 128,\n",
      "            \"Brightness\": 0,\n",
      "            \"Sharpness\": 64,\n",
      "            \"Saturation\": 128,\n",
      "            \"Flash\": \"Off\",\n",
      "            \"AmbientInfrared\": 219,\n",
      "            \"AmbientLight\": 423,\n",
      "            \"MotionSensitivity\": 80,\n",
      "            \"BatteryVoltage\": 7038,\n",
      "            \"BatteryVoltageAvg\": 7055,\n",
      "            \"Megapixels\": 2.94912,\n"
     ]
    }
   ],
   "source": [
    "%%bash\n",
    "dir_to_be_processed=\"/shared_volume/testing_simex/sacmod/SIPECAM/cumulo_92/Mes 4/3_92_0_1341/3_92_0_1341_5/100RECNX/\"\n",
    "file_json=$(find \"$dir_to_be_processed\" -name \"*.json\")\n",
    "python3 -mjson.tool \"$file_json\"|head -n 80"
   ]
  },
  {
   "cell_type": "code",
   "execution_count": 23,
   "id": "e9906eb9-c721-4a9a-859b-ed6bde73f65d",
   "metadata": {},
   "outputs": [
    {
     "name": "stdout",
     "output_type": "stream",
     "text": [
      "            \"MaxDataRate\": 26542080,\n",
      "            \"Megapixels\": 0.73728,\n",
      "            \"GPSLatitudeRef\": \"\",\n",
      "            \"GPSLongitudeRef\": \"\",\n",
      "            \"GPSLatitude\": \"\",\n",
      "            \"GPSLongitude\": \"\"\n",
      "        },\n",
      "        \"/shared_volume/testing_simex/sacmod/SIPECAM/cumulo_92/Mes 4/3_92_0_1341/3_92_0_1341_5/100RECNX/RCNX0003.AVI\": {\n",
      "            \"BitRate\": \"15.1 Mbit/sec\",\n",
      "            \"Endianness\": \"Little endian\",\n",
      "            \"VideoBitsPerPixel\": \"24\",\n",
      "            \"VideoCompression\": \"Motion JPEG DIB (fourcc:\\\"MJPG\\\")\",\n",
      "            \"AudioSampleRate\": \"16.0 kHz\",\n",
      "            \"AudioCompressionRate\": \"1.0x\",\n",
      "            \"AudioCompression\": \"Microsoft Pulse Code Modulation (PCM)\",\n",
      "            \"AudioBitRate\": \"256.4 Kbit/sec\",\n",
      "            \"FileSize\": \"9.2 MiB\",\n",
      "            \"DateTimeOriginal\": \"2021:11:14 13:35:41\",\n",
      "            \"BMPVersion\": \"Windows V3\",\n",
      "            \"ImageWidth\": 1024,\n",
      "            \"ImageHeight\": 720,\n",
      "            \"Planes\": 1,\n",
      "            \"ImageLength\": 2211840,\n",
      "            \"PixelsPerMeterX\": 0,\n",
      "            \"PixelsPerMeterY\": 0,\n",
      "            \"NumColors\": \"Use BitDepth\",\n",
      "            \"NumImportantColors\": \"All\",\n",
      "            \"FrameRate\": 12.5,\n",
      "            \"FrameCount\": 64,\n",
      "            \"StreamCount\": 2,\n",
      "            \"AudioSampleCount\": 0,\n",
      "            \"Encoding\": \"Microsoft PCM\",\n",
      "            \"NumChannels\": 1,\n",
      "            \"AvgBytesPerSec\": 32050,\n",
      "            \"BitsPerSample\": 16,\n",
      "            \"Duration\": \"5.12 s\",\n",
      "            \"MaxDataRate\": 26542080,\n",
      "            \"Megapixels\": 0.73728,\n",
      "            \"GPSLatitudeRef\": \"\",\n",
      "            \"GPSLongitudeRef\": \"\",\n",
      "            \"GPSLatitude\": \"\",\n",
      "            \"GPSLongitude\": \"\"\n",
      "        }\n",
      "    },\n",
      "    \"FirstAndLastDate\": {\n",
      "        \"/shared_volume/testing_simex/sacmod/SIPECAM/cumulo_92/Mes 4/3_92_0_1341/3_92_0_1341_5/100RECNX/RCNX0005.JPG\": \"2021-11-14\",\n",
      "        \"/shared_volume/testing_simex/sacmod/SIPECAM/cumulo_92/Mes 4/3_92_0_1341/3_92_0_1341_5/100RECNX/RCNX0426.AVI\": \"2021-12-17\"\n",
      "    },\n",
      "    \"DaysBetweenFirstAndLastDate\": 33\n",
      "}\n"
     ]
    }
   ],
   "source": [
    "%%bash\n",
    "dir_to_be_processed=\"/shared_volume/testing_simex/sacmod/SIPECAM/cumulo_92/Mes 4/3_92_0_1341/3_92_0_1341_5/100RECNX/\"\n",
    "file_json=$(find \"$dir_to_be_processed\" -name \"*.json\")\n",
    "python3 -mjson.tool \"$file_json\"|tail -n 50"
   ]
  },
  {
   "cell_type": "markdown",
   "id": "6651eaa9-c0fd-48fe-8ed1-dc7808bdee3d",
   "metadata": {},
   "source": [
    "# Move files to standard directory"
   ]
  },
  {
   "cell_type": "code",
   "execution_count": null,
   "id": "8aa05690-46df-400d-b9ca-6ae7646d9bbb",
   "metadata": {},
   "outputs": [],
   "source": [
    "%%bash\n",
    "echo \"SIPECAM_ZENDRO_GQL_URL=https://gql.sipecamdata.conabio.gob.mx/\" > ~/.simex_env\n",
    "echo \"SIPECAM_ZENDRO_GQL_USER=<user>\" >> ~/.simex_env\n",
    "echo \"SIPECAM_ZENDRO_GQL_PASSWORD=<password>\" >> ~/.simex_env"
   ]
  },
  {
   "cell_type": "markdown",
   "id": "1256c162-8c52-48f5-8bfa-9e7e77da3354",
   "metadata": {},
   "source": [
    "## Dir with images & videos"
   ]
  },
  {
   "cell_type": "code",
   "execution_count": 24,
   "id": "0de065c2-71d6-4725-b952-d64715659759",
   "metadata": {},
   "outputs": [],
   "source": [
    "%%bash\n",
    "dir_to_be_processed=\"/shared_volume/testing_simex/sacmod/SIPECAM/Entregas_2021/octubre_2021/SIPECAM/Playon_1338/Camaras/1338_1/100RECNX/\"\n",
    "path_std_dir=\"/shared_volume/testing_simex/sipecam_simex_std_dir\"\n",
    "move_files_to_standard_directory --directory_with_file_of_serial_number_and_dates \"$dir_to_be_processed\" --path_for_standard_directory \"$path_std_dir\""
   ]
  },
  {
   "cell_type": "markdown",
   "id": "8cdc15a2-2431-4acc-bf01-78a1b413d6c1",
   "metadata": {
    "tags": []
   },
   "source": [
    "## Check it"
   ]
  },
  {
   "cell_type": "code",
   "execution_count": 25,
   "id": "6646be13-a61d-4a1f-b00b-3cf39f8aa31e",
   "metadata": {},
   "outputs": [
    {
     "name": "stdout",
     "output_type": "stream",
     "text": [
      "2022-04-04 12:11:08,199 [INFO]  Dir /shared_volume/testing_simex/sacmod/SIPECAM/Entregas_2021/octubre_2021/SIPECAM/Playon_1338/Camaras/1338_1/100RECNX/ has serial number HLPXGM09048890\n",
      "2022-04-04 12:11:08,200 [INFO]  File /shared_volume/testing_simex/sacmod/SIPECAM/Entregas_2021/octubre_2021/SIPECAM/Playon_1338/Camaras/1338_1/100RECNX/RCNX0005.JPG has date 2021-07-28\n",
      "2022-04-04 12:11:08,200 [INFO]  File /shared_volume/testing_simex/sacmod/SIPECAM/Entregas_2021/octubre_2021/SIPECAM/Playon_1338/Camaras/1338_1/100RECNX/RCNX0075.AVI has date 2021-08-26\n",
      "2022-04-04 12:11:08,200 [INFO]  DaysBetweenFirstAndLastDate: 29\n",
      "2022-04-04 12:11:08,368 [INFO]  Query to Zendro GQL: query {\n",
      "  physical_devices(pagination: {limit: 0}, search: {field: serial_number, value: \"HLPXGM09048890\", operator: like}) {\n",
      "    device_deploymentsFilter(pagination: {limit: 0}, search: {operator: and, search: [{field: date_deployment, value: \"2021-07-28\", valueType: String, operator: gte}, {field: date_deployment, value: \"2021-08-26\", valueType: String, operator: lte}]}) {\n",
      "      node {\n",
      "        nomenclatura\n",
      "        cat_integr\n",
      "        ecosystems {\n",
      "          name\n",
      "        }\n",
      "      }\n",
      "      cumulus {\n",
      "        name\n",
      "        geometry\n",
      "      }\n",
      "      date_deployment\n",
      "      latitude\n",
      "      longitude\n",
      "    }\n",
      "  }\n",
      "}\n",
      "2022-04-04 12:11:08,368 [INFO]  SUCCESSFUL extraction of nomenclature of node, cumulus name and date of deployment\n",
      "2022-04-04 12:11:08,368 [INFO]  directory /shared_volume/testing_simex/sacmod/SIPECAM/Entregas_2021/octubre_2021/SIPECAM/Playon_1338/Camaras/1338_1/100RECNX/ has nom node: 3_92_1_1338, cum name: 92, date of depl: 2021-07-28, ecosystems name: Selvas humedas,                          latitude and longitude of device:  16.15832, -90.90487, node category of integrity: Integro\n",
      "2022-04-04 12:11:08,368 [INFO]  compute centroid of cumulus\n",
      "2022-04-04 12:11:08,368 [INFO]  Centroid of cumulus, lat: 16.17538, long: -90.87685\n",
      "2022-04-04 12:11:08,368 [INFO]  Validating lat and long of device are correct using lat long of cumulus centroid\n",
      "2022-04-04 12:11:08,369 [INFO]  Latitude and Longitude of device are in cumulus geometry\n",
      "2022-04-04 12:11:08,369 [INFO]  filling dict MetadataDevice using query results from Zendro\n",
      "2022-04-04 12:11:08,369 [INFO]  path where files will be moved: /shared_volume/testing_simex/sipecam_simex_std_dir/92/3_92_1_1338/HLPXGM09048890/2021-07-28\n",
      "2022-04-04 12:11:08,372 [INFO]  File /shared_volume/testing_simex/sacmod/SIPECAM/Entregas_2021/octubre_2021/SIPECAM/Playon_1338/Camaras/1338_1/100RECNX/RCNX0074.JPG will be moved to: /shared_volume/testing_simex/sipecam_simex_std_dir/92/3_92_1_1338/HLPXGM09048890/2021-07-28/images_videos with name b17f1d78318f84bd411c514e56ae7f62_0074.JPG\n",
      "2022-04-04 12:11:08,372 [INFO]  Validating lat and long of file are correct using lat long of cumulus centroid\n",
      "2022-04-04 12:11:08,373 [INFO]  Latitude and Longitude of file are in cumulus geometry\n",
      "2022-04-04 12:11:08,373 [INFO]  Writing lat long of centroid of cumulus for MetadataFiles\n",
      "2022-04-04 12:11:08,375 [INFO]  File /shared_volume/testing_simex/sacmod/SIPECAM/Entregas_2021/octubre_2021/SIPECAM/Playon_1338/Camaras/1338_1/100RECNX/RCNX0073.JPG will be moved to: /shared_volume/testing_simex/sipecam_simex_std_dir/92/3_92_1_1338/HLPXGM09048890/2021-07-28/images_videos with name c8fb712b40aff00df1612cd9b61eabd1_0073.JPG\n",
      "2022-04-04 12:11:08,375 [INFO]  Validating lat and long of file are correct using lat long of cumulus centroid\n",
      "2022-04-04 12:11:08,375 [INFO]  Latitude and Longitude of file are in cumulus geometry\n",
      "2022-04-04 12:11:08,375 [INFO]  Writing lat long of centroid of cumulus for MetadataFiles\n",
      "2022-04-04 12:11:08,376 [INFO]  File /shared_volume/testing_simex/sacmod/SIPECAM/Entregas_2021/octubre_2021/SIPECAM/Playon_1338/Camaras/1338_1/100RECNX/RCNX0005.JPG will be moved to: /shared_volume/testing_simex/sipecam_simex_std_dir/92/3_92_1_1338/HLPXGM09048890/2021-07-28/images_videos with name 578e4c90aca381768ecc625a20257563_0005.JPG\n",
      "2022-04-04 12:11:08,377 [INFO]  Validating lat and long of file are correct using lat long of cumulus centroid\n",
      "2022-04-04 12:11:08,377 [INFO]  Latitude and Longitude of file are in cumulus geometry\n",
      "2022-04-04 12:11:08,377 [INFO]  Writing lat long of centroid of cumulus for MetadataFiles\n",
      "2022-04-04 12:11:08,382 [INFO]  File /shared_volume/testing_simex/sacmod/SIPECAM/Entregas_2021/octubre_2021/SIPECAM/Playon_1338/Camaras/1338_1/100RECNX/RCNX0002.JPG will be moved to: /shared_volume/testing_simex/sipecam_simex_std_dir/92/3_92_1_1338/HLPXGM09048890/2021-07-28/images_videos with name 1ab65d1d732931a054adaec82c36d25e_0002.JPG\n",
      "2022-04-04 12:11:08,382 [INFO]  Validating lat and long of file are correct using lat long of cumulus centroid\n",
      "2022-04-04 12:11:08,382 [INFO]  Latitude and Longitude of file are in cumulus geometry\n",
      "2022-04-04 12:11:08,383 [INFO]  Writing lat long of centroid of cumulus for MetadataFiles\n",
      "2022-04-04 12:11:08,384 [INFO]  File /shared_volume/testing_simex/sacmod/SIPECAM/Entregas_2021/octubre_2021/SIPECAM/Playon_1338/Camaras/1338_1/100RECNX/RCNX0004.JPG will be moved to: /shared_volume/testing_simex/sipecam_simex_std_dir/92/3_92_1_1338/HLPXGM09048890/2021-07-28/images_videos with name c03fff6f38b6ee1fea5efe09cb6ba6c4_0004.JPG\n",
      "2022-04-04 12:11:08,384 [INFO]  Validating lat and long of file are correct using lat long of cumulus centroid\n",
      "2022-04-04 12:11:08,384 [INFO]  Latitude and Longitude of file are in cumulus geometry\n",
      "2022-04-04 12:11:08,385 [INFO]  Writing lat long of centroid of cumulus for MetadataFiles\n",
      "2022-04-04 12:11:08,390 [INFO]  File /shared_volume/testing_simex/sacmod/SIPECAM/Entregas_2021/octubre_2021/SIPECAM/Playon_1338/Camaras/1338_1/100RECNX/RCNX0001.JPG will be moved to: /shared_volume/testing_simex/sipecam_simex_std_dir/92/3_92_1_1338/HLPXGM09048890/2021-07-28/images_videos with name 0b25f2b060c39c16d709670bcb03fd25_0001.JPG\n",
      "2022-04-04 12:11:08,390 [INFO]  Validating lat and long of file are correct using lat long of cumulus centroid\n",
      "2022-04-04 12:11:08,390 [INFO]  Latitude and Longitude of file are in cumulus geometry\n",
      "2022-04-04 12:11:08,390 [INFO]  Writing lat long of centroid of cumulus for MetadataFiles\n",
      "2022-04-04 12:11:08,392 [INFO]  File /shared_volume/testing_simex/sacmod/SIPECAM/Entregas_2021/octubre_2021/SIPECAM/Playon_1338/Camaras/1338_1/100RECNX/RCNX0071.JPG will be moved to: /shared_volume/testing_simex/sipecam_simex_std_dir/92/3_92_1_1338/HLPXGM09048890/2021-07-28/images_videos with name d6c5d033690b934ddd6aa4edcacf9120_0071.JPG\n",
      "2022-04-04 12:11:08,392 [INFO]  Validating lat and long of file are correct using lat long of cumulus centroid\n",
      "2022-04-04 12:11:08,392 [INFO]  Latitude and Longitude of file are in cumulus geometry\n",
      "2022-04-04 12:11:08,393 [INFO]  Writing lat long of centroid of cumulus for MetadataFiles\n",
      "2022-04-04 12:11:08,410 [INFO]  File /shared_volume/testing_simex/sacmod/SIPECAM/Entregas_2021/octubre_2021/SIPECAM/Playon_1338/Camaras/1338_1/100RECNX/RCNX0072.AVI will be moved to: /shared_volume/testing_simex/sipecam_simex_std_dir/92/3_92_1_1338/HLPXGM09048890/2021-07-28/images_videos with name a0b803745d9d603d52f4882d594b54af_0072.AVI\n",
      "2022-04-04 12:11:08,410 [INFO]  Validating lat and long of file are correct using lat long of cumulus centroid\n",
      "2022-04-04 12:11:08,410 [INFO]  Latitude and Longitude of file are in cumulus geometry\n",
      "2022-04-04 12:11:08,411 [INFO]  Writing lat long of centroid of cumulus for MetadataFiles\n",
      "2022-04-04 12:11:08,440 [INFO]  File /shared_volume/testing_simex/sacmod/SIPECAM/Entregas_2021/octubre_2021/SIPECAM/Playon_1338/Camaras/1338_1/100RECNX/RCNX0003.AVI will be moved to: /shared_volume/testing_simex/sipecam_simex_std_dir/92/3_92_1_1338/HLPXGM09048890/2021-07-28/images_videos with name 9d3e45505ec06edfedd1368a2cd71656_0003.AVI\n",
      "2022-04-04 12:11:08,440 [INFO]  Validating lat and long of file are correct using lat long of cumulus centroid\n",
      "2022-04-04 12:11:08,441 [INFO]  Latitude and Longitude of file are in cumulus geometry\n",
      "2022-04-04 12:11:08,441 [INFO]  Writing lat long of centroid of cumulus for MetadataFiles\n",
      "2022-04-04 12:11:08,458 [INFO]  File /shared_volume/testing_simex/sacmod/SIPECAM/Entregas_2021/octubre_2021/SIPECAM/Playon_1338/Camaras/1338_1/100RECNX/RCNX0075.AVI will be moved to: /shared_volume/testing_simex/sipecam_simex_std_dir/92/3_92_1_1338/HLPXGM09048890/2021-07-28/images_videos with name 6d38827508bcbe68600d0da0789a156c_0075.AVI\n",
      "2022-04-04 12:11:08,458 [INFO]  Validating lat and long of file are correct using lat long of cumulus centroid\n",
      "2022-04-04 12:11:08,458 [INFO]  Latitude and Longitude of file are in cumulus geometry\n",
      "2022-04-04 12:11:08,458 [INFO]  Writing lat long of centroid of cumulus for MetadataFiles\n"
     ]
    }
   ],
   "source": [
    "%%bash\n",
    "dir_to_be_processed=\"/shared_volume/testing_simex/sacmod/SIPECAM/Entregas_2021/octubre_2021/SIPECAM/Playon_1338/Camaras/1338_1/100RECNX/\"\n",
    "file_for_logs=$(find \"$dir_to_be_processed\" -name 'logs_simex_move_files_to_standard_directory.logs')\n",
    "head -n 75 \"$file_for_logs\""
   ]
  },
  {
   "cell_type": "code",
   "execution_count": 26,
   "id": "51e88f70-98ca-4a43-9a8e-f0bd82cc08c2",
   "metadata": {},
   "outputs": [
    {
     "name": "stdout",
     "output_type": "stream",
     "text": [
      "{\n",
      "    \"DaysBetweenFirstAndLastDate\": 29,\n",
      "    \"MetadataDevice\": {\n",
      "        \"Make\": \"RECONYX\",\n",
      "        \"Model\": \"HF2 PRO COVERT\",\n",
      "        \"SerialNumber\": \"HLPXGM09048890\",\n",
      "        \"NomenclatureNode\": \"3_92_1_1338\",\n",
      "        \"CumulusName\": \"92\",\n",
      "        \"CentroidCumulusLatitude\": 16.17538,\n",
      "        \"CentroidCumulusLongitude\": -90.87685,\n",
      "        \"DateDeployment\": \"2021-07-28\",\n",
      "        \"EcosystemsName\": \"Selvas humedas\",\n",
      "        \"Latitude\": 16.15832,\n",
      "        \"Longitude\": -90.90487,\n",
      "        \"NodeCategoryIntegrity\": \"Integro\"\n",
      "    },\n",
      "    \"MetadataFiles\": {\n",
      "        \"/shared_volume/testing_simex/sipecam_simex_std_dir/92/3_92_1_1338/HLPXGM09048890/2021-07-28/images_videos/b17f1d78318f84bd411c514e56ae7f62_0074.JPG\": {\n",
      "            \"Make\": \"RECONYX\",\n",
      "            \"Model\": \"HF2 PRO COVERT\",\n",
      "            \"DateTimeOriginal\": \"2021:08:26 13:12:35\",\n",
      "            \"SerialNumber\": \"HLPXGM09048890\",\n",
      "            \"FileSize\": \"627 KiB\",\n",
      "            \"ExifByteOrder\": \"Little-endian (Intel, II)\",\n",
      "            \"ImageWidth\": 2048,\n",
      "            \"ImageHeight\": 1440,\n",
      "            \"EncodingProcess\": \"Baseline DCT, Huffman coding\",\n",
      "            \"BitsPerSample\": 8,\n",
      "            \"ColorComponents\": 3,\n",
      "            \"YCbCrSubSampling\": \"YCbCr4:2:2 (2 1)\",\n",
      "            \"XResolution\": 72,\n",
      "            \"YResolution\": 72,\n",
      "            \"ResolutionUnit\": \"inches\",\n",
      "            \"YCbCrPositioning\": \"Co-sited\",\n",
      "            \"ExposureTime\": \"1/30\",\n",
      "            \"ISO\": 1600,\n",
      "            \"TimeZoneOffset\": -6,\n",
      "            \"ComponentsConfiguration\": \"Y, Cb, Cr, -\",\n",
      "            \"ColorSpace\": \"sRGB\",\n",
      "            \"AmbientTemperature\": \"27 C\",\n",
      "            \"Contrast\": 128,\n",
      "            \"Brightness\": 0,\n",
      "            \"Sharpness\": 64,\n",
      "            \"Saturation\": 128,\n",
      "            \"Flash\": \"Off\",\n",
      "            \"AmbientInfrared\": 363,\n",
      "            \"AmbientLight\": 711,\n",
      "            \"MotionSensitivity\": 80,\n",
      "            \"BatteryVoltage\": 7354,\n",
      "            \"BatteryVoltageAvg\": 7371,\n",
      "            \"Megapixels\": 2.94912,\n",
      "            \"GPSLatitudeRef\": \"North\",\n",
      "            \"GPSLongitudeRef\": \"West\",\n",
      "            \"GPSLatitude\": 16.1583,\n",
      "            \"GPSLongitude\": -90.9048,\n",
      "            \"CentroidCumulusLatitude\": 16.17538,\n",
      "            \"CentroidCumulusLongitude\": -90.87685\n",
      "        },\n",
      "        \"/shared_volume/testing_simex/sipecam_simex_std_dir/92/3_92_1_1338/HLPXGM09048890/2021-07-28/images_videos/c8fb712b40aff00df1612cd9b61eabd1_0073.JPG\": {\n",
      "            \"Make\": \"RECONYX\",\n",
      "            \"Model\": \"HF2 PRO COVERT\",\n",
      "            \"DateTimeOriginal\": \"2021:08:26 13:12:34\",\n",
      "            \"SerialNumber\": \"HLPXGM09048890\",\n",
      "            \"FileSize\": \"751 KiB\",\n",
      "            \"ExifByteOrder\": \"Little-endian (Intel, II)\",\n",
      "            \"ImageWidth\": 2048,\n",
      "            \"ImageHeight\": 1440,\n",
      "            \"EncodingProcess\": \"Baseline DCT, Huffman coding\",\n",
      "            \"BitsPerSample\": 8,\n",
      "            \"ColorComponents\": 3,\n",
      "            \"YCbCrSubSampling\": \"YCbCr4:2:2 (2 1)\",\n",
      "            \"XResolution\": 72,\n",
      "            \"YResolution\": 72,\n",
      "            \"ResolutionUnit\": \"inches\",\n",
      "            \"YCbCrPositioning\": \"Co-sited\",\n",
      "            \"ExposureTime\": \"1/30\",\n",
      "            \"ISO\": 800,\n",
      "            \"TimeZoneOffset\": -6,\n",
      "            \"ComponentsConfiguration\": \"Y, Cb, Cr, -\",\n",
      "            \"ColorSpace\": \"sRGB\",\n",
      "            \"AmbientTemperature\": \"27 C\",\n",
      "            \"Contrast\": 128,\n",
      "            \"Brightness\": 0,\n",
      "            \"Sharpness\": 64,\n",
      "            \"Saturation\": 128,\n",
      "            \"Flash\": \"Off\",\n",
      "            \"AmbientInfrared\": 363,\n",
      "            \"AmbientLight\": 711,\n",
      "            \"MotionSensitivity\": 80,\n",
      "            \"BatteryVoltage\": 7371,\n",
      "            \"BatteryVoltageAvg\": 7371,\n",
      "            \"Megapixels\": 2.94912,\n",
      "            \"GPSLatitudeRef\": \"North\",\n",
      "            \"GPSLongitudeRef\": \"West\",\n",
      "            \"GPSLatitude\": 16.1583,\n",
      "            \"GPSLongitude\": -90.9048,\n",
      "            \"CentroidCumulusLatitude\": 16.17538,\n",
      "            \"CentroidCumulusLongitude\": -90.87685\n",
      "        },\n",
      "        \"/shared_volume/testing_simex/sipecam_simex_std_dir/92/3_92_1_1338/HLPXGM09048890/2021-07-28/images_videos/578e4c90aca381768ecc625a20257563_0005.JPG\": {\n"
     ]
    }
   ],
   "source": [
    "%%bash\n",
    "path_std_dir=\"/shared_volume/testing_simex/sipecam_simex_std_dir\"\n",
    "dir_images=$(find \"$path_std_dir\" -name \"images_videos\")\n",
    "file=$(find \"$dir_images\" -name \"*.json\")\n",
    "python3 -mjson.tool \"$file\"|head -n 100"
   ]
  },
  {
   "cell_type": "code",
   "execution_count": 27,
   "id": "bab74794-50f2-4fc5-bf77-df08224a75f0",
   "metadata": {},
   "outputs": [
    {
     "name": "stdout",
     "output_type": "stream",
     "text": [
      "            \"AmbientInfrared\": 228,\n",
      "            \"AmbientLight\": 434,\n",
      "            \"MotionSensitivity\": 80,\n",
      "            \"BatteryVoltage\": 7630,\n",
      "            \"BatteryVoltageAvg\": 7655,\n",
      "            \"Megapixels\": 2.94912,\n",
      "            \"GPSLatitudeRef\": \"North\",\n",
      "            \"GPSLongitudeRef\": \"West\",\n",
      "            \"GPSLatitude\": 16.1583,\n",
      "            \"GPSLongitude\": -90.9048,\n",
      "            \"CentroidCumulusLatitude\": 16.17538,\n",
      "            \"CentroidCumulusLongitude\": -90.87685\n",
      "        },\n",
      "        \"/shared_volume/testing_simex/sipecam_simex_std_dir/92/3_92_1_1338/HLPXGM09048890/2021-07-28/images_videos/d6c5d033690b934ddd6aa4edcacf9120_0071.JPG\": {\n",
      "            \"Make\": \"RECONYX\",\n",
      "            \"Model\": \"HF2 PRO COVERT\",\n",
      "            \"DateTimeOriginal\": \"2021:08:15 10:06:50\",\n",
      "            \"SerialNumber\": \"HLPXGM09048890\",\n",
      "            \"FileSize\": \"741 KiB\",\n",
      "            \"ExifByteOrder\": \"Little-endian (Intel, II)\",\n",
      "            \"ImageWidth\": 2048,\n",
      "            \"ImageHeight\": 1440,\n",
      "            \"EncodingProcess\": \"Baseline DCT, Huffman coding\",\n",
      "            \"BitsPerSample\": 8,\n",
      "            \"ColorComponents\": 3,\n",
      "            \"YCbCrSubSampling\": \"YCbCr4:2:2 (2 1)\",\n",
      "            \"XResolution\": 72,\n",
      "            \"YResolution\": 72,\n",
      "            \"ResolutionUnit\": \"inches\",\n",
      "            \"YCbCrPositioning\": \"Co-sited\",\n",
      "            \"ExposureTime\": \"1/30\",\n",
      "            \"ISO\": 1600,\n",
      "            \"TimeZoneOffset\": -6,\n",
      "            \"ComponentsConfiguration\": \"Y, Cb, Cr, -\",\n",
      "            \"ColorSpace\": \"sRGB\",\n",
      "            \"AmbientTemperature\": \"24 C\",\n",
      "            \"Contrast\": 128,\n",
      "            \"Brightness\": 0,\n",
      "            \"Sharpness\": 64,\n",
      "            \"Saturation\": 128,\n",
      "            \"Flash\": \"Off\",\n",
      "            \"AmbientInfrared\": 120,\n",
      "            \"AmbientLight\": 228,\n",
      "            \"MotionSensitivity\": 80,\n",
      "            \"BatteryVoltage\": 7429,\n",
      "            \"BatteryVoltageAvg\": 7429,\n",
      "            \"Megapixels\": 2.94912,\n",
      "            \"GPSLatitudeRef\": \"North\",\n",
      "            \"GPSLongitudeRef\": \"West\",\n",
      "            \"GPSLatitude\": 16.1583,\n",
      "            \"GPSLongitude\": -90.9048,\n",
      "            \"CentroidCumulusLatitude\": 16.17538,\n",
      "            \"CentroidCumulusLongitude\": -90.87685\n",
      "        },\n",
      "        \"/shared_volume/testing_simex/sipecam_simex_std_dir/92/3_92_1_1338/HLPXGM09048890/2021-07-28/images_videos/a0b803745d9d603d52f4882d594b54af_0072.AVI\": {\n",
      "            \"BitRate\": \"11.9 Mbit/sec\",\n",
      "            \"Endianness\": \"Little endian\",\n",
      "            \"VideoBitsPerPixel\": \"24\",\n",
      "            \"VideoCompression\": \"Motion JPEG DIB (fourcc:\\\"MJPG\\\")\",\n",
      "            \"AudioSampleRate\": \"16.0 kHz\",\n",
      "            \"AudioCompressionRate\": \"1.0x\",\n",
      "            \"AudioCompression\": \"Microsoft Pulse Code Modulation (PCM)\",\n",
      "            \"AudioBitRate\": \"256.4 Kbit/sec\",\n",
      "            \"FileSize\": \"7.3 MiB\",\n",
      "            \"DateTimeOriginal\": \"2021:08:15 10:06:50\",\n",
      "            \"BMPVersion\": \"Windows V3\",\n",
      "            \"ImageWidth\": 1024,\n",
      "            \"ImageHeight\": 720,\n",
      "            \"Planes\": 1,\n",
      "            \"ImageLength\": 2211840,\n",
      "            \"PixelsPerMeterX\": 0,\n",
      "            \"PixelsPerMeterY\": 0,\n",
      "            \"NumColors\": \"Use BitDepth\",\n",
      "            \"NumImportantColors\": \"All\",\n",
      "            \"FrameRate\": 12.5,\n",
      "            \"FrameCount\": 64,\n",
      "            \"StreamCount\": 2,\n",
      "            \"AudioSampleCount\": 0,\n",
      "            \"Encoding\": \"Microsoft PCM\",\n",
      "            \"NumChannels\": 1,\n",
      "            \"AvgBytesPerSec\": 32050,\n",
      "            \"BitsPerSample\": 16,\n",
      "            \"Duration\": \"5.12 s\",\n",
      "            \"MaxDataRate\": 26542080,\n",
      "            \"Megapixels\": 0.73728,\n",
      "            \"GPSLatitudeRef\": \"North\",\n",
      "            \"GPSLongitudeRef\": \"West\",\n",
      "            \"GPSLatitude\": 16.1583,\n",
      "            \"GPSLongitude\": -90.9048,\n",
      "            \"CentroidCumulusLatitude\": 16.17538,\n",
      "            \"CentroidCumulusLongitude\": -90.87685\n",
      "        },\n",
      "        \"/shared_volume/testing_simex/sipecam_simex_std_dir/92/3_92_1_1338/HLPXGM09048890/2021-07-28/images_videos/9d3e45505ec06edfedd1368a2cd71656_0003.AVI\": {\n",
      "            \"BitRate\": \"14.2 Mbit/sec\",\n",
      "            \"Endianness\": \"Little endian\",\n",
      "            \"VideoBitsPerPixel\": \"24\",\n",
      "            \"VideoCompression\": \"Motion JPEG DIB (fourcc:\\\"MJPG\\\")\",\n",
      "            \"AudioSampleRate\": \"16.0 kHz\",\n",
      "            \"AudioCompressionRate\": \"1.0x\",\n",
      "            \"AudioCompression\": \"Microsoft Pulse Code Modulation (PCM)\",\n",
      "            \"AudioBitRate\": \"256.4 Kbit/sec\",\n",
      "            \"FileSize\": \"8.7 MiB\",\n",
      "            \"DateTimeOriginal\": \"2021:07:28 10:40:17\",\n",
      "            \"BMPVersion\": \"Windows V3\",\n",
      "            \"ImageWidth\": 1024,\n",
      "            \"ImageHeight\": 720,\n",
      "            \"Planes\": 1,\n",
      "            \"ImageLength\": 2211840,\n",
      "            \"PixelsPerMeterX\": 0,\n",
      "            \"PixelsPerMeterY\": 0,\n",
      "            \"NumColors\": \"Use BitDepth\",\n",
      "            \"NumImportantColors\": \"All\",\n",
      "            \"FrameRate\": 12.5,\n",
      "            \"FrameCount\": 64,\n",
      "            \"StreamCount\": 2,\n",
      "            \"AudioSampleCount\": 0,\n",
      "            \"Encoding\": \"Microsoft PCM\",\n",
      "            \"NumChannels\": 1,\n",
      "            \"AvgBytesPerSec\": 32050,\n",
      "            \"BitsPerSample\": 16,\n",
      "            \"Duration\": \"5.12 s\",\n",
      "            \"MaxDataRate\": 26542080,\n",
      "            \"Megapixels\": 0.73728,\n",
      "            \"GPSLatitudeRef\": \"North\",\n",
      "            \"GPSLongitudeRef\": \"West\",\n",
      "            \"GPSLatitude\": 16.1583,\n",
      "            \"GPSLongitude\": -90.9048,\n",
      "            \"CentroidCumulusLatitude\": 16.17538,\n",
      "            \"CentroidCumulusLongitude\": -90.87685\n",
      "        },\n",
      "        \"/shared_volume/testing_simex/sipecam_simex_std_dir/92/3_92_1_1338/HLPXGM09048890/2021-07-28/images_videos/6d38827508bcbe68600d0da0789a156c_0075.AVI\": {\n",
      "            \"BitRate\": \"11.3 Mbit/sec\",\n",
      "            \"Endianness\": \"Little endian\",\n",
      "            \"VideoBitsPerPixel\": \"24\",\n",
      "            \"VideoCompression\": \"Motion JPEG DIB (fourcc:\\\"MJPG\\\")\",\n",
      "            \"AudioSampleRate\": \"16.0 kHz\",\n",
      "            \"AudioCompressionRate\": \"1.0x\",\n",
      "            \"AudioCompression\": \"Microsoft Pulse Code Modulation (PCM)\",\n",
      "            \"AudioBitRate\": \"256.4 Kbit/sec\",\n",
      "            \"FileSize\": \"6.0 MiB\",\n",
      "            \"DateTimeOriginal\": \"2021:08:26 13:12:35\",\n",
      "            \"BMPVersion\": \"Windows V3\",\n",
      "            \"ImageWidth\": 1024,\n",
      "            \"ImageHeight\": 720,\n",
      "            \"Planes\": 1,\n",
      "            \"ImageLength\": 2211840,\n",
      "            \"PixelsPerMeterX\": 0,\n",
      "            \"PixelsPerMeterY\": 0,\n",
      "            \"NumColors\": \"Use BitDepth\",\n",
      "            \"NumImportantColors\": \"All\",\n",
      "            \"FrameRate\": 12.5,\n",
      "            \"FrameCount\": 56,\n",
      "            \"StreamCount\": 2,\n",
      "            \"AudioSampleCount\": 0,\n",
      "            \"Encoding\": \"Microsoft PCM\",\n",
      "            \"NumChannels\": 1,\n",
      "            \"AvgBytesPerSec\": 32050,\n",
      "            \"BitsPerSample\": 16,\n",
      "            \"Duration\": \"4.48 s\",\n",
      "            \"MaxDataRate\": 26542080,\n",
      "            \"Megapixels\": 0.73728,\n",
      "            \"GPSLatitudeRef\": \"North\",\n",
      "            \"GPSLongitudeRef\": \"West\",\n",
      "            \"GPSLatitude\": 16.1583,\n",
      "            \"GPSLongitude\": -90.9048,\n",
      "            \"CentroidCumulusLatitude\": 16.17538,\n",
      "            \"CentroidCumulusLongitude\": -90.87685\n",
      "        }\n",
      "    }\n",
      "}\n"
     ]
    }
   ],
   "source": [
    "%%bash\n",
    "path_std_dir=\"/shared_volume/testing_simex/sipecam_simex_std_dir\"\n",
    "dir_images=$(find \"$path_std_dir\" -name \"images_videos\")\n",
    "file=$(find \"$dir_images\" -name \"*.json\")\n",
    "python3 -mjson.tool \"$file\"|tail -n 170"
   ]
  },
  {
   "cell_type": "code",
   "execution_count": 28,
   "id": "6a5ac24f-3ca5-4dbf-bc14-9b4c29fb797a",
   "metadata": {},
   "outputs": [
    {
     "name": "stdout",
     "output_type": "stream",
     "text": [
      "/shared_volume/testing_simex/sipecam_simex_std_dir/92/3_92_1_1338/HLPXGM09048890/2021-07-28/images_videos\n"
     ]
    }
   ],
   "source": [
    "%%bash\n",
    "path_std_dir=\"/shared_volume/testing_simex/sipecam_simex_std_dir\"\n",
    "txt_file=$(find \"$path_std_dir\" -name \"*.txt\")\n",
    "cat \"$txt_file\""
   ]
  },
  {
   "cell_type": "markdown",
   "id": "ef2fb0f3-c319-41b0-aae7-d264407bbd74",
   "metadata": {},
   "source": [
    "## Dir with audio files"
   ]
  },
  {
   "cell_type": "code",
   "execution_count": 29,
   "id": "a1b4a15c-6646-4b66-a932-d6a69cb5c4e9",
   "metadata": {},
   "outputs": [],
   "source": [
    "%%bash\n",
    "dir_to_be_processed=\"/shared_volume/testing_simex/sacmod/SIPECAM/Entregas_2021/octubre_2021/SIPECAM/Playon_1338/Audio/1338_1/Ultrasonico\"\n",
    "path_std_dir=\"/shared_volume/testing_simex/sipecam_simex_std_dir\"\n",
    "move_files_to_standard_directory --directory_with_file_of_serial_number_and_dates \"$dir_to_be_processed\" --path_for_standard_directory \"$path_std_dir\""
   ]
  },
  {
   "cell_type": "markdown",
   "id": "d0098197-9f68-4fb0-a232-4e160cf56e52",
   "metadata": {},
   "source": [
    "## Check it"
   ]
  },
  {
   "cell_type": "code",
   "execution_count": 30,
   "id": "fa022340-fe56-428a-9213-a0a3dfec3c49",
   "metadata": {},
   "outputs": [
    {
     "name": "stdout",
     "output_type": "stream",
     "text": [
      "2022-04-04 12:13:04,176 [INFO]  Dir /shared_volume/testing_simex/sacmod/SIPECAM/Entregas_2021/octubre_2021/SIPECAM/Playon_1338/Audio/1338_1/Ultrasonico has serial number 2423C2045F256D74\n",
      "2022-04-04 12:13:04,176 [INFO]  File /shared_volume/testing_simex/sacmod/SIPECAM/Entregas_2021/octubre_2021/SIPECAM/Playon_1338/Audio/1338_1/Ultrasonico/20210728_184000.WAV has date 2021-07-28\n",
      "2022-04-04 12:13:04,177 [INFO]  File /shared_volume/testing_simex/sacmod/SIPECAM/Entregas_2021/octubre_2021/SIPECAM/Playon_1338/Audio/1338_1/Ultrasonico/20210826_050000.WAV has date 2021-08-26\n",
      "2022-04-04 12:13:04,177 [INFO]  DaysBetweenFirstAndLastDate: 29\n",
      "2022-04-04 12:13:04,347 [INFO]  Query to Zendro GQL: query {\n",
      "  physical_devices(pagination: {limit: 0}, search: {field: comments, value: \"ADM2423C2045F256D74\", operator: like}) {\n",
      "    device_deploymentsFilter(pagination: {limit: 0}, search: {operator: and, search: [{field: date_deployment, value: \"2021-07-28\", valueType: String, operator: gte}, {field: date_deployment, value: \"2021-08-26\", valueType: String, operator: lte}]}) {\n",
      "      node {\n",
      "        nomenclatura\n",
      "        cat_integr\n",
      "        ecosystems {\n",
      "          name\n",
      "        }\n",
      "      }\n",
      "      cumulus {\n",
      "        name\n",
      "        geometry\n",
      "      }\n",
      "      date_deployment\n",
      "      latitude\n",
      "      longitude\n",
      "    }\n",
      "  }\n",
      "}\n",
      "2022-04-04 12:13:04,347 [INFO]  SUCCESSFUL extraction of nomenclature of node, cumulus name and date of deployment\n",
      "2022-04-04 12:13:04,347 [INFO]  directory /shared_volume/testing_simex/sacmod/SIPECAM/Entregas_2021/octubre_2021/SIPECAM/Playon_1338/Audio/1338_1/Ultrasonico has nom node: 3_92_1_1338, cum name: 92, date of depl: 2021-07-28, ecosystems name: Selvas humedas,                          latitude and longitude of device:  16.15832, -90.90487, node category of integrity: Integro\n",
      "2022-04-04 12:13:04,347 [INFO]  compute centroid of cumulus\n",
      "2022-04-04 12:13:04,347 [INFO]  Centroid of cumulus, lat: 16.17538, long: -90.87685\n",
      "2022-04-04 12:13:04,347 [INFO]  Validating lat and long of device are correct using lat long of cumulus centroid\n",
      "2022-04-04 12:13:04,348 [INFO]  Latitude and Longitude of device are in cumulus geometry\n",
      "2022-04-04 12:13:04,348 [INFO]  filling dict MetadataDevice using query results from Zendro\n",
      "2022-04-04 12:13:04,348 [INFO]  path where files will be moved: /shared_volume/testing_simex/sipecam_simex_std_dir/92/3_92_1_1338/2423C2045F256D74/2021-07-28\n",
      "2022-04-04 12:13:04,403 [INFO]  File /shared_volume/testing_simex/sacmod/SIPECAM/Entregas_2021/octubre_2021/SIPECAM/Playon_1338/Audio/1338_1/Ultrasonico/20210728_184000.WAV will be moved to: /shared_volume/testing_simex/sipecam_simex_std_dir/92/3_92_1_1338/2423C2045F256D74/2021-07-28/audios/Ultrasonico with name 6347b1d99aa5099ed4e6d811fda5052b.WAV\n",
      "2022-04-04 12:13:04,404 [INFO]  Validating lat and long of file are correct using lat long of cumulus centroid\n",
      "2022-04-04 12:13:04,404 [INFO]  Latitude and Longitude of file are in cumulus geometry\n",
      "2022-04-04 12:13:04,404 [INFO]  Writing lat long of centroid of cumulus for MetadataFiles\n",
      "2022-04-04 12:13:04,458 [INFO]  File /shared_volume/testing_simex/sacmod/SIPECAM/Entregas_2021/octubre_2021/SIPECAM/Playon_1338/Audio/1338_1/Ultrasonico/20210826_044000.WAV will be moved to: /shared_volume/testing_simex/sipecam_simex_std_dir/92/3_92_1_1338/2423C2045F256D74/2021-07-28/audios/Ultrasonico with name 9e24c103d1e11a14fe7d5f362178f8ed.WAV\n",
      "2022-04-04 12:13:04,458 [INFO]  Validating lat and long of file are correct using lat long of cumulus centroid\n",
      "2022-04-04 12:13:04,459 [INFO]  Latitude and Longitude of file are in cumulus geometry\n",
      "2022-04-04 12:13:04,459 [INFO]  Writing lat long of centroid of cumulus for MetadataFiles\n",
      "2022-04-04 12:13:04,513 [INFO]  File /shared_volume/testing_simex/sacmod/SIPECAM/Entregas_2021/octubre_2021/SIPECAM/Playon_1338/Audio/1338_1/Ultrasonico/20210728_192000.WAV will be moved to: /shared_volume/testing_simex/sipecam_simex_std_dir/92/3_92_1_1338/2423C2045F256D74/2021-07-28/audios/Ultrasonico with name e342216c1b595edcba4f9f66288f4036.WAV\n",
      "2022-04-04 12:13:04,513 [INFO]  Validating lat and long of file are correct using lat long of cumulus centroid\n",
      "2022-04-04 12:13:04,513 [INFO]  Latitude and Longitude of file are in cumulus geometry\n",
      "2022-04-04 12:13:04,513 [INFO]  Writing lat long of centroid of cumulus for MetadataFiles\n",
      "2022-04-04 12:13:04,567 [INFO]  File /shared_volume/testing_simex/sacmod/SIPECAM/Entregas_2021/octubre_2021/SIPECAM/Playon_1338/Audio/1338_1/Ultrasonico/20210826_054000.WAV will be moved to: /shared_volume/testing_simex/sipecam_simex_std_dir/92/3_92_1_1338/2423C2045F256D74/2021-07-28/audios/Ultrasonico with name 7d5cdc32816d40ab80b955bb940b42a3.WAV\n",
      "2022-04-04 12:13:04,567 [INFO]  Validating lat and long of file are correct using lat long of cumulus centroid\n",
      "2022-04-04 12:13:04,568 [INFO]  Latitude and Longitude of file are in cumulus geometry\n",
      "2022-04-04 12:13:04,568 [INFO]  Writing lat long of centroid of cumulus for MetadataFiles\n",
      "2022-04-04 12:13:04,622 [INFO]  File /shared_volume/testing_simex/sacmod/SIPECAM/Entregas_2021/octubre_2021/SIPECAM/Playon_1338/Audio/1338_1/Ultrasonico/20210728_180000.WAV will be moved to: /shared_volume/testing_simex/sipecam_simex_std_dir/92/3_92_1_1338/2423C2045F256D74/2021-07-28/audios/Ultrasonico with name 6909d9cdfa090a1cc4e165e8a9d4a330.WAV\n",
      "2022-04-04 12:13:04,622 [INFO]  Validating lat and long of file are correct using lat long of cumulus centroid\n",
      "2022-04-04 12:13:04,623 [INFO]  Latitude and Longitude of file are in cumulus geometry\n",
      "2022-04-04 12:13:04,623 [INFO]  Writing lat long of centroid of cumulus for MetadataFiles\n",
      "2022-04-04 12:13:04,677 [INFO]  File /shared_volume/testing_simex/sacmod/SIPECAM/Entregas_2021/octubre_2021/SIPECAM/Playon_1338/Audio/1338_1/Ultrasonico/20210826_042000.WAV will be moved to: /shared_volume/testing_simex/sipecam_simex_std_dir/92/3_92_1_1338/2423C2045F256D74/2021-07-28/audios/Ultrasonico with name 679341a60fc53ef2fb48661f8d3f9a25.WAV\n",
      "2022-04-04 12:13:04,677 [INFO]  Validating lat and long of file are correct using lat long of cumulus centroid\n",
      "2022-04-04 12:13:04,678 [INFO]  Latitude and Longitude of file are in cumulus geometry\n",
      "2022-04-04 12:13:04,678 [INFO]  Writing lat long of centroid of cumulus for MetadataFiles\n",
      "2022-04-04 12:13:04,733 [INFO]  File /shared_volume/testing_simex/sacmod/SIPECAM/Entregas_2021/octubre_2021/SIPECAM/Playon_1338/Audio/1338_1/Ultrasonico/20210728_190000.WAV will be moved to: /shared_volume/testing_simex/sipecam_simex_std_dir/92/3_92_1_1338/2423C2045F256D74/2021-07-28/audios/Ultrasonico with name 5efce58f59a7161bd945a5ae974517ed.WAV\n",
      "2022-04-04 12:13:04,733 [INFO]  Validating lat and long of file are correct using lat long of cumulus centroid\n",
      "2022-04-04 12:13:04,733 [INFO]  Latitude and Longitude of file are in cumulus geometry\n",
      "2022-04-04 12:13:04,733 [INFO]  Writing lat long of centroid of cumulus for MetadataFiles\n",
      "2022-04-04 12:13:04,787 [INFO]  File /shared_volume/testing_simex/sacmod/SIPECAM/Entregas_2021/octubre_2021/SIPECAM/Playon_1338/Audio/1338_1/Ultrasonico/20210826_052000.WAV will be moved to: /shared_volume/testing_simex/sipecam_simex_std_dir/92/3_92_1_1338/2423C2045F256D74/2021-07-28/audios/Ultrasonico with name 244b3c6c576b2e9ea145e3db9132ebe7.WAV\n",
      "2022-04-04 12:13:04,787 [INFO]  Validating lat and long of file are correct using lat long of cumulus centroid\n",
      "2022-04-04 12:13:04,788 [INFO]  Latitude and Longitude of file are in cumulus geometry\n",
      "2022-04-04 12:13:04,788 [INFO]  Writing lat long of centroid of cumulus for MetadataFiles\n",
      "2022-04-04 12:13:04,842 [INFO]  File /shared_volume/testing_simex/sacmod/SIPECAM/Entregas_2021/octubre_2021/SIPECAM/Playon_1338/Audio/1338_1/Ultrasonico/20210728_182000.WAV will be moved to: /shared_volume/testing_simex/sipecam_simex_std_dir/92/3_92_1_1338/2423C2045F256D74/2021-07-28/audios/Ultrasonico with name 7578eaa73f0f3d058f6c271d3c9e9e2a.WAV\n",
      "2022-04-04 12:13:04,842 [INFO]  Validating lat and long of file are correct using lat long of cumulus centroid\n",
      "2022-04-04 12:13:04,843 [INFO]  Latitude and Longitude of file are in cumulus geometry\n",
      "2022-04-04 12:13:04,843 [INFO]  Writing lat long of centroid of cumulus for MetadataFiles\n",
      "2022-04-04 12:13:04,897 [INFO]  File /shared_volume/testing_simex/sacmod/SIPECAM/Entregas_2021/octubre_2021/SIPECAM/Playon_1338/Audio/1338_1/Ultrasonico/20210826_050000.WAV will be moved to: /shared_volume/testing_simex/sipecam_simex_std_dir/92/3_92_1_1338/2423C2045F256D74/2021-07-28/audios/Ultrasonico with name e75f6c30a1056bb03350d42c67f694bf.WAV\n",
      "2022-04-04 12:13:04,897 [INFO]  Validating lat and long of file are correct using lat long of cumulus centroid\n",
      "2022-04-04 12:13:04,898 [INFO]  Latitude and Longitude of file are in cumulus geometry\n",
      "2022-04-04 12:13:04,898 [INFO]  Writing lat long of centroid of cumulus for MetadataFiles\n"
     ]
    }
   ],
   "source": [
    "%%bash\n",
    "dir_to_be_processed=\"/shared_volume/testing_simex/sacmod/SIPECAM/Entregas_2021/octubre_2021/SIPECAM/Playon_1338/Audio/1338_1/Ultrasonico\"\n",
    "file_for_logs=$(find \"$dir_to_be_processed\" -name 'logs_simex_move_files_to_standard_directory.logs')\n",
    "head -n 100 \"$file_for_logs\""
   ]
  },
  {
   "cell_type": "code",
   "execution_count": 31,
   "id": "a07cf2fc-042c-4dd2-81d4-4a29cff97f74",
   "metadata": {},
   "outputs": [
    {
     "name": "stdout",
     "output_type": "stream",
     "text": [
      "{\n",
      "    \"DaysBetweenFirstAndLastDate\": 29,\n",
      "    \"MetadataDevice\": {\n",
      "        \"Artist\": \"AudioMoth 2423C2045F256D74\",\n",
      "        \"SerialNumber\": \"2423C2045F256D74\",\n",
      "        \"NomenclatureNode\": \"3_92_1_1338\",\n",
      "        \"CumulusName\": \"92\",\n",
      "        \"CentroidCumulusLatitude\": 16.17538,\n",
      "        \"CentroidCumulusLongitude\": -90.87685,\n",
      "        \"DateDeployment\": \"2021-07-28\",\n",
      "        \"EcosystemsName\": \"Selvas humedas\",\n",
      "        \"Latitude\": 16.15832,\n",
      "        \"Longitude\": -90.90487,\n",
      "        \"NodeCategoryIntegrity\": \"Integro\"\n",
      "    },\n",
      "    \"MetadataFiles\": {\n",
      "        \"/shared_volume/testing_simex/sipecam_simex_std_dir/92/3_92_1_1338/2423C2045F256D74/2021-07-28/audios/Ultrasonico/6347b1d99aa5099ed4e6d811fda5052b.WAV\": {\n",
      "            \"Battery\": \"4.8V\",\n",
      "            \"Datetime\": \"18:40:00 28/07/2021 (UTC-0600)\",\n",
      "            \"Gain\": \"medium\",\n",
      "            \"Timezone\": \"UTC\",\n",
      "            \"BitRate\": \"6.1 Mbit/sec\",\n",
      "            \"SerialNumber\": \"2423C2045F256D74\",\n",
      "            \"FileSize\": \"22 MiB\",\n",
      "            \"Encoding\": \"Microsoft PCM\",\n",
      "            \"NumChannels\": 1,\n",
      "            \"SampleRate\": 384000,\n",
      "            \"AvgBytesPerSec\": 768000,\n",
      "            \"BitsPerSample\": 16,\n",
      "            \"Comment\": \"Recorded at 18:40:00 28/07/2021 (UTC-6) by AudioMoth 2423C2045F256D74 at medium gain setting while battery state was 4.8V and temperature was 23.4C.\",\n",
      "            \"Duration\": \"0:00:30\",\n",
      "            \"Latitude\": 16.15832,\n",
      "            \"Longitude\": -90.90487,\n",
      "            \"CentroidCumulusLatitude\": 16.17538,\n",
      "            \"CentroidCumulusLongitude\": -90.87685\n",
      "        },\n",
      "        \"/shared_volume/testing_simex/sipecam_simex_std_dir/92/3_92_1_1338/2423C2045F256D74/2021-07-28/audios/Ultrasonico/9e24c103d1e11a14fe7d5f362178f8ed.WAV\": {\n",
      "            \"Battery\": \"4.4V\",\n",
      "            \"Datetime\": \"04:40:00 26/08/2021 (UTC-0600)\",\n",
      "            \"Gain\": \"medium\",\n",
      "            \"Timezone\": \"UTC\",\n",
      "            \"BitRate\": \"6.1 Mbit/sec\",\n",
      "            \"SerialNumber\": \"2423C2045F256D74\",\n",
      "            \"FileSize\": \"22 MiB\",\n",
      "            \"Encoding\": \"Microsoft PCM\",\n",
      "            \"NumChannels\": 1,\n",
      "            \"SampleRate\": 384000,\n",
      "            \"AvgBytesPerSec\": 768000,\n",
      "            \"BitsPerSample\": 16,\n",
      "            \"Comment\": \"Recorded at 04:40:00 26/08/2021 (UTC-6) by AudioMoth 2423C2045F256D74 at medium gain setting while battery state was 4.4V and temperature was 22.6C.\",\n",
      "            \"Duration\": \"0:00:30\",\n",
      "            \"Latitude\": 16.15832,\n",
      "            \"Longitude\": -90.90487,\n",
      "            \"CentroidCumulusLatitude\": 16.17538,\n",
      "            \"CentroidCumulusLongitude\": -90.87685\n",
      "        },\n",
      "        \"/shared_volume/testing_simex/sipecam_simex_std_dir/92/3_92_1_1338/2423C2045F256D74/2021-07-28/audios/Ultrasonico/e342216c1b595edcba4f9f66288f4036.WAV\": {\n",
      "            \"Battery\": \"4.8V\",\n",
      "            \"Datetime\": \"19:20:00 28/07/2021 (UTC-0600)\",\n",
      "            \"Gain\": \"medium\",\n",
      "            \"Timezone\": \"UTC\",\n",
      "            \"BitRate\": \"6.1 Mbit/sec\",\n",
      "            \"SerialNumber\": \"2423C2045F256D74\",\n",
      "            \"FileSize\": \"22 MiB\",\n",
      "            \"Encoding\": \"Microsoft PCM\",\n",
      "            \"NumChannels\": 1,\n",
      "            \"SampleRate\": 384000,\n",
      "            \"AvgBytesPerSec\": 768000,\n",
      "            \"BitsPerSample\": 16,\n",
      "            \"Comment\": \"Recorded at 19:20:00 28/07/2021 (UTC-6) by AudioMoth 2423C2045F256D74 at medium gain setting while battery state was 4.8V and temperature was 23.3C.\",\n",
      "            \"Duration\": \"0:00:30\",\n",
      "            \"Latitude\": 16.15832,\n",
      "            \"Longitude\": -90.90487,\n",
      "            \"CentroidCumulusLatitude\": 16.17538,\n",
      "            \"CentroidCumulusLongitude\": -90.87685\n",
      "        },\n",
      "        \"/shared_volume/testing_simex/sipecam_simex_std_dir/92/3_92_1_1338/2423C2045F256D74/2021-07-28/audios/Ultrasonico/7d5cdc32816d40ab80b955bb940b42a3.WAV\": {\n",
      "            \"Battery\": \"4.4V\",\n",
      "            \"Datetime\": \"05:40:00 26/08/2021 (UTC-0600)\",\n",
      "            \"Gain\": \"medium\",\n",
      "            \"Timezone\": \"UTC\",\n",
      "            \"BitRate\": \"6.1 Mbit/sec\",\n",
      "            \"SerialNumber\": \"2423C2045F256D74\",\n",
      "            \"FileSize\": \"22 MiB\",\n",
      "            \"Encoding\": \"Microsoft PCM\",\n",
      "            \"NumChannels\": 1,\n",
      "            \"SampleRate\": 384000,\n",
      "            \"AvgBytesPerSec\": 768000,\n",
      "            \"BitsPerSample\": 16,\n",
      "            \"Comment\": \"Recorded at 05:40:00 26/08/2021 (UTC-6) by AudioMoth 2423C2045F256D74 at medium gain setting while battery state was 4.4V and temperature was 22.6C.\",\n",
      "            \"Duration\": \"0:00:30\",\n",
      "            \"Latitude\": 16.15832,\n",
      "            \"Longitude\": -90.90487,\n",
      "            \"CentroidCumulusLatitude\": 16.17538,\n",
      "            \"CentroidCumulusLongitude\": -90.87685\n",
      "        },\n",
      "        \"/shared_volume/testing_simex/sipecam_simex_std_dir/92/3_92_1_1338/2423C2045F256D74/2021-07-28/audios/Ultrasonico/6909d9cdfa090a1cc4e165e8a9d4a330.WAV\": {\n",
      "            \"Battery\": \"4.6V\",\n",
      "            \"Datetime\": \"18:00:00 28/07/2021 (UTC-0600)\",\n",
      "            \"Gain\": \"medium\",\n"
     ]
    }
   ],
   "source": [
    "%%bash\n",
    "path_std_dir=\"/shared_volume/testing_simex/sipecam_simex_std_dir\"\n",
    "dir_audios=$(find \"$path_std_dir\" -name \"2423C2045F256D74\")\n",
    "file=$(find \"$dir_audios\" -name \"*.json\")\n",
    "python3 -mjson.tool \"$file\"|head -n 100"
   ]
  },
  {
   "cell_type": "code",
   "execution_count": 32,
   "id": "c62ccb1e-8db2-4e8a-a0b2-b34b6b9e93b0",
   "metadata": {},
   "outputs": [
    {
     "name": "stdout",
     "output_type": "stream",
     "text": [
      "/shared_volume/testing_simex/sipecam_simex_std_dir/92/3_92_1_1338/HLPXGM09048890/2021-07-28/images_videos\n",
      "/shared_volume/testing_simex/sipecam_simex_std_dir/92/3_92_1_1338/2423C2045F256D74/2021-07-28/audios/Ultrasonico\n"
     ]
    }
   ],
   "source": [
    "%%bash\n",
    "path_std_dir=\"/shared_volume/testing_simex/sipecam_simex_std_dir\"\n",
    "txt_file=$(find \"$path_std_dir\" -name \"*.txt\")\n",
    "cat \"$txt_file\""
   ]
  },
  {
   "cell_type": "markdown",
   "id": "27417f57-dfc2-4990-958c-845afe23425f",
   "metadata": {
    "tags": []
   },
   "source": [
    "## Dir with audio files"
   ]
  },
  {
   "cell_type": "code",
   "execution_count": 33,
   "id": "7617d5f4-f73b-4e84-a144-a66d281af9e8",
   "metadata": {},
   "outputs": [],
   "source": [
    "%%bash\n",
    "dir_to_be_processed=\"/shared_volume/testing_simex/sacmod/SIPECAM/Entregas_2021/octubre_2021/SIPECAM/Galacia_1339/1339_2/Audio/Audible\"\n",
    "path_std_dir=\"/shared_volume/testing_simex/sipecam_simex_std_dir\"\n",
    "move_files_to_standard_directory --directory_with_file_of_serial_number_and_dates \"$dir_to_be_processed\" --path_for_standard_directory \"$path_std_dir\""
   ]
  },
  {
   "cell_type": "markdown",
   "id": "0ee3d7a7-cd0d-4398-a439-e36977613733",
   "metadata": {},
   "source": [
    "## Check it"
   ]
  },
  {
   "cell_type": "code",
   "execution_count": 34,
   "id": "1ad26634-325a-4e4e-aed8-aa6eb2361832",
   "metadata": {},
   "outputs": [
    {
     "name": "stdout",
     "output_type": "stream",
     "text": [
      "2022-04-04 12:13:53,623 [INFO]  Dir /shared_volume/testing_simex/sacmod/SIPECAM/Entregas_2021/octubre_2021/SIPECAM/Galacia_1339/1339_2/Audio/Audible has serial number 248D9B045EC9E6B1\n",
      "2022-04-04 12:13:53,623 [INFO]  File /shared_volume/testing_simex/sacmod/SIPECAM/Entregas_2021/octubre_2021/SIPECAM/Galacia_1339/1339_2/Audio/Audible/20210729_184000.WAV has date 2021-07-29\n",
      "2022-04-04 12:13:53,623 [INFO]  File /shared_volume/testing_simex/sacmod/SIPECAM/Entregas_2021/octubre_2021/SIPECAM/Galacia_1339/1339_2/Audio/Audible/20210828_042000.WAV has date 2021-08-28\n",
      "2022-04-04 12:13:53,623 [INFO]  DaysBetweenFirstAndLastDate: 30\n",
      "2022-04-04 12:13:53,776 [INFO]  Query to Zendro GQL: query {\n",
      "  physical_devices(pagination: {limit: 0}, search: {field: comments, value: \"ADM248D9B045EC9E6B1\", operator: like}) {\n",
      "    device_deploymentsFilter(pagination: {limit: 0}, search: {operator: and, search: [{field: date_deployment, value: \"2021-07-29\", valueType: String, operator: gte}, {field: date_deployment, value: \"2021-08-28\", valueType: String, operator: lte}]}) {\n",
      "      node {\n",
      "        nomenclatura\n",
      "        cat_integr\n",
      "        ecosystems {\n",
      "          name\n",
      "        }\n",
      "      }\n",
      "      cumulus {\n",
      "        name\n",
      "        geometry\n",
      "      }\n",
      "      date_deployment\n",
      "      latitude\n",
      "      longitude\n",
      "    }\n",
      "  }\n",
      "}\n",
      "2022-04-04 12:13:53,776 [INFO]  SUCCESSFUL extraction of nomenclature of node, cumulus name and date of deployment\n",
      "2022-04-04 12:13:53,777 [INFO]  directory /shared_volume/testing_simex/sacmod/SIPECAM/Entregas_2021/octubre_2021/SIPECAM/Galacia_1339/1339_2/Audio/Audible has nom node: 3_92_0_1339, cum name: 92, date of depl: 2021-07-29, ecosystems name: Selvas humedas,                          latitude and longitude of device:  16.1517, -90.81243, node category of integrity: Degradado\n",
      "2022-04-04 12:13:53,777 [INFO]  compute centroid of cumulus\n",
      "2022-04-04 12:13:53,777 [INFO]  Centroid of cumulus, lat: 16.17538, long: -90.87685\n",
      "2022-04-04 12:13:53,777 [INFO]  Validating lat and long of device are correct using lat long of cumulus centroid\n",
      "2022-04-04 12:13:53,777 [INFO]  Latitude and Longitude of device are in cumulus geometry\n",
      "2022-04-04 12:13:53,777 [INFO]  filling dict MetadataDevice using query results from Zendro\n",
      "2022-04-04 12:13:53,777 [INFO]  path where files will be moved: /shared_volume/testing_simex/sipecam_simex_std_dir/92/3_92_0_1339/248D9B045EC9E6B1/2021-07-29\n",
      "2022-04-04 12:13:53,831 [INFO]  File /shared_volume/testing_simex/sacmod/SIPECAM/Entregas_2021/octubre_2021/SIPECAM/Galacia_1339/1339_2/Audio/Audible/20210828_052000.WAV will be moved to: /shared_volume/testing_simex/sipecam_simex_std_dir/92/3_92_0_1339/248D9B045EC9E6B1/2021-07-29/audios/Ultrasonico with name 41c38ee40d87bedcab44487b52ceb8b6.WAV\n",
      "2022-04-04 12:13:53,831 [INFO]  Validating lat and long of file are correct using lat long of cumulus centroid\n",
      "2022-04-04 12:13:53,832 [INFO]  Latitude and Longitude of file are in cumulus geometry\n",
      "2022-04-04 12:13:53,832 [INFO]  Writing lat long of centroid of cumulus for MetadataFiles\n",
      "2022-04-04 12:13:53,885 [INFO]  File /shared_volume/testing_simex/sacmod/SIPECAM/Entregas_2021/octubre_2021/SIPECAM/Galacia_1339/1339_2/Audio/Audible/20210828_044000.WAV will be moved to: /shared_volume/testing_simex/sipecam_simex_std_dir/92/3_92_0_1339/248D9B045EC9E6B1/2021-07-29/audios/Ultrasonico with name d6dc9f57fd4eb9386f52957876a1044f.WAV\n",
      "2022-04-04 12:13:53,885 [INFO]  Validating lat and long of file are correct using lat long of cumulus centroid\n",
      "2022-04-04 12:13:53,885 [INFO]  Latitude and Longitude of file are in cumulus geometry\n",
      "2022-04-04 12:13:53,885 [INFO]  Writing lat long of centroid of cumulus for MetadataFiles\n",
      "2022-04-04 12:13:53,940 [INFO]  File /shared_volume/testing_simex/sacmod/SIPECAM/Entregas_2021/octubre_2021/SIPECAM/Galacia_1339/1339_2/Audio/Audible/20210729_184000.WAV will be moved to: /shared_volume/testing_simex/sipecam_simex_std_dir/92/3_92_0_1339/248D9B045EC9E6B1/2021-07-29/audios/Ultrasonico with name 22e5ce2322a89493dbd45b3d22d27d55.WAV\n",
      "2022-04-04 12:13:53,940 [INFO]  Validating lat and long of file are correct using lat long of cumulus centroid\n",
      "2022-04-04 12:13:53,940 [INFO]  Latitude and Longitude of file are in cumulus geometry\n",
      "2022-04-04 12:13:53,941 [INFO]  Writing lat long of centroid of cumulus for MetadataFiles\n",
      "2022-04-04 12:13:53,994 [INFO]  File /shared_volume/testing_simex/sacmod/SIPECAM/Entregas_2021/octubre_2021/SIPECAM/Galacia_1339/1339_2/Audio/Audible/20210828_050000.WAV will be moved to: /shared_volume/testing_simex/sipecam_simex_std_dir/92/3_92_0_1339/248D9B045EC9E6B1/2021-07-29/audios/Ultrasonico with name f2ad7435caaaceaa23aaf31a74e5e952.WAV\n",
      "2022-04-04 12:13:53,994 [INFO]  Validating lat and long of file are correct using lat long of cumulus centroid\n",
      "2022-04-04 12:13:53,995 [INFO]  Latitude and Longitude of file are in cumulus geometry\n",
      "2022-04-04 12:13:53,995 [INFO]  Writing lat long of centroid of cumulus for MetadataFiles\n",
      "2022-04-04 12:13:54,049 [INFO]  File /shared_volume/testing_simex/sacmod/SIPECAM/Entregas_2021/octubre_2021/SIPECAM/Galacia_1339/1339_2/Audio/Audible/20210729_192000.WAV will be moved to: /shared_volume/testing_simex/sipecam_simex_std_dir/92/3_92_0_1339/248D9B045EC9E6B1/2021-07-29/audios/Ultrasonico with name 5ca8319ba64672de20f5fb2ba5b0a89b.WAV\n",
      "2022-04-04 12:13:54,050 [INFO]  Validating lat and long of file are correct using lat long of cumulus centroid\n",
      "2022-04-04 12:13:54,050 [INFO]  Latitude and Longitude of file are in cumulus geometry\n",
      "2022-04-04 12:13:54,050 [INFO]  Writing lat long of centroid of cumulus for MetadataFiles\n",
      "2022-04-04 12:13:54,105 [INFO]  File /shared_volume/testing_simex/sacmod/SIPECAM/Entregas_2021/octubre_2021/SIPECAM/Galacia_1339/1339_2/Audio/Audible/20210729_182000.WAV will be moved to: /shared_volume/testing_simex/sipecam_simex_std_dir/92/3_92_0_1339/248D9B045EC9E6B1/2021-07-29/audios/Ultrasonico with name bf3c1b36d432477223fac599b93a2704.WAV\n",
      "2022-04-04 12:13:54,105 [INFO]  Validating lat and long of file are correct using lat long of cumulus centroid\n",
      "2022-04-04 12:13:54,105 [INFO]  Latitude and Longitude of file are in cumulus geometry\n",
      "2022-04-04 12:13:54,106 [INFO]  Writing lat long of centroid of cumulus for MetadataFiles\n",
      "2022-04-04 12:13:54,159 [INFO]  File /shared_volume/testing_simex/sacmod/SIPECAM/Entregas_2021/octubre_2021/SIPECAM/Galacia_1339/1339_2/Audio/Audible/20210828_054000.WAV will be moved to: /shared_volume/testing_simex/sipecam_simex_std_dir/92/3_92_0_1339/248D9B045EC9E6B1/2021-07-29/audios/Ultrasonico with name f059c80279b677ca2117339e37cbc298.WAV\n",
      "2022-04-04 12:13:54,159 [INFO]  Validating lat and long of file are correct using lat long of cumulus centroid\n",
      "2022-04-04 12:13:54,159 [INFO]  Latitude and Longitude of file are in cumulus geometry\n",
      "2022-04-04 12:13:54,159 [INFO]  Writing lat long of centroid of cumulus for MetadataFiles\n",
      "2022-04-04 12:13:54,214 [INFO]  File /shared_volume/testing_simex/sacmod/SIPECAM/Entregas_2021/octubre_2021/SIPECAM/Galacia_1339/1339_2/Audio/Audible/20210729_180000.WAV will be moved to: /shared_volume/testing_simex/sipecam_simex_std_dir/92/3_92_0_1339/248D9B045EC9E6B1/2021-07-29/audios/Ultrasonico with name bf47730e22ca4823aea5c8cac7bb6d16.WAV\n",
      "2022-04-04 12:13:54,214 [INFO]  Validating lat and long of file are correct using lat long of cumulus centroid\n",
      "2022-04-04 12:13:54,215 [INFO]  Latitude and Longitude of file are in cumulus geometry\n",
      "2022-04-04 12:13:54,215 [INFO]  Writing lat long of centroid of cumulus for MetadataFiles\n",
      "2022-04-04 12:13:54,268 [INFO]  File /shared_volume/testing_simex/sacmod/SIPECAM/Entregas_2021/octubre_2021/SIPECAM/Galacia_1339/1339_2/Audio/Audible/20210828_042000.WAV will be moved to: /shared_volume/testing_simex/sipecam_simex_std_dir/92/3_92_0_1339/248D9B045EC9E6B1/2021-07-29/audios/Ultrasonico with name 1810c9f316935006ef73be11d9105532.WAV\n",
      "2022-04-04 12:13:54,268 [INFO]  Validating lat and long of file are correct using lat long of cumulus centroid\n",
      "2022-04-04 12:13:54,268 [INFO]  Latitude and Longitude of file are in cumulus geometry\n",
      "2022-04-04 12:13:54,268 [INFO]  Writing lat long of centroid of cumulus for MetadataFiles\n",
      "2022-04-04 12:13:54,322 [INFO]  File /shared_volume/testing_simex/sacmod/SIPECAM/Entregas_2021/octubre_2021/SIPECAM/Galacia_1339/1339_2/Audio/Audible/20210729_190000.WAV will be moved to: /shared_volume/testing_simex/sipecam_simex_std_dir/92/3_92_0_1339/248D9B045EC9E6B1/2021-07-29/audios/Ultrasonico with name 6331df3a4eb76c036019f015778a9aad.WAV\n",
      "2022-04-04 12:13:54,323 [INFO]  Validating lat and long of file are correct using lat long of cumulus centroid\n",
      "2022-04-04 12:13:54,323 [INFO]  Latitude and Longitude of file are in cumulus geometry\n",
      "2022-04-04 12:13:54,323 [INFO]  Writing lat long of centroid of cumulus for MetadataFiles\n"
     ]
    }
   ],
   "source": [
    "%%bash\n",
    "dir_to_be_processed=\"/shared_volume/testing_simex/sacmod/SIPECAM/Entregas_2021/octubre_2021/SIPECAM/Galacia_1339/1339_2/Audio/Audible\"\n",
    "file_for_logs=$(find \"$dir_to_be_processed\" -name 'logs_simex_move_files_to_standard_directory.logs')\n",
    "head -n 100 \"$file_for_logs\""
   ]
  },
  {
   "cell_type": "code",
   "execution_count": 35,
   "id": "51ad7b38-35f3-4cb6-bf67-1ce1e2f2f8e1",
   "metadata": {},
   "outputs": [
    {
     "name": "stdout",
     "output_type": "stream",
     "text": [
      "{\n",
      "    \"DaysBetweenFirstAndLastDate\": 30,\n",
      "    \"MetadataDevice\": {\n",
      "        \"Artist\": \"AudioMoth 248D9B045EC9E6B1\",\n",
      "        \"SerialNumber\": \"248D9B045EC9E6B1\",\n",
      "        \"NomenclatureNode\": \"3_92_0_1339\",\n",
      "        \"CumulusName\": \"92\",\n",
      "        \"CentroidCumulusLatitude\": 16.17538,\n",
      "        \"CentroidCumulusLongitude\": -90.87685,\n",
      "        \"DateDeployment\": \"2021-07-29\",\n",
      "        \"EcosystemsName\": \"Selvas humedas\",\n",
      "        \"Latitude\": 16.1517,\n",
      "        \"Longitude\": -90.81243,\n",
      "        \"NodeCategoryIntegrity\": \"Degradado\"\n",
      "    },\n",
      "    \"MetadataFiles\": {\n",
      "        \"/shared_volume/testing_simex/sipecam_simex_std_dir/92/3_92_0_1339/248D9B045EC9E6B1/2021-07-29/audios/Ultrasonico/41c38ee40d87bedcab44487b52ceb8b6.WAV\": {\n",
      "            \"Battery\": \"4.4V\",\n",
      "            \"Datetime\": \"05:20:00 28/08/2021 (UTC-0600)\",\n",
      "            \"Gain\": \"medium\",\n",
      "            \"Timezone\": \"UTC\",\n",
      "            \"BitRate\": \"6.1 Mbit/sec\",\n",
      "            \"SerialNumber\": \"248D9B045EC9E6B1\",\n",
      "            \"FileSize\": \"22 MiB\",\n",
      "            \"Encoding\": \"Microsoft PCM\",\n",
      "            \"NumChannels\": 1,\n",
      "            \"SampleRate\": 384000,\n",
      "            \"AvgBytesPerSec\": 768000,\n",
      "            \"BitsPerSample\": 16,\n",
      "            \"Comment\": \"Recorded at 05:20:00 28/08/2021 (UTC-6) by AudioMoth 248D9B045EC9E6B1 at medium gain setting while battery state was 4.4V and temperature was 22.6C.\",\n",
      "            \"Duration\": \"0:00:30\",\n",
      "            \"Latitude\": 16.1517,\n",
      "            \"Longitude\": -90.81243,\n",
      "            \"CentroidCumulusLatitude\": 16.17538,\n",
      "            \"CentroidCumulusLongitude\": -90.87685\n",
      "        },\n",
      "        \"/shared_volume/testing_simex/sipecam_simex_std_dir/92/3_92_0_1339/248D9B045EC9E6B1/2021-07-29/audios/Ultrasonico/d6dc9f57fd4eb9386f52957876a1044f.WAV\": {\n",
      "            \"Battery\": \"4.4V\",\n",
      "            \"Datetime\": \"04:40:00 28/08/2021 (UTC-0600)\",\n",
      "            \"Gain\": \"medium\",\n",
      "            \"Timezone\": \"UTC\",\n",
      "            \"BitRate\": \"6.1 Mbit/sec\",\n",
      "            \"SerialNumber\": \"248D9B045EC9E6B1\",\n",
      "            \"FileSize\": \"22 MiB\",\n",
      "            \"Encoding\": \"Microsoft PCM\",\n",
      "            \"NumChannels\": 1,\n",
      "            \"SampleRate\": 384000,\n",
      "            \"AvgBytesPerSec\": 768000,\n",
      "            \"BitsPerSample\": 16,\n",
      "            \"Comment\": \"Recorded at 04:40:00 28/08/2021 (UTC-6) by AudioMoth 248D9B045EC9E6B1 at medium gain setting while battery state was 4.4V and temperature was 22.6C.\",\n",
      "            \"Duration\": \"0:00:30\",\n",
      "            \"Latitude\": 16.1517,\n",
      "            \"Longitude\": -90.81243,\n",
      "            \"CentroidCumulusLatitude\": 16.17538,\n",
      "            \"CentroidCumulusLongitude\": -90.87685\n",
      "        },\n",
      "        \"/shared_volume/testing_simex/sipecam_simex_std_dir/92/3_92_0_1339/248D9B045EC9E6B1/2021-07-29/audios/Ultrasonico/22e5ce2322a89493dbd45b3d22d27d55.WAV\": {\n",
      "            \"Battery\": \"4.8V\",\n",
      "            \"Datetime\": \"18:40:00 29/07/2021 (UTC-0600)\",\n",
      "            \"Gain\": \"medium\",\n",
      "            \"Timezone\": \"UTC\",\n",
      "            \"BitRate\": \"6.1 Mbit/sec\",\n",
      "            \"SerialNumber\": \"248D9B045EC9E6B1\",\n",
      "            \"FileSize\": \"22 MiB\",\n",
      "            \"Encoding\": \"Microsoft PCM\",\n",
      "            \"NumChannels\": 1,\n",
      "            \"SampleRate\": 384000,\n",
      "            \"AvgBytesPerSec\": 768000,\n",
      "            \"BitsPerSample\": 16,\n",
      "            \"Comment\": \"Recorded at 18:40:00 29/07/2021 (UTC-6) by AudioMoth 248D9B045EC9E6B1 at medium gain setting while battery state was 4.8V and temperature was 26.4C.\",\n",
      "            \"Duration\": \"0:00:30\",\n",
      "            \"Latitude\": 16.1517,\n",
      "            \"Longitude\": -90.81243,\n",
      "            \"CentroidCumulusLatitude\": 16.17538,\n",
      "            \"CentroidCumulusLongitude\": -90.87685\n",
      "        },\n",
      "        \"/shared_volume/testing_simex/sipecam_simex_std_dir/92/3_92_0_1339/248D9B045EC9E6B1/2021-07-29/audios/Ultrasonico/f2ad7435caaaceaa23aaf31a74e5e952.WAV\": {\n",
      "            \"Battery\": \"4.4V\",\n",
      "            \"Datetime\": \"05:00:00 28/08/2021 (UTC-0600)\",\n",
      "            \"Gain\": \"medium\",\n",
      "            \"Timezone\": \"UTC\",\n",
      "            \"BitRate\": \"6.1 Mbit/sec\",\n",
      "            \"SerialNumber\": \"248D9B045EC9E6B1\",\n",
      "            \"FileSize\": \"22 MiB\",\n",
      "            \"Encoding\": \"Microsoft PCM\",\n",
      "            \"NumChannels\": 1,\n",
      "            \"SampleRate\": 384000,\n",
      "            \"AvgBytesPerSec\": 768000,\n",
      "            \"BitsPerSample\": 16,\n",
      "            \"Comment\": \"Recorded at 05:00:00 28/08/2021 (UTC-6) by AudioMoth 248D9B045EC9E6B1 at medium gain setting while battery state was 4.4V and temperature was 22.0C.\",\n",
      "            \"Duration\": \"0:00:30\",\n",
      "            \"Latitude\": 16.1517,\n",
      "            \"Longitude\": -90.81243,\n",
      "            \"CentroidCumulusLatitude\": 16.17538,\n",
      "            \"CentroidCumulusLongitude\": -90.87685\n",
      "        },\n",
      "        \"/shared_volume/testing_simex/sipecam_simex_std_dir/92/3_92_0_1339/248D9B045EC9E6B1/2021-07-29/audios/Ultrasonico/5ca8319ba64672de20f5fb2ba5b0a89b.WAV\": {\n",
      "            \"Battery\": \"4.8V\",\n",
      "            \"Datetime\": \"19:20:00 29/07/2021 (UTC-0600)\",\n",
      "            \"Gain\": \"medium\",\n"
     ]
    }
   ],
   "source": [
    "%%bash\n",
    "path_std_dir=\"/shared_volume/testing_simex/sipecam_simex_std_dir\"\n",
    "dir_audios=$(find \"$path_std_dir\" -name \"248D9B045EC9E6B1\")\n",
    "file=$(find \"$dir_audios\" -name \"*.json\")\n",
    "python3 -mjson.tool \"$file\"|head -n 100"
   ]
  },
  {
   "cell_type": "code",
   "execution_count": 36,
   "id": "3df0843a-8606-4d88-ab0a-6f700db48b24",
   "metadata": {},
   "outputs": [
    {
     "name": "stdout",
     "output_type": "stream",
     "text": [
      "/shared_volume/testing_simex/sipecam_simex_std_dir/92/3_92_1_1338/HLPXGM09048890/2021-07-28/images_videos\n",
      "/shared_volume/testing_simex/sipecam_simex_std_dir/92/3_92_1_1338/2423C2045F256D74/2021-07-28/audios/Ultrasonico\n",
      "/shared_volume/testing_simex/sipecam_simex_std_dir/92/3_92_0_1339/248D9B045EC9E6B1/2021-07-29/audios/Ultrasonico\n"
     ]
    }
   ],
   "source": [
    "%%bash\n",
    "path_std_dir=\"/shared_volume/testing_simex/sipecam_simex_std_dir\"\n",
    "txt_file=$(find \"$path_std_dir\" -name \"*.txt\")\n",
    "cat \"$txt_file\""
   ]
  },
  {
   "cell_type": "markdown",
   "id": "80092bf1-edb7-4e87-943e-c66c8210673d",
   "metadata": {},
   "source": [
    "## Dir with images and videos empty GPS info"
   ]
  },
  {
   "cell_type": "code",
   "execution_count": 37,
   "id": "6293bd0d-da97-4c22-9cba-a297eba4b238",
   "metadata": {},
   "outputs": [],
   "source": [
    "%%bash\n",
    "dir_to_be_processed=\"/shared_volume/testing_simex/sacmod/SIPECAM/cumulo_92/Mes 4/3_92_0_1341/3_92_0_1341_5/100RECNX/\"\n",
    "path_std_dir=\"/shared_volume/testing_simex/sipecam_simex_std_dir\"\n",
    "move_files_to_standard_directory --directory_with_file_of_serial_number_and_dates \"$dir_to_be_processed\" --path_for_standard_directory \"$path_std_dir\""
   ]
  },
  {
   "cell_type": "markdown",
   "id": "2d501748-d2f6-48a4-be24-8712415ab18a",
   "metadata": {
    "tags": []
   },
   "source": [
    "## Check it"
   ]
  },
  {
   "cell_type": "code",
   "execution_count": 38,
   "id": "8fabcf82-538e-4d2b-9748-f425a2e0cf97",
   "metadata": {},
   "outputs": [
    {
     "name": "stdout",
     "output_type": "stream",
     "text": [
      "2022-04-04 12:14:13,627 [INFO]  Dir /shared_volume/testing_simex/sacmod/SIPECAM/cumulo_92/Mes 4/3_92_0_1341/3_92_0_1341_5/100RECNX/ has serial number HLPXGM09048599\n",
      "2022-04-04 12:14:13,627 [INFO]  File /shared_volume/testing_simex/sacmod/SIPECAM/cumulo_92/Mes 4/3_92_0_1341/3_92_0_1341_5/100RECNX/RCNX0005.JPG has date 2021-11-14\n",
      "2022-04-04 12:14:13,627 [INFO]  File /shared_volume/testing_simex/sacmod/SIPECAM/cumulo_92/Mes 4/3_92_0_1341/3_92_0_1341_5/100RECNX/RCNX0426.AVI has date 2021-12-17\n",
      "2022-04-04 12:14:13,627 [INFO]  DaysBetweenFirstAndLastDate: 33\n",
      "2022-04-04 12:14:13,777 [INFO]  Query to Zendro GQL: query {\n",
      "  physical_devices(pagination: {limit: 0}, search: {field: serial_number, value: \"HLPXGM09048599\", operator: like}) {\n",
      "    device_deploymentsFilter(pagination: {limit: 0}, search: {operator: and, search: [{field: date_deployment, value: \"2021-11-14\", valueType: String, operator: gte}, {field: date_deployment, value: \"2021-12-17\", valueType: String, operator: lte}]}) {\n",
      "      node {\n",
      "        nomenclatura\n",
      "        cat_integr\n",
      "        ecosystems {\n",
      "          name\n",
      "        }\n",
      "      }\n",
      "      cumulus {\n",
      "        name\n",
      "        geometry\n",
      "      }\n",
      "      date_deployment\n",
      "      latitude\n",
      "      longitude\n",
      "    }\n",
      "  }\n",
      "}\n",
      "2022-04-04 12:14:13,777 [INFO]  SUCCESSFUL extraction of nomenclature of node, cumulus name and date of deployment\n",
      "2022-04-04 12:14:13,777 [INFO]  directory /shared_volume/testing_simex/sacmod/SIPECAM/cumulo_92/Mes 4/3_92_0_1341/3_92_0_1341_5/100RECNX/ has nom node: 3_92_0_1341, cum name: 92, date of depl: 2021-11-14, ecosystems name: Selvas humedas,                          latitude and longitude of device:  16.113, -90.85552, node category of integrity: Degradado\n",
      "2022-04-04 12:14:13,777 [INFO]  compute centroid of cumulus\n",
      "2022-04-04 12:14:13,778 [INFO]  Centroid of cumulus, lat: 16.17538, long: -90.87685\n",
      "2022-04-04 12:14:13,778 [INFO]  Validating lat and long of device are correct using lat long of cumulus centroid\n",
      "2022-04-04 12:14:13,778 [INFO]  Latitude and Longitude of device are in cumulus geometry\n",
      "2022-04-04 12:14:13,778 [INFO]  filling dict MetadataDevice using query results from Zendro\n",
      "2022-04-04 12:14:13,778 [INFO]  path where files will be moved: /shared_volume/testing_simex/sipecam_simex_std_dir/92/3_92_0_1341/HLPXGM09048599/2021-11-14\n",
      "2022-04-04 12:14:13,781 [INFO]  File /shared_volume/testing_simex/sacmod/SIPECAM/cumulo_92/Mes 4/3_92_0_1341/3_92_0_1341_5/100RECNX/RCNX0005.JPG will be moved to: /shared_volume/testing_simex/sipecam_simex_std_dir/92/3_92_0_1341/HLPXGM09048599/2021-11-14/images_videos with name b319e603d4203220be96e99c318328d7_0005.JPG\n",
      "2022-04-04 12:14:13,781 [INFO]  GPS info of files werent available, using the ones of device to fill them\n",
      "2022-04-04 12:14:13,781 [INFO]  Validating lat and long of file are correct using lat long of cumulus centroid\n",
      "2022-04-04 12:14:13,782 [INFO]  Latitude and Longitude of file are in cumulus geometry\n",
      "2022-04-04 12:14:13,782 [INFO]  Writing lat long of centroid of cumulus for MetadataFiles\n",
      "2022-04-04 12:14:13,783 [INFO]  File /shared_volume/testing_simex/sacmod/SIPECAM/cumulo_92/Mes 4/3_92_0_1341/3_92_0_1341_5/100RECNX/RCNX0425.JPG will be moved to: /shared_volume/testing_simex/sipecam_simex_std_dir/92/3_92_0_1341/HLPXGM09048599/2021-11-14/images_videos with name 1f77a9360058b2b4b3d90d57c6985d89_0425.JPG\n",
      "2022-04-04 12:14:13,783 [INFO]  GPS info of files werent available, using the ones of device to fill them\n",
      "2022-04-04 12:14:13,783 [INFO]  Validating lat and long of file are correct using lat long of cumulus centroid\n",
      "2022-04-04 12:14:13,784 [INFO]  Latitude and Longitude of file are in cumulus geometry\n",
      "2022-04-04 12:14:13,784 [INFO]  Writing lat long of centroid of cumulus for MetadataFiles\n",
      "2022-04-04 12:14:13,785 [INFO]  File /shared_volume/testing_simex/sacmod/SIPECAM/cumulo_92/Mes 4/3_92_0_1341/3_92_0_1341_5/100RECNX/RCNX0002.JPG will be moved to: /shared_volume/testing_simex/sipecam_simex_std_dir/92/3_92_0_1341/HLPXGM09048599/2021-11-14/images_videos with name 5aac2296d3ab61e30004120bde533a8b_0002.JPG\n",
      "2022-04-04 12:14:13,785 [INFO]  GPS info of files werent available, using the ones of device to fill them\n",
      "2022-04-04 12:14:13,785 [INFO]  Validating lat and long of file are correct using lat long of cumulus centroid\n",
      "2022-04-04 12:14:13,786 [INFO]  Latitude and Longitude of file are in cumulus geometry\n",
      "2022-04-04 12:14:13,786 [INFO]  Writing lat long of centroid of cumulus for MetadataFiles\n",
      "2022-04-04 12:14:13,788 [INFO]  File /shared_volume/testing_simex/sacmod/SIPECAM/cumulo_92/Mes 4/3_92_0_1341/3_92_0_1341_5/100RECNX/RCNX0004.JPG will be moved to: /shared_volume/testing_simex/sipecam_simex_std_dir/92/3_92_0_1341/HLPXGM09048599/2021-11-14/images_videos with name ba7ab1dec148293f2751d7e28ea2b15a_0004.JPG\n",
      "2022-04-04 12:14:13,788 [INFO]  GPS info of files werent available, using the ones of device to fill them\n",
      "2022-04-04 12:14:13,788 [INFO]  Validating lat and long of file are correct using lat long of cumulus centroid\n",
      "2022-04-04 12:14:13,788 [INFO]  Latitude and Longitude of file are in cumulus geometry\n",
      "2022-04-04 12:14:13,788 [INFO]  Writing lat long of centroid of cumulus for MetadataFiles\n",
      "2022-04-04 12:14:13,789 [INFO]  File /shared_volume/testing_simex/sacmod/SIPECAM/cumulo_92/Mes 4/3_92_0_1341/3_92_0_1341_5/100RECNX/RCNX0428.JPG will be moved to: /shared_volume/testing_simex/sipecam_simex_std_dir/92/3_92_0_1341/HLPXGM09048599/2021-11-14/images_videos with name ce103c222e3bf72033e686d7ab2330ef_0428.JPG\n",
      "2022-04-04 12:14:13,789 [INFO]  GPS info of files werent available, using the ones of device to fill them\n",
      "2022-04-04 12:14:13,790 [INFO]  Validating lat and long of file are correct using lat long of cumulus centroid\n",
      "2022-04-04 12:14:13,790 [INFO]  Latitude and Longitude of file are in cumulus geometry\n",
      "2022-04-04 12:14:13,790 [INFO]  Writing lat long of centroid of cumulus for MetadataFiles\n",
      "2022-04-04 12:14:13,792 [INFO]  File /shared_volume/testing_simex/sacmod/SIPECAM/cumulo_92/Mes 4/3_92_0_1341/3_92_0_1341_5/100RECNX/RCNX0001.JPG will be moved to: /shared_volume/testing_simex/sipecam_simex_std_dir/92/3_92_0_1341/HLPXGM09048599/2021-11-14/images_videos with name ff44914fcfd3f5e460abe20aae0c2dc0_0001.JPG\n",
      "2022-04-04 12:14:13,792 [INFO]  GPS info of files werent available, using the ones of device to fill them\n",
      "2022-04-04 12:14:13,792 [INFO]  Validating lat and long of file are correct using lat long of cumulus centroid\n",
      "2022-04-04 12:14:13,792 [INFO]  Latitude and Longitude of file are in cumulus geometry\n",
      "2022-04-04 12:14:13,792 [INFO]  Writing lat long of centroid of cumulus for MetadataFiles\n",
      "2022-04-04 12:14:13,793 [INFO]  File /shared_volume/testing_simex/sacmod/SIPECAM/cumulo_92/Mes 4/3_92_0_1341/3_92_0_1341_5/100RECNX/RCNX0427.JPG will be moved to: /shared_volume/testing_simex/sipecam_simex_std_dir/92/3_92_0_1341/HLPXGM09048599/2021-11-14/images_videos with name 4cfcacd313bf1f313507ac4aae476ce9_0427.JPG\n",
      "2022-04-04 12:14:13,793 [INFO]  GPS info of files werent available, using the ones of device to fill them\n",
      "2022-04-04 12:14:13,794 [INFO]  Validating lat and long of file are correct using lat long of cumulus centroid\n",
      "2022-04-04 12:14:13,794 [INFO]  Latitude and Longitude of file are in cumulus geometry\n",
      "2022-04-04 12:14:13,794 [INFO]  Writing lat long of centroid of cumulus for MetadataFiles\n",
      "2022-04-04 12:14:13,810 [INFO]  File /shared_volume/testing_simex/sacmod/SIPECAM/cumulo_92/Mes 4/3_92_0_1341/3_92_0_1341_5/100RECNX/RCNX0006.AVI will be moved to: /shared_volume/testing_simex/sipecam_simex_std_dir/92/3_92_0_1341/HLPXGM09048599/2021-11-14/images_videos with name 30dc68f2b267097c7b8920b2f065f1d8_0006.AVI\n",
      "2022-04-04 12:14:13,810 [INFO]  GPS info of files werent available, using the ones of device to fill them\n",
      "2022-04-04 12:14:13,810 [INFO]  Validating lat and long of file are correct using lat long of cumulus centroid\n",
      "2022-04-04 12:14:13,810 [INFO]  Latitude and Longitude of file are in cumulus geometry\n",
      "2022-04-04 12:14:13,810 [INFO]  Writing lat long of centroid of cumulus for MetadataFiles\n",
      "2022-04-04 12:14:13,812 [INFO]  File /shared_volume/testing_simex/sacmod/SIPECAM/cumulo_92/Mes 4/3_92_0_1341/3_92_0_1341_5/100RECNX/RCNX0429.AVI will be moved to: /shared_volume/testing_simex/sipecam_simex_std_dir/92/3_92_0_1341/HLPXGM09048599/2021-11-14/images_videos with name 2420c3561f82acdaa97e3bfa4f8db7c1_0429.AVI\n",
      "2022-04-04 12:14:13,812 [INFO]  GPS info of files werent available, using the ones of device to fill them\n",
      "2022-04-04 12:14:13,812 [INFO]  Validating lat and long of file are correct using lat long of cumulus centroid\n"
     ]
    }
   ],
   "source": [
    "%%bash\n",
    "dir_to_be_processed=\"/shared_volume/testing_simex/sacmod/SIPECAM/cumulo_92/Mes 4/3_92_0_1341/3_92_0_1341_5/100RECNX/\"\n",
    "file_for_logs=$(find \"$dir_to_be_processed\" -name 'logs_simex_move_files_to_standard_directory.logs')\n",
    "head -n 75 \"$file_for_logs\""
   ]
  },
  {
   "cell_type": "code",
   "execution_count": 39,
   "id": "94c28b35-2849-42e6-af7e-27489d9d744c",
   "metadata": {},
   "outputs": [
    {
     "name": "stdout",
     "output_type": "stream",
     "text": [
      "{\n",
      "    \"DaysBetweenFirstAndLastDate\": 33,\n",
      "    \"MetadataDevice\": {\n",
      "        \"Make\": \"RECONYX\",\n",
      "        \"Model\": \"HF2 PRO COVERT\",\n",
      "        \"SerialNumber\": \"HLPXGM09048599\",\n",
      "        \"NomenclatureNode\": \"3_92_0_1341\",\n",
      "        \"CumulusName\": \"92\",\n",
      "        \"CentroidCumulusLatitude\": 16.17538,\n",
      "        \"CentroidCumulusLongitude\": -90.87685,\n",
      "        \"DateDeployment\": \"2021-11-14\",\n",
      "        \"EcosystemsName\": \"Selvas humedas\",\n",
      "        \"Latitude\": 16.113,\n",
      "        \"Longitude\": -90.85552,\n",
      "        \"NodeCategoryIntegrity\": \"Degradado\"\n",
      "    },\n",
      "    \"MetadataFiles\": {\n",
      "        \"/shared_volume/testing_simex/sipecam_simex_std_dir/92/3_92_0_1341/HLPXGM09048599/2021-11-14/images_videos/b319e603d4203220be96e99c318328d7_0005.JPG\": {\n",
      "            \"Make\": \"RECONYX\",\n",
      "            \"Model\": \"HF2 PRO COVERT\",\n",
      "            \"DateTimeOriginal\": \"2021:11:14 13:36:07\",\n",
      "            \"SerialNumber\": \"HLPXGM09048599\",\n",
      "            \"FileSize\": \"638 KiB\",\n",
      "            \"ExifByteOrder\": \"Little-endian (Intel, II)\",\n",
      "            \"ImageWidth\": 2048,\n",
      "            \"ImageHeight\": 1440,\n",
      "            \"EncodingProcess\": \"Baseline DCT, Huffman coding\",\n",
      "            \"BitsPerSample\": 8,\n",
      "            \"ColorComponents\": 3,\n",
      "            \"YCbCrSubSampling\": \"YCbCr4:2:2 (2 1)\",\n",
      "            \"XResolution\": 72,\n",
      "            \"YResolution\": 72,\n",
      "            \"ResolutionUnit\": \"inches\",\n",
      "            \"YCbCrPositioning\": \"Co-sited\",\n",
      "            \"ExposureTime\": \"1/30\",\n",
      "            \"ISO\": 1600,\n",
      "            \"TimeZoneOffset\": 0,\n",
      "            \"ComponentsConfiguration\": \"Y, Cb, Cr, -\",\n",
      "            \"ColorSpace\": \"sRGB\",\n",
      "            \"AmbientTemperature\": \"25 C\",\n",
      "            \"Contrast\": 128,\n",
      "            \"Brightness\": 0,\n",
      "            \"Sharpness\": 64,\n",
      "            \"Saturation\": 128,\n",
      "            \"Flash\": \"Off\",\n",
      "            \"AmbientInfrared\": 92,\n",
      "            \"AmbientLight\": 180,\n",
      "            \"MotionSensitivity\": 80,\n",
      "            \"BatteryVoltage\": 7463,\n",
      "            \"BatteryVoltageAvg\": 7517,\n",
      "            \"Megapixels\": 2.94912,\n",
      "            \"GPSLatitudeRef\": \"North\",\n",
      "            \"GPSLongitudeRef\": \"West\",\n",
      "            \"GPSLatitude\": 16.113,\n",
      "            \"GPSLongitude\": -90.85552,\n",
      "            \"CentroidCumulusLatitude\": 16.17538,\n",
      "            \"CentroidCumulusLongitude\": -90.87685\n",
      "        },\n",
      "        \"/shared_volume/testing_simex/sipecam_simex_std_dir/92/3_92_0_1341/HLPXGM09048599/2021-11-14/images_videos/1f77a9360058b2b4b3d90d57c6985d89_0425.JPG\": {\n",
      "            \"Make\": \"RECONYX\",\n",
      "            \"Model\": \"HF2 PRO COVERT\",\n",
      "            \"DateTimeOriginal\": \"2021:12:17 10:13:13\",\n",
      "            \"SerialNumber\": \"HLPXGM09048599\",\n",
      "            \"FileSize\": \"582 KiB\",\n",
      "            \"ExifByteOrder\": \"Little-endian (Intel, II)\",\n",
      "            \"ImageWidth\": 2048,\n",
      "            \"ImageHeight\": 1440,\n",
      "            \"EncodingProcess\": \"Baseline DCT, Huffman coding\",\n",
      "            \"BitsPerSample\": 8,\n",
      "            \"ColorComponents\": 3,\n",
      "            \"YCbCrSubSampling\": \"YCbCr4:2:2 (2 1)\",\n",
      "            \"XResolution\": 72,\n",
      "            \"YResolution\": 72,\n",
      "            \"ResolutionUnit\": \"inches\",\n",
      "            \"YCbCrPositioning\": \"Co-sited\",\n",
      "            \"ExposureTime\": \"1/30\",\n",
      "            \"ISO\": 1250,\n",
      "            \"TimeZoneOffset\": 0,\n",
      "            \"ComponentsConfiguration\": \"Y, Cb, Cr, -\",\n",
      "            \"ColorSpace\": \"sRGB\",\n",
      "            \"AmbientTemperature\": \"21 C\",\n",
      "            \"Contrast\": 128,\n",
      "            \"Brightness\": 0,\n",
      "            \"Sharpness\": 64,\n",
      "            \"Saturation\": 128,\n",
      "            \"Flash\": \"Off\",\n",
      "            \"AmbientInfrared\": 219,\n",
      "            \"AmbientLight\": 423,\n",
      "            \"MotionSensitivity\": 80,\n",
      "            \"BatteryVoltage\": 7038,\n",
      "            \"BatteryVoltageAvg\": 7055,\n",
      "            \"Megapixels\": 2.94912,\n",
      "            \"GPSLatitudeRef\": \"North\",\n",
      "            \"GPSLongitudeRef\": \"West\",\n",
      "            \"GPSLatitude\": 16.113,\n",
      "            \"GPSLongitude\": -90.85552,\n",
      "            \"CentroidCumulusLatitude\": 16.17538,\n",
      "            \"CentroidCumulusLongitude\": -90.87685\n",
      "        },\n",
      "        \"/shared_volume/testing_simex/sipecam_simex_std_dir/92/3_92_0_1341/HLPXGM09048599/2021-11-14/images_videos/5aac2296d3ab61e30004120bde533a8b_0002.JPG\": {\n"
     ]
    }
   ],
   "source": [
    "%%bash\n",
    "path_std_dir=\"/shared_volume/testing_simex/sipecam_simex_std_dir/92/3_92_0_1341\"\n",
    "dir_images=$(find \"$path_std_dir\" -name \"images_videos\")\n",
    "file=$(find \"$dir_images\" -name \"*.json\")\n",
    "python3 -mjson.tool \"$file\"|head -n 100"
   ]
  },
  {
   "cell_type": "code",
   "execution_count": 40,
   "id": "d8307ff9-6ace-455d-b48c-98dd8156a0eb",
   "metadata": {},
   "outputs": [
    {
     "name": "stdout",
     "output_type": "stream",
     "text": [
      "            \"VideoCompression\": \"Motion JPEG DIB (fourcc:\\\"MJPG\\\")\",\n",
      "            \"AudioSampleRate\": \"16.0 kHz\",\n",
      "            \"AudioCompressionRate\": \"1.0x\",\n",
      "            \"AudioCompression\": \"Microsoft Pulse Code Modulation (PCM)\",\n",
      "            \"AudioBitRate\": \"256.4 Kbit/sec\",\n",
      "            \"FileSize\": \"6.6 MiB\",\n",
      "            \"DateTimeOriginal\": \"2021:11:14 13:36:07\",\n",
      "            \"BMPVersion\": \"Windows V3\",\n",
      "            \"ImageWidth\": 1024,\n",
      "            \"ImageHeight\": 720,\n",
      "            \"Planes\": 1,\n",
      "            \"ImageLength\": 2211840,\n",
      "            \"PixelsPerMeterX\": 0,\n",
      "            \"PixelsPerMeterY\": 0,\n",
      "            \"NumColors\": \"Use BitDepth\",\n",
      "            \"NumImportantColors\": \"All\",\n",
      "            \"FrameRate\": 12.5,\n",
      "            \"FrameCount\": 117,\n",
      "            \"StreamCount\": 2,\n",
      "            \"AudioSampleCount\": 0,\n",
      "            \"Encoding\": \"Microsoft PCM\",\n",
      "            \"NumChannels\": 1,\n",
      "            \"AvgBytesPerSec\": 32050,\n",
      "            \"BitsPerSample\": 16,\n",
      "            \"Duration\": \"9.36 s\",\n",
      "            \"MaxDataRate\": 26542080,\n",
      "            \"Megapixels\": 0.73728,\n",
      "            \"GPSLatitudeRef\": \"North\",\n",
      "            \"GPSLongitudeRef\": \"West\",\n",
      "            \"GPSLatitude\": 16.113,\n",
      "            \"GPSLongitude\": -90.85552,\n",
      "            \"CentroidCumulusLatitude\": 16.17538,\n",
      "            \"CentroidCumulusLongitude\": -90.87685\n",
      "        },\n",
      "        \"/shared_volume/testing_simex/sipecam_simex_std_dir/92/3_92_0_1341/HLPXGM09048599/2021-11-14/images_videos/2420c3561f82acdaa97e3bfa4f8db7c1_0429.AVI\": {\n",
      "            \"BitRate\": \"7.2 Mbit/sec\",\n",
      "            \"Endianness\": \"Little endian\",\n",
      "            \"VideoBitsPerPixel\": \"24\",\n",
      "            \"VideoCompression\": \"Motion JPEG DIB (fourcc:\\\"MJPG\\\")\",\n",
      "            \"AudioSampleRate\": \"16.0 kHz\",\n",
      "            \"AudioCompressionRate\": \"1.0x\",\n",
      "            \"AudioCompression\": \"Microsoft Pulse Code Modulation (PCM)\",\n",
      "            \"AudioBitRate\": \"256.4 Kbit/sec\",\n",
      "            \"FileSize\": \"631 KiB\",\n",
      "            \"DateTimeOriginal\": \"2021:12:17 10:13:32\",\n",
      "            \"BMPVersion\": \"Windows V3\",\n",
      "            \"ImageWidth\": 1024,\n",
      "            \"ImageHeight\": 720,\n",
      "            \"Planes\": 1,\n",
      "            \"ImageLength\": 2211840,\n",
      "            \"PixelsPerMeterX\": 0,\n",
      "            \"PixelsPerMeterY\": 0,\n",
      "            \"NumColors\": \"Use BitDepth\",\n",
      "            \"NumImportantColors\": \"All\",\n",
      "            \"FrameRate\": 12.5,\n",
      "            \"FrameCount\": 9,\n",
      "            \"StreamCount\": 2,\n",
      "            \"AudioSampleCount\": 0,\n",
      "            \"Encoding\": \"Microsoft PCM\",\n",
      "            \"NumChannels\": 1,\n",
      "            \"AvgBytesPerSec\": 32050,\n",
      "            \"BitsPerSample\": 16,\n",
      "            \"Duration\": \"0.72 s\",\n",
      "            \"MaxDataRate\": 26542080,\n",
      "            \"Megapixels\": 0.73728,\n",
      "            \"GPSLatitudeRef\": \"North\",\n",
      "            \"GPSLongitudeRef\": \"West\",\n",
      "            \"GPSLatitude\": 16.113,\n",
      "            \"GPSLongitude\": -90.85552,\n",
      "            \"CentroidCumulusLatitude\": 16.17538,\n",
      "            \"CentroidCumulusLongitude\": -90.87685\n",
      "        },\n",
      "        \"/shared_volume/testing_simex/sipecam_simex_std_dir/92/3_92_0_1341/HLPXGM09048599/2021-11-14/images_videos/c1b68af28f72f2adca8c415904bf4fad_0426.AVI\": {\n",
      "            \"BitRate\": \"7.6 Mbit/sec\",\n",
      "            \"Endianness\": \"Little endian\",\n",
      "            \"VideoBitsPerPixel\": \"24\",\n",
      "            \"VideoCompression\": \"Motion JPEG DIB (fourcc:\\\"MJPG\\\")\",\n",
      "            \"AudioSampleRate\": \"16.0 kHz\",\n",
      "            \"AudioCompressionRate\": \"1.0x\",\n",
      "            \"AudioCompression\": \"Microsoft Pulse Code Modulation (PCM)\",\n",
      "            \"AudioBitRate\": \"256.4 Kbit/sec\",\n",
      "            \"FileSize\": \"9.7 MiB\",\n",
      "            \"DateTimeOriginal\": \"2021:12:17 10:13:14\",\n",
      "            \"BMPVersion\": \"Windows V3\",\n",
      "            \"ImageWidth\": 1024,\n",
      "            \"ImageHeight\": 720,\n",
      "            \"Planes\": 1,\n",
      "            \"ImageLength\": 2211840,\n",
      "            \"PixelsPerMeterX\": 0,\n",
      "            \"PixelsPerMeterY\": 0,\n",
      "            \"NumColors\": \"Use BitDepth\",\n",
      "            \"NumImportantColors\": \"All\",\n",
      "            \"FrameRate\": 12.5,\n",
      "            \"FrameCount\": 134,\n",
      "            \"StreamCount\": 2,\n",
      "            \"AudioSampleCount\": 0,\n",
      "            \"Encoding\": \"Microsoft PCM\",\n",
      "            \"NumChannels\": 1,\n",
      "            \"AvgBytesPerSec\": 32050,\n",
      "            \"BitsPerSample\": 16,\n",
      "            \"Duration\": \"10.72 s\",\n",
      "            \"MaxDataRate\": 26542080,\n",
      "            \"Megapixels\": 0.73728,\n",
      "            \"GPSLatitudeRef\": \"North\",\n",
      "            \"GPSLongitudeRef\": \"West\",\n",
      "            \"GPSLatitude\": 16.113,\n",
      "            \"GPSLongitude\": -90.85552,\n",
      "            \"CentroidCumulusLatitude\": 16.17538,\n",
      "            \"CentroidCumulusLongitude\": -90.87685\n",
      "        },\n",
      "        \"/shared_volume/testing_simex/sipecam_simex_std_dir/92/3_92_0_1341/HLPXGM09048599/2021-11-14/images_videos/0377e2830755af0f034e37d0501b0795_0003.AVI\": {\n",
      "            \"BitRate\": \"15.1 Mbit/sec\",\n",
      "            \"Endianness\": \"Little endian\",\n",
      "            \"VideoBitsPerPixel\": \"24\",\n",
      "            \"VideoCompression\": \"Motion JPEG DIB (fourcc:\\\"MJPG\\\")\",\n",
      "            \"AudioSampleRate\": \"16.0 kHz\",\n",
      "            \"AudioCompressionRate\": \"1.0x\",\n",
      "            \"AudioCompression\": \"Microsoft Pulse Code Modulation (PCM)\",\n",
      "            \"AudioBitRate\": \"256.4 Kbit/sec\",\n",
      "            \"FileSize\": \"9.2 MiB\",\n",
      "            \"DateTimeOriginal\": \"2021:11:14 13:35:41\",\n",
      "            \"BMPVersion\": \"Windows V3\",\n",
      "            \"ImageWidth\": 1024,\n",
      "            \"ImageHeight\": 720,\n",
      "            \"Planes\": 1,\n",
      "            \"ImageLength\": 2211840,\n",
      "            \"PixelsPerMeterX\": 0,\n",
      "            \"PixelsPerMeterY\": 0,\n",
      "            \"NumColors\": \"Use BitDepth\",\n",
      "            \"NumImportantColors\": \"All\",\n",
      "            \"FrameRate\": 12.5,\n",
      "            \"FrameCount\": 64,\n",
      "            \"StreamCount\": 2,\n",
      "            \"AudioSampleCount\": 0,\n",
      "            \"Encoding\": \"Microsoft PCM\",\n",
      "            \"NumChannels\": 1,\n",
      "            \"AvgBytesPerSec\": 32050,\n",
      "            \"BitsPerSample\": 16,\n",
      "            \"Duration\": \"5.12 s\",\n",
      "            \"MaxDataRate\": 26542080,\n",
      "            \"Megapixels\": 0.73728,\n",
      "            \"GPSLatitudeRef\": \"North\",\n",
      "            \"GPSLongitudeRef\": \"West\",\n",
      "            \"GPSLatitude\": 16.113,\n",
      "            \"GPSLongitude\": -90.85552,\n",
      "            \"CentroidCumulusLatitude\": 16.17538,\n",
      "            \"CentroidCumulusLongitude\": -90.87685\n",
      "        }\n",
      "    }\n",
      "}\n"
     ]
    }
   ],
   "source": [
    "%%bash\n",
    "path_std_dir=\"/shared_volume/testing_simex/sipecam_simex_std_dir/92/3_92_0_1341\"\n",
    "dir_images=$(find \"$path_std_dir\" -name \"images_videos\")\n",
    "file=$(find \"$dir_images\" -name \"*.json\")\n",
    "python3 -mjson.tool \"$file\"|tail -n 150"
   ]
  },
  {
   "cell_type": "code",
   "execution_count": 41,
   "id": "30d15616-a128-4794-8371-6eecc999fa21",
   "metadata": {},
   "outputs": [
    {
     "name": "stdout",
     "output_type": "stream",
     "text": [
      "/shared_volume/testing_simex/sipecam_simex_std_dir/92/3_92_1_1338/HLPXGM09048890/2021-07-28/images_videos\n",
      "/shared_volume/testing_simex/sipecam_simex_std_dir/92/3_92_1_1338/2423C2045F256D74/2021-07-28/audios/Ultrasonico\n",
      "/shared_volume/testing_simex/sipecam_simex_std_dir/92/3_92_0_1339/248D9B045EC9E6B1/2021-07-29/audios/Ultrasonico\n",
      "/shared_volume/testing_simex/sipecam_simex_std_dir/92/3_92_0_1341/HLPXGM09048599/2021-11-14/images_videos\n"
     ]
    }
   ],
   "source": [
    "%%bash\n",
    "path_std_dir=\"/shared_volume/testing_simex/sipecam_simex_std_dir\"\n",
    "txt_file=$(find \"$path_std_dir\" -name \"*.txt\")\n",
    "cat \"$txt_file\""
   ]
  },
  {
   "cell_type": "markdown",
   "id": "ce0a15c0-1d76-42b5-8322-8998c7148013",
   "metadata": {},
   "source": [
    "# Example of alternative query in move_files cli"
   ]
  },
  {
   "cell_type": "code",
   "execution_count": null,
   "id": "0a23014a-15e4-4a8e-a644-a67a9d387c6d",
   "metadata": {},
   "outputs": [],
   "source": [
    "%%bash\n",
    "echo \"SIPECAM_ZENDRO_GQL_URL=https://gql.sipecamdata.conabio.gob.mx/\" > ~/.simex_env\n",
    "echo \"SIPECAM_ZENDRO_GQL_USER=<user>\" >> ~/.simex_env\n",
    "echo \"SIPECAM_ZENDRO_GQL_PASSWORD=<password>\" >> ~/.simex_env\n"
   ]
  },
  {
   "cell_type": "code",
   "execution_count": 1,
   "id": "5b7c4e07-c921-4684-8ccd-1bf59b07595a",
   "metadata": {},
   "outputs": [],
   "source": [
    "import datetime\n",
    "from simex.utils.zendro import query_alternative_auxiliar_for_move_files_to_standard_directory, \\\n",
    "query_alternative_for_move_files_to_standard_directory"
   ]
  },
  {
   "cell_type": "code",
   "execution_count": 2,
   "id": "8a994fac-6f27-4780-9232-8068023df55c",
   "metadata": {},
   "outputs": [
    {
     "name": "stdout",
     "output_type": "stream",
     "text": [
      "query {\n",
      "  physical_devices(pagination: {limit: 0}, search: {field: serial_number, value: \"HLPXGM09048890\", operator: like}) {\n",
      "    device_deploymentsFilter(pagination: {limit: 0}) {\n",
      "      date_deployment\n",
      "    }\n",
      "  }\n",
      "}\n",
      "query {\n",
      "  physical_devices(pagination: {limit: 0}, search: {field: serial_number, value: \"HLPXGM09048890\", operator: like}) {\n",
      "    device_deploymentsFilter(pagination: {limit: 0}, search: {field: date_deployment, value: \"2021-07-28T16:35:00.000Z\", operator: eq}) {\n",
      "      node {\n",
      "        nomenclatura\n",
      "        cat_integr\n",
      "        ecosystems {\n",
      "          name\n",
      "        }\n",
      "      }\n",
      "      cumulus {\n",
      "        name\n",
      "      }\n",
      "      date_deployment\n",
      "      latitude\n",
      "      longitude\n",
      "    }\n",
      "  }\n",
      "}\n"
     ]
    }
   ],
   "source": [
    "first_date_str = \"2021-07-29\"\n",
    "second_date_str = \"2021-08-26\"\n",
    "serial_number = \"HLPXGM09048890\"\n",
    "file_type=\"image\"\n",
    "diff_dates = 29\n",
    "query_result, operation_sgqlc = query_alternative_auxiliar_for_move_files_to_standard_directory(serial_number,\n",
    "                                                                                                file_type)\n",
    "print(operation_sgqlc)\n",
    "device_deploymentsFilter_list = query_result[\"data\"][\"physical_devices\"][0][\"device_deploymentsFilter\"]\n",
    "format_string_data = \"%Y-%m-%d\"\n",
    "list_dates_device_deployment = [d[\"date_deployment\"].split('T')[0] for d in device_deploymentsFilter_list]\n",
    "list_datetimes_device_deployment = [datetime.datetime.strptime(d[\"date_deployment\"].split('T')[0],\n",
    "                                                               format_string_data) for d in device_deploymentsFilter_list]\n",
    "first_datetime  = datetime.datetime.strptime(first_date_str, format_string_data)\n",
    "second_datetime = datetime.datetime.strptime(second_date_str, format_string_data)\n",
    "diff_dates_datetime = datetime.timedelta(diff_dates)\n",
    "list_datetimes_device_deployment_increased = [d + diff_dates_datetime/2 for d in list_datetimes_device_deployment]\n",
    "k = 0\n",
    "for datetimes_device_deployment in list_datetimes_device_deployment_increased:\n",
    "    if first_datetime <= datetimes_device_deployment and datetimes_device_deployment <= second_datetime:\n",
    "        idx_date = k\n",
    "    k += 1\n",
    "date_for_filter = device_deploymentsFilter_list[idx_date][\"date_deployment\"]\n",
    "\n",
    "query_result, operation_sgqlc = query_alternative_for_move_files_to_standard_directory(serial_number,\n",
    "                                                                                       date_for_filter,\n",
    "                                                                                       file_type)\n",
    "device_deploymentsFilter_list = query_result[\"data\"][\"physical_devices\"][0][\"device_deploymentsFilter\"]\n",
    "print(operation_sgqlc)"
   ]
  },
  {
   "cell_type": "code",
   "execution_count": 3,
   "id": "a3fc0805-1812-40ba-8ca1-d62bddcd55bf",
   "metadata": {},
   "outputs": [
    {
     "data": {
      "text/plain": [
       "[{'node': {'nomenclatura': '3_92_1_1338',\n",
       "   'cat_integr': 'Integro',\n",
       "   'ecosystems': {'name': 'Selvas humedas'}},\n",
       "  'cumulus': {'name': '92'},\n",
       "  'date_deployment': '2021-07-28T16:35:00.000Z',\n",
       "  'latitude': 16.15832,\n",
       "  'longitude': -90.90487}]"
      ]
     },
     "execution_count": 3,
     "metadata": {},
     "output_type": "execute_result"
    }
   ],
   "source": [
    "device_deploymentsFilter_list"
   ]
  },
  {
   "cell_type": "code",
   "execution_count": 4,
   "id": "f3895a60-6213-4818-84b2-6b80bdda6b27",
   "metadata": {},
   "outputs": [
    {
     "name": "stdout",
     "output_type": "stream",
     "text": [
      "query {\n",
      "  physical_devices(pagination: {limit: 0}, search: {field: comments, value: \"ADM248D9B045EC9E6B1\", operator: like}) {\n",
      "    device_deploymentsFilter(pagination: {limit: 0}) {\n",
      "      date_deployment\n",
      "    }\n",
      "  }\n",
      "}\n",
      "query {\n",
      "  physical_devices(pagination: {limit: 0}, search: {field: comments, value: \"ADM248D9B045EC9E6B1\", operator: like}) {\n",
      "    device_deploymentsFilter(pagination: {limit: 0}, search: {field: date_deployment, value: \"2021-07-29T17:05:00.000Z\", operator: eq}) {\n",
      "      node {\n",
      "        nomenclatura\n",
      "        cat_integr\n",
      "        ecosystems {\n",
      "          name\n",
      "        }\n",
      "      }\n",
      "      cumulus {\n",
      "        name\n",
      "      }\n",
      "      date_deployment\n",
      "      latitude\n",
      "      longitude\n",
      "    }\n",
      "  }\n",
      "}\n"
     ]
    }
   ],
   "source": [
    "first_date_str = \"2021-07-29\"\n",
    "second_date_str = \"2021-08-28\"\n",
    "serial_number = \"248D9B045EC9E6B1\"\n",
    "file_type=\"audio\"\n",
    "diff_dates = 30\n",
    "query_result, operation_sgqlc = query_alternative_auxiliar_for_move_files_to_standard_directory(serial_number,\n",
    "                                                                                                file_type)\n",
    "print(operation_sgqlc)\n",
    "device_deploymentsFilter_list = query_result[\"data\"][\"physical_devices\"][0][\"device_deploymentsFilter\"]\n",
    "format_string_data = \"%Y-%m-%d\"\n",
    "list_dates_device_deployment = [d[\"date_deployment\"].split('T')[0] for d in device_deploymentsFilter_list]\n",
    "list_datetimes_device_deployment = [datetime.datetime.strptime(d[\"date_deployment\"].split('T')[0],\n",
    "                                                               format_string_data) for d in device_deploymentsFilter_list]\n",
    "first_datetime  = datetime.datetime.strptime(first_date_str, format_string_data)\n",
    "second_datetime = datetime.datetime.strptime(second_date_str, format_string_data)\n",
    "diff_dates_datetime = datetime.timedelta(diff_dates)\n",
    "list_datetimes_device_deployment_increased = [d + diff_dates_datetime/2 for d in list_datetimes_device_deployment]\n",
    "k = 0\n",
    "for datetimes_device_deployment in list_datetimes_device_deployment_increased:\n",
    "    if first_datetime <= datetimes_device_deployment and datetimes_device_deployment <= second_datetime:\n",
    "        idx_date = k\n",
    "    k += 1\n",
    "date_for_filter = device_deploymentsFilter_list[idx_date][\"date_deployment\"]\n",
    "\n",
    "query_result, operation_sgqlc = query_alternative_for_move_files_to_standard_directory(serial_number,\n",
    "                                                                                       date_for_filter,\n",
    "                                                                                       file_type)\n",
    "device_deploymentsFilter_list = query_result[\"data\"][\"physical_devices\"][0][\"device_deploymentsFilter\"]\n",
    "print(operation_sgqlc)"
   ]
  },
  {
   "cell_type": "code",
   "execution_count": 5,
   "id": "aee8f443-74a3-4237-b905-4611413375da",
   "metadata": {},
   "outputs": [
    {
     "data": {
      "text/plain": [
       "[{'node': {'nomenclatura': '3_92_0_1339',\n",
       "   'cat_integr': 'Degradado',\n",
       "   'ecosystems': {'name': 'Selvas humedas'}},\n",
       "  'cumulus': {'name': '92'},\n",
       "  'date_deployment': '2021-07-29T17:05:00.000Z',\n",
       "  'latitude': 16.1517,\n",
       "  'longitude': -90.81243}]"
      ]
     },
     "execution_count": 5,
     "metadata": {},
     "output_type": "execute_result"
    }
   ],
   "source": [
    "device_deploymentsFilter_list"
   ]
  },
  {
   "cell_type": "markdown",
   "id": "54c394b7-2d49-4f57-ad68-47ca51cfdeef",
   "metadata": {
    "tags": []
   },
   "source": [
    "# (Deprecated) Extract metadata and ingest it"
   ]
  },
  {
   "cell_type": "code",
   "execution_count": 12,
   "id": "30d5bc01-2c33-4897-b5a7-426ef64e9dcb",
   "metadata": {},
   "outputs": [],
   "source": [
    "%%bash\n",
    "file_to_be_processed=\"/LUSTRE/sacmod/SIPECAM/Entregas_2021/octubre_2021/SIPECAM/Playon 1338/Camaras/1338_1/100RECNX/RCNX0049.JPG\"\n",
    "extract_metadata_and_ingest_it --input_file \"$file_to_be_processed\""
   ]
  },
  {
   "cell_type": "code",
   "execution_count": 13,
   "id": "4d2b0873-2d07-4220-bb3a-8f7252aca304",
   "metadata": {},
   "outputs": [],
   "source": [
    "%%bash\n",
    "file_to_be_processed=\"/LUSTRE/sacmod/SIPECAM/Entregas_2021/octubre_2021/SIPECAM/Playon 1338/Camaras/1338_1/100RECNX/RCNX0012.AVI\"\n",
    "extract_metadata_and_ingest_it --input_file \"$file_to_be_processed\""
   ]
  },
  {
   "cell_type": "code",
   "execution_count": 14,
   "id": "a43aa386-b77f-44ba-8f32-63e6be7b3076",
   "metadata": {},
   "outputs": [],
   "source": [
    "%%bash\n",
    "file_to_be_processed=\"/LUSTRE/sacmod/SIPECAM/Entregas_2021/octubre_2021/SIPECAM/Playon 1338/Audio/1338_1/Ultrasonico/20210806_044000.WAV\"\n",
    "extract_metadata_and_ingest_it --input_file \"$file_to_be_processed\""
   ]
  },
  {
   "cell_type": "markdown",
   "id": "02f37f58-0240-4ddb-b232-a5828cb625cc",
   "metadata": {
    "tags": []
   },
   "source": [
    "## Check"
   ]
  },
  {
   "cell_type": "code",
   "execution_count": 15,
   "id": "3c9ae9ae-f57d-4372-a9cd-1cfa54e3617e",
   "metadata": {},
   "outputs": [
    {
     "name": "stdout",
     "output_type": "stream",
     "text": [
      "2021-12-15 11:35:34,559 [INFO]  extraction of metadata and ingestion of /LUSTRE/sacmod/SIPECAM/Entregas_2021/octubre_2021/SIPECAM/Playon 1338/Camaras/1338_1/100RECNX/RCNX0049.JPG\n",
      "2021-12-15 11:35:34,561 [INFO]  Read metadata of JPG\n",
      "2021-12-15 11:35:34,561 [INFO]  {}\n",
      "2021-12-15 11:35:34,561 [INFO]  Getting node nomenclature and cumulus name from zendro\n",
      "2021-12-15 11:35:34,562 [INFO]  Copying file to 3/1_3_1_28/2021-10-01/JPG\n"
     ]
    }
   ],
   "source": [
    "%%bash\n",
    "file_to_be_processed=\"/LUSTRE/sacmod/SIPECAM/Entregas_2021/octubre_2021/SIPECAM/Playon 1338/Camaras/1338_1/100RECNX/RCNX0049.JPG\"\n",
    "dirname_file_to_be_processed=$(dirname \"$file_to_be_processed\")\n",
    "dir_for_logs=$(find \"$dirname_file_to_be_processed\" -name 'logs_simex_extract_metadata_and_ingest')\n",
    "filename_to_be_processed=$(basename \"$file_to_be_processed\")\n",
    "cat \"$dir_for_logs/$filename_to_be_processed.logs\""
   ]
  },
  {
   "cell_type": "code",
   "execution_count": 16,
   "id": "24c63ae4-1eb0-4d4c-bbf0-6c2fbe925dc2",
   "metadata": {},
   "outputs": [
    {
     "name": "stdout",
     "output_type": "stream",
     "text": [
      "2021-12-15 11:35:35,463 [INFO]  extraction of metadata and ingestion of /LUSTRE/sacmod/SIPECAM/Entregas_2021/octubre_2021/SIPECAM/Playon 1338/Camaras/1338_1/100RECNX/RCNX0012.AVI\n",
      "2021-12-15 11:35:35,465 [INFO]  Read metadata of AVI\n",
      "2021-12-15 11:35:35,465 [INFO]  {}\n",
      "2021-12-15 11:35:35,465 [INFO]  Getting node nomenclature and cumulus name from zendro\n",
      "2021-12-15 11:35:35,465 [INFO]  Copying file to 3/1_3_1_28/2021-10-01/AVI\n"
     ]
    }
   ],
   "source": [
    "%%bash\n",
    "file_to_be_processed=\"/LUSTRE/sacmod/SIPECAM/Entregas_2021/octubre_2021/SIPECAM/Playon 1338/Camaras/1338_1/100RECNX/RCNX0012.AVI\"\n",
    "dirname_file_to_be_processed=$(dirname \"$file_to_be_processed\")\n",
    "dir_for_logs=$(find \"$dirname_file_to_be_processed\" -name 'logs_simex_extract_metadata_and_ingest')\n",
    "filename_to_be_processed=$(basename \"$file_to_be_processed\")\n",
    "cat \"$dir_for_logs/$filename_to_be_processed.logs\""
   ]
  },
  {
   "cell_type": "code",
   "execution_count": 17,
   "id": "6750bee5-bb0d-4544-b791-8cab897fb8a1",
   "metadata": {},
   "outputs": [
    {
     "name": "stdout",
     "output_type": "stream",
     "text": [
      "2021-12-15 11:35:35,910 [INFO]  extraction of metadata and ingestion of /LUSTRE/sacmod/SIPECAM/Entregas_2021/octubre_2021/SIPECAM/Playon 1338/Audio/1338_1/Ultrasonico/20210806_044000.WAV\n",
      "2021-12-15 11:35:35,912 [INFO]  Read metadata of WAV\n",
      "2021-12-15 11:35:35,912 [INFO]  {}\n",
      "2021-12-15 11:35:35,912 [INFO]  Getting node nomenclature and cumulus name from zendro\n",
      "2021-12-15 11:35:35,912 [INFO]  Copying file to 3/1_3_1_28/2021-10-01/WAV\n"
     ]
    }
   ],
   "source": [
    "%%bash\n",
    "file_to_be_processed=\"/LUSTRE/sacmod/SIPECAM/Entregas_2021/octubre_2021/SIPECAM/Playon 1338/Audio/1338_1/Ultrasonico/20210806_044000.WAV\"\n",
    "dirname_file_to_be_processed=$(dirname \"$file_to_be_processed\")\n",
    "dir_for_logs=$(find \"$dirname_file_to_be_processed\" -name 'logs_simex_extract_metadata_and_ingest')\n",
    "filename_to_be_processed=$(basename \"$file_to_be_processed\")\n",
    "cat \"$dir_for_logs/$filename_to_be_processed.logs\""
   ]
  }
 ],
 "metadata": {
  "kernelspec": {
   "display_name": "Python 3 (ipykernel)",
   "language": "python",
   "name": "python3"
  },
  "language_info": {
   "codemirror_mode": {
    "name": "ipython",
    "version": 3
   },
   "file_extension": ".py",
   "mimetype": "text/x-python",
   "name": "python",
   "nbconvert_exporter": "python",
   "pygments_lexer": "ipython3",
   "version": "3.8.10"
  }
 },
 "nbformat": 4,
 "nbformat_minor": 5
}
