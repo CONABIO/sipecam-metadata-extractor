{
 "cells": [
  {
   "cell_type": "markdown",
   "id": "55fbee2a-d46a-4c53-80fd-5e9d399e09d4",
   "metadata": {},
   "source": [
    "# Install `simex`"
   ]
  },
  {
   "cell_type": "code",
   "execution_count": 1,
   "id": "156d8c5a-0bbf-4da0-9907-39c89199702e",
   "metadata": {},
   "outputs": [
    {
     "name": "stderr",
     "output_type": "stream",
     "text": [
      "WARNING: Running pip as the 'root' user can result in broken permissions and conflicting behaviour with the system package manager. It is recommended to use a virtual environment instead: https://pip.pypa.io/warnings/venv\n",
      "WARNING: You are using pip version 21.2.4; however, version 21.3.1 is available.\n",
      "You should consider upgrading via the '/usr/bin/python3 -m pip install --upgrade pip' command.\n"
     ]
    }
   ],
   "source": [
    "%%bash\n",
    "#clone repo of `sipecam-metadata-extactor` in server\n",
    "#git clone git@github.com:CONABIO/sipecam-metadata-extractor.git ~/\n",
    "cd ../src\n",
    "#install in editable mode\n",
    "pip install -q -e ."
   ]
  },
  {
   "cell_type": "markdown",
   "id": "18dafca7-40c5-4561-9882-585adc102e64",
   "metadata": {
    "tags": []
   },
   "source": [
    "# List of files to extract metadata"
   ]
  },
  {
   "cell_type": "code",
   "execution_count": 2,
   "id": "bb5da31e-cd09-498c-bea1-1874e7a3bcf8",
   "metadata": {},
   "outputs": [],
   "source": [
    "%%bash\n",
    "dir_with_sipecam_data=/LUSTRE/sacmod/SIPECAM/Entregas_2021/octubre_2021/SIPECAM/\n",
    "list_of_files_to_extract_metadata --input_directory $dir_with_sipecam_data"
   ]
  },
  {
   "cell_type": "markdown",
   "id": "dd1ec9c2-9ccd-4466-a001-d1a2cb0a3481",
   "metadata": {
    "tags": []
   },
   "source": [
    "## Check"
   ]
  },
  {
   "cell_type": "code",
   "execution_count": 3,
   "id": "c6af410f-441d-4677-90cc-a68d96f88591",
   "metadata": {},
   "outputs": [
    {
     "name": "stdout",
     "output_type": "stream",
     "text": [
      "-rw-r--r-- 1 root root 3.2M Dec 13 21:08 /shared_volume/sipecam_files_to_extract_metadata_from_13-12-2021.txt\n"
     ]
    }
   ],
   "source": [
    "%%bash\n",
    "ls -lh /shared_volume/sipecam_files_to_extract_metadata_from_*"
   ]
  },
  {
   "cell_type": "code",
   "execution_count": 4,
   "id": "38b883ef-65eb-4dd9-9fb4-8c2ad55cf876",
   "metadata": {},
   "outputs": [
    {
     "name": "stdout",
     "output_type": "stream",
     "text": [
      "29080 /shared_volume/sipecam_files_to_extract_metadata_from_13-12-2021.txt\n"
     ]
    }
   ],
   "source": [
    "%%bash\n",
    "wc -l /shared_volume/sipecam_files_to_extract_metadata_from_*"
   ]
  },
  {
   "cell_type": "markdown",
   "id": "54c394b7-2d49-4f57-ad68-47ca51cfdeef",
   "metadata": {},
   "source": [
    "# Extract metadata and ingest it"
   ]
  },
  {
   "cell_type": "code",
   "execution_count": 6,
   "id": "30d5bc01-2c33-4897-b5a7-426ef64e9dcb",
   "metadata": {},
   "outputs": [],
   "source": [
    "%%bash\n",
    "file_to_be_processed=\"/LUSTRE/sacmod/SIPECAM/Entregas_2021/octubre_2021/SIPECAM/Playon 1338/Camaras/1338_1/100RECNX/RCNX0049.JPG\"\n",
    "extract_metadata_and_ingest_it --input_file \"$file_to_be_processed\""
   ]
  },
  {
   "cell_type": "code",
   "execution_count": 7,
   "id": "a43aa386-b77f-44ba-8f32-63e6be7b3076",
   "metadata": {},
   "outputs": [],
   "source": [
    "%%bash\n",
    "file_to_be_processed=\"/LUSTRE/sacmod/SIPECAM/Entregas_2021/octubre_2021/SIPECAM/Playon 1338/Audio/1338_1/Ultrasonico/20210806_044000.WAV\"\n",
    "extract_metadata_and_ingest_it --input_file \"$file_to_be_processed\""
   ]
  },
  {
   "cell_type": "code",
   "execution_count": 8,
   "id": "68aad9fa-4a3f-47d9-ab84-77ced71984a9",
   "metadata": {},
   "outputs": [
    {
     "name": "stderr",
     "output_type": "stream",
     "text": [
      "[warn] Skip value duration=datetime.timedelta(0) (filter)\n"
     ]
    }
   ],
   "source": [
    "%%bash\n",
    "file_to_be_processed=\"/LUSTRE/sacmod/SIPECAM/Entregas_2021/octubre_2021/SIPECAM/Playon 1338/Camaras/1338_1/100RECNX/RCNX0012.AVI\"\n",
    "extract_metadata_and_ingest_it --input_file \"$file_to_be_processed\""
   ]
  },
  {
   "cell_type": "markdown",
   "id": "02f37f58-0240-4ddb-b232-a5828cb625cc",
   "metadata": {
    "tags": []
   },
   "source": [
    "## Check"
   ]
  },
  {
   "cell_type": "code",
   "execution_count": 12,
   "id": "3c9ae9ae-f57d-4372-a9cd-1cfa54e3617e",
   "metadata": {},
   "outputs": [
    {
     "name": "stdout",
     "output_type": "stream",
     "text": [
      "2021-12-13 21:08:20,715 [INFO]  extraction of metadata and ingestion of /LUSTRE/sacmod/SIPECAM/Entregas_2021/octubre_2021/SIPECAM/Playon 1338/Camaras/1338_1/100RECNX/RCNX0049.JPG\n",
      "2021-12-13 21:08:20,716 [INFO]  Read metadata of JPG\n",
      "2021-12-13 21:08:20,730 [INFO]  {'serial_number': ''}\n",
      "2021-12-13 21:08:20,730 [INFO]  Getting node nomenclature and cumulus name from zendro\n",
      "2021-12-13 21:08:20,730 [INFO]  Copying file to 3/1_3_1_28/2021-10-01/JPG\n"
     ]
    }
   ],
   "source": [
    "%%bash\n",
    "file_to_be_processed=\"/LUSTRE/sacmod/SIPECAM/Entregas_2021/octubre_2021/SIPECAM/Playon 1338/Camaras/1338_1/100RECNX/RCNX0049.JPG\"\n",
    "dirname_file_to_be_processed=$(dirname \"$file_to_be_processed\")\n",
    "temp_dir_for_logs=$(find \"$dirname_file_to_be_processed\" -name 'temp*')\n",
    "filename_to_be_processed=$(basename \"$file_to_be_processed\"|cut -d '.' -f1)\n",
    "cat \"$temp_dir_for_logs/logs_$filename_to_be_processed.txt\""
   ]
  },
  {
   "cell_type": "code",
   "execution_count": 13,
   "id": "6750bee5-bb0d-4544-b791-8cab897fb8a1",
   "metadata": {},
   "outputs": [
    {
     "name": "stdout",
     "output_type": "stream",
     "text": [
      "2021-12-13 21:08:22,885 [INFO]  extraction of metadata and ingestion of /LUSTRE/sacmod/SIPECAM/Entregas_2021/octubre_2021/SIPECAM/Playon 1338/Audio/1338_1/Ultrasonico/20210806_044000.WAV\n",
      "2021-12-13 21:08:22,886 [INFO]  Read metadata of WAV\n",
      "2021-12-13 21:08:22,893 [INFO]  {'battery': '4.5V', 'gain': 'medium', 'serial': '2423C2045F256D74', 'date': '04:40:00 06/08/2021 (UTC-0600)', 'timezone': 'UTC'}\n",
      "2021-12-13 21:08:22,893 [INFO]  Getting node nomenclature and cumulus name from zendro\n",
      "2021-12-13 21:08:22,893 [INFO]  Copying file to 3/1_3_1_28/2021-10-01/WAV\n"
     ]
    }
   ],
   "source": [
    "%%bash\n",
    "file_to_be_processed=\"/LUSTRE/sacmod/SIPECAM/Entregas_2021/octubre_2021/SIPECAM/Playon 1338/Audio/1338_1/Ultrasonico/20210806_044000.WAV\"\n",
    "dirname_file_to_be_processed=$(dirname \"$file_to_be_processed\")\n",
    "temp_dir_for_logs=$(find \"$dirname_file_to_be_processed\" -name 'temp*')\n",
    "filename_to_be_processed=$(basename \"$file_to_be_processed\"|cut -d '.' -f1)\n",
    "cat \"$temp_dir_for_logs/logs_$filename_to_be_processed.txt\""
   ]
  },
  {
   "cell_type": "code",
   "execution_count": 14,
   "id": "93caa22a-bc44-4597-bdd2-6ccb70273962",
   "metadata": {},
   "outputs": [
    {
     "name": "stdout",
     "output_type": "stream",
     "text": [
      "2021-12-13 21:08:24,889 [INFO]  extraction of metadata and ingestion of /LUSTRE/sacmod/SIPECAM/Entregas_2021/octubre_2021/SIPECAM/Playon 1338/Camaras/1338_1/100RECNX/RCNX0012.AVI\n",
      "2021-12-13 21:08:24,890 [INFO]  Read metadata of AVI\n",
      "2021-12-13 21:08:24,948 [INFO]  {'pymediainfo': {'general': {'track_type': 'General', 'count': '331', 'count_of_stream_of_this_kind': '1', 'kind_of_stream': 'General', 'other_kind_of_stream': ['General'], 'stream_identifier': '0', 'count_of_video_streams': '1', 'count_of_audio_streams': '1', 'video_format_list': 'JPEG', 'video_format_withhint_list': 'JPEG', 'codecs_video': 'JPEG', 'audio_format_list': 'PCM', 'audio_format_withhint_list': 'PCM', 'audio_codecs': 'PCM', 'complete_name': '/LUSTRE/sacmod/SIPECAM/Entregas_2021/octubre_2021/SIPECAM/Playon 1338/Camaras/1338_1/100RECNX/RCNX0012.AVI', 'folder_name': '/LUSTRE/sacmod/SIPECAM/Entregas_2021/octubre_2021/SIPECAM/Playon 1338/Camaras/1338_1/100RECNX', 'file_name_extension': 'RCNX0012.AVI', 'file_name': 'RCNX0012', 'file_extension': 'AVI', 'format': 'AVI', 'other_format': ['AVI'], 'format_info': 'Audio Video Interleave', 'format_extensions_usually_used': 'avi', 'commercial_name': 'AVI', 'internet_media_type': 'video/vnd.avi', 'interleaved': 'Yes', 'file_size': 8875088, 'other_file_size': ['8.46 MiB', '8 MiB', '8.5 MiB', '8.46 MiB', '8.464 MiB'], 'duration': 5120, 'other_duration': ['5 s 120 ms', '5 s 120 ms', '5 s 120 ms', '00:00:05.120', '00:00:04:12', '00:00:05.120 (00:00:04:12)'], 'overall_bit_rate': 13867325, 'other_overall_bit_rate': ['13.9 Mb/s'], 'frame_rate': '12.500', 'other_frame_rate': ['12.500 FPS'], 'frame_count': '64', 'stream_size': 27624, 'other_stream_size': ['27.0 KiB (0%)', '27 KiB', '27 KiB', '27.0 KiB', '26.98 KiB', '27.0 KiB (0%)'], 'proportion_of_this_stream': '0.00311', 'mastered_date': '2021-07-28 10:44:02', 'file_last_modification_date': 'UTC 2021-07-28 15:44:02', 'file_last_modification_date__local': '2021-07-28 10:44:02', 'writing_library': 'II*', 'other_writing_library': ['II*']}, 'video': {'track_type': 'Video', 'count': '377', 'count_of_stream_of_this_kind': '1', 'kind_of_stream': 'Video', 'other_kind_of_stream': ['Video'], 'stream_identifier': '0', 'streamorder': '0', 'track_id': 0, 'other_track_id': ['0'], 'format': 'JPEG', 'other_format': ['JPEG'], 'commercial_name': 'JPEG', 'internet_media_type': 'video/JPEG', 'codec_id': 'MJPG', 'duration': 5120, 'other_duration': ['5 s 120 ms', '5 s 120 ms', '5 s 120 ms', '00:00:05.120', '00:00:04:12', '00:00:05.120 (00:00:04:12)'], 'bit_rate': 13570200, 'other_bit_rate': ['13.6 Mb/s'], 'width': 1024, 'other_width': ['1 024 pixels'], 'height': 720, 'other_height': ['720 pixels'], 'sampled_width': '1024', 'sampled_height': '720', 'pixel_aspect_ratio': '1.000', 'display_aspect_ratio': '1.422', 'other_display_aspect_ratio': ['1.422'], 'frame_rate': '12.500', 'other_frame_rate': ['12.500 FPS'], 'frame_count': '64', 'color_space': 'YUV', 'chroma_subsampling': '4:2:2', 'other_chroma_subsampling': ['4:2:2'], 'bit_depth': 8, 'other_bit_depth': ['8 bits'], 'scan_type': 'Progressive', 'other_scan_type': ['Progressive'], 'compression_mode': 'Lossy', 'other_compression_mode': ['Lossy'], 'bits__pixel_frame': '1.472', 'delay': 0, 'other_delay': ['00:00:00.000'], 'stream_size': 8684928, 'other_stream_size': ['8.28 MiB (98%)', '8 MiB', '8.3 MiB', '8.28 MiB', '8.283 MiB', '8.28 MiB (98%)'], 'proportion_of_this_stream': '0.97857', 'title': 'Reconyx MicroFire Video'}, 'audio': {'track_type': 'Audio', 'count': '280', 'count_of_stream_of_this_kind': '1', 'kind_of_stream': 'Audio', 'other_kind_of_stream': ['Audio'], 'stream_identifier': '0', 'streamorder': '1', 'track_id': 1, 'other_track_id': ['1'], 'format': 'PCM', 'other_format': ['PCM'], 'commercial_name': 'PCM', 'format_settings': 'Little / Signed', 'format_settings__endianness': 'Little', 'format_settings__sign': 'Signed', 'codec_id': '1', 'codec_id_url': 'http://www.microsoft.com/windows/', 'duration': 5071, 'other_duration': ['5 s 71 ms', '5 s 71 ms', '5 s 71 ms', '00:00:05.071', '00:00:05.071'], 'bit_rate_mode': 'CBR', 'other_bit_rate_mode': ['Constant'], 'bit_rate': 256000, 'other_bit_rate': ['256 kb/s'], 'channel_s': 1, 'other_channel_s': ['1 channel'], 'sampling_rate': 16025, 'other_sampling_rate': ['16.0 kHz'], 'samples_count': '81263', 'bit_depth': 16, 'other_bit_depth': ['16 bits'], 'delay': 0, 'other_delay': ['00:00:00.000'], 'delay__origin': 'Stream', 'other_delay__origin': ['Raw stream'], 'delay_relative_to_video': 0, 'other_delay_relative_to_video': ['00:00:00.000'], 'stream_size': 162536, 'other_stream_size': ['159 KiB (2%)', '159 KiB', '159 KiB', '159 KiB', '158.7 KiB', '159 KiB (2%)'], 'proportion_of_this_stream': '0.01831', 'alignment': 'Aligned', 'other_alignment': ['Aligned on interleaves'], 'interleave__duration': 23, 'other_interleave__duration': ['23', '23  ms (0.28 video frame)', '0.28'], 'title': 'Reconyx MicroFire Audio'}}, 'hachoir': {'Common': {'Duration': '5 sec 120 ms', 'Image width': '1024 pixels', 'Image height': '720 pixels', 'Creation date': '2021-07-28 10:44:02', 'Frame rate': '12.5 fps', 'Bit rate': '13.9 Mbit/sec', 'Comment': 'Has audio/video index (4664 bytes)', 'MIME type': 'video/x-msvideo', 'Endianness': 'Little endian'}, 'Video stream': {'Duration': '5 sec 120 ms', 'Image width': '1024 pixels', 'Image height': '720 pixels', 'Bits/pixel': '24', 'Compression': 'Motion JPEG DIB (fourcc:\"MJPG\")', 'Frame rate': '12.5 fps'}, 'Audio stream': {'Channel': 'mono', 'Sample rate': '16.0 kHz', 'Bits/sample': '16 bits', 'Compression rate': '1.0x', 'Compression': 'Microsoft Pulse Code Modulation (PCM)', 'Bit rate': '256.4 Kbit/sec'}}}\n",
      "2021-12-13 21:08:24,948 [INFO]  Getting node nomenclature and cumulus name from zendro\n",
      "2021-12-13 21:08:24,948 [INFO]  Copying file to 3/1_3_1_28/2021-10-01/AVI\n"
     ]
    }
   ],
   "source": [
    "%%bash\n",
    "file_to_be_processed=\"/LUSTRE/sacmod/SIPECAM/Entregas_2021/octubre_2021/SIPECAM/Playon 1338/Camaras/1338_1/100RECNX/RCNX0012.AVI\"\n",
    "dirname_file_to_be_processed=$(dirname \"$file_to_be_processed\")\n",
    "temp_dir_for_logs=$(find \"$dirname_file_to_be_processed\" -name 'temp*')\n",
    "filename_to_be_processed=$(basename \"$file_to_be_processed\"|cut -d '.' -f1)\n",
    "cat \"$temp_dir_for_logs/logs_$filename_to_be_processed.txt\""
   ]
  },
  {
   "cell_type": "code",
   "execution_count": null,
   "id": "09e2470a-08bd-41d0-a473-e675323c8b68",
   "metadata": {},
   "outputs": [],
   "source": []
  }
 ],
 "metadata": {
  "kernelspec": {
   "display_name": "Python 3 (ipykernel)",
   "language": "python",
   "name": "python3"
  },
  "language_info": {
   "codemirror_mode": {
    "name": "ipython",
    "version": 3
   },
   "file_extension": ".py",
   "mimetype": "text/x-python",
   "name": "python",
   "nbconvert_exporter": "python",
   "pygments_lexer": "ipython3",
   "version": "3.8.10"
  }
 },
 "nbformat": 4,
 "nbformat_minor": 5
}
