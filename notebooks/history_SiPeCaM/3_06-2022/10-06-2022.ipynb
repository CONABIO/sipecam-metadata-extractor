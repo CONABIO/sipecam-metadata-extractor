{
 "cells": [
  {
   "cell_type": "markdown",
   "id": "faa9abe4-7282-4a14-9071-b340bfbec4bb",
   "metadata": {},
   "source": [
    "# Continuation [02-06-2022.ipynb](https://github.com/CONABIO/sipecam-metadata-extractor/blob/develop/notebooks/history_SiPeCaM/3_06-2022/02-06-2022.ipynb)"
   ]
  },
  {
   "cell_type": "markdown",
   "id": "8b8b1580-8053-412b-b353-98d4fb1b9e40",
   "metadata": {},
   "source": [
    "# Move files to standard directory\n"
   ]
  },
  {
   "cell_type": "code",
   "execution_count": null,
   "id": "3cd4d323-4722-4021-bd36-ba57879557c1",
   "metadata": {},
   "outputs": [],
   "source": [
    "%%bash\n",
    "echo \"SIPECAM_ZENDRO_GQL_URL=https://gql.sipecamdata.conabio.gob.mx/\" > ~/.simex_env\n",
    "echo \"SIPECAM_ZENDRO_GQL_USER=<user>\" >> ~/.simex_env\n",
    "echo \"SIPECAM_ZENDRO_GQL_PASSWORD=<password>\" >> ~/.simex_env\n",
    "\n"
   ]
  },
  {
   "cell_type": "code",
   "execution_count": 2,
   "id": "b9e2deda-486a-4380-bb47-1037bc417475",
   "metadata": {},
   "outputs": [
    {
     "name": "stdout",
     "output_type": "stream",
     "text": [
      "/LUSTRE/sacmod/SIPECAM/cumulo_13/entrega_27.abril.2022/SIPECAM AUDIOS/Nodo 3_13_1_1393/Ultra/10263609\n",
      "/LUSTRE/sacmod/SIPECAM/cumulo_13/entrega_27.abril.2022/SIPECAM AUDIOS/Nodo 3_13_1_1393/Grabadoras/Audible 2/10261149\n",
      "/LUSTRE/sacmod/SIPECAM/cumulo_13/entrega_27.abril.2022/SIPECAM AUDIOS/Nodo 3_13_1_1393/Audible/10262012\n",
      "/LUSTRE/sacmod/SIPECAM/cumulo_13/entrega_27.abril.2022/SIPECAM AUDIOS/Nodo 3_13_0_1399 LAS PIEDRAS/Audiomoth 1/AudioMoths.N5.T4\n",
      "/LUSTRE/sacmod/SIPECAM/cumulo_13/entrega_27.abril.2022/SIPECAM AUDIOS/Nodo 3_13_0_1399 LAS PIEDRAS/Audiomoth 1/Ultra.N5.T3\n",
      "/LUSTRE/sacmod/SIPECAM/cumulo_13/entrega_27.abril.2022/SIPECAM AUDIOS/Nodo 3_13_0_1399 LAS PIEDRAS/Audiomoth 1/AudioMoth\n",
      "/LUSTRE/sacmod/SIPECAM/cumulo_13/entrega_27.abril.2022/SIPECAM AUDIOS/Nodo 3_13_0_1399 LAS PIEDRAS/Audiomoth 3\n",
      "/LUSTRE/sacmod/SIPECAM/cumulo_13/entrega_27.abril.2022/SIPECAM AUDIOS/Nodo 3_13_0_1399 LAS PIEDRAS/Audiomoth 2/AudioMoths.N5.T4/Audio\n",
      "/LUSTRE/sacmod/SIPECAM/cumulo_13/entrega_27.abril.2022/SIPECAM AUDIOS/Nodo 3_13_0_1399 LAS PIEDRAS/Audiomoth 2/Ultra.N5.T3\n",
      "/LUSTRE/sacmod/SIPECAM/cumulo_13/entrega_27.abril.2022/SIPECAM AUDIOS/Nodo 3_13_0_1399 LAS PIEDRAS/Audiomoth 2/Ultra.N5.T3 2\n",
      "/LUSTRE/sacmod/SIPECAM/cumulo_13/entrega_27.abril.2022/SIPECAM AUDIOS/21-10-21 a 29-11-21\n",
      "/LUSTRE/sacmod/SIPECAM/cumulo_13/entrega_27.abril.2022/SIPECAM AUDIOS/Nodo 3_13_1_1392 NICTEHA 2/10262012\n",
      "/LUSTRE/sacmod/SIPECAM/cumulo_13/entrega_27.abril.2022/SIPECAM AUDIOS/Nodo 3_13_1_1392 NICTEHA 2/10262089\n",
      "/LUSTRE/sacmod/SIPECAM/cumulo_13/entrega_27.abril.2022/SIPECAM AUDIOS/NODO 3_13_0_1401 EL SANTUARIO/Audiomoth\n",
      "/LUSTRE/sacmod/SIPECAM/cumulo_13/entrega_27.abril.2022/SIPECAM AUDIOS/NODO 3_13_0_1401 EL SANTUARIO/10262153\n",
      "/LUSTRE/sacmod/SIPECAM/cumulo_13/entrega_27.abril.2022/SIPECAM AUDIOS/NODO 3_13_0_1401 EL SANTUARIO/10309403\n",
      "/LUSTRE/sacmod/SIPECAM/cumulo_13/entrega_27.abril.2022/SIPECAM AUDIOS/Nodo 3_13_0_1400 VILLAROSA/10262719\n",
      "/LUSTRE/sacmod/SIPECAM/cumulo_13/entrega_27.abril.2022/SIPECAM AUDIOS/Nodo 3_13_0_1400 VILLAROSA/10262153\n",
      "/LUSTRE/sacmod/SIPECAM/cumulo_13/entrega_27.abril.2022/SIPECAM AUDIOS/Nodo 3_13_0_1400 VILLAROSA/10306526\n",
      "/LUSTRE/sacmod/SIPECAM/cumulo_13/entrega_27.abril.2022/SIPECAM AUDIOS/Nodo 3_13_0_1400 VILLAROSA/10263606\n",
      "/LUSTRE/sacmod/SIPECAM/cumulo_13/entrega_27.abril.2022/SIPECAM AUDIOS/Nodo 3_13_0_1400 VILLAROSA/10262333\n",
      "/LUSTRE/sacmod/SIPECAM/cumulo_13/entrega_27.abril.2022/SIPECAM AUDIOS/Nodo 3_13_0_1400 VILLAROSA/10309403\n",
      "/LUSTRE/sacmod/SIPECAM/cumulo_13/entrega_27.abril.2022/SIPECAM AUDIOS/Nodo 3_13_1_1394 NICTEHA 1/10263609\n",
      "/LUSTRE/sacmod/SIPECAM/cumulo_13/entrega_27.abril.2022/SIPECAM AUDIOS/Nodo 3_13_1_1394 NICTEHA 1/10262089\n",
      "/LUSTRE/sacmod/SIPECAM/cumulo_13/entrega_27.abril.2022/SIPECAM AUDIOS/Nodo 3_13_1_1394 NICTEHA 1/10262039\n",
      "/LUSTRE/sacmod/SIPECAM/cumulo_13/entrega_27.abril.2022/found.000/dir0000.chk/HLPXGM 09048480\n"
     ]
    },
    {
     "name": "stderr",
     "output_type": "stream",
     "text": [
      "Traceback (most recent call last):\n",
      "  File \"/usr/local/bin/move_files_to_standard_directory\", line 8, in <module>\n",
      "    sys.exit(main())\n",
      "  File \"/usr/local/lib/python3.8/dist-packages/simex/move_files_to_standard_directory.py\", line 369, in main\n",
      "    dict_source = json.load(f)\n",
      "  File \"/usr/lib/python3.8/json/__init__.py\", line 293, in load\n",
      "    return loads(fp.read(),\n",
      "  File \"/usr/lib/python3.8/json/__init__.py\", line 357, in loads\n",
      "    return _default_decoder.decode(s)\n",
      "  File \"/usr/lib/python3.8/json/decoder.py\", line 337, in decode\n",
      "    obj, end = self.raw_decode(s, idx=_w(s, 0).end())\n",
      "  File \"/usr/lib/python3.8/json/decoder.py\", line 355, in raw_decode\n",
      "    raise JSONDecodeError(\"Expecting value\", s, err.value) from None\n",
      "json.decoder.JSONDecodeError: Expecting value: line 1 column 1 (char 0)\n"
     ]
    },
    {
     "name": "stdout",
     "output_type": "stream",
     "text": [
      "/LUSTRE/sacmod/SIPECAM/cumulo_13/entrega_27.abril.2022/RESPALDO MICRO SD AURA/NODO 3_13_1_1393/2/Grabadoras/Audible/10261149\n",
      "/LUSTRE/sacmod/SIPECAM/cumulo_13/entrega_27.abril.2022/RESPALDO MICRO SD AURA/NODO 3_13_1_1393/GRABADORAS/ultra/10263609\n",
      "/LUSTRE/sacmod/SIPECAM/cumulo_13/entrega_27.abril.2022/RESPALDO MICRO SD AURA/NODO 3_13_1_1393/GRABADORAS/ultra/10263609/10263609\n",
      "/LUSTRE/sacmod/SIPECAM/cumulo_13/entrega_27.abril.2022/RESPALDO MICRO SD AURA/NODO 3_13_1_1393/GRABADORAS/ultra/10262223\n",
      "/LUSTRE/sacmod/SIPECAM/cumulo_13/entrega_27.abril.2022/RESPALDO MICRO SD AURA/GRABADORAS/4\n",
      "/LUSTRE/sacmod/SIPECAM/cumulo_13/entrega_27.abril.2022/RESPALDO MICRO SD AURA/GRABADORAS/5\n",
      "/LUSTRE/sacmod/SIPECAM/cumulo_13/entrega_27.abril.2022/RESPALDO MICRO SD AURA/GRABADORAS/3\n",
      "/LUSTRE/sacmod/SIPECAM/cumulo_13/entrega_27.abril.2022/SIPECAM FOTOS/Nodo 3_13_1_1393/FOTOS Camara-trampa 2\n",
      "/LUSTRE/sacmod/SIPECAM/cumulo_13/entrega_27.abril.2022/SIPECAM FOTOS/Nodo 3_13_1_1393/FOTOS Cámara-trampa\n",
      "/LUSTRE/sacmod/SIPECAM/cumulo_13/entrega_27.abril.2022/SIPECAM FOTOS/Nodo 3_13_0_1399 LAS PIEDRAS/Camara-Trampa-T4/FOTOS\n",
      "/LUSTRE/sacmod/SIPECAM/cumulo_13/entrega_27.abril.2022/SIPECAM FOTOS/Nodo 3_13_0_1399 LAS PIEDRAS/Camara-Trampa-T3/FOTOS\n",
      "/LUSTRE/sacmod/SIPECAM/cumulo_13/entrega_27.abril.2022/SIPECAM FOTOS/Nodo 3_13_0_1399 LAS PIEDRAS/Camara-Trampa-T1/FOTOS\n",
      "/LUSTRE/sacmod/SIPECAM/cumulo_13/entrega_27.abril.2022/SIPECAM FOTOS/Nodo 3_13_1_1396 LA LEONA/HLPXGM09048480\n",
      "/LUSTRE/sacmod/SIPECAM/cumulo_13/entrega_27.abril.2022/SIPECAM FOTOS/Nodo 3_13_1_1396 LA LEONA/HLPXGM09049482/FOTOS\n",
      "/LUSTRE/sacmod/SIPECAM/cumulo_13/entrega_27.abril.2022/SIPECAM FOTOS/Nodo 3_13_1_1396 LA LEONA/HLPXGM09049093/FOTOS\n",
      "/LUSTRE/sacmod/SIPECAM/cumulo_13/entrega_27.abril.2022/SIPECAM FOTOS/Nodo 3_13_1_1392 NICTEHA 2/HLPXGM04049093/FOTOS\n",
      "/LUSTRE/sacmod/SIPECAM/cumulo_13/entrega_27.abril.2022/SIPECAM FOTOS/Nodo 3_13_1_1392 NICTEHA 2/HLPXGM09048480/FOTOS\n",
      "/LUSTRE/sacmod/SIPECAM/cumulo_13/entrega_27.abril.2022/SIPECAM FOTOS/Nodo 3_13_1_1392 NICTEHA 2/HLPXGM09048888/FOTOS\n",
      "/LUSTRE/sacmod/SIPECAM/cumulo_13/entrega_27.abril.2022/SIPECAM FOTOS/Nodo 3_13_1_1392 NICTEHA 2/HLPXGM09049482/FOTOS\n",
      "/LUSTRE/sacmod/SIPECAM/cumulo_13/entrega_27.abril.2022/SIPECAM FOTOS/NODO 3_13_0_1401 EL SANTUARIO/HLPXGM09048483/FOTOS\n",
      "/LUSTRE/sacmod/SIPECAM/cumulo_13/entrega_27.abril.2022/SIPECAM FOTOS/NODO 3_13_0_1401 EL SANTUARIO/HLPXGM09048507/FOTOS\n",
      "/LUSTRE/sacmod/SIPECAM/cumulo_13/entrega_27.abril.2022/SIPECAM FOTOS/NODO 3_13_0_1401 EL SANTUARIO/HLPXGM09048448/FOTOS\n",
      "/LUSTRE/sacmod/SIPECAM/cumulo_13/entrega_27.abril.2022/SIPECAM FOTOS/NODO 3_13_0_1401 EL SANTUARIO/HLPXGM09048449/FOTOS\n",
      "/LUSTRE/sacmod/SIPECAM/cumulo_13/entrega_27.abril.2022/SIPECAM FOTOS/NODO 3_13_0_1401 EL SANTUARIO/HLPXGM09048209/FOTOS\n",
      "/LUSTRE/sacmod/SIPECAM/cumulo_13/entrega_27.abril.2022/SIPECAM FOTOS/Nodo 3_13_1_1395 SANTA GERTRUDIS/HLPXGM09048888/FOTOS\n",
      "/LUSTRE/sacmod/SIPECAM/cumulo_13/entrega_27.abril.2022/SIPECAM FOTOS/Nodo 3_13_1_1395 SANTA GERTRUDIS/HLPXGM09049504/FOTOS\n",
      "/LUSTRE/sacmod/SIPECAM/cumulo_13/entrega_27.abril.2022/SIPECAM FOTOS/Nodo 3_13_1_1395 SANTA GERTRUDIS/HLPXGM09049482/FOTOS\n",
      "/LUSTRE/sacmod/SIPECAM/cumulo_13/entrega_27.abril.2022/SIPECAM FOTOS/Nodo 3_13_1_1395 SANTA GERTRUDIS/HLPXGM09049093/FOTOS\n",
      "/LUSTRE/sacmod/SIPECAM/cumulo_13/entrega_27.abril.2022/SIPECAM FOTOS/Nodo 3_13_0_1400 VILLAROSA/HLPXGM09048483/FOTOS\n",
      "/LUSTRE/sacmod/SIPECAM/cumulo_13/entrega_27.abril.2022/SIPECAM FOTOS/Nodo 3_13_0_1400 VILLAROSA/HLPXGM09048507/FOTOS\n",
      "/LUSTRE/sacmod/SIPECAM/cumulo_13/entrega_27.abril.2022/SIPECAM FOTOS/Nodo 3_13_0_1400 VILLAROSA/HLPXGM09048448/102RECNX/FOTOS\n",
      "/LUSTRE/sacmod/SIPECAM/cumulo_13/entrega_27.abril.2022/SIPECAM FOTOS/Nodo 3_13_0_1400 VILLAROSA/HLPXGM09048448/100RECNX\n",
      "/LUSTRE/sacmod/SIPECAM/cumulo_13/entrega_27.abril.2022/SIPECAM FOTOS/Nodo 3_13_0_1400 VILLAROSA/HLPXGM09048449/FOTOS\n",
      "/LUSTRE/sacmod/SIPECAM/cumulo_13/entrega_27.abril.2022/SIPECAM FOTOS/Nodo 3_13_0_1400 VILLAROSA/HLPXGM09048209/FOTOS\n",
      "/LUSTRE/sacmod/SIPECAM/cumulo_13/entrega_27.abril.2022/SIPECAM FOTOS/Nodo 3_13_1_1394 NICTEHA 1/HLPXGM09048480/FOTOS\n",
      "/LUSTRE/sacmod/SIPECAM/cumulo_13/entrega_27.abril.2022/SIPECAM FOTOS/Nodo 3_13_1_1394 NICTEHA 1/HLPXGM09048888/FOTOS\n",
      "/LUSTRE/sacmod/SIPECAM/cumulo_13/entrega_27.abril.2022/SIPECAM FOTOS/Nodo 3_13_1_1394 NICTEHA 1/HLPXGM09049504/FOTOS\n",
      "/LUSTRE/sacmod/SIPECAM/cumulo_13/entrega_27.abril.2022/SIPECAM FOTOS/Nodo 3_13_1_1394 NICTEHA 1/HLPXGM09049482/FOTOS\n",
      "/LUSTRE/sacmod/SIPECAM/cumulo_13/entrega_27.abril.2022/SIPECAM FOTOS/Nodo 3_13_1_1394 NICTEHA 1/HLPXGM09049093/FOTOS\n",
      "/LUSTRE/sacmod/SIPECAM/cumulo_13/entrega_27.abril.2022/SIPECAM FOTOS/Nodo 3_13_0_1398 FRENO/HLPXGM09048483/FOTOS\n",
      "/LUSTRE/sacmod/SIPECAM/cumulo_13/entrega_27.abril.2022/SIPECAM FOTOS/Nodo 3_13_0_1398 FRENO/HLPXGM09048507/FOTOS\n",
      "/LUSTRE/sacmod/SIPECAM/cumulo_13/entrega_27.abril.2022/SIPECAM FOTOS/Nodo 3_13_0_1398 FRENO/HLPXGM09048448/FOTOS\n",
      "/LUSTRE/sacmod/SIPECAM/cumulo_13/entrega_27.abril.2022/SIPECAM FOTOS/Nodo 3_13_0_1398 FRENO/HLPXGM09048449/FOTOS\n",
      "/LUSTRE/sacmod/SIPECAM/cumulo_13/entrega_27.abril.2022/SIPECAM FOTOS/Nodo 3_13_0_1398 FRENO/HLPXGM09048209/FOTOS\n",
      "/LUSTRE/sacmod/SIPECAM/cumulo_13/entrega_27.abril.2022/RESPALDO MICRO SD AURA/NODO 3_13_1_1393/2/Cámara-trampa\n",
      "/LUSTRE/sacmod/SIPECAM/cumulo_13/entrega_27.abril.2022/RESPALDO MICRO SD AURA/NODO 3_13_1_1393/2/camara2\n",
      "/LUSTRE/sacmod/SIPECAM/cumulo_13/entrega_27.abril.2022/RESPALDO MICRO SD AURA/CAMARAS/4/DCIM/101RECNX\n",
      "/LUSTRE/sacmod/SIPECAM/cumulo_13/entrega_27.abril.2022/RESPALDO MICRO SD AURA/CAMARAS/4/DCIM/100RECNX\n",
      "/LUSTRE/sacmod/SIPECAM/cumulo_13/entrega_27.abril.2022/RESPALDO MICRO SD AURA/CAMARAS/2\n",
      "/LUSTRE/sacmod/SIPECAM/cumulo_13/entrega_27.abril.2022/RESPALDO MICRO SD AURA/CAMARAS/6/DCIM/104RECNX\n",
      "/LUSTRE/sacmod/SIPECAM/cumulo_13/entrega_27.abril.2022/RESPALDO MICRO SD AURA/CAMARAS/6/DCIM/103RECNX\n",
      "/LUSTRE/sacmod/SIPECAM/cumulo_13/entrega_27.abril.2022/RESPALDO MICRO SD AURA/CAMARAS/1/DCIM/102RECNX\n",
      "/LUSTRE/sacmod/SIPECAM/cumulo_13/entrega_27.abril.2022/RESPALDO MICRO SD AURA/CAMARAS/1/DCIM/103RECNX\n",
      "/LUSTRE/sacmod/SIPECAM/cumulo_13/entrega_27.abril.2022/RESPALDO MICRO SD AURA/CAMARAS/5/DCIM/104RECNX\n",
      "/LUSTRE/sacmod/SIPECAM/cumulo_13/entrega_27.abril.2022/RESPALDO MICRO SD AURA/CAMARAS/5/DCIM/101RECNX\n",
      "/LUSTRE/sacmod/SIPECAM/cumulo_13/entrega_27.abril.2022/RESPALDO MICRO SD AURA/CAMARAS/5/DCIM/102RECNX\n",
      "/LUSTRE/sacmod/SIPECAM/cumulo_13/entrega_27.abril.2022/RESPALDO MICRO SD AURA/CAMARAS/5/DCIM/103RECNX\n",
      "/LUSTRE/sacmod/SIPECAM/cumulo_13/entrega_27.abril.2022/RESPALDO MICRO SD AURA/CAMARAS/3/DCIM/102RECNX\n",
      "/LUSTRE/sacmod/SIPECAM/cumulo_13/entrega_27.abril.2022/RESPALDO MICRO SD AURA/CAMARAS/3/DCIM/103RECNX\n"
     ]
    }
   ],
   "source": [
    "%%bash\n",
    "list_of_dirs_to_be_processed=/shared_volume/sipecam_subdirectories_02-06-2022.txt\n",
    "SAVEIFS=$IFS;IFS=$(echo -en \"\\n\\b\")\n",
    "path_std_dir=/LUSTRE/sacmod/SIPECAM/data\n",
    "for dir_to_be_processed in $(cat $list_of_dirs_to_be_processed)\n",
    "    do\n",
    "    echo \"$dir_to_be_processed\"\n",
    "    move_files_to_standard_directory --directory_with_file_of_serial_number_and_dates \"$dir_to_be_processed\" --path_for_standard_directory \"$path_std_dir\"\n",
    "done\n",
    "IFS=$SAVEIFS"
   ]
  },
  {
   "cell_type": "markdown",
   "id": "25b1013c-48ff-4edb-9f08-658fa4129975",
   "metadata": {},
   "source": [
    "# Check"
   ]
  },
  {
   "cell_type": "markdown",
   "id": "af821494-de1c-4256-857e-93d271f76b75",
   "metadata": {},
   "source": [
    "Eliminar `/LUSTRE/sacmod/SIPECAM/cumulo_13/entrega_27.abril.2022/found.000/dir0000.chk/HLPXGM 09048480` de `/shared_volume/sipecam_subdirectories_02-06-2022.txt` dado que no tiene archivos"
   ]
  },
  {
   "cell_type": "code",
   "execution_count": null,
   "id": "5791d908-2a44-4c40-98f4-4eaea52d0b49",
   "metadata": {},
   "outputs": [],
   "source": []
  },
  {
   "cell_type": "code",
   "execution_count": null,
   "id": "db40d303-4a8c-4590-8c06-ea809000f49a",
   "metadata": {},
   "outputs": [],
   "source": []
  },
  {
   "cell_type": "markdown",
   "id": "92628bd5-0d8b-4b8d-bfaa-4f8c5c1f4493",
   "metadata": {
    "tags": []
   },
   "source": [
    "\n",
    "# Delivery /LUSTRE/sacmod/SIPECAM/Cumulo_96\n"
   ]
  },
  {
   "cell_type": "code",
   "execution_count": null,
   "id": "c41b3ccd-0ead-4da8-99f5-feee902ff7b4",
   "metadata": {},
   "outputs": [],
   "source": []
  }
 ],
 "metadata": {
  "kernelspec": {
   "display_name": "Python 3 (ipykernel)",
   "language": "python",
   "name": "python3"
  },
  "language_info": {
   "codemirror_mode": {
    "name": "ipython",
    "version": 3
   },
   "file_extension": ".py",
   "mimetype": "text/x-python",
   "name": "python",
   "nbconvert_exporter": "python",
   "pygments_lexer": "ipython3",
   "version": "3.8.10"
  }
 },
 "nbformat": 4,
 "nbformat_minor": 5
}
