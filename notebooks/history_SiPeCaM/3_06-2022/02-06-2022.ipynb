{
 "cells": [
  {
   "cell_type": "markdown",
   "id": "e57f6f1b-1852-4ad9-9a60-d7e9e468c5ea",
   "metadata": {},
   "source": [
    "# Next delivery: `/LUSTRE/sacmod/SIPECAM/cumulo_13/entrega_27.abril.2022`"
   ]
  },
  {
   "cell_type": "markdown",
   "id": "ef22dc5c-47cd-40b3-b567-e226c754a497",
   "metadata": {},
   "source": [
    "## List of files to extract metadata"
   ]
  },
  {
   "cell_type": "code",
   "execution_count": 1,
   "id": "f564ea59-6ab9-42a3-bedb-a270994fa595",
   "metadata": {},
   "outputs": [],
   "source": [
    "%%bash\n",
    "dir_with_sipecam_data=/LUSTRE/sacmod/SIPECAM/cumulo_13/entrega_27.abril.2022\n",
    "list_of_files_and_subdirectories_to_extract_metadata --input_directory \"$dir_with_sipecam_data\""
   ]
  },
  {
   "cell_type": "markdown",
   "id": "c538b4ae-f560-4986-9af8-f6be4bdf4d79",
   "metadata": {},
   "source": [
    "## Check"
   ]
  },
  {
   "cell_type": "code",
   "execution_count": 2,
   "id": "ffa621f4-917e-4aaf-8826-0052117d0e44",
   "metadata": {},
   "outputs": [
    {
     "name": "stdout",
     "output_type": "stream",
     "text": [
      "-rw-r--r-- 1 root root 15K Jun  2 12:26 /shared_volume/sipecam_subdirectories_02-06-2022.txt\n"
     ]
    }
   ],
   "source": [
    "%%bash\n",
    "ls -lh /shared_volume/sipecam_subdirectories_02-06-2022.txt"
   ]
  },
  {
   "cell_type": "code",
   "execution_count": 3,
   "id": "f7e9f90b-eefd-48da-abf1-4ee743175b8d",
   "metadata": {},
   "outputs": [
    {
     "name": "stdout",
     "output_type": "stream",
     "text": [
      "-rw-r--r-- 1 root root 10M Jun  2 12:26 /shared_volume/sipecam_files_to_extract_metadata_from_02-06-2022.txt\n"
     ]
    }
   ],
   "source": [
    "%%bash\n",
    "ls -lh /shared_volume/sipecam_files_to_extract_metadata_from_02-06-2022.txt"
   ]
  },
  {
   "cell_type": "code",
   "execution_count": 4,
   "id": "57592ba8-47f5-49f9-ab57-c8121eff1cf4",
   "metadata": {},
   "outputs": [
    {
     "name": "stdout",
     "output_type": "stream",
     "text": [
      "130 /shared_volume/sipecam_subdirectories_02-06-2022.txt\n"
     ]
    }
   ],
   "source": [
    "%%bash\n",
    "wc -l /shared_volume/sipecam_subdirectories_02-06-2022.txt"
   ]
  },
  {
   "cell_type": "code",
   "execution_count": 5,
   "id": "c8c40920-bbe3-4dbc-b8ea-00065cbb8704",
   "metadata": {},
   "outputs": [
    {
     "name": "stdout",
     "output_type": "stream",
     "text": [
      "82548 /shared_volume/sipecam_files_to_extract_metadata_from_02-06-2022.txt\n"
     ]
    }
   ],
   "source": [
    "%%bash\n",
    "wc -l /shared_volume/sipecam_files_to_extract_metadata_from_02-06-2022.txt"
   ]
  },
  {
   "cell_type": "code",
   "execution_count": 6,
   "id": "dea99e79-a484-41f5-be4f-f74d3d154080",
   "metadata": {},
   "outputs": [
    {
     "name": "stdout",
     "output_type": "stream",
     "text": [
      "/LUSTRE/sacmod/SIPECAM/cumulo_13/entrega_27.abril.2022/SIPECAM AUDIOS/Nodo 3_13_1_1393/Ultra/10263609\n",
      "20210910_214000.WAV\n",
      "20210910_215000.WAV\n",
      "20210910_220000.WAV\n",
      "/LUSTRE/sacmod/SIPECAM/cumulo_13/entrega_27.abril.2022/SIPECAM AUDIOS/Nodo 3_13_1_1393/Grabadoras/Audible 2/10261149\n",
      "19700101_000026.WAV\n",
      "20210811_180000.WAV\n",
      "20210811_182000.WAV\n",
      "/LUSTRE/sacmod/SIPECAM/cumulo_13/entrega_27.abril.2022/SIPECAM AUDIOS/Nodo 3_13_1_1393/Audible/10262012\n",
      "20210821_190000.WAV\n",
      "20210821_192000.WAV\n",
      "20210821_194000.WAV\n",
      "/LUSTRE/sacmod/SIPECAM/cumulo_13/entrega_27.abril.2022/SIPECAM AUDIOS/Nodo 3_13_0_1399 LAS PIEDRAS/Audiomoth 1/AudioMoths.N5.T4\n",
      "20210805_100000.WAV\n",
      "20210805_101000.WAV\n",
      "20210805_102000.WAV\n",
      "/LUSTRE/sacmod/SIPECAM/cumulo_13/entrega_27.abril.2022/SIPECAM AUDIOS/Nodo 3_13_0_1399 LAS PIEDRAS/Audiomoth 1/Ultra.N5.T3\n",
      "20210805_084432.WAV\n",
      "20210805_180000.WAV\n",
      "20210805_182000.WAV\n",
      "/LUSTRE/sacmod/SIPECAM/cumulo_13/entrega_27.abril.2022/SIPECAM AUDIOS/Nodo 3_13_0_1399 LAS PIEDRAS/Audiomoth 1/AudioMoth\n",
      "20210803_102000.WAV\n",
      "20210803_103000.WAV\n",
      "20210803_104000.WAV\n",
      "/LUSTRE/sacmod/SIPECAM/cumulo_13/entrega_27.abril.2022/SIPECAM AUDIOS/Nodo 3_13_0_1399 LAS PIEDRAS/Audiomoth 3\n",
      "20210803_102000.WAV\n",
      "20210803_103000.WAV\n",
      "20210803_104000.WAV\n",
      "/LUSTRE/sacmod/SIPECAM/cumulo_13/entrega_27.abril.2022/SIPECAM AUDIOS/Nodo 3_13_0_1399 LAS PIEDRAS/Audiomoth 2/AudioMoths.N5.T4/Audio\n",
      "20210805_100000.WAV\n",
      "20210805_101000.WAV\n",
      "20210805_102000.WAV\n",
      "/LUSTRE/sacmod/SIPECAM/cumulo_13/entrega_27.abril.2022/SIPECAM AUDIOS/Nodo 3_13_0_1399 LAS PIEDRAS/Audiomoth 2/Ultra.N5.T3\n",
      "20210805_084432.WAV\n",
      "20210805_180000.WAV\n",
      "20210805_182000.WAV\n",
      "/LUSTRE/sacmod/SIPECAM/cumulo_13/entrega_27.abril.2022/SIPECAM AUDIOS/Nodo 3_13_0_1399 LAS PIEDRAS/Audiomoth 2/Ultra.N5.T3 2\n",
      "20210820_054000.WAV\n",
      "20210820_180000.WAV\n",
      "20210820_182000.WAV\n",
      "/LUSTRE/sacmod/SIPECAM/cumulo_13/entrega_27.abril.2022/SIPECAM AUDIOS/21-10-21 a 29-11-21\n",
      "19700101_000007.WAV\n",
      "19700101_000037.WAV\n",
      "20211021_182000.WAV\n",
      "/LUSTRE/sacmod/SIPECAM/cumulo_13/entrega_27.abril.2022/SIPECAM AUDIOS/Nodo 3_13_1_1392 NICTEHA 2/10262012\n",
      "0~FA674D.WAV\n",
      "20211222_103000.WAV\n",
      "20211222_112000.WAV\n",
      "/LUSTRE/sacmod/SIPECAM/cumulo_13/entrega_27.abril.2022/SIPECAM AUDIOS/Nodo 3_13_1_1392 NICTEHA 2/10262089\n",
      "20211222_180000.WAV\n",
      "20211222_182000.WAV\n",
      "20211222_184000.WAV\n",
      "/LUSTRE/sacmod/SIPECAM/cumulo_13/entrega_27.abril.2022/SIPECAM AUDIOS/NODO 3_13_0_1401 EL SANTUARIO/Audiomoth\n",
      "20220201_030000.WAV\n",
      "20220201_032000.WAV\n",
      "20220201_034000.WAV\n",
      "/LUSTRE/sacmod/SIPECAM/cumulo_13/entrega_27.abril.2022/SIPECAM AUDIOS/NODO 3_13_0_1401 EL SANTUARIO/10262153\n",
      "20220118_180000.WAV\n",
      "20220118_182000.WAV\n",
      "20220118_184000.WAV\n",
      "/LUSTRE/sacmod/SIPECAM/cumulo_13/entrega_27.abril.2022/SIPECAM AUDIOS/NODO 3_13_0_1401 EL SANTUARIO/10309403\n",
      "20220118_090021.WAV\n",
      "20220118_091000.WAV\n",
      "20220118_092000.WAV\n",
      "/LUSTRE/sacmod/SIPECAM/cumulo_13/entrega_27.abril.2022/SIPECAM AUDIOS/Nodo 3_13_0_1400 VILLAROSA/10262719\n",
      "20211007_230000.WAV\n",
      "20211007_232000.WAV\n",
      "20211007_234000.WAV\n",
      "/LUSTRE/sacmod/SIPECAM/cumulo_13/entrega_27.abril.2022/SIPECAM AUDIOS/Nodo 3_13_0_1400 VILLAROSA/10262153\n",
      "20211007_190000.WAV\n",
      "20211007_192000.WAV\n",
      "20211007_194000.WAV\n",
      "/LUSTRE/sacmod/SIPECAM/cumulo_13/entrega_27.abril.2022/SIPECAM AUDIOS/Nodo 3_13_0_1400 VILLAROSA/10306526\n",
      "20211021_083000.WAV\n",
      "20211021_084000.WAV\n",
      "20211021_085000.WAV\n",
      "/LUSTRE/sacmod/SIPECAM/cumulo_13/entrega_27.abril.2022/SIPECAM AUDIOS/Nodo 3_13_0_1400 VILLAROSA/10263606\n",
      "20211007_230000.WAV\n",
      "20211007_232000.WAV\n",
      "20211007_234000.WAV\n",
      "/LUSTRE/sacmod/SIPECAM/cumulo_13/entrega_27.abril.2022/SIPECAM AUDIOS/Nodo 3_13_0_1400 VILLAROSA/10262333\n",
      "19700101_000007.WAV\n",
      "20211021_182000.WAV\n",
      "20211021_184000.WAV\n",
      "/LUSTRE/sacmod/SIPECAM/cumulo_13/entrega_27.abril.2022/SIPECAM AUDIOS/Nodo 3_13_0_1400 VILLAROSA/10309403\n",
      "20211021_180000.WAV\n",
      "20211021_182000.WAV\n",
      "20211021_184000.WAV\n",
      "/LUSTRE/sacmod/SIPECAM/cumulo_13/entrega_27.abril.2022/SIPECAM AUDIOS/Nodo 3_13_1_1394 NICTEHA 1/10263609\n",
      "19700101_001545.WAV\n",
      "19700101_002408.WAV\n",
      "19700101_003219.WAV\n",
      "/LUSTRE/sacmod/SIPECAM/cumulo_13/entrega_27.abril.2022/SIPECAM AUDIOS/Nodo 3_13_1_1394 NICTEHA 1/10262012\n",
      "20211006_122131.WAV\n",
      "/LUSTRE/sacmod/SIPECAM/cumulo_13/entrega_27.abril.2022/SIPECAM AUDIOS/Nodo 3_13_1_1394 NICTEHA 1/10262223\n",
      "20211009_180000.WAV\n",
      "20211009_182000.WAV\n",
      "20211009_184000.WAV\n",
      "/LUSTRE/sacmod/SIPECAM/cumulo_13/entrega_27.abril.2022/SIPECAM AUDIOS/Nodo 3_13_1_1394 NICTEHA 1/10262089\n",
      "20210811_132000.WAV\n",
      "20210811_133000.WAV\n",
      "20210811_134000.WAV\n",
      "/LUSTRE/sacmod/SIPECAM/cumulo_13/entrega_27.abril.2022/SIPECAM AUDIOS/Nodo 3_13_1_1394 NICTEHA 1/10262039\n",
      "20211009_112000.WAV\n",
      "20211009_113000.WAV\n",
      "20211009_114000.WAV\n",
      "/LUSTRE/sacmod/SIPECAM/cumulo_13/entrega_27.abril.2022/found.000/dir0000.chk/HLPXGM 09048480\n",
      "20211021_083000.WAV\n",
      "20211021_084000.WAV\n",
      "20211021_085000.WAV\n",
      "/LUSTRE/sacmod/SIPECAM/cumulo_13/entrega_27.abril.2022/RESPALDO MICRO SD AURA/NODO 3_13_1_1393/2/Grabadoras/Audible/10261149\n",
      "19700101_000026.WAV\n",
      "20210811_180000.WAV\n",
      "20210811_182000.WAV\n",
      "/LUSTRE/sacmod/SIPECAM/cumulo_13/entrega_27.abril.2022/RESPALDO MICRO SD AURA/NODO 3_13_1_1393/GRABADORAS/ultra/10263609\n",
      "20210920_182000.WAV\n",
      "20210920_183000.WAV\n",
      "20210920_184000.WAV\n",
      "/LUSTRE/sacmod/SIPECAM/cumulo_13/entrega_27.abril.2022/RESPALDO MICRO SD AURA/NODO 3_13_1_1393/GRABADORAS/ultra/10263609/10263609\n",
      "20210920_190000.WAV\n",
      "20210920_191000.WAV\n",
      "20210920_192000.WAV\n",
      "/LUSTRE/sacmod/SIPECAM/cumulo_13/entrega_27.abril.2022/RESPALDO MICRO SD AURA/NODO 3_13_1_1393/GRABADORAS/ultra/10262223\n",
      "20210811_180000.WAV\n",
      "20210811_182000.WAV\n",
      "20210811_184000.WAV\n",
      "/LUSTRE/sacmod/SIPECAM/cumulo_13/entrega_27.abril.2022/RESPALDO MICRO SD AURA/GRABADORAS/4\n",
      "19700101_001545.WAV\n",
      "19700101_002408.WAV\n",
      "19700101_003219.WAV\n",
      "/LUSTRE/sacmod/SIPECAM/cumulo_13/entrega_27.abril.2022/RESPALDO MICRO SD AURA/GRABADORAS/2\n",
      "20211009_180000.WAV\n",
      "20211009_182000.WAV\n",
      "20211009_184000.WAV\n",
      "/LUSTRE/sacmod/SIPECAM/cumulo_13/entrega_27.abril.2022/RESPALDO MICRO SD AURA/GRABADORAS/1\n",
      "20211006_122131.WAV\n",
      "/LUSTRE/sacmod/SIPECAM/cumulo_13/entrega_27.abril.2022/RESPALDO MICRO SD AURA/GRABADORAS/5\n",
      "20210811_132000.WAV\n",
      "20210811_133000.WAV\n",
      "20210811_134000.WAV\n",
      "/LUSTRE/sacmod/SIPECAM/cumulo_13/entrega_27.abril.2022/RESPALDO MICRO SD AURA/GRABADORAS/3\n",
      "20211009_112000.WAV\n",
      "20211009_113000.WAV\n",
      "20211009_114000.WAV\n",
      "/LUSTRE/sacmod/SIPECAM/cumulo_13/entrega_27.abril.2022/found.000/dir0000.chk/HLPXGM 09048480/DCIM/100RECNX\n",
      "RCNX0001.JPG\n",
      "RCNX0002.JPG\n",
      "RCNX0003.AVI\n",
      "/LUSTRE/sacmod/SIPECAM/cumulo_13/entrega_27.abril.2022/SIPECAM FOTOS/Nodo 3_13_1_1393/FOTOS Camara-trampa 2\n",
      "RCNX0357.JPG\n",
      "RCNX0358.JPG\n",
      "RCNX0359.JPG\n",
      "/LUSTRE/sacmod/SIPECAM/cumulo_13/entrega_27.abril.2022/SIPECAM FOTOS/Nodo 3_13_1_1393/FOTOS Cámara-trampa\n",
      "RCNX3254.JPG\n",
      "RCNX3255.JPG\n",
      "RCNX3256.JPG\n",
      "/LUSTRE/sacmod/SIPECAM/cumulo_13/entrega_27.abril.2022/SIPECAM FOTOS/Nodo 3_13_0_1399 LAS PIEDRAS/Camara-Trampa-T4/FOTOS\n",
      "RCNX0049.JPG\n",
      "RCNX0050.JPG\n",
      "RCNX0052.JPG\n",
      "/LUSTRE/sacmod/SIPECAM/cumulo_13/entrega_27.abril.2022/SIPECAM FOTOS/Nodo 3_13_0_1399 LAS PIEDRAS/Camara-Trampa-T3/FOTOS\n",
      "RCNX0013.JPG\n",
      "RCNX0014.JPG\n",
      "RCNX0016.JPG\n",
      "/LUSTRE/sacmod/SIPECAM/cumulo_13/entrega_27.abril.2022/SIPECAM FOTOS/Nodo 3_13_0_1399 LAS PIEDRAS/Camara-Trampa-T1/FOTOS\n",
      "RCNX0001.JPG\n",
      "RCNX0002.JPG\n",
      "RCNX0004.JPG\n",
      "/LUSTRE/sacmod/SIPECAM/cumulo_13/entrega_27.abril.2022/SIPECAM FOTOS/Nodo 3_13_1_1396 LA LEONA/HLPXGM09048480\n",
      "RCNX0001.JPG\n",
      "/LUSTRE/sacmod/SIPECAM/cumulo_13/entrega_27.abril.2022/SIPECAM FOTOS/Nodo 3_13_1_1396 LA LEONA/HLPXGM09048888/FOTOS\n",
      "RCNX0005.JPG\n",
      "RCNX0007.JPG\n",
      "RCNX0008.JPG\n",
      "/LUSTRE/sacmod/SIPECAM/cumulo_13/entrega_27.abril.2022/SIPECAM FOTOS/Nodo 3_13_1_1396 LA LEONA/HLPXGM09049504/FOTOS\n",
      "RCNX0004.JPG\n",
      "RCNX0005.JPG\n",
      "RCNX0007.JPG\n",
      "/LUSTRE/sacmod/SIPECAM/cumulo_13/entrega_27.abril.2022/SIPECAM FOTOS/Nodo 3_13_1_1396 LA LEONA/HLPXGM09049482/FOTOS\n",
      "RCNX0001.JPG\n",
      "RCNX0002.JPG\n",
      "RCNX0004.JPG\n",
      "/LUSTRE/sacmod/SIPECAM/cumulo_13/entrega_27.abril.2022/SIPECAM FOTOS/Nodo 3_13_1_1396 LA LEONA/HLPXGM09049093/FOTOS\n",
      "RCNX0001.JPG\n",
      "RCNX0002.JPG\n",
      "RCNX0004.JPG\n",
      "/LUSTRE/sacmod/SIPECAM/cumulo_13/entrega_27.abril.2022/SIPECAM FOTOS/Nodo 3_13_1_1392 NICTEHA 2/HLPXGM04049093/FOTOS\n",
      "RCNX0001.JPG\n",
      "RCNX0002.JPG\n",
      "RCNX0004.JPG\n",
      "/LUSTRE/sacmod/SIPECAM/cumulo_13/entrega_27.abril.2022/SIPECAM FOTOS/Nodo 3_13_1_1392 NICTEHA 2/HLPXGM09048480/FOTOS\n",
      "RCNX0001.JPG\n",
      "RCNX0002.JPG\n",
      "RCNX0004.JPG\n",
      "/LUSTRE/sacmod/SIPECAM/cumulo_13/entrega_27.abril.2022/SIPECAM FOTOS/Nodo 3_13_1_1392 NICTEHA 2/HLPXGM09048888/FOTOS\n",
      "RCNX0001.JPG\n",
      "RCNX0002.JPG\n",
      "RCNX0004.JPG\n",
      "/LUSTRE/sacmod/SIPECAM/cumulo_13/entrega_27.abril.2022/SIPECAM FOTOS/Nodo 3_13_1_1392 NICTEHA 2/HLPXGM09049482/FOTOS\n",
      "RCNX0001.JPG\n",
      "RCNX0002.JPG\n",
      "RCNX0004.JPG\n",
      "/LUSTRE/sacmod/SIPECAM/cumulo_13/entrega_27.abril.2022/SIPECAM FOTOS/NODO 3_13_0_1401 EL SANTUARIO/HLPXGM09048483/FOTOS\n",
      "RCNX0001.JPG\n",
      "RCNX0002.JPG\n",
      "RCNX0004.JPG\n",
      "/LUSTRE/sacmod/SIPECAM/cumulo_13/entrega_27.abril.2022/SIPECAM FOTOS/NODO 3_13_0_1401 EL SANTUARIO/HLPXGM09048507/FOTOS\n",
      "RCNX0001.JPG\n",
      "RCNX0002.JPG\n",
      "RCNX0004.JPG\n",
      "/LUSTRE/sacmod/SIPECAM/cumulo_13/entrega_27.abril.2022/SIPECAM FOTOS/NODO 3_13_0_1401 EL SANTUARIO/HLPXGM09048448/FOTOS\n",
      "RCNX0001.JPG\n",
      "RCNX0002.JPG\n",
      "RCNX0004.JPG\n",
      "/LUSTRE/sacmod/SIPECAM/cumulo_13/entrega_27.abril.2022/SIPECAM FOTOS/NODO 3_13_0_1401 EL SANTUARIO/HLPXGM09048449/FOTOS\n",
      "RCNX0001.JPG\n",
      "RCNX0002.JPG\n",
      "RCNX0004.JPG\n",
      "/LUSTRE/sacmod/SIPECAM/cumulo_13/entrega_27.abril.2022/SIPECAM FOTOS/NODO 3_13_0_1401 EL SANTUARIO/HLPXGM09048209/FOTOS\n",
      "RCNX0001.JPG\n",
      "RCNX0002.JPG\n",
      "RCNX0004.JPG\n",
      "/LUSTRE/sacmod/SIPECAM/cumulo_13/entrega_27.abril.2022/SIPECAM FOTOS/Nodo 3_13_1_1395 SANTA GERTRUDIS/HLPXGM09048888/FOTOS\n",
      "RCNX0001.JPG\n",
      "RCNX0002.JPG\n",
      "RCNX0004.JPG\n",
      "/LUSTRE/sacmod/SIPECAM/cumulo_13/entrega_27.abril.2022/SIPECAM FOTOS/Nodo 3_13_1_1395 SANTA GERTRUDIS/HLPXGM09049504/FOTOS\n",
      "RCNX0001.JPG\n",
      "RCNX0002.JPG\n",
      "RCNX0004.JPG\n",
      "/LUSTRE/sacmod/SIPECAM/cumulo_13/entrega_27.abril.2022/SIPECAM FOTOS/Nodo 3_13_1_1395 SANTA GERTRUDIS/HLPXGM09049482/FOTOS\n",
      "RCNX0001.JPG\n",
      "RCNX0002.JPG\n",
      "RCNX0004.JPG\n",
      "/LUSTRE/sacmod/SIPECAM/cumulo_13/entrega_27.abril.2022/SIPECAM FOTOS/Nodo 3_13_1_1395 SANTA GERTRUDIS/HLPXGM09049093/FOTOS\n",
      "RCNX0001.JPG\n",
      "RCNX0002.JPG\n",
      "RCNX0004.JPG\n",
      "/LUSTRE/sacmod/SIPECAM/cumulo_13/entrega_27.abril.2022/SIPECAM FOTOS/Nodo 3_13_0_1400 VILLAROSA/HLPXGM09048483/FOTOS\n",
      "RCNX0208.JPG\n",
      "RCNX0209.JPG\n",
      "RCNX0211.JPG\n",
      "/LUSTRE/sacmod/SIPECAM/cumulo_13/entrega_27.abril.2022/SIPECAM FOTOS/Nodo 3_13_0_1400 VILLAROSA/HLPXGM09048507/FOTOS\n",
      "RCNX0001.JPG\n",
      "RCNX0002.JPG\n",
      "RCNX0004.JPG\n",
      "/LUSTRE/sacmod/SIPECAM/cumulo_13/entrega_27.abril.2022/SIPECAM FOTOS/Nodo 3_13_0_1400 VILLAROSA/HLPXGM09048448/102RECNX/FOTOS\n",
      "RCNX0001.JPG\n",
      "RCNX0002.JPG\n",
      "RCNX0004.JPG\n",
      "/LUSTRE/sacmod/SIPECAM/cumulo_13/entrega_27.abril.2022/SIPECAM FOTOS/Nodo 3_13_0_1400 VILLAROSA/HLPXGM09048448/100RECNX\n",
      "RCNX0001.JPG\n",
      "/LUSTRE/sacmod/SIPECAM/cumulo_13/entrega_27.abril.2022/SIPECAM FOTOS/Nodo 3_13_0_1400 VILLAROSA/HLPXGM09048449/FOTOS\n",
      "RCNX0001.JPG\n",
      "RCNX0002.JPG\n",
      "RCNX0004.JPG\n",
      "/LUSTRE/sacmod/SIPECAM/cumulo_13/entrega_27.abril.2022/SIPECAM FOTOS/Nodo 3_13_0_1400 VILLAROSA/HLPXGM09048209/FOTOS\n",
      "RCNX0184.JPG\n",
      "RCNX0185.JPG\n",
      "RCNX0187.JPG\n",
      "/LUSTRE/sacmod/SIPECAM/cumulo_13/entrega_27.abril.2022/SIPECAM FOTOS/Nodo 3_13_1_1394 NICTEHA 1/HLPXGM09048480/FOTOS\n",
      "RCNX0001.JPG\n",
      "RCNX0002.JPG\n",
      "RCNX0004.JPG\n",
      "/LUSTRE/sacmod/SIPECAM/cumulo_13/entrega_27.abril.2022/SIPECAM FOTOS/Nodo 3_13_1_1394 NICTEHA 1/HLPXGM09048888/FOTOS\n",
      "RCNX0001.JPG\n",
      "RCNX0002.JPG\n",
      "RCNX0004.JPG\n",
      "/LUSTRE/sacmod/SIPECAM/cumulo_13/entrega_27.abril.2022/SIPECAM FOTOS/Nodo 3_13_1_1394 NICTEHA 1/HLPXGM09049504/FOTOS\n",
      "RCNX0001.JPG\n",
      "RCNX0002.JPG\n",
      "RCNX0004.JPG\n",
      "/LUSTRE/sacmod/SIPECAM/cumulo_13/entrega_27.abril.2022/SIPECAM FOTOS/Nodo 3_13_1_1394 NICTEHA 1/HLPXGM09049482/FOTOS\n",
      "RCNX0001.JPG\n",
      "RCNX0002.JPG\n",
      "RCNX0004.JPG\n",
      "/LUSTRE/sacmod/SIPECAM/cumulo_13/entrega_27.abril.2022/SIPECAM FOTOS/Nodo 3_13_1_1394 NICTEHA 1/HLPXGM09049093/FOTOS\n",
      "RCNX0001.JPG\n",
      "RCNX0002.JPG\n",
      "RCNX0004.JPG\n",
      "/LUSTRE/sacmod/SIPECAM/cumulo_13/entrega_27.abril.2022/SIPECAM FOTOS/Nodo 3_13_0_1398 FRENO/HLPXGM09048483/FOTOS\n",
      "RCNX0001.JPG\n",
      "RCNX0002.JPG\n",
      "RCNX0004.JPG\n",
      "/LUSTRE/sacmod/SIPECAM/cumulo_13/entrega_27.abril.2022/SIPECAM FOTOS/Nodo 3_13_0_1398 FRENO/HLPXGM09048507/FOTOS\n",
      "RCNX0001.JPG\n",
      "RCNX0002.JPG\n",
      "RCNX0004.JPG\n",
      "/LUSTRE/sacmod/SIPECAM/cumulo_13/entrega_27.abril.2022/SIPECAM FOTOS/Nodo 3_13_0_1398 FRENO/HLPXGM09048448/FOTOS\n",
      "RCNX0001.JPG\n",
      "RCNX0002.JPG\n",
      "RCNX0004.JPG\n",
      "/LUSTRE/sacmod/SIPECAM/cumulo_13/entrega_27.abril.2022/SIPECAM FOTOS/Nodo 3_13_0_1398 FRENO/HLPXGM09048449/FOTOS\n",
      "RCNX0001.JPG\n",
      "RCNX0002.JPG\n",
      "RCNX0004.JPG\n",
      "/LUSTRE/sacmod/SIPECAM/cumulo_13/entrega_27.abril.2022/SIPECAM FOTOS/Nodo 3_13_0_1398 FRENO/HLPXGM09048209/FOTOS\n",
      "RCNX0001.JPG\n",
      "RCNX0002.JPG\n",
      "RCNX0004.JPG\n",
      "/LUSTRE/sacmod/SIPECAM/cumulo_13/entrega_27.abril.2022/RESPALDO MICRO SD AURA/NODO 3_13_1_1393/2/Cámara-trampa\n",
      "RCNX3254.JPG\n",
      "RCNX3255.JPG\n",
      "RCNX3256.JPG\n",
      "/LUSTRE/sacmod/SIPECAM/cumulo_13/entrega_27.abril.2022/RESPALDO MICRO SD AURA/NODO 3_13_1_1393/2/camara2\n",
      "RCNX0357.JPG\n",
      "RCNX0358.JPG\n",
      "RCNX0359.JPG\n",
      "/LUSTRE/sacmod/SIPECAM/cumulo_13/entrega_27.abril.2022/RESPALDO MICRO SD AURA/CAMARAS/4/DCIM/101RECNX\n",
      "RCNX0001.JPG\n",
      "RCNX0002.JPG\n",
      "RCNX0003.AVI\n",
      "/LUSTRE/sacmod/SIPECAM/cumulo_13/entrega_27.abril.2022/RESPALDO MICRO SD AURA/CAMARAS/4/DCIM/100RECNX\n",
      "RCNX0001.JPG\n",
      "/LUSTRE/sacmod/SIPECAM/cumulo_13/entrega_27.abril.2022/RESPALDO MICRO SD AURA/CAMARAS/2\n",
      "RCNX0001.JPG\n",
      "RCNX0002.JPG\n",
      "RCNX0003.AVI\n",
      "/LUSTRE/sacmod/SIPECAM/cumulo_13/entrega_27.abril.2022/RESPALDO MICRO SD AURA/CAMARAS/6/DCIM/104RECNX\n",
      "RCNX0001.JPG\n",
      "RCNX0002.JPG\n",
      "RCNX0003.AVI\n",
      "/LUSTRE/sacmod/SIPECAM/cumulo_13/entrega_27.abril.2022/RESPALDO MICRO SD AURA/CAMARAS/6/DCIM/103RECNX\n",
      "RCNX0001.JPG\n",
      "RCNX0002.JPG\n",
      "RCNX0003.AVI\n",
      "/LUSTRE/sacmod/SIPECAM/cumulo_13/entrega_27.abril.2022/RESPALDO MICRO SD AURA/CAMARAS/1/DCIM/102RECNX\n",
      "RCNX0001.JPG\n",
      "RCNX0002.JPG\n",
      "RCNX0003.AVI\n",
      "/LUSTRE/sacmod/SIPECAM/cumulo_13/entrega_27.abril.2022/RESPALDO MICRO SD AURA/CAMARAS/1/DCIM/103RECNX\n",
      "RCNX0001.JPG\n",
      "/LUSTRE/sacmod/SIPECAM/cumulo_13/entrega_27.abril.2022/RESPALDO MICRO SD AURA/CAMARAS/5/DCIM/104RECNX\n",
      "RCNX0001.JPG\n",
      "/LUSTRE/sacmod/SIPECAM/cumulo_13/entrega_27.abril.2022/RESPALDO MICRO SD AURA/CAMARAS/5/DCIM/101RECNX\n",
      "RCNX0001.JPG\n",
      "/LUSTRE/sacmod/SIPECAM/cumulo_13/entrega_27.abril.2022/RESPALDO MICRO SD AURA/CAMARAS/5/DCIM/102RECNX\n",
      "RCNX0001.JPG\n",
      "RCNX0002.JPG\n",
      "/LUSTRE/sacmod/SIPECAM/cumulo_13/entrega_27.abril.2022/RESPALDO MICRO SD AURA/CAMARAS/5/DCIM/103RECNX\n",
      "RCNX0001.JPG\n",
      "RCNX0002.JPG\n",
      "RCNX0003.AVI\n",
      "/LUSTRE/sacmod/SIPECAM/cumulo_13/entrega_27.abril.2022/RESPALDO MICRO SD AURA/CAMARAS/3/DCIM/102RECNX\n",
      "RCNX0001.JPG\n",
      "RCNX0002.JPG\n",
      "RCNX0003.AVI\n",
      "/LUSTRE/sacmod/SIPECAM/cumulo_13/entrega_27.abril.2022/RESPALDO MICRO SD AURA/CAMARAS/3/DCIM/103RECNX\n",
      "RCNX0001.JPG\n",
      "RCNX0002.JPG\n",
      "RCNX0003.AVI\n",
      "/LUSTRE/sacmod/SIPECAM/cumulo_13/entrega_27.abril.2022/SIPECAM AUDIOS/Nodo 3_13_1_1392 NICTEHA 2/10263609\n",
      "memoria vacia.jpg\n",
      "/LUSTRE/sacmod/SIPECAM/cumulo_13/entrega_27.abril.2022/SIPECAM AUDIOS/Nodo 3_13_1_1392 NICTEHA 2/10262223\n",
      "memoria vacia.jpg\n",
      "/LUSTRE/sacmod/SIPECAM/cumulo_13/entrega_27.abril.2022/SIPECAM FOTOS/Nodo 3_13_1_1393/VIDEOS CAMARA 2\n",
      "RCNX1800.AVI\n",
      "RCNX1805.AVI\n",
      "RCNX2264.AVI\n",
      "/LUSTRE/sacmod/SIPECAM/cumulo_13/entrega_27.abril.2022/SIPECAM FOTOS/Nodo 3_13_0_1399 LAS PIEDRAS/Camara-Trampa-T4/VIDEOS\n",
      "RCNX0051.AVI\n",
      "RCNX0054.AVI\n",
      "RCNX0057.AVI\n",
      "/LUSTRE/sacmod/SIPECAM/cumulo_13/entrega_27.abril.2022/SIPECAM FOTOS/Nodo 3_13_0_1399 LAS PIEDRAS/Camara-Trampa-T3/VIDEOS\n",
      "RCNX0015.AVI\n",
      "RCNX0018.AVI\n",
      "RCNX0021.AVI\n",
      "/LUSTRE/sacmod/SIPECAM/cumulo_13/entrega_27.abril.2022/SIPECAM FOTOS/Nodo 3_13_0_1399 LAS PIEDRAS/Camara-Trampa-T1/VIDEOS\n",
      "RCNX0003.AVI\n",
      "RCNX0006.AVI\n",
      "RCNX0009.AVI\n",
      "/LUSTRE/sacmod/SIPECAM/cumulo_13/entrega_27.abril.2022/SIPECAM FOTOS/Nodo 3_13_1_1396 LA LEONA/HLPXGM09048888/VIDEO\n",
      "RCNX0006.AVI\n",
      "RCNX0009.AVI\n",
      "RCNX0012.AVI\n",
      "/LUSTRE/sacmod/SIPECAM/cumulo_13/entrega_27.abril.2022/SIPECAM FOTOS/Nodo 3_13_1_1396 LA LEONA/HLPXGM09049504/VIDEOS\n",
      "RCNX0006.AVI\n",
      "RCNX0009.AVI\n",
      "RCNX0012.AVI\n",
      "/LUSTRE/sacmod/SIPECAM/cumulo_13/entrega_27.abril.2022/SIPECAM FOTOS/Nodo 3_13_1_1396 LA LEONA/HLPXGM09049482/VIDEOS\n",
      "RCNX0003.AVI\n",
      "RCNX0006.AVI\n",
      "RCNX0009.AVI\n",
      "/LUSTRE/sacmod/SIPECAM/cumulo_13/entrega_27.abril.2022/SIPECAM FOTOS/Nodo 3_13_1_1396 LA LEONA/HLPXGM09049093/VIDEOS\n",
      "RCNX0003.AVI\n",
      "RCNX0006.AVI\n",
      "RCNX0009.AVI\n",
      "/LUSTRE/sacmod/SIPECAM/cumulo_13/entrega_27.abril.2022/SIPECAM FOTOS/Nodo 3_13_1_1392 NICTEHA 2/HLPXGM04049093/VIDEOS\n",
      "RCNX0003.AVI\n",
      "RCNX0006.AVI\n",
      "RCNX0009.AVI\n",
      "/LUSTRE/sacmod/SIPECAM/cumulo_13/entrega_27.abril.2022/SIPECAM FOTOS/Nodo 3_13_1_1392 NICTEHA 2/HLPXGM09048480/VIDEOS\n",
      "RCNX0003.AVI\n",
      "RCNX0006.AVI\n",
      "RCNX0009.AVI\n",
      "/LUSTRE/sacmod/SIPECAM/cumulo_13/entrega_27.abril.2022/SIPECAM FOTOS/Nodo 3_13_1_1392 NICTEHA 2/HLPXGM09048888/VIDEOS\n",
      "RCNX0003.AVI\n",
      "RCNX0006.AVI\n",
      "RCNX0009.AVI\n",
      "/LUSTRE/sacmod/SIPECAM/cumulo_13/entrega_27.abril.2022/SIPECAM FOTOS/Nodo 3_13_1_1392 NICTEHA 2/HLPXGM09049482/VIDEOS\n",
      "RCNX0003.AVI\n",
      "RCNX0006.AVI\n",
      "RCNX0009.AVI\n",
      "/LUSTRE/sacmod/SIPECAM/cumulo_13/entrega_27.abril.2022/SIPECAM FOTOS/NODO 3_13_0_1401 EL SANTUARIO/HLPXGM09048483/VIDEOS\n",
      "RCNX0003.AVI\n",
      "RCNX0006.AVI\n",
      "RCNX0009.AVI\n",
      "/LUSTRE/sacmod/SIPECAM/cumulo_13/entrega_27.abril.2022/SIPECAM FOTOS/NODO 3_13_0_1401 EL SANTUARIO/HLPXGM09048507/VIDEOS\n",
      "RCNX0003.AVI\n",
      "RCNX0006.AVI\n",
      "RCNX0009.AVI\n",
      "/LUSTRE/sacmod/SIPECAM/cumulo_13/entrega_27.abril.2022/SIPECAM FOTOS/NODO 3_13_0_1401 EL SANTUARIO/HLPXGM09048448/VIDEOS\n",
      "RCNX0003.AVI\n",
      "RCNX0006.AVI\n",
      "RCNX0009.AVI\n",
      "/LUSTRE/sacmod/SIPECAM/cumulo_13/entrega_27.abril.2022/SIPECAM FOTOS/NODO 3_13_0_1401 EL SANTUARIO/HLPXGM09048449/VIDEOS\n",
      "RCNX0003.AVI\n",
      "RCNX0006.AVI\n",
      "RCNX0009.AVI\n",
      "/LUSTRE/sacmod/SIPECAM/cumulo_13/entrega_27.abril.2022/SIPECAM FOTOS/NODO 3_13_0_1401 EL SANTUARIO/HLPXGM09048209/VIDEOS\n",
      "RCNX0003.AVI\n",
      "RCNX0006.AVI\n",
      "RCNX0009.AVI\n",
      "/LUSTRE/sacmod/SIPECAM/cumulo_13/entrega_27.abril.2022/SIPECAM FOTOS/Nodo 3_13_1_1395 SANTA GERTRUDIS/HLPXGM09048888/VIDEOS\n",
      "RCNX0003.AVI\n",
      "RCNX0006.AVI\n",
      "RCNX0009.AVI\n",
      "/LUSTRE/sacmod/SIPECAM/cumulo_13/entrega_27.abril.2022/SIPECAM FOTOS/Nodo 3_13_1_1395 SANTA GERTRUDIS/HLPXGM09049504/VIDEOS\n",
      "RCNX0003.AVI\n",
      "RCNX0006.AVI\n",
      "RCNX0009.AVI\n",
      "/LUSTRE/sacmod/SIPECAM/cumulo_13/entrega_27.abril.2022/SIPECAM FOTOS/Nodo 3_13_1_1395 SANTA GERTRUDIS/HLPXGM09049482/VIDEOS\n",
      "RCNX0003.AVI\n",
      "RCNX0006.AVI\n",
      "RCNX0009.AVI\n",
      "/LUSTRE/sacmod/SIPECAM/cumulo_13/entrega_27.abril.2022/SIPECAM FOTOS/Nodo 3_13_1_1395 SANTA GERTRUDIS/HLPXGM09049093/VIDEOS\n",
      "RCNX0003.AVI\n",
      "RCNX0006.AVI\n",
      "RCNX0009.AVI\n",
      "/LUSTRE/sacmod/SIPECAM/cumulo_13/entrega_27.abril.2022/SIPECAM FOTOS/Nodo 3_13_0_1400 VILLAROSA/HLPXGM09048483/VIDEOS\n",
      "RCNX0210.AVI\n",
      "RCNX0213.AVI\n",
      "RCNX0216.AVI\n",
      "/LUSTRE/sacmod/SIPECAM/cumulo_13/entrega_27.abril.2022/SIPECAM FOTOS/Nodo 3_13_0_1400 VILLAROSA/HLPXGM09048507/VIDEOS\n",
      "RCNX0003.AVI\n",
      "RCNX0006.AVI\n",
      "RCNX0009.AVI\n",
      "/LUSTRE/sacmod/SIPECAM/cumulo_13/entrega_27.abril.2022/SIPECAM FOTOS/Nodo 3_13_0_1400 VILLAROSA/HLPXGM09048448/102RECNX/VIDEOS\n",
      "RCNX0003.AVI\n",
      "RCNX0006.AVI\n",
      "RCNX0009.AVI\n",
      "/LUSTRE/sacmod/SIPECAM/cumulo_13/entrega_27.abril.2022/SIPECAM FOTOS/Nodo 3_13_0_1400 VILLAROSA/HLPXGM09048449/VIDEOS\n",
      "RCNX0003.AVI\n",
      "RCNX0006.AVI\n",
      "RCNX0009.AVI\n",
      "/LUSTRE/sacmod/SIPECAM/cumulo_13/entrega_27.abril.2022/SIPECAM FOTOS/Nodo 3_13_0_1400 VILLAROSA/HLPXGM09048209/VIDEOS\n",
      "RCNX0186.AVI\n",
      "RCNX0189.AVI\n",
      "RCNX0192.AVI\n",
      "/LUSTRE/sacmod/SIPECAM/cumulo_13/entrega_27.abril.2022/SIPECAM FOTOS/Nodo 3_13_1_1394 NICTEHA 1/HLPXGM09048480/VIDEOS\n",
      "RCNX0003.AVI\n",
      "RCNX0006.AVI\n",
      "RCNX0009.AVI\n",
      "/LUSTRE/sacmod/SIPECAM/cumulo_13/entrega_27.abril.2022/SIPECAM FOTOS/Nodo 3_13_1_1394 NICTEHA 1/HLPXGM09048888/VIDEOS\n",
      "RCNX0003.AVI\n",
      "RCNX0006.AVI\n",
      "RCNX0009.AVI\n",
      "/LUSTRE/sacmod/SIPECAM/cumulo_13/entrega_27.abril.2022/SIPECAM FOTOS/Nodo 3_13_1_1394 NICTEHA 1/HLPXGM09049504/VIDEOS\n",
      "RCNX0003.AVI\n",
      "RCNX0006.AVI\n",
      "RCNX0009.AVI\n",
      "/LUSTRE/sacmod/SIPECAM/cumulo_13/entrega_27.abril.2022/SIPECAM FOTOS/Nodo 3_13_1_1394 NICTEHA 1/HLPXGM09049482/VIDEOS\n",
      "RCNX0003.AVI\n",
      "RCNX0006.AVI\n",
      "RCNX0009.AVI\n",
      "/LUSTRE/sacmod/SIPECAM/cumulo_13/entrega_27.abril.2022/SIPECAM FOTOS/Nodo 3_13_1_1394 NICTEHA 1/HLPXGM09049093/VIDEOS\n",
      "RCNX0003.AVI\n",
      "RCNX0006.AVI\n",
      "RCNX0009.AVI\n",
      "/LUSTRE/sacmod/SIPECAM/cumulo_13/entrega_27.abril.2022/SIPECAM FOTOS/Nodo 3_13_0_1398 FRENO/HLPXGM09048483/VIDEOS\n",
      "RCNX0003.AVI\n",
      "RCNX0006.AVI\n",
      "RCNX0009.AVI\n",
      "/LUSTRE/sacmod/SIPECAM/cumulo_13/entrega_27.abril.2022/SIPECAM FOTOS/Nodo 3_13_0_1398 FRENO/HLPXGM09048507/VIDEOS\n",
      "RCNX0003.AVI\n",
      "RCNX0006.AVI\n",
      "RCNX0009.AVI\n",
      "/LUSTRE/sacmod/SIPECAM/cumulo_13/entrega_27.abril.2022/SIPECAM FOTOS/Nodo 3_13_0_1398 FRENO/HLPXGM09048448/VIDEO\n",
      "RCNX0003.AVI\n",
      "RCNX0006.AVI\n",
      "RCNX0009.AVI\n",
      "/LUSTRE/sacmod/SIPECAM/cumulo_13/entrega_27.abril.2022/SIPECAM FOTOS/Nodo 3_13_0_1398 FRENO/HLPXGM09048449/VIDEOS\n",
      "RCNX0003.AVI\n",
      "RCNX0006.AVI\n",
      "RCNX0009.AVI\n",
      "/LUSTRE/sacmod/SIPECAM/cumulo_13/entrega_27.abril.2022/SIPECAM FOTOS/Nodo 3_13_0_1398 FRENO/HLPXGM09048209/VIDEOS\n",
      "RCNX0003.AVI\n",
      "RCNX0006.AVI\n",
      "RCNX0009.AVI\n"
     ]
    }
   ],
   "source": [
    "%%bash\n",
    "#check every first subdirectory has a JPG, WAV or AVI file\n",
    "SAVEIFS=$IFS;IFS=$(echo -en \"\\n\\b\")\n",
    "for f in $(cat /shared_volume/sipecam_subdirectories_02-06-2022.txt)\n",
    "  do echo \"$f\"\n",
    "     ls \"$f\"|grep \"[WAV|wav|JPG|jpg|AVI|avi]$\"|head -n 3\n",
    "done\n",
    "IFS=$SAVEIFS"
   ]
  },
  {
   "cell_type": "markdown",
   "id": "9910ca34-9a5c-435a-adea-5de191073889",
   "metadata": {},
   "source": [
    "**Files to be checked**"
   ]
  },
  {
   "cell_type": "markdown",
   "id": "e8477348-d071-48d9-b33d-aec1238bf900",
   "metadata": {},
   "source": [
    "\"/LUSTRE/sacmod/SIPECAM/cumulo_13/entrega_27.abril.2022/SIPECAM AUDIOS/Nodo 3_13_1_1392 NICTEHA 2/10262012/0~FA674D.WAV\" has 0 bytes then will be moved to dir error inside latter dir"
   ]
  },
  {
   "cell_type": "markdown",
   "id": "a78833ee-4d94-439a-855c-565fb520dd6c",
   "metadata": {},
   "source": [
    "\"/LUSTRE/sacmod/SIPECAM/cumulo_13/entrega_27.abril.2022/SIPECAM AUDIOS/Nodo 3_13_1_1392 NICTEHA 2/10263609/memoria vacia.jpg\" as is the only file in \"/LUSTRE/sacmod/SIPECAM/cumulo_13/entrega_27.abril.2022/SIPECAM AUDIOS/Nodo 3_13_1_1392 NICTEHA 2/10263609\" then latter dir will be deleted from: `/shared_volume/sipecam_subdirectories_02-06-2022.txt`"
   ]
  },
  {
   "cell_type": "markdown",
   "id": "35469d1e-7875-4918-94b2-fc7550dc2583",
   "metadata": {},
   "source": [
    "\"/LUSTRE/sacmod/SIPECAM/cumulo_13/entrega_27.abril.2022/SIPECAM AUDIOS/Nodo 3_13_1_1392 NICTEHA 2/10262223/memoria vacia.jpg\" as is the only file in \"/LUSTRE/sacmod/SIPECAM/cumulo_13/entrega_27.abril.2022/SIPECAM AUDIOS/Nodo 3_13_1_1392 NICTEHA 2/10262223/\" then latter dir will be deleted from: `/shared_volume/sipecam_subdirectories_02-06-2022.txt`\n"
   ]
  },
  {
   "cell_type": "markdown",
   "id": "d8f41dc5-fe6b-4f3c-b5fc-a2fcefa0a616",
   "metadata": {},
   "source": [
    "# Which directories are of audio?\n"
   ]
  },
  {
   "cell_type": "code",
   "execution_count": 7,
   "id": "c47f76fe-14e8-467f-9121-cc0b60e2e560",
   "metadata": {},
   "outputs": [],
   "source": [
    "%%bash\n",
    "if [ -f ~/list_dirs_with_audios.txt ]; then\n",
    "     rm ~/list_dirs_with_audios.txt\n",
    "fi\n",
    "if [ -f ~/list_dirs_with_audios_auxiliary.txt ]; then\n",
    "     rm ~/list_dirs_with_audios_auxiliary.txt\n",
    "fi\n",
    "SAVEIFS=$IFS;IFS=$(echo -en \"\\n\\b\")\n",
    "for f in $(find /LUSTRE/sacmod/SIPECAM/cumulo_13/entrega_27.abril.2022/ -name \"*.WAV\")\n",
    "  do\n",
    "     dir_audio=$(dirname $f)\n",
    "     echo \"$dir_audio\" >> ~/list_dirs_with_audios_auxiliary.txt\n",
    "done\n",
    "dirs_audio=$(cat ~/list_dirs_with_audios_auxiliary.txt|uniq)\n",
    "echo \"$dirs_audio\" > ~/list_dirs_with_audios.txt\n",
    "IFS=$SAVEIFS"
   ]
  },
  {
   "cell_type": "code",
   "execution_count": 8,
   "id": "58764ccf-9a5d-496c-a1fb-e4a0335ce2a5",
   "metadata": {},
   "outputs": [
    {
     "name": "stdout",
     "output_type": "stream",
     "text": [
      "/LUSTRE/sacmod/SIPECAM/cumulo_13/entrega_27.abril.2022/SIPECAM AUDIOS/Nodo 3_13_1_1393/Ultra/10263609\n",
      "/LUSTRE/sacmod/SIPECAM/cumulo_13/entrega_27.abril.2022/SIPECAM AUDIOS/Nodo 3_13_1_1393/Grabadoras/Audible 2/10261149\n",
      "/LUSTRE/sacmod/SIPECAM/cumulo_13/entrega_27.abril.2022/SIPECAM AUDIOS/Nodo 3_13_1_1393/Audible/10262012\n",
      "/LUSTRE/sacmod/SIPECAM/cumulo_13/entrega_27.abril.2022/SIPECAM AUDIOS/Nodo 3_13_0_1399 LAS PIEDRAS/Audiomoth 1/AudioMoths.N5.T4\n",
      "/LUSTRE/sacmod/SIPECAM/cumulo_13/entrega_27.abril.2022/SIPECAM AUDIOS/Nodo 3_13_0_1399 LAS PIEDRAS/Audiomoth 1/Ultra.N5.T3\n",
      "/LUSTRE/sacmod/SIPECAM/cumulo_13/entrega_27.abril.2022/SIPECAM AUDIOS/Nodo 3_13_0_1399 LAS PIEDRAS/Audiomoth 1/AudioMoth\n",
      "/LUSTRE/sacmod/SIPECAM/cumulo_13/entrega_27.abril.2022/SIPECAM AUDIOS/Nodo 3_13_0_1399 LAS PIEDRAS/Audiomoth 3\n",
      "/LUSTRE/sacmod/SIPECAM/cumulo_13/entrega_27.abril.2022/SIPECAM AUDIOS/Nodo 3_13_0_1399 LAS PIEDRAS/Audiomoth 2/AudioMoths.N5.T4/Audio\n",
      "/LUSTRE/sacmod/SIPECAM/cumulo_13/entrega_27.abril.2022/SIPECAM AUDIOS/Nodo 3_13_0_1399 LAS PIEDRAS/Audiomoth 2/Ultra.N5.T3\n",
      "/LUSTRE/sacmod/SIPECAM/cumulo_13/entrega_27.abril.2022/SIPECAM AUDIOS/Nodo 3_13_0_1399 LAS PIEDRAS/Audiomoth 2/Ultra.N5.T3 2\n",
      "/LUSTRE/sacmod/SIPECAM/cumulo_13/entrega_27.abril.2022/SIPECAM AUDIOS/21-10-21 a 29-11-21\n",
      "/LUSTRE/sacmod/SIPECAM/cumulo_13/entrega_27.abril.2022/SIPECAM AUDIOS/Nodo 3_13_1_1392 NICTEHA 2/10262012\n",
      "/LUSTRE/sacmod/SIPECAM/cumulo_13/entrega_27.abril.2022/SIPECAM AUDIOS/Nodo 3_13_1_1392 NICTEHA 2/10262012/error\n",
      "/LUSTRE/sacmod/SIPECAM/cumulo_13/entrega_27.abril.2022/SIPECAM AUDIOS/Nodo 3_13_1_1392 NICTEHA 2/10262012\n",
      "/LUSTRE/sacmod/SIPECAM/cumulo_13/entrega_27.abril.2022/SIPECAM AUDIOS/Nodo 3_13_1_1392 NICTEHA 2/10262089\n",
      "/LUSTRE/sacmod/SIPECAM/cumulo_13/entrega_27.abril.2022/SIPECAM AUDIOS/NODO 3_13_0_1401 EL SANTUARIO/Audiomoth\n",
      "/LUSTRE/sacmod/SIPECAM/cumulo_13/entrega_27.abril.2022/SIPECAM AUDIOS/NODO 3_13_0_1401 EL SANTUARIO/10262153\n",
      "/LUSTRE/sacmod/SIPECAM/cumulo_13/entrega_27.abril.2022/SIPECAM AUDIOS/NODO 3_13_0_1401 EL SANTUARIO/10309403\n",
      "/LUSTRE/sacmod/SIPECAM/cumulo_13/entrega_27.abril.2022/SIPECAM AUDIOS/Nodo 3_13_0_1400 VILLAROSA/10262719\n",
      "/LUSTRE/sacmod/SIPECAM/cumulo_13/entrega_27.abril.2022/SIPECAM AUDIOS/Nodo 3_13_0_1400 VILLAROSA/10262153\n",
      "/LUSTRE/sacmod/SIPECAM/cumulo_13/entrega_27.abril.2022/SIPECAM AUDIOS/Nodo 3_13_0_1400 VILLAROSA/10306526\n",
      "/LUSTRE/sacmod/SIPECAM/cumulo_13/entrega_27.abril.2022/SIPECAM AUDIOS/Nodo 3_13_0_1400 VILLAROSA/10263606\n",
      "/LUSTRE/sacmod/SIPECAM/cumulo_13/entrega_27.abril.2022/SIPECAM AUDIOS/Nodo 3_13_0_1400 VILLAROSA/10262333\n",
      "/LUSTRE/sacmod/SIPECAM/cumulo_13/entrega_27.abril.2022/SIPECAM AUDIOS/Nodo 3_13_0_1400 VILLAROSA/10309403\n",
      "/LUSTRE/sacmod/SIPECAM/cumulo_13/entrega_27.abril.2022/SIPECAM AUDIOS/Nodo 3_13_1_1394 NICTEHA 1/10263609\n",
      "/LUSTRE/sacmod/SIPECAM/cumulo_13/entrega_27.abril.2022/SIPECAM AUDIOS/Nodo 3_13_1_1394 NICTEHA 1/10262012\n",
      "/LUSTRE/sacmod/SIPECAM/cumulo_13/entrega_27.abril.2022/SIPECAM AUDIOS/Nodo 3_13_1_1394 NICTEHA 1/10262223\n",
      "/LUSTRE/sacmod/SIPECAM/cumulo_13/entrega_27.abril.2022/SIPECAM AUDIOS/Nodo 3_13_1_1394 NICTEHA 1/10262089\n",
      "/LUSTRE/sacmod/SIPECAM/cumulo_13/entrega_27.abril.2022/SIPECAM AUDIOS/Nodo 3_13_1_1394 NICTEHA 1/10262039\n",
      "/LUSTRE/sacmod/SIPECAM/cumulo_13/entrega_27.abril.2022/found.000/dir0000.chk/HLPXGM 09048480\n",
      "/LUSTRE/sacmod/SIPECAM/cumulo_13/entrega_27.abril.2022/RESPALDO MICRO SD AURA/NODO 3_13_1_1393/2/Grabadoras/Audible/10261149\n",
      "/LUSTRE/sacmod/SIPECAM/cumulo_13/entrega_27.abril.2022/RESPALDO MICRO SD AURA/NODO 3_13_1_1393/GRABADORAS/ultra/10263609\n",
      "/LUSTRE/sacmod/SIPECAM/cumulo_13/entrega_27.abril.2022/RESPALDO MICRO SD AURA/NODO 3_13_1_1393/GRABADORAS/ultra/10263609/10263609\n",
      "/LUSTRE/sacmod/SIPECAM/cumulo_13/entrega_27.abril.2022/RESPALDO MICRO SD AURA/NODO 3_13_1_1393/GRABADORAS/ultra/10263609\n",
      "/LUSTRE/sacmod/SIPECAM/cumulo_13/entrega_27.abril.2022/RESPALDO MICRO SD AURA/NODO 3_13_1_1393/GRABADORAS/ultra/10262223\n",
      "/LUSTRE/sacmod/SIPECAM/cumulo_13/entrega_27.abril.2022/RESPALDO MICRO SD AURA/GRABADORAS/4\n",
      "/LUSTRE/sacmod/SIPECAM/cumulo_13/entrega_27.abril.2022/RESPALDO MICRO SD AURA/GRABADORAS/2\n",
      "/LUSTRE/sacmod/SIPECAM/cumulo_13/entrega_27.abril.2022/RESPALDO MICRO SD AURA/GRABADORAS/1\n",
      "/LUSTRE/sacmod/SIPECAM/cumulo_13/entrega_27.abril.2022/RESPALDO MICRO SD AURA/GRABADORAS/5\n",
      "/LUSTRE/sacmod/SIPECAM/cumulo_13/entrega_27.abril.2022/RESPALDO MICRO SD AURA/GRABADORAS/3\n"
     ]
    }
   ],
   "source": [
    "%%bash\n",
    "cat ~/list_dirs_with_audios.txt"
   ]
  },
  {
   "cell_type": "markdown",
   "id": "51d79a34-ae58-4003-aa56-4c59b143fac0",
   "metadata": {
    "tags": []
   },
   "source": [
    "# check_if_there_are_audio_empty_files_in_dir_and_move_them"
   ]
  },
  {
   "cell_type": "code",
   "execution_count": 9,
   "id": "25dc6bde-1855-41d4-960e-a6dec328413a",
   "metadata": {},
   "outputs": [
    {
     "name": "stdout",
     "output_type": "stream",
     "text": [
      "/LUSTRE/sacmod/SIPECAM/cumulo_13/entrega_27.abril.2022/SIPECAM AUDIOS/Nodo 3_13_1_1393/Ultra/10263609\n",
      "/LUSTRE/sacmod/SIPECAM/cumulo_13/entrega_27.abril.2022/SIPECAM AUDIOS/Nodo 3_13_1_1393/Grabadoras/Audible 2/10261149\n",
      "/LUSTRE/sacmod/SIPECAM/cumulo_13/entrega_27.abril.2022/SIPECAM AUDIOS/Nodo 3_13_1_1393/Audible/10262012\n",
      "/LUSTRE/sacmod/SIPECAM/cumulo_13/entrega_27.abril.2022/SIPECAM AUDIOS/Nodo 3_13_0_1399 LAS PIEDRAS/Audiomoth 1/AudioMoths.N5.T4\n",
      "/LUSTRE/sacmod/SIPECAM/cumulo_13/entrega_27.abril.2022/SIPECAM AUDIOS/Nodo 3_13_0_1399 LAS PIEDRAS/Audiomoth 1/Ultra.N5.T3\n",
      "/LUSTRE/sacmod/SIPECAM/cumulo_13/entrega_27.abril.2022/SIPECAM AUDIOS/Nodo 3_13_0_1399 LAS PIEDRAS/Audiomoth 1/AudioMoth\n",
      "/LUSTRE/sacmod/SIPECAM/cumulo_13/entrega_27.abril.2022/SIPECAM AUDIOS/Nodo 3_13_0_1399 LAS PIEDRAS/Audiomoth 3\n",
      "/LUSTRE/sacmod/SIPECAM/cumulo_13/entrega_27.abril.2022/SIPECAM AUDIOS/Nodo 3_13_0_1399 LAS PIEDRAS/Audiomoth 2/AudioMoths.N5.T4/Audio\n",
      "/LUSTRE/sacmod/SIPECAM/cumulo_13/entrega_27.abril.2022/SIPECAM AUDIOS/Nodo 3_13_0_1399 LAS PIEDRAS/Audiomoth 2/Ultra.N5.T3\n",
      "/LUSTRE/sacmod/SIPECAM/cumulo_13/entrega_27.abril.2022/SIPECAM AUDIOS/Nodo 3_13_0_1399 LAS PIEDRAS/Audiomoth 2/Ultra.N5.T3 2\n",
      "/LUSTRE/sacmod/SIPECAM/cumulo_13/entrega_27.abril.2022/SIPECAM AUDIOS/21-10-21 a 29-11-21\n",
      "/LUSTRE/sacmod/SIPECAM/cumulo_13/entrega_27.abril.2022/SIPECAM AUDIOS/Nodo 3_13_1_1392 NICTEHA 2/10262012\n",
      "/LUSTRE/sacmod/SIPECAM/cumulo_13/entrega_27.abril.2022/SIPECAM AUDIOS/Nodo 3_13_1_1392 NICTEHA 2/10262012/error\n",
      "/LUSTRE/sacmod/SIPECAM/cumulo_13/entrega_27.abril.2022/SIPECAM AUDIOS/Nodo 3_13_1_1392 NICTEHA 2/10262012\n",
      "/LUSTRE/sacmod/SIPECAM/cumulo_13/entrega_27.abril.2022/SIPECAM AUDIOS/Nodo 3_13_1_1392 NICTEHA 2/10262089\n",
      "/LUSTRE/sacmod/SIPECAM/cumulo_13/entrega_27.abril.2022/SIPECAM AUDIOS/NODO 3_13_0_1401 EL SANTUARIO/Audiomoth\n",
      "/LUSTRE/sacmod/SIPECAM/cumulo_13/entrega_27.abril.2022/SIPECAM AUDIOS/NODO 3_13_0_1401 EL SANTUARIO/10262153\n",
      "/LUSTRE/sacmod/SIPECAM/cumulo_13/entrega_27.abril.2022/SIPECAM AUDIOS/NODO 3_13_0_1401 EL SANTUARIO/10309403\n",
      "/LUSTRE/sacmod/SIPECAM/cumulo_13/entrega_27.abril.2022/SIPECAM AUDIOS/Nodo 3_13_0_1400 VILLAROSA/10262719\n",
      "/LUSTRE/sacmod/SIPECAM/cumulo_13/entrega_27.abril.2022/SIPECAM AUDIOS/Nodo 3_13_0_1400 VILLAROSA/10262153\n",
      "/LUSTRE/sacmod/SIPECAM/cumulo_13/entrega_27.abril.2022/SIPECAM AUDIOS/Nodo 3_13_0_1400 VILLAROSA/10306526\n",
      "/LUSTRE/sacmod/SIPECAM/cumulo_13/entrega_27.abril.2022/SIPECAM AUDIOS/Nodo 3_13_0_1400 VILLAROSA/10263606\n",
      "/LUSTRE/sacmod/SIPECAM/cumulo_13/entrega_27.abril.2022/SIPECAM AUDIOS/Nodo 3_13_0_1400 VILLAROSA/10262333\n",
      "/LUSTRE/sacmod/SIPECAM/cumulo_13/entrega_27.abril.2022/SIPECAM AUDIOS/Nodo 3_13_0_1400 VILLAROSA/10309403\n",
      "/LUSTRE/sacmod/SIPECAM/cumulo_13/entrega_27.abril.2022/SIPECAM AUDIOS/Nodo 3_13_1_1394 NICTEHA 1/10263609\n",
      "/LUSTRE/sacmod/SIPECAM/cumulo_13/entrega_27.abril.2022/SIPECAM AUDIOS/Nodo 3_13_1_1394 NICTEHA 1/10262012\n",
      "/LUSTRE/sacmod/SIPECAM/cumulo_13/entrega_27.abril.2022/SIPECAM AUDIOS/Nodo 3_13_1_1394 NICTEHA 1/10262223\n",
      "/LUSTRE/sacmod/SIPECAM/cumulo_13/entrega_27.abril.2022/SIPECAM AUDIOS/Nodo 3_13_1_1394 NICTEHA 1/10262089\n",
      "/LUSTRE/sacmod/SIPECAM/cumulo_13/entrega_27.abril.2022/SIPECAM AUDIOS/Nodo 3_13_1_1394 NICTEHA 1/10262039\n",
      "/LUSTRE/sacmod/SIPECAM/cumulo_13/entrega_27.abril.2022/found.000/dir0000.chk/HLPXGM 09048480\n",
      "/LUSTRE/sacmod/SIPECAM/cumulo_13/entrega_27.abril.2022/RESPALDO MICRO SD AURA/NODO 3_13_1_1393/2/Grabadoras/Audible/10261149\n",
      "/LUSTRE/sacmod/SIPECAM/cumulo_13/entrega_27.abril.2022/RESPALDO MICRO SD AURA/NODO 3_13_1_1393/GRABADORAS/ultra/10263609\n",
      "/LUSTRE/sacmod/SIPECAM/cumulo_13/entrega_27.abril.2022/RESPALDO MICRO SD AURA/NODO 3_13_1_1393/GRABADORAS/ultra/10263609/10263609\n",
      "/LUSTRE/sacmod/SIPECAM/cumulo_13/entrega_27.abril.2022/RESPALDO MICRO SD AURA/NODO 3_13_1_1393/GRABADORAS/ultra/10263609\n",
      "/LUSTRE/sacmod/SIPECAM/cumulo_13/entrega_27.abril.2022/RESPALDO MICRO SD AURA/NODO 3_13_1_1393/GRABADORAS/ultra/10262223\n",
      "/LUSTRE/sacmod/SIPECAM/cumulo_13/entrega_27.abril.2022/RESPALDO MICRO SD AURA/GRABADORAS/4\n",
      "/LUSTRE/sacmod/SIPECAM/cumulo_13/entrega_27.abril.2022/RESPALDO MICRO SD AURA/GRABADORAS/2\n",
      "/LUSTRE/sacmod/SIPECAM/cumulo_13/entrega_27.abril.2022/RESPALDO MICRO SD AURA/GRABADORAS/1\n",
      "/LUSTRE/sacmod/SIPECAM/cumulo_13/entrega_27.abril.2022/RESPALDO MICRO SD AURA/GRABADORAS/5\n",
      "/LUSTRE/sacmod/SIPECAM/cumulo_13/entrega_27.abril.2022/RESPALDO MICRO SD AURA/GRABADORAS/3\n"
     ]
    }
   ],
   "source": [
    "%%bash\n",
    "SAVEIFS=$IFS;IFS=$(echo -en \"\\n\\b\")\n",
    "for dir_to_be_processed in $(cat ~/list_dirs_with_audios.txt)\n",
    "    do echo \"$dir_to_be_processed\"\n",
    "    check_if_there_are_audio_empty_files_in_dir_and_move_them --input_directory_audio \"$dir_to_be_processed\" --number_of_processes 10\n",
    "done\n",
    "IFS=$SAVEIFS"
   ]
  },
  {
   "cell_type": "markdown",
   "id": "90696e32-3909-4620-a7df-15b1bbb63d0d",
   "metadata": {
    "tags": []
   },
   "source": [
    "# Extract serial number, dates and metadata of files and device"
   ]
  },
  {
   "cell_type": "code",
   "execution_count": 1,
   "id": "1ec6ccc0-ef04-4d29-aef3-1a646fdd4a48",
   "metadata": {},
   "outputs": [
    {
     "name": "stdout",
     "output_type": "stream",
     "text": [
      "/LUSTRE/sacmod/SIPECAM/cumulo_13/entrega_27.abril.2022/SIPECAM AUDIOS/Nodo 3_13_1_1393/Ultra/10263609\n",
      "/LUSTRE/sacmod/SIPECAM/cumulo_13/entrega_27.abril.2022/SIPECAM AUDIOS/Nodo 3_13_1_1393/Grabadoras/Audible 2/10261149\n",
      "/LUSTRE/sacmod/SIPECAM/cumulo_13/entrega_27.abril.2022/SIPECAM AUDIOS/Nodo 3_13_1_1393/Audible/10262012\n",
      "/LUSTRE/sacmod/SIPECAM/cumulo_13/entrega_27.abril.2022/SIPECAM AUDIOS/Nodo 3_13_0_1399 LAS PIEDRAS/Audiomoth 1/AudioMoths.N5.T4\n",
      "/LUSTRE/sacmod/SIPECAM/cumulo_13/entrega_27.abril.2022/SIPECAM AUDIOS/Nodo 3_13_0_1399 LAS PIEDRAS/Audiomoth 1/Ultra.N5.T3\n",
      "/LUSTRE/sacmod/SIPECAM/cumulo_13/entrega_27.abril.2022/SIPECAM AUDIOS/Nodo 3_13_0_1399 LAS PIEDRAS/Audiomoth 1/AudioMoth\n",
      "/LUSTRE/sacmod/SIPECAM/cumulo_13/entrega_27.abril.2022/SIPECAM AUDIOS/Nodo 3_13_0_1399 LAS PIEDRAS/Audiomoth 3\n",
      "/LUSTRE/sacmod/SIPECAM/cumulo_13/entrega_27.abril.2022/SIPECAM AUDIOS/Nodo 3_13_0_1399 LAS PIEDRAS/Audiomoth 2/AudioMoths.N5.T4/Audio\n",
      "/LUSTRE/sacmod/SIPECAM/cumulo_13/entrega_27.abril.2022/SIPECAM AUDIOS/Nodo 3_13_0_1399 LAS PIEDRAS/Audiomoth 2/Ultra.N5.T3\n",
      "/LUSTRE/sacmod/SIPECAM/cumulo_13/entrega_27.abril.2022/SIPECAM AUDIOS/Nodo 3_13_0_1399 LAS PIEDRAS/Audiomoth 2/Ultra.N5.T3 2\n",
      "/LUSTRE/sacmod/SIPECAM/cumulo_13/entrega_27.abril.2022/SIPECAM AUDIOS/21-10-21 a 29-11-21\n",
      "/LUSTRE/sacmod/SIPECAM/cumulo_13/entrega_27.abril.2022/SIPECAM AUDIOS/Nodo 3_13_1_1392 NICTEHA 2/10262012\n",
      "/LUSTRE/sacmod/SIPECAM/cumulo_13/entrega_27.abril.2022/SIPECAM AUDIOS/Nodo 3_13_1_1392 NICTEHA 2/10262089\n",
      "/LUSTRE/sacmod/SIPECAM/cumulo_13/entrega_27.abril.2022/SIPECAM AUDIOS/NODO 3_13_0_1401 EL SANTUARIO/Audiomoth\n",
      "/LUSTRE/sacmod/SIPECAM/cumulo_13/entrega_27.abril.2022/SIPECAM AUDIOS/NODO 3_13_0_1401 EL SANTUARIO/10262153\n",
      "/LUSTRE/sacmod/SIPECAM/cumulo_13/entrega_27.abril.2022/SIPECAM AUDIOS/NODO 3_13_0_1401 EL SANTUARIO/10309403\n",
      "/LUSTRE/sacmod/SIPECAM/cumulo_13/entrega_27.abril.2022/SIPECAM AUDIOS/Nodo 3_13_0_1400 VILLAROSA/10262719\n",
      "/LUSTRE/sacmod/SIPECAM/cumulo_13/entrega_27.abril.2022/SIPECAM AUDIOS/Nodo 3_13_0_1400 VILLAROSA/10262153\n",
      "/LUSTRE/sacmod/SIPECAM/cumulo_13/entrega_27.abril.2022/SIPECAM AUDIOS/Nodo 3_13_0_1400 VILLAROSA/10306526\n",
      "/LUSTRE/sacmod/SIPECAM/cumulo_13/entrega_27.abril.2022/SIPECAM AUDIOS/Nodo 3_13_0_1400 VILLAROSA/10263606\n",
      "/LUSTRE/sacmod/SIPECAM/cumulo_13/entrega_27.abril.2022/SIPECAM AUDIOS/Nodo 3_13_0_1400 VILLAROSA/10262333\n",
      "/LUSTRE/sacmod/SIPECAM/cumulo_13/entrega_27.abril.2022/SIPECAM AUDIOS/Nodo 3_13_0_1400 VILLAROSA/10309403\n",
      "/LUSTRE/sacmod/SIPECAM/cumulo_13/entrega_27.abril.2022/SIPECAM AUDIOS/Nodo 3_13_1_1394 NICTEHA 1/10263609\n",
      "/LUSTRE/sacmod/SIPECAM/cumulo_13/entrega_27.abril.2022/SIPECAM AUDIOS/Nodo 3_13_1_1394 NICTEHA 1/10262012\n"
     ]
    },
    {
     "name": "stderr",
     "output_type": "stream",
     "text": [
      "Traceback (most recent call last):\n",
      "  File \"/usr/local/bin/extract_serial_numbers_dates_and_metadata_of_files_and_device\", line 8, in <module>\n",
      "    sys.exit(main())\n",
      "  File \"/usr/local/lib/python3.8/dist-packages/simex/extract_serial_numbers_dates_and_metadata_of_files_and_device.py\", line 248, in main\n",
      "    extract_metadata_of_device_from_files(input_directory,\n",
      "  File \"/usr/local/lib/python3.8/dist-packages/simex/extract_serial_numbers_dates_and_metadata_of_files_and_device.py\", line 122, in extract_metadata_of_device_from_files\n",
      "    f_pathlib = pathlib.Path(filename)\n",
      "UnboundLocalError: local variable 'filename' referenced before assignment\n"
     ]
    },
    {
     "name": "stdout",
     "output_type": "stream",
     "text": [
      "/LUSTRE/sacmod/SIPECAM/cumulo_13/entrega_27.abril.2022/SIPECAM AUDIOS/Nodo 3_13_1_1394 NICTEHA 1/10262223\n"
     ]
    },
    {
     "name": "stderr",
     "output_type": "stream",
     "text": [
      "Traceback (most recent call last):\n",
      "  File \"/usr/local/bin/extract_serial_numbers_dates_and_metadata_of_files_and_device\", line 8, in <module>\n",
      "    sys.exit(main())\n",
      "  File \"/usr/local/lib/python3.8/dist-packages/simex/extract_serial_numbers_dates_and_metadata_of_files_and_device.py\", line 248, in main\n",
      "    extract_metadata_of_device_from_files(input_directory,\n",
      "  File \"/usr/local/lib/python3.8/dist-packages/simex/extract_serial_numbers_dates_and_metadata_of_files_and_device.py\", line 122, in extract_metadata_of_device_from_files\n",
      "    f_pathlib = pathlib.Path(filename)\n",
      "UnboundLocalError: local variable 'filename' referenced before assignment\n"
     ]
    },
    {
     "name": "stdout",
     "output_type": "stream",
     "text": [
      "/LUSTRE/sacmod/SIPECAM/cumulo_13/entrega_27.abril.2022/SIPECAM AUDIOS/Nodo 3_13_1_1394 NICTEHA 1/10262089\n",
      "/LUSTRE/sacmod/SIPECAM/cumulo_13/entrega_27.abril.2022/SIPECAM AUDIOS/Nodo 3_13_1_1394 NICTEHA 1/10262039\n",
      "/LUSTRE/sacmod/SIPECAM/cumulo_13/entrega_27.abril.2022/found.000/dir0000.chk/HLPXGM 09048480\n"
     ]
    },
    {
     "name": "stderr",
     "output_type": "stream",
     "text": [
      "Traceback (most recent call last):\n",
      "  File \"/usr/local/bin/extract_serial_numbers_dates_and_metadata_of_files_and_device\", line 8, in <module>\n",
      "    sys.exit(main())\n",
      "  File \"/usr/local/lib/python3.8/dist-packages/simex/extract_serial_numbers_dates_and_metadata_of_files_and_device.py\", line 248, in main\n",
      "    extract_metadata_of_device_from_files(input_directory,\n",
      "  File \"/usr/local/lib/python3.8/dist-packages/simex/extract_serial_numbers_dates_and_metadata_of_files_and_device.py\", line 122, in extract_metadata_of_device_from_files\n",
      "    f_pathlib = pathlib.Path(filename)\n",
      "UnboundLocalError: local variable 'filename' referenced before assignment\n"
     ]
    },
    {
     "name": "stdout",
     "output_type": "stream",
     "text": [
      "/LUSTRE/sacmod/SIPECAM/cumulo_13/entrega_27.abril.2022/RESPALDO MICRO SD AURA/NODO 3_13_1_1393/2/Grabadoras/Audible/10261149\n",
      "/LUSTRE/sacmod/SIPECAM/cumulo_13/entrega_27.abril.2022/RESPALDO MICRO SD AURA/NODO 3_13_1_1393/GRABADORAS/ultra/10263609\n",
      "/LUSTRE/sacmod/SIPECAM/cumulo_13/entrega_27.abril.2022/RESPALDO MICRO SD AURA/NODO 3_13_1_1393/GRABADORAS/ultra/10263609/10263609\n"
     ]
    },
    {
     "name": "stderr",
     "output_type": "stream",
     "text": [
      "multiprocessing.pool.RemoteTraceback: \n",
      "\"\"\"\n",
      "Traceback (most recent call last):\n",
      "  File \"/usr/lib/python3.8/multiprocessing/pool.py\", line 125, in worker\n",
      "    result = (True, func(*args, **kwds))\n",
      "  File \"/usr/lib/python3.8/multiprocessing/pool.py\", line 48, in mapstar\n",
      "    return list(map(*args))\n",
      "  File \"/usr/local/lib/python3.8/dist-packages/simex/extract_serial_numbers_dates_and_metadata_of_files_and_device.py\", line 27, in extract_metadata\n",
      "    date_of_file = read_metadata_audio.extract_date(filename)\n",
      "  File \"/usr/local/lib/python3.8/dist-packages/simex/read_metadata_audio.py\", line 147, in extract_date\n",
      "    return get_date(comment_metadata)#example: 2021-07-28\n",
      "  File \"/usr/local/lib/python3.8/dist-packages/simex/read_metadata_audio.py\", line 91, in get_date\n",
      "    match_date = ONLY_DATE_REGEX.search(comment)\n",
      "TypeError: expected string or bytes-like object\n",
      "\"\"\"\n",
      "\n",
      "The above exception was the direct cause of the following exception:\n",
      "\n",
      "Traceback (most recent call last):\n",
      "  File \"/usr/local/bin/extract_serial_numbers_dates_and_metadata_of_files_and_device\", line 8, in <module>\n",
      "    sys.exit(main())\n",
      "  File \"/usr/local/lib/python3.8/dist-packages/simex/extract_serial_numbers_dates_and_metadata_of_files_and_device.py\", line 254, in main\n",
      "    extract_metadata_of_files(input_directory,\n",
      "  File \"/usr/local/lib/python3.8/dist-packages/simex/extract_serial_numbers_dates_and_metadata_of_files_and_device.py\", line 140, in extract_metadata_of_files\n",
      "    res_map = pool.map(extract_metadata,\n",
      "  File \"/usr/lib/python3.8/multiprocessing/pool.py\", line 364, in map\n",
      "    return self._map_async(func, iterable, mapstar, chunksize).get()\n",
      "  File \"/usr/lib/python3.8/multiprocessing/pool.py\", line 771, in get\n",
      "    raise self._value\n",
      "TypeError: expected string or bytes-like object\n"
     ]
    },
    {
     "name": "stdout",
     "output_type": "stream",
     "text": [
      "/LUSTRE/sacmod/SIPECAM/cumulo_13/entrega_27.abril.2022/RESPALDO MICRO SD AURA/NODO 3_13_1_1393/GRABADORAS/ultra/10262223\n"
     ]
    },
    {
     "name": "stderr",
     "output_type": "stream",
     "text": [
      "multiprocessing.pool.RemoteTraceback: \n",
      "\"\"\"\n",
      "Traceback (most recent call last):\n",
      "  File \"/usr/lib/python3.8/multiprocessing/pool.py\", line 125, in worker\n",
      "    result = (True, func(*args, **kwds))\n",
      "  File \"/usr/lib/python3.8/multiprocessing/pool.py\", line 48, in mapstar\n",
      "    return list(map(*args))\n",
      "  File \"/usr/local/lib/python3.8/dist-packages/simex/extract_serial_numbers_dates_and_metadata_of_files_and_device.py\", line 27, in extract_metadata\n",
      "    date_of_file = read_metadata_audio.extract_date(filename)\n",
      "  File \"/usr/local/lib/python3.8/dist-packages/simex/read_metadata_audio.py\", line 147, in extract_date\n",
      "    return get_date(comment_metadata)#example: 2021-07-28\n",
      "  File \"/usr/local/lib/python3.8/dist-packages/simex/read_metadata_audio.py\", line 91, in get_date\n",
      "    match_date = ONLY_DATE_REGEX.search(comment)\n",
      "TypeError: expected string or bytes-like object\n",
      "\"\"\"\n",
      "\n",
      "The above exception was the direct cause of the following exception:\n",
      "\n",
      "Traceback (most recent call last):\n",
      "  File \"/usr/local/bin/extract_serial_numbers_dates_and_metadata_of_files_and_device\", line 8, in <module>\n",
      "    sys.exit(main())\n",
      "  File \"/usr/local/lib/python3.8/dist-packages/simex/extract_serial_numbers_dates_and_metadata_of_files_and_device.py\", line 254, in main\n",
      "    extract_metadata_of_files(input_directory,\n",
      "  File \"/usr/local/lib/python3.8/dist-packages/simex/extract_serial_numbers_dates_and_metadata_of_files_and_device.py\", line 140, in extract_metadata_of_files\n",
      "    res_map = pool.map(extract_metadata,\n",
      "  File \"/usr/lib/python3.8/multiprocessing/pool.py\", line 364, in map\n",
      "    return self._map_async(func, iterable, mapstar, chunksize).get()\n",
      "  File \"/usr/lib/python3.8/multiprocessing/pool.py\", line 771, in get\n",
      "    raise self._value\n",
      "TypeError: expected string or bytes-like object\n"
     ]
    },
    {
     "name": "stdout",
     "output_type": "stream",
     "text": [
      "/LUSTRE/sacmod/SIPECAM/cumulo_13/entrega_27.abril.2022/RESPALDO MICRO SD AURA/GRABADORAS/4\n",
      "/LUSTRE/sacmod/SIPECAM/cumulo_13/entrega_27.abril.2022/RESPALDO MICRO SD AURA/GRABADORAS/2\n"
     ]
    },
    {
     "name": "stderr",
     "output_type": "stream",
     "text": [
      "Traceback (most recent call last):\n",
      "  File \"/usr/local/bin/extract_serial_numbers_dates_and_metadata_of_files_and_device\", line 8, in <module>\n",
      "    sys.exit(main())\n",
      "  File \"/usr/local/lib/python3.8/dist-packages/simex/extract_serial_numbers_dates_and_metadata_of_files_and_device.py\", line 248, in main\n",
      "    extract_metadata_of_device_from_files(input_directory,\n",
      "  File \"/usr/local/lib/python3.8/dist-packages/simex/extract_serial_numbers_dates_and_metadata_of_files_and_device.py\", line 122, in extract_metadata_of_device_from_files\n",
      "    f_pathlib = pathlib.Path(filename)\n",
      "UnboundLocalError: local variable 'filename' referenced before assignment\n"
     ]
    },
    {
     "name": "stdout",
     "output_type": "stream",
     "text": [
      "/LUSTRE/sacmod/SIPECAM/cumulo_13/entrega_27.abril.2022/RESPALDO MICRO SD AURA/GRABADORAS/1\n"
     ]
    },
    {
     "name": "stderr",
     "output_type": "stream",
     "text": [
      "Traceback (most recent call last):\n",
      "  File \"/usr/local/bin/extract_serial_numbers_dates_and_metadata_of_files_and_device\", line 8, in <module>\n",
      "    sys.exit(main())\n",
      "  File \"/usr/local/lib/python3.8/dist-packages/simex/extract_serial_numbers_dates_and_metadata_of_files_and_device.py\", line 248, in main\n",
      "    extract_metadata_of_device_from_files(input_directory,\n",
      "  File \"/usr/local/lib/python3.8/dist-packages/simex/extract_serial_numbers_dates_and_metadata_of_files_and_device.py\", line 122, in extract_metadata_of_device_from_files\n",
      "    f_pathlib = pathlib.Path(filename)\n",
      "UnboundLocalError: local variable 'filename' referenced before assignment\n"
     ]
    },
    {
     "name": "stdout",
     "output_type": "stream",
     "text": [
      "/LUSTRE/sacmod/SIPECAM/cumulo_13/entrega_27.abril.2022/RESPALDO MICRO SD AURA/GRABADORAS/5\n",
      "/LUSTRE/sacmod/SIPECAM/cumulo_13/entrega_27.abril.2022/RESPALDO MICRO SD AURA/GRABADORAS/3\n",
      "/LUSTRE/sacmod/SIPECAM/cumulo_13/entrega_27.abril.2022/found.000/dir0000.chk/HLPXGM 09048480/DCIM/100RECNX\n"
     ]
    },
    {
     "name": "stderr",
     "output_type": "stream",
     "text": [
      "Traceback (most recent call last):\n",
      "  File \"/usr/local/bin/extract_serial_numbers_dates_and_metadata_of_files_and_device\", line 8, in <module>\n",
      "    sys.exit(main())\n",
      "  File \"/usr/local/lib/python3.8/dist-packages/simex/extract_serial_numbers_dates_and_metadata_of_files_and_device.py\", line 254, in main\n",
      "    extract_metadata_of_files(input_directory,\n",
      "  File \"/usr/local/lib/python3.8/dist-packages/simex/extract_serial_numbers_dates_and_metadata_of_files_and_device.py\", line 136, in extract_metadata_of_files\n",
      "    serial_number = d_output[\"MetadataDevice\"][\"SerialNumber\"]\n",
      "KeyError: 'MetadataDevice'\n"
     ]
    },
    {
     "name": "stdout",
     "output_type": "stream",
     "text": [
      "/LUSTRE/sacmod/SIPECAM/cumulo_13/entrega_27.abril.2022/SIPECAM FOTOS/Nodo 3_13_1_1393/FOTOS Camara-trampa 2\n",
      "/LUSTRE/sacmod/SIPECAM/cumulo_13/entrega_27.abril.2022/SIPECAM FOTOS/Nodo 3_13_1_1393/FOTOS Cámara-trampa\n",
      "/LUSTRE/sacmod/SIPECAM/cumulo_13/entrega_27.abril.2022/SIPECAM FOTOS/Nodo 3_13_0_1399 LAS PIEDRAS/Camara-Trampa-T4/FOTOS\n",
      "/LUSTRE/sacmod/SIPECAM/cumulo_13/entrega_27.abril.2022/SIPECAM FOTOS/Nodo 3_13_0_1399 LAS PIEDRAS/Camara-Trampa-T3/FOTOS\n",
      "/LUSTRE/sacmod/SIPECAM/cumulo_13/entrega_27.abril.2022/SIPECAM FOTOS/Nodo 3_13_0_1399 LAS PIEDRAS/Camara-Trampa-T1/FOTOS\n",
      "/LUSTRE/sacmod/SIPECAM/cumulo_13/entrega_27.abril.2022/SIPECAM FOTOS/Nodo 3_13_1_1396 LA LEONA/HLPXGM09048480\n",
      "/LUSTRE/sacmod/SIPECAM/cumulo_13/entrega_27.abril.2022/SIPECAM FOTOS/Nodo 3_13_1_1396 LA LEONA/HLPXGM09048888/FOTOS\n",
      "/LUSTRE/sacmod/SIPECAM/cumulo_13/entrega_27.abril.2022/SIPECAM FOTOS/Nodo 3_13_1_1396 LA LEONA/HLPXGM09049504/FOTOS\n",
      "/LUSTRE/sacmod/SIPECAM/cumulo_13/entrega_27.abril.2022/SIPECAM FOTOS/Nodo 3_13_1_1396 LA LEONA/HLPXGM09049482/FOTOS\n",
      "/LUSTRE/sacmod/SIPECAM/cumulo_13/entrega_27.abril.2022/SIPECAM FOTOS/Nodo 3_13_1_1396 LA LEONA/HLPXGM09049093/FOTOS\n",
      "/LUSTRE/sacmod/SIPECAM/cumulo_13/entrega_27.abril.2022/SIPECAM FOTOS/Nodo 3_13_1_1392 NICTEHA 2/HLPXGM04049093/FOTOS\n",
      "/LUSTRE/sacmod/SIPECAM/cumulo_13/entrega_27.abril.2022/SIPECAM FOTOS/Nodo 3_13_1_1392 NICTEHA 2/HLPXGM09048480/FOTOS\n",
      "/LUSTRE/sacmod/SIPECAM/cumulo_13/entrega_27.abril.2022/SIPECAM FOTOS/Nodo 3_13_1_1392 NICTEHA 2/HLPXGM09048888/FOTOS\n",
      "/LUSTRE/sacmod/SIPECAM/cumulo_13/entrega_27.abril.2022/SIPECAM FOTOS/Nodo 3_13_1_1392 NICTEHA 2/HLPXGM09049482/FOTOS\n",
      "/LUSTRE/sacmod/SIPECAM/cumulo_13/entrega_27.abril.2022/SIPECAM FOTOS/NODO 3_13_0_1401 EL SANTUARIO/HLPXGM09048483/FOTOS\n",
      "/LUSTRE/sacmod/SIPECAM/cumulo_13/entrega_27.abril.2022/SIPECAM FOTOS/NODO 3_13_0_1401 EL SANTUARIO/HLPXGM09048507/FOTOS\n",
      "/LUSTRE/sacmod/SIPECAM/cumulo_13/entrega_27.abril.2022/SIPECAM FOTOS/NODO 3_13_0_1401 EL SANTUARIO/HLPXGM09048448/FOTOS\n",
      "/LUSTRE/sacmod/SIPECAM/cumulo_13/entrega_27.abril.2022/SIPECAM FOTOS/NODO 3_13_0_1401 EL SANTUARIO/HLPXGM09048449/FOTOS\n",
      "/LUSTRE/sacmod/SIPECAM/cumulo_13/entrega_27.abril.2022/SIPECAM FOTOS/NODO 3_13_0_1401 EL SANTUARIO/HLPXGM09048209/FOTOS\n",
      "/LUSTRE/sacmod/SIPECAM/cumulo_13/entrega_27.abril.2022/SIPECAM FOTOS/Nodo 3_13_1_1395 SANTA GERTRUDIS/HLPXGM09048888/FOTOS\n",
      "/LUSTRE/sacmod/SIPECAM/cumulo_13/entrega_27.abril.2022/SIPECAM FOTOS/Nodo 3_13_1_1395 SANTA GERTRUDIS/HLPXGM09049504/FOTOS\n",
      "/LUSTRE/sacmod/SIPECAM/cumulo_13/entrega_27.abril.2022/SIPECAM FOTOS/Nodo 3_13_1_1395 SANTA GERTRUDIS/HLPXGM09049482/FOTOS\n",
      "/LUSTRE/sacmod/SIPECAM/cumulo_13/entrega_27.abril.2022/SIPECAM FOTOS/Nodo 3_13_1_1395 SANTA GERTRUDIS/HLPXGM09049093/FOTOS\n",
      "/LUSTRE/sacmod/SIPECAM/cumulo_13/entrega_27.abril.2022/SIPECAM FOTOS/Nodo 3_13_0_1400 VILLAROSA/HLPXGM09048483/FOTOS\n",
      "/LUSTRE/sacmod/SIPECAM/cumulo_13/entrega_27.abril.2022/SIPECAM FOTOS/Nodo 3_13_0_1400 VILLAROSA/HLPXGM09048507/FOTOS\n",
      "/LUSTRE/sacmod/SIPECAM/cumulo_13/entrega_27.abril.2022/SIPECAM FOTOS/Nodo 3_13_0_1400 VILLAROSA/HLPXGM09048448/102RECNX/FOTOS\n",
      "/LUSTRE/sacmod/SIPECAM/cumulo_13/entrega_27.abril.2022/SIPECAM FOTOS/Nodo 3_13_0_1400 VILLAROSA/HLPXGM09048448/100RECNX\n",
      "/LUSTRE/sacmod/SIPECAM/cumulo_13/entrega_27.abril.2022/SIPECAM FOTOS/Nodo 3_13_0_1400 VILLAROSA/HLPXGM09048449/FOTOS\n",
      "/LUSTRE/sacmod/SIPECAM/cumulo_13/entrega_27.abril.2022/SIPECAM FOTOS/Nodo 3_13_0_1400 VILLAROSA/HLPXGM09048209/FOTOS\n",
      "/LUSTRE/sacmod/SIPECAM/cumulo_13/entrega_27.abril.2022/SIPECAM FOTOS/Nodo 3_13_1_1394 NICTEHA 1/HLPXGM09048480/FOTOS\n",
      "/LUSTRE/sacmod/SIPECAM/cumulo_13/entrega_27.abril.2022/SIPECAM FOTOS/Nodo 3_13_1_1394 NICTEHA 1/HLPXGM09048888/FOTOS\n",
      "/LUSTRE/sacmod/SIPECAM/cumulo_13/entrega_27.abril.2022/SIPECAM FOTOS/Nodo 3_13_1_1394 NICTEHA 1/HLPXGM09049504/FOTOS\n",
      "/LUSTRE/sacmod/SIPECAM/cumulo_13/entrega_27.abril.2022/SIPECAM FOTOS/Nodo 3_13_1_1394 NICTEHA 1/HLPXGM09049482/FOTOS\n",
      "/LUSTRE/sacmod/SIPECAM/cumulo_13/entrega_27.abril.2022/SIPECAM FOTOS/Nodo 3_13_1_1394 NICTEHA 1/HLPXGM09049093/FOTOS\n",
      "/LUSTRE/sacmod/SIPECAM/cumulo_13/entrega_27.abril.2022/SIPECAM FOTOS/Nodo 3_13_0_1398 FRENO/HLPXGM09048483/FOTOS\n",
      "/LUSTRE/sacmod/SIPECAM/cumulo_13/entrega_27.abril.2022/SIPECAM FOTOS/Nodo 3_13_0_1398 FRENO/HLPXGM09048507/FOTOS\n",
      "/LUSTRE/sacmod/SIPECAM/cumulo_13/entrega_27.abril.2022/SIPECAM FOTOS/Nodo 3_13_0_1398 FRENO/HLPXGM09048448/FOTOS\n",
      "/LUSTRE/sacmod/SIPECAM/cumulo_13/entrega_27.abril.2022/SIPECAM FOTOS/Nodo 3_13_0_1398 FRENO/HLPXGM09048449/FOTOS\n",
      "/LUSTRE/sacmod/SIPECAM/cumulo_13/entrega_27.abril.2022/SIPECAM FOTOS/Nodo 3_13_0_1398 FRENO/HLPXGM09048209/FOTOS\n",
      "/LUSTRE/sacmod/SIPECAM/cumulo_13/entrega_27.abril.2022/RESPALDO MICRO SD AURA/NODO 3_13_1_1393/2/Cámara-trampa\n",
      "/LUSTRE/sacmod/SIPECAM/cumulo_13/entrega_27.abril.2022/RESPALDO MICRO SD AURA/NODO 3_13_1_1393/2/camara2\n",
      "/LUSTRE/sacmod/SIPECAM/cumulo_13/entrega_27.abril.2022/RESPALDO MICRO SD AURA/CAMARAS/4/DCIM/101RECNX\n",
      "/LUSTRE/sacmod/SIPECAM/cumulo_13/entrega_27.abril.2022/RESPALDO MICRO SD AURA/CAMARAS/4/DCIM/100RECNX\n",
      "/LUSTRE/sacmod/SIPECAM/cumulo_13/entrega_27.abril.2022/RESPALDO MICRO SD AURA/CAMARAS/2\n",
      "/LUSTRE/sacmod/SIPECAM/cumulo_13/entrega_27.abril.2022/RESPALDO MICRO SD AURA/CAMARAS/6/DCIM/104RECNX\n",
      "/LUSTRE/sacmod/SIPECAM/cumulo_13/entrega_27.abril.2022/RESPALDO MICRO SD AURA/CAMARAS/6/DCIM/103RECNX\n",
      "/LUSTRE/sacmod/SIPECAM/cumulo_13/entrega_27.abril.2022/RESPALDO MICRO SD AURA/CAMARAS/1/DCIM/102RECNX\n",
      "/LUSTRE/sacmod/SIPECAM/cumulo_13/entrega_27.abril.2022/RESPALDO MICRO SD AURA/CAMARAS/1/DCIM/103RECNX\n",
      "/LUSTRE/sacmod/SIPECAM/cumulo_13/entrega_27.abril.2022/RESPALDO MICRO SD AURA/CAMARAS/5/DCIM/104RECNX\n",
      "/LUSTRE/sacmod/SIPECAM/cumulo_13/entrega_27.abril.2022/RESPALDO MICRO SD AURA/CAMARAS/5/DCIM/101RECNX\n",
      "/LUSTRE/sacmod/SIPECAM/cumulo_13/entrega_27.abril.2022/RESPALDO MICRO SD AURA/CAMARAS/5/DCIM/102RECNX\n",
      "/LUSTRE/sacmod/SIPECAM/cumulo_13/entrega_27.abril.2022/RESPALDO MICRO SD AURA/CAMARAS/5/DCIM/103RECNX\n",
      "/LUSTRE/sacmod/SIPECAM/cumulo_13/entrega_27.abril.2022/RESPALDO MICRO SD AURA/CAMARAS/3/DCIM/102RECNX\n",
      "/LUSTRE/sacmod/SIPECAM/cumulo_13/entrega_27.abril.2022/RESPALDO MICRO SD AURA/CAMARAS/3/DCIM/103RECNX\n",
      "/LUSTRE/sacmod/SIPECAM/cumulo_13/entrega_27.abril.2022/SIPECAM FOTOS/Nodo 3_13_1_1393/VIDEOS CAMARA 2\n"
     ]
    },
    {
     "name": "stderr",
     "output_type": "stream",
     "text": [
      "Traceback (most recent call last):\n",
      "  File \"/usr/local/bin/extract_serial_numbers_dates_and_metadata_of_files_and_device\", line 8, in <module>\n",
      "    sys.exit(main())\n",
      "  File \"/usr/local/lib/python3.8/dist-packages/simex/extract_serial_numbers_dates_and_metadata_of_files_and_device.py\", line 248, in main\n",
      "    extract_metadata_of_device_from_files(input_directory,\n",
      "  File \"/usr/local/lib/python3.8/dist-packages/simex/extract_serial_numbers_dates_and_metadata_of_files_and_device.py\", line 122, in extract_metadata_of_device_from_files\n",
      "    f_pathlib = pathlib.Path(filename)\n",
      "UnboundLocalError: local variable 'filename' referenced before assignment\n"
     ]
    },
    {
     "name": "stdout",
     "output_type": "stream",
     "text": [
      "/LUSTRE/sacmod/SIPECAM/cumulo_13/entrega_27.abril.2022/SIPECAM FOTOS/Nodo 3_13_0_1399 LAS PIEDRAS/Camara-Trampa-T4/VIDEOS\n"
     ]
    },
    {
     "name": "stderr",
     "output_type": "stream",
     "text": [
      "Traceback (most recent call last):\n",
      "  File \"/usr/local/bin/extract_serial_numbers_dates_and_metadata_of_files_and_device\", line 8, in <module>\n",
      "    sys.exit(main())\n",
      "  File \"/usr/local/lib/python3.8/dist-packages/simex/extract_serial_numbers_dates_and_metadata_of_files_and_device.py\", line 248, in main\n",
      "    extract_metadata_of_device_from_files(input_directory,\n",
      "  File \"/usr/local/lib/python3.8/dist-packages/simex/extract_serial_numbers_dates_and_metadata_of_files_and_device.py\", line 122, in extract_metadata_of_device_from_files\n",
      "    f_pathlib = pathlib.Path(filename)\n",
      "UnboundLocalError: local variable 'filename' referenced before assignment\n"
     ]
    },
    {
     "name": "stdout",
     "output_type": "stream",
     "text": [
      "/LUSTRE/sacmod/SIPECAM/cumulo_13/entrega_27.abril.2022/SIPECAM FOTOS/Nodo 3_13_0_1399 LAS PIEDRAS/Camara-Trampa-T3/VIDEOS\n"
     ]
    },
    {
     "name": "stderr",
     "output_type": "stream",
     "text": [
      "Traceback (most recent call last):\n",
      "  File \"/usr/local/bin/extract_serial_numbers_dates_and_metadata_of_files_and_device\", line 8, in <module>\n",
      "    sys.exit(main())\n",
      "  File \"/usr/local/lib/python3.8/dist-packages/simex/extract_serial_numbers_dates_and_metadata_of_files_and_device.py\", line 248, in main\n",
      "    extract_metadata_of_device_from_files(input_directory,\n",
      "  File \"/usr/local/lib/python3.8/dist-packages/simex/extract_serial_numbers_dates_and_metadata_of_files_and_device.py\", line 122, in extract_metadata_of_device_from_files\n",
      "    f_pathlib = pathlib.Path(filename)\n",
      "UnboundLocalError: local variable 'filename' referenced before assignment\n"
     ]
    },
    {
     "name": "stdout",
     "output_type": "stream",
     "text": [
      "/LUSTRE/sacmod/SIPECAM/cumulo_13/entrega_27.abril.2022/SIPECAM FOTOS/Nodo 3_13_0_1399 LAS PIEDRAS/Camara-Trampa-T1/VIDEOS\n"
     ]
    },
    {
     "name": "stderr",
     "output_type": "stream",
     "text": [
      "Traceback (most recent call last):\n",
      "  File \"/usr/local/bin/extract_serial_numbers_dates_and_metadata_of_files_and_device\", line 8, in <module>\n",
      "    sys.exit(main())\n",
      "  File \"/usr/local/lib/python3.8/dist-packages/simex/extract_serial_numbers_dates_and_metadata_of_files_and_device.py\", line 248, in main\n",
      "    extract_metadata_of_device_from_files(input_directory,\n",
      "  File \"/usr/local/lib/python3.8/dist-packages/simex/extract_serial_numbers_dates_and_metadata_of_files_and_device.py\", line 122, in extract_metadata_of_device_from_files\n",
      "    f_pathlib = pathlib.Path(filename)\n",
      "UnboundLocalError: local variable 'filename' referenced before assignment\n"
     ]
    },
    {
     "name": "stdout",
     "output_type": "stream",
     "text": [
      "/LUSTRE/sacmod/SIPECAM/cumulo_13/entrega_27.abril.2022/SIPECAM FOTOS/Nodo 3_13_1_1396 LA LEONA/HLPXGM09048888/VIDEO\n"
     ]
    },
    {
     "name": "stderr",
     "output_type": "stream",
     "text": [
      "Traceback (most recent call last):\n",
      "  File \"/usr/local/bin/extract_serial_numbers_dates_and_metadata_of_files_and_device\", line 8, in <module>\n",
      "    sys.exit(main())\n",
      "  File \"/usr/local/lib/python3.8/dist-packages/simex/extract_serial_numbers_dates_and_metadata_of_files_and_device.py\", line 248, in main\n",
      "    extract_metadata_of_device_from_files(input_directory,\n",
      "  File \"/usr/local/lib/python3.8/dist-packages/simex/extract_serial_numbers_dates_and_metadata_of_files_and_device.py\", line 122, in extract_metadata_of_device_from_files\n",
      "    f_pathlib = pathlib.Path(filename)\n",
      "UnboundLocalError: local variable 'filename' referenced before assignment\n"
     ]
    },
    {
     "name": "stdout",
     "output_type": "stream",
     "text": [
      "/LUSTRE/sacmod/SIPECAM/cumulo_13/entrega_27.abril.2022/SIPECAM FOTOS/Nodo 3_13_1_1396 LA LEONA/HLPXGM09049504/VIDEOS\n"
     ]
    },
    {
     "name": "stderr",
     "output_type": "stream",
     "text": [
      "Traceback (most recent call last):\n",
      "  File \"/usr/local/bin/extract_serial_numbers_dates_and_metadata_of_files_and_device\", line 8, in <module>\n",
      "    sys.exit(main())\n",
      "  File \"/usr/local/lib/python3.8/dist-packages/simex/extract_serial_numbers_dates_and_metadata_of_files_and_device.py\", line 248, in main\n",
      "    extract_metadata_of_device_from_files(input_directory,\n",
      "  File \"/usr/local/lib/python3.8/dist-packages/simex/extract_serial_numbers_dates_and_metadata_of_files_and_device.py\", line 122, in extract_metadata_of_device_from_files\n",
      "    f_pathlib = pathlib.Path(filename)\n",
      "UnboundLocalError: local variable 'filename' referenced before assignment\n"
     ]
    },
    {
     "name": "stdout",
     "output_type": "stream",
     "text": [
      "/LUSTRE/sacmod/SIPECAM/cumulo_13/entrega_27.abril.2022/SIPECAM FOTOS/Nodo 3_13_1_1396 LA LEONA/HLPXGM09049482/VIDEOS\n"
     ]
    },
    {
     "name": "stderr",
     "output_type": "stream",
     "text": [
      "Traceback (most recent call last):\n",
      "  File \"/usr/local/bin/extract_serial_numbers_dates_and_metadata_of_files_and_device\", line 8, in <module>\n",
      "    sys.exit(main())\n",
      "  File \"/usr/local/lib/python3.8/dist-packages/simex/extract_serial_numbers_dates_and_metadata_of_files_and_device.py\", line 248, in main\n",
      "    extract_metadata_of_device_from_files(input_directory,\n",
      "  File \"/usr/local/lib/python3.8/dist-packages/simex/extract_serial_numbers_dates_and_metadata_of_files_and_device.py\", line 122, in extract_metadata_of_device_from_files\n",
      "    f_pathlib = pathlib.Path(filename)\n",
      "UnboundLocalError: local variable 'filename' referenced before assignment\n"
     ]
    },
    {
     "name": "stdout",
     "output_type": "stream",
     "text": [
      "/LUSTRE/sacmod/SIPECAM/cumulo_13/entrega_27.abril.2022/SIPECAM FOTOS/Nodo 3_13_1_1396 LA LEONA/HLPXGM09049093/VIDEOS\n"
     ]
    },
    {
     "name": "stderr",
     "output_type": "stream",
     "text": [
      "Traceback (most recent call last):\n",
      "  File \"/usr/local/bin/extract_serial_numbers_dates_and_metadata_of_files_and_device\", line 8, in <module>\n",
      "    sys.exit(main())\n",
      "  File \"/usr/local/lib/python3.8/dist-packages/simex/extract_serial_numbers_dates_and_metadata_of_files_and_device.py\", line 248, in main\n",
      "    extract_metadata_of_device_from_files(input_directory,\n",
      "  File \"/usr/local/lib/python3.8/dist-packages/simex/extract_serial_numbers_dates_and_metadata_of_files_and_device.py\", line 122, in extract_metadata_of_device_from_files\n",
      "    f_pathlib = pathlib.Path(filename)\n",
      "UnboundLocalError: local variable 'filename' referenced before assignment\n"
     ]
    },
    {
     "name": "stdout",
     "output_type": "stream",
     "text": [
      "/LUSTRE/sacmod/SIPECAM/cumulo_13/entrega_27.abril.2022/SIPECAM FOTOS/Nodo 3_13_1_1392 NICTEHA 2/HLPXGM04049093/VIDEOS\n"
     ]
    },
    {
     "name": "stderr",
     "output_type": "stream",
     "text": [
      "Traceback (most recent call last):\n",
      "  File \"/usr/local/bin/extract_serial_numbers_dates_and_metadata_of_files_and_device\", line 8, in <module>\n",
      "    sys.exit(main())\n",
      "  File \"/usr/local/lib/python3.8/dist-packages/simex/extract_serial_numbers_dates_and_metadata_of_files_and_device.py\", line 248, in main\n",
      "    extract_metadata_of_device_from_files(input_directory,\n",
      "  File \"/usr/local/lib/python3.8/dist-packages/simex/extract_serial_numbers_dates_and_metadata_of_files_and_device.py\", line 122, in extract_metadata_of_device_from_files\n",
      "    f_pathlib = pathlib.Path(filename)\n",
      "UnboundLocalError: local variable 'filename' referenced before assignment\n"
     ]
    },
    {
     "name": "stdout",
     "output_type": "stream",
     "text": [
      "/LUSTRE/sacmod/SIPECAM/cumulo_13/entrega_27.abril.2022/SIPECAM FOTOS/Nodo 3_13_1_1392 NICTEHA 2/HLPXGM09048480/VIDEOS\n"
     ]
    },
    {
     "name": "stderr",
     "output_type": "stream",
     "text": [
      "Traceback (most recent call last):\n",
      "  File \"/usr/local/bin/extract_serial_numbers_dates_and_metadata_of_files_and_device\", line 8, in <module>\n",
      "    sys.exit(main())\n",
      "  File \"/usr/local/lib/python3.8/dist-packages/simex/extract_serial_numbers_dates_and_metadata_of_files_and_device.py\", line 248, in main\n",
      "    extract_metadata_of_device_from_files(input_directory,\n",
      "  File \"/usr/local/lib/python3.8/dist-packages/simex/extract_serial_numbers_dates_and_metadata_of_files_and_device.py\", line 122, in extract_metadata_of_device_from_files\n",
      "    f_pathlib = pathlib.Path(filename)\n",
      "UnboundLocalError: local variable 'filename' referenced before assignment\n"
     ]
    },
    {
     "name": "stdout",
     "output_type": "stream",
     "text": [
      "/LUSTRE/sacmod/SIPECAM/cumulo_13/entrega_27.abril.2022/SIPECAM FOTOS/Nodo 3_13_1_1392 NICTEHA 2/HLPXGM09048888/VIDEOS\n"
     ]
    },
    {
     "name": "stderr",
     "output_type": "stream",
     "text": [
      "Traceback (most recent call last):\n",
      "  File \"/usr/local/bin/extract_serial_numbers_dates_and_metadata_of_files_and_device\", line 8, in <module>\n",
      "    sys.exit(main())\n",
      "  File \"/usr/local/lib/python3.8/dist-packages/simex/extract_serial_numbers_dates_and_metadata_of_files_and_device.py\", line 248, in main\n",
      "    extract_metadata_of_device_from_files(input_directory,\n",
      "  File \"/usr/local/lib/python3.8/dist-packages/simex/extract_serial_numbers_dates_and_metadata_of_files_and_device.py\", line 122, in extract_metadata_of_device_from_files\n",
      "    f_pathlib = pathlib.Path(filename)\n",
      "UnboundLocalError: local variable 'filename' referenced before assignment\n"
     ]
    },
    {
     "name": "stdout",
     "output_type": "stream",
     "text": [
      "/LUSTRE/sacmod/SIPECAM/cumulo_13/entrega_27.abril.2022/SIPECAM FOTOS/Nodo 3_13_1_1392 NICTEHA 2/HLPXGM09049482/VIDEOS\n"
     ]
    },
    {
     "name": "stderr",
     "output_type": "stream",
     "text": [
      "Traceback (most recent call last):\n",
      "  File \"/usr/local/bin/extract_serial_numbers_dates_and_metadata_of_files_and_device\", line 8, in <module>\n",
      "    sys.exit(main())\n",
      "  File \"/usr/local/lib/python3.8/dist-packages/simex/extract_serial_numbers_dates_and_metadata_of_files_and_device.py\", line 248, in main\n",
      "    extract_metadata_of_device_from_files(input_directory,\n",
      "  File \"/usr/local/lib/python3.8/dist-packages/simex/extract_serial_numbers_dates_and_metadata_of_files_and_device.py\", line 122, in extract_metadata_of_device_from_files\n",
      "    f_pathlib = pathlib.Path(filename)\n",
      "UnboundLocalError: local variable 'filename' referenced before assignment\n"
     ]
    },
    {
     "name": "stdout",
     "output_type": "stream",
     "text": [
      "/LUSTRE/sacmod/SIPECAM/cumulo_13/entrega_27.abril.2022/SIPECAM FOTOS/NODO 3_13_0_1401 EL SANTUARIO/HLPXGM09048483/VIDEOS\n"
     ]
    },
    {
     "name": "stderr",
     "output_type": "stream",
     "text": [
      "Traceback (most recent call last):\n",
      "  File \"/usr/local/bin/extract_serial_numbers_dates_and_metadata_of_files_and_device\", line 8, in <module>\n",
      "    sys.exit(main())\n",
      "  File \"/usr/local/lib/python3.8/dist-packages/simex/extract_serial_numbers_dates_and_metadata_of_files_and_device.py\", line 248, in main\n",
      "    extract_metadata_of_device_from_files(input_directory,\n",
      "  File \"/usr/local/lib/python3.8/dist-packages/simex/extract_serial_numbers_dates_and_metadata_of_files_and_device.py\", line 122, in extract_metadata_of_device_from_files\n",
      "    f_pathlib = pathlib.Path(filename)\n",
      "UnboundLocalError: local variable 'filename' referenced before assignment\n"
     ]
    },
    {
     "name": "stdout",
     "output_type": "stream",
     "text": [
      "/LUSTRE/sacmod/SIPECAM/cumulo_13/entrega_27.abril.2022/SIPECAM FOTOS/NODO 3_13_0_1401 EL SANTUARIO/HLPXGM09048507/VIDEOS\n"
     ]
    },
    {
     "name": "stderr",
     "output_type": "stream",
     "text": [
      "Traceback (most recent call last):\n",
      "  File \"/usr/local/bin/extract_serial_numbers_dates_and_metadata_of_files_and_device\", line 8, in <module>\n",
      "    sys.exit(main())\n",
      "  File \"/usr/local/lib/python3.8/dist-packages/simex/extract_serial_numbers_dates_and_metadata_of_files_and_device.py\", line 248, in main\n",
      "    extract_metadata_of_device_from_files(input_directory,\n",
      "  File \"/usr/local/lib/python3.8/dist-packages/simex/extract_serial_numbers_dates_and_metadata_of_files_and_device.py\", line 122, in extract_metadata_of_device_from_files\n",
      "    f_pathlib = pathlib.Path(filename)\n",
      "UnboundLocalError: local variable 'filename' referenced before assignment\n"
     ]
    },
    {
     "name": "stdout",
     "output_type": "stream",
     "text": [
      "/LUSTRE/sacmod/SIPECAM/cumulo_13/entrega_27.abril.2022/SIPECAM FOTOS/NODO 3_13_0_1401 EL SANTUARIO/HLPXGM09048448/VIDEOS\n"
     ]
    },
    {
     "name": "stderr",
     "output_type": "stream",
     "text": [
      "Traceback (most recent call last):\n",
      "  File \"/usr/local/bin/extract_serial_numbers_dates_and_metadata_of_files_and_device\", line 8, in <module>\n",
      "    sys.exit(main())\n",
      "  File \"/usr/local/lib/python3.8/dist-packages/simex/extract_serial_numbers_dates_and_metadata_of_files_and_device.py\", line 248, in main\n",
      "    extract_metadata_of_device_from_files(input_directory,\n",
      "  File \"/usr/local/lib/python3.8/dist-packages/simex/extract_serial_numbers_dates_and_metadata_of_files_and_device.py\", line 122, in extract_metadata_of_device_from_files\n",
      "    f_pathlib = pathlib.Path(filename)\n",
      "UnboundLocalError: local variable 'filename' referenced before assignment\n"
     ]
    },
    {
     "name": "stdout",
     "output_type": "stream",
     "text": [
      "/LUSTRE/sacmod/SIPECAM/cumulo_13/entrega_27.abril.2022/SIPECAM FOTOS/NODO 3_13_0_1401 EL SANTUARIO/HLPXGM09048449/VIDEOS\n"
     ]
    },
    {
     "name": "stderr",
     "output_type": "stream",
     "text": [
      "Traceback (most recent call last):\n",
      "  File \"/usr/local/bin/extract_serial_numbers_dates_and_metadata_of_files_and_device\", line 8, in <module>\n",
      "    sys.exit(main())\n",
      "  File \"/usr/local/lib/python3.8/dist-packages/simex/extract_serial_numbers_dates_and_metadata_of_files_and_device.py\", line 248, in main\n",
      "    extract_metadata_of_device_from_files(input_directory,\n",
      "  File \"/usr/local/lib/python3.8/dist-packages/simex/extract_serial_numbers_dates_and_metadata_of_files_and_device.py\", line 122, in extract_metadata_of_device_from_files\n",
      "    f_pathlib = pathlib.Path(filename)\n",
      "UnboundLocalError: local variable 'filename' referenced before assignment\n"
     ]
    },
    {
     "name": "stdout",
     "output_type": "stream",
     "text": [
      "/LUSTRE/sacmod/SIPECAM/cumulo_13/entrega_27.abril.2022/SIPECAM FOTOS/NODO 3_13_0_1401 EL SANTUARIO/HLPXGM09048209/VIDEOS\n"
     ]
    },
    {
     "name": "stderr",
     "output_type": "stream",
     "text": [
      "Traceback (most recent call last):\n",
      "  File \"/usr/local/bin/extract_serial_numbers_dates_and_metadata_of_files_and_device\", line 8, in <module>\n",
      "    sys.exit(main())\n",
      "  File \"/usr/local/lib/python3.8/dist-packages/simex/extract_serial_numbers_dates_and_metadata_of_files_and_device.py\", line 248, in main\n",
      "    extract_metadata_of_device_from_files(input_directory,\n",
      "  File \"/usr/local/lib/python3.8/dist-packages/simex/extract_serial_numbers_dates_and_metadata_of_files_and_device.py\", line 122, in extract_metadata_of_device_from_files\n",
      "    f_pathlib = pathlib.Path(filename)\n",
      "UnboundLocalError: local variable 'filename' referenced before assignment\n"
     ]
    },
    {
     "name": "stdout",
     "output_type": "stream",
     "text": [
      "/LUSTRE/sacmod/SIPECAM/cumulo_13/entrega_27.abril.2022/SIPECAM FOTOS/Nodo 3_13_1_1395 SANTA GERTRUDIS/HLPXGM09048888/VIDEOS\n"
     ]
    },
    {
     "name": "stderr",
     "output_type": "stream",
     "text": [
      "Traceback (most recent call last):\n",
      "  File \"/usr/local/bin/extract_serial_numbers_dates_and_metadata_of_files_and_device\", line 8, in <module>\n",
      "    sys.exit(main())\n",
      "  File \"/usr/local/lib/python3.8/dist-packages/simex/extract_serial_numbers_dates_and_metadata_of_files_and_device.py\", line 248, in main\n",
      "    extract_metadata_of_device_from_files(input_directory,\n",
      "  File \"/usr/local/lib/python3.8/dist-packages/simex/extract_serial_numbers_dates_and_metadata_of_files_and_device.py\", line 122, in extract_metadata_of_device_from_files\n",
      "    f_pathlib = pathlib.Path(filename)\n",
      "UnboundLocalError: local variable 'filename' referenced before assignment\n"
     ]
    },
    {
     "name": "stdout",
     "output_type": "stream",
     "text": [
      "/LUSTRE/sacmod/SIPECAM/cumulo_13/entrega_27.abril.2022/SIPECAM FOTOS/Nodo 3_13_1_1395 SANTA GERTRUDIS/HLPXGM09049504/VIDEOS\n"
     ]
    },
    {
     "name": "stderr",
     "output_type": "stream",
     "text": [
      "Traceback (most recent call last):\n",
      "  File \"/usr/local/bin/extract_serial_numbers_dates_and_metadata_of_files_and_device\", line 8, in <module>\n",
      "    sys.exit(main())\n",
      "  File \"/usr/local/lib/python3.8/dist-packages/simex/extract_serial_numbers_dates_and_metadata_of_files_and_device.py\", line 248, in main\n",
      "    extract_metadata_of_device_from_files(input_directory,\n",
      "  File \"/usr/local/lib/python3.8/dist-packages/simex/extract_serial_numbers_dates_and_metadata_of_files_and_device.py\", line 122, in extract_metadata_of_device_from_files\n",
      "    f_pathlib = pathlib.Path(filename)\n",
      "UnboundLocalError: local variable 'filename' referenced before assignment\n"
     ]
    },
    {
     "name": "stdout",
     "output_type": "stream",
     "text": [
      "/LUSTRE/sacmod/SIPECAM/cumulo_13/entrega_27.abril.2022/SIPECAM FOTOS/Nodo 3_13_1_1395 SANTA GERTRUDIS/HLPXGM09049482/VIDEOS\n"
     ]
    },
    {
     "name": "stderr",
     "output_type": "stream",
     "text": [
      "Traceback (most recent call last):\n",
      "  File \"/usr/local/bin/extract_serial_numbers_dates_and_metadata_of_files_and_device\", line 8, in <module>\n",
      "    sys.exit(main())\n",
      "  File \"/usr/local/lib/python3.8/dist-packages/simex/extract_serial_numbers_dates_and_metadata_of_files_and_device.py\", line 248, in main\n",
      "    extract_metadata_of_device_from_files(input_directory,\n",
      "  File \"/usr/local/lib/python3.8/dist-packages/simex/extract_serial_numbers_dates_and_metadata_of_files_and_device.py\", line 122, in extract_metadata_of_device_from_files\n",
      "    f_pathlib = pathlib.Path(filename)\n",
      "UnboundLocalError: local variable 'filename' referenced before assignment\n"
     ]
    },
    {
     "name": "stdout",
     "output_type": "stream",
     "text": [
      "/LUSTRE/sacmod/SIPECAM/cumulo_13/entrega_27.abril.2022/SIPECAM FOTOS/Nodo 3_13_1_1395 SANTA GERTRUDIS/HLPXGM09049093/VIDEOS\n"
     ]
    },
    {
     "name": "stderr",
     "output_type": "stream",
     "text": [
      "Traceback (most recent call last):\n",
      "  File \"/usr/local/bin/extract_serial_numbers_dates_and_metadata_of_files_and_device\", line 8, in <module>\n",
      "    sys.exit(main())\n",
      "  File \"/usr/local/lib/python3.8/dist-packages/simex/extract_serial_numbers_dates_and_metadata_of_files_and_device.py\", line 248, in main\n",
      "    extract_metadata_of_device_from_files(input_directory,\n",
      "  File \"/usr/local/lib/python3.8/dist-packages/simex/extract_serial_numbers_dates_and_metadata_of_files_and_device.py\", line 122, in extract_metadata_of_device_from_files\n",
      "    f_pathlib = pathlib.Path(filename)\n",
      "UnboundLocalError: local variable 'filename' referenced before assignment\n"
     ]
    },
    {
     "name": "stdout",
     "output_type": "stream",
     "text": [
      "/LUSTRE/sacmod/SIPECAM/cumulo_13/entrega_27.abril.2022/SIPECAM FOTOS/Nodo 3_13_0_1400 VILLAROSA/HLPXGM09048483/VIDEOS\n"
     ]
    },
    {
     "name": "stderr",
     "output_type": "stream",
     "text": [
      "Traceback (most recent call last):\n",
      "  File \"/usr/local/bin/extract_serial_numbers_dates_and_metadata_of_files_and_device\", line 8, in <module>\n",
      "    sys.exit(main())\n",
      "  File \"/usr/local/lib/python3.8/dist-packages/simex/extract_serial_numbers_dates_and_metadata_of_files_and_device.py\", line 248, in main\n",
      "    extract_metadata_of_device_from_files(input_directory,\n",
      "  File \"/usr/local/lib/python3.8/dist-packages/simex/extract_serial_numbers_dates_and_metadata_of_files_and_device.py\", line 122, in extract_metadata_of_device_from_files\n",
      "    f_pathlib = pathlib.Path(filename)\n",
      "UnboundLocalError: local variable 'filename' referenced before assignment\n"
     ]
    },
    {
     "name": "stdout",
     "output_type": "stream",
     "text": [
      "/LUSTRE/sacmod/SIPECAM/cumulo_13/entrega_27.abril.2022/SIPECAM FOTOS/Nodo 3_13_0_1400 VILLAROSA/HLPXGM09048507/VIDEOS\n"
     ]
    },
    {
     "name": "stderr",
     "output_type": "stream",
     "text": [
      "Traceback (most recent call last):\n",
      "  File \"/usr/local/bin/extract_serial_numbers_dates_and_metadata_of_files_and_device\", line 8, in <module>\n",
      "    sys.exit(main())\n",
      "  File \"/usr/local/lib/python3.8/dist-packages/simex/extract_serial_numbers_dates_and_metadata_of_files_and_device.py\", line 248, in main\n",
      "    extract_metadata_of_device_from_files(input_directory,\n",
      "  File \"/usr/local/lib/python3.8/dist-packages/simex/extract_serial_numbers_dates_and_metadata_of_files_and_device.py\", line 122, in extract_metadata_of_device_from_files\n",
      "    f_pathlib = pathlib.Path(filename)\n",
      "UnboundLocalError: local variable 'filename' referenced before assignment\n"
     ]
    },
    {
     "name": "stdout",
     "output_type": "stream",
     "text": [
      "/LUSTRE/sacmod/SIPECAM/cumulo_13/entrega_27.abril.2022/SIPECAM FOTOS/Nodo 3_13_0_1400 VILLAROSA/HLPXGM09048448/102RECNX/VIDEOS\n"
     ]
    },
    {
     "name": "stderr",
     "output_type": "stream",
     "text": [
      "Traceback (most recent call last):\n",
      "  File \"/usr/local/bin/extract_serial_numbers_dates_and_metadata_of_files_and_device\", line 8, in <module>\n",
      "    sys.exit(main())\n",
      "  File \"/usr/local/lib/python3.8/dist-packages/simex/extract_serial_numbers_dates_and_metadata_of_files_and_device.py\", line 248, in main\n",
      "    extract_metadata_of_device_from_files(input_directory,\n",
      "  File \"/usr/local/lib/python3.8/dist-packages/simex/extract_serial_numbers_dates_and_metadata_of_files_and_device.py\", line 122, in extract_metadata_of_device_from_files\n",
      "    f_pathlib = pathlib.Path(filename)\n",
      "UnboundLocalError: local variable 'filename' referenced before assignment\n"
     ]
    },
    {
     "name": "stdout",
     "output_type": "stream",
     "text": [
      "/LUSTRE/sacmod/SIPECAM/cumulo_13/entrega_27.abril.2022/SIPECAM FOTOS/Nodo 3_13_0_1400 VILLAROSA/HLPXGM09048449/VIDEOS\n"
     ]
    },
    {
     "name": "stderr",
     "output_type": "stream",
     "text": [
      "Traceback (most recent call last):\n",
      "  File \"/usr/local/bin/extract_serial_numbers_dates_and_metadata_of_files_and_device\", line 8, in <module>\n",
      "    sys.exit(main())\n",
      "  File \"/usr/local/lib/python3.8/dist-packages/simex/extract_serial_numbers_dates_and_metadata_of_files_and_device.py\", line 248, in main\n",
      "    extract_metadata_of_device_from_files(input_directory,\n",
      "  File \"/usr/local/lib/python3.8/dist-packages/simex/extract_serial_numbers_dates_and_metadata_of_files_and_device.py\", line 122, in extract_metadata_of_device_from_files\n",
      "    f_pathlib = pathlib.Path(filename)\n",
      "UnboundLocalError: local variable 'filename' referenced before assignment\n"
     ]
    },
    {
     "name": "stdout",
     "output_type": "stream",
     "text": [
      "/LUSTRE/sacmod/SIPECAM/cumulo_13/entrega_27.abril.2022/SIPECAM FOTOS/Nodo 3_13_0_1400 VILLAROSA/HLPXGM09048209/VIDEOS\n"
     ]
    },
    {
     "name": "stderr",
     "output_type": "stream",
     "text": [
      "Traceback (most recent call last):\n",
      "  File \"/usr/local/bin/extract_serial_numbers_dates_and_metadata_of_files_and_device\", line 8, in <module>\n",
      "    sys.exit(main())\n",
      "  File \"/usr/local/lib/python3.8/dist-packages/simex/extract_serial_numbers_dates_and_metadata_of_files_and_device.py\", line 248, in main\n",
      "    extract_metadata_of_device_from_files(input_directory,\n",
      "  File \"/usr/local/lib/python3.8/dist-packages/simex/extract_serial_numbers_dates_and_metadata_of_files_and_device.py\", line 122, in extract_metadata_of_device_from_files\n",
      "    f_pathlib = pathlib.Path(filename)\n",
      "UnboundLocalError: local variable 'filename' referenced before assignment\n"
     ]
    },
    {
     "name": "stdout",
     "output_type": "stream",
     "text": [
      "/LUSTRE/sacmod/SIPECAM/cumulo_13/entrega_27.abril.2022/SIPECAM FOTOS/Nodo 3_13_1_1394 NICTEHA 1/HLPXGM09048480/VIDEOS\n"
     ]
    },
    {
     "name": "stderr",
     "output_type": "stream",
     "text": [
      "Traceback (most recent call last):\n",
      "  File \"/usr/local/bin/extract_serial_numbers_dates_and_metadata_of_files_and_device\", line 8, in <module>\n",
      "    sys.exit(main())\n",
      "  File \"/usr/local/lib/python3.8/dist-packages/simex/extract_serial_numbers_dates_and_metadata_of_files_and_device.py\", line 248, in main\n",
      "    extract_metadata_of_device_from_files(input_directory,\n",
      "  File \"/usr/local/lib/python3.8/dist-packages/simex/extract_serial_numbers_dates_and_metadata_of_files_and_device.py\", line 122, in extract_metadata_of_device_from_files\n",
      "    f_pathlib = pathlib.Path(filename)\n",
      "UnboundLocalError: local variable 'filename' referenced before assignment\n"
     ]
    },
    {
     "name": "stdout",
     "output_type": "stream",
     "text": [
      "/LUSTRE/sacmod/SIPECAM/cumulo_13/entrega_27.abril.2022/SIPECAM FOTOS/Nodo 3_13_1_1394 NICTEHA 1/HLPXGM09048888/VIDEOS\n"
     ]
    },
    {
     "name": "stderr",
     "output_type": "stream",
     "text": [
      "Traceback (most recent call last):\n",
      "  File \"/usr/local/bin/extract_serial_numbers_dates_and_metadata_of_files_and_device\", line 8, in <module>\n",
      "    sys.exit(main())\n",
      "  File \"/usr/local/lib/python3.8/dist-packages/simex/extract_serial_numbers_dates_and_metadata_of_files_and_device.py\", line 248, in main\n",
      "    extract_metadata_of_device_from_files(input_directory,\n",
      "  File \"/usr/local/lib/python3.8/dist-packages/simex/extract_serial_numbers_dates_and_metadata_of_files_and_device.py\", line 122, in extract_metadata_of_device_from_files\n",
      "    f_pathlib = pathlib.Path(filename)\n",
      "UnboundLocalError: local variable 'filename' referenced before assignment\n"
     ]
    },
    {
     "name": "stdout",
     "output_type": "stream",
     "text": [
      "/LUSTRE/sacmod/SIPECAM/cumulo_13/entrega_27.abril.2022/SIPECAM FOTOS/Nodo 3_13_1_1394 NICTEHA 1/HLPXGM09049504/VIDEOS\n"
     ]
    },
    {
     "name": "stderr",
     "output_type": "stream",
     "text": [
      "Traceback (most recent call last):\n",
      "  File \"/usr/local/bin/extract_serial_numbers_dates_and_metadata_of_files_and_device\", line 8, in <module>\n",
      "    sys.exit(main())\n",
      "  File \"/usr/local/lib/python3.8/dist-packages/simex/extract_serial_numbers_dates_and_metadata_of_files_and_device.py\", line 248, in main\n",
      "    extract_metadata_of_device_from_files(input_directory,\n",
      "  File \"/usr/local/lib/python3.8/dist-packages/simex/extract_serial_numbers_dates_and_metadata_of_files_and_device.py\", line 122, in extract_metadata_of_device_from_files\n",
      "    f_pathlib = pathlib.Path(filename)\n",
      "UnboundLocalError: local variable 'filename' referenced before assignment\n"
     ]
    },
    {
     "name": "stdout",
     "output_type": "stream",
     "text": [
      "/LUSTRE/sacmod/SIPECAM/cumulo_13/entrega_27.abril.2022/SIPECAM FOTOS/Nodo 3_13_1_1394 NICTEHA 1/HLPXGM09049482/VIDEOS\n"
     ]
    },
    {
     "name": "stderr",
     "output_type": "stream",
     "text": [
      "Traceback (most recent call last):\n",
      "  File \"/usr/local/bin/extract_serial_numbers_dates_and_metadata_of_files_and_device\", line 8, in <module>\n",
      "    sys.exit(main())\n",
      "  File \"/usr/local/lib/python3.8/dist-packages/simex/extract_serial_numbers_dates_and_metadata_of_files_and_device.py\", line 248, in main\n",
      "    extract_metadata_of_device_from_files(input_directory,\n",
      "  File \"/usr/local/lib/python3.8/dist-packages/simex/extract_serial_numbers_dates_and_metadata_of_files_and_device.py\", line 122, in extract_metadata_of_device_from_files\n",
      "    f_pathlib = pathlib.Path(filename)\n",
      "UnboundLocalError: local variable 'filename' referenced before assignment\n"
     ]
    },
    {
     "name": "stdout",
     "output_type": "stream",
     "text": [
      "/LUSTRE/sacmod/SIPECAM/cumulo_13/entrega_27.abril.2022/SIPECAM FOTOS/Nodo 3_13_1_1394 NICTEHA 1/HLPXGM09049093/VIDEOS\n"
     ]
    },
    {
     "name": "stderr",
     "output_type": "stream",
     "text": [
      "Traceback (most recent call last):\n",
      "  File \"/usr/local/bin/extract_serial_numbers_dates_and_metadata_of_files_and_device\", line 8, in <module>\n",
      "    sys.exit(main())\n",
      "  File \"/usr/local/lib/python3.8/dist-packages/simex/extract_serial_numbers_dates_and_metadata_of_files_and_device.py\", line 248, in main\n",
      "    extract_metadata_of_device_from_files(input_directory,\n",
      "  File \"/usr/local/lib/python3.8/dist-packages/simex/extract_serial_numbers_dates_and_metadata_of_files_and_device.py\", line 122, in extract_metadata_of_device_from_files\n",
      "    f_pathlib = pathlib.Path(filename)\n",
      "UnboundLocalError: local variable 'filename' referenced before assignment\n"
     ]
    },
    {
     "name": "stdout",
     "output_type": "stream",
     "text": [
      "/LUSTRE/sacmod/SIPECAM/cumulo_13/entrega_27.abril.2022/SIPECAM FOTOS/Nodo 3_13_0_1398 FRENO/HLPXGM09048483/VIDEOS\n"
     ]
    },
    {
     "name": "stderr",
     "output_type": "stream",
     "text": [
      "Traceback (most recent call last):\n",
      "  File \"/usr/local/bin/extract_serial_numbers_dates_and_metadata_of_files_and_device\", line 8, in <module>\n",
      "    sys.exit(main())\n",
      "  File \"/usr/local/lib/python3.8/dist-packages/simex/extract_serial_numbers_dates_and_metadata_of_files_and_device.py\", line 248, in main\n",
      "    extract_metadata_of_device_from_files(input_directory,\n",
      "  File \"/usr/local/lib/python3.8/dist-packages/simex/extract_serial_numbers_dates_and_metadata_of_files_and_device.py\", line 122, in extract_metadata_of_device_from_files\n",
      "    f_pathlib = pathlib.Path(filename)\n",
      "UnboundLocalError: local variable 'filename' referenced before assignment\n"
     ]
    },
    {
     "name": "stdout",
     "output_type": "stream",
     "text": [
      "/LUSTRE/sacmod/SIPECAM/cumulo_13/entrega_27.abril.2022/SIPECAM FOTOS/Nodo 3_13_0_1398 FRENO/HLPXGM09048507/VIDEOS\n"
     ]
    },
    {
     "name": "stderr",
     "output_type": "stream",
     "text": [
      "Traceback (most recent call last):\n",
      "  File \"/usr/local/bin/extract_serial_numbers_dates_and_metadata_of_files_and_device\", line 8, in <module>\n",
      "    sys.exit(main())\n",
      "  File \"/usr/local/lib/python3.8/dist-packages/simex/extract_serial_numbers_dates_and_metadata_of_files_and_device.py\", line 248, in main\n",
      "    extract_metadata_of_device_from_files(input_directory,\n",
      "  File \"/usr/local/lib/python3.8/dist-packages/simex/extract_serial_numbers_dates_and_metadata_of_files_and_device.py\", line 122, in extract_metadata_of_device_from_files\n",
      "    f_pathlib = pathlib.Path(filename)\n",
      "UnboundLocalError: local variable 'filename' referenced before assignment\n"
     ]
    },
    {
     "name": "stdout",
     "output_type": "stream",
     "text": [
      "/LUSTRE/sacmod/SIPECAM/cumulo_13/entrega_27.abril.2022/SIPECAM FOTOS/Nodo 3_13_0_1398 FRENO/HLPXGM09048448/VIDEO\n"
     ]
    },
    {
     "name": "stderr",
     "output_type": "stream",
     "text": [
      "Traceback (most recent call last):\n",
      "  File \"/usr/local/bin/extract_serial_numbers_dates_and_metadata_of_files_and_device\", line 8, in <module>\n",
      "    sys.exit(main())\n",
      "  File \"/usr/local/lib/python3.8/dist-packages/simex/extract_serial_numbers_dates_and_metadata_of_files_and_device.py\", line 248, in main\n",
      "    extract_metadata_of_device_from_files(input_directory,\n",
      "  File \"/usr/local/lib/python3.8/dist-packages/simex/extract_serial_numbers_dates_and_metadata_of_files_and_device.py\", line 122, in extract_metadata_of_device_from_files\n",
      "    f_pathlib = pathlib.Path(filename)\n",
      "UnboundLocalError: local variable 'filename' referenced before assignment\n"
     ]
    },
    {
     "name": "stdout",
     "output_type": "stream",
     "text": [
      "/LUSTRE/sacmod/SIPECAM/cumulo_13/entrega_27.abril.2022/SIPECAM FOTOS/Nodo 3_13_0_1398 FRENO/HLPXGM09048449/VIDEOS\n"
     ]
    },
    {
     "name": "stderr",
     "output_type": "stream",
     "text": [
      "Traceback (most recent call last):\n",
      "  File \"/usr/local/bin/extract_serial_numbers_dates_and_metadata_of_files_and_device\", line 8, in <module>\n",
      "    sys.exit(main())\n",
      "  File \"/usr/local/lib/python3.8/dist-packages/simex/extract_serial_numbers_dates_and_metadata_of_files_and_device.py\", line 248, in main\n",
      "    extract_metadata_of_device_from_files(input_directory,\n",
      "  File \"/usr/local/lib/python3.8/dist-packages/simex/extract_serial_numbers_dates_and_metadata_of_files_and_device.py\", line 122, in extract_metadata_of_device_from_files\n",
      "    f_pathlib = pathlib.Path(filename)\n",
      "UnboundLocalError: local variable 'filename' referenced before assignment\n"
     ]
    },
    {
     "name": "stdout",
     "output_type": "stream",
     "text": [
      "/LUSTRE/sacmod/SIPECAM/cumulo_13/entrega_27.abril.2022/SIPECAM FOTOS/Nodo 3_13_0_1398 FRENO/HLPXGM09048209/VIDEOS\n"
     ]
    },
    {
     "name": "stderr",
     "output_type": "stream",
     "text": [
      "Traceback (most recent call last):\n",
      "  File \"/usr/local/bin/extract_serial_numbers_dates_and_metadata_of_files_and_device\", line 8, in <module>\n",
      "    sys.exit(main())\n",
      "  File \"/usr/local/lib/python3.8/dist-packages/simex/extract_serial_numbers_dates_and_metadata_of_files_and_device.py\", line 248, in main\n",
      "    extract_metadata_of_device_from_files(input_directory,\n",
      "  File \"/usr/local/lib/python3.8/dist-packages/simex/extract_serial_numbers_dates_and_metadata_of_files_and_device.py\", line 122, in extract_metadata_of_device_from_files\n",
      "    f_pathlib = pathlib.Path(filename)\n",
      "UnboundLocalError: local variable 'filename' referenced before assignment\n"
     ]
    }
   ],
   "source": [
    "%%bash\n",
    "list_of_dirs_to_be_processed=/shared_volume/sipecam_subdirectories_02-06-2022.txt\n",
    "SAVEIFS=$IFS;IFS=$(echo -en \"\\n\\b\")\n",
    "for dir_to_be_processed in $(cat $list_of_dirs_to_be_processed)\n",
    "    do\n",
    "    echo \"$dir_to_be_processed\"\n",
    "    extract_serial_numbers_dates_and_metadata_of_files_and_device --input_dir \"$dir_to_be_processed\" --parallel --number_of_processes 10\n",
    "done\n",
    "IFS=$SAVEIFS"
   ]
  },
  {
   "cell_type": "markdown",
   "id": "113f64b1-2738-4bf5-8bb9-b9f72d14c871",
   "metadata": {},
   "source": [
    "# Checking result of `extract`"
   ]
  },
  {
   "cell_type": "markdown",
   "id": "dd643ac5-e9e0-4a54-aeb9-36deedc8a258",
   "metadata": {},
   "source": [
    "# 1)"
   ]
  },
  {
   "cell_type": "markdown",
   "id": "3dff07f2-3a80-411a-9ed2-2284d7874a68",
   "metadata": {},
   "source": [
    "`/LUSTRE/sacmod/SIPECAM/cumulo_13/entrega_27.abril.2022/SIPECAM AUDIOS/Nodo 3_13_1_1394 NICTEHA 1/10262012` has no audios, removing from `/shared_volume/sipecam_subdirectories_02-06-2022.txt`"
   ]
  },
  {
   "cell_type": "markdown",
   "id": "5affc202-1640-4c63-8149-1ef9995faf79",
   "metadata": {},
   "source": [
    "# 2)"
   ]
  },
  {
   "cell_type": "markdown",
   "id": "07c70de2-133b-4124-b03f-16738babc9d8",
   "metadata": {},
   "source": [
    "`/LUSTRE/sacmod/SIPECAM/cumulo_13/entrega_27.abril.2022/SIPECAM AUDIOS/Nodo 3_13_1_1394 NICTEHA 1/10262223` has no audios, removing from `/shared_volume/sipecam_subdirectories_02-06-2022.txt`"
   ]
  },
  {
   "cell_type": "markdown",
   "id": "ff53e2fd-6aa8-4e5f-9ba2-8ee2b31fd3a5",
   "metadata": {},
   "source": [
    "# 3)"
   ]
  },
  {
   "cell_type": "markdown",
   "id": "b75aae21-3325-4e1c-bb13-e088b57ea9d3",
   "metadata": {},
   "source": [
    "`/LUSTRE/sacmod/SIPECAM/cumulo_13/entrega_27.abril.2022/found.000/dir0000.chk/HLPXGM 09048480` has no audios, removing from `/shared_volume/sipecam_subdirectories_02-06-2022.txt`"
   ]
  },
  {
   "cell_type": "markdown",
   "id": "d1f23f32-c25c-4c13-a6d9-615de59374e7",
   "metadata": {},
   "source": [
    "# 4)"
   ]
  },
  {
   "cell_type": "markdown",
   "id": "94600b8e-ad58-478b-a180-89380e94871c",
   "metadata": {},
   "source": [
    "**Executing without parallel feature**"
   ]
  },
  {
   "cell_type": "code",
   "execution_count": 5,
   "id": "627303aa-e912-4bb8-9585-fbf928e5fcf1",
   "metadata": {},
   "outputs": [
    {
     "name": "stderr",
     "output_type": "stream",
     "text": [
      "Traceback (most recent call last):\n",
      "  File \"/usr/local/bin/extract_serial_numbers_dates_and_metadata_of_files_and_device\", line 8, in <module>\n",
      "    sys.exit(main())\n",
      "  File \"/usr/local/lib/python3.8/dist-packages/simex/extract_serial_numbers_dates_and_metadata_of_files_and_device.py\", line 254, in main\n",
      "    extract_metadata_of_files(input_directory,\n",
      "  File \"/usr/local/lib/python3.8/dist-packages/simex/extract_serial_numbers_dates_and_metadata_of_files_and_device.py\", line 168, in extract_metadata_of_files\n",
      "    tuple_date, tuple_metadata_of_file = extract_metadata(filename)\n",
      "  File \"/usr/local/lib/python3.8/dist-packages/simex/extract_serial_numbers_dates_and_metadata_of_files_and_device.py\", line 27, in extract_metadata\n",
      "    date_of_file = read_metadata_audio.extract_date(filename)\n",
      "  File \"/usr/local/lib/python3.8/dist-packages/simex/read_metadata_audio.py\", line 147, in extract_date\n",
      "    return get_date(comment_metadata)#example: 2021-07-28\n",
      "  File \"/usr/local/lib/python3.8/dist-packages/simex/read_metadata_audio.py\", line 91, in get_date\n",
      "    match_date = ONLY_DATE_REGEX.search(comment)\n",
      "TypeError: expected string or bytes-like object\n"
     ]
    },
    {
     "ename": "CalledProcessError",
     "evalue": "Command 'b'dir_to_be_processed=\"/LUSTRE/sacmod/SIPECAM/cumulo_13/entrega_27.abril.2022/RESPALDO MICRO SD AURA/NODO 3_13_1_1393/GRABADORAS/ultra/10263609/10263609\"\\nextract_serial_numbers_dates_and_metadata_of_files_and_device --input_dir \"$dir_to_be_processed\"\\n'' returned non-zero exit status 1.",
     "output_type": "error",
     "traceback": [
      "\u001b[0;31m---------------------------------------------------------------------------\u001b[0m",
      "\u001b[0;31mCalledProcessError\u001b[0m                        Traceback (most recent call last)",
      "Input \u001b[0;32mIn [5]\u001b[0m, in \u001b[0;36m<cell line: 1>\u001b[0;34m()\u001b[0m\n\u001b[0;32m----> 1\u001b[0m \u001b[43mget_ipython\u001b[49m\u001b[43m(\u001b[49m\u001b[43m)\u001b[49m\u001b[38;5;241;43m.\u001b[39;49m\u001b[43mrun_cell_magic\u001b[49m\u001b[43m(\u001b[49m\u001b[38;5;124;43m'\u001b[39;49m\u001b[38;5;124;43mbash\u001b[39;49m\u001b[38;5;124;43m'\u001b[39;49m\u001b[43m,\u001b[49m\u001b[43m \u001b[49m\u001b[38;5;124;43m'\u001b[39;49m\u001b[38;5;124;43m'\u001b[39;49m\u001b[43m,\u001b[49m\u001b[43m \u001b[49m\u001b[38;5;124;43m'\u001b[39;49m\u001b[38;5;124;43mdir_to_be_processed=\u001b[39;49m\u001b[38;5;124;43m\"\u001b[39;49m\u001b[38;5;124;43m/LUSTRE/sacmod/SIPECAM/cumulo_13/entrega_27.abril.2022/RESPALDO MICRO SD AURA/NODO 3_13_1_1393/GRABADORAS/ultra/10263609/10263609\u001b[39;49m\u001b[38;5;124;43m\"\u001b[39;49m\u001b[38;5;130;43;01m\\n\u001b[39;49;00m\u001b[38;5;124;43mextract_serial_numbers_dates_and_metadata_of_files_and_device --input_dir \u001b[39;49m\u001b[38;5;124;43m\"\u001b[39;49m\u001b[38;5;124;43m$dir_to_be_processed\u001b[39;49m\u001b[38;5;124;43m\"\u001b[39;49m\u001b[38;5;130;43;01m\\n\u001b[39;49;00m\u001b[38;5;124;43m'\u001b[39;49m\u001b[43m)\u001b[49m\n",
      "File \u001b[0;32m/usr/local/lib/python3.8/dist-packages/IPython/core/interactiveshell.py:2358\u001b[0m, in \u001b[0;36mInteractiveShell.run_cell_magic\u001b[0;34m(self, magic_name, line, cell)\u001b[0m\n\u001b[1;32m   2356\u001b[0m \u001b[38;5;28;01mwith\u001b[39;00m \u001b[38;5;28mself\u001b[39m\u001b[38;5;241m.\u001b[39mbuiltin_trap:\n\u001b[1;32m   2357\u001b[0m     args \u001b[38;5;241m=\u001b[39m (magic_arg_s, cell)\n\u001b[0;32m-> 2358\u001b[0m     result \u001b[38;5;241m=\u001b[39m \u001b[43mfn\u001b[49m\u001b[43m(\u001b[49m\u001b[38;5;241;43m*\u001b[39;49m\u001b[43margs\u001b[49m\u001b[43m,\u001b[49m\u001b[43m \u001b[49m\u001b[38;5;241;43m*\u001b[39;49m\u001b[38;5;241;43m*\u001b[39;49m\u001b[43mkwargs\u001b[49m\u001b[43m)\u001b[49m\n\u001b[1;32m   2359\u001b[0m \u001b[38;5;28;01mreturn\u001b[39;00m result\n",
      "File \u001b[0;32m/usr/local/lib/python3.8/dist-packages/IPython/core/magics/script.py:153\u001b[0m, in \u001b[0;36mScriptMagics._make_script_magic.<locals>.named_script_magic\u001b[0;34m(line, cell)\u001b[0m\n\u001b[1;32m    151\u001b[0m \u001b[38;5;28;01melse\u001b[39;00m:\n\u001b[1;32m    152\u001b[0m     line \u001b[38;5;241m=\u001b[39m script\n\u001b[0;32m--> 153\u001b[0m \u001b[38;5;28;01mreturn\u001b[39;00m \u001b[38;5;28;43mself\u001b[39;49m\u001b[38;5;241;43m.\u001b[39;49m\u001b[43mshebang\u001b[49m\u001b[43m(\u001b[49m\u001b[43mline\u001b[49m\u001b[43m,\u001b[49m\u001b[43m \u001b[49m\u001b[43mcell\u001b[49m\u001b[43m)\u001b[49m\n",
      "File \u001b[0;32m/usr/local/lib/python3.8/dist-packages/IPython/core/magics/script.py:305\u001b[0m, in \u001b[0;36mScriptMagics.shebang\u001b[0;34m(self, line, cell)\u001b[0m\n\u001b[1;32m    300\u001b[0m \u001b[38;5;28;01mif\u001b[39;00m args\u001b[38;5;241m.\u001b[39mraise_error \u001b[38;5;129;01mand\u001b[39;00m p\u001b[38;5;241m.\u001b[39mreturncode \u001b[38;5;241m!=\u001b[39m \u001b[38;5;241m0\u001b[39m:\n\u001b[1;32m    301\u001b[0m     \u001b[38;5;66;03m# If we get here and p.returncode is still None, we must have\u001b[39;00m\n\u001b[1;32m    302\u001b[0m     \u001b[38;5;66;03m# killed it but not yet seen its return code. We don't wait for it,\u001b[39;00m\n\u001b[1;32m    303\u001b[0m     \u001b[38;5;66;03m# in case it's stuck in uninterruptible sleep. -9 = SIGKILL\u001b[39;00m\n\u001b[1;32m    304\u001b[0m     rc \u001b[38;5;241m=\u001b[39m p\u001b[38;5;241m.\u001b[39mreturncode \u001b[38;5;129;01mor\u001b[39;00m \u001b[38;5;241m-\u001b[39m\u001b[38;5;241m9\u001b[39m\n\u001b[0;32m--> 305\u001b[0m     \u001b[38;5;28;01mraise\u001b[39;00m CalledProcessError(rc, cell)\n",
      "\u001b[0;31mCalledProcessError\u001b[0m: Command 'b'dir_to_be_processed=\"/LUSTRE/sacmod/SIPECAM/cumulo_13/entrega_27.abril.2022/RESPALDO MICRO SD AURA/NODO 3_13_1_1393/GRABADORAS/ultra/10263609/10263609\"\\nextract_serial_numbers_dates_and_metadata_of_files_and_device --input_dir \"$dir_to_be_processed\"\\n'' returned non-zero exit status 1."
     ]
    }
   ],
   "source": [
    "%%bash\n",
    "dir_to_be_processed=\"/LUSTRE/sacmod/SIPECAM/cumulo_13/entrega_27.abril.2022/RESPALDO MICRO SD AURA/NODO 3_13_1_1393/GRABADORAS/ultra/10263609/10263609\"\n",
    "extract_serial_numbers_dates_and_metadata_of_files_and_device --input_dir \"$dir_to_be_processed\""
   ]
  },
  {
   "cell_type": "markdown",
   "id": "b41f3619-7d5d-4f24-8b7c-4fe963c94fdc",
   "metadata": {},
   "source": [
    "**Problematic file:**\n",
    "\n",
    "`/LUSTRE/sacmod/SIPECAM/cumulo_13/entrega_27.abril.2022/RESPALDO MICRO SD AURA/NODO 3_13_1_1393/GRABADORAS/ultra/10263609/10263609/20210924_050000.WAV`"
   ]
  },
  {
   "cell_type": "code",
   "execution_count": 6,
   "id": "ecb0ff4a-1d10-4af2-a652-8158049f311a",
   "metadata": {},
   "outputs": [
    {
     "name": "stdout",
     "output_type": "stream",
     "text": [
      "[{\n",
      "  \"SourceFile\": \"/LUSTRE/sacmod/SIPECAM/cumulo_13/entrega_27.abril.2022/RESPALDO MICRO SD AURA/NODO 3_13_1_1393/GRABADORAS/ultra/10263609/10263609/20210924_050000.WAV\",\n",
      "  \"ExifToolVersion\": 12.41,\n",
      "  \"FileName\": \"20210924_050000.WAV\",\n",
      "  \"Directory\": \"/LUSTRE/sacmod/SIPECAM/cumulo_13/entrega_27.abril.2022/RESPALDO MICRO SD AURA/NODO 3_13_1_1393/GRABADORAS/ultra/10263609/10263609\",\n",
      "  \"FileSize\": \"5.5 MiB\",\n",
      "  \"FileModifyDate\": \"2021:09:24 06:01:00-05:00\",\n",
      "  \"FileAccessDate\": \"2022:06:05 04:38:25-05:00\",\n",
      "  \"FileInodeChangeDate\": \"2022:04:27 17:28:22-05:00\",\n",
      "  \"FilePermissions\": \"-rwxrwxrwx\",\n",
      "  \"Error\": \"File format error\"\n",
      "}]\n"
     ]
    },
    {
     "ename": "CalledProcessError",
     "evalue": "Command 'b'file=\"/LUSTRE/sacmod/SIPECAM/cumulo_13/entrega_27.abril.2022/RESPALDO MICRO SD AURA/NODO 3_13_1_1393/GRABADORAS/ultra/10263609/10263609/20210924_050000.WAV\"\\nexiftool -a -j \"$file\"\\n'' returned non-zero exit status 1.",
     "output_type": "error",
     "traceback": [
      "\u001b[0;31m---------------------------------------------------------------------------\u001b[0m",
      "\u001b[0;31mCalledProcessError\u001b[0m                        Traceback (most recent call last)",
      "Input \u001b[0;32mIn [6]\u001b[0m, in \u001b[0;36m<cell line: 1>\u001b[0;34m()\u001b[0m\n\u001b[0;32m----> 1\u001b[0m \u001b[43mget_ipython\u001b[49m\u001b[43m(\u001b[49m\u001b[43m)\u001b[49m\u001b[38;5;241;43m.\u001b[39;49m\u001b[43mrun_cell_magic\u001b[49m\u001b[43m(\u001b[49m\u001b[38;5;124;43m'\u001b[39;49m\u001b[38;5;124;43mbash\u001b[39;49m\u001b[38;5;124;43m'\u001b[39;49m\u001b[43m,\u001b[49m\u001b[43m \u001b[49m\u001b[38;5;124;43m'\u001b[39;49m\u001b[38;5;124;43m'\u001b[39;49m\u001b[43m,\u001b[49m\u001b[43m \u001b[49m\u001b[38;5;124;43m'\u001b[39;49m\u001b[38;5;124;43mfile=\u001b[39;49m\u001b[38;5;124;43m\"\u001b[39;49m\u001b[38;5;124;43m/LUSTRE/sacmod/SIPECAM/cumulo_13/entrega_27.abril.2022/RESPALDO MICRO SD AURA/NODO 3_13_1_1393/GRABADORAS/ultra/10263609/10263609/20210924_050000.WAV\u001b[39;49m\u001b[38;5;124;43m\"\u001b[39;49m\u001b[38;5;130;43;01m\\n\u001b[39;49;00m\u001b[38;5;124;43mexiftool -a -j \u001b[39;49m\u001b[38;5;124;43m\"\u001b[39;49m\u001b[38;5;124;43m$file\u001b[39;49m\u001b[38;5;124;43m\"\u001b[39;49m\u001b[38;5;130;43;01m\\n\u001b[39;49;00m\u001b[38;5;124;43m'\u001b[39;49m\u001b[43m)\u001b[49m\n",
      "File \u001b[0;32m/usr/local/lib/python3.8/dist-packages/IPython/core/interactiveshell.py:2358\u001b[0m, in \u001b[0;36mInteractiveShell.run_cell_magic\u001b[0;34m(self, magic_name, line, cell)\u001b[0m\n\u001b[1;32m   2356\u001b[0m \u001b[38;5;28;01mwith\u001b[39;00m \u001b[38;5;28mself\u001b[39m\u001b[38;5;241m.\u001b[39mbuiltin_trap:\n\u001b[1;32m   2357\u001b[0m     args \u001b[38;5;241m=\u001b[39m (magic_arg_s, cell)\n\u001b[0;32m-> 2358\u001b[0m     result \u001b[38;5;241m=\u001b[39m \u001b[43mfn\u001b[49m\u001b[43m(\u001b[49m\u001b[38;5;241;43m*\u001b[39;49m\u001b[43margs\u001b[49m\u001b[43m,\u001b[49m\u001b[43m \u001b[49m\u001b[38;5;241;43m*\u001b[39;49m\u001b[38;5;241;43m*\u001b[39;49m\u001b[43mkwargs\u001b[49m\u001b[43m)\u001b[49m\n\u001b[1;32m   2359\u001b[0m \u001b[38;5;28;01mreturn\u001b[39;00m result\n",
      "File \u001b[0;32m/usr/local/lib/python3.8/dist-packages/IPython/core/magics/script.py:153\u001b[0m, in \u001b[0;36mScriptMagics._make_script_magic.<locals>.named_script_magic\u001b[0;34m(line, cell)\u001b[0m\n\u001b[1;32m    151\u001b[0m \u001b[38;5;28;01melse\u001b[39;00m:\n\u001b[1;32m    152\u001b[0m     line \u001b[38;5;241m=\u001b[39m script\n\u001b[0;32m--> 153\u001b[0m \u001b[38;5;28;01mreturn\u001b[39;00m \u001b[38;5;28;43mself\u001b[39;49m\u001b[38;5;241;43m.\u001b[39;49m\u001b[43mshebang\u001b[49m\u001b[43m(\u001b[49m\u001b[43mline\u001b[49m\u001b[43m,\u001b[49m\u001b[43m \u001b[49m\u001b[43mcell\u001b[49m\u001b[43m)\u001b[49m\n",
      "File \u001b[0;32m/usr/local/lib/python3.8/dist-packages/IPython/core/magics/script.py:305\u001b[0m, in \u001b[0;36mScriptMagics.shebang\u001b[0;34m(self, line, cell)\u001b[0m\n\u001b[1;32m    300\u001b[0m \u001b[38;5;28;01mif\u001b[39;00m args\u001b[38;5;241m.\u001b[39mraise_error \u001b[38;5;129;01mand\u001b[39;00m p\u001b[38;5;241m.\u001b[39mreturncode \u001b[38;5;241m!=\u001b[39m \u001b[38;5;241m0\u001b[39m:\n\u001b[1;32m    301\u001b[0m     \u001b[38;5;66;03m# If we get here and p.returncode is still None, we must have\u001b[39;00m\n\u001b[1;32m    302\u001b[0m     \u001b[38;5;66;03m# killed it but not yet seen its return code. We don't wait for it,\u001b[39;00m\n\u001b[1;32m    303\u001b[0m     \u001b[38;5;66;03m# in case it's stuck in uninterruptible sleep. -9 = SIGKILL\u001b[39;00m\n\u001b[1;32m    304\u001b[0m     rc \u001b[38;5;241m=\u001b[39m p\u001b[38;5;241m.\u001b[39mreturncode \u001b[38;5;129;01mor\u001b[39;00m \u001b[38;5;241m-\u001b[39m\u001b[38;5;241m9\u001b[39m\n\u001b[0;32m--> 305\u001b[0m     \u001b[38;5;28;01mraise\u001b[39;00m CalledProcessError(rc, cell)\n",
      "\u001b[0;31mCalledProcessError\u001b[0m: Command 'b'file=\"/LUSTRE/sacmod/SIPECAM/cumulo_13/entrega_27.abril.2022/RESPALDO MICRO SD AURA/NODO 3_13_1_1393/GRABADORAS/ultra/10263609/10263609/20210924_050000.WAV\"\\nexiftool -a -j \"$file\"\\n'' returned non-zero exit status 1."
     ]
    }
   ],
   "source": [
    "%%bash\n",
    "file=\"/LUSTRE/sacmod/SIPECAM/cumulo_13/entrega_27.abril.2022/RESPALDO MICRO SD AURA/NODO 3_13_1_1393/GRABADORAS/ultra/10263609/10263609/20210924_050000.WAV\"\n",
    "exiftool -a -j \"$file\""
   ]
  },
  {
   "cell_type": "markdown",
   "id": "e9007ece-a47c-4f73-9025-690545734890",
   "metadata": {},
   "source": [
    "**Moving file to dir** `/LUSTRE/sacmod/SIPECAM/cumulo_13/entrega_27.abril.2022/RESPALDO MICRO SD AURA/NODO 3_13_1_1393/GRABADORAS/ultra/10263609/10263609/error`"
   ]
  },
  {
   "cell_type": "code",
   "execution_count": 7,
   "id": "33fe11cd-f6ad-43db-a1e1-934698272b8d",
   "metadata": {},
   "outputs": [],
   "source": [
    "%%bash\n",
    "file=\"/LUSTRE/sacmod/SIPECAM/cumulo_13/entrega_27.abril.2022/RESPALDO MICRO SD AURA/NODO 3_13_1_1393/GRABADORAS/ultra/10263609/10263609/20210924_050000.WAV\"\n",
    "dir_dst=\"/LUSTRE/sacmod/SIPECAM/cumulo_13/entrega_27.abril.2022/RESPALDO MICRO SD AURA/NODO 3_13_1_1393/GRABADORAS/ultra/10263609/10263609/error\"\n",
    "mv \"$file\" \"$dir_dst\""
   ]
  },
  {
   "cell_type": "markdown",
   "id": "79a86e7f-9389-4e0d-90e0-9cebe7afbba1",
   "metadata": {},
   "source": [
    "**Rerunning without parallel feature**"
   ]
  },
  {
   "cell_type": "code",
   "execution_count": 9,
   "id": "ec5ecedf-9ff4-4c89-b27a-0f18f12315e6",
   "metadata": {},
   "outputs": [
    {
     "name": "stderr",
     "output_type": "stream",
     "text": [
      "Traceback (most recent call last):\n",
      "  File \"/usr/local/bin/extract_serial_numbers_dates_and_metadata_of_files_and_device\", line 8, in <module>\n",
      "    sys.exit(main())\n",
      "  File \"/usr/local/lib/python3.8/dist-packages/simex/extract_serial_numbers_dates_and_metadata_of_files_and_device.py\", line 254, in main\n",
      "    extract_metadata_of_files(input_directory,\n",
      "  File \"/usr/local/lib/python3.8/dist-packages/simex/extract_serial_numbers_dates_and_metadata_of_files_and_device.py\", line 168, in extract_metadata_of_files\n",
      "    tuple_date, tuple_metadata_of_file = extract_metadata(filename)\n",
      "  File \"/usr/local/lib/python3.8/dist-packages/simex/extract_serial_numbers_dates_and_metadata_of_files_and_device.py\", line 27, in extract_metadata\n",
      "    date_of_file = read_metadata_audio.extract_date(filename)\n",
      "  File \"/usr/local/lib/python3.8/dist-packages/simex/read_metadata_audio.py\", line 147, in extract_date\n",
      "    return get_date(comment_metadata)#example: 2021-07-28\n",
      "  File \"/usr/local/lib/python3.8/dist-packages/simex/read_metadata_audio.py\", line 91, in get_date\n",
      "    match_date = ONLY_DATE_REGEX.search(comment)\n",
      "TypeError: expected string or bytes-like object\n"
     ]
    },
    {
     "ename": "CalledProcessError",
     "evalue": "Command 'b'dir_to_be_processed=\"/LUSTRE/sacmod/SIPECAM/cumulo_13/entrega_27.abril.2022/RESPALDO MICRO SD AURA/NODO 3_13_1_1393/GRABADORAS/ultra/10263609/10263609/\"\\nextract_serial_numbers_dates_and_metadata_of_files_and_device --input_dir \"$dir_to_be_processed\"\\n'' returned non-zero exit status 1.",
     "output_type": "error",
     "traceback": [
      "\u001b[0;31m---------------------------------------------------------------------------\u001b[0m",
      "\u001b[0;31mCalledProcessError\u001b[0m                        Traceback (most recent call last)",
      "Input \u001b[0;32mIn [9]\u001b[0m, in \u001b[0;36m<cell line: 1>\u001b[0;34m()\u001b[0m\n\u001b[0;32m----> 1\u001b[0m \u001b[43mget_ipython\u001b[49m\u001b[43m(\u001b[49m\u001b[43m)\u001b[49m\u001b[38;5;241;43m.\u001b[39;49m\u001b[43mrun_cell_magic\u001b[49m\u001b[43m(\u001b[49m\u001b[38;5;124;43m'\u001b[39;49m\u001b[38;5;124;43mbash\u001b[39;49m\u001b[38;5;124;43m'\u001b[39;49m\u001b[43m,\u001b[49m\u001b[43m \u001b[49m\u001b[38;5;124;43m'\u001b[39;49m\u001b[38;5;124;43m'\u001b[39;49m\u001b[43m,\u001b[49m\u001b[43m \u001b[49m\u001b[38;5;124;43m'\u001b[39;49m\u001b[38;5;124;43mdir_to_be_processed=\u001b[39;49m\u001b[38;5;124;43m\"\u001b[39;49m\u001b[38;5;124;43m/LUSTRE/sacmod/SIPECAM/cumulo_13/entrega_27.abril.2022/RESPALDO MICRO SD AURA/NODO 3_13_1_1393/GRABADORAS/ultra/10263609/10263609/\u001b[39;49m\u001b[38;5;124;43m\"\u001b[39;49m\u001b[38;5;130;43;01m\\n\u001b[39;49;00m\u001b[38;5;124;43mextract_serial_numbers_dates_and_metadata_of_files_and_device --input_dir \u001b[39;49m\u001b[38;5;124;43m\"\u001b[39;49m\u001b[38;5;124;43m$dir_to_be_processed\u001b[39;49m\u001b[38;5;124;43m\"\u001b[39;49m\u001b[38;5;130;43;01m\\n\u001b[39;49;00m\u001b[38;5;124;43m'\u001b[39;49m\u001b[43m)\u001b[49m\n",
      "File \u001b[0;32m/usr/local/lib/python3.8/dist-packages/IPython/core/interactiveshell.py:2358\u001b[0m, in \u001b[0;36mInteractiveShell.run_cell_magic\u001b[0;34m(self, magic_name, line, cell)\u001b[0m\n\u001b[1;32m   2356\u001b[0m \u001b[38;5;28;01mwith\u001b[39;00m \u001b[38;5;28mself\u001b[39m\u001b[38;5;241m.\u001b[39mbuiltin_trap:\n\u001b[1;32m   2357\u001b[0m     args \u001b[38;5;241m=\u001b[39m (magic_arg_s, cell)\n\u001b[0;32m-> 2358\u001b[0m     result \u001b[38;5;241m=\u001b[39m \u001b[43mfn\u001b[49m\u001b[43m(\u001b[49m\u001b[38;5;241;43m*\u001b[39;49m\u001b[43margs\u001b[49m\u001b[43m,\u001b[49m\u001b[43m \u001b[49m\u001b[38;5;241;43m*\u001b[39;49m\u001b[38;5;241;43m*\u001b[39;49m\u001b[43mkwargs\u001b[49m\u001b[43m)\u001b[49m\n\u001b[1;32m   2359\u001b[0m \u001b[38;5;28;01mreturn\u001b[39;00m result\n",
      "File \u001b[0;32m/usr/local/lib/python3.8/dist-packages/IPython/core/magics/script.py:153\u001b[0m, in \u001b[0;36mScriptMagics._make_script_magic.<locals>.named_script_magic\u001b[0;34m(line, cell)\u001b[0m\n\u001b[1;32m    151\u001b[0m \u001b[38;5;28;01melse\u001b[39;00m:\n\u001b[1;32m    152\u001b[0m     line \u001b[38;5;241m=\u001b[39m script\n\u001b[0;32m--> 153\u001b[0m \u001b[38;5;28;01mreturn\u001b[39;00m \u001b[38;5;28;43mself\u001b[39;49m\u001b[38;5;241;43m.\u001b[39;49m\u001b[43mshebang\u001b[49m\u001b[43m(\u001b[49m\u001b[43mline\u001b[49m\u001b[43m,\u001b[49m\u001b[43m \u001b[49m\u001b[43mcell\u001b[49m\u001b[43m)\u001b[49m\n",
      "File \u001b[0;32m/usr/local/lib/python3.8/dist-packages/IPython/core/magics/script.py:305\u001b[0m, in \u001b[0;36mScriptMagics.shebang\u001b[0;34m(self, line, cell)\u001b[0m\n\u001b[1;32m    300\u001b[0m \u001b[38;5;28;01mif\u001b[39;00m args\u001b[38;5;241m.\u001b[39mraise_error \u001b[38;5;129;01mand\u001b[39;00m p\u001b[38;5;241m.\u001b[39mreturncode \u001b[38;5;241m!=\u001b[39m \u001b[38;5;241m0\u001b[39m:\n\u001b[1;32m    301\u001b[0m     \u001b[38;5;66;03m# If we get here and p.returncode is still None, we must have\u001b[39;00m\n\u001b[1;32m    302\u001b[0m     \u001b[38;5;66;03m# killed it but not yet seen its return code. We don't wait for it,\u001b[39;00m\n\u001b[1;32m    303\u001b[0m     \u001b[38;5;66;03m# in case it's stuck in uninterruptible sleep. -9 = SIGKILL\u001b[39;00m\n\u001b[1;32m    304\u001b[0m     rc \u001b[38;5;241m=\u001b[39m p\u001b[38;5;241m.\u001b[39mreturncode \u001b[38;5;129;01mor\u001b[39;00m \u001b[38;5;241m-\u001b[39m\u001b[38;5;241m9\u001b[39m\n\u001b[0;32m--> 305\u001b[0m     \u001b[38;5;28;01mraise\u001b[39;00m CalledProcessError(rc, cell)\n",
      "\u001b[0;31mCalledProcessError\u001b[0m: Command 'b'dir_to_be_processed=\"/LUSTRE/sacmod/SIPECAM/cumulo_13/entrega_27.abril.2022/RESPALDO MICRO SD AURA/NODO 3_13_1_1393/GRABADORAS/ultra/10263609/10263609/\"\\nextract_serial_numbers_dates_and_metadata_of_files_and_device --input_dir \"$dir_to_be_processed\"\\n'' returned non-zero exit status 1."
     ]
    }
   ],
   "source": [
    "%%bash\n",
    "dir_to_be_processed=\"/LUSTRE/sacmod/SIPECAM/cumulo_13/entrega_27.abril.2022/RESPALDO MICRO SD AURA/NODO 3_13_1_1393/GRABADORAS/ultra/10263609/10263609/\"\n",
    "extract_serial_numbers_dates_and_metadata_of_files_and_device --input_dir \"$dir_to_be_processed\""
   ]
  },
  {
   "cell_type": "markdown",
   "id": "c9a6ff2d-7319-4805-84fc-90ea9c697cea",
   "metadata": {},
   "source": [
    "**Problematic file:**\n",
    "\n",
    "`/LUSTRE/sacmod/SIPECAM/cumulo_13/entrega_27.abril.2022/RESPALDO MICRO SD AURA/NODO 3_13_1_1393/GRABADORAS/ultra/10263609/10263609/20210924_053000.WAV`"
   ]
  },
  {
   "cell_type": "code",
   "execution_count": 10,
   "id": "98a58d78-4b9a-49f8-94ba-ab6d23dd48f6",
   "metadata": {},
   "outputs": [
    {
     "name": "stdout",
     "output_type": "stream",
     "text": [
      "[{\n",
      "  \"SourceFile\": \"/LUSTRE/sacmod/SIPECAM/cumulo_13/entrega_27.abril.2022/RESPALDO MICRO SD AURA/NODO 3_13_1_1393/GRABADORAS/ultra/10263609/10263609/20210924_053000.WAV\",\n",
      "  \"ExifToolVersion\": 12.41,\n",
      "  \"FileName\": \"20210924_053000.WAV\",\n",
      "  \"Directory\": \"/LUSTRE/sacmod/SIPECAM/cumulo_13/entrega_27.abril.2022/RESPALDO MICRO SD AURA/NODO 3_13_1_1393/GRABADORAS/ultra/10263609/10263609\",\n",
      "  \"FileSize\": \"5.5 MiB\",\n",
      "  \"FileModifyDate\": \"2021:09:24 06:31:00-05:00\",\n",
      "  \"FileAccessDate\": \"2022:06:05 04:44:51-05:00\",\n",
      "  \"FileInodeChangeDate\": \"2022:04:27 17:28:23-05:00\",\n",
      "  \"FilePermissions\": \"-rwxrwxrwx\",\n",
      "  \"Error\": \"File format error\"\n",
      "}]\n"
     ]
    },
    {
     "ename": "CalledProcessError",
     "evalue": "Command 'b'file=\"/LUSTRE/sacmod/SIPECAM/cumulo_13/entrega_27.abril.2022/RESPALDO MICRO SD AURA/NODO 3_13_1_1393/GRABADORAS/ultra/10263609/10263609/20210924_053000.WAV\"\\nexiftool -a -j \"$file\"\\n'' returned non-zero exit status 1.",
     "output_type": "error",
     "traceback": [
      "\u001b[0;31m---------------------------------------------------------------------------\u001b[0m",
      "\u001b[0;31mCalledProcessError\u001b[0m                        Traceback (most recent call last)",
      "Input \u001b[0;32mIn [10]\u001b[0m, in \u001b[0;36m<cell line: 1>\u001b[0;34m()\u001b[0m\n\u001b[0;32m----> 1\u001b[0m \u001b[43mget_ipython\u001b[49m\u001b[43m(\u001b[49m\u001b[43m)\u001b[49m\u001b[38;5;241;43m.\u001b[39;49m\u001b[43mrun_cell_magic\u001b[49m\u001b[43m(\u001b[49m\u001b[38;5;124;43m'\u001b[39;49m\u001b[38;5;124;43mbash\u001b[39;49m\u001b[38;5;124;43m'\u001b[39;49m\u001b[43m,\u001b[49m\u001b[43m \u001b[49m\u001b[38;5;124;43m'\u001b[39;49m\u001b[38;5;124;43m'\u001b[39;49m\u001b[43m,\u001b[49m\u001b[43m \u001b[49m\u001b[38;5;124;43m'\u001b[39;49m\u001b[38;5;124;43mfile=\u001b[39;49m\u001b[38;5;124;43m\"\u001b[39;49m\u001b[38;5;124;43m/LUSTRE/sacmod/SIPECAM/cumulo_13/entrega_27.abril.2022/RESPALDO MICRO SD AURA/NODO 3_13_1_1393/GRABADORAS/ultra/10263609/10263609/20210924_053000.WAV\u001b[39;49m\u001b[38;5;124;43m\"\u001b[39;49m\u001b[38;5;130;43;01m\\n\u001b[39;49;00m\u001b[38;5;124;43mexiftool -a -j \u001b[39;49m\u001b[38;5;124;43m\"\u001b[39;49m\u001b[38;5;124;43m$file\u001b[39;49m\u001b[38;5;124;43m\"\u001b[39;49m\u001b[38;5;130;43;01m\\n\u001b[39;49;00m\u001b[38;5;124;43m'\u001b[39;49m\u001b[43m)\u001b[49m\n",
      "File \u001b[0;32m/usr/local/lib/python3.8/dist-packages/IPython/core/interactiveshell.py:2358\u001b[0m, in \u001b[0;36mInteractiveShell.run_cell_magic\u001b[0;34m(self, magic_name, line, cell)\u001b[0m\n\u001b[1;32m   2356\u001b[0m \u001b[38;5;28;01mwith\u001b[39;00m \u001b[38;5;28mself\u001b[39m\u001b[38;5;241m.\u001b[39mbuiltin_trap:\n\u001b[1;32m   2357\u001b[0m     args \u001b[38;5;241m=\u001b[39m (magic_arg_s, cell)\n\u001b[0;32m-> 2358\u001b[0m     result \u001b[38;5;241m=\u001b[39m \u001b[43mfn\u001b[49m\u001b[43m(\u001b[49m\u001b[38;5;241;43m*\u001b[39;49m\u001b[43margs\u001b[49m\u001b[43m,\u001b[49m\u001b[43m \u001b[49m\u001b[38;5;241;43m*\u001b[39;49m\u001b[38;5;241;43m*\u001b[39;49m\u001b[43mkwargs\u001b[49m\u001b[43m)\u001b[49m\n\u001b[1;32m   2359\u001b[0m \u001b[38;5;28;01mreturn\u001b[39;00m result\n",
      "File \u001b[0;32m/usr/local/lib/python3.8/dist-packages/IPython/core/magics/script.py:153\u001b[0m, in \u001b[0;36mScriptMagics._make_script_magic.<locals>.named_script_magic\u001b[0;34m(line, cell)\u001b[0m\n\u001b[1;32m    151\u001b[0m \u001b[38;5;28;01melse\u001b[39;00m:\n\u001b[1;32m    152\u001b[0m     line \u001b[38;5;241m=\u001b[39m script\n\u001b[0;32m--> 153\u001b[0m \u001b[38;5;28;01mreturn\u001b[39;00m \u001b[38;5;28;43mself\u001b[39;49m\u001b[38;5;241;43m.\u001b[39;49m\u001b[43mshebang\u001b[49m\u001b[43m(\u001b[49m\u001b[43mline\u001b[49m\u001b[43m,\u001b[49m\u001b[43m \u001b[49m\u001b[43mcell\u001b[49m\u001b[43m)\u001b[49m\n",
      "File \u001b[0;32m/usr/local/lib/python3.8/dist-packages/IPython/core/magics/script.py:305\u001b[0m, in \u001b[0;36mScriptMagics.shebang\u001b[0;34m(self, line, cell)\u001b[0m\n\u001b[1;32m    300\u001b[0m \u001b[38;5;28;01mif\u001b[39;00m args\u001b[38;5;241m.\u001b[39mraise_error \u001b[38;5;129;01mand\u001b[39;00m p\u001b[38;5;241m.\u001b[39mreturncode \u001b[38;5;241m!=\u001b[39m \u001b[38;5;241m0\u001b[39m:\n\u001b[1;32m    301\u001b[0m     \u001b[38;5;66;03m# If we get here and p.returncode is still None, we must have\u001b[39;00m\n\u001b[1;32m    302\u001b[0m     \u001b[38;5;66;03m# killed it but not yet seen its return code. We don't wait for it,\u001b[39;00m\n\u001b[1;32m    303\u001b[0m     \u001b[38;5;66;03m# in case it's stuck in uninterruptible sleep. -9 = SIGKILL\u001b[39;00m\n\u001b[1;32m    304\u001b[0m     rc \u001b[38;5;241m=\u001b[39m p\u001b[38;5;241m.\u001b[39mreturncode \u001b[38;5;129;01mor\u001b[39;00m \u001b[38;5;241m-\u001b[39m\u001b[38;5;241m9\u001b[39m\n\u001b[0;32m--> 305\u001b[0m     \u001b[38;5;28;01mraise\u001b[39;00m CalledProcessError(rc, cell)\n",
      "\u001b[0;31mCalledProcessError\u001b[0m: Command 'b'file=\"/LUSTRE/sacmod/SIPECAM/cumulo_13/entrega_27.abril.2022/RESPALDO MICRO SD AURA/NODO 3_13_1_1393/GRABADORAS/ultra/10263609/10263609/20210924_053000.WAV\"\\nexiftool -a -j \"$file\"\\n'' returned non-zero exit status 1."
     ]
    }
   ],
   "source": [
    "%%bash\n",
    "file=\"/LUSTRE/sacmod/SIPECAM/cumulo_13/entrega_27.abril.2022/RESPALDO MICRO SD AURA/NODO 3_13_1_1393/GRABADORAS/ultra/10263609/10263609/20210924_053000.WAV\"\n",
    "exiftool -a -j \"$file\""
   ]
  },
  {
   "cell_type": "markdown",
   "id": "e748f43b-80c2-46fd-9751-150d276edaff",
   "metadata": {},
   "source": [
    "**Moving file to dir** `/LUSTRE/sacmod/SIPECAM/cumulo_13/entrega_27.abril.2022/RESPALDO MICRO SD AURA/NODO 3_13_1_1393/GRABADORAS/ultra/10263609/10263609/error`"
   ]
  },
  {
   "cell_type": "code",
   "execution_count": 11,
   "id": "e3c36dfa-86ac-46a8-9150-22bc84f0bb22",
   "metadata": {},
   "outputs": [],
   "source": [
    "%%bash\n",
    "file=\"/LUSTRE/sacmod/SIPECAM/cumulo_13/entrega_27.abril.2022/RESPALDO MICRO SD AURA/NODO 3_13_1_1393/GRABADORAS/ultra/10263609/10263609/20210924_053000.WAV\"\n",
    "dir_dst=\"/LUSTRE/sacmod/SIPECAM/cumulo_13/entrega_27.abril.2022/RESPALDO MICRO SD AURA/NODO 3_13_1_1393/GRABADORAS/ultra/10263609/10263609/error\"\n",
    "mv \"$file\" \"$dir_dst\""
   ]
  },
  {
   "cell_type": "markdown",
   "id": "7cb88011-ad7d-4a31-96f8-3f49a1aca7c5",
   "metadata": {},
   "source": [
    "**Rerunning without parallel feature**"
   ]
  },
  {
   "cell_type": "code",
   "execution_count": 13,
   "id": "acf2b870-5e11-48c4-9ba2-9cc983138015",
   "metadata": {},
   "outputs": [
    {
     "name": "stderr",
     "output_type": "stream",
     "text": [
      "Traceback (most recent call last):\n",
      "  File \"/usr/local/bin/extract_serial_numbers_dates_and_metadata_of_files_and_device\", line 8, in <module>\n",
      "    sys.exit(main())\n",
      "  File \"/usr/local/lib/python3.8/dist-packages/simex/extract_serial_numbers_dates_and_metadata_of_files_and_device.py\", line 254, in main\n",
      "    extract_metadata_of_files(input_directory,\n",
      "  File \"/usr/local/lib/python3.8/dist-packages/simex/extract_serial_numbers_dates_and_metadata_of_files_and_device.py\", line 168, in extract_metadata_of_files\n",
      "    tuple_date, tuple_metadata_of_file = extract_metadata(filename)\n",
      "  File \"/usr/local/lib/python3.8/dist-packages/simex/extract_serial_numbers_dates_and_metadata_of_files_and_device.py\", line 27, in extract_metadata\n",
      "    date_of_file = read_metadata_audio.extract_date(filename)\n",
      "  File \"/usr/local/lib/python3.8/dist-packages/simex/read_metadata_audio.py\", line 147, in extract_date\n",
      "    return get_date(comment_metadata)#example: 2021-07-28\n",
      "  File \"/usr/local/lib/python3.8/dist-packages/simex/read_metadata_audio.py\", line 91, in get_date\n",
      "    match_date = ONLY_DATE_REGEX.search(comment)\n",
      "TypeError: expected string or bytes-like object\n"
     ]
    },
    {
     "ename": "CalledProcessError",
     "evalue": "Command 'b'dir_to_be_processed=\"/LUSTRE/sacmod/SIPECAM/cumulo_13/entrega_27.abril.2022/RESPALDO MICRO SD AURA/NODO 3_13_1_1393/GRABADORAS/ultra/10263609/10263609/\"\\nextract_serial_numbers_dates_and_metadata_of_files_and_device --input_dir \"$dir_to_be_processed\"\\n'' returned non-zero exit status 1.",
     "output_type": "error",
     "traceback": [
      "\u001b[0;31m---------------------------------------------------------------------------\u001b[0m",
      "\u001b[0;31mCalledProcessError\u001b[0m                        Traceback (most recent call last)",
      "Input \u001b[0;32mIn [13]\u001b[0m, in \u001b[0;36m<cell line: 1>\u001b[0;34m()\u001b[0m\n\u001b[0;32m----> 1\u001b[0m \u001b[43mget_ipython\u001b[49m\u001b[43m(\u001b[49m\u001b[43m)\u001b[49m\u001b[38;5;241;43m.\u001b[39;49m\u001b[43mrun_cell_magic\u001b[49m\u001b[43m(\u001b[49m\u001b[38;5;124;43m'\u001b[39;49m\u001b[38;5;124;43mbash\u001b[39;49m\u001b[38;5;124;43m'\u001b[39;49m\u001b[43m,\u001b[49m\u001b[43m \u001b[49m\u001b[38;5;124;43m'\u001b[39;49m\u001b[38;5;124;43m'\u001b[39;49m\u001b[43m,\u001b[49m\u001b[43m \u001b[49m\u001b[38;5;124;43m'\u001b[39;49m\u001b[38;5;124;43mdir_to_be_processed=\u001b[39;49m\u001b[38;5;124;43m\"\u001b[39;49m\u001b[38;5;124;43m/LUSTRE/sacmod/SIPECAM/cumulo_13/entrega_27.abril.2022/RESPALDO MICRO SD AURA/NODO 3_13_1_1393/GRABADORAS/ultra/10263609/10263609/\u001b[39;49m\u001b[38;5;124;43m\"\u001b[39;49m\u001b[38;5;130;43;01m\\n\u001b[39;49;00m\u001b[38;5;124;43mextract_serial_numbers_dates_and_metadata_of_files_and_device --input_dir \u001b[39;49m\u001b[38;5;124;43m\"\u001b[39;49m\u001b[38;5;124;43m$dir_to_be_processed\u001b[39;49m\u001b[38;5;124;43m\"\u001b[39;49m\u001b[38;5;130;43;01m\\n\u001b[39;49;00m\u001b[38;5;124;43m'\u001b[39;49m\u001b[43m)\u001b[49m\n",
      "File \u001b[0;32m/usr/local/lib/python3.8/dist-packages/IPython/core/interactiveshell.py:2358\u001b[0m, in \u001b[0;36mInteractiveShell.run_cell_magic\u001b[0;34m(self, magic_name, line, cell)\u001b[0m\n\u001b[1;32m   2356\u001b[0m \u001b[38;5;28;01mwith\u001b[39;00m \u001b[38;5;28mself\u001b[39m\u001b[38;5;241m.\u001b[39mbuiltin_trap:\n\u001b[1;32m   2357\u001b[0m     args \u001b[38;5;241m=\u001b[39m (magic_arg_s, cell)\n\u001b[0;32m-> 2358\u001b[0m     result \u001b[38;5;241m=\u001b[39m \u001b[43mfn\u001b[49m\u001b[43m(\u001b[49m\u001b[38;5;241;43m*\u001b[39;49m\u001b[43margs\u001b[49m\u001b[43m,\u001b[49m\u001b[43m \u001b[49m\u001b[38;5;241;43m*\u001b[39;49m\u001b[38;5;241;43m*\u001b[39;49m\u001b[43mkwargs\u001b[49m\u001b[43m)\u001b[49m\n\u001b[1;32m   2359\u001b[0m \u001b[38;5;28;01mreturn\u001b[39;00m result\n",
      "File \u001b[0;32m/usr/local/lib/python3.8/dist-packages/IPython/core/magics/script.py:153\u001b[0m, in \u001b[0;36mScriptMagics._make_script_magic.<locals>.named_script_magic\u001b[0;34m(line, cell)\u001b[0m\n\u001b[1;32m    151\u001b[0m \u001b[38;5;28;01melse\u001b[39;00m:\n\u001b[1;32m    152\u001b[0m     line \u001b[38;5;241m=\u001b[39m script\n\u001b[0;32m--> 153\u001b[0m \u001b[38;5;28;01mreturn\u001b[39;00m \u001b[38;5;28;43mself\u001b[39;49m\u001b[38;5;241;43m.\u001b[39;49m\u001b[43mshebang\u001b[49m\u001b[43m(\u001b[49m\u001b[43mline\u001b[49m\u001b[43m,\u001b[49m\u001b[43m \u001b[49m\u001b[43mcell\u001b[49m\u001b[43m)\u001b[49m\n",
      "File \u001b[0;32m/usr/local/lib/python3.8/dist-packages/IPython/core/magics/script.py:305\u001b[0m, in \u001b[0;36mScriptMagics.shebang\u001b[0;34m(self, line, cell)\u001b[0m\n\u001b[1;32m    300\u001b[0m \u001b[38;5;28;01mif\u001b[39;00m args\u001b[38;5;241m.\u001b[39mraise_error \u001b[38;5;129;01mand\u001b[39;00m p\u001b[38;5;241m.\u001b[39mreturncode \u001b[38;5;241m!=\u001b[39m \u001b[38;5;241m0\u001b[39m:\n\u001b[1;32m    301\u001b[0m     \u001b[38;5;66;03m# If we get here and p.returncode is still None, we must have\u001b[39;00m\n\u001b[1;32m    302\u001b[0m     \u001b[38;5;66;03m# killed it but not yet seen its return code. We don't wait for it,\u001b[39;00m\n\u001b[1;32m    303\u001b[0m     \u001b[38;5;66;03m# in case it's stuck in uninterruptible sleep. -9 = SIGKILL\u001b[39;00m\n\u001b[1;32m    304\u001b[0m     rc \u001b[38;5;241m=\u001b[39m p\u001b[38;5;241m.\u001b[39mreturncode \u001b[38;5;129;01mor\u001b[39;00m \u001b[38;5;241m-\u001b[39m\u001b[38;5;241m9\u001b[39m\n\u001b[0;32m--> 305\u001b[0m     \u001b[38;5;28;01mraise\u001b[39;00m CalledProcessError(rc, cell)\n",
      "\u001b[0;31mCalledProcessError\u001b[0m: Command 'b'dir_to_be_processed=\"/LUSTRE/sacmod/SIPECAM/cumulo_13/entrega_27.abril.2022/RESPALDO MICRO SD AURA/NODO 3_13_1_1393/GRABADORAS/ultra/10263609/10263609/\"\\nextract_serial_numbers_dates_and_metadata_of_files_and_device --input_dir \"$dir_to_be_processed\"\\n'' returned non-zero exit status 1."
     ]
    }
   ],
   "source": [
    "%%bash\n",
    "dir_to_be_processed=\"/LUSTRE/sacmod/SIPECAM/cumulo_13/entrega_27.abril.2022/RESPALDO MICRO SD AURA/NODO 3_13_1_1393/GRABADORAS/ultra/10263609/10263609/\"\n",
    "extract_serial_numbers_dates_and_metadata_of_files_and_device --input_dir \"$dir_to_be_processed\""
   ]
  },
  {
   "cell_type": "markdown",
   "id": "e1fd7b9c-d90f-41c4-be11-eeddbef80d76",
   "metadata": {},
   "source": [
    "**Problematic file:**\n",
    "\n",
    "`/LUSTRE/sacmod/SIPECAM/cumulo_13/entrega_27.abril.2022/RESPALDO MICRO SD AURA/NODO 3_13_1_1393/GRABADORAS/ultra/10263609/10263609/20210924_061000.WAV`"
   ]
  },
  {
   "cell_type": "code",
   "execution_count": 14,
   "id": "ddc5f7a6-efd3-4f86-b6b0-a41447fe2d22",
   "metadata": {},
   "outputs": [
    {
     "name": "stdout",
     "output_type": "stream",
     "text": [
      "[{\n",
      "  \"SourceFile\": \"/LUSTRE/sacmod/SIPECAM/cumulo_13/entrega_27.abril.2022/RESPALDO MICRO SD AURA/NODO 3_13_1_1393/GRABADORAS/ultra/10263609/10263609/20210924_061000.WAV\",\n",
      "  \"ExifToolVersion\": 12.41,\n",
      "  \"FileName\": \"20210924_061000.WAV\",\n",
      "  \"Directory\": \"/LUSTRE/sacmod/SIPECAM/cumulo_13/entrega_27.abril.2022/RESPALDO MICRO SD AURA/NODO 3_13_1_1393/GRABADORAS/ultra/10263609/10263609\",\n",
      "  \"FileSize\": \"5.5 MiB\",\n",
      "  \"FileModifyDate\": \"2021:09:24 07:11:00-05:00\",\n",
      "  \"FileAccessDate\": \"2022:06:05 04:55:53-05:00\",\n",
      "  \"FileInodeChangeDate\": \"2022:04:27 17:28:23-05:00\",\n",
      "  \"FilePermissions\": \"-rwxrwxrwx\",\n",
      "  \"Error\": \"File format error\"\n",
      "}]\n"
     ]
    },
    {
     "ename": "CalledProcessError",
     "evalue": "Command 'b'file=\"/LUSTRE/sacmod/SIPECAM/cumulo_13/entrega_27.abril.2022/RESPALDO MICRO SD AURA/NODO 3_13_1_1393/GRABADORAS/ultra/10263609/10263609/20210924_061000.WAV\"\\nexiftool -a -j \"$file\"\\n'' returned non-zero exit status 1.",
     "output_type": "error",
     "traceback": [
      "\u001b[0;31m---------------------------------------------------------------------------\u001b[0m",
      "\u001b[0;31mCalledProcessError\u001b[0m                        Traceback (most recent call last)",
      "Input \u001b[0;32mIn [14]\u001b[0m, in \u001b[0;36m<cell line: 1>\u001b[0;34m()\u001b[0m\n\u001b[0;32m----> 1\u001b[0m \u001b[43mget_ipython\u001b[49m\u001b[43m(\u001b[49m\u001b[43m)\u001b[49m\u001b[38;5;241;43m.\u001b[39;49m\u001b[43mrun_cell_magic\u001b[49m\u001b[43m(\u001b[49m\u001b[38;5;124;43m'\u001b[39;49m\u001b[38;5;124;43mbash\u001b[39;49m\u001b[38;5;124;43m'\u001b[39;49m\u001b[43m,\u001b[49m\u001b[43m \u001b[49m\u001b[38;5;124;43m'\u001b[39;49m\u001b[38;5;124;43m'\u001b[39;49m\u001b[43m,\u001b[49m\u001b[43m \u001b[49m\u001b[38;5;124;43m'\u001b[39;49m\u001b[38;5;124;43mfile=\u001b[39;49m\u001b[38;5;124;43m\"\u001b[39;49m\u001b[38;5;124;43m/LUSTRE/sacmod/SIPECAM/cumulo_13/entrega_27.abril.2022/RESPALDO MICRO SD AURA/NODO 3_13_1_1393/GRABADORAS/ultra/10263609/10263609/20210924_061000.WAV\u001b[39;49m\u001b[38;5;124;43m\"\u001b[39;49m\u001b[38;5;130;43;01m\\n\u001b[39;49;00m\u001b[38;5;124;43mexiftool -a -j \u001b[39;49m\u001b[38;5;124;43m\"\u001b[39;49m\u001b[38;5;124;43m$file\u001b[39;49m\u001b[38;5;124;43m\"\u001b[39;49m\u001b[38;5;130;43;01m\\n\u001b[39;49;00m\u001b[38;5;124;43m'\u001b[39;49m\u001b[43m)\u001b[49m\n",
      "File \u001b[0;32m/usr/local/lib/python3.8/dist-packages/IPython/core/interactiveshell.py:2358\u001b[0m, in \u001b[0;36mInteractiveShell.run_cell_magic\u001b[0;34m(self, magic_name, line, cell)\u001b[0m\n\u001b[1;32m   2356\u001b[0m \u001b[38;5;28;01mwith\u001b[39;00m \u001b[38;5;28mself\u001b[39m\u001b[38;5;241m.\u001b[39mbuiltin_trap:\n\u001b[1;32m   2357\u001b[0m     args \u001b[38;5;241m=\u001b[39m (magic_arg_s, cell)\n\u001b[0;32m-> 2358\u001b[0m     result \u001b[38;5;241m=\u001b[39m \u001b[43mfn\u001b[49m\u001b[43m(\u001b[49m\u001b[38;5;241;43m*\u001b[39;49m\u001b[43margs\u001b[49m\u001b[43m,\u001b[49m\u001b[43m \u001b[49m\u001b[38;5;241;43m*\u001b[39;49m\u001b[38;5;241;43m*\u001b[39;49m\u001b[43mkwargs\u001b[49m\u001b[43m)\u001b[49m\n\u001b[1;32m   2359\u001b[0m \u001b[38;5;28;01mreturn\u001b[39;00m result\n",
      "File \u001b[0;32m/usr/local/lib/python3.8/dist-packages/IPython/core/magics/script.py:153\u001b[0m, in \u001b[0;36mScriptMagics._make_script_magic.<locals>.named_script_magic\u001b[0;34m(line, cell)\u001b[0m\n\u001b[1;32m    151\u001b[0m \u001b[38;5;28;01melse\u001b[39;00m:\n\u001b[1;32m    152\u001b[0m     line \u001b[38;5;241m=\u001b[39m script\n\u001b[0;32m--> 153\u001b[0m \u001b[38;5;28;01mreturn\u001b[39;00m \u001b[38;5;28;43mself\u001b[39;49m\u001b[38;5;241;43m.\u001b[39;49m\u001b[43mshebang\u001b[49m\u001b[43m(\u001b[49m\u001b[43mline\u001b[49m\u001b[43m,\u001b[49m\u001b[43m \u001b[49m\u001b[43mcell\u001b[49m\u001b[43m)\u001b[49m\n",
      "File \u001b[0;32m/usr/local/lib/python3.8/dist-packages/IPython/core/magics/script.py:305\u001b[0m, in \u001b[0;36mScriptMagics.shebang\u001b[0;34m(self, line, cell)\u001b[0m\n\u001b[1;32m    300\u001b[0m \u001b[38;5;28;01mif\u001b[39;00m args\u001b[38;5;241m.\u001b[39mraise_error \u001b[38;5;129;01mand\u001b[39;00m p\u001b[38;5;241m.\u001b[39mreturncode \u001b[38;5;241m!=\u001b[39m \u001b[38;5;241m0\u001b[39m:\n\u001b[1;32m    301\u001b[0m     \u001b[38;5;66;03m# If we get here and p.returncode is still None, we must have\u001b[39;00m\n\u001b[1;32m    302\u001b[0m     \u001b[38;5;66;03m# killed it but not yet seen its return code. We don't wait for it,\u001b[39;00m\n\u001b[1;32m    303\u001b[0m     \u001b[38;5;66;03m# in case it's stuck in uninterruptible sleep. -9 = SIGKILL\u001b[39;00m\n\u001b[1;32m    304\u001b[0m     rc \u001b[38;5;241m=\u001b[39m p\u001b[38;5;241m.\u001b[39mreturncode \u001b[38;5;129;01mor\u001b[39;00m \u001b[38;5;241m-\u001b[39m\u001b[38;5;241m9\u001b[39m\n\u001b[0;32m--> 305\u001b[0m     \u001b[38;5;28;01mraise\u001b[39;00m CalledProcessError(rc, cell)\n",
      "\u001b[0;31mCalledProcessError\u001b[0m: Command 'b'file=\"/LUSTRE/sacmod/SIPECAM/cumulo_13/entrega_27.abril.2022/RESPALDO MICRO SD AURA/NODO 3_13_1_1393/GRABADORAS/ultra/10263609/10263609/20210924_061000.WAV\"\\nexiftool -a -j \"$file\"\\n'' returned non-zero exit status 1."
     ]
    }
   ],
   "source": [
    "%%bash\n",
    "file=\"/LUSTRE/sacmod/SIPECAM/cumulo_13/entrega_27.abril.2022/RESPALDO MICRO SD AURA/NODO 3_13_1_1393/GRABADORAS/ultra/10263609/10263609/20210924_061000.WAV\"\n",
    "exiftool -a -j \"$file\""
   ]
  },
  {
   "cell_type": "markdown",
   "id": "ce8b79b3-29aa-42b7-87d0-7034ea135c1b",
   "metadata": {},
   "source": [
    "### As there are three files with the same problem this would be added into `check` of `simex` of `audio` cli files"
   ]
  },
  {
   "cell_type": "code",
   "execution_count": 17,
   "id": "335999aa-93d2-4e2c-8dde-39afa1edd56e",
   "metadata": {},
   "outputs": [
    {
     "name": "stdout",
     "output_type": "stream",
     "text": [
      "150\n"
     ]
    }
   ],
   "source": [
    "%%bash\n",
    "dir_audios=\"/LUSTRE/sacmod/SIPECAM/cumulo_13/entrega_27.abril.2022/RESPALDO MICRO SD AURA/NODO 3_13_1_1393/GRABADORAS/ultra/10263609/10263609/error\"\n",
    "ls \"$dir_audios\"| wc -l"
   ]
  },
  {
   "cell_type": "markdown",
   "id": "ded8b1db-ff9d-49d3-bccc-73ae76eff8b9",
   "metadata": {
    "tags": []
   },
   "source": [
    "# check_if_there_are_audio_empty_files_in_dir_and_move_them"
   ]
  },
  {
   "cell_type": "code",
   "execution_count": 18,
   "id": "d2cacc07-8f7c-41bf-ac51-1fe27f813699",
   "metadata": {},
   "outputs": [
    {
     "name": "stdout",
     "output_type": "stream",
     "text": [
      "/LUSTRE/sacmod/SIPECAM/cumulo_13/entrega_27.abril.2022/SIPECAM AUDIOS/Nodo 3_13_1_1393/Ultra/10263609\n",
      "/LUSTRE/sacmod/SIPECAM/cumulo_13/entrega_27.abril.2022/SIPECAM AUDIOS/Nodo 3_13_1_1393/Grabadoras/Audible 2/10261149\n",
      "/LUSTRE/sacmod/SIPECAM/cumulo_13/entrega_27.abril.2022/SIPECAM AUDIOS/Nodo 3_13_1_1393/Audible/10262012\n",
      "/LUSTRE/sacmod/SIPECAM/cumulo_13/entrega_27.abril.2022/SIPECAM AUDIOS/Nodo 3_13_0_1399 LAS PIEDRAS/Audiomoth 1/AudioMoths.N5.T4\n",
      "/LUSTRE/sacmod/SIPECAM/cumulo_13/entrega_27.abril.2022/SIPECAM AUDIOS/Nodo 3_13_0_1399 LAS PIEDRAS/Audiomoth 1/Ultra.N5.T3\n",
      "/LUSTRE/sacmod/SIPECAM/cumulo_13/entrega_27.abril.2022/SIPECAM AUDIOS/Nodo 3_13_0_1399 LAS PIEDRAS/Audiomoth 1/AudioMoth\n",
      "/LUSTRE/sacmod/SIPECAM/cumulo_13/entrega_27.abril.2022/SIPECAM AUDIOS/Nodo 3_13_0_1399 LAS PIEDRAS/Audiomoth 3\n",
      "/LUSTRE/sacmod/SIPECAM/cumulo_13/entrega_27.abril.2022/SIPECAM AUDIOS/Nodo 3_13_0_1399 LAS PIEDRAS/Audiomoth 2/AudioMoths.N5.T4/Audio\n",
      "/LUSTRE/sacmod/SIPECAM/cumulo_13/entrega_27.abril.2022/SIPECAM AUDIOS/Nodo 3_13_0_1399 LAS PIEDRAS/Audiomoth 2/Ultra.N5.T3\n",
      "/LUSTRE/sacmod/SIPECAM/cumulo_13/entrega_27.abril.2022/SIPECAM AUDIOS/Nodo 3_13_0_1399 LAS PIEDRAS/Audiomoth 2/Ultra.N5.T3 2\n",
      "/LUSTRE/sacmod/SIPECAM/cumulo_13/entrega_27.abril.2022/SIPECAM AUDIOS/21-10-21 a 29-11-21\n",
      "/LUSTRE/sacmod/SIPECAM/cumulo_13/entrega_27.abril.2022/SIPECAM AUDIOS/Nodo 3_13_1_1392 NICTEHA 2/10262012\n",
      "/LUSTRE/sacmod/SIPECAM/cumulo_13/entrega_27.abril.2022/SIPECAM AUDIOS/Nodo 3_13_1_1392 NICTEHA 2/10262012/error\n",
      "/LUSTRE/sacmod/SIPECAM/cumulo_13/entrega_27.abril.2022/SIPECAM AUDIOS/Nodo 3_13_1_1392 NICTEHA 2/10262012\n",
      "/LUSTRE/sacmod/SIPECAM/cumulo_13/entrega_27.abril.2022/SIPECAM AUDIOS/Nodo 3_13_1_1392 NICTEHA 2/10262089\n",
      "/LUSTRE/sacmod/SIPECAM/cumulo_13/entrega_27.abril.2022/SIPECAM AUDIOS/NODO 3_13_0_1401 EL SANTUARIO/Audiomoth\n",
      "/LUSTRE/sacmod/SIPECAM/cumulo_13/entrega_27.abril.2022/SIPECAM AUDIOS/NODO 3_13_0_1401 EL SANTUARIO/10262153\n",
      "/LUSTRE/sacmod/SIPECAM/cumulo_13/entrega_27.abril.2022/SIPECAM AUDIOS/NODO 3_13_0_1401 EL SANTUARIO/10309403\n",
      "/LUSTRE/sacmod/SIPECAM/cumulo_13/entrega_27.abril.2022/SIPECAM AUDIOS/Nodo 3_13_0_1400 VILLAROSA/10262719\n",
      "/LUSTRE/sacmod/SIPECAM/cumulo_13/entrega_27.abril.2022/SIPECAM AUDIOS/Nodo 3_13_0_1400 VILLAROSA/10262153\n",
      "/LUSTRE/sacmod/SIPECAM/cumulo_13/entrega_27.abril.2022/SIPECAM AUDIOS/Nodo 3_13_0_1400 VILLAROSA/10306526\n",
      "/LUSTRE/sacmod/SIPECAM/cumulo_13/entrega_27.abril.2022/SIPECAM AUDIOS/Nodo 3_13_0_1400 VILLAROSA/10263606\n",
      "/LUSTRE/sacmod/SIPECAM/cumulo_13/entrega_27.abril.2022/SIPECAM AUDIOS/Nodo 3_13_0_1400 VILLAROSA/10262333\n",
      "/LUSTRE/sacmod/SIPECAM/cumulo_13/entrega_27.abril.2022/SIPECAM AUDIOS/Nodo 3_13_0_1400 VILLAROSA/10309403\n",
      "/LUSTRE/sacmod/SIPECAM/cumulo_13/entrega_27.abril.2022/SIPECAM AUDIOS/Nodo 3_13_1_1394 NICTEHA 1/10263609\n",
      "/LUSTRE/sacmod/SIPECAM/cumulo_13/entrega_27.abril.2022/SIPECAM AUDIOS/Nodo 3_13_1_1394 NICTEHA 1/10262012\n",
      "/LUSTRE/sacmod/SIPECAM/cumulo_13/entrega_27.abril.2022/SIPECAM AUDIOS/Nodo 3_13_1_1394 NICTEHA 1/10262223\n",
      "/LUSTRE/sacmod/SIPECAM/cumulo_13/entrega_27.abril.2022/SIPECAM AUDIOS/Nodo 3_13_1_1394 NICTEHA 1/10262089\n",
      "/LUSTRE/sacmod/SIPECAM/cumulo_13/entrega_27.abril.2022/SIPECAM AUDIOS/Nodo 3_13_1_1394 NICTEHA 1/10262039\n",
      "/LUSTRE/sacmod/SIPECAM/cumulo_13/entrega_27.abril.2022/found.000/dir0000.chk/HLPXGM 09048480\n",
      "/LUSTRE/sacmod/SIPECAM/cumulo_13/entrega_27.abril.2022/RESPALDO MICRO SD AURA/NODO 3_13_1_1393/2/Grabadoras/Audible/10261149\n",
      "/LUSTRE/sacmod/SIPECAM/cumulo_13/entrega_27.abril.2022/RESPALDO MICRO SD AURA/NODO 3_13_1_1393/GRABADORAS/ultra/10263609\n",
      "/LUSTRE/sacmod/SIPECAM/cumulo_13/entrega_27.abril.2022/RESPALDO MICRO SD AURA/NODO 3_13_1_1393/GRABADORAS/ultra/10263609/10263609\n",
      "/LUSTRE/sacmod/SIPECAM/cumulo_13/entrega_27.abril.2022/RESPALDO MICRO SD AURA/NODO 3_13_1_1393/GRABADORAS/ultra/10263609\n",
      "/LUSTRE/sacmod/SIPECAM/cumulo_13/entrega_27.abril.2022/RESPALDO MICRO SD AURA/NODO 3_13_1_1393/GRABADORAS/ultra/10262223\n",
      "/LUSTRE/sacmod/SIPECAM/cumulo_13/entrega_27.abril.2022/RESPALDO MICRO SD AURA/GRABADORAS/4\n",
      "/LUSTRE/sacmod/SIPECAM/cumulo_13/entrega_27.abril.2022/RESPALDO MICRO SD AURA/GRABADORAS/2\n",
      "/LUSTRE/sacmod/SIPECAM/cumulo_13/entrega_27.abril.2022/RESPALDO MICRO SD AURA/GRABADORAS/1\n",
      "/LUSTRE/sacmod/SIPECAM/cumulo_13/entrega_27.abril.2022/RESPALDO MICRO SD AURA/GRABADORAS/5\n",
      "/LUSTRE/sacmod/SIPECAM/cumulo_13/entrega_27.abril.2022/RESPALDO MICRO SD AURA/GRABADORAS/3\n"
     ]
    }
   ],
   "source": [
    "%%bash\n",
    "SAVEIFS=$IFS;IFS=$(echo -en \"\\n\\b\")\n",
    "for dir_to_be_processed in $(cat ~/list_dirs_with_audios.txt)\n",
    "    do echo \"$dir_to_be_processed\"\n",
    "    check_if_there_are_audio_empty_files_in_dir_and_move_them --input_directory_audio \"$dir_to_be_processed\" --number_of_processes 10\n",
    "done\n",
    "IFS=$SAVEIFS"
   ]
  },
  {
   "cell_type": "code",
   "execution_count": 19,
   "id": "9a60c91d-722b-48f3-affa-99d606d8709b",
   "metadata": {},
   "outputs": [
    {
     "name": "stdout",
     "output_type": "stream",
     "text": [
      "154\n"
     ]
    }
   ],
   "source": [
    "%%bash\n",
    "dir_audios=\"/LUSTRE/sacmod/SIPECAM/cumulo_13/entrega_27.abril.2022/RESPALDO MICRO SD AURA/NODO 3_13_1_1393/GRABADORAS/ultra/10263609/10263609/error\"\n",
    "ls \"$dir_audios\"| wc -l"
   ]
  },
  {
   "cell_type": "markdown",
   "id": "d4cc0977-e9c6-4e08-a2e0-4783cdfa3fec",
   "metadata": {},
   "source": [
    "**Rerunning without parallel feature**"
   ]
  },
  {
   "cell_type": "code",
   "execution_count": 21,
   "id": "6885ceda-ebf1-4c83-9d9f-7373868d67e9",
   "metadata": {},
   "outputs": [
    {
     "name": "stderr",
     "output_type": "stream",
     "text": [
      "Traceback (most recent call last):\n",
      "  File \"/usr/local/bin/extract_serial_numbers_dates_and_metadata_of_files_and_device\", line 11, in <module>\n",
      "    load_entry_point('simex', 'console_scripts', 'extract_serial_numbers_dates_and_metadata_of_files_and_device')()\n",
      "  File \"/LUSTRE/sacmod/SIPECAM/sipecam-metadata-extractor/src/simex/extract_serial_numbers_dates_and_metadata_of_files_and_device.py\", line 254, in main\n",
      "    extract_metadata_of_files(input_directory,\n",
      "  File \"/LUSTRE/sacmod/SIPECAM/sipecam-metadata-extractor/src/simex/extract_serial_numbers_dates_and_metadata_of_files_and_device.py\", line 168, in extract_metadata_of_files\n",
      "    tuple_date, tuple_metadata_of_file = extract_metadata(filename)\n",
      "  File \"/LUSTRE/sacmod/SIPECAM/sipecam-metadata-extractor/src/simex/extract_serial_numbers_dates_and_metadata_of_files_and_device.py\", line 27, in extract_metadata\n",
      "    date_of_file = read_metadata_audio.extract_date(filename)\n",
      "  File \"/LUSTRE/sacmod/SIPECAM/sipecam-metadata-extractor/src/simex/read_metadata_audio.py\", line 147, in extract_date\n",
      "    return get_date(comment_metadata)#example: 2021-07-28\n",
      "  File \"/LUSTRE/sacmod/SIPECAM/sipecam-metadata-extractor/src/simex/read_metadata_audio.py\", line 91, in get_date\n",
      "    match_date = ONLY_DATE_REGEX.search(comment)\n",
      "TypeError: expected string or bytes-like object\n"
     ]
    },
    {
     "ename": "CalledProcessError",
     "evalue": "Command 'b'dir_to_be_processed=\"/LUSTRE/sacmod/SIPECAM/cumulo_13/entrega_27.abril.2022/RESPALDO MICRO SD AURA/NODO 3_13_1_1393/GRABADORAS/ultra/10263609/10263609/\"\\nextract_serial_numbers_dates_and_metadata_of_files_and_device --input_dir \"$dir_to_be_processed\"\\n'' returned non-zero exit status 1.",
     "output_type": "error",
     "traceback": [
      "\u001b[0;31m---------------------------------------------------------------------------\u001b[0m",
      "\u001b[0;31mCalledProcessError\u001b[0m                        Traceback (most recent call last)",
      "Input \u001b[0;32mIn [21]\u001b[0m, in \u001b[0;36m<cell line: 1>\u001b[0;34m()\u001b[0m\n\u001b[0;32m----> 1\u001b[0m \u001b[43mget_ipython\u001b[49m\u001b[43m(\u001b[49m\u001b[43m)\u001b[49m\u001b[38;5;241;43m.\u001b[39;49m\u001b[43mrun_cell_magic\u001b[49m\u001b[43m(\u001b[49m\u001b[38;5;124;43m'\u001b[39;49m\u001b[38;5;124;43mbash\u001b[39;49m\u001b[38;5;124;43m'\u001b[39;49m\u001b[43m,\u001b[49m\u001b[43m \u001b[49m\u001b[38;5;124;43m'\u001b[39;49m\u001b[38;5;124;43m'\u001b[39;49m\u001b[43m,\u001b[49m\u001b[43m \u001b[49m\u001b[38;5;124;43m'\u001b[39;49m\u001b[38;5;124;43mdir_to_be_processed=\u001b[39;49m\u001b[38;5;124;43m\"\u001b[39;49m\u001b[38;5;124;43m/LUSTRE/sacmod/SIPECAM/cumulo_13/entrega_27.abril.2022/RESPALDO MICRO SD AURA/NODO 3_13_1_1393/GRABADORAS/ultra/10263609/10263609/\u001b[39;49m\u001b[38;5;124;43m\"\u001b[39;49m\u001b[38;5;130;43;01m\\n\u001b[39;49;00m\u001b[38;5;124;43mextract_serial_numbers_dates_and_metadata_of_files_and_device --input_dir \u001b[39;49m\u001b[38;5;124;43m\"\u001b[39;49m\u001b[38;5;124;43m$dir_to_be_processed\u001b[39;49m\u001b[38;5;124;43m\"\u001b[39;49m\u001b[38;5;130;43;01m\\n\u001b[39;49;00m\u001b[38;5;124;43m'\u001b[39;49m\u001b[43m)\u001b[49m\n",
      "File \u001b[0;32m/usr/local/lib/python3.8/dist-packages/IPython/core/interactiveshell.py:2358\u001b[0m, in \u001b[0;36mInteractiveShell.run_cell_magic\u001b[0;34m(self, magic_name, line, cell)\u001b[0m\n\u001b[1;32m   2356\u001b[0m \u001b[38;5;28;01mwith\u001b[39;00m \u001b[38;5;28mself\u001b[39m\u001b[38;5;241m.\u001b[39mbuiltin_trap:\n\u001b[1;32m   2357\u001b[0m     args \u001b[38;5;241m=\u001b[39m (magic_arg_s, cell)\n\u001b[0;32m-> 2358\u001b[0m     result \u001b[38;5;241m=\u001b[39m \u001b[43mfn\u001b[49m\u001b[43m(\u001b[49m\u001b[38;5;241;43m*\u001b[39;49m\u001b[43margs\u001b[49m\u001b[43m,\u001b[49m\u001b[43m \u001b[49m\u001b[38;5;241;43m*\u001b[39;49m\u001b[38;5;241;43m*\u001b[39;49m\u001b[43mkwargs\u001b[49m\u001b[43m)\u001b[49m\n\u001b[1;32m   2359\u001b[0m \u001b[38;5;28;01mreturn\u001b[39;00m result\n",
      "File \u001b[0;32m/usr/local/lib/python3.8/dist-packages/IPython/core/magics/script.py:153\u001b[0m, in \u001b[0;36mScriptMagics._make_script_magic.<locals>.named_script_magic\u001b[0;34m(line, cell)\u001b[0m\n\u001b[1;32m    151\u001b[0m \u001b[38;5;28;01melse\u001b[39;00m:\n\u001b[1;32m    152\u001b[0m     line \u001b[38;5;241m=\u001b[39m script\n\u001b[0;32m--> 153\u001b[0m \u001b[38;5;28;01mreturn\u001b[39;00m \u001b[38;5;28;43mself\u001b[39;49m\u001b[38;5;241;43m.\u001b[39;49m\u001b[43mshebang\u001b[49m\u001b[43m(\u001b[49m\u001b[43mline\u001b[49m\u001b[43m,\u001b[49m\u001b[43m \u001b[49m\u001b[43mcell\u001b[49m\u001b[43m)\u001b[49m\n",
      "File \u001b[0;32m/usr/local/lib/python3.8/dist-packages/IPython/core/magics/script.py:305\u001b[0m, in \u001b[0;36mScriptMagics.shebang\u001b[0;34m(self, line, cell)\u001b[0m\n\u001b[1;32m    300\u001b[0m \u001b[38;5;28;01mif\u001b[39;00m args\u001b[38;5;241m.\u001b[39mraise_error \u001b[38;5;129;01mand\u001b[39;00m p\u001b[38;5;241m.\u001b[39mreturncode \u001b[38;5;241m!=\u001b[39m \u001b[38;5;241m0\u001b[39m:\n\u001b[1;32m    301\u001b[0m     \u001b[38;5;66;03m# If we get here and p.returncode is still None, we must have\u001b[39;00m\n\u001b[1;32m    302\u001b[0m     \u001b[38;5;66;03m# killed it but not yet seen its return code. We don't wait for it,\u001b[39;00m\n\u001b[1;32m    303\u001b[0m     \u001b[38;5;66;03m# in case it's stuck in uninterruptible sleep. -9 = SIGKILL\u001b[39;00m\n\u001b[1;32m    304\u001b[0m     rc \u001b[38;5;241m=\u001b[39m p\u001b[38;5;241m.\u001b[39mreturncode \u001b[38;5;129;01mor\u001b[39;00m \u001b[38;5;241m-\u001b[39m\u001b[38;5;241m9\u001b[39m\n\u001b[0;32m--> 305\u001b[0m     \u001b[38;5;28;01mraise\u001b[39;00m CalledProcessError(rc, cell)\n",
      "\u001b[0;31mCalledProcessError\u001b[0m: Command 'b'dir_to_be_processed=\"/LUSTRE/sacmod/SIPECAM/cumulo_13/entrega_27.abril.2022/RESPALDO MICRO SD AURA/NODO 3_13_1_1393/GRABADORAS/ultra/10263609/10263609/\"\\nextract_serial_numbers_dates_and_metadata_of_files_and_device --input_dir \"$dir_to_be_processed\"\\n'' returned non-zero exit status 1."
     ]
    }
   ],
   "source": [
    "%%bash\n",
    "dir_to_be_processed=\"/LUSTRE/sacmod/SIPECAM/cumulo_13/entrega_27.abril.2022/RESPALDO MICRO SD AURA/NODO 3_13_1_1393/GRABADORAS/ultra/10263609/10263609/\"\n",
    "extract_serial_numbers_dates_and_metadata_of_files_and_device --input_dir \"$dir_to_be_processed\""
   ]
  },
  {
   "cell_type": "markdown",
   "id": "faff04cc-15f8-49ad-8401-228c7a9988bb",
   "metadata": {},
   "source": [
    "**Problematic file:**\n",
    "\n",
    "`/LUSTRE/sacmod/SIPECAM/cumulo_13/entrega_27.abril.2022/RESPALDO MICRO SD AURA/NODO 3_13_1_1393/GRABADORAS/ultra/10263609/10263609/20210923_104000.WAV`"
   ]
  },
  {
   "cell_type": "code",
   "execution_count": 22,
   "id": "d7bb3e47-f0f4-4e7e-84cc-28186ca8ed02",
   "metadata": {},
   "outputs": [
    {
     "name": "stdout",
     "output_type": "stream",
     "text": [
      "[{\n",
      "  \"SourceFile\": \"/LUSTRE/sacmod/SIPECAM/cumulo_13/entrega_27.abril.2022/RESPALDO MICRO SD AURA/NODO 3_13_1_1393/GRABADORAS/ultra/10263609/10263609/20210923_104000.WAV\",\n",
      "  \"ExifToolVersion\": 12.41,\n",
      "  \"FileName\": \"20210923_104000.WAV\",\n",
      "  \"Directory\": \"/LUSTRE/sacmod/SIPECAM/cumulo_13/entrega_27.abril.2022/RESPALDO MICRO SD AURA/NODO 3_13_1_1393/GRABADORAS/ultra/10263609/10263609\",\n",
      "  \"FileSize\": \"5.5 MiB\",\n",
      "  \"FileModifyDate\": \"2021:09:23 11:41:00-05:00\",\n",
      "  \"FileAccessDate\": \"2022:06:05 11:34:50-05:00\",\n",
      "  \"FileInodeChangeDate\": \"2022:04:27 17:28:01-05:00\",\n",
      "  \"FilePermissions\": \"-rwxrwxrwx\",\n",
      "  \"Error\": \"First 2.7 MiB of file is binary 0xff's\"\n",
      "}]\n"
     ]
    },
    {
     "ename": "CalledProcessError",
     "evalue": "Command 'b'file=\"/LUSTRE/sacmod/SIPECAM/cumulo_13/entrega_27.abril.2022/RESPALDO MICRO SD AURA/NODO 3_13_1_1393/GRABADORAS/ultra/10263609/10263609/20210923_104000.WAV\"\\nexiftool -a -j \"$file\"\\n'' returned non-zero exit status 1.",
     "output_type": "error",
     "traceback": [
      "\u001b[0;31m---------------------------------------------------------------------------\u001b[0m",
      "\u001b[0;31mCalledProcessError\u001b[0m                        Traceback (most recent call last)",
      "Input \u001b[0;32mIn [22]\u001b[0m, in \u001b[0;36m<cell line: 1>\u001b[0;34m()\u001b[0m\n\u001b[0;32m----> 1\u001b[0m \u001b[43mget_ipython\u001b[49m\u001b[43m(\u001b[49m\u001b[43m)\u001b[49m\u001b[38;5;241;43m.\u001b[39;49m\u001b[43mrun_cell_magic\u001b[49m\u001b[43m(\u001b[49m\u001b[38;5;124;43m'\u001b[39;49m\u001b[38;5;124;43mbash\u001b[39;49m\u001b[38;5;124;43m'\u001b[39;49m\u001b[43m,\u001b[49m\u001b[43m \u001b[49m\u001b[38;5;124;43m'\u001b[39;49m\u001b[38;5;124;43m'\u001b[39;49m\u001b[43m,\u001b[49m\u001b[43m \u001b[49m\u001b[38;5;124;43m'\u001b[39;49m\u001b[38;5;124;43mfile=\u001b[39;49m\u001b[38;5;124;43m\"\u001b[39;49m\u001b[38;5;124;43m/LUSTRE/sacmod/SIPECAM/cumulo_13/entrega_27.abril.2022/RESPALDO MICRO SD AURA/NODO 3_13_1_1393/GRABADORAS/ultra/10263609/10263609/20210923_104000.WAV\u001b[39;49m\u001b[38;5;124;43m\"\u001b[39;49m\u001b[38;5;130;43;01m\\n\u001b[39;49;00m\u001b[38;5;124;43mexiftool -a -j \u001b[39;49m\u001b[38;5;124;43m\"\u001b[39;49m\u001b[38;5;124;43m$file\u001b[39;49m\u001b[38;5;124;43m\"\u001b[39;49m\u001b[38;5;130;43;01m\\n\u001b[39;49;00m\u001b[38;5;124;43m'\u001b[39;49m\u001b[43m)\u001b[49m\n",
      "File \u001b[0;32m/usr/local/lib/python3.8/dist-packages/IPython/core/interactiveshell.py:2358\u001b[0m, in \u001b[0;36mInteractiveShell.run_cell_magic\u001b[0;34m(self, magic_name, line, cell)\u001b[0m\n\u001b[1;32m   2356\u001b[0m \u001b[38;5;28;01mwith\u001b[39;00m \u001b[38;5;28mself\u001b[39m\u001b[38;5;241m.\u001b[39mbuiltin_trap:\n\u001b[1;32m   2357\u001b[0m     args \u001b[38;5;241m=\u001b[39m (magic_arg_s, cell)\n\u001b[0;32m-> 2358\u001b[0m     result \u001b[38;5;241m=\u001b[39m \u001b[43mfn\u001b[49m\u001b[43m(\u001b[49m\u001b[38;5;241;43m*\u001b[39;49m\u001b[43margs\u001b[49m\u001b[43m,\u001b[49m\u001b[43m \u001b[49m\u001b[38;5;241;43m*\u001b[39;49m\u001b[38;5;241;43m*\u001b[39;49m\u001b[43mkwargs\u001b[49m\u001b[43m)\u001b[49m\n\u001b[1;32m   2359\u001b[0m \u001b[38;5;28;01mreturn\u001b[39;00m result\n",
      "File \u001b[0;32m/usr/local/lib/python3.8/dist-packages/IPython/core/magics/script.py:153\u001b[0m, in \u001b[0;36mScriptMagics._make_script_magic.<locals>.named_script_magic\u001b[0;34m(line, cell)\u001b[0m\n\u001b[1;32m    151\u001b[0m \u001b[38;5;28;01melse\u001b[39;00m:\n\u001b[1;32m    152\u001b[0m     line \u001b[38;5;241m=\u001b[39m script\n\u001b[0;32m--> 153\u001b[0m \u001b[38;5;28;01mreturn\u001b[39;00m \u001b[38;5;28;43mself\u001b[39;49m\u001b[38;5;241;43m.\u001b[39;49m\u001b[43mshebang\u001b[49m\u001b[43m(\u001b[49m\u001b[43mline\u001b[49m\u001b[43m,\u001b[49m\u001b[43m \u001b[49m\u001b[43mcell\u001b[49m\u001b[43m)\u001b[49m\n",
      "File \u001b[0;32m/usr/local/lib/python3.8/dist-packages/IPython/core/magics/script.py:305\u001b[0m, in \u001b[0;36mScriptMagics.shebang\u001b[0;34m(self, line, cell)\u001b[0m\n\u001b[1;32m    300\u001b[0m \u001b[38;5;28;01mif\u001b[39;00m args\u001b[38;5;241m.\u001b[39mraise_error \u001b[38;5;129;01mand\u001b[39;00m p\u001b[38;5;241m.\u001b[39mreturncode \u001b[38;5;241m!=\u001b[39m \u001b[38;5;241m0\u001b[39m:\n\u001b[1;32m    301\u001b[0m     \u001b[38;5;66;03m# If we get here and p.returncode is still None, we must have\u001b[39;00m\n\u001b[1;32m    302\u001b[0m     \u001b[38;5;66;03m# killed it but not yet seen its return code. We don't wait for it,\u001b[39;00m\n\u001b[1;32m    303\u001b[0m     \u001b[38;5;66;03m# in case it's stuck in uninterruptible sleep. -9 = SIGKILL\u001b[39;00m\n\u001b[1;32m    304\u001b[0m     rc \u001b[38;5;241m=\u001b[39m p\u001b[38;5;241m.\u001b[39mreturncode \u001b[38;5;129;01mor\u001b[39;00m \u001b[38;5;241m-\u001b[39m\u001b[38;5;241m9\u001b[39m\n\u001b[0;32m--> 305\u001b[0m     \u001b[38;5;28;01mraise\u001b[39;00m CalledProcessError(rc, cell)\n",
      "\u001b[0;31mCalledProcessError\u001b[0m: Command 'b'file=\"/LUSTRE/sacmod/SIPECAM/cumulo_13/entrega_27.abril.2022/RESPALDO MICRO SD AURA/NODO 3_13_1_1393/GRABADORAS/ultra/10263609/10263609/20210923_104000.WAV\"\\nexiftool -a -j \"$file\"\\n'' returned non-zero exit status 1."
     ]
    }
   ],
   "source": [
    "%%bash\n",
    "file=\"/LUSTRE/sacmod/SIPECAM/cumulo_13/entrega_27.abril.2022/RESPALDO MICRO SD AURA/NODO 3_13_1_1393/GRABADORAS/ultra/10263609/10263609/20210923_104000.WAV\"\n",
    "exiftool -a -j \"$file\""
   ]
  },
  {
   "cell_type": "markdown",
   "id": "3862e5e6-8baa-4189-a367-585e03664468",
   "metadata": {},
   "source": [
    "**Moving file to dir** `/LUSTRE/sacmod/SIPECAM/cumulo_13/entrega_27.abril.2022/RESPALDO MICRO SD AURA/NODO 3_13_1_1393/GRABADORAS/ultra/10263609/10263609/error`"
   ]
  },
  {
   "cell_type": "code",
   "execution_count": 23,
   "id": "5a30ea4f-83ac-499c-8bbd-18c605130d9c",
   "metadata": {},
   "outputs": [],
   "source": [
    "%%bash\n",
    "file=\"/LUSTRE/sacmod/SIPECAM/cumulo_13/entrega_27.abril.2022/RESPALDO MICRO SD AURA/NODO 3_13_1_1393/GRABADORAS/ultra/10263609/10263609/20210923_104000.WAV\"\n",
    "dir_dst=\"/LUSTRE/sacmod/SIPECAM/cumulo_13/entrega_27.abril.2022/RESPALDO MICRO SD AURA/NODO 3_13_1_1393/GRABADORAS/ultra/10263609/10263609/error\"\n",
    "mv \"$file\" \"$dir_dst\""
   ]
  },
  {
   "cell_type": "markdown",
   "id": "b2551264-e896-4421-b4a9-cabf367fac07",
   "metadata": {},
   "source": [
    "**Rerunning without parallel feature**"
   ]
  },
  {
   "cell_type": "code",
   "execution_count": 25,
   "id": "9f1c405c-342a-4240-bc18-5e2910913158",
   "metadata": {},
   "outputs": [
    {
     "name": "stderr",
     "output_type": "stream",
     "text": [
      "Traceback (most recent call last):\n",
      "  File \"/usr/local/bin/extract_serial_numbers_dates_and_metadata_of_files_and_device\", line 11, in <module>\n",
      "    load_entry_point('simex', 'console_scripts', 'extract_serial_numbers_dates_and_metadata_of_files_and_device')()\n",
      "  File \"/LUSTRE/sacmod/SIPECAM/sipecam-metadata-extractor/src/simex/extract_serial_numbers_dates_and_metadata_of_files_and_device.py\", line 254, in main\n",
      "    extract_metadata_of_files(input_directory,\n",
      "  File \"/LUSTRE/sacmod/SIPECAM/sipecam-metadata-extractor/src/simex/extract_serial_numbers_dates_and_metadata_of_files_and_device.py\", line 168, in extract_metadata_of_files\n",
      "    tuple_date, tuple_metadata_of_file = extract_metadata(filename)\n",
      "  File \"/LUSTRE/sacmod/SIPECAM/sipecam-metadata-extractor/src/simex/extract_serial_numbers_dates_and_metadata_of_files_and_device.py\", line 27, in extract_metadata\n",
      "    date_of_file = read_metadata_audio.extract_date(filename)\n",
      "  File \"/LUSTRE/sacmod/SIPECAM/sipecam-metadata-extractor/src/simex/read_metadata_audio.py\", line 147, in extract_date\n",
      "    return get_date(comment_metadata)#example: 2021-07-28\n",
      "  File \"/LUSTRE/sacmod/SIPECAM/sipecam-metadata-extractor/src/simex/read_metadata_audio.py\", line 91, in get_date\n",
      "    match_date = ONLY_DATE_REGEX.search(comment)\n",
      "TypeError: expected string or bytes-like object\n"
     ]
    },
    {
     "ename": "CalledProcessError",
     "evalue": "Command 'b'dir_to_be_processed=\"/LUSTRE/sacmod/SIPECAM/cumulo_13/entrega_27.abril.2022/RESPALDO MICRO SD AURA/NODO 3_13_1_1393/GRABADORAS/ultra/10263609/10263609/\"\\nextract_serial_numbers_dates_and_metadata_of_files_and_device --input_dir \"$dir_to_be_processed\"\\n'' returned non-zero exit status 1.",
     "output_type": "error",
     "traceback": [
      "\u001b[0;31m---------------------------------------------------------------------------\u001b[0m",
      "\u001b[0;31mCalledProcessError\u001b[0m                        Traceback (most recent call last)",
      "Input \u001b[0;32mIn [25]\u001b[0m, in \u001b[0;36m<cell line: 1>\u001b[0;34m()\u001b[0m\n\u001b[0;32m----> 1\u001b[0m \u001b[43mget_ipython\u001b[49m\u001b[43m(\u001b[49m\u001b[43m)\u001b[49m\u001b[38;5;241;43m.\u001b[39;49m\u001b[43mrun_cell_magic\u001b[49m\u001b[43m(\u001b[49m\u001b[38;5;124;43m'\u001b[39;49m\u001b[38;5;124;43mbash\u001b[39;49m\u001b[38;5;124;43m'\u001b[39;49m\u001b[43m,\u001b[49m\u001b[43m \u001b[49m\u001b[38;5;124;43m'\u001b[39;49m\u001b[38;5;124;43m'\u001b[39;49m\u001b[43m,\u001b[49m\u001b[43m \u001b[49m\u001b[38;5;124;43m'\u001b[39;49m\u001b[38;5;124;43mdir_to_be_processed=\u001b[39;49m\u001b[38;5;124;43m\"\u001b[39;49m\u001b[38;5;124;43m/LUSTRE/sacmod/SIPECAM/cumulo_13/entrega_27.abril.2022/RESPALDO MICRO SD AURA/NODO 3_13_1_1393/GRABADORAS/ultra/10263609/10263609/\u001b[39;49m\u001b[38;5;124;43m\"\u001b[39;49m\u001b[38;5;130;43;01m\\n\u001b[39;49;00m\u001b[38;5;124;43mextract_serial_numbers_dates_and_metadata_of_files_and_device --input_dir \u001b[39;49m\u001b[38;5;124;43m\"\u001b[39;49m\u001b[38;5;124;43m$dir_to_be_processed\u001b[39;49m\u001b[38;5;124;43m\"\u001b[39;49m\u001b[38;5;130;43;01m\\n\u001b[39;49;00m\u001b[38;5;124;43m'\u001b[39;49m\u001b[43m)\u001b[49m\n",
      "File \u001b[0;32m/usr/local/lib/python3.8/dist-packages/IPython/core/interactiveshell.py:2358\u001b[0m, in \u001b[0;36mInteractiveShell.run_cell_magic\u001b[0;34m(self, magic_name, line, cell)\u001b[0m\n\u001b[1;32m   2356\u001b[0m \u001b[38;5;28;01mwith\u001b[39;00m \u001b[38;5;28mself\u001b[39m\u001b[38;5;241m.\u001b[39mbuiltin_trap:\n\u001b[1;32m   2357\u001b[0m     args \u001b[38;5;241m=\u001b[39m (magic_arg_s, cell)\n\u001b[0;32m-> 2358\u001b[0m     result \u001b[38;5;241m=\u001b[39m \u001b[43mfn\u001b[49m\u001b[43m(\u001b[49m\u001b[38;5;241;43m*\u001b[39;49m\u001b[43margs\u001b[49m\u001b[43m,\u001b[49m\u001b[43m \u001b[49m\u001b[38;5;241;43m*\u001b[39;49m\u001b[38;5;241;43m*\u001b[39;49m\u001b[43mkwargs\u001b[49m\u001b[43m)\u001b[49m\n\u001b[1;32m   2359\u001b[0m \u001b[38;5;28;01mreturn\u001b[39;00m result\n",
      "File \u001b[0;32m/usr/local/lib/python3.8/dist-packages/IPython/core/magics/script.py:153\u001b[0m, in \u001b[0;36mScriptMagics._make_script_magic.<locals>.named_script_magic\u001b[0;34m(line, cell)\u001b[0m\n\u001b[1;32m    151\u001b[0m \u001b[38;5;28;01melse\u001b[39;00m:\n\u001b[1;32m    152\u001b[0m     line \u001b[38;5;241m=\u001b[39m script\n\u001b[0;32m--> 153\u001b[0m \u001b[38;5;28;01mreturn\u001b[39;00m \u001b[38;5;28;43mself\u001b[39;49m\u001b[38;5;241;43m.\u001b[39;49m\u001b[43mshebang\u001b[49m\u001b[43m(\u001b[49m\u001b[43mline\u001b[49m\u001b[43m,\u001b[49m\u001b[43m \u001b[49m\u001b[43mcell\u001b[49m\u001b[43m)\u001b[49m\n",
      "File \u001b[0;32m/usr/local/lib/python3.8/dist-packages/IPython/core/magics/script.py:305\u001b[0m, in \u001b[0;36mScriptMagics.shebang\u001b[0;34m(self, line, cell)\u001b[0m\n\u001b[1;32m    300\u001b[0m \u001b[38;5;28;01mif\u001b[39;00m args\u001b[38;5;241m.\u001b[39mraise_error \u001b[38;5;129;01mand\u001b[39;00m p\u001b[38;5;241m.\u001b[39mreturncode \u001b[38;5;241m!=\u001b[39m \u001b[38;5;241m0\u001b[39m:\n\u001b[1;32m    301\u001b[0m     \u001b[38;5;66;03m# If we get here and p.returncode is still None, we must have\u001b[39;00m\n\u001b[1;32m    302\u001b[0m     \u001b[38;5;66;03m# killed it but not yet seen its return code. We don't wait for it,\u001b[39;00m\n\u001b[1;32m    303\u001b[0m     \u001b[38;5;66;03m# in case it's stuck in uninterruptible sleep. -9 = SIGKILL\u001b[39;00m\n\u001b[1;32m    304\u001b[0m     rc \u001b[38;5;241m=\u001b[39m p\u001b[38;5;241m.\u001b[39mreturncode \u001b[38;5;129;01mor\u001b[39;00m \u001b[38;5;241m-\u001b[39m\u001b[38;5;241m9\u001b[39m\n\u001b[0;32m--> 305\u001b[0m     \u001b[38;5;28;01mraise\u001b[39;00m CalledProcessError(rc, cell)\n",
      "\u001b[0;31mCalledProcessError\u001b[0m: Command 'b'dir_to_be_processed=\"/LUSTRE/sacmod/SIPECAM/cumulo_13/entrega_27.abril.2022/RESPALDO MICRO SD AURA/NODO 3_13_1_1393/GRABADORAS/ultra/10263609/10263609/\"\\nextract_serial_numbers_dates_and_metadata_of_files_and_device --input_dir \"$dir_to_be_processed\"\\n'' returned non-zero exit status 1."
     ]
    }
   ],
   "source": [
    "%%bash\n",
    "dir_to_be_processed=\"/LUSTRE/sacmod/SIPECAM/cumulo_13/entrega_27.abril.2022/RESPALDO MICRO SD AURA/NODO 3_13_1_1393/GRABADORAS/ultra/10263609/10263609/\"\n",
    "extract_serial_numbers_dates_and_metadata_of_files_and_device --input_dir \"$dir_to_be_processed\""
   ]
  },
  {
   "cell_type": "markdown",
   "id": "7b11044b-ae63-4466-b1de-3d1dd16bf7dc",
   "metadata": {},
   "source": [
    "**Problematic file:**\n",
    "\n",
    "`/LUSTRE/sacmod/SIPECAM/cumulo_13/entrega_27.abril.2022/RESPALDO MICRO SD AURA/NODO 3_13_1_1393/GRABADORAS/ultra/10263609/10263609/20210923_103000.WAV`"
   ]
  },
  {
   "cell_type": "code",
   "execution_count": 26,
   "id": "b4c42515-a402-48a2-a6bd-7b429ab2ab7a",
   "metadata": {},
   "outputs": [
    {
     "name": "stdout",
     "output_type": "stream",
     "text": [
      "[{\n",
      "  \"SourceFile\": \"/LUSTRE/sacmod/SIPECAM/cumulo_13/entrega_27.abril.2022/RESPALDO MICRO SD AURA/NODO 3_13_1_1393/GRABADORAS/ultra/10263609/10263609/20210923_103000.WAV\",\n",
      "  \"ExifToolVersion\": 12.41,\n",
      "  \"FileName\": \"20210923_103000.WAV\",\n",
      "  \"Directory\": \"/LUSTRE/sacmod/SIPECAM/cumulo_13/entrega_27.abril.2022/RESPALDO MICRO SD AURA/NODO 3_13_1_1393/GRABADORAS/ultra/10263609/10263609\",\n",
      "  \"FileSize\": \"5.5 MiB\",\n",
      "  \"FileModifyDate\": \"2021:09:23 11:31:00-05:00\",\n",
      "  \"FileAccessDate\": \"2022:06:05 11:49:55-05:00\",\n",
      "  \"FileInodeChangeDate\": \"2022:04:27 17:28:01-05:00\",\n",
      "  \"FilePermissions\": \"-rwxrwxrwx\",\n",
      "  \"Error\": \"Entire file is binary 0xff's\"\n",
      "}]\n"
     ]
    },
    {
     "ename": "CalledProcessError",
     "evalue": "Command 'b'file=\"/LUSTRE/sacmod/SIPECAM/cumulo_13/entrega_27.abril.2022/RESPALDO MICRO SD AURA/NODO 3_13_1_1393/GRABADORAS/ultra/10263609/10263609/20210923_103000.WAV\"\\nexiftool -a -j \"$file\"\\n'' returned non-zero exit status 1.",
     "output_type": "error",
     "traceback": [
      "\u001b[0;31m---------------------------------------------------------------------------\u001b[0m",
      "\u001b[0;31mCalledProcessError\u001b[0m                        Traceback (most recent call last)",
      "Input \u001b[0;32mIn [26]\u001b[0m, in \u001b[0;36m<cell line: 1>\u001b[0;34m()\u001b[0m\n\u001b[0;32m----> 1\u001b[0m \u001b[43mget_ipython\u001b[49m\u001b[43m(\u001b[49m\u001b[43m)\u001b[49m\u001b[38;5;241;43m.\u001b[39;49m\u001b[43mrun_cell_magic\u001b[49m\u001b[43m(\u001b[49m\u001b[38;5;124;43m'\u001b[39;49m\u001b[38;5;124;43mbash\u001b[39;49m\u001b[38;5;124;43m'\u001b[39;49m\u001b[43m,\u001b[49m\u001b[43m \u001b[49m\u001b[38;5;124;43m'\u001b[39;49m\u001b[38;5;124;43m'\u001b[39;49m\u001b[43m,\u001b[49m\u001b[43m \u001b[49m\u001b[38;5;124;43m'\u001b[39;49m\u001b[38;5;124;43mfile=\u001b[39;49m\u001b[38;5;124;43m\"\u001b[39;49m\u001b[38;5;124;43m/LUSTRE/sacmod/SIPECAM/cumulo_13/entrega_27.abril.2022/RESPALDO MICRO SD AURA/NODO 3_13_1_1393/GRABADORAS/ultra/10263609/10263609/20210923_103000.WAV\u001b[39;49m\u001b[38;5;124;43m\"\u001b[39;49m\u001b[38;5;130;43;01m\\n\u001b[39;49;00m\u001b[38;5;124;43mexiftool -a -j \u001b[39;49m\u001b[38;5;124;43m\"\u001b[39;49m\u001b[38;5;124;43m$file\u001b[39;49m\u001b[38;5;124;43m\"\u001b[39;49m\u001b[38;5;130;43;01m\\n\u001b[39;49;00m\u001b[38;5;124;43m'\u001b[39;49m\u001b[43m)\u001b[49m\n",
      "File \u001b[0;32m/usr/local/lib/python3.8/dist-packages/IPython/core/interactiveshell.py:2358\u001b[0m, in \u001b[0;36mInteractiveShell.run_cell_magic\u001b[0;34m(self, magic_name, line, cell)\u001b[0m\n\u001b[1;32m   2356\u001b[0m \u001b[38;5;28;01mwith\u001b[39;00m \u001b[38;5;28mself\u001b[39m\u001b[38;5;241m.\u001b[39mbuiltin_trap:\n\u001b[1;32m   2357\u001b[0m     args \u001b[38;5;241m=\u001b[39m (magic_arg_s, cell)\n\u001b[0;32m-> 2358\u001b[0m     result \u001b[38;5;241m=\u001b[39m \u001b[43mfn\u001b[49m\u001b[43m(\u001b[49m\u001b[38;5;241;43m*\u001b[39;49m\u001b[43margs\u001b[49m\u001b[43m,\u001b[49m\u001b[43m \u001b[49m\u001b[38;5;241;43m*\u001b[39;49m\u001b[38;5;241;43m*\u001b[39;49m\u001b[43mkwargs\u001b[49m\u001b[43m)\u001b[49m\n\u001b[1;32m   2359\u001b[0m \u001b[38;5;28;01mreturn\u001b[39;00m result\n",
      "File \u001b[0;32m/usr/local/lib/python3.8/dist-packages/IPython/core/magics/script.py:153\u001b[0m, in \u001b[0;36mScriptMagics._make_script_magic.<locals>.named_script_magic\u001b[0;34m(line, cell)\u001b[0m\n\u001b[1;32m    151\u001b[0m \u001b[38;5;28;01melse\u001b[39;00m:\n\u001b[1;32m    152\u001b[0m     line \u001b[38;5;241m=\u001b[39m script\n\u001b[0;32m--> 153\u001b[0m \u001b[38;5;28;01mreturn\u001b[39;00m \u001b[38;5;28;43mself\u001b[39;49m\u001b[38;5;241;43m.\u001b[39;49m\u001b[43mshebang\u001b[49m\u001b[43m(\u001b[49m\u001b[43mline\u001b[49m\u001b[43m,\u001b[49m\u001b[43m \u001b[49m\u001b[43mcell\u001b[49m\u001b[43m)\u001b[49m\n",
      "File \u001b[0;32m/usr/local/lib/python3.8/dist-packages/IPython/core/magics/script.py:305\u001b[0m, in \u001b[0;36mScriptMagics.shebang\u001b[0;34m(self, line, cell)\u001b[0m\n\u001b[1;32m    300\u001b[0m \u001b[38;5;28;01mif\u001b[39;00m args\u001b[38;5;241m.\u001b[39mraise_error \u001b[38;5;129;01mand\u001b[39;00m p\u001b[38;5;241m.\u001b[39mreturncode \u001b[38;5;241m!=\u001b[39m \u001b[38;5;241m0\u001b[39m:\n\u001b[1;32m    301\u001b[0m     \u001b[38;5;66;03m# If we get here and p.returncode is still None, we must have\u001b[39;00m\n\u001b[1;32m    302\u001b[0m     \u001b[38;5;66;03m# killed it but not yet seen its return code. We don't wait for it,\u001b[39;00m\n\u001b[1;32m    303\u001b[0m     \u001b[38;5;66;03m# in case it's stuck in uninterruptible sleep. -9 = SIGKILL\u001b[39;00m\n\u001b[1;32m    304\u001b[0m     rc \u001b[38;5;241m=\u001b[39m p\u001b[38;5;241m.\u001b[39mreturncode \u001b[38;5;129;01mor\u001b[39;00m \u001b[38;5;241m-\u001b[39m\u001b[38;5;241m9\u001b[39m\n\u001b[0;32m--> 305\u001b[0m     \u001b[38;5;28;01mraise\u001b[39;00m CalledProcessError(rc, cell)\n",
      "\u001b[0;31mCalledProcessError\u001b[0m: Command 'b'file=\"/LUSTRE/sacmod/SIPECAM/cumulo_13/entrega_27.abril.2022/RESPALDO MICRO SD AURA/NODO 3_13_1_1393/GRABADORAS/ultra/10263609/10263609/20210923_103000.WAV\"\\nexiftool -a -j \"$file\"\\n'' returned non-zero exit status 1."
     ]
    }
   ],
   "source": [
    "%%bash\n",
    "file=\"/LUSTRE/sacmod/SIPECAM/cumulo_13/entrega_27.abril.2022/RESPALDO MICRO SD AURA/NODO 3_13_1_1393/GRABADORAS/ultra/10263609/10263609/20210923_103000.WAV\"\n",
    "exiftool -a -j \"$file\""
   ]
  },
  {
   "cell_type": "markdown",
   "id": "55f4bf83-478f-447e-9dc5-3855394f475e",
   "metadata": {},
   "source": [
    "**Moving file to dir** `/LUSTRE/sacmod/SIPECAM/cumulo_13/entrega_27.abril.2022/RESPALDO MICRO SD AURA/NODO 3_13_1_1393/GRABADORAS/ultra/10263609/10263609/error`"
   ]
  },
  {
   "cell_type": "code",
   "execution_count": 27,
   "id": "58d3e805-0fe0-465b-86e4-a295b86f0d81",
   "metadata": {},
   "outputs": [],
   "source": [
    "%%bash\n",
    "file=\"/LUSTRE/sacmod/SIPECAM/cumulo_13/entrega_27.abril.2022/RESPALDO MICRO SD AURA/NODO 3_13_1_1393/GRABADORAS/ultra/10263609/10263609/20210923_103000.WAV\"\n",
    "dir_dst=\"/LUSTRE/sacmod/SIPECAM/cumulo_13/entrega_27.abril.2022/RESPALDO MICRO SD AURA/NODO 3_13_1_1393/GRABADORAS/ultra/10263609/10263609/error\"\n",
    "mv \"$file\" \"$dir_dst\""
   ]
  },
  {
   "cell_type": "markdown",
   "id": "b3087466-29b6-41d8-b07d-c3f6a4998fb4",
   "metadata": {},
   "source": [
    "**Rerunning without parallel feature**"
   ]
  },
  {
   "cell_type": "code",
   "execution_count": 28,
   "id": "267bfaa0-dd55-490c-9522-51cf2ed7b974",
   "metadata": {},
   "outputs": [],
   "source": [
    "%%bash\n",
    "dir_to_be_processed=\"/LUSTRE/sacmod/SIPECAM/cumulo_13/entrega_27.abril.2022/RESPALDO MICRO SD AURA/NODO 3_13_1_1393/GRABADORAS/ultra/10263609/10263609/\"\n",
    "extract_serial_numbers_dates_and_metadata_of_files_and_device --input_dir \"$dir_to_be_processed\" --parallel --number_of_processes 10"
   ]
  },
  {
   "cell_type": "markdown",
   "id": "991c8ce6-524f-4798-bb53-2bf7bb8aac00",
   "metadata": {},
   "source": [
    "\n",
    "# Delivery /LUSTRE/sacmod/SIPECAM/Cumulo_96\n"
   ]
  },
  {
   "cell_type": "code",
   "execution_count": null,
   "id": "771708b8-4c13-4e79-b925-35d82c9f1f70",
   "metadata": {},
   "outputs": [],
   "source": []
  }
 ],
 "metadata": {
  "kernelspec": {
   "display_name": "Python 3 (ipykernel)",
   "language": "python",
   "name": "python3"
  },
  "language_info": {
   "codemirror_mode": {
    "name": "ipython",
    "version": 3
   },
   "file_extension": ".py",
   "mimetype": "text/x-python",
   "name": "python",
   "nbconvert_exporter": "python",
   "pygments_lexer": "ipython3",
   "version": "3.8.10"
  }
 },
 "nbformat": 4,
 "nbformat_minor": 5
}
