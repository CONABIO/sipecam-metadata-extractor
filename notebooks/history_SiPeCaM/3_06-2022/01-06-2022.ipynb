{
 "cells": [
  {
   "cell_type": "markdown",
   "id": "c4d5f421-02a0-444a-ab7f-ed93f7b72f99",
   "metadata": {},
   "source": [
    "# Resolviendo casos de [1_revision_of_past_executions](https://github.com/CONABIO/sipecam-metadata-extractor/blob/develop/notebooks/history_SiPeCaM/1_revision_of_past_executions.ipynb)"
   ]
  },
  {
   "cell_type": "markdown",
   "id": "04a5334f-da1c-4200-a87d-f7b998de0b5f",
   "metadata": {},
   "source": [
    "# 6), 16), 27), 33), 34), 35, 36)"
   ]
  },
  {
   "cell_type": "code",
   "execution_count": 1,
   "id": "110b714f-8e6e-42e2-8b44-09744ffd3ffd",
   "metadata": {},
   "outputs": [],
   "source": [
    "%%bash\n",
    "echo \"/LUSTRE/sacmod/SIPECAM/cumulo_92/primera_entrega/Mes 4/3_92_0_1341/3_92_0_1341_3/audio/Nueva carpeta\" > /shared_volume/sipecam_subdirectories_01-06-2022.txt\n",
    "echo \"/LUSTRE/sacmod/SIPECAM/cumulo_92/primera_entrega/Mes 4/3_92_0_1341/3_92_0_1341_3/audio/Nueva carpeta\" > ~/list_dirs_with_audios_auxiliary.txt\n",
    "echo \"/LUSTRE/sacmod/SIPECAM/cumulo_92/primera_entrega/Mes 4/3_92_1_1335/3_92_1_1335_5/DCIM/100RECNX\" >> /shared_volume/sipecam_subdirectories_01-06-2022.txt\n",
    "echo \"/LUSTRE/sacmod/SIPECAM/cumulo_92/primera_entrega/Mes 3/3_92_1_1334/09048594\" >> /shared_volume/sipecam_subdirectories_01-06-2022.txt\n",
    "echo \"/LUSTRE/sacmod/SIPECAM/cumulo_95/Imagenes/Degradado/CAM_04_RanchoNuevo/101RECNX\" >> /shared_volume/sipecam_subdirectories_01-06-2022.txt\n",
    "echo \"/LUSTRE/sacmod/SIPECAM/cumulo_92/entrega_22.marzo.2022/Mes 5/3_92_0_1336/3_92_0_1336_5/HLPXGM09048568\" >> /shared_volume/sipecam_subdirectories_01-06-2022.txt\n",
    "echo \"/LUSTRE/sacmod/SIPECAM/cumulo_92/entrega_22.marzo.2022/Mes 6/3_92_1_1338/3_92_1_1338_4/HLPXGM09049271\" >> /shared_volume/sipecam_subdirectories_01-06-2022.txt\n",
    "echo \"/LUSTRE/sacmod/SIPECAM/cumulo_92/entrega_22.marzo.2022/Mes 6/3_92_0_1339/3_92_0_1339_ 4/HLPXGM09048890\" >> /shared_volume/sipecam_subdirectories_01-06-2022.txt\n"
   ]
  },
  {
   "cell_type": "code",
   "execution_count": 3,
   "id": "6b20509d-a1bd-4cad-9867-4ffe82478816",
   "metadata": {},
   "outputs": [
    {
     "name": "stdout",
     "output_type": "stream",
     "text": [
      "/LUSTRE/sacmod/SIPECAM/cumulo_92/primera_entrega/Mes 4/3_92_0_1341/3_92_0_1341_3/audio/Nueva carpeta\n"
     ]
    }
   ],
   "source": [
    "%%bash\n",
    "cat ~/list_dirs_with_audios.txt"
   ]
  },
  {
   "cell_type": "markdown",
   "id": "eafa93e9-4859-4221-8f76-25e5fe626d66",
   "metadata": {
    "tags": []
   },
   "source": [
    "# check_if_there_are_audio_empty_files_in_dir_and_move_them"
   ]
  },
  {
   "cell_type": "code",
   "execution_count": 4,
   "id": "4d8cac37-1af5-4591-9e75-a6950576016a",
   "metadata": {},
   "outputs": [
    {
     "name": "stdout",
     "output_type": "stream",
     "text": [
      "/LUSTRE/sacmod/SIPECAM/cumulo_92/primera_entrega/Mes 4/3_92_0_1341/3_92_0_1341_3/audio/Nueva carpeta\n"
     ]
    }
   ],
   "source": [
    "%%bash\n",
    "SAVEIFS=$IFS;IFS=$(echo -en \"\\n\\b\")\n",
    "for dir_to_be_processed in $(cat ~/list_dirs_with_audios.txt)\n",
    "    do echo \"$dir_to_be_processed\"\n",
    "    check_if_there_are_audio_empty_files_in_dir_and_move_them --input_directory_audio \"$dir_to_be_processed\" --number_of_processes 10\n",
    "done\n",
    "IFS=$SAVEIFS"
   ]
  },
  {
   "cell_type": "code",
   "execution_count": 6,
   "id": "d016964b-35f3-4021-be50-30542e41a13e",
   "metadata": {},
   "outputs": [
    {
     "name": "stdout",
     "output_type": "stream",
     "text": [
      "/LUSTRE/sacmod/SIPECAM/cumulo_92/primera_entrega/Mes 4/3_92_0_1341/3_92_0_1341_3/audio/Nueva carpeta\n",
      "20211206_060000.WAV\n"
     ]
    }
   ],
   "source": [
    "%%bash\n",
    "SAVEIFS=$IFS;IFS=$(echo -en \"\\n\\b\")\n",
    "for dir_to_be_processed in $(cat ~/list_dirs_with_audios.txt)\n",
    "    do echo \"$dir_to_be_processed\"\n",
    "    ls \"$dir_to_be_processed/error\" \n",
    "done\n",
    "IFS=$SAVEIFS"
   ]
  },
  {
   "cell_type": "markdown",
   "id": "8e0322d5-49d1-49c0-a25e-c60a9f04070d",
   "metadata": {
    "tags": []
   },
   "source": [
    "# Extract serial number, dates and metadata of files and device"
   ]
  },
  {
   "cell_type": "code",
   "execution_count": 7,
   "id": "1ec6ccc0-ef04-4d29-aef3-1a646fdd4a48",
   "metadata": {},
   "outputs": [
    {
     "name": "stdout",
     "output_type": "stream",
     "text": [
      "/LUSTRE/sacmod/SIPECAM/cumulo_92/primera_entrega/Mes 4/3_92_0_1341/3_92_0_1341_3/audio/Nueva carpeta\n",
      "/LUSTRE/sacmod/SIPECAM/cumulo_92/primera_entrega/Mes 4/3_92_1_1335/3_92_1_1335_5/DCIM/100RECNX\n",
      "/LUSTRE/sacmod/SIPECAM/cumulo_92/primera_entrega/Mes 3/3_92_1_1334/09048594\n",
      "/LUSTRE/sacmod/SIPECAM/cumulo_95/Imagenes/Degradado/CAM_04_RanchoNuevo/101RECNX\n",
      "/LUSTRE/sacmod/SIPECAM/cumulo_92/entrega_22.marzo.2022/Mes 5/3_92_0_1336/3_92_0_1336_5/HLPXGM09048568\n",
      "/LUSTRE/sacmod/SIPECAM/cumulo_92/entrega_22.marzo.2022/Mes 6/3_92_1_1338/3_92_1_1338_4/HLPXGM09049271\n",
      "/LUSTRE/sacmod/SIPECAM/cumulo_92/entrega_22.marzo.2022/Mes 6/3_92_0_1339/3_92_0_1339_ 4/HLPXGM09048890\n"
     ]
    }
   ],
   "source": [
    "%%bash\n",
    "list_of_dirs_to_be_processed=/shared_volume/sipecam_subdirectories_01-06-2022.txt\n",
    "SAVEIFS=$IFS;IFS=$(echo -en \"\\n\\b\")\n",
    "for dir_to_be_processed in $(cat $list_of_dirs_to_be_processed)\n",
    "    do\n",
    "    echo \"$dir_to_be_processed\"\n",
    "    extract_serial_numbers_dates_and_metadata_of_files_and_device --input_dir \"$dir_to_be_processed\" --parallel --number_of_processes 10\n",
    "done\n",
    "IFS=$SAVEIFS"
   ]
  },
  {
   "cell_type": "markdown",
   "id": "4fc89a04-917d-42dc-8a8f-6706b419ac7b",
   "metadata": {},
   "source": [
    "# Move"
   ]
  },
  {
   "cell_type": "code",
   "execution_count": null,
   "id": "877639e3-4690-4282-b82a-dc357370686a",
   "metadata": {},
   "outputs": [],
   "source": [
    "%%bash\n",
    "echo \"SIPECAM_ZENDRO_GQL_URL=https://gql.sipecamdata.conabio.gob.mx/\" > ~/.simex_env\n",
    "echo \"SIPECAM_ZENDRO_GQL_USER=<user>\" >> ~/.simex_env\n",
    "echo \"SIPECAM_ZENDRO_GQL_PASSWORD=<password>\" >> ~/.simex_env\n"
   ]
  },
  {
   "cell_type": "code",
   "execution_count": 18,
   "id": "eeab7a95-e241-4138-a959-034101869450",
   "metadata": {},
   "outputs": [
    {
     "name": "stdout",
     "output_type": "stream",
     "text": [
      "/LUSTRE/sacmod/SIPECAM/cumulo_92/primera_entrega/Mes 4/3_92_0_1341/3_92_0_1341_3/audio/Nueva carpeta\n",
      "/LUSTRE/sacmod/SIPECAM/cumulo_92/primera_entrega/Mes 4/3_92_1_1335/3_92_1_1335_5/DCIM/100RECNX\n",
      "/LUSTRE/sacmod/SIPECAM/cumulo_92/primera_entrega/Mes 3/3_92_1_1334/09048594\n",
      "/LUSTRE/sacmod/SIPECAM/cumulo_95/Imagenes/Degradado/CAM_04_RanchoNuevo/101RECNX\n",
      "/LUSTRE/sacmod/SIPECAM/cumulo_92/entrega_22.marzo.2022/Mes 5/3_92_0_1336/3_92_0_1336_5/HLPXGM09048568\n",
      "/LUSTRE/sacmod/SIPECAM/cumulo_92/entrega_22.marzo.2022/Mes 6/3_92_1_1338/3_92_1_1338_4/HLPXGM09049271\n",
      "/LUSTRE/sacmod/SIPECAM/cumulo_92/entrega_22.marzo.2022/Mes 6/3_92_0_1339/3_92_0_1339_ 4/HLPXGM09048890\n"
     ]
    }
   ],
   "source": [
    "%%bash\n",
    "list_of_dirs_to_be_processed=/shared_volume/sipecam_subdirectories_01-06-2022.txt\n",
    "SAVEIFS=$IFS;IFS=$(echo -en \"\\n\\b\")\n",
    "path_std_dir=/LUSTRE/sacmod/SIPECAM/data\n",
    "for dir_to_be_processed in $(cat $list_of_dirs_to_be_processed)\n",
    "    do\n",
    "    echo \"$dir_to_be_processed\"\n",
    "    move_files_to_standard_directory --directory_with_file_of_serial_number_and_dates \"$dir_to_be_processed\" --path_for_standard_directory \"$path_std_dir\"\n",
    "done\n",
    "IFS=$SAVEIFS"
   ]
  },
  {
   "cell_type": "markdown",
   "id": "5e5e81d4-f7c3-4382-a93e-04beb8176c16",
   "metadata": {},
   "source": [
    "# Check"
   ]
  },
  {
   "cell_type": "code",
   "execution_count": 1,
   "id": "662d627d-68ed-416c-a36e-66d0cca46573",
   "metadata": {},
   "outputs": [
    {
     "name": "stdout",
     "output_type": "stream",
     "text": [
      "/LUSTRE/sacmod/SIPECAM/cumulo_92/primera_entrega/Mes 4/3_92_0_1341/3_92_0_1341_3/audio/Nueva carpeta\n",
      "3132\n",
      "/LUSTRE/sacmod/SIPECAM/cumulo_92/primera_entrega/Mes 4/3_92_1_1335/3_92_1_1335_5/DCIM/100RECNX\n",
      "274\n",
      "/LUSTRE/sacmod/SIPECAM/cumulo_92/primera_entrega/Mes 3/3_92_1_1334/09048594\n",
      "2\n",
      "/LUSTRE/sacmod/SIPECAM/cumulo_95/Imagenes/Degradado/CAM_04_RanchoNuevo/101RECNX\n",
      "0\n",
      "/LUSTRE/sacmod/SIPECAM/cumulo_92/entrega_22.marzo.2022/Mes 5/3_92_0_1336/3_92_0_1336_5/HLPXGM09048568\n",
      "0\n",
      "/LUSTRE/sacmod/SIPECAM/cumulo_92/entrega_22.marzo.2022/Mes 6/3_92_1_1338/3_92_1_1338_4/HLPXGM09049271\n",
      "0\n",
      "/LUSTRE/sacmod/SIPECAM/cumulo_92/entrega_22.marzo.2022/Mes 6/3_92_0_1339/3_92_0_1339_ 4/HLPXGM09048890\n",
      "0\n"
     ]
    }
   ],
   "source": [
    "%%bash\n",
    "#check every first subdirectory has a JPG, WAV or AVI file\n",
    "SAVEIFS=$IFS;IFS=$(echo -en \"\\n\\b\")\n",
    "for f in $(cat /shared_volume/sipecam_subdirectories_01-06-2022.txt)\n",
    "  do echo \"$f\"\n",
    "     ls \"$f\"|grep \"[WAV|wav|JPG|jpg|AVI|avi]$\"|wc -l\n",
    "done\n",
    "IFS=$SAVEIFS"
   ]
  },
  {
   "cell_type": "code",
   "execution_count": 16,
   "id": "da6129bf-3bd5-4326-86f6-31ff8310fa06",
   "metadata": {},
   "outputs": [
    {
     "name": "stdout",
     "output_type": "stream",
     "text": [
      "---------------------------------------------\n",
      "---------------------------------------------\n",
      "Directory: /LUSTRE/sacmod/SIPECAM/cumulo_92/primera_entrega/Mes 4/3_92_0_1341/3_92_0_1341_3/audio/Nueva carpeta\n",
      "Number of files: 3132\n",
      "Logs file: /LUSTRE/sacmod/SIPECAM/cumulo_92/primera_entrega/Mes 4/3_92_0_1341/3_92_0_1341_3/audio/Nueva carpeta/logs_simex_move_files_to_standard_directory.logs\n",
      "2022-06-01 16:55:40,355 [INFO]  Dir /LUSTRE/sacmod/SIPECAM/cumulo_92/primera_entrega/Mes 4/3_92_0_1341/3_92_0_1341_3/audio/Nueva carpeta has serial number 24E1440360371EA1\n",
      "2022-06-01 16:55:40,357 [INFO]  File /LUSTRE/sacmod/SIPECAM/cumulo_92/primera_entrega/Mes 4/3_92_0_1341/3_92_0_1341_3/audio/Nueva carpeta/20211114_195000.WAV has date 2021-11-14\n",
      "2022-06-01 16:55:40,357 [INFO]  File /LUSTRE/sacmod/SIPECAM/cumulo_92/primera_entrega/Mes 4/3_92_0_1341/3_92_0_1341_3/audio/Nueva carpeta/20211206_004000.WAV has date 2021-12-06\n",
      "2022-06-01 16:55:40,357 [INFO]  DaysBetweenFirstAndLastDate: 22\n",
      "2022-06-01 16:55:40,518 [INFO]  Query to Zendro GQL: query {\n",
      "  physical_devices(pagination: {limit: 0}, search: {field: comments, value: \"ADM24E1440360371EA1\", operator: like}) {\n",
      "    device_deploymentsFilter(pagination: {limit: 0}, search: {operator: and, search: [{field: date_deployment, value: \"2021-11-14\", valueType: String, operator: gte}, {field: date_deployment, value: \"2021-12-06\", valueType: String, operator: lte}]}) {\n",
      "      node {\n",
      "        nomenclatura\n",
      "        cat_integr\n",
      "        ecosystems {\n",
      "          name\n",
      "        }\n",
      "      }\n",
      "      cumulus {\n",
      "        name\n",
      "        geometry\n",
      "      }\n",
      "      date_deployment\n",
      "      latitude\n",
      "      longitude\n",
      "    }\n",
      "  }\n",
      "}\n",
      "2022-06-01 16:55:40,518 [INFO]  last query wasn't successful\n",
      "2022-06-01 16:55:40,647 [INFO]  Query alternative auxiliar to Zendro GQL: query {\n",
      "  physical_devices(pagination: {limit: 0}, search: {field: comments, value: \"ADM24E1440360371EA1\", operator: like}) {\n",
      "    device_deploymentsFilter(pagination: {limit: 0}) {\n",
      "      date_deployment\n",
      "    }\n",
      "  }\n",
      "}\n",
      "2022-06-01 16:55:40,650 [INFO]  list indices must be integers or slices, not NoneType\n",
      "2022-06-01 16:55:40,651 [INFO]  unsuccessful query query {\n",
      "  physical_devices(pagination: {limit: 0}, search: {field: comments, value: \"ADM24E1440360371EA1\", operator: like}) {\n",
      "    device_deploymentsFilter(pagination: {limit: 0}) {\n",
      "      date_deployment\n",
      "    }\n",
      "  }\n",
      "} or error when moving files to standard dir\n",
      "---------------------------------------------\n",
      "---------------------------------------------\n",
      "---------------------------------------------\n",
      "---------------------------------------------\n",
      "Directory: /LUSTRE/sacmod/SIPECAM/cumulo_92/primera_entrega/Mes 4/3_92_1_1335/3_92_1_1335_5/DCIM/100RECNX\n",
      "Number of files: 274\n",
      "Logs file: /LUSTRE/sacmod/SIPECAM/cumulo_92/primera_entrega/Mes 4/3_92_1_1335/3_92_1_1335_5/DCIM/100RECNX/logs_simex_move_files_to_standard_directory.logs\n",
      "2022-06-01 16:55:40,948 [INFO]  Dir /LUSTRE/sacmod/SIPECAM/cumulo_92/primera_entrega/Mes 4/3_92_1_1335/3_92_1_1335_5/DCIM/100RECNX has serial number HLPXGM09049271\n",
      "2022-06-01 16:55:40,949 [INFO]  File /LUSTRE/sacmod/SIPECAM/cumulo_92/primera_entrega/Mes 4/3_92_1_1335/3_92_1_1335_5/DCIM/100RECNX/RCNX0004.JPG has date 2021-11-13\n",
      "2022-06-01 16:55:40,949 [INFO]  File /LUSTRE/sacmod/SIPECAM/cumulo_92/primera_entrega/Mes 4/3_92_1_1335/3_92_1_1335_5/DCIM/100RECNX/RCNX0274.JPG has date 2021-12-13\n",
      "2022-06-01 16:55:40,950 [INFO]  DaysBetweenFirstAndLastDate: 30\n",
      "2022-06-01 16:55:41,108 [INFO]  Query to Zendro GQL: query {\n",
      "  physical_devices(pagination: {limit: 0}, search: {field: serial_number, value: \"HLPXGM09049271\", operator: like}) {\n",
      "    device_deploymentsFilter(pagination: {limit: 0}, search: {operator: and, search: [{field: date_deployment, value: \"2021-11-13\", valueType: String, operator: gte}, {field: date_deployment, value: \"2021-12-13\", valueType: String, operator: lte}]}) {\n",
      "      node {\n",
      "        nomenclatura\n",
      "        cat_integr\n",
      "        ecosystems {\n",
      "          name\n",
      "        }\n",
      "      }\n",
      "      cumulus {\n",
      "        name\n",
      "        geometry\n",
      "      }\n",
      "      date_deployment\n",
      "      latitude\n",
      "      longitude\n",
      "    }\n",
      "  }\n",
      "}\n",
      "2022-06-01 16:55:41,108 [INFO]  last query wasn't successful\n",
      "2022-06-01 16:55:41,239 [INFO]  Query alternative auxiliar to Zendro GQL: query {\n",
      "  physical_devices(pagination: {limit: 0}, search: {field: serial_number, value: \"HLPXGM09049271\", operator: like}) {\n",
      "    device_deploymentsFilter(pagination: {limit: 0}) {\n",
      "      date_deployment\n",
      "    }\n",
      "  }\n",
      "}\n",
      "2022-06-01 16:55:41,242 [INFO]  list indices must be integers or slices, not NoneType\n",
      "2022-06-01 16:55:41,243 [INFO]  unsuccessful query query {\n",
      "  physical_devices(pagination: {limit: 0}, search: {field: serial_number, value: \"HLPXGM09049271\", operator: like}) {\n",
      "    device_deploymentsFilter(pagination: {limit: 0}) {\n",
      "      date_deployment\n",
      "    }\n",
      "  }\n",
      "} or error when moving files to standard dir\n",
      "---------------------------------------------\n",
      "---------------------------------------------\n"
     ]
    }
   ],
   "source": [
    "%%bash\n",
    "#check every first subdirectory has a JPG, WAV or AVI file\n",
    "SAVEIFS=$IFS;IFS=$(echo -en \"\\n\\b\")\n",
    "for f in $(cat /shared_volume/sipecam_subdirectories_01-06-2022.txt)\n",
    "  do\n",
    "     number_of_sipecam_files=$(ls \"$f\"|grep \"[WAV|wav|JPG|jpg|AVI|avi]$\"|wc -l)\n",
    "     if [ \"$number_of_sipecam_files\" -gt 2 ]; then\n",
    "        logs_file=$(find \"$f\" -name \"logs_simex_move_files_to_standard_directory.logs\")\n",
    "        if [ -f \"$logs_file\" ]; then\n",
    "            echo \"---------------------------------------------\"\n",
    "            echo \"---------------------------------------------\"\n",
    "            echo \"Directory: $f\"\n",
    "            echo \"Number of files: $number_of_sipecam_files\"\n",
    "            echo \"Logs file: $logs_file\"\n",
    "            cat \"$logs_file\"\n",
    "            echo \"---------------------------------------------\"\n",
    "            echo \"---------------------------------------------\"\n",
    "        fi\n",
    "     fi\n",
    "done\n",
    "IFS=$SAVEIFS\n"
   ]
  },
  {
   "cell_type": "markdown",
   "id": "320eff04-688a-4b9c-8330-7ee8ef5c1888",
   "metadata": {},
   "source": [
    "# Still error in:\n",
    "\n",
    "```\n",
    "/LUSTRE/sacmod/SIPECAM/cumulo_92/primera_entrega/Mes 4/3_92_0_1341/3_92_0_1341_3/audio/Nueva carpeta\n",
    "/LUSTRE/sacmod/SIPECAM/cumulo_92/primera_entrega/Mes 4/3_92_1_1335/3_92_1_1335_5/DCIM/100RECNX\n",
    "```\n",
    "\n",
    "Which are the 6) and 16) of [1_revision_of_past_executions.ipynb](https://github.com/CONABIO/sipecam-metadata-extractor/blob/develop/notebooks/history_SiPeCaM/1_revision_of_past_executions.ipynb)\n"
   ]
  },
  {
   "cell_type": "code",
   "execution_count": 17,
   "id": "774ec73e-8ecd-4d05-8c1a-a72b1e63224b",
   "metadata": {},
   "outputs": [],
   "source": [
    "import datetime"
   ]
  },
  {
   "cell_type": "markdown",
   "id": "55640e3d-f9e1-4275-ae48-60010dab72e7",
   "metadata": {},
   "source": [
    "# 16)"
   ]
  },
  {
   "cell_type": "code",
   "execution_count": 25,
   "id": "ca9947d9-ac40-4225-bbd6-7b5f8aa87964",
   "metadata": {},
   "outputs": [],
   "source": [
    "second_date = \"2021-12-13\"\n",
    "kobo_date = \"2021-10-08\"\n",
    "format_string_data = \"%Y-%m-%d\""
   ]
  },
  {
   "cell_type": "code",
   "execution_count": 26,
   "id": "1ee9dd7e-ffe6-4847-990f-a46a3856916c",
   "metadata": {},
   "outputs": [],
   "source": [
    "second_datetime = datetime.datetime.strptime(second_date, format_string_data)\n",
    "kobo_datetime = datetime.datetime.strptime(kobo_date, format_string_data)\n",
    "diff_datetimes = second_datetime - kobo_datetime"
   ]
  },
  {
   "cell_type": "code",
   "execution_count": 27,
   "id": "39285c76-96c1-41d4-8da9-796069bd9ca3",
   "metadata": {},
   "outputs": [],
   "source": [
    "diff_datetimes_days = diff_datetimes.days"
   ]
  },
  {
   "cell_type": "code",
   "execution_count": 28,
   "id": "f8e9e84e-b571-4982-b1d5-31817d146120",
   "metadata": {},
   "outputs": [
    {
     "data": {
      "text/plain": [
       "66"
      ]
     },
     "execution_count": 28,
     "metadata": {},
     "output_type": "execute_result"
    }
   ],
   "source": [
    "diff_datetimes_days"
   ]
  },
  {
   "cell_type": "code",
   "execution_count": null,
   "id": "2d80623d-b4ce-47b3-b57a-40dba33387af",
   "metadata": {},
   "outputs": [],
   "source": []
  }
 ],
 "metadata": {
  "kernelspec": {
   "display_name": "Python 3 (ipykernel)",
   "language": "python",
   "name": "python3"
  },
  "language_info": {
   "codemirror_mode": {
    "name": "ipython",
    "version": 3
   },
   "file_extension": ".py",
   "mimetype": "text/x-python",
   "name": "python",
   "nbconvert_exporter": "python",
   "pygments_lexer": "ipython3",
   "version": "3.8.10"
  }
 },
 "nbformat": 4,
 "nbformat_minor": 5
}
