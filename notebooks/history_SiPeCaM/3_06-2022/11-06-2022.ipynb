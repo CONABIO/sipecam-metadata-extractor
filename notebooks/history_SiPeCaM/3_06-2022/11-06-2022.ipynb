{
 "cells": [
  {
   "cell_type": "markdown",
   "id": "6167e95c-018e-44f4-a42a-af94f2221a8f",
   "metadata": {},
   "source": [
    "# Continuation of [10-06-2022.ipynb](https://github.com/CONABIO/sipecam-metadata-extractor/blob/develop/notebooks/history_SiPeCaM/3_06-2022/10-06-2022.ipynb)"
   ]
  },
  {
   "cell_type": "markdown",
   "id": "468e0cd1-d6dd-40c8-bcdd-7fb14ed23b1b",
   "metadata": {},
   "source": [
    "# After creating [6_revision_of_past_executions.ipynb](https://github.com/CONABIO/sipecam-metadata-extractor/blob/develop/notebooks/history_SiPeCaM/6_revision_of_past_executions.ipynb) here will check some of the errors in dirs"
   ]
  },
  {
   "cell_type": "markdown",
   "id": "6968f1b9-4316-44bf-a332-0af9a2d9f10f",
   "metadata": {},
   "source": [
    "## 25)"
   ]
  },
  {
   "cell_type": "markdown",
   "id": "43e5c674-9b9d-417d-9d19-623e516b2c0c",
   "metadata": {},
   "source": [
    "**Run again extract and move cli for: /LUSTRE/sacmod/SIPECAM/cumulo_13/entrega_27.abril.2022/SIPECAM AUDIOS/Nodo 3_13_0_1399 LAS PIEDRAS/Audiomoth 1/Ultra.N5.T3**"
   ]
  },
  {
   "cell_type": "markdown",
   "id": "3e084e12-2d0a-45c1-8d2e-1e5f985ee071",
   "metadata": {},
   "source": [
    "**Check**"
   ]
  },
  {
   "cell_type": "code",
   "execution_count": 1,
   "id": "98a7586e-aca8-42a2-8b0b-73c0312aa301",
   "metadata": {},
   "outputs": [],
   "source": [
    "%%bash\n",
    "dir_to_be_processed=\"/LUSTRE/sacmod/SIPECAM/cumulo_13/entrega_27.abril.2022/SIPECAM AUDIOS/Nodo 3_13_0_1399 LAS PIEDRAS/Audiomoth 1/Ultra.N5.T3\"\n",
    "check_if_there_are_audio_empty_files_in_dir_and_move_them --input_directory_audio \"$dir_to_be_processed\" --number_of_processes 10"
   ]
  },
  {
   "cell_type": "markdown",
   "id": "20ac0a33-d892-4ef2-a9f4-7ee0a29a719c",
   "metadata": {},
   "source": [
    "**Extract**"
   ]
  },
  {
   "cell_type": "code",
   "execution_count": 2,
   "id": "b8e88f60-cd1f-402f-96dd-bd3333562d6a",
   "metadata": {},
   "outputs": [],
   "source": [
    "%%bash\n",
    "dir_to_be_processed=\"/LUSTRE/sacmod/SIPECAM/cumulo_13/entrega_27.abril.2022/SIPECAM AUDIOS/Nodo 3_13_0_1399 LAS PIEDRAS/Audiomoth 1/Ultra.N5.T3\"\n",
    "extract_serial_numbers_dates_and_metadata_of_files_and_device --input_dir \"$dir_to_be_processed\" --parallel --number_of_processes 10"
   ]
  },
  {
   "cell_type": "code",
   "execution_count": 4,
   "id": "86cff568-4a34-4ca4-bc98-e6be07606b73",
   "metadata": {},
   "outputs": [
    {
     "name": "stdout",
     "output_type": "stream",
     "text": [
      "{\n",
      "    \"MetadataDevice\": {\n",
      "        \"Artist\": \"AudioMoth 248C7D075B1F81A3\",\n",
      "        \"SerialNumber\": \"248C7D075B1F81A3\"\n",
      "    },\n",
      "    \"MetadataFiles\": {\n",
      "        \"/LUSTRE/sacmod/SIPECAM/cumulo_13/entrega_27.abril.2022/SIPECAM AUDIOS/Nodo 3_13_0_1399 LAS PIEDRAS/Audiomoth 1/Ultra.N5.T3/20210806_044000.WAV\": {\n",
      "            \"Battery\": \"4.8V\",\n",
      "            \"Datetime\": \"04:40:00 06/08/2021 (UTC-0600)\",\n",
      "            \"Gain\": \"medium\",\n",
      "            \"Timezone\": \"UTC\",\n",
      "            \"BitRate\": \"6.1 Mbit/sec\",\n",
      "            \"SerialNumber\": \"248C7D075B1F81A3\",\n",
      "            \"FileSize\": \"23 MB\",\n",
      "            \"Encoding\": \"Microsoft PCM\",\n",
      "            \"NumChannels\": 1,\n",
      "            \"SampleRate\": 384000,\n",
      "            \"AvgBytesPerSec\": 768000,\n",
      "            \"BitsPerSample\": 16,\n",
      "            \"Comment\": \"Recorded at 04:40:00 06/08/2021 (UTC-6) by AudioMoth 248C7D075B1F81A3 at medium gain setting while battery state was 4.8V and temperature was 25.3C.\",\n"
     ]
    }
   ],
   "source": [
    "%%bash\n",
    "d=\"/LUSTRE/sacmod/SIPECAM/cumulo_13/entrega_27.abril.2022/SIPECAM AUDIOS/Nodo 3_13_0_1399 LAS PIEDRAS/Audiomoth 1/Ultra.N5.T3\"\n",
    "f=$(find \"$d\" -name \"*.json\")\n",
    "python3 -mjson.tool \"$f\"|head -n 20"
   ]
  },
  {
   "cell_type": "code",
   "execution_count": 6,
   "id": "e91b3604-4987-407e-a38a-dff768b87d1b",
   "metadata": {},
   "outputs": [
    {
     "name": "stdout",
     "output_type": "stream",
     "text": [
      "            \"Gain\": \"medium\",\n",
      "            \"Timezone\": \"UTC\",\n",
      "            \"BitRate\": \"6.1 Mbit/sec\",\n",
      "            \"SerialNumber\": \"248C7D075B1F81A3\",\n",
      "            \"FileSize\": \"23 MB\",\n",
      "            \"Encoding\": \"Microsoft PCM\",\n",
      "            \"NumChannels\": 1,\n",
      "            \"SampleRate\": 384000,\n",
      "            \"AvgBytesPerSec\": 768000,\n",
      "            \"BitsPerSample\": 16,\n",
      "            \"Comment\": \"Recorded at 19:40:00 22/08/2021 (UTC-6) by AudioMoth 248C7D075B1F81A3 at medium gain setting while battery state was 4.5V and temperature was 22.6C.\",\n",
      "            \"Duration\": 30.0006354166667\n",
      "        }\n",
      "    },\n",
      "    \"FirstAndLastDate\": {\n",
      "        \"/LUSTRE/sacmod/SIPECAM/cumulo_13/entrega_27.abril.2022/SIPECAM AUDIOS/Nodo 3_13_0_1399 LAS PIEDRAS/Audiomoth 1/Ultra.N5.T3/20210805_180000.WAV\": \"2021-08-05\",\n",
      "        \"/LUSTRE/sacmod/SIPECAM/cumulo_13/entrega_27.abril.2022/SIPECAM AUDIOS/Nodo 3_13_0_1399 LAS PIEDRAS/Audiomoth 1/Ultra.N5.T3/20210824_044000.WAV\": \"2021-08-24\"\n",
      "    },\n",
      "    \"DaysBetweenFirstAndLastDate\": 19\n",
      "}\n"
     ]
    }
   ],
   "source": [
    "%%bash\n",
    "d=\"/LUSTRE/sacmod/SIPECAM/cumulo_13/entrega_27.abril.2022/SIPECAM AUDIOS/Nodo 3_13_0_1399 LAS PIEDRAS/Audiomoth 1/Ultra.N5.T3\"\n",
    "f=$(find \"$d\" -name \"*.json\")\n",
    "python3 -mjson.tool \"$f\"|tail -n 20"
   ]
  },
  {
   "cell_type": "markdown",
   "id": "7f08f758-6fa7-4b92-a07f-e3b03c0f6e08",
   "metadata": {},
   "source": [
    "**Move**"
   ]
  },
  {
   "cell_type": "code",
   "execution_count": 7,
   "id": "0a7b5940-7ad3-4226-a3e0-a37ff61860ce",
   "metadata": {},
   "outputs": [],
   "source": [
    "%%bash\n",
    "echo \"SIPECAM_ZENDRO_GQL_URL=https://gql.sipecamdata.conabio.gob.mx/\" > ~/.simex_env\n",
    "echo \"SIPECAM_ZENDRO_GQL_USER=admin\" >> ~/.simex_env\n",
    "echo \"SIPECAM_ZENDRO_GQL_PASSWORD=admin\" >> ~/.simex_env\n"
   ]
  },
  {
   "cell_type": "code",
   "execution_count": 7,
   "id": "6c416d60-e633-4260-80c2-4dcaf175c3f6",
   "metadata": {},
   "outputs": [],
   "source": [
    "%%bash\n",
    "path_std_dir=/LUSTRE/sacmod/SIPECAM/data\n",
    "dir_to_be_processed=\"/LUSTRE/sacmod/SIPECAM/cumulo_13/entrega_27.abril.2022/SIPECAM AUDIOS/Nodo 3_13_0_1399 LAS PIEDRAS/Audiomoth 1/Ultra.N5.T3\"\n",
    "move_files_to_standard_directory --directory_with_file_of_serial_number_and_dates \"$dir_to_be_processed\" --path_for_standard_directory \"$path_std_dir\""
   ]
  },
  {
   "cell_type": "markdown",
   "id": "295bdd31-63df-4f61-9440-f82e79d9aac8",
   "metadata": {},
   "source": [
    "**Check**"
   ]
  },
  {
   "cell_type": "code",
   "execution_count": 9,
   "id": "80204dc9-1352-49d5-b848-8cc737a5fe31",
   "metadata": {},
   "outputs": [
    {
     "name": "stdout",
     "output_type": "stream",
     "text": [
      "2022-07-12 12:09:51,745 [INFO]  Dir /LUSTRE/sacmod/SIPECAM/cumulo_13/entrega_27.abril.2022/SIPECAM AUDIOS/Nodo 3_13_0_1399 LAS PIEDRAS/Audiomoth 1/Ultra.N5.T3 has serial number 248C7D075B1F81A3\n",
      "2022-07-12 12:09:51,746 [INFO]  File /LUSTRE/sacmod/SIPECAM/cumulo_13/entrega_27.abril.2022/SIPECAM AUDIOS/Nodo 3_13_0_1399 LAS PIEDRAS/Audiomoth 1/Ultra.N5.T3/20210805_180000.WAV has date 2021-08-05\n",
      "2022-07-12 12:09:51,746 [INFO]  File /LUSTRE/sacmod/SIPECAM/cumulo_13/entrega_27.abril.2022/SIPECAM AUDIOS/Nodo 3_13_0_1399 LAS PIEDRAS/Audiomoth 1/Ultra.N5.T3/20210824_044000.WAV has date 2021-08-24\n",
      "2022-07-12 12:09:51,746 [INFO]  DaysBetweenFirstAndLastDate: 19\n",
      "2022-07-12 12:09:51,903 [INFO]  Query to Zendro GQL: query {\n",
      "  physical_devices(pagination: {limit: 0}, search: {field: comments, value: \"ADM248C7D075B1F81A3\", operator: like}) {\n",
      "    device_deploymentsFilter(pagination: {limit: 0}, search: {operator: and, search: [{field: date_deployment, value: \"2021-08-05\", valueType: String, operator: gte}, {field: date_deployment, value: \"2021-08-24\", valueType: String, operator: lte}]}) {\n",
      "      node {\n",
      "        nomenclatura\n",
      "        cat_integr\n",
      "        ecosystems {\n",
      "          name\n",
      "        }\n",
      "      }\n",
      "      cumulus {\n",
      "        name\n",
      "        geometry\n",
      "      }\n",
      "      date_deployment\n",
      "      latitude\n",
      "      longitude\n",
      "    }\n",
      "  }\n",
      "}\n",
      "2022-07-12 12:09:51,903 [INFO]  last query wasn't successful\n",
      "2022-07-12 12:09:52,029 [INFO]  Query alternative auxiliar to Zendro GQL: query {\n",
      "  physical_devices(pagination: {limit: 0}, search: {field: comments, value: \"ADM248C7D075B1F81A3\", operator: like}) {\n",
      "    device_deploymentsFilter(pagination: {limit: 0}) {\n",
      "      date_deployment\n",
      "    }\n",
      "  }\n",
      "}\n",
      "2022-07-12 12:09:52,033 [INFO]  local variable 'idx_date' referenced before assignment\n",
      "2022-07-12 12:09:52,033 [INFO]  unsuccessful query query {\n",
      "  physical_devices(pagination: {limit: 0}, search: {field: comments, value: \"ADM248C7D075B1F81A3\", operator: like}) {\n",
      "    device_deploymentsFilter(pagination: {limit: 0}) {\n",
      "      date_deployment\n",
      "    }\n",
      "  }\n",
      "} or error when moving files to standard dir\n"
     ]
    }
   ],
   "source": [
    "%%bash\n",
    "f=\"/LUSTRE/sacmod/SIPECAM/cumulo_13/entrega_27.abril.2022/SIPECAM AUDIOS/Nodo 3_13_0_1399 LAS PIEDRAS/Audiomoth 1/Ultra.N5.T3\"\n",
    "logs_file=$(find \"$f\" -name \"logs_simex_move_files_to_standard_directory.logs\")\n",
    "head -n 50 \"$logs_file\""
   ]
  },
  {
   "cell_type": "markdown",
   "id": "e4f523d0-1c8d-4102-8fea-1697f9b68044",
   "metadata": {},
   "source": [
    "## 26)"
   ]
  },
  {
   "cell_type": "markdown",
   "id": "e99320c5-a701-4934-8ad1-a47a76a40b89",
   "metadata": {},
   "source": [
    "**Run again extract and move cli for: /LUSTRE/sacmod/SIPECAM/cumulo_13/entrega_27.abril.2022/SIPECAM AUDIOS/Nodo 3_13_0_1399 LAS PIEDRAS/Audiomoth 2/Ultra.N5.T3**"
   ]
  },
  {
   "cell_type": "markdown",
   "id": "f9e710db-0f78-4ccd-87f8-757cde6898c5",
   "metadata": {},
   "source": [
    "**Check**"
   ]
  },
  {
   "cell_type": "code",
   "execution_count": 10,
   "id": "e9de68bc-4db1-4af9-9a0c-22a0b3735e98",
   "metadata": {},
   "outputs": [],
   "source": [
    "%%bash\n",
    "dir_to_be_processed=\"/LUSTRE/sacmod/SIPECAM/cumulo_13/entrega_27.abril.2022/SIPECAM AUDIOS/Nodo 3_13_0_1399 LAS PIEDRAS/Audiomoth 2/Ultra.N5.T3\"\n",
    "check_if_there_are_audio_empty_files_in_dir_and_move_them --input_directory_audio \"$dir_to_be_processed\" --number_of_processes 10"
   ]
  },
  {
   "cell_type": "markdown",
   "id": "ebc7460a-3dc2-4a8e-9b6f-3f78c3f8abc9",
   "metadata": {},
   "source": [
    "**Extract**"
   ]
  },
  {
   "cell_type": "code",
   "execution_count": 11,
   "id": "5c69ab8b-1b0d-4350-b2d7-dfc2b1b5b688",
   "metadata": {},
   "outputs": [],
   "source": [
    "%%bash\n",
    "dir_to_be_processed=\"/LUSTRE/sacmod/SIPECAM/cumulo_13/entrega_27.abril.2022/SIPECAM AUDIOS/Nodo 3_13_0_1399 LAS PIEDRAS/Audiomoth 2/Ultra.N5.T3\"\n",
    "extract_serial_numbers_dates_and_metadata_of_files_and_device --input_dir \"$dir_to_be_processed\" --parallel --number_of_processes 10"
   ]
  },
  {
   "cell_type": "code",
   "execution_count": 12,
   "id": "c80971cf-ed82-4d46-aeae-3952f04cfdd9",
   "metadata": {},
   "outputs": [
    {
     "name": "stdout",
     "output_type": "stream",
     "text": [
      "{\n",
      "    \"MetadataDevice\": {\n",
      "        \"Artist\": \"AudioMoth 248C7D075B1F81A3\",\n",
      "        \"SerialNumber\": \"248C7D075B1F81A3\"\n",
      "    },\n",
      "    \"MetadataFiles\": {\n",
      "        \"/LUSTRE/sacmod/SIPECAM/cumulo_13/entrega_27.abril.2022/SIPECAM AUDIOS/Nodo 3_13_0_1399 LAS PIEDRAS/Audiomoth 2/Ultra.N5.T3/20210806_044000.WAV\": {\n",
      "            \"Battery\": \"4.8V\",\n",
      "            \"Datetime\": \"04:40:00 06/08/2021 (UTC-0600)\",\n",
      "            \"Gain\": \"medium\",\n",
      "            \"Timezone\": \"UTC\",\n",
      "            \"BitRate\": \"6.1 Mbit/sec\",\n",
      "            \"SerialNumber\": \"248C7D075B1F81A3\",\n",
      "            \"FileSize\": \"23 MB\",\n",
      "            \"Encoding\": \"Microsoft PCM\",\n",
      "            \"NumChannels\": 1,\n",
      "            \"SampleRate\": 384000,\n",
      "            \"AvgBytesPerSec\": 768000,\n",
      "            \"BitsPerSample\": 16,\n",
      "            \"Comment\": \"Recorded at 04:40:00 06/08/2021 (UTC-6) by AudioMoth 248C7D075B1F81A3 at medium gain setting while battery state was 4.8V and temperature was 25.3C.\",\n"
     ]
    }
   ],
   "source": [
    "%%bash\n",
    "d=\"/LUSTRE/sacmod/SIPECAM/cumulo_13/entrega_27.abril.2022/SIPECAM AUDIOS/Nodo 3_13_0_1399 LAS PIEDRAS/Audiomoth 2/Ultra.N5.T3\"\n",
    "f=$(find \"$d\" -name \"*.json\")\n",
    "python3 -mjson.tool \"$f\"|head -n 20"
   ]
  },
  {
   "cell_type": "code",
   "execution_count": 13,
   "id": "e45e6d35-dc37-4156-b2ba-f6c843ad44c3",
   "metadata": {},
   "outputs": [
    {
     "name": "stdout",
     "output_type": "stream",
     "text": [
      "            \"Gain\": \"medium\",\n",
      "            \"Timezone\": \"UTC\",\n",
      "            \"BitRate\": \"6.1 Mbit/sec\",\n",
      "            \"SerialNumber\": \"248C7D075B1F81A3\",\n",
      "            \"FileSize\": \"23 MB\",\n",
      "            \"Encoding\": \"Microsoft PCM\",\n",
      "            \"NumChannels\": 1,\n",
      "            \"SampleRate\": 384000,\n",
      "            \"AvgBytesPerSec\": 768000,\n",
      "            \"BitsPerSample\": 16,\n",
      "            \"Comment\": \"Recorded at 01:40:00 07/08/2021 (UTC-6) by AudioMoth 248C7D075B1F81A3 at medium gain setting while battery state was 4.7V and temperature was 24.2C.\",\n",
      "            \"Duration\": 30.0006354166667\n",
      "        }\n",
      "    },\n",
      "    \"FirstAndLastDate\": {\n",
      "        \"/LUSTRE/sacmod/SIPECAM/cumulo_13/entrega_27.abril.2022/SIPECAM AUDIOS/Nodo 3_13_0_1399 LAS PIEDRAS/Audiomoth 2/Ultra.N5.T3/20210805_180000.WAV\": \"2021-08-05\",\n",
      "        \"/LUSTRE/sacmod/SIPECAM/cumulo_13/entrega_27.abril.2022/SIPECAM AUDIOS/Nodo 3_13_0_1399 LAS PIEDRAS/Audiomoth 2/Ultra.N5.T3/20210820_014000.WAV\": \"2021-08-20\"\n",
      "    },\n",
      "    \"DaysBetweenFirstAndLastDate\": 15\n",
      "}\n"
     ]
    }
   ],
   "source": [
    "%%bash\n",
    "d=\"/LUSTRE/sacmod/SIPECAM/cumulo_13/entrega_27.abril.2022/SIPECAM AUDIOS/Nodo 3_13_0_1399 LAS PIEDRAS/Audiomoth 2/Ultra.N5.T3\"\n",
    "f=$(find \"$d\" -name \"*.json\")\n",
    "python3 -mjson.tool \"$f\"|tail -n 20"
   ]
  },
  {
   "cell_type": "markdown",
   "id": "a4ad0493-ef3e-4ecf-ac36-6f9ae3300025",
   "metadata": {},
   "source": [
    "**Move**"
   ]
  },
  {
   "cell_type": "code",
   "execution_count": 14,
   "id": "478e9dd6-d6a7-4717-ad30-2807b9fec8d4",
   "metadata": {},
   "outputs": [],
   "source": [
    "%%bash\n",
    "path_std_dir=/LUSTRE/sacmod/SIPECAM/data\n",
    "dir_to_be_processed=\"/LUSTRE/sacmod/SIPECAM/cumulo_13/entrega_27.abril.2022/SIPECAM AUDIOS/Nodo 3_13_0_1399 LAS PIEDRAS/Audiomoth 2/Ultra.N5.T3\"\n",
    "move_files_to_standard_directory --directory_with_file_of_serial_number_and_dates \"$dir_to_be_processed\" --path_for_standard_directory \"$path_std_dir\""
   ]
  },
  {
   "cell_type": "markdown",
   "id": "b3270013-1cab-4ede-abb4-be0f3420d3dc",
   "metadata": {},
   "source": [
    "**Check**"
   ]
  },
  {
   "cell_type": "code",
   "execution_count": 15,
   "id": "e0676812-57d7-4c77-a05b-d5dde778a572",
   "metadata": {},
   "outputs": [
    {
     "name": "stdout",
     "output_type": "stream",
     "text": [
      "2022-07-12 12:17:08,845 [INFO]  Dir /LUSTRE/sacmod/SIPECAM/cumulo_13/entrega_27.abril.2022/SIPECAM AUDIOS/Nodo 3_13_0_1399 LAS PIEDRAS/Audiomoth 2/Ultra.N5.T3 has serial number 248C7D075B1F81A3\n",
      "2022-07-12 12:17:08,846 [INFO]  File /LUSTRE/sacmod/SIPECAM/cumulo_13/entrega_27.abril.2022/SIPECAM AUDIOS/Nodo 3_13_0_1399 LAS PIEDRAS/Audiomoth 2/Ultra.N5.T3/20210805_180000.WAV has date 2021-08-05\n",
      "2022-07-12 12:17:08,846 [INFO]  File /LUSTRE/sacmod/SIPECAM/cumulo_13/entrega_27.abril.2022/SIPECAM AUDIOS/Nodo 3_13_0_1399 LAS PIEDRAS/Audiomoth 2/Ultra.N5.T3/20210820_014000.WAV has date 2021-08-20\n",
      "2022-07-12 12:17:08,846 [INFO]  DaysBetweenFirstAndLastDate: 15\n",
      "2022-07-12 12:17:09,007 [INFO]  Query to Zendro GQL: query {\n",
      "  physical_devices(pagination: {limit: 0}, search: {field: comments, value: \"ADM248C7D075B1F81A3\", operator: like}) {\n",
      "    device_deploymentsFilter(pagination: {limit: 0}, search: {operator: and, search: [{field: date_deployment, value: \"2021-08-05\", valueType: String, operator: gte}, {field: date_deployment, value: \"2021-08-20\", valueType: String, operator: lte}]}) {\n",
      "      node {\n",
      "        nomenclatura\n",
      "        cat_integr\n",
      "        ecosystems {\n",
      "          name\n",
      "        }\n",
      "      }\n",
      "      cumulus {\n",
      "        name\n",
      "        geometry\n",
      "      }\n",
      "      date_deployment\n",
      "      latitude\n",
      "      longitude\n",
      "    }\n",
      "  }\n",
      "}\n",
      "2022-07-12 12:17:09,007 [INFO]  last query wasn't successful\n",
      "2022-07-12 12:17:09,134 [INFO]  Query alternative auxiliar to Zendro GQL: query {\n",
      "  physical_devices(pagination: {limit: 0}, search: {field: comments, value: \"ADM248C7D075B1F81A3\", operator: like}) {\n",
      "    device_deploymentsFilter(pagination: {limit: 0}) {\n",
      "      date_deployment\n",
      "    }\n",
      "  }\n",
      "}\n",
      "2022-07-12 12:17:09,137 [INFO]  local variable 'idx_date' referenced before assignment\n",
      "2022-07-12 12:17:09,137 [INFO]  unsuccessful query query {\n",
      "  physical_devices(pagination: {limit: 0}, search: {field: comments, value: \"ADM248C7D075B1F81A3\", operator: like}) {\n",
      "    device_deploymentsFilter(pagination: {limit: 0}) {\n",
      "      date_deployment\n",
      "    }\n",
      "  }\n",
      "} or error when moving files to standard dir\n"
     ]
    }
   ],
   "source": [
    "%%bash\n",
    "f=\"/LUSTRE/sacmod/SIPECAM/cumulo_13/entrega_27.abril.2022/SIPECAM AUDIOS/Nodo 3_13_0_1399 LAS PIEDRAS/Audiomoth 2/Ultra.N5.T3\"\n",
    "logs_file=$(find \"$f\" -name \"logs_simex_move_files_to_standard_directory.logs\")\n",
    "head -n 50 \"$logs_file\""
   ]
  },
  {
   "cell_type": "markdown",
   "id": "95de267b-e8bc-4459-9304-cbce741aa897",
   "metadata": {},
   "source": [
    "## 27)"
   ]
  },
  {
   "cell_type": "markdown",
   "id": "df0b97fa-5f94-4390-9d01-05486fb9561b",
   "metadata": {},
   "source": [
    "**Run again extract and move cli for: /LUSTRE/sacmod/SIPECAM/cumulo_13/entrega_27.abril.2022/SIPECAM AUDIOS/Nodo 3_13_0_1399 LAS PIEDRAS/Audiomoth 2/Ultra.N5.T3 2**"
   ]
  },
  {
   "cell_type": "markdown",
   "id": "76dab342-edd7-468d-86c9-e75445e2f674",
   "metadata": {},
   "source": [
    "**Check**"
   ]
  },
  {
   "cell_type": "code",
   "execution_count": 16,
   "id": "7b8924e2-42eb-4c7b-b392-c836460d1e1b",
   "metadata": {},
   "outputs": [],
   "source": [
    "%%bash\n",
    "dir_to_be_processed=\"/LUSTRE/sacmod/SIPECAM/cumulo_13/entrega_27.abril.2022/SIPECAM AUDIOS/Nodo 3_13_0_1399 LAS PIEDRAS/Audiomoth 2/Ultra.N5.T3 2\"\n",
    "check_if_there_are_audio_empty_files_in_dir_and_move_them --input_directory_audio \"$dir_to_be_processed\" --number_of_processes 10"
   ]
  },
  {
   "cell_type": "markdown",
   "id": "deedea38-cea4-4c92-9fd3-eef192c466c3",
   "metadata": {},
   "source": [
    "**Extract**"
   ]
  },
  {
   "cell_type": "code",
   "execution_count": 17,
   "id": "073320f6-da5c-44f7-a44e-1092943ccb2e",
   "metadata": {},
   "outputs": [],
   "source": [
    "%%bash\n",
    "dir_to_be_processed=\"/LUSTRE/sacmod/SIPECAM/cumulo_13/entrega_27.abril.2022/SIPECAM AUDIOS/Nodo 3_13_0_1399 LAS PIEDRAS/Audiomoth 2/Ultra.N5.T3 2\"\n",
    "extract_serial_numbers_dates_and_metadata_of_files_and_device --input_dir \"$dir_to_be_processed\" --parallel --number_of_processes 10"
   ]
  },
  {
   "cell_type": "code",
   "execution_count": 18,
   "id": "bddb87a9-e5c1-4325-afcd-3ebca83d74fd",
   "metadata": {},
   "outputs": [
    {
     "name": "stdout",
     "output_type": "stream",
     "text": [
      "{\n",
      "    \"MetadataDevice\": {\n",
      "        \"Artist\": \"AudioMoth 248C7D075B1F81A3\",\n",
      "        \"SerialNumber\": \"248C7D075B1F81A3\"\n",
      "    },\n",
      "    \"MetadataFiles\": {\n",
      "        \"/LUSTRE/sacmod/SIPECAM/cumulo_13/entrega_27.abril.2022/SIPECAM AUDIOS/Nodo 3_13_0_1399 LAS PIEDRAS/Audiomoth 2/Ultra.N5.T3 2/20210823_194000.WAV\": {\n",
      "            \"Battery\": \"4.5V\",\n",
      "            \"Datetime\": \"19:40:00 23/08/2021 (UTC-0600)\",\n",
      "            \"Gain\": \"medium\",\n",
      "            \"Timezone\": \"UTC\",\n",
      "            \"BitRate\": \"6.1 Mbit/sec\",\n",
      "            \"SerialNumber\": \"248C7D075B1F81A3\",\n",
      "            \"FileSize\": \"23 MB\",\n",
      "            \"Encoding\": \"Microsoft PCM\",\n",
      "            \"NumChannels\": 1,\n",
      "            \"SampleRate\": 384000,\n",
      "            \"AvgBytesPerSec\": 768000,\n",
      "            \"BitsPerSample\": 16,\n",
      "            \"Comment\": \"Recorded at 19:40:00 23/08/2021 (UTC-6) by AudioMoth 248C7D075B1F81A3 at medium gain setting while battery state was 4.5V and temperature was 26.4C.\",\n"
     ]
    }
   ],
   "source": [
    "%%bash\n",
    "d=\"/LUSTRE/sacmod/SIPECAM/cumulo_13/entrega_27.abril.2022/SIPECAM AUDIOS/Nodo 3_13_0_1399 LAS PIEDRAS/Audiomoth 2/Ultra.N5.T3 2\"\n",
    "f=$(find \"$d\" -name \"*.json\")\n",
    "python3 -mjson.tool \"$f\"|head -n 20"
   ]
  },
  {
   "cell_type": "code",
   "execution_count": 19,
   "id": "24213000-da30-415b-9955-213938d0f91a",
   "metadata": {},
   "outputs": [
    {
     "name": "stdout",
     "output_type": "stream",
     "text": [
      "            \"Gain\": \"medium\",\n",
      "            \"Timezone\": \"UTC\",\n",
      "            \"BitRate\": \"6.1 Mbit/sec\",\n",
      "            \"SerialNumber\": \"248C7D075B1F81A3\",\n",
      "            \"FileSize\": \"23 MB\",\n",
      "            \"Encoding\": \"Microsoft PCM\",\n",
      "            \"NumChannels\": 1,\n",
      "            \"SampleRate\": 384000,\n",
      "            \"AvgBytesPerSec\": 768000,\n",
      "            \"BitsPerSample\": 16,\n",
      "            \"Comment\": \"Recorded at 19:40:00 22/08/2021 (UTC-6) by AudioMoth 248C7D075B1F81A3 at medium gain setting while battery state was 4.5V and temperature was 22.6C.\",\n",
      "            \"Duration\": 30.0006354166667\n",
      "        }\n",
      "    },\n",
      "    \"FirstAndLastDate\": {\n",
      "        \"/LUSTRE/sacmod/SIPECAM/cumulo_13/entrega_27.abril.2022/SIPECAM AUDIOS/Nodo 3_13_0_1399 LAS PIEDRAS/Audiomoth 2/Ultra.N5.T3 2/20210820_190000.WAV\": \"2021-08-20\",\n",
      "        \"/LUSTRE/sacmod/SIPECAM/cumulo_13/entrega_27.abril.2022/SIPECAM AUDIOS/Nodo 3_13_0_1399 LAS PIEDRAS/Audiomoth 2/Ultra.N5.T3 2/20210824_044000.WAV\": \"2021-08-24\"\n",
      "    },\n",
      "    \"DaysBetweenFirstAndLastDate\": 4\n",
      "}\n"
     ]
    }
   ],
   "source": [
    "%%bash\n",
    "d=\"/LUSTRE/sacmod/SIPECAM/cumulo_13/entrega_27.abril.2022/SIPECAM AUDIOS/Nodo 3_13_0_1399 LAS PIEDRAS/Audiomoth 2/Ultra.N5.T3 2\"\n",
    "f=$(find \"$d\" -name \"*.json\")\n",
    "python3 -mjson.tool \"$f\"|tail -n 20"
   ]
  },
  {
   "cell_type": "markdown",
   "id": "d6c0ef32-f6d5-4de8-b46c-e4839acd8360",
   "metadata": {},
   "source": [
    "**Move**"
   ]
  },
  {
   "cell_type": "code",
   "execution_count": 20,
   "id": "657170ae-e773-4a1b-9901-10bce3c556cb",
   "metadata": {},
   "outputs": [],
   "source": [
    "%%bash\n",
    "path_std_dir=/LUSTRE/sacmod/SIPECAM/data\n",
    "dir_to_be_processed=\"/LUSTRE/sacmod/SIPECAM/cumulo_13/entrega_27.abril.2022/SIPECAM AUDIOS/Nodo 3_13_0_1399 LAS PIEDRAS/Audiomoth 2/Ultra.N5.T3 2\"\n",
    "move_files_to_standard_directory --directory_with_file_of_serial_number_and_dates \"$dir_to_be_processed\" --path_for_standard_directory \"$path_std_dir\""
   ]
  },
  {
   "cell_type": "markdown",
   "id": "a674a00b-3865-4d52-b1a9-d8de9e3888d1",
   "metadata": {},
   "source": [
    "**Check**"
   ]
  },
  {
   "cell_type": "code",
   "execution_count": 21,
   "id": "dfe8001b-13d2-495f-9d9d-444a67d5912f",
   "metadata": {},
   "outputs": [
    {
     "name": "stdout",
     "output_type": "stream",
     "text": [
      "2022-07-12 12:20:14,848 [INFO]  Dir /LUSTRE/sacmod/SIPECAM/cumulo_13/entrega_27.abril.2022/SIPECAM AUDIOS/Nodo 3_13_0_1399 LAS PIEDRAS/Audiomoth 2/Ultra.N5.T3 2 has serial number 248C7D075B1F81A3\n",
      "2022-07-12 12:20:14,850 [INFO]  File /LUSTRE/sacmod/SIPECAM/cumulo_13/entrega_27.abril.2022/SIPECAM AUDIOS/Nodo 3_13_0_1399 LAS PIEDRAS/Audiomoth 2/Ultra.N5.T3 2/20210820_190000.WAV has date 2021-08-20\n",
      "2022-07-12 12:20:14,850 [INFO]  File /LUSTRE/sacmod/SIPECAM/cumulo_13/entrega_27.abril.2022/SIPECAM AUDIOS/Nodo 3_13_0_1399 LAS PIEDRAS/Audiomoth 2/Ultra.N5.T3 2/20210824_044000.WAV has date 2021-08-24\n",
      "2022-07-12 12:20:14,850 [INFO]  DaysBetweenFirstAndLastDate: 4\n",
      "2022-07-12 12:20:15,004 [INFO]  Query to Zendro GQL: query {\n",
      "  physical_devices(pagination: {limit: 0}, search: {field: comments, value: \"ADM248C7D075B1F81A3\", operator: like}) {\n",
      "    device_deploymentsFilter(pagination: {limit: 0}, search: {operator: and, search: [{field: date_deployment, value: \"2021-08-20\", valueType: String, operator: gte}, {field: date_deployment, value: \"2021-08-24\", valueType: String, operator: lte}]}) {\n",
      "      node {\n",
      "        nomenclatura\n",
      "        cat_integr\n",
      "        ecosystems {\n",
      "          name\n",
      "        }\n",
      "      }\n",
      "      cumulus {\n",
      "        name\n",
      "        geometry\n",
      "      }\n",
      "      date_deployment\n",
      "      latitude\n",
      "      longitude\n",
      "    }\n",
      "  }\n",
      "}\n",
      "2022-07-12 12:20:15,004 [INFO]  last query wasn't successful\n",
      "2022-07-12 12:20:15,134 [INFO]  Query alternative auxiliar to Zendro GQL: query {\n",
      "  physical_devices(pagination: {limit: 0}, search: {field: comments, value: \"ADM248C7D075B1F81A3\", operator: like}) {\n",
      "    device_deploymentsFilter(pagination: {limit: 0}) {\n",
      "      date_deployment\n",
      "    }\n",
      "  }\n",
      "}\n",
      "2022-07-12 12:20:15,137 [INFO]  local variable 'idx_date' referenced before assignment\n",
      "2022-07-12 12:20:15,138 [INFO]  unsuccessful query query {\n",
      "  physical_devices(pagination: {limit: 0}, search: {field: comments, value: \"ADM248C7D075B1F81A3\", operator: like}) {\n",
      "    device_deploymentsFilter(pagination: {limit: 0}) {\n",
      "      date_deployment\n",
      "    }\n",
      "  }\n",
      "} or error when moving files to standard dir\n"
     ]
    }
   ],
   "source": [
    "%%bash\n",
    "f=\"/LUSTRE/sacmod/SIPECAM/cumulo_13/entrega_27.abril.2022/SIPECAM AUDIOS/Nodo 3_13_0_1399 LAS PIEDRAS/Audiomoth 2/Ultra.N5.T3 2\"\n",
    "logs_file=$(find \"$f\" -name \"logs_simex_move_files_to_standard_directory.logs\")\n",
    "head -n 50 \"$logs_file\""
   ]
  },
  {
   "cell_type": "markdown",
   "id": "0e02cae3-54e6-4b58-bd05-3f92a1a1c3ad",
   "metadata": {},
   "source": [
    "**Solutions were written in [6_revision_of_past_executions.ipynb](https://github.com/CONABIO/sipecam-metadata-extractor/blob/develop/notebooks/history_SiPeCaM/6_revision_of_past_executions.ipynb) for 25),26),27) cases**"
   ]
  },
  {
   "cell_type": "code",
   "execution_count": null,
   "id": "dfb3f41b-f30f-4723-8087-fa5856dbb134",
   "metadata": {},
   "outputs": [],
   "source": []
  },
  {
   "cell_type": "code",
   "execution_count": null,
   "id": "ab1aa7ea-99c2-4bae-9dba-10a3130e0ab6",
   "metadata": {},
   "outputs": [],
   "source": []
  },
  {
   "cell_type": "markdown",
   "id": "86a92760-a6d4-449e-bfa6-edca53ef8478",
   "metadata": {},
   "source": [
    "# Are there images, videos, recordings that still need to be moved?"
   ]
  },
  {
   "cell_type": "code",
   "execution_count": 2,
   "id": "a123191c-8f1d-4b84-8a15-f9ce536ebcdc",
   "metadata": {},
   "outputs": [],
   "source": [
    "%%bash\n",
    "if [ -f ~/list_dirs_with_audios.txt ]; then\n",
    "     rm ~/list_dirs_with_audios.txt\n",
    "fi\n",
    "if [ -f ~/list_dirs_with_audios_auxiliary.txt ]; then\n",
    "     rm ~/list_dirs_with_audios_auxiliary.txt\n",
    "fi\n",
    "SAVEIFS=$IFS;IFS=$(echo -en \"\\n\\b\")\n",
    "for f in $(find /LUSTRE/sacmod/SIPECAM/cumulo_13/entrega_27.abril.2022/ -name \"*.WAV\")\n",
    "  do\n",
    "     dir_audio=$(dirname $f)\n",
    "     echo \"$dir_audio\" >> ~/list_dirs_with_audios_auxiliary.txt\n",
    "done\n",
    "dirs_audio=$(cat ~/list_dirs_with_audios_auxiliary.txt|uniq)\n",
    "echo \"$dirs_audio\" > ~/list_dirs_with_audios.txt\n",
    "IFS=$SAVEIFS"
   ]
  },
  {
   "cell_type": "code",
   "execution_count": 1,
   "id": "74657e74-e6b0-4c4d-ac6b-01f2c3646eb6",
   "metadata": {},
   "outputs": [],
   "source": [
    "%%bash\n",
    "if [ -f ~/list_dirs_with_images.txt ]; then\n",
    "     rm ~/list_dirs_with_images.txt\n",
    "fi\n",
    "if [ -f ~/list_dirs_with_images_auxiliary.txt ]; then\n",
    "     rm ~/list_dirs_with_images_auxiliary.txt\n",
    "fi\n",
    "SAVEIFS=$IFS;IFS=$(echo -en \"\\n\\b\")\n",
    "for f in $(find /LUSTRE/sacmod/SIPECAM/cumulo_13/entrega_27.abril.2022/ -name \"*.JPG\")\n",
    "  do\n",
    "     dir_image=$(dirname $f)\n",
    "     echo \"$dir_image\" >> ~/list_dirs_with_images_auxiliary.txt\n",
    "done\n",
    "dirs_image=$(cat ~/list_dirs_with_images_auxiliary.txt|uniq)\n",
    "echo \"$dirs_image\" > ~/list_dirs_with_images.txt\n",
    "IFS=$SAVEIFS"
   ]
  },
  {
   "cell_type": "code",
   "execution_count": 2,
   "id": "6e862a7f-aaca-46e5-acad-27f7976be751",
   "metadata": {},
   "outputs": [],
   "source": [
    "%%bash\n",
    "if [ -f ~/list_dirs_with_videos.txt ]; then\n",
    "     rm ~/list_dirs_with_videos.txt\n",
    "fi\n",
    "if [ -f ~/list_dirs_with_videos_auxiliary.txt ]; then\n",
    "     rm ~/list_dirs_with_videos_auxiliary.txt\n",
    "fi\n",
    "SAVEIFS=$IFS;IFS=$(echo -en \"\\n\\b\")\n",
    "for f in $(find /LUSTRE/sacmod/SIPECAM/cumulo_13/entrega_27.abril.2022/ -name \"*.AVI\")\n",
    "  do\n",
    "     dir_video=$(dirname $f)\n",
    "     echo \"$dir_video\" >> ~/list_dirs_with_videos_auxiliary.txt\n",
    "done\n",
    "dirs_video=$(cat ~/list_dirs_with_videos_auxiliary.txt|uniq)\n",
    "echo \"$dirs_video\" > ~/list_dirs_with_videos.txt\n",
    "IFS=$SAVEIFS"
   ]
  },
  {
   "cell_type": "code",
   "execution_count": 3,
   "id": "3ac42eee-a3dc-4e82-ba3a-0708a6f7c787",
   "metadata": {},
   "outputs": [
    {
     "name": "stdout",
     "output_type": "stream",
     "text": [
      "/LUSTRE/sacmod/SIPECAM/cumulo_13/entrega_27.abril.2022/SIPECAM AUDIOS/Nodo 3_13_1_1393/Ultra/10263609\n",
      "/LUSTRE/sacmod/SIPECAM/cumulo_13/entrega_27.abril.2022/SIPECAM AUDIOS/Nodo 3_13_1_1393/Grabadoras/Audible 2/10261149/error\n",
      "/LUSTRE/sacmod/SIPECAM/cumulo_13/entrega_27.abril.2022/SIPECAM AUDIOS/Nodo 3_13_0_1399 LAS PIEDRAS/Audiomoth 1/AudioMoths.N5.T4/error\n",
      "/LUSTRE/sacmod/SIPECAM/cumulo_13/entrega_27.abril.2022/SIPECAM AUDIOS/Nodo 3_13_0_1399 LAS PIEDRAS/Audiomoth 1/Ultra.N5.T3\n",
      "/LUSTRE/sacmod/SIPECAM/cumulo_13/entrega_27.abril.2022/SIPECAM AUDIOS/Nodo 3_13_0_1399 LAS PIEDRAS/Audiomoth 1/Ultra.N5.T3/error\n",
      "/LUSTRE/sacmod/SIPECAM/cumulo_13/entrega_27.abril.2022/SIPECAM AUDIOS/Nodo 3_13_0_1399 LAS PIEDRAS/Audiomoth 1/Ultra.N5.T3\n",
      "/LUSTRE/sacmod/SIPECAM/cumulo_13/entrega_27.abril.2022/SIPECAM AUDIOS/Nodo 3_13_0_1399 LAS PIEDRAS/Audiomoth 1/AudioMoth\n",
      "/LUSTRE/sacmod/SIPECAM/cumulo_13/entrega_27.abril.2022/SIPECAM AUDIOS/Nodo 3_13_0_1399 LAS PIEDRAS/Audiomoth 3\n",
      "/LUSTRE/sacmod/SIPECAM/cumulo_13/entrega_27.abril.2022/SIPECAM AUDIOS/Nodo 3_13_0_1399 LAS PIEDRAS/Audiomoth 2/AudioMoths.N5.T4/Audio/error\n",
      "/LUSTRE/sacmod/SIPECAM/cumulo_13/entrega_27.abril.2022/SIPECAM AUDIOS/Nodo 3_13_0_1399 LAS PIEDRAS/Audiomoth 2/Ultra.N5.T3\n",
      "/LUSTRE/sacmod/SIPECAM/cumulo_13/entrega_27.abril.2022/SIPECAM AUDIOS/Nodo 3_13_0_1399 LAS PIEDRAS/Audiomoth 2/Ultra.N5.T3/error\n",
      "/LUSTRE/sacmod/SIPECAM/cumulo_13/entrega_27.abril.2022/SIPECAM AUDIOS/Nodo 3_13_0_1399 LAS PIEDRAS/Audiomoth 2/Ultra.N5.T3\n",
      "/LUSTRE/sacmod/SIPECAM/cumulo_13/entrega_27.abril.2022/SIPECAM AUDIOS/Nodo 3_13_0_1399 LAS PIEDRAS/Audiomoth 2/Ultra.N5.T3 2\n",
      "/LUSTRE/sacmod/SIPECAM/cumulo_13/entrega_27.abril.2022/SIPECAM AUDIOS/21-10-21 a 29-11-21\n",
      "/LUSTRE/sacmod/SIPECAM/cumulo_13/entrega_27.abril.2022/SIPECAM AUDIOS/21-10-21 a 29-11-21/error\n",
      "/LUSTRE/sacmod/SIPECAM/cumulo_13/entrega_27.abril.2022/SIPECAM AUDIOS/21-10-21 a 29-11-21\n",
      "/LUSTRE/sacmod/SIPECAM/cumulo_13/entrega_27.abril.2022/SIPECAM AUDIOS/Nodo 3_13_1_1392 NICTEHA 2/10262012/error/error\n",
      "/LUSTRE/sacmod/SIPECAM/cumulo_13/entrega_27.abril.2022/SIPECAM AUDIOS/Nodo 3_13_1_1392 NICTEHA 2/10262089/error\n",
      "/LUSTRE/sacmod/SIPECAM/cumulo_13/entrega_27.abril.2022/SIPECAM AUDIOS/NODO 3_13_0_1401 EL SANTUARIO/Audiomoth\n",
      "/LUSTRE/sacmod/SIPECAM/cumulo_13/entrega_27.abril.2022/SIPECAM AUDIOS/NODO 3_13_0_1401 EL SANTUARIO/Audiomoth/error\n",
      "/LUSTRE/sacmod/SIPECAM/cumulo_13/entrega_27.abril.2022/SIPECAM AUDIOS/NODO 3_13_0_1401 EL SANTUARIO/Audiomoth\n",
      "/LUSTRE/sacmod/SIPECAM/cumulo_13/entrega_27.abril.2022/SIPECAM AUDIOS/NODO 3_13_0_1401 EL SANTUARIO/10262153\n",
      "/LUSTRE/sacmod/SIPECAM/cumulo_13/entrega_27.abril.2022/SIPECAM AUDIOS/NODO 3_13_0_1401 EL SANTUARIO/10262153/error\n",
      "/LUSTRE/sacmod/SIPECAM/cumulo_13/entrega_27.abril.2022/SIPECAM AUDIOS/NODO 3_13_0_1401 EL SANTUARIO/10262153\n",
      "/LUSTRE/sacmod/SIPECAM/cumulo_13/entrega_27.abril.2022/SIPECAM AUDIOS/NODO 3_13_0_1401 EL SANTUARIO/10309403\n",
      "/LUSTRE/sacmod/SIPECAM/cumulo_13/entrega_27.abril.2022/SIPECAM AUDIOS/NODO 3_13_0_1401 EL SANTUARIO/10309403/error\n",
      "/LUSTRE/sacmod/SIPECAM/cumulo_13/entrega_27.abril.2022/SIPECAM AUDIOS/NODO 3_13_0_1401 EL SANTUARIO/10309403\n",
      "/LUSTRE/sacmod/SIPECAM/cumulo_13/entrega_27.abril.2022/SIPECAM AUDIOS/Nodo 3_13_0_1400 VILLAROSA/10262719\n",
      "/LUSTRE/sacmod/SIPECAM/cumulo_13/entrega_27.abril.2022/SIPECAM AUDIOS/Nodo 3_13_0_1400 VILLAROSA/10262153\n",
      "/LUSTRE/sacmod/SIPECAM/cumulo_13/entrega_27.abril.2022/SIPECAM AUDIOS/Nodo 3_13_0_1400 VILLAROSA/10306526\n",
      "/LUSTRE/sacmod/SIPECAM/cumulo_13/entrega_27.abril.2022/SIPECAM AUDIOS/Nodo 3_13_0_1400 VILLAROSA/10306526/error\n",
      "/LUSTRE/sacmod/SIPECAM/cumulo_13/entrega_27.abril.2022/SIPECAM AUDIOS/Nodo 3_13_0_1400 VILLAROSA/10306526\n",
      "/LUSTRE/sacmod/SIPECAM/cumulo_13/entrega_27.abril.2022/SIPECAM AUDIOS/Nodo 3_13_0_1400 VILLAROSA/10263606\n",
      "/LUSTRE/sacmod/SIPECAM/cumulo_13/entrega_27.abril.2022/SIPECAM AUDIOS/Nodo 3_13_0_1400 VILLAROSA/10262333\n",
      "/LUSTRE/sacmod/SIPECAM/cumulo_13/entrega_27.abril.2022/SIPECAM AUDIOS/Nodo 3_13_0_1400 VILLAROSA/10262333/error\n",
      "/LUSTRE/sacmod/SIPECAM/cumulo_13/entrega_27.abril.2022/SIPECAM AUDIOS/Nodo 3_13_0_1400 VILLAROSA/10262333\n",
      "/LUSTRE/sacmod/SIPECAM/cumulo_13/entrega_27.abril.2022/SIPECAM AUDIOS/Nodo 3_13_0_1400 VILLAROSA/10309403\n",
      "/LUSTRE/sacmod/SIPECAM/cumulo_13/entrega_27.abril.2022/SIPECAM AUDIOS/Nodo 3_13_1_1394 NICTEHA 1/10263609/error\n",
      "/LUSTRE/sacmod/SIPECAM/cumulo_13/entrega_27.abril.2022/SIPECAM AUDIOS/Nodo 3_13_1_1394 NICTEHA 1/10262012/error\n",
      "/LUSTRE/sacmod/SIPECAM/cumulo_13/entrega_27.abril.2022/SIPECAM AUDIOS/Nodo 3_13_1_1394 NICTEHA 1/10262223/error\n",
      "/LUSTRE/sacmod/SIPECAM/cumulo_13/entrega_27.abril.2022/SIPECAM AUDIOS/Nodo 3_13_1_1394 NICTEHA 1/10262089/error\n",
      "/LUSTRE/sacmod/SIPECAM/cumulo_13/entrega_27.abril.2022/found.000/dir0000.chk/HLPXGM 09048480/error\n",
      "/LUSTRE/sacmod/SIPECAM/cumulo_13/entrega_27.abril.2022/RESPALDO MICRO SD AURA/NODO 3_13_1_1393/2/Grabadoras/Audible/10261149/error\n",
      "/LUSTRE/sacmod/SIPECAM/cumulo_13/entrega_27.abril.2022/RESPALDO MICRO SD AURA/NODO 3_13_1_1393/GRABADORAS/ultra/10263609\n",
      "/LUSTRE/sacmod/SIPECAM/cumulo_13/entrega_27.abril.2022/RESPALDO MICRO SD AURA/NODO 3_13_1_1393/GRABADORAS/ultra/10263609/10263609\n",
      "/LUSTRE/sacmod/SIPECAM/cumulo_13/entrega_27.abril.2022/RESPALDO MICRO SD AURA/NODO 3_13_1_1393/GRABADORAS/ultra/10263609/10263609/error\n",
      "/LUSTRE/sacmod/SIPECAM/cumulo_13/entrega_27.abril.2022/RESPALDO MICRO SD AURA/NODO 3_13_1_1393/GRABADORAS/ultra/10263609/10263609\n",
      "/LUSTRE/sacmod/SIPECAM/cumulo_13/entrega_27.abril.2022/RESPALDO MICRO SD AURA/NODO 3_13_1_1393/GRABADORAS/ultra/10263609\n",
      "/LUSTRE/sacmod/SIPECAM/cumulo_13/entrega_27.abril.2022/RESPALDO MICRO SD AURA/NODO 3_13_1_1393/GRABADORAS/ultra/10262223\n",
      "/LUSTRE/sacmod/SIPECAM/cumulo_13/entrega_27.abril.2022/RESPALDO MICRO SD AURA/NODO 3_13_1_1393/GRABADORAS/ultra/10262223/error\n",
      "/LUSTRE/sacmod/SIPECAM/cumulo_13/entrega_27.abril.2022/RESPALDO MICRO SD AURA/NODO 3_13_1_1393/GRABADORAS/ultra/10262223\n",
      "/LUSTRE/sacmod/SIPECAM/cumulo_13/entrega_27.abril.2022/RESPALDO MICRO SD AURA/GRABADORAS/4/error\n",
      "/LUSTRE/sacmod/SIPECAM/cumulo_13/entrega_27.abril.2022/RESPALDO MICRO SD AURA/GRABADORAS/2/error\n",
      "/LUSTRE/sacmod/SIPECAM/cumulo_13/entrega_27.abril.2022/RESPALDO MICRO SD AURA/GRABADORAS/1/error\n",
      "/LUSTRE/sacmod/SIPECAM/cumulo_13/entrega_27.abril.2022/RESPALDO MICRO SD AURA/GRABADORAS/5/error\n"
     ]
    }
   ],
   "source": [
    "%%bash\n",
    "cat ~/list_dirs_with_audios.txt"
   ]
  },
  {
   "cell_type": "code",
   "execution_count": 4,
   "id": "5697d097-669d-4066-b22b-57eee4176c74",
   "metadata": {},
   "outputs": [
    {
     "name": "stdout",
     "output_type": "stream",
     "text": [
      "/LUSTRE/sacmod/SIPECAM/cumulo_13/entrega_27.abril.2022/found.000/dir0000.chk/HLPXGM 09048480/DCIM/100RECNX\n",
      "/LUSTRE/sacmod/SIPECAM/cumulo_13/entrega_27.abril.2022/SIPECAM FOTOS/Nodo 3_13_1_1393/FOTOS Camara-trampa 2\n",
      "/LUSTRE/sacmod/SIPECAM/cumulo_13/entrega_27.abril.2022/SIPECAM FOTOS/Nodo 3_13_1_1393/FOTOS Cámara-trampa\n",
      "/LUSTRE/sacmod/SIPECAM/cumulo_13/entrega_27.abril.2022/SIPECAM FOTOS/Nodo 3_13_1_1396 LA LEONA/HLPXGM09048888/FOTOS\n",
      "/LUSTRE/sacmod/SIPECAM/cumulo_13/entrega_27.abril.2022/SIPECAM FOTOS/Nodo 3_13_1_1396 LA LEONA/HLPXGM09049504/FOTOS\n",
      "/LUSTRE/sacmod/SIPECAM/cumulo_13/entrega_27.abril.2022/SIPECAM FOTOS/Nodo 3_13_0_1400 VILLAROSA/HLPXGM09048483/FOTOS\n",
      "/LUSTRE/sacmod/SIPECAM/cumulo_13/entrega_27.abril.2022/SIPECAM FOTOS/Nodo 3_13_0_1400 VILLAROSA/HLPXGM09048209/FOTOS\n",
      "/LUSTRE/sacmod/SIPECAM/cumulo_13/entrega_27.abril.2022/SIPECAM FOTOS/Nodo 3_13_0_1398 FRENO/HLPXGM09048483/FOTOS\n",
      "/LUSTRE/sacmod/SIPECAM/cumulo_13/entrega_27.abril.2022/SIPECAM FOTOS/Nodo 3_13_0_1398 FRENO/HLPXGM09048449/FOTOS\n",
      "/LUSTRE/sacmod/SIPECAM/cumulo_13/entrega_27.abril.2022/SIPECAM FOTOS/Nodo 3_13_0_1398 FRENO/HLPXGM09048209/FOTOS\n",
      "/LUSTRE/sacmod/SIPECAM/cumulo_13/entrega_27.abril.2022/RESPALDO MICRO SD AURA/NODO 3_13_1_1393/2/Cámara-trampa\n",
      "/LUSTRE/sacmod/SIPECAM/cumulo_13/entrega_27.abril.2022/RESPALDO MICRO SD AURA/NODO 3_13_1_1393/2/camara2\n",
      "/LUSTRE/sacmod/SIPECAM/cumulo_13/entrega_27.abril.2022/RESPALDO MICRO SD AURA/CAMARAS/4/DCIM/100RECNX\n"
     ]
    }
   ],
   "source": [
    "%%bash\n",
    "cat ~/list_dirs_with_images.txt"
   ]
  },
  {
   "cell_type": "code",
   "execution_count": 5,
   "id": "b3f7f074-35c6-487a-ae4e-e56822d7cb42",
   "metadata": {},
   "outputs": [
    {
     "name": "stdout",
     "output_type": "stream",
     "text": [
      "/LUSTRE/sacmod/SIPECAM/cumulo_13/entrega_27.abril.2022/found.000/dir0000.chk/HLPXGM 09048480/DCIM/100RECNX\n",
      "/LUSTRE/sacmod/SIPECAM/cumulo_13/entrega_27.abril.2022/SIPECAM FOTOS/Nodo 3_13_1_1393/FOTOS Camara-trampa 2\n",
      "/LUSTRE/sacmod/SIPECAM/cumulo_13/entrega_27.abril.2022/SIPECAM FOTOS/Nodo 3_13_1_1396 LA LEONA/HLPXGM09048888/FOTOS\n",
      "/LUSTRE/sacmod/SIPECAM/cumulo_13/entrega_27.abril.2022/SIPECAM FOTOS/Nodo 3_13_1_1396 LA LEONA/HLPXGM09049504/FOTOS\n",
      "/LUSTRE/sacmod/SIPECAM/cumulo_13/entrega_27.abril.2022/SIPECAM FOTOS/Nodo 3_13_0_1400 VILLAROSA/HLPXGM09048483/FOTOS\n",
      "/LUSTRE/sacmod/SIPECAM/cumulo_13/entrega_27.abril.2022/SIPECAM FOTOS/Nodo 3_13_0_1400 VILLAROSA/HLPXGM09048209/FOTOS\n",
      "/LUSTRE/sacmod/SIPECAM/cumulo_13/entrega_27.abril.2022/SIPECAM FOTOS/Nodo 3_13_0_1398 FRENO/HLPXGM09048483/FOTOS\n",
      "/LUSTRE/sacmod/SIPECAM/cumulo_13/entrega_27.abril.2022/SIPECAM FOTOS/Nodo 3_13_0_1398 FRENO/HLPXGM09048449/FOTOS\n",
      "/LUSTRE/sacmod/SIPECAM/cumulo_13/entrega_27.abril.2022/SIPECAM FOTOS/Nodo 3_13_0_1398 FRENO/HLPXGM09048209/FOTOS\n",
      "/LUSTRE/sacmod/SIPECAM/cumulo_13/entrega_27.abril.2022/RESPALDO MICRO SD AURA/NODO 3_13_1_1393/2/camara2\n"
     ]
    }
   ],
   "source": [
    "%%bash\n",
    "cat ~/list_dirs_with_videos.txt"
   ]
  },
  {
   "cell_type": "code",
   "execution_count": null,
   "id": "99b97be6-c445-4a81-8a50-d57d8cda1363",
   "metadata": {},
   "outputs": [],
   "source": []
  },
  {
   "cell_type": "markdown",
   "id": "529d7354-f14d-43eb-878e-f1723c55747c",
   "metadata": {
    "tags": []
   },
   "source": [
    "\n",
    "# Delivery /LUSTRE/sacmod/SIPECAM/Cumulo_96\n"
   ]
  },
  {
   "cell_type": "code",
   "execution_count": null,
   "id": "2a27601d-6157-4e03-8c2b-e8b7c442d87f",
   "metadata": {},
   "outputs": [],
   "source": []
  }
 ],
 "metadata": {
  "kernelspec": {
   "display_name": "Python 3 (ipykernel)",
   "language": "python",
   "name": "python3"
  },
  "language_info": {
   "codemirror_mode": {
    "name": "ipython",
    "version": 3
   },
   "file_extension": ".py",
   "mimetype": "text/x-python",
   "name": "python",
   "nbconvert_exporter": "python",
   "pygments_lexer": "ipython3",
   "version": "3.8.10"
  }
 },
 "nbformat": 4,
 "nbformat_minor": 5
}
