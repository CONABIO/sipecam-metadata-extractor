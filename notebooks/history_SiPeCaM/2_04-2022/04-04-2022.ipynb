{
 "cells": [
  {
   "cell_type": "markdown",
   "id": "e90e09ba-4657-4777-8b24-8b92bed2dfce",
   "metadata": {},
   "source": [
    "Create txt with list of dirs that are on LUSTRE... data for std dir"
   ]
  },
  {
   "cell_type": "code",
   "execution_count": 12,
   "id": "a8462017-2f67-4d8b-9c9b-5a44e049f564",
   "metadata": {},
   "outputs": [],
   "source": [
    "%%bash\n",
    "dir_to_be_processed=\"/LUSTRE/sacmod/SIPECAM/data/\"\n",
    "if [ -f ~/list_dirs_already_registered_in_std_dir.txt ]; then\n",
    "     rm ~/list_dirs_already_registered_in_std_dir.txt\n",
    "fi\n",
    "if [ -f ~/list_dirs_already_registered_in_std_dir_auxiliary.txt ]; then\n",
    "     rm ~/list_dirs_already_registered_in_std_dir_auxiliary.txt\n",
    "fi\n",
    "SAVEIFS=$IFS;IFS=$(echo -en \"\\n\\b\")\n",
    "for f in $(find \"$dir_to_be_processed\" -name \"*.WAV\" -o -name \"*.JPG\" -o -name \"*.AVI\")\n",
    "  do\n",
    "     direc=$(dirname $f)\n",
    "     echo \"$direc\" >> ~/list_dirs_already_registered_in_std_dir_auxiliary.txt\n",
    "done\n",
    "direcs=$(cat ~/list_dirs_already_registered_in_std_dir_auxiliary.txt|uniq)\n",
    "echo \"$direcs\" > ~/list_dirs_already_registered_in_std_dir.txt\n",
    "IFS=$SAVEIFS"
   ]
  },
  {
   "cell_type": "markdown",
   "id": "ce5305e1-a273-4c17-95c4-7a799bf88e4b",
   "metadata": {
    "tags": []
   },
   "source": [
    "# Delivery: /LUSTRE/sacmod/SIPECAM/Cumulo_32/fecha_entrga_28.Marzo.2022/"
   ]
  },
  {
   "cell_type": "markdown",
   "id": "50181d23-97d0-4dcb-9580-f9de470a80ce",
   "metadata": {
    "tags": []
   },
   "source": [
    "## List of files to extract metadata\n"
   ]
  },
  {
   "cell_type": "code",
   "execution_count": 1,
   "id": "7423908d-34a4-4b13-8095-914a22d0bd94",
   "metadata": {},
   "outputs": [],
   "source": [
    "%%bash\n",
    "dir_with_sipecam_data=\"/LUSTRE/sacmod/SIPECAM/Cumulo_32/fecha_entrga_28.Marzo.2022/\"\n",
    "list_of_files_and_subdirectories_to_extract_metadata --input_directory \"$dir_with_sipecam_data\""
   ]
  },
  {
   "cell_type": "markdown",
   "id": "ade9bf5d-b2b1-48c5-8051-61ee6bec9dce",
   "metadata": {},
   "source": [
    "## Check"
   ]
  },
  {
   "cell_type": "code",
   "execution_count": 2,
   "id": "e35fb65d-1e82-49d1-8dcd-d7e67f9b742e",
   "metadata": {},
   "outputs": [
    {
     "name": "stdout",
     "output_type": "stream",
     "text": [
      "-rw-r--r-- 1 root root 9.6K Apr  4 12:50 /shared_volume/sipecam_subdirectories_04-04-2022.txt\n"
     ]
    }
   ],
   "source": [
    "%%bash\n",
    "ls -lh /shared_volume/sipecam_subdirectories_04-04-2022.txt"
   ]
  },
  {
   "cell_type": "code",
   "execution_count": 3,
   "id": "d21c32ee-6057-4ee2-84e1-8c9b0cdca7f8",
   "metadata": {},
   "outputs": [
    {
     "name": "stdout",
     "output_type": "stream",
     "text": [
      "-rw-r--r-- 1 root root 18M Apr  4 12:50 /shared_volume/sipecam_files_to_extract_metadata_from_04-04-2022.txt\n"
     ]
    }
   ],
   "source": [
    "%%bash\n",
    "ls -lh /shared_volume/sipecam_files_to_extract_metadata_from_04-04-2022.txt"
   ]
  },
  {
   "cell_type": "code",
   "execution_count": 4,
   "id": "b0b15deb-8440-4360-8a01-d9dcd1222894",
   "metadata": {},
   "outputs": [
    {
     "name": "stdout",
     "output_type": "stream",
     "text": [
      "75 /shared_volume/sipecam_subdirectories_04-04-2022.txt\n"
     ]
    }
   ],
   "source": [
    "%%bash\n",
    "wc -l /shared_volume/sipecam_subdirectories_04-04-2022.txt"
   ]
  },
  {
   "cell_type": "code",
   "execution_count": 5,
   "id": "90693461-bef9-44f3-8f73-b5453233acbd",
   "metadata": {},
   "outputs": [
    {
     "name": "stdout",
     "output_type": "stream",
     "text": [
      "117574 /shared_volume/sipecam_files_to_extract_metadata_from_04-04-2022.txt\n"
     ]
    }
   ],
   "source": [
    "%%bash\n",
    "wc -l /shared_volume/sipecam_files_to_extract_metadata_from_04-04-2022.txt"
   ]
  },
  {
   "cell_type": "code",
   "execution_count": 6,
   "id": "1095a8d4-fd99-422f-a141-0f4ed2fbbf20",
   "metadata": {},
   "outputs": [
    {
     "name": "stdout",
     "output_type": "stream",
     "text": [
      "/LUSTRE/sacmod/SIPECAM/Cumulo_32/fecha_entrga_28.Marzo.2022/visita_2/Noviembre_2021/4-32-1-1287/grabadoras/ultrasonico/camara_03_par2\n",
      "20211020_180000.WAV\n",
      "20211020_182000.WAV\n",
      "20211020_184000.WAV\n",
      "/LUSTRE/sacmod/SIPECAM/Cumulo_32/fecha_entrga_28.Marzo.2022/visita_2/Noviembre_2021/4-32-1-1287/grabadoras/ultrasonico/camara_05_par3\n",
      "19700101_000005.WAV\n",
      "19700101_000006.WAV\n",
      "19700101_000016.WAV\n",
      "/LUSTRE/sacmod/SIPECAM/Cumulo_32/fecha_entrga_28.Marzo.2022/visita_2/Noviembre_2021/4-32-1-1287/grabadoras/ultrasonico/camara_01_par1\n",
      "19700101_000022.WAV\n",
      "20211021_180000.WAV\n",
      "20211021_182000.WAV\n",
      "/LUSTRE/sacmod/SIPECAM/Cumulo_32/fecha_entrga_28.Marzo.2022/visita_2/Noviembre_2021/4-32-1-1287/grabadoras/audible/camara_05_par_03\n",
      "20211020_124000.WAV\n",
      "20211020_124043.WAV\n",
      "20211020_125000.WAV\n",
      "/LUSTRE/sacmod/SIPECAM/Cumulo_32/fecha_entrga_28.Marzo.2022/visita_2/Noviembre_2021/4-32-1-1287/grabadoras/audible/camara_01_par01\n",
      "20211021_221000.WAV\n",
      "20211021_222000.WAV\n",
      "20211021_223000.WAV\n",
      "/LUSTRE/sacmod/SIPECAM/Cumulo_32/fecha_entrga_28.Marzo.2022/visita_2/Noviembre_2021/4-32-1-1287/grabadoras/audible/camara_03_par02\n",
      "20211021_214000.WAV\n",
      "20211021_215000.WAV\n",
      "20211021_220000.WAV\n",
      "/LUSTRE/sacmod/SIPECAM/Cumulo_32/fecha_entrga_28.Marzo.2022/visita_2/Noviembre_2021/4-32-0-1281/grabadoras/ultrasonico/camara10_par02\n",
      "20211020_180000.WAV\n",
      "20211020_182000.WAV\n",
      "20211020_184000.WAV\n",
      "/LUSTRE/sacmod/SIPECAM/Cumulo_32/fecha_entrga_28.Marzo.2022/visita_2/Noviembre_2021/4-32-0-1281/grabadoras/ultrasonico/camara06_par01\n",
      "20211020_180000.WAV\n",
      "20211020_182000.WAV\n",
      "20211020_184000.WAV\n",
      "/LUSTRE/sacmod/SIPECAM/Cumulo_32/fecha_entrga_28.Marzo.2022/visita_2/Noviembre_2021/4-32-0-1281/grabadoras/ultrasonico/camara08_par03\n",
      "20211020_180000.WAV\n",
      "20211020_182000.WAV\n",
      "20211020_184000.WAV\n",
      "/LUSTRE/sacmod/SIPECAM/Cumulo_32/fecha_entrga_28.Marzo.2022/visita_2/Noviembre_2021/4-32-0-1281/grabadoras/audible/camara10_par02\n",
      "20211020_114000.WAV\n",
      "20211020_115000.WAV\n",
      "20211020_120000.WAV\n",
      "/LUSTRE/sacmod/SIPECAM/Cumulo_32/fecha_entrga_28.Marzo.2022/visita_2/Noviembre_2021/4-32-0-1281/grabadoras/audible/camara06_par01\n",
      "20211020_120000.WAV\n",
      "20211020_121000.WAV\n",
      "20211020_122000.WAV\n",
      "/LUSTRE/sacmod/SIPECAM/Cumulo_32/fecha_entrga_28.Marzo.2022/visita_2/Noviembre_2021/4-32-0-1281/grabadoras/audible/camara08_par03\n",
      "20211020_115000.WAV\n",
      "20211020_120000.WAV\n",
      "20211020_121000.WAV\n",
      "/LUSTRE/sacmod/SIPECAM/Cumulo_32/fecha_entrga_28.Marzo.2022/visita_3/Dic_21_-_Enero_22/4-32-1-1285/grabadoras/ultrasonico/camara_01_par01\n",
      "20211207_182000.WAV\n",
      "20211207_184000.WAV\n",
      "20211207_190000.WAV\n",
      "/LUSTRE/sacmod/SIPECAM/Cumulo_32/fecha_entrga_28.Marzo.2022/visita_3/Dic_21_-_Enero_22/4-32-1-1285/grabadoras/ultrasonico/camara_03_par02\n",
      "20211209_180000.WAV\n",
      "20211209_182000.WAV\n",
      "20211209_184000.WAV\n",
      "/LUSTRE/sacmod/SIPECAM/Cumulo_32/fecha_entrga_28.Marzo.2022/visita_3/Dic_21_-_Enero_22/4-32-1-1285/grabadoras/ultrasonico/camara_05_par03\n",
      "20211209_180000.WAV\n",
      "20211209_182000.WAV\n",
      "20211209_184000.WAV\n",
      "/LUSTRE/sacmod/SIPECAM/Cumulo_32/fecha_entrga_28.Marzo.2022/visita_3/Dic_21_-_Enero_22/4-32-1-1285/grabadoras/audible/camara_03_par02\n",
      "20211207_183050.WAV\n",
      "20211209_135000.WAV\n",
      "20211209_141000.WAV\n",
      "/LUSTRE/sacmod/SIPECAM/Cumulo_32/fecha_entrga_28.Marzo.2022/visita_3/Dic_21_-_Enero_22/4-32-1-1285/grabadoras/audible/camara_05_par03\n",
      "20211209_160000.WAV\n",
      "20211209_161000.WAV\n",
      "20211209_162000.WAV\n",
      "/LUSTRE/sacmod/SIPECAM/Cumulo_32/fecha_entrga_28.Marzo.2022/visita_3/Dic_21_-_Enero_22/4-32-0-1279/grabadoras/ultrasonico/camara_08_par02\n",
      "20211207_192022.WAV\n",
      "20211208_180000.WAV\n",
      "20211208_182000.WAV\n",
      "/LUSTRE/sacmod/SIPECAM/Cumulo_32/fecha_entrga_28.Marzo.2022/visita_3/Dic_21_-_Enero_22/4-32-0-1279/grabadoras/ultrasonico/camara_06_par01\n",
      "20211208_180000.WAV\n",
      "20211208_182000.WAV\n",
      "20211208_184000.WAV\n",
      "/LUSTRE/sacmod/SIPECAM/Cumulo_32/fecha_entrga_28.Marzo.2022/visita_3/Dic_21_-_Enero_22/4-32-0-1279/grabadoras/ultrasonico/camara_10_par03\n",
      "20211208_180000.WAV\n",
      "20211208_182000.WAV\n",
      "20211208_184000.WAV\n",
      "/LUSTRE/sacmod/SIPECAM/Cumulo_32/fecha_entrga_28.Marzo.2022/visita_3/Dic_21_-_Enero_22/4-32-0-1279/grabadoras/audible/camara_08_par02\n",
      "20211208_113000.WAV\n",
      "20211208_114000.WAV\n",
      "20211208_115000.WAV\n",
      "/LUSTRE/sacmod/SIPECAM/Cumulo_32/fecha_entrga_28.Marzo.2022/visita_3/Dic_21_-_Enero_22/4-32-0-1279/grabadoras/audible/camara_06_par01\n",
      "20211207_191009.WAV\n",
      "20211208_141038.WAV\n",
      "20211208_142000.WAV\n",
      "/LUSTRE/sacmod/SIPECAM/Cumulo_32/fecha_entrga_28.Marzo.2022/visita_3/Dic_21_-_Enero_22/4-32-0-1279/grabadoras/audible/camara_10_par03\n",
      "20211207_192623.WAV\n",
      "20211207_214859.WAV\n",
      "20211208_154000.WAV\n",
      "/LUSTRE/sacmod/SIPECAM/Cumulo_32/fecha_entrga_28.Marzo.2022/visita_1/AGO-OCT-2021/4-32-1-1287/Grabadora/ultrasonico/grabadora_5_par_2/10262050\n",
      "20210811_180000.WAV\n",
      "20210811_182000.WAV\n",
      "20210811_184000.WAV\n",
      "/LUSTRE/sacmod/SIPECAM/Cumulo_32/fecha_entrga_28.Marzo.2022/visita_1/AGO-OCT-2021/4-32-1-1287/Grabadora/ultrasonico/grabadora_5_par_3\n",
      "20210811_180000.WAV\n",
      "20210811_182000.WAV\n",
      "20210811_184000.WAV\n",
      "/LUSTRE/sacmod/SIPECAM/Cumulo_32/fecha_entrga_28.Marzo.2022/visita_1/AGO-OCT-2021/4-32-1-1287/Grabadora/ultrasonico/grabadora_1_par_1/10261093\n",
      "20210809_144221.WAV\n",
      "20210811_180000.WAV\n",
      "20210811_182000.WAV\n",
      "/LUSTRE/sacmod/SIPECAM/Cumulo_32/fecha_entrga_28.Marzo.2022/visita_1/AGO-OCT-2021/4-32-1-1287/Grabadora/audible/grabadora_3_par2\n",
      "20210811_154000.WAV\n",
      "20210811_155000.WAV\n",
      "20210811_160000.WAV\n",
      "/LUSTRE/sacmod/SIPECAM/Cumulo_32/fecha_entrga_28.Marzo.2022/visita_1/AGO-OCT-2021/4-32-1-1287/Grabadora/audible/grabadora_5_par3\n",
      "19700101_010533.WAV\n",
      "19700101_011306.WAV\n",
      "20210809_150615.WAV\n",
      "/LUSTRE/sacmod/SIPECAM/Cumulo_32/fecha_entrga_28.Marzo.2022/visita_1/AGO-OCT-2021/4-32-1-1287/Grabadora/audible/grabadora_1_par1\n",
      "20210809_142000.WAV\n",
      "20210811_110000.WAV\n",
      "20210811_111000.WAV\n",
      "/LUSTRE/sacmod/SIPECAM/Cumulo_32/fecha_entrga_28.Marzo.2022/visita_1/AGO-OCT-2021/4-32-0-1280/Grabadoras/ultrasonico/grabadora_01_par02\n",
      "20210823_180000.WAV\n",
      "20210823_182000.WAV\n",
      "20210823_184000.WAV\n",
      "/LUSTRE/sacmod/SIPECAM/Cumulo_32/fecha_entrga_28.Marzo.2022/visita_1/AGO-OCT-2021/4-32-0-1280/Grabadoras/ultrasonico/grabadora_06_par01\n",
      "20210823_180000.WAV\n",
      "20210823_182000.WAV\n",
      "20210823_184000.WAV\n",
      "/LUSTRE/sacmod/SIPECAM/Cumulo_32/fecha_entrga_28.Marzo.2022/visita_1/AGO-OCT-2021/4-32-0-1280/Grabadoras/ultrasonico/grabadora_08_par03\n",
      "19700103_231201.WAV\n",
      "19700103_231219.WAV\n",
      "19700103_231356.WAV\n",
      "/LUSTRE/sacmod/SIPECAM/Cumulo_32/fecha_entrga_28.Marzo.2022/visita_1/AGO-OCT-2021/4-32-0-1280/Grabadoras/audible/grabadora_08_par03\n",
      "20210823_160000.WAV\n",
      "20210823_161000.WAV\n",
      "20210823_162000.WAV\n",
      "/LUSTRE/sacmod/SIPECAM/Cumulo_32/fecha_entrga_28.Marzo.2022/visita_1/AGO-OCT-2021/4-32-0-1280/Grabadoras/audible/grabadora_10_par02\n",
      "19700101_000007.WAV\n",
      "19700101_000047.WAV\n",
      "20210823_135000.WAV\n",
      "/LUSTRE/sacmod/SIPECAM/Cumulo_32/fecha_entrga_28.Marzo.2022/visita_2/Noviembre_2021/4-32-1-1287/camaras/camara_01/DCIM/100RECNX\n",
      "RCNX0001.JPG\n",
      "RCNX0002.JPG\n",
      "RCNX0003.AVI\n",
      "/LUSTRE/sacmod/SIPECAM/Cumulo_32/fecha_entrga_28.Marzo.2022/visita_2/Noviembre_2021/4-32-1-1287/camaras/camara_05/DCIM/100RECNX\n",
      "RCNX0001.JPG\n",
      "RCNX0002.JPG\n",
      "RCNX0003.AVI\n",
      "/LUSTRE/sacmod/SIPECAM/Cumulo_32/fecha_entrga_28.Marzo.2022/visita_2/Noviembre_2021/4-32-1-1287/camaras/camara_04/DCIM/100RECNX\n",
      "RCNX0001.JPG\n",
      "RCNX0002.JPG\n",
      "RCNX0003.AVI\n",
      "/LUSTRE/sacmod/SIPECAM/Cumulo_32/fecha_entrga_28.Marzo.2022/visita_2/Noviembre_2021/4-32-1-1287/camaras/camara_03/DCIM/100RECNX\n",
      "RCNX0001.JPG\n",
      "RCNX0002.JPG\n",
      "RCNX0003.AVI\n",
      "/LUSTRE/sacmod/SIPECAM/Cumulo_32/fecha_entrga_28.Marzo.2022/visita_2/Noviembre_2021/4-32-0-1281/camaras/camara_06/DCIM/100RECNX\n",
      "RCNX0001.JPG\n",
      "RCNX0002.JPG\n",
      "RCNX0003.AVI\n",
      "/LUSTRE/sacmod/SIPECAM/Cumulo_32/fecha_entrga_28.Marzo.2022/visita_2/Noviembre_2021/4-32-0-1281/camaras/camara_10/DCIM/100RECNX\n",
      "RCNX0001.JPG\n",
      "RCNX0002.JPG\n",
      "RCNX0003.AVI\n",
      "/LUSTRE/sacmod/SIPECAM/Cumulo_32/fecha_entrga_28.Marzo.2022/visita_2/Noviembre_2021/4-32-0-1281/camaras/camara_07/DCIM/100RECNX\n",
      "RCNX0001.JPG\n",
      "RCNX0002.JPG\n",
      "RCNX0003.AVI\n",
      "/LUSTRE/sacmod/SIPECAM/Cumulo_32/fecha_entrga_28.Marzo.2022/visita_2/Noviembre_2021/4-32-0-1281/camaras/camara_08/DCIM/100RECNX\n",
      "RCNX0001.JPG\n",
      "RCNX0002.JPG\n",
      "RCNX0003.AVI\n",
      "/LUSTRE/sacmod/SIPECAM/Cumulo_32/fecha_entrga_28.Marzo.2022/visita_2/Noviembre_2021/4-32-0-1281/camaras/camara_09/DCIM/101RECNX\n",
      "RCNX0001.JPG\n",
      "RCNX0002.JPG\n",
      "RCNX0003.AVI\n",
      "/LUSTRE/sacmod/SIPECAM/Cumulo_32/fecha_entrga_28.Marzo.2022/visita_2/Noviembre_2021/4-32-0-1281/camaras/camara_09/DCIM/100RECNX\n",
      "RCNX0001.JPG\n",
      "RCNX0002.JPG\n",
      "RCNX0003.AVI\n",
      "/LUSTRE/sacmod/SIPECAM/Cumulo_32/fecha_entrga_28.Marzo.2022/visita_3/Dic_21_-_Enero_22/4-32-1-1285/camaras/camara_01/DCIM/100RECNX\n",
      "RCNX0001.JPG\n",
      "RCNX0002.JPG\n",
      "RCNX0003.AVI\n",
      "/LUSTRE/sacmod/SIPECAM/Cumulo_32/fecha_entrga_28.Marzo.2022/visita_3/Dic_21_-_Enero_22/4-32-1-1285/camaras/camara_05/DCIM/100RECNX\n",
      "RCNX0001.JPG\n",
      "RCNX0002.JPG\n",
      "RCNX0003.AVI\n",
      "/LUSTRE/sacmod/SIPECAM/Cumulo_32/fecha_entrga_28.Marzo.2022/visita_3/Dic_21_-_Enero_22/4-32-1-1285/camaras/camara_04/DCIM/100RECNX\n",
      "RCNX0001.JPG\n",
      "RCNX0002.JPG\n",
      "RCNX0003.AVI\n",
      "/LUSTRE/sacmod/SIPECAM/Cumulo_32/fecha_entrga_28.Marzo.2022/visita_3/Dic_21_-_Enero_22/4-32-1-1285/camaras/camara_03/DCIM/100RECNX\n",
      "RCNX0001.JPG\n",
      "RCNX0002.JPG\n",
      "RCNX0003.AVI\n",
      "/LUSTRE/sacmod/SIPECAM/Cumulo_32/fecha_entrga_28.Marzo.2022/visita_3/Dic_21_-_Enero_22/4-32-1-1285/camaras/camara_02/DCIM/100RECNX\n",
      "RCNX0001.JPG\n",
      "RCNX0002.JPG\n",
      "RCNX0003.AVI\n",
      "/LUSTRE/sacmod/SIPECAM/Cumulo_32/fecha_entrga_28.Marzo.2022/visita_3/Dic_21_-_Enero_22/4-32-0-1279/camaras/camara_06/DCIM/100RECNX\n",
      "RCNX0001.JPG\n",
      "RCNX0002.JPG\n",
      "RCNX0003.AVI\n",
      "/LUSTRE/sacmod/SIPECAM/Cumulo_32/fecha_entrga_28.Marzo.2022/visita_3/Dic_21_-_Enero_22/4-32-0-1279/camaras/camara_10/DCIM/100RECNX\n",
      "RCNX0001.JPG\n",
      "RCNX0002.JPG\n",
      "RCNX0003.AVI\n",
      "/LUSTRE/sacmod/SIPECAM/Cumulo_32/fecha_entrga_28.Marzo.2022/visita_3/Dic_21_-_Enero_22/4-32-0-1279/camaras/camara_07/DCIM/100RECNX\n",
      "RCNX0001.JPG\n",
      "RCNX0002.JPG\n",
      "RCNX0003.AVI\n",
      "/LUSTRE/sacmod/SIPECAM/Cumulo_32/fecha_entrga_28.Marzo.2022/visita_3/Dic_21_-_Enero_22/4-32-0-1279/camaras/camara_08/DCIM/101RECNX\n",
      "RCNX0001.JPG\n",
      "RCNX0002.JPG\n",
      "RCNX0003.AVI\n",
      "/LUSTRE/sacmod/SIPECAM/Cumulo_32/fecha_entrga_28.Marzo.2022/visita_3/Dic_21_-_Enero_22/4-32-0-1279/camaras/camara_08/DCIM/100RECNX\n",
      "RCNX0001.JPG\n",
      "RCNX0002.JPG\n",
      "RCNX0003.AVI\n",
      "/LUSTRE/sacmod/SIPECAM/Cumulo_32/fecha_entrga_28.Marzo.2022/visita_3/Dic_21_-_Enero_22/4-32-0-1279/camaras/camara_09/DCIM/101RECNX\n",
      "RCNX0001.JPG\n",
      "RCNX0002.JPG\n",
      "RCNX0003.AVI\n",
      "/LUSTRE/sacmod/SIPECAM/Cumulo_32/fecha_entrga_28.Marzo.2022/visita_3/Dic_21_-_Enero_22/4-32-0-1279/camaras/camara_09/DCIM/100RECNX\n",
      "RCNX0001.JPG\n",
      "RCNX0002.JPG\n",
      "RCNX0003.AVI\n",
      "/LUSTRE/sacmod/SIPECAM/Cumulo_32/fecha_entrga_28.Marzo.2022/visita_1/AGO-OCT-2021/4-32-1-1287/Camaras/Tarjeta 7/DCIM/100RECNX\n",
      "RCNX0001.JPG\n",
      "RCNX0002.JPG\n",
      "RCNX0003.AVI\n",
      "/LUSTRE/sacmod/SIPECAM/Cumulo_32/fecha_entrga_28.Marzo.2022/visita_1/AGO-OCT-2021/4-32-1-1287/Camaras/Tarjeta 1/DCIM/101RECNX\n",
      "RCNX0001.JPG\n",
      "RCNX0002.JPG\n",
      "RCNX0003.AVI\n",
      "/LUSTRE/sacmod/SIPECAM/Cumulo_32/fecha_entrga_28.Marzo.2022/visita_1/AGO-OCT-2021/4-32-1-1287/Camaras/Tarjeta 1/DCIM/100RECNX\n",
      "RCNX0001.JPG\n",
      "RCNX0002.JPG\n",
      "RCNX0003.AVI\n",
      "/LUSTRE/sacmod/SIPECAM/Cumulo_32/fecha_entrga_28.Marzo.2022/visita_1/AGO-OCT-2021/4-32-1-1287/Camaras/Tarjeta 10/DCIM/100RECNX\n",
      "RCNX0001.JPG\n",
      "RCNX0002.JPG\n",
      "RCNX0003.AVI\n",
      "/LUSTRE/sacmod/SIPECAM/Cumulo_32/fecha_entrga_28.Marzo.2022/visita_1/AGO-OCT-2021/4-32-1-1287/Camaras/Tarjeta 9/DCIM/100RECNX\n",
      "RCNX0001.JPG\n",
      "RCNX0002.JPG\n",
      "RCNX0003.AVI\n",
      "/LUSTRE/sacmod/SIPECAM/Cumulo_32/fecha_entrga_28.Marzo.2022/visita_1/AGO-OCT-2021/4-32-1-1287/Camaras/Tarjeta 6/DCIM/101RECNX\n",
      "RCNX0001.JPG\n",
      "RCNX0002.JPG\n",
      "RCNX0003.AVI\n",
      "/LUSTRE/sacmod/SIPECAM/Cumulo_32/fecha_entrga_28.Marzo.2022/visita_1/AGO-OCT-2021/4-32-1-1287/Camaras/Tarjeta 6/DCIM/100RECNX\n",
      "RCNX0001.JPG\n",
      "RCNX0002.JPG\n",
      "RCNX0003.AVI\n",
      "/LUSTRE/sacmod/SIPECAM/Cumulo_32/fecha_entrga_28.Marzo.2022/visita_1/AGO-OCT-2021/4-32-1-1287/Camaras/Tarjeta 2/DCIM/101RECNX\n",
      "RCNX0001.JPG\n",
      "RCNX0002.JPG\n",
      "RCNX0003.AVI\n",
      "/LUSTRE/sacmod/SIPECAM/Cumulo_32/fecha_entrga_28.Marzo.2022/visita_1/AGO-OCT-2021/4-32-1-1287/Camaras/Tarjeta 2/DCIM/100RECNX\n",
      "RCNX0001.JPG\n",
      "RCNX0002.JPG\n",
      "RCNX0003.AVI\n",
      "/LUSTRE/sacmod/SIPECAM/Cumulo_32/fecha_entrga_28.Marzo.2022/visita_1/AGO-OCT-2021/4-32-1-1287/Camaras/Tarjeta 3/DCIM/101RECNX\n",
      "RCNX0001.JPG\n",
      "RCNX0002.JPG\n",
      "RCNX0003.AVI\n",
      "/LUSTRE/sacmod/SIPECAM/Cumulo_32/fecha_entrga_28.Marzo.2022/visita_1/AGO-OCT-2021/4-32-1-1287/Camaras/Tarjeta 3/DCIM/102RECNX\n",
      "RCNX0001.JPG\n",
      "RCNX0002.JPG\n",
      "RCNX0003.AVI\n",
      "/LUSTRE/sacmod/SIPECAM/Cumulo_32/fecha_entrga_28.Marzo.2022/visita_1/AGO-OCT-2021/4-32-1-1287/Camaras/Tarjeta 3/DCIM/100RECNX\n",
      "RCNX0001.JPG\n",
      "RCNX0002.JPG\n",
      "RCNX0003.AVI\n",
      "/LUSTRE/sacmod/SIPECAM/Cumulo_32/fecha_entrga_28.Marzo.2022/visita_1/AGO-OCT-2021/4-32-1-1287/Camaras/Tarjeta 4/DCIM/101RECNX\n",
      "RCNX0001.JPG\n",
      "RCNX0002.JPG\n",
      "RCNX0003.AVI\n",
      "/LUSTRE/sacmod/SIPECAM/Cumulo_32/fecha_entrga_28.Marzo.2022/visita_1/AGO-OCT-2021/4-32-1-1287/Camaras/Tarjeta 4/DCIM/100RECNX\n",
      "RCNX0001.JPG\n",
      "RCNX0002.JPG\n",
      "RCNX0003.AVI\n",
      "/LUSTRE/sacmod/SIPECAM/Cumulo_32/fecha_entrga_28.Marzo.2022/visita_1/AGO-OCT-2021/4-32-1-1287/Camaras/Tarjeta 8/DCIM/101RECNX\n",
      "RCNX0001.JPG\n",
      "RCNX0002.JPG\n",
      "RCNX0003.AVI\n",
      "/LUSTRE/sacmod/SIPECAM/Cumulo_32/fecha_entrga_28.Marzo.2022/visita_1/AGO-OCT-2021/4-32-1-1287/Camaras/Tarjeta 8/DCIM/100RECNX\n",
      "RCNX0001.JPG\n",
      "RCNX0002.JPG\n",
      "/LUSTRE/sacmod/SIPECAM/Cumulo_32/fecha_entrga_28.Marzo.2022/visita_1/AGO-OCT-2021/4-32-1-1287/Camaras/Tarjeta 5/DCIM/100RECNX\n",
      "RCNX0001.JPG\n",
      "RCNX0002.JPG\n",
      "RCNX0003.AVI\n",
      "/LUSTRE/sacmod/SIPECAM/Cumulo_32/fecha_entrga_28.Marzo.2022/visita_3/Dic_21_-_Enero_22/4-32-1-1285/grabadoras/audible/camara_01_par01\n",
      "Photo on 29-03-22 at 20.15.jpg\n",
      "/LUSTRE/sacmod/SIPECAM/Cumulo_32/fecha_entrga_28.Marzo.2022/visita_2/Noviembre_2021/4-32-1-1287/camaras/camara_02/DCIM/100RECNX\n",
      "RCNX0001.AVI\n",
      "RCNX0002.AVI\n",
      "RCNX0003.AVI\n"
     ]
    }
   ],
   "source": [
    "%%bash\n",
    "#check every first subdirectory has a JPG, WAV or AVI file\n",
    "SAVEIFS=$IFS;IFS=$(echo -en \"\\n\\b\")\n",
    "for f in $(cat /shared_volume/sipecam_subdirectories_04-04-2022.txt)\n",
    "  do echo \"$f\"\n",
    "     ls \"$f\"|grep \"[WAV|wav|JPG|jpg|AVI|avi]$\"|head -n 3\n",
    "done\n",
    "IFS=$SAVEIFS"
   ]
  },
  {
   "cell_type": "markdown",
   "id": "37cce572-18e2-4e2f-ba10-a6ed8c001636",
   "metadata": {},
   "source": [
    "Removing from lists `/shared_volume/sipecam_subdirectories_04-04-2022.txt` and `/shared_volume/sipecam_files_to_extract_metadata_from_04-04-2022.txt`:\n",
    "`/LUSTRE/sacmod/SIPECAM/Cumulo_32/fecha_entrga_28.Marzo.2022/visita_3/Dic_21_-_Enero_22/4-32-1-1285/grabadoras/audible/camara_01_par01`\n",
    "\n",
    "as it has only one photo and is not from camera traps but from someones camera with info of audiomoth"
   ]
  },
  {
   "cell_type": "code",
   "execution_count": 7,
   "id": "d945c72a-2568-4c7f-8ac5-c97e3cf0bb87",
   "metadata": {},
   "outputs": [
    {
     "name": "stdout",
     "output_type": "stream",
     "text": [
      "74 /shared_volume/sipecam_subdirectories_04-04-2022.txt\n"
     ]
    }
   ],
   "source": [
    "%%bash\n",
    "wc -l /shared_volume/sipecam_subdirectories_04-04-2022.txt"
   ]
  },
  {
   "cell_type": "code",
   "execution_count": 8,
   "id": "148824b2-873c-43a9-8210-e2752f7094ec",
   "metadata": {},
   "outputs": [
    {
     "name": "stdout",
     "output_type": "stream",
     "text": [
      "117573 /shared_volume/sipecam_files_to_extract_metadata_from_04-04-2022.txt\n"
     ]
    }
   ],
   "source": [
    "%%bash\n",
    "wc -l /shared_volume/sipecam_files_to_extract_metadata_from_04-04-2022.txt"
   ]
  },
  {
   "cell_type": "markdown",
   "id": "19c1809f-f677-494d-bee5-80c8b34b2a47",
   "metadata": {},
   "source": [
    "Which directories are of audio?"
   ]
  },
  {
   "cell_type": "code",
   "execution_count": 9,
   "id": "1cfe7201-6d45-49e2-83a0-bb78eb940b7d",
   "metadata": {},
   "outputs": [],
   "source": [
    "%%bash\n",
    "if [ -f ~/list_dirs_with_audios.txt ]; then\n",
    "     rm ~/list_dirs_with_audios.txt\n",
    "fi\n",
    "if [ -f ~/list_dirs_with_audios_auxiliary.txt ]; then\n",
    "     rm ~/list_dirs_with_audios_auxiliary.txt\n",
    "fi\n",
    "SAVEIFS=$IFS;IFS=$(echo -en \"\\n\\b\")\n",
    "for f in $(find /LUSTRE/sacmod/SIPECAM/Cumulo_32/fecha_entrga_28.Marzo.2022/ -name \"*.WAV\")\n",
    "  do\n",
    "     dir_audio=$(dirname $f)\n",
    "     echo \"$dir_audio\" >> ~/list_dirs_with_audios_auxiliary.txt\n",
    "done\n",
    "dirs_audio=$(cat ~/list_dirs_with_audios_auxiliary.txt|uniq)\n",
    "echo \"$dirs_audio\" > ~/list_dirs_with_audios.txt\n",
    "IFS=$SAVEIFS"
   ]
  },
  {
   "cell_type": "code",
   "execution_count": 10,
   "id": "027ba86e-1545-43f1-8f9c-1e8dd1e0c1da",
   "metadata": {},
   "outputs": [
    {
     "name": "stdout",
     "output_type": "stream",
     "text": [
      "/LUSTRE/sacmod/SIPECAM/Cumulo_32/fecha_entrga_28.Marzo.2022/visita_2/Noviembre_2021/4-32-1-1287/grabadoras/ultrasonico/camara_03_par2\n",
      "/LUSTRE/sacmod/SIPECAM/Cumulo_32/fecha_entrga_28.Marzo.2022/visita_2/Noviembre_2021/4-32-1-1287/grabadoras/ultrasonico/camara_05_par3\n",
      "/LUSTRE/sacmod/SIPECAM/Cumulo_32/fecha_entrga_28.Marzo.2022/visita_2/Noviembre_2021/4-32-1-1287/grabadoras/ultrasonico/camara_01_par1\n",
      "/LUSTRE/sacmod/SIPECAM/Cumulo_32/fecha_entrga_28.Marzo.2022/visita_2/Noviembre_2021/4-32-1-1287/grabadoras/audible/camara_05_par_03\n",
      "/LUSTRE/sacmod/SIPECAM/Cumulo_32/fecha_entrga_28.Marzo.2022/visita_2/Noviembre_2021/4-32-1-1287/grabadoras/audible/camara_01_par01\n",
      "/LUSTRE/sacmod/SIPECAM/Cumulo_32/fecha_entrga_28.Marzo.2022/visita_2/Noviembre_2021/4-32-1-1287/grabadoras/audible/camara_03_par02\n",
      "/LUSTRE/sacmod/SIPECAM/Cumulo_32/fecha_entrga_28.Marzo.2022/visita_2/Noviembre_2021/4-32-0-1281/grabadoras/ultrasonico/camara10_par02\n",
      "/LUSTRE/sacmod/SIPECAM/Cumulo_32/fecha_entrga_28.Marzo.2022/visita_2/Noviembre_2021/4-32-0-1281/grabadoras/ultrasonico/camara06_par01\n",
      "/LUSTRE/sacmod/SIPECAM/Cumulo_32/fecha_entrga_28.Marzo.2022/visita_2/Noviembre_2021/4-32-0-1281/grabadoras/ultrasonico/camara08_par03\n",
      "/LUSTRE/sacmod/SIPECAM/Cumulo_32/fecha_entrga_28.Marzo.2022/visita_2/Noviembre_2021/4-32-0-1281/grabadoras/audible/camara10_par02\n",
      "/LUSTRE/sacmod/SIPECAM/Cumulo_32/fecha_entrga_28.Marzo.2022/visita_2/Noviembre_2021/4-32-0-1281/grabadoras/audible/camara06_par01\n",
      "/LUSTRE/sacmod/SIPECAM/Cumulo_32/fecha_entrga_28.Marzo.2022/visita_2/Noviembre_2021/4-32-0-1281/grabadoras/audible/camara08_par03\n",
      "/LUSTRE/sacmod/SIPECAM/Cumulo_32/fecha_entrga_28.Marzo.2022/visita_3/Dic_21_-_Enero_22/4-32-1-1285/grabadoras/ultrasonico/camara_01_par01\n",
      "/LUSTRE/sacmod/SIPECAM/Cumulo_32/fecha_entrga_28.Marzo.2022/visita_3/Dic_21_-_Enero_22/4-32-1-1285/grabadoras/ultrasonico/camara_03_par02\n",
      "/LUSTRE/sacmod/SIPECAM/Cumulo_32/fecha_entrga_28.Marzo.2022/visita_3/Dic_21_-_Enero_22/4-32-1-1285/grabadoras/ultrasonico/camara_05_par03\n",
      "/LUSTRE/sacmod/SIPECAM/Cumulo_32/fecha_entrga_28.Marzo.2022/visita_3/Dic_21_-_Enero_22/4-32-1-1285/grabadoras/audible/camara_03_par02\n",
      "/LUSTRE/sacmod/SIPECAM/Cumulo_32/fecha_entrga_28.Marzo.2022/visita_3/Dic_21_-_Enero_22/4-32-1-1285/grabadoras/audible/camara_05_par03\n",
      "/LUSTRE/sacmod/SIPECAM/Cumulo_32/fecha_entrga_28.Marzo.2022/visita_3/Dic_21_-_Enero_22/4-32-0-1279/grabadoras/ultrasonico/camara_08_par02\n",
      "/LUSTRE/sacmod/SIPECAM/Cumulo_32/fecha_entrga_28.Marzo.2022/visita_3/Dic_21_-_Enero_22/4-32-0-1279/grabadoras/ultrasonico/camara_06_par01\n",
      "/LUSTRE/sacmod/SIPECAM/Cumulo_32/fecha_entrga_28.Marzo.2022/visita_3/Dic_21_-_Enero_22/4-32-0-1279/grabadoras/ultrasonico/camara_10_par03\n",
      "/LUSTRE/sacmod/SIPECAM/Cumulo_32/fecha_entrga_28.Marzo.2022/visita_3/Dic_21_-_Enero_22/4-32-0-1279/grabadoras/audible/camara_08_par02\n",
      "/LUSTRE/sacmod/SIPECAM/Cumulo_32/fecha_entrga_28.Marzo.2022/visita_3/Dic_21_-_Enero_22/4-32-0-1279/grabadoras/audible/camara_06_par01\n",
      "/LUSTRE/sacmod/SIPECAM/Cumulo_32/fecha_entrga_28.Marzo.2022/visita_3/Dic_21_-_Enero_22/4-32-0-1279/grabadoras/audible/camara_10_par03\n",
      "/LUSTRE/sacmod/SIPECAM/Cumulo_32/fecha_entrga_28.Marzo.2022/visita_1/AGO-OCT-2021/4-32-1-1287/Grabadora/ultrasonico/grabadora_5_par_2/10262050\n",
      "/LUSTRE/sacmod/SIPECAM/Cumulo_32/fecha_entrga_28.Marzo.2022/visita_1/AGO-OCT-2021/4-32-1-1287/Grabadora/ultrasonico/grabadora_5_par_3\n",
      "/LUSTRE/sacmod/SIPECAM/Cumulo_32/fecha_entrga_28.Marzo.2022/visita_1/AGO-OCT-2021/4-32-1-1287/Grabadora/ultrasonico/grabadora_1_par_1/10261093\n",
      "/LUSTRE/sacmod/SIPECAM/Cumulo_32/fecha_entrga_28.Marzo.2022/visita_1/AGO-OCT-2021/4-32-1-1287/Grabadora/audible/grabadora_3_par2\n",
      "/LUSTRE/sacmod/SIPECAM/Cumulo_32/fecha_entrga_28.Marzo.2022/visita_1/AGO-OCT-2021/4-32-1-1287/Grabadora/audible/grabadora_5_par3\n",
      "/LUSTRE/sacmod/SIPECAM/Cumulo_32/fecha_entrga_28.Marzo.2022/visita_1/AGO-OCT-2021/4-32-1-1287/Grabadora/audible/grabadora_1_par1\n",
      "/LUSTRE/sacmod/SIPECAM/Cumulo_32/fecha_entrga_28.Marzo.2022/visita_1/AGO-OCT-2021/4-32-0-1280/Grabadoras/ultrasonico/grabadora_01_par02\n",
      "/LUSTRE/sacmod/SIPECAM/Cumulo_32/fecha_entrga_28.Marzo.2022/visita_1/AGO-OCT-2021/4-32-0-1280/Grabadoras/ultrasonico/grabadora_06_par01\n",
      "/LUSTRE/sacmod/SIPECAM/Cumulo_32/fecha_entrga_28.Marzo.2022/visita_1/AGO-OCT-2021/4-32-0-1280/Grabadoras/ultrasonico/grabadora_08_par03\n",
      "/LUSTRE/sacmod/SIPECAM/Cumulo_32/fecha_entrga_28.Marzo.2022/visita_1/AGO-OCT-2021/4-32-0-1280/Grabadoras/audible/grabadora_08_par03\n",
      "/LUSTRE/sacmod/SIPECAM/Cumulo_32/fecha_entrga_28.Marzo.2022/visita_1/AGO-OCT-2021/4-32-0-1280/Grabadoras/audible/grabadora_10_par02\n"
     ]
    }
   ],
   "source": [
    "%%bash\n",
    "cat ~/list_dirs_with_audios.txt"
   ]
  },
  {
   "cell_type": "markdown",
   "id": "34fe2c35-5cae-492a-bd8c-5ac834b436ea",
   "metadata": {
    "tags": []
   },
   "source": [
    "# check_if_there_are_audio_empty_files_in_dir_and_move_them"
   ]
  },
  {
   "cell_type": "code",
   "execution_count": 11,
   "id": "4d8cac37-1af5-4591-9e75-a6950576016a",
   "metadata": {},
   "outputs": [
    {
     "name": "stdout",
     "output_type": "stream",
     "text": [
      "/LUSTRE/sacmod/SIPECAM/Cumulo_32/fecha_entrga_28.Marzo.2022/visita_2/Noviembre_2021/4-32-1-1287/grabadoras/ultrasonico/camara_03_par2\n",
      "/LUSTRE/sacmod/SIPECAM/Cumulo_32/fecha_entrga_28.Marzo.2022/visita_2/Noviembre_2021/4-32-1-1287/grabadoras/ultrasonico/camara_05_par3\n",
      "/LUSTRE/sacmod/SIPECAM/Cumulo_32/fecha_entrga_28.Marzo.2022/visita_2/Noviembre_2021/4-32-1-1287/grabadoras/ultrasonico/camara_01_par1\n",
      "/LUSTRE/sacmod/SIPECAM/Cumulo_32/fecha_entrga_28.Marzo.2022/visita_2/Noviembre_2021/4-32-1-1287/grabadoras/audible/camara_05_par_03\n",
      "/LUSTRE/sacmod/SIPECAM/Cumulo_32/fecha_entrga_28.Marzo.2022/visita_2/Noviembre_2021/4-32-1-1287/grabadoras/audible/camara_01_par01\n",
      "/LUSTRE/sacmod/SIPECAM/Cumulo_32/fecha_entrga_28.Marzo.2022/visita_2/Noviembre_2021/4-32-1-1287/grabadoras/audible/camara_03_par02\n",
      "/LUSTRE/sacmod/SIPECAM/Cumulo_32/fecha_entrga_28.Marzo.2022/visita_2/Noviembre_2021/4-32-0-1281/grabadoras/ultrasonico/camara10_par02\n",
      "/LUSTRE/sacmod/SIPECAM/Cumulo_32/fecha_entrga_28.Marzo.2022/visita_2/Noviembre_2021/4-32-0-1281/grabadoras/ultrasonico/camara06_par01\n",
      "/LUSTRE/sacmod/SIPECAM/Cumulo_32/fecha_entrga_28.Marzo.2022/visita_2/Noviembre_2021/4-32-0-1281/grabadoras/ultrasonico/camara08_par03\n",
      "/LUSTRE/sacmod/SIPECAM/Cumulo_32/fecha_entrga_28.Marzo.2022/visita_2/Noviembre_2021/4-32-0-1281/grabadoras/audible/camara10_par02\n",
      "/LUSTRE/sacmod/SIPECAM/Cumulo_32/fecha_entrga_28.Marzo.2022/visita_2/Noviembre_2021/4-32-0-1281/grabadoras/audible/camara06_par01\n",
      "/LUSTRE/sacmod/SIPECAM/Cumulo_32/fecha_entrga_28.Marzo.2022/visita_2/Noviembre_2021/4-32-0-1281/grabadoras/audible/camara08_par03\n",
      "/LUSTRE/sacmod/SIPECAM/Cumulo_32/fecha_entrga_28.Marzo.2022/visita_3/Dic_21_-_Enero_22/4-32-1-1285/grabadoras/ultrasonico/camara_01_par01\n",
      "/LUSTRE/sacmod/SIPECAM/Cumulo_32/fecha_entrga_28.Marzo.2022/visita_3/Dic_21_-_Enero_22/4-32-1-1285/grabadoras/ultrasonico/camara_03_par02\n",
      "/LUSTRE/sacmod/SIPECAM/Cumulo_32/fecha_entrga_28.Marzo.2022/visita_3/Dic_21_-_Enero_22/4-32-1-1285/grabadoras/ultrasonico/camara_05_par03\n",
      "/LUSTRE/sacmod/SIPECAM/Cumulo_32/fecha_entrga_28.Marzo.2022/visita_3/Dic_21_-_Enero_22/4-32-1-1285/grabadoras/audible/camara_03_par02\n",
      "/LUSTRE/sacmod/SIPECAM/Cumulo_32/fecha_entrga_28.Marzo.2022/visita_3/Dic_21_-_Enero_22/4-32-1-1285/grabadoras/audible/camara_05_par03\n",
      "/LUSTRE/sacmod/SIPECAM/Cumulo_32/fecha_entrga_28.Marzo.2022/visita_3/Dic_21_-_Enero_22/4-32-0-1279/grabadoras/ultrasonico/camara_08_par02\n",
      "/LUSTRE/sacmod/SIPECAM/Cumulo_32/fecha_entrga_28.Marzo.2022/visita_3/Dic_21_-_Enero_22/4-32-0-1279/grabadoras/ultrasonico/camara_06_par01\n",
      "/LUSTRE/sacmod/SIPECAM/Cumulo_32/fecha_entrga_28.Marzo.2022/visita_3/Dic_21_-_Enero_22/4-32-0-1279/grabadoras/ultrasonico/camara_10_par03\n",
      "/LUSTRE/sacmod/SIPECAM/Cumulo_32/fecha_entrga_28.Marzo.2022/visita_3/Dic_21_-_Enero_22/4-32-0-1279/grabadoras/audible/camara_08_par02\n",
      "/LUSTRE/sacmod/SIPECAM/Cumulo_32/fecha_entrga_28.Marzo.2022/visita_3/Dic_21_-_Enero_22/4-32-0-1279/grabadoras/audible/camara_06_par01\n",
      "/LUSTRE/sacmod/SIPECAM/Cumulo_32/fecha_entrga_28.Marzo.2022/visita_3/Dic_21_-_Enero_22/4-32-0-1279/grabadoras/audible/camara_10_par03\n",
      "/LUSTRE/sacmod/SIPECAM/Cumulo_32/fecha_entrga_28.Marzo.2022/visita_1/AGO-OCT-2021/4-32-1-1287/Grabadora/ultrasonico/grabadora_5_par_2/10262050\n",
      "/LUSTRE/sacmod/SIPECAM/Cumulo_32/fecha_entrga_28.Marzo.2022/visita_1/AGO-OCT-2021/4-32-1-1287/Grabadora/ultrasonico/grabadora_5_par_3\n",
      "/LUSTRE/sacmod/SIPECAM/Cumulo_32/fecha_entrga_28.Marzo.2022/visita_1/AGO-OCT-2021/4-32-1-1287/Grabadora/ultrasonico/grabadora_1_par_1/10261093\n",
      "/LUSTRE/sacmod/SIPECAM/Cumulo_32/fecha_entrga_28.Marzo.2022/visita_1/AGO-OCT-2021/4-32-1-1287/Grabadora/audible/grabadora_3_par2\n",
      "/LUSTRE/sacmod/SIPECAM/Cumulo_32/fecha_entrga_28.Marzo.2022/visita_1/AGO-OCT-2021/4-32-1-1287/Grabadora/audible/grabadora_5_par3\n",
      "/LUSTRE/sacmod/SIPECAM/Cumulo_32/fecha_entrga_28.Marzo.2022/visita_1/AGO-OCT-2021/4-32-1-1287/Grabadora/audible/grabadora_1_par1\n",
      "/LUSTRE/sacmod/SIPECAM/Cumulo_32/fecha_entrga_28.Marzo.2022/visita_1/AGO-OCT-2021/4-32-0-1280/Grabadoras/ultrasonico/grabadora_01_par02\n",
      "/LUSTRE/sacmod/SIPECAM/Cumulo_32/fecha_entrga_28.Marzo.2022/visita_1/AGO-OCT-2021/4-32-0-1280/Grabadoras/ultrasonico/grabadora_06_par01\n",
      "/LUSTRE/sacmod/SIPECAM/Cumulo_32/fecha_entrga_28.Marzo.2022/visita_1/AGO-OCT-2021/4-32-0-1280/Grabadoras/ultrasonico/grabadora_08_par03\n",
      "/LUSTRE/sacmod/SIPECAM/Cumulo_32/fecha_entrga_28.Marzo.2022/visita_1/AGO-OCT-2021/4-32-0-1280/Grabadoras/audible/grabadora_08_par03\n",
      "/LUSTRE/sacmod/SIPECAM/Cumulo_32/fecha_entrga_28.Marzo.2022/visita_1/AGO-OCT-2021/4-32-0-1280/Grabadoras/audible/grabadora_10_par02\n"
     ]
    }
   ],
   "source": [
    "%%bash\n",
    "SAVEIFS=$IFS;IFS=$(echo -en \"\\n\\b\")\n",
    "for dir_to_be_processed in $(cat ~/list_dirs_with_audios.txt)\n",
    "    do echo \"$dir_to_be_processed\"\n",
    "    check_if_there_are_audio_empty_files_in_dir_and_move_them --input_directory_audio \"$dir_to_be_processed\" --number_of_processes 10\n",
    "done\n",
    "IFS=$SAVEIFS"
   ]
  },
  {
   "cell_type": "code",
   "execution_count": 14,
   "id": "28ba235c-f160-4a7e-a140-2ba9733ce57c",
   "metadata": {},
   "outputs": [
    {
     "name": "stdout",
     "output_type": "stream",
     "text": [
      "/LUSTRE/sacmod/SIPECAM/Cumulo_32/fecha_entrga_28.Marzo.2022/visita_2/Noviembre_2021/4-32-1-1287/grabadoras/ultrasonico/camara_03_par2\n",
      "1262\n",
      "/LUSTRE/sacmod/SIPECAM/Cumulo_32/fecha_entrga_28.Marzo.2022/visita_2/Noviembre_2021/4-32-1-1287/grabadoras/ultrasonico/camara_05_par3\n",
      "4\n",
      "/LUSTRE/sacmod/SIPECAM/Cumulo_32/fecha_entrga_28.Marzo.2022/visita_2/Noviembre_2021/4-32-1-1287/grabadoras/ultrasonico/camara_01_par1\n",
      "39\n",
      "/LUSTRE/sacmod/SIPECAM/Cumulo_32/fecha_entrga_28.Marzo.2022/visita_2/Noviembre_2021/4-32-1-1287/grabadoras/audible/camara_05_par_03\n",
      "4905\n",
      "/LUSTRE/sacmod/SIPECAM/Cumulo_32/fecha_entrga_28.Marzo.2022/visita_2/Noviembre_2021/4-32-1-1287/grabadoras/audible/camara_01_par01\n",
      "4381\n",
      "/LUSTRE/sacmod/SIPECAM/Cumulo_32/fecha_entrga_28.Marzo.2022/visita_2/Noviembre_2021/4-32-1-1287/grabadoras/audible/camara_03_par02\n",
      "5059\n",
      "/LUSTRE/sacmod/SIPECAM/Cumulo_32/fecha_entrga_28.Marzo.2022/visita_2/Noviembre_2021/4-32-0-1281/grabadoras/ultrasonico/camara10_par02\n",
      "1190\n",
      "/LUSTRE/sacmod/SIPECAM/Cumulo_32/fecha_entrga_28.Marzo.2022/visita_2/Noviembre_2021/4-32-0-1281/grabadoras/ultrasonico/camara06_par01\n",
      "1190\n",
      "/LUSTRE/sacmod/SIPECAM/Cumulo_32/fecha_entrga_28.Marzo.2022/visita_2/Noviembre_2021/4-32-0-1281/grabadoras/ultrasonico/camara08_par03\n",
      "1226\n",
      "/LUSTRE/sacmod/SIPECAM/Cumulo_32/fecha_entrga_28.Marzo.2022/visita_2/Noviembre_2021/4-32-0-1281/grabadoras/audible/camara10_par02\n",
      "4772\n",
      "/LUSTRE/sacmod/SIPECAM/Cumulo_32/fecha_entrga_28.Marzo.2022/visita_2/Noviembre_2021/4-32-0-1281/grabadoras/audible/camara06_par01\n",
      "4765\n",
      "/LUSTRE/sacmod/SIPECAM/Cumulo_32/fecha_entrga_28.Marzo.2022/visita_2/Noviembre_2021/4-32-0-1281/grabadoras/audible/camara08_par03\n",
      "4885\n",
      "/LUSTRE/sacmod/SIPECAM/Cumulo_32/fecha_entrga_28.Marzo.2022/visita_3/Dic_21_-_Enero_22/4-32-1-1285/grabadoras/ultrasonico/camara_01_par01\n",
      "1377\n",
      "/LUSTRE/sacmod/SIPECAM/Cumulo_32/fecha_entrga_28.Marzo.2022/visita_3/Dic_21_-_Enero_22/4-32-1-1285/grabadoras/ultrasonico/camara_03_par02\n",
      "1377\n",
      "/LUSTRE/sacmod/SIPECAM/Cumulo_32/fecha_entrga_28.Marzo.2022/visita_3/Dic_21_-_Enero_22/4-32-1-1285/grabadoras/ultrasonico/camara_05_par03\n",
      "1377\n",
      "/LUSTRE/sacmod/SIPECAM/Cumulo_32/fecha_entrga_28.Marzo.2022/visita_3/Dic_21_-_Enero_22/4-32-1-1285/grabadoras/audible/camara_03_par02\n",
      "5500\n",
      "/LUSTRE/sacmod/SIPECAM/Cumulo_32/fecha_entrga_28.Marzo.2022/visita_3/Dic_21_-_Enero_22/4-32-1-1285/grabadoras/audible/camara_05_par03\n",
      "5500\n",
      "/LUSTRE/sacmod/SIPECAM/Cumulo_32/fecha_entrga_28.Marzo.2022/visita_3/Dic_21_-_Enero_22/4-32-0-1279/grabadoras/ultrasonico/camara_08_par02\n",
      "1378\n",
      "/LUSTRE/sacmod/SIPECAM/Cumulo_32/fecha_entrga_28.Marzo.2022/visita_3/Dic_21_-_Enero_22/4-32-0-1279/grabadoras/ultrasonico/camara_06_par01\n",
      "1377\n",
      "/LUSTRE/sacmod/SIPECAM/Cumulo_32/fecha_entrga_28.Marzo.2022/visita_3/Dic_21_-_Enero_22/4-32-0-1279/grabadoras/ultrasonico/camara_10_par03\n",
      "1377\n",
      "/LUSTRE/sacmod/SIPECAM/Cumulo_32/fecha_entrga_28.Marzo.2022/visita_3/Dic_21_-_Enero_22/4-32-0-1279/grabadoras/audible/camara_08_par02\n",
      "5500\n",
      "/LUSTRE/sacmod/SIPECAM/Cumulo_32/fecha_entrga_28.Marzo.2022/visita_3/Dic_21_-_Enero_22/4-32-0-1279/grabadoras/audible/camara_06_par01\n",
      "5501\n",
      "/LUSTRE/sacmod/SIPECAM/Cumulo_32/fecha_entrga_28.Marzo.2022/visita_3/Dic_21_-_Enero_22/4-32-0-1279/grabadoras/audible/camara_10_par03\n",
      "5498\n",
      "/LUSTRE/sacmod/SIPECAM/Cumulo_32/fecha_entrga_28.Marzo.2022/visita_1/AGO-OCT-2021/4-32-1-1287/Grabadora/ultrasonico/grabadora_5_par_2/10262050\n",
      "1586\n",
      "/LUSTRE/sacmod/SIPECAM/Cumulo_32/fecha_entrga_28.Marzo.2022/visita_1/AGO-OCT-2021/4-32-1-1287/Grabadora/ultrasonico/grabadora_5_par_3\n",
      "186\n",
      "/LUSTRE/sacmod/SIPECAM/Cumulo_32/fecha_entrga_28.Marzo.2022/visita_1/AGO-OCT-2021/4-32-1-1287/Grabadora/ultrasonico/grabadora_1_par_1/10261093\n",
      "939\n",
      "/LUSTRE/sacmod/SIPECAM/Cumulo_32/fecha_entrga_28.Marzo.2022/visita_1/AGO-OCT-2021/4-32-1-1287/Grabadora/audible/grabadora_3_par2\n",
      "515\n",
      "/LUSTRE/sacmod/SIPECAM/Cumulo_32/fecha_entrga_28.Marzo.2022/visita_1/AGO-OCT-2021/4-32-1-1287/Grabadora/audible/grabadora_5_par3\n",
      "6979\n",
      "/LUSTRE/sacmod/SIPECAM/Cumulo_32/fecha_entrga_28.Marzo.2022/visita_1/AGO-OCT-2021/4-32-1-1287/Grabadora/audible/grabadora_1_par1\n",
      "2954\n",
      "/LUSTRE/sacmod/SIPECAM/Cumulo_32/fecha_entrga_28.Marzo.2022/visita_1/AGO-OCT-2021/4-32-0-1280/Grabadoras/ultrasonico/grabadora_01_par02\n",
      "360\n",
      "/LUSTRE/sacmod/SIPECAM/Cumulo_32/fecha_entrga_28.Marzo.2022/visita_1/AGO-OCT-2021/4-32-0-1280/Grabadoras/ultrasonico/grabadora_06_par01\n",
      "1875\n",
      "/LUSTRE/sacmod/SIPECAM/Cumulo_32/fecha_entrga_28.Marzo.2022/visita_1/AGO-OCT-2021/4-32-0-1280/Grabadoras/ultrasonico/grabadora_08_par03\n",
      "1876\n",
      "/LUSTRE/sacmod/SIPECAM/Cumulo_32/fecha_entrga_28.Marzo.2022/visita_1/AGO-OCT-2021/4-32-0-1280/Grabadoras/audible/grabadora_08_par03\n",
      "6275\n",
      "/LUSTRE/sacmod/SIPECAM/Cumulo_32/fecha_entrga_28.Marzo.2022/visita_1/AGO-OCT-2021/4-32-0-1280/Grabadoras/audible/grabadora_10_par02\n",
      "6576\n"
     ]
    }
   ],
   "source": [
    "%%bash\n",
    "SAVEIFS=$IFS;IFS=$(echo -en \"\\n\\b\")\n",
    "for dir_to_be_processed in $(cat ~/list_dirs_with_audios.txt)\n",
    "    do echo \"$dir_to_be_processed\"\n",
    "    ls \"$dir_to_be_processed/\" |wc -l\n",
    "done\n",
    "IFS=$SAVEIFS"
   ]
  },
  {
   "cell_type": "markdown",
   "id": "297bee6b-8d0f-4fe2-945f-e78297466961",
   "metadata": {
    "tags": []
   },
   "source": [
    "# Extract serial number, dates and metadata of files and device"
   ]
  },
  {
   "cell_type": "code",
   "execution_count": 15,
   "id": "1ec6ccc0-ef04-4d29-aef3-1a646fdd4a48",
   "metadata": {},
   "outputs": [
    {
     "name": "stdout",
     "output_type": "stream",
     "text": [
      "/LUSTRE/sacmod/SIPECAM/Cumulo_32/fecha_entrga_28.Marzo.2022/visita_2/Noviembre_2021/4-32-1-1287/grabadoras/ultrasonico/camara_03_par2\n",
      "/LUSTRE/sacmod/SIPECAM/Cumulo_32/fecha_entrga_28.Marzo.2022/visita_2/Noviembre_2021/4-32-1-1287/grabadoras/ultrasonico/camara_05_par3\n",
      "/LUSTRE/sacmod/SIPECAM/Cumulo_32/fecha_entrga_28.Marzo.2022/visita_2/Noviembre_2021/4-32-1-1287/grabadoras/ultrasonico/camara_01_par1\n",
      "/LUSTRE/sacmod/SIPECAM/Cumulo_32/fecha_entrga_28.Marzo.2022/visita_2/Noviembre_2021/4-32-1-1287/grabadoras/audible/camara_05_par_03\n",
      "/LUSTRE/sacmod/SIPECAM/Cumulo_32/fecha_entrga_28.Marzo.2022/visita_2/Noviembre_2021/4-32-1-1287/grabadoras/audible/camara_01_par01\n",
      "/LUSTRE/sacmod/SIPECAM/Cumulo_32/fecha_entrga_28.Marzo.2022/visita_2/Noviembre_2021/4-32-1-1287/grabadoras/audible/camara_03_par02\n",
      "/LUSTRE/sacmod/SIPECAM/Cumulo_32/fecha_entrga_28.Marzo.2022/visita_2/Noviembre_2021/4-32-0-1281/grabadoras/ultrasonico/camara10_par02\n",
      "/LUSTRE/sacmod/SIPECAM/Cumulo_32/fecha_entrga_28.Marzo.2022/visita_2/Noviembre_2021/4-32-0-1281/grabadoras/ultrasonico/camara06_par01\n",
      "/LUSTRE/sacmod/SIPECAM/Cumulo_32/fecha_entrga_28.Marzo.2022/visita_2/Noviembre_2021/4-32-0-1281/grabadoras/ultrasonico/camara08_par03\n",
      "/LUSTRE/sacmod/SIPECAM/Cumulo_32/fecha_entrga_28.Marzo.2022/visita_2/Noviembre_2021/4-32-0-1281/grabadoras/audible/camara10_par02\n",
      "/LUSTRE/sacmod/SIPECAM/Cumulo_32/fecha_entrga_28.Marzo.2022/visita_2/Noviembre_2021/4-32-0-1281/grabadoras/audible/camara06_par01\n",
      "/LUSTRE/sacmod/SIPECAM/Cumulo_32/fecha_entrga_28.Marzo.2022/visita_2/Noviembre_2021/4-32-0-1281/grabadoras/audible/camara08_par03\n",
      "/LUSTRE/sacmod/SIPECAM/Cumulo_32/fecha_entrga_28.Marzo.2022/visita_3/Dic_21_-_Enero_22/4-32-1-1285/grabadoras/ultrasonico/camara_01_par01\n",
      "/LUSTRE/sacmod/SIPECAM/Cumulo_32/fecha_entrga_28.Marzo.2022/visita_3/Dic_21_-_Enero_22/4-32-1-1285/grabadoras/ultrasonico/camara_03_par02\n",
      "/LUSTRE/sacmod/SIPECAM/Cumulo_32/fecha_entrga_28.Marzo.2022/visita_3/Dic_21_-_Enero_22/4-32-1-1285/grabadoras/ultrasonico/camara_05_par03\n",
      "/LUSTRE/sacmod/SIPECAM/Cumulo_32/fecha_entrga_28.Marzo.2022/visita_3/Dic_21_-_Enero_22/4-32-1-1285/grabadoras/audible/camara_03_par02\n",
      "/LUSTRE/sacmod/SIPECAM/Cumulo_32/fecha_entrga_28.Marzo.2022/visita_3/Dic_21_-_Enero_22/4-32-1-1285/grabadoras/audible/camara_05_par03\n",
      "/LUSTRE/sacmod/SIPECAM/Cumulo_32/fecha_entrga_28.Marzo.2022/visita_3/Dic_21_-_Enero_22/4-32-0-1279/grabadoras/ultrasonico/camara_08_par02\n",
      "/LUSTRE/sacmod/SIPECAM/Cumulo_32/fecha_entrga_28.Marzo.2022/visita_3/Dic_21_-_Enero_22/4-32-0-1279/grabadoras/ultrasonico/camara_06_par01\n",
      "/LUSTRE/sacmod/SIPECAM/Cumulo_32/fecha_entrga_28.Marzo.2022/visita_3/Dic_21_-_Enero_22/4-32-0-1279/grabadoras/ultrasonico/camara_10_par03\n",
      "/LUSTRE/sacmod/SIPECAM/Cumulo_32/fecha_entrga_28.Marzo.2022/visita_3/Dic_21_-_Enero_22/4-32-0-1279/grabadoras/audible/camara_08_par02\n",
      "/LUSTRE/sacmod/SIPECAM/Cumulo_32/fecha_entrga_28.Marzo.2022/visita_3/Dic_21_-_Enero_22/4-32-0-1279/grabadoras/audible/camara_06_par01\n",
      "/LUSTRE/sacmod/SIPECAM/Cumulo_32/fecha_entrga_28.Marzo.2022/visita_3/Dic_21_-_Enero_22/4-32-0-1279/grabadoras/audible/camara_10_par03\n",
      "/LUSTRE/sacmod/SIPECAM/Cumulo_32/fecha_entrga_28.Marzo.2022/visita_1/AGO-OCT-2021/4-32-1-1287/Grabadora/ultrasonico/grabadora_5_par_2/10262050\n",
      "/LUSTRE/sacmod/SIPECAM/Cumulo_32/fecha_entrga_28.Marzo.2022/visita_1/AGO-OCT-2021/4-32-1-1287/Grabadora/ultrasonico/grabadora_5_par_3\n",
      "/LUSTRE/sacmod/SIPECAM/Cumulo_32/fecha_entrga_28.Marzo.2022/visita_1/AGO-OCT-2021/4-32-1-1287/Grabadora/ultrasonico/grabadora_1_par_1/10261093\n",
      "/LUSTRE/sacmod/SIPECAM/Cumulo_32/fecha_entrga_28.Marzo.2022/visita_1/AGO-OCT-2021/4-32-1-1287/Grabadora/audible/grabadora_3_par2\n",
      "/LUSTRE/sacmod/SIPECAM/Cumulo_32/fecha_entrga_28.Marzo.2022/visita_1/AGO-OCT-2021/4-32-1-1287/Grabadora/audible/grabadora_5_par3\n",
      "/LUSTRE/sacmod/SIPECAM/Cumulo_32/fecha_entrga_28.Marzo.2022/visita_1/AGO-OCT-2021/4-32-1-1287/Grabadora/audible/grabadora_1_par1\n",
      "/LUSTRE/sacmod/SIPECAM/Cumulo_32/fecha_entrga_28.Marzo.2022/visita_1/AGO-OCT-2021/4-32-0-1280/Grabadoras/ultrasonico/grabadora_01_par02\n",
      "/LUSTRE/sacmod/SIPECAM/Cumulo_32/fecha_entrga_28.Marzo.2022/visita_1/AGO-OCT-2021/4-32-0-1280/Grabadoras/ultrasonico/grabadora_06_par01\n",
      "/LUSTRE/sacmod/SIPECAM/Cumulo_32/fecha_entrga_28.Marzo.2022/visita_1/AGO-OCT-2021/4-32-0-1280/Grabadoras/ultrasonico/grabadora_08_par03\n",
      "/LUSTRE/sacmod/SIPECAM/Cumulo_32/fecha_entrga_28.Marzo.2022/visita_1/AGO-OCT-2021/4-32-0-1280/Grabadoras/audible/grabadora_08_par03\n",
      "/LUSTRE/sacmod/SIPECAM/Cumulo_32/fecha_entrga_28.Marzo.2022/visita_1/AGO-OCT-2021/4-32-0-1280/Grabadoras/audible/grabadora_10_par02\n"
     ]
    },
    {
     "name": "stderr",
     "output_type": "stream",
     "text": [
      "multiprocessing.pool.RemoteTraceback: \n",
      "\"\"\"\n",
      "Traceback (most recent call last):\n",
      "  File \"/usr/lib/python3.8/multiprocessing/pool.py\", line 125, in worker\n",
      "    result = (True, func(*args, **kwds))\n",
      "  File \"/usr/lib/python3.8/multiprocessing/pool.py\", line 48, in mapstar\n",
      "    return list(map(*args))\n",
      "  File \"/usr/local/lib/python3.8/dist-packages/simex/extract_serial_numbers_dates_and_metadata_of_files_and_device.py\", line 27, in extract_metadata\n",
      "    date_of_file = read_metadata_audio.extract_date(filename)\n",
      "  File \"/usr/local/lib/python3.8/dist-packages/simex/read_metadata_audio.py\", line 143, in extract_date\n",
      "    return get_date(comment_metadata)#example: 2021-07-28\n",
      "  File \"/usr/local/lib/python3.8/dist-packages/simex/read_metadata_audio.py\", line 92, in get_date\n",
      "    match_date = ONLY_DATE_REGEX.search(comment)\n",
      "TypeError: expected string or bytes-like object\n",
      "\"\"\"\n",
      "\n",
      "The above exception was the direct cause of the following exception:\n",
      "\n",
      "Traceback (most recent call last):\n",
      "  File \"/usr/local/bin/extract_serial_numbers_dates_and_metadata_of_files_and_device\", line 8, in <module>\n",
      "    sys.exit(main())\n",
      "  File \"/usr/local/lib/python3.8/dist-packages/simex/extract_serial_numbers_dates_and_metadata_of_files_and_device.py\", line 233, in main\n",
      "    extract_metadata_of_files(input_directory,\n",
      "  File \"/usr/local/lib/python3.8/dist-packages/simex/extract_serial_numbers_dates_and_metadata_of_files_and_device.py\", line 139, in extract_metadata_of_files\n",
      "    res_map = pool.map(extract_metadata,\n",
      "  File \"/usr/lib/python3.8/multiprocessing/pool.py\", line 364, in map\n",
      "    return self._map_async(func, iterable, mapstar, chunksize).get()\n",
      "  File \"/usr/lib/python3.8/multiprocessing/pool.py\", line 771, in get\n",
      "    raise self._value\n",
      "TypeError: expected string or bytes-like object\n"
     ]
    },
    {
     "name": "stdout",
     "output_type": "stream",
     "text": [
      "/LUSTRE/sacmod/SIPECAM/Cumulo_32/fecha_entrga_28.Marzo.2022/visita_2/Noviembre_2021/4-32-1-1287/camaras/camara_01/DCIM/100RECNX\n",
      "/LUSTRE/sacmod/SIPECAM/Cumulo_32/fecha_entrga_28.Marzo.2022/visita_2/Noviembre_2021/4-32-1-1287/camaras/camara_05/DCIM/100RECNX\n",
      "/LUSTRE/sacmod/SIPECAM/Cumulo_32/fecha_entrga_28.Marzo.2022/visita_2/Noviembre_2021/4-32-1-1287/camaras/camara_04/DCIM/100RECNX\n",
      "/LUSTRE/sacmod/SIPECAM/Cumulo_32/fecha_entrga_28.Marzo.2022/visita_2/Noviembre_2021/4-32-1-1287/camaras/camara_03/DCIM/100RECNX\n",
      "/LUSTRE/sacmod/SIPECAM/Cumulo_32/fecha_entrga_28.Marzo.2022/visita_2/Noviembre_2021/4-32-0-1281/camaras/camara_06/DCIM/100RECNX\n",
      "/LUSTRE/sacmod/SIPECAM/Cumulo_32/fecha_entrga_28.Marzo.2022/visita_2/Noviembre_2021/4-32-0-1281/camaras/camara_10/DCIM/100RECNX\n",
      "/LUSTRE/sacmod/SIPECAM/Cumulo_32/fecha_entrga_28.Marzo.2022/visita_2/Noviembre_2021/4-32-0-1281/camaras/camara_07/DCIM/100RECNX\n",
      "/LUSTRE/sacmod/SIPECAM/Cumulo_32/fecha_entrga_28.Marzo.2022/visita_2/Noviembre_2021/4-32-0-1281/camaras/camara_08/DCIM/100RECNX\n",
      "/LUSTRE/sacmod/SIPECAM/Cumulo_32/fecha_entrga_28.Marzo.2022/visita_2/Noviembre_2021/4-32-0-1281/camaras/camara_09/DCIM/101RECNX\n",
      "/LUSTRE/sacmod/SIPECAM/Cumulo_32/fecha_entrga_28.Marzo.2022/visita_2/Noviembre_2021/4-32-0-1281/camaras/camara_09/DCIM/100RECNX\n",
      "/LUSTRE/sacmod/SIPECAM/Cumulo_32/fecha_entrga_28.Marzo.2022/visita_3/Dic_21_-_Enero_22/4-32-1-1285/camaras/camara_01/DCIM/100RECNX\n",
      "/LUSTRE/sacmod/SIPECAM/Cumulo_32/fecha_entrga_28.Marzo.2022/visita_3/Dic_21_-_Enero_22/4-32-1-1285/camaras/camara_05/DCIM/100RECNX\n",
      "/LUSTRE/sacmod/SIPECAM/Cumulo_32/fecha_entrga_28.Marzo.2022/visita_3/Dic_21_-_Enero_22/4-32-1-1285/camaras/camara_04/DCIM/100RECNX\n",
      "/LUSTRE/sacmod/SIPECAM/Cumulo_32/fecha_entrga_28.Marzo.2022/visita_3/Dic_21_-_Enero_22/4-32-1-1285/camaras/camara_03/DCIM/100RECNX\n",
      "/LUSTRE/sacmod/SIPECAM/Cumulo_32/fecha_entrga_28.Marzo.2022/visita_3/Dic_21_-_Enero_22/4-32-1-1285/camaras/camara_02/DCIM/100RECNX\n",
      "/LUSTRE/sacmod/SIPECAM/Cumulo_32/fecha_entrga_28.Marzo.2022/visita_3/Dic_21_-_Enero_22/4-32-0-1279/camaras/camara_06/DCIM/100RECNX\n",
      "/LUSTRE/sacmod/SIPECAM/Cumulo_32/fecha_entrga_28.Marzo.2022/visita_3/Dic_21_-_Enero_22/4-32-0-1279/camaras/camara_10/DCIM/100RECNX\n",
      "/LUSTRE/sacmod/SIPECAM/Cumulo_32/fecha_entrga_28.Marzo.2022/visita_3/Dic_21_-_Enero_22/4-32-0-1279/camaras/camara_07/DCIM/100RECNX\n",
      "/LUSTRE/sacmod/SIPECAM/Cumulo_32/fecha_entrga_28.Marzo.2022/visita_3/Dic_21_-_Enero_22/4-32-0-1279/camaras/camara_08/DCIM/101RECNX\n",
      "/LUSTRE/sacmod/SIPECAM/Cumulo_32/fecha_entrga_28.Marzo.2022/visita_3/Dic_21_-_Enero_22/4-32-0-1279/camaras/camara_08/DCIM/100RECNX\n",
      "/LUSTRE/sacmod/SIPECAM/Cumulo_32/fecha_entrga_28.Marzo.2022/visita_3/Dic_21_-_Enero_22/4-32-0-1279/camaras/camara_09/DCIM/101RECNX\n",
      "/LUSTRE/sacmod/SIPECAM/Cumulo_32/fecha_entrga_28.Marzo.2022/visita_3/Dic_21_-_Enero_22/4-32-0-1279/camaras/camara_09/DCIM/100RECNX\n",
      "/LUSTRE/sacmod/SIPECAM/Cumulo_32/fecha_entrga_28.Marzo.2022/visita_1/AGO-OCT-2021/4-32-1-1287/Camaras/Tarjeta 7/DCIM/100RECNX\n",
      "/LUSTRE/sacmod/SIPECAM/Cumulo_32/fecha_entrga_28.Marzo.2022/visita_1/AGO-OCT-2021/4-32-1-1287/Camaras/Tarjeta 1/DCIM/101RECNX\n",
      "/LUSTRE/sacmod/SIPECAM/Cumulo_32/fecha_entrga_28.Marzo.2022/visita_1/AGO-OCT-2021/4-32-1-1287/Camaras/Tarjeta 1/DCIM/100RECNX\n",
      "/LUSTRE/sacmod/SIPECAM/Cumulo_32/fecha_entrga_28.Marzo.2022/visita_1/AGO-OCT-2021/4-32-1-1287/Camaras/Tarjeta 10/DCIM/100RECNX\n",
      "/LUSTRE/sacmod/SIPECAM/Cumulo_32/fecha_entrga_28.Marzo.2022/visita_1/AGO-OCT-2021/4-32-1-1287/Camaras/Tarjeta 9/DCIM/100RECNX\n",
      "/LUSTRE/sacmod/SIPECAM/Cumulo_32/fecha_entrga_28.Marzo.2022/visita_1/AGO-OCT-2021/4-32-1-1287/Camaras/Tarjeta 6/DCIM/101RECNX\n",
      "/LUSTRE/sacmod/SIPECAM/Cumulo_32/fecha_entrga_28.Marzo.2022/visita_1/AGO-OCT-2021/4-32-1-1287/Camaras/Tarjeta 6/DCIM/100RECNX\n",
      "/LUSTRE/sacmod/SIPECAM/Cumulo_32/fecha_entrga_28.Marzo.2022/visita_1/AGO-OCT-2021/4-32-1-1287/Camaras/Tarjeta 2/DCIM/101RECNX\n",
      "/LUSTRE/sacmod/SIPECAM/Cumulo_32/fecha_entrga_28.Marzo.2022/visita_1/AGO-OCT-2021/4-32-1-1287/Camaras/Tarjeta 2/DCIM/100RECNX\n",
      "/LUSTRE/sacmod/SIPECAM/Cumulo_32/fecha_entrga_28.Marzo.2022/visita_1/AGO-OCT-2021/4-32-1-1287/Camaras/Tarjeta 3/DCIM/101RECNX\n",
      "/LUSTRE/sacmod/SIPECAM/Cumulo_32/fecha_entrga_28.Marzo.2022/visita_1/AGO-OCT-2021/4-32-1-1287/Camaras/Tarjeta 3/DCIM/102RECNX\n",
      "/LUSTRE/sacmod/SIPECAM/Cumulo_32/fecha_entrga_28.Marzo.2022/visita_1/AGO-OCT-2021/4-32-1-1287/Camaras/Tarjeta 3/DCIM/100RECNX\n",
      "/LUSTRE/sacmod/SIPECAM/Cumulo_32/fecha_entrga_28.Marzo.2022/visita_1/AGO-OCT-2021/4-32-1-1287/Camaras/Tarjeta 4/DCIM/101RECNX\n",
      "/LUSTRE/sacmod/SIPECAM/Cumulo_32/fecha_entrga_28.Marzo.2022/visita_1/AGO-OCT-2021/4-32-1-1287/Camaras/Tarjeta 4/DCIM/100RECNX\n",
      "/LUSTRE/sacmod/SIPECAM/Cumulo_32/fecha_entrga_28.Marzo.2022/visita_1/AGO-OCT-2021/4-32-1-1287/Camaras/Tarjeta 8/DCIM/101RECNX\n",
      "/LUSTRE/sacmod/SIPECAM/Cumulo_32/fecha_entrga_28.Marzo.2022/visita_1/AGO-OCT-2021/4-32-1-1287/Camaras/Tarjeta 8/DCIM/100RECNX\n",
      "/LUSTRE/sacmod/SIPECAM/Cumulo_32/fecha_entrga_28.Marzo.2022/visita_1/AGO-OCT-2021/4-32-1-1287/Camaras/Tarjeta 5/DCIM/100RECNX\n",
      "/LUSTRE/sacmod/SIPECAM/Cumulo_32/fecha_entrga_28.Marzo.2022/visita_2/Noviembre_2021/4-32-1-1287/camaras/camara_02/DCIM/100RECNX\n"
     ]
    },
    {
     "name": "stderr",
     "output_type": "stream",
     "text": [
      "Traceback (most recent call last):\n",
      "  File \"/usr/local/bin/extract_serial_numbers_dates_and_metadata_of_files_and_device\", line 8, in <module>\n",
      "    sys.exit(main())\n",
      "  File \"/usr/local/lib/python3.8/dist-packages/simex/extract_serial_numbers_dates_and_metadata_of_files_and_device.py\", line 227, in main\n",
      "    extract_metadata_of_device_from_files(input_directory,\n",
      "  File \"/usr/local/lib/python3.8/dist-packages/simex/extract_serial_numbers_dates_and_metadata_of_files_and_device.py\", line 122, in extract_metadata_of_device_from_files\n",
      "    f_pathlib = pathlib.Path(filename)\n",
      "UnboundLocalError: local variable 'filename' referenced before assignment\n"
     ]
    }
   ],
   "source": [
    "%%bash\n",
    "list_of_dirs_to_be_processed=/shared_volume/sipecam_subdirectories_04-04-2022.txt\n",
    "SAVEIFS=$IFS;IFS=$(echo -en \"\\n\\b\")\n",
    "for dir_to_be_processed in $(cat $list_of_dirs_to_be_processed)\n",
    "    do\n",
    "    echo \"$dir_to_be_processed\"\n",
    "    extract_serial_numbers_dates_and_metadata_of_files_and_device --input_dir \"$dir_to_be_processed\" --parallel --number_of_processes 10\n",
    "done\n",
    "IFS=$SAVEIFS"
   ]
  },
  {
   "cell_type": "markdown",
   "id": "77c2c26c-c845-4385-984e-53ac89de6250",
   "metadata": {},
   "source": [
    "## 1"
   ]
  },
  {
   "cell_type": "markdown",
   "id": "f2c0b427-9bfa-4e83-add2-4ce6dcb0be9a",
   "metadata": {},
   "source": [
    "**Executing without parallel feature**"
   ]
  },
  {
   "cell_type": "code",
   "execution_count": 16,
   "id": "0e6a15f6-1364-46a4-8ed0-b0da7c7f17bb",
   "metadata": {},
   "outputs": [
    {
     "name": "stderr",
     "output_type": "stream",
     "text": [
      "Traceback (most recent call last):\n",
      "  File \"/usr/local/bin/extract_serial_numbers_dates_and_metadata_of_files_and_device\", line 8, in <module>\n",
      "    sys.exit(main())\n",
      "  File \"/usr/local/lib/python3.8/dist-packages/simex/extract_serial_numbers_dates_and_metadata_of_files_and_device.py\", line 233, in main\n",
      "    extract_metadata_of_files(input_directory,\n",
      "  File \"/usr/local/lib/python3.8/dist-packages/simex/extract_serial_numbers_dates_and_metadata_of_files_and_device.py\", line 165, in extract_metadata_of_files\n",
      "    tuple_date, tuple_metadata_of_file = extract_metadata(filename)\n",
      "  File \"/usr/local/lib/python3.8/dist-packages/simex/extract_serial_numbers_dates_and_metadata_of_files_and_device.py\", line 27, in extract_metadata\n",
      "    date_of_file = read_metadata_audio.extract_date(filename)\n",
      "  File \"/usr/local/lib/python3.8/dist-packages/simex/read_metadata_audio.py\", line 143, in extract_date\n",
      "    return get_date(comment_metadata)#example: 2021-07-28\n",
      "  File \"/usr/local/lib/python3.8/dist-packages/simex/read_metadata_audio.py\", line 92, in get_date\n",
      "    match_date = ONLY_DATE_REGEX.search(comment)\n",
      "TypeError: expected string or bytes-like object\n"
     ]
    },
    {
     "ename": "CalledProcessError",
     "evalue": "Command 'b'dir_to_be_processed=\"/LUSTRE/sacmod/SIPECAM/Cumulo_32/fecha_entrga_28.Marzo.2022/visita_1/AGO-OCT-2021/4-32-0-1280/Grabadoras/audible/grabadora_10_par02\"\\nextract_serial_numbers_dates_and_metadata_of_files_and_device --input_dir \"$dir_to_be_processed\"\\n'' returned non-zero exit status 1.",
     "output_type": "error",
     "traceback": [
      "\u001b[0;31m---------------------------------------------------------------------------\u001b[0m",
      "\u001b[0;31mCalledProcessError\u001b[0m                        Traceback (most recent call last)",
      "Input \u001b[0;32mIn [16]\u001b[0m, in \u001b[0;36m<cell line: 1>\u001b[0;34m()\u001b[0m\n\u001b[0;32m----> 1\u001b[0m \u001b[43mget_ipython\u001b[49m\u001b[43m(\u001b[49m\u001b[43m)\u001b[49m\u001b[38;5;241;43m.\u001b[39;49m\u001b[43mrun_cell_magic\u001b[49m\u001b[43m(\u001b[49m\u001b[38;5;124;43m'\u001b[39;49m\u001b[38;5;124;43mbash\u001b[39;49m\u001b[38;5;124;43m'\u001b[39;49m\u001b[43m,\u001b[49m\u001b[43m \u001b[49m\u001b[38;5;124;43m'\u001b[39;49m\u001b[38;5;124;43m'\u001b[39;49m\u001b[43m,\u001b[49m\u001b[43m \u001b[49m\u001b[38;5;124;43m'\u001b[39;49m\u001b[38;5;124;43mdir_to_be_processed=\u001b[39;49m\u001b[38;5;124;43m\"\u001b[39;49m\u001b[38;5;124;43m/LUSTRE/sacmod/SIPECAM/Cumulo_32/fecha_entrga_28.Marzo.2022/visita_1/AGO-OCT-2021/4-32-0-1280/Grabadoras/audible/grabadora_10_par02\u001b[39;49m\u001b[38;5;124;43m\"\u001b[39;49m\u001b[38;5;130;43;01m\\n\u001b[39;49;00m\u001b[38;5;124;43mextract_serial_numbers_dates_and_metadata_of_files_and_device --input_dir \u001b[39;49m\u001b[38;5;124;43m\"\u001b[39;49m\u001b[38;5;124;43m$dir_to_be_processed\u001b[39;49m\u001b[38;5;124;43m\"\u001b[39;49m\u001b[38;5;130;43;01m\\n\u001b[39;49;00m\u001b[38;5;124;43m'\u001b[39;49m\u001b[43m)\u001b[49m\n",
      "File \u001b[0;32m/usr/local/lib/python3.8/dist-packages/IPython/core/interactiveshell.py:2347\u001b[0m, in \u001b[0;36mInteractiveShell.run_cell_magic\u001b[0;34m(self, magic_name, line, cell)\u001b[0m\n\u001b[1;32m   2345\u001b[0m \u001b[38;5;28;01mwith\u001b[39;00m \u001b[38;5;28mself\u001b[39m\u001b[38;5;241m.\u001b[39mbuiltin_trap:\n\u001b[1;32m   2346\u001b[0m     args \u001b[38;5;241m=\u001b[39m (magic_arg_s, cell)\n\u001b[0;32m-> 2347\u001b[0m     result \u001b[38;5;241m=\u001b[39m \u001b[43mfn\u001b[49m\u001b[43m(\u001b[49m\u001b[38;5;241;43m*\u001b[39;49m\u001b[43margs\u001b[49m\u001b[43m,\u001b[49m\u001b[43m \u001b[49m\u001b[38;5;241;43m*\u001b[39;49m\u001b[38;5;241;43m*\u001b[39;49m\u001b[43mkwargs\u001b[49m\u001b[43m)\u001b[49m\n\u001b[1;32m   2348\u001b[0m \u001b[38;5;28;01mreturn\u001b[39;00m result\n",
      "File \u001b[0;32m/usr/local/lib/python3.8/dist-packages/IPython/core/magics/script.py:153\u001b[0m, in \u001b[0;36mScriptMagics._make_script_magic.<locals>.named_script_magic\u001b[0;34m(line, cell)\u001b[0m\n\u001b[1;32m    151\u001b[0m \u001b[38;5;28;01melse\u001b[39;00m:\n\u001b[1;32m    152\u001b[0m     line \u001b[38;5;241m=\u001b[39m script\n\u001b[0;32m--> 153\u001b[0m \u001b[38;5;28;01mreturn\u001b[39;00m \u001b[38;5;28;43mself\u001b[39;49m\u001b[38;5;241;43m.\u001b[39;49m\u001b[43mshebang\u001b[49m\u001b[43m(\u001b[49m\u001b[43mline\u001b[49m\u001b[43m,\u001b[49m\u001b[43m \u001b[49m\u001b[43mcell\u001b[49m\u001b[43m)\u001b[49m\n",
      "File \u001b[0;32m/usr/local/lib/python3.8/dist-packages/IPython/core/magics/script.py:305\u001b[0m, in \u001b[0;36mScriptMagics.shebang\u001b[0;34m(self, line, cell)\u001b[0m\n\u001b[1;32m    300\u001b[0m \u001b[38;5;28;01mif\u001b[39;00m args\u001b[38;5;241m.\u001b[39mraise_error \u001b[38;5;129;01mand\u001b[39;00m p\u001b[38;5;241m.\u001b[39mreturncode \u001b[38;5;241m!=\u001b[39m \u001b[38;5;241m0\u001b[39m:\n\u001b[1;32m    301\u001b[0m     \u001b[38;5;66;03m# If we get here and p.returncode is still None, we must have\u001b[39;00m\n\u001b[1;32m    302\u001b[0m     \u001b[38;5;66;03m# killed it but not yet seen its return code. We don't wait for it,\u001b[39;00m\n\u001b[1;32m    303\u001b[0m     \u001b[38;5;66;03m# in case it's stuck in uninterruptible sleep. -9 = SIGKILL\u001b[39;00m\n\u001b[1;32m    304\u001b[0m     rc \u001b[38;5;241m=\u001b[39m p\u001b[38;5;241m.\u001b[39mreturncode \u001b[38;5;129;01mor\u001b[39;00m \u001b[38;5;241m-\u001b[39m\u001b[38;5;241m9\u001b[39m\n\u001b[0;32m--> 305\u001b[0m     \u001b[38;5;28;01mraise\u001b[39;00m CalledProcessError(rc, cell)\n",
      "\u001b[0;31mCalledProcessError\u001b[0m: Command 'b'dir_to_be_processed=\"/LUSTRE/sacmod/SIPECAM/Cumulo_32/fecha_entrga_28.Marzo.2022/visita_1/AGO-OCT-2021/4-32-0-1280/Grabadoras/audible/grabadora_10_par02\"\\nextract_serial_numbers_dates_and_metadata_of_files_and_device --input_dir \"$dir_to_be_processed\"\\n'' returned non-zero exit status 1."
     ]
    }
   ],
   "source": [
    "%%bash\n",
    "dir_to_be_processed=\"/LUSTRE/sacmod/SIPECAM/Cumulo_32/fecha_entrga_28.Marzo.2022/visita_1/AGO-OCT-2021/4-32-0-1280/Grabadoras/audible/grabadora_10_par02\"\n",
    "extract_serial_numbers_dates_and_metadata_of_files_and_device --input_dir \"$dir_to_be_processed\""
   ]
  },
  {
   "cell_type": "code",
   "execution_count": 17,
   "id": "fc9ce63a-b1e0-4f45-8f71-1546a15607b1",
   "metadata": {},
   "outputs": [
    {
     "name": "stdout",
     "output_type": "stream",
     "text": [
      "[{\n",
      "  \"SourceFile\": \"/LUSTRE/sacmod/SIPECAM/Cumulo_32/fecha_entrga_28.Marzo.2022/visita_1/AGO-OCT-2021/4-32-0-1280/Grabadoras/audible/grabadora_10_par02/20210823_135000.WAV\",\n",
      "  \"ExifToolVersion\": 12.40,\n",
      "  \"FileName\": \"20210823_135000.WAV\",\n",
      "  \"Directory\": \"/LUSTRE/sacmod/SIPECAM/Cumulo_32/fecha_entrga_28.Marzo.2022/visita_1/AGO-OCT-2021/4-32-0-1280/Grabadoras/audible/grabadora_10_par02\",\n",
      "  \"FileSize\": \"5.5 MiB\",\n",
      "  \"FileModifyDate\": \"2022:03:29 02:36:41-06:00\",\n",
      "  \"FileAccessDate\": \"2022:04:04 20:33:52-05:00\",\n",
      "  \"FileInodeChangeDate\": \"2022:03:31 17:41:29-06:00\",\n",
      "  \"FilePermissions\": \"-rwxrwxrwx\",\n",
      "  \"Error\": \"File format error\"\n",
      "}]\n"
     ]
    },
    {
     "ename": "CalledProcessError",
     "evalue": "Command 'b'file=\"/LUSTRE/sacmod/SIPECAM/Cumulo_32/fecha_entrga_28.Marzo.2022/visita_1/AGO-OCT-2021/4-32-0-1280/Grabadoras/audible/grabadora_10_par02/20210823_135000.WAV\"\\nexiftool -a -j \"$file\"\\n'' returned non-zero exit status 1.",
     "output_type": "error",
     "traceback": [
      "\u001b[0;31m---------------------------------------------------------------------------\u001b[0m",
      "\u001b[0;31mCalledProcessError\u001b[0m                        Traceback (most recent call last)",
      "Input \u001b[0;32mIn [17]\u001b[0m, in \u001b[0;36m<cell line: 1>\u001b[0;34m()\u001b[0m\n\u001b[0;32m----> 1\u001b[0m \u001b[43mget_ipython\u001b[49m\u001b[43m(\u001b[49m\u001b[43m)\u001b[49m\u001b[38;5;241;43m.\u001b[39;49m\u001b[43mrun_cell_magic\u001b[49m\u001b[43m(\u001b[49m\u001b[38;5;124;43m'\u001b[39;49m\u001b[38;5;124;43mbash\u001b[39;49m\u001b[38;5;124;43m'\u001b[39;49m\u001b[43m,\u001b[49m\u001b[43m \u001b[49m\u001b[38;5;124;43m'\u001b[39;49m\u001b[38;5;124;43m'\u001b[39;49m\u001b[43m,\u001b[49m\u001b[43m \u001b[49m\u001b[38;5;124;43m'\u001b[39;49m\u001b[38;5;124;43mfile=\u001b[39;49m\u001b[38;5;124;43m\"\u001b[39;49m\u001b[38;5;124;43m/LUSTRE/sacmod/SIPECAM/Cumulo_32/fecha_entrga_28.Marzo.2022/visita_1/AGO-OCT-2021/4-32-0-1280/Grabadoras/audible/grabadora_10_par02/20210823_135000.WAV\u001b[39;49m\u001b[38;5;124;43m\"\u001b[39;49m\u001b[38;5;130;43;01m\\n\u001b[39;49;00m\u001b[38;5;124;43mexiftool -a -j \u001b[39;49m\u001b[38;5;124;43m\"\u001b[39;49m\u001b[38;5;124;43m$file\u001b[39;49m\u001b[38;5;124;43m\"\u001b[39;49m\u001b[38;5;130;43;01m\\n\u001b[39;49;00m\u001b[38;5;124;43m'\u001b[39;49m\u001b[43m)\u001b[49m\n",
      "File \u001b[0;32m/usr/local/lib/python3.8/dist-packages/IPython/core/interactiveshell.py:2347\u001b[0m, in \u001b[0;36mInteractiveShell.run_cell_magic\u001b[0;34m(self, magic_name, line, cell)\u001b[0m\n\u001b[1;32m   2345\u001b[0m \u001b[38;5;28;01mwith\u001b[39;00m \u001b[38;5;28mself\u001b[39m\u001b[38;5;241m.\u001b[39mbuiltin_trap:\n\u001b[1;32m   2346\u001b[0m     args \u001b[38;5;241m=\u001b[39m (magic_arg_s, cell)\n\u001b[0;32m-> 2347\u001b[0m     result \u001b[38;5;241m=\u001b[39m \u001b[43mfn\u001b[49m\u001b[43m(\u001b[49m\u001b[38;5;241;43m*\u001b[39;49m\u001b[43margs\u001b[49m\u001b[43m,\u001b[49m\u001b[43m \u001b[49m\u001b[38;5;241;43m*\u001b[39;49m\u001b[38;5;241;43m*\u001b[39;49m\u001b[43mkwargs\u001b[49m\u001b[43m)\u001b[49m\n\u001b[1;32m   2348\u001b[0m \u001b[38;5;28;01mreturn\u001b[39;00m result\n",
      "File \u001b[0;32m/usr/local/lib/python3.8/dist-packages/IPython/core/magics/script.py:153\u001b[0m, in \u001b[0;36mScriptMagics._make_script_magic.<locals>.named_script_magic\u001b[0;34m(line, cell)\u001b[0m\n\u001b[1;32m    151\u001b[0m \u001b[38;5;28;01melse\u001b[39;00m:\n\u001b[1;32m    152\u001b[0m     line \u001b[38;5;241m=\u001b[39m script\n\u001b[0;32m--> 153\u001b[0m \u001b[38;5;28;01mreturn\u001b[39;00m \u001b[38;5;28;43mself\u001b[39;49m\u001b[38;5;241;43m.\u001b[39;49m\u001b[43mshebang\u001b[49m\u001b[43m(\u001b[49m\u001b[43mline\u001b[49m\u001b[43m,\u001b[49m\u001b[43m \u001b[49m\u001b[43mcell\u001b[49m\u001b[43m)\u001b[49m\n",
      "File \u001b[0;32m/usr/local/lib/python3.8/dist-packages/IPython/core/magics/script.py:305\u001b[0m, in \u001b[0;36mScriptMagics.shebang\u001b[0;34m(self, line, cell)\u001b[0m\n\u001b[1;32m    300\u001b[0m \u001b[38;5;28;01mif\u001b[39;00m args\u001b[38;5;241m.\u001b[39mraise_error \u001b[38;5;129;01mand\u001b[39;00m p\u001b[38;5;241m.\u001b[39mreturncode \u001b[38;5;241m!=\u001b[39m \u001b[38;5;241m0\u001b[39m:\n\u001b[1;32m    301\u001b[0m     \u001b[38;5;66;03m# If we get here and p.returncode is still None, we must have\u001b[39;00m\n\u001b[1;32m    302\u001b[0m     \u001b[38;5;66;03m# killed it but not yet seen its return code. We don't wait for it,\u001b[39;00m\n\u001b[1;32m    303\u001b[0m     \u001b[38;5;66;03m# in case it's stuck in uninterruptible sleep. -9 = SIGKILL\u001b[39;00m\n\u001b[1;32m    304\u001b[0m     rc \u001b[38;5;241m=\u001b[39m p\u001b[38;5;241m.\u001b[39mreturncode \u001b[38;5;129;01mor\u001b[39;00m \u001b[38;5;241m-\u001b[39m\u001b[38;5;241m9\u001b[39m\n\u001b[0;32m--> 305\u001b[0m     \u001b[38;5;28;01mraise\u001b[39;00m CalledProcessError(rc, cell)\n",
      "\u001b[0;31mCalledProcessError\u001b[0m: Command 'b'file=\"/LUSTRE/sacmod/SIPECAM/Cumulo_32/fecha_entrga_28.Marzo.2022/visita_1/AGO-OCT-2021/4-32-0-1280/Grabadoras/audible/grabadora_10_par02/20210823_135000.WAV\"\\nexiftool -a -j \"$file\"\\n'' returned non-zero exit status 1."
     ]
    }
   ],
   "source": [
    "%%bash\n",
    "file=\"/LUSTRE/sacmod/SIPECAM/Cumulo_32/fecha_entrga_28.Marzo.2022/visita_1/AGO-OCT-2021/4-32-0-1280/Grabadoras/audible/grabadora_10_par02/20210823_135000.WAV\"\n",
    "exiftool -a -j \"$file\""
   ]
  },
  {
   "cell_type": "code",
   "execution_count": 18,
   "id": "ef39c3c0-c2b4-4178-a951-30a8c32824ad",
   "metadata": {},
   "outputs": [],
   "source": [
    "from simex import read_metadata_audio"
   ]
  },
  {
   "cell_type": "code",
   "execution_count": 19,
   "id": "9385db04-3759-4df5-a02f-6131201f614d",
   "metadata": {},
   "outputs": [],
   "source": [
    "f=\"/LUSTRE/sacmod/SIPECAM/Cumulo_32/fecha_entrga_28.Marzo.2022/visita_1/AGO-OCT-2021/4-32-0-1280/Grabadoras/audible/grabadora_10_par02/20210823_135000.WAV\""
   ]
  },
  {
   "cell_type": "code",
   "execution_count": 20,
   "id": "3c2439f1-d0fc-48bb-a409-148c743464ea",
   "metadata": {},
   "outputs": [],
   "source": [
    "read_metadata_audio.get_comment(f)"
   ]
  },
  {
   "cell_type": "markdown",
   "id": "02870e21-3703-49f1-bb06-b07c084a4f91",
   "metadata": {},
   "source": [
    "Moving file \n",
    "`/LUSTRE/sacmod/SIPECAM/Cumulo_32/fecha_entrga_28.Marzo.2022/visita_1/AGO-OCT-2021/4-32-0-1280/Grabadoras/audible/grabadora_10_par02/20210823_135000.WAV`\n",
    "to: `/LUSTRE/sacmod/SIPECAM/Cumulo_32/fecha_entrga_28.Marzo.2022/visita_1/AGO-OCT-2021/4-32-0-1280/Grabadoras/audible/grabadora_10_par02/error`"
   ]
  },
  {
   "cell_type": "code",
   "execution_count": 21,
   "id": "0d1b76dd-bec7-4adb-ac21-4440a27e552e",
   "metadata": {},
   "outputs": [],
   "source": [
    "%%bash\n",
    "f=\"/LUSTRE/sacmod/SIPECAM/Cumulo_32/fecha_entrga_28.Marzo.2022/visita_1/AGO-OCT-2021/4-32-0-1280/Grabadoras/audible/grabadora_10_par02/20210823_135000.WAV\"\n",
    "mv \"$f\" \"/LUSTRE/sacmod/SIPECAM/Cumulo_32/fecha_entrga_28.Marzo.2022/visita_1/AGO-OCT-2021/4-32-0-1280/Grabadoras/audible/grabadora_10_par02/error/\""
   ]
  },
  {
   "cell_type": "markdown",
   "id": "53734f5c-d694-4a7d-a097-d14d80f09115",
   "metadata": {},
   "source": [
    "**Rerunning for this dir**"
   ]
  },
  {
   "cell_type": "code",
   "execution_count": 22,
   "id": "0acaf7ea-4513-46d6-980c-49c4ccf62f24",
   "metadata": {},
   "outputs": [],
   "source": [
    "%%bash\n",
    "dir_to_be_processed=\"/LUSTRE/sacmod/SIPECAM/Cumulo_32/fecha_entrga_28.Marzo.2022/visita_1/AGO-OCT-2021/4-32-0-1280/Grabadoras/audible/grabadora_10_par02\"\n",
    "extract_serial_numbers_dates_and_metadata_of_files_and_device --input_dir \"$dir_to_be_processed\" --parallel --number_of_processes 10"
   ]
  },
  {
   "cell_type": "markdown",
   "id": "0e218e4c-e9ed-4a98-bc93-c978a2968b3d",
   "metadata": {},
   "source": [
    "## 2"
   ]
  },
  {
   "cell_type": "markdown",
   "id": "acadb72e-5c55-4230-b2c9-b417e88bbbd1",
   "metadata": {},
   "source": [
    "**Directory: `/LUSTRE/sacmod/SIPECAM/Cumulo_32/fecha_entrga_28.Marzo.2022/visita_2/Noviembre_2021/4-32-1-1287/camaras/camara_02/DCIM/100RECNX` only has videos**"
   ]
  },
  {
   "cell_type": "code",
   "execution_count": 23,
   "id": "bd8efe5e-dbfe-4e8a-8502-1a2289172f84",
   "metadata": {},
   "outputs": [
    {
     "name": "stdout",
     "output_type": "stream",
     "text": [
      "100RECNX_simex_extract_serial_numbers_dates_and_metadata_of_files_and_device.json\n",
      "RCNX0001.AVI\n",
      "RCNX0002.AVI\n",
      "RCNX0003.AVI\n",
      "RCNX0004.AVI\n",
      "RCNX0005.AVI\n",
      "RCNX0006.AVI\n",
      "RCNX0007.AVI\n",
      "RCNX0008.AVI\n",
      "RCNX0009.AVI\n",
      "RCNX0010.AVI\n",
      "RCNX0011.AVI\n",
      "RCNX0012.AVI\n",
      "RCNX0013.AVI\n",
      "RCNX0014.AVI\n",
      "RCNX0015.AVI\n",
      "RCNX0016.AVI\n",
      "RCNX0017.AVI\n",
      "RCNX0018.AVI\n",
      "RCNX0019.AVI\n",
      "RCNX0020.AVI\n",
      "RCNX0021.AVI\n",
      "RCNX0022.AVI\n",
      "RCNX0023.AVI\n",
      "RCNX0024.AVI\n",
      "RCNX0025.AVI\n",
      "RCNX0026.AVI\n",
      "RCNX0027.AVI\n",
      "RCNX0028.AVI\n",
      "RCNX0029.AVI\n",
      "RCNX0030.AVI\n",
      "logs_simex_extract_serial_numbers_dates_and_metadata_of_files_and_device.logs\n"
     ]
    }
   ],
   "source": [
    "%%bash\n",
    "ls \"/LUSTRE/sacmod/SIPECAM/Cumulo_32/fecha_entrga_28.Marzo.2022/visita_2/Noviembre_2021/4-32-1-1287/camaras/camara_02/DCIM/100RECNX\""
   ]
  },
  {
   "cell_type": "markdown",
   "id": "83b913b9-b6cc-4331-b39c-4c8312b94e9e",
   "metadata": {},
   "source": [
    "**Then neither GPSinfo nor Serial Number can be retrieved and `simex` can't execute move cli (next step)**"
   ]
  },
  {
   "cell_type": "markdown",
   "id": "a9ee399f-59a7-487e-a573-9255161d66fe",
   "metadata": {},
   "source": [
    "**This directory will be removed from list `/shared_volume/sipecam_subdirectories_04-04-2022.txt` and `move` cli will be executed**"
   ]
  },
  {
   "cell_type": "markdown",
   "id": "86749edb-db0c-42c7-b196-593539866580",
   "metadata": {
    "tags": []
   },
   "source": [
    "# Move files to standard directory"
   ]
  },
  {
   "cell_type": "code",
   "execution_count": null,
   "id": "877639e3-4690-4282-b82a-dc357370686a",
   "metadata": {},
   "outputs": [],
   "source": [
    "%%bash\n",
    "echo \"SIPECAM_ZENDRO_GQL_URL=https://gql.sipecamdata.conabio.gob.mx/\" > ~/.simex_env\n",
    "echo \"SIPECAM_ZENDRO_GQL_USER=<user>\" >> ~/.simex_env\n",
    "echo \"SIPECAM_ZENDRO_GQL_PASSWORD=<password>\" >> ~/.simex_env\n"
   ]
  },
  {
   "cell_type": "code",
   "execution_count": 25,
   "id": "eeab7a95-e241-4138-a959-034101869450",
   "metadata": {},
   "outputs": [
    {
     "name": "stdout",
     "output_type": "stream",
     "text": [
      "/LUSTRE/sacmod/SIPECAM/Cumulo_32/fecha_entrga_28.Marzo.2022/visita_2/Noviembre_2021/4-32-1-1287/grabadoras/ultrasonico/camara_03_par2\n",
      "/LUSTRE/sacmod/SIPECAM/Cumulo_32/fecha_entrga_28.Marzo.2022/visita_2/Noviembre_2021/4-32-1-1287/grabadoras/ultrasonico/camara_05_par3\n"
     ]
    },
    {
     "name": "stderr",
     "output_type": "stream",
     "text": [
      "Traceback (most recent call last):\n",
      "  File \"/usr/local/bin/move_files_to_standard_directory\", line 8, in <module>\n",
      "    sys.exit(main())\n",
      "  File \"/usr/local/lib/python3.8/dist-packages/simex/move_files_to_standard_directory.py\", line 372, in main\n",
      "    dict_source_dates = dict_source[\"FirstAndLastDate\"]\n",
      "KeyError: 'FirstAndLastDate'\n"
     ]
    },
    {
     "name": "stdout",
     "output_type": "stream",
     "text": [
      "/LUSTRE/sacmod/SIPECAM/Cumulo_32/fecha_entrga_28.Marzo.2022/visita_2/Noviembre_2021/4-32-1-1287/grabadoras/ultrasonico/camara_01_par1\n",
      "/LUSTRE/sacmod/SIPECAM/Cumulo_32/fecha_entrga_28.Marzo.2022/visita_2/Noviembre_2021/4-32-1-1287/grabadoras/audible/camara_05_par_03\n",
      "/LUSTRE/sacmod/SIPECAM/Cumulo_32/fecha_entrga_28.Marzo.2022/visita_2/Noviembre_2021/4-32-1-1287/grabadoras/audible/camara_01_par01\n",
      "/LUSTRE/sacmod/SIPECAM/Cumulo_32/fecha_entrga_28.Marzo.2022/visita_2/Noviembre_2021/4-32-1-1287/grabadoras/audible/camara_03_par02\n",
      "/LUSTRE/sacmod/SIPECAM/Cumulo_32/fecha_entrga_28.Marzo.2022/visita_2/Noviembre_2021/4-32-0-1281/grabadoras/ultrasonico/camara10_par02\n",
      "/LUSTRE/sacmod/SIPECAM/Cumulo_32/fecha_entrga_28.Marzo.2022/visita_2/Noviembre_2021/4-32-0-1281/grabadoras/ultrasonico/camara06_par01\n",
      "/LUSTRE/sacmod/SIPECAM/Cumulo_32/fecha_entrga_28.Marzo.2022/visita_2/Noviembre_2021/4-32-0-1281/grabadoras/ultrasonico/camara08_par03\n",
      "/LUSTRE/sacmod/SIPECAM/Cumulo_32/fecha_entrga_28.Marzo.2022/visita_2/Noviembre_2021/4-32-0-1281/grabadoras/audible/camara10_par02\n",
      "/LUSTRE/sacmod/SIPECAM/Cumulo_32/fecha_entrga_28.Marzo.2022/visita_2/Noviembre_2021/4-32-0-1281/grabadoras/audible/camara06_par01\n",
      "/LUSTRE/sacmod/SIPECAM/Cumulo_32/fecha_entrga_28.Marzo.2022/visita_2/Noviembre_2021/4-32-0-1281/grabadoras/audible/camara08_par03\n",
      "/LUSTRE/sacmod/SIPECAM/Cumulo_32/fecha_entrga_28.Marzo.2022/visita_3/Dic_21_-_Enero_22/4-32-1-1285/grabadoras/ultrasonico/camara_01_par01\n",
      "/LUSTRE/sacmod/SIPECAM/Cumulo_32/fecha_entrga_28.Marzo.2022/visita_3/Dic_21_-_Enero_22/4-32-1-1285/grabadoras/ultrasonico/camara_03_par02\n",
      "/LUSTRE/sacmod/SIPECAM/Cumulo_32/fecha_entrga_28.Marzo.2022/visita_3/Dic_21_-_Enero_22/4-32-1-1285/grabadoras/ultrasonico/camara_05_par03\n",
      "/LUSTRE/sacmod/SIPECAM/Cumulo_32/fecha_entrga_28.Marzo.2022/visita_3/Dic_21_-_Enero_22/4-32-1-1285/grabadoras/audible/camara_03_par02\n",
      "/LUSTRE/sacmod/SIPECAM/Cumulo_32/fecha_entrga_28.Marzo.2022/visita_3/Dic_21_-_Enero_22/4-32-1-1285/grabadoras/audible/camara_05_par03\n",
      "/LUSTRE/sacmod/SIPECAM/Cumulo_32/fecha_entrga_28.Marzo.2022/visita_3/Dic_21_-_Enero_22/4-32-0-1279/grabadoras/ultrasonico/camara_08_par02\n",
      "/LUSTRE/sacmod/SIPECAM/Cumulo_32/fecha_entrga_28.Marzo.2022/visita_3/Dic_21_-_Enero_22/4-32-0-1279/grabadoras/ultrasonico/camara_06_par01\n",
      "/LUSTRE/sacmod/SIPECAM/Cumulo_32/fecha_entrga_28.Marzo.2022/visita_3/Dic_21_-_Enero_22/4-32-0-1279/grabadoras/ultrasonico/camara_10_par03\n",
      "/LUSTRE/sacmod/SIPECAM/Cumulo_32/fecha_entrga_28.Marzo.2022/visita_3/Dic_21_-_Enero_22/4-32-0-1279/grabadoras/audible/camara_08_par02\n",
      "/LUSTRE/sacmod/SIPECAM/Cumulo_32/fecha_entrga_28.Marzo.2022/visita_3/Dic_21_-_Enero_22/4-32-0-1279/grabadoras/audible/camara_06_par01\n",
      "/LUSTRE/sacmod/SIPECAM/Cumulo_32/fecha_entrga_28.Marzo.2022/visita_3/Dic_21_-_Enero_22/4-32-0-1279/grabadoras/audible/camara_10_par03\n",
      "/LUSTRE/sacmod/SIPECAM/Cumulo_32/fecha_entrga_28.Marzo.2022/visita_1/AGO-OCT-2021/4-32-1-1287/Grabadora/ultrasonico/grabadora_5_par_2/10262050\n",
      "/LUSTRE/sacmod/SIPECAM/Cumulo_32/fecha_entrga_28.Marzo.2022/visita_1/AGO-OCT-2021/4-32-1-1287/Grabadora/ultrasonico/grabadora_5_par_3\n",
      "/LUSTRE/sacmod/SIPECAM/Cumulo_32/fecha_entrga_28.Marzo.2022/visita_1/AGO-OCT-2021/4-32-1-1287/Grabadora/ultrasonico/grabadora_1_par_1/10261093\n",
      "/LUSTRE/sacmod/SIPECAM/Cumulo_32/fecha_entrga_28.Marzo.2022/visita_1/AGO-OCT-2021/4-32-1-1287/Grabadora/audible/grabadora_3_par2\n",
      "/LUSTRE/sacmod/SIPECAM/Cumulo_32/fecha_entrga_28.Marzo.2022/visita_1/AGO-OCT-2021/4-32-1-1287/Grabadora/audible/grabadora_5_par3\n",
      "/LUSTRE/sacmod/SIPECAM/Cumulo_32/fecha_entrga_28.Marzo.2022/visita_1/AGO-OCT-2021/4-32-1-1287/Grabadora/audible/grabadora_1_par1\n",
      "/LUSTRE/sacmod/SIPECAM/Cumulo_32/fecha_entrga_28.Marzo.2022/visita_1/AGO-OCT-2021/4-32-0-1280/Grabadoras/ultrasonico/grabadora_01_par02\n",
      "/LUSTRE/sacmod/SIPECAM/Cumulo_32/fecha_entrga_28.Marzo.2022/visita_1/AGO-OCT-2021/4-32-0-1280/Grabadoras/ultrasonico/grabadora_06_par01\n",
      "/LUSTRE/sacmod/SIPECAM/Cumulo_32/fecha_entrga_28.Marzo.2022/visita_1/AGO-OCT-2021/4-32-0-1280/Grabadoras/ultrasonico/grabadora_08_par03\n",
      "/LUSTRE/sacmod/SIPECAM/Cumulo_32/fecha_entrga_28.Marzo.2022/visita_1/AGO-OCT-2021/4-32-0-1280/Grabadoras/audible/grabadora_08_par03\n",
      "/LUSTRE/sacmod/SIPECAM/Cumulo_32/fecha_entrga_28.Marzo.2022/visita_1/AGO-OCT-2021/4-32-0-1280/Grabadoras/audible/grabadora_10_par02\n",
      "/LUSTRE/sacmod/SIPECAM/Cumulo_32/fecha_entrga_28.Marzo.2022/visita_2/Noviembre_2021/4-32-1-1287/camaras/camara_01/DCIM/100RECNX\n",
      "/LUSTRE/sacmod/SIPECAM/Cumulo_32/fecha_entrga_28.Marzo.2022/visita_2/Noviembre_2021/4-32-1-1287/camaras/camara_05/DCIM/100RECNX\n",
      "/LUSTRE/sacmod/SIPECAM/Cumulo_32/fecha_entrga_28.Marzo.2022/visita_2/Noviembre_2021/4-32-1-1287/camaras/camara_04/DCIM/100RECNX\n",
      "/LUSTRE/sacmod/SIPECAM/Cumulo_32/fecha_entrga_28.Marzo.2022/visita_2/Noviembre_2021/4-32-1-1287/camaras/camara_03/DCIM/100RECNX\n",
      "/LUSTRE/sacmod/SIPECAM/Cumulo_32/fecha_entrga_28.Marzo.2022/visita_2/Noviembre_2021/4-32-0-1281/camaras/camara_06/DCIM/100RECNX\n",
      "/LUSTRE/sacmod/SIPECAM/Cumulo_32/fecha_entrga_28.Marzo.2022/visita_2/Noviembre_2021/4-32-0-1281/camaras/camara_10/DCIM/100RECNX\n",
      "/LUSTRE/sacmod/SIPECAM/Cumulo_32/fecha_entrga_28.Marzo.2022/visita_2/Noviembre_2021/4-32-0-1281/camaras/camara_07/DCIM/100RECNX\n",
      "/LUSTRE/sacmod/SIPECAM/Cumulo_32/fecha_entrga_28.Marzo.2022/visita_2/Noviembre_2021/4-32-0-1281/camaras/camara_08/DCIM/100RECNX\n",
      "/LUSTRE/sacmod/SIPECAM/Cumulo_32/fecha_entrga_28.Marzo.2022/visita_2/Noviembre_2021/4-32-0-1281/camaras/camara_09/DCIM/101RECNX\n",
      "/LUSTRE/sacmod/SIPECAM/Cumulo_32/fecha_entrga_28.Marzo.2022/visita_2/Noviembre_2021/4-32-0-1281/camaras/camara_09/DCIM/100RECNX\n",
      "/LUSTRE/sacmod/SIPECAM/Cumulo_32/fecha_entrga_28.Marzo.2022/visita_3/Dic_21_-_Enero_22/4-32-1-1285/camaras/camara_01/DCIM/100RECNX\n",
      "/LUSTRE/sacmod/SIPECAM/Cumulo_32/fecha_entrga_28.Marzo.2022/visita_3/Dic_21_-_Enero_22/4-32-1-1285/camaras/camara_05/DCIM/100RECNX\n",
      "/LUSTRE/sacmod/SIPECAM/Cumulo_32/fecha_entrga_28.Marzo.2022/visita_3/Dic_21_-_Enero_22/4-32-1-1285/camaras/camara_04/DCIM/100RECNX\n",
      "/LUSTRE/sacmod/SIPECAM/Cumulo_32/fecha_entrga_28.Marzo.2022/visita_3/Dic_21_-_Enero_22/4-32-1-1285/camaras/camara_03/DCIM/100RECNX\n",
      "/LUSTRE/sacmod/SIPECAM/Cumulo_32/fecha_entrga_28.Marzo.2022/visita_3/Dic_21_-_Enero_22/4-32-1-1285/camaras/camara_02/DCIM/100RECNX\n",
      "/LUSTRE/sacmod/SIPECAM/Cumulo_32/fecha_entrga_28.Marzo.2022/visita_3/Dic_21_-_Enero_22/4-32-0-1279/camaras/camara_06/DCIM/100RECNX\n",
      "/LUSTRE/sacmod/SIPECAM/Cumulo_32/fecha_entrga_28.Marzo.2022/visita_3/Dic_21_-_Enero_22/4-32-0-1279/camaras/camara_10/DCIM/100RECNX\n",
      "/LUSTRE/sacmod/SIPECAM/Cumulo_32/fecha_entrga_28.Marzo.2022/visita_3/Dic_21_-_Enero_22/4-32-0-1279/camaras/camara_07/DCIM/100RECNX\n",
      "/LUSTRE/sacmod/SIPECAM/Cumulo_32/fecha_entrga_28.Marzo.2022/visita_3/Dic_21_-_Enero_22/4-32-0-1279/camaras/camara_08/DCIM/101RECNX\n",
      "/LUSTRE/sacmod/SIPECAM/Cumulo_32/fecha_entrga_28.Marzo.2022/visita_3/Dic_21_-_Enero_22/4-32-0-1279/camaras/camara_08/DCIM/100RECNX\n",
      "/LUSTRE/sacmod/SIPECAM/Cumulo_32/fecha_entrga_28.Marzo.2022/visita_3/Dic_21_-_Enero_22/4-32-0-1279/camaras/camara_09/DCIM/101RECNX\n",
      "/LUSTRE/sacmod/SIPECAM/Cumulo_32/fecha_entrga_28.Marzo.2022/visita_3/Dic_21_-_Enero_22/4-32-0-1279/camaras/camara_09/DCIM/100RECNX\n",
      "/LUSTRE/sacmod/SIPECAM/Cumulo_32/fecha_entrga_28.Marzo.2022/visita_1/AGO-OCT-2021/4-32-1-1287/Camaras/Tarjeta 7/DCIM/100RECNX\n",
      "/LUSTRE/sacmod/SIPECAM/Cumulo_32/fecha_entrga_28.Marzo.2022/visita_1/AGO-OCT-2021/4-32-1-1287/Camaras/Tarjeta 1/DCIM/101RECNX\n",
      "/LUSTRE/sacmod/SIPECAM/Cumulo_32/fecha_entrga_28.Marzo.2022/visita_1/AGO-OCT-2021/4-32-1-1287/Camaras/Tarjeta 1/DCIM/100RECNX\n",
      "/LUSTRE/sacmod/SIPECAM/Cumulo_32/fecha_entrga_28.Marzo.2022/visita_1/AGO-OCT-2021/4-32-1-1287/Camaras/Tarjeta 10/DCIM/100RECNX\n",
      "/LUSTRE/sacmod/SIPECAM/Cumulo_32/fecha_entrga_28.Marzo.2022/visita_1/AGO-OCT-2021/4-32-1-1287/Camaras/Tarjeta 9/DCIM/100RECNX\n",
      "/LUSTRE/sacmod/SIPECAM/Cumulo_32/fecha_entrga_28.Marzo.2022/visita_1/AGO-OCT-2021/4-32-1-1287/Camaras/Tarjeta 6/DCIM/101RECNX\n",
      "/LUSTRE/sacmod/SIPECAM/Cumulo_32/fecha_entrga_28.Marzo.2022/visita_1/AGO-OCT-2021/4-32-1-1287/Camaras/Tarjeta 6/DCIM/100RECNX\n",
      "/LUSTRE/sacmod/SIPECAM/Cumulo_32/fecha_entrga_28.Marzo.2022/visita_1/AGO-OCT-2021/4-32-1-1287/Camaras/Tarjeta 2/DCIM/101RECNX\n",
      "/LUSTRE/sacmod/SIPECAM/Cumulo_32/fecha_entrga_28.Marzo.2022/visita_1/AGO-OCT-2021/4-32-1-1287/Camaras/Tarjeta 2/DCIM/100RECNX\n",
      "/LUSTRE/sacmod/SIPECAM/Cumulo_32/fecha_entrga_28.Marzo.2022/visita_1/AGO-OCT-2021/4-32-1-1287/Camaras/Tarjeta 3/DCIM/101RECNX\n",
      "/LUSTRE/sacmod/SIPECAM/Cumulo_32/fecha_entrga_28.Marzo.2022/visita_1/AGO-OCT-2021/4-32-1-1287/Camaras/Tarjeta 3/DCIM/102RECNX\n",
      "/LUSTRE/sacmod/SIPECAM/Cumulo_32/fecha_entrga_28.Marzo.2022/visita_1/AGO-OCT-2021/4-32-1-1287/Camaras/Tarjeta 3/DCIM/100RECNX\n",
      "/LUSTRE/sacmod/SIPECAM/Cumulo_32/fecha_entrga_28.Marzo.2022/visita_1/AGO-OCT-2021/4-32-1-1287/Camaras/Tarjeta 4/DCIM/101RECNX\n",
      "/LUSTRE/sacmod/SIPECAM/Cumulo_32/fecha_entrga_28.Marzo.2022/visita_1/AGO-OCT-2021/4-32-1-1287/Camaras/Tarjeta 4/DCIM/100RECNX\n",
      "/LUSTRE/sacmod/SIPECAM/Cumulo_32/fecha_entrga_28.Marzo.2022/visita_1/AGO-OCT-2021/4-32-1-1287/Camaras/Tarjeta 8/DCIM/101RECNX\n",
      "/LUSTRE/sacmod/SIPECAM/Cumulo_32/fecha_entrga_28.Marzo.2022/visita_1/AGO-OCT-2021/4-32-1-1287/Camaras/Tarjeta 8/DCIM/100RECNX\n",
      "/LUSTRE/sacmod/SIPECAM/Cumulo_32/fecha_entrga_28.Marzo.2022/visita_1/AGO-OCT-2021/4-32-1-1287/Camaras/Tarjeta 5/DCIM/100RECNX\n"
     ]
    }
   ],
   "source": [
    "%%bash\n",
    "list_of_dirs_to_be_processed=/shared_volume/sipecam_subdirectories_04-04-2022.txt\n",
    "SAVEIFS=$IFS;IFS=$(echo -en \"\\n\\b\")\n",
    "path_std_dir=/LUSTRE/sacmod/SIPECAM/data\n",
    "for dir_to_be_processed in $(cat $list_of_dirs_to_be_processed)\n",
    "    do\n",
    "    echo \"$dir_to_be_processed\"\n",
    "    move_files_to_standard_directory --directory_with_file_of_serial_number_and_dates \"$dir_to_be_processed\" --path_for_standard_directory \"$path_std_dir\"\n",
    "done\n",
    "IFS=$SAVEIFS"
   ]
  },
  {
   "cell_type": "code",
   "execution_count": null,
   "id": "ba053313-f13a-4eb1-a137-28d1775b8da6",
   "metadata": {},
   "outputs": [],
   "source": []
  }
 ],
 "metadata": {
  "kernelspec": {
   "display_name": "Python 3 (ipykernel)",
   "language": "python",
   "name": "python3"
  },
  "language_info": {
   "codemirror_mode": {
    "name": "ipython",
    "version": 3
   },
   "file_extension": ".py",
   "mimetype": "text/x-python",
   "name": "python",
   "nbconvert_exporter": "python",
   "pygments_lexer": "ipython3",
   "version": "3.8.10"
  }
 },
 "nbformat": 4,
 "nbformat_minor": 5
}
