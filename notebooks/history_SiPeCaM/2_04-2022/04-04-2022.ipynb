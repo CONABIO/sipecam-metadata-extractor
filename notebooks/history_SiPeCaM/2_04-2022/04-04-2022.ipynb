{
 "cells": [
  {
   "cell_type": "markdown",
   "id": "e90e09ba-4657-4777-8b24-8b92bed2dfce",
   "metadata": {},
   "source": [
    "Create txt with list of dirs that are on LUSTRE... data for std dir"
   ]
  },
  {
   "cell_type": "code",
   "execution_count": 12,
   "id": "a8462017-2f67-4d8b-9c9b-5a44e049f564",
   "metadata": {},
   "outputs": [],
   "source": [
    "%%bash\n",
    "dir_to_be_processed=\"/LUSTRE/sacmod/SIPECAM/data/\"\n",
    "if [ -f ~/list_dirs_already_registered_in_std_dir.txt ]; then\n",
    "     rm ~/list_dirs_already_registered_in_std_dir.txt\n",
    "fi\n",
    "if [ -f ~/list_dirs_already_registered_in_std_dir_auxiliary.txt ]; then\n",
    "     rm ~/list_dirs_already_registered_in_std_dir_auxiliary.txt\n",
    "fi\n",
    "SAVEIFS=$IFS;IFS=$(echo -en \"\\n\\b\")\n",
    "for f in $(find \"$dir_to_be_processed\" -name \"*.WAV\" -o -name \"*.JPG\" -o -name \"*.AVI\")\n",
    "  do\n",
    "     direc=$(dirname $f)\n",
    "     echo \"$direc\" >> ~/list_dirs_already_registered_in_std_dir_auxiliary.txt\n",
    "done\n",
    "direcs=$(cat ~/list_dirs_already_registered_in_std_dir_auxiliary.txt|uniq)\n",
    "echo \"$direcs\" > ~/list_dirs_already_registered_in_std_dir.txt\n",
    "IFS=$SAVEIFS"
   ]
  },
  {
   "cell_type": "markdown",
   "id": "ce5305e1-a273-4c17-95c4-7a799bf88e4b",
   "metadata": {
    "tags": []
   },
   "source": [
    "# Delivery: /LUSTRE/sacmod/SIPECAM/Cumulo_32/fecha_entrga_28.Marzo.2022/"
   ]
  },
  {
   "cell_type": "markdown",
   "id": "50181d23-97d0-4dcb-9580-f9de470a80ce",
   "metadata": {
    "tags": []
   },
   "source": [
    "## List of files to extract metadata\n"
   ]
  },
  {
   "cell_type": "code",
   "execution_count": 1,
   "id": "7423908d-34a4-4b13-8095-914a22d0bd94",
   "metadata": {},
   "outputs": [],
   "source": [
    "%%bash\n",
    "dir_with_sipecam_data=\"/LUSTRE/sacmod/SIPECAM/Cumulo_32/fecha_entrga_28.Marzo.2022/\"\n",
    "list_of_files_and_subdirectories_to_extract_metadata --input_directory \"$dir_with_sipecam_data\""
   ]
  },
  {
   "cell_type": "markdown",
   "id": "ade9bf5d-b2b1-48c5-8051-61ee6bec9dce",
   "metadata": {},
   "source": [
    "## Check"
   ]
  },
  {
   "cell_type": "code",
   "execution_count": 2,
   "id": "e35fb65d-1e82-49d1-8dcd-d7e67f9b742e",
   "metadata": {},
   "outputs": [
    {
     "name": "stdout",
     "output_type": "stream",
     "text": [
      "-rw-r--r-- 1 root root 9.6K Apr  4 12:50 /shared_volume/sipecam_subdirectories_04-04-2022.txt\n"
     ]
    }
   ],
   "source": [
    "%%bash\n",
    "ls -lh /shared_volume/sipecam_subdirectories_04-04-2022.txt"
   ]
  },
  {
   "cell_type": "code",
   "execution_count": 3,
   "id": "d21c32ee-6057-4ee2-84e1-8c9b0cdca7f8",
   "metadata": {},
   "outputs": [
    {
     "name": "stdout",
     "output_type": "stream",
     "text": [
      "-rw-r--r-- 1 root root 18M Apr  4 12:50 /shared_volume/sipecam_files_to_extract_metadata_from_04-04-2022.txt\n"
     ]
    }
   ],
   "source": [
    "%%bash\n",
    "ls -lh /shared_volume/sipecam_files_to_extract_metadata_from_04-04-2022.txt"
   ]
  },
  {
   "cell_type": "code",
   "execution_count": 4,
   "id": "b0b15deb-8440-4360-8a01-d9dcd1222894",
   "metadata": {},
   "outputs": [
    {
     "name": "stdout",
     "output_type": "stream",
     "text": [
      "75 /shared_volume/sipecam_subdirectories_04-04-2022.txt\n"
     ]
    }
   ],
   "source": [
    "%%bash\n",
    "wc -l /shared_volume/sipecam_subdirectories_04-04-2022.txt"
   ]
  },
  {
   "cell_type": "code",
   "execution_count": 5,
   "id": "90693461-bef9-44f3-8f73-b5453233acbd",
   "metadata": {},
   "outputs": [
    {
     "name": "stdout",
     "output_type": "stream",
     "text": [
      "117574 /shared_volume/sipecam_files_to_extract_metadata_from_04-04-2022.txt\n"
     ]
    }
   ],
   "source": [
    "%%bash\n",
    "wc -l /shared_volume/sipecam_files_to_extract_metadata_from_04-04-2022.txt"
   ]
  },
  {
   "cell_type": "code",
   "execution_count": 6,
   "id": "1095a8d4-fd99-422f-a141-0f4ed2fbbf20",
   "metadata": {},
   "outputs": [
    {
     "name": "stdout",
     "output_type": "stream",
     "text": [
      "/LUSTRE/sacmod/SIPECAM/Cumulo_32/fecha_entrga_28.Marzo.2022/visita_2/Noviembre_2021/4-32-1-1287/grabadoras/ultrasonico/camara_03_par2\n",
      "20211020_180000.WAV\n",
      "20211020_182000.WAV\n",
      "20211020_184000.WAV\n",
      "/LUSTRE/sacmod/SIPECAM/Cumulo_32/fecha_entrga_28.Marzo.2022/visita_2/Noviembre_2021/4-32-1-1287/grabadoras/ultrasonico/camara_05_par3\n",
      "19700101_000005.WAV\n",
      "19700101_000006.WAV\n",
      "19700101_000016.WAV\n",
      "/LUSTRE/sacmod/SIPECAM/Cumulo_32/fecha_entrga_28.Marzo.2022/visita_2/Noviembre_2021/4-32-1-1287/grabadoras/ultrasonico/camara_01_par1\n",
      "19700101_000022.WAV\n",
      "20211021_180000.WAV\n",
      "20211021_182000.WAV\n",
      "/LUSTRE/sacmod/SIPECAM/Cumulo_32/fecha_entrga_28.Marzo.2022/visita_2/Noviembre_2021/4-32-1-1287/grabadoras/audible/camara_05_par_03\n",
      "20211020_124000.WAV\n",
      "20211020_124043.WAV\n",
      "20211020_125000.WAV\n",
      "/LUSTRE/sacmod/SIPECAM/Cumulo_32/fecha_entrga_28.Marzo.2022/visita_2/Noviembre_2021/4-32-1-1287/grabadoras/audible/camara_01_par01\n",
      "20211021_221000.WAV\n",
      "20211021_222000.WAV\n",
      "20211021_223000.WAV\n",
      "/LUSTRE/sacmod/SIPECAM/Cumulo_32/fecha_entrga_28.Marzo.2022/visita_2/Noviembre_2021/4-32-1-1287/grabadoras/audible/camara_03_par02\n",
      "20211021_214000.WAV\n",
      "20211021_215000.WAV\n",
      "20211021_220000.WAV\n",
      "/LUSTRE/sacmod/SIPECAM/Cumulo_32/fecha_entrga_28.Marzo.2022/visita_2/Noviembre_2021/4-32-0-1281/grabadoras/ultrasonico/camara10_par02\n",
      "20211020_180000.WAV\n",
      "20211020_182000.WAV\n",
      "20211020_184000.WAV\n",
      "/LUSTRE/sacmod/SIPECAM/Cumulo_32/fecha_entrga_28.Marzo.2022/visita_2/Noviembre_2021/4-32-0-1281/grabadoras/ultrasonico/camara06_par01\n",
      "20211020_180000.WAV\n",
      "20211020_182000.WAV\n",
      "20211020_184000.WAV\n",
      "/LUSTRE/sacmod/SIPECAM/Cumulo_32/fecha_entrga_28.Marzo.2022/visita_2/Noviembre_2021/4-32-0-1281/grabadoras/ultrasonico/camara08_par03\n",
      "20211020_180000.WAV\n",
      "20211020_182000.WAV\n",
      "20211020_184000.WAV\n",
      "/LUSTRE/sacmod/SIPECAM/Cumulo_32/fecha_entrga_28.Marzo.2022/visita_2/Noviembre_2021/4-32-0-1281/grabadoras/audible/camara10_par02\n",
      "20211020_114000.WAV\n",
      "20211020_115000.WAV\n",
      "20211020_120000.WAV\n",
      "/LUSTRE/sacmod/SIPECAM/Cumulo_32/fecha_entrga_28.Marzo.2022/visita_2/Noviembre_2021/4-32-0-1281/grabadoras/audible/camara06_par01\n",
      "20211020_120000.WAV\n",
      "20211020_121000.WAV\n",
      "20211020_122000.WAV\n",
      "/LUSTRE/sacmod/SIPECAM/Cumulo_32/fecha_entrga_28.Marzo.2022/visita_2/Noviembre_2021/4-32-0-1281/grabadoras/audible/camara08_par03\n",
      "20211020_115000.WAV\n",
      "20211020_120000.WAV\n",
      "20211020_121000.WAV\n",
      "/LUSTRE/sacmod/SIPECAM/Cumulo_32/fecha_entrga_28.Marzo.2022/visita_3/Dic_21_-_Enero_22/4-32-1-1285/grabadoras/ultrasonico/camara_01_par01\n",
      "20211207_182000.WAV\n",
      "20211207_184000.WAV\n",
      "20211207_190000.WAV\n",
      "/LUSTRE/sacmod/SIPECAM/Cumulo_32/fecha_entrga_28.Marzo.2022/visita_3/Dic_21_-_Enero_22/4-32-1-1285/grabadoras/ultrasonico/camara_03_par02\n",
      "20211209_180000.WAV\n",
      "20211209_182000.WAV\n",
      "20211209_184000.WAV\n",
      "/LUSTRE/sacmod/SIPECAM/Cumulo_32/fecha_entrga_28.Marzo.2022/visita_3/Dic_21_-_Enero_22/4-32-1-1285/grabadoras/ultrasonico/camara_05_par03\n",
      "20211209_180000.WAV\n",
      "20211209_182000.WAV\n",
      "20211209_184000.WAV\n",
      "/LUSTRE/sacmod/SIPECAM/Cumulo_32/fecha_entrga_28.Marzo.2022/visita_3/Dic_21_-_Enero_22/4-32-1-1285/grabadoras/audible/camara_03_par02\n",
      "20211207_183050.WAV\n",
      "20211209_135000.WAV\n",
      "20211209_141000.WAV\n",
      "/LUSTRE/sacmod/SIPECAM/Cumulo_32/fecha_entrga_28.Marzo.2022/visita_3/Dic_21_-_Enero_22/4-32-1-1285/grabadoras/audible/camara_05_par03\n",
      "20211209_160000.WAV\n",
      "20211209_161000.WAV\n",
      "20211209_162000.WAV\n",
      "/LUSTRE/sacmod/SIPECAM/Cumulo_32/fecha_entrga_28.Marzo.2022/visita_3/Dic_21_-_Enero_22/4-32-0-1279/grabadoras/ultrasonico/camara_08_par02\n",
      "20211207_192022.WAV\n",
      "20211208_180000.WAV\n",
      "20211208_182000.WAV\n",
      "/LUSTRE/sacmod/SIPECAM/Cumulo_32/fecha_entrga_28.Marzo.2022/visita_3/Dic_21_-_Enero_22/4-32-0-1279/grabadoras/ultrasonico/camara_06_par01\n",
      "20211208_180000.WAV\n",
      "20211208_182000.WAV\n",
      "20211208_184000.WAV\n",
      "/LUSTRE/sacmod/SIPECAM/Cumulo_32/fecha_entrga_28.Marzo.2022/visita_3/Dic_21_-_Enero_22/4-32-0-1279/grabadoras/ultrasonico/camara_10_par03\n",
      "20211208_180000.WAV\n",
      "20211208_182000.WAV\n",
      "20211208_184000.WAV\n",
      "/LUSTRE/sacmod/SIPECAM/Cumulo_32/fecha_entrga_28.Marzo.2022/visita_3/Dic_21_-_Enero_22/4-32-0-1279/grabadoras/audible/camara_08_par02\n",
      "20211208_113000.WAV\n",
      "20211208_114000.WAV\n",
      "20211208_115000.WAV\n",
      "/LUSTRE/sacmod/SIPECAM/Cumulo_32/fecha_entrga_28.Marzo.2022/visita_3/Dic_21_-_Enero_22/4-32-0-1279/grabadoras/audible/camara_06_par01\n",
      "20211207_191009.WAV\n",
      "20211208_141038.WAV\n",
      "20211208_142000.WAV\n",
      "/LUSTRE/sacmod/SIPECAM/Cumulo_32/fecha_entrga_28.Marzo.2022/visita_3/Dic_21_-_Enero_22/4-32-0-1279/grabadoras/audible/camara_10_par03\n",
      "20211207_192623.WAV\n",
      "20211207_214859.WAV\n",
      "20211208_154000.WAV\n",
      "/LUSTRE/sacmod/SIPECAM/Cumulo_32/fecha_entrga_28.Marzo.2022/visita_1/AGO-OCT-2021/4-32-1-1287/Grabadora/ultrasonico/grabadora_5_par_2/10262050\n",
      "20210811_180000.WAV\n",
      "20210811_182000.WAV\n",
      "20210811_184000.WAV\n",
      "/LUSTRE/sacmod/SIPECAM/Cumulo_32/fecha_entrga_28.Marzo.2022/visita_1/AGO-OCT-2021/4-32-1-1287/Grabadora/ultrasonico/grabadora_5_par_3\n",
      "20210811_180000.WAV\n",
      "20210811_182000.WAV\n",
      "20210811_184000.WAV\n",
      "/LUSTRE/sacmod/SIPECAM/Cumulo_32/fecha_entrga_28.Marzo.2022/visita_1/AGO-OCT-2021/4-32-1-1287/Grabadora/ultrasonico/grabadora_1_par_1/10261093\n",
      "20210809_144221.WAV\n",
      "20210811_180000.WAV\n",
      "20210811_182000.WAV\n",
      "/LUSTRE/sacmod/SIPECAM/Cumulo_32/fecha_entrga_28.Marzo.2022/visita_1/AGO-OCT-2021/4-32-1-1287/Grabadora/audible/grabadora_3_par2\n",
      "20210811_154000.WAV\n",
      "20210811_155000.WAV\n",
      "20210811_160000.WAV\n",
      "/LUSTRE/sacmod/SIPECAM/Cumulo_32/fecha_entrga_28.Marzo.2022/visita_1/AGO-OCT-2021/4-32-1-1287/Grabadora/audible/grabadora_5_par3\n",
      "19700101_010533.WAV\n",
      "19700101_011306.WAV\n",
      "20210809_150615.WAV\n",
      "/LUSTRE/sacmod/SIPECAM/Cumulo_32/fecha_entrga_28.Marzo.2022/visita_1/AGO-OCT-2021/4-32-1-1287/Grabadora/audible/grabadora_1_par1\n",
      "20210809_142000.WAV\n",
      "20210811_110000.WAV\n",
      "20210811_111000.WAV\n",
      "/LUSTRE/sacmod/SIPECAM/Cumulo_32/fecha_entrga_28.Marzo.2022/visita_1/AGO-OCT-2021/4-32-0-1280/Grabadoras/ultrasonico/grabadora_01_par02\n",
      "20210823_180000.WAV\n",
      "20210823_182000.WAV\n",
      "20210823_184000.WAV\n",
      "/LUSTRE/sacmod/SIPECAM/Cumulo_32/fecha_entrga_28.Marzo.2022/visita_1/AGO-OCT-2021/4-32-0-1280/Grabadoras/ultrasonico/grabadora_06_par01\n",
      "20210823_180000.WAV\n",
      "20210823_182000.WAV\n",
      "20210823_184000.WAV\n",
      "/LUSTRE/sacmod/SIPECAM/Cumulo_32/fecha_entrga_28.Marzo.2022/visita_1/AGO-OCT-2021/4-32-0-1280/Grabadoras/ultrasonico/grabadora_08_par03\n",
      "19700103_231201.WAV\n",
      "19700103_231219.WAV\n",
      "19700103_231356.WAV\n",
      "/LUSTRE/sacmod/SIPECAM/Cumulo_32/fecha_entrga_28.Marzo.2022/visita_1/AGO-OCT-2021/4-32-0-1280/Grabadoras/audible/grabadora_08_par03\n",
      "20210823_160000.WAV\n",
      "20210823_161000.WAV\n",
      "20210823_162000.WAV\n",
      "/LUSTRE/sacmod/SIPECAM/Cumulo_32/fecha_entrga_28.Marzo.2022/visita_1/AGO-OCT-2021/4-32-0-1280/Grabadoras/audible/grabadora_10_par02\n",
      "19700101_000007.WAV\n",
      "19700101_000047.WAV\n",
      "20210823_135000.WAV\n",
      "/LUSTRE/sacmod/SIPECAM/Cumulo_32/fecha_entrga_28.Marzo.2022/visita_2/Noviembre_2021/4-32-1-1287/camaras/camara_01/DCIM/100RECNX\n",
      "RCNX0001.JPG\n",
      "RCNX0002.JPG\n",
      "RCNX0003.AVI\n",
      "/LUSTRE/sacmod/SIPECAM/Cumulo_32/fecha_entrga_28.Marzo.2022/visita_2/Noviembre_2021/4-32-1-1287/camaras/camara_05/DCIM/100RECNX\n",
      "RCNX0001.JPG\n",
      "RCNX0002.JPG\n",
      "RCNX0003.AVI\n",
      "/LUSTRE/sacmod/SIPECAM/Cumulo_32/fecha_entrga_28.Marzo.2022/visita_2/Noviembre_2021/4-32-1-1287/camaras/camara_04/DCIM/100RECNX\n",
      "RCNX0001.JPG\n",
      "RCNX0002.JPG\n",
      "RCNX0003.AVI\n",
      "/LUSTRE/sacmod/SIPECAM/Cumulo_32/fecha_entrga_28.Marzo.2022/visita_2/Noviembre_2021/4-32-1-1287/camaras/camara_03/DCIM/100RECNX\n",
      "RCNX0001.JPG\n",
      "RCNX0002.JPG\n",
      "RCNX0003.AVI\n",
      "/LUSTRE/sacmod/SIPECAM/Cumulo_32/fecha_entrga_28.Marzo.2022/visita_2/Noviembre_2021/4-32-0-1281/camaras/camara_06/DCIM/100RECNX\n",
      "RCNX0001.JPG\n",
      "RCNX0002.JPG\n",
      "RCNX0003.AVI\n",
      "/LUSTRE/sacmod/SIPECAM/Cumulo_32/fecha_entrga_28.Marzo.2022/visita_2/Noviembre_2021/4-32-0-1281/camaras/camara_10/DCIM/100RECNX\n",
      "RCNX0001.JPG\n",
      "RCNX0002.JPG\n",
      "RCNX0003.AVI\n",
      "/LUSTRE/sacmod/SIPECAM/Cumulo_32/fecha_entrga_28.Marzo.2022/visita_2/Noviembre_2021/4-32-0-1281/camaras/camara_07/DCIM/100RECNX\n",
      "RCNX0001.JPG\n",
      "RCNX0002.JPG\n",
      "RCNX0003.AVI\n",
      "/LUSTRE/sacmod/SIPECAM/Cumulo_32/fecha_entrga_28.Marzo.2022/visita_2/Noviembre_2021/4-32-0-1281/camaras/camara_08/DCIM/100RECNX\n",
      "RCNX0001.JPG\n",
      "RCNX0002.JPG\n",
      "RCNX0003.AVI\n",
      "/LUSTRE/sacmod/SIPECAM/Cumulo_32/fecha_entrga_28.Marzo.2022/visita_2/Noviembre_2021/4-32-0-1281/camaras/camara_09/DCIM/101RECNX\n",
      "RCNX0001.JPG\n",
      "RCNX0002.JPG\n",
      "RCNX0003.AVI\n",
      "/LUSTRE/sacmod/SIPECAM/Cumulo_32/fecha_entrga_28.Marzo.2022/visita_2/Noviembre_2021/4-32-0-1281/camaras/camara_09/DCIM/100RECNX\n",
      "RCNX0001.JPG\n",
      "RCNX0002.JPG\n",
      "RCNX0003.AVI\n",
      "/LUSTRE/sacmod/SIPECAM/Cumulo_32/fecha_entrga_28.Marzo.2022/visita_3/Dic_21_-_Enero_22/4-32-1-1285/camaras/camara_01/DCIM/100RECNX\n",
      "RCNX0001.JPG\n",
      "RCNX0002.JPG\n",
      "RCNX0003.AVI\n",
      "/LUSTRE/sacmod/SIPECAM/Cumulo_32/fecha_entrga_28.Marzo.2022/visita_3/Dic_21_-_Enero_22/4-32-1-1285/camaras/camara_05/DCIM/100RECNX\n",
      "RCNX0001.JPG\n",
      "RCNX0002.JPG\n",
      "RCNX0003.AVI\n",
      "/LUSTRE/sacmod/SIPECAM/Cumulo_32/fecha_entrga_28.Marzo.2022/visita_3/Dic_21_-_Enero_22/4-32-1-1285/camaras/camara_04/DCIM/100RECNX\n",
      "RCNX0001.JPG\n",
      "RCNX0002.JPG\n",
      "RCNX0003.AVI\n",
      "/LUSTRE/sacmod/SIPECAM/Cumulo_32/fecha_entrga_28.Marzo.2022/visita_3/Dic_21_-_Enero_22/4-32-1-1285/camaras/camara_03/DCIM/100RECNX\n",
      "RCNX0001.JPG\n",
      "RCNX0002.JPG\n",
      "RCNX0003.AVI\n",
      "/LUSTRE/sacmod/SIPECAM/Cumulo_32/fecha_entrga_28.Marzo.2022/visita_3/Dic_21_-_Enero_22/4-32-1-1285/camaras/camara_02/DCIM/100RECNX\n",
      "RCNX0001.JPG\n",
      "RCNX0002.JPG\n",
      "RCNX0003.AVI\n",
      "/LUSTRE/sacmod/SIPECAM/Cumulo_32/fecha_entrga_28.Marzo.2022/visita_3/Dic_21_-_Enero_22/4-32-0-1279/camaras/camara_06/DCIM/100RECNX\n",
      "RCNX0001.JPG\n",
      "RCNX0002.JPG\n",
      "RCNX0003.AVI\n",
      "/LUSTRE/sacmod/SIPECAM/Cumulo_32/fecha_entrga_28.Marzo.2022/visita_3/Dic_21_-_Enero_22/4-32-0-1279/camaras/camara_10/DCIM/100RECNX\n",
      "RCNX0001.JPG\n",
      "RCNX0002.JPG\n",
      "RCNX0003.AVI\n",
      "/LUSTRE/sacmod/SIPECAM/Cumulo_32/fecha_entrga_28.Marzo.2022/visita_3/Dic_21_-_Enero_22/4-32-0-1279/camaras/camara_07/DCIM/100RECNX\n",
      "RCNX0001.JPG\n",
      "RCNX0002.JPG\n",
      "RCNX0003.AVI\n",
      "/LUSTRE/sacmod/SIPECAM/Cumulo_32/fecha_entrga_28.Marzo.2022/visita_3/Dic_21_-_Enero_22/4-32-0-1279/camaras/camara_08/DCIM/101RECNX\n",
      "RCNX0001.JPG\n",
      "RCNX0002.JPG\n",
      "RCNX0003.AVI\n",
      "/LUSTRE/sacmod/SIPECAM/Cumulo_32/fecha_entrga_28.Marzo.2022/visita_3/Dic_21_-_Enero_22/4-32-0-1279/camaras/camara_08/DCIM/100RECNX\n",
      "RCNX0001.JPG\n",
      "RCNX0002.JPG\n",
      "RCNX0003.AVI\n",
      "/LUSTRE/sacmod/SIPECAM/Cumulo_32/fecha_entrga_28.Marzo.2022/visita_3/Dic_21_-_Enero_22/4-32-0-1279/camaras/camara_09/DCIM/101RECNX\n",
      "RCNX0001.JPG\n",
      "RCNX0002.JPG\n",
      "RCNX0003.AVI\n",
      "/LUSTRE/sacmod/SIPECAM/Cumulo_32/fecha_entrga_28.Marzo.2022/visita_3/Dic_21_-_Enero_22/4-32-0-1279/camaras/camara_09/DCIM/100RECNX\n",
      "RCNX0001.JPG\n",
      "RCNX0002.JPG\n",
      "RCNX0003.AVI\n",
      "/LUSTRE/sacmod/SIPECAM/Cumulo_32/fecha_entrga_28.Marzo.2022/visita_1/AGO-OCT-2021/4-32-1-1287/Camaras/Tarjeta 7/DCIM/100RECNX\n",
      "RCNX0001.JPG\n",
      "RCNX0002.JPG\n",
      "RCNX0003.AVI\n",
      "/LUSTRE/sacmod/SIPECAM/Cumulo_32/fecha_entrga_28.Marzo.2022/visita_1/AGO-OCT-2021/4-32-1-1287/Camaras/Tarjeta 1/DCIM/101RECNX\n",
      "RCNX0001.JPG\n",
      "RCNX0002.JPG\n",
      "RCNX0003.AVI\n",
      "/LUSTRE/sacmod/SIPECAM/Cumulo_32/fecha_entrga_28.Marzo.2022/visita_1/AGO-OCT-2021/4-32-1-1287/Camaras/Tarjeta 1/DCIM/100RECNX\n",
      "RCNX0001.JPG\n",
      "RCNX0002.JPG\n",
      "RCNX0003.AVI\n",
      "/LUSTRE/sacmod/SIPECAM/Cumulo_32/fecha_entrga_28.Marzo.2022/visita_1/AGO-OCT-2021/4-32-1-1287/Camaras/Tarjeta 10/DCIM/100RECNX\n",
      "RCNX0001.JPG\n",
      "RCNX0002.JPG\n",
      "RCNX0003.AVI\n",
      "/LUSTRE/sacmod/SIPECAM/Cumulo_32/fecha_entrga_28.Marzo.2022/visita_1/AGO-OCT-2021/4-32-1-1287/Camaras/Tarjeta 9/DCIM/100RECNX\n",
      "RCNX0001.JPG\n",
      "RCNX0002.JPG\n",
      "RCNX0003.AVI\n",
      "/LUSTRE/sacmod/SIPECAM/Cumulo_32/fecha_entrga_28.Marzo.2022/visita_1/AGO-OCT-2021/4-32-1-1287/Camaras/Tarjeta 6/DCIM/101RECNX\n",
      "RCNX0001.JPG\n",
      "RCNX0002.JPG\n",
      "RCNX0003.AVI\n",
      "/LUSTRE/sacmod/SIPECAM/Cumulo_32/fecha_entrga_28.Marzo.2022/visita_1/AGO-OCT-2021/4-32-1-1287/Camaras/Tarjeta 6/DCIM/100RECNX\n",
      "RCNX0001.JPG\n",
      "RCNX0002.JPG\n",
      "RCNX0003.AVI\n",
      "/LUSTRE/sacmod/SIPECAM/Cumulo_32/fecha_entrga_28.Marzo.2022/visita_1/AGO-OCT-2021/4-32-1-1287/Camaras/Tarjeta 2/DCIM/101RECNX\n",
      "RCNX0001.JPG\n",
      "RCNX0002.JPG\n",
      "RCNX0003.AVI\n",
      "/LUSTRE/sacmod/SIPECAM/Cumulo_32/fecha_entrga_28.Marzo.2022/visita_1/AGO-OCT-2021/4-32-1-1287/Camaras/Tarjeta 2/DCIM/100RECNX\n",
      "RCNX0001.JPG\n",
      "RCNX0002.JPG\n",
      "RCNX0003.AVI\n",
      "/LUSTRE/sacmod/SIPECAM/Cumulo_32/fecha_entrga_28.Marzo.2022/visita_1/AGO-OCT-2021/4-32-1-1287/Camaras/Tarjeta 3/DCIM/101RECNX\n",
      "RCNX0001.JPG\n",
      "RCNX0002.JPG\n",
      "RCNX0003.AVI\n",
      "/LUSTRE/sacmod/SIPECAM/Cumulo_32/fecha_entrga_28.Marzo.2022/visita_1/AGO-OCT-2021/4-32-1-1287/Camaras/Tarjeta 3/DCIM/102RECNX\n",
      "RCNX0001.JPG\n",
      "RCNX0002.JPG\n",
      "RCNX0003.AVI\n",
      "/LUSTRE/sacmod/SIPECAM/Cumulo_32/fecha_entrga_28.Marzo.2022/visita_1/AGO-OCT-2021/4-32-1-1287/Camaras/Tarjeta 3/DCIM/100RECNX\n",
      "RCNX0001.JPG\n",
      "RCNX0002.JPG\n",
      "RCNX0003.AVI\n",
      "/LUSTRE/sacmod/SIPECAM/Cumulo_32/fecha_entrga_28.Marzo.2022/visita_1/AGO-OCT-2021/4-32-1-1287/Camaras/Tarjeta 4/DCIM/101RECNX\n",
      "RCNX0001.JPG\n",
      "RCNX0002.JPG\n",
      "RCNX0003.AVI\n",
      "/LUSTRE/sacmod/SIPECAM/Cumulo_32/fecha_entrga_28.Marzo.2022/visita_1/AGO-OCT-2021/4-32-1-1287/Camaras/Tarjeta 4/DCIM/100RECNX\n",
      "RCNX0001.JPG\n",
      "RCNX0002.JPG\n",
      "RCNX0003.AVI\n",
      "/LUSTRE/sacmod/SIPECAM/Cumulo_32/fecha_entrga_28.Marzo.2022/visita_1/AGO-OCT-2021/4-32-1-1287/Camaras/Tarjeta 8/DCIM/101RECNX\n",
      "RCNX0001.JPG\n",
      "RCNX0002.JPG\n",
      "RCNX0003.AVI\n",
      "/LUSTRE/sacmod/SIPECAM/Cumulo_32/fecha_entrga_28.Marzo.2022/visita_1/AGO-OCT-2021/4-32-1-1287/Camaras/Tarjeta 8/DCIM/100RECNX\n",
      "RCNX0001.JPG\n",
      "RCNX0002.JPG\n",
      "/LUSTRE/sacmod/SIPECAM/Cumulo_32/fecha_entrga_28.Marzo.2022/visita_1/AGO-OCT-2021/4-32-1-1287/Camaras/Tarjeta 5/DCIM/100RECNX\n",
      "RCNX0001.JPG\n",
      "RCNX0002.JPG\n",
      "RCNX0003.AVI\n",
      "/LUSTRE/sacmod/SIPECAM/Cumulo_32/fecha_entrga_28.Marzo.2022/visita_3/Dic_21_-_Enero_22/4-32-1-1285/grabadoras/audible/camara_01_par01\n",
      "Photo on 29-03-22 at 20.15.jpg\n",
      "/LUSTRE/sacmod/SIPECAM/Cumulo_32/fecha_entrga_28.Marzo.2022/visita_2/Noviembre_2021/4-32-1-1287/camaras/camara_02/DCIM/100RECNX\n",
      "RCNX0001.AVI\n",
      "RCNX0002.AVI\n",
      "RCNX0003.AVI\n"
     ]
    }
   ],
   "source": [
    "%%bash\n",
    "#check every first subdirectory has a JPG, WAV or AVI file\n",
    "SAVEIFS=$IFS;IFS=$(echo -en \"\\n\\b\")\n",
    "for f in $(cat /shared_volume/sipecam_subdirectories_04-04-2022.txt)\n",
    "  do echo \"$f\"\n",
    "     ls \"$f\"|grep \"[WAV|wav|JPG|jpg|AVI|avi]$\"|head -n 3\n",
    "done\n",
    "IFS=$SAVEIFS"
   ]
  },
  {
   "cell_type": "markdown",
   "id": "37cce572-18e2-4e2f-ba10-a6ed8c001636",
   "metadata": {},
   "source": [
    "Removing from lists `/shared_volume/sipecam_subdirectories_04-04-2022.txt` and `/shared_volume/sipecam_files_to_extract_metadata_from_04-04-2022.txt`:\n",
    "`/LUSTRE/sacmod/SIPECAM/Cumulo_32/fecha_entrga_28.Marzo.2022/visita_3/Dic_21_-_Enero_22/4-32-1-1285/grabadoras/audible/camara_01_par01`\n",
    "\n",
    "as it has only one photo and is not from camera traps but from someones camera with info of audiomoth"
   ]
  },
  {
   "cell_type": "code",
   "execution_count": 7,
   "id": "d945c72a-2568-4c7f-8ac5-c97e3cf0bb87",
   "metadata": {},
   "outputs": [
    {
     "name": "stdout",
     "output_type": "stream",
     "text": [
      "74 /shared_volume/sipecam_subdirectories_04-04-2022.txt\n"
     ]
    }
   ],
   "source": [
    "%%bash\n",
    "wc -l /shared_volume/sipecam_subdirectories_04-04-2022.txt"
   ]
  },
  {
   "cell_type": "code",
   "execution_count": 8,
   "id": "148824b2-873c-43a9-8210-e2752f7094ec",
   "metadata": {},
   "outputs": [
    {
     "name": "stdout",
     "output_type": "stream",
     "text": [
      "117573 /shared_volume/sipecam_files_to_extract_metadata_from_04-04-2022.txt\n"
     ]
    }
   ],
   "source": [
    "%%bash\n",
    "wc -l /shared_volume/sipecam_files_to_extract_metadata_from_04-04-2022.txt"
   ]
  },
  {
   "cell_type": "markdown",
   "id": "19c1809f-f677-494d-bee5-80c8b34b2a47",
   "metadata": {},
   "source": [
    "Which directories are of audio?"
   ]
  },
  {
   "cell_type": "code",
   "execution_count": 9,
   "id": "1cfe7201-6d45-49e2-83a0-bb78eb940b7d",
   "metadata": {},
   "outputs": [],
   "source": [
    "%%bash\n",
    "if [ -f ~/list_dirs_with_audios.txt ]; then\n",
    "     rm ~/list_dirs_with_audios.txt\n",
    "fi\n",
    "if [ -f ~/list_dirs_with_audios_auxiliary.txt ]; then\n",
    "     rm ~/list_dirs_with_audios_auxiliary.txt\n",
    "fi\n",
    "SAVEIFS=$IFS;IFS=$(echo -en \"\\n\\b\")\n",
    "for f in $(find /LUSTRE/sacmod/SIPECAM/Cumulo_32/fecha_entrga_28.Marzo.2022/ -name \"*.WAV\")\n",
    "  do\n",
    "     dir_audio=$(dirname $f)\n",
    "     echo \"$dir_audio\" >> ~/list_dirs_with_audios_auxiliary.txt\n",
    "done\n",
    "dirs_audio=$(cat ~/list_dirs_with_audios_auxiliary.txt|uniq)\n",
    "echo \"$dirs_audio\" > ~/list_dirs_with_audios.txt\n",
    "IFS=$SAVEIFS"
   ]
  },
  {
   "cell_type": "code",
   "execution_count": 10,
   "id": "027ba86e-1545-43f1-8f9c-1e8dd1e0c1da",
   "metadata": {},
   "outputs": [
    {
     "name": "stdout",
     "output_type": "stream",
     "text": [
      "/LUSTRE/sacmod/SIPECAM/Cumulo_32/fecha_entrga_28.Marzo.2022/visita_2/Noviembre_2021/4-32-1-1287/grabadoras/ultrasonico/camara_03_par2\n",
      "/LUSTRE/sacmod/SIPECAM/Cumulo_32/fecha_entrga_28.Marzo.2022/visita_2/Noviembre_2021/4-32-1-1287/grabadoras/ultrasonico/camara_05_par3\n",
      "/LUSTRE/sacmod/SIPECAM/Cumulo_32/fecha_entrga_28.Marzo.2022/visita_2/Noviembre_2021/4-32-1-1287/grabadoras/ultrasonico/camara_01_par1\n",
      "/LUSTRE/sacmod/SIPECAM/Cumulo_32/fecha_entrga_28.Marzo.2022/visita_2/Noviembre_2021/4-32-1-1287/grabadoras/audible/camara_05_par_03\n",
      "/LUSTRE/sacmod/SIPECAM/Cumulo_32/fecha_entrga_28.Marzo.2022/visita_2/Noviembre_2021/4-32-1-1287/grabadoras/audible/camara_01_par01\n",
      "/LUSTRE/sacmod/SIPECAM/Cumulo_32/fecha_entrga_28.Marzo.2022/visita_2/Noviembre_2021/4-32-1-1287/grabadoras/audible/camara_03_par02\n",
      "/LUSTRE/sacmod/SIPECAM/Cumulo_32/fecha_entrga_28.Marzo.2022/visita_2/Noviembre_2021/4-32-0-1281/grabadoras/ultrasonico/camara10_par02\n",
      "/LUSTRE/sacmod/SIPECAM/Cumulo_32/fecha_entrga_28.Marzo.2022/visita_2/Noviembre_2021/4-32-0-1281/grabadoras/ultrasonico/camara06_par01\n",
      "/LUSTRE/sacmod/SIPECAM/Cumulo_32/fecha_entrga_28.Marzo.2022/visita_2/Noviembre_2021/4-32-0-1281/grabadoras/ultrasonico/camara08_par03\n",
      "/LUSTRE/sacmod/SIPECAM/Cumulo_32/fecha_entrga_28.Marzo.2022/visita_2/Noviembre_2021/4-32-0-1281/grabadoras/audible/camara10_par02\n",
      "/LUSTRE/sacmod/SIPECAM/Cumulo_32/fecha_entrga_28.Marzo.2022/visita_2/Noviembre_2021/4-32-0-1281/grabadoras/audible/camara06_par01\n",
      "/LUSTRE/sacmod/SIPECAM/Cumulo_32/fecha_entrga_28.Marzo.2022/visita_2/Noviembre_2021/4-32-0-1281/grabadoras/audible/camara08_par03\n",
      "/LUSTRE/sacmod/SIPECAM/Cumulo_32/fecha_entrga_28.Marzo.2022/visita_3/Dic_21_-_Enero_22/4-32-1-1285/grabadoras/ultrasonico/camara_01_par01\n",
      "/LUSTRE/sacmod/SIPECAM/Cumulo_32/fecha_entrga_28.Marzo.2022/visita_3/Dic_21_-_Enero_22/4-32-1-1285/grabadoras/ultrasonico/camara_03_par02\n",
      "/LUSTRE/sacmod/SIPECAM/Cumulo_32/fecha_entrga_28.Marzo.2022/visita_3/Dic_21_-_Enero_22/4-32-1-1285/grabadoras/ultrasonico/camara_05_par03\n",
      "/LUSTRE/sacmod/SIPECAM/Cumulo_32/fecha_entrga_28.Marzo.2022/visita_3/Dic_21_-_Enero_22/4-32-1-1285/grabadoras/audible/camara_03_par02\n",
      "/LUSTRE/sacmod/SIPECAM/Cumulo_32/fecha_entrga_28.Marzo.2022/visita_3/Dic_21_-_Enero_22/4-32-1-1285/grabadoras/audible/camara_05_par03\n",
      "/LUSTRE/sacmod/SIPECAM/Cumulo_32/fecha_entrga_28.Marzo.2022/visita_3/Dic_21_-_Enero_22/4-32-0-1279/grabadoras/ultrasonico/camara_08_par02\n",
      "/LUSTRE/sacmod/SIPECAM/Cumulo_32/fecha_entrga_28.Marzo.2022/visita_3/Dic_21_-_Enero_22/4-32-0-1279/grabadoras/ultrasonico/camara_06_par01\n",
      "/LUSTRE/sacmod/SIPECAM/Cumulo_32/fecha_entrga_28.Marzo.2022/visita_3/Dic_21_-_Enero_22/4-32-0-1279/grabadoras/ultrasonico/camara_10_par03\n",
      "/LUSTRE/sacmod/SIPECAM/Cumulo_32/fecha_entrga_28.Marzo.2022/visita_3/Dic_21_-_Enero_22/4-32-0-1279/grabadoras/audible/camara_08_par02\n",
      "/LUSTRE/sacmod/SIPECAM/Cumulo_32/fecha_entrga_28.Marzo.2022/visita_3/Dic_21_-_Enero_22/4-32-0-1279/grabadoras/audible/camara_06_par01\n",
      "/LUSTRE/sacmod/SIPECAM/Cumulo_32/fecha_entrga_28.Marzo.2022/visita_3/Dic_21_-_Enero_22/4-32-0-1279/grabadoras/audible/camara_10_par03\n",
      "/LUSTRE/sacmod/SIPECAM/Cumulo_32/fecha_entrga_28.Marzo.2022/visita_1/AGO-OCT-2021/4-32-1-1287/Grabadora/ultrasonico/grabadora_5_par_2/10262050\n",
      "/LUSTRE/sacmod/SIPECAM/Cumulo_32/fecha_entrga_28.Marzo.2022/visita_1/AGO-OCT-2021/4-32-1-1287/Grabadora/ultrasonico/grabadora_5_par_3\n",
      "/LUSTRE/sacmod/SIPECAM/Cumulo_32/fecha_entrga_28.Marzo.2022/visita_1/AGO-OCT-2021/4-32-1-1287/Grabadora/ultrasonico/grabadora_1_par_1/10261093\n",
      "/LUSTRE/sacmod/SIPECAM/Cumulo_32/fecha_entrga_28.Marzo.2022/visita_1/AGO-OCT-2021/4-32-1-1287/Grabadora/audible/grabadora_3_par2\n",
      "/LUSTRE/sacmod/SIPECAM/Cumulo_32/fecha_entrga_28.Marzo.2022/visita_1/AGO-OCT-2021/4-32-1-1287/Grabadora/audible/grabadora_5_par3\n",
      "/LUSTRE/sacmod/SIPECAM/Cumulo_32/fecha_entrga_28.Marzo.2022/visita_1/AGO-OCT-2021/4-32-1-1287/Grabadora/audible/grabadora_1_par1\n",
      "/LUSTRE/sacmod/SIPECAM/Cumulo_32/fecha_entrga_28.Marzo.2022/visita_1/AGO-OCT-2021/4-32-0-1280/Grabadoras/ultrasonico/grabadora_01_par02\n",
      "/LUSTRE/sacmod/SIPECAM/Cumulo_32/fecha_entrga_28.Marzo.2022/visita_1/AGO-OCT-2021/4-32-0-1280/Grabadoras/ultrasonico/grabadora_06_par01\n",
      "/LUSTRE/sacmod/SIPECAM/Cumulo_32/fecha_entrga_28.Marzo.2022/visita_1/AGO-OCT-2021/4-32-0-1280/Grabadoras/ultrasonico/grabadora_08_par03\n",
      "/LUSTRE/sacmod/SIPECAM/Cumulo_32/fecha_entrga_28.Marzo.2022/visita_1/AGO-OCT-2021/4-32-0-1280/Grabadoras/audible/grabadora_08_par03\n",
      "/LUSTRE/sacmod/SIPECAM/Cumulo_32/fecha_entrga_28.Marzo.2022/visita_1/AGO-OCT-2021/4-32-0-1280/Grabadoras/audible/grabadora_10_par02\n"
     ]
    }
   ],
   "source": [
    "%%bash\n",
    "cat ~/list_dirs_with_audios.txt"
   ]
  },
  {
   "cell_type": "markdown",
   "id": "34fe2c35-5cae-492a-bd8c-5ac834b436ea",
   "metadata": {
    "tags": []
   },
   "source": [
    "# check_if_there_are_audio_empty_files_in_dir_and_move_them"
   ]
  },
  {
   "cell_type": "code",
   "execution_count": 11,
   "id": "4d8cac37-1af5-4591-9e75-a6950576016a",
   "metadata": {},
   "outputs": [
    {
     "name": "stdout",
     "output_type": "stream",
     "text": [
      "/LUSTRE/sacmod/SIPECAM/Cumulo_32/fecha_entrga_28.Marzo.2022/visita_2/Noviembre_2021/4-32-1-1287/grabadoras/ultrasonico/camara_03_par2\n",
      "/LUSTRE/sacmod/SIPECAM/Cumulo_32/fecha_entrga_28.Marzo.2022/visita_2/Noviembre_2021/4-32-1-1287/grabadoras/ultrasonico/camara_05_par3\n",
      "/LUSTRE/sacmod/SIPECAM/Cumulo_32/fecha_entrga_28.Marzo.2022/visita_2/Noviembre_2021/4-32-1-1287/grabadoras/ultrasonico/camara_01_par1\n",
      "/LUSTRE/sacmod/SIPECAM/Cumulo_32/fecha_entrga_28.Marzo.2022/visita_2/Noviembre_2021/4-32-1-1287/grabadoras/audible/camara_05_par_03\n",
      "/LUSTRE/sacmod/SIPECAM/Cumulo_32/fecha_entrga_28.Marzo.2022/visita_2/Noviembre_2021/4-32-1-1287/grabadoras/audible/camara_01_par01\n",
      "/LUSTRE/sacmod/SIPECAM/Cumulo_32/fecha_entrga_28.Marzo.2022/visita_2/Noviembre_2021/4-32-1-1287/grabadoras/audible/camara_03_par02\n",
      "/LUSTRE/sacmod/SIPECAM/Cumulo_32/fecha_entrga_28.Marzo.2022/visita_2/Noviembre_2021/4-32-0-1281/grabadoras/ultrasonico/camara10_par02\n",
      "/LUSTRE/sacmod/SIPECAM/Cumulo_32/fecha_entrga_28.Marzo.2022/visita_2/Noviembre_2021/4-32-0-1281/grabadoras/ultrasonico/camara06_par01\n",
      "/LUSTRE/sacmod/SIPECAM/Cumulo_32/fecha_entrga_28.Marzo.2022/visita_2/Noviembre_2021/4-32-0-1281/grabadoras/ultrasonico/camara08_par03\n",
      "/LUSTRE/sacmod/SIPECAM/Cumulo_32/fecha_entrga_28.Marzo.2022/visita_2/Noviembre_2021/4-32-0-1281/grabadoras/audible/camara10_par02\n",
      "/LUSTRE/sacmod/SIPECAM/Cumulo_32/fecha_entrga_28.Marzo.2022/visita_2/Noviembre_2021/4-32-0-1281/grabadoras/audible/camara06_par01\n",
      "/LUSTRE/sacmod/SIPECAM/Cumulo_32/fecha_entrga_28.Marzo.2022/visita_2/Noviembre_2021/4-32-0-1281/grabadoras/audible/camara08_par03\n",
      "/LUSTRE/sacmod/SIPECAM/Cumulo_32/fecha_entrga_28.Marzo.2022/visita_3/Dic_21_-_Enero_22/4-32-1-1285/grabadoras/ultrasonico/camara_01_par01\n",
      "/LUSTRE/sacmod/SIPECAM/Cumulo_32/fecha_entrga_28.Marzo.2022/visita_3/Dic_21_-_Enero_22/4-32-1-1285/grabadoras/ultrasonico/camara_03_par02\n",
      "/LUSTRE/sacmod/SIPECAM/Cumulo_32/fecha_entrga_28.Marzo.2022/visita_3/Dic_21_-_Enero_22/4-32-1-1285/grabadoras/ultrasonico/camara_05_par03\n",
      "/LUSTRE/sacmod/SIPECAM/Cumulo_32/fecha_entrga_28.Marzo.2022/visita_3/Dic_21_-_Enero_22/4-32-1-1285/grabadoras/audible/camara_03_par02\n",
      "/LUSTRE/sacmod/SIPECAM/Cumulo_32/fecha_entrga_28.Marzo.2022/visita_3/Dic_21_-_Enero_22/4-32-1-1285/grabadoras/audible/camara_05_par03\n",
      "/LUSTRE/sacmod/SIPECAM/Cumulo_32/fecha_entrga_28.Marzo.2022/visita_3/Dic_21_-_Enero_22/4-32-0-1279/grabadoras/ultrasonico/camara_08_par02\n",
      "/LUSTRE/sacmod/SIPECAM/Cumulo_32/fecha_entrga_28.Marzo.2022/visita_3/Dic_21_-_Enero_22/4-32-0-1279/grabadoras/ultrasonico/camara_06_par01\n",
      "/LUSTRE/sacmod/SIPECAM/Cumulo_32/fecha_entrga_28.Marzo.2022/visita_3/Dic_21_-_Enero_22/4-32-0-1279/grabadoras/ultrasonico/camara_10_par03\n",
      "/LUSTRE/sacmod/SIPECAM/Cumulo_32/fecha_entrga_28.Marzo.2022/visita_3/Dic_21_-_Enero_22/4-32-0-1279/grabadoras/audible/camara_08_par02\n",
      "/LUSTRE/sacmod/SIPECAM/Cumulo_32/fecha_entrga_28.Marzo.2022/visita_3/Dic_21_-_Enero_22/4-32-0-1279/grabadoras/audible/camara_06_par01\n",
      "/LUSTRE/sacmod/SIPECAM/Cumulo_32/fecha_entrga_28.Marzo.2022/visita_3/Dic_21_-_Enero_22/4-32-0-1279/grabadoras/audible/camara_10_par03\n",
      "/LUSTRE/sacmod/SIPECAM/Cumulo_32/fecha_entrga_28.Marzo.2022/visita_1/AGO-OCT-2021/4-32-1-1287/Grabadora/ultrasonico/grabadora_5_par_2/10262050\n",
      "/LUSTRE/sacmod/SIPECAM/Cumulo_32/fecha_entrga_28.Marzo.2022/visita_1/AGO-OCT-2021/4-32-1-1287/Grabadora/ultrasonico/grabadora_5_par_3\n",
      "/LUSTRE/sacmod/SIPECAM/Cumulo_32/fecha_entrga_28.Marzo.2022/visita_1/AGO-OCT-2021/4-32-1-1287/Grabadora/ultrasonico/grabadora_1_par_1/10261093\n",
      "/LUSTRE/sacmod/SIPECAM/Cumulo_32/fecha_entrga_28.Marzo.2022/visita_1/AGO-OCT-2021/4-32-1-1287/Grabadora/audible/grabadora_3_par2\n",
      "/LUSTRE/sacmod/SIPECAM/Cumulo_32/fecha_entrga_28.Marzo.2022/visita_1/AGO-OCT-2021/4-32-1-1287/Grabadora/audible/grabadora_5_par3\n",
      "/LUSTRE/sacmod/SIPECAM/Cumulo_32/fecha_entrga_28.Marzo.2022/visita_1/AGO-OCT-2021/4-32-1-1287/Grabadora/audible/grabadora_1_par1\n",
      "/LUSTRE/sacmod/SIPECAM/Cumulo_32/fecha_entrga_28.Marzo.2022/visita_1/AGO-OCT-2021/4-32-0-1280/Grabadoras/ultrasonico/grabadora_01_par02\n",
      "/LUSTRE/sacmod/SIPECAM/Cumulo_32/fecha_entrga_28.Marzo.2022/visita_1/AGO-OCT-2021/4-32-0-1280/Grabadoras/ultrasonico/grabadora_06_par01\n",
      "/LUSTRE/sacmod/SIPECAM/Cumulo_32/fecha_entrga_28.Marzo.2022/visita_1/AGO-OCT-2021/4-32-0-1280/Grabadoras/ultrasonico/grabadora_08_par03\n",
      "/LUSTRE/sacmod/SIPECAM/Cumulo_32/fecha_entrga_28.Marzo.2022/visita_1/AGO-OCT-2021/4-32-0-1280/Grabadoras/audible/grabadora_08_par03\n",
      "/LUSTRE/sacmod/SIPECAM/Cumulo_32/fecha_entrga_28.Marzo.2022/visita_1/AGO-OCT-2021/4-32-0-1280/Grabadoras/audible/grabadora_10_par02\n"
     ]
    }
   ],
   "source": [
    "%%bash\n",
    "SAVEIFS=$IFS;IFS=$(echo -en \"\\n\\b\")\n",
    "for dir_to_be_processed in $(cat ~/list_dirs_with_audios.txt)\n",
    "    do echo \"$dir_to_be_processed\"\n",
    "    check_if_there_are_audio_empty_files_in_dir_and_move_them --input_directory_audio \"$dir_to_be_processed\" --number_of_processes 10\n",
    "done\n",
    "IFS=$SAVEIFS"
   ]
  },
  {
   "cell_type": "code",
   "execution_count": 14,
   "id": "28ba235c-f160-4a7e-a140-2ba9733ce57c",
   "metadata": {},
   "outputs": [
    {
     "name": "stdout",
     "output_type": "stream",
     "text": [
      "/LUSTRE/sacmod/SIPECAM/Cumulo_32/fecha_entrga_28.Marzo.2022/visita_2/Noviembre_2021/4-32-1-1287/grabadoras/ultrasonico/camara_03_par2\n",
      "1262\n",
      "/LUSTRE/sacmod/SIPECAM/Cumulo_32/fecha_entrga_28.Marzo.2022/visita_2/Noviembre_2021/4-32-1-1287/grabadoras/ultrasonico/camara_05_par3\n",
      "4\n",
      "/LUSTRE/sacmod/SIPECAM/Cumulo_32/fecha_entrga_28.Marzo.2022/visita_2/Noviembre_2021/4-32-1-1287/grabadoras/ultrasonico/camara_01_par1\n",
      "39\n",
      "/LUSTRE/sacmod/SIPECAM/Cumulo_32/fecha_entrga_28.Marzo.2022/visita_2/Noviembre_2021/4-32-1-1287/grabadoras/audible/camara_05_par_03\n",
      "4905\n",
      "/LUSTRE/sacmod/SIPECAM/Cumulo_32/fecha_entrga_28.Marzo.2022/visita_2/Noviembre_2021/4-32-1-1287/grabadoras/audible/camara_01_par01\n",
      "4381\n",
      "/LUSTRE/sacmod/SIPECAM/Cumulo_32/fecha_entrga_28.Marzo.2022/visita_2/Noviembre_2021/4-32-1-1287/grabadoras/audible/camara_03_par02\n",
      "5059\n",
      "/LUSTRE/sacmod/SIPECAM/Cumulo_32/fecha_entrga_28.Marzo.2022/visita_2/Noviembre_2021/4-32-0-1281/grabadoras/ultrasonico/camara10_par02\n",
      "1190\n",
      "/LUSTRE/sacmod/SIPECAM/Cumulo_32/fecha_entrga_28.Marzo.2022/visita_2/Noviembre_2021/4-32-0-1281/grabadoras/ultrasonico/camara06_par01\n",
      "1190\n",
      "/LUSTRE/sacmod/SIPECAM/Cumulo_32/fecha_entrga_28.Marzo.2022/visita_2/Noviembre_2021/4-32-0-1281/grabadoras/ultrasonico/camara08_par03\n",
      "1226\n",
      "/LUSTRE/sacmod/SIPECAM/Cumulo_32/fecha_entrga_28.Marzo.2022/visita_2/Noviembre_2021/4-32-0-1281/grabadoras/audible/camara10_par02\n",
      "4772\n",
      "/LUSTRE/sacmod/SIPECAM/Cumulo_32/fecha_entrga_28.Marzo.2022/visita_2/Noviembre_2021/4-32-0-1281/grabadoras/audible/camara06_par01\n",
      "4765\n",
      "/LUSTRE/sacmod/SIPECAM/Cumulo_32/fecha_entrga_28.Marzo.2022/visita_2/Noviembre_2021/4-32-0-1281/grabadoras/audible/camara08_par03\n",
      "4885\n",
      "/LUSTRE/sacmod/SIPECAM/Cumulo_32/fecha_entrga_28.Marzo.2022/visita_3/Dic_21_-_Enero_22/4-32-1-1285/grabadoras/ultrasonico/camara_01_par01\n",
      "1377\n",
      "/LUSTRE/sacmod/SIPECAM/Cumulo_32/fecha_entrga_28.Marzo.2022/visita_3/Dic_21_-_Enero_22/4-32-1-1285/grabadoras/ultrasonico/camara_03_par02\n",
      "1377\n",
      "/LUSTRE/sacmod/SIPECAM/Cumulo_32/fecha_entrga_28.Marzo.2022/visita_3/Dic_21_-_Enero_22/4-32-1-1285/grabadoras/ultrasonico/camara_05_par03\n",
      "1377\n",
      "/LUSTRE/sacmod/SIPECAM/Cumulo_32/fecha_entrga_28.Marzo.2022/visita_3/Dic_21_-_Enero_22/4-32-1-1285/grabadoras/audible/camara_03_par02\n",
      "5500\n",
      "/LUSTRE/sacmod/SIPECAM/Cumulo_32/fecha_entrga_28.Marzo.2022/visita_3/Dic_21_-_Enero_22/4-32-1-1285/grabadoras/audible/camara_05_par03\n",
      "5500\n",
      "/LUSTRE/sacmod/SIPECAM/Cumulo_32/fecha_entrga_28.Marzo.2022/visita_3/Dic_21_-_Enero_22/4-32-0-1279/grabadoras/ultrasonico/camara_08_par02\n",
      "1378\n",
      "/LUSTRE/sacmod/SIPECAM/Cumulo_32/fecha_entrga_28.Marzo.2022/visita_3/Dic_21_-_Enero_22/4-32-0-1279/grabadoras/ultrasonico/camara_06_par01\n",
      "1377\n",
      "/LUSTRE/sacmod/SIPECAM/Cumulo_32/fecha_entrga_28.Marzo.2022/visita_3/Dic_21_-_Enero_22/4-32-0-1279/grabadoras/ultrasonico/camara_10_par03\n",
      "1377\n",
      "/LUSTRE/sacmod/SIPECAM/Cumulo_32/fecha_entrga_28.Marzo.2022/visita_3/Dic_21_-_Enero_22/4-32-0-1279/grabadoras/audible/camara_08_par02\n",
      "5500\n",
      "/LUSTRE/sacmod/SIPECAM/Cumulo_32/fecha_entrga_28.Marzo.2022/visita_3/Dic_21_-_Enero_22/4-32-0-1279/grabadoras/audible/camara_06_par01\n",
      "5501\n",
      "/LUSTRE/sacmod/SIPECAM/Cumulo_32/fecha_entrga_28.Marzo.2022/visita_3/Dic_21_-_Enero_22/4-32-0-1279/grabadoras/audible/camara_10_par03\n",
      "5498\n",
      "/LUSTRE/sacmod/SIPECAM/Cumulo_32/fecha_entrga_28.Marzo.2022/visita_1/AGO-OCT-2021/4-32-1-1287/Grabadora/ultrasonico/grabadora_5_par_2/10262050\n",
      "1586\n",
      "/LUSTRE/sacmod/SIPECAM/Cumulo_32/fecha_entrga_28.Marzo.2022/visita_1/AGO-OCT-2021/4-32-1-1287/Grabadora/ultrasonico/grabadora_5_par_3\n",
      "186\n",
      "/LUSTRE/sacmod/SIPECAM/Cumulo_32/fecha_entrga_28.Marzo.2022/visita_1/AGO-OCT-2021/4-32-1-1287/Grabadora/ultrasonico/grabadora_1_par_1/10261093\n",
      "939\n",
      "/LUSTRE/sacmod/SIPECAM/Cumulo_32/fecha_entrga_28.Marzo.2022/visita_1/AGO-OCT-2021/4-32-1-1287/Grabadora/audible/grabadora_3_par2\n",
      "515\n",
      "/LUSTRE/sacmod/SIPECAM/Cumulo_32/fecha_entrga_28.Marzo.2022/visita_1/AGO-OCT-2021/4-32-1-1287/Grabadora/audible/grabadora_5_par3\n",
      "6979\n",
      "/LUSTRE/sacmod/SIPECAM/Cumulo_32/fecha_entrga_28.Marzo.2022/visita_1/AGO-OCT-2021/4-32-1-1287/Grabadora/audible/grabadora_1_par1\n",
      "2954\n",
      "/LUSTRE/sacmod/SIPECAM/Cumulo_32/fecha_entrga_28.Marzo.2022/visita_1/AGO-OCT-2021/4-32-0-1280/Grabadoras/ultrasonico/grabadora_01_par02\n",
      "360\n",
      "/LUSTRE/sacmod/SIPECAM/Cumulo_32/fecha_entrga_28.Marzo.2022/visita_1/AGO-OCT-2021/4-32-0-1280/Grabadoras/ultrasonico/grabadora_06_par01\n",
      "1875\n",
      "/LUSTRE/sacmod/SIPECAM/Cumulo_32/fecha_entrga_28.Marzo.2022/visita_1/AGO-OCT-2021/4-32-0-1280/Grabadoras/ultrasonico/grabadora_08_par03\n",
      "1876\n",
      "/LUSTRE/sacmod/SIPECAM/Cumulo_32/fecha_entrga_28.Marzo.2022/visita_1/AGO-OCT-2021/4-32-0-1280/Grabadoras/audible/grabadora_08_par03\n",
      "6275\n",
      "/LUSTRE/sacmod/SIPECAM/Cumulo_32/fecha_entrga_28.Marzo.2022/visita_1/AGO-OCT-2021/4-32-0-1280/Grabadoras/audible/grabadora_10_par02\n",
      "6576\n"
     ]
    }
   ],
   "source": [
    "%%bash\n",
    "SAVEIFS=$IFS;IFS=$(echo -en \"\\n\\b\")\n",
    "for dir_to_be_processed in $(cat ~/list_dirs_with_audios.txt)\n",
    "    do echo \"$dir_to_be_processed\"\n",
    "    ls \"$dir_to_be_processed/\" |wc -l\n",
    "done\n",
    "IFS=$SAVEIFS"
   ]
  },
  {
   "cell_type": "markdown",
   "id": "297bee6b-8d0f-4fe2-945f-e78297466961",
   "metadata": {
    "tags": []
   },
   "source": [
    "# Extract serial number, dates and metadata of files and device"
   ]
  },
  {
   "cell_type": "code",
   "execution_count": 15,
   "id": "1ec6ccc0-ef04-4d29-aef3-1a646fdd4a48",
   "metadata": {},
   "outputs": [
    {
     "name": "stdout",
     "output_type": "stream",
     "text": [
      "/LUSTRE/sacmod/SIPECAM/Cumulo_32/fecha_entrga_28.Marzo.2022/visita_2/Noviembre_2021/4-32-1-1287/grabadoras/ultrasonico/camara_03_par2\n",
      "/LUSTRE/sacmod/SIPECAM/Cumulo_32/fecha_entrga_28.Marzo.2022/visita_2/Noviembre_2021/4-32-1-1287/grabadoras/ultrasonico/camara_05_par3\n",
      "/LUSTRE/sacmod/SIPECAM/Cumulo_32/fecha_entrga_28.Marzo.2022/visita_2/Noviembre_2021/4-32-1-1287/grabadoras/ultrasonico/camara_01_par1\n",
      "/LUSTRE/sacmod/SIPECAM/Cumulo_32/fecha_entrga_28.Marzo.2022/visita_2/Noviembre_2021/4-32-1-1287/grabadoras/audible/camara_05_par_03\n",
      "/LUSTRE/sacmod/SIPECAM/Cumulo_32/fecha_entrga_28.Marzo.2022/visita_2/Noviembre_2021/4-32-1-1287/grabadoras/audible/camara_01_par01\n",
      "/LUSTRE/sacmod/SIPECAM/Cumulo_32/fecha_entrga_28.Marzo.2022/visita_2/Noviembre_2021/4-32-1-1287/grabadoras/audible/camara_03_par02\n",
      "/LUSTRE/sacmod/SIPECAM/Cumulo_32/fecha_entrga_28.Marzo.2022/visita_2/Noviembre_2021/4-32-0-1281/grabadoras/ultrasonico/camara10_par02\n",
      "/LUSTRE/sacmod/SIPECAM/Cumulo_32/fecha_entrga_28.Marzo.2022/visita_2/Noviembre_2021/4-32-0-1281/grabadoras/ultrasonico/camara06_par01\n",
      "/LUSTRE/sacmod/SIPECAM/Cumulo_32/fecha_entrga_28.Marzo.2022/visita_2/Noviembre_2021/4-32-0-1281/grabadoras/ultrasonico/camara08_par03\n",
      "/LUSTRE/sacmod/SIPECAM/Cumulo_32/fecha_entrga_28.Marzo.2022/visita_2/Noviembre_2021/4-32-0-1281/grabadoras/audible/camara10_par02\n",
      "/LUSTRE/sacmod/SIPECAM/Cumulo_32/fecha_entrga_28.Marzo.2022/visita_2/Noviembre_2021/4-32-0-1281/grabadoras/audible/camara06_par01\n",
      "/LUSTRE/sacmod/SIPECAM/Cumulo_32/fecha_entrga_28.Marzo.2022/visita_2/Noviembre_2021/4-32-0-1281/grabadoras/audible/camara08_par03\n",
      "/LUSTRE/sacmod/SIPECAM/Cumulo_32/fecha_entrga_28.Marzo.2022/visita_3/Dic_21_-_Enero_22/4-32-1-1285/grabadoras/ultrasonico/camara_01_par01\n",
      "/LUSTRE/sacmod/SIPECAM/Cumulo_32/fecha_entrga_28.Marzo.2022/visita_3/Dic_21_-_Enero_22/4-32-1-1285/grabadoras/ultrasonico/camara_03_par02\n",
      "/LUSTRE/sacmod/SIPECAM/Cumulo_32/fecha_entrga_28.Marzo.2022/visita_3/Dic_21_-_Enero_22/4-32-1-1285/grabadoras/ultrasonico/camara_05_par03\n",
      "/LUSTRE/sacmod/SIPECAM/Cumulo_32/fecha_entrga_28.Marzo.2022/visita_3/Dic_21_-_Enero_22/4-32-1-1285/grabadoras/audible/camara_03_par02\n",
      "/LUSTRE/sacmod/SIPECAM/Cumulo_32/fecha_entrga_28.Marzo.2022/visita_3/Dic_21_-_Enero_22/4-32-1-1285/grabadoras/audible/camara_05_par03\n",
      "/LUSTRE/sacmod/SIPECAM/Cumulo_32/fecha_entrga_28.Marzo.2022/visita_3/Dic_21_-_Enero_22/4-32-0-1279/grabadoras/ultrasonico/camara_08_par02\n",
      "/LUSTRE/sacmod/SIPECAM/Cumulo_32/fecha_entrga_28.Marzo.2022/visita_3/Dic_21_-_Enero_22/4-32-0-1279/grabadoras/ultrasonico/camara_06_par01\n",
      "/LUSTRE/sacmod/SIPECAM/Cumulo_32/fecha_entrga_28.Marzo.2022/visita_3/Dic_21_-_Enero_22/4-32-0-1279/grabadoras/ultrasonico/camara_10_par03\n",
      "/LUSTRE/sacmod/SIPECAM/Cumulo_32/fecha_entrga_28.Marzo.2022/visita_3/Dic_21_-_Enero_22/4-32-0-1279/grabadoras/audible/camara_08_par02\n",
      "/LUSTRE/sacmod/SIPECAM/Cumulo_32/fecha_entrga_28.Marzo.2022/visita_3/Dic_21_-_Enero_22/4-32-0-1279/grabadoras/audible/camara_06_par01\n",
      "/LUSTRE/sacmod/SIPECAM/Cumulo_32/fecha_entrga_28.Marzo.2022/visita_3/Dic_21_-_Enero_22/4-32-0-1279/grabadoras/audible/camara_10_par03\n",
      "/LUSTRE/sacmod/SIPECAM/Cumulo_32/fecha_entrga_28.Marzo.2022/visita_1/AGO-OCT-2021/4-32-1-1287/Grabadora/ultrasonico/grabadora_5_par_2/10262050\n",
      "/LUSTRE/sacmod/SIPECAM/Cumulo_32/fecha_entrga_28.Marzo.2022/visita_1/AGO-OCT-2021/4-32-1-1287/Grabadora/ultrasonico/grabadora_5_par_3\n",
      "/LUSTRE/sacmod/SIPECAM/Cumulo_32/fecha_entrga_28.Marzo.2022/visita_1/AGO-OCT-2021/4-32-1-1287/Grabadora/ultrasonico/grabadora_1_par_1/10261093\n",
      "/LUSTRE/sacmod/SIPECAM/Cumulo_32/fecha_entrga_28.Marzo.2022/visita_1/AGO-OCT-2021/4-32-1-1287/Grabadora/audible/grabadora_3_par2\n",
      "/LUSTRE/sacmod/SIPECAM/Cumulo_32/fecha_entrga_28.Marzo.2022/visita_1/AGO-OCT-2021/4-32-1-1287/Grabadora/audible/grabadora_5_par3\n",
      "/LUSTRE/sacmod/SIPECAM/Cumulo_32/fecha_entrga_28.Marzo.2022/visita_1/AGO-OCT-2021/4-32-1-1287/Grabadora/audible/grabadora_1_par1\n",
      "/LUSTRE/sacmod/SIPECAM/Cumulo_32/fecha_entrga_28.Marzo.2022/visita_1/AGO-OCT-2021/4-32-0-1280/Grabadoras/ultrasonico/grabadora_01_par02\n",
      "/LUSTRE/sacmod/SIPECAM/Cumulo_32/fecha_entrga_28.Marzo.2022/visita_1/AGO-OCT-2021/4-32-0-1280/Grabadoras/ultrasonico/grabadora_06_par01\n",
      "/LUSTRE/sacmod/SIPECAM/Cumulo_32/fecha_entrga_28.Marzo.2022/visita_1/AGO-OCT-2021/4-32-0-1280/Grabadoras/ultrasonico/grabadora_08_par03\n",
      "/LUSTRE/sacmod/SIPECAM/Cumulo_32/fecha_entrga_28.Marzo.2022/visita_1/AGO-OCT-2021/4-32-0-1280/Grabadoras/audible/grabadora_08_par03\n",
      "/LUSTRE/sacmod/SIPECAM/Cumulo_32/fecha_entrga_28.Marzo.2022/visita_1/AGO-OCT-2021/4-32-0-1280/Grabadoras/audible/grabadora_10_par02\n"
     ]
    },
    {
     "name": "stderr",
     "output_type": "stream",
     "text": [
      "multiprocessing.pool.RemoteTraceback: \n",
      "\"\"\"\n",
      "Traceback (most recent call last):\n",
      "  File \"/usr/lib/python3.8/multiprocessing/pool.py\", line 125, in worker\n",
      "    result = (True, func(*args, **kwds))\n",
      "  File \"/usr/lib/python3.8/multiprocessing/pool.py\", line 48, in mapstar\n",
      "    return list(map(*args))\n",
      "  File \"/usr/local/lib/python3.8/dist-packages/simex/extract_serial_numbers_dates_and_metadata_of_files_and_device.py\", line 27, in extract_metadata\n",
      "    date_of_file = read_metadata_audio.extract_date(filename)\n",
      "  File \"/usr/local/lib/python3.8/dist-packages/simex/read_metadata_audio.py\", line 143, in extract_date\n",
      "    return get_date(comment_metadata)#example: 2021-07-28\n",
      "  File \"/usr/local/lib/python3.8/dist-packages/simex/read_metadata_audio.py\", line 92, in get_date\n",
      "    match_date = ONLY_DATE_REGEX.search(comment)\n",
      "TypeError: expected string or bytes-like object\n",
      "\"\"\"\n",
      "\n",
      "The above exception was the direct cause of the following exception:\n",
      "\n",
      "Traceback (most recent call last):\n",
      "  File \"/usr/local/bin/extract_serial_numbers_dates_and_metadata_of_files_and_device\", line 8, in <module>\n",
      "    sys.exit(main())\n",
      "  File \"/usr/local/lib/python3.8/dist-packages/simex/extract_serial_numbers_dates_and_metadata_of_files_and_device.py\", line 233, in main\n",
      "    extract_metadata_of_files(input_directory,\n",
      "  File \"/usr/local/lib/python3.8/dist-packages/simex/extract_serial_numbers_dates_and_metadata_of_files_and_device.py\", line 139, in extract_metadata_of_files\n",
      "    res_map = pool.map(extract_metadata,\n",
      "  File \"/usr/lib/python3.8/multiprocessing/pool.py\", line 364, in map\n",
      "    return self._map_async(func, iterable, mapstar, chunksize).get()\n",
      "  File \"/usr/lib/python3.8/multiprocessing/pool.py\", line 771, in get\n",
      "    raise self._value\n",
      "TypeError: expected string or bytes-like object\n"
     ]
    },
    {
     "name": "stdout",
     "output_type": "stream",
     "text": [
      "/LUSTRE/sacmod/SIPECAM/Cumulo_32/fecha_entrga_28.Marzo.2022/visita_2/Noviembre_2021/4-32-1-1287/camaras/camara_01/DCIM/100RECNX\n",
      "/LUSTRE/sacmod/SIPECAM/Cumulo_32/fecha_entrga_28.Marzo.2022/visita_2/Noviembre_2021/4-32-1-1287/camaras/camara_05/DCIM/100RECNX\n",
      "/LUSTRE/sacmod/SIPECAM/Cumulo_32/fecha_entrga_28.Marzo.2022/visita_2/Noviembre_2021/4-32-1-1287/camaras/camara_04/DCIM/100RECNX\n",
      "/LUSTRE/sacmod/SIPECAM/Cumulo_32/fecha_entrga_28.Marzo.2022/visita_2/Noviembre_2021/4-32-1-1287/camaras/camara_03/DCIM/100RECNX\n",
      "/LUSTRE/sacmod/SIPECAM/Cumulo_32/fecha_entrga_28.Marzo.2022/visita_2/Noviembre_2021/4-32-0-1281/camaras/camara_06/DCIM/100RECNX\n",
      "/LUSTRE/sacmod/SIPECAM/Cumulo_32/fecha_entrga_28.Marzo.2022/visita_2/Noviembre_2021/4-32-0-1281/camaras/camara_10/DCIM/100RECNX\n",
      "/LUSTRE/sacmod/SIPECAM/Cumulo_32/fecha_entrga_28.Marzo.2022/visita_2/Noviembre_2021/4-32-0-1281/camaras/camara_07/DCIM/100RECNX\n",
      "/LUSTRE/sacmod/SIPECAM/Cumulo_32/fecha_entrga_28.Marzo.2022/visita_2/Noviembre_2021/4-32-0-1281/camaras/camara_08/DCIM/100RECNX\n",
      "/LUSTRE/sacmod/SIPECAM/Cumulo_32/fecha_entrga_28.Marzo.2022/visita_2/Noviembre_2021/4-32-0-1281/camaras/camara_09/DCIM/101RECNX\n",
      "/LUSTRE/sacmod/SIPECAM/Cumulo_32/fecha_entrga_28.Marzo.2022/visita_2/Noviembre_2021/4-32-0-1281/camaras/camara_09/DCIM/100RECNX\n",
      "/LUSTRE/sacmod/SIPECAM/Cumulo_32/fecha_entrga_28.Marzo.2022/visita_3/Dic_21_-_Enero_22/4-32-1-1285/camaras/camara_01/DCIM/100RECNX\n",
      "/LUSTRE/sacmod/SIPECAM/Cumulo_32/fecha_entrga_28.Marzo.2022/visita_3/Dic_21_-_Enero_22/4-32-1-1285/camaras/camara_05/DCIM/100RECNX\n",
      "/LUSTRE/sacmod/SIPECAM/Cumulo_32/fecha_entrga_28.Marzo.2022/visita_3/Dic_21_-_Enero_22/4-32-1-1285/camaras/camara_04/DCIM/100RECNX\n",
      "/LUSTRE/sacmod/SIPECAM/Cumulo_32/fecha_entrga_28.Marzo.2022/visita_3/Dic_21_-_Enero_22/4-32-1-1285/camaras/camara_03/DCIM/100RECNX\n",
      "/LUSTRE/sacmod/SIPECAM/Cumulo_32/fecha_entrga_28.Marzo.2022/visita_3/Dic_21_-_Enero_22/4-32-1-1285/camaras/camara_02/DCIM/100RECNX\n",
      "/LUSTRE/sacmod/SIPECAM/Cumulo_32/fecha_entrga_28.Marzo.2022/visita_3/Dic_21_-_Enero_22/4-32-0-1279/camaras/camara_06/DCIM/100RECNX\n",
      "/LUSTRE/sacmod/SIPECAM/Cumulo_32/fecha_entrga_28.Marzo.2022/visita_3/Dic_21_-_Enero_22/4-32-0-1279/camaras/camara_10/DCIM/100RECNX\n",
      "/LUSTRE/sacmod/SIPECAM/Cumulo_32/fecha_entrga_28.Marzo.2022/visita_3/Dic_21_-_Enero_22/4-32-0-1279/camaras/camara_07/DCIM/100RECNX\n",
      "/LUSTRE/sacmod/SIPECAM/Cumulo_32/fecha_entrga_28.Marzo.2022/visita_3/Dic_21_-_Enero_22/4-32-0-1279/camaras/camara_08/DCIM/101RECNX\n",
      "/LUSTRE/sacmod/SIPECAM/Cumulo_32/fecha_entrga_28.Marzo.2022/visita_3/Dic_21_-_Enero_22/4-32-0-1279/camaras/camara_08/DCIM/100RECNX\n",
      "/LUSTRE/sacmod/SIPECAM/Cumulo_32/fecha_entrga_28.Marzo.2022/visita_3/Dic_21_-_Enero_22/4-32-0-1279/camaras/camara_09/DCIM/101RECNX\n",
      "/LUSTRE/sacmod/SIPECAM/Cumulo_32/fecha_entrga_28.Marzo.2022/visita_3/Dic_21_-_Enero_22/4-32-0-1279/camaras/camara_09/DCIM/100RECNX\n",
      "/LUSTRE/sacmod/SIPECAM/Cumulo_32/fecha_entrga_28.Marzo.2022/visita_1/AGO-OCT-2021/4-32-1-1287/Camaras/Tarjeta 7/DCIM/100RECNX\n",
      "/LUSTRE/sacmod/SIPECAM/Cumulo_32/fecha_entrga_28.Marzo.2022/visita_1/AGO-OCT-2021/4-32-1-1287/Camaras/Tarjeta 1/DCIM/101RECNX\n",
      "/LUSTRE/sacmod/SIPECAM/Cumulo_32/fecha_entrga_28.Marzo.2022/visita_1/AGO-OCT-2021/4-32-1-1287/Camaras/Tarjeta 1/DCIM/100RECNX\n",
      "/LUSTRE/sacmod/SIPECAM/Cumulo_32/fecha_entrga_28.Marzo.2022/visita_1/AGO-OCT-2021/4-32-1-1287/Camaras/Tarjeta 10/DCIM/100RECNX\n",
      "/LUSTRE/sacmod/SIPECAM/Cumulo_32/fecha_entrga_28.Marzo.2022/visita_1/AGO-OCT-2021/4-32-1-1287/Camaras/Tarjeta 9/DCIM/100RECNX\n",
      "/LUSTRE/sacmod/SIPECAM/Cumulo_32/fecha_entrga_28.Marzo.2022/visita_1/AGO-OCT-2021/4-32-1-1287/Camaras/Tarjeta 6/DCIM/101RECNX\n",
      "/LUSTRE/sacmod/SIPECAM/Cumulo_32/fecha_entrga_28.Marzo.2022/visita_1/AGO-OCT-2021/4-32-1-1287/Camaras/Tarjeta 6/DCIM/100RECNX\n",
      "/LUSTRE/sacmod/SIPECAM/Cumulo_32/fecha_entrga_28.Marzo.2022/visita_1/AGO-OCT-2021/4-32-1-1287/Camaras/Tarjeta 2/DCIM/101RECNX\n",
      "/LUSTRE/sacmod/SIPECAM/Cumulo_32/fecha_entrga_28.Marzo.2022/visita_1/AGO-OCT-2021/4-32-1-1287/Camaras/Tarjeta 2/DCIM/100RECNX\n",
      "/LUSTRE/sacmod/SIPECAM/Cumulo_32/fecha_entrga_28.Marzo.2022/visita_1/AGO-OCT-2021/4-32-1-1287/Camaras/Tarjeta 3/DCIM/101RECNX\n",
      "/LUSTRE/sacmod/SIPECAM/Cumulo_32/fecha_entrga_28.Marzo.2022/visita_1/AGO-OCT-2021/4-32-1-1287/Camaras/Tarjeta 3/DCIM/102RECNX\n",
      "/LUSTRE/sacmod/SIPECAM/Cumulo_32/fecha_entrga_28.Marzo.2022/visita_1/AGO-OCT-2021/4-32-1-1287/Camaras/Tarjeta 3/DCIM/100RECNX\n",
      "/LUSTRE/sacmod/SIPECAM/Cumulo_32/fecha_entrga_28.Marzo.2022/visita_1/AGO-OCT-2021/4-32-1-1287/Camaras/Tarjeta 4/DCIM/101RECNX\n",
      "/LUSTRE/sacmod/SIPECAM/Cumulo_32/fecha_entrga_28.Marzo.2022/visita_1/AGO-OCT-2021/4-32-1-1287/Camaras/Tarjeta 4/DCIM/100RECNX\n",
      "/LUSTRE/sacmod/SIPECAM/Cumulo_32/fecha_entrga_28.Marzo.2022/visita_1/AGO-OCT-2021/4-32-1-1287/Camaras/Tarjeta 8/DCIM/101RECNX\n",
      "/LUSTRE/sacmod/SIPECAM/Cumulo_32/fecha_entrga_28.Marzo.2022/visita_1/AGO-OCT-2021/4-32-1-1287/Camaras/Tarjeta 8/DCIM/100RECNX\n",
      "/LUSTRE/sacmod/SIPECAM/Cumulo_32/fecha_entrga_28.Marzo.2022/visita_1/AGO-OCT-2021/4-32-1-1287/Camaras/Tarjeta 5/DCIM/100RECNX\n",
      "/LUSTRE/sacmod/SIPECAM/Cumulo_32/fecha_entrga_28.Marzo.2022/visita_2/Noviembre_2021/4-32-1-1287/camaras/camara_02/DCIM/100RECNX\n"
     ]
    },
    {
     "name": "stderr",
     "output_type": "stream",
     "text": [
      "Traceback (most recent call last):\n",
      "  File \"/usr/local/bin/extract_serial_numbers_dates_and_metadata_of_files_and_device\", line 8, in <module>\n",
      "    sys.exit(main())\n",
      "  File \"/usr/local/lib/python3.8/dist-packages/simex/extract_serial_numbers_dates_and_metadata_of_files_and_device.py\", line 227, in main\n",
      "    extract_metadata_of_device_from_files(input_directory,\n",
      "  File \"/usr/local/lib/python3.8/dist-packages/simex/extract_serial_numbers_dates_and_metadata_of_files_and_device.py\", line 122, in extract_metadata_of_device_from_files\n",
      "    f_pathlib = pathlib.Path(filename)\n",
      "UnboundLocalError: local variable 'filename' referenced before assignment\n"
     ]
    }
   ],
   "source": [
    "%%bash\n",
    "list_of_dirs_to_be_processed=/shared_volume/sipecam_subdirectories_04-04-2022.txt\n",
    "SAVEIFS=$IFS;IFS=$(echo -en \"\\n\\b\")\n",
    "for dir_to_be_processed in $(cat $list_of_dirs_to_be_processed)\n",
    "    do\n",
    "    echo \"$dir_to_be_processed\"\n",
    "    extract_serial_numbers_dates_and_metadata_of_files_and_device --input_dir \"$dir_to_be_processed\" --parallel --number_of_processes 10\n",
    "done\n",
    "IFS=$SAVEIFS"
   ]
  },
  {
   "cell_type": "markdown",
   "id": "77c2c26c-c845-4385-984e-53ac89de6250",
   "metadata": {},
   "source": [
    "## 1"
   ]
  },
  {
   "cell_type": "markdown",
   "id": "f2c0b427-9bfa-4e83-add2-4ce6dcb0be9a",
   "metadata": {},
   "source": [
    "**Executing without parallel feature**"
   ]
  },
  {
   "cell_type": "code",
   "execution_count": 16,
   "id": "0e6a15f6-1364-46a4-8ed0-b0da7c7f17bb",
   "metadata": {},
   "outputs": [
    {
     "name": "stderr",
     "output_type": "stream",
     "text": [
      "Traceback (most recent call last):\n",
      "  File \"/usr/local/bin/extract_serial_numbers_dates_and_metadata_of_files_and_device\", line 8, in <module>\n",
      "    sys.exit(main())\n",
      "  File \"/usr/local/lib/python3.8/dist-packages/simex/extract_serial_numbers_dates_and_metadata_of_files_and_device.py\", line 233, in main\n",
      "    extract_metadata_of_files(input_directory,\n",
      "  File \"/usr/local/lib/python3.8/dist-packages/simex/extract_serial_numbers_dates_and_metadata_of_files_and_device.py\", line 165, in extract_metadata_of_files\n",
      "    tuple_date, tuple_metadata_of_file = extract_metadata(filename)\n",
      "  File \"/usr/local/lib/python3.8/dist-packages/simex/extract_serial_numbers_dates_and_metadata_of_files_and_device.py\", line 27, in extract_metadata\n",
      "    date_of_file = read_metadata_audio.extract_date(filename)\n",
      "  File \"/usr/local/lib/python3.8/dist-packages/simex/read_metadata_audio.py\", line 143, in extract_date\n",
      "    return get_date(comment_metadata)#example: 2021-07-28\n",
      "  File \"/usr/local/lib/python3.8/dist-packages/simex/read_metadata_audio.py\", line 92, in get_date\n",
      "    match_date = ONLY_DATE_REGEX.search(comment)\n",
      "TypeError: expected string or bytes-like object\n"
     ]
    },
    {
     "ename": "CalledProcessError",
     "evalue": "Command 'b'dir_to_be_processed=\"/LUSTRE/sacmod/SIPECAM/Cumulo_32/fecha_entrga_28.Marzo.2022/visita_1/AGO-OCT-2021/4-32-0-1280/Grabadoras/audible/grabadora_10_par02\"\\nextract_serial_numbers_dates_and_metadata_of_files_and_device --input_dir \"$dir_to_be_processed\"\\n'' returned non-zero exit status 1.",
     "output_type": "error",
     "traceback": [
      "\u001b[0;31m---------------------------------------------------------------------------\u001b[0m",
      "\u001b[0;31mCalledProcessError\u001b[0m                        Traceback (most recent call last)",
      "Input \u001b[0;32mIn [16]\u001b[0m, in \u001b[0;36m<cell line: 1>\u001b[0;34m()\u001b[0m\n\u001b[0;32m----> 1\u001b[0m \u001b[43mget_ipython\u001b[49m\u001b[43m(\u001b[49m\u001b[43m)\u001b[49m\u001b[38;5;241;43m.\u001b[39;49m\u001b[43mrun_cell_magic\u001b[49m\u001b[43m(\u001b[49m\u001b[38;5;124;43m'\u001b[39;49m\u001b[38;5;124;43mbash\u001b[39;49m\u001b[38;5;124;43m'\u001b[39;49m\u001b[43m,\u001b[49m\u001b[43m \u001b[49m\u001b[38;5;124;43m'\u001b[39;49m\u001b[38;5;124;43m'\u001b[39;49m\u001b[43m,\u001b[49m\u001b[43m \u001b[49m\u001b[38;5;124;43m'\u001b[39;49m\u001b[38;5;124;43mdir_to_be_processed=\u001b[39;49m\u001b[38;5;124;43m\"\u001b[39;49m\u001b[38;5;124;43m/LUSTRE/sacmod/SIPECAM/Cumulo_32/fecha_entrga_28.Marzo.2022/visita_1/AGO-OCT-2021/4-32-0-1280/Grabadoras/audible/grabadora_10_par02\u001b[39;49m\u001b[38;5;124;43m\"\u001b[39;49m\u001b[38;5;130;43;01m\\n\u001b[39;49;00m\u001b[38;5;124;43mextract_serial_numbers_dates_and_metadata_of_files_and_device --input_dir \u001b[39;49m\u001b[38;5;124;43m\"\u001b[39;49m\u001b[38;5;124;43m$dir_to_be_processed\u001b[39;49m\u001b[38;5;124;43m\"\u001b[39;49m\u001b[38;5;130;43;01m\\n\u001b[39;49;00m\u001b[38;5;124;43m'\u001b[39;49m\u001b[43m)\u001b[49m\n",
      "File \u001b[0;32m/usr/local/lib/python3.8/dist-packages/IPython/core/interactiveshell.py:2347\u001b[0m, in \u001b[0;36mInteractiveShell.run_cell_magic\u001b[0;34m(self, magic_name, line, cell)\u001b[0m\n\u001b[1;32m   2345\u001b[0m \u001b[38;5;28;01mwith\u001b[39;00m \u001b[38;5;28mself\u001b[39m\u001b[38;5;241m.\u001b[39mbuiltin_trap:\n\u001b[1;32m   2346\u001b[0m     args \u001b[38;5;241m=\u001b[39m (magic_arg_s, cell)\n\u001b[0;32m-> 2347\u001b[0m     result \u001b[38;5;241m=\u001b[39m \u001b[43mfn\u001b[49m\u001b[43m(\u001b[49m\u001b[38;5;241;43m*\u001b[39;49m\u001b[43margs\u001b[49m\u001b[43m,\u001b[49m\u001b[43m \u001b[49m\u001b[38;5;241;43m*\u001b[39;49m\u001b[38;5;241;43m*\u001b[39;49m\u001b[43mkwargs\u001b[49m\u001b[43m)\u001b[49m\n\u001b[1;32m   2348\u001b[0m \u001b[38;5;28;01mreturn\u001b[39;00m result\n",
      "File \u001b[0;32m/usr/local/lib/python3.8/dist-packages/IPython/core/magics/script.py:153\u001b[0m, in \u001b[0;36mScriptMagics._make_script_magic.<locals>.named_script_magic\u001b[0;34m(line, cell)\u001b[0m\n\u001b[1;32m    151\u001b[0m \u001b[38;5;28;01melse\u001b[39;00m:\n\u001b[1;32m    152\u001b[0m     line \u001b[38;5;241m=\u001b[39m script\n\u001b[0;32m--> 153\u001b[0m \u001b[38;5;28;01mreturn\u001b[39;00m \u001b[38;5;28;43mself\u001b[39;49m\u001b[38;5;241;43m.\u001b[39;49m\u001b[43mshebang\u001b[49m\u001b[43m(\u001b[49m\u001b[43mline\u001b[49m\u001b[43m,\u001b[49m\u001b[43m \u001b[49m\u001b[43mcell\u001b[49m\u001b[43m)\u001b[49m\n",
      "File \u001b[0;32m/usr/local/lib/python3.8/dist-packages/IPython/core/magics/script.py:305\u001b[0m, in \u001b[0;36mScriptMagics.shebang\u001b[0;34m(self, line, cell)\u001b[0m\n\u001b[1;32m    300\u001b[0m \u001b[38;5;28;01mif\u001b[39;00m args\u001b[38;5;241m.\u001b[39mraise_error \u001b[38;5;129;01mand\u001b[39;00m p\u001b[38;5;241m.\u001b[39mreturncode \u001b[38;5;241m!=\u001b[39m \u001b[38;5;241m0\u001b[39m:\n\u001b[1;32m    301\u001b[0m     \u001b[38;5;66;03m# If we get here and p.returncode is still None, we must have\u001b[39;00m\n\u001b[1;32m    302\u001b[0m     \u001b[38;5;66;03m# killed it but not yet seen its return code. We don't wait for it,\u001b[39;00m\n\u001b[1;32m    303\u001b[0m     \u001b[38;5;66;03m# in case it's stuck in uninterruptible sleep. -9 = SIGKILL\u001b[39;00m\n\u001b[1;32m    304\u001b[0m     rc \u001b[38;5;241m=\u001b[39m p\u001b[38;5;241m.\u001b[39mreturncode \u001b[38;5;129;01mor\u001b[39;00m \u001b[38;5;241m-\u001b[39m\u001b[38;5;241m9\u001b[39m\n\u001b[0;32m--> 305\u001b[0m     \u001b[38;5;28;01mraise\u001b[39;00m CalledProcessError(rc, cell)\n",
      "\u001b[0;31mCalledProcessError\u001b[0m: Command 'b'dir_to_be_processed=\"/LUSTRE/sacmod/SIPECAM/Cumulo_32/fecha_entrga_28.Marzo.2022/visita_1/AGO-OCT-2021/4-32-0-1280/Grabadoras/audible/grabadora_10_par02\"\\nextract_serial_numbers_dates_and_metadata_of_files_and_device --input_dir \"$dir_to_be_processed\"\\n'' returned non-zero exit status 1."
     ]
    }
   ],
   "source": [
    "%%bash\n",
    "dir_to_be_processed=\"/LUSTRE/sacmod/SIPECAM/Cumulo_32/fecha_entrga_28.Marzo.2022/visita_1/AGO-OCT-2021/4-32-0-1280/Grabadoras/audible/grabadora_10_par02\"\n",
    "extract_serial_numbers_dates_and_metadata_of_files_and_device --input_dir \"$dir_to_be_processed\""
   ]
  },
  {
   "cell_type": "code",
   "execution_count": 17,
   "id": "fc9ce63a-b1e0-4f45-8f71-1546a15607b1",
   "metadata": {},
   "outputs": [
    {
     "name": "stdout",
     "output_type": "stream",
     "text": [
      "[{\n",
      "  \"SourceFile\": \"/LUSTRE/sacmod/SIPECAM/Cumulo_32/fecha_entrga_28.Marzo.2022/visita_1/AGO-OCT-2021/4-32-0-1280/Grabadoras/audible/grabadora_10_par02/20210823_135000.WAV\",\n",
      "  \"ExifToolVersion\": 12.40,\n",
      "  \"FileName\": \"20210823_135000.WAV\",\n",
      "  \"Directory\": \"/LUSTRE/sacmod/SIPECAM/Cumulo_32/fecha_entrga_28.Marzo.2022/visita_1/AGO-OCT-2021/4-32-0-1280/Grabadoras/audible/grabadora_10_par02\",\n",
      "  \"FileSize\": \"5.5 MiB\",\n",
      "  \"FileModifyDate\": \"2022:03:29 02:36:41-06:00\",\n",
      "  \"FileAccessDate\": \"2022:04:04 20:33:52-05:00\",\n",
      "  \"FileInodeChangeDate\": \"2022:03:31 17:41:29-06:00\",\n",
      "  \"FilePermissions\": \"-rwxrwxrwx\",\n",
      "  \"Error\": \"File format error\"\n",
      "}]\n"
     ]
    },
    {
     "ename": "CalledProcessError",
     "evalue": "Command 'b'file=\"/LUSTRE/sacmod/SIPECAM/Cumulo_32/fecha_entrga_28.Marzo.2022/visita_1/AGO-OCT-2021/4-32-0-1280/Grabadoras/audible/grabadora_10_par02/20210823_135000.WAV\"\\nexiftool -a -j \"$file\"\\n'' returned non-zero exit status 1.",
     "output_type": "error",
     "traceback": [
      "\u001b[0;31m---------------------------------------------------------------------------\u001b[0m",
      "\u001b[0;31mCalledProcessError\u001b[0m                        Traceback (most recent call last)",
      "Input \u001b[0;32mIn [17]\u001b[0m, in \u001b[0;36m<cell line: 1>\u001b[0;34m()\u001b[0m\n\u001b[0;32m----> 1\u001b[0m \u001b[43mget_ipython\u001b[49m\u001b[43m(\u001b[49m\u001b[43m)\u001b[49m\u001b[38;5;241;43m.\u001b[39;49m\u001b[43mrun_cell_magic\u001b[49m\u001b[43m(\u001b[49m\u001b[38;5;124;43m'\u001b[39;49m\u001b[38;5;124;43mbash\u001b[39;49m\u001b[38;5;124;43m'\u001b[39;49m\u001b[43m,\u001b[49m\u001b[43m \u001b[49m\u001b[38;5;124;43m'\u001b[39;49m\u001b[38;5;124;43m'\u001b[39;49m\u001b[43m,\u001b[49m\u001b[43m \u001b[49m\u001b[38;5;124;43m'\u001b[39;49m\u001b[38;5;124;43mfile=\u001b[39;49m\u001b[38;5;124;43m\"\u001b[39;49m\u001b[38;5;124;43m/LUSTRE/sacmod/SIPECAM/Cumulo_32/fecha_entrga_28.Marzo.2022/visita_1/AGO-OCT-2021/4-32-0-1280/Grabadoras/audible/grabadora_10_par02/20210823_135000.WAV\u001b[39;49m\u001b[38;5;124;43m\"\u001b[39;49m\u001b[38;5;130;43;01m\\n\u001b[39;49;00m\u001b[38;5;124;43mexiftool -a -j \u001b[39;49m\u001b[38;5;124;43m\"\u001b[39;49m\u001b[38;5;124;43m$file\u001b[39;49m\u001b[38;5;124;43m\"\u001b[39;49m\u001b[38;5;130;43;01m\\n\u001b[39;49;00m\u001b[38;5;124;43m'\u001b[39;49m\u001b[43m)\u001b[49m\n",
      "File \u001b[0;32m/usr/local/lib/python3.8/dist-packages/IPython/core/interactiveshell.py:2347\u001b[0m, in \u001b[0;36mInteractiveShell.run_cell_magic\u001b[0;34m(self, magic_name, line, cell)\u001b[0m\n\u001b[1;32m   2345\u001b[0m \u001b[38;5;28;01mwith\u001b[39;00m \u001b[38;5;28mself\u001b[39m\u001b[38;5;241m.\u001b[39mbuiltin_trap:\n\u001b[1;32m   2346\u001b[0m     args \u001b[38;5;241m=\u001b[39m (magic_arg_s, cell)\n\u001b[0;32m-> 2347\u001b[0m     result \u001b[38;5;241m=\u001b[39m \u001b[43mfn\u001b[49m\u001b[43m(\u001b[49m\u001b[38;5;241;43m*\u001b[39;49m\u001b[43margs\u001b[49m\u001b[43m,\u001b[49m\u001b[43m \u001b[49m\u001b[38;5;241;43m*\u001b[39;49m\u001b[38;5;241;43m*\u001b[39;49m\u001b[43mkwargs\u001b[49m\u001b[43m)\u001b[49m\n\u001b[1;32m   2348\u001b[0m \u001b[38;5;28;01mreturn\u001b[39;00m result\n",
      "File \u001b[0;32m/usr/local/lib/python3.8/dist-packages/IPython/core/magics/script.py:153\u001b[0m, in \u001b[0;36mScriptMagics._make_script_magic.<locals>.named_script_magic\u001b[0;34m(line, cell)\u001b[0m\n\u001b[1;32m    151\u001b[0m \u001b[38;5;28;01melse\u001b[39;00m:\n\u001b[1;32m    152\u001b[0m     line \u001b[38;5;241m=\u001b[39m script\n\u001b[0;32m--> 153\u001b[0m \u001b[38;5;28;01mreturn\u001b[39;00m \u001b[38;5;28;43mself\u001b[39;49m\u001b[38;5;241;43m.\u001b[39;49m\u001b[43mshebang\u001b[49m\u001b[43m(\u001b[49m\u001b[43mline\u001b[49m\u001b[43m,\u001b[49m\u001b[43m \u001b[49m\u001b[43mcell\u001b[49m\u001b[43m)\u001b[49m\n",
      "File \u001b[0;32m/usr/local/lib/python3.8/dist-packages/IPython/core/magics/script.py:305\u001b[0m, in \u001b[0;36mScriptMagics.shebang\u001b[0;34m(self, line, cell)\u001b[0m\n\u001b[1;32m    300\u001b[0m \u001b[38;5;28;01mif\u001b[39;00m args\u001b[38;5;241m.\u001b[39mraise_error \u001b[38;5;129;01mand\u001b[39;00m p\u001b[38;5;241m.\u001b[39mreturncode \u001b[38;5;241m!=\u001b[39m \u001b[38;5;241m0\u001b[39m:\n\u001b[1;32m    301\u001b[0m     \u001b[38;5;66;03m# If we get here and p.returncode is still None, we must have\u001b[39;00m\n\u001b[1;32m    302\u001b[0m     \u001b[38;5;66;03m# killed it but not yet seen its return code. We don't wait for it,\u001b[39;00m\n\u001b[1;32m    303\u001b[0m     \u001b[38;5;66;03m# in case it's stuck in uninterruptible sleep. -9 = SIGKILL\u001b[39;00m\n\u001b[1;32m    304\u001b[0m     rc \u001b[38;5;241m=\u001b[39m p\u001b[38;5;241m.\u001b[39mreturncode \u001b[38;5;129;01mor\u001b[39;00m \u001b[38;5;241m-\u001b[39m\u001b[38;5;241m9\u001b[39m\n\u001b[0;32m--> 305\u001b[0m     \u001b[38;5;28;01mraise\u001b[39;00m CalledProcessError(rc, cell)\n",
      "\u001b[0;31mCalledProcessError\u001b[0m: Command 'b'file=\"/LUSTRE/sacmod/SIPECAM/Cumulo_32/fecha_entrga_28.Marzo.2022/visita_1/AGO-OCT-2021/4-32-0-1280/Grabadoras/audible/grabadora_10_par02/20210823_135000.WAV\"\\nexiftool -a -j \"$file\"\\n'' returned non-zero exit status 1."
     ]
    }
   ],
   "source": [
    "%%bash\n",
    "file=\"/LUSTRE/sacmod/SIPECAM/Cumulo_32/fecha_entrga_28.Marzo.2022/visita_1/AGO-OCT-2021/4-32-0-1280/Grabadoras/audible/grabadora_10_par02/20210823_135000.WAV\"\n",
    "exiftool -a -j \"$file\""
   ]
  },
  {
   "cell_type": "code",
   "execution_count": 18,
   "id": "ef39c3c0-c2b4-4178-a951-30a8c32824ad",
   "metadata": {},
   "outputs": [],
   "source": [
    "from simex import read_metadata_audio"
   ]
  },
  {
   "cell_type": "code",
   "execution_count": 19,
   "id": "9385db04-3759-4df5-a02f-6131201f614d",
   "metadata": {},
   "outputs": [],
   "source": [
    "f=\"/LUSTRE/sacmod/SIPECAM/Cumulo_32/fecha_entrga_28.Marzo.2022/visita_1/AGO-OCT-2021/4-32-0-1280/Grabadoras/audible/grabadora_10_par02/20210823_135000.WAV\""
   ]
  },
  {
   "cell_type": "code",
   "execution_count": 20,
   "id": "3c2439f1-d0fc-48bb-a409-148c743464ea",
   "metadata": {},
   "outputs": [],
   "source": [
    "read_metadata_audio.get_comment(f)"
   ]
  },
  {
   "cell_type": "markdown",
   "id": "02870e21-3703-49f1-bb06-b07c084a4f91",
   "metadata": {},
   "source": [
    "Moving file \n",
    "`/LUSTRE/sacmod/SIPECAM/Cumulo_32/fecha_entrga_28.Marzo.2022/visita_1/AGO-OCT-2021/4-32-0-1280/Grabadoras/audible/grabadora_10_par02/20210823_135000.WAV`\n",
    "to: `/LUSTRE/sacmod/SIPECAM/Cumulo_32/fecha_entrga_28.Marzo.2022/visita_1/AGO-OCT-2021/4-32-0-1280/Grabadoras/audible/grabadora_10_par02/error`"
   ]
  },
  {
   "cell_type": "code",
   "execution_count": 21,
   "id": "0d1b76dd-bec7-4adb-ac21-4440a27e552e",
   "metadata": {},
   "outputs": [],
   "source": [
    "%%bash\n",
    "f=\"/LUSTRE/sacmod/SIPECAM/Cumulo_32/fecha_entrga_28.Marzo.2022/visita_1/AGO-OCT-2021/4-32-0-1280/Grabadoras/audible/grabadora_10_par02/20210823_135000.WAV\"\n",
    "mv \"$f\" \"/LUSTRE/sacmod/SIPECAM/Cumulo_32/fecha_entrga_28.Marzo.2022/visita_1/AGO-OCT-2021/4-32-0-1280/Grabadoras/audible/grabadora_10_par02/error/\""
   ]
  },
  {
   "cell_type": "markdown",
   "id": "53734f5c-d694-4a7d-a097-d14d80f09115",
   "metadata": {},
   "source": [
    "**Rerunning for this dir**"
   ]
  },
  {
   "cell_type": "code",
   "execution_count": 22,
   "id": "0acaf7ea-4513-46d6-980c-49c4ccf62f24",
   "metadata": {},
   "outputs": [],
   "source": [
    "%%bash\n",
    "dir_to_be_processed=\"/LUSTRE/sacmod/SIPECAM/Cumulo_32/fecha_entrga_28.Marzo.2022/visita_1/AGO-OCT-2021/4-32-0-1280/Grabadoras/audible/grabadora_10_par02\"\n",
    "extract_serial_numbers_dates_and_metadata_of_files_and_device --input_dir \"$dir_to_be_processed\" --parallel --number_of_processes 10"
   ]
  },
  {
   "cell_type": "markdown",
   "id": "0e218e4c-e9ed-4a98-bc93-c978a2968b3d",
   "metadata": {},
   "source": [
    "## 2"
   ]
  },
  {
   "cell_type": "markdown",
   "id": "acadb72e-5c55-4230-b2c9-b417e88bbbd1",
   "metadata": {},
   "source": [
    "**Directory: `/LUSTRE/sacmod/SIPECAM/Cumulo_32/fecha_entrga_28.Marzo.2022/visita_2/Noviembre_2021/4-32-1-1287/camaras/camara_02/DCIM/100RECNX` has only videos**"
   ]
  },
  {
   "cell_type": "code",
   "execution_count": 23,
   "id": "bd8efe5e-dbfe-4e8a-8502-1a2289172f84",
   "metadata": {},
   "outputs": [
    {
     "name": "stdout",
     "output_type": "stream",
     "text": [
      "100RECNX_simex_extract_serial_numbers_dates_and_metadata_of_files_and_device.json\n",
      "RCNX0001.AVI\n",
      "RCNX0002.AVI\n",
      "RCNX0003.AVI\n",
      "RCNX0004.AVI\n",
      "RCNX0005.AVI\n",
      "RCNX0006.AVI\n",
      "RCNX0007.AVI\n",
      "RCNX0008.AVI\n",
      "RCNX0009.AVI\n",
      "RCNX0010.AVI\n",
      "RCNX0011.AVI\n",
      "RCNX0012.AVI\n",
      "RCNX0013.AVI\n",
      "RCNX0014.AVI\n",
      "RCNX0015.AVI\n",
      "RCNX0016.AVI\n",
      "RCNX0017.AVI\n",
      "RCNX0018.AVI\n",
      "RCNX0019.AVI\n",
      "RCNX0020.AVI\n",
      "RCNX0021.AVI\n",
      "RCNX0022.AVI\n",
      "RCNX0023.AVI\n",
      "RCNX0024.AVI\n",
      "RCNX0025.AVI\n",
      "RCNX0026.AVI\n",
      "RCNX0027.AVI\n",
      "RCNX0028.AVI\n",
      "RCNX0029.AVI\n",
      "RCNX0030.AVI\n",
      "logs_simex_extract_serial_numbers_dates_and_metadata_of_files_and_device.logs\n"
     ]
    }
   ],
   "source": [
    "%%bash\n",
    "ls \"/LUSTRE/sacmod/SIPECAM/Cumulo_32/fecha_entrga_28.Marzo.2022/visita_2/Noviembre_2021/4-32-1-1287/camaras/camara_02/DCIM/100RECNX\""
   ]
  },
  {
   "cell_type": "markdown",
   "id": "83b913b9-b6cc-4331-b39c-4c8312b94e9e",
   "metadata": {},
   "source": [
    "**Then neither GPSinfo nor Serial Number can be retrieved and `simex` can't execute move cli (next step)**"
   ]
  },
  {
   "cell_type": "markdown",
   "id": "a9ee399f-59a7-487e-a573-9255161d66fe",
   "metadata": {},
   "source": [
    "**This directory will be removed from list `/shared_volume/sipecam_subdirectories_04-04-2022.txt` and `move` cli will be executed**"
   ]
  },
  {
   "cell_type": "markdown",
   "id": "86749edb-db0c-42c7-b196-593539866580",
   "metadata": {
    "tags": []
   },
   "source": [
    "# Move files to standard directory"
   ]
  },
  {
   "cell_type": "code",
   "execution_count": null,
   "id": "877639e3-4690-4282-b82a-dc357370686a",
   "metadata": {},
   "outputs": [],
   "source": [
    "%%bash\n",
    "echo \"SIPECAM_ZENDRO_GQL_URL=https://gql.sipecamdata.conabio.gob.mx/\" > ~/.simex_env\n",
    "echo \"SIPECAM_ZENDRO_GQL_USER=<user>\" >> ~/.simex_env\n",
    "echo \"SIPECAM_ZENDRO_GQL_PASSWORD=<password>\" >> ~/.simex_env\n"
   ]
  },
  {
   "cell_type": "code",
   "execution_count": 25,
   "id": "eeab7a95-e241-4138-a959-034101869450",
   "metadata": {},
   "outputs": [
    {
     "name": "stdout",
     "output_type": "stream",
     "text": [
      "/LUSTRE/sacmod/SIPECAM/Cumulo_32/fecha_entrga_28.Marzo.2022/visita_2/Noviembre_2021/4-32-1-1287/grabadoras/ultrasonico/camara_03_par2\n",
      "/LUSTRE/sacmod/SIPECAM/Cumulo_32/fecha_entrga_28.Marzo.2022/visita_2/Noviembre_2021/4-32-1-1287/grabadoras/ultrasonico/camara_05_par3\n"
     ]
    },
    {
     "name": "stderr",
     "output_type": "stream",
     "text": [
      "Traceback (most recent call last):\n",
      "  File \"/usr/local/bin/move_files_to_standard_directory\", line 8, in <module>\n",
      "    sys.exit(main())\n",
      "  File \"/usr/local/lib/python3.8/dist-packages/simex/move_files_to_standard_directory.py\", line 372, in main\n",
      "    dict_source_dates = dict_source[\"FirstAndLastDate\"]\n",
      "KeyError: 'FirstAndLastDate'\n"
     ]
    },
    {
     "name": "stdout",
     "output_type": "stream",
     "text": [
      "/LUSTRE/sacmod/SIPECAM/Cumulo_32/fecha_entrga_28.Marzo.2022/visita_2/Noviembre_2021/4-32-1-1287/grabadoras/ultrasonico/camara_01_par1\n",
      "/LUSTRE/sacmod/SIPECAM/Cumulo_32/fecha_entrga_28.Marzo.2022/visita_2/Noviembre_2021/4-32-1-1287/grabadoras/audible/camara_05_par_03\n",
      "/LUSTRE/sacmod/SIPECAM/Cumulo_32/fecha_entrga_28.Marzo.2022/visita_2/Noviembre_2021/4-32-1-1287/grabadoras/audible/camara_01_par01\n",
      "/LUSTRE/sacmod/SIPECAM/Cumulo_32/fecha_entrga_28.Marzo.2022/visita_2/Noviembre_2021/4-32-1-1287/grabadoras/audible/camara_03_par02\n",
      "/LUSTRE/sacmod/SIPECAM/Cumulo_32/fecha_entrga_28.Marzo.2022/visita_2/Noviembre_2021/4-32-0-1281/grabadoras/ultrasonico/camara10_par02\n",
      "/LUSTRE/sacmod/SIPECAM/Cumulo_32/fecha_entrga_28.Marzo.2022/visita_2/Noviembre_2021/4-32-0-1281/grabadoras/ultrasonico/camara06_par01\n",
      "/LUSTRE/sacmod/SIPECAM/Cumulo_32/fecha_entrga_28.Marzo.2022/visita_2/Noviembre_2021/4-32-0-1281/grabadoras/ultrasonico/camara08_par03\n",
      "/LUSTRE/sacmod/SIPECAM/Cumulo_32/fecha_entrga_28.Marzo.2022/visita_2/Noviembre_2021/4-32-0-1281/grabadoras/audible/camara10_par02\n",
      "/LUSTRE/sacmod/SIPECAM/Cumulo_32/fecha_entrga_28.Marzo.2022/visita_2/Noviembre_2021/4-32-0-1281/grabadoras/audible/camara06_par01\n",
      "/LUSTRE/sacmod/SIPECAM/Cumulo_32/fecha_entrga_28.Marzo.2022/visita_2/Noviembre_2021/4-32-0-1281/grabadoras/audible/camara08_par03\n",
      "/LUSTRE/sacmod/SIPECAM/Cumulo_32/fecha_entrga_28.Marzo.2022/visita_3/Dic_21_-_Enero_22/4-32-1-1285/grabadoras/ultrasonico/camara_01_par01\n",
      "/LUSTRE/sacmod/SIPECAM/Cumulo_32/fecha_entrga_28.Marzo.2022/visita_3/Dic_21_-_Enero_22/4-32-1-1285/grabadoras/ultrasonico/camara_03_par02\n",
      "/LUSTRE/sacmod/SIPECAM/Cumulo_32/fecha_entrga_28.Marzo.2022/visita_3/Dic_21_-_Enero_22/4-32-1-1285/grabadoras/ultrasonico/camara_05_par03\n",
      "/LUSTRE/sacmod/SIPECAM/Cumulo_32/fecha_entrga_28.Marzo.2022/visita_3/Dic_21_-_Enero_22/4-32-1-1285/grabadoras/audible/camara_03_par02\n",
      "/LUSTRE/sacmod/SIPECAM/Cumulo_32/fecha_entrga_28.Marzo.2022/visita_3/Dic_21_-_Enero_22/4-32-1-1285/grabadoras/audible/camara_05_par03\n",
      "/LUSTRE/sacmod/SIPECAM/Cumulo_32/fecha_entrga_28.Marzo.2022/visita_3/Dic_21_-_Enero_22/4-32-0-1279/grabadoras/ultrasonico/camara_08_par02\n",
      "/LUSTRE/sacmod/SIPECAM/Cumulo_32/fecha_entrga_28.Marzo.2022/visita_3/Dic_21_-_Enero_22/4-32-0-1279/grabadoras/ultrasonico/camara_06_par01\n",
      "/LUSTRE/sacmod/SIPECAM/Cumulo_32/fecha_entrga_28.Marzo.2022/visita_3/Dic_21_-_Enero_22/4-32-0-1279/grabadoras/ultrasonico/camara_10_par03\n",
      "/LUSTRE/sacmod/SIPECAM/Cumulo_32/fecha_entrga_28.Marzo.2022/visita_3/Dic_21_-_Enero_22/4-32-0-1279/grabadoras/audible/camara_08_par02\n",
      "/LUSTRE/sacmod/SIPECAM/Cumulo_32/fecha_entrga_28.Marzo.2022/visita_3/Dic_21_-_Enero_22/4-32-0-1279/grabadoras/audible/camara_06_par01\n",
      "/LUSTRE/sacmod/SIPECAM/Cumulo_32/fecha_entrga_28.Marzo.2022/visita_3/Dic_21_-_Enero_22/4-32-0-1279/grabadoras/audible/camara_10_par03\n",
      "/LUSTRE/sacmod/SIPECAM/Cumulo_32/fecha_entrga_28.Marzo.2022/visita_1/AGO-OCT-2021/4-32-1-1287/Grabadora/ultrasonico/grabadora_5_par_2/10262050\n",
      "/LUSTRE/sacmod/SIPECAM/Cumulo_32/fecha_entrga_28.Marzo.2022/visita_1/AGO-OCT-2021/4-32-1-1287/Grabadora/ultrasonico/grabadora_5_par_3\n",
      "/LUSTRE/sacmod/SIPECAM/Cumulo_32/fecha_entrga_28.Marzo.2022/visita_1/AGO-OCT-2021/4-32-1-1287/Grabadora/ultrasonico/grabadora_1_par_1/10261093\n",
      "/LUSTRE/sacmod/SIPECAM/Cumulo_32/fecha_entrga_28.Marzo.2022/visita_1/AGO-OCT-2021/4-32-1-1287/Grabadora/audible/grabadora_3_par2\n",
      "/LUSTRE/sacmod/SIPECAM/Cumulo_32/fecha_entrga_28.Marzo.2022/visita_1/AGO-OCT-2021/4-32-1-1287/Grabadora/audible/grabadora_5_par3\n",
      "/LUSTRE/sacmod/SIPECAM/Cumulo_32/fecha_entrga_28.Marzo.2022/visita_1/AGO-OCT-2021/4-32-1-1287/Grabadora/audible/grabadora_1_par1\n",
      "/LUSTRE/sacmod/SIPECAM/Cumulo_32/fecha_entrga_28.Marzo.2022/visita_1/AGO-OCT-2021/4-32-0-1280/Grabadoras/ultrasonico/grabadora_01_par02\n",
      "/LUSTRE/sacmod/SIPECAM/Cumulo_32/fecha_entrga_28.Marzo.2022/visita_1/AGO-OCT-2021/4-32-0-1280/Grabadoras/ultrasonico/grabadora_06_par01\n",
      "/LUSTRE/sacmod/SIPECAM/Cumulo_32/fecha_entrga_28.Marzo.2022/visita_1/AGO-OCT-2021/4-32-0-1280/Grabadoras/ultrasonico/grabadora_08_par03\n",
      "/LUSTRE/sacmod/SIPECAM/Cumulo_32/fecha_entrga_28.Marzo.2022/visita_1/AGO-OCT-2021/4-32-0-1280/Grabadoras/audible/grabadora_08_par03\n",
      "/LUSTRE/sacmod/SIPECAM/Cumulo_32/fecha_entrga_28.Marzo.2022/visita_1/AGO-OCT-2021/4-32-0-1280/Grabadoras/audible/grabadora_10_par02\n",
      "/LUSTRE/sacmod/SIPECAM/Cumulo_32/fecha_entrga_28.Marzo.2022/visita_2/Noviembre_2021/4-32-1-1287/camaras/camara_01/DCIM/100RECNX\n",
      "/LUSTRE/sacmod/SIPECAM/Cumulo_32/fecha_entrga_28.Marzo.2022/visita_2/Noviembre_2021/4-32-1-1287/camaras/camara_05/DCIM/100RECNX\n",
      "/LUSTRE/sacmod/SIPECAM/Cumulo_32/fecha_entrga_28.Marzo.2022/visita_2/Noviembre_2021/4-32-1-1287/camaras/camara_04/DCIM/100RECNX\n",
      "/LUSTRE/sacmod/SIPECAM/Cumulo_32/fecha_entrga_28.Marzo.2022/visita_2/Noviembre_2021/4-32-1-1287/camaras/camara_03/DCIM/100RECNX\n",
      "/LUSTRE/sacmod/SIPECAM/Cumulo_32/fecha_entrga_28.Marzo.2022/visita_2/Noviembre_2021/4-32-0-1281/camaras/camara_06/DCIM/100RECNX\n",
      "/LUSTRE/sacmod/SIPECAM/Cumulo_32/fecha_entrga_28.Marzo.2022/visita_2/Noviembre_2021/4-32-0-1281/camaras/camara_10/DCIM/100RECNX\n",
      "/LUSTRE/sacmod/SIPECAM/Cumulo_32/fecha_entrga_28.Marzo.2022/visita_2/Noviembre_2021/4-32-0-1281/camaras/camara_07/DCIM/100RECNX\n",
      "/LUSTRE/sacmod/SIPECAM/Cumulo_32/fecha_entrga_28.Marzo.2022/visita_2/Noviembre_2021/4-32-0-1281/camaras/camara_08/DCIM/100RECNX\n",
      "/LUSTRE/sacmod/SIPECAM/Cumulo_32/fecha_entrga_28.Marzo.2022/visita_2/Noviembre_2021/4-32-0-1281/camaras/camara_09/DCIM/101RECNX\n",
      "/LUSTRE/sacmod/SIPECAM/Cumulo_32/fecha_entrga_28.Marzo.2022/visita_2/Noviembre_2021/4-32-0-1281/camaras/camara_09/DCIM/100RECNX\n",
      "/LUSTRE/sacmod/SIPECAM/Cumulo_32/fecha_entrga_28.Marzo.2022/visita_3/Dic_21_-_Enero_22/4-32-1-1285/camaras/camara_01/DCIM/100RECNX\n",
      "/LUSTRE/sacmod/SIPECAM/Cumulo_32/fecha_entrga_28.Marzo.2022/visita_3/Dic_21_-_Enero_22/4-32-1-1285/camaras/camara_05/DCIM/100RECNX\n",
      "/LUSTRE/sacmod/SIPECAM/Cumulo_32/fecha_entrga_28.Marzo.2022/visita_3/Dic_21_-_Enero_22/4-32-1-1285/camaras/camara_04/DCIM/100RECNX\n",
      "/LUSTRE/sacmod/SIPECAM/Cumulo_32/fecha_entrga_28.Marzo.2022/visita_3/Dic_21_-_Enero_22/4-32-1-1285/camaras/camara_03/DCIM/100RECNX\n",
      "/LUSTRE/sacmod/SIPECAM/Cumulo_32/fecha_entrga_28.Marzo.2022/visita_3/Dic_21_-_Enero_22/4-32-1-1285/camaras/camara_02/DCIM/100RECNX\n",
      "/LUSTRE/sacmod/SIPECAM/Cumulo_32/fecha_entrga_28.Marzo.2022/visita_3/Dic_21_-_Enero_22/4-32-0-1279/camaras/camara_06/DCIM/100RECNX\n",
      "/LUSTRE/sacmod/SIPECAM/Cumulo_32/fecha_entrga_28.Marzo.2022/visita_3/Dic_21_-_Enero_22/4-32-0-1279/camaras/camara_10/DCIM/100RECNX\n",
      "/LUSTRE/sacmod/SIPECAM/Cumulo_32/fecha_entrga_28.Marzo.2022/visita_3/Dic_21_-_Enero_22/4-32-0-1279/camaras/camara_07/DCIM/100RECNX\n",
      "/LUSTRE/sacmod/SIPECAM/Cumulo_32/fecha_entrga_28.Marzo.2022/visita_3/Dic_21_-_Enero_22/4-32-0-1279/camaras/camara_08/DCIM/101RECNX\n",
      "/LUSTRE/sacmod/SIPECAM/Cumulo_32/fecha_entrga_28.Marzo.2022/visita_3/Dic_21_-_Enero_22/4-32-0-1279/camaras/camara_08/DCIM/100RECNX\n",
      "/LUSTRE/sacmod/SIPECAM/Cumulo_32/fecha_entrga_28.Marzo.2022/visita_3/Dic_21_-_Enero_22/4-32-0-1279/camaras/camara_09/DCIM/101RECNX\n",
      "/LUSTRE/sacmod/SIPECAM/Cumulo_32/fecha_entrga_28.Marzo.2022/visita_3/Dic_21_-_Enero_22/4-32-0-1279/camaras/camara_09/DCIM/100RECNX\n",
      "/LUSTRE/sacmod/SIPECAM/Cumulo_32/fecha_entrga_28.Marzo.2022/visita_1/AGO-OCT-2021/4-32-1-1287/Camaras/Tarjeta 7/DCIM/100RECNX\n",
      "/LUSTRE/sacmod/SIPECAM/Cumulo_32/fecha_entrga_28.Marzo.2022/visita_1/AGO-OCT-2021/4-32-1-1287/Camaras/Tarjeta 1/DCIM/101RECNX\n",
      "/LUSTRE/sacmod/SIPECAM/Cumulo_32/fecha_entrga_28.Marzo.2022/visita_1/AGO-OCT-2021/4-32-1-1287/Camaras/Tarjeta 1/DCIM/100RECNX\n",
      "/LUSTRE/sacmod/SIPECAM/Cumulo_32/fecha_entrga_28.Marzo.2022/visita_1/AGO-OCT-2021/4-32-1-1287/Camaras/Tarjeta 10/DCIM/100RECNX\n",
      "/LUSTRE/sacmod/SIPECAM/Cumulo_32/fecha_entrga_28.Marzo.2022/visita_1/AGO-OCT-2021/4-32-1-1287/Camaras/Tarjeta 9/DCIM/100RECNX\n",
      "/LUSTRE/sacmod/SIPECAM/Cumulo_32/fecha_entrga_28.Marzo.2022/visita_1/AGO-OCT-2021/4-32-1-1287/Camaras/Tarjeta 6/DCIM/101RECNX\n",
      "/LUSTRE/sacmod/SIPECAM/Cumulo_32/fecha_entrga_28.Marzo.2022/visita_1/AGO-OCT-2021/4-32-1-1287/Camaras/Tarjeta 6/DCIM/100RECNX\n",
      "/LUSTRE/sacmod/SIPECAM/Cumulo_32/fecha_entrga_28.Marzo.2022/visita_1/AGO-OCT-2021/4-32-1-1287/Camaras/Tarjeta 2/DCIM/101RECNX\n",
      "/LUSTRE/sacmod/SIPECAM/Cumulo_32/fecha_entrga_28.Marzo.2022/visita_1/AGO-OCT-2021/4-32-1-1287/Camaras/Tarjeta 2/DCIM/100RECNX\n",
      "/LUSTRE/sacmod/SIPECAM/Cumulo_32/fecha_entrga_28.Marzo.2022/visita_1/AGO-OCT-2021/4-32-1-1287/Camaras/Tarjeta 3/DCIM/101RECNX\n",
      "/LUSTRE/sacmod/SIPECAM/Cumulo_32/fecha_entrga_28.Marzo.2022/visita_1/AGO-OCT-2021/4-32-1-1287/Camaras/Tarjeta 3/DCIM/102RECNX\n",
      "/LUSTRE/sacmod/SIPECAM/Cumulo_32/fecha_entrga_28.Marzo.2022/visita_1/AGO-OCT-2021/4-32-1-1287/Camaras/Tarjeta 3/DCIM/100RECNX\n",
      "/LUSTRE/sacmod/SIPECAM/Cumulo_32/fecha_entrga_28.Marzo.2022/visita_1/AGO-OCT-2021/4-32-1-1287/Camaras/Tarjeta 4/DCIM/101RECNX\n",
      "/LUSTRE/sacmod/SIPECAM/Cumulo_32/fecha_entrga_28.Marzo.2022/visita_1/AGO-OCT-2021/4-32-1-1287/Camaras/Tarjeta 4/DCIM/100RECNX\n",
      "/LUSTRE/sacmod/SIPECAM/Cumulo_32/fecha_entrga_28.Marzo.2022/visita_1/AGO-OCT-2021/4-32-1-1287/Camaras/Tarjeta 8/DCIM/101RECNX\n",
      "/LUSTRE/sacmod/SIPECAM/Cumulo_32/fecha_entrga_28.Marzo.2022/visita_1/AGO-OCT-2021/4-32-1-1287/Camaras/Tarjeta 8/DCIM/100RECNX\n",
      "/LUSTRE/sacmod/SIPECAM/Cumulo_32/fecha_entrga_28.Marzo.2022/visita_1/AGO-OCT-2021/4-32-1-1287/Camaras/Tarjeta 5/DCIM/100RECNX\n"
     ]
    }
   ],
   "source": [
    "%%bash\n",
    "list_of_dirs_to_be_processed=/shared_volume/sipecam_subdirectories_04-04-2022.txt\n",
    "SAVEIFS=$IFS;IFS=$(echo -en \"\\n\\b\")\n",
    "path_std_dir=/LUSTRE/sacmod/SIPECAM/data\n",
    "for dir_to_be_processed in $(cat $list_of_dirs_to_be_processed)\n",
    "    do\n",
    "    echo \"$dir_to_be_processed\"\n",
    "    move_files_to_standard_directory --directory_with_file_of_serial_number_and_dates \"$dir_to_be_processed\" --path_for_standard_directory \"$path_std_dir\"\n",
    "done\n",
    "IFS=$SAVEIFS"
   ]
  },
  {
   "cell_type": "markdown",
   "id": "5e381d7e-a462-46ed-8929-e1b9eb3213f6",
   "metadata": {},
   "source": [
    "## 1"
   ]
  },
  {
   "cell_type": "markdown",
   "id": "9c73a5d3-2f16-415c-8d8a-019676563d9d",
   "metadata": {},
   "source": [
    "For directory `/LUSTRE/sacmod/SIPECAM/Cumulo_32/fecha_entrga_28.Marzo.2022/visita_2/Noviembre_2021/4-32-1-1287/grabadoras/ultrasonico/camara_05_par3` only one recording was founded. Then it was implemented in `simex`:\n",
    "\n",
    "[404ce5b0f8ed5b1a944cb10ccb610a0a203c1fb6](https://github.com/CONABIO/sipecam-metadata-extractor/commit/404ce5b0f8ed5b1a944cb10ccb610a0a203c1fb6)\n",
    "\n",
    "[68abdf856c204e432d52948833d3f2628c8862e6](https://github.com/CONABIO/sipecam-metadata-extractor/commit/68abdf856c204e432d52948833d3f2628c8862e6)\n"
   ]
  },
  {
   "cell_type": "markdown",
   "id": "a7651073-8308-4e50-a9fe-1ef54019c71f",
   "metadata": {},
   "source": [
    "Rerunning extract metadata:"
   ]
  },
  {
   "cell_type": "code",
   "execution_count": 1,
   "id": "3a0f153a-fd79-4faa-b843-1fa17f38d7df",
   "metadata": {},
   "outputs": [],
   "source": [
    "%%bash\n",
    "dir_to_be_processed=\"/LUSTRE/sacmod/SIPECAM/Cumulo_32/fecha_entrga_28.Marzo.2022/visita_2/Noviembre_2021/4-32-1-1287/grabadoras/ultrasonico/camara_05_par3\"\n",
    "extract_serial_numbers_dates_and_metadata_of_files_and_device --input_dir \"$dir_to_be_processed\""
   ]
  },
  {
   "cell_type": "code",
   "execution_count": 2,
   "id": "d45eaad9-f427-430c-8d14-49374bb086ef",
   "metadata": {},
   "outputs": [
    {
     "name": "stdout",
     "output_type": "stream",
     "text": [
      "{\n",
      "    \"MetadataDevice\": {\n",
      "        \"Artist\": \"AudioMoth 247AA5025EC9F2C8\",\n",
      "        \"SerialNumber\": \"247AA5025EC9F2C8\"\n",
      "    },\n",
      "    \"MetadataFiles\": {\n",
      "        \"/LUSTRE/sacmod/SIPECAM/Cumulo_32/fecha_entrga_28.Marzo.2022/visita_2/Noviembre_2021/4-32-1-1287/grabadoras/ultrasonico/camara_05_par3/20211020_180000.WAV\": {\n",
      "            \"Battery\": \"4.7V\",\n",
      "            \"Datetime\": \"18:00:00 20/10/2021 (UTC-0600)\",\n",
      "            \"Gain\": \"medium\",\n",
      "            \"Timezone\": \"UTC\",\n",
      "            \"BitRate\": \"6.1 Mbit/sec\",\n",
      "            \"SerialNumber\": \"247AA5025EC9F2C8\",\n",
      "            \"FileSize\": \"22 MiB\",\n",
      "            \"Encoding\": \"Microsoft PCM\",\n",
      "            \"NumChannels\": 1,\n",
      "            \"SampleRate\": 384000,\n",
      "            \"AvgBytesPerSec\": 768000,\n",
      "            \"BitsPerSample\": 16,\n",
      "            \"Comment\": \"Recorded at 18:00:00 20/10/2021 (UTC-6) by AudioMoth 247AA5025EC9F2C8 at medium gain setting while battery state was 4.7V and temperature was 19.0C.\",\n",
      "            \"Duration\": \"0:00:30\"\n",
      "        }\n",
      "    },\n",
      "    \"FirstAndLastDate\": {\n",
      "        \"/LUSTRE/sacmod/SIPECAM/Cumulo_32/fecha_entrga_28.Marzo.2022/visita_2/Noviembre_2021/4-32-1-1287/grabadoras/ultrasonico/camara_05_par3/20211020_180000.WAV\": [\n",
      "            \"2021-10-20\",\n",
      "            \"2021-10-21\"\n",
      "        ]\n",
      "    },\n",
      "    \"DaysBetweenFirstAndLastDate\": 1\n",
      "}\n"
     ]
    }
   ],
   "source": [
    "%%bash\n",
    "python3 -mjson.tool \"/LUSTRE/sacmod/SIPECAM/Cumulo_32/fecha_entrga_28.Marzo.2022/visita_2/Noviembre_2021/4-32-1-1287/grabadoras/ultrasonico/camara_05_par3/camara_05_par3_simex_extract_serial_numbers_dates_and_metadata_of_files_and_device.json\""
   ]
  },
  {
   "cell_type": "code",
   "execution_count": 5,
   "id": "c9844509-c1e8-44b0-bd59-5140c6484270",
   "metadata": {},
   "outputs": [],
   "source": [
    "%%bash\n",
    "path_std_dir=/LUSTRE/sacmod/SIPECAM/data\n",
    "dir_to_be_processed=\"/LUSTRE/sacmod/SIPECAM/Cumulo_32/fecha_entrga_28.Marzo.2022/visita_2/Noviembre_2021/4-32-1-1287/grabadoras/ultrasonico/camara_05_par3\"\n",
    "move_files_to_standard_directory --directory_with_file_of_serial_number_and_dates \"$dir_to_be_processed\" --path_for_standard_directory \"$path_std_dir\"\n"
   ]
  },
  {
   "cell_type": "code",
   "execution_count": 6,
   "id": "d48e8619-9d6b-4cbc-ac66-e829df9f5171",
   "metadata": {},
   "outputs": [
    {
     "name": "stdout",
     "output_type": "stream",
     "text": [
      "2022-04-05 12:07:38,196 [INFO]  Dir /LUSTRE/sacmod/SIPECAM/Cumulo_32/fecha_entrga_28.Marzo.2022/visita_2/Noviembre_2021/4-32-1-1287/grabadoras/ultrasonico/camara_05_par3 has serial number 247AA5025EC9F2C8\n",
      "2022-04-05 12:07:38,198 [INFO]  tuple index out of range\n",
      "2022-04-05 12:07:38,198 [INFO]  couldn't retrieve second_date_str possibly related to only one file taken by device\n",
      "2022-04-05 12:07:38,198 [INFO]  File /LUSTRE/sacmod/SIPECAM/Cumulo_32/fecha_entrga_28.Marzo.2022/visita_2/Noviembre_2021/4-32-1-1287/grabadoras/ultrasonico/camara_05_par3/20211020_180000.WAV has date 2021-10-20\n",
      "2022-04-05 12:07:38,198 [INFO]  File /LUSTRE/sacmod/SIPECAM/Cumulo_32/fecha_entrga_28.Marzo.2022/visita_2/Noviembre_2021/4-32-1-1287/grabadoras/ultrasonico/camara_05_par3/20211020_180000.WAV only was taken in one date and date 2021-10-20 will be used for query\n",
      "2022-04-05 12:07:38,198 [INFO]  DaysBetweenFirstAndLastDate: 1\n",
      "2022-04-05 12:07:38,359 [INFO]  Query to Zendro GQL: query {\n",
      "  physical_devices(pagination: {limit: 0}, search: {field: comments, value: \"ADM247AA5025EC9F2C8\", operator: like}) {\n",
      "    device_deploymentsFilter(pagination: {limit: 0}, search: {operator: and, search: [{field: date_deployment, value: \"2021-10-20\", valueType: String, operator: gte}, {field: date_deployment, value: \"2021-10-21\", valueType: String, operator: lte}]}) {\n",
      "      node {\n",
      "        nomenclatura\n",
      "        cat_integr\n",
      "        ecosystems {\n",
      "          name\n",
      "        }\n",
      "      }\n",
      "      cumulus {\n",
      "        name\n",
      "        geometry\n",
      "      }\n",
      "      date_deployment\n",
      "      latitude\n",
      "      longitude\n",
      "    }\n",
      "  }\n",
      "}\n",
      "2022-04-05 12:07:38,360 [INFO]  last query wasn't successful\n",
      "2022-04-05 12:07:38,488 [INFO]  Query alternative auxiliar to Zendro GQL: query {\n",
      "  physical_devices(pagination: {limit: 0}, search: {field: comments, value: \"ADM247AA5025EC9F2C8\", operator: like}) {\n",
      "    device_deploymentsFilter(pagination: {limit: 0}) {\n",
      "      date_deployment\n",
      "    }\n",
      "  }\n",
      "}\n",
      "2022-04-05 12:07:38,492 [INFO]  local variable 'idx_date' referenced before assignment\n",
      "2022-04-05 12:07:38,493 [INFO]  unsuccessful query query {\n",
      "  physical_devices(pagination: {limit: 0}, search: {field: comments, value: \"ADM247AA5025EC9F2C8\", operator: like}) {\n",
      "    device_deploymentsFilter(pagination: {limit: 0}) {\n",
      "      date_deployment\n",
      "    }\n",
      "  }\n",
      "} or error when moving files to standard dir\n"
     ]
    }
   ],
   "source": [
    "%%bash\n",
    "f=\"/LUSTRE/sacmod/SIPECAM/Cumulo_32/fecha_entrga_28.Marzo.2022/visita_2/Noviembre_2021/4-32-1-1287/grabadoras/ultrasonico/camara_05_par3/logs_simex_move_files_to_standard_directory.logs\"\n",
    "cat \"$f\""
   ]
  },
  {
   "cell_type": "markdown",
   "id": "51b5c039-860f-42b8-ac6b-2dba30c34c40",
   "metadata": {},
   "source": [
    "Result of query:\n",
    "\n",
    "```\n",
    "query {\n",
    "  physical_devices(pagination: {limit: 0}, search: {field: comments, value: \"ADM247AA5025EC9F2C8\", operator: like}) {\n",
    "    device_deploymentsFilter(pagination: {limit: 0}) {\n",
    "      date_deployment\n",
    "    }\n",
    "  }\n",
    "}\n",
    "```"
   ]
  },
  {
   "cell_type": "markdown",
   "id": "9c57ae23-e3e9-476b-bb78-d18b7495ef26",
   "metadata": {},
   "source": [
    "```\n",
    "{\n",
    "  \"data\": {\n",
    "    \"physical_devices\": [\n",
    "      {\n",
    "        \"device_deploymentsFilter\": [\n",
    "          {\n",
    "            \"date_deployment\": \"2021-10-22T18:40:00.000Z\"\n",
    "          },\n",
    "          {\n",
    "            \"date_deployment\": \"2021-08-12T00:02:00.000Z\"\n",
    "          }\n",
    "        ]\n",
    "      }\n",
    "    ]\n",
    "  }\n",
    "}\n",
    "```"
   ]
  },
  {
   "cell_type": "markdown",
   "id": "d505099c-eee0-47d0-96d9-7f2c8ffc3404",
   "metadata": {},
   "source": [
    "Then date of deployment is not in the range of dates when file was taken..."
   ]
  },
  {
   "cell_type": "markdown",
   "id": "33e26111-4860-46b9-a488-34048ad7c4d8",
   "metadata": {},
   "source": [
    "# For `/LUSTRE/sacmod/SIPECAM/Cumulo_32/fecha_entrga_28.Marzo.2022/visita_2/Noviembre_2021/4-32-1-1287/camaras/camara_02/DCIM/100RECNX` it was known that serial number is HLPXGM09049539"
   ]
  },
  {
   "cell_type": "markdown",
   "id": "428fcede-527a-422f-bd20-242b39513435",
   "metadata": {},
   "source": [
    "**Hardcoding code for this case...and rerunning clis**"
   ]
  },
  {
   "cell_type": "code",
   "execution_count": 1,
   "id": "2b58b084-30ed-449d-beab-eae2111d19b2",
   "metadata": {},
   "outputs": [],
   "source": [
    "%%bash\n",
    "dir_to_be_processed=\"/LUSTRE/sacmod/SIPECAM/Cumulo_32/fecha_entrga_28.Marzo.2022/visita_2/Noviembre_2021/4-32-1-1287/camaras/camara_02/DCIM/100RECNX\"\n",
    "extract_serial_numbers_dates_and_metadata_of_files_and_device --input_dir \"$dir_to_be_processed\" --parallel --number_of_processes 10"
   ]
  },
  {
   "cell_type": "code",
   "execution_count": 3,
   "id": "6b6f7901-db12-4d65-a97d-8516578b8a8d",
   "metadata": {},
   "outputs": [
    {
     "name": "stdout",
     "output_type": "stream",
     "text": [
      "{\n",
      "    \"MetadataDevice\": {\n",
      "        \"Make\": \"RECONYX\",\n",
      "        \"Model\": \"HF2 PRO COVERT\",\n",
      "        \"SerialNumber\": \"HLPXGM09049539\"\n",
      "    },\n",
      "    \"MetadataFiles\": {\n",
      "        \"/LUSTRE/sacmod/SIPECAM/Cumulo_32/fecha_entrga_28.Marzo.2022/visita_2/Noviembre_2021/4-32-1-1287/camaras/camara_02/DCIM/100RECNX/RCNX0012.AVI\": {\n",
      "            \"BitRate\": \"13.8 Mbit/sec\",\n",
      "            \"Endianness\": \"Little endian\",\n",
      "            \"VideoBitsPerPixel\": \"24\",\n",
      "            \"VideoCompression\": \"Motion JPEG DIB (fourcc:\\\"MJPG\\\")\",\n",
      "            \"AudioSampleRate\": \"16.0 kHz\",\n",
      "            \"AudioCompressionRate\": \"1.0x\",\n",
      "            \"AudioCompression\": \"Microsoft Pulse Code Modulation (PCM)\",\n",
      "            \"AudioBitRate\": \"256.4 Kbit/sec\",\n",
      "            \"FileSize\": \"12 MiB\",\n",
      "            \"DateTimeOriginal\": \"2021:10:30 17:32:39\",\n",
      "            \"BMPVersion\": \"Windows V3\",\n",
      "            \"ImageWidth\": 1024,\n",
      "            \"ImageHeight\": 720,\n",
      "            \"Planes\": 1,\n",
      "            \"ImageLength\": 2211840,\n",
      "            \"PixelsPerMeterX\": 0,\n",
      "            \"PixelsPerMeterY\": 0,\n",
      "            \"NumColors\": \"Use BitDepth\",\n",
      "            \"NumImportantColors\": \"All\",\n",
      "            \"FrameRate\": 12.5,\n",
      "            \"FrameCount\": 90,\n",
      "            \"StreamCount\": 2,\n",
      "            \"AudioSampleCount\": 0,\n",
      "            \"Encoding\": \"Microsoft PCM\",\n",
      "            \"NumChannels\": 1,\n",
      "            \"AvgBytesPerSec\": 32050,\n",
      "            \"BitsPerSample\": 16,\n",
      "            \"Duration\": \"7.20 s\",\n",
      "            \"MaxDataRate\": 26542080,\n",
      "            \"Megapixels\": 0.73728,\n",
      "            \"GPSLatitudeRef\": \"\",\n",
      "            \"GPSLongitudeRef\": \"\",\n",
      "            \"GPSLatitude\": \"\",\n",
      "            \"GPSLongitude\": \"\"\n",
      "        },\n",
      "        \"/LUSTRE/sacmod/SIPECAM/Cumulo_32/fecha_entrga_28.Marzo.2022/visita_2/Noviembre_2021/4-32-1-1287/camaras/camara_02/DCIM/100RECNX/RCNX0009.AVI\": {\n",
      "            \"BitRate\": \"14.4 Mbit/sec\",\n",
      "            \"Endianness\": \"Little endian\",\n",
      "            \"VideoBitsPerPixel\": \"24\",\n",
      "            \"VideoCompression\": \"Motion JPEG DIB (fourcc:\\\"MJPG\\\")\",\n",
      "            \"AudioSampleRate\": \"16.0 kHz\",\n",
      "            \"AudioCompressionRate\": \"1.0x\",\n",
      "            \"AudioCompression\": \"Microsoft Pulse Code Modulation (PCM)\",\n",
      "            \"AudioBitRate\": \"256.4 Kbit/sec\",\n",
      "            \"FileSize\": \"25 MiB\",\n",
      "            \"DateTimeOriginal\": \"2021:10:30 09:07:02\",\n",
      "            \"BMPVersion\": \"Windows V3\",\n",
      "            \"ImageWidth\": 1024,\n",
      "            \"ImageHeight\": 720,\n",
      "            \"Planes\": 1,\n",
      "            \"ImageLength\": 2211840,\n",
      "            \"PixelsPerMeterX\": 0,\n",
      "            \"PixelsPerMeterY\": 0,\n",
      "            \"NumColors\": \"Use BitDepth\",\n",
      "            \"NumImportantColors\": \"All\",\n",
      "            \"FrameRate\": 12.5,\n",
      "            \"FrameCount\": 181,\n",
      "            \"StreamCount\": 2,\n",
      "            \"AudioSampleCount\": 0,\n",
      "            \"Encoding\": \"Microsoft PCM\",\n",
      "            \"NumChannels\": 1,\n",
      "            \"AvgBytesPerSec\": 32050,\n",
      "            \"BitsPerSample\": 16,\n",
      "            \"Duration\": \"14.48 s\",\n",
      "            \"MaxDataRate\": 26542080,\n",
      "            \"Megapixels\": 0.73728,\n",
      "            \"GPSLatitudeRef\": \"\",\n",
      "            \"GPSLongitudeRef\": \"\",\n",
      "            \"GPSLatitude\": \"\",\n",
      "            \"GPSLongitude\": \"\"\n",
      "        },\n",
      "        \"/LUSTRE/sacmod/SIPECAM/Cumulo_32/fecha_entrga_28.Marzo.2022/visita_2/Noviembre_2021/4-32-1-1287/camaras/camara_02/DCIM/100RECNX/RCNX0020.AVI\": {\n",
      "            \"BitRate\": \"6.3 Mbit/sec\",\n",
      "            \"Endianness\": \"Little endian\",\n",
      "            \"VideoBitsPerPixel\": \"24\",\n",
      "            \"VideoCompression\": \"Motion JPEG DIB (fourcc:\\\"MJPG\\\")\",\n",
      "            \"AudioSampleRate\": \"16.0 kHz\",\n",
      "            \"AudioCompressionRate\": \"1.0x\",\n",
      "            \"AudioCompression\": \"Microsoft Pulse Code Modulation (PCM)\",\n",
      "            \"AudioBitRate\": \"256.4 Kbit/sec\",\n",
      "            \"FileSize\": \"3.9 MiB\",\n",
      "            \"DateTimeOriginal\": \"2021:11:07 03:29:09\",\n",
      "            \"BMPVersion\": \"Windows V3\",\n",
      "            \"ImageWidth\": 1024,\n",
      "            \"ImageHeight\": 720,\n",
      "            \"Planes\": 1,\n",
      "            \"ImageLength\": 2211840,\n",
      "            \"PixelsPerMeterX\": 0,\n",
      "            \"PixelsPerMeterY\": 0,\n",
      "            \"NumColors\": \"Use BitDepth\",\n",
      "            \"NumImportantColors\": \"All\",\n",
      "            \"FrameRate\": 12.5,\n"
     ]
    }
   ],
   "source": [
    "%%bash\n",
    "python3 -mjson.tool \"/LUSTRE/sacmod/SIPECAM/Cumulo_32/fecha_entrga_28.Marzo.2022/visita_2/Noviembre_2021/4-32-1-1287/camaras/camara_02/DCIM/100RECNX/100RECNX_simex_extract_serial_numbers_dates_and_metadata_of_files_and_device.json\"|head -n 100"
   ]
  },
  {
   "cell_type": "code",
   "execution_count": 6,
   "id": "56ddba33-707e-4b01-bb39-d7808418f3e3",
   "metadata": {},
   "outputs": [],
   "source": [
    "%%bash\n",
    "path_std_dir=/LUSTRE/sacmod/SIPECAM/data\n",
    "dir_to_be_processed=\"/LUSTRE/sacmod/SIPECAM/Cumulo_32/fecha_entrga_28.Marzo.2022/visita_2/Noviembre_2021/4-32-1-1287/camaras/camara_02/DCIM/100RECNX\"\n",
    "move_files_to_standard_directory --directory_with_file_of_serial_number_and_dates \"$dir_to_be_processed\" --path_for_standard_directory \"$path_std_dir\"\n"
   ]
  },
  {
   "cell_type": "code",
   "execution_count": 10,
   "id": "e67d4109-da59-4f91-b43b-1a7821dc05f3",
   "metadata": {},
   "outputs": [
    {
     "name": "stdout",
     "output_type": "stream",
     "text": [
      "2022-04-05 14:33:40,258 [INFO]  Dir /LUSTRE/sacmod/SIPECAM/Cumulo_32/fecha_entrga_28.Marzo.2022/visita_2/Noviembre_2021/4-32-1-1287/camaras/camara_02/DCIM/100RECNX has serial number HLPXGM09049539\n",
      "2022-04-05 14:33:40,259 [INFO]  File /LUSTRE/sacmod/SIPECAM/Cumulo_32/fecha_entrga_28.Marzo.2022/visita_2/Noviembre_2021/4-32-1-1287/camaras/camara_02/DCIM/100RECNX/RCNX0001.AVI has date 2021-10-22\n",
      "2022-04-05 14:33:40,259 [INFO]  File /LUSTRE/sacmod/SIPECAM/Cumulo_32/fecha_entrga_28.Marzo.2022/visita_2/Noviembre_2021/4-32-1-1287/camaras/camara_02/DCIM/100RECNX/RCNX0028.AVI has date 2021-11-19\n",
      "2022-04-05 14:33:40,259 [INFO]  DaysBetweenFirstAndLastDate: 28\n",
      "2022-04-05 14:33:40,430 [INFO]  Query to Zendro GQL: query {\n",
      "  physical_devices(pagination: {limit: 0}, search: {field: serial_number, value: \"HLPXGM09049539\", operator: like}) {\n",
      "    device_deploymentsFilter(pagination: {limit: 0}, search: {operator: and, search: [{field: date_deployment, value: \"2021-10-22\", valueType: String, operator: gte}, {field: date_deployment, value: \"2021-11-19\", valueType: String, operator: lte}]}) {\n",
      "      node {\n",
      "        nomenclatura\n",
      "        cat_integr\n",
      "        ecosystems {\n",
      "          name\n",
      "        }\n",
      "      }\n",
      "      cumulus {\n",
      "        name\n",
      "        geometry\n",
      "      }\n",
      "      date_deployment\n",
      "      latitude\n",
      "      longitude\n",
      "    }\n",
      "  }\n",
      "}\n",
      "2022-04-05 14:33:40,431 [INFO]  SUCCESSFUL extraction of nomenclature of node, cumulus name and date of deployment\n",
      "2022-04-05 14:33:40,431 [INFO]  directory /LUSTRE/sacmod/SIPECAM/Cumulo_32/fecha_entrga_28.Marzo.2022/visita_2/Noviembre_2021/4-32-1-1287/camaras/camara_02/DCIM/100RECNX has nom node: 4_32_1_1286, cum name: 32, date of depl: 2021-10-22, ecosystems name: Selvas secas,                          latitude and longitude of device:  18.4086522, -99.0328611, node category of integrity: Integro\n",
      "2022-04-05 14:33:40,431 [INFO]  compute centroid of cumulus\n",
      "2022-04-05 14:33:40,432 [INFO]  Centroid of cumulus, lat: 18.42113, long: -99.09369\n",
      "2022-04-05 14:33:40,432 [INFO]  Validating lat and long of device are correct using lat long of cumulus centroid\n",
      "2022-04-05 14:33:40,432 [INFO]  Latitude and Longitude of device are in cumulus geometry\n",
      "2022-04-05 14:33:40,433 [INFO]  filling dict MetadataDevice using query results from Zendro\n",
      "2022-04-05 14:33:40,433 [INFO]  path where files will be moved: /LUSTRE/sacmod/SIPECAM/data/32/4_32_1_1286/HLPXGM09049539/2021-10-22\n",
      "2022-04-05 14:33:40,493 [INFO]  File /LUSTRE/sacmod/SIPECAM/Cumulo_32/fecha_entrga_28.Marzo.2022/visita_2/Noviembre_2021/4-32-1-1287/camaras/camara_02/DCIM/100RECNX/RCNX0012.AVI will be moved to: /LUSTRE/sacmod/SIPECAM/data/32/4_32_1_1286/HLPXGM09049539/2021-10-22/images_videos with name 33dddfc441f9b780dcd79e85bf2c3d0b_0012.AVI\n",
      "2022-04-05 14:33:40,494 [INFO]  GPS info of files werent available, using the ones of device to fill them\n",
      "2022-04-05 14:33:40,494 [INFO]  Validating lat and long of file are correct using lat long of cumulus centroid\n",
      "2022-04-05 14:33:40,494 [INFO]  Latitude and Longitude of file are in cumulus geometry\n",
      "2022-04-05 14:33:40,494 [INFO]  Writing lat long of centroid of cumulus for MetadataFiles\n",
      "2022-04-05 14:33:40,576 [INFO]  File /LUSTRE/sacmod/SIPECAM/Cumulo_32/fecha_entrga_28.Marzo.2022/visita_2/Noviembre_2021/4-32-1-1287/camaras/camara_02/DCIM/100RECNX/RCNX0009.AVI will be moved to: /LUSTRE/sacmod/SIPECAM/data/32/4_32_1_1286/HLPXGM09049539/2021-10-22/images_videos with name d064bfc6843223c48e63cc6a58ee9375_0009.AVI\n",
      "2022-04-05 14:33:40,576 [INFO]  GPS info of files werent available, using the ones of device to fill them\n",
      "2022-04-05 14:33:40,576 [INFO]  Validating lat and long of file are correct using lat long of cumulus centroid\n",
      "2022-04-05 14:33:40,577 [INFO]  Latitude and Longitude of file are in cumulus geometry\n",
      "2022-04-05 14:33:40,577 [INFO]  Writing lat long of centroid of cumulus for MetadataFiles\n",
      "2022-04-05 14:33:40,591 [INFO]  File /LUSTRE/sacmod/SIPECAM/Cumulo_32/fecha_entrga_28.Marzo.2022/visita_2/Noviembre_2021/4-32-1-1287/camaras/camara_02/DCIM/100RECNX/RCNX0020.AVI will be moved to: /LUSTRE/sacmod/SIPECAM/data/32/4_32_1_1286/HLPXGM09049539/2021-10-22/images_videos with name f5b176a9905660f937612646e89bb8db_0020.AVI\n",
      "2022-04-05 14:33:40,591 [INFO]  GPS info of files werent available, using the ones of device to fill them\n",
      "2022-04-05 14:33:40,592 [INFO]  Validating lat and long of file are correct using lat long of cumulus centroid\n",
      "2022-04-05 14:33:40,592 [INFO]  Latitude and Longitude of file are in cumulus geometry\n",
      "2022-04-05 14:33:40,592 [INFO]  Writing lat long of centroid of cumulus for MetadataFiles\n",
      "2022-04-05 14:33:40,624 [INFO]  File /LUSTRE/sacmod/SIPECAM/Cumulo_32/fecha_entrga_28.Marzo.2022/visita_2/Noviembre_2021/4-32-1-1287/camaras/camara_02/DCIM/100RECNX/RCNX0027.AVI will be moved to: /LUSTRE/sacmod/SIPECAM/data/32/4_32_1_1286/HLPXGM09049539/2021-10-22/images_videos with name aed0938c234e70e4270ff1a3ff5d8ced_0027.AVI\n",
      "2022-04-05 14:33:40,624 [INFO]  GPS info of files werent available, using the ones of device to fill them\n",
      "2022-04-05 14:33:40,624 [INFO]  Validating lat and long of file are correct using lat long of cumulus centroid\n",
      "2022-04-05 14:33:40,624 [INFO]  Latitude and Longitude of file are in cumulus geometry\n",
      "2022-04-05 14:33:40,625 [INFO]  Writing lat long of centroid of cumulus for MetadataFiles\n",
      "2022-04-05 14:33:40,638 [INFO]  File /LUSTRE/sacmod/SIPECAM/Cumulo_32/fecha_entrga_28.Marzo.2022/visita_2/Noviembre_2021/4-32-1-1287/camaras/camara_02/DCIM/100RECNX/RCNX0003.AVI will be moved to: /LUSTRE/sacmod/SIPECAM/data/32/4_32_1_1286/HLPXGM09049539/2021-10-22/images_videos with name 6d9209982c65b021aa0b71443f018962_0003.AVI\n",
      "2022-04-05 14:33:40,639 [INFO]  GPS info of files werent available, using the ones of device to fill them\n",
      "2022-04-05 14:33:40,639 [INFO]  Validating lat and long of file are correct using lat long of cumulus centroid\n",
      "2022-04-05 14:33:40,639 [INFO]  Latitude and Longitude of file are in cumulus geometry\n",
      "2022-04-05 14:33:40,639 [INFO]  Writing lat long of centroid of cumulus for MetadataFiles\n",
      "2022-04-05 14:33:40,689 [INFO]  File /LUSTRE/sacmod/SIPECAM/Cumulo_32/fecha_entrga_28.Marzo.2022/visita_2/Noviembre_2021/4-32-1-1287/camaras/camara_02/DCIM/100RECNX/RCNX0013.AVI will be moved to: /LUSTRE/sacmod/SIPECAM/data/32/4_32_1_1286/HLPXGM09049539/2021-10-22/images_videos with name 83fada5d4d345d01aa75834a9747d7f8_0013.AVI\n",
      "2022-04-05 14:33:40,689 [INFO]  GPS info of files werent available, using the ones of device to fill them\n",
      "2022-04-05 14:33:40,690 [INFO]  Validating lat and long of file are correct using lat long of cumulus centroid\n"
     ]
    }
   ],
   "source": [
    "%%bash\n",
    "f=\"/LUSTRE/sacmod/SIPECAM/Cumulo_32/fecha_entrga_28.Marzo.2022/visita_2/Noviembre_2021/4-32-1-1287/camaras/camara_02/DCIM/100RECNX/logs_simex_move_files_to_standard_directory.logs\"\n",
    "head -n 60 \"$f\""
   ]
  }
 ],
 "metadata": {
  "kernelspec": {
   "display_name": "Python 3 (ipykernel)",
   "language": "python",
   "name": "python3"
  },
  "language_info": {
   "codemirror_mode": {
    "name": "ipython",
    "version": 3
   },
   "file_extension": ".py",
   "mimetype": "text/x-python",
   "name": "python",
   "nbconvert_exporter": "python",
   "pygments_lexer": "ipython3",
   "version": "3.8.10"
  }
 },
 "nbformat": 4,
 "nbformat_minor": 5
}
