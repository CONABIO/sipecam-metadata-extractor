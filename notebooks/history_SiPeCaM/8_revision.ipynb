{
 "cells": [
  {
   "cell_type": "markdown",
   "id": "408682ca-1bb8-4a5a-95f1-bd63931d0e51",
   "metadata": {},
   "source": [
    "# Revision of [16-07-2022](https://github.com/CONABIO/sipecam-metadata-extractor/blob/develop/notebooks/history_SiPeCaM/4_07-2022/16-07-2022.ipynb)"
   ]
  },
  {
   "cell_type": "markdown",
   "id": "62cadb98-8a83-48a7-a782-e57987f4c08a",
   "metadata": {},
   "source": [
    "# 1)"
   ]
  },
  {
   "cell_type": "markdown",
   "id": "201a2912-dc5a-4106-a4aa-28b16b3beafa",
   "metadata": {},
   "source": [
    "`/LUSTRE/sacmod/SIPECAM/cumulo_31/entrega_09.junio.2022/Nodo-31-Atoyac/Audiomoth-1-31-0-1218-los valles/10306795`"
   ]
  },
  {
   "cell_type": "markdown",
   "id": "00a04d5d-69d8-4869-8655-b4f6f44a3fa5",
   "metadata": {},
   "source": [
    "Inicio:\n",
    "\n",
    "2021-12-08\n",
    "\n",
    "Fin:\n",
    "\n",
    "2022-01-14"
   ]
  },
  {
   "cell_type": "markdown",
   "id": "15b5b6ea-4dcf-4e4d-9b69-e5f91b85485f",
   "metadata": {},
   "source": [
    "```\n",
    "query {\n",
    "  physical_devices(pagination: {limit: 0}, search: {field: comments, value: \"ADM248D9B0260371FD2\", operator: like}) {\n",
    "    device_deploymentsFilter(pagination: {limit: 0}) {\n",
    "      date_deployment\n",
    "    }\n",
    "  }\n",
    "}\n",
    "```\n",
    "\n",
    "\n",
    "```\n",
    "{\n",
    "  \"data\": {\n",
    "    \"physical_devices\": [\n",
    "      {\n",
    "        \"device_deploymentsFilter\": [\n",
    "          {\n",
    "            \"date_deployment\": \"2021-11-06T16:48:00.000Z\"\n",
    "          },\n",
    "          {\n",
    "            \"date_deployment\": \"2022-02-22T18:35:00.000Z\"\n",
    "          },\n",
    "          {\n",
    "            \"date_deployment\": \"2022-05-04T14:31:00.000Z\"\n",
    "          },\n",
    "          {\n",
    "            \"date_deployment\": \"2022-06-16T16:17:00.000Z\"\n",
    "          }\n",
    "        ]\n",
    "      }\n",
    "    ]\n",
    "  }\n",
    "}\n",
    "```"
   ]
  },
  {
   "cell_type": "markdown",
   "id": "bd32b92a-bfe3-4a03-8e26-0123a5985489",
   "metadata": {},
   "source": [
    "**Se debe asignar `2021-11-06` como fecha de despliegue?**"
   ]
  },
  {
   "cell_type": "markdown",
   "id": "faec7b03-cd85-4996-94b0-34120fdefa9d",
   "metadata": {},
   "source": [
    "# 2)"
   ]
  },
  {
   "cell_type": "markdown",
   "id": "6332233d-d51c-48d8-bd14-22f94e596940",
   "metadata": {},
   "source": [
    "`/LUSTRE/sacmod/SIPECAM/cumulo_31/entrega_09.junio.2022/Nodo-31-Atoyac/Audiomoth-1-31-0-1218-los valles/10306520`"
   ]
  },
  {
   "cell_type": "markdown",
   "id": "91008bff-e3e5-455c-a84b-9905e1c4d40c",
   "metadata": {},
   "source": [
    "**No hay formularios asociados**"
   ]
  },
  {
   "cell_type": "markdown",
   "id": "bca6f35d-9f4c-4f8e-bb42-a22004b0d667",
   "metadata": {},
   "source": [
    "```\n",
    "query {\n",
    "  physical_devices(pagination: {limit: 0}, search: {field: comments, value: \"ADM248D9B0260371F39\", operator: like}) {\n",
    "    device_deploymentsFilter(pagination: {limit: 0}) {\n",
    "      date_deployment\n",
    "    }\n",
    "  }\n",
    "}\n",
    "```\n",
    "\n",
    "```\n",
    "{\n",
    "  \"data\": {\n",
    "    \"physical_devices\": [\n",
    "      {\n",
    "        \"device_deploymentsFilter\": []\n",
    "      }\n",
    "    ]\n",
    "  }\n",
    "}\n",
    "```"
   ]
  },
  {
   "cell_type": "markdown",
   "id": "c6837178-134c-41eb-b1d9-f79233921c1c",
   "metadata": {},
   "source": [
    "# 3)"
   ]
  },
  {
   "cell_type": "markdown",
   "id": "16504ebf-1a65-422d-a7b9-a9169b179db7",
   "metadata": {},
   "source": [
    "`/LUSTRE/sacmod/SIPECAM/cumulo_31/entrega_09.junio.2022/Nodo-31-Atoyac/Audiomoth-1-31-0-1218-los valles/10305652`"
   ]
  },
  {
   "cell_type": "markdown",
   "id": "ea79297d-7ef6-4b9f-8b15-5e638cf7776f",
   "metadata": {},
   "source": [
    "Inicio:\n",
    "\n",
    "2021-12-08\n",
    "\n",
    "Fin:\n",
    "\n",
    "2022-01-05\n"
   ]
  },
  {
   "cell_type": "markdown",
   "id": "00ef4436-e4d4-4901-8a17-0f82e619c037",
   "metadata": {},
   "source": [
    "```\n",
    "query {\n",
    "  physical_devices(pagination: {limit: 0}, search: {field: comments, value: \"ADM24F31901603734A9\", operator: like}) {\n",
    "    device_deploymentsFilter(pagination: {limit: 0}) {\n",
    "      date_deployment\n",
    "    }\n",
    "  }\n",
    "}\n",
    "```\n",
    "\n",
    "```\n",
    "{\n",
    "  \"data\": {\n",
    "    \"physical_devices\": [\n",
    "      {\n",
    "        \"device_deploymentsFilter\": [\n",
    "          {\n",
    "            \"date_deployment\": \"2021-11-06T16:48:00.000Z\"\n",
    "          },\n",
    "          {\n",
    "            \"date_deployment\": \"2022-02-24T19:36:00.000Z\"\n",
    "          },\n",
    "          {\n",
    "            \"date_deployment\": \"2022-05-02T17:29:00.000Z\"\n",
    "          },\n",
    "          {\n",
    "            \"date_deployment\": \"2022-06-16T16:17:00.000Z\"\n",
    "          }\n",
    "        ]\n",
    "      }\n",
    "    ]\n",
    "  }\n",
    "}\n",
    "```"
   ]
  },
  {
   "cell_type": "markdown",
   "id": "0273521b-e5ff-4bc3-b714-c6385b86b57c",
   "metadata": {},
   "source": [
    "**Se debe asignar `2021-11-06` como fecha de despliegue?**"
   ]
  },
  {
   "cell_type": "markdown",
   "id": "f08914fa-ee2e-4cc2-a330-4c3236ee629c",
   "metadata": {},
   "source": [
    "# 4)"
   ]
  },
  {
   "cell_type": "markdown",
   "id": "5e73b09a-220f-4573-a44d-b5cd8e80ee96",
   "metadata": {},
   "source": [
    "`/LUSTRE/sacmod/SIPECAM/cumulo_31/entrega_09.junio.2022/Nodo-31-Atoyac/El ranchito-1-31-1-1210/50019`"
   ]
  },
  {
   "cell_type": "markdown",
   "id": "3a9a70dd-1e9f-4409-99d4-0fb90166705d",
   "metadata": {},
   "source": [
    "Inicio:\n",
    "\n",
    "2022-01-16\n",
    "\n",
    "Fin:\n",
    "\n",
    "2022-02-21\n"
   ]
  },
  {
   "cell_type": "markdown",
   "id": "f5707cff-44f9-4639-ae45-8c94789cb7a3",
   "metadata": {},
   "source": [
    "```\n",
    "query {\n",
    "  physical_devices(pagination: {limit: 0}, search: {field: serial_number, value: \"HLPXGM09050019\", operator: like}) {\n",
    "    device_deploymentsFilter(pagination: {limit: 0}) {\n",
    "      date_deployment\n",
    "    }\n",
    "  }\n",
    "}\n",
    "```\n",
    "\n",
    "```\n",
    "{\n",
    "  \"data\": {\n",
    "    \"physical_devices\": [\n",
    "      {\n",
    "        \"device_deploymentsFilter\": [\n",
    "          {\n",
    "            \"date_deployment\": \"2021-11-07T23:03:00.000Z\"\n",
    "          },\n",
    "          {\n",
    "            \"date_deployment\": \"2022-02-23T17:12:00.000Z\"\n",
    "          },\n",
    "          {\n",
    "            \"date_deployment\": \"2022-05-02T19:20:00.000Z\"\n",
    "          },\n",
    "          {\n",
    "            \"date_deployment\": \"2022-06-17T13:08:00.000Z\"\n",
    "          }\n",
    "        ]\n",
    "      }\n",
    "    ]\n",
    "  }\n",
    "}\n",
    "```"
   ]
  },
  {
   "cell_type": "markdown",
   "id": "e490608b-7a3e-4637-b62b-4f144e18a59c",
   "metadata": {},
   "source": [
    "**Se debe asignar `2021-11-07` como fecha de despliegue?**"
   ]
  },
  {
   "cell_type": "markdown",
   "id": "baaaa3cf-e318-4903-b147-8d7e4312de96",
   "metadata": {},
   "source": [
    "# 5)"
   ]
  },
  {
   "cell_type": "markdown",
   "id": "4d003b62-0173-486a-a151-1b3628d47c7c",
   "metadata": {},
   "source": [
    "`/LUSTRE/sacmod/SIPECAM/cumulo_31/entrega_09.junio.2022/Nodo-31-Atoyac/El ranchito-1-31-1-1210/48869`"
   ]
  },
  {
   "cell_type": "markdown",
   "id": "9f9218a5-4796-4aed-bf3b-9390d25ea40a",
   "metadata": {},
   "source": [
    "Inicio:\n",
    "\n",
    "2022-01-17\n",
    "\n",
    "Fin:\n",
    "\n",
    "2022-02-21\n"
   ]
  },
  {
   "cell_type": "markdown",
   "id": "136d329d-6356-46c2-a303-bd20e7266624",
   "metadata": {},
   "source": [
    "```\n",
    "query {\n",
    "  physical_devices(pagination: {limit: 0}, search: {field: serial_number, value: \"HLPXGM09048869\", operator: like}) {\n",
    "    device_deploymentsFilter(pagination: {limit: 0}) {\n",
    "      date_deployment\n",
    "    }\n",
    "  }\n",
    "}\n",
    "```\n",
    "\n",
    "```\n",
    "{\n",
    "  \"data\": {\n",
    "    \"physical_devices\": [\n",
    "      {\n",
    "        \"device_deploymentsFilter\": [\n",
    "          {\n",
    "            \"date_deployment\": \"2021-11-06T15:56:00.000Z\"\n",
    "          },\n",
    "          {\n",
    "            \"date_deployment\": \"2022-02-22T18:08:00.000Z\"\n",
    "          },\n",
    "          {\n",
    "            \"date_deployment\": \"2022-05-02T23:01:00.000Z\"\n",
    "          },\n",
    "          {\n",
    "            \"date_deployment\": \"2022-06-17T15:47:00.000Z\"\n",
    "          }\n",
    "        ]\n",
    "      }\n",
    "    ]\n",
    "  }\n",
    "}\n",
    "```"
   ]
  },
  {
   "cell_type": "markdown",
   "id": "a22ef12a-36a4-4178-9090-9ef32fe526f8",
   "metadata": {},
   "source": [
    "**Se debe asignar `2021-11-06` como fecha de despliegue?**"
   ]
  },
  {
   "cell_type": "markdown",
   "id": "697f3ff9-77cd-4add-9517-d413327a20b2",
   "metadata": {},
   "source": [
    "# 6)"
   ]
  },
  {
   "cell_type": "markdown",
   "id": "b3f11090-1d38-4c13-9154-334892bf572d",
   "metadata": {},
   "source": [
    "`/LUSTRE/sacmod/SIPECAM/cumulo_31/entrega_09.junio.2022/Nodo-31-Atoyac/El ranchito-1-31-1-1210/49878`"
   ]
  },
  {
   "cell_type": "markdown",
   "id": "c42aa1d5-619c-4dbd-9bd7-cdf4862c26f2",
   "metadata": {},
   "source": [
    "Inicio:\n",
    "\n",
    "2022-01-15\n",
    "\n",
    "Fin:\n",
    "\n",
    "2022-02-21"
   ]
  },
  {
   "cell_type": "markdown",
   "id": "3ec5a6a1-ac49-403d-8c8f-1ce651437698",
   "metadata": {},
   "source": [
    "```\n",
    "query {\n",
    "  physical_devices(pagination: {limit: 0}, search: {field: serial_number, value: \"HLPXGM09049878\", operator: like}) {\n",
    "    device_deploymentsFilter(pagination: {limit: 0}) {\n",
    "      date_deployment\n",
    "    }\n",
    "  }\n",
    "}\n",
    "```\n",
    "\n",
    "```\n",
    "{\n",
    "  \"data\": {\n",
    "    \"physical_devices\": [\n",
    "      {\n",
    "        \"device_deploymentsFilter\": [\n",
    "          {\n",
    "            \"date_deployment\": \"2021-11-06T19:44:00.000Z\"\n",
    "          },\n",
    "          {\n",
    "            \"date_deployment\": \"2022-02-24T17:05:00.000Z\"\n",
    "          },\n",
    "          {\n",
    "            \"date_deployment\": \"2022-05-02T17:16:00.000Z\"\n",
    "          },\n",
    "          {\n",
    "            \"date_deployment\": \"2022-06-17T18:32:00.000Z\"\n",
    "          }\n",
    "        ]\n",
    "      }\n",
    "    ]\n",
    "  }\n",
    "}\n",
    "```"
   ]
  },
  {
   "cell_type": "markdown",
   "id": "2265ebe4-7a6b-4e29-960a-bc58fb9fd74b",
   "metadata": {},
   "source": [
    "**Se debe asignar `2021-11-06` como fecha de despliegue?**"
   ]
  },
  {
   "cell_type": "markdown",
   "id": "d880473b-300f-43bc-8dcb-361bd20bbd53",
   "metadata": {},
   "source": [
    "# 7)"
   ]
  },
  {
   "cell_type": "markdown",
   "id": "a86c7276-7fa5-4eb3-888e-3b7ca8f4da34",
   "metadata": {},
   "source": [
    "`/LUSTRE/sacmod/SIPECAM/cumulo_31/entrega_09.junio.2022/Nodo-31-Atoyac/El ranchito-1-31-1-1210/50016`"
   ]
  },
  {
   "cell_type": "markdown",
   "id": "901429aa-7ecd-4a0c-b258-bc76a46191f8",
   "metadata": {},
   "source": [
    "Inicio:\n",
    "\n",
    "2022-01-15\n",
    "\n",
    "Fin:\n",
    "\n",
    "2022-02-21"
   ]
  },
  {
   "cell_type": "markdown",
   "id": "a3dce5a4-0d01-48d9-a665-6192b8e6db3e",
   "metadata": {},
   "source": [
    "```\n",
    "query {\n",
    "  physical_devices(pagination: {limit: 0}, search: {field: serial_number, value: \"HLPXGM09050016\", operator: like}) {\n",
    "    device_deploymentsFilter(pagination: {limit: 0}) {\n",
    "      date_deployment\n",
    "    }\n",
    "  }\n",
    "}\n",
    "```\n",
    "\n",
    "```\n",
    "{\n",
    "  \"data\": {\n",
    "    \"physical_devices\": [\n",
    "      {\n",
    "        \"device_deploymentsFilter\": [\n",
    "          {\n",
    "            \"date_deployment\": \"2021-11-07T21:49:00.000Z\"\n",
    "          },\n",
    "          {\n",
    "            \"date_deployment\": \"2022-02-24T19:24:00.000Z\"\n",
    "          },\n",
    "          {\n",
    "            \"date_deployment\": \"2022-05-02T21:06:00.000Z\"\n",
    "          },\n",
    "          {\n",
    "            \"date_deployment\": \"2022-06-17T17:24:00.000Z\"\n",
    "          }\n",
    "        ]\n",
    "      }\n",
    "    ]\n",
    "  }\n",
    "}\n",
    "```"
   ]
  },
  {
   "cell_type": "markdown",
   "id": "5bd1f37d-bf81-4faf-acc6-276bdeb8c7d0",
   "metadata": {},
   "source": [
    "**Se debe asignar `2021-11-07` como fecha de despliegue?**"
   ]
  },
  {
   "cell_type": "markdown",
   "id": "b66fc351-462f-4e84-97bd-f2c93c6e3794",
   "metadata": {},
   "source": [
    "# 8)"
   ]
  },
  {
   "cell_type": "markdown",
   "id": "aaf8b3d5-7439-458b-b7a0-b83b146c653e",
   "metadata": {},
   "source": [
    "`/LUSTRE/sacmod/SIPECAM/cumulo_31/entrega_09.junio.2022/Nodo-31-Atoyac/Rio-Verde-1-31-1-1211/49481/DCIM/101RECNX`"
   ]
  },
  {
   "cell_type": "markdown",
   "id": "ba2bdf3e-b5f9-4ae8-9bea-91ff7b40c8ea",
   "metadata": {},
   "source": [
    "Inicio:\n",
    "\n",
    "2021-11-13\n",
    "\n",
    "Fin:\n",
    "\n",
    "2021-12-08"
   ]
  },
  {
   "cell_type": "markdown",
   "id": "c0dc30c3-f686-43b5-bf14-9f525a503e88",
   "metadata": {},
   "source": [
    "```\n",
    "query {\n",
    "  physical_devices(pagination: {limit: 0}, search: {field: serial_number, value: \"HLPXGM09049481\", operator: like}) {\n",
    "    device_deploymentsFilter(pagination: {limit: 0}) {\n",
    "      date_deployment\n",
    "    }\n",
    "  }\n",
    "}\n",
    "```\n",
    "\n",
    "```\n",
    "{\n",
    "  \"data\": {\n",
    "    \"physical_devices\": [\n",
    "      {\n",
    "        \"device_deploymentsFilter\": [\n",
    "          {\n",
    "            \"date_deployment\": \"2021-12-09T22:13:00.000Z\"\n",
    "          },\n",
    "          {\n",
    "            \"date_deployment\": \"2022-01-15T20:26:00.000Z\"\n",
    "          },\n",
    "          {\n",
    "            \"date_deployment\": \"2022-05-02T17:33:00.000Z\"\n",
    "          },\n",
    "          {\n",
    "            \"date_deployment\": \"2022-02-22T16:24:00.000Z\"\n",
    "          },\n",
    "          {\n",
    "            \"date_deployment\": \"2022-06-16T18:38:00.000Z\"\n",
    "          }\n",
    "        ]\n",
    "      }\n",
    "    ]\n",
    "  }\n",
    "}\n",
    "```"
   ]
  },
  {
   "cell_type": "markdown",
   "id": "4d924da6-4f30-4d14-b9f1-22cbb806d2b1",
   "metadata": {},
   "source": [
    "**Las fechas de toma de archivo no caen con la del despliegue de dispositivo**"
   ]
  },
  {
   "cell_type": "markdown",
   "id": "f83eb278-10e8-4312-95c9-2336969f5fbb",
   "metadata": {},
   "source": [
    "# 9)"
   ]
  },
  {
   "cell_type": "markdown",
   "id": "2f2a9d79-8de5-42da-8e70-8f2b3aed775e",
   "metadata": {},
   "source": [
    "`/LUSTRE/sacmod/SIPECAM/cumulo_31/entrega_09.junio.2022/Nodo-31-Atoyac/Rio-Verde-1-31-1-1211/49481/DCIM/100RECNX`"
   ]
  },
  {
   "cell_type": "markdown",
   "id": "182153be-3668-414a-86c7-2ac06488830c",
   "metadata": {},
   "source": [
    "Inicio:\n",
    "\n",
    "2021-11-06\n",
    "\n",
    "Fin:\n",
    "\n",
    "2021-11-08"
   ]
  },
  {
   "cell_type": "markdown",
   "id": "8d12ed3b-9921-4ff2-85ce-d13e1f424f44",
   "metadata": {},
   "source": [
    "```\n",
    "query {\n",
    "  physical_devices(pagination: {limit: 0}, search: {field: serial_number, value: \"HLPXGM09049481\", operator: like}) {\n",
    "    device_deploymentsFilter(pagination: {limit: 0}) {\n",
    "      date_deployment\n",
    "    }\n",
    "  }\n",
    "}\n",
    "```\n",
    "\n",
    "```\n",
    "{\n",
    "  \"data\": {\n",
    "    \"physical_devices\": [\n",
    "      {\n",
    "        \"device_deploymentsFilter\": [\n",
    "          {\n",
    "            \"date_deployment\": \"2021-12-09T22:13:00.000Z\"\n",
    "          },\n",
    "          {\n",
    "            \"date_deployment\": \"2022-01-15T20:26:00.000Z\"\n",
    "          },\n",
    "          {\n",
    "            \"date_deployment\": \"2022-05-02T17:33:00.000Z\"\n",
    "          },\n",
    "          {\n",
    "            \"date_deployment\": \"2022-02-22T16:24:00.000Z\"\n",
    "          },\n",
    "          {\n",
    "            \"date_deployment\": \"2022-06-16T18:38:00.000Z\"\n",
    "          }\n",
    "        ]\n",
    "      }\n",
    "    ]\n",
    "  }\n",
    "}\n",
    "```"
   ]
  },
  {
   "cell_type": "markdown",
   "id": "e961bf27-420c-43b4-a2bc-a4a6251afdb0",
   "metadata": {},
   "source": [
    "**Las fechas de toma de archivo no caen con la del despliegue de dispositivo**"
   ]
  },
  {
   "cell_type": "markdown",
   "id": "805eac5f-adbb-4629-ab3b-9f0718ae5f13",
   "metadata": {},
   "source": [
    "# 10)"
   ]
  },
  {
   "cell_type": "markdown",
   "id": "c8c6b7d6-b0d7-41fa-b8b9-04072357029e",
   "metadata": {},
   "source": [
    "`/LUSTRE/sacmod/SIPECAM/cumulo_31/entrega_09.junio.2022/Nodo-31-Atoyac/Rio-Verde-1-31-1-1211/49997/DCIM/101RECNX`"
   ]
  },
  {
   "cell_type": "markdown",
   "id": "8ebcf1fe-19e9-4482-a2cd-bb8ab0812a19",
   "metadata": {},
   "source": [
    "**Dir only have 2 images and one video and they include people**"
   ]
  },
  {
   "cell_type": "markdown",
   "id": "fb47ffdf-afbc-47c5-b8dc-64cfcc2e98f9",
   "metadata": {},
   "source": [
    "# 11)"
   ]
  },
  {
   "cell_type": "markdown",
   "id": "1d159b20-bf2f-416a-a84f-178da3b05408",
   "metadata": {},
   "source": [
    "`/LUSTRE/sacmod/SIPECAM/cumulo_31/entrega_09.junio.2022/Nodo-31-Atoyac/Rio-Verde-1-31-1-1211/49997/DCIM/102RECNX`"
   ]
  },
  {
   "cell_type": "markdown",
   "id": "d4842355-2384-4f29-828e-7fd75b335377",
   "metadata": {},
   "source": [
    "Inicio:\n",
    "\n",
    "2021-11-06\n",
    "\n",
    "Fin:\n",
    "\n",
    "2021-12-07"
   ]
  },
  {
   "cell_type": "markdown",
   "id": "ace19de7-4834-4ec6-93f4-22c1eac767de",
   "metadata": {},
   "source": [
    "```\n",
    "query {\n",
    "  physical_devices(pagination: {limit: 0}, search: {field: serial_number, value: \"HLPXGM09049997\", operator: like}) {\n",
    "    device_deploymentsFilter(pagination: {limit: 0}) {\n",
    "      date_deployment\n",
    "    }\n",
    "  }\n",
    "}\n",
    "```\n",
    "\n",
    "```\n",
    "{\n",
    "  \"data\": {\n",
    "    \"physical_devices\": [\n",
    "      {\n",
    "        \"device_deploymentsFilter\": [\n",
    "          {\n",
    "            \"date_deployment\": \"2021-12-09T19:35:00.000Z\"\n",
    "          },\n",
    "          {\n",
    "            \"date_deployment\": \"2022-01-15T17:42:00.000Z\"\n",
    "          },\n",
    "          {\n",
    "            \"date_deployment\": \"2022-05-02T14:26:00.000Z\"\n",
    "          },\n",
    "          {\n",
    "            \"date_deployment\": \"2022-02-23T19:20:00.000Z\"\n",
    "          },\n",
    "          {\n",
    "            \"date_deployment\": \"2022-06-18T17:00:00.000Z\"\n",
    "          }\n",
    "        ]\n",
    "      }\n",
    "    ]\n",
    "  }\n",
    "}\n",
    "```"
   ]
  },
  {
   "cell_type": "markdown",
   "id": "7efe69e3-feed-47af-ae51-0a3552c0f93a",
   "metadata": {},
   "source": [
    "**Las fechas de toma de archivo no caen con la del despliegue de dispositivo**"
   ]
  },
  {
   "cell_type": "markdown",
   "id": "e44698c6-f281-43b8-bd32-e1f2f290374e",
   "metadata": {},
   "source": [
    "# 12)"
   ]
  },
  {
   "cell_type": "markdown",
   "id": "cf6c374e-0541-450b-82ec-3f1b3ac6579a",
   "metadata": {},
   "source": [
    "`/LUSTRE/sacmod/SIPECAM/cumulo_31/entrega_09.junio.2022/Nodo-31-Atoyac/Rio-Verde-1-31-1-1211/49997/DCIM/100RECNX`"
   ]
  },
  {
   "cell_type": "markdown",
   "id": "e318cd46-8f6d-4581-9b6a-826f11c51aa9",
   "metadata": {},
   "source": [
    "**Dir only have 3 images and and they include people**"
   ]
  },
  {
   "cell_type": "markdown",
   "id": "7eb028bd-3747-4992-bfa6-44361a0f65b0",
   "metadata": {},
   "source": [
    "# 13)"
   ]
  },
  {
   "cell_type": "markdown",
   "id": "df6a69fd-3880-45b8-832f-90a4eb7241f0",
   "metadata": {},
   "source": [
    "`/LUSTRE/sacmod/SIPECAM/cumulo_31/entrega_09.junio.2022/Nodo-31-Atoyac/Rio-Verde-1-31-1-1211/48325/DCIM/100RECNX`"
   ]
  },
  {
   "cell_type": "markdown",
   "id": "9447bfab-b614-443f-b5c9-bb3edefe996f",
   "metadata": {},
   "source": [
    "Inicio:\n",
    "\n",
    "2021-11-08\n",
    "\n",
    "Fin:\n",
    "\n",
    "2021-12-04"
   ]
  },
  {
   "cell_type": "markdown",
   "id": "39a0ba7e-6388-419a-ad76-27ad56768a7e",
   "metadata": {},
   "source": [
    "```\n",
    "query {\n",
    "  physical_devices(pagination: {limit: 0}, search: {field: serial_number, value: \"HLPXGM09048325\", operator: like}) {\n",
    "    device_deploymentsFilter(pagination: {limit: 0}) {\n",
    "      date_deployment\n",
    "    }\n",
    "  }\n",
    "}\n",
    "```\n",
    "\n",
    "```\n",
    "{\n",
    "  \"data\": {\n",
    "    \"physical_devices\": [\n",
    "      {\n",
    "        \"device_deploymentsFilter\": [\n",
    "          {\n",
    "            \"date_deployment\": \"2021-12-09T17:50:00.000Z\"\n",
    "          },\n",
    "          {\n",
    "            \"date_deployment\": \"2022-01-15T16:49:00.000Z\"\n",
    "          },\n",
    "          {\n",
    "            \"date_deployment\": \"2022-05-02T16:04:00.000Z\"\n",
    "          },\n",
    "          {\n",
    "            \"date_deployment\": \"2022-02-22T22:07:00.000Z\"\n",
    "          },\n",
    "          {\n",
    "            \"date_deployment\": \"2022-06-17T19:17:00.000Z\"\n",
    "          }\n",
    "        ]\n",
    "      }\n",
    "    ]\n",
    "  }\n",
    "}\n",
    "```"
   ]
  },
  {
   "cell_type": "markdown",
   "id": "637c6123-ba14-49a9-a03d-ef7fc17e7572",
   "metadata": {},
   "source": [
    "**Las fechas de toma de archivo no caen con la del despliegue de dispositivo**"
   ]
  },
  {
   "cell_type": "markdown",
   "id": "af7d2aff-5bab-4ec7-b70c-b8e77af29c59",
   "metadata": {},
   "source": [
    "# 14)"
   ]
  },
  {
   "cell_type": "markdown",
   "id": "8d05182e-0bff-48c7-8f03-2484f3aad72e",
   "metadata": {},
   "source": [
    "`/LUSTRE/sacmod/SIPECAM/cumulo_31/entrega_09.junio.2022/Nodo-31-Atoyac/Rio-Verde-1-31-1-1211/49616/DCIM/101RECNX`"
   ]
  },
  {
   "cell_type": "markdown",
   "id": "bde7abb1-4b9d-4e10-ade5-e1451fce9f74",
   "metadata": {},
   "source": [
    "Inicio:\n",
    "\n",
    "2021-11-09\n",
    "\n",
    "Fin:\n",
    "\n",
    "2021-12-08"
   ]
  },
  {
   "cell_type": "markdown",
   "id": "61532a14-57f5-455d-bab0-ba4fdccf5c1e",
   "metadata": {},
   "source": [
    "```\n",
    "query {\n",
    "  physical_devices(pagination: {limit: 0}, search: {field: serial_number, value: \"HLPXGM09049616\", operator: like}) {\n",
    "    device_deploymentsFilter(pagination: {limit: 0}) {\n",
    "      date_deployment\n",
    "    }\n",
    "  }\n",
    "}\n",
    "```\n",
    "\n",
    "```\n",
    "{\n",
    "  \"data\": {\n",
    "    \"physical_devices\": [\n",
    "      {\n",
    "        \"device_deploymentsFilter\": [\n",
    "          {\n",
    "            \"date_deployment\": \"2021-12-09T13:57:00.000Z\"\n",
    "          },\n",
    "          {\n",
    "            \"date_deployment\": \"2022-01-16T18:30:00.000Z\"\n",
    "          },\n",
    "          {\n",
    "            \"date_deployment\": \"2022-05-03T07:37:00.000Z\"\n",
    "          },\n",
    "          {\n",
    "            \"date_deployment\": \"2022-06-18T13:59:00.000Z\"\n",
    "          }\n",
    "        ]\n",
    "      }\n",
    "    ]\n",
    "  }\n",
    "}\n",
    "```"
   ]
  },
  {
   "cell_type": "markdown",
   "id": "41cb889a-e21b-427d-8c49-31e4a902a1c2",
   "metadata": {},
   "source": [
    "**Las fechas de toma de archivo no caen con la del despliegue de dispositivo**"
   ]
  },
  {
   "cell_type": "markdown",
   "id": "f9a24432-8c02-4948-9978-fffff85dcfc2",
   "metadata": {},
   "source": [
    "# 15)"
   ]
  },
  {
   "cell_type": "markdown",
   "id": "1689b4ca-cf71-4a08-ae13-c8dd6441638e",
   "metadata": {},
   "source": [
    "`/LUSTRE/sacmod/SIPECAM/cumulo_31/entrega_09.junio.2022/Nodo-31-Atoyac/Rio-Verde-1-31-1-1211/49616/DCIM/100RECNX`"
   ]
  },
  {
   "cell_type": "markdown",
   "id": "8057939c-7eab-4e2e-bdf3-c6696902f436",
   "metadata": {},
   "source": [
    "**Dir only have 4 images, 1 video and and they include people**"
   ]
  },
  {
   "cell_type": "markdown",
   "id": "285f6fb6-1397-47dc-9c5c-bdd5df4f3c61",
   "metadata": {},
   "source": [
    "# 16)"
   ]
  },
  {
   "cell_type": "markdown",
   "id": "98a539d1-12e0-42f6-9830-b091c26a4420",
   "metadata": {},
   "source": [
    "`/LUSTRE/sacmod/SIPECAM/cumulo_31/entrega_09.junio.2022/Nodo-31-Atoyac/Nueva Delhi-golondrinas-1-31-1-1213/50019/104RECNX`"
   ]
  },
  {
   "cell_type": "markdown",
   "id": "40738f14-a367-4db6-a6ff-fb21b265cfcd",
   "metadata": {},
   "source": [
    "**Dir only have 4 images, 2 videos and and they include people**"
   ]
  },
  {
   "cell_type": "markdown",
   "id": "2f36203c-ef34-4003-bcc3-cf12423e8f8d",
   "metadata": {},
   "source": [
    "# 17)"
   ]
  },
  {
   "cell_type": "markdown",
   "id": "d649f528-0c7a-4cfc-b63d-d88b4a20a5ea",
   "metadata": {},
   "source": [
    "`/LUSTRE/sacmod/SIPECAM/cumulo_31/entrega_09.junio.2022/Nodo-31-Atoyac/Nueva Delhi-golondrinas-1-31-1-1213/50019/101RECNX`"
   ]
  },
  {
   "cell_type": "markdown",
   "id": "2a9d4290-f994-498b-9a21-f2f94a0a3900",
   "metadata": {},
   "source": [
    "**Dir only have 4 images, 2 videos and and they include people**"
   ]
  },
  {
   "cell_type": "markdown",
   "id": "3e96e1f6-393b-49d1-910f-813d9a15aa37",
   "metadata": {},
   "source": [
    "# 18)"
   ]
  },
  {
   "cell_type": "markdown",
   "id": "b6f54d51-c584-4e23-95a8-7d2f1138c1ca",
   "metadata": {},
   "source": [
    "`/LUSTRE/sacmod/SIPECAM/cumulo_31/entrega_09.junio.2022/Nodo-31-Atoyac/Nueva Delhi-golondrinas-1-31-1-1213/50019/102RECNX`"
   ]
  },
  {
   "cell_type": "markdown",
   "id": "1d251446-b389-4d96-8346-fdf674819e4e",
   "metadata": {},
   "source": [
    "**Dir only have 6 images, 3 videos and and they include people**"
   ]
  },
  {
   "cell_type": "markdown",
   "id": "8f281053-ef2f-4e93-8292-33c5213e3eb5",
   "metadata": {},
   "source": [
    "# 19)"
   ]
  },
  {
   "cell_type": "markdown",
   "id": "a629c034-e506-436f-8da6-16e26c415eeb",
   "metadata": {},
   "source": [
    "`/LUSTRE/sacmod/SIPECAM/cumulo_31/entrega_09.junio.2022/Nodo-31-Atoyac/Nueva Delhi-golondrinas-1-31-1-1213/50019/106RECNX`"
   ]
  },
  {
   "cell_type": "markdown",
   "id": "b247fe30-db0d-4420-be03-b234dd00bc78",
   "metadata": {},
   "source": [
    "**Dir only have 4 images, 1 video and and they include people**"
   ]
  },
  {
   "cell_type": "markdown",
   "id": "8254060b-da78-48a0-ad84-6bb88cd41389",
   "metadata": {},
   "source": [
    "# 20)"
   ]
  },
  {
   "cell_type": "markdown",
   "id": "4091a632-245b-4ede-a4e6-4e828e22a3c8",
   "metadata": {},
   "source": [
    "`/LUSTRE/sacmod/SIPECAM/cumulo_31/entrega_09.junio.2022/Nodo-31-Atoyac/Nueva Delhi-golondrinas-1-31-1-1213/50019/100RECNX`"
   ]
  },
  {
   "cell_type": "markdown",
   "id": "49336a03-3f14-45f5-8406-eb5a3203f8fa",
   "metadata": {},
   "source": [
    "**Dir only have 4 images, 2 videos and and they include people**"
   ]
  },
  {
   "cell_type": "markdown",
   "id": "224fa7d7-ccc5-4510-bd01-ab8be1282957",
   "metadata": {},
   "source": [
    "# 21)"
   ]
  },
  {
   "cell_type": "markdown",
   "id": "13265f93-1616-43a6-82ed-0fc15ee6a158",
   "metadata": {},
   "source": [
    "`/LUSTRE/sacmod/SIPECAM/cumulo_31/entrega_09.junio.2022/Nodo-31-Atoyac/Nueva Delhi-golondrinas-1-31-1-1213/50019/103RECNX`"
   ]
  },
  {
   "cell_type": "markdown",
   "id": "2fc1d4d9-51d0-4a54-bfc3-0f000c1af1f2",
   "metadata": {},
   "source": [
    "**Dir only have 4 images, 2 videos and and they include people**"
   ]
  },
  {
   "cell_type": "markdown",
   "id": "1480fc16-256d-46db-8bb3-cdb2c79b802d",
   "metadata": {},
   "source": [
    "# 22)"
   ]
  },
  {
   "cell_type": "markdown",
   "id": "16b5c00e-866c-42d9-a960-bc762d58e709",
   "metadata": {},
   "source": [
    "`/LUSTRE/sacmod/SIPECAM/cumulo_31/entrega_09.junio.2022/Nodo-31-Atoyac/Nueva Delhi-golondrinas-1-31-1-1213/48869/101RECNX`"
   ]
  },
  {
   "cell_type": "markdown",
   "id": "76ecf687-1cfb-48b2-b60f-b72b91e05a04",
   "metadata": {},
   "source": [
    "**Dir only have 4 images, 2 videos and and they include people**"
   ]
  },
  {
   "cell_type": "markdown",
   "id": "3e9887e7-fa56-4859-8bf8-1364a1de37dc",
   "metadata": {},
   "source": [
    "# 23)"
   ]
  },
  {
   "cell_type": "markdown",
   "id": "f155e49d-878a-4ce1-ad3c-6f57971a3951",
   "metadata": {},
   "source": [
    "`/LUSTRE/sacmod/SIPECAM/cumulo_31/entrega_09.junio.2022/Nodo-31-Atoyac/Nueva Delhi-golondrinas-1-31-1-1213/48869/102RECNX`"
   ]
  },
  {
   "cell_type": "markdown",
   "id": "3b2aef79-b97c-418a-be75-8888ffc988d0",
   "metadata": {},
   "source": [
    "**Dir only have 8 images, 4 videos and and they include people**"
   ]
  },
  {
   "cell_type": "markdown",
   "id": "dbed12a8-0710-43b3-815f-eb12c123f6bd",
   "metadata": {},
   "source": [
    "# 24)"
   ]
  },
  {
   "cell_type": "markdown",
   "id": "9b7c7207-ca62-4ab1-9d0e-80e60d1fc1f3",
   "metadata": {},
   "source": [
    "`/LUSTRE/sacmod/SIPECAM/cumulo_31/entrega_09.junio.2022/Nodo-31-Atoyac/Nueva Delhi-golondrinas-1-31-1-1213/48869/106RECNX`"
   ]
  },
  {
   "cell_type": "markdown",
   "id": "1ac70dee-f57e-4740-aeff-91fe519ae5b0",
   "metadata": {},
   "source": [
    "Inicio:\n",
    "\n",
    "2022-02-24\n",
    "\n",
    "Fin:\n",
    "\n",
    "2022-05-01\n"
   ]
  },
  {
   "cell_type": "markdown",
   "id": "15b980cc-94c1-49cb-ada4-5d07e446e930",
   "metadata": {},
   "source": [
    "```\n",
    "query {\n",
    "  physical_devices(pagination: {limit: 0}, search: {field: serial_number, value: \"HLPXGM09048869\", operator: like}) {\n",
    "    device_deploymentsFilter(pagination: {limit: 0}) {\n",
    "      date_deployment\n",
    "    }\n",
    "  }\n",
    "}\n",
    "```\n",
    "\n",
    "```\n",
    "{\n",
    "  \"data\": {\n",
    "    \"physical_devices\": [\n",
    "      {\n",
    "        \"device_deploymentsFilter\": [\n",
    "          {\n",
    "            \"date_deployment\": \"2021-11-06T15:56:00.000Z\"\n",
    "          },\n",
    "          {\n",
    "            \"date_deployment\": \"2022-02-22T18:08:00.000Z\"\n",
    "          },\n",
    "          {\n",
    "            \"date_deployment\": \"2022-05-02T23:01:00.000Z\"\n",
    "          },\n",
    "          {\n",
    "            \"date_deployment\": \"2022-06-17T15:47:00.000Z\"\n",
    "          }\n",
    "        ]\n",
    "      }\n",
    "    ]\n",
    "  }\n",
    "}\n",
    "```"
   ]
  },
  {
   "cell_type": "markdown",
   "id": "38c6d066-e6c6-4014-99d1-84ec1aa95a80",
   "metadata": {},
   "source": [
    "**Se debe asignar `2021-11-06` como fecha de despliegue?**"
   ]
  },
  {
   "cell_type": "markdown",
   "id": "54850eb7-3f63-4a46-be46-aa9f178ff2b5",
   "metadata": {},
   "source": [
    "# 25)"
   ]
  },
  {
   "cell_type": "markdown",
   "id": "59f9cde1-e6ce-4a83-b0c6-1d78a5392302",
   "metadata": {},
   "source": [
    "`/LUSTRE/sacmod/SIPECAM/cumulo_31/entrega_09.junio.2022/Nodo-31-Atoyac/Nueva Delhi-golondrinas-1-31-1-1213/48869/100RECNX`"
   ]
  },
  {
   "cell_type": "markdown",
   "id": "16525c02-a60c-47d8-af74-f49fb520bce6",
   "metadata": {},
   "source": [
    "**Dir only have 4 images, 2 videos and and they include people**"
   ]
  },
  {
   "cell_type": "markdown",
   "id": "9427222e-8fe2-4b5d-89f9-0e7592ecae56",
   "metadata": {},
   "source": [
    "# 26)"
   ]
  },
  {
   "cell_type": "markdown",
   "id": "7c39087e-655f-494e-9fc4-cbaa436e74a7",
   "metadata": {},
   "source": [
    "` /LUSTRE/sacmod/SIPECAM/cumulo_31/entrega_09.junio.2022/Nodo-31-Atoyac/Nueva Delhi-golondrinas-1-31-1-1213/48869/103RECNX`"
   ]
  },
  {
   "cell_type": "markdown",
   "id": "28d39b42-5f24-4e47-a14c-a3ee9341a849",
   "metadata": {},
   "source": [
    "**Dir only have 4 images, 2 videos and and they include people**"
   ]
  },
  {
   "cell_type": "markdown",
   "id": "24888695-1159-481e-99e0-e7c4a93555c0",
   "metadata": {},
   "source": [
    "# 27)"
   ]
  },
  {
   "cell_type": "markdown",
   "id": "68983996-bb07-4365-ac57-947cd28847c5",
   "metadata": {},
   "source": [
    "`/LUSTRE/sacmod/SIPECAM/cumulo_31/entrega_09.junio.2022/Nodo-31-Atoyac/Nueva Delhi-golondrinas-1-31-1-1213/48869/105RECNX`"
   ]
  },
  {
   "cell_type": "markdown",
   "id": "2f75570e-192e-481f-8659-a9b3f8d03b17",
   "metadata": {},
   "source": [
    "**Dir only have 2 images, 1 video and and they include people**"
   ]
  },
  {
   "cell_type": "markdown",
   "id": "73fff597-a8c6-49db-99d8-0fd560ec5cae",
   "metadata": {},
   "source": [
    "# 28)"
   ]
  },
  {
   "cell_type": "markdown",
   "id": "dbbaf32a-7b3a-482d-8cda-cae0eccb2fcc",
   "metadata": {},
   "source": [
    "`/LUSTRE/sacmod/SIPECAM/cumulo_31/entrega_09.junio.2022/Nodo-31-Atoyac/Nueva Delhi-golondrinas-1-31-1-1213/49878/100RECNX`"
   ]
  },
  {
   "cell_type": "markdown",
   "id": "ca9246f0-3369-4a88-a71c-5b6b8a2359f0",
   "metadata": {},
   "source": [
    "**Dir only have 4 images, 2 videos and and they include people**"
   ]
  },
  {
   "cell_type": "markdown",
   "id": "bcda3c76-7fe1-4453-9820-5cf857a85762",
   "metadata": {},
   "source": [
    "# 29)"
   ]
  },
  {
   "cell_type": "markdown",
   "id": "9cdd715b-6dd5-4f1c-b1f8-ce68bcbf17c2",
   "metadata": {},
   "source": [
    "`/LUSTRE/sacmod/SIPECAM/cumulo_31/entrega_09.junio.2022/Nodo-31-Atoyac/Nueva Delhi-golondrinas-1-31-1-1213/50016/100RECNX`"
   ]
  },
  {
   "cell_type": "markdown",
   "id": "f3820dc4-32dc-40ae-9e2f-908a4c4ed2da",
   "metadata": {},
   "source": [
    "**Dir only have 4 images, 2 videos and and they include people**"
   ]
  },
  {
   "cell_type": "markdown",
   "id": "e7bbc311-1e68-43ee-a33e-58c8a94acf60",
   "metadata": {},
   "source": [
    "# 30)"
   ]
  },
  {
   "cell_type": "markdown",
   "id": "1c86394f-bcdb-4baf-9695-3010350af0d7",
   "metadata": {},
   "source": [
    "`/LUSTRE/sacmod/SIPECAM/cumulo_31/entrega_09.junio.2022/Nodo-31-Atoyac/Los valles 1_31_0_1218/50019`"
   ]
  },
  {
   "cell_type": "markdown",
   "id": "754cebe6-346c-4521-bad5-95c75ebde0bd",
   "metadata": {},
   "source": [
    "Inicio:\n",
    "\n",
    "2021-12-09\n",
    "\n",
    "\n",
    "Fin:\n",
    "\n",
    "2022-01-14\n"
   ]
  },
  {
   "cell_type": "markdown",
   "id": "f05ebb04-242e-492b-8c06-650d849dbeb3",
   "metadata": {},
   "source": [
    "```\n",
    "query {\n",
    "  physical_devices(pagination: {limit: 0}, search: {field: serial_number, value: \"HLPXGM09050019\", operator: like}) {\n",
    "    device_deploymentsFilter(pagination: {limit: 0}) {\n",
    "      date_deployment\n",
    "    }\n",
    "  }\n",
    "}\n",
    "```\n",
    "\n",
    "```\n",
    "{\n",
    "  \"data\": {\n",
    "    \"physical_devices\": [\n",
    "      {\n",
    "        \"device_deploymentsFilter\": [\n",
    "          {\n",
    "            \"date_deployment\": \"2021-11-07T23:03:00.000Z\"\n",
    "          },\n",
    "          {\n",
    "            \"date_deployment\": \"2022-02-23T17:12:00.000Z\"\n",
    "          },\n",
    "          {\n",
    "            \"date_deployment\": \"2022-05-02T19:20:00.000Z\"\n",
    "          },\n",
    "          {\n",
    "            \"date_deployment\": \"2022-06-17T13:08:00.000Z\"\n",
    "          }\n",
    "        ]\n",
    "      }\n",
    "    ]\n",
    "  }\n",
    "}\n",
    "```"
   ]
  },
  {
   "cell_type": "markdown",
   "id": "27c31040-4b63-426a-a37c-6216c2798999",
   "metadata": {},
   "source": [
    "**Se debe asignar `2021-11-07` como fecha de despliegue?**"
   ]
  },
  {
   "cell_type": "markdown",
   "id": "ed0e063d-b013-4a8f-96f2-73c6bd888184",
   "metadata": {},
   "source": [
    "# 31)"
   ]
  },
  {
   "cell_type": "markdown",
   "id": "eb058296-659d-4464-aa3a-cb85f11aa98b",
   "metadata": {},
   "source": [
    "`/LUSTRE/sacmod/SIPECAM/cumulo_31/entrega_09.junio.2022/Nodo-31-Atoyac/Los valles 1_31_0_1218/48869/101RECNX`"
   ]
  },
  {
   "cell_type": "markdown",
   "id": "1a9e8ada-4fb1-49c6-a219-87c500278095",
   "metadata": {},
   "source": [
    "Inicio:\n",
    "\n",
    "2021-12-08\n",
    "\n",
    "Fin:\n",
    "\n",
    "2022-01-14"
   ]
  },
  {
   "cell_type": "markdown",
   "id": "b38393b1-ef60-4ae5-bfb0-1a90a134986c",
   "metadata": {},
   "source": [
    "```\n",
    "query {\n",
    "  physical_devices(pagination: {limit: 0}, search: {field: serial_number, value: \"HLPXGM09048869\", operator: like}) {\n",
    "    device_deploymentsFilter(pagination: {limit: 0}) {\n",
    "      date_deployment\n",
    "    }\n",
    "  }\n",
    "}\n",
    "```\n",
    "\n",
    "```\n",
    "{\n",
    "  \"data\": {\n",
    "    \"physical_devices\": [\n",
    "      {\n",
    "        \"device_deploymentsFilter\": [\n",
    "          {\n",
    "            \"date_deployment\": \"2021-11-06T15:56:00.000Z\"\n",
    "          },\n",
    "          {\n",
    "            \"date_deployment\": \"2022-02-22T18:08:00.000Z\"\n",
    "          },\n",
    "          {\n",
    "            \"date_deployment\": \"2022-05-02T23:01:00.000Z\"\n",
    "          },\n",
    "          {\n",
    "            \"date_deployment\": \"2022-06-17T15:47:00.000Z\"\n",
    "          }\n",
    "        ]\n",
    "      }\n",
    "    ]\n",
    "  }\n",
    "}\n",
    "```"
   ]
  },
  {
   "cell_type": "markdown",
   "id": "990e7864-6f00-429f-a72d-7e8684b83c9c",
   "metadata": {},
   "source": [
    "**Se debe asignar `2021-11-06` como fecha de despliegue?**"
   ]
  },
  {
   "cell_type": "markdown",
   "id": "fef537da-d67f-405f-9b74-2f28e7b6769e",
   "metadata": {},
   "source": [
    "# 32)"
   ]
  },
  {
   "cell_type": "markdown",
   "id": "edfbbf21-d82e-4f18-84e8-efc0bdc56603",
   "metadata": {},
   "source": [
    "`/LUSTRE/sacmod/SIPECAM/cumulo_31/entrega_09.junio.2022/Nodo-31-Atoyac/Los valles 1_31_0_1218/49878`"
   ]
  },
  {
   "cell_type": "markdown",
   "id": "2f4ef652-35e5-4487-9160-56bd2b90eccb",
   "metadata": {},
   "source": [
    "Inicio:\n",
    "\n",
    "2021-12-08\n",
    "\n",
    "Fin:\n",
    "\n",
    "2022-01-14"
   ]
  },
  {
   "cell_type": "markdown",
   "id": "f1c21d1c-8f79-44fc-89a5-f8e166253a15",
   "metadata": {},
   "source": [
    "```\n",
    "query {\n",
    "  physical_devices(pagination: {limit: 0}, search: {field: serial_number, value: \"HLPXGM09049878\", operator: like}) {\n",
    "    device_deploymentsFilter(pagination: {limit: 0}) {\n",
    "      date_deployment\n",
    "    }\n",
    "  }\n",
    "}\n",
    "```\n",
    "\n",
    "```\n",
    "{\n",
    "  \"data\": {\n",
    "    \"physical_devices\": [\n",
    "      {\n",
    "        \"device_deploymentsFilter\": [\n",
    "          {\n",
    "            \"date_deployment\": \"2021-11-06T19:44:00.000Z\"\n",
    "          },\n",
    "          {\n",
    "            \"date_deployment\": \"2022-02-24T17:05:00.000Z\"\n",
    "          },\n",
    "          {\n",
    "            \"date_deployment\": \"2022-05-02T17:16:00.000Z\"\n",
    "          },\n",
    "          {\n",
    "            \"date_deployment\": \"2022-06-17T18:32:00.000Z\"\n",
    "          }\n",
    "        ]\n",
    "      }\n",
    "    ]\n",
    "  }\n",
    "}\n",
    "```"
   ]
  },
  {
   "cell_type": "markdown",
   "id": "32edb87c-5923-419a-8e57-62f16ffdc7c0",
   "metadata": {},
   "source": [
    "**Se debe asignar `2021-11-06` como fecha de despliegue?**"
   ]
  },
  {
   "cell_type": "markdown",
   "id": "32f7939d-705b-4987-b4ed-d2370213aa5e",
   "metadata": {},
   "source": [
    "# 33)"
   ]
  },
  {
   "cell_type": "markdown",
   "id": "39b4aaca-0ece-4eaf-b983-22be98b2097d",
   "metadata": {},
   "source": [
    "`/LUSTRE/sacmod/SIPECAM/cumulo_31/entrega_09.junio.2022/Nodo-31-Atoyac/Los valles 1_31_0_1218/50016/101RECNX`"
   ]
  },
  {
   "cell_type": "markdown",
   "id": "ccc896e7-df8b-4df4-b6a7-37bf94847e71",
   "metadata": {},
   "source": [
    "Inicio:\n",
    "\n",
    "2021-12-08\n",
    "\n",
    "\n",
    "Fin:\n",
    "\n",
    "2022-01-14"
   ]
  },
  {
   "cell_type": "markdown",
   "id": "6d431c31-3905-4e7e-9d34-64c87b4ec0d6",
   "metadata": {},
   "source": [
    "```\n",
    "query {\n",
    "  physical_devices(pagination: {limit: 0}, search: {field: serial_number, value: \"HLPXGM09050016\", operator: like}) {\n",
    "    device_deploymentsFilter(pagination: {limit: 0}) {\n",
    "      date_deployment\n",
    "    }\n",
    "  }\n",
    "}\n",
    "```\n",
    "\n",
    "```\n",
    "{\n",
    "  \"data\": {\n",
    "    \"physical_devices\": [\n",
    "      {\n",
    "        \"device_deploymentsFilter\": [\n",
    "          {\n",
    "            \"date_deployment\": \"2021-11-07T21:49:00.000Z\"\n",
    "          },\n",
    "          {\n",
    "            \"date_deployment\": \"2022-02-24T19:24:00.000Z\"\n",
    "          },\n",
    "          {\n",
    "            \"date_deployment\": \"2022-05-02T21:06:00.000Z\"\n",
    "          },\n",
    "          {\n",
    "            \"date_deployment\": \"2022-06-17T17:24:00.000Z\"\n",
    "          }\n",
    "        ]\n",
    "      }\n",
    "    ]\n",
    "  }\n",
    "}\n",
    "```"
   ]
  },
  {
   "cell_type": "markdown",
   "id": "b43188c4-8054-4d51-8bd2-8e8f5804d9a1",
   "metadata": {},
   "source": [
    "**Se debe asignar `2021-11-07` como fecha de despliegue?**"
   ]
  },
  {
   "cell_type": "markdown",
   "id": "9633770e-12c2-433f-b646-df980790da47",
   "metadata": {},
   "source": [
    "# 34)"
   ]
  },
  {
   "cell_type": "markdown",
   "id": "c8c95b23-8387-405e-bb03-215a226069e7",
   "metadata": {},
   "source": [
    "`/LUSTRE/sacmod/SIPECAM/cumulo_31/entrega_09.junio.2022/Nodo-31-Atoyac/Los arrayanes-1-31-0-1215/9998`"
   ]
  },
  {
   "cell_type": "markdown",
   "id": "5cad8bbb-10a2-489b-a0a6-c7013f989a73",
   "metadata": {},
   "source": [
    "Inicio:\n",
    "\n",
    "2022-02-25\n",
    "\n",
    "Fin:\n",
    "\n",
    "2022-05-01\n"
   ]
  },
  {
   "cell_type": "markdown",
   "id": "c2644416-c2ed-4e85-86bc-173b29560f84",
   "metadata": {},
   "source": [
    "```\n",
    "query {\n",
    "  physical_devices(pagination: {limit: 0}, search: {field: serial_number, value: \"HLPXGM09049998\", operator: like}) {\n",
    "    device_deploymentsFilter(pagination: {limit: 0}) {\n",
    "      date_deployment\n",
    "    }\n",
    "  }\n",
    "}\n",
    "```\n",
    "\n",
    "```\n",
    "{\n",
    "  \"data\": {\n",
    "    \"physical_devices\": [\n",
    "      {\n",
    "        \"device_deploymentsFilter\": [\n",
    "          {\n",
    "            \"date_deployment\": \"2021-12-09T16:04:00.000Z\"\n",
    "          },\n",
    "          {\n",
    "            \"date_deployment\": \"2021-11-07T19:05:00.000Z\"\n",
    "          },\n",
    "          {\n",
    "            \"date_deployment\": \"2022-01-15T18:51:00.000Z\"\n",
    "          },\n",
    "          {\n",
    "            \"date_deployment\": \"2022-05-02T20:28:00.000Z\"\n",
    "          },\n",
    "          {\n",
    "            \"date_deployment\": \"2022-06-17T17:48:00.000Z\"\n",
    "          }\n",
    "        ]\n",
    "      }\n",
    "    ]\n",
    "  }\n",
    "}\n",
    "```"
   ]
  },
  {
   "cell_type": "markdown",
   "id": "60d01322-8063-48cc-8152-877878ab000c",
   "metadata": {},
   "source": [
    "**Se debe asignar `2022-01-15` como fecha de despliegue?**"
   ]
  },
  {
   "cell_type": "markdown",
   "id": "9c64d954-a25f-48ce-941f-da3ad7baeac3",
   "metadata": {},
   "source": [
    "# 35)"
   ]
  },
  {
   "cell_type": "markdown",
   "id": "81c7c06e-6a0c-40b4-8931-7201f6db6b29",
   "metadata": {},
   "source": [
    "`/LUSTRE/sacmod/SIPECAM/cumulo_31/entrega_09.junio.2022/Nodo-31-Atoyac/Los arrayanes-1-31-0-1215/9616`"
   ]
  },
  {
   "cell_type": "markdown",
   "id": "018ffba8-9a3e-4312-b858-806e7195832e",
   "metadata": {},
   "source": [
    "Inicio:\n",
    "\n",
    "2022-02-22\n",
    "\n",
    "Fin:\n",
    "\n",
    "2022-05-01"
   ]
  },
  {
   "cell_type": "markdown",
   "id": "ad386da1-a954-4508-a8b1-44dba2b9e776",
   "metadata": {},
   "source": [
    "```\n",
    "query {\n",
    "  physical_devices(pagination: {limit: 0}, search: {field: serial_number, value: \"HLPXGM09049616\", operator: like}) {\n",
    "    device_deploymentsFilter(pagination: {limit: 0}) {\n",
    "      date_deployment\n",
    "    }\n",
    "  }\n",
    "}\n",
    "```\n",
    "\n",
    "```\n",
    "{\n",
    "  \"data\": {\n",
    "    \"physical_devices\": [\n",
    "      {\n",
    "        \"device_deploymentsFilter\": [\n",
    "          {\n",
    "            \"date_deployment\": \"2021-12-09T13:57:00.000Z\"\n",
    "          },\n",
    "          {\n",
    "            \"date_deployment\": \"2022-01-16T18:30:00.000Z\"\n",
    "          },\n",
    "          {\n",
    "            \"date_deployment\": \"2022-05-03T07:37:00.000Z\"\n",
    "          },\n",
    "          {\n",
    "            \"date_deployment\": \"2022-06-18T13:59:00.000Z\"\n",
    "          }\n",
    "        ]\n",
    "      }\n",
    "    ]\n",
    "  }\n",
    "}\n",
    "```"
   ]
  },
  {
   "cell_type": "markdown",
   "id": "443944b6-4e07-4cfb-8263-82b771ca0ee8",
   "metadata": {},
   "source": [
    "**Se debe asignar `2022-01-16` como fecha de despliegue?**"
   ]
  },
  {
   "cell_type": "code",
   "execution_count": null,
   "id": "5202443d-9b84-4a2b-9c0c-e7a6ff9f92ef",
   "metadata": {},
   "outputs": [],
   "source": []
  }
 ],
 "metadata": {
  "kernelspec": {
   "display_name": "Python 3 (ipykernel)",
   "language": "python",
   "name": "python3"
  },
  "language_info": {
   "codemirror_mode": {
    "name": "ipython",
    "version": 3
   },
   "file_extension": ".py",
   "mimetype": "text/x-python",
   "name": "python",
   "nbconvert_exporter": "python",
   "pygments_lexer": "ipython3",
   "version": "3.8.10"
  }
 },
 "nbformat": 4,
 "nbformat_minor": 5
}
