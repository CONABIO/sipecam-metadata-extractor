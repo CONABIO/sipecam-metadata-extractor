{
 "cells": [
  {
   "cell_type": "markdown",
   "id": "1f3e45c0-5b26-43ea-a5dd-d7601d6780fe",
   "metadata": {},
   "source": [
    "# Revision of [17-07-2022.ipynb](https://github.com/CONABIO/sipecam-metadata-extractor/blob/develop/notebooks/history_SiPeCaM/4_07-2022/17-07-2022.ipynb)"
   ]
  },
  {
   "cell_type": "markdown",
   "id": "090163e0-cfb3-4533-b3d1-98062cc2efbd",
   "metadata": {},
   "source": [
    "Next file also help identify which dirs couldn't be moved"
   ]
  },
  {
   "cell_type": "code",
   "execution_count": 1,
   "id": "506d85fc-07fc-445b-a745-2a4cb9243062",
   "metadata": {},
   "outputs": [
    {
     "name": "stdout",
     "output_type": "stream",
     "text": [
      "/LUSTRE/sacmod/SIPECAM/cumulo_33/entrega_09.junio.2022/Nodo-33-Tecpan/Audiomoth-1-33-1-1225-La mona/10306527 ULT\n",
      "/LUSTRE/sacmod/SIPECAM/cumulo_33/entrega_09.junio.2022/Nodo-33-Tecpan/Audiomoth-1-33-1-1225-La mona/10309702 AU\n",
      "/LUSTRE/sacmod/SIPECAM/cumulo_33/entrega_09.junio.2022/Nodo-33-Tecpan/Audiomoth-1-33-1227-La trementina/10305352\n",
      "/LUSTRE/sacmod/SIPECAM/cumulo_33/entrega_09.junio.2022/Nodo-33-Tecpan/Audiomoth-1-33-1227-La trementina/10306502\n",
      "/LUSTRE/sacmod/SIPECAM/cumulo_33/entrega_09.junio.2022/Nodo-33-Tecpan/Las mesas-1-33-1-1219/9970\n",
      "/LUSTRE/sacmod/SIPECAM/cumulo_33/entrega_09.junio.2022/Nodo-33-Tecpan/Almendaris-1-33-0-1226/8461\n",
      "/LUSTRE/sacmod/SIPECAM/cumulo_33/entrega_09.junio.2022/Nodo-33-Tecpan/Almendaris-1-33-0-1226/9898\n",
      "/LUSTRE/sacmod/SIPECAM/cumulo_33/entrega_09.junio.2022/Nodo-33-Tecpan/Caldo-Flaco-1-33-1-1220/49970\n",
      "/LUSTRE/sacmod/SIPECAM/cumulo_33/entrega_09.junio.2022/Nodo-33-Tecpan/Caldo-Flaco-1-33-1-1220/49337\n",
      "/LUSTRE/sacmod/SIPECAM/cumulo_33/entrega_09.junio.2022/Nodo-33-Tecpan/Caldo-Flaco-1-33-1-1220/48227/101RECNX\n",
      "/LUSTRE/sacmod/SIPECAM/cumulo_33/entrega_09.junio.2022/Nodo-33-Tecpan/Caldo-Flaco-1-33-1-1220/48870\n",
      "/LUSTRE/sacmod/SIPECAM/cumulo_33/entrega_09.junio.2022/Nodo-33-Tecpan/Caldo-Flaco-1-33-1-1220/49899\n"
     ]
    }
   ],
   "source": [
    "%%bash\n",
    "cat /LUSTRE/sacmod/SIPECAM/data/dirs_not_moved_with_simex/dirs_not_moved_with_simex_17-07-2022.txt "
   ]
  },
  {
   "cell_type": "markdown",
   "id": "312f8453-5563-4314-a9fc-6da8a58ca0a0",
   "metadata": {},
   "source": [
    "# 1)"
   ]
  },
  {
   "cell_type": "markdown",
   "id": "dbba7831-4278-4d39-a162-795295a0ddf9",
   "metadata": {},
   "source": [
    "`/LUSTRE/sacmod/SIPECAM/cumulo_33/entrega_09.junio.2022/Nodo-33-Tecpan/Audiomoth-1-33-1-1225-La mona/10306527 ULT`"
   ]
  },
  {
   "cell_type": "markdown",
   "id": "ed32af82-b0d8-478c-a515-e5cec6e958d8",
   "metadata": {},
   "source": [
    "Inicio:\n",
    "\n",
    "2021-10-31\n",
    "\n",
    "Fin:\n",
    "\n",
    "2021-12-02"
   ]
  },
  {
   "cell_type": "markdown",
   "id": "757e80f1-60b8-4c23-9d97-60b5a5c64dce",
   "metadata": {},
   "source": [
    "```\n",
    "query {\n",
    "  physical_devices(pagination: {limit: 0}, search: {field: comments, value: \"ADM248D9B0260371F78\", operator: like}) {\n",
    "    device_deploymentsFilter(pagination: {limit: 0}) {\n",
    "      date_deployment\n",
    "    }\n",
    "  }\n",
    "}\n",
    "```\n",
    "\n",
    "```\n",
    "{'data': {'physical_devices': [{'device_deploymentsFilter': \n",
    "[{'date_deployment': '2021-12-04T00:51:00.000Z'}, \n",
    "{'date_deployment': '2022-02-19T16:28:00.000Z'}, \n",
    "{'date_deployment': '2022-04-29T17:27:00.000Z'}, \n",
    "{'date_deployment': '2022-06-13T18:19:00.000Z'}, \n",
    "{'date_deployment': '2022-06-13T18:19:00.000Z'}]}]}}\n",
    "```"
   ]
  },
  {
   "cell_type": "markdown",
   "id": "81d0a456-904f-4903-a1d3-03c5dd184a3a",
   "metadata": {},
   "source": [
    "**Las fechas de toma de archivo no caen con la del despliegue de dispositivo**"
   ]
  },
  {
   "cell_type": "markdown",
   "id": "59274532-2d32-4f8d-bfeb-4b2ea7b173a1",
   "metadata": {},
   "source": [
    "# 2)"
   ]
  },
  {
   "cell_type": "markdown",
   "id": "e81f6c3c-9e02-417e-915d-0be642294a4a",
   "metadata": {},
   "source": [
    "`/LUSTRE/sacmod/SIPECAM/cumulo_33/entrega_09.junio.2022/Nodo-33-Tecpan/Audiomoth-1-33-1-1225-La mona/10309702 AU`"
   ]
  },
  {
   "cell_type": "markdown",
   "id": "5d534e3b-8f66-45b0-abe6-166193f2712d",
   "metadata": {},
   "source": [
    "```\n",
    "query {\n",
    "  physical_devices(pagination: {limit: 0}, search: {field: comments, value: \"ADM24F3190160377A64\", operator: like}) {\n",
    "    device_deploymentsFilter(pagination: {limit: 0}) {\n",
    "      date_deployment\n",
    "    }\n",
    "  }\n",
    "}\n",
    "```\n",
    "\n",
    "```\n",
    "{'data': {'physical_devices': [{'device_deploymentsFilter': []}]}}\n",
    "```"
   ]
  },
  {
   "cell_type": "markdown",
   "id": "424e65dc-7fca-4d7f-b360-53c7eba8b2b8",
   "metadata": {},
   "source": [
    "**No hay formularios asociados**"
   ]
  },
  {
   "cell_type": "markdown",
   "id": "3b6e34a5-83f1-4403-ad4c-f24df8474933",
   "metadata": {},
   "source": [
    "# 3)"
   ]
  },
  {
   "cell_type": "markdown",
   "id": "0602d0bf-04c0-4715-9e56-dfe97aafeda2",
   "metadata": {},
   "source": [
    "`/LUSTRE/sacmod/SIPECAM/cumulo_33/entrega_09.junio.2022/Nodo-33-Tecpan/Audiomoth-1-33-1227-La trementina/10305352`"
   ]
  },
  {
   "cell_type": "markdown",
   "id": "ef4cf2c9-9a58-4ee9-99a2-d2f7f46b503d",
   "metadata": {},
   "source": [
    "Inicio:\n",
    "\n",
    "2021-11-02\n",
    "\n",
    "Fin:\n",
    "\n",
    "2021-12-02"
   ]
  },
  {
   "cell_type": "markdown",
   "id": "3db22538-7b03-48c4-a2c3-7eef3281cff2",
   "metadata": {},
   "source": [
    "```\n",
    "query {\n",
    "  physical_devices(pagination: {limit: 0}, search: {field: comments, value: \"ADM24F3190160377B16\", operator: like}) {\n",
    "    device_deploymentsFilter(pagination: {limit: 0}) {\n",
    "      date_deployment\n",
    "    }\n",
    "  }\n",
    "}\n",
    "```\n",
    "\n",
    "```\n",
    "{'data': {'physical_devices': [{'device_deploymentsFilter': \n",
    "[{'date_deployment': '2021-12-05T16:02:00.000Z'}, \n",
    "{'date_deployment': '2022-01-11T20:53:00.000Z'}, \n",
    "{'date_deployment': '2022-02-17T18:59:00.000Z'}, \n",
    "{'date_deployment': '2022-04-27T18:39:00.000Z'}, \n",
    "{'date_deployment': '2022-06-12T16:13:00.000Z'}]}]}}\n",
    "```"
   ]
  },
  {
   "cell_type": "markdown",
   "id": "68b0ff7b-7248-4e19-9329-51f22928d45a",
   "metadata": {},
   "source": [
    "**Las fechas de toma de archivo no caen con la del despliegue de dispositivo**"
   ]
  },
  {
   "cell_type": "markdown",
   "id": "b34173af-f8d5-4824-8d89-6cbf4b99ebfd",
   "metadata": {},
   "source": [
    "# 4)"
   ]
  },
  {
   "cell_type": "markdown",
   "id": "3c2d113a-32d4-4cf1-9b2d-9aeb4a2e376f",
   "metadata": {},
   "source": [
    "`/LUSTRE/sacmod/SIPECAM/cumulo_33/entrega_09.junio.2022/Nodo-33-Tecpan/Audiomoth-1-33-1227-La trementina/10306502`"
   ]
  },
  {
   "cell_type": "markdown",
   "id": "32c39a82-2c64-451a-829b-5d97032deaf1",
   "metadata": {},
   "source": [
    "Inicio:\n",
    "\n",
    "2021-11-02\n",
    "\n",
    "Fin:\n",
    "\n",
    "2021-12-02"
   ]
  },
  {
   "cell_type": "markdown",
   "id": "a4b6b941-755c-414d-926c-27831fc7d31d",
   "metadata": {},
   "source": [
    "```\n",
    "query {\n",
    "  physical_devices(pagination: {limit: 0}, search: {field: comments, value: \"ADM24E1440360374A34\", operator: like}) {\n",
    "    device_deploymentsFilter(pagination: {limit: 0}) {\n",
    "      date_deployment\n",
    "    }\n",
    "  }\n",
    "}\n",
    "```\n",
    "\n",
    "```\n",
    "{'data': {'physical_devices': [{'device_deploymentsFilter': \n",
    "[{'date_deployment': '2022-01-10T21:14:00.000Z'}, \n",
    "{'date_deployment': '2022-04-28T22:02:00.000Z'}, \n",
    "{'date_deployment': '2022-06-13T14:33:00.000Z'}]}]}}\n",
    "```"
   ]
  },
  {
   "cell_type": "markdown",
   "id": "a038f20f-9f0c-4a3c-9512-2deadceaf4d4",
   "metadata": {},
   "source": [
    "**Las fechas de toma de archivo no caen con la del despliegue de dispositivo**"
   ]
  },
  {
   "cell_type": "markdown",
   "id": "a754c81f-3cdd-4807-9ce3-d98ed8bf6ffc",
   "metadata": {},
   "source": [
    "# 5)"
   ]
  },
  {
   "cell_type": "markdown",
   "id": "69f1dae4-9888-4204-8549-d106f3e1c177",
   "metadata": {},
   "source": [
    "`/LUSTRE/sacmod/SIPECAM/cumulo_33/entrega_09.junio.2022/Nodo-33-Tecpan/LaMona-1-33-1225/49970/100RECNX`"
   ]
  },
  {
   "cell_type": "markdown",
   "id": "8d29beb1-7688-4d09-b188-94d596ee0c96",
   "metadata": {},
   "source": [
    "**Dir only have images, videos of people**"
   ]
  },
  {
   "cell_type": "markdown",
   "id": "31867d55-2f0d-4b4d-afb6-69ba6cec65d4",
   "metadata": {},
   "source": [
    "# 6)"
   ]
  },
  {
   "cell_type": "markdown",
   "id": "322fc999-7360-47a3-9865-929975f1a6ee",
   "metadata": {},
   "source": [
    "`/LUSTRE/sacmod/SIPECAM/cumulo_33/entrega_09.junio.2022/Nodo-33-Tecpan/Las mesas-1-33-1-1219/9970`"
   ]
  },
  {
   "cell_type": "markdown",
   "id": "40e32e19-cd68-490e-8821-9b0a7ce3efb4",
   "metadata": {},
   "source": [
    "Inicio:\n",
    "\n",
    "2022-02-21\n",
    "\n",
    "Fin:\n",
    "\n",
    "2022-04-25"
   ]
  },
  {
   "cell_type": "markdown",
   "id": "df477315-051f-48e6-a22d-5be49b80bb87",
   "metadata": {},
   "source": [
    "```\n",
    "query {\n",
    "  physical_devices(pagination: {limit: 0}, search: {field: serial_number, value: \"HLPXGM09049970\", operator: like}) {\n",
    "    device_deploymentsFilter(pagination: {limit: 0}) {\n",
    "      date_deployment\n",
    "    }\n",
    "  }\n",
    "}\n",
    "```\n",
    "\n",
    "```\n",
    "{'data': {'physical_devices': [{'device_deploymentsFilter': \n",
    "[{'date_deployment': '2021-10-31T21:28:00.000Z'}, \n",
    "{'date_deployment': '2021-12-03T19:19:00.000Z'}, \n",
    "{'date_deployment': '2022-02-19T19:03:00.000Z'}, \n",
    "{'date_deployment': '2022-06-14T15:49:00.000Z'}, \n",
    "{'date_deployment': '2022-04-29T20:03:00.000Z'}]}]}}\n",
    "```"
   ]
  },
  {
   "cell_type": "markdown",
   "id": "d3159ef6-afab-4ce5-9e0f-b0947d061e12",
   "metadata": {},
   "source": [
    "**The number of days of last file and day of deployment exceed `MAX_NUMBER_OF_DAYS=40` which is the default now**\n",
    "\n",
    "**Need to increase `MAX_NUMBER_OF_DAYS`**"
   ]
  },
  {
   "cell_type": "markdown",
   "id": "cdcbb903-d9cb-4b89-bbde-bb64f82a4470",
   "metadata": {},
   "source": [
    "# 7)"
   ]
  },
  {
   "cell_type": "markdown",
   "id": "b4ebcee4-40a1-4b02-bf38-1640134c100d",
   "metadata": {},
   "source": [
    "`/LUSTRE/sacmod/SIPECAM/cumulo_33/entrega_09.junio.2022/Nodo-33-Tecpan/Las mesas-1-33-1-1219/49899`"
   ]
  },
  {
   "cell_type": "markdown",
   "id": "47c04912-2ca9-4657-8fb5-6c4e7c95551a",
   "metadata": {},
   "source": [
    "Inicio:\n",
    "\n",
    "2022-02-18\n",
    "\n",
    "Fin:\n",
    "\n",
    "2022-04-26"
   ]
  },
  {
   "cell_type": "markdown",
   "id": "a507dbdd-37ca-4d25-a5cc-8b38ed8b50c9",
   "metadata": {},
   "source": [
    "```\n",
    "query {\n",
    "  physical_devices(pagination: {limit: 0}, search: {field: serial_number, value: \"HLPXGM09049899\", operator: like}) {\n",
    "    device_deploymentsFilter(pagination: {limit: 0}) {\n",
    "      date_deployment\n",
    "    }\n",
    "  }\n",
    "}\n",
    "```\n",
    "\n",
    "```\n",
    "{\n",
    "  \"data\": {\n",
    "    \"physical_devices\": [\n",
    "      {\n",
    "        \"device_deploymentsFilter\": [\n",
    "          {\n",
    "            \"date_deployment\": \"2021-10-31T19:12:00.000Z\"\n",
    "          },\n",
    "          {\n",
    "            \"date_deployment\": \"2021-12-03T21:36:00.000Z\"\n",
    "          },\n",
    "          {\n",
    "            \"date_deployment\": \"2022-02-18T22:52:00.000Z\"\n",
    "          },\n",
    "          {\n",
    "            \"date_deployment\": \"2022-06-12T22:06:00.000Z\"\n",
    "          },\n",
    "          {\n",
    "            \"date_deployment\": \"2022-04-29T19:27:00.000Z\"\n",
    "          }\n",
    "        ]\n",
    "      }\n",
    "    ]\n",
    "  }\n",
    "}\n",
    "```"
   ]
  },
  {
   "cell_type": "markdown",
   "id": "154945c7-6bfb-4eba-93de-bb226a7b9cbd",
   "metadata": {},
   "source": [
    "**The number of days of last file and day of deployment exceed `MAX_NUMBER_OF_DAYS=40` which is the default now**\n",
    "\n",
    "**Need to increase `MAX_NUMBER_OF_DAYS`**"
   ]
  },
  {
   "cell_type": "markdown",
   "id": "f67aa216-4101-4413-9c5e-135ad50f5db4",
   "metadata": {},
   "source": [
    "**This dir will be included in: `/LUSTRE/sacmod/SIPECAM/data/dirs_not_moved_with_simex/dirs_not_moved_with_simex_17-07-2022.txt`**"
   ]
  },
  {
   "cell_type": "code",
   "execution_count": 2,
   "id": "f0578838-c076-430f-8060-6392d474a323",
   "metadata": {},
   "outputs": [],
   "source": [
    "%%bash\n",
    "d=\"/LUSTRE/sacmod/SIPECAM/cumulo_33/entrega_09.junio.2022/Nodo-33-Tecpan/Las mesas-1-33-1-1219/49899\"\n",
    "echo \"$d\" >> /LUSTRE/sacmod/SIPECAM/data/dirs_not_moved_with_simex/dirs_not_moved_with_simex_17-07-2022.txt "
   ]
  },
  {
   "cell_type": "markdown",
   "id": "c7f985aa-e570-498c-9e48-91a152b36e9c",
   "metadata": {},
   "source": [
    "Also, next query was executed:"
   ]
  },
  {
   "cell_type": "markdown",
   "id": "b319e3ec-ecf1-4397-ac1a-b5c0f7b94fa3",
   "metadata": {},
   "source": [
    "```\n",
    "query {\n",
    "  physical_devices(pagination: {limit: 0}, search: {field: serial_number, value: \"HLPXGM09049899\", operator: like}) {\n",
    "    device_deploymentsFilter(pagination: {limit: 0}, search: {operator: and, search: [{field: date_deployment, value: \"2022-02-18\", valueType: String, operator: gte}, {field: date_deployment, value: \"2022-04-26\", valueType: String, operator: lte}]}) {\n",
    "      node {\n",
    "        nomenclatura\n",
    "        cat_integr\n",
    "        ecosystems {\n",
    "          name\n",
    "        }\n",
    "      }\n",
    "      cumulus {\n",
    "        name\n",
    "        geometry\n",
    "      }\n",
    "      date_deployment\n",
    "      latitude\n",
    "      longitude\n",
    "    }\n",
    "  }\n",
    "}\n",
    "```\n",
    "\n",
    "```\n",
    "{\n",
    "  \"data\": {\n",
    "    \"physical_devices\": [\n",
    "      {\n",
    "        \"device_deploymentsFilter\": [\n",
    "          {\n",
    "            \"node\": null,\n",
    "            \"cumulus\": {\n",
    "              \"name\": \"33\",\n",
    "              \"geometry\": {\n",
    "                \"type\": \"Polygon\",\n",
    "                \"coordinates\": [\n",
    "                  [\n",
    "                    [\n",
    "                      -100.564005,\n",
    "                      17.58894\n",
    "                    ],\n",
    "                    [\n",
    "                      -100.641829,\n",
    "                      17.671385\n",
    "                    ],\n",
    "                    [\n",
    "                      -100.705016,\n",
    "                      17.656183\n",
    "                    ],\n",
    "                    [\n",
    "                      -100.700245,\n",
    "                      17.560264\n",
    "                    ],\n",
    "                    [\n",
    "                      -100.693208,\n",
    "                      17.484108\n",
    "                    ],\n",
    "                    [\n",
    "                      -100.605698,\n",
    "                      17.49509\n",
    "                    ],\n",
    "                    [\n",
    "                      -100.564005,\n",
    "                      17.58894\n",
    "                    ]\n",
    "                  ]\n",
    "                ]\n",
    "              }\n",
    "            },\n",
    "            \"date_deployment\": \"2022-02-18T22:52:00.000Z\",\n",
    "            \"latitude\": null,\n",
    "            \"longitude\": null\n",
    "          }\n",
    "        ]\n",
    "      }\n",
    "    ]\n",
    "  }\n",
    "}\n",
    "```"
   ]
  },
  {
   "cell_type": "markdown",
   "id": "c28fb441-3d8f-42c5-bf6c-09bd18d37980",
   "metadata": {},
   "source": [
    "**There are null values in `node`, `latitude`, `longitude`, need to check with Jaime.**"
   ]
  },
  {
   "cell_type": "markdown",
   "id": "ccfc6c72-553c-4814-8296-4301b120dbf4",
   "metadata": {},
   "source": [
    "**After Jaime checked, in [17-07-2022](https://github.com/CONABIO/sipecam-metadata-extractor/blob/develop/notebooks/history_SiPeCaM/4_07-2022/17-07-2022.ipynb) will execute again `move` cli**.\n",
    "\n",
    "**After execution `move` cli ended successfully, then dir `/LUSTRE/sacmod/SIPECAM/cumulo_33/entrega_09.junio.2022/Nodo-33-Tecpan/Las mesas-1-33-1-1219/49899` will be removed from: `/LUSTRE/sacmod/SIPECAM/data/dirs_not_moved_with_simex/dirs_not_moved_with_simex_17-07-2022.txt `**"
   ]
  },
  {
   "cell_type": "markdown",
   "id": "35e98bc5-3052-41e8-9b02-bf2f63e8d5f8",
   "metadata": {},
   "source": [
    "# 8)"
   ]
  },
  {
   "cell_type": "markdown",
   "id": "879d4867-0626-4301-8de5-7de6b8bce2f6",
   "metadata": {},
   "source": [
    "`/LUSTRE/sacmod/SIPECAM/cumulo_33/entrega_09.junio.2022/Nodo-33-Tecpan/La sierrita-1-33-0-1224/8463-rev`"
   ]
  },
  {
   "cell_type": "markdown",
   "id": "468a53a4-4730-4c36-ae41-af7ef47f09d0",
   "metadata": {},
   "source": [
    "**Wasn't moved because begin date `2022-01-11` and end date `2022-01-12` have `DaysBetweenFirstAndLastDate: 1` but this dir have fauna, then need to modify `simex` locally to truly move this dir**"
   ]
  },
  {
   "cell_type": "markdown",
   "id": "d47ef638-d9fa-4760-9eb5-c2048ce85ec3",
   "metadata": {},
   "source": [
    "**This dir will be included in: `/LUSTRE/sacmod/SIPECAM/data/dirs_not_moved_with_simex/dirs_not_moved_with_simex_17-07-2022.txt`**"
   ]
  },
  {
   "cell_type": "code",
   "execution_count": 4,
   "id": "e01fe9d2-7768-4760-a0ae-80a519d494eb",
   "metadata": {},
   "outputs": [],
   "source": [
    "%%bash\n",
    "d=\"/LUSTRE/sacmod/SIPECAM/cumulo_33/entrega_09.junio.2022/Nodo-33-Tecpan/La sierrita-1-33-0-1224/8463-rev\"\n",
    "echo \"$d\" >> /LUSTRE/sacmod/SIPECAM/data/dirs_not_moved_with_simex/dirs_not_moved_with_simex_17-07-2022.txt "
   ]
  },
  {
   "cell_type": "markdown",
   "id": "5258b6cc-7711-44d1-acb1-bf548d286427",
   "metadata": {},
   "source": [
    "# 9)"
   ]
  },
  {
   "cell_type": "markdown",
   "id": "724df573-1b0d-4e73-b4ff-66e0411ebdd1",
   "metadata": {},
   "source": [
    "`/LUSTRE/sacmod/SIPECAM/cumulo_33/entrega_09.junio.2022/Nodo-33-Tecpan/Trementina-dic-1-33-1227/9102/100RECNX`"
   ]
  },
  {
   "cell_type": "markdown",
   "id": "d84d2ddd-0295-4529-8cd8-645c55bddc57",
   "metadata": {},
   "source": [
    "**Dir only have images, videos of people**"
   ]
  },
  {
   "cell_type": "markdown",
   "id": "d86d15cb-1db4-4edb-8864-e0c5b1ab4b41",
   "metadata": {},
   "source": [
    "# 10)"
   ]
  },
  {
   "cell_type": "markdown",
   "id": "268427ca-f040-48d3-8631-d75ebd571b7c",
   "metadata": {},
   "source": [
    "`/LUSTRE/sacmod/SIPECAM/cumulo_33/entrega_09.junio.2022/Nodo-33-Tecpan/Trementina-dic-1-33-1227/9898/100RECNX`"
   ]
  },
  {
   "cell_type": "markdown",
   "id": "c49650be-4341-4dbe-bd26-711c673c576d",
   "metadata": {},
   "source": [
    "**Dir only have images, videos of people**"
   ]
  },
  {
   "cell_type": "markdown",
   "id": "612e7921-2e48-4d99-88d6-9676ef298887",
   "metadata": {},
   "source": [
    "# 11)"
   ]
  },
  {
   "cell_type": "markdown",
   "id": "c12f51ce-8da7-4f5f-8e91-b82240aa1a91",
   "metadata": {},
   "source": [
    "`/LUSTRE/sacmod/SIPECAM/cumulo_33/entrega_09.junio.2022/Nodo-33-Tecpan/Almendaris-1-33-0-1226/8461`"
   ]
  },
  {
   "cell_type": "markdown",
   "id": "f5deb7f4-6d97-455f-a3fd-c34549958c5f",
   "metadata": {},
   "source": [
    "Inicio:\n",
    "\n",
    "2022-02-17\n",
    "\n",
    "Fin:\n",
    "\n",
    "2022-04-26"
   ]
  },
  {
   "cell_type": "markdown",
   "id": "171b642e-b95e-4416-b829-291f6e6fc980",
   "metadata": {},
   "source": [
    "```\n",
    "query {\n",
    "  physical_devices(pagination: {limit: 0}, search: {field: serial_number, value: \"HLPXGM09048461\", operator: like}) {\n",
    "    device_deploymentsFilter(pagination: {limit: 0}) {\n",
    "      date_deployment\n",
    "    }\n",
    "  }\n",
    "}\n",
    "```\n",
    "\n",
    "```\n",
    "{'data': {'physical_devices': [{'device_deploymentsFilter': \n",
    "[{'date_deployment': '2021-11-02T18:24:00.000Z'}, \n",
    "{'date_deployment': '2021-12-04T21:16:00.000Z'}, \n",
    "{'date_deployment': '2022-01-11T21:04:00.000Z'}, \n",
    "{'date_deployment': '2022-02-16T17:18:00.000Z'}, \n",
    "{'date_deployment': '2022-04-28T20:53:00.000Z'}, \n",
    "{'date_deployment': '2022-06-12T16:25:00.000Z'}]}]}}\n",
    "```"
   ]
  },
  {
   "cell_type": "markdown",
   "id": "7a4fdd61-5d3b-403f-9b3e-ed20084f38aa",
   "metadata": {},
   "source": [
    "**The number of days of last file and day of deployment exceed `MAX_NUMBER_OF_DAYS=40` which is the default now**\n",
    "\n",
    "**Need to increase `MAX_NUMBER_OF_DAYS`**"
   ]
  },
  {
   "cell_type": "markdown",
   "id": "bf3d85eb-b79d-4771-9abd-566fca795408",
   "metadata": {},
   "source": [
    "# 12)"
   ]
  },
  {
   "cell_type": "markdown",
   "id": "cd19ffbd-41c1-4f0a-a905-84f03c6abcf9",
   "metadata": {},
   "source": [
    "`/LUSTRE/sacmod/SIPECAM/cumulo_33/entrega_09.junio.2022/Nodo-33-Tecpan/Almendaris-1-33-0-1226/9898`"
   ]
  },
  {
   "cell_type": "markdown",
   "id": "dbb3dee5-1fd1-429e-a47e-898d6dc3880f",
   "metadata": {},
   "source": [
    "Inicio:\n",
    "\n",
    "2022-02-16\n",
    "\n",
    "Fin:\n",
    "\n",
    "2022-04-26"
   ]
  },
  {
   "cell_type": "markdown",
   "id": "26b09954-cd61-447b-a5c4-381019b9300a",
   "metadata": {},
   "source": [
    "```\n",
    "query {\n",
    "  physical_devices(pagination: {limit: 0}, search: {field: serial_number, value: \"HLPXGM09049898\", operator: like}) {\n",
    "    device_deploymentsFilter(pagination: {limit: 0}) {\n",
    "      date_deployment\n",
    "    }\n",
    "  }\n",
    "}\n",
    "```\n",
    "\n",
    "```\n",
    "{'data': {'physical_devices': [{'device_deploymentsFilter': \n",
    "[{'date_deployment': '2021-11-01T19:17:00.000Z'}, \n",
    "{'date_deployment': '2021-12-03T19:19:00.000Z'}, \n",
    "{'date_deployment': '2022-01-11T19:56:00.000Z'}, \n",
    "{'date_deployment': '2022-04-27T18:09:00.000Z'}, \n",
    "{'date_deployment': '2022-04-26T15:08:00.000Z'}, \n",
    "{'date_deployment': '2022-06-13T13:59:00.000Z'}]}]}}\n",
    "```"
   ]
  },
  {
   "cell_type": "markdown",
   "id": "573ea2fc-6464-4bae-9594-b8c3f2694e5c",
   "metadata": {},
   "source": [
    "**Se debe asignar `2022-01-11` como fecha de despliegue?**"
   ]
  },
  {
   "cell_type": "markdown",
   "id": "470a0e4b-eae2-4549-afaf-cdf7226e6d4f",
   "metadata": {},
   "source": [
    "# 13)"
   ]
  },
  {
   "cell_type": "markdown",
   "id": "1e70dc25-d51e-4420-9fb2-3828f0f8cae3",
   "metadata": {},
   "source": [
    "`/LUSTRE/sacmod/SIPECAM/cumulo_33/entrega_09.junio.2022/Nodo-33-Tecpan/Caldo-Flaco-1-33-1-1220/49970`"
   ]
  },
  {
   "cell_type": "markdown",
   "id": "e66cc840-1ea0-41be-84fb-7cafd6716f91",
   "metadata": {},
   "source": [
    "Inicio:\n",
    "\n",
    "2022-01-10\n",
    "\n",
    "Fin:\n",
    "\n",
    "2022-02-15"
   ]
  },
  {
   "cell_type": "markdown",
   "id": "0172b934-0f42-478e-9590-5f3d62acf387",
   "metadata": {},
   "source": [
    "```\n",
    "query {\n",
    "  physical_devices(pagination: {limit: 0}, search: {field: serial_number, value: \"HLPXGM09049970\", operator: like}) {\n",
    "    device_deploymentsFilter(pagination: {limit: 0}) {\n",
    "      date_deployment\n",
    "    }\n",
    "  }\n",
    "}\n",
    "```\n",
    "\n",
    "```\n",
    "{'data': {'physical_devices': [{'device_deploymentsFilter': \n",
    "[{'date_deployment': '2021-10-31T21:28:00.000Z'}, \n",
    "{'date_deployment': '2021-12-03T19:19:00.000Z'}, \n",
    "{'date_deployment': '2022-02-19T19:03:00.000Z'}, \n",
    "{'date_deployment': '2022-06-14T15:49:00.000Z'}, \n",
    "{'date_deployment': '2022-04-29T20:03:00.000Z'}]}]}}\n",
    "```"
   ]
  },
  {
   "cell_type": "markdown",
   "id": "6e05cc8c-0f44-4fb9-8c7b-dd37a6386904",
   "metadata": {},
   "source": [
    "**Se debe asignar `2021-12-03` como fecha de despliegue?**"
   ]
  },
  {
   "cell_type": "markdown",
   "id": "be4b274d-b769-4100-9365-309ca1d60e9c",
   "metadata": {},
   "source": [
    "# 14)"
   ]
  },
  {
   "cell_type": "markdown",
   "id": "7b808def-24ab-4f00-8765-a24bfd2fbe72",
   "metadata": {},
   "source": [
    "`/LUSTRE/sacmod/SIPECAM/cumulo_33/entrega_09.junio.2022/Nodo-33-Tecpan/Caldo-Flaco-1-33-1-1220/49337`"
   ]
  },
  {
   "cell_type": "markdown",
   "id": "a04e3c80-d01c-458e-a3ce-377fbba44b00",
   "metadata": {},
   "source": [
    "Inicio:\n",
    "\n",
    "2022-01-11\n",
    "\n",
    "Fin:\n",
    "\n",
    "2022-02-15"
   ]
  },
  {
   "cell_type": "markdown",
   "id": "5fac8acf-0b00-4403-882a-59882bf13742",
   "metadata": {},
   "source": [
    "```\n",
    "query {\n",
    "  physical_devices(pagination: {limit: 0}, search: {field: serial_number, value: \"HLPXGM09049337\", operator: like}) {\n",
    "    device_deploymentsFilter(pagination: {limit: 0}) {\n",
    "      date_deployment\n",
    "    }\n",
    "  }\n",
    "}\n",
    "```\n",
    "\n",
    "```\n",
    "{'data': {'physical_devices': [{'device_deploymentsFilter': \n",
    "[{'date_deployment': '2021-10-31T20:37:00.000Z'}, \n",
    "{'date_deployment': '2021-12-02T20:47:00.000Z'}, \n",
    "{'date_deployment': '2022-02-17T19:13:00.000Z'}, \n",
    "{'date_deployment': '2022-06-13T18:25:00.000Z'}, \n",
    "{'date_deployment': '2022-04-29T17:10:00.000Z'}]}]}}\n",
    "```"
   ]
  },
  {
   "cell_type": "markdown",
   "id": "0dcedee1-1c4a-416f-b42f-753f7f67d5bd",
   "metadata": {},
   "source": [
    "**Se debe asignar `2021-12-02` como fecha de despliegue?**"
   ]
  },
  {
   "cell_type": "markdown",
   "id": "f688a121-9acf-40c4-918a-25db8c09165f",
   "metadata": {},
   "source": [
    "# 15)"
   ]
  },
  {
   "cell_type": "markdown",
   "id": "0a19f698-252d-49de-8019-40cc54e99dd3",
   "metadata": {},
   "source": [
    "`/LUSTRE/sacmod/SIPECAM/cumulo_33/entrega_09.junio.2022/Nodo-33-Tecpan/Caldo-Flaco-1-33-1-1220/48227/101RECNX`"
   ]
  },
  {
   "cell_type": "markdown",
   "id": "1f7c7648-23c4-4f68-9cdb-998bc55fcc8e",
   "metadata": {},
   "source": [
    "Inicio:\n",
    "\n",
    "2022-01-11\n",
    "\n",
    "Fin:\n",
    "\n",
    "2022-02-15"
   ]
  },
  {
   "cell_type": "markdown",
   "id": "e2650877-b172-467c-92cd-75fdef9444f8",
   "metadata": {},
   "source": [
    "```\n",
    "query {\n",
    "  physical_devices(pagination: {limit: 0}, search: {field: serial_number, value: \"HLPXGM09048227\", operator: like}) {\n",
    "    device_deploymentsFilter(pagination: {limit: 0}) {\n",
    "      date_deployment\n",
    "    }\n",
    "  }\n",
    "}\n",
    "```\n",
    "\n",
    "```\n",
    "{'data': {'physical_devices': [{'device_deploymentsFilter': \n",
    "[{'date_deployment': '2021-10-31T23:26:00.000Z'}, \n",
    "{'date_deployment': '2021-12-04T00:58:00.000Z'}, \n",
    "{'date_deployment': '2022-02-17T21:01:00.000Z'}, \n",
    "{'date_deployment': '2022-04-29T21:32:00.000Z'}, \n",
    "{'date_deployment': '2022-06-12T20:52:00.000Z'}]}]}}\n",
    "```"
   ]
  },
  {
   "cell_type": "markdown",
   "id": "3d7fab58-1784-4e0b-bb15-ba6ef3c0c21b",
   "metadata": {},
   "source": [
    "**Se debe asignar `2021-12-04` como fecha de despliegue?**"
   ]
  },
  {
   "cell_type": "markdown",
   "id": "53038fdf-4d01-4e54-9d66-5aaf002cfee6",
   "metadata": {},
   "source": [
    "# 16)"
   ]
  },
  {
   "cell_type": "markdown",
   "id": "a2e4a035-fbd4-40c4-a1a7-7c6bae0ad59d",
   "metadata": {},
   "source": [
    "`/LUSTRE/sacmod/SIPECAM/cumulo_33/entrega_09.junio.2022/Nodo-33-Tecpan/Caldo-Flaco-1-33-1-1220/48870`"
   ]
  },
  {
   "cell_type": "markdown",
   "id": "73563ae7-3bf2-46b6-bf09-397fd95a913c",
   "metadata": {},
   "source": [
    "Inicio:\n",
    "\n",
    "2022-01-11\n",
    "\n",
    "Fin:\n",
    "\n",
    "2022-02-15"
   ]
  },
  {
   "cell_type": "markdown",
   "id": "d077884a-6a66-4f04-9fa7-4f99e607d362",
   "metadata": {},
   "source": [
    "```\n",
    "query {\n",
    "  physical_devices(pagination: {limit: 0}, search: {field: serial_number, value: \"HLPXGM09048870\", operator: like}) {\n",
    "    device_deploymentsFilter(pagination: {limit: 0}) {\n",
    "      date_deployment\n",
    "    }\n",
    "  }\n",
    "}\n",
    "```\n",
    "\n",
    "```\n",
    "{'data': {'physical_devices': [{'device_deploymentsFilter': \n",
    "[{'date_deployment': '2021-11-01T22:51:00.000Z'}, \n",
    "{'date_deployment': '2021-12-03T20:02:00.000Z'}, \n",
    "{'date_deployment': '2022-02-19T16:05:00.000Z'}, \n",
    "{'date_deployment': '2022-06-13T16:28:00.000Z'}, \n",
    "{'date_deployment': '2022-04-29T22:13:00.000Z'}]}]}}\n",
    "```"
   ]
  },
  {
   "cell_type": "markdown",
   "id": "cf066312-ab08-457f-adc6-ee5274ec5baa",
   "metadata": {},
   "source": [
    "**Se debe asignar `2021-12-03` como fecha de despliegue?**"
   ]
  },
  {
   "cell_type": "markdown",
   "id": "ffb7b783-ec85-4044-b450-e3259d3d89f7",
   "metadata": {},
   "source": [
    "# 17)"
   ]
  },
  {
   "cell_type": "markdown",
   "id": "79e4d639-cf72-439c-b47b-c888562d76a9",
   "metadata": {},
   "source": [
    "`/LUSTRE/sacmod/SIPECAM/cumulo_33/entrega_09.junio.2022/Nodo-33-Tecpan/Caldo-Flaco-1-33-1-1220/49899`"
   ]
  },
  {
   "cell_type": "markdown",
   "id": "96156e6b-3b1a-42b3-b597-49d9348d99f6",
   "metadata": {},
   "source": [
    "Inicio:\n",
    "\n",
    "2022-01-12\n",
    "\n",
    "Fin:\n",
    "\n",
    "2022-01-29"
   ]
  },
  {
   "cell_type": "markdown",
   "id": "a46654d8-a4e9-43a5-b66f-348738715816",
   "metadata": {},
   "source": [
    "```\n",
    "query {\n",
    "  physical_devices(pagination: {limit: 0}, search: {field: serial_number, value: \"HLPXGM09049899\", operator: like}) {\n",
    "    device_deploymentsFilter(pagination: {limit: 0}) {\n",
    "      date_deployment\n",
    "    }\n",
    "  }\n",
    "}\n",
    "```\n",
    "\n",
    "```\n",
    "{'data': {'physical_devices': [{'device_deploymentsFilter': \n",
    "[{'date_deployment': '2021-10-31T19:12:00.000Z'}, \n",
    "{'date_deployment': '2021-12-03T21:36:00.000Z'}, \n",
    "{'date_deployment': '2022-02-18T22:52:00.000Z'}, \n",
    "{'date_deployment': '2022-06-12T22:06:00.000Z'}, \n",
    "{'date_deployment': '2022-04-29T19:27:00.000Z'}]}]}}\n",
    "\n",
    "```"
   ]
  },
  {
   "cell_type": "markdown",
   "id": "00059a5e-912d-4112-9ae9-82294ed4cde9",
   "metadata": {},
   "source": [
    "**Se debe asignar `2021-12-03` como fecha de despliegue?**"
   ]
  },
  {
   "cell_type": "markdown",
   "id": "34ea1c5c-cd63-4136-a13d-515ded0d7f67",
   "metadata": {},
   "source": [
    "# 18)"
   ]
  },
  {
   "cell_type": "markdown",
   "id": "dd1c104f-3a20-4b7c-bcae-88616a464b99",
   "metadata": {},
   "source": [
    "`/LUSTRE/sacmod/SIPECAM/cumulo_33/entrega_09.junio.2022/Nodo-33-Tecpan/El Pinito-1-33-1-1222/49970/101RECNX`"
   ]
  },
  {
   "cell_type": "markdown",
   "id": "0e8d396f-3413-4b63-b58a-c71238968778",
   "metadata": {},
   "source": [
    "**Dir only have images, videos of people**"
   ]
  }
 ],
 "metadata": {
  "kernelspec": {
   "display_name": "Python 3 (ipykernel)",
   "language": "python",
   "name": "python3"
  },
  "language_info": {
   "codemirror_mode": {
    "name": "ipython",
    "version": 3
   },
   "file_extension": ".py",
   "mimetype": "text/x-python",
   "name": "python",
   "nbconvert_exporter": "python",
   "pygments_lexer": "ipython3",
   "version": "3.8.10"
  }
 },
 "nbformat": 4,
 "nbformat_minor": 5
}
