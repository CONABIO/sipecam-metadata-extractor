{
 "cells": [
  {
   "cell_type": "markdown",
   "id": "45c13be1-19ad-4a7b-a65d-8f27d84da7fe",
   "metadata": {},
   "source": [
    "# Alternative"
   ]
  },
  {
   "cell_type": "code",
   "execution_count": 2,
   "id": "12670cc7-2429-4c3a-ae6d-f734c7900f4f",
   "metadata": {},
   "outputs": [
    {
     "name": "stdout",
     "output_type": "stream",
     "text": [
      "Collecting boto3\n",
      "  Downloading boto3-1.24.61-py3-none-any.whl (132 kB)\n",
      "\u001b[2K     \u001b[90m━━━━━━━━━━━━━━━━━━━━━━━━━━━━━━━━━━━━━━━\u001b[0m \u001b[32m132.5/132.5 kB\u001b[0m \u001b[31m1.5 MB/s\u001b[0m eta \u001b[36m0:00:00\u001b[0ma \u001b[36m0:00:01\u001b[0m\n",
      "\u001b[?25hCollecting cloudpathlib[s3]\n",
      "  Downloading cloudpathlib-0.10.0-py3-none-any.whl (38 kB)\n",
      "Collecting botocore<1.28.0,>=1.27.61\n",
      "  Downloading botocore-1.27.61-py3-none-any.whl (9.1 MB)\n",
      "\u001b[2K     \u001b[90m━━━━━━━━━━━━━━━━━━━━━━━━━━━━━━━━━━━━━━━━\u001b[0m \u001b[32m9.1/9.1 MB\u001b[0m \u001b[31m21.0 MB/s\u001b[0m eta \u001b[36m0:00:00\u001b[0m00:01\u001b[0m00:01\u001b[0m\n",
      "\u001b[?25hCollecting jmespath<2.0.0,>=0.7.1\n",
      "  Downloading jmespath-1.0.1-py3-none-any.whl (20 kB)\n",
      "Collecting s3transfer<0.7.0,>=0.6.0\n",
      "  Downloading s3transfer-0.6.0-py3-none-any.whl (79 kB)\n",
      "\u001b[2K     \u001b[90m━━━━━━━━━━━━━━━━━━━━━━━━━━━━━━━━━━━━━━━━\u001b[0m \u001b[32m79.6/79.6 kB\u001b[0m \u001b[31m19.8 MB/s\u001b[0m eta \u001b[36m0:00:00\u001b[0m\n",
      "\u001b[?25hRequirement already satisfied: urllib3<1.27,>=1.25.4 in /usr/lib/python3/dist-packages (from botocore<1.28.0,>=1.27.61->boto3) (1.25.8)\n",
      "Requirement already satisfied: python-dateutil<3.0.0,>=2.1 in /usr/local/lib/python3.8/dist-packages (from botocore<1.28.0,>=1.27.61->boto3) (2.8.2)\n",
      "Requirement already satisfied: six>=1.5 in /usr/lib/python3/dist-packages (from python-dateutil<3.0.0,>=2.1->botocore<1.28.0,>=1.27.61->boto3) (1.14.0)\n",
      "Installing collected packages: jmespath, cloudpathlib, botocore, s3transfer, boto3\n",
      "Successfully installed boto3-1.24.61 botocore-1.27.61 cloudpathlib-0.10.0 jmespath-1.0.1 s3transfer-0.6.0\n",
      "\u001b[33mWARNING: Running pip as the 'root' user can result in broken permissions and conflicting behaviour with the system package manager. It is recommended to use a virtual environment instead: https://pip.pypa.io/warnings/venv\u001b[0m\u001b[33m\n",
      "\u001b[0m"
     ]
    }
   ],
   "source": [
    "!pip install boto3 cloudpathlib[s3]"
   ]
  },
  {
   "cell_type": "code",
   "execution_count": 3,
   "id": "5715ebe7-9136-47e8-b96a-6b4a338fabd6",
   "metadata": {},
   "outputs": [],
   "source": [
    "import glob\n",
    "import itertools\n",
    "import os\n",
    "\n",
    "import boto3\n",
    "from cloudpathlib import S3Client\n",
    "from cloudpathlib import CloudPath"
   ]
  },
  {
   "cell_type": "code",
   "execution_count": null,
   "id": "76e76fb8-81e5-4e85-8340-ed5fccbe3519",
   "metadata": {},
   "outputs": [],
   "source": [
    "from simex import SUFFIXES_SIPECAM\n"
   ]
  },
  {
   "cell_type": "code",
   "execution_count": 4,
   "id": "ca928cce-f010-4279-86cb-3d44b558bda7",
   "metadata": {},
   "outputs": [],
   "source": [
    "BUCKET = \"sipecam-open-data\"\n",
    "PREPEND = \"s3://\"\n",
    "path_sipecam = \"raw-land-data/entrega.24.Agosto.2022/\"\n"
   ]
  },
  {
   "cell_type": "code",
   "execution_count": 5,
   "id": "7cdd9628-1612-4f33-a4e3-e2030728a7e9",
   "metadata": {},
   "outputs": [],
   "source": [
    "path_s3 = os.path.join(PREPEND, BUCKET, path_sipecam)"
   ]
  },
  {
   "cell_type": "code",
   "execution_count": 6,
   "id": "ccfffb8b-54cc-43a5-a008-3eb91d782050",
   "metadata": {},
   "outputs": [
    {
     "data": {
      "text/plain": [
       "'s3://sipecam-open-data/raw-land-data/entrega.24.Agosto.2022/'"
      ]
     },
     "execution_count": 6,
     "metadata": {},
     "output_type": "execute_result"
    }
   ],
   "source": [
    "path_s3"
   ]
  },
  {
   "cell_type": "code",
   "execution_count": 7,
   "id": "da612955-7a94-475b-95b7-09b63cfe4ee6",
   "metadata": {},
   "outputs": [],
   "source": [
    "client = S3Client(no_sign_request=True)\n",
    "root_dir = CloudPath(path_s3, client=client)"
   ]
  },
  {
   "cell_type": "code",
   "execution_count": 8,
   "id": "3e5ef534-7f47-4ff6-8885-a266111bac71",
   "metadata": {},
   "outputs": [
    {
     "data": {
      "text/plain": [
       "S3Path('s3://sipecam-open-data/raw-land-data/entrega.24.Agosto.2022/')"
      ]
     },
     "execution_count": 8,
     "metadata": {},
     "output_type": "execute_result"
    }
   ],
   "source": [
    "root_dir"
   ]
  },
  {
   "cell_type": "code",
   "execution_count": 9,
   "id": "455a1b96-969b-4c23-8266-822af3dbc3ae",
   "metadata": {},
   "outputs": [],
   "source": [
    "expression = \"**/*\""
   ]
  },
  {
   "cell_type": "code",
   "execution_count": 10,
   "id": "5079cae9-f1fd-4c21-ad25-228b03d4643a",
   "metadata": {},
   "outputs": [],
   "source": [
    "patterns = SUFFIXES_SIPECAM"
   ]
  },
  {
   "cell_type": "code",
   "execution_count": 11,
   "id": "34c024d4-abca-4a30-9e88-da9f271f6856",
   "metadata": {},
   "outputs": [
    {
     "data": {
      "text/plain": [
       "['.WAV', '.wav', '.JPG', '.jpg', '.AVI', '.avi']"
      ]
     },
     "execution_count": 11,
     "metadata": {},
     "output_type": "execute_result"
    }
   ],
   "source": [
    "patterns"
   ]
  },
  {
   "cell_type": "code",
   "execution_count": 12,
   "id": "5a3759f4-73c4-41fd-aabc-1f28bb5f25f0",
   "metadata": {},
   "outputs": [],
   "source": [
    "i = itertools.chain.from_iterable(root_dir.glob(expression + patterns[1]))"
   ]
  },
  {
   "cell_type": "code",
   "execution_count": null,
   "id": "e64bebc2-d531-4d2f-a22f-25a17e9f3831",
   "metadata": {},
   "outputs": [],
   "source": [
    "l_wavs = []\n",
    "for wav in i:\n",
    "    l_wavs.append(wav)"
   ]
  },
  {
   "cell_type": "code",
   "execution_count": null,
   "id": "a4fd1a2f-07c8-4ed4-a1dc-20026d247278",
   "metadata": {},
   "outputs": [],
   "source": [
    "len(l_wavs)"
   ]
  },
  {
   "cell_type": "code",
   "execution_count": null,
   "id": "319aafe9-ead4-4f5e-be6d-c35e59c4d717",
   "metadata": {},
   "outputs": [],
   "source": [
    "itertools.chain.from_iterable(root_dir.glob(expression + pattern) for pattern in patterns)"
   ]
  },
  {
   "cell_type": "markdown",
   "id": "0bd18e4c-80db-44b8-9dbf-09a57776e856",
   "metadata": {},
   "source": [
    "# How is used `simex` now:"
   ]
  },
  {
   "cell_type": "code",
   "execution_count": 1,
   "id": "892b804e-aee2-4601-96d9-9ebdcd194d3f",
   "metadata": {},
   "outputs": [],
   "source": [
    "from simex import SUFFIXES_SIPECAM\n",
    "from simex.utils.directories_and_files import multiple_file_types"
   ]
  },
  {
   "cell_type": "code",
   "execution_count": null,
   "id": "a82f8e0e-5018-4e8a-8b4f-2413d23ed465",
   "metadata": {},
   "outputs": [],
   "source": [
    "input_directory=\"/s3_open_data_mount/raw-land-data/entrega.24.Agosto.2022/\""
   ]
  },
  {
   "cell_type": "code",
   "execution_count": null,
   "id": "dbe772ee-259c-48a3-9d08-0fb308f8cd45",
   "metadata": {},
   "outputs": [],
   "source": [
    "for f in multiple_file_types(input_directory, SUFFIXES_SIPECAM,\n",
    "                             recursive=True):"
   ]
  }
 ],
 "metadata": {
  "kernelspec": {
   "display_name": "Python 3 (ipykernel)",
   "language": "python",
   "name": "python3"
  },
  "language_info": {
   "codemirror_mode": {
    "name": "ipython",
    "version": 3
   },
   "file_extension": ".py",
   "mimetype": "text/x-python",
   "name": "python",
   "nbconvert_exporter": "python",
   "pygments_lexer": "ipython3",
   "version": "3.8.10"
  }
 },
 "nbformat": 4,
 "nbformat_minor": 5
}
