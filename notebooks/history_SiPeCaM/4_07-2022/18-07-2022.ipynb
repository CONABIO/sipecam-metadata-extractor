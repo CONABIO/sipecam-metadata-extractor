{
 "cells": [
  {
   "cell_type": "markdown",
   "id": "5cd7a3fc-d3db-4fed-a25d-c588d7870189",
   "metadata": {},
   "source": [
    "# Next delivery: `/LUSTRE/sacmod/SIPECAM/entrega.09.Junio.2022/cumulo_33/`"
   ]
  },
  {
   "cell_type": "markdown",
   "id": "591a64df-c935-451b-a07e-e8f83c4a9c5f",
   "metadata": {},
   "source": [
    "## List of files to extract metadata"
   ]
  },
  {
   "cell_type": "code",
   "execution_count": 1,
   "id": "812d97db-b4d4-432f-ba12-568b6a0c5c87",
   "metadata": {},
   "outputs": [],
   "source": [
    "%%bash\n",
    "dir_with_sipecam_data=/LUSTRE/sacmod/SIPECAM/entrega.09.Junio.2022/cumulo_33/\n",
    "list_of_files_and_subdirectories_to_extract_metadata --input_directory \"$dir_with_sipecam_data\""
   ]
  },
  {
   "cell_type": "markdown",
   "id": "5c4292a7-2510-4281-84ae-abee71420f85",
   "metadata": {},
   "source": [
    "## Check"
   ]
  },
  {
   "cell_type": "code",
   "execution_count": 2,
   "id": "4a6a3809-82e7-4c30-83b4-471534d31046",
   "metadata": {},
   "outputs": [
    {
     "name": "stdout",
     "output_type": "stream",
     "text": [
      "-rw-r--r-- 1 root root 465 Jul 18 07:45 /shared_volume/sipecam_subdirectories_18-07-2022.txt\n"
     ]
    }
   ],
   "source": [
    "%%bash\n",
    "ls -lh /shared_volume/sipecam_subdirectories_18-07-2022.txt"
   ]
  },
  {
   "cell_type": "code",
   "execution_count": 3,
   "id": "f10ec985-226b-476b-a4e9-75c243fba9ef",
   "metadata": {},
   "outputs": [
    {
     "name": "stdout",
     "output_type": "stream",
     "text": [
      "-rw-r--r-- 1 root root 1.2M Jul 18 07:45 /shared_volume/sipecam_files_to_extract_metadata_from_18-07-2022.txt\n"
     ]
    }
   ],
   "source": [
    "%%bash\n",
    "ls -lh /shared_volume/sipecam_files_to_extract_metadata_from_18-07-2022.txt"
   ]
  },
  {
   "cell_type": "code",
   "execution_count": 4,
   "id": "27624828-dfa5-44c5-924a-77ed2e9ff69c",
   "metadata": {},
   "outputs": [
    {
     "name": "stdout",
     "output_type": "stream",
     "text": [
      "6 /shared_volume/sipecam_subdirectories_18-07-2022.txt\n"
     ]
    }
   ],
   "source": [
    "%%bash\n",
    "wc -l /shared_volume/sipecam_subdirectories_18-07-2022.txt"
   ]
  },
  {
   "cell_type": "code",
   "execution_count": 5,
   "id": "51066381-ba7d-4139-9aac-ff511454f906",
   "metadata": {},
   "outputs": [
    {
     "name": "stdout",
     "output_type": "stream",
     "text": [
      "12062 /shared_volume/sipecam_files_to_extract_metadata_from_18-07-2022.txt\n"
     ]
    }
   ],
   "source": [
    "%%bash\n",
    "wc -l /shared_volume/sipecam_files_to_extract_metadata_from_18-07-2022.txt"
   ]
  },
  {
   "cell_type": "code",
   "execution_count": 6,
   "id": "9e90c46a-8049-4edd-b509-414bc5fb7827",
   "metadata": {},
   "outputs": [],
   "source": [
    "%%bash\n",
    "mv /shared_volume/sipecam_subdirectories_18-07-2022.txt /shared_volume/sipecam_subdirectories_18-07-2022_cumulus_33_1.txt"
   ]
  },
  {
   "cell_type": "code",
   "execution_count": 7,
   "id": "fd9501ca-61d0-47e3-9015-778468dac4fa",
   "metadata": {},
   "outputs": [],
   "source": [
    "%%bash\n",
    "mv /shared_volume/sipecam_files_to_extract_metadata_from_18-07-2022.txt /shared_volume/sipecam_files_to_extract_metadata_from_18-07-2022_cumulus_33_1.txt"
   ]
  },
  {
   "cell_type": "code",
   "execution_count": 8,
   "id": "e2fb382b-dc69-4d21-9c4b-897b89907478",
   "metadata": {},
   "outputs": [
    {
     "name": "stdout",
     "output_type": "stream",
     "text": [
      "6 /shared_volume/sipecam_subdirectories_18-07-2022_cumulus_33_1.txt\n"
     ]
    }
   ],
   "source": [
    "%%bash\n",
    "wc -l /shared_volume/sipecam_subdirectories_18-07-2022_cumulus_33_1.txt"
   ]
  },
  {
   "cell_type": "code",
   "execution_count": 9,
   "id": "a74af64f-6671-4a35-890a-8c5cf2458ab1",
   "metadata": {},
   "outputs": [
    {
     "name": "stdout",
     "output_type": "stream",
     "text": [
      "12062 /shared_volume/sipecam_files_to_extract_metadata_from_18-07-2022_cumulus_33_1.txt\n"
     ]
    }
   ],
   "source": [
    "%%bash\n",
    "wc -l /shared_volume/sipecam_files_to_extract_metadata_from_18-07-2022_cumulus_33_1.txt"
   ]
  },
  {
   "cell_type": "code",
   "execution_count": 10,
   "id": "4918d123-2459-4944-8eaa-950c2853d864",
   "metadata": {},
   "outputs": [
    {
     "name": "stdout",
     "output_type": "stream",
     "text": [
      "/LUSTRE/sacmod/SIPECAM/entrega.09.Junio.2022/cumulo_33/1_33_0_1224/10305352\n",
      "20220111_150000.WAV\n",
      "20220111_151000.WAV\n",
      "20220111_152000.WAV\n",
      "/LUSTRE/sacmod/SIPECAM/entrega.09.Junio.2022/cumulo_33/1_33_0_1224/10305583\n",
      "20220110_180000.WAV\n",
      "20220110_182000.WAV\n",
      "20220110_184000.WAV\n",
      "/LUSTRE/sacmod/SIPECAM/entrega.09.Junio.2022/cumulo_33/1_33_0_1224/10307444\n",
      "20220110_161000.WAV\n",
      "20220110_162000.WAV\n",
      "20220110_163000.WAV\n",
      "/LUSTRE/sacmod/SIPECAM/entrega.09.Junio.2022/cumulo_33/1_33_0_1224/10306502\n",
      "20220110_152000.WAV\n",
      "20220110_153000.WAV\n",
      "20220110_154000.WAV\n",
      "/LUSTRE/sacmod/SIPECAM/entrega.09.Junio.2022/cumulo_33/1_33_0_1224/10306554\n",
      "20220111_180000.WAV\n",
      "20220111_182000.WAV\n",
      "20220111_184000.WAV\n",
      "/LUSTRE/sacmod/SIPECAM/entrega.09.Junio.2022/cumulo_33/1_33_0_1224/10306519/10306519\n",
      "20220110_180000.WAV\n",
      "20220110_182000.WAV\n",
      "20220110_184000.WAV\n"
     ]
    }
   ],
   "source": [
    "%%bash\n",
    "#check every first subdirectory has a JPG, WAV or AVI file\n",
    "SAVEIFS=$IFS;IFS=$(echo -en \"\\n\\b\")\n",
    "for f in $(cat /shared_volume/sipecam_subdirectories_18-07-2022_cumulus_33_1.txt)\n",
    "  do echo \"$f\"\n",
    "     ls \"$f\"|grep \"[WAV|wav|JPG|jpg|AVI|avi]$\"|head -n 3\n",
    "done\n",
    "IFS=$SAVEIFS"
   ]
  },
  {
   "cell_type": "markdown",
   "id": "a261f6af-8ce5-40c1-8e44-721d2499b3b0",
   "metadata": {},
   "source": [
    "# Which directories are of audio?\n"
   ]
  },
  {
   "cell_type": "code",
   "execution_count": 11,
   "id": "c8e43dfb-66b5-4c62-a391-42918a9096c0",
   "metadata": {},
   "outputs": [],
   "source": [
    "%%bash\n",
    "if [ -f ~/list_dirs_with_audios.txt ]; then\n",
    "     rm ~/list_dirs_with_audios.txt\n",
    "fi\n",
    "if [ -f ~/list_dirs_with_audios_auxiliary.txt ]; then\n",
    "     rm ~/list_dirs_with_audios_auxiliary.txt\n",
    "fi\n",
    "SAVEIFS=$IFS;IFS=$(echo -en \"\\n\\b\")\n",
    "for f in $(find /LUSTRE/sacmod/SIPECAM/entrega.09.Junio.2022/cumulo_33/ -name \"*.WAV\")\n",
    "  do\n",
    "     dir_audio=$(dirname $f)\n",
    "     echo \"$dir_audio\" >> ~/list_dirs_with_audios_auxiliary.txt\n",
    "done\n",
    "dirs_audio=$(cat ~/list_dirs_with_audios_auxiliary.txt|uniq)\n",
    "echo \"$dirs_audio\" > ~/list_dirs_with_audios.txt\n",
    "IFS=$SAVEIFS"
   ]
  },
  {
   "cell_type": "code",
   "execution_count": 12,
   "id": "94fc913a-14d2-4b9c-b3c3-fd6970958249",
   "metadata": {},
   "outputs": [
    {
     "name": "stdout",
     "output_type": "stream",
     "text": [
      "/LUSTRE/sacmod/SIPECAM/entrega.09.Junio.2022/cumulo_33/1_33_0_1224/10305352\n",
      "/LUSTRE/sacmod/SIPECAM/entrega.09.Junio.2022/cumulo_33/1_33_0_1224/10305583\n",
      "/LUSTRE/sacmod/SIPECAM/entrega.09.Junio.2022/cumulo_33/1_33_0_1224/10307444\n",
      "/LUSTRE/sacmod/SIPECAM/entrega.09.Junio.2022/cumulo_33/1_33_0_1224/10306502\n",
      "/LUSTRE/sacmod/SIPECAM/entrega.09.Junio.2022/cumulo_33/1_33_0_1224/10306554\n",
      "/LUSTRE/sacmod/SIPECAM/entrega.09.Junio.2022/cumulo_33/1_33_0_1224/10306519/10306519\n"
     ]
    }
   ],
   "source": [
    "%%bash\n",
    "cat ~/list_dirs_with_audios.txt"
   ]
  },
  {
   "cell_type": "markdown",
   "id": "fe06d029-1e31-4ab4-a366-6909c2e58cdf",
   "metadata": {
    "tags": []
   },
   "source": [
    "# check_if_there_are_audio_empty_files_in_dir_and_move_them"
   ]
  },
  {
   "cell_type": "code",
   "execution_count": 13,
   "id": "4c14d8b9-4fb8-449f-9995-78f6de91530a",
   "metadata": {},
   "outputs": [
    {
     "name": "stdout",
     "output_type": "stream",
     "text": [
      "/LUSTRE/sacmod/SIPECAM/entrega.09.Junio.2022/cumulo_33/1_33_0_1224/10305352\n",
      "/LUSTRE/sacmod/SIPECAM/entrega.09.Junio.2022/cumulo_33/1_33_0_1224/10305583\n",
      "/LUSTRE/sacmod/SIPECAM/entrega.09.Junio.2022/cumulo_33/1_33_0_1224/10307444\n",
      "/LUSTRE/sacmod/SIPECAM/entrega.09.Junio.2022/cumulo_33/1_33_0_1224/10306502\n",
      "/LUSTRE/sacmod/SIPECAM/entrega.09.Junio.2022/cumulo_33/1_33_0_1224/10306554\n",
      "/LUSTRE/sacmod/SIPECAM/entrega.09.Junio.2022/cumulo_33/1_33_0_1224/10306519/10306519\n"
     ]
    }
   ],
   "source": [
    "%%bash\n",
    "SAVEIFS=$IFS;IFS=$(echo -en \"\\n\\b\")\n",
    "for dir_to_be_processed in $(cat ~/list_dirs_with_audios.txt)\n",
    "    do echo \"$dir_to_be_processed\"\n",
    "    check_if_there_are_audio_empty_files_in_dir_and_move_them --input_directory_audio \"$dir_to_be_processed\" --number_of_processes 10\n",
    "done\n",
    "IFS=$SAVEIFS"
   ]
  },
  {
   "cell_type": "markdown",
   "id": "01eee601-e689-4cfd-8bb7-ebe5011bbfe2",
   "metadata": {
    "tags": []
   },
   "source": [
    "# Extract serial number, dates and metadata of files and device"
   ]
  },
  {
   "cell_type": "code",
   "execution_count": 14,
   "id": "2a387720-32db-4878-8eda-c5896b165858",
   "metadata": {},
   "outputs": [
    {
     "name": "stdout",
     "output_type": "stream",
     "text": [
      "/LUSTRE/sacmod/SIPECAM/entrega.09.Junio.2022/cumulo_33/1_33_0_1224/10305352\n",
      "/LUSTRE/sacmod/SIPECAM/entrega.09.Junio.2022/cumulo_33/1_33_0_1224/10305583\n",
      "/LUSTRE/sacmod/SIPECAM/entrega.09.Junio.2022/cumulo_33/1_33_0_1224/10307444\n",
      "/LUSTRE/sacmod/SIPECAM/entrega.09.Junio.2022/cumulo_33/1_33_0_1224/10306502\n",
      "/LUSTRE/sacmod/SIPECAM/entrega.09.Junio.2022/cumulo_33/1_33_0_1224/10306554\n",
      "/LUSTRE/sacmod/SIPECAM/entrega.09.Junio.2022/cumulo_33/1_33_0_1224/10306519/10306519\n"
     ]
    }
   ],
   "source": [
    "%%bash\n",
    "list_of_dirs_to_be_processed=/shared_volume/sipecam_subdirectories_18-07-2022_cumulus_33_1.txt\n",
    "SAVEIFS=$IFS;IFS=$(echo -en \"\\n\\b\")\n",
    "for dir_to_be_processed in $(cat $list_of_dirs_to_be_processed)\n",
    "    do\n",
    "    echo \"$dir_to_be_processed\"\n",
    "    extract_serial_numbers_dates_and_metadata_of_files_and_device --input_dir \"$dir_to_be_processed\" --parallel --number_of_processes 10\n",
    "done\n",
    "IFS=$SAVEIFS"
   ]
  },
  {
   "cell_type": "markdown",
   "id": "2bdae26d-b155-464f-8a1a-c8b51a227fd0",
   "metadata": {},
   "source": [
    "# Move files to standard directory\n"
   ]
  },
  {
   "cell_type": "code",
   "execution_count": null,
   "id": "074994f1-55f8-4fd3-8773-ad9a9012ae22",
   "metadata": {},
   "outputs": [],
   "source": [
    "%%bash\n",
    "echo \"SIPECAM_ZENDRO_GQL_URL=https://gql.sipecamdata.conabio.gob.mx/\" > ~/.simex_env\n",
    "echo \"SIPECAM_ZENDRO_GQL_USER=<user>\" >> ~/.simex_env\n",
    "echo \"SIPECAM_ZENDRO_GQL_PASSWORD=<password>\" >> ~/.simex_env\n",
    "\n"
   ]
  },
  {
   "cell_type": "code",
   "execution_count": 16,
   "id": "78899f6a-3760-4166-ae46-5febc004aefd",
   "metadata": {},
   "outputs": [
    {
     "name": "stdout",
     "output_type": "stream",
     "text": [
      "/LUSTRE/sacmod/SIPECAM/entrega.09.Junio.2022/cumulo_33/1_33_0_1224/10305352\n",
      "/LUSTRE/sacmod/SIPECAM/entrega.09.Junio.2022/cumulo_33/1_33_0_1224/10305583\n",
      "/LUSTRE/sacmod/SIPECAM/entrega.09.Junio.2022/cumulo_33/1_33_0_1224/10307444\n",
      "/LUSTRE/sacmod/SIPECAM/entrega.09.Junio.2022/cumulo_33/1_33_0_1224/10306502\n",
      "/LUSTRE/sacmod/SIPECAM/entrega.09.Junio.2022/cumulo_33/1_33_0_1224/10306554\n",
      "/LUSTRE/sacmod/SIPECAM/entrega.09.Junio.2022/cumulo_33/1_33_0_1224/10306519/10306519\n"
     ]
    }
   ],
   "source": [
    "%%bash\n",
    "list_of_dirs_to_be_processed=/shared_volume/sipecam_subdirectories_18-07-2022_cumulus_33_1.txt\n",
    "SAVEIFS=$IFS;IFS=$(echo -en \"\\n\\b\")\n",
    "path_std_dir=/LUSTRE/sacmod/SIPECAM/data\n",
    "for dir_to_be_processed in $(cat $list_of_dirs_to_be_processed)\n",
    "    do\n",
    "    echo \"$dir_to_be_processed\"\n",
    "    move_files_to_standard_directory --directory_with_file_of_serial_number_and_dates \"$dir_to_be_processed\" --path_for_standard_directory \"$path_std_dir\"\n",
    "done\n",
    "IFS=$SAVEIFS"
   ]
  },
  {
   "cell_type": "markdown",
   "id": "7c61c804-7e12-49e2-88bb-8356957bad9a",
   "metadata": {},
   "source": [
    "# Check"
   ]
  },
  {
   "cell_type": "code",
   "execution_count": 17,
   "id": "e6c2d9e7-9e78-480f-83a2-f6d8e973f508",
   "metadata": {},
   "outputs": [
    {
     "name": "stdout",
     "output_type": "stream",
     "text": [
      "/LUSTRE/sacmod/SIPECAM/entrega.09.Junio.2022/cumulo_33/1_33_0_1224/10305352\n",
      "0\n",
      "/LUSTRE/sacmod/SIPECAM/entrega.09.Junio.2022/cumulo_33/1_33_0_1224/10305583\n",
      "0\n",
      "/LUSTRE/sacmod/SIPECAM/entrega.09.Junio.2022/cumulo_33/1_33_0_1224/10307444\n",
      "0\n",
      "/LUSTRE/sacmod/SIPECAM/entrega.09.Junio.2022/cumulo_33/1_33_0_1224/10306502\n",
      "0\n",
      "/LUSTRE/sacmod/SIPECAM/entrega.09.Junio.2022/cumulo_33/1_33_0_1224/10306554\n",
      "0\n",
      "/LUSTRE/sacmod/SIPECAM/entrega.09.Junio.2022/cumulo_33/1_33_0_1224/10306519/10306519\n",
      "985\n"
     ]
    }
   ],
   "source": [
    "%%bash\n",
    "#check every first subdirectory has a JPG, WAV or AVI file\n",
    "SAVEIFS=$IFS;IFS=$(echo -en \"\\n\\b\")\n",
    "for f in $(cat /shared_volume/sipecam_subdirectories_18-07-2022_cumulus_33_1.txt)\n",
    "  do echo \"$f\"\n",
    "     ls \"$f\"|grep \"[WAV|wav|JPG|jpg|AVI|avi]$\"|wc -l\n",
    "done\n",
    "IFS=$SAVEIFS"
   ]
  },
  {
   "cell_type": "code",
   "execution_count": 18,
   "id": "49d83591-58fb-4339-b6d5-6fc6c6485c21",
   "metadata": {},
   "outputs": [
    {
     "name": "stdout",
     "output_type": "stream",
     "text": [
      "---------------------------------------------\n",
      "---------------------------------------------\n",
      "Directory: /LUSTRE/sacmod/SIPECAM/entrega.09.Junio.2022/cumulo_33/1_33_0_1224/10306519/10306519\n",
      "Number of files: 985\n",
      "Logs file: /LUSTRE/sacmod/SIPECAM/entrega.09.Junio.2022/cumulo_33/1_33_0_1224/10306519/10306519/logs_simex_move_files_to_standard_directory.logs\n",
      "2022-07-18 10:19:40,214 [INFO]  Dir /LUSTRE/sacmod/SIPECAM/entrega.09.Junio.2022/cumulo_33/1_33_0_1224/10306519/10306519 has serial number 24F3190160371ED3\n",
      "2022-07-18 10:19:40,215 [INFO]  File /LUSTRE/sacmod/SIPECAM/entrega.09.Junio.2022/cumulo_33/1_33_0_1224/10306519/10306519/20220110_224000.WAV has date 2022-01-10\n",
      "2022-07-18 10:19:40,215 [INFO]  File /LUSTRE/sacmod/SIPECAM/entrega.09.Junio.2022/cumulo_33/1_33_0_1224/10306519/10306519/20220210_182000.WAV has date 2022-02-10\n",
      "2022-07-18 10:19:40,215 [INFO]  DaysBetweenFirstAndLastDate: 31\n",
      "2022-07-18 10:19:40,375 [INFO]  Query to Zendro GQL: query {\n",
      "  physical_devices(pagination: {limit: 0}, search: {field: comments, value: \"ADM24F3190160371ED3\", operator: like}) {\n",
      "    device_deploymentsFilter(pagination: {limit: 0}, search: {operator: and, search: [{field: date_deployment, value: \"2022-01-10\", valueType: String, operator: gte}, {field: date_deployment, value: \"2022-02-10\", valueType: String, operator: lte}]}) {\n",
      "      node {\n",
      "        nomenclatura\n",
      "        cat_integr\n",
      "        ecosystems {\n",
      "          name\n",
      "        }\n",
      "      }\n",
      "      cumulus {\n",
      "        name\n",
      "        geometry\n",
      "      }\n",
      "      date_deployment\n",
      "      latitude\n",
      "      longitude\n",
      "    }\n",
      "  }\n",
      "}\n",
      "2022-07-18 10:19:40,375 [INFO]  last query wasn't successful\n",
      "2022-07-18 10:19:40,517 [INFO]  Query alternative auxiliar to Zendro GQL: query {\n",
      "  physical_devices(pagination: {limit: 0}, search: {field: comments, value: \"ADM24F3190160371ED3\", operator: like}) {\n",
      "    device_deploymentsFilter(pagination: {limit: 0}) {\n",
      "      date_deployment\n",
      "    }\n",
      "  }\n",
      "}\n",
      "2022-07-18 10:19:40,517 [INFO]  Result of query alternative auxiliar to Zendro GQL: {'data': {'physical_devices': [{'device_deploymentsFilter': [{'date_deployment': '2021-11-02T18:46:00.000Z'}, {'date_deployment': '2022-02-17T18:59:00.000Z'}, {'date_deployment': '2022-04-28T22:02:00.000Z'}, {'date_deployment': '2022-06-12T16:13:00.000Z'}]}]}}\n",
      "2022-07-18 10:19:40,521 [INFO]  list indices must be integers or slices, not NoneType\n",
      "2022-07-18 10:19:40,522 [INFO]  unsuccessful query query {\n",
      "  physical_devices(pagination: {limit: 0}, search: {field: comments, value: \"ADM24F3190160371ED3\", operator: like}) {\n",
      "    device_deploymentsFilter(pagination: {limit: 0}) {\n",
      "      date_deployment\n",
      "    }\n",
      "  }\n",
      "} or error when moving files to standard dir\n",
      "---------------------------------------------\n",
      "---------------------------------------------\n"
     ]
    }
   ],
   "source": [
    "%%bash\n",
    "#check every first subdirectory has a JPG, WAV or AVI file\n",
    "SAVEIFS=$IFS;IFS=$(echo -en \"\\n\\b\")\n",
    "for f in $(cat /shared_volume/sipecam_subdirectories_18-07-2022_cumulus_33_1.txt)\n",
    "  do\n",
    "     number_of_sipecam_files=$(ls \"$f\"|grep \"[WAV|wav|JPG|jpg|AVI|avi]$\"|wc -l)\n",
    "     if [ \"$number_of_sipecam_files\" -gt 2 ]; then\n",
    "        logs_file=$(find \"$f\" -name \"logs_simex_move_files_to_standard_directory.logs\")\n",
    "        if [ -f \"$logs_file\" ]; then\n",
    "            echo \"---------------------------------------------\"\n",
    "            echo \"---------------------------------------------\"\n",
    "            echo \"Directory: $f\"\n",
    "            echo \"Number of files: $number_of_sipecam_files\"\n",
    "            echo \"Logs file: $logs_file\"\n",
    "            cat \"$logs_file\"\n",
    "            echo \"---------------------------------------------\"\n",
    "            echo \"---------------------------------------------\"\n",
    "        fi\n",
    "     fi\n",
    "done\n",
    "IFS=$SAVEIFS"
   ]
  },
  {
   "cell_type": "code",
   "execution_count": null,
   "id": "89a49157-abbc-4cc6-b35e-ae6e6c8ebf40",
   "metadata": {},
   "outputs": [],
   "source": []
  }
 ],
 "metadata": {
  "kernelspec": {
   "display_name": "Python 3 (ipykernel)",
   "language": "python",
   "name": "python3"
  },
  "language_info": {
   "codemirror_mode": {
    "name": "ipython",
    "version": 3
   },
   "file_extension": ".py",
   "mimetype": "text/x-python",
   "name": "python",
   "nbconvert_exporter": "python",
   "pygments_lexer": "ipython3",
   "version": "3.8.10"
  }
 },
 "nbformat": 4,
 "nbformat_minor": 5
}
