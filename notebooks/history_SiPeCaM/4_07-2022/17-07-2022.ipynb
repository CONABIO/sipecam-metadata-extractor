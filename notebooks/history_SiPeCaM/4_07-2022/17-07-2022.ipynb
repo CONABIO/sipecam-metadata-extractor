{
 "cells": [
  {
   "cell_type": "markdown",
   "id": "20a19fe0-2716-4c97-8753-e55601600277",
   "metadata": {},
   "source": [
    "# Next delivery: `/LUSTRE/sacmod/SIPECAM/cumulo_33/entrega_09.junio.2022`"
   ]
  },
  {
   "cell_type": "markdown",
   "id": "4a7c2284-c8f6-4d95-9bff-cfd40f08b4df",
   "metadata": {},
   "source": [
    "## List of files to extract metadata"
   ]
  },
  {
   "cell_type": "code",
   "execution_count": 20,
   "id": "6ec340e4-b687-4f3b-9788-0431277edf36",
   "metadata": {},
   "outputs": [],
   "source": [
    "%%bash\n",
    "dir_with_sipecam_data=/LUSTRE/sacmod/SIPECAM/cumulo_33/entrega_09.junio.2022\n",
    "list_of_files_and_subdirectories_to_extract_metadata --input_directory \"$dir_with_sipecam_data\""
   ]
  },
  {
   "cell_type": "markdown",
   "id": "d39581f7-5c09-410a-9dda-838ee5024a20",
   "metadata": {},
   "source": [
    "## Check"
   ]
  },
  {
   "cell_type": "code",
   "execution_count": 21,
   "id": "015eba80-9d8d-4bba-be17-29f4b9b56050",
   "metadata": {},
   "outputs": [
    {
     "name": "stdout",
     "output_type": "stream",
     "text": [
      "-rw-r--r-- 1 root root 5.9K Jul 15 11:27 /shared_volume/sipecam_subdirectories_15-07-2022.txt\n"
     ]
    }
   ],
   "source": [
    "%%bash\n",
    "ls -lh /shared_volume/sipecam_subdirectories_15-07-2022.txt"
   ]
  },
  {
   "cell_type": "code",
   "execution_count": 22,
   "id": "f256efee-ea3f-440e-b916-677fdfe6d66b",
   "metadata": {},
   "outputs": [
    {
     "name": "stdout",
     "output_type": "stream",
     "text": [
      "-rw-r--r-- 1 root root 6.5M Jul 15 11:27 /shared_volume/sipecam_files_to_extract_metadata_from_15-07-2022.txt\n"
     ]
    }
   ],
   "source": [
    "%%bash\n",
    "ls -lh /shared_volume/sipecam_files_to_extract_metadata_from_15-07-2022.txt"
   ]
  },
  {
   "cell_type": "code",
   "execution_count": 23,
   "id": "2b1dded7-4fce-453d-9632-78ca42723990",
   "metadata": {},
   "outputs": [
    {
     "name": "stdout",
     "output_type": "stream",
     "text": [
      "57 /shared_volume/sipecam_subdirectories_15-07-2022.txt\n"
     ]
    }
   ],
   "source": [
    "%%bash\n",
    "wc -l /shared_volume/sipecam_subdirectories_15-07-2022.txt"
   ]
  },
  {
   "cell_type": "code",
   "execution_count": 24,
   "id": "2df9a178-74f5-4e2d-a896-3671fd94d466",
   "metadata": {},
   "outputs": [
    {
     "name": "stdout",
     "output_type": "stream",
     "text": [
      "54183 /shared_volume/sipecam_files_to_extract_metadata_from_15-07-2022.txt\n"
     ]
    }
   ],
   "source": [
    "%%bash\n",
    "wc -l /shared_volume/sipecam_files_to_extract_metadata_from_15-07-2022.txt"
   ]
  },
  {
   "cell_type": "code",
   "execution_count": 25,
   "id": "fc54d37b-21e2-4d74-9c5e-ead7d90300b0",
   "metadata": {},
   "outputs": [],
   "source": [
    "%%bash\n",
    "mv /shared_volume/sipecam_subdirectories_15-07-2022.txt /shared_volume/sipecam_subdirectories_15-07-2022_cumulus_33.txt"
   ]
  },
  {
   "cell_type": "code",
   "execution_count": 26,
   "id": "061cade4-65e2-455d-8c01-092a5fa2fadc",
   "metadata": {},
   "outputs": [],
   "source": [
    "%%bash\n",
    "mv /shared_volume/sipecam_files_to_extract_metadata_from_15-07-2022.txt /shared_volume/sipecam_files_to_extract_metadata_from_15-07-2022_cumulus_33.txt"
   ]
  },
  {
   "cell_type": "code",
   "execution_count": 27,
   "id": "8af396ae-b14e-48cc-8982-13d427f93701",
   "metadata": {},
   "outputs": [
    {
     "name": "stdout",
     "output_type": "stream",
     "text": [
      "57 /shared_volume/sipecam_subdirectories_15-07-2022_cumulus_33.txt\n"
     ]
    }
   ],
   "source": [
    "%%bash\n",
    "wc -l /shared_volume/sipecam_subdirectories_15-07-2022_cumulus_33.txt"
   ]
  },
  {
   "cell_type": "code",
   "execution_count": 28,
   "id": "c68d3933-3225-48f1-a869-01417aaa5025",
   "metadata": {},
   "outputs": [
    {
     "name": "stdout",
     "output_type": "stream",
     "text": [
      "54183 /shared_volume/sipecam_files_to_extract_metadata_from_15-07-2022_cumulus_33.txt\n"
     ]
    }
   ],
   "source": [
    "%%bash\n",
    "wc -l /shared_volume/sipecam_files_to_extract_metadata_from_15-07-2022_cumulus_33.txt"
   ]
  },
  {
   "cell_type": "code",
   "execution_count": 2,
   "id": "0ad0c0df-34c4-4730-91f3-ef48accf0ddb",
   "metadata": {},
   "outputs": [
    {
     "name": "stdout",
     "output_type": "stream",
     "text": [
      "/LUSTRE/sacmod/SIPECAM/cumulo_33/entrega_09.junio.2022/Nodo-33-Tecpan/Audiomoth-1-33-1-1225-La mona/10305349\n",
      "20211031_135000.WAV\n",
      "20211031_140000.WAV\n",
      "20211031_141000.WAV\n",
      "/LUSTRE/sacmod/SIPECAM/cumulo_33/entrega_09.junio.2022/Nodo-33-Tecpan/Audiomoth-1-33-1-1225-La mona/10306527 ULT\n",
      "19700101_000107.WAV\n",
      "20211031_180000.WAV\n",
      "20211031_182000.WAV\n",
      "/LUSTRE/sacmod/SIPECAM/cumulo_33/entrega_09.junio.2022/Nodo-33-Tecpan/Audiomoth-1-33-1-1225-La mona/10307495\n",
      "20211007_192000.WAV\n",
      "20211031_180000.WAV\n",
      "20211031_182000.WAV\n",
      "/LUSTRE/sacmod/SIPECAM/cumulo_33/entrega_09.junio.2022/Nodo-33-Tecpan/Audiomoth-1-33-1-1225-La mona/10306500 ULT\n",
      "20211101_180000.WAV\n",
      "20211101_182000.WAV\n",
      "20211101_184000.WAV\n",
      "/LUSTRE/sacmod/SIPECAM/cumulo_33/entrega_09.junio.2022/Nodo-33-Tecpan/Audiomoth-1-33-1-1225-La mona/10309702 AU\n",
      "20211031_155000.WAV\n",
      "20211031_160000.WAV\n",
      "20211031_161000.WAV\n",
      "/LUSTRE/sacmod/SIPECAM/cumulo_33/entrega_09.junio.2022/Nodo-33-Tecpan/Audiomoth-1-33-1-1225-La mona/10305537 AU\n",
      "20211101_174000.WAV\n",
      "20211101_175000.WAV\n",
      "20211101_180000.WAV\n",
      "/LUSTRE/sacmod/SIPECAM/cumulo_33/entrega_09.junio.2022/Nodo-33-Tecpan/Audiomoth-1-33-1227-La trementina/10305352\n",
      "20211102_180000.WAV\n",
      "20211102_182000.WAV\n",
      "20211102_184000.WAV\n",
      "/LUSTRE/sacmod/SIPECAM/cumulo_33/entrega_09.junio.2022/Nodo-33-Tecpan/Audiomoth-1-33-1227-La trementina/10305583\n",
      "20211102_180000.WAV\n",
      "20211102_182000.WAV\n",
      "20211102_184000.WAV\n",
      "/LUSTRE/sacmod/SIPECAM/cumulo_33/entrega_09.junio.2022/Nodo-33-Tecpan/Audiomoth-1-33-1227-La trementina/10307444\n",
      "20211101_133017.WAV\n",
      "20211101_134000.WAV\n",
      "20211101_135000.WAV\n",
      "/LUSTRE/sacmod/SIPECAM/cumulo_33/entrega_09.junio.2022/Nodo-33-Tecpan/Audiomoth-1-33-1227-La trementina/10306502\n",
      "20211102_112000.WAV\n",
      "20211102_113000.WAV\n",
      "20211102_114000.WAV\n",
      "/LUSTRE/sacmod/SIPECAM/cumulo_33/entrega_09.junio.2022/Nodo-33-Tecpan/Audiomoth-1-33-1227-La trementina/10306554\n",
      "20211101_180000.WAV\n",
      "20211101_182000.WAV\n",
      "20211101_184000.WAV\n",
      "/LUSTRE/sacmod/SIPECAM/cumulo_33/entrega_09.junio.2022/Nodo-33-Tecpan/Audiomoth-1-33-1227-La trementina/10306519\n",
      "19700101_000042.WAV\n",
      "19700101_000049.WAV\n",
      "19700101_000057.WAV\n",
      "/LUSTRE/sacmod/SIPECAM/cumulo_33/entrega_09.junio.2022/Nodo-33-Tecpan/LaMona-1-33-1225/49970/101RECNX\n",
      "RCNX0001.JPG\n",
      "RCNX0002.JPG\n",
      "RCNX0003.AVI\n",
      "/LUSTRE/sacmod/SIPECAM/cumulo_33/entrega_09.junio.2022/Nodo-33-Tecpan/LaMona-1-33-1225/49970/100RECNX\n",
      "RCNX0001.JPG\n",
      "RCNX0002.JPG\n",
      "RCNX0003.AVI\n",
      "/LUSTRE/sacmod/SIPECAM/cumulo_33/entrega_09.junio.2022/Nodo-33-Tecpan/LaMona-1-33-1225/49337/DCIM/100RECNX\n",
      "RCNX0001.JPG\n",
      "RCNX0002.JPG\n",
      "RCNX0003.AVI\n",
      "/LUSTRE/sacmod/SIPECAM/cumulo_33/entrega_09.junio.2022/Nodo-33-Tecpan/LaMona-1-33-1225/48227\n",
      "RCNX0001.JPG\n",
      "RCNX0002.JPG\n",
      "RCNX0003.AVI\n",
      "/LUSTRE/sacmod/SIPECAM/cumulo_33/entrega_09.junio.2022/Nodo-33-Tecpan/LaMona-1-33-1225/48870\n",
      "RCNX0001.JPG\n",
      "RCNX0002.JPG\n",
      "RCNX0003.AVI\n",
      "/LUSTRE/sacmod/SIPECAM/cumulo_33/entrega_09.junio.2022/Nodo-33-Tecpan/LaMona-1-33-1225/49899/DCIM/100RECNX\n",
      "RCNX0001.JPG\n",
      "RCNX0002.JPG\n",
      "RCNX0003.AVI\n",
      "/LUSTRE/sacmod/SIPECAM/cumulo_33/entrega_09.junio.2022/Nodo-33-Tecpan/Las mesas-1-33-1-1219/9970\n",
      "RCNX0001.JPG\n",
      "RCNX0002.JPG\n",
      "RCNX0003.AVI\n",
      "/LUSTRE/sacmod/SIPECAM/cumulo_33/entrega_09.junio.2022/Nodo-33-Tecpan/Las mesas-1-33-1-1219/8870\n",
      "RCNX0001.JPG\n",
      "RCNX0002.JPG\n",
      "RCNX0003.AVI\n",
      "/LUSTRE/sacmod/SIPECAM/cumulo_33/entrega_09.junio.2022/Nodo-33-Tecpan/Las mesas-1-33-1-1219/8227\n",
      "RCNX0001.JPG\n",
      "RCNX0002.JPG\n",
      "RCNX0003.AVI\n",
      "/LUSTRE/sacmod/SIPECAM/cumulo_33/entrega_09.junio.2022/Nodo-33-Tecpan/Las mesas-1-33-1-1219/9337\n",
      "RCNX0001.JPG\n",
      "RCNX0002.JPG\n",
      "RCNX0003.AVI\n",
      "/LUSTRE/sacmod/SIPECAM/cumulo_33/entrega_09.junio.2022/Nodo-33-Tecpan/Las mesas-1-33-1-1219/49899\n",
      "RCNX0001.JPG\n",
      "RCNX0002.JPG\n",
      "RCNX0003.AVI\n",
      "/LUSTRE/sacmod/SIPECAM/cumulo_33/entrega_09.junio.2022/Nodo-33-Tecpan/La sierrita-1-33-0-1224/8463-rev\n",
      "RCNX0001.JPG\n",
      "RCNX0002.JPG\n",
      "RCNX0003.AVI\n",
      "/LUSTRE/sacmod/SIPECAM/cumulo_33/entrega_09.junio.2022/Nodo-33-Tecpan/La sierrita-1-33-0-1224/9102\n",
      "RCNX0001.JPG\n",
      "RCNX0002.JPG\n",
      "RCNX0003.AVI\n",
      "/LUSTRE/sacmod/SIPECAM/cumulo_33/entrega_09.junio.2022/Nodo-33-Tecpan/La sierrita-1-33-0-1224/8398\n",
      "RCNX0001.JPG\n",
      "RCNX0002.JPG\n",
      "RCNX0003.AVI\n",
      "/LUSTRE/sacmod/SIPECAM/cumulo_33/entrega_09.junio.2022/Nodo-33-Tecpan/La sierrita-1-33-0-1224/8461\n",
      "RCNX0001.JPG\n",
      "RCNX0002.JPG\n",
      "RCNX0003.AVI\n",
      "/LUSTRE/sacmod/SIPECAM/cumulo_33/entrega_09.junio.2022/Nodo-33-Tecpan/La sierrita-1-33-0-1224/9898/100RECNX\n",
      "RCNX0001.JPG\n",
      "RCNX0002.JPG\n",
      "RCNX0003.AVI\n",
      "/LUSTRE/sacmod/SIPECAM/cumulo_33/entrega_09.junio.2022/Nodo-33-Tecpan/Trementina-dic-1-33-1227/9102/101RECNX\n",
      "RCNX0001.JPG\n",
      "RCNX0002.JPG\n",
      "RCNX0003.AVI\n",
      "/LUSTRE/sacmod/SIPECAM/cumulo_33/entrega_09.junio.2022/Nodo-33-Tecpan/Trementina-dic-1-33-1227/9102/100RECNX\n",
      "RCNX0001.JPG\n",
      "RCNX0002.JPG\n",
      "RCNX0003.AVI\n",
      "/LUSTRE/sacmod/SIPECAM/cumulo_33/entrega_09.junio.2022/Nodo-33-Tecpan/Trementina-dic-1-33-1227/8398/100RECNX\n",
      "RCNX0001.JPG\n",
      "RCNX0002.JPG\n",
      "RCNX0003.AVI\n",
      "/LUSTRE/sacmod/SIPECAM/cumulo_33/entrega_09.junio.2022/Nodo-33-Tecpan/Trementina-dic-1-33-1227/8461/100RECNX\n",
      "RCNX0001.JPG\n",
      "RCNX0002.JPG\n",
      "RCNX0003.AVI\n",
      "/LUSTRE/sacmod/SIPECAM/cumulo_33/entrega_09.junio.2022/Nodo-33-Tecpan/Trementina-dic-1-33-1227/8463/100RECNX\n",
      "RCNX0001.JPG\n",
      "RCNX0002.JPG\n",
      "RCNX0003.AVI\n",
      "/LUSTRE/sacmod/SIPECAM/cumulo_33/entrega_09.junio.2022/Nodo-33-Tecpan/Trementina-dic-1-33-1227/9898/101RECNX\n",
      "RCNX0001.JPG\n",
      "RCNX0002.JPG\n",
      "RCNX0003.AVI\n",
      "/LUSTRE/sacmod/SIPECAM/cumulo_33/entrega_09.junio.2022/Nodo-33-Tecpan/Trementina-dic-1-33-1227/9898/100RECNX\n",
      "RCNX0001.JPG\n",
      "RCNX0002.JPG\n",
      "RCNX0003.AVI\n",
      "/LUSTRE/sacmod/SIPECAM/cumulo_33/entrega_09.junio.2022/Nodo-33-Tecpan/Almendaris-1-33-0-1226/9102\n",
      "RCNX0001.JPG\n",
      "RCNX0002.JPG\n",
      "RCNX0003.AVI\n",
      "/LUSTRE/sacmod/SIPECAM/cumulo_33/entrega_09.junio.2022/Nodo-33-Tecpan/Almendaris-1-33-0-1226/8398\n",
      "RCNX0001.JPG\n",
      "RCNX0002.JPG\n",
      "RCNX0003.AVI\n",
      "/LUSTRE/sacmod/SIPECAM/cumulo_33/entrega_09.junio.2022/Nodo-33-Tecpan/Almendaris-1-33-0-1226/8461\n",
      "RCNX0001.JPG\n",
      "RCNX0002.JPG\n",
      "RCNX0003.AVI\n",
      "/LUSTRE/sacmod/SIPECAM/cumulo_33/entrega_09.junio.2022/Nodo-33-Tecpan/Almendaris-1-33-0-1226/9898\n",
      "RCNX0001.JPG\n",
      "RCNX0002.JPG\n",
      "RCNX0003.AVI\n",
      "/LUSTRE/sacmod/SIPECAM/cumulo_33/entrega_09.junio.2022/Nodo-33-Tecpan/Almendaris-1-33-0-1226/8363\n",
      "RCNX0001.JPG\n",
      "RCNX0002.JPG\n",
      "RCNX0003.AVI\n",
      "/LUSTRE/sacmod/SIPECAM/cumulo_33/entrega_09.junio.2022/Nodo-33-Tecpan/Caldo-Flaco-1-33-1-1220/49970\n",
      "RCNX0001.JPG\n",
      "RCNX0002.JPG\n",
      "RCNX0003.AVI\n",
      "/LUSTRE/sacmod/SIPECAM/cumulo_33/entrega_09.junio.2022/Nodo-33-Tecpan/Caldo-Flaco-1-33-1-1220/49337\n",
      "RCNX0001.JPG\n",
      "RCNX0002.JPG\n",
      "RCNX0003.AVI\n",
      "/LUSTRE/sacmod/SIPECAM/cumulo_33/entrega_09.junio.2022/Nodo-33-Tecpan/Caldo-Flaco-1-33-1-1220/48227/101RECNX\n",
      "RCNX0001.JPG\n",
      "RCNX0002.JPG\n",
      "RCNX0003.AVI\n",
      "/LUSTRE/sacmod/SIPECAM/cumulo_33/entrega_09.junio.2022/Nodo-33-Tecpan/Caldo-Flaco-1-33-1-1220/48870\n",
      "RCNX0001.JPG\n",
      "RCNX0002.JPG\n",
      "RCNX0003.AVI\n",
      "/LUSTRE/sacmod/SIPECAM/cumulo_33/entrega_09.junio.2022/Nodo-33-Tecpan/Caldo-Flaco-1-33-1-1220/49899\n",
      "RCNX0001.JPG\n",
      "RCNX0002.JPG\n",
      "RCNX0003.AVI\n",
      "/LUSTRE/sacmod/SIPECAM/cumulo_33/entrega_09.junio.2022/Nodo-33-Tecpan/El Pinito-1-33-1-1222/49970/101RECNX\n",
      "RCNX0001.JPG\n",
      "RCNX0002.JPG\n",
      "RCNX0003.AVI\n",
      "/LUSTRE/sacmod/SIPECAM/cumulo_33/entrega_09.junio.2022/Nodo-33-Tecpan/El Pinito-1-33-1-1222/49970/102RECNX\n",
      "RCNX0001.JPG\n",
      "RCNX0002.JPG\n",
      "RCNX0003.AVI\n",
      "/LUSTRE/sacmod/SIPECAM/cumulo_33/entrega_09.junio.2022/Nodo-33-Tecpan/El Pinito-1-33-1-1222/49337\n",
      "RCNX0001.JPG\n",
      "RCNX0002.JPG\n",
      "RCNX0003.AVI\n",
      "/LUSTRE/sacmod/SIPECAM/cumulo_33/entrega_09.junio.2022/Nodo-33-Tecpan/El Pinito-1-33-1-1222/48227/101RECNX\n",
      "RCNX0001.JPG\n",
      "RCNX0002.JPG\n",
      "RCNX0003.AVI\n",
      "/LUSTRE/sacmod/SIPECAM/cumulo_33/entrega_09.junio.2022/Nodo-33-Tecpan/El Pinito-1-33-1-1222/48870\n",
      "RCNX0001.JPG\n",
      "RCNX0002.JPG\n",
      "RCNX0003.AVI\n",
      "/LUSTRE/sacmod/SIPECAM/cumulo_33/entrega_09.junio.2022/Nodo-33-Tecpan/El Pinito-1-33-1-1222/49899/102RECNX\n",
      "RCNX0001.JPG\n",
      "RCNX0002.JPG\n",
      "RCNX0003.AVI\n",
      "/LUSTRE/sacmod/SIPECAM/cumulo_33/entrega_09.junio.2022/Nodo-33-Tecpan/El Pinito-1-33-1-1222/49899/103RECNX\n",
      "RCNX0001.JPG\n",
      "RCNX0002.JPG\n",
      "RCNX0003.AVI\n",
      "/LUSTRE/sacmod/SIPECAM/cumulo_33/entrega_09.junio.2022/Nodo-33-Tecpan/El Platanillo-1-33-0-1223/48463\n",
      "RCNX0001.JPG\n",
      "RCNX0002.JPG\n",
      "RCNX0003.AVI\n",
      "/LUSTRE/sacmod/SIPECAM/cumulo_33/entrega_09.junio.2022/Nodo-33-Tecpan/El Platanillo-1-33-0-1223/49102/103RECNX\n",
      "RCNX0001.JPG\n",
      "RCNX0002.JPG\n",
      "RCNX0003.AVI\n",
      "/LUSTRE/sacmod/SIPECAM/cumulo_33/entrega_09.junio.2022/Nodo-33-Tecpan/El Platanillo-1-33-0-1223/48461/48461\n",
      "RCNX0001.JPG\n",
      "RCNX0002.JPG\n",
      "RCNX0003.AVI\n",
      "/LUSTRE/sacmod/SIPECAM/cumulo_33/entrega_09.junio.2022/Nodo-33-Tecpan/El Platanillo-1-33-0-1223/49898/101RECNX\n",
      "RCNX0001.JPG\n",
      "RCNX0002.JPG\n",
      "RCNX0003.AVI\n",
      "/LUSTRE/sacmod/SIPECAM/cumulo_33/entrega_09.junio.2022/Nodo-33-Tecpan/El Platanillo-1-33-0-1223/48398/100RECNX\n",
      "RCNX0001.JPG\n",
      "RCNX0002.JPG\n",
      "RCNX0003.AVI\n"
     ]
    }
   ],
   "source": [
    "%%bash\n",
    "#check every first subdirectory has a JPG, WAV or AVI file\n",
    "SAVEIFS=$IFS;IFS=$(echo -en \"\\n\\b\")\n",
    "for f in $(cat /shared_volume/sipecam_subdirectories_15-07-2022_cumulus_33.txt)\n",
    "  do echo \"$f\"\n",
    "     ls \"$f\"|grep \"[WAV|wav|JPG|jpg|AVI|avi]$\"|head -n 3\n",
    "done\n",
    "IFS=$SAVEIFS"
   ]
  },
  {
   "cell_type": "code",
   "execution_count": null,
   "id": "9965db63-de7b-428b-aabd-1f355367bd27",
   "metadata": {},
   "outputs": [],
   "source": []
  }
 ],
 "metadata": {
  "kernelspec": {
   "display_name": "Python 3 (ipykernel)",
   "language": "python",
   "name": "python3"
  },
  "language_info": {
   "codemirror_mode": {
    "name": "ipython",
    "version": 3
   },
   "file_extension": ".py",
   "mimetype": "text/x-python",
   "name": "python",
   "nbconvert_exporter": "python",
   "pygments_lexer": "ipython3",
   "version": "3.8.10"
  }
 },
 "nbformat": 4,
 "nbformat_minor": 5
}
