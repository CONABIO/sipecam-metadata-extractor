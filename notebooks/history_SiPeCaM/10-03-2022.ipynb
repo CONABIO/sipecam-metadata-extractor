{
 "cells": [
  {
   "cell_type": "markdown",
   "id": "db70b08f-4852-4fcc-953d-d558eb03d215",
   "metadata": {},
   "source": [
    "# Checking dirs that had error"
   ]
  },
  {
   "cell_type": "markdown",
   "id": "01e996d9-b0df-41ea-aa52-1121e5d1df23",
   "metadata": {},
   "source": [
    "## 1"
   ]
  },
  {
   "cell_type": "code",
   "execution_count": 1,
   "id": "d238b8fc-c67b-4cc5-9051-41eefaca7f72",
   "metadata": {},
   "outputs": [
    {
     "name": "stderr",
     "output_type": "stream",
     "text": [
      "Traceback (most recent call last):\n",
      "  File \"/usr/local/bin/extract_serial_numbers_dates_and_metadata_of_files_and_device\", line 8, in <module>\n",
      "    sys.exit(main())\n",
      "  File \"/usr/local/lib/python3.8/dist-packages/simex/extract_serial_numbers_dates_and_metadata_of_files_and_device.py\", line 226, in main\n",
      "    extract_metadata_of_files(input_directory,\n",
      "  File \"/usr/local/lib/python3.8/dist-packages/simex/extract_serial_numbers_dates_and_metadata_of_files_and_device.py\", line 164, in extract_metadata_of_files\n",
      "    tuple_date, tuple_metadata_of_file = extract_metadata(filename)\n",
      "  File \"/usr/local/lib/python3.8/dist-packages/simex/extract_serial_numbers_dates_and_metadata_of_files_and_device.py\", line 28, in extract_metadata\n",
      "    tuple_metadata_of_file = (filename,read_metadata_audio.get_metadata_of_file(filename))\n",
      "  File \"/usr/local/lib/python3.8/dist-packages/simex/read_metadata_audio.py\", line 121, in get_metadata_of_file\n",
      "    date_with_timezone = get_date_with_timezone(comment_metadata)\n",
      "  File \"/usr/local/lib/python3.8/dist-packages/simex/read_metadata_audio.py\", line 74, in get_date_with_timezone\n",
      "    return date_with_timezone #example: 21:20:00 28/07/2021 (UTC-0600)\n",
      "UnboundLocalError: local variable 'date_with_timezone' referenced before assignment\n"
     ]
    },
    {
     "ename": "CalledProcessError",
     "evalue": "Command 'b'dir_to_be_processed=\"/LUSTRE/sacmod/SIPECAM/cumulo_92/Mes 4/3_92_1_1335/3_92_1_1335_5/Audible\"\\nextract_serial_numbers_dates_and_metadata_of_files_and_device --input_dir \"$dir_to_be_processed\"\\n'' returned non-zero exit status 1.",
     "output_type": "error",
     "traceback": [
      "\u001b[0;31m---------------------------------------------------------------------------\u001b[0m",
      "\u001b[0;31mCalledProcessError\u001b[0m                        Traceback (most recent call last)",
      "Input \u001b[0;32mIn [1]\u001b[0m, in \u001b[0;36m<cell line: 1>\u001b[0;34m()\u001b[0m\n\u001b[0;32m----> 1\u001b[0m \u001b[43mget_ipython\u001b[49m\u001b[43m(\u001b[49m\u001b[43m)\u001b[49m\u001b[38;5;241;43m.\u001b[39;49m\u001b[43mrun_cell_magic\u001b[49m\u001b[43m(\u001b[49m\u001b[38;5;124;43m'\u001b[39;49m\u001b[38;5;124;43mbash\u001b[39;49m\u001b[38;5;124;43m'\u001b[39;49m\u001b[43m,\u001b[49m\u001b[43m \u001b[49m\u001b[38;5;124;43m'\u001b[39;49m\u001b[38;5;124;43m'\u001b[39;49m\u001b[43m,\u001b[49m\u001b[43m \u001b[49m\u001b[38;5;124;43m'\u001b[39;49m\u001b[38;5;124;43mdir_to_be_processed=\u001b[39;49m\u001b[38;5;124;43m\"\u001b[39;49m\u001b[38;5;124;43m/LUSTRE/sacmod/SIPECAM/cumulo_92/Mes 4/3_92_1_1335/3_92_1_1335_5/Audible\u001b[39;49m\u001b[38;5;124;43m\"\u001b[39;49m\u001b[38;5;130;43;01m\\n\u001b[39;49;00m\u001b[38;5;124;43mextract_serial_numbers_dates_and_metadata_of_files_and_device --input_dir \u001b[39;49m\u001b[38;5;124;43m\"\u001b[39;49m\u001b[38;5;124;43m$dir_to_be_processed\u001b[39;49m\u001b[38;5;124;43m\"\u001b[39;49m\u001b[38;5;130;43;01m\\n\u001b[39;49;00m\u001b[38;5;124;43m'\u001b[39;49m\u001b[43m)\u001b[49m\n",
      "File \u001b[0;32m/usr/local/lib/python3.8/dist-packages/IPython/core/interactiveshell.py:2338\u001b[0m, in \u001b[0;36mInteractiveShell.run_cell_magic\u001b[0;34m(self, magic_name, line, cell)\u001b[0m\n\u001b[1;32m   2336\u001b[0m \u001b[38;5;28;01mwith\u001b[39;00m \u001b[38;5;28mself\u001b[39m\u001b[38;5;241m.\u001b[39mbuiltin_trap:\n\u001b[1;32m   2337\u001b[0m     args \u001b[38;5;241m=\u001b[39m (magic_arg_s, cell)\n\u001b[0;32m-> 2338\u001b[0m     result \u001b[38;5;241m=\u001b[39m \u001b[43mfn\u001b[49m\u001b[43m(\u001b[49m\u001b[38;5;241;43m*\u001b[39;49m\u001b[43margs\u001b[49m\u001b[43m,\u001b[49m\u001b[43m \u001b[49m\u001b[38;5;241;43m*\u001b[39;49m\u001b[38;5;241;43m*\u001b[39;49m\u001b[43mkwargs\u001b[49m\u001b[43m)\u001b[49m\n\u001b[1;32m   2339\u001b[0m \u001b[38;5;28;01mreturn\u001b[39;00m result\n",
      "File \u001b[0;32m/usr/local/lib/python3.8/dist-packages/IPython/core/magics/script.py:153\u001b[0m, in \u001b[0;36mScriptMagics._make_script_magic.<locals>.named_script_magic\u001b[0;34m(line, cell)\u001b[0m\n\u001b[1;32m    151\u001b[0m \u001b[38;5;28;01melse\u001b[39;00m:\n\u001b[1;32m    152\u001b[0m     line \u001b[38;5;241m=\u001b[39m script\n\u001b[0;32m--> 153\u001b[0m \u001b[38;5;28;01mreturn\u001b[39;00m \u001b[38;5;28;43mself\u001b[39;49m\u001b[38;5;241;43m.\u001b[39;49m\u001b[43mshebang\u001b[49m\u001b[43m(\u001b[49m\u001b[43mline\u001b[49m\u001b[43m,\u001b[49m\u001b[43m \u001b[49m\u001b[43mcell\u001b[49m\u001b[43m)\u001b[49m\n",
      "File \u001b[0;32m/usr/local/lib/python3.8/dist-packages/IPython/core/magics/script.py:305\u001b[0m, in \u001b[0;36mScriptMagics.shebang\u001b[0;34m(self, line, cell)\u001b[0m\n\u001b[1;32m    300\u001b[0m \u001b[38;5;28;01mif\u001b[39;00m args\u001b[38;5;241m.\u001b[39mraise_error \u001b[38;5;129;01mand\u001b[39;00m p\u001b[38;5;241m.\u001b[39mreturncode \u001b[38;5;241m!=\u001b[39m \u001b[38;5;241m0\u001b[39m:\n\u001b[1;32m    301\u001b[0m     \u001b[38;5;66;03m# If we get here and p.returncode is still None, we must have\u001b[39;00m\n\u001b[1;32m    302\u001b[0m     \u001b[38;5;66;03m# killed it but not yet seen its return code. We don't wait for it,\u001b[39;00m\n\u001b[1;32m    303\u001b[0m     \u001b[38;5;66;03m# in case it's stuck in uninterruptible sleep. -9 = SIGKILL\u001b[39;00m\n\u001b[1;32m    304\u001b[0m     rc \u001b[38;5;241m=\u001b[39m p\u001b[38;5;241m.\u001b[39mreturncode \u001b[38;5;129;01mor\u001b[39;00m \u001b[38;5;241m-\u001b[39m\u001b[38;5;241m9\u001b[39m\n\u001b[0;32m--> 305\u001b[0m     \u001b[38;5;28;01mraise\u001b[39;00m CalledProcessError(rc, cell)\n",
      "\u001b[0;31mCalledProcessError\u001b[0m: Command 'b'dir_to_be_processed=\"/LUSTRE/sacmod/SIPECAM/cumulo_92/Mes 4/3_92_1_1335/3_92_1_1335_5/Audible\"\\nextract_serial_numbers_dates_and_metadata_of_files_and_device --input_dir \"$dir_to_be_processed\"\\n'' returned non-zero exit status 1."
     ]
    }
   ],
   "source": [
    "%%bash\n",
    "dir_to_be_processed=\"/LUSTRE/sacmod/SIPECAM/cumulo_92/Mes 4/3_92_1_1335/3_92_1_1335_5/Audible\"\n",
    "extract_serial_numbers_dates_and_metadata_of_files_and_device --input_dir \"$dir_to_be_processed\""
   ]
  },
  {
   "cell_type": "markdown",
   "id": "1887881f-d64a-438b-9e04-5d9c01f56825",
   "metadata": {},
   "source": [
    "Problematic file:\n",
    "\n",
    "/LUSTRE/sacmod/SIPECAM/cumulo_92/Mes 4/3_92_1_1335/3_92_1_1335_5/Audible/19700101_000006.WAV"
   ]
  },
  {
   "cell_type": "code",
   "execution_count": 2,
   "id": "a6a792f4-30c7-4e05-ab10-6c6d950a8e1a",
   "metadata": {},
   "outputs": [
    {
     "name": "stdout",
     "output_type": "stream",
     "text": [
      "[{\n",
      "  \"SourceFile\": \"/LUSTRE/sacmod/SIPECAM/cumulo_92/Mes 4/3_92_1_1335/3_92_1_1335_5/Audible/19700101_000006.WAV\",\n",
      "  \"ExifToolVersion\": 12.40,\n",
      "  \"FileName\": \"19700101_000006.WAV\",\n",
      "  \"Directory\": \"/LUSTRE/sacmod/SIPECAM/cumulo_92/Mes 4/3_92_1_1335/3_92_1_1335_5/Audible\",\n",
      "  \"FileSize\": \"488 bytes\",\n",
      "  \"FileModifyDate\": \"1961:11:25 17:31:50-06:00\",\n",
      "  \"FileAccessDate\": \"2022:03:10 08:27:02-06:00\",\n",
      "  \"FileInodeChangeDate\": \"2022:02:11 17:07:28-06:00\",\n",
      "  \"FilePermissions\": \"-rwxrwxrwx\",\n",
      "  \"FileType\": \"WAV\",\n",
      "  \"FileTypeExtension\": \"wav\",\n",
      "  \"MIMEType\": \"audio/x-wav\",\n",
      "  \"Encoding\": \"Microsoft PCM\",\n",
      "  \"NumChannels\": 1,\n",
      "  \"SampleRate\": 48000,\n",
      "  \"AvgBytesPerSec\": 96000,\n",
      "  \"BitsPerSample\": 16,\n",
      "  \"Comment\": \"Recorded at 00:00:06 01/01/1970 (UTC) by AudioMoth 248D9B026037BB7D at medium gain setting while battery state was 4.7V and temperature was 30.2C. Recording cancelled before completion due to change of switch position.\",\n",
      "  \"Artist\": \"AudioMoth 248D9B026037BB7D\",\n",
      "  \"Duration\": \"0.01 s\"\n",
      "}]\n"
     ]
    }
   ],
   "source": [
    "%%bash\n",
    "filename=\"/LUSTRE/sacmod/SIPECAM/cumulo_92/Mes 4/3_92_1_1335/3_92_1_1335_5/Audible/19700101_000006.WAV\"\n",
    "exiftool -a -j \"$filename\""
   ]
  },
  {
   "cell_type": "markdown",
   "id": "aea3edbf-0137-4a40-a318-de5d4e4b6b39",
   "metadata": {},
   "source": [
    "File was only of .01 segs and is the only file in dir. Moving dir to dir"
   ]
  },
  {
   "cell_type": "markdown",
   "id": "77d3b488-8e13-464d-9e2d-2ee4ea1af521",
   "metadata": {},
   "source": [
    "Moving dir to directory \"/LUSTRE/sacmod/SIPECAM/cumulo_92/Mes 4 error/3_92_1_1335/3_92_1_1335_5/\""
   ]
  },
  {
   "cell_type": "code",
   "execution_count": 3,
   "id": "3dcc27af-63b9-465c-b732-7ac66117ef0b",
   "metadata": {},
   "outputs": [],
   "source": [
    "%%bash\n",
    "mv \"/LUSTRE/sacmod/SIPECAM/cumulo_92/Mes 4/3_92_1_1335/3_92_1_1335_5/Audible/\" \"/LUSTRE/sacmod/SIPECAM/cumulo_92/Mes 4 error/3_92_1_1335/3_92_1_1335_5/\""
   ]
  },
  {
   "cell_type": "markdown",
   "id": "b000e1c3-9966-4863-9eb4-ef892a97a286",
   "metadata": {},
   "source": [
    "Manually removing dir /LUSTRE/sacmod/SIPECAM/cumulo_92/Mes 4/3_92_1_1335/3_92_1_1335_5/Audible from /shared_volume/sipecam_subdirectories_09-03-2022.txt"
   ]
  },
  {
   "cell_type": "markdown",
   "id": "bd2f0725-d610-4a96-bd30-2a62411d1866",
   "metadata": {},
   "source": [
    "# 2"
   ]
  },
  {
   "cell_type": "code",
   "execution_count": 9,
   "id": "daf2884f-3cb8-450c-a360-cb6b9bc715a3",
   "metadata": {},
   "outputs": [
    {
     "name": "stderr",
     "output_type": "stream",
     "text": [
      "Traceback (most recent call last):\n",
      "  File \"/usr/local/bin/extract_serial_numbers_dates_and_metadata_of_files_and_device\", line 8, in <module>\n",
      "    sys.exit(main())\n",
      "  File \"/usr/local/lib/python3.8/dist-packages/simex/extract_serial_numbers_dates_and_metadata_of_files_and_device.py\", line 226, in main\n",
      "    extract_metadata_of_files(input_directory,\n",
      "  File \"/usr/local/lib/python3.8/dist-packages/simex/extract_serial_numbers_dates_and_metadata_of_files_and_device.py\", line 164, in extract_metadata_of_files\n",
      "    tuple_date, tuple_metadata_of_file = extract_metadata(filename)\n",
      "  File \"/usr/local/lib/python3.8/dist-packages/simex/extract_serial_numbers_dates_and_metadata_of_files_and_device.py\", line 27, in extract_metadata\n",
      "    date_of_file = read_metadata_audio.extract_date(filename)\n",
      "  File \"/usr/local/lib/python3.8/dist-packages/simex/read_metadata_audio.py\", line 143, in extract_date\n",
      "    return get_date(comment_metadata)#example: 2021-07-28\n",
      "  File \"/usr/local/lib/python3.8/dist-packages/simex/read_metadata_audio.py\", line 92, in get_date\n",
      "    match_date = ONLY_DATE_REGEX.search(comment)\n",
      "TypeError: expected string or bytes-like object\n"
     ]
    },
    {
     "ename": "CalledProcessError",
     "evalue": "Command 'b'dir_to_be_processed=\"/LUSTRE/sacmod/SIPECAM/cumulo_92/Mes 2/3_92_0_1342/1342_1/audible\"\\nextract_serial_numbers_dates_and_metadata_of_files_and_device --input_dir \"$dir_to_be_processed\"\\n'' returned non-zero exit status 1.",
     "output_type": "error",
     "traceback": [
      "\u001b[0;31m---------------------------------------------------------------------------\u001b[0m",
      "\u001b[0;31mCalledProcessError\u001b[0m                        Traceback (most recent call last)",
      "Input \u001b[0;32mIn [9]\u001b[0m, in \u001b[0;36m<cell line: 1>\u001b[0;34m()\u001b[0m\n\u001b[0;32m----> 1\u001b[0m \u001b[43mget_ipython\u001b[49m\u001b[43m(\u001b[49m\u001b[43m)\u001b[49m\u001b[38;5;241;43m.\u001b[39;49m\u001b[43mrun_cell_magic\u001b[49m\u001b[43m(\u001b[49m\u001b[38;5;124;43m'\u001b[39;49m\u001b[38;5;124;43mbash\u001b[39;49m\u001b[38;5;124;43m'\u001b[39;49m\u001b[43m,\u001b[49m\u001b[43m \u001b[49m\u001b[38;5;124;43m'\u001b[39;49m\u001b[38;5;124;43m'\u001b[39;49m\u001b[43m,\u001b[49m\u001b[43m \u001b[49m\u001b[38;5;124;43m'\u001b[39;49m\u001b[38;5;124;43mdir_to_be_processed=\u001b[39;49m\u001b[38;5;124;43m\"\u001b[39;49m\u001b[38;5;124;43m/LUSTRE/sacmod/SIPECAM/cumulo_92/Mes 2/3_92_0_1342/1342_1/audible\u001b[39;49m\u001b[38;5;124;43m\"\u001b[39;49m\u001b[38;5;130;43;01m\\n\u001b[39;49;00m\u001b[38;5;124;43mextract_serial_numbers_dates_and_metadata_of_files_and_device --input_dir \u001b[39;49m\u001b[38;5;124;43m\"\u001b[39;49m\u001b[38;5;124;43m$dir_to_be_processed\u001b[39;49m\u001b[38;5;124;43m\"\u001b[39;49m\u001b[38;5;130;43;01m\\n\u001b[39;49;00m\u001b[38;5;124;43m'\u001b[39;49m\u001b[43m)\u001b[49m\n",
      "File \u001b[0;32m/usr/local/lib/python3.8/dist-packages/IPython/core/interactiveshell.py:2338\u001b[0m, in \u001b[0;36mInteractiveShell.run_cell_magic\u001b[0;34m(self, magic_name, line, cell)\u001b[0m\n\u001b[1;32m   2336\u001b[0m \u001b[38;5;28;01mwith\u001b[39;00m \u001b[38;5;28mself\u001b[39m\u001b[38;5;241m.\u001b[39mbuiltin_trap:\n\u001b[1;32m   2337\u001b[0m     args \u001b[38;5;241m=\u001b[39m (magic_arg_s, cell)\n\u001b[0;32m-> 2338\u001b[0m     result \u001b[38;5;241m=\u001b[39m \u001b[43mfn\u001b[49m\u001b[43m(\u001b[49m\u001b[38;5;241;43m*\u001b[39;49m\u001b[43margs\u001b[49m\u001b[43m,\u001b[49m\u001b[43m \u001b[49m\u001b[38;5;241;43m*\u001b[39;49m\u001b[38;5;241;43m*\u001b[39;49m\u001b[43mkwargs\u001b[49m\u001b[43m)\u001b[49m\n\u001b[1;32m   2339\u001b[0m \u001b[38;5;28;01mreturn\u001b[39;00m result\n",
      "File \u001b[0;32m/usr/local/lib/python3.8/dist-packages/IPython/core/magics/script.py:153\u001b[0m, in \u001b[0;36mScriptMagics._make_script_magic.<locals>.named_script_magic\u001b[0;34m(line, cell)\u001b[0m\n\u001b[1;32m    151\u001b[0m \u001b[38;5;28;01melse\u001b[39;00m:\n\u001b[1;32m    152\u001b[0m     line \u001b[38;5;241m=\u001b[39m script\n\u001b[0;32m--> 153\u001b[0m \u001b[38;5;28;01mreturn\u001b[39;00m \u001b[38;5;28;43mself\u001b[39;49m\u001b[38;5;241;43m.\u001b[39;49m\u001b[43mshebang\u001b[49m\u001b[43m(\u001b[49m\u001b[43mline\u001b[49m\u001b[43m,\u001b[49m\u001b[43m \u001b[49m\u001b[43mcell\u001b[49m\u001b[43m)\u001b[49m\n",
      "File \u001b[0;32m/usr/local/lib/python3.8/dist-packages/IPython/core/magics/script.py:305\u001b[0m, in \u001b[0;36mScriptMagics.shebang\u001b[0;34m(self, line, cell)\u001b[0m\n\u001b[1;32m    300\u001b[0m \u001b[38;5;28;01mif\u001b[39;00m args\u001b[38;5;241m.\u001b[39mraise_error \u001b[38;5;129;01mand\u001b[39;00m p\u001b[38;5;241m.\u001b[39mreturncode \u001b[38;5;241m!=\u001b[39m \u001b[38;5;241m0\u001b[39m:\n\u001b[1;32m    301\u001b[0m     \u001b[38;5;66;03m# If we get here and p.returncode is still None, we must have\u001b[39;00m\n\u001b[1;32m    302\u001b[0m     \u001b[38;5;66;03m# killed it but not yet seen its return code. We don't wait for it,\u001b[39;00m\n\u001b[1;32m    303\u001b[0m     \u001b[38;5;66;03m# in case it's stuck in uninterruptible sleep. -9 = SIGKILL\u001b[39;00m\n\u001b[1;32m    304\u001b[0m     rc \u001b[38;5;241m=\u001b[39m p\u001b[38;5;241m.\u001b[39mreturncode \u001b[38;5;129;01mor\u001b[39;00m \u001b[38;5;241m-\u001b[39m\u001b[38;5;241m9\u001b[39m\n\u001b[0;32m--> 305\u001b[0m     \u001b[38;5;28;01mraise\u001b[39;00m CalledProcessError(rc, cell)\n",
      "\u001b[0;31mCalledProcessError\u001b[0m: Command 'b'dir_to_be_processed=\"/LUSTRE/sacmod/SIPECAM/cumulo_92/Mes 2/3_92_0_1342/1342_1/audible\"\\nextract_serial_numbers_dates_and_metadata_of_files_and_device --input_dir \"$dir_to_be_processed\"\\n'' returned non-zero exit status 1."
     ]
    }
   ],
   "source": [
    "%%bash\n",
    "dir_to_be_processed=\"/LUSTRE/sacmod/SIPECAM/cumulo_92/Mes 2/3_92_0_1342/1342_1/audible\"\n",
    "extract_serial_numbers_dates_and_metadata_of_files_and_device --input_dir \"$dir_to_be_processed\""
   ]
  },
  {
   "cell_type": "markdown",
   "id": "bd254bb6-cd86-4d02-80ad-59774a26c052",
   "metadata": {},
   "source": [
    "Problematic file:"
   ]
  },
  {
   "cell_type": "code",
   "execution_count": 6,
   "id": "b8f86d04-370f-419e-863c-afc8087ccc34",
   "metadata": {},
   "outputs": [
    {
     "name": "stdout",
     "output_type": "stream",
     "text": [
      "[{\n",
      "  \"SourceFile\": \"/LUSTRE/sacmod/SIPECAM/cumulo_92/Mes 2/3_92_0_1342/1342_1/audible/19700110_173320.WAV\",\n",
      "  \"ExifToolVersion\": 12.40,\n",
      "  \"FileName\": \"19700110_173320.WAV\",\n",
      "  \"Directory\": \"/LUSTRE/sacmod/SIPECAM/cumulo_92/Mes 2/3_92_0_1342/1342_1/audible\",\n",
      "  \"FileSize\": \"0 bytes\",\n",
      "  \"FileModifyDate\": \"2021:09:26 05:30:18-05:00\",\n",
      "  \"FileAccessDate\": \"2022:03:10 08:38:40-06:00\",\n",
      "  \"FileInodeChangeDate\": \"2022:01:18 15:34:36-06:00\",\n",
      "  \"FilePermissions\": \"-rwxrwxrwx\",\n",
      "  \"Error\": \"File is empty\"\n",
      "}]\n"
     ]
    },
    {
     "ename": "CalledProcessError",
     "evalue": "Command 'b'filename=\"/LUSTRE/sacmod/SIPECAM/cumulo_92/Mes 2/3_92_0_1342/1342_1/audible/19700110_173320.WAV\"\\nexiftool -a -j \"$filename\"\\n'' returned non-zero exit status 1.",
     "output_type": "error",
     "traceback": [
      "\u001b[0;31m---------------------------------------------------------------------------\u001b[0m",
      "\u001b[0;31mCalledProcessError\u001b[0m                        Traceback (most recent call last)",
      "Input \u001b[0;32mIn [6]\u001b[0m, in \u001b[0;36m<cell line: 1>\u001b[0;34m()\u001b[0m\n\u001b[0;32m----> 1\u001b[0m \u001b[43mget_ipython\u001b[49m\u001b[43m(\u001b[49m\u001b[43m)\u001b[49m\u001b[38;5;241;43m.\u001b[39;49m\u001b[43mrun_cell_magic\u001b[49m\u001b[43m(\u001b[49m\u001b[38;5;124;43m'\u001b[39;49m\u001b[38;5;124;43mbash\u001b[39;49m\u001b[38;5;124;43m'\u001b[39;49m\u001b[43m,\u001b[49m\u001b[43m \u001b[49m\u001b[38;5;124;43m'\u001b[39;49m\u001b[38;5;124;43m'\u001b[39;49m\u001b[43m,\u001b[49m\u001b[43m \u001b[49m\u001b[38;5;124;43m'\u001b[39;49m\u001b[38;5;124;43mfilename=\u001b[39;49m\u001b[38;5;124;43m\"\u001b[39;49m\u001b[38;5;124;43m/LUSTRE/sacmod/SIPECAM/cumulo_92/Mes 2/3_92_0_1342/1342_1/audible/19700110_173320.WAV\u001b[39;49m\u001b[38;5;124;43m\"\u001b[39;49m\u001b[38;5;130;43;01m\\n\u001b[39;49;00m\u001b[38;5;124;43mexiftool -a -j \u001b[39;49m\u001b[38;5;124;43m\"\u001b[39;49m\u001b[38;5;124;43m$filename\u001b[39;49m\u001b[38;5;124;43m\"\u001b[39;49m\u001b[38;5;130;43;01m\\n\u001b[39;49;00m\u001b[38;5;124;43m'\u001b[39;49m\u001b[43m)\u001b[49m\n",
      "File \u001b[0;32m/usr/local/lib/python3.8/dist-packages/IPython/core/interactiveshell.py:2338\u001b[0m, in \u001b[0;36mInteractiveShell.run_cell_magic\u001b[0;34m(self, magic_name, line, cell)\u001b[0m\n\u001b[1;32m   2336\u001b[0m \u001b[38;5;28;01mwith\u001b[39;00m \u001b[38;5;28mself\u001b[39m\u001b[38;5;241m.\u001b[39mbuiltin_trap:\n\u001b[1;32m   2337\u001b[0m     args \u001b[38;5;241m=\u001b[39m (magic_arg_s, cell)\n\u001b[0;32m-> 2338\u001b[0m     result \u001b[38;5;241m=\u001b[39m \u001b[43mfn\u001b[49m\u001b[43m(\u001b[49m\u001b[38;5;241;43m*\u001b[39;49m\u001b[43margs\u001b[49m\u001b[43m,\u001b[49m\u001b[43m \u001b[49m\u001b[38;5;241;43m*\u001b[39;49m\u001b[38;5;241;43m*\u001b[39;49m\u001b[43mkwargs\u001b[49m\u001b[43m)\u001b[49m\n\u001b[1;32m   2339\u001b[0m \u001b[38;5;28;01mreturn\u001b[39;00m result\n",
      "File \u001b[0;32m/usr/local/lib/python3.8/dist-packages/IPython/core/magics/script.py:153\u001b[0m, in \u001b[0;36mScriptMagics._make_script_magic.<locals>.named_script_magic\u001b[0;34m(line, cell)\u001b[0m\n\u001b[1;32m    151\u001b[0m \u001b[38;5;28;01melse\u001b[39;00m:\n\u001b[1;32m    152\u001b[0m     line \u001b[38;5;241m=\u001b[39m script\n\u001b[0;32m--> 153\u001b[0m \u001b[38;5;28;01mreturn\u001b[39;00m \u001b[38;5;28;43mself\u001b[39;49m\u001b[38;5;241;43m.\u001b[39;49m\u001b[43mshebang\u001b[49m\u001b[43m(\u001b[49m\u001b[43mline\u001b[49m\u001b[43m,\u001b[49m\u001b[43m \u001b[49m\u001b[43mcell\u001b[49m\u001b[43m)\u001b[49m\n",
      "File \u001b[0;32m/usr/local/lib/python3.8/dist-packages/IPython/core/magics/script.py:305\u001b[0m, in \u001b[0;36mScriptMagics.shebang\u001b[0;34m(self, line, cell)\u001b[0m\n\u001b[1;32m    300\u001b[0m \u001b[38;5;28;01mif\u001b[39;00m args\u001b[38;5;241m.\u001b[39mraise_error \u001b[38;5;129;01mand\u001b[39;00m p\u001b[38;5;241m.\u001b[39mreturncode \u001b[38;5;241m!=\u001b[39m \u001b[38;5;241m0\u001b[39m:\n\u001b[1;32m    301\u001b[0m     \u001b[38;5;66;03m# If we get here and p.returncode is still None, we must have\u001b[39;00m\n\u001b[1;32m    302\u001b[0m     \u001b[38;5;66;03m# killed it but not yet seen its return code. We don't wait for it,\u001b[39;00m\n\u001b[1;32m    303\u001b[0m     \u001b[38;5;66;03m# in case it's stuck in uninterruptible sleep. -9 = SIGKILL\u001b[39;00m\n\u001b[1;32m    304\u001b[0m     rc \u001b[38;5;241m=\u001b[39m p\u001b[38;5;241m.\u001b[39mreturncode \u001b[38;5;129;01mor\u001b[39;00m \u001b[38;5;241m-\u001b[39m\u001b[38;5;241m9\u001b[39m\n\u001b[0;32m--> 305\u001b[0m     \u001b[38;5;28;01mraise\u001b[39;00m CalledProcessError(rc, cell)\n",
      "\u001b[0;31mCalledProcessError\u001b[0m: Command 'b'filename=\"/LUSTRE/sacmod/SIPECAM/cumulo_92/Mes 2/3_92_0_1342/1342_1/audible/19700110_173320.WAV\"\\nexiftool -a -j \"$filename\"\\n'' returned non-zero exit status 1."
     ]
    }
   ],
   "source": [
    "%%bash\n",
    "filename=\"/LUSTRE/sacmod/SIPECAM/cumulo_92/Mes 2/3_92_0_1342/1342_1/audible/19700110_173320.WAV\"\n",
    "exiftool -a -j \"$filename\""
   ]
  },
  {
   "cell_type": "code",
   "execution_count": 10,
   "id": "c4d6285f-212d-4817-9259-658838f9d040",
   "metadata": {},
   "outputs": [
    {
     "name": "stdout",
     "output_type": "stream",
     "text": [
      "[{\n",
      "  \"SourceFile\": \"/LUSTRE/sacmod/SIPECAM/cumulo_92/Mes 2/3_92_0_1342/1342_1/audible/19700110_172413.WAV\",\n",
      "  \"ExifToolVersion\": 12.40,\n",
      "  \"FileName\": \"19700110_172413.WAV\",\n",
      "  \"Directory\": \"/LUSTRE/sacmod/SIPECAM/cumulo_92/Mes 2/3_92_0_1342/1342_1/audible\",\n",
      "  \"FileSize\": \"0 bytes\",\n",
      "  \"FileModifyDate\": \"2021:09:26 05:30:18-05:00\",\n",
      "  \"FileAccessDate\": \"2022:03:10 08:52:31-06:00\",\n",
      "  \"FileInodeChangeDate\": \"2022:01:18 15:34:36-06:00\",\n",
      "  \"FilePermissions\": \"-rwxrwxrwx\",\n",
      "  \"Error\": \"File is empty\"\n",
      "}]\n"
     ]
    },
    {
     "ename": "CalledProcessError",
     "evalue": "Command 'b'filename=\"/LUSTRE/sacmod/SIPECAM/cumulo_92/Mes 2/3_92_0_1342/1342_1/audible/19700110_172413.WAV\"\\nexiftool -a -j \"$filename\"\\n'' returned non-zero exit status 1.",
     "output_type": "error",
     "traceback": [
      "\u001b[0;31m---------------------------------------------------------------------------\u001b[0m",
      "\u001b[0;31mCalledProcessError\u001b[0m                        Traceback (most recent call last)",
      "Input \u001b[0;32mIn [10]\u001b[0m, in \u001b[0;36m<cell line: 1>\u001b[0;34m()\u001b[0m\n\u001b[0;32m----> 1\u001b[0m \u001b[43mget_ipython\u001b[49m\u001b[43m(\u001b[49m\u001b[43m)\u001b[49m\u001b[38;5;241;43m.\u001b[39;49m\u001b[43mrun_cell_magic\u001b[49m\u001b[43m(\u001b[49m\u001b[38;5;124;43m'\u001b[39;49m\u001b[38;5;124;43mbash\u001b[39;49m\u001b[38;5;124;43m'\u001b[39;49m\u001b[43m,\u001b[49m\u001b[43m \u001b[49m\u001b[38;5;124;43m'\u001b[39;49m\u001b[38;5;124;43m'\u001b[39;49m\u001b[43m,\u001b[49m\u001b[43m \u001b[49m\u001b[38;5;124;43m'\u001b[39;49m\u001b[38;5;124;43mfilename=\u001b[39;49m\u001b[38;5;124;43m\"\u001b[39;49m\u001b[38;5;124;43m/LUSTRE/sacmod/SIPECAM/cumulo_92/Mes 2/3_92_0_1342/1342_1/audible/19700110_172413.WAV\u001b[39;49m\u001b[38;5;124;43m\"\u001b[39;49m\u001b[38;5;130;43;01m\\n\u001b[39;49;00m\u001b[38;5;124;43mexiftool -a -j \u001b[39;49m\u001b[38;5;124;43m\"\u001b[39;49m\u001b[38;5;124;43m$filename\u001b[39;49m\u001b[38;5;124;43m\"\u001b[39;49m\u001b[38;5;130;43;01m\\n\u001b[39;49;00m\u001b[38;5;124;43m'\u001b[39;49m\u001b[43m)\u001b[49m\n",
      "File \u001b[0;32m/usr/local/lib/python3.8/dist-packages/IPython/core/interactiveshell.py:2338\u001b[0m, in \u001b[0;36mInteractiveShell.run_cell_magic\u001b[0;34m(self, magic_name, line, cell)\u001b[0m\n\u001b[1;32m   2336\u001b[0m \u001b[38;5;28;01mwith\u001b[39;00m \u001b[38;5;28mself\u001b[39m\u001b[38;5;241m.\u001b[39mbuiltin_trap:\n\u001b[1;32m   2337\u001b[0m     args \u001b[38;5;241m=\u001b[39m (magic_arg_s, cell)\n\u001b[0;32m-> 2338\u001b[0m     result \u001b[38;5;241m=\u001b[39m \u001b[43mfn\u001b[49m\u001b[43m(\u001b[49m\u001b[38;5;241;43m*\u001b[39;49m\u001b[43margs\u001b[49m\u001b[43m,\u001b[49m\u001b[43m \u001b[49m\u001b[38;5;241;43m*\u001b[39;49m\u001b[38;5;241;43m*\u001b[39;49m\u001b[43mkwargs\u001b[49m\u001b[43m)\u001b[49m\n\u001b[1;32m   2339\u001b[0m \u001b[38;5;28;01mreturn\u001b[39;00m result\n",
      "File \u001b[0;32m/usr/local/lib/python3.8/dist-packages/IPython/core/magics/script.py:153\u001b[0m, in \u001b[0;36mScriptMagics._make_script_magic.<locals>.named_script_magic\u001b[0;34m(line, cell)\u001b[0m\n\u001b[1;32m    151\u001b[0m \u001b[38;5;28;01melse\u001b[39;00m:\n\u001b[1;32m    152\u001b[0m     line \u001b[38;5;241m=\u001b[39m script\n\u001b[0;32m--> 153\u001b[0m \u001b[38;5;28;01mreturn\u001b[39;00m \u001b[38;5;28;43mself\u001b[39;49m\u001b[38;5;241;43m.\u001b[39;49m\u001b[43mshebang\u001b[49m\u001b[43m(\u001b[49m\u001b[43mline\u001b[49m\u001b[43m,\u001b[49m\u001b[43m \u001b[49m\u001b[43mcell\u001b[49m\u001b[43m)\u001b[49m\n",
      "File \u001b[0;32m/usr/local/lib/python3.8/dist-packages/IPython/core/magics/script.py:305\u001b[0m, in \u001b[0;36mScriptMagics.shebang\u001b[0;34m(self, line, cell)\u001b[0m\n\u001b[1;32m    300\u001b[0m \u001b[38;5;28;01mif\u001b[39;00m args\u001b[38;5;241m.\u001b[39mraise_error \u001b[38;5;129;01mand\u001b[39;00m p\u001b[38;5;241m.\u001b[39mreturncode \u001b[38;5;241m!=\u001b[39m \u001b[38;5;241m0\u001b[39m:\n\u001b[1;32m    301\u001b[0m     \u001b[38;5;66;03m# If we get here and p.returncode is still None, we must have\u001b[39;00m\n\u001b[1;32m    302\u001b[0m     \u001b[38;5;66;03m# killed it but not yet seen its return code. We don't wait for it,\u001b[39;00m\n\u001b[1;32m    303\u001b[0m     \u001b[38;5;66;03m# in case it's stuck in uninterruptible sleep. -9 = SIGKILL\u001b[39;00m\n\u001b[1;32m    304\u001b[0m     rc \u001b[38;5;241m=\u001b[39m p\u001b[38;5;241m.\u001b[39mreturncode \u001b[38;5;129;01mor\u001b[39;00m \u001b[38;5;241m-\u001b[39m\u001b[38;5;241m9\u001b[39m\n\u001b[0;32m--> 305\u001b[0m     \u001b[38;5;28;01mraise\u001b[39;00m CalledProcessError(rc, cell)\n",
      "\u001b[0;31mCalledProcessError\u001b[0m: Command 'b'filename=\"/LUSTRE/sacmod/SIPECAM/cumulo_92/Mes 2/3_92_0_1342/1342_1/audible/19700110_172413.WAV\"\\nexiftool -a -j \"$filename\"\\n'' returned non-zero exit status 1."
     ]
    }
   ],
   "source": [
    "%%bash\n",
    "filename=\"/LUSTRE/sacmod/SIPECAM/cumulo_92/Mes 2/3_92_0_1342/1342_1/audible/19700110_172413.WAV\"\n",
    "exiftool -a -j \"$filename\""
   ]
  },
  {
   "cell_type": "markdown",
   "id": "6caf5883-03ed-423e-9747-ce204ce6e504",
   "metadata": {},
   "source": [
    "Moving files to directory \"/LUSTRE/sacmod/SIPECAM/cumulo_92/Mes 2 error/3_92_0_1342/1342_1/audible/\""
   ]
  },
  {
   "cell_type": "code",
   "execution_count": 7,
   "id": "13f94003-bbf0-43d1-b4c1-26a4f4c251a2",
   "metadata": {},
   "outputs": [],
   "source": [
    "%%bash\n",
    "mv \"/LUSTRE/sacmod/SIPECAM/cumulo_92/Mes 2/3_92_0_1342/1342_1/audible/19700110_173320.WAV\" \"/LUSTRE/sacmod/SIPECAM/cumulo_92/Mes 2 error/3_92_0_1342/1342_1/audible/\""
   ]
  },
  {
   "cell_type": "code",
   "execution_count": 11,
   "id": "4ca600ae-7a82-43f3-b51c-93897efcda47",
   "metadata": {},
   "outputs": [],
   "source": [
    "%%bash\n",
    "mv \"/LUSTRE/sacmod/SIPECAM/cumulo_92/Mes 2/3_92_0_1342/1342_1/audible/19700110_172413.WAV\" \"/LUSTRE/sacmod/SIPECAM/cumulo_92/Mes 2 error/3_92_0_1342/1342_1/audible/\""
   ]
  },
  {
   "cell_type": "markdown",
   "id": "e92e2c60-a312-4459-b32d-ece427dc97b5",
   "metadata": {},
   "source": [
    "Implemented handling of empty audio files in: [commit](https://github.com/CONABIO/sipecam-metadata-extractor/blob/262f0ee38f748ca283e4bc87720adc07e8cb6dd4/src/simex/check_if_there_are_audio_empty_files_in_dir_and_move_them.py)"
   ]
  },
  {
   "cell_type": "markdown",
   "id": "8c453214-9a25-4c82-a273-d33dd7b86863",
   "metadata": {},
   "source": [
    "Rerunning cmd"
   ]
  },
  {
   "cell_type": "code",
   "execution_count": 1,
   "id": "24ce28a6-00ec-4c3c-a0d4-99785d5e8477",
   "metadata": {},
   "outputs": [],
   "source": [
    "%%bash\n",
    "dir_to_be_processed=\"/LUSTRE/sacmod/SIPECAM/cumulo_92/Mes 2/3_92_0_1342/1342_1/audible\"\n",
    "check_if_there_are_audio_empty_files_in_dir_and_move_them --input_directory_audio \"$dir_to_be_processed\" --number_of_processes 10"
   ]
  },
  {
   "cell_type": "code",
   "execution_count": 4,
   "id": "ae10b962-dedd-4418-a419-ae9259d14904",
   "metadata": {},
   "outputs": [
    {
     "name": "stdout",
     "output_type": "stream",
     "text": [
      "19700110_173308.WAV\n",
      "19700110_173332.WAV\n",
      "19700110_173349.WAV\n",
      "19700110_173937.WAV\n",
      "19700110_174020.WAV\n",
      "19700110_174026.WAV\n",
      "19700110_174032.WAV\n"
     ]
    }
   ],
   "source": [
    "%%bash\n",
    "ls \"/LUSTRE/sacmod/SIPECAM/cumulo_92/Mes 2/3_92_0_1342/1342_1/audible/error\""
   ]
  },
  {
   "cell_type": "code",
   "execution_count": 2,
   "id": "778c346c-dea1-47c9-8305-7d752ccc1470",
   "metadata": {},
   "outputs": [],
   "source": [
    "%%bash\n",
    "dir_to_be_processed=\"/LUSTRE/sacmod/SIPECAM/cumulo_92/Mes 2/3_92_0_1342/1342_1/audible\"\n",
    "extract_serial_numbers_dates_and_metadata_of_files_and_device --input_dir \"$dir_to_be_processed\" --parallel --number_of_processes 10"
   ]
  },
  {
   "cell_type": "markdown",
   "id": "3cd89fc3-c0b5-45d3-bca9-0d17097b3870",
   "metadata": {},
   "source": [
    "# 3"
   ]
  },
  {
   "cell_type": "markdown",
   "id": "4f830ee7-62a7-4d08-b125-1b7b73a0a3d4",
   "metadata": {},
   "source": [
    "dir: /LUSTRE/sacmod/SIPECAM/cumulo_92/Mes 2/3_92_1_1340/1340_2/audible"
   ]
  },
  {
   "cell_type": "markdown",
   "id": "26fdb1f3-0947-47a3-bfe2-d2a74c26c010",
   "metadata": {},
   "source": [
    "Checking if there is empty content in dir for files"
   ]
  },
  {
   "cell_type": "code",
   "execution_count": 3,
   "id": "1ca73e6c-9661-431b-8034-8ce385a68cc4",
   "metadata": {},
   "outputs": [],
   "source": [
    "%%bash\n",
    "dir_to_be_processed=\"/LUSTRE/sacmod/SIPECAM/cumulo_92/Mes 2/3_92_1_1340/1340_2/audible\"\n",
    "check_if_there_are_audio_empty_files_in_dir_and_move_them --input_directory_audio \"$dir_to_be_processed\" --number_of_processes 10"
   ]
  },
  {
   "cell_type": "code",
   "execution_count": 5,
   "id": "a998002d-de56-456b-ac0f-4f3eabc496a2",
   "metadata": {},
   "outputs": [
    {
     "name": "stdout",
     "output_type": "stream",
     "text": [
      "20211003_202000.WAV\n"
     ]
    }
   ],
   "source": [
    "%%bash\n",
    "ls \"/LUSTRE/sacmod/SIPECAM/cumulo_92/Mes 2/3_92_1_1340/1340_2/audible/error\""
   ]
  },
  {
   "cell_type": "code",
   "execution_count": 4,
   "id": "21bdb973-dfc2-433c-97b4-d71278ebb8c9",
   "metadata": {},
   "outputs": [],
   "source": [
    "%%bash\n",
    "dir_to_be_processed=\"/LUSTRE/sacmod/SIPECAM/cumulo_92/Mes 2/3_92_1_1340/1340_2/audible\"\n",
    "extract_serial_numbers_dates_and_metadata_of_files_and_device --input_dir \"$dir_to_be_processed\" --parallel --number_of_processes 10"
   ]
  },
  {
   "cell_type": "markdown",
   "id": "1140df7a-8858-4211-8092-03e9bf917458",
   "metadata": {},
   "source": [
    "# 4"
   ]
  },
  {
   "cell_type": "markdown",
   "id": "d254927b-3210-49bc-a731-09697390ff16",
   "metadata": {},
   "source": [
    "dir: /LUSTRE/sacmod/SIPECAM/cumulo_92/Mes 3/3_92_0_1343/Ch1/10306783"
   ]
  },
  {
   "cell_type": "code",
   "execution_count": 5,
   "id": "344678c2-28f2-4dc4-88cd-2218ea19e814",
   "metadata": {},
   "outputs": [],
   "source": [
    "%%bash\n",
    "dir_to_be_processed=\"/LUSTRE/sacmod/SIPECAM/cumulo_92/Mes 3/3_92_0_1343/Ch1/10306783\"\n",
    "check_if_there_are_audio_empty_files_in_dir_and_move_them --input_directory_audio \"$dir_to_be_processed\" --number_of_processes 10"
   ]
  },
  {
   "cell_type": "code",
   "execution_count": 7,
   "id": "2c735ca4-9c6f-4795-9400-a2465d652ef3",
   "metadata": {},
   "outputs": [
    {
     "name": "stderr",
     "output_type": "stream",
     "text": [
      "Traceback (most recent call last):\n",
      "  File \"/usr/local/bin/extract_serial_numbers_dates_and_metadata_of_files_and_device\", line 8, in <module>\n",
      "    sys.exit(main())\n",
      "  File \"/usr/local/lib/python3.8/dist-packages/simex/extract_serial_numbers_dates_and_metadata_of_files_and_device.py\", line 221, in main\n",
      "    extract_metadata_of_files(input_directory,\n",
      "  File \"/usr/local/lib/python3.8/dist-packages/simex/extract_serial_numbers_dates_and_metadata_of_files_and_device.py\", line 159, in extract_metadata_of_files\n",
      "    tuple_date, tuple_metadata_of_file = extract_metadata(filename)\n",
      "  File \"/usr/local/lib/python3.8/dist-packages/simex/extract_serial_numbers_dates_and_metadata_of_files_and_device.py\", line 28, in extract_metadata\n",
      "    tuple_metadata_of_file = (filename,read_metadata_audio.get_metadata_of_file(filename))\n",
      "  File \"/usr/local/lib/python3.8/dist-packages/simex/read_metadata_audio.py\", line 121, in get_metadata_of_file\n",
      "    date_with_timezone = get_date_with_timezone(comment_metadata)\n",
      "  File \"/usr/local/lib/python3.8/dist-packages/simex/read_metadata_audio.py\", line 74, in get_date_with_timezone\n",
      "    return date_with_timezone #example: 21:20:00 28/07/2021 (UTC-0600)\n",
      "UnboundLocalError: local variable 'date_with_timezone' referenced before assignment\n"
     ]
    },
    {
     "ename": "CalledProcessError",
     "evalue": "Command 'b'dir_to_be_processed=\"/LUSTRE/sacmod/SIPECAM/cumulo_92/Mes 3/3_92_0_1343/Ch1/10306783\"\\nextract_serial_numbers_dates_and_metadata_of_files_and_device --input_dir \"$dir_to_be_processed\"\\n'' returned non-zero exit status 1.",
     "output_type": "error",
     "traceback": [
      "\u001b[0;31m---------------------------------------------------------------------------\u001b[0m",
      "\u001b[0;31mCalledProcessError\u001b[0m                        Traceback (most recent call last)",
      "Input \u001b[0;32mIn [7]\u001b[0m, in \u001b[0;36m<cell line: 1>\u001b[0;34m()\u001b[0m\n\u001b[0;32m----> 1\u001b[0m \u001b[43mget_ipython\u001b[49m\u001b[43m(\u001b[49m\u001b[43m)\u001b[49m\u001b[38;5;241;43m.\u001b[39;49m\u001b[43mrun_cell_magic\u001b[49m\u001b[43m(\u001b[49m\u001b[38;5;124;43m'\u001b[39;49m\u001b[38;5;124;43mbash\u001b[39;49m\u001b[38;5;124;43m'\u001b[39;49m\u001b[43m,\u001b[49m\u001b[43m \u001b[49m\u001b[38;5;124;43m'\u001b[39;49m\u001b[38;5;124;43m'\u001b[39;49m\u001b[43m,\u001b[49m\u001b[43m \u001b[49m\u001b[38;5;124;43m'\u001b[39;49m\u001b[38;5;124;43mdir_to_be_processed=\u001b[39;49m\u001b[38;5;124;43m\"\u001b[39;49m\u001b[38;5;124;43m/LUSTRE/sacmod/SIPECAM/cumulo_92/Mes 3/3_92_0_1343/Ch1/10306783\u001b[39;49m\u001b[38;5;124;43m\"\u001b[39;49m\u001b[38;5;130;43;01m\\n\u001b[39;49;00m\u001b[38;5;124;43mextract_serial_numbers_dates_and_metadata_of_files_and_device --input_dir \u001b[39;49m\u001b[38;5;124;43m\"\u001b[39;49m\u001b[38;5;124;43m$dir_to_be_processed\u001b[39;49m\u001b[38;5;124;43m\"\u001b[39;49m\u001b[38;5;130;43;01m\\n\u001b[39;49;00m\u001b[38;5;124;43m'\u001b[39;49m\u001b[43m)\u001b[49m\n",
      "File \u001b[0;32m/usr/local/lib/python3.8/dist-packages/IPython/core/interactiveshell.py:2338\u001b[0m, in \u001b[0;36mInteractiveShell.run_cell_magic\u001b[0;34m(self, magic_name, line, cell)\u001b[0m\n\u001b[1;32m   2336\u001b[0m \u001b[38;5;28;01mwith\u001b[39;00m \u001b[38;5;28mself\u001b[39m\u001b[38;5;241m.\u001b[39mbuiltin_trap:\n\u001b[1;32m   2337\u001b[0m     args \u001b[38;5;241m=\u001b[39m (magic_arg_s, cell)\n\u001b[0;32m-> 2338\u001b[0m     result \u001b[38;5;241m=\u001b[39m \u001b[43mfn\u001b[49m\u001b[43m(\u001b[49m\u001b[38;5;241;43m*\u001b[39;49m\u001b[43margs\u001b[49m\u001b[43m,\u001b[49m\u001b[43m \u001b[49m\u001b[38;5;241;43m*\u001b[39;49m\u001b[38;5;241;43m*\u001b[39;49m\u001b[43mkwargs\u001b[49m\u001b[43m)\u001b[49m\n\u001b[1;32m   2339\u001b[0m \u001b[38;5;28;01mreturn\u001b[39;00m result\n",
      "File \u001b[0;32m/usr/local/lib/python3.8/dist-packages/IPython/core/magics/script.py:153\u001b[0m, in \u001b[0;36mScriptMagics._make_script_magic.<locals>.named_script_magic\u001b[0;34m(line, cell)\u001b[0m\n\u001b[1;32m    151\u001b[0m \u001b[38;5;28;01melse\u001b[39;00m:\n\u001b[1;32m    152\u001b[0m     line \u001b[38;5;241m=\u001b[39m script\n\u001b[0;32m--> 153\u001b[0m \u001b[38;5;28;01mreturn\u001b[39;00m \u001b[38;5;28;43mself\u001b[39;49m\u001b[38;5;241;43m.\u001b[39;49m\u001b[43mshebang\u001b[49m\u001b[43m(\u001b[49m\u001b[43mline\u001b[49m\u001b[43m,\u001b[49m\u001b[43m \u001b[49m\u001b[43mcell\u001b[49m\u001b[43m)\u001b[49m\n",
      "File \u001b[0;32m/usr/local/lib/python3.8/dist-packages/IPython/core/magics/script.py:305\u001b[0m, in \u001b[0;36mScriptMagics.shebang\u001b[0;34m(self, line, cell)\u001b[0m\n\u001b[1;32m    300\u001b[0m \u001b[38;5;28;01mif\u001b[39;00m args\u001b[38;5;241m.\u001b[39mraise_error \u001b[38;5;129;01mand\u001b[39;00m p\u001b[38;5;241m.\u001b[39mreturncode \u001b[38;5;241m!=\u001b[39m \u001b[38;5;241m0\u001b[39m:\n\u001b[1;32m    301\u001b[0m     \u001b[38;5;66;03m# If we get here and p.returncode is still None, we must have\u001b[39;00m\n\u001b[1;32m    302\u001b[0m     \u001b[38;5;66;03m# killed it but not yet seen its return code. We don't wait for it,\u001b[39;00m\n\u001b[1;32m    303\u001b[0m     \u001b[38;5;66;03m# in case it's stuck in uninterruptible sleep. -9 = SIGKILL\u001b[39;00m\n\u001b[1;32m    304\u001b[0m     rc \u001b[38;5;241m=\u001b[39m p\u001b[38;5;241m.\u001b[39mreturncode \u001b[38;5;129;01mor\u001b[39;00m \u001b[38;5;241m-\u001b[39m\u001b[38;5;241m9\u001b[39m\n\u001b[0;32m--> 305\u001b[0m     \u001b[38;5;28;01mraise\u001b[39;00m CalledProcessError(rc, cell)\n",
      "\u001b[0;31mCalledProcessError\u001b[0m: Command 'b'dir_to_be_processed=\"/LUSTRE/sacmod/SIPECAM/cumulo_92/Mes 3/3_92_0_1343/Ch1/10306783\"\\nextract_serial_numbers_dates_and_metadata_of_files_and_device --input_dir \"$dir_to_be_processed\"\\n'' returned non-zero exit status 1."
     ]
    }
   ],
   "source": [
    "%%bash\n",
    "dir_to_be_processed=\"/LUSTRE/sacmod/SIPECAM/cumulo_92/Mes 3/3_92_0_1343/Ch1/10306783\"\n",
    "extract_serial_numbers_dates_and_metadata_of_files_and_device --input_dir \"$dir_to_be_processed\""
   ]
  },
  {
   "cell_type": "markdown",
   "id": "52a851e1-5f64-472e-a0e5-600601e5bb6e",
   "metadata": {},
   "source": [
    "Problematic file:"
   ]
  },
  {
   "cell_type": "code",
   "execution_count": 8,
   "id": "efda32ef-7999-4fac-8ceb-feeaa5a89858",
   "metadata": {},
   "outputs": [
    {
     "name": "stdout",
     "output_type": "stream",
     "text": [
      "[{\n",
      "  \"SourceFile\": \"/LUSTRE/sacmod/SIPECAM/cumulo_92/Mes 3/3_92_0_1343/Ch1/10306783/19700101_002058.WAV\",\n",
      "  \"ExifToolVersion\": 12.40,\n",
      "  \"FileName\": \"19700101_002058.WAV\",\n",
      "  \"Directory\": \"/LUSTRE/sacmod/SIPECAM/cumulo_92/Mes 3/3_92_0_1343/Ch1/10306783\",\n",
      "  \"FileSize\": \"224 KiB\",\n",
      "  \"FileModifyDate\": \"1961:11:25 17:52:44-06:00\",\n",
      "  \"FileAccessDate\": \"2022:03:10 12:31:46-06:00\",\n",
      "  \"FileInodeChangeDate\": \"2022:02:11 16:41:59-06:00\",\n",
      "  \"FilePermissions\": \"-rwxrwxrwx\",\n",
      "  \"FileType\": \"WAV\",\n",
      "  \"FileTypeExtension\": \"wav\",\n",
      "  \"MIMEType\": \"audio/x-wav\",\n",
      "  \"Encoding\": \"Microsoft PCM\",\n",
      "  \"NumChannels\": 1,\n",
      "  \"SampleRate\": 48000,\n",
      "  \"AvgBytesPerSec\": 96000,\n",
      "  \"BitsPerSample\": 16,\n",
      "  \"Comment\": \"Recorded at 00:20:58 01/01/1970 (UTC) by AudioMoth 24E1440360371EA1 at medium gain setting while battery state was 4.8V and temperature was 32.9C. Recording cancelled before completion due to change of switch position.\",\n",
      "  \"Artist\": \"AudioMoth 24E1440360371EA1\",\n",
      "  \"Duration\": \"2.39 s\"\n",
      "}]\n"
     ]
    }
   ],
   "source": [
    "%%bash\n",
    "filename=\"/LUSTRE/sacmod/SIPECAM/cumulo_92/Mes 3/3_92_0_1343/Ch1/10306783/19700101_002058.WAV\"\n",
    "exiftool -a -j \"$filename\""
   ]
  },
  {
   "cell_type": "markdown",
   "id": "7a3e043c-37ad-4f4c-8684-93e61c1d6e1c",
   "metadata": {},
   "source": [
    "File was only of 2.39 segs"
   ]
  },
  {
   "cell_type": "markdown",
   "id": "ae475f76-1ee3-4eeb-a3aa-6c550427d6f1",
   "metadata": {},
   "source": [
    "Moving file to directory \"/LUSTRE/sacmod/SIPECAM/cumulo_92/Mes 3/3_92_0_1343/Ch1/10306783/error\""
   ]
  },
  {
   "cell_type": "code",
   "execution_count": 9,
   "id": "bcba2f04-f61d-4987-8898-b9ff8d442d73",
   "metadata": {},
   "outputs": [],
   "source": [
    "%%bash\n",
    "mv \"/LUSTRE/sacmod/SIPECAM/cumulo_92/Mes 3/3_92_0_1343/Ch1/10306783/19700101_002058.WAV\" \"/LUSTRE/sacmod/SIPECAM/cumulo_92/Mes 3/3_92_0_1343/Ch1/10306783/error/\""
   ]
  },
  {
   "cell_type": "markdown",
   "id": "a5833fd9-331c-4f39-bf4b-0ddc847e84a5",
   "metadata": {},
   "source": [
    "Rerunning cmd:"
   ]
  },
  {
   "cell_type": "code",
   "execution_count": 11,
   "id": "c4775ef0-b57b-4b59-8c41-49d53e1949f3",
   "metadata": {},
   "outputs": [
    {
     "name": "stderr",
     "output_type": "stream",
     "text": [
      "Traceback (most recent call last):\n",
      "  File \"/usr/local/bin/extract_serial_numbers_dates_and_metadata_of_files_and_device\", line 8, in <module>\n",
      "    sys.exit(main())\n",
      "  File \"/usr/local/lib/python3.8/dist-packages/simex/extract_serial_numbers_dates_and_metadata_of_files_and_device.py\", line 221, in main\n",
      "    extract_metadata_of_files(input_directory,\n",
      "  File \"/usr/local/lib/python3.8/dist-packages/simex/extract_serial_numbers_dates_and_metadata_of_files_and_device.py\", line 159, in extract_metadata_of_files\n",
      "    tuple_date, tuple_metadata_of_file = extract_metadata(filename)\n",
      "  File \"/usr/local/lib/python3.8/dist-packages/simex/extract_serial_numbers_dates_and_metadata_of_files_and_device.py\", line 28, in extract_metadata\n",
      "    tuple_metadata_of_file = (filename,read_metadata_audio.get_metadata_of_file(filename))\n",
      "  File \"/usr/local/lib/python3.8/dist-packages/simex/read_metadata_audio.py\", line 121, in get_metadata_of_file\n",
      "    date_with_timezone = get_date_with_timezone(comment_metadata)\n",
      "  File \"/usr/local/lib/python3.8/dist-packages/simex/read_metadata_audio.py\", line 74, in get_date_with_timezone\n",
      "    return date_with_timezone #example: 21:20:00 28/07/2021 (UTC-0600)\n",
      "UnboundLocalError: local variable 'date_with_timezone' referenced before assignment\n"
     ]
    },
    {
     "ename": "CalledProcessError",
     "evalue": "Command 'b'dir_to_be_processed=\"/LUSTRE/sacmod/SIPECAM/cumulo_92/Mes 3/3_92_0_1343/Ch1/10306783\"\\nextract_serial_numbers_dates_and_metadata_of_files_and_device --input_dir \"$dir_to_be_processed\"\\n'' returned non-zero exit status 1.",
     "output_type": "error",
     "traceback": [
      "\u001b[0;31m---------------------------------------------------------------------------\u001b[0m",
      "\u001b[0;31mCalledProcessError\u001b[0m                        Traceback (most recent call last)",
      "Input \u001b[0;32mIn [11]\u001b[0m, in \u001b[0;36m<cell line: 1>\u001b[0;34m()\u001b[0m\n\u001b[0;32m----> 1\u001b[0m \u001b[43mget_ipython\u001b[49m\u001b[43m(\u001b[49m\u001b[43m)\u001b[49m\u001b[38;5;241;43m.\u001b[39;49m\u001b[43mrun_cell_magic\u001b[49m\u001b[43m(\u001b[49m\u001b[38;5;124;43m'\u001b[39;49m\u001b[38;5;124;43mbash\u001b[39;49m\u001b[38;5;124;43m'\u001b[39;49m\u001b[43m,\u001b[49m\u001b[43m \u001b[49m\u001b[38;5;124;43m'\u001b[39;49m\u001b[38;5;124;43m'\u001b[39;49m\u001b[43m,\u001b[49m\u001b[43m \u001b[49m\u001b[38;5;124;43m'\u001b[39;49m\u001b[38;5;124;43mdir_to_be_processed=\u001b[39;49m\u001b[38;5;124;43m\"\u001b[39;49m\u001b[38;5;124;43m/LUSTRE/sacmod/SIPECAM/cumulo_92/Mes 3/3_92_0_1343/Ch1/10306783\u001b[39;49m\u001b[38;5;124;43m\"\u001b[39;49m\u001b[38;5;130;43;01m\\n\u001b[39;49;00m\u001b[38;5;124;43mextract_serial_numbers_dates_and_metadata_of_files_and_device --input_dir \u001b[39;49m\u001b[38;5;124;43m\"\u001b[39;49m\u001b[38;5;124;43m$dir_to_be_processed\u001b[39;49m\u001b[38;5;124;43m\"\u001b[39;49m\u001b[38;5;130;43;01m\\n\u001b[39;49;00m\u001b[38;5;124;43m'\u001b[39;49m\u001b[43m)\u001b[49m\n",
      "File \u001b[0;32m/usr/local/lib/python3.8/dist-packages/IPython/core/interactiveshell.py:2338\u001b[0m, in \u001b[0;36mInteractiveShell.run_cell_magic\u001b[0;34m(self, magic_name, line, cell)\u001b[0m\n\u001b[1;32m   2336\u001b[0m \u001b[38;5;28;01mwith\u001b[39;00m \u001b[38;5;28mself\u001b[39m\u001b[38;5;241m.\u001b[39mbuiltin_trap:\n\u001b[1;32m   2337\u001b[0m     args \u001b[38;5;241m=\u001b[39m (magic_arg_s, cell)\n\u001b[0;32m-> 2338\u001b[0m     result \u001b[38;5;241m=\u001b[39m \u001b[43mfn\u001b[49m\u001b[43m(\u001b[49m\u001b[38;5;241;43m*\u001b[39;49m\u001b[43margs\u001b[49m\u001b[43m,\u001b[49m\u001b[43m \u001b[49m\u001b[38;5;241;43m*\u001b[39;49m\u001b[38;5;241;43m*\u001b[39;49m\u001b[43mkwargs\u001b[49m\u001b[43m)\u001b[49m\n\u001b[1;32m   2339\u001b[0m \u001b[38;5;28;01mreturn\u001b[39;00m result\n",
      "File \u001b[0;32m/usr/local/lib/python3.8/dist-packages/IPython/core/magics/script.py:153\u001b[0m, in \u001b[0;36mScriptMagics._make_script_magic.<locals>.named_script_magic\u001b[0;34m(line, cell)\u001b[0m\n\u001b[1;32m    151\u001b[0m \u001b[38;5;28;01melse\u001b[39;00m:\n\u001b[1;32m    152\u001b[0m     line \u001b[38;5;241m=\u001b[39m script\n\u001b[0;32m--> 153\u001b[0m \u001b[38;5;28;01mreturn\u001b[39;00m \u001b[38;5;28;43mself\u001b[39;49m\u001b[38;5;241;43m.\u001b[39;49m\u001b[43mshebang\u001b[49m\u001b[43m(\u001b[49m\u001b[43mline\u001b[49m\u001b[43m,\u001b[49m\u001b[43m \u001b[49m\u001b[43mcell\u001b[49m\u001b[43m)\u001b[49m\n",
      "File \u001b[0;32m/usr/local/lib/python3.8/dist-packages/IPython/core/magics/script.py:305\u001b[0m, in \u001b[0;36mScriptMagics.shebang\u001b[0;34m(self, line, cell)\u001b[0m\n\u001b[1;32m    300\u001b[0m \u001b[38;5;28;01mif\u001b[39;00m args\u001b[38;5;241m.\u001b[39mraise_error \u001b[38;5;129;01mand\u001b[39;00m p\u001b[38;5;241m.\u001b[39mreturncode \u001b[38;5;241m!=\u001b[39m \u001b[38;5;241m0\u001b[39m:\n\u001b[1;32m    301\u001b[0m     \u001b[38;5;66;03m# If we get here and p.returncode is still None, we must have\u001b[39;00m\n\u001b[1;32m    302\u001b[0m     \u001b[38;5;66;03m# killed it but not yet seen its return code. We don't wait for it,\u001b[39;00m\n\u001b[1;32m    303\u001b[0m     \u001b[38;5;66;03m# in case it's stuck in uninterruptible sleep. -9 = SIGKILL\u001b[39;00m\n\u001b[1;32m    304\u001b[0m     rc \u001b[38;5;241m=\u001b[39m p\u001b[38;5;241m.\u001b[39mreturncode \u001b[38;5;129;01mor\u001b[39;00m \u001b[38;5;241m-\u001b[39m\u001b[38;5;241m9\u001b[39m\n\u001b[0;32m--> 305\u001b[0m     \u001b[38;5;28;01mraise\u001b[39;00m CalledProcessError(rc, cell)\n",
      "\u001b[0;31mCalledProcessError\u001b[0m: Command 'b'dir_to_be_processed=\"/LUSTRE/sacmod/SIPECAM/cumulo_92/Mes 3/3_92_0_1343/Ch1/10306783\"\\nextract_serial_numbers_dates_and_metadata_of_files_and_device --input_dir \"$dir_to_be_processed\"\\n'' returned non-zero exit status 1."
     ]
    }
   ],
   "source": [
    "%%bash\n",
    "dir_to_be_processed=\"/LUSTRE/sacmod/SIPECAM/cumulo_92/Mes 3/3_92_0_1343/Ch1/10306783\"\n",
    "extract_serial_numbers_dates_and_metadata_of_files_and_device --input_dir \"$dir_to_be_processed\""
   ]
  },
  {
   "cell_type": "code",
   "execution_count": 12,
   "id": "7eab5097-3f50-4f3c-b2ea-330b544839fa",
   "metadata": {},
   "outputs": [
    {
     "name": "stdout",
     "output_type": "stream",
     "text": [
      "[{\n",
      "  \"SourceFile\": \"/LUSTRE/sacmod/SIPECAM/cumulo_92/Mes 3/3_92_0_1343/Ch1/10306783/19700101_001629.WAV\",\n",
      "  \"ExifToolVersion\": 12.40,\n",
      "  \"FileName\": \"19700101_001629.WAV\",\n",
      "  \"Directory\": \"/LUSTRE/sacmod/SIPECAM/cumulo_92/Mes 3/3_92_0_1343/Ch1/10306783\",\n",
      "  \"FileSize\": \"488 bytes\",\n",
      "  \"FileModifyDate\": \"1961:11:25 17:48:14-06:00\",\n",
      "  \"FileAccessDate\": \"2022:03:10 14:18:29-06:00\",\n",
      "  \"FileInodeChangeDate\": \"2022:02:11 16:41:59-06:00\",\n",
      "  \"FilePermissions\": \"-rwxrwxrwx\",\n",
      "  \"FileType\": \"WAV\",\n",
      "  \"FileTypeExtension\": \"wav\",\n",
      "  \"MIMEType\": \"audio/x-wav\",\n",
      "  \"Encoding\": \"Microsoft PCM\",\n",
      "  \"NumChannels\": 1,\n",
      "  \"SampleRate\": 48000,\n",
      "  \"AvgBytesPerSec\": 96000,\n",
      "  \"BitsPerSample\": 16,\n",
      "  \"Comment\": \"Recorded at 00:16:29 01/01/1970 (UTC) by AudioMoth 24E1440360371EA1 at medium gain setting while battery state was 4.7V and temperature was 32.3C. Recording cancelled before completion due to change of switch position.\",\n",
      "  \"Artist\": \"AudioMoth 24E1440360371EA1\",\n",
      "  \"Duration\": \"0.01 s\"\n",
      "}]\n"
     ]
    }
   ],
   "source": [
    "%%bash\n",
    "filename=\"/LUSTRE/sacmod/SIPECAM/cumulo_92/Mes 3/3_92_0_1343/Ch1/10306783/19700101_001629.WAV\"\n",
    "exiftool -a -j \"$filename\""
   ]
  },
  {
   "cell_type": "markdown",
   "id": "afc9e778-ed3f-4b4e-aeb0-bb994860129d",
   "metadata": {},
   "source": [
    "File was only of .01 segs"
   ]
  },
  {
   "cell_type": "markdown",
   "id": "a31aef34-79f9-4784-a815-30155199540a",
   "metadata": {},
   "source": [
    "Moving file to directory \"/LUSTRE/sacmod/SIPECAM/cumulo_92/Mes 3/3_92_0_1343/Ch1/10306783/error\""
   ]
  },
  {
   "cell_type": "code",
   "execution_count": 13,
   "id": "909d6cb1-7b4c-4ad5-8372-a1ead167792a",
   "metadata": {},
   "outputs": [],
   "source": [
    "%%bash\n",
    "mv \"/LUSTRE/sacmod/SIPECAM/cumulo_92/Mes 3/3_92_0_1343/Ch1/10306783/19700101_001629.WAV\" \"/LUSTRE/sacmod/SIPECAM/cumulo_92/Mes 3/3_92_0_1343/Ch1/10306783/error/\""
   ]
  },
  {
   "cell_type": "markdown",
   "id": "f1a5a1f9-b9f9-4f9a-9a72-de402cad0bb0",
   "metadata": {},
   "source": [
    "Rerunning cmd:"
   ]
  },
  {
   "cell_type": "code",
   "execution_count": 15,
   "id": "94e33c6b-e15d-48d5-9278-c7cf5c1bdd58",
   "metadata": {},
   "outputs": [
    {
     "name": "stderr",
     "output_type": "stream",
     "text": [
      "Traceback (most recent call last):\n",
      "  File \"/usr/local/bin/extract_serial_numbers_dates_and_metadata_of_files_and_device\", line 8, in <module>\n",
      "    sys.exit(main())\n",
      "  File \"/usr/local/lib/python3.8/dist-packages/simex/extract_serial_numbers_dates_and_metadata_of_files_and_device.py\", line 221, in main\n",
      "    extract_metadata_of_files(input_directory,\n",
      "  File \"/usr/local/lib/python3.8/dist-packages/simex/extract_serial_numbers_dates_and_metadata_of_files_and_device.py\", line 159, in extract_metadata_of_files\n",
      "    tuple_date, tuple_metadata_of_file = extract_metadata(filename)\n",
      "  File \"/usr/local/lib/python3.8/dist-packages/simex/extract_serial_numbers_dates_and_metadata_of_files_and_device.py\", line 28, in extract_metadata\n",
      "    tuple_metadata_of_file = (filename,read_metadata_audio.get_metadata_of_file(filename))\n",
      "  File \"/usr/local/lib/python3.8/dist-packages/simex/read_metadata_audio.py\", line 121, in get_metadata_of_file\n",
      "    date_with_timezone = get_date_with_timezone(comment_metadata)\n",
      "  File \"/usr/local/lib/python3.8/dist-packages/simex/read_metadata_audio.py\", line 74, in get_date_with_timezone\n",
      "    return date_with_timezone #example: 21:20:00 28/07/2021 (UTC-0600)\n",
      "UnboundLocalError: local variable 'date_with_timezone' referenced before assignment\n"
     ]
    },
    {
     "ename": "CalledProcessError",
     "evalue": "Command 'b'dir_to_be_processed=\"/LUSTRE/sacmod/SIPECAM/cumulo_92/Mes 3/3_92_0_1343/Ch1/10306783\"\\nextract_serial_numbers_dates_and_metadata_of_files_and_device --input_dir \"$dir_to_be_processed\"\\n'' returned non-zero exit status 1.",
     "output_type": "error",
     "traceback": [
      "\u001b[0;31m---------------------------------------------------------------------------\u001b[0m",
      "\u001b[0;31mCalledProcessError\u001b[0m                        Traceback (most recent call last)",
      "Input \u001b[0;32mIn [15]\u001b[0m, in \u001b[0;36m<cell line: 1>\u001b[0;34m()\u001b[0m\n\u001b[0;32m----> 1\u001b[0m \u001b[43mget_ipython\u001b[49m\u001b[43m(\u001b[49m\u001b[43m)\u001b[49m\u001b[38;5;241;43m.\u001b[39;49m\u001b[43mrun_cell_magic\u001b[49m\u001b[43m(\u001b[49m\u001b[38;5;124;43m'\u001b[39;49m\u001b[38;5;124;43mbash\u001b[39;49m\u001b[38;5;124;43m'\u001b[39;49m\u001b[43m,\u001b[49m\u001b[43m \u001b[49m\u001b[38;5;124;43m'\u001b[39;49m\u001b[38;5;124;43m'\u001b[39;49m\u001b[43m,\u001b[49m\u001b[43m \u001b[49m\u001b[38;5;124;43m'\u001b[39;49m\u001b[38;5;124;43mdir_to_be_processed=\u001b[39;49m\u001b[38;5;124;43m\"\u001b[39;49m\u001b[38;5;124;43m/LUSTRE/sacmod/SIPECAM/cumulo_92/Mes 3/3_92_0_1343/Ch1/10306783\u001b[39;49m\u001b[38;5;124;43m\"\u001b[39;49m\u001b[38;5;130;43;01m\\n\u001b[39;49;00m\u001b[38;5;124;43mextract_serial_numbers_dates_and_metadata_of_files_and_device --input_dir \u001b[39;49m\u001b[38;5;124;43m\"\u001b[39;49m\u001b[38;5;124;43m$dir_to_be_processed\u001b[39;49m\u001b[38;5;124;43m\"\u001b[39;49m\u001b[38;5;130;43;01m\\n\u001b[39;49;00m\u001b[38;5;124;43m'\u001b[39;49m\u001b[43m)\u001b[49m\n",
      "File \u001b[0;32m/usr/local/lib/python3.8/dist-packages/IPython/core/interactiveshell.py:2338\u001b[0m, in \u001b[0;36mInteractiveShell.run_cell_magic\u001b[0;34m(self, magic_name, line, cell)\u001b[0m\n\u001b[1;32m   2336\u001b[0m \u001b[38;5;28;01mwith\u001b[39;00m \u001b[38;5;28mself\u001b[39m\u001b[38;5;241m.\u001b[39mbuiltin_trap:\n\u001b[1;32m   2337\u001b[0m     args \u001b[38;5;241m=\u001b[39m (magic_arg_s, cell)\n\u001b[0;32m-> 2338\u001b[0m     result \u001b[38;5;241m=\u001b[39m \u001b[43mfn\u001b[49m\u001b[43m(\u001b[49m\u001b[38;5;241;43m*\u001b[39;49m\u001b[43margs\u001b[49m\u001b[43m,\u001b[49m\u001b[43m \u001b[49m\u001b[38;5;241;43m*\u001b[39;49m\u001b[38;5;241;43m*\u001b[39;49m\u001b[43mkwargs\u001b[49m\u001b[43m)\u001b[49m\n\u001b[1;32m   2339\u001b[0m \u001b[38;5;28;01mreturn\u001b[39;00m result\n",
      "File \u001b[0;32m/usr/local/lib/python3.8/dist-packages/IPython/core/magics/script.py:153\u001b[0m, in \u001b[0;36mScriptMagics._make_script_magic.<locals>.named_script_magic\u001b[0;34m(line, cell)\u001b[0m\n\u001b[1;32m    151\u001b[0m \u001b[38;5;28;01melse\u001b[39;00m:\n\u001b[1;32m    152\u001b[0m     line \u001b[38;5;241m=\u001b[39m script\n\u001b[0;32m--> 153\u001b[0m \u001b[38;5;28;01mreturn\u001b[39;00m \u001b[38;5;28;43mself\u001b[39;49m\u001b[38;5;241;43m.\u001b[39;49m\u001b[43mshebang\u001b[49m\u001b[43m(\u001b[49m\u001b[43mline\u001b[49m\u001b[43m,\u001b[49m\u001b[43m \u001b[49m\u001b[43mcell\u001b[49m\u001b[43m)\u001b[49m\n",
      "File \u001b[0;32m/usr/local/lib/python3.8/dist-packages/IPython/core/magics/script.py:305\u001b[0m, in \u001b[0;36mScriptMagics.shebang\u001b[0;34m(self, line, cell)\u001b[0m\n\u001b[1;32m    300\u001b[0m \u001b[38;5;28;01mif\u001b[39;00m args\u001b[38;5;241m.\u001b[39mraise_error \u001b[38;5;129;01mand\u001b[39;00m p\u001b[38;5;241m.\u001b[39mreturncode \u001b[38;5;241m!=\u001b[39m \u001b[38;5;241m0\u001b[39m:\n\u001b[1;32m    301\u001b[0m     \u001b[38;5;66;03m# If we get here and p.returncode is still None, we must have\u001b[39;00m\n\u001b[1;32m    302\u001b[0m     \u001b[38;5;66;03m# killed it but not yet seen its return code. We don't wait for it,\u001b[39;00m\n\u001b[1;32m    303\u001b[0m     \u001b[38;5;66;03m# in case it's stuck in uninterruptible sleep. -9 = SIGKILL\u001b[39;00m\n\u001b[1;32m    304\u001b[0m     rc \u001b[38;5;241m=\u001b[39m p\u001b[38;5;241m.\u001b[39mreturncode \u001b[38;5;129;01mor\u001b[39;00m \u001b[38;5;241m-\u001b[39m\u001b[38;5;241m9\u001b[39m\n\u001b[0;32m--> 305\u001b[0m     \u001b[38;5;28;01mraise\u001b[39;00m CalledProcessError(rc, cell)\n",
      "\u001b[0;31mCalledProcessError\u001b[0m: Command 'b'dir_to_be_processed=\"/LUSTRE/sacmod/SIPECAM/cumulo_92/Mes 3/3_92_0_1343/Ch1/10306783\"\\nextract_serial_numbers_dates_and_metadata_of_files_and_device --input_dir \"$dir_to_be_processed\"\\n'' returned non-zero exit status 1."
     ]
    }
   ],
   "source": [
    "%%bash\n",
    "dir_to_be_processed=\"/LUSTRE/sacmod/SIPECAM/cumulo_92/Mes 3/3_92_0_1343/Ch1/10306783\"\n",
    "extract_serial_numbers_dates_and_metadata_of_files_and_device --input_dir \"$dir_to_be_processed\""
   ]
  },
  {
   "cell_type": "code",
   "execution_count": 16,
   "id": "7aa3c29c-c581-41a7-8861-814403cff60b",
   "metadata": {},
   "outputs": [
    {
     "name": "stdout",
     "output_type": "stream",
     "text": [
      "[{\n",
      "  \"SourceFile\": \"/LUSTRE/sacmod/SIPECAM/cumulo_92/Mes 3/3_92_0_1343/Ch1/10306783/19700101_001632.WAV\",\n",
      "  \"ExifToolVersion\": 12.40,\n",
      "  \"FileName\": \"19700101_001632.WAV\",\n",
      "  \"Directory\": \"/LUSTRE/sacmod/SIPECAM/cumulo_92/Mes 3/3_92_0_1343/Ch1/10306783\",\n",
      "  \"FileSize\": \"24 MiB\",\n",
      "  \"FileModifyDate\": \"1961:11:25 17:52:40-06:00\",\n",
      "  \"FileAccessDate\": \"2022:03:10 14:39:24-06:00\",\n",
      "  \"FileInodeChangeDate\": \"2022:02:11 16:41:59-06:00\",\n",
      "  \"FilePermissions\": \"-rwxrwxrwx\",\n",
      "  \"FileType\": \"WAV\",\n",
      "  \"FileTypeExtension\": \"wav\",\n",
      "  \"MIMEType\": \"audio/x-wav\",\n",
      "  \"Encoding\": \"Microsoft PCM\",\n",
      "  \"NumChannels\": 1,\n",
      "  \"SampleRate\": 48000,\n",
      "  \"AvgBytesPerSec\": 96000,\n",
      "  \"BitsPerSample\": 16,\n",
      "  \"Comment\": \"Recorded at 00:16:32 01/01/1970 (UTC) by AudioMoth 24E1440360371EA1 at medium gain setting while battery state was 4.8V and temperature was 32.5C. Recording cancelled before completion due to change of switch position.\",\n",
      "  \"Artist\": \"AudioMoth 24E1440360371EA1\",\n",
      "  \"Duration\": \"0:04:25\"\n",
      "}]\n"
     ]
    }
   ],
   "source": [
    "%%bash\n",
    "filename=\"/LUSTRE/sacmod/SIPECAM/cumulo_92/Mes 3/3_92_0_1343/Ch1/10306783/19700101_001632.WAV\"\n",
    "exiftool -a -j \"$filename\""
   ]
  },
  {
   "cell_type": "markdown",
   "id": "2c5f98c3-127f-4d71-a068-7093d05cea82",
   "metadata": {},
   "source": [
    "Observe date is wrong... 1970"
   ]
  },
  {
   "cell_type": "markdown",
   "id": "c16e724f-e05f-481d-9d26-653a3f593e39",
   "metadata": {},
   "source": [
    "As there were several files with \"cancelled\" word then [commit](https://github.com/CONABIO/sipecam-metadata-extractor/commit/03133fb00a91535d2a806bb445df1d01ac8e9793) was implemented in `check_if_there_are_audio_empty_files_in_dir_and_move_them` cli "
   ]
  },
  {
   "cell_type": "code",
   "execution_count": 1,
   "id": "d2f20f75-08f1-4e79-9ad6-b9a717691195",
   "metadata": {},
   "outputs": [],
   "source": [
    "%%bash\n",
    "dir_to_be_processed=\"/LUSTRE/sacmod/SIPECAM/cumulo_92/Mes 3/3_92_0_1343/Ch1/10306783/\"\n",
    "check_if_there_are_audio_empty_files_in_dir_and_move_them --input_directory_audio \"$dir_to_be_processed\" --number_of_processes 10"
   ]
  },
  {
   "cell_type": "code",
   "execution_count": 2,
   "id": "a0f856f5-51b9-4bd0-b006-b510db9492d6",
   "metadata": {},
   "outputs": [
    {
     "name": "stdout",
     "output_type": "stream",
     "text": [
      "19700101_001629.WAV\n",
      "19700101_001632.WAV\n",
      "19700101_002058.WAV\n"
     ]
    }
   ],
   "source": [
    "%%bash\n",
    "ls \"/LUSTRE/sacmod/SIPECAM/cumulo_92/Mes 3/3_92_0_1343/Ch1/10306783/error\""
   ]
  },
  {
   "cell_type": "code",
   "execution_count": 3,
   "id": "3b1a3b12-e42d-4eef-aaac-772ad80986c3",
   "metadata": {},
   "outputs": [
    {
     "name": "stdout",
     "output_type": "stream",
     "text": [
      "[{\n",
      "  \"SourceFile\": \"/LUSTRE/sacmod/SIPECAM/cumulo_92/Mes 3/3_92_0_1343/Ch1/10306783/error/19700101_001629.WAV\",\n",
      "  \"ExifToolVersion\": 12.40,\n",
      "  \"FileName\": \"19700101_001629.WAV\",\n",
      "  \"Directory\": \"/LUSTRE/sacmod/SIPECAM/cumulo_92/Mes 3/3_92_0_1343/Ch1/10306783/error\",\n",
      "  \"FileSize\": \"488 bytes\",\n",
      "  \"FileModifyDate\": \"1961:11:25 17:48:14-06:00\",\n",
      "  \"FileAccessDate\": \"2022:03:10 14:27:18-06:00\",\n",
      "  \"FileInodeChangeDate\": \"2022:03:10 14:28:34-06:00\",\n",
      "  \"FilePermissions\": \"-rwxrwxrwx\",\n",
      "  \"FileType\": \"WAV\",\n",
      "  \"FileTypeExtension\": \"wav\",\n",
      "  \"MIMEType\": \"audio/x-wav\",\n",
      "  \"Encoding\": \"Microsoft PCM\",\n",
      "  \"NumChannels\": 1,\n",
      "  \"SampleRate\": 48000,\n",
      "  \"AvgBytesPerSec\": 96000,\n",
      "  \"BitsPerSample\": 16,\n",
      "  \"Comment\": \"Recorded at 00:16:29 01/01/1970 (UTC) by AudioMoth 24E1440360371EA1 at medium gain setting while battery state was 4.7V and temperature was 32.3C. Recording cancelled before completion due to change of switch position.\",\n",
      "  \"Artist\": \"AudioMoth 24E1440360371EA1\",\n",
      "  \"Duration\": \"0.01 s\"\n",
      "}]\n"
     ]
    }
   ],
   "source": [
    "%%bash\n",
    "exiftool -j -a \"/LUSTRE/sacmod/SIPECAM/cumulo_92/Mes 3/3_92_0_1343/Ch1/10306783/error/19700101_001629.WAV\""
   ]
  },
  {
   "cell_type": "markdown",
   "id": "250b8f22-1356-4ca9-8c31-644d6ebec07c",
   "metadata": {},
   "source": [
    "Rerunning cmd:"
   ]
  },
  {
   "cell_type": "code",
   "execution_count": 6,
   "id": "94b50ffc-6d1c-4cc5-8375-47b6b7aafb52",
   "metadata": {},
   "outputs": [],
   "source": [
    "%%bash\n",
    "dir_to_be_processed=\"/LUSTRE/sacmod/SIPECAM/cumulo_92/Mes 3/3_92_0_1343/Ch1/10306783\"\n",
    "extract_serial_numbers_dates_and_metadata_of_files_and_device --input_dir \"$dir_to_be_processed\" --parallel --number_of_processes 10"
   ]
  },
  {
   "cell_type": "markdown",
   "id": "1f28c4bf-7dd4-4204-a1c3-70bebad82afb",
   "metadata": {},
   "source": [
    "# 5"
   ]
  },
  {
   "cell_type": "code",
   "execution_count": 7,
   "id": "a67fff61-0160-4509-ac6c-8532512cb767",
   "metadata": {},
   "outputs": [],
   "source": [
    "%%bash\n",
    "dir_to_be_processed=\"/LUSTRE/sacmod/SIPECAM/cumulo_92/Mes 3/3_92_1_1334/09048594/10306516 ultra\"\n",
    "check_if_there_are_audio_empty_files_in_dir_and_move_them --input_directory_audio \"$dir_to_be_processed\" --number_of_processes 10"
   ]
  },
  {
   "cell_type": "code",
   "execution_count": 8,
   "id": "8a9290ad-f2ea-44ad-b4ad-69797b1954c6",
   "metadata": {},
   "outputs": [
    {
     "name": "stdout",
     "output_type": "stream",
     "text": [
      "19700101_000000.WAV\n",
      "20211021_044000.WAV\n"
     ]
    }
   ],
   "source": [
    "%%bash\n",
    "ls \"/LUSTRE/sacmod/SIPECAM/cumulo_92/Mes 3/3_92_1_1334/09048594/10306516 ultra/error\""
   ]
  },
  {
   "cell_type": "markdown",
   "id": "95515340-3df3-4169-8658-a6266f470d2b",
   "metadata": {},
   "source": [
    "Rerunning cmd:"
   ]
  },
  {
   "cell_type": "code",
   "execution_count": 11,
   "id": "0ea11899-800d-40df-b20a-6a841587fa51",
   "metadata": {},
   "outputs": [],
   "source": [
    "%%bash\n",
    "dir_to_be_processed=\"/LUSTRE/sacmod/SIPECAM/cumulo_92/Mes 3/3_92_1_1334/09048594/10306516 ultra/\"\n",
    "extract_serial_numbers_dates_and_metadata_of_files_and_device --input_dir \"$dir_to_be_processed\" --parallel --number_of_processes 10"
   ]
  },
  {
   "cell_type": "markdown",
   "id": "d550032a-ab9e-4a98-bfa6-f7e2af84adc8",
   "metadata": {},
   "source": [
    "# 6"
   ]
  },
  {
   "cell_type": "code",
   "execution_count": 12,
   "id": "04087bba-7bbd-45d3-9206-ed350732096e",
   "metadata": {},
   "outputs": [],
   "source": [
    "%%bash\n",
    "dir_to_be_processed=\"/LUSTRE/sacmod/SIPECAM/cumulo_92/Mes 1/3_92_1_1338/Audio/1338_1/Audible\"\n",
    "check_if_there_are_audio_empty_files_in_dir_and_move_them --input_directory_audio \"$dir_to_be_processed\" --number_of_processes 10"
   ]
  },
  {
   "cell_type": "code",
   "execution_count": 14,
   "id": "a3639d2d-cfca-499a-98e5-2e80a5e2df05",
   "metadata": {},
   "outputs": [],
   "source": [
    "#%%bash\n",
    "#ls \"/LUSTRE/sacmod/SIPECAM/cumulo_92/Mes 1/3_92_1_1338/Audio/1338_1/Audible/error\""
   ]
  },
  {
   "cell_type": "markdown",
   "id": "035e8d13-163d-47d2-8d59-7de356f023e6",
   "metadata": {},
   "source": [
    "Rerunning cmd:"
   ]
  },
  {
   "cell_type": "code",
   "execution_count": 15,
   "id": "45887b14-5882-40d9-a445-d077ee4bc2c5",
   "metadata": {},
   "outputs": [
    {
     "name": "stderr",
     "output_type": "stream",
     "text": [
      "Traceback (most recent call last):\n",
      "  File \"/usr/local/bin/extract_serial_numbers_dates_and_metadata_of_files_and_device\", line 8, in <module>\n",
      "    sys.exit(main())\n",
      "  File \"/usr/local/lib/python3.8/dist-packages/simex/extract_serial_numbers_dates_and_metadata_of_files_and_device.py\", line 221, in main\n",
      "    extract_metadata_of_files(input_directory,\n",
      "  File \"/usr/local/lib/python3.8/dist-packages/simex/extract_serial_numbers_dates_and_metadata_of_files_and_device.py\", line 159, in extract_metadata_of_files\n",
      "    tuple_date, tuple_metadata_of_file = extract_metadata(filename)\n",
      "  File \"/usr/local/lib/python3.8/dist-packages/simex/extract_serial_numbers_dates_and_metadata_of_files_and_device.py\", line 27, in extract_metadata\n",
      "    date_of_file = read_metadata_audio.extract_date(filename)\n",
      "  File \"/usr/local/lib/python3.8/dist-packages/simex/read_metadata_audio.py\", line 143, in extract_date\n",
      "    return get_date(comment_metadata)#example: 2021-07-28\n",
      "  File \"/usr/local/lib/python3.8/dist-packages/simex/read_metadata_audio.py\", line 92, in get_date\n",
      "    match_date = ONLY_DATE_REGEX.search(comment)\n",
      "TypeError: expected string or bytes-like object\n"
     ]
    },
    {
     "ename": "CalledProcessError",
     "evalue": "Command 'b'dir_to_be_processed=\"/LUSTRE/sacmod/SIPECAM/cumulo_92/Mes 1/3_92_1_1338/Audio/1338_1/Audible\"\\nextract_serial_numbers_dates_and_metadata_of_files_and_device --input_dir \"$dir_to_be_processed\"\\n'' returned non-zero exit status 1.",
     "output_type": "error",
     "traceback": [
      "\u001b[0;31m---------------------------------------------------------------------------\u001b[0m",
      "\u001b[0;31mCalledProcessError\u001b[0m                        Traceback (most recent call last)",
      "Input \u001b[0;32mIn [15]\u001b[0m, in \u001b[0;36m<cell line: 1>\u001b[0;34m()\u001b[0m\n\u001b[0;32m----> 1\u001b[0m \u001b[43mget_ipython\u001b[49m\u001b[43m(\u001b[49m\u001b[43m)\u001b[49m\u001b[38;5;241;43m.\u001b[39;49m\u001b[43mrun_cell_magic\u001b[49m\u001b[43m(\u001b[49m\u001b[38;5;124;43m'\u001b[39;49m\u001b[38;5;124;43mbash\u001b[39;49m\u001b[38;5;124;43m'\u001b[39;49m\u001b[43m,\u001b[49m\u001b[43m \u001b[49m\u001b[38;5;124;43m'\u001b[39;49m\u001b[38;5;124;43m'\u001b[39;49m\u001b[43m,\u001b[49m\u001b[43m \u001b[49m\u001b[38;5;124;43m'\u001b[39;49m\u001b[38;5;124;43mdir_to_be_processed=\u001b[39;49m\u001b[38;5;124;43m\"\u001b[39;49m\u001b[38;5;124;43m/LUSTRE/sacmod/SIPECAM/cumulo_92/Mes 1/3_92_1_1338/Audio/1338_1/Audible\u001b[39;49m\u001b[38;5;124;43m\"\u001b[39;49m\u001b[38;5;130;43;01m\\n\u001b[39;49;00m\u001b[38;5;124;43mextract_serial_numbers_dates_and_metadata_of_files_and_device --input_dir \u001b[39;49m\u001b[38;5;124;43m\"\u001b[39;49m\u001b[38;5;124;43m$dir_to_be_processed\u001b[39;49m\u001b[38;5;124;43m\"\u001b[39;49m\u001b[38;5;130;43;01m\\n\u001b[39;49;00m\u001b[38;5;124;43m'\u001b[39;49m\u001b[43m)\u001b[49m\n",
      "File \u001b[0;32m/usr/local/lib/python3.8/dist-packages/IPython/core/interactiveshell.py:2338\u001b[0m, in \u001b[0;36mInteractiveShell.run_cell_magic\u001b[0;34m(self, magic_name, line, cell)\u001b[0m\n\u001b[1;32m   2336\u001b[0m \u001b[38;5;28;01mwith\u001b[39;00m \u001b[38;5;28mself\u001b[39m\u001b[38;5;241m.\u001b[39mbuiltin_trap:\n\u001b[1;32m   2337\u001b[0m     args \u001b[38;5;241m=\u001b[39m (magic_arg_s, cell)\n\u001b[0;32m-> 2338\u001b[0m     result \u001b[38;5;241m=\u001b[39m \u001b[43mfn\u001b[49m\u001b[43m(\u001b[49m\u001b[38;5;241;43m*\u001b[39;49m\u001b[43margs\u001b[49m\u001b[43m,\u001b[49m\u001b[43m \u001b[49m\u001b[38;5;241;43m*\u001b[39;49m\u001b[38;5;241;43m*\u001b[39;49m\u001b[43mkwargs\u001b[49m\u001b[43m)\u001b[49m\n\u001b[1;32m   2339\u001b[0m \u001b[38;5;28;01mreturn\u001b[39;00m result\n",
      "File \u001b[0;32m/usr/local/lib/python3.8/dist-packages/IPython/core/magics/script.py:153\u001b[0m, in \u001b[0;36mScriptMagics._make_script_magic.<locals>.named_script_magic\u001b[0;34m(line, cell)\u001b[0m\n\u001b[1;32m    151\u001b[0m \u001b[38;5;28;01melse\u001b[39;00m:\n\u001b[1;32m    152\u001b[0m     line \u001b[38;5;241m=\u001b[39m script\n\u001b[0;32m--> 153\u001b[0m \u001b[38;5;28;01mreturn\u001b[39;00m \u001b[38;5;28;43mself\u001b[39;49m\u001b[38;5;241;43m.\u001b[39;49m\u001b[43mshebang\u001b[49m\u001b[43m(\u001b[49m\u001b[43mline\u001b[49m\u001b[43m,\u001b[49m\u001b[43m \u001b[49m\u001b[43mcell\u001b[49m\u001b[43m)\u001b[49m\n",
      "File \u001b[0;32m/usr/local/lib/python3.8/dist-packages/IPython/core/magics/script.py:305\u001b[0m, in \u001b[0;36mScriptMagics.shebang\u001b[0;34m(self, line, cell)\u001b[0m\n\u001b[1;32m    300\u001b[0m \u001b[38;5;28;01mif\u001b[39;00m args\u001b[38;5;241m.\u001b[39mraise_error \u001b[38;5;129;01mand\u001b[39;00m p\u001b[38;5;241m.\u001b[39mreturncode \u001b[38;5;241m!=\u001b[39m \u001b[38;5;241m0\u001b[39m:\n\u001b[1;32m    301\u001b[0m     \u001b[38;5;66;03m# If we get here and p.returncode is still None, we must have\u001b[39;00m\n\u001b[1;32m    302\u001b[0m     \u001b[38;5;66;03m# killed it but not yet seen its return code. We don't wait for it,\u001b[39;00m\n\u001b[1;32m    303\u001b[0m     \u001b[38;5;66;03m# in case it's stuck in uninterruptible sleep. -9 = SIGKILL\u001b[39;00m\n\u001b[1;32m    304\u001b[0m     rc \u001b[38;5;241m=\u001b[39m p\u001b[38;5;241m.\u001b[39mreturncode \u001b[38;5;129;01mor\u001b[39;00m \u001b[38;5;241m-\u001b[39m\u001b[38;5;241m9\u001b[39m\n\u001b[0;32m--> 305\u001b[0m     \u001b[38;5;28;01mraise\u001b[39;00m CalledProcessError(rc, cell)\n",
      "\u001b[0;31mCalledProcessError\u001b[0m: Command 'b'dir_to_be_processed=\"/LUSTRE/sacmod/SIPECAM/cumulo_92/Mes 1/3_92_1_1338/Audio/1338_1/Audible\"\\nextract_serial_numbers_dates_and_metadata_of_files_and_device --input_dir \"$dir_to_be_processed\"\\n'' returned non-zero exit status 1."
     ]
    }
   ],
   "source": [
    "%%bash\n",
    "dir_to_be_processed=\"/LUSTRE/sacmod/SIPECAM/cumulo_92/Mes 1/3_92_1_1338/Audio/1338_1/Audible\"\n",
    "extract_serial_numbers_dates_and_metadata_of_files_and_device --input_dir \"$dir_to_be_processed\""
   ]
  },
  {
   "cell_type": "code",
   "execution_count": 16,
   "id": "df493ef0-1ba4-42c7-a62f-dd4159ff0d45",
   "metadata": {},
   "outputs": [
    {
     "name": "stdout",
     "output_type": "stream",
     "text": [
      "[{\n",
      "  \"SourceFile\": \"/LUSTRE/sacmod/SIPECAM/cumulo_92/Mes 1/3_92_1_1338/Audio/1338_1/Audible/20210809_035000.WAV\",\n",
      "  \"ExifToolVersion\": 12.40,\n",
      "  \"FileName\": \"20210809_035000.WAV\",\n",
      "  \"Directory\": \"/LUSTRE/sacmod/SIPECAM/cumulo_92/Mes 1/3_92_1_1338/Audio/1338_1/Audible\",\n",
      "  \"FileSize\": \"5.5 MiB\",\n",
      "  \"FileModifyDate\": \"2021:10:27 12:45:24-05:00\",\n",
      "  \"FileAccessDate\": \"2022:03:11 04:53:10-06:00\",\n",
      "  \"FileInodeChangeDate\": \"2022:02:11 16:05:42-06:00\",\n",
      "  \"FilePermissions\": \"-rwxrwxrwx\",\n",
      "  \"Error\": \"Entire file is binary zeros\"\n",
      "}]\n"
     ]
    },
    {
     "ename": "CalledProcessError",
     "evalue": "Command 'b'filename=\"/LUSTRE/sacmod/SIPECAM/cumulo_92/Mes 1/3_92_1_1338/Audio/1338_1/Audible/20210809_035000.WAV\"\\nexiftool -j -a \"$filename\"\\n'' returned non-zero exit status 1.",
     "output_type": "error",
     "traceback": [
      "\u001b[0;31m---------------------------------------------------------------------------\u001b[0m",
      "\u001b[0;31mCalledProcessError\u001b[0m                        Traceback (most recent call last)",
      "Input \u001b[0;32mIn [16]\u001b[0m, in \u001b[0;36m<cell line: 1>\u001b[0;34m()\u001b[0m\n\u001b[0;32m----> 1\u001b[0m \u001b[43mget_ipython\u001b[49m\u001b[43m(\u001b[49m\u001b[43m)\u001b[49m\u001b[38;5;241;43m.\u001b[39;49m\u001b[43mrun_cell_magic\u001b[49m\u001b[43m(\u001b[49m\u001b[38;5;124;43m'\u001b[39;49m\u001b[38;5;124;43mbash\u001b[39;49m\u001b[38;5;124;43m'\u001b[39;49m\u001b[43m,\u001b[49m\u001b[43m \u001b[49m\u001b[38;5;124;43m'\u001b[39;49m\u001b[38;5;124;43m'\u001b[39;49m\u001b[43m,\u001b[49m\u001b[43m \u001b[49m\u001b[38;5;124;43m'\u001b[39;49m\u001b[38;5;124;43mfilename=\u001b[39;49m\u001b[38;5;124;43m\"\u001b[39;49m\u001b[38;5;124;43m/LUSTRE/sacmod/SIPECAM/cumulo_92/Mes 1/3_92_1_1338/Audio/1338_1/Audible/20210809_035000.WAV\u001b[39;49m\u001b[38;5;124;43m\"\u001b[39;49m\u001b[38;5;130;43;01m\\n\u001b[39;49;00m\u001b[38;5;124;43mexiftool -j -a \u001b[39;49m\u001b[38;5;124;43m\"\u001b[39;49m\u001b[38;5;124;43m$filename\u001b[39;49m\u001b[38;5;124;43m\"\u001b[39;49m\u001b[38;5;130;43;01m\\n\u001b[39;49;00m\u001b[38;5;124;43m'\u001b[39;49m\u001b[43m)\u001b[49m\n",
      "File \u001b[0;32m/usr/local/lib/python3.8/dist-packages/IPython/core/interactiveshell.py:2338\u001b[0m, in \u001b[0;36mInteractiveShell.run_cell_magic\u001b[0;34m(self, magic_name, line, cell)\u001b[0m\n\u001b[1;32m   2336\u001b[0m \u001b[38;5;28;01mwith\u001b[39;00m \u001b[38;5;28mself\u001b[39m\u001b[38;5;241m.\u001b[39mbuiltin_trap:\n\u001b[1;32m   2337\u001b[0m     args \u001b[38;5;241m=\u001b[39m (magic_arg_s, cell)\n\u001b[0;32m-> 2338\u001b[0m     result \u001b[38;5;241m=\u001b[39m \u001b[43mfn\u001b[49m\u001b[43m(\u001b[49m\u001b[38;5;241;43m*\u001b[39;49m\u001b[43margs\u001b[49m\u001b[43m,\u001b[49m\u001b[43m \u001b[49m\u001b[38;5;241;43m*\u001b[39;49m\u001b[38;5;241;43m*\u001b[39;49m\u001b[43mkwargs\u001b[49m\u001b[43m)\u001b[49m\n\u001b[1;32m   2339\u001b[0m \u001b[38;5;28;01mreturn\u001b[39;00m result\n",
      "File \u001b[0;32m/usr/local/lib/python3.8/dist-packages/IPython/core/magics/script.py:153\u001b[0m, in \u001b[0;36mScriptMagics._make_script_magic.<locals>.named_script_magic\u001b[0;34m(line, cell)\u001b[0m\n\u001b[1;32m    151\u001b[0m \u001b[38;5;28;01melse\u001b[39;00m:\n\u001b[1;32m    152\u001b[0m     line \u001b[38;5;241m=\u001b[39m script\n\u001b[0;32m--> 153\u001b[0m \u001b[38;5;28;01mreturn\u001b[39;00m \u001b[38;5;28;43mself\u001b[39;49m\u001b[38;5;241;43m.\u001b[39;49m\u001b[43mshebang\u001b[49m\u001b[43m(\u001b[49m\u001b[43mline\u001b[49m\u001b[43m,\u001b[49m\u001b[43m \u001b[49m\u001b[43mcell\u001b[49m\u001b[43m)\u001b[49m\n",
      "File \u001b[0;32m/usr/local/lib/python3.8/dist-packages/IPython/core/magics/script.py:305\u001b[0m, in \u001b[0;36mScriptMagics.shebang\u001b[0;34m(self, line, cell)\u001b[0m\n\u001b[1;32m    300\u001b[0m \u001b[38;5;28;01mif\u001b[39;00m args\u001b[38;5;241m.\u001b[39mraise_error \u001b[38;5;129;01mand\u001b[39;00m p\u001b[38;5;241m.\u001b[39mreturncode \u001b[38;5;241m!=\u001b[39m \u001b[38;5;241m0\u001b[39m:\n\u001b[1;32m    301\u001b[0m     \u001b[38;5;66;03m# If we get here and p.returncode is still None, we must have\u001b[39;00m\n\u001b[1;32m    302\u001b[0m     \u001b[38;5;66;03m# killed it but not yet seen its return code. We don't wait for it,\u001b[39;00m\n\u001b[1;32m    303\u001b[0m     \u001b[38;5;66;03m# in case it's stuck in uninterruptible sleep. -9 = SIGKILL\u001b[39;00m\n\u001b[1;32m    304\u001b[0m     rc \u001b[38;5;241m=\u001b[39m p\u001b[38;5;241m.\u001b[39mreturncode \u001b[38;5;129;01mor\u001b[39;00m \u001b[38;5;241m-\u001b[39m\u001b[38;5;241m9\u001b[39m\n\u001b[0;32m--> 305\u001b[0m     \u001b[38;5;28;01mraise\u001b[39;00m CalledProcessError(rc, cell)\n",
      "\u001b[0;31mCalledProcessError\u001b[0m: Command 'b'filename=\"/LUSTRE/sacmod/SIPECAM/cumulo_92/Mes 1/3_92_1_1338/Audio/1338_1/Audible/20210809_035000.WAV\"\\nexiftool -j -a \"$filename\"\\n'' returned non-zero exit status 1."
     ]
    }
   ],
   "source": [
    "%%bash\n",
    "filename=\"/LUSTRE/sacmod/SIPECAM/cumulo_92/Mes 1/3_92_1_1338/Audio/1338_1/Audible/20210809_035000.WAV\"\n",
    "exiftool -j -a \"$filename\""
   ]
  },
  {
   "cell_type": "markdown",
   "id": "885ea506-cec4-4b8a-809e-c4f88e84f4bc",
   "metadata": {},
   "source": [
    "[commit](https://github.com/CONABIO/sipecam-metadata-extractor/commit/bf171b1b1ab08e93f444e4878422f5c0056f5574) was implemented in `check_if_there_are_audio_empty_files_in_dir_and_move_them` cli to check for words \"binary zeros\""
   ]
  },
  {
   "cell_type": "code",
   "execution_count": 12,
   "id": "7964f3de-5a32-419b-a1f1-96b05452d1a7",
   "metadata": {},
   "outputs": [],
   "source": [
    "%%bash\n",
    "dir_to_be_processed=\"/LUSTRE/sacmod/SIPECAM/cumulo_92/Mes 1/3_92_1_1338/Audio/1338_1/Audible\"\n",
    "check_if_there_are_audio_empty_files_in_dir_and_move_them --input_directory_audio \"$dir_to_be_processed\" --number_of_processes 10"
   ]
  },
  {
   "cell_type": "code",
   "execution_count": 14,
   "id": "2f6c70fb-6df6-4c4b-bcb5-2bb6bdd73c88",
   "metadata": {},
   "outputs": [],
   "source": [
    "%%bash\n",
    "ls \"/LUSTRE/sacmod/SIPECAM/cumulo_92/Mes 1/3_92_1_1338/Audio/1338_1/Audible/error\""
   ]
  },
  {
   "cell_type": "markdown",
   "id": "f213559f-f6f0-4bb6-af22-131e7c1a5978",
   "metadata": {},
   "source": [
    "Rerunning cmd:"
   ]
  },
  {
   "cell_type": "code",
   "execution_count": 28,
   "id": "3cb43ad5-7976-4bde-b970-252071efaf7f",
   "metadata": {},
   "outputs": [],
   "source": [
    "#%%bash\n",
    "#dir_to_be_processed=\"/LUSTRE/sacmod/SIPECAM/cumulo_92/Mes 1/3_92_1_1338/Audio/1338_1/Audible\"\n",
    "#extract_serial_numbers_dates_and_metadata_of_files_and_device --input_dir \"$dir_to_be_processed\""
   ]
  },
  {
   "cell_type": "markdown",
   "id": "9269eb6d-a5f6-4302-bef9-e211940eddb8",
   "metadata": {},
   "source": [
    "TODO: include in mv cli name of date of execution of mv cli for json file\n",
    "\n",
    "TODO: include in extract cli handling of GPS with try... except for dirs with images that have no GPS key in metadata"
   ]
  }
 ],
 "metadata": {
  "kernelspec": {
   "display_name": "Python 3 (ipykernel)",
   "language": "python",
   "name": "python3"
  },
  "language_info": {
   "codemirror_mode": {
    "name": "ipython",
    "version": 3
   },
   "file_extension": ".py",
   "mimetype": "text/x-python",
   "name": "python",
   "nbconvert_exporter": "python",
   "pygments_lexer": "ipython3",
   "version": "3.8.10"
  }
 },
 "nbformat": 4,
 "nbformat_minor": 5
}
