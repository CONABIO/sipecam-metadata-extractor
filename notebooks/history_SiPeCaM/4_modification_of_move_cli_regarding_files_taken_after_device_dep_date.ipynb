{
 "cells": [
  {
   "cell_type": "code",
   "execution_count": 1,
   "id": "bd70fdec-f3b9-4196-bc7a-1077fb274a88",
   "metadata": {},
   "outputs": [],
   "source": [
    "%%bash\n",
    "echo \"SIPECAM_ZENDRO_GQL_URL=https://gql.sipecamdata.conabio.gob.mx/\" > ~/.simex_env\n",
    "echo \"SIPECAM_ZENDRO_GQL_USER=<user>\" >> ~/.simex_env\n",
    "echo \"SIPECAM_ZENDRO_GQL_PASSWORD=<password>\" >> ~/.simex_env"
   ]
  },
  {
   "cell_type": "markdown",
   "id": "283ab5e8-fd7c-4176-a695-3685a8595898",
   "metadata": {},
   "source": [
    "**Ejemplo 1**"
   ]
  },
  {
   "cell_type": "markdown",
   "id": "41d4a390-60b9-4e5f-95b1-5fbbd333b608",
   "metadata": {},
   "source": [
    "`/LUSTRE/sacmod/SIPECAM/cumulo_92/primera_entrega/Mes 2/3_92_1_1340/1340_5`"
   ]
  },
  {
   "cell_type": "markdown",
   "id": "307c621a-11c1-45ff-b321-114ea8060f15",
   "metadata": {},
   "source": [
    "**Restart the kernel**"
   ]
  },
  {
   "cell_type": "code",
   "execution_count": 1,
   "id": "43a4443d-4eed-4ba2-867c-8326fa77a3d4",
   "metadata": {},
   "outputs": [],
   "source": [
    "import datetime\n",
    "from simex.utils.zendro import query_alternative_auxiliar_for_move_files_to_standard_directory, \\\n",
    "query_alternative_for_move_files_to_standard_directory"
   ]
  },
  {
   "cell_type": "code",
   "execution_count": 2,
   "id": "34d5c16e-c901-4f79-88fb-f7807cd79b46",
   "metadata": {},
   "outputs": [
    {
     "name": "stdout",
     "output_type": "stream",
     "text": [
      "query {\n",
      "  physical_devices(pagination: {limit: 0}, search: {field: serial_number, value: \"HLPXGM09048271\", operator: like}) {\n",
      "    device_deploymentsFilter(pagination: {limit: 0}) {\n",
      "      date_deployment\n",
      "    }\n",
      "  }\n",
      "}\n"
     ]
    }
   ],
   "source": [
    "first_date_str = \"2021-09-03\"\n",
    "second_date_str = \"2021-10-05\"\n",
    "serial_number = \"HLPXGM09048271\"\n",
    "file_type=\"image\"\n",
    "query_result, operation_sgqlc = query_alternative_auxiliar_for_move_files_to_standard_directory(serial_number,\n",
    "                                                                                                file_type)\n",
    "print(operation_sgqlc)\n",
    "device_deploymentsFilter_list = query_result[\"data\"][\"physical_devices\"][0][\"device_deploymentsFilter\"]\n",
    "format_string_data = \"%Y-%m-%d\"\n",
    "list_dates_device_deployment = [d[\"date_deployment\"].split('T')[0] for d in device_deploymentsFilter_list]\n",
    "list_datetimes_device_deployment = [datetime.datetime.strptime(d[\"date_deployment\"].split('T')[0],\n",
    "                                                               format_string_data) for d in device_deploymentsFilter_list]\n",
    "first_datetime  = datetime.datetime.strptime(first_date_str, format_string_data)\n",
    "second_datetime = datetime.datetime.strptime(second_date_str, format_string_data)\n"
   ]
  },
  {
   "cell_type": "code",
   "execution_count": 3,
   "id": "14b2c950-0b38-4a2e-8641-da24368cda43",
   "metadata": {},
   "outputs": [
    {
     "data": {
      "text/plain": [
       "[{'date_deployment': '2021-10-09T19:25:00.000Z'},\n",
       " {'date_deployment': '2021-11-13T16:03:00.000Z'},\n",
       " {'date_deployment': '2021-11-14T16:54:00.000Z'},\n",
       " {'date_deployment': '2021-07-29T17:15:00.000Z'},\n",
       " {'date_deployment': '2021-12-18T17:12:00.000Z'},\n",
       " {'date_deployment': '2022-01-27T17:20:00.000Z'},\n",
       " {'date_deployment': '2022-03-05T16:42:00.000Z'},\n",
       " {'date_deployment': '2022-03-04T18:05:00.000Z'},\n",
       " {'date_deployment': '2022-04-07T13:48:00.000Z'},\n",
       " {'date_deployment': '2022-05-12T16:40:00.000Z'},\n",
       " {'date_deployment': '2021-09-03T18:23:00.000Z'}]"
      ]
     },
     "execution_count": 3,
     "metadata": {},
     "output_type": "execute_result"
    }
   ],
   "source": [
    "device_deploymentsFilter_list"
   ]
  },
  {
   "cell_type": "code",
   "execution_count": 4,
   "id": "934288a9-45ab-4507-b59c-480f1652a848",
   "metadata": {},
   "outputs": [
    {
     "data": {
      "text/plain": [
       "[datetime.datetime(2021, 10, 9, 0, 0),\n",
       " datetime.datetime(2021, 11, 13, 0, 0),\n",
       " datetime.datetime(2021, 11, 14, 0, 0),\n",
       " datetime.datetime(2021, 7, 29, 0, 0),\n",
       " datetime.datetime(2021, 12, 18, 0, 0),\n",
       " datetime.datetime(2022, 1, 27, 0, 0),\n",
       " datetime.datetime(2022, 3, 5, 0, 0),\n",
       " datetime.datetime(2022, 3, 4, 0, 0),\n",
       " datetime.datetime(2022, 4, 7, 0, 0),\n",
       " datetime.datetime(2022, 5, 12, 0, 0),\n",
       " datetime.datetime(2021, 9, 3, 0, 0)]"
      ]
     },
     "execution_count": 4,
     "metadata": {},
     "output_type": "execute_result"
    }
   ],
   "source": [
    "list_datetimes_device_deployment"
   ]
  },
  {
   "cell_type": "code",
   "execution_count": 5,
   "id": "7c7b5eb9-55f5-4086-afd2-823b646411b4",
   "metadata": {},
   "outputs": [],
   "source": [
    "list_datetimes_device_deployment.sort()\n"
   ]
  },
  {
   "cell_type": "code",
   "execution_count": 6,
   "id": "9f53bc37-41bc-459f-b41a-776bfe3303e1",
   "metadata": {},
   "outputs": [
    {
     "data": {
      "text/plain": [
       "[datetime.datetime(2021, 7, 29, 0, 0),\n",
       " datetime.datetime(2021, 9, 3, 0, 0),\n",
       " datetime.datetime(2021, 10, 9, 0, 0),\n",
       " datetime.datetime(2021, 11, 13, 0, 0),\n",
       " datetime.datetime(2021, 11, 14, 0, 0),\n",
       " datetime.datetime(2021, 12, 18, 0, 0),\n",
       " datetime.datetime(2022, 1, 27, 0, 0),\n",
       " datetime.datetime(2022, 3, 4, 0, 0),\n",
       " datetime.datetime(2022, 3, 5, 0, 0),\n",
       " datetime.datetime(2022, 4, 7, 0, 0),\n",
       " datetime.datetime(2022, 5, 12, 0, 0)]"
      ]
     },
     "execution_count": 6,
     "metadata": {},
     "output_type": "execute_result"
    }
   ],
   "source": [
    "list_datetimes_device_deployment"
   ]
  },
  {
   "cell_type": "code",
   "execution_count": 7,
   "id": "94236b5f-045b-484e-9e8a-b092a68eb988",
   "metadata": {},
   "outputs": [],
   "source": [
    "def get_date_of_device_deploymentsFilter_list(d):\n",
    "    return datetime.datetime.strptime(d[\"date_deployment\"].split('T')[0],\n",
    "                                      format_string_data)"
   ]
  },
  {
   "cell_type": "code",
   "execution_count": 8,
   "id": "4d08e03b-866b-477b-803f-562a0f00e29f",
   "metadata": {},
   "outputs": [],
   "source": [
    "device_deploymentsFilter_list.sort(key=get_date_of_device_deploymentsFilter_list)"
   ]
  },
  {
   "cell_type": "code",
   "execution_count": 9,
   "id": "5a7465d3-31d9-477a-9ab5-47b359f3dbc2",
   "metadata": {},
   "outputs": [
    {
     "data": {
      "text/plain": [
       "[{'date_deployment': '2021-07-29T17:15:00.000Z'},\n",
       " {'date_deployment': '2021-09-03T18:23:00.000Z'},\n",
       " {'date_deployment': '2021-10-09T19:25:00.000Z'},\n",
       " {'date_deployment': '2021-11-13T16:03:00.000Z'},\n",
       " {'date_deployment': '2021-11-14T16:54:00.000Z'},\n",
       " {'date_deployment': '2021-12-18T17:12:00.000Z'},\n",
       " {'date_deployment': '2022-01-27T17:20:00.000Z'},\n",
       " {'date_deployment': '2022-03-04T18:05:00.000Z'},\n",
       " {'date_deployment': '2022-03-05T16:42:00.000Z'},\n",
       " {'date_deployment': '2022-04-07T13:48:00.000Z'},\n",
       " {'date_deployment': '2022-05-12T16:40:00.000Z'}]"
      ]
     },
     "execution_count": 9,
     "metadata": {},
     "output_type": "execute_result"
    }
   ],
   "source": [
    "device_deploymentsFilter_list"
   ]
  },
  {
   "cell_type": "code",
   "execution_count": 10,
   "id": "5839326a-8f1d-4277-866f-2f7cd51e00e6",
   "metadata": {},
   "outputs": [
    {
     "name": "stdout",
     "output_type": "stream",
     "text": [
      "2021-07-29 00:00:00\n",
      "2021-09-03 00:00:00\n",
      "68\n",
      "2021-09-03 00:00:00\n",
      "2021-10-09 00:00:00\n",
      "32\n"
     ]
    }
   ],
   "source": [
    "max_number_of_days = 40\n",
    "for k in range(len(list_datetimes_device_deployment) - 1):\n",
    "    datetime_device_deployment_1 = list_datetimes_device_deployment[k]\n",
    "    datetime_device_deployment_2 = list_datetimes_device_deployment[k+1]\n",
    "    diff_datetimes = second_datetime - datetime_device_deployment_1\n",
    "    diff_datetimes_days = diff_datetimes.days\n",
    "    print(datetime_device_deployment_1)\n",
    "    print(datetime_device_deployment_2)\n",
    "    print(diff_datetimes_days)\n",
    "    if datetime_device_deployment_1 <= first_datetime and second_datetime <= datetime_device_deployment_2 and diff_datetimes_days <= max_number_of_days:\n",
    "        idx_date = k\n",
    "        break\n",
    "    else:\n",
    "        idx_date = None"
   ]
  },
  {
   "cell_type": "code",
   "execution_count": 11,
   "id": "86f66225-f4ee-4a16-ab9b-16b36d364777",
   "metadata": {},
   "outputs": [
    {
     "data": {
      "text/plain": [
       "32"
      ]
     },
     "execution_count": 11,
     "metadata": {},
     "output_type": "execute_result"
    }
   ],
   "source": [
    "diff_datetimes_days"
   ]
  },
  {
   "cell_type": "code",
   "execution_count": 12,
   "id": "7a6113db-5689-4bfe-b0b1-f789f80c1e15",
   "metadata": {},
   "outputs": [
    {
     "data": {
      "text/plain": [
       "1"
      ]
     },
     "execution_count": 12,
     "metadata": {},
     "output_type": "execute_result"
    }
   ],
   "source": [
    "idx_date"
   ]
  },
  {
   "cell_type": "code",
   "execution_count": 13,
   "id": "8fc95939-cbb0-41c0-b9ef-754d6e7566e2",
   "metadata": {},
   "outputs": [],
   "source": [
    "date_for_filter = device_deploymentsFilter_list[idx_date][\"date_deployment\"]"
   ]
  },
  {
   "cell_type": "code",
   "execution_count": 14,
   "id": "4aa567ea-a0de-47e0-ac18-ae9ea373a36e",
   "metadata": {},
   "outputs": [
    {
     "data": {
      "text/plain": [
       "'2021-09-03T18:23:00.000Z'"
      ]
     },
     "execution_count": 14,
     "metadata": {},
     "output_type": "execute_result"
    }
   ],
   "source": [
    "date_for_filter"
   ]
  },
  {
   "cell_type": "code",
   "execution_count": 15,
   "id": "ec51b4de-7d67-418d-8614-4cfa5ab97001",
   "metadata": {},
   "outputs": [
    {
     "name": "stdout",
     "output_type": "stream",
     "text": [
      "query {\n",
      "  physical_devices(pagination: {limit: 0}, search: {field: serial_number, value: \"HLPXGM09048271\", operator: like}) {\n",
      "    device_deploymentsFilter(pagination: {limit: 0}, search: {field: date_deployment, value: \"2021-09-03T18:23:00.000Z\", operator: eq}) {\n",
      "      node {\n",
      "        nomenclatura\n",
      "        cat_integr\n",
      "        ecosystems {\n",
      "          name\n",
      "        }\n",
      "      }\n",
      "      cumulus {\n",
      "        name\n",
      "        geometry\n",
      "      }\n",
      "      date_deployment\n",
      "      latitude\n",
      "      longitude\n",
      "    }\n",
      "  }\n",
      "}\n"
     ]
    }
   ],
   "source": [
    "\n",
    "\n",
    "query_result, operation_sgqlc = query_alternative_for_move_files_to_standard_directory(serial_number,\n",
    "                                                                                       date_for_filter,\n",
    "                                                                                       file_type)\n",
    "device_deploymentsFilter_list = query_result[\"data\"][\"physical_devices\"][0][\"device_deploymentsFilter\"]\n",
    "print(operation_sgqlc)\n"
   ]
  },
  {
   "cell_type": "code",
   "execution_count": 16,
   "id": "62238085-37a8-4b88-80fa-86f779aeb852",
   "metadata": {},
   "outputs": [
    {
     "data": {
      "text/plain": [
       "[{'node': {'nomenclatura': '3_92_1_1340',\n",
       "   'cat_integr': 'Integro',\n",
       "   'ecosystems': {'name': 'Selvas humedas'}},\n",
       "  'cumulus': {'name': '92',\n",
       "   'geometry': {'type': 'Polygon',\n",
       "    'coordinates': [[[-90.809, 16.202],\n",
       "      [-90.890465, 16.249365],\n",
       "      [-90.936983, 16.252845],\n",
       "      [-90.940578, 16.20791],\n",
       "      [-90.94417, 16.162978],\n",
       "      [-90.894264, 16.103474],\n",
       "      [-90.811481, 16.109274],\n",
       "      [-90.809, 16.202]]]}},\n",
       "  'date_deployment': '2021-09-03T18:23:00.000Z',\n",
       "  'latitude': 16.155638,\n",
       "  'longitude': -90.941043}]"
      ]
     },
     "execution_count": 16,
     "metadata": {},
     "output_type": "execute_result"
    }
   ],
   "source": [
    "device_deploymentsFilter_list"
   ]
  },
  {
   "cell_type": "markdown",
   "id": "87da5f9b-d39d-4d2a-a8eb-bc1e83db7522",
   "metadata": {},
   "source": [
    "**Ejemplo 2**"
   ]
  },
  {
   "cell_type": "markdown",
   "id": "522a6cd6-15c9-492b-875e-a832953ba13c",
   "metadata": {},
   "source": [
    "`/LUSTRE/sacmod/SIPECAM/cumulo_92/primera_entrega/Mes 3/3_92_1_1334/09048594`"
   ]
  },
  {
   "cell_type": "markdown",
   "id": "30c59b48-48b4-4870-82f9-708320f73d88",
   "metadata": {},
   "source": [
    "**Restart the kernel**"
   ]
  },
  {
   "cell_type": "code",
   "execution_count": 1,
   "id": "1e21f374-574b-4fa1-b976-1265cdaa192b",
   "metadata": {},
   "outputs": [],
   "source": [
    "import datetime\n",
    "from simex.utils.zendro import query_alternative_auxiliar_for_move_files_to_standard_directory, \\\n",
    "query_alternative_for_move_files_to_standard_directory"
   ]
  },
  {
   "cell_type": "code",
   "execution_count": 2,
   "id": "7062f2a1-ad49-4cc9-8c8f-90beea241ea4",
   "metadata": {},
   "outputs": [
    {
     "name": "stdout",
     "output_type": "stream",
     "text": [
      "query {\n",
      "  physical_devices(pagination: {limit: 0}, search: {field: serial_number, value: \"HLPXGM09048594\", operator: like}) {\n",
      "    device_deploymentsFilter(pagination: {limit: 0}) {\n",
      "      date_deployment\n",
      "    }\n",
      "  }\n",
      "}\n"
     ]
    }
   ],
   "source": [
    "first_date_str = \"2021-10-21\"\n",
    "second_date_str = \"2021-11-05\"\n",
    "serial_number = \"HLPXGM09048594\"\n",
    "file_type=\"image\"\n",
    "query_result, operation_sgqlc = query_alternative_auxiliar_for_move_files_to_standard_directory(serial_number,\n",
    "                                                                                                file_type)\n",
    "print(operation_sgqlc)\n",
    "device_deploymentsFilter_list = query_result[\"data\"][\"physical_devices\"][0][\"device_deploymentsFilter\"]\n",
    "format_string_data = \"%Y-%m-%d\"\n",
    "list_dates_device_deployment = [d[\"date_deployment\"].split('T')[0] for d in device_deploymentsFilter_list]\n",
    "list_datetimes_device_deployment = [datetime.datetime.strptime(d[\"date_deployment\"].split('T')[0],\n",
    "                                                               format_string_data) for d in device_deploymentsFilter_list]\n",
    "first_datetime  = datetime.datetime.strptime(first_date_str, format_string_data)\n",
    "second_datetime = datetime.datetime.strptime(second_date_str, format_string_data)\n"
   ]
  },
  {
   "cell_type": "code",
   "execution_count": 3,
   "id": "b7f314d3-e7f3-4148-a03a-5d1c30a570ef",
   "metadata": {},
   "outputs": [
    {
     "data": {
      "text/plain": [
       "[{'date_deployment': '2021-10-08T16:56:00.000Z'},\n",
       " {'date_deployment': '2021-11-13T15:50:00.000Z'},\n",
       " {'date_deployment': '2021-07-28T22:29:00.000Z'},\n",
       " {'date_deployment': '2021-12-18T15:58:00.000Z'},\n",
       " {'date_deployment': '2022-01-26T17:55:00.000Z'},\n",
       " {'date_deployment': '2022-03-05T16:06:00.000Z'},\n",
       " {'date_deployment': '2022-04-06T16:09:00.000Z'},\n",
       " {'date_deployment': '2022-05-14T14:10:00.000Z'}]"
      ]
     },
     "execution_count": 3,
     "metadata": {},
     "output_type": "execute_result"
    }
   ],
   "source": [
    "device_deploymentsFilter_list"
   ]
  },
  {
   "cell_type": "code",
   "execution_count": 4,
   "id": "07098943-8a2b-42e8-a288-de75dca430bf",
   "metadata": {},
   "outputs": [
    {
     "data": {
      "text/plain": [
       "[datetime.datetime(2021, 10, 8, 0, 0),\n",
       " datetime.datetime(2021, 11, 13, 0, 0),\n",
       " datetime.datetime(2021, 7, 28, 0, 0),\n",
       " datetime.datetime(2021, 12, 18, 0, 0),\n",
       " datetime.datetime(2022, 1, 26, 0, 0),\n",
       " datetime.datetime(2022, 3, 5, 0, 0),\n",
       " datetime.datetime(2022, 4, 6, 0, 0),\n",
       " datetime.datetime(2022, 5, 14, 0, 0)]"
      ]
     },
     "execution_count": 4,
     "metadata": {},
     "output_type": "execute_result"
    }
   ],
   "source": [
    "list_datetimes_device_deployment"
   ]
  },
  {
   "cell_type": "code",
   "execution_count": 5,
   "id": "963a32cd-75a0-4a05-a475-eb71be9986ad",
   "metadata": {},
   "outputs": [],
   "source": [
    "list_datetimes_device_deployment.sort()\n"
   ]
  },
  {
   "cell_type": "code",
   "execution_count": 6,
   "id": "1e01de50-769c-4cd1-974c-849f3429db9b",
   "metadata": {},
   "outputs": [
    {
     "data": {
      "text/plain": [
       "[datetime.datetime(2021, 7, 28, 0, 0),\n",
       " datetime.datetime(2021, 10, 8, 0, 0),\n",
       " datetime.datetime(2021, 11, 13, 0, 0),\n",
       " datetime.datetime(2021, 12, 18, 0, 0),\n",
       " datetime.datetime(2022, 1, 26, 0, 0),\n",
       " datetime.datetime(2022, 3, 5, 0, 0),\n",
       " datetime.datetime(2022, 4, 6, 0, 0),\n",
       " datetime.datetime(2022, 5, 14, 0, 0)]"
      ]
     },
     "execution_count": 6,
     "metadata": {},
     "output_type": "execute_result"
    }
   ],
   "source": [
    "list_datetimes_device_deployment"
   ]
  },
  {
   "cell_type": "code",
   "execution_count": 7,
   "id": "1ab5dff5-29e7-400e-b654-089d62cc03e5",
   "metadata": {},
   "outputs": [],
   "source": [
    "def get_date_of_device_deploymentsFilter_list(d):\n",
    "    return datetime.datetime.strptime(d[\"date_deployment\"].split('T')[0],\n",
    "                                      format_string_data)"
   ]
  },
  {
   "cell_type": "code",
   "execution_count": 8,
   "id": "1851d5d8-52af-4596-be6c-cf982a745c0c",
   "metadata": {},
   "outputs": [],
   "source": [
    "device_deploymentsFilter_list.sort(key=get_date_of_device_deploymentsFilter_list)"
   ]
  },
  {
   "cell_type": "code",
   "execution_count": 9,
   "id": "1a47fad9-506a-4b9a-a4d5-18266b51b36b",
   "metadata": {},
   "outputs": [
    {
     "data": {
      "text/plain": [
       "[{'date_deployment': '2021-07-28T22:29:00.000Z'},\n",
       " {'date_deployment': '2021-10-08T16:56:00.000Z'},\n",
       " {'date_deployment': '2021-11-13T15:50:00.000Z'},\n",
       " {'date_deployment': '2021-12-18T15:58:00.000Z'},\n",
       " {'date_deployment': '2022-01-26T17:55:00.000Z'},\n",
       " {'date_deployment': '2022-03-05T16:06:00.000Z'},\n",
       " {'date_deployment': '2022-04-06T16:09:00.000Z'},\n",
       " {'date_deployment': '2022-05-14T14:10:00.000Z'}]"
      ]
     },
     "execution_count": 9,
     "metadata": {},
     "output_type": "execute_result"
    }
   ],
   "source": [
    "device_deploymentsFilter_list"
   ]
  },
  {
   "cell_type": "code",
   "execution_count": 10,
   "id": "ba0dc96d-ddf9-4b8e-ae04-be9e31a38c21",
   "metadata": {},
   "outputs": [
    {
     "name": "stdout",
     "output_type": "stream",
     "text": [
      "2021-07-28 00:00:00\n",
      "2021-10-08 00:00:00\n",
      "2021-10-08 00:00:00\n",
      "2021-11-13 00:00:00\n"
     ]
    }
   ],
   "source": [
    "max_number_of_days = 40\n",
    "for k in range(len(list_datetimes_device_deployment) - 1):\n",
    "    datetime_device_deployment_1 = list_datetimes_device_deployment[k]\n",
    "    datetime_device_deployment_2 = list_datetimes_device_deployment[k+1]\n",
    "    diff_datetimes = second_datetime - datetime_device_deployment_1\n",
    "    diff_datetimes_days = diff_datetimes.days\n",
    "    print(datetime_device_deployment_1)\n",
    "    print(datetime_device_deployment_2)\n",
    "    if datetime_device_deployment_1 <= first_datetime and second_datetime <= datetime_device_deployment_2 and diff_datetimes_days <= max_number_of_days:\n",
    "        idx_date = k\n",
    "        break\n",
    "    else:\n",
    "        idx_date = None"
   ]
  },
  {
   "cell_type": "code",
   "execution_count": 11,
   "id": "c1f9c78b-a6b1-47df-9ca2-5963aa2b8df3",
   "metadata": {},
   "outputs": [
    {
     "data": {
      "text/plain": [
       "1"
      ]
     },
     "execution_count": 11,
     "metadata": {},
     "output_type": "execute_result"
    }
   ],
   "source": [
    "idx_date"
   ]
  },
  {
   "cell_type": "code",
   "execution_count": 12,
   "id": "dbc07207-f51d-492d-bb20-26f00c423880",
   "metadata": {},
   "outputs": [],
   "source": [
    "date_for_filter = device_deploymentsFilter_list[idx_date][\"date_deployment\"]"
   ]
  },
  {
   "cell_type": "code",
   "execution_count": 13,
   "id": "3b11cf53-8e8d-4a9c-b43e-88a4c9abea9a",
   "metadata": {},
   "outputs": [
    {
     "data": {
      "text/plain": [
       "'2021-10-08T16:56:00.000Z'"
      ]
     },
     "execution_count": 13,
     "metadata": {},
     "output_type": "execute_result"
    }
   ],
   "source": [
    "date_for_filter"
   ]
  },
  {
   "cell_type": "code",
   "execution_count": 14,
   "id": "d232cca3-f45b-43a1-a516-7a03dfe13926",
   "metadata": {},
   "outputs": [
    {
     "name": "stdout",
     "output_type": "stream",
     "text": [
      "query {\n",
      "  physical_devices(pagination: {limit: 0}, search: {field: serial_number, value: \"HLPXGM09048594\", operator: like}) {\n",
      "    device_deploymentsFilter(pagination: {limit: 0}, search: {field: date_deployment, value: \"2021-10-08T16:56:00.000Z\", operator: eq}) {\n",
      "      node {\n",
      "        nomenclatura\n",
      "        cat_integr\n",
      "        ecosystems {\n",
      "          name\n",
      "        }\n",
      "      }\n",
      "      cumulus {\n",
      "        name\n",
      "        geometry\n",
      "      }\n",
      "      date_deployment\n",
      "      latitude\n",
      "      longitude\n",
      "    }\n",
      "  }\n",
      "}\n"
     ]
    }
   ],
   "source": [
    "\n",
    "\n",
    "query_result, operation_sgqlc = query_alternative_for_move_files_to_standard_directory(serial_number,\n",
    "                                                                                       date_for_filter,\n",
    "                                                                                       file_type)\n",
    "device_deploymentsFilter_list = query_result[\"data\"][\"physical_devices\"][0][\"device_deploymentsFilter\"]\n",
    "print(operation_sgqlc)\n"
   ]
  },
  {
   "cell_type": "code",
   "execution_count": 15,
   "id": "a7578478-7ccb-44af-9284-ae74319904d7",
   "metadata": {},
   "outputs": [
    {
     "data": {
      "text/plain": [
       "[{'node': {'nomenclatura': '3_92_1_1334',\n",
       "   'cat_integr': 'Integro',\n",
       "   'ecosystems': {'name': 'Selvas humedas'}},\n",
       "  'cumulus': {'name': '92',\n",
       "   'geometry': {'type': 'Polygon',\n",
       "    'coordinates': [[[-90.809, 16.202],\n",
       "      [-90.890465, 16.249365],\n",
       "      [-90.936983, 16.252845],\n",
       "      [-90.940578, 16.20791],\n",
       "      [-90.94417, 16.162978],\n",
       "      [-90.894264, 16.103474],\n",
       "      [-90.811481, 16.109274],\n",
       "      [-90.809, 16.202]]]}},\n",
       "  'date_deployment': '2021-10-08T16:56:00.000Z',\n",
       "  'latitude': 16.264693,\n",
       "  'longitude': -90.9371013}]"
      ]
     },
     "execution_count": 15,
     "metadata": {},
     "output_type": "execute_result"
    }
   ],
   "source": [
    "device_deploymentsFilter_list"
   ]
  },
  {
   "cell_type": "markdown",
   "id": "404cdafe-622a-43bc-a4dd-a3fc3984ff3d",
   "metadata": {},
   "source": [
    "**Ejemplo 3**"
   ]
  },
  {
   "cell_type": "markdown",
   "id": "ededc518-49ca-454b-85f6-1c5ea229292e",
   "metadata": {},
   "source": [
    "`/LUSTRE/sacmod/SIPECAM/cumulo_92/primera_entrega/Mes 4/3_92_0_1341/3_92_0_1341_3/audio/Nueva carpeta`"
   ]
  },
  {
   "cell_type": "markdown",
   "id": "09c988bc-e5f9-455b-8396-843dd7a6e043",
   "metadata": {},
   "source": [
    "**Restart the kernel**"
   ]
  },
  {
   "cell_type": "code",
   "execution_count": 1,
   "id": "ff35cdad-70af-4c96-b327-8aa08cae15f8",
   "metadata": {},
   "outputs": [],
   "source": [
    "import datetime\n",
    "from simex.utils.zendro import query_alternative_auxiliar_for_move_files_to_standard_directory, \\\n",
    "query_alternative_for_move_files_to_standard_directory"
   ]
  },
  {
   "cell_type": "code",
   "execution_count": 2,
   "id": "6d68dd87-cc41-44d1-a460-71fede0b30aa",
   "metadata": {},
   "outputs": [
    {
     "name": "stdout",
     "output_type": "stream",
     "text": [
      "query {\n",
      "  physical_devices(pagination: {limit: 0}, search: {field: comments, value: \"ADM24E1440360371EA1\", operator: like}) {\n",
      "    device_deploymentsFilter(pagination: {limit: 0}) {\n",
      "      date_deployment\n",
      "    }\n",
      "  }\n",
      "}\n"
     ]
    }
   ],
   "source": [
    "first_date_str = \"2021-11-14\"\n",
    "second_date_str = \"2021-12-06\"\n",
    "serial_number = \"24E1440360371EA1\"\n",
    "file_type=\"audio\"\n",
    "query_result, operation_sgqlc = query_alternative_auxiliar_for_move_files_to_standard_directory(serial_number,\n",
    "                                                                                                file_type)\n",
    "print(operation_sgqlc)\n",
    "device_deploymentsFilter_list = query_result[\"data\"][\"physical_devices\"][0][\"device_deploymentsFilter\"]\n",
    "format_string_data = \"%Y-%m-%d\"\n",
    "list_dates_device_deployment = [d[\"date_deployment\"].split('T')[0] for d in device_deploymentsFilter_list]\n",
    "list_datetimes_device_deployment = [datetime.datetime.strptime(d[\"date_deployment\"].split('T')[0],\n",
    "                                                               format_string_data) for d in device_deploymentsFilter_list]\n",
    "first_datetime  = datetime.datetime.strptime(first_date_str, format_string_data)\n",
    "second_datetime = datetime.datetime.strptime(second_date_str, format_string_data)\n"
   ]
  },
  {
   "cell_type": "code",
   "execution_count": 3,
   "id": "6e8551b9-c532-4529-9880-93d912bd92f4",
   "metadata": {},
   "outputs": [
    {
     "data": {
      "text/plain": [
       "[{'date_deployment': '2021-10-09T14:56:00.000Z'},\n",
       " {'date_deployment': '2021-12-19T16:05:00.000Z'}]"
      ]
     },
     "execution_count": 3,
     "metadata": {},
     "output_type": "execute_result"
    }
   ],
   "source": [
    "device_deploymentsFilter_list"
   ]
  },
  {
   "cell_type": "code",
   "execution_count": 4,
   "id": "c2346e93-90e3-41cc-a5c1-b8ede0f632d4",
   "metadata": {},
   "outputs": [
    {
     "data": {
      "text/plain": [
       "[datetime.datetime(2021, 10, 9, 0, 0), datetime.datetime(2021, 12, 19, 0, 0)]"
      ]
     },
     "execution_count": 4,
     "metadata": {},
     "output_type": "execute_result"
    }
   ],
   "source": [
    "list_datetimes_device_deployment"
   ]
  },
  {
   "cell_type": "code",
   "execution_count": 5,
   "id": "ede02ad5-88b4-4908-b851-395f2e3d1af4",
   "metadata": {},
   "outputs": [],
   "source": [
    "list_datetimes_device_deployment.sort()\n"
   ]
  },
  {
   "cell_type": "code",
   "execution_count": 6,
   "id": "b8346ddf-1578-4d02-a55d-bce2a7b0133e",
   "metadata": {},
   "outputs": [
    {
     "data": {
      "text/plain": [
       "[datetime.datetime(2021, 10, 9, 0, 0), datetime.datetime(2021, 12, 19, 0, 0)]"
      ]
     },
     "execution_count": 6,
     "metadata": {},
     "output_type": "execute_result"
    }
   ],
   "source": [
    "list_datetimes_device_deployment"
   ]
  },
  {
   "cell_type": "code",
   "execution_count": 7,
   "id": "538d24ef-7257-4134-a84e-a77d8b754b73",
   "metadata": {},
   "outputs": [],
   "source": [
    "def get_date_of_device_deploymentsFilter_list(d):\n",
    "    return datetime.datetime.strptime(d[\"date_deployment\"].split('T')[0],\n",
    "                                      format_string_data)"
   ]
  },
  {
   "cell_type": "code",
   "execution_count": 8,
   "id": "911bc55e-5142-4984-b14a-469577278857",
   "metadata": {},
   "outputs": [],
   "source": [
    "device_deploymentsFilter_list.sort(key=get_date_of_device_deploymentsFilter_list)"
   ]
  },
  {
   "cell_type": "code",
   "execution_count": 9,
   "id": "493bc722-8469-40b8-b591-ca1d5928f9df",
   "metadata": {},
   "outputs": [
    {
     "data": {
      "text/plain": [
       "[{'date_deployment': '2021-10-09T14:56:00.000Z'},\n",
       " {'date_deployment': '2021-12-19T16:05:00.000Z'}]"
      ]
     },
     "execution_count": 9,
     "metadata": {},
     "output_type": "execute_result"
    }
   ],
   "source": [
    "device_deploymentsFilter_list"
   ]
  },
  {
   "cell_type": "code",
   "execution_count": 10,
   "id": "847e41c5-85cf-4e65-81ad-1f13411b19a0",
   "metadata": {},
   "outputs": [
    {
     "name": "stdout",
     "output_type": "stream",
     "text": [
      "2021-10-09 00:00:00\n",
      "2021-12-19 00:00:00\n",
      "58\n"
     ]
    }
   ],
   "source": [
    "max_number_of_days = 40\n",
    "for k in range(len(list_datetimes_device_deployment) - 1):\n",
    "    datetime_device_deployment_1 = list_datetimes_device_deployment[k]\n",
    "    datetime_device_deployment_2 = list_datetimes_device_deployment[k+1]\n",
    "    diff_datetimes = second_datetime - datetime_device_deployment_1\n",
    "    diff_datetimes_days = diff_datetimes.days\n",
    "    print(datetime_device_deployment_1)\n",
    "    print(datetime_device_deployment_2)\n",
    "    print(diff_datetimes_days)\n",
    "    if datetime_device_deployment_1 <= first_datetime and second_datetime <= datetime_device_deployment_2 and diff_datetimes_days <= max_number_of_days:\n",
    "        idx_date = k\n",
    "        break\n",
    "    else:\n",
    "        idx_date = None"
   ]
  },
  {
   "cell_type": "code",
   "execution_count": 11,
   "id": "6d2f623d-d457-4161-8d21-dd69a471f4ba",
   "metadata": {},
   "outputs": [],
   "source": [
    "idx_date"
   ]
  },
  {
   "cell_type": "code",
   "execution_count": 12,
   "id": "c19d26ec-26d1-43b7-a023-67a0bc59574d",
   "metadata": {},
   "outputs": [
    {
     "ename": "TypeError",
     "evalue": "list indices must be integers or slices, not NoneType",
     "output_type": "error",
     "traceback": [
      "\u001b[0;31m---------------------------------------------------------------------------\u001b[0m",
      "\u001b[0;31mTypeError\u001b[0m                                 Traceback (most recent call last)",
      "Input \u001b[0;32mIn [12]\u001b[0m, in \u001b[0;36m<cell line: 1>\u001b[0;34m()\u001b[0m\n\u001b[0;32m----> 1\u001b[0m date_for_filter \u001b[38;5;241m=\u001b[39m \u001b[43mdevice_deploymentsFilter_list\u001b[49m\u001b[43m[\u001b[49m\u001b[43midx_date\u001b[49m\u001b[43m]\u001b[49m[\u001b[38;5;124m\"\u001b[39m\u001b[38;5;124mdate_deployment\u001b[39m\u001b[38;5;124m\"\u001b[39m]\n",
      "\u001b[0;31mTypeError\u001b[0m: list indices must be integers or slices, not NoneType"
     ]
    }
   ],
   "source": [
    "date_for_filter = device_deploymentsFilter_list[idx_date][\"date_deployment\"]"
   ]
  },
  {
   "cell_type": "code",
   "execution_count": null,
   "id": "018950e6-b003-4ab4-8128-e3cf6aba0597",
   "metadata": {},
   "outputs": [],
   "source": [
    "date_for_filter"
   ]
  },
  {
   "cell_type": "code",
   "execution_count": 13,
   "id": "7021f719-e3d2-4035-89bc-a3443f62fb53",
   "metadata": {},
   "outputs": [
    {
     "ename": "NameError",
     "evalue": "name 'date_for_filter' is not defined",
     "output_type": "error",
     "traceback": [
      "\u001b[0;31m---------------------------------------------------------------------------\u001b[0m",
      "\u001b[0;31mNameError\u001b[0m                                 Traceback (most recent call last)",
      "Input \u001b[0;32mIn [13]\u001b[0m, in \u001b[0;36m<cell line: 1>\u001b[0;34m()\u001b[0m\n\u001b[1;32m      1\u001b[0m query_result, operation_sgqlc \u001b[38;5;241m=\u001b[39m query_alternative_for_move_files_to_standard_directory(serial_number,\n\u001b[0;32m----> 2\u001b[0m                                                                                        \u001b[43mdate_for_filter\u001b[49m,\n\u001b[1;32m      3\u001b[0m                                                                                        file_type)\n\u001b[1;32m      4\u001b[0m device_deploymentsFilter_list \u001b[38;5;241m=\u001b[39m query_result[\u001b[38;5;124m\"\u001b[39m\u001b[38;5;124mdata\u001b[39m\u001b[38;5;124m\"\u001b[39m][\u001b[38;5;124m\"\u001b[39m\u001b[38;5;124mphysical_devices\u001b[39m\u001b[38;5;124m\"\u001b[39m][\u001b[38;5;241m0\u001b[39m][\u001b[38;5;124m\"\u001b[39m\u001b[38;5;124mdevice_deploymentsFilter\u001b[39m\u001b[38;5;124m\"\u001b[39m]\n\u001b[1;32m      5\u001b[0m \u001b[38;5;28mprint\u001b[39m(operation_sgqlc)\n",
      "\u001b[0;31mNameError\u001b[0m: name 'date_for_filter' is not defined"
     ]
    }
   ],
   "source": [
    "\n",
    "\n",
    "query_result, operation_sgqlc = query_alternative_for_move_files_to_standard_directory(serial_number,\n",
    "                                                                                       date_for_filter,\n",
    "                                                                                       file_type)\n",
    "device_deploymentsFilter_list = query_result[\"data\"][\"physical_devices\"][0][\"device_deploymentsFilter\"]\n",
    "print(operation_sgqlc)\n"
   ]
  },
  {
   "cell_type": "code",
   "execution_count": 14,
   "id": "1df1eab5-b3dd-4269-93e8-bc66c9ce4b00",
   "metadata": {},
   "outputs": [
    {
     "data": {
      "text/plain": [
       "[{'date_deployment': '2021-10-09T14:56:00.000Z'},\n",
       " {'date_deployment': '2021-12-19T16:05:00.000Z'}]"
      ]
     },
     "execution_count": 14,
     "metadata": {},
     "output_type": "execute_result"
    }
   ],
   "source": [
    "device_deploymentsFilter_list"
   ]
  },
  {
   "cell_type": "markdown",
   "id": "1fda8549-4e5f-4478-ac33-fd3933dfeaa5",
   "metadata": {},
   "source": [
    "**Ejemplo 4**"
   ]
  },
  {
   "cell_type": "markdown",
   "id": "abb55bd6-891a-4a24-8b43-2fe10bd3a037",
   "metadata": {},
   "source": [
    "`/LUSTRE/sacmod/SIPECAM/cumulo_92/primera_entrega/Mes 2/3_92_0_1342/1342_1/ultrasonico`"
   ]
  },
  {
   "cell_type": "markdown",
   "id": "52f19bea-8b51-412b-946d-63a6dbe423ff",
   "metadata": {},
   "source": [
    "**Restart the kernel**"
   ]
  },
  {
   "cell_type": "code",
   "execution_count": 1,
   "id": "d0b4f281-0220-4bf2-a6ca-c4d3e23892c1",
   "metadata": {},
   "outputs": [],
   "source": [
    "import datetime\n",
    "from simex.utils.zendro import query_alternative_auxiliar_for_move_files_to_standard_directory, \\\n",
    "query_alternative_for_move_files_to_standard_directory"
   ]
  },
  {
   "cell_type": "code",
   "execution_count": 2,
   "id": "4c45288d-4957-49ed-b7c1-c34fde289840",
   "metadata": {},
   "outputs": [
    {
     "name": "stdout",
     "output_type": "stream",
     "text": [
      "query {\n",
      "  physical_devices(pagination: {limit: 0}, search: {field: comments, value: \"ADM24E4C30453E1BE08\", operator: like}) {\n",
      "    device_deploymentsFilter(pagination: {limit: 0}) {\n",
      "      date_deployment\n",
      "    }\n",
      "  }\n",
      "}\n"
     ]
    }
   ],
   "source": [
    "first_date_str = \"2021-09-04\"\n",
    "second_date_str = \"2021-10-02\"\n",
    "serial_number = \"24E4C30453E1BE08\"\n",
    "file_type=\"audio\"\n",
    "query_result, operation_sgqlc = query_alternative_auxiliar_for_move_files_to_standard_directory(serial_number,\n",
    "                                                                                                file_type)\n",
    "print(operation_sgqlc)\n",
    "device_deploymentsFilter_list = query_result[\"data\"][\"physical_devices\"][0][\"device_deploymentsFilter\"]\n",
    "format_string_data = \"%Y-%m-%d\"\n",
    "list_dates_device_deployment = [d[\"date_deployment\"].split('T')[0] for d in device_deploymentsFilter_list]\n",
    "list_datetimes_device_deployment = [datetime.datetime.strptime(d[\"date_deployment\"].split('T')[0],\n",
    "                                                               format_string_data) for d in device_deploymentsFilter_list]\n",
    "first_datetime  = datetime.datetime.strptime(first_date_str, format_string_data)\n",
    "second_datetime = datetime.datetime.strptime(second_date_str, format_string_data)\n"
   ]
  },
  {
   "cell_type": "code",
   "execution_count": 3,
   "id": "a5cca998-52e1-4e0c-8b78-340f37ae2b1e",
   "metadata": {},
   "outputs": [
    {
     "data": {
      "text/plain": [
       "[{'date_deployment': '2021-10-09T14:56:00.000Z'},\n",
       " {'date_deployment': '2021-11-14T16:09:00.000Z'},\n",
       " {'date_deployment': '2021-07-28T17:43:00.000Z'}]"
      ]
     },
     "execution_count": 3,
     "metadata": {},
     "output_type": "execute_result"
    }
   ],
   "source": [
    "device_deploymentsFilter_list"
   ]
  },
  {
   "cell_type": "code",
   "execution_count": 4,
   "id": "27834ffa-520f-487f-a4f3-640e8d8a8308",
   "metadata": {},
   "outputs": [
    {
     "data": {
      "text/plain": [
       "[datetime.datetime(2021, 10, 9, 0, 0),\n",
       " datetime.datetime(2021, 11, 14, 0, 0),\n",
       " datetime.datetime(2021, 7, 28, 0, 0)]"
      ]
     },
     "execution_count": 4,
     "metadata": {},
     "output_type": "execute_result"
    }
   ],
   "source": [
    "list_datetimes_device_deployment"
   ]
  },
  {
   "cell_type": "code",
   "execution_count": 5,
   "id": "7415417d-8f4f-4a2b-8839-61d00d9fc94c",
   "metadata": {},
   "outputs": [],
   "source": [
    "list_datetimes_device_deployment.sort()\n"
   ]
  },
  {
   "cell_type": "code",
   "execution_count": 6,
   "id": "1679ab54-23d1-423c-8b27-d2bb6ed88b80",
   "metadata": {},
   "outputs": [
    {
     "data": {
      "text/plain": [
       "[datetime.datetime(2021, 7, 28, 0, 0),\n",
       " datetime.datetime(2021, 10, 9, 0, 0),\n",
       " datetime.datetime(2021, 11, 14, 0, 0)]"
      ]
     },
     "execution_count": 6,
     "metadata": {},
     "output_type": "execute_result"
    }
   ],
   "source": [
    "list_datetimes_device_deployment"
   ]
  },
  {
   "cell_type": "code",
   "execution_count": 7,
   "id": "5700677e-fb22-46f5-baf5-4ec3914dffd2",
   "metadata": {},
   "outputs": [],
   "source": [
    "def get_date_of_device_deploymentsFilter_list(d):\n",
    "    return datetime.datetime.strptime(d[\"date_deployment\"].split('T')[0],\n",
    "                                      format_string_data)"
   ]
  },
  {
   "cell_type": "code",
   "execution_count": 8,
   "id": "df724099-1a12-4be3-9eab-09a9d5067895",
   "metadata": {},
   "outputs": [],
   "source": [
    "device_deploymentsFilter_list.sort(key=get_date_of_device_deploymentsFilter_list)"
   ]
  },
  {
   "cell_type": "code",
   "execution_count": 9,
   "id": "3f73c9f2-7113-46d2-8e22-56958e5e5a8a",
   "metadata": {},
   "outputs": [
    {
     "data": {
      "text/plain": [
       "[{'date_deployment': '2021-07-28T17:43:00.000Z'},\n",
       " {'date_deployment': '2021-10-09T14:56:00.000Z'},\n",
       " {'date_deployment': '2021-11-14T16:09:00.000Z'}]"
      ]
     },
     "execution_count": 9,
     "metadata": {},
     "output_type": "execute_result"
    }
   ],
   "source": [
    "device_deploymentsFilter_list"
   ]
  },
  {
   "cell_type": "code",
   "execution_count": 10,
   "id": "565235be-0791-4a49-873f-fcd8f30a3fb5",
   "metadata": {},
   "outputs": [
    {
     "name": "stdout",
     "output_type": "stream",
     "text": [
      "2021-07-28 00:00:00\n",
      "2021-10-09 00:00:00\n",
      "2021-10-09 00:00:00\n",
      "2021-11-14 00:00:00\n"
     ]
    }
   ],
   "source": [
    "max_number_of_days = 40\n",
    "for k in range(len(list_datetimes_device_deployment) - 1):\n",
    "    datetime_device_deployment_1 = list_datetimes_device_deployment[k]\n",
    "    datetime_device_deployment_2 = list_datetimes_device_deployment[k+1]\n",
    "    diff_datetimes = second_datetime - datetime_device_deployment_1\n",
    "    diff_datetimes_days = diff_datetimes.days\n",
    "    print(datetime_device_deployment_1)\n",
    "    print(datetime_device_deployment_2)\n",
    "    if datetime_device_deployment_1 <= first_datetime and second_datetime <= datetime_device_deployment_2 and diff_datetimes_days <= max_number_of_days:\n",
    "        idx_date = k\n",
    "        break\n",
    "    else:\n",
    "        idx_date = None"
   ]
  },
  {
   "cell_type": "code",
   "execution_count": 11,
   "id": "63aa210b-c987-4b63-89d5-3859228c70fb",
   "metadata": {},
   "outputs": [],
   "source": [
    "idx_date"
   ]
  },
  {
   "cell_type": "code",
   "execution_count": 12,
   "id": "2a84d83b-8fc5-4bb4-854a-0397eb141fd3",
   "metadata": {},
   "outputs": [
    {
     "ename": "TypeError",
     "evalue": "list indices must be integers or slices, not NoneType",
     "output_type": "error",
     "traceback": [
      "\u001b[0;31m---------------------------------------------------------------------------\u001b[0m",
      "\u001b[0;31mTypeError\u001b[0m                                 Traceback (most recent call last)",
      "Input \u001b[0;32mIn [12]\u001b[0m, in \u001b[0;36m<cell line: 1>\u001b[0;34m()\u001b[0m\n\u001b[0;32m----> 1\u001b[0m date_for_filter \u001b[38;5;241m=\u001b[39m \u001b[43mdevice_deploymentsFilter_list\u001b[49m\u001b[43m[\u001b[49m\u001b[43midx_date\u001b[49m\u001b[43m]\u001b[49m[\u001b[38;5;124m\"\u001b[39m\u001b[38;5;124mdate_deployment\u001b[39m\u001b[38;5;124m\"\u001b[39m]\n",
      "\u001b[0;31mTypeError\u001b[0m: list indices must be integers or slices, not NoneType"
     ]
    }
   ],
   "source": [
    "date_for_filter = device_deploymentsFilter_list[idx_date][\"date_deployment\"]"
   ]
  },
  {
   "cell_type": "code",
   "execution_count": 13,
   "id": "540bc620-4881-4929-acb2-6aabec2e752e",
   "metadata": {},
   "outputs": [
    {
     "ename": "NameError",
     "evalue": "name 'date_for_filter' is not defined",
     "output_type": "error",
     "traceback": [
      "\u001b[0;31m---------------------------------------------------------------------------\u001b[0m",
      "\u001b[0;31mNameError\u001b[0m                                 Traceback (most recent call last)",
      "Input \u001b[0;32mIn [13]\u001b[0m, in \u001b[0;36m<cell line: 1>\u001b[0;34m()\u001b[0m\n\u001b[1;32m      1\u001b[0m query_result, operation_sgqlc \u001b[38;5;241m=\u001b[39m query_alternative_for_move_files_to_standard_directory(serial_number,\n\u001b[0;32m----> 2\u001b[0m                                                                                        \u001b[43mdate_for_filter\u001b[49m,\n\u001b[1;32m      3\u001b[0m                                                                                        file_type)\n\u001b[1;32m      4\u001b[0m device_deploymentsFilter_list \u001b[38;5;241m=\u001b[39m query_result[\u001b[38;5;124m\"\u001b[39m\u001b[38;5;124mdata\u001b[39m\u001b[38;5;124m\"\u001b[39m][\u001b[38;5;124m\"\u001b[39m\u001b[38;5;124mphysical_devices\u001b[39m\u001b[38;5;124m\"\u001b[39m][\u001b[38;5;241m0\u001b[39m][\u001b[38;5;124m\"\u001b[39m\u001b[38;5;124mdevice_deploymentsFilter\u001b[39m\u001b[38;5;124m\"\u001b[39m]\n\u001b[1;32m      5\u001b[0m \u001b[38;5;28mprint\u001b[39m(operation_sgqlc)\n",
      "\u001b[0;31mNameError\u001b[0m: name 'date_for_filter' is not defined"
     ]
    }
   ],
   "source": [
    "query_result, operation_sgqlc = query_alternative_for_move_files_to_standard_directory(serial_number,\n",
    "                                                                                       date_for_filter,\n",
    "                                                                                       file_type)\n",
    "device_deploymentsFilter_list = query_result[\"data\"][\"physical_devices\"][0][\"device_deploymentsFilter\"]\n",
    "print(operation_sgqlc)\n"
   ]
  },
  {
   "cell_type": "code",
   "execution_count": 14,
   "id": "a31b4ea4-e5f2-4c00-a221-c659a57e53cc",
   "metadata": {},
   "outputs": [
    {
     "data": {
      "text/plain": [
       "[{'date_deployment': '2021-07-28T17:43:00.000Z'},\n",
       " {'date_deployment': '2021-10-09T14:56:00.000Z'},\n",
       " {'date_deployment': '2021-11-14T16:09:00.000Z'}]"
      ]
     },
     "execution_count": 14,
     "metadata": {},
     "output_type": "execute_result"
    }
   ],
   "source": [
    "device_deploymentsFilter_list"
   ]
  },
  {
   "cell_type": "code",
   "execution_count": null,
   "id": "af686a53-9d03-468e-a956-f3960eb4b972",
   "metadata": {},
   "outputs": [],
   "source": []
  }
 ],
 "metadata": {
  "kernelspec": {
   "display_name": "Python 3 (ipykernel)",
   "language": "python",
   "name": "python3"
  },
  "language_info": {
   "codemirror_mode": {
    "name": "ipython",
    "version": 3
   },
   "file_extension": ".py",
   "mimetype": "text/x-python",
   "name": "python",
   "nbconvert_exporter": "python",
   "pygments_lexer": "ipython3",
   "version": "3.8.10"
  }
 },
 "nbformat": 4,
 "nbformat_minor": 5
}
