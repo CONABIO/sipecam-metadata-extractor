{
 "cells": [
  {
   "cell_type": "markdown",
   "id": "6875a2d0-d346-4b56-bf4a-64d486e68656",
   "metadata": {
    "tags": []
   },
   "source": [
    "# Move files to standard directory"
   ]
  },
  {
   "cell_type": "code",
   "execution_count": null,
   "id": "877639e3-4690-4282-b82a-dc357370686a",
   "metadata": {},
   "outputs": [],
   "source": [
    "%%bash\n",
    "echo \"SIPECAM_ZENDRO_GQL_URL=https://gql.sipecamdata.conabio.gob.mx/\" > ~/.simex_env\n",
    "echo \"SIPECAM_ZENDRO_GQL_USER=<user>\" >> ~/.simex_env\n",
    "echo \"SIPECAM_ZENDRO_GQL_PASSWORD=<password>\" >> ~/.simex_env\n"
   ]
  },
  {
   "cell_type": "code",
   "execution_count": 2,
   "id": "eeab7a95-e241-4138-a959-034101869450",
   "metadata": {},
   "outputs": [
    {
     "name": "stdout",
     "output_type": "stream",
     "text": [
      "/LUSTRE/sacmod/SIPECAM/cumulo_95/Audios/nodo01/grabadora_03/Ultrasonico/Integro\n",
      "/LUSTRE/sacmod/SIPECAM/cumulo_95/Audios/nodo01/grabadora_03/Ultrasonico/Degradado\n",
      "/LUSTRE/sacmod/SIPECAM/cumulo_95/Audios/nodo01/grabadora_03/Audible/Integro\n",
      "/LUSTRE/sacmod/SIPECAM/cumulo_95/Audios/nodo01/grabadora_03/Audible/Degradado\n",
      "/LUSTRE/sacmod/SIPECAM/cumulo_95/Audios/nodo01/grabadora_01/Ultrasonico/Integro\n",
      "/LUSTRE/sacmod/SIPECAM/cumulo_95/Audios/nodo01/grabadora_01/Ultrasonico/Degradado\n",
      "/LUSTRE/sacmod/SIPECAM/cumulo_95/Audios/nodo01/grabadora_01/Audible/Integro\n",
      "/LUSTRE/sacmod/SIPECAM/cumulo_95/Audios/nodo01/grabadora_01/Audible/Degradado\n",
      "/LUSTRE/sacmod/SIPECAM/cumulo_95/Audios/nodo01/grabadora_02/Ultrasonico/Degradado\n",
      "/LUSTRE/sacmod/SIPECAM/cumulo_95/Audios/nodo01/grabadora_02/Audible/Degradado\n",
      "/LUSTRE/sacmod/SIPECAM/cumulo_95/Imagenes/Integro/CAM_04_ElPinito/100RECNX\n",
      "/LUSTRE/sacmod/SIPECAM/cumulo_95/Imagenes/Integro/CAM_03_ElPinito/100RECNX\n",
      "/LUSTRE/sacmod/SIPECAM/cumulo_95/Imagenes/Integro/CAM_02_ElPinito/100RECNX\n",
      "/LUSTRE/sacmod/SIPECAM/cumulo_95/Imagenes/Integro/CAM_05_ElPinito/100RECNX\n",
      "/LUSTRE/sacmod/SIPECAM/cumulo_95/Imagenes/Integro/CAM_01_ElPinito/100RECNX\n",
      "/LUSTRE/sacmod/SIPECAM/cumulo_95/Imagenes/Degradado/CAM_04_RanchoNuevo/101RECNX\n",
      "/LUSTRE/sacmod/SIPECAM/cumulo_95/Imagenes/Degradado/CAM_04_RanchoNuevo/100RECNX\n",
      "/LUSTRE/sacmod/SIPECAM/cumulo_95/Imagenes/Degradado/CAM_02_RanchoNuevo/100RECNX\n",
      "/LUSTRE/sacmod/SIPECAM/cumulo_95/Imagenes/Degradado/CAM_01_RanchoNuevo/101RECNX\n",
      "/LUSTRE/sacmod/SIPECAM/cumulo_95/Imagenes/Degradado/CAM_01_RanchoNuevo/102RECNX\n",
      "/LUSTRE/sacmod/SIPECAM/cumulo_95/Imagenes/Degradado/CAM_01_RanchoNuevo/100RECNX\n",
      "/LUSTRE/sacmod/SIPECAM/cumulo_95/Imagenes/Degradado/CAM_05_RanchoNuevo/100RECNX\n",
      "/LUSTRE/sacmod/SIPECAM/cumulo_95/Imagenes/Degradado/CAM_03_RanchoNuevo/100RECNX\n"
     ]
    }
   ],
   "source": [
    "%%bash\n",
    "list_of_dirs_to_be_processed=/shared_volume/sipecam_subdirectories_16-03-2022.txt\n",
    "SAVEIFS=$IFS;IFS=$(echo -en \"\\n\\b\")\n",
    "path_std_dir=/LUSTRE/sacmod/SIPECAM/data\n",
    "for dir_to_be_processed in $(cat $list_of_dirs_to_be_processed)\n",
    "    do\n",
    "    echo \"$dir_to_be_processed\"\n",
    "    move_files_to_standard_directory --directory_with_file_of_serial_number_and_dates \"$dir_to_be_processed\" --path_for_standard_directory \"$path_std_dir\"\n",
    "done\n",
    "IFS=$SAVEIFS"
   ]
  },
  {
   "cell_type": "markdown",
   "id": "6f93259e-e7fe-4353-9ff5-e901015fda12",
   "metadata": {},
   "source": [
    "# Check"
   ]
  },
  {
   "cell_type": "code",
   "execution_count": 3,
   "id": "a40a7c5d-1489-4668-ba52-af47be8e8ef0",
   "metadata": {},
   "outputs": [
    {
     "name": "stdout",
     "output_type": "stream",
     "text": [
      "---------------------------------------------\n",
      "---------------------------------------------\n",
      "Directory: /LUSTRE/sacmod/SIPECAM/cumulo_95/Imagenes/Degradado/CAM_04_RanchoNuevo/101RECNX\n",
      "Number of files: 1055\n",
      "Logs file: /LUSTRE/sacmod/SIPECAM/cumulo_95/Imagenes/Degradado/CAM_04_RanchoNuevo/101RECNX/logs_simex_move_files_to_standard_directory.logs\n",
      "2022-03-17 10:43:15,917 [INFO]  Dir /LUSTRE/sacmod/SIPECAM/cumulo_95/Imagenes/Degradado/CAM_04_RanchoNuevo/101RECNX has serial number HLPXGM09049680\n",
      "2022-03-17 10:43:15,919 [INFO]  File /LUSTRE/sacmod/SIPECAM/cumulo_95/Imagenes/Degradado/CAM_04_RanchoNuevo/101RECNX/RCNX0049.JPG has date 2021-08-29\n",
      "2022-03-17 10:43:15,919 [INFO]  File /LUSTRE/sacmod/SIPECAM/cumulo_95/Imagenes/Degradado/CAM_04_RanchoNuevo/101RECNX/RCNX0351.AVI has date 2021-08-30\n",
      "2022-03-17 10:43:15,919 [INFO]  DaysBetweenFirstAndLastDate: 1\n",
      "2022-03-17 10:43:16,061 [INFO]  Query to Zendro GQL: query {\n",
      "  physical_devices(pagination: {limit: 0}, search: {field: serial_number, value: \"HLPXGM09049680\", operator: like}) {\n",
      "    device_deploymentsFilter(pagination: {limit: 0}, search: {operator: and, search: [{field: date_deployment, value: \"2021-08-29\", valueType: String, operator: gte}, {field: date_deployment, value: \"2021-08-30\", valueType: String, operator: lte}]}) {\n",
      "      node {\n",
      "        nomenclatura\n",
      "        cat_integr\n",
      "        ecosystems {\n",
      "          name\n",
      "        }\n",
      "      }\n",
      "      cumulus {\n",
      "        name\n",
      "      }\n",
      "      date_deployment\n",
      "      latitude\n",
      "      longitude\n",
      "    }\n",
      "  }\n",
      "}\n",
      "2022-03-17 10:43:16,061 [INFO]  last query wasn't successful\n",
      "2022-03-17 10:43:16,191 [INFO]  Query alternative auxiliar to Zendro GQL: query {\n",
      "  physical_devices(pagination: {limit: 0}, search: {field: serial_number, value: \"HLPXGM09049680\", operator: like}) {\n",
      "    device_deploymentsFilter(pagination: {limit: 0}) {\n",
      "      date_deployment\n",
      "    }\n",
      "  }\n",
      "}\n",
      "2022-03-17 10:43:16,194 [INFO]  local variable 'idx_date' referenced before assignment\n",
      "2022-03-17 10:43:16,195 [INFO]  unsuccessful query query {\n",
      "  physical_devices(pagination: {limit: 0}, search: {field: serial_number, value: \"HLPXGM09049680\", operator: like}) {\n",
      "    device_deploymentsFilter(pagination: {limit: 0}) {\n",
      "      date_deployment\n",
      "    }\n",
      "  }\n",
      "} or error when moving files to standard dir\n",
      "---------------------------------------------\n",
      "---------------------------------------------\n"
     ]
    }
   ],
   "source": [
    "%%bash\n",
    "#check every first subdirectory has a JPG, WAV or AVI file\n",
    "SAVEIFS=$IFS;IFS=$(echo -en \"\\n\\b\")\n",
    "for f in $(cat /shared_volume/sipecam_subdirectories_16-03-2022.txt)\n",
    "  do\n",
    "     number_of_sipecam_files=$(ls \"$f\"|grep \"[WAV|wav|JPG|jpg|AVI|avi]$\"|wc -l)\n",
    "     if [ \"$number_of_sipecam_files\" -gt 1 ]; then\n",
    "        logs_file=$(find \"$f\" -maxdepth 1 -name \"*move*\")\n",
    "        if [ -f \"$logs_file\" ]; then\n",
    "            echo \"---------------------------------------------\"\n",
    "            echo \"---------------------------------------------\"\n",
    "            echo \"Directory: $f\"\n",
    "            echo \"Number of files: $number_of_sipecam_files\"\n",
    "            echo \"Logs file: $logs_file\"\n",
    "            cat \"$logs_file\"\n",
    "            echo \"---------------------------------------------\"\n",
    "            echo \"---------------------------------------------\"\n",
    "        fi\n",
    "     fi\n",
    "done\n",
    "IFS=$SAVEIFS"
   ]
  },
  {
   "cell_type": "code",
   "execution_count": null,
   "id": "88a6ef00-16c0-439a-b7ec-3a97c97f747e",
   "metadata": {},
   "outputs": [],
   "source": []
  }
 ],
 "metadata": {
  "kernelspec": {
   "display_name": "Python 3 (ipykernel)",
   "language": "python",
   "name": "python3"
  },
  "language_info": {
   "codemirror_mode": {
    "name": "ipython",
    "version": 3
   },
   "file_extension": ".py",
   "mimetype": "text/x-python",
   "name": "python",
   "nbconvert_exporter": "python",
   "pygments_lexer": "ipython3",
   "version": "3.8.10"
  }
 },
 "nbformat": 4,
 "nbformat_minor": 5
}
