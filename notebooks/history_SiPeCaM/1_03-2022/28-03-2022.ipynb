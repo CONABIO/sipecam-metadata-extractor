{
 "cells": [
  {
   "cell_type": "markdown",
   "id": "44a73e12-cc3c-4546-b1f2-d8e910495f5c",
   "metadata": {},
   "source": [
    "# Delivery: /LUSTRE/sacmod/SIPECAM/cumulo_92/entrega_22.marzo.2022"
   ]
  },
  {
   "cell_type": "markdown",
   "id": "6e8d88fa-0419-4384-b5ed-3e55d43782fc",
   "metadata": {},
   "source": [
    "## List of files to extract metadata\n"
   ]
  },
  {
   "cell_type": "code",
   "execution_count": 1,
   "id": "7423908d-34a4-4b13-8095-914a22d0bd94",
   "metadata": {},
   "outputs": [],
   "source": [
    "%%bash\n",
    "dir_with_sipecam_data=/LUSTRE/sacmod/SIPECAM/cumulo_92/entrega_22.marzo.2022\n",
    "list_of_files_and_subdirectories_to_extract_metadata --input_directory \"$dir_with_sipecam_data\""
   ]
  },
  {
   "cell_type": "markdown",
   "id": "9079379a-777d-442b-bc7a-b9322e907132",
   "metadata": {},
   "source": [
    "## Check"
   ]
  },
  {
   "cell_type": "code",
   "execution_count": 2,
   "id": "e35fb65d-1e82-49d1-8dcd-d7e67f9b742e",
   "metadata": {},
   "outputs": [
    {
     "name": "stdout",
     "output_type": "stream",
     "text": [
      "-rw-r--r-- 1 root root 2.9K Mar 28 17:40 /shared_volume/sipecam_subdirectories_28-03-2022.txt\n"
     ]
    }
   ],
   "source": [
    "%%bash\n",
    "ls -lh /shared_volume/sipecam_subdirectories_28-03-2022.txt"
   ]
  },
  {
   "cell_type": "code",
   "execution_count": 3,
   "id": "d21c32ee-6057-4ee2-84e1-8c9b0cdca7f8",
   "metadata": {},
   "outputs": [
    {
     "name": "stdout",
     "output_type": "stream",
     "text": [
      "-rw-r--r-- 1 root root 2.5M Mar 28 17:40 /shared_volume/sipecam_files_to_extract_metadata_from_28-03-2022.txt\n"
     ]
    }
   ],
   "source": [
    "%%bash\n",
    "ls -lh /shared_volume/sipecam_files_to_extract_metadata_from_28-03-2022.txt"
   ]
  },
  {
   "cell_type": "code",
   "execution_count": 4,
   "id": "b0b15deb-8440-4360-8a01-d9dcd1222894",
   "metadata": {},
   "outputs": [
    {
     "name": "stdout",
     "output_type": "stream",
     "text": [
      "29 /shared_volume/sipecam_subdirectories_28-03-2022.txt\n"
     ]
    }
   ],
   "source": [
    "%%bash\n",
    "wc -l /shared_volume/sipecam_subdirectories_28-03-2022.txt"
   ]
  },
  {
   "cell_type": "code",
   "execution_count": 5,
   "id": "90693461-bef9-44f3-8f73-b5453233acbd",
   "metadata": {},
   "outputs": [
    {
     "name": "stdout",
     "output_type": "stream",
     "text": [
      "22423 /shared_volume/sipecam_files_to_extract_metadata_from_28-03-2022.txt\n"
     ]
    }
   ],
   "source": [
    "%%bash\n",
    "wc -l /shared_volume/sipecam_files_to_extract_metadata_from_28-03-2022.txt"
   ]
  },
  {
   "cell_type": "code",
   "execution_count": 6,
   "id": "1095a8d4-fd99-422f-a141-0f4ed2fbbf20",
   "metadata": {},
   "outputs": [
    {
     "name": "stdout",
     "output_type": "stream",
     "text": [
      "/LUSTRE/sacmod/SIPECAM/cumulo_92/entrega_22.marzo.2022/Mes 4/3_92_1_1335/3_92_1_1335_5/Audible\n",
      "19700101_000006.WAV\n",
      "/LUSTRE/sacmod/SIPECAM/cumulo_92/entrega_22.marzo.2022/Mes 5/3_92_0_1336/3_92_0_1336_2/10306733\n",
      "20211218_180000.WAV\n",
      "20211218_182000.WAV\n",
      "20211218_184000.WAV\n",
      "/LUSTRE/sacmod/SIPECAM/cumulo_92/entrega_22.marzo.2022/Mes 5/3_92_0_1336/3_92_0_1336_1/10307447\n",
      "19700101_000007.WAV\n",
      "19700101_000114.WAV\n",
      "19700101_000117.WAV\n",
      "/LUSTRE/sacmod/SIPECAM/cumulo_92/entrega_22.marzo.2022/Mes 5/3_92_0_1336/3_92_0_1336_3/audios\n",
      "19700101_000009.WAV\n",
      "/LUSTRE/sacmod/SIPECAM/cumulo_92/entrega_22.marzo.2022/Mes 6/3_92_1_1338/3_92_1_1338_1/10306518\n",
      "20220126_100000.WAV\n",
      "20220126_101000.WAV\n",
      "20220126_102000.WAV\n",
      "/LUSTRE/sacmod/SIPECAM/cumulo_92/entrega_22.marzo.2022/Mes 6/3_92_1_1338/3_92_1_1338_2/audios\n",
      "20220126_104000.WAV\n",
      "20220126_105000.WAV\n",
      "20220126_110000.WAV\n",
      "/LUSTRE/sacmod/SIPECAM/cumulo_92/entrega_22.marzo.2022/Mes 6/3_92_0_1339/3_92_0_1339_ 5/10307490\n",
      "20220127_094023.WAV\n",
      "20220127_095000.WAV\n",
      "20220127_100000.WAV\n",
      "/LUSTRE/sacmod/SIPECAM/cumulo_92/entrega_22.marzo.2022/Mes 6/3_92_0_1339/3_92_0_1339_ 5/10261792\n",
      "20220127_180000.WAV\n",
      "20220127_182000.WAV\n",
      "20220127_184000.WAV\n",
      "/LUSTRE/sacmod/SIPECAM/cumulo_92/entrega_22.marzo.2022/Mes 6/3_92_0_1339/3_92_0_1339_ 4/10306733\n",
      "20220127_180000.WAV\n",
      "20220127_182000.WAV\n",
      "20220127_184000.WAV\n",
      "/LUSTRE/sacmod/SIPECAM/cumulo_92/entrega_22.marzo.2022/Mes 6/3_92_0_1339/3_92_0_1339_ 2/10309400\n",
      "20220127_104000.WAV\n",
      "20220127_105000.WAV\n",
      "20220127_110000.WAV\n",
      "/LUSTRE/sacmod/SIPECAM/cumulo_92/entrega_22.marzo.2022/Mes 5/3_92_0_1336/3_92_0_1336_4/HLPXGM09048890\n",
      "RCNX0001.JPG\n",
      "RCNX0002.JPG\n",
      "RCNX0003.AVI\n",
      "/LUSTRE/sacmod/SIPECAM/cumulo_92/entrega_22.marzo.2022/Mes 5/3_92_0_1336/3_92_0_1336_2/HLPXGM09048594\n",
      "RCNX0001.JPG\n",
      "RCNX0002.JPG\n",
      "RCNX0003.AVI\n",
      "/LUSTRE/sacmod/SIPECAM/cumulo_92/entrega_22.marzo.2022/Mes 5/3_92_0_1336/3_92_0_1336_5/HLPXGM09048568\n",
      "RCNX0001.JPG\n",
      "RCNX0002.JPG\n",
      "RCNX0003.AVI\n",
      "/LUSTRE/sacmod/SIPECAM/cumulo_92/entrega_22.marzo.2022/Mes 5/3_92_0_1336/3_92_0_1336_1/HLPXGM09048568\n",
      "RCNX0001.JPG\n",
      "RCNX0002.JPG\n",
      "RCNX0003.AVI\n",
      "/LUSTRE/sacmod/SIPECAM/cumulo_92/entrega_22.marzo.2022/Mes 5/3_92_0_1336/3_92_0_1336_3/HLPXGM09048271\n",
      "RCNX0001.JPG\n",
      "RCNX0002.JPG\n",
      "RCNX0003.AVI\n",
      "/LUSTRE/sacmod/SIPECAM/cumulo_92/entrega_22.marzo.2022/Mes 5/3_92_1_1337/3_92_1_1337_4/HLPXGM09048599\n",
      "RCNX0001.JPG\n",
      "RCNX0002.JPG\n",
      "RCNX0003.AVI\n",
      "/LUSTRE/sacmod/SIPECAM/cumulo_92/entrega_22.marzo.2022/Mes 5/3_92_1_1337/3_92_1_1337_2/HLPXGM09048925\n",
      "RCNX0001.JPG\n",
      "RCNX0002.JPG\n",
      "RCNX0003.AVI\n",
      "/LUSTRE/sacmod/SIPECAM/cumulo_92/entrega_22.marzo.2022/Mes 5/3_92_1_1337/3_92_1_1337_1/HLPXGM09048925\n",
      "RCNX0001.JPG\n",
      "RCNX0002.JPG\n",
      "RCNX0003.AVI\n",
      "/LUSTRE/sacmod/SIPECAM/cumulo_92/entrega_22.marzo.2022/Mes 5/3_92_1_1337/3_92_1_1337_3/HLPXGM09049092\n",
      "RCNX0001.JPG\n",
      "RCNX0002.JPG\n",
      "RCNX0003.AVI\n",
      "/LUSTRE/sacmod/SIPECAM/cumulo_92/entrega_22.marzo.2022/Mes 6/3_92_1_1338/3_92_1_1338_5/HLPXGM09048594\n",
      "RCNX0001.JPG\n",
      "RCNX0002.JPG\n",
      "RCNX0003.AVI\n",
      "/LUSTRE/sacmod/SIPECAM/cumulo_92/entrega_22.marzo.2022/Mes 6/3_92_1_1338/3_92_1_1338_3/HLPXGM09048925\n",
      "RCNX0001.JPG\n",
      "RCNX0002.JPG\n",
      "RCNX0003.AVI\n",
      "/LUSTRE/sacmod/SIPECAM/cumulo_92/entrega_22.marzo.2022/Mes 6/3_92_1_1338/3_92_1_1338_4/HLPXGM09049271\n",
      "RCNX0001.JPG\n",
      "RCNX0002.JPG\n",
      "RCNX0003.AVI\n",
      "/LUSTRE/sacmod/SIPECAM/cumulo_92/entrega_22.marzo.2022/Mes 6/3_92_1_1338/3_92_1_1338_1/HLPXGM09048568/100RECNX\n",
      "RCNX0001.JPG\n",
      "RCNX0002.JPG\n",
      "RCNX0003.AVI\n",
      "/LUSTRE/sacmod/SIPECAM/cumulo_92/entrega_22.marzo.2022/Mes 6/3_92_1_1338/3_92_1_1338_2/HLPXGM09049514\n",
      "RCNX0001.JPG\n",
      "RCNX0002.JPG\n",
      "RCNX0003.AVI\n",
      "/LUSTRE/sacmod/SIPECAM/cumulo_92/entrega_22.marzo.2022/Mes 6/3_92_0_1339/3_92_0_1339_ 5/HLPXGM09049092\n",
      "RCNX0001.JPG\n",
      "RCNX0002.JPG\n",
      "RCNX0003.AVI\n",
      "/LUSTRE/sacmod/SIPECAM/cumulo_92/entrega_22.marzo.2022/Mes 6/3_92_0_1339/3_92_0_1339_ 4/HLPXGM09048890\n",
      "RCNX0001.JPG\n",
      "RCNX0002.JPG\n",
      "RCNX0003.AVI\n",
      "/LUSTRE/sacmod/SIPECAM/cumulo_92/entrega_22.marzo.2022/Mes 6/3_92_0_1339/3_92_0_1339_ 1/HLPXGM09048271\n",
      "RCNX0001.JPG\n",
      "RCNX0002.JPG\n",
      "RCNX0003.AVI\n",
      "/LUSTRE/sacmod/SIPECAM/cumulo_92/entrega_22.marzo.2022/Mes 6/3_92_0_1339/3_92_0_1339_ 3/HLPXGM0904821\n",
      "RCNX0001.JPG\n",
      "RCNX0002.JPG\n",
      "RCNX0003.AVI\n",
      "/LUSTRE/sacmod/SIPECAM/cumulo_92/entrega_22.marzo.2022/Mes 6/3_92_0_1339/3_92_0_1339_ 2/HLPXGM09049314\n",
      "RCNX0001.JPG\n",
      "RCNX0002.JPG\n",
      "RCNX0003.AVI\n"
     ]
    }
   ],
   "source": [
    "%%bash\n",
    "#check every first subdirectory has a JPG, WAV or AVI file\n",
    "SAVEIFS=$IFS;IFS=$(echo -en \"\\n\\b\")\n",
    "for f in $(cat /shared_volume/sipecam_subdirectories_28-03-2022.txt)\n",
    "  do echo \"$f\"\n",
    "     ls \"$f\"|grep \"[WAV|wav|JPG|jpg|AVI|avi]$\"|head -n 3\n",
    "done\n",
    "IFS=$SAVEIFS"
   ]
  },
  {
   "cell_type": "markdown",
   "id": "52874496-c383-472b-b40c-6a32306e50f6",
   "metadata": {},
   "source": [
    "Which directories are of audio?"
   ]
  },
  {
   "cell_type": "code",
   "execution_count": 13,
   "id": "1cfe7201-6d45-49e2-83a0-bb78eb940b7d",
   "metadata": {},
   "outputs": [],
   "source": [
    "%%bash\n",
    "if [ -f ~/list_dirs_with_audios.txt ]; then\n",
    "     rm ~/list_dirs_with_audios.txt\n",
    "fi\n",
    "if [ -f ~/list_dirs_with_audios_auxiliary.txt ]; then\n",
    "     rm ~/list_dirs_with_audios_auxiliary.txt\n",
    "fi\n",
    "SAVEIFS=$IFS;IFS=$(echo -en \"\\n\\b\")\n",
    "for f in $(find /LUSTRE/sacmod/SIPECAM/cumulo_92/entrega_22.marzo.2022/ -name \"*.WAV\")\n",
    "  do\n",
    "     dir_audio=$(dirname $f)\n",
    "     echo \"$dir_audio\" >> ~/list_dirs_with_audios_auxiliary.txt\n",
    "done\n",
    "dirs_audio=$(cat ~/list_dirs_with_audios_auxiliary.txt|uniq)\n",
    "echo \"$dirs_audio\" > ~/list_dirs_with_audios.txt\n",
    "IFS=$SAVEIFS"
   ]
  },
  {
   "cell_type": "code",
   "execution_count": 14,
   "id": "8dc2314c-b31b-429b-b634-ec328bf2f87e",
   "metadata": {},
   "outputs": [
    {
     "name": "stdout",
     "output_type": "stream",
     "text": [
      "/LUSTRE/sacmod/SIPECAM/cumulo_92/entrega_22.marzo.2022/Mes 4/3_92_1_1335/3_92_1_1335_5/Audible\n",
      "/LUSTRE/sacmod/SIPECAM/cumulo_92/entrega_22.marzo.2022/Mes 5/3_92_0_1336/3_92_0_1336_2/10306733\n",
      "/LUSTRE/sacmod/SIPECAM/cumulo_92/entrega_22.marzo.2022/Mes 5/3_92_0_1336/3_92_0_1336_1/10307447\n",
      "/LUSTRE/sacmod/SIPECAM/cumulo_92/entrega_22.marzo.2022/Mes 5/3_92_0_1336/3_92_0_1336_3/audios\n",
      "/LUSTRE/sacmod/SIPECAM/cumulo_92/entrega_22.marzo.2022/Mes 6/3_92_1_1338/3_92_1_1338_1/10306518\n",
      "/LUSTRE/sacmod/SIPECAM/cumulo_92/entrega_22.marzo.2022/Mes 6/3_92_1_1338/3_92_1_1338_2/audios\n",
      "/LUSTRE/sacmod/SIPECAM/cumulo_92/entrega_22.marzo.2022/Mes 6/3_92_0_1339/3_92_0_1339_ 5/10307490\n",
      "/LUSTRE/sacmod/SIPECAM/cumulo_92/entrega_22.marzo.2022/Mes 6/3_92_0_1339/3_92_0_1339_ 5/10261792\n",
      "/LUSTRE/sacmod/SIPECAM/cumulo_92/entrega_22.marzo.2022/Mes 6/3_92_0_1339/3_92_0_1339_ 4/10306733\n",
      "/LUSTRE/sacmod/SIPECAM/cumulo_92/entrega_22.marzo.2022/Mes 6/3_92_0_1339/3_92_0_1339_ 2/10309400\n"
     ]
    }
   ],
   "source": [
    "%%bash\n",
    "cat ~/list_dirs_with_audios.txt"
   ]
  },
  {
   "cell_type": "markdown",
   "id": "b0d08e53-ab5e-49b9-9037-aaa40e178770",
   "metadata": {
    "tags": []
   },
   "source": [
    "# check_if_there_are_audio_empty_files_in_dir_and_move_them"
   ]
  },
  {
   "cell_type": "code",
   "execution_count": 17,
   "id": "4d8cac37-1af5-4591-9e75-a6950576016a",
   "metadata": {},
   "outputs": [
    {
     "name": "stdout",
     "output_type": "stream",
     "text": [
      "/LUSTRE/sacmod/SIPECAM/cumulo_92/entrega_22.marzo.2022/Mes 4/3_92_1_1335/3_92_1_1335_5/Audible\n",
      "/LUSTRE/sacmod/SIPECAM/cumulo_92/entrega_22.marzo.2022/Mes 5/3_92_0_1336/3_92_0_1336_2/10306733\n",
      "/LUSTRE/sacmod/SIPECAM/cumulo_92/entrega_22.marzo.2022/Mes 5/3_92_0_1336/3_92_0_1336_1/10307447\n",
      "/LUSTRE/sacmod/SIPECAM/cumulo_92/entrega_22.marzo.2022/Mes 5/3_92_0_1336/3_92_0_1336_3/audios\n",
      "/LUSTRE/sacmod/SIPECAM/cumulo_92/entrega_22.marzo.2022/Mes 6/3_92_1_1338/3_92_1_1338_1/10306518\n",
      "/LUSTRE/sacmod/SIPECAM/cumulo_92/entrega_22.marzo.2022/Mes 6/3_92_1_1338/3_92_1_1338_2/audios\n",
      "/LUSTRE/sacmod/SIPECAM/cumulo_92/entrega_22.marzo.2022/Mes 6/3_92_0_1339/3_92_0_1339_ 5/10307490\n",
      "/LUSTRE/sacmod/SIPECAM/cumulo_92/entrega_22.marzo.2022/Mes 6/3_92_0_1339/3_92_0_1339_ 5/10261792\n",
      "/LUSTRE/sacmod/SIPECAM/cumulo_92/entrega_22.marzo.2022/Mes 6/3_92_0_1339/3_92_0_1339_ 4/10306733\n",
      "/LUSTRE/sacmod/SIPECAM/cumulo_92/entrega_22.marzo.2022/Mes 6/3_92_0_1339/3_92_0_1339_ 2/10309400\n"
     ]
    }
   ],
   "source": [
    "%%bash\n",
    "SAVEIFS=$IFS;IFS=$(echo -en \"\\n\\b\")\n",
    "for dir_to_be_processed in $(cat ~/list_dirs_with_audios.txt)\n",
    "    do echo \"$dir_to_be_processed\"\n",
    "    check_if_there_are_audio_empty_files_in_dir_and_move_them --input_directory_audio \"$dir_to_be_processed\" --number_of_processes 10\n",
    "done\n",
    "IFS=$SAVEIFS"
   ]
  },
  {
   "cell_type": "code",
   "execution_count": 20,
   "id": "28ba235c-f160-4a7e-a140-2ba9733ce57c",
   "metadata": {},
   "outputs": [
    {
     "name": "stdout",
     "output_type": "stream",
     "text": [
      "/LUSTRE/sacmod/SIPECAM/cumulo_92/entrega_22.marzo.2022/Mes 4/3_92_1_1335/3_92_1_1335_5/Audible\n",
      "1\n",
      "/LUSTRE/sacmod/SIPECAM/cumulo_92/entrega_22.marzo.2022/Mes 5/3_92_0_1336/3_92_0_1336_2/10306733\n",
      "530\n",
      "/LUSTRE/sacmod/SIPECAM/cumulo_92/entrega_22.marzo.2022/Mes 5/3_92_0_1336/3_92_0_1336_1/10307447\n",
      "4\n",
      "/LUSTRE/sacmod/SIPECAM/cumulo_92/entrega_22.marzo.2022/Mes 5/3_92_0_1336/3_92_0_1336_3/audios\n",
      "1\n",
      "/LUSTRE/sacmod/SIPECAM/cumulo_92/entrega_22.marzo.2022/Mes 6/3_92_1_1338/3_92_1_1338_1/10306518\n"
     ]
    },
    {
     "name": "stderr",
     "output_type": "stream",
     "text": [
      "ls: cannot access '/LUSTRE/sacmod/SIPECAM/cumulo_92/entrega_22.marzo.2022/Mes 6/3_92_1_1338/3_92_1_1338_1/10306518/error/': No such file or directory\n"
     ]
    },
    {
     "name": "stdout",
     "output_type": "stream",
     "text": [
      "0\n",
      "/LUSTRE/sacmod/SIPECAM/cumulo_92/entrega_22.marzo.2022/Mes 6/3_92_1_1338/3_92_1_1338_2/audios\n"
     ]
    },
    {
     "name": "stderr",
     "output_type": "stream",
     "text": [
      "ls: cannot access '/LUSTRE/sacmod/SIPECAM/cumulo_92/entrega_22.marzo.2022/Mes 6/3_92_1_1338/3_92_1_1338_2/audios/error/': No such file or directory\n"
     ]
    },
    {
     "name": "stdout",
     "output_type": "stream",
     "text": [
      "0\n",
      "/LUSTRE/sacmod/SIPECAM/cumulo_92/entrega_22.marzo.2022/Mes 6/3_92_0_1339/3_92_0_1339_ 5/10307490\n"
     ]
    },
    {
     "name": "stderr",
     "output_type": "stream",
     "text": [
      "ls: cannot access '/LUSTRE/sacmod/SIPECAM/cumulo_92/entrega_22.marzo.2022/Mes 6/3_92_0_1339/3_92_0_1339_ 5/10307490/error/': No such file or directory\n"
     ]
    },
    {
     "name": "stdout",
     "output_type": "stream",
     "text": [
      "0\n",
      "/LUSTRE/sacmod/SIPECAM/cumulo_92/entrega_22.marzo.2022/Mes 6/3_92_0_1339/3_92_0_1339_ 5/10261792\n"
     ]
    },
    {
     "name": "stderr",
     "output_type": "stream",
     "text": [
      "ls: cannot access '/LUSTRE/sacmod/SIPECAM/cumulo_92/entrega_22.marzo.2022/Mes 6/3_92_0_1339/3_92_0_1339_ 5/10261792/error/': No such file or directory\n"
     ]
    },
    {
     "name": "stdout",
     "output_type": "stream",
     "text": [
      "0\n",
      "/LUSTRE/sacmod/SIPECAM/cumulo_92/entrega_22.marzo.2022/Mes 6/3_92_0_1339/3_92_0_1339_ 4/10306733\n"
     ]
    },
    {
     "name": "stderr",
     "output_type": "stream",
     "text": [
      "ls: cannot access '/LUSTRE/sacmod/SIPECAM/cumulo_92/entrega_22.marzo.2022/Mes 6/3_92_0_1339/3_92_0_1339_ 4/10306733/error/': No such file or directory\n",
      "ls: cannot access '/LUSTRE/sacmod/SIPECAM/cumulo_92/entrega_22.marzo.2022/Mes 6/3_92_0_1339/3_92_0_1339_ 2/10309400/error/': No such file or directory\n"
     ]
    },
    {
     "name": "stdout",
     "output_type": "stream",
     "text": [
      "0\n",
      "/LUSTRE/sacmod/SIPECAM/cumulo_92/entrega_22.marzo.2022/Mes 6/3_92_0_1339/3_92_0_1339_ 2/10309400\n",
      "0\n"
     ]
    }
   ],
   "source": [
    "%%bash\n",
    "SAVEIFS=$IFS;IFS=$(echo -en \"\\n\\b\")\n",
    "for dir_to_be_processed in $(cat ~/list_dirs_with_audios.txt)\n",
    "    do echo \"$dir_to_be_processed\"\n",
    "    ls \"$dir_to_be_processed/error/\" |wc -l\n",
    "done\n",
    "IFS=$SAVEIFS"
   ]
  },
  {
   "cell_type": "markdown",
   "id": "7bee6691-4ab0-4027-9806-f5021cd1c9e1",
   "metadata": {
    "tags": []
   },
   "source": [
    "# Extract serial number, dates and metadata of files and device"
   ]
  },
  {
   "cell_type": "markdown",
   "id": "6c361528-bf5a-49b1-8860-bd31edef268f",
   "metadata": {},
   "source": [
    "Removing from `/shared_volume/sipecam_subdirectories_28-03-2022.txt` dirs `/LUSTRE/sacmod/SIPECAM/cumulo_92/entrega_22.marzo.2022/Mes 4/3_92_1_1335/3_92_1_1335_5/Audible` and `/LUSTRE/sacmod/SIPECAM/cumulo_92/entrega_22.marzo.2022/Mes 5/3_92_0_1336/3_92_0_1336_3/audios` as there were errors and after moving files, dirs left empty"
   ]
  },
  {
   "cell_type": "code",
   "execution_count": 21,
   "id": "1ec6ccc0-ef04-4d29-aef3-1a646fdd4a48",
   "metadata": {},
   "outputs": [
    {
     "name": "stdout",
     "output_type": "stream",
     "text": [
      "/LUSTRE/sacmod/SIPECAM/cumulo_92/entrega_22.marzo.2022/Mes 5/3_92_0_1336/3_92_0_1336_2/10306733\n",
      "/LUSTRE/sacmod/SIPECAM/cumulo_92/entrega_22.marzo.2022/Mes 5/3_92_0_1336/3_92_0_1336_1/10307447\n"
     ]
    },
    {
     "name": "stderr",
     "output_type": "stream",
     "text": [
      "Traceback (most recent call last):\n",
      "  File \"/usr/local/bin/extract_serial_numbers_dates_and_metadata_of_files_and_device\", line 8, in <module>\n",
      "    sys.exit(main())\n",
      "  File \"/usr/local/lib/python3.8/dist-packages/simex/extract_serial_numbers_dates_and_metadata_of_files_and_device.py\", line 222, in main\n",
      "    extract_metadata_of_device_from_files(input_directory,\n",
      "  File \"/usr/local/lib/python3.8/dist-packages/simex/extract_serial_numbers_dates_and_metadata_of_files_and_device.py\", line 121, in extract_metadata_of_device_from_files\n",
      "    f_pathlib = pathlib.Path(filename)\n",
      "UnboundLocalError: local variable 'filename' referenced before assignment\n"
     ]
    },
    {
     "name": "stdout",
     "output_type": "stream",
     "text": [
      "/LUSTRE/sacmod/SIPECAM/cumulo_92/entrega_22.marzo.2022/Mes 6/3_92_1_1338/3_92_1_1338_1/10306518\n",
      "/LUSTRE/sacmod/SIPECAM/cumulo_92/entrega_22.marzo.2022/Mes 6/3_92_1_1338/3_92_1_1338_2/audios\n",
      "/LUSTRE/sacmod/SIPECAM/cumulo_92/entrega_22.marzo.2022/Mes 6/3_92_0_1339/3_92_0_1339_ 5/10307490\n",
      "/LUSTRE/sacmod/SIPECAM/cumulo_92/entrega_22.marzo.2022/Mes 6/3_92_0_1339/3_92_0_1339_ 5/10261792\n",
      "/LUSTRE/sacmod/SIPECAM/cumulo_92/entrega_22.marzo.2022/Mes 6/3_92_0_1339/3_92_0_1339_ 4/10306733\n",
      "/LUSTRE/sacmod/SIPECAM/cumulo_92/entrega_22.marzo.2022/Mes 6/3_92_0_1339/3_92_0_1339_ 2/10309400\n",
      "/LUSTRE/sacmod/SIPECAM/cumulo_92/entrega_22.marzo.2022/Mes 5/3_92_0_1336/3_92_0_1336_4/HLPXGM09048890\n",
      "/LUSTRE/sacmod/SIPECAM/cumulo_92/entrega_22.marzo.2022/Mes 5/3_92_0_1336/3_92_0_1336_2/HLPXGM09048594\n",
      "/LUSTRE/sacmod/SIPECAM/cumulo_92/entrega_22.marzo.2022/Mes 5/3_92_0_1336/3_92_0_1336_5/HLPXGM09048568\n",
      "/LUSTRE/sacmod/SIPECAM/cumulo_92/entrega_22.marzo.2022/Mes 5/3_92_0_1336/3_92_0_1336_1/HLPXGM09048568\n",
      "/LUSTRE/sacmod/SIPECAM/cumulo_92/entrega_22.marzo.2022/Mes 5/3_92_0_1336/3_92_0_1336_3/HLPXGM09048271\n",
      "/LUSTRE/sacmod/SIPECAM/cumulo_92/entrega_22.marzo.2022/Mes 5/3_92_1_1337/3_92_1_1337_4/HLPXGM09048599\n",
      "/LUSTRE/sacmod/SIPECAM/cumulo_92/entrega_22.marzo.2022/Mes 5/3_92_1_1337/3_92_1_1337_2/HLPXGM09048925\n",
      "/LUSTRE/sacmod/SIPECAM/cumulo_92/entrega_22.marzo.2022/Mes 5/3_92_1_1337/3_92_1_1337_1/HLPXGM09048925\n",
      "/LUSTRE/sacmod/SIPECAM/cumulo_92/entrega_22.marzo.2022/Mes 5/3_92_1_1337/3_92_1_1337_3/HLPXGM09049092\n",
      "/LUSTRE/sacmod/SIPECAM/cumulo_92/entrega_22.marzo.2022/Mes 6/3_92_1_1338/3_92_1_1338_5/HLPXGM09048594\n",
      "/LUSTRE/sacmod/SIPECAM/cumulo_92/entrega_22.marzo.2022/Mes 6/3_92_1_1338/3_92_1_1338_3/HLPXGM09048925\n",
      "/LUSTRE/sacmod/SIPECAM/cumulo_92/entrega_22.marzo.2022/Mes 6/3_92_1_1338/3_92_1_1338_4/HLPXGM09049271\n",
      "/LUSTRE/sacmod/SIPECAM/cumulo_92/entrega_22.marzo.2022/Mes 6/3_92_1_1338/3_92_1_1338_1/HLPXGM09048568/100RECNX\n",
      "/LUSTRE/sacmod/SIPECAM/cumulo_92/entrega_22.marzo.2022/Mes 6/3_92_1_1338/3_92_1_1338_2/HLPXGM09049514\n",
      "/LUSTRE/sacmod/SIPECAM/cumulo_92/entrega_22.marzo.2022/Mes 6/3_92_0_1339/3_92_0_1339_ 5/HLPXGM09049092\n",
      "/LUSTRE/sacmod/SIPECAM/cumulo_92/entrega_22.marzo.2022/Mes 6/3_92_0_1339/3_92_0_1339_ 4/HLPXGM09048890\n",
      "/LUSTRE/sacmod/SIPECAM/cumulo_92/entrega_22.marzo.2022/Mes 6/3_92_0_1339/3_92_0_1339_ 1/HLPXGM09048271\n",
      "/LUSTRE/sacmod/SIPECAM/cumulo_92/entrega_22.marzo.2022/Mes 6/3_92_0_1339/3_92_0_1339_ 3/HLPXGM0904821\n",
      "/LUSTRE/sacmod/SIPECAM/cumulo_92/entrega_22.marzo.2022/Mes 6/3_92_0_1339/3_92_0_1339_ 2/HLPXGM09049314\n"
     ]
    }
   ],
   "source": [
    "%%bash\n",
    "list_of_dirs_to_be_processed=/shared_volume/sipecam_subdirectories_28-03-2022.txt\n",
    "SAVEIFS=$IFS;IFS=$(echo -en \"\\n\\b\")\n",
    "for dir_to_be_processed in $(cat $list_of_dirs_to_be_processed)\n",
    "    do\n",
    "    echo \"$dir_to_be_processed\"\n",
    "    extract_serial_numbers_dates_and_metadata_of_files_and_device --input_dir \"$dir_to_be_processed\" --parallel --number_of_processes 10\n",
    "done\n",
    "IFS=$SAVEIFS"
   ]
  },
  {
   "cell_type": "markdown",
   "id": "4663bcbc-8a09-4a97-b964-3db425e9137f",
   "metadata": {},
   "source": [
    "Removing `/LUSTRE/sacmod/SIPECAM/cumulo_92/entrega_22.marzo.2022/Mes 5/3_92_0_1336/3_92_0_1336_1/10307447` from `/shared_volume/sipecam_subdirectories_28-03-2022.txt` as there were errors and after moving files, dir left empty"
   ]
  },
  {
   "cell_type": "markdown",
   "id": "30eefadf-509c-468e-bf82-b8d902bdc987",
   "metadata": {
    "tags": []
   },
   "source": [
    "# Move files to standard directory"
   ]
  },
  {
   "cell_type": "code",
   "execution_count": null,
   "id": "877639e3-4690-4282-b82a-dc357370686a",
   "metadata": {},
   "outputs": [],
   "source": [
    "%%bash\n",
    "echo \"SIPECAM_ZENDRO_GQL_URL=https://gql.sipecamdata.conabio.gob.mx/\" > ~/.simex_env\n",
    "echo \"SIPECAM_ZENDRO_GQL_USER=<user>\" >> ~/.simex_env\n",
    "echo \"SIPECAM_ZENDRO_GQL_PASSWORD=<password>\" >> ~/.simex_env\n"
   ]
  },
  {
   "cell_type": "code",
   "execution_count": 23,
   "id": "eeab7a95-e241-4138-a959-034101869450",
   "metadata": {},
   "outputs": [
    {
     "name": "stdout",
     "output_type": "stream",
     "text": [
      "/LUSTRE/sacmod/SIPECAM/cumulo_92/entrega_22.marzo.2022/Mes 5/3_92_0_1336/3_92_0_1336_2/10306733\n",
      "/LUSTRE/sacmod/SIPECAM/cumulo_92/entrega_22.marzo.2022/Mes 6/3_92_1_1338/3_92_1_1338_1/10306518\n",
      "/LUSTRE/sacmod/SIPECAM/cumulo_92/entrega_22.marzo.2022/Mes 6/3_92_1_1338/3_92_1_1338_2/audios\n",
      "/LUSTRE/sacmod/SIPECAM/cumulo_92/entrega_22.marzo.2022/Mes 6/3_92_0_1339/3_92_0_1339_ 5/10307490\n",
      "/LUSTRE/sacmod/SIPECAM/cumulo_92/entrega_22.marzo.2022/Mes 6/3_92_0_1339/3_92_0_1339_ 5/10261792\n",
      "/LUSTRE/sacmod/SIPECAM/cumulo_92/entrega_22.marzo.2022/Mes 6/3_92_0_1339/3_92_0_1339_ 4/10306733\n",
      "/LUSTRE/sacmod/SIPECAM/cumulo_92/entrega_22.marzo.2022/Mes 6/3_92_0_1339/3_92_0_1339_ 2/10309400\n",
      "/LUSTRE/sacmod/SIPECAM/cumulo_92/entrega_22.marzo.2022/Mes 5/3_92_0_1336/3_92_0_1336_4/HLPXGM09048890\n",
      "/LUSTRE/sacmod/SIPECAM/cumulo_92/entrega_22.marzo.2022/Mes 5/3_92_0_1336/3_92_0_1336_2/HLPXGM09048594\n",
      "/LUSTRE/sacmod/SIPECAM/cumulo_92/entrega_22.marzo.2022/Mes 5/3_92_0_1336/3_92_0_1336_5/HLPXGM09048568\n",
      "/LUSTRE/sacmod/SIPECAM/cumulo_92/entrega_22.marzo.2022/Mes 5/3_92_0_1336/3_92_0_1336_1/HLPXGM09048568\n",
      "/LUSTRE/sacmod/SIPECAM/cumulo_92/entrega_22.marzo.2022/Mes 5/3_92_0_1336/3_92_0_1336_3/HLPXGM09048271\n",
      "/LUSTRE/sacmod/SIPECAM/cumulo_92/entrega_22.marzo.2022/Mes 5/3_92_1_1337/3_92_1_1337_4/HLPXGM09048599\n",
      "/LUSTRE/sacmod/SIPECAM/cumulo_92/entrega_22.marzo.2022/Mes 5/3_92_1_1337/3_92_1_1337_2/HLPXGM09048925\n",
      "/LUSTRE/sacmod/SIPECAM/cumulo_92/entrega_22.marzo.2022/Mes 5/3_92_1_1337/3_92_1_1337_1/HLPXGM09048925\n",
      "/LUSTRE/sacmod/SIPECAM/cumulo_92/entrega_22.marzo.2022/Mes 5/3_92_1_1337/3_92_1_1337_3/HLPXGM09049092\n",
      "/LUSTRE/sacmod/SIPECAM/cumulo_92/entrega_22.marzo.2022/Mes 6/3_92_1_1338/3_92_1_1338_5/HLPXGM09048594\n",
      "/LUSTRE/sacmod/SIPECAM/cumulo_92/entrega_22.marzo.2022/Mes 6/3_92_1_1338/3_92_1_1338_3/HLPXGM09048925\n",
      "/LUSTRE/sacmod/SIPECAM/cumulo_92/entrega_22.marzo.2022/Mes 6/3_92_1_1338/3_92_1_1338_4/HLPXGM09049271\n",
      "/LUSTRE/sacmod/SIPECAM/cumulo_92/entrega_22.marzo.2022/Mes 6/3_92_1_1338/3_92_1_1338_1/HLPXGM09048568/100RECNX\n",
      "/LUSTRE/sacmod/SIPECAM/cumulo_92/entrega_22.marzo.2022/Mes 6/3_92_1_1338/3_92_1_1338_2/HLPXGM09049514\n",
      "/LUSTRE/sacmod/SIPECAM/cumulo_92/entrega_22.marzo.2022/Mes 6/3_92_0_1339/3_92_0_1339_ 5/HLPXGM09049092\n",
      "/LUSTRE/sacmod/SIPECAM/cumulo_92/entrega_22.marzo.2022/Mes 6/3_92_0_1339/3_92_0_1339_ 4/HLPXGM09048890\n",
      "/LUSTRE/sacmod/SIPECAM/cumulo_92/entrega_22.marzo.2022/Mes 6/3_92_0_1339/3_92_0_1339_ 1/HLPXGM09048271\n",
      "/LUSTRE/sacmod/SIPECAM/cumulo_92/entrega_22.marzo.2022/Mes 6/3_92_0_1339/3_92_0_1339_ 3/HLPXGM0904821\n",
      "/LUSTRE/sacmod/SIPECAM/cumulo_92/entrega_22.marzo.2022/Mes 6/3_92_0_1339/3_92_0_1339_ 2/HLPXGM09049314\n"
     ]
    }
   ],
   "source": [
    "%%bash\n",
    "list_of_dirs_to_be_processed=/shared_volume/sipecam_subdirectories_28-03-2022.txt\n",
    "SAVEIFS=$IFS;IFS=$(echo -en \"\\n\\b\")\n",
    "path_std_dir=/LUSTRE/sacmod/SIPECAM/data\n",
    "for dir_to_be_processed in $(cat $list_of_dirs_to_be_processed)\n",
    "    do\n",
    "    echo \"$dir_to_be_processed\"\n",
    "    move_files_to_standard_directory --directory_with_file_of_serial_number_and_dates \"$dir_to_be_processed\" --path_for_standard_directory \"$path_std_dir\"\n",
    "done\n",
    "IFS=$SAVEIFS"
   ]
  },
  {
   "cell_type": "markdown",
   "id": "2c86710b-4a16-48dd-9f66-dbb3ec7da8a3",
   "metadata": {},
   "source": [
    "# Check"
   ]
  },
  {
   "cell_type": "code",
   "execution_count": 24,
   "id": "d910b81b-3fbc-49ec-b8b1-656b098a724d",
   "metadata": {},
   "outputs": [
    {
     "name": "stdout",
     "output_type": "stream",
     "text": [
      "---------------------------------------------\n",
      "---------------------------------------------\n",
      "Directory: /LUSTRE/sacmod/SIPECAM/cumulo_92/entrega_22.marzo.2022/Mes 5/3_92_0_1336/3_92_0_1336_5/HLPXGM09048568\n",
      "Number of files: 14\n",
      "Logs file: /LUSTRE/sacmod/SIPECAM/cumulo_92/entrega_22.marzo.2022/Mes 5/3_92_0_1336/3_92_0_1336_5/HLPXGM09048568/logs_simex_move_files_to_standard_directory.logs\n",
      "2022-03-28 20:24:08,463 [INFO]  Dir /LUSTRE/sacmod/SIPECAM/cumulo_92/entrega_22.marzo.2022/Mes 5/3_92_0_1336/3_92_0_1336_5/HLPXGM09048568 has serial number HLPXGM09049514\n",
      "2022-03-28 20:24:08,464 [INFO]  File /LUSTRE/sacmod/SIPECAM/cumulo_92/entrega_22.marzo.2022/Mes 5/3_92_0_1336/3_92_0_1336_5/HLPXGM09048568/RCNX0002.JPG has date 2022-01-05\n",
      "2022-03-28 20:24:08,464 [INFO]  File /LUSTRE/sacmod/SIPECAM/cumulo_92/entrega_22.marzo.2022/Mes 5/3_92_0_1336/3_92_0_1336_5/HLPXGM09048568/RCNX0014.JPG has date 2022-01-19\n",
      "2022-03-28 20:24:08,464 [INFO]  DaysBetweenFirstAndLastDate: 14\n",
      "2022-03-28 20:24:08,602 [INFO]  Query to Zendro GQL: query {\n",
      "  physical_devices(pagination: {limit: 0}, search: {field: serial_number, value: \"HLPXGM09049514\", operator: like}) {\n",
      "    device_deploymentsFilter(pagination: {limit: 0}, search: {operator: and, search: [{field: date_deployment, value: \"2022-01-05\", valueType: String, operator: gte}, {field: date_deployment, value: \"2022-01-19\", valueType: String, operator: lte}]}) {\n",
      "      node {\n",
      "        nomenclatura\n",
      "        cat_integr\n",
      "        ecosystems {\n",
      "          name\n",
      "        }\n",
      "      }\n",
      "      cumulus {\n",
      "        name\n",
      "      }\n",
      "      date_deployment\n",
      "      latitude\n",
      "      longitude\n",
      "    }\n",
      "  }\n",
      "}\n",
      "2022-03-28 20:24:08,602 [INFO]  last query wasn't successful\n",
      "2022-03-28 20:24:08,729 [INFO]  Query alternative auxiliar to Zendro GQL: query {\n",
      "  physical_devices(pagination: {limit: 0}, search: {field: serial_number, value: \"HLPXGM09049514\", operator: like}) {\n",
      "    device_deploymentsFilter(pagination: {limit: 0}) {\n",
      "      date_deployment\n",
      "    }\n",
      "  }\n",
      "}\n",
      "2022-03-28 20:24:08,732 [INFO]  local variable 'idx_date' referenced before assignment\n",
      "2022-03-28 20:24:08,733 [INFO]  unsuccessful query query {\n",
      "  physical_devices(pagination: {limit: 0}, search: {field: serial_number, value: \"HLPXGM09049514\", operator: like}) {\n",
      "    device_deploymentsFilter(pagination: {limit: 0}) {\n",
      "      date_deployment\n",
      "    }\n",
      "  }\n",
      "} or error when moving files to standard dir\n",
      "---------------------------------------------\n",
      "---------------------------------------------\n",
      "---------------------------------------------\n",
      "---------------------------------------------\n",
      "Directory: /LUSTRE/sacmod/SIPECAM/cumulo_92/entrega_22.marzo.2022/Mes 6/3_92_1_1338/3_92_1_1338_4/HLPXGM09049271\n",
      "Number of files: 8\n",
      "Logs file: /LUSTRE/sacmod/SIPECAM/cumulo_92/entrega_22.marzo.2022/Mes 6/3_92_1_1338/3_92_1_1338_4/HLPXGM09049271/logs_simex_move_files_to_standard_directory.logs\n",
      "2022-03-28 20:24:34,092 [INFO]  Dir /LUSTRE/sacmod/SIPECAM/cumulo_92/entrega_22.marzo.2022/Mes 6/3_92_1_1338/3_92_1_1338_4/HLPXGM09049271 has serial number HLPXGM09049271\n",
      "2022-03-28 20:24:34,093 [INFO]  File /LUSTRE/sacmod/SIPECAM/cumulo_92/entrega_22.marzo.2022/Mes 6/3_92_1_1338/3_92_1_1338_4/HLPXGM09049271/RCNX0004.JPG has date 2022-02-10\n",
      "2022-03-28 20:24:34,093 [INFO]  File /LUSTRE/sacmod/SIPECAM/cumulo_92/entrega_22.marzo.2022/Mes 6/3_92_1_1338/3_92_1_1338_4/HLPXGM09049271/RCNX0007.JPG has date 2022-02-27\n",
      "2022-03-28 20:24:34,093 [INFO]  DaysBetweenFirstAndLastDate: 17\n",
      "2022-03-28 20:24:34,235 [INFO]  Query to Zendro GQL: query {\n",
      "  physical_devices(pagination: {limit: 0}, search: {field: serial_number, value: \"HLPXGM09049271\", operator: like}) {\n",
      "    device_deploymentsFilter(pagination: {limit: 0}, search: {operator: and, search: [{field: date_deployment, value: \"2022-02-10\", valueType: String, operator: gte}, {field: date_deployment, value: \"2022-02-27\", valueType: String, operator: lte}]}) {\n",
      "      node {\n",
      "        nomenclatura\n",
      "        cat_integr\n",
      "        ecosystems {\n",
      "          name\n",
      "        }\n",
      "      }\n",
      "      cumulus {\n",
      "        name\n",
      "      }\n",
      "      date_deployment\n",
      "      latitude\n",
      "      longitude\n",
      "    }\n",
      "  }\n",
      "}\n",
      "2022-03-28 20:24:34,235 [INFO]  last query wasn't successful\n",
      "2022-03-28 20:24:34,361 [INFO]  Query alternative auxiliar to Zendro GQL: query {\n",
      "  physical_devices(pagination: {limit: 0}, search: {field: serial_number, value: \"HLPXGM09049271\", operator: like}) {\n",
      "    device_deploymentsFilter(pagination: {limit: 0}) {\n",
      "      date_deployment\n",
      "    }\n",
      "  }\n",
      "}\n",
      "2022-03-28 20:24:34,364 [INFO]  local variable 'idx_date' referenced before assignment\n",
      "2022-03-28 20:24:34,364 [INFO]  unsuccessful query query {\n",
      "  physical_devices(pagination: {limit: 0}, search: {field: serial_number, value: \"HLPXGM09049271\", operator: like}) {\n",
      "    device_deploymentsFilter(pagination: {limit: 0}) {\n",
      "      date_deployment\n",
      "    }\n",
      "  }\n",
      "} or error when moving files to standard dir\n",
      "---------------------------------------------\n",
      "---------------------------------------------\n",
      "---------------------------------------------\n",
      "---------------------------------------------\n",
      "Directory: /LUSTRE/sacmod/SIPECAM/cumulo_92/entrega_22.marzo.2022/Mes 6/3_92_0_1339/3_92_0_1339_ 4/HLPXGM09048890\n",
      "Number of files: 63\n",
      "Logs file: /LUSTRE/sacmod/SIPECAM/cumulo_92/entrega_22.marzo.2022/Mes 6/3_92_0_1339/3_92_0_1339_ 4/HLPXGM09048890/logs_simex_move_files_to_standard_directory.logs\n",
      "2022-03-28 20:24:41,219 [INFO]  Dir /LUSTRE/sacmod/SIPECAM/cumulo_92/entrega_22.marzo.2022/Mes 6/3_92_0_1339/3_92_0_1339_ 4/HLPXGM09048890 has serial number HLPXGM09048890\n",
      "2022-03-28 20:24:41,220 [INFO]  File /LUSTRE/sacmod/SIPECAM/cumulo_92/entrega_22.marzo.2022/Mes 6/3_92_0_1339/3_92_0_1339_ 4/HLPXGM09048890/RCNX0004.JPG has date 2022-01-27\n",
      "2022-03-28 20:24:41,220 [INFO]  File /LUSTRE/sacmod/SIPECAM/cumulo_92/entrega_22.marzo.2022/Mes 6/3_92_0_1339/3_92_0_1339_ 4/HLPXGM09048890/RCNX0057.AVI has date 2022-03-01\n",
      "2022-03-28 20:24:41,220 [INFO]  DaysBetweenFirstAndLastDate: 33\n",
      "2022-03-28 20:24:41,363 [INFO]  Query to Zendro GQL: query {\n",
      "  physical_devices(pagination: {limit: 0}, search: {field: serial_number, value: \"HLPXGM09048890\", operator: like}) {\n",
      "    device_deploymentsFilter(pagination: {limit: 0}, search: {operator: and, search: [{field: date_deployment, value: \"2022-01-27\", valueType: String, operator: gte}, {field: date_deployment, value: \"2022-03-01\", valueType: String, operator: lte}]}) {\n",
      "      node {\n",
      "        nomenclatura\n",
      "        cat_integr\n",
      "        ecosystems {\n",
      "          name\n",
      "        }\n",
      "      }\n",
      "      cumulus {\n",
      "        name\n",
      "      }\n",
      "      date_deployment\n",
      "      latitude\n",
      "      longitude\n",
      "    }\n",
      "  }\n",
      "}\n",
      "2022-03-28 20:24:41,364 [INFO]  There's no unique date of deployment and can not select one date to create standard directory\n",
      "---------------------------------------------\n",
      "---------------------------------------------\n",
      "---------------------------------------------\n",
      "---------------------------------------------\n",
      "Directory: /LUSTRE/sacmod/SIPECAM/cumulo_92/entrega_22.marzo.2022/Mes 6/3_92_0_1339/3_92_0_1339_ 2/HLPXGM09049314\n",
      "Number of files: 17\n",
      "Logs file: /LUSTRE/sacmod/SIPECAM/cumulo_92/entrega_22.marzo.2022/Mes 6/3_92_0_1339/3_92_0_1339_ 2/HLPXGM09049314/logs_simex_move_files_to_standard_directory.logs\n",
      "2022-03-28 20:24:43,733 [INFO]  Dir /LUSTRE/sacmod/SIPECAM/cumulo_92/entrega_22.marzo.2022/Mes 6/3_92_0_1339/3_92_0_1339_ 2/HLPXGM09049314 has serial number HLPXGM09049314\n",
      "2022-03-28 20:24:43,734 [INFO]  File /LUSTRE/sacmod/SIPECAM/cumulo_92/entrega_22.marzo.2022/Mes 6/3_92_0_1339/3_92_0_1339_ 2/HLPXGM09049314/RCNX0002.JPG has date 2022-01-26\n",
      "2022-03-28 20:24:43,734 [INFO]  File /LUSTRE/sacmod/SIPECAM/cumulo_92/entrega_22.marzo.2022/Mes 6/3_92_0_1339/3_92_0_1339_ 2/HLPXGM09049314/RCNX0015.AVI has date 2022-02-26\n",
      "2022-03-28 20:24:43,734 [INFO]  DaysBetweenFirstAndLastDate: 31\n",
      "2022-03-28 20:24:43,877 [INFO]  Query to Zendro GQL: query {\n",
      "  physical_devices(pagination: {limit: 0}, search: {field: serial_number, value: \"HLPXGM09049314\", operator: like}) {\n",
      "    device_deploymentsFilter(pagination: {limit: 0}, search: {operator: and, search: [{field: date_deployment, value: \"2022-01-26\", valueType: String, operator: gte}, {field: date_deployment, value: \"2022-02-26\", valueType: String, operator: lte}]}) {\n",
      "      node {\n",
      "        nomenclatura\n",
      "        cat_integr\n",
      "        ecosystems {\n",
      "          name\n",
      "        }\n",
      "      }\n",
      "      cumulus {\n",
      "        name\n",
      "      }\n",
      "      date_deployment\n",
      "      latitude\n",
      "      longitude\n",
      "    }\n",
      "  }\n",
      "}\n",
      "2022-03-28 20:24:43,877 [INFO]  last query wasn't successful\n",
      "2022-03-28 20:24:44,003 [INFO]  Query alternative auxiliar to Zendro GQL: query {\n",
      "  physical_devices(pagination: {limit: 0}, search: {field: serial_number, value: \"HLPXGM09049314\", operator: like}) {\n",
      "    device_deploymentsFilter(pagination: {limit: 0}) {\n",
      "      date_deployment\n",
      "    }\n",
      "  }\n",
      "}\n",
      "2022-03-28 20:24:44,006 [INFO]  local variable 'idx_date' referenced before assignment\n",
      "2022-03-28 20:24:44,007 [INFO]  unsuccessful query query {\n",
      "  physical_devices(pagination: {limit: 0}, search: {field: serial_number, value: \"HLPXGM09049314\", operator: like}) {\n",
      "    device_deploymentsFilter(pagination: {limit: 0}) {\n",
      "      date_deployment\n",
      "    }\n",
      "  }\n",
      "} or error when moving files to standard dir\n",
      "---------------------------------------------\n",
      "---------------------------------------------\n"
     ]
    }
   ],
   "source": [
    "%%bash\n",
    "#check every first subdirectory has a JPG, WAV or AVI file\n",
    "SAVEIFS=$IFS;IFS=$(echo -en \"\\n\\b\")\n",
    "for f in $(cat /shared_volume/sipecam_subdirectories_28-03-2022.txt)\n",
    "  do\n",
    "     number_of_sipecam_files=$(ls \"$f\"|grep \"[WAV|wav|JPG|jpg|AVI|avi]$\"|wc -l)\n",
    "     if [ \"$number_of_sipecam_files\" -gt 1 ]; then\n",
    "        logs_file=$(find \"$f\" -maxdepth 1 -name \"*move*\")\n",
    "        if [ -f \"$logs_file\" ]; then\n",
    "            echo \"---------------------------------------------\"\n",
    "            echo \"---------------------------------------------\"\n",
    "            echo \"Directory: $f\"\n",
    "            echo \"Number of files: $number_of_sipecam_files\"\n",
    "            echo \"Logs file: $logs_file\"\n",
    "            cat \"$logs_file\"\n",
    "            echo \"---------------------------------------------\"\n",
    "            echo \"---------------------------------------------\"\n",
    "        fi\n",
    "     fi\n",
    "done\n",
    "IFS=$SAVEIFS"
   ]
  },
  {
   "cell_type": "code",
   "execution_count": null,
   "id": "5c733b4a-5a11-4328-9719-b354a67b4e6e",
   "metadata": {},
   "outputs": [],
   "source": []
  }
 ],
 "metadata": {
  "kernelspec": {
   "display_name": "Python 3 (ipykernel)",
   "language": "python",
   "name": "python3"
  },
  "language_info": {
   "codemirror_mode": {
    "name": "ipython",
    "version": 3
   },
   "file_extension": ".py",
   "mimetype": "text/x-python",
   "name": "python",
   "nbconvert_exporter": "python",
   "pygments_lexer": "ipython3",
   "version": "3.8.10"
  }
 },
 "nbformat": 4,
 "nbformat_minor": 5
}
