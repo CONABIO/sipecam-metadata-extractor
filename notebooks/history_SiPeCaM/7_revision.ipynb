{
 "cells": [
  {
   "cell_type": "markdown",
   "id": "2ef17caa-d561-489c-84e3-32de266ce1b8",
   "metadata": {},
   "source": [
    "# Revision of [15-07-2022](https://github.com/CONABIO/sipecam-metadata-extractor/blob/develop/notebooks/history_SiPeCaM/4_07-2022/15-07-2022.ipynb)"
   ]
  },
  {
   "cell_type": "markdown",
   "id": "429ac8fb-3bdf-4b1a-ad30-3818aabf35ec",
   "metadata": {},
   "source": [
    "# 1)"
   ]
  },
  {
   "cell_type": "markdown",
   "id": "1fb4fcb1-9aa5-4ec1-92e8-2cbb8bb5a17e",
   "metadata": {},
   "source": [
    "`/LUSTRE/sacmod/SIPECAM/Cumulo_96/entrega_23.mayo.2022/10_2021/ultrasonico/1_96_0_1559_C4`"
   ]
  },
  {
   "cell_type": "markdown",
   "id": "34ff3ff6-e806-483f-8f56-5d50822da0b8",
   "metadata": {},
   "source": [
    "**No hay formularios asociados**"
   ]
  },
  {
   "cell_type": "markdown",
   "id": "a497e0d9-ca18-4b49-af54-4d9cc152ef23",
   "metadata": {},
   "source": [
    "```\n",
    "query {\n",
    "  physical_devices(pagination: {limit: 0}, search: {field: comments, value: \"ADM2401010753E1BE08\", operator: like}) {\n",
    "    device_deploymentsFilter(pagination: {limit: 0}) {\n",
    "      date_deployment\n",
    "    }\n",
    "  }\n",
    "}\n",
    "```\n",
    "\n",
    "```\n",
    "{\n",
    "  \"data\": {\n",
    "    \"physical_devices\": []\n",
    "  }\n",
    "}\n",
    "```"
   ]
  },
  {
   "cell_type": "markdown",
   "id": "ce7b538b-8095-4f5a-87a7-ff3d3d5c99f1",
   "metadata": {},
   "source": [
    "# 2)"
   ]
  },
  {
   "cell_type": "markdown",
   "id": "7de3b7f5-ab8f-4a40-97cc-ca78d75753e8",
   "metadata": {},
   "source": [
    "`/LUSTRE/sacmod/SIPECAM/Cumulo_96/entrega_23.mayo.2022/10_2021/ultrasonico/1_96_0_1559_C2`"
   ]
  },
  {
   "cell_type": "markdown",
   "id": "c560c31c-9f29-47a0-ad02-d491ca57e277",
   "metadata": {},
   "source": [
    "**No hay formularios asociados**"
   ]
  },
  {
   "cell_type": "markdown",
   "id": "d12a3e22-824b-452f-a77c-aa7d2cc43995",
   "metadata": {},
   "source": [
    "```\n",
    "query {\n",
    "  physical_devices(pagination: {limit: 0}, search: {field: comments, value: \"ADM248C7D075B1F7A97\", operator: like}) {\n",
    "    device_deploymentsFilter(pagination: {limit: 0}) {\n",
    "      date_deployment\n",
    "    }\n",
    "  }\n",
    "}\n",
    "```\n",
    "\n",
    "```\n",
    "{\n",
    "  \"data\": {\n",
    "    \"physical_devices\": []\n",
    "  }\n",
    "}\n",
    "```"
   ]
  },
  {
   "cell_type": "markdown",
   "id": "56b56eea-6be6-4e65-b207-053ae7a92ecb",
   "metadata": {},
   "source": [
    "# 3)"
   ]
  },
  {
   "cell_type": "markdown",
   "id": "667426bf-3318-4baf-974b-dc3464a78843",
   "metadata": {},
   "source": [
    "`/LUSTRE/sacmod/SIPECAM/Cumulo_96/entrega_23.mayo.2022/10_2021/audible/1_96_0_1559_C4`"
   ]
  },
  {
   "cell_type": "markdown",
   "id": "9357ac1a-1c06-4252-8f45-49cfa93d1170",
   "metadata": {},
   "source": [
    "**No hay formularios asociados**"
   ]
  },
  {
   "cell_type": "markdown",
   "id": "9b3295ca-b958-49da-87bc-444c07d27e27",
   "metadata": {},
   "source": [
    "```\n",
    "query {\n",
    "  physical_devices(pagination: {limit: 0}, search: {field: comments, value: \"ADM248D9B045EC9F3E8\", operator: like}) {\n",
    "    device_deploymentsFilter(pagination: {limit: 0}) {\n",
    "      date_deployment\n",
    "    }\n",
    "  }\n",
    "}\n",
    "```\n",
    "\n",
    "```\n",
    "{\n",
    "  \"data\": {\n",
    "    \"physical_devices\": []\n",
    "  }\n",
    "}\n",
    "```"
   ]
  },
  {
   "cell_type": "markdown",
   "id": "e003e3d7-67ac-4c8e-ae2a-560aa07db6a2",
   "metadata": {},
   "source": [
    "# 4)"
   ]
  },
  {
   "cell_type": "markdown",
   "id": "b6938cb2-2e36-484b-97cb-1aaaa8ea57d5",
   "metadata": {},
   "source": [
    "`/LUSTRE/sacmod/SIPECAM/Cumulo_96/entrega_23.mayo.2022/10_2021/audible/C2_Chipinque/1_96_0_1559_02`"
   ]
  },
  {
   "cell_type": "markdown",
   "id": "ed2c6f3b-1c27-46c1-8ecb-808884327aa5",
   "metadata": {},
   "source": [
    "Inicio:\n",
    "\n",
    "2021-10-14\n",
    "\n",
    "Fin:\n",
    "\n",
    "2021-11-16"
   ]
  },
  {
   "cell_type": "markdown",
   "id": "4e5e9819-c4a1-4864-bee5-c6b371e4c84c",
   "metadata": {},
   "source": [
    "```\n",
    " query {\n",
    "  physical_devices(pagination: {limit: 0}, search: {field: comments, value: \"ADM24E144055DAEB615\", operator: like}) {\n",
    "    device_deploymentsFilter(pagination: {limit: 0}) {\n",
    "      date_deployment\n",
    "    }\n",
    "  }\n",
    "}\n",
    "```\n",
    "\n",
    "```\n",
    "{\n",
    "  \"data\": {\n",
    "    \"physical_devices\": [\n",
    "      {\n",
    "        \"device_deploymentsFilter\": [\n",
    "          {\n",
    "            \"date_deployment\": \"2021-12-21T18:45:00.000Z\"\n",
    "          }\n",
    "        ]\n",
    "      }\n",
    "    ]\n",
    "  }\n",
    "}\n",
    "```"
   ]
  },
  {
   "cell_type": "markdown",
   "id": "de231fc0-4c45-467a-a047-efdf1f957ce2",
   "metadata": {},
   "source": [
    "**Las fechas de toma de archivo no caen con la del despliegue de dispositivo**"
   ]
  },
  {
   "cell_type": "markdown",
   "id": "42cc4abf-b51e-4fef-96e0-a3a2388bb45d",
   "metadata": {},
   "source": [
    "# 5)"
   ]
  },
  {
   "cell_type": "markdown",
   "id": "a6231ca3-d228-4e5e-8035-ed1f1ad56958",
   "metadata": {},
   "source": [
    "`/LUSTRE/sacmod/SIPECAM/Cumulo_96/entrega_23.mayo.2022/11_2021/mauricios/ultrasonico/1_96_1_1566_C4/U_C4_10263657`"
   ]
  },
  {
   "cell_type": "markdown",
   "id": "55687256-cd8c-4c63-97e3-140e59b18a93",
   "metadata": {},
   "source": [
    "**No hay formularios asociados**"
   ]
  },
  {
   "cell_type": "markdown",
   "id": "b40beebf-c8b9-434c-836c-b2194aa86e47",
   "metadata": {},
   "source": [
    "```\n",
    "query {\n",
    "  physical_devices(pagination: {limit: 0}, search: {field: comments, value: \"ADM24F319035DAEB615\", operator: like}) {\n",
    "    device_deploymentsFilter(pagination: {limit: 0}) {\n",
    "      date_deployment\n",
    "    }\n",
    "  }\n",
    "}\n",
    "```\n",
    "\n",
    "```\n",
    "{\n",
    "  \"data\": {\n",
    "    \"physical_devices\": [\n",
    "      {\n",
    "        \"device_deploymentsFilter\": []\n",
    "      }\n",
    "    ]\n",
    "  }\n",
    "}\n",
    "```"
   ]
  },
  {
   "cell_type": "markdown",
   "id": "545f3c49-62ee-4a40-800c-62871085d95b",
   "metadata": {},
   "source": [
    "# 6)"
   ]
  },
  {
   "cell_type": "markdown",
   "id": "3a3d6cf6-8919-4de7-80cd-c882d741a707",
   "metadata": {},
   "source": [
    "`/LUSTRE/sacmod/SIPECAM/Cumulo_96/entrega_23.mayo.2022/11_2021/mauricios/audible/1_96_1_1566_C4/A_C4_10261506`"
   ]
  },
  {
   "cell_type": "markdown",
   "id": "06bb9bfb-b5f6-4cb0-b45f-72760986cb07",
   "metadata": {},
   "source": [
    "Inicio:\n",
    "\n",
    "2021-11-14\n",
    "\n",
    "Fin:\n",
    "\n",
    "2021-12-13"
   ]
  },
  {
   "cell_type": "markdown",
   "id": "67c262de-9096-4f5b-8c63-bc4f416f726f",
   "metadata": {},
   "source": [
    "```\n",
    "query {\n",
    "  physical_devices(pagination: {limit: 0}, search: {field: comments, value: \"ADM243B1F055B1F95CC\", operator: like}) {\n",
    "    device_deploymentsFilter(pagination: {limit: 0}) {\n",
    "      date_deployment\n",
    "    }\n",
    "  }\n",
    "}\n",
    "```\n",
    "\n",
    "```\n",
    "{\n",
    "  \"data\": {\n",
    "    \"physical_devices\": [\n",
    "      {\n",
    "        \"device_deploymentsFilter\": [\n",
    "          {\n",
    "            \"date_deployment\": \"2022-04-29T17:35:00.000Z\"\n",
    "          },\n",
    "          {\n",
    "            \"date_deployment\": \"2022-06-01T17:10:00.000Z\"\n",
    "          }\n",
    "        ]\n",
    "      }\n",
    "    ]\n",
    "  }\n",
    "}\n",
    "```"
   ]
  },
  {
   "cell_type": "markdown",
   "id": "6109065c-94b0-4fee-87d2-ff06b25c9834",
   "metadata": {},
   "source": [
    "**Las fechas de toma de archivo no caen con la del despliegue de dispositivo**"
   ]
  },
  {
   "cell_type": "markdown",
   "id": "9692d17c-69f1-47f9-9a56-42371a71106f",
   "metadata": {},
   "source": [
    "# 7)"
   ]
  },
  {
   "cell_type": "markdown",
   "id": "706125d9-2e2f-4bb2-b16f-eddf10ad8b41",
   "metadata": {},
   "source": [
    "`/LUSTRE/sacmod/SIPECAM/Cumulo_96/entrega_23.mayo.2022/11_2021/mauricios/audible/1_96_1_1566_C5/A_C5_10262057`"
   ]
  },
  {
   "cell_type": "markdown",
   "id": "2f638460-9d24-4f5e-aef0-41d44092b7e3",
   "metadata": {},
   "source": [
    "**No hay formularios asociados**"
   ]
  },
  {
   "cell_type": "markdown",
   "id": "83ae2dd9-f156-42f0-83f9-40d74680d6d4",
   "metadata": {},
   "source": [
    "```\n",
    "query {\n",
    "  physical_devices(pagination: {limit: 0}, search: {field: comments, value: \"ADM24A04F075F256D68\", operator: like}) {\n",
    "    device_deploymentsFilter(pagination: {limit: 0}) {\n",
    "      date_deployment\n",
    "    }\n",
    "  }\n",
    "}\n",
    "```\n",
    "\n",
    "```\n",
    "{\n",
    "  \"data\": {\n",
    "    \"physical_devices\": [\n",
    "      {\n",
    "        \"device_deploymentsFilter\": []\n",
    "      }\n",
    "    ]\n",
    "  }\n",
    "}\n",
    "```"
   ]
  },
  {
   "cell_type": "markdown",
   "id": "065b1f15-7e06-42e8-b8e8-b5c87139c6a4",
   "metadata": {},
   "source": [
    "# 8)"
   ]
  },
  {
   "cell_type": "markdown",
   "id": "f5e28700-2b10-4a44-8093-dc86ee691969",
   "metadata": {},
   "source": [
    "`/LUSTRE/sacmod/SIPECAM/Cumulo_96/entrega_23.mayo.2022/11_2021/chipingue/ultrasonico/1_96_1_1560_C2/C2_U_10262784`"
   ]
  },
  {
   "cell_type": "markdown",
   "id": "b575e548-ce31-412a-a77e-3316036bdf23",
   "metadata": {},
   "source": [
    "**No hay formularios asociados**"
   ]
  },
  {
   "cell_type": "markdown",
   "id": "8dafccf0-ae14-4379-a9f7-e90f1c763443",
   "metadata": {},
   "source": [
    "```\n",
    "query {\n",
    "  physical_devices(pagination: {limit: 0}, search: {field: comments, value: \"ADM248C7D075B1F7A97\", operator: like}) {\n",
    "    device_deploymentsFilter(pagination: {limit: 0}) {\n",
    "      date_deployment\n",
    "    }\n",
    "  }\n",
    "}\n",
    "```\n",
    "\n",
    "```\n",
    "{\n",
    "  \"data\": {\n",
    "    \"physical_devices\": [\n",
    "      {\n",
    "        \"device_deploymentsFilter\": []\n",
    "      }\n",
    "    ]\n",
    "  }\n",
    "}\n",
    "```"
   ]
  },
  {
   "cell_type": "markdown",
   "id": "5ef7fc12-3b78-4525-9309-bc5562954d6a",
   "metadata": {},
   "source": [
    "# 9)"
   ]
  },
  {
   "cell_type": "markdown",
   "id": "e0d869a0-d4b9-46ed-8cce-645935a1f5d5",
   "metadata": {},
   "source": [
    "`/LUSTRE/sacmod/SIPECAM/Cumulo_96/entrega_23.mayo.2022/11_2021/chipingue/audible/1_96_1_1560_C4/C4_A_10263650`"
   ]
  },
  {
   "cell_type": "markdown",
   "id": "22008c75-06f1-4674-b7c3-f5192c1fe5f2",
   "metadata": {},
   "source": [
    "Inicio:\n",
    "\n",
    "2021-11-18\n",
    "\n",
    "Fin:\n",
    "\n",
    "2021-12-20"
   ]
  },
  {
   "cell_type": "markdown",
   "id": "2d6598d3-1a80-4ce1-a351-f30e191fde56",
   "metadata": {},
   "source": [
    "```\n",
    "query {\n",
    "  physical_devices(pagination: {limit: 0}, search: {field: comments, value: \"ADM24E144055DAEB615\", operator: like}) {\n",
    "    device_deploymentsFilter(pagination: {limit: 0}) {\n",
    "      date_deployment\n",
    "    }\n",
    "  }\n",
    "}\n",
    "```\n",
    "\n",
    "```\n",
    "{\n",
    "  \"data\": {\n",
    "    \"physical_devices\": [\n",
    "      {\n",
    "        \"device_deploymentsFilter\": [\n",
    "          {\n",
    "            \"date_deployment\": \"2021-12-21T18:45:00.000Z\"\n",
    "          }\n",
    "        ]\n",
    "      }\n",
    "    ]\n",
    "  }\n",
    "}\n",
    "```"
   ]
  },
  {
   "cell_type": "markdown",
   "id": "a9cdebc3-ac6f-4c3a-9162-ec51829d1ee4",
   "metadata": {},
   "source": [
    "**Las fechas de toma de archivo no caen con la del despliegue de dispositivo**"
   ]
  },
  {
   "cell_type": "markdown",
   "id": "b67cb7d9-5e15-4e46-a5d7-a1520bc9f8c3",
   "metadata": {},
   "source": [
    "# 10)"
   ]
  },
  {
   "cell_type": "markdown",
   "id": "b818545f-ae9a-4f3e-9931-d355aeba282e",
   "metadata": {},
   "source": [
    "`/LUSTRE/sacmod/SIPECAM/Cumulo_96/entrega_23.mayo.2022/11_2021/chipingue/audible/1_96_0_1560_C2/C2_A_10262182`"
   ]
  },
  {
   "cell_type": "markdown",
   "id": "d221ffb0-c0b0-4b15-bb2c-6f3738760b41",
   "metadata": {},
   "source": [
    "Inicio:\n",
    "\n",
    "2021-11-17\n",
    "\n",
    "Fin:\n",
    "\n",
    "2021-11-29"
   ]
  },
  {
   "cell_type": "markdown",
   "id": "b2043640-9a78-494d-b3fa-5b2b3dc04888",
   "metadata": {},
   "source": [
    "```\n",
    "query {\n",
    "  physical_devices(pagination: {limit: 0}, search: {field: comments, value: \"ADM24EB9B0359442868\", operator: like}) {\n",
    "    device_deploymentsFilter(pagination: {limit: 0}) {\n",
    "      date_deployment\n",
    "    }\n",
    "  }\n",
    "}\n",
    "```\n",
    "\n",
    "```\n",
    "{\n",
    "  \"data\": {\n",
    "    \"physical_devices\": [\n",
    "      {\n",
    "        \"device_deploymentsFilter\": [\n",
    "          {\n",
    "            \"date_deployment\": \"2021-10-14T20:00:00.000Z\"\n",
    "          },\n",
    "          {\n",
    "            \"date_deployment\": \"2022-02-23T18:44:00.000Z\"\n",
    "          },\n",
    "          {\n",
    "            \"date_deployment\": \"2022-03-25T14:43:00.000Z\"\n",
    "          },\n",
    "          {\n",
    "            \"date_deployment\": \"2022-05-04T13:46:00.000Z\"\n",
    "          },\n",
    "          {\n",
    "            \"date_deployment\": \"2022-06-07T14:38:00.000Z\"\n",
    "          },\n",
    "          {\n",
    "            \"date_deployment\": \"2021-12-21T18:49:00.000Z\"\n",
    "          }\n",
    "        ]\n",
    "      }\n",
    "    ]\n",
    "  }\n",
    "}\n",
    "```"
   ]
  },
  {
   "cell_type": "markdown",
   "id": "3124f003-20bb-488f-b1f7-74bff8e746ab",
   "metadata": {},
   "source": [
    "**Se debe asignar `2021-10-14` como fecha de despliegue?**"
   ]
  },
  {
   "cell_type": "markdown",
   "id": "e538f749-4046-4054-b61d-8c2212b0e18b",
   "metadata": {},
   "source": [
    "# 11)"
   ]
  },
  {
   "cell_type": "markdown",
   "id": "6a8bea0f-fa7b-4426-9de6-bc4c1b039287",
   "metadata": {},
   "source": [
    "`/LUSTRE/sacmod/SIPECAM/Cumulo_96/entrega_23.mayo.2022/11_2021/chipingue/audible/1_96_0_1560_C5/C5_A_10262850`"
   ]
  },
  {
   "cell_type": "markdown",
   "id": "e8298c5d-ee14-418e-8203-ed4261d85723",
   "metadata": {},
   "source": [
    "**No hay formularios asociados**"
   ]
  },
  {
   "cell_type": "markdown",
   "id": "0bf96f53-fe62-402e-bfc2-6b963a60f3ed",
   "metadata": {},
   "source": [
    "```\n",
    "query {\n",
    "  physical_devices(pagination: {limit: 0}, search: {field: comments, value: \"ADM2401010753E1BE08\", operator: like}) {\n",
    "    device_deploymentsFilter(pagination: {limit: 0}) {\n",
    "      date_deployment\n",
    "    }\n",
    "  }\n",
    "}\n",
    "```\n",
    "\n",
    "```\n",
    "{\n",
    "  \"data\": {\n",
    "    \"physical_devices\": [\n",
    "      {\n",
    "        \"device_deploymentsFilter\": []\n",
    "      }\n",
    "    ]\n",
    "  }\n",
    "}\n",
    "```"
   ]
  },
  {
   "cell_type": "markdown",
   "id": "0c171a52-3709-4534-a3a4-7d599dbe21ee",
   "metadata": {},
   "source": [
    "# 12)"
   ]
  },
  {
   "cell_type": "markdown",
   "id": "39db7b86-b290-4680-8a1e-4af04349b799",
   "metadata": {},
   "source": [
    "`/LUSTRE/sacmod/SIPECAM/Cumulo_96/entrega_23.mayo.2022/12_2021/ultrasonico/1_96_0_1557_C5`"
   ]
  },
  {
   "cell_type": "markdown",
   "id": "60ed1abf-1568-4ce4-b95d-4f5c0f250c22",
   "metadata": {},
   "source": [
    "**No hay formularios asociados**"
   ]
  },
  {
   "cell_type": "markdown",
   "id": "23cff9ca-568d-4453-a15b-f935ba67d77c",
   "metadata": {},
   "source": [
    "```\n",
    "query {\n",
    "  physical_devices(pagination: {limit: 0}, search: {field: comments, value: \"ADM248C7D075B1F7A97\", operator: like}) {\n",
    "    device_deploymentsFilter(pagination: {limit: 0}) {\n",
    "      date_deployment\n",
    "    }\n",
    "  }\n",
    "}\n",
    "```\n",
    "\n",
    "```\n",
    "{\n",
    "  \"data\": {\n",
    "    \"physical_devices\": [\n",
    "      {\n",
    "        \"device_deploymentsFilter\": []\n",
    "      }\n",
    "    ]\n",
    "  }\n",
    "}\n",
    "```"
   ]
  },
  {
   "cell_type": "markdown",
   "id": "2acd0621-a610-45c7-92f4-1ba42f60f1ac",
   "metadata": {},
   "source": [
    "# 13)"
   ]
  },
  {
   "cell_type": "markdown",
   "id": "cfb3f61a-ce01-4b9c-946c-4c8444bff564",
   "metadata": {},
   "source": [
    "`/LUSTRE/sacmod/SIPECAM/Cumulo_96/entrega_23.mayo.2022/12_2021/audible/1_96_0_1557_C5`"
   ]
  },
  {
   "cell_type": "markdown",
   "id": "0364fb58-81e5-4a91-9475-6020fec16447",
   "metadata": {},
   "source": [
    "**No hay formularios asociados**"
   ]
  },
  {
   "cell_type": "markdown",
   "id": "a3315fab-e497-4831-ac32-9ebd7c766dab",
   "metadata": {},
   "source": [
    "```\n",
    "query {\n",
    "  physical_devices(pagination: {limit: 0}, search: {field: comments, value: \"ADM2401010753E1BE08\", operator: like}) {\n",
    "    device_deploymentsFilter(pagination: {limit: 0}) {\n",
    "      date_deployment\n",
    "    }\n",
    "  }\n",
    "}\n",
    "```\n",
    "\n",
    "```\n",
    "{\n",
    "  \"data\": {\n",
    "    \"physical_devices\": [\n",
    "      {\n",
    "        \"device_deploymentsFilter\": []\n",
    "      }\n",
    "    ]\n",
    "  }\n",
    "}\n",
    "```"
   ]
  }
 ],
 "metadata": {
  "kernelspec": {
   "display_name": "Python 3 (ipykernel)",
   "language": "python",
   "name": "python3"
  },
  "language_info": {
   "codemirror_mode": {
    "name": "ipython",
    "version": 3
   },
   "file_extension": ".py",
   "mimetype": "text/x-python",
   "name": "python",
   "nbconvert_exporter": "python",
   "pygments_lexer": "ipython3",
   "version": "3.8.10"
  }
 },
 "nbformat": 4,
 "nbformat_minor": 5
}
