{
 "cells": [
  {
   "cell_type": "markdown",
   "id": "237df0bb-d91d-4576-9cf0-a71270815394",
   "metadata": {},
   "source": [
    "# Checking some dirs that had error for some reason in [10-06-2022.ipynb](https://github.com/CONABIO/sipecam-metadata-extractor/blob/develop/notebooks/history_SiPeCaM/3_06-2022/10-06-2022.ipynb)"
   ]
  },
  {
   "cell_type": "markdown",
   "id": "2f812c68-a5f3-4fb4-a7d9-0d7d600d9703",
   "metadata": {},
   "source": [
    "## Report"
   ]
  },
  {
   "cell_type": "markdown",
   "id": "ff86e7a8-c287-4f50-908b-47440699a32a",
   "metadata": {},
   "source": [
    "# 1)"
   ]
  },
  {
   "cell_type": "markdown",
   "id": "c2ea78f6-012f-4a3a-a318-fc265a8d32ac",
   "metadata": {},
   "source": [
    "`/LUSTRE/sacmod/SIPECAM/cumulo_13/entrega_27.abril.2022/SIPECAM AUDIOS/Nodo 3_13_1_1393/Ultra/10263609`"
   ]
  },
  {
   "cell_type": "markdown",
   "id": "f098a567-5d01-4c44-96c0-cebe43b718b9",
   "metadata": {},
   "source": [
    "No hay formularios asociados"
   ]
  },
  {
   "cell_type": "markdown",
   "id": "13651bef-8044-4f3b-bcba-4f54d8e54e76",
   "metadata": {},
   "source": [
    "```\n",
    "query {\n",
    "  physical_devices(pagination: {limit: 0}, search: {field: comments, value: \"ADM248C7D075B1F40B4\", operator: like}) {\n",
    "    device_deploymentsFilter(pagination: {limit: 0}) {\n",
    "      date_deployment\n",
    "    }\n",
    "  }\n",
    "}\n",
    "```\n",
    "\n",
    "```\n",
    "{\n",
    "  \"data\": {\n",
    "    \"physical_devices\": [\n",
    "      {\n",
    "        \"device_deploymentsFilter\": []\n",
    "      }\n",
    "    ]\n",
    "  }\n",
    "}\n",
    "```"
   ]
  },
  {
   "cell_type": "markdown",
   "id": "c356d914-fa93-407a-97cb-a5f9ae083629",
   "metadata": {},
   "source": [
    "# 2)"
   ]
  },
  {
   "cell_type": "markdown",
   "id": "23b2f250-5f47-4d95-a177-13797a23874a",
   "metadata": {},
   "source": [
    "`/LUSTRE/sacmod/SIPECAM/cumulo_13/entrega_27.abril.2022/SIPECAM AUDIOS/Nodo 3_13_0_1399 LAS PIEDRAS/Audiomoth 1/AudioMoth`"
   ]
  },
  {
   "cell_type": "markdown",
   "id": "92315dc2-83a7-4ccd-b684-49737145693a",
   "metadata": {},
   "source": [
    "No hay formularios asociados"
   ]
  },
  {
   "cell_type": "markdown",
   "id": "43e8e50d-fc9f-478d-b948-14a5f65ca482",
   "metadata": {},
   "source": [
    "```\n",
    "query {\n",
    "  physical_devices(pagination: {limit: 0}, search: {field: comments, value: \"ADM243B1F055B1F800E\", operator: like}) {\n",
    "    device_deploymentsFilter(pagination: {limit: 0}) {\n",
    "      date_deployment\n",
    "    }\n",
    "  }\n",
    "}\n",
    "```\n",
    "\n",
    "```\n",
    "{\n",
    "  \"data\": {\n",
    "    \"physical_devices\": []\n",
    "  }\n",
    "}\n",
    "```"
   ]
  },
  {
   "cell_type": "markdown",
   "id": "b2589adb-4762-4b85-abab-0d7699f37e59",
   "metadata": {},
   "source": [
    "# 3)"
   ]
  },
  {
   "cell_type": "markdown",
   "id": "297362c8-fb98-47c8-8dd5-b291b349142a",
   "metadata": {},
   "source": [
    "`/LUSTRE/sacmod/SIPECAM/cumulo_13/entrega_27.abril.2022/SIPECAM AUDIOS/Nodo 3_13_0_1399 LAS PIEDRAS/Audiomoth 3`"
   ]
  },
  {
   "cell_type": "markdown",
   "id": "6d4aee97-0e44-448c-894d-0de74cb1f071",
   "metadata": {},
   "source": [
    "No hay formularios asociados"
   ]
  },
  {
   "cell_type": "markdown",
   "id": "014d08af-df2a-4686-97a2-8f74c20fa969",
   "metadata": {},
   "source": [
    "```\n",
    "query {\n",
    "  physical_devices(pagination: {limit: 0}, search: {field: comments, value: \"ADM243B1F055B1F800E\", operator: like}) {\n",
    "    device_deploymentsFilter(pagination: {limit: 0}) {\n",
    "      date_deployment\n",
    "    }\n",
    "  }\n",
    "}\n",
    "```\n",
    "\n",
    "```\n",
    "{\n",
    "  \"data\": {\n",
    "    \"physical_devices\": []\n",
    "  }\n",
    "}\n",
    "```"
   ]
  },
  {
   "cell_type": "markdown",
   "id": "ccd9be15-cac7-4ffd-a2d5-47af61bc0cc9",
   "metadata": {},
   "source": [
    "# 4)"
   ]
  },
  {
   "cell_type": "markdown",
   "id": "5071008c-d1fb-4ad9-8550-303a9c441911",
   "metadata": {},
   "source": [
    "`/LUSTRE/sacmod/SIPECAM/cumulo_13/entrega_27.abril.2022/SIPECAM AUDIOS/21-10-21 a 29-11-21`"
   ]
  },
  {
   "cell_type": "markdown",
   "id": "72881092-aebe-4470-8e91-0441bc7f6caf",
   "metadata": {},
   "source": [
    "No hay formularios asociados, **se tiene un directorio diferente en la que se encuentran los archivos pero tienen la misma información: mismo dispositivo que el caso 3 anterior**"
   ]
  },
  {
   "cell_type": "markdown",
   "id": "58efa661-118a-41f9-ab1c-31fd7f1c1ca4",
   "metadata": {},
   "source": [
    "```\n",
    "query {\n",
    "  physical_devices(pagination: {limit: 0}, search: {field: comments, value: \"ADM243B1F055B1F800E\", operator: like}) {\n",
    "    device_deploymentsFilter(pagination: {limit: 0}) {\n",
    "      date_deployment\n",
    "    }\n",
    "  }\n",
    "}\n",
    "```\n",
    "\n",
    "```\n",
    "{\n",
    "  \"data\": {\n",
    "    \"physical_devices\": []\n",
    "  }\n",
    "}\n",
    "```"
   ]
  },
  {
   "cell_type": "markdown",
   "id": "48d5b77c-67d7-4344-8968-e300176acd20",
   "metadata": {},
   "source": [
    "# 5)"
   ]
  },
  {
   "cell_type": "markdown",
   "id": "7b673872-69f2-4dfc-bcdb-52298fad5aa6",
   "metadata": {},
   "source": [
    "`/LUSTRE/sacmod/SIPECAM/cumulo_13/entrega_27.abril.2022/SIPECAM AUDIOS/NODO 3_13_0_1401 EL SANTUARIO/Audiomoth`"
   ]
  },
  {
   "cell_type": "markdown",
   "id": "0a58eec2-cc29-4d9c-8c65-768de306f25b",
   "metadata": {},
   "source": [
    "No hay formularios asociados"
   ]
  },
  {
   "cell_type": "markdown",
   "id": "ff79c9ed-5460-4c42-872d-092526931713",
   "metadata": {},
   "source": [
    "```\n",
    "query {\n",
    "  physical_devices(pagination: {limit: 0}, search: {field: comments, value: \"ADM248C7D075B1F81A3\", operator: like}) {\n",
    "    device_deploymentsFilter(pagination: {limit: 0}) {\n",
    "      date_deployment\n",
    "    }\n",
    "  }\n",
    "}\n",
    "```\n",
    "\n",
    "```\n",
    "{\n",
    "  \"data\": {\n",
    "    \"physical_devices\": [\n",
    "      {\n",
    "        \"device_deploymentsFilter\": []\n",
    "      }\n",
    "    ]\n",
    "  }\n",
    "}\n",
    "```"
   ]
  },
  {
   "cell_type": "markdown",
   "id": "6638b490-4e3c-40da-b3a0-d9477ee8e8dd",
   "metadata": {},
   "source": [
    "# 6)"
   ]
  },
  {
   "cell_type": "markdown",
   "id": "bac8a4fa-0712-451d-ba87-43e06bb2f201",
   "metadata": {},
   "source": [
    "`/LUSTRE/sacmod/SIPECAM/cumulo_13/entrega_27.abril.2022/SIPECAM AUDIOS/NODO 3_13_0_1401 EL SANTUARIO/10262153`"
   ]
  },
  {
   "cell_type": "markdown",
   "id": "2098ac5d-97a5-4378-af85-e2cd245f5e3c",
   "metadata": {},
   "source": [
    "No hay formularios asociados"
   ]
  },
  {
   "cell_type": "markdown",
   "id": "44f05e4a-59c9-4f61-ad18-650bead17189",
   "metadata": {},
   "source": [
    "```\n",
    "query {\n",
    "  physical_devices(pagination: {limit: 0}, search: {field: comments, value: \"ADM248C7D075B1F81A3\", operator: like}) {\n",
    "    device_deploymentsFilter(pagination: {limit: 0}) {\n",
    "      date_deployment\n",
    "    }\n",
    "  }\n",
    "}\n",
    "```\n",
    "\n",
    "```\n",
    "{\n",
    "  \"data\": {\n",
    "    \"physical_devices\": [\n",
    "      {\n",
    "        \"device_deploymentsFilter\": []\n",
    "      }\n",
    "    ]\n",
    "  }\n",
    "}\n",
    "```"
   ]
  },
  {
   "cell_type": "markdown",
   "id": "23ceedac-f01a-49da-820c-3acc18941bb1",
   "metadata": {},
   "source": [
    "# 7)"
   ]
  },
  {
   "cell_type": "markdown",
   "id": "36ad3307-1cf1-4fa3-9e08-4601329d3e15",
   "metadata": {},
   "source": [
    "`/LUSTRE/sacmod/SIPECAM/cumulo_13/entrega_27.abril.2022/SIPECAM AUDIOS/NODO 3_13_0_1401 EL SANTUARIO/10309403`"
   ]
  },
  {
   "cell_type": "markdown",
   "id": "5306b071-416b-431b-94a5-e3ea86a5ca8a",
   "metadata": {},
   "source": [
    "No hay formularios asociados"
   ]
  },
  {
   "cell_type": "markdown",
   "id": "0a15fd35-14fe-41a8-99df-da1d5b2aa940",
   "metadata": {},
   "source": [
    "```\n",
    "query {\n",
    "  physical_devices(pagination: {limit: 0}, search: {field: comments, value: \"ADM242A260460374ABF\", operator: like}) {\n",
    "    device_deploymentsFilter(pagination: {limit: 0}) {\n",
    "      date_deployment\n",
    "    }\n",
    "  }\n",
    "}\n",
    "```\n",
    "\n",
    "```\n",
    "{\n",
    "  \"data\": {\n",
    "    \"physical_devices\": [\n",
    "      {\n",
    "        \"device_deploymentsFilter\": []\n",
    "      }\n",
    "    ]\n",
    "  }\n",
    "}\n",
    "\n",
    "```"
   ]
  },
  {
   "cell_type": "markdown",
   "id": "0ef4d08a-9731-4a48-beca-1c8950152766",
   "metadata": {},
   "source": [
    "# 8)"
   ]
  },
  {
   "cell_type": "markdown",
   "id": "1d20e552-18af-4e04-8632-3bb32909d401",
   "metadata": {},
   "source": [
    "`/LUSTRE/sacmod/SIPECAM/cumulo_13/entrega_27.abril.2022/SIPECAM AUDIOS/Nodo 3_13_0_1400 VILLAROSA/10262719`"
   ]
  },
  {
   "cell_type": "markdown",
   "id": "5c31b0e3-6f52-4218-87c5-8e3d313da24a",
   "metadata": {},
   "source": [
    "No hay formularios asociados"
   ]
  },
  {
   "cell_type": "markdown",
   "id": "dbfd9279-ff25-4496-9301-b606dea75448",
   "metadata": {},
   "source": [
    "```\n",
    "query {\n",
    "  physical_devices(pagination: {limit: 0}, search: {field: comments, value: \"ADM2410660659442C2B\", operator: like}) {\n",
    "    device_deploymentsFilter(pagination: {limit: 0}) {\n",
    "      date_deployment\n",
    "    }\n",
    "  }\n",
    "}\n",
    "```\n",
    "\n",
    "```\n",
    "{\n",
    "  \"data\": {\n",
    "    \"physical_devices\": []\n",
    "  }\n",
    "}\n",
    "```"
   ]
  },
  {
   "cell_type": "markdown",
   "id": "7ad99fd7-dde7-460d-9087-077b38db9957",
   "metadata": {},
   "source": [
    "# 9)"
   ]
  },
  {
   "cell_type": "markdown",
   "id": "44307976-b9fc-445f-9bb5-2f598641ba2e",
   "metadata": {},
   "source": [
    "`/LUSTRE/sacmod/SIPECAM/cumulo_13/entrega_27.abril.2022/SIPECAM AUDIOS/Nodo 3_13_0_1400 VILLAROSA/10262153`"
   ]
  },
  {
   "cell_type": "markdown",
   "id": "9e5824cc-1b53-4ee7-a114-382c8c2b3e5a",
   "metadata": {},
   "source": [
    "No hay formularios asociados"
   ]
  },
  {
   "cell_type": "markdown",
   "id": "f41e007b-8355-44df-a8a6-dd2d7ee8418c",
   "metadata": {},
   "source": [
    "```\n",
    "query {\n",
    "  physical_devices(pagination: {limit: 0}, search: {field: comments, value: \"ADM248C7D075B1F81A3\", operator: like}) {\n",
    "    device_deploymentsFilter(pagination: {limit: 0}) {\n",
    "      date_deployment\n",
    "    }\n",
    "  }\n",
    "}\n",
    "```\n",
    "\n",
    "\n",
    "```\n",
    "{\n",
    "  \"data\": {\n",
    "    \"physical_devices\": [\n",
    "      {\n",
    "        \"device_deploymentsFilter\": []\n",
    "      }\n",
    "    ]\n",
    "  }\n",
    "}\n",
    "```"
   ]
  },
  {
   "cell_type": "markdown",
   "id": "89fb6b7c-960f-4095-8c60-7940488cae3d",
   "metadata": {},
   "source": [
    "# 10)"
   ]
  },
  {
   "cell_type": "markdown",
   "id": "5cfd3f93-41c1-489f-a930-cb82a2be8eae",
   "metadata": {},
   "source": [
    "`/LUSTRE/sacmod/SIPECAM/cumulo_13/entrega_27.abril.2022/SIPECAM AUDIOS/Nodo 3_13_0_1400 VILLAROSA/10306526`"
   ]
  },
  {
   "cell_type": "markdown",
   "id": "d95925f2-a1c4-44e2-b4ca-5d512330ea85",
   "metadata": {},
   "source": [
    "No hay formularios asociados"
   ]
  },
  {
   "cell_type": "markdown",
   "id": "3d7725dc-d773-4796-aa51-b6dc50a162c8",
   "metadata": {},
   "source": [
    "```\n",
    "query {\n",
    "  physical_devices(pagination: {limit: 0}, search: {field: comments, value: \"ADM242A260460371EBA\", operator: like}) {\n",
    "    device_deploymentsFilter(pagination: {limit: 0}) {\n",
    "      date_deployment\n",
    "    }\n",
    "  }\n",
    "}\n",
    "```\n",
    "\n",
    "```\n",
    "{\n",
    "  \"data\": {\n",
    "    \"physical_devices\": [\n",
    "      {\n",
    "        \"device_deploymentsFilter\": []\n",
    "      }\n",
    "    ]\n",
    "  }\n",
    "}\n",
    "```"
   ]
  },
  {
   "cell_type": "markdown",
   "id": "3f62913d-07df-4888-b9db-8bba3076baf3",
   "metadata": {},
   "source": [
    "# 11)"
   ]
  },
  {
   "cell_type": "markdown",
   "id": "2db83ce8-d2dc-445b-8acb-f6c9ed3e1eb9",
   "metadata": {},
   "source": [
    "`/LUSTRE/sacmod/SIPECAM/cumulo_13/entrega_27.abril.2022/SIPECAM AUDIOS/Nodo 3_13_0_1400 VILLAROSA/10263606`"
   ]
  },
  {
   "cell_type": "markdown",
   "id": "ae112011-28a5-49b1-826a-e84844328383",
   "metadata": {},
   "source": [
    "No hay formularios asociados"
   ]
  },
  {
   "cell_type": "markdown",
   "id": "9b7ee65e-62da-4df0-b66a-5c60f8259241",
   "metadata": {},
   "source": [
    "```\n",
    "query {\n",
    "  physical_devices(pagination: {limit: 0}, search: {field: comments, value: \"ADM2410660659442C2B\", operator: like}) {\n",
    "    device_deploymentsFilter(pagination: {limit: 0}) {\n",
    "      date_deployment\n",
    "    }\n",
    "  }\n",
    "}\n",
    "\n",
    "```\n",
    "\n",
    "```\n",
    "{\n",
    "  \"data\": {\n",
    "    \"physical_devices\": []\n",
    "  }\n",
    "}\n",
    "```"
   ]
  },
  {
   "cell_type": "markdown",
   "id": "89d161f4-2c72-4723-9b02-cd2862d73e03",
   "metadata": {},
   "source": [
    "# 12)"
   ]
  },
  {
   "cell_type": "markdown",
   "id": "5a0ae5a3-c4f5-4f05-92bf-0d12841f5d6b",
   "metadata": {},
   "source": [
    "`/LUSTRE/sacmod/SIPECAM/cumulo_13/entrega_27.abril.2022/SIPECAM AUDIOS/Nodo 3_13_0_1400 VILLAROSA/10262333`"
   ]
  },
  {
   "cell_type": "markdown",
   "id": "e246bea1-1231-4bdb-90ab-b1ef3ca78418",
   "metadata": {},
   "source": [
    "No hay formularios asociados"
   ]
  },
  {
   "cell_type": "markdown",
   "id": "3126d276-1d28-4bc0-8c81-7561fff75b23",
   "metadata": {},
   "source": [
    "```\n",
    "query {\n",
    "  physical_devices(pagination: {limit: 0}, search: {field: comments, value: \"ADM243B1F055B1F800E\", operator: like}) {\n",
    "    device_deploymentsFilter(pagination: {limit: 0}) {\n",
    "      date_deployment\n",
    "    }\n",
    "  }\n",
    "}\n",
    "```\n",
    "\n",
    "```\n",
    "{\n",
    "  \"data\": {\n",
    "    \"physical_devices\": []\n",
    "  }\n",
    "}\n",
    "```"
   ]
  },
  {
   "cell_type": "markdown",
   "id": "26c2fc91-cd37-411d-b674-b466a66c6eaf",
   "metadata": {},
   "source": [
    "# 13)"
   ]
  },
  {
   "cell_type": "markdown",
   "id": "81dfff24-0ff6-493d-acd6-1ad16024b4b3",
   "metadata": {},
   "source": [
    "`/LUSTRE/sacmod/SIPECAM/cumulo_13/entrega_27.abril.2022/SIPECAM AUDIOS/Nodo 3_13_0_1400 VILLAROSA/10309403`"
   ]
  },
  {
   "cell_type": "markdown",
   "id": "3e05c975-2847-43a0-a933-b62ff918890d",
   "metadata": {},
   "source": [
    "No hay formularios asociados"
   ]
  },
  {
   "cell_type": "markdown",
   "id": "f448700e-50a7-421d-8069-34e34f791946",
   "metadata": {},
   "source": [
    "```\n",
    "query {\n",
    "  physical_devices(pagination: {limit: 0}, search: {field: comments, value: \"ADM242A260460374ABF\", operator: like}) {\n",
    "    device_deploymentsFilter(pagination: {limit: 0}) {\n",
    "      date_deployment\n",
    "    }\n",
    "  }\n",
    "}\n",
    "```\n",
    "\n",
    "```\n",
    "{\n",
    "  \"data\": {\n",
    "    \"physical_devices\": [\n",
    "      {\n",
    "        \"device_deploymentsFilter\": []\n",
    "      }\n",
    "    ]\n",
    "  }\n",
    "}\n",
    "```"
   ]
  },
  {
   "cell_type": "markdown",
   "id": "663f20a4-5f9b-46f0-9131-59bc3a855d1d",
   "metadata": {},
   "source": [
    "# 14)"
   ]
  },
  {
   "cell_type": "markdown",
   "id": "8587f1df-c919-4e99-a3b4-4d4b7822b716",
   "metadata": {},
   "source": [
    "`/LUSTRE/sacmod/SIPECAM/cumulo_13/entrega_27.abril.2022/RESPALDO MICRO SD AURA/NODO 3_13_1_1393/GRABADORAS/ultra/10263609/10263609`"
   ]
  },
  {
   "cell_type": "markdown",
   "id": "7aacdcb8-b458-46c3-bdc2-cc0f2c09deb1",
   "metadata": {},
   "source": [
    "No hay formularios asociados"
   ]
  },
  {
   "cell_type": "markdown",
   "id": "b2135f0e-309d-4335-bd79-c1976527e638",
   "metadata": {},
   "source": [
    "```\n",
    "query {\n",
    "  physical_devices(pagination: {limit: 0}, search: {field: comments, value: \"ADM248C7D075B1F40B4\", operator: like}) {\n",
    "    device_deploymentsFilter(pagination: {limit: 0}) {\n",
    "      date_deployment\n",
    "    }\n",
    "  }\n",
    "}\n",
    "```\n",
    "\n",
    "```\n",
    "{\n",
    "  \"data\": {\n",
    "    \"physical_devices\": [\n",
    "      {\n",
    "        \"device_deploymentsFilter\": []\n",
    "      }\n",
    "    ]\n",
    "  }\n",
    "}\n",
    "```"
   ]
  },
  {
   "cell_type": "markdown",
   "id": "da29c2b1-8b28-47cb-b0f1-b5b62c1d081c",
   "metadata": {},
   "source": [
    "# 15)"
   ]
  },
  {
   "cell_type": "markdown",
   "id": "0d25809b-3ee9-422d-9b44-9a9d49b70286",
   "metadata": {},
   "source": [
    "`/LUSTRE/sacmod/SIPECAM/cumulo_13/entrega_27.abril.2022/RESPALDO MICRO SD AURA/NODO 3_13_1_1393/GRABADORAS/ultra/10262223`"
   ]
  },
  {
   "cell_type": "markdown",
   "id": "d0965189-7f23-448e-8be1-fd354cda0331",
   "metadata": {},
   "source": [
    "No hay formularios asociados en las fechas de toma de archivos"
   ]
  },
  {
   "cell_type": "markdown",
   "id": "ea198756-2f11-4a06-820e-d91debe4d9ea",
   "metadata": {},
   "source": [
    "```\n",
    "query {\n",
    "  physical_devices(pagination: {limit: 0}, search: {field: comments, value: \"ADM243B1F055B1F3F3E\", operator: like}) {\n",
    "    device_deploymentsFilter(pagination: {limit: 0}) {\n",
    "      date_deployment\n",
    "    }\n",
    "  }\n",
    "}\n",
    "```\n",
    "\n",
    "```\n",
    "{\n",
    "  \"data\": {\n",
    "    \"physical_devices\": [\n",
    "      {\n",
    "        \"device_deploymentsFilter\": [\n",
    "          {\n",
    "            \"date_deployment\": \"2021-10-09T17:19:00.000Z\"\n",
    "          }\n",
    "        ]\n",
    "      }\n",
    "    ]\n",
    "  }\n",
    "}\n",
    "```"
   ]
  },
  {
   "cell_type": "markdown",
   "id": "d0b0fbc3-19f9-489a-a8ad-c25f3638abc0",
   "metadata": {},
   "source": [
    "**Las fechas de toma de archivo no caen con la del despliegue de dispositivo**"
   ]
  },
  {
   "cell_type": "markdown",
   "id": "7496c318-5ac7-4273-80c6-19a0f3be9e5d",
   "metadata": {},
   "source": [
    "# 16)"
   ]
  },
  {
   "cell_type": "markdown",
   "id": "8a6952f8-803a-4a5a-94c2-e74a8b1d35da",
   "metadata": {},
   "source": [
    "`/LUSTRE/sacmod/SIPECAM/cumulo_13/entrega_27.abril.2022/SIPECAM FOTOS/Nodo 3_13_1_1393/FOTOS Camara-trampa 2`"
   ]
  },
  {
   "cell_type": "markdown",
   "id": "0b7bdfae-c57d-4854-a8f1-d504f56ac48c",
   "metadata": {},
   "source": [
    "Inicio:\n",
    "\n",
    "2021-08-15\n",
    "\n",
    "Fin:\n",
    "\n",
    "2021-09-30\n"
   ]
  },
  {
   "cell_type": "markdown",
   "id": "da206f90-3a87-4e1d-be1c-e5cd3a9d875c",
   "metadata": {},
   "source": [
    "```\n",
    "query {\n",
    "  physical_devices(pagination: {limit: 0}, search: {field: serial_number, value: \"HLPXGM09048480\", operator: like}) {\n",
    "    device_deploymentsFilter(pagination: {limit: 0}) {\n",
    "      date_deployment\n",
    "    }\n",
    "  }\n",
    "}\n",
    "```\n",
    "\n",
    "```\n",
    "{\n",
    "  \"data\": {\n",
    "    \"physical_devices\": [\n",
    "      {\n",
    "        \"device_deploymentsFilter\": [\n",
    "          {\n",
    "            \"date_deployment\": \"2021-10-09T20:01:00.000Z\"\n",
    "          },\n",
    "          {\n",
    "            \"date_deployment\": \"2021-08-11T19:24:00.000Z\"\n",
    "          },\n",
    "          {\n",
    "            \"date_deployment\": \"2021-11-28T19:36:00.000Z\"\n",
    "          },\n",
    "          {\n",
    "            \"date_deployment\": \"2022-01-07T20:18:00.000Z\"\n",
    "          },\n",
    "          {\n",
    "            \"date_deployment\": \"2022-02-05T19:31:00.000Z\"\n",
    "          },\n",
    "          {\n",
    "            \"date_deployment\": \"2022-04-03T15:27:00.000Z\"\n",
    "          },\n",
    "          {\n",
    "            \"date_deployment\": \"2022-06-01T16:46:00.000Z\"\n",
    "          }\n",
    "        ]\n",
    "      }\n",
    "    ]\n",
    "  }\n",
    "}\n",
    "```"
   ]
  },
  {
   "cell_type": "markdown",
   "id": "9663cc6e-1b0b-4156-839e-20d4a20ec39a",
   "metadata": {},
   "source": [
    "**Run again `move` cli using `2021-08-11` as date of deployment?**"
   ]
  },
  {
   "cell_type": "markdown",
   "id": "6f69894c-1381-4b03-877e-5dd45654d319",
   "metadata": {},
   "source": [
    "# 17)"
   ]
  },
  {
   "cell_type": "markdown",
   "id": "2ace87f1-6038-43ac-8c92-da14e1af3f7f",
   "metadata": {},
   "source": [
    "`/LUSTRE/sacmod/SIPECAM/cumulo_13/entrega_27.abril.2022/SIPECAM FOTOS/Nodo 3_13_1_1393/FOTOS Cámara-trampa`"
   ]
  },
  {
   "cell_type": "markdown",
   "id": "ebe92e4b-79c9-446a-904a-c25ef0f300a6",
   "metadata": {},
   "source": [
    "Inicio:\n",
    "\n",
    "2021-08-23\n",
    "\n",
    "Fin:\n",
    "\n",
    "2021-09-26"
   ]
  },
  {
   "cell_type": "markdown",
   "id": "6b72292a-5131-4538-a955-06b989f8ab8b",
   "metadata": {},
   "source": [
    "```\n",
    "query {\n",
    "  physical_devices(pagination: {limit: 0}, search: {field: serial_number, value: \"HLPXGM09049482\", operator: like}) {\n",
    "    device_deploymentsFilter(pagination: {limit: 0}) {\n",
    "      date_deployment\n",
    "    }\n",
    "  }\n",
    "}\n",
    "```\n",
    "\n",
    "```\n",
    "{\n",
    "  \"data\": {\n",
    "    \"physical_devices\": [\n",
    "      {\n",
    "        \"device_deploymentsFilter\": [\n",
    "          {\n",
    "            \"date_deployment\": \"2021-10-09T17:59:00.000Z\"\n",
    "          },\n",
    "          {\n",
    "            \"date_deployment\": \"2021-08-11T16:16:00.000Z\"\n",
    "          },\n",
    "          {\n",
    "            \"date_deployment\": \"2021-11-28T18:40:00.000Z\"\n",
    "          },\n",
    "          {\n",
    "            \"date_deployment\": \"2022-01-07T19:51:00.000Z\"\n",
    "          },\n",
    "          {\n",
    "            \"date_deployment\": \"2022-02-07T18:35:00.000Z\"\n",
    "          },\n",
    "          {\n",
    "            \"date_deployment\": \"2022-04-03T13:36:00.000Z\"\n",
    "          },\n",
    "          {\n",
    "            \"date_deployment\": \"2022-06-02T16:38:00.000Z\"\n",
    "          }\n",
    "        ]\n",
    "      }\n",
    "    ]\n",
    "  }\n",
    "}\n",
    "```"
   ]
  },
  {
   "cell_type": "markdown",
   "id": "5640f897-2754-4e88-86cc-a15b0a4a7f10",
   "metadata": {},
   "source": [
    "**Run again `move` cli using `2021-08-11` as date of deployment?**"
   ]
  },
  {
   "cell_type": "markdown",
   "id": "bb6ea6be-2c01-4591-8f1f-730e50002a39",
   "metadata": {},
   "source": [
    "# 18)"
   ]
  },
  {
   "cell_type": "markdown",
   "id": "b1dfeda4-36ec-4d91-8152-20a12dca5aa1",
   "metadata": {},
   "source": [
    "`/LUSTRE/sacmod/SIPECAM/cumulo_13/entrega_27.abril.2022/SIPECAM FOTOS/Nodo 3_13_0_1400 VILLAROSA/HLPXGM09048483/FOTOS`"
   ]
  },
  {
   "cell_type": "markdown",
   "id": "2b2ed9dd-a96d-4a44-9841-48f28956da3b",
   "metadata": {},
   "source": [
    "Inicio:\n",
    "\n",
    "2021-10-30\n",
    "\n",
    "Fin:\n",
    "\n",
    "2021-11-26"
   ]
  },
  {
   "cell_type": "markdown",
   "id": "4ea0880a-d9a1-491c-bdb2-1d269f163b0e",
   "metadata": {},
   "source": [
    "```\n",
    "query {\n",
    "  physical_devices(pagination: {limit: 0}, search: {field: serial_number, value: \"HLPXGM09048483\", operator: like}) {\n",
    "    device_deploymentsFilter(pagination: {limit: 0}) {\n",
    "      date_deployment\n",
    "    }\n",
    "  }\n",
    "}\n",
    "\n",
    "```\n",
    "\n",
    "```\n",
    "{\n",
    "  \"data\": {\n",
    "    \"physical_devices\": [\n",
    "      {\n",
    "        \"device_deploymentsFilter\": [\n",
    "          {\n",
    "            \"date_deployment\": \"2021-08-05T15:57:00.000Z\"\n",
    "          },\n",
    "          {\n",
    "            \"date_deployment\": \"2022-01-18T16:28:00.000Z\"\n",
    "          },\n",
    "          {\n",
    "            \"date_deployment\": \"2022-06-13T16:26:00.000Z\"\n",
    "          }\n",
    "        ]\n",
    "      }\n",
    "    ]\n",
    "  }\n",
    "}\n",
    "```"
   ]
  },
  {
   "cell_type": "markdown",
   "id": "7426b9bb-0499-49eb-9ded-0fa796d33615",
   "metadata": {},
   "source": [
    "**Las fechas de toma de archivo no caen con la del despliegue de dispositivo**"
   ]
  },
  {
   "cell_type": "markdown",
   "id": "31729e0f-9713-4aa0-9378-ab9ba94c8010",
   "metadata": {},
   "source": [
    "# 19)"
   ]
  },
  {
   "cell_type": "markdown",
   "id": "2f69421d-da16-4a4c-a66f-1957fbd2d416",
   "metadata": {},
   "source": [
    "`/LUSTRE/sacmod/SIPECAM/cumulo_13/entrega_27.abril.2022/SIPECAM FOTOS/Nodo 3_13_0_1400 VILLAROSA/HLPXGM09048209/FOTOS`"
   ]
  },
  {
   "cell_type": "markdown",
   "id": "4c09f21d-7062-46e1-90d2-e5b4d0f05871",
   "metadata": {},
   "source": [
    "Inicio:\n",
    "\n",
    "2021-10-22\n",
    "\n",
    "Fin:\n",
    "\n",
    "2021-11-29"
   ]
  },
  {
   "cell_type": "markdown",
   "id": "02574e09-9d04-49d3-ba06-a74ccf7b9c7d",
   "metadata": {},
   "source": [
    "```\n",
    "query {\n",
    "  physical_devices(pagination: {limit: 0}, search: {field: serial_number, value: \"HLPXGM09048209\", operator: like}) {\n",
    "    device_deploymentsFilter(pagination: {limit: 0}) {\n",
    "      date_deployment\n",
    "    }\n",
    "  }\n",
    "}\n",
    "```\n",
    "\n",
    "```\n",
    "{\n",
    "  \"data\": {\n",
    "    \"physical_devices\": [\n",
    "      {\n",
    "        \"device_deploymentsFilter\": [\n",
    "          {\n",
    "            \"date_deployment\": \"2022-01-18T19:41:00.000Z\"\n",
    "          },\n",
    "          {\n",
    "            \"date_deployment\": \"2022-06-13T15:31:00.000Z\"\n",
    "          }\n",
    "        ]\n",
    "      }\n",
    "    ]\n",
    "  }\n",
    "}\n",
    "```"
   ]
  },
  {
   "cell_type": "markdown",
   "id": "6390f5eb-1aa5-4fcf-98ab-2d9994993f36",
   "metadata": {},
   "source": [
    "**Las fechas de toma de archivo no caen con la del despliegue de dispositivo**"
   ]
  },
  {
   "cell_type": "markdown",
   "id": "9533d48b-7177-4d9c-af61-bcf94035235e",
   "metadata": {},
   "source": [
    "# 20)"
   ]
  },
  {
   "cell_type": "markdown",
   "id": "71273fc0-3194-46f9-bd13-b7955c312205",
   "metadata": {},
   "source": [
    "`/LUSTRE/sacmod/SIPECAM/cumulo_13/entrega_27.abril.2022/SIPECAM FOTOS/Nodo 3_13_0_1398 FRENO/HLPXGM09048483/FOTOS`"
   ]
  },
  {
   "cell_type": "markdown",
   "id": "7f4de19b-ff0b-4604-a675-72fcb0dded2c",
   "metadata": {},
   "source": [
    "Inicio:\n",
    "\n",
    "2022-02-24\n",
    "\n",
    "Fin:\n",
    "\n",
    "2022-04-01"
   ]
  },
  {
   "cell_type": "markdown",
   "id": "cbbef680-3aa2-447c-b114-6dc3959c7532",
   "metadata": {},
   "source": [
    "```\n",
    "query {\n",
    "  physical_devices(pagination: {limit: 0}, search: {field: serial_number, value: \"HLPXGM09048483\", operator: like}) {\n",
    "    device_deploymentsFilter(pagination: {limit: 0}) {\n",
    "      date_deployment\n",
    "    }\n",
    "  }\n",
    "}\n",
    "\n",
    "```\n",
    "\n",
    "```\n",
    "{\n",
    "  \"data\": {\n",
    "    \"physical_devices\": [\n",
    "      {\n",
    "        \"device_deploymentsFilter\": [\n",
    "          {\n",
    "            \"date_deployment\": \"2021-08-05T15:57:00.000Z\"\n",
    "          },\n",
    "          {\n",
    "            \"date_deployment\": \"2022-01-18T16:28:00.000Z\"\n",
    "          },\n",
    "          {\n",
    "            \"date_deployment\": \"2022-06-13T16:26:00.000Z\"\n",
    "          }\n",
    "        ]\n",
    "      }\n",
    "    ]\n",
    "  }\n",
    "}\n",
    "```"
   ]
  },
  {
   "cell_type": "markdown",
   "id": "a2af5909-78ab-4398-8476-70dc1ec1a493",
   "metadata": {},
   "source": [
    "**Run again `move` cli using `2022-01-18` as date of deployment?**"
   ]
  },
  {
   "cell_type": "markdown",
   "id": "6ee7e08c-8364-453b-8c44-1473056e0adf",
   "metadata": {},
   "source": [
    "# 21)"
   ]
  },
  {
   "cell_type": "markdown",
   "id": "30e6f734-6a0e-4d20-bef1-069bd077e0a5",
   "metadata": {},
   "source": [
    "`/LUSTRE/sacmod/SIPECAM/cumulo_13/entrega_27.abril.2022/SIPECAM FOTOS/Nodo 3_13_0_1398 FRENO/HLPXGM09048449/FOTOS`"
   ]
  },
  {
   "cell_type": "markdown",
   "id": "eefeb76b-e28b-469b-8578-7207770ab31e",
   "metadata": {},
   "source": [
    "Inicio:\n",
    "\n",
    "2022-02-24\n",
    "\n",
    "Fin:\n",
    "\n",
    "2022-03-24"
   ]
  },
  {
   "cell_type": "markdown",
   "id": "42aa7997-6bbf-47f5-ace6-04b87590e72b",
   "metadata": {},
   "source": [
    "```\n",
    "query {\n",
    "  physical_devices(pagination: {limit: 0}, search: {field: serial_number, value: \"HLPXGM09048449\", operator: like}) {\n",
    "    device_deploymentsFilter(pagination: {limit: 0}) {\n",
    "      date_deployment\n",
    "    }\n",
    "  }\n",
    "}\n",
    "```\n",
    "\n",
    "```\n",
    "{\n",
    "  \"data\": {\n",
    "    \"physical_devices\": [\n",
    "      {\n",
    "        \"device_deploymentsFilter\": [\n",
    "          {\n",
    "            \"date_deployment\": \"2021-10-07T14:03:00.000Z\"\n",
    "          },\n",
    "          {\n",
    "            \"date_deployment\": \"2021-08-03T16:39:00.000Z\"\n",
    "          },\n",
    "          {\n",
    "            \"date_deployment\": \"2022-01-18T14:30:00.000Z\"\n",
    "          },\n",
    "          {\n",
    "            \"date_deployment\": \"2022-06-13T17:17:00.000Z\"\n",
    "          }\n",
    "        ]\n",
    "      }\n",
    "    ]\n",
    "  }\n",
    "}\n",
    "```"
   ]
  },
  {
   "cell_type": "markdown",
   "id": "92f7105e-e0a2-4326-8357-d41973797e48",
   "metadata": {},
   "source": [
    "**Run again `move` cli using `2022-01-18` as date of deployment?**"
   ]
  },
  {
   "cell_type": "markdown",
   "id": "87344627-8a7e-482c-a094-f44a7b6f08d6",
   "metadata": {},
   "source": [
    "# 22)"
   ]
  },
  {
   "cell_type": "markdown",
   "id": "9db29d3b-5f79-429f-8a34-0841b5bed190",
   "metadata": {},
   "source": [
    "`/LUSTRE/sacmod/SIPECAM/cumulo_13/entrega_27.abril.2022/SIPECAM FOTOS/Nodo 3_13_0_1398 FRENO/HLPXGM09048209/FOTOS`"
   ]
  },
  {
   "cell_type": "markdown",
   "id": "f5e9353f-e9b9-4016-83fe-25142c2c1337",
   "metadata": {},
   "source": [
    "Inicio:\n",
    "\n",
    "2022-02-24\n",
    "\n",
    "Fin:\n",
    "\n",
    "2022-04-01\n"
   ]
  },
  {
   "cell_type": "markdown",
   "id": "955ec94d-a78c-4487-8ef2-16cb8b6604ca",
   "metadata": {},
   "source": [
    "```\n",
    "query {\n",
    "  physical_devices(pagination: {limit: 0}, search: {field: serial_number, value: \"HLPXGM09048209\", operator: like}) {\n",
    "    device_deploymentsFilter(pagination: {limit: 0}) {\n",
    "      date_deployment\n",
    "    }\n",
    "  }\n",
    "}\n",
    "```\n",
    "\n",
    "```\n",
    "{\n",
    "  \"data\": {\n",
    "    \"physical_devices\": [\n",
    "      {\n",
    "        \"device_deploymentsFilter\": [\n",
    "          {\n",
    "            \"date_deployment\": \"2022-01-18T19:41:00.000Z\"\n",
    "          },\n",
    "          {\n",
    "            \"date_deployment\": \"2022-06-13T15:31:00.000Z\"\n",
    "          }\n",
    "        ]\n",
    "      }\n",
    "    ]\n",
    "  }\n",
    "}\n",
    "\n",
    "```"
   ]
  },
  {
   "cell_type": "markdown",
   "id": "45e821d6-b4ee-4f48-bb58-b1f883839ab9",
   "metadata": {},
   "source": [
    "**Run again `move` cli using `2022-01-18` as date of deployment?**"
   ]
  },
  {
   "cell_type": "markdown",
   "id": "652a48c6-bc3e-432c-bfc1-cdbe384173c5",
   "metadata": {},
   "source": [
    "# 23)"
   ]
  },
  {
   "cell_type": "markdown",
   "id": "a6d252a5-b706-447d-be34-b01b30fc80a2",
   "metadata": {},
   "source": [
    "`/LUSTRE/sacmod/SIPECAM/cumulo_13/entrega_27.abril.2022/RESPALDO MICRO SD AURA/NODO 3_13_1_1393/2/Cámara-trampa`"
   ]
  },
  {
   "cell_type": "markdown",
   "id": "006d72e7-13fa-4cec-9e00-59315a659c58",
   "metadata": {},
   "source": [
    "Inicio:\n",
    "\n",
    "2021-08-23\n",
    "\n",
    "Fin:\n",
    "\n",
    "2021-09-26\n"
   ]
  },
  {
   "cell_type": "markdown",
   "id": "26d74ac7-295a-487c-8b92-43247b19e9d7",
   "metadata": {},
   "source": [
    "```\n",
    "query {\n",
    "  physical_devices(pagination: {limit: 0}, search: {field: serial_number, value: \"HLPXGM09049482\", operator: like}) {\n",
    "    device_deploymentsFilter(pagination: {limit: 0}) {\n",
    "      date_deployment\n",
    "    }\n",
    "  }\n",
    "}\n",
    "```\n",
    "\n",
    "```\n",
    "{\n",
    "  \"data\": {\n",
    "    \"physical_devices\": [\n",
    "      {\n",
    "        \"device_deploymentsFilter\": [\n",
    "          {\n",
    "            \"date_deployment\": \"2021-10-09T17:59:00.000Z\"\n",
    "          },\n",
    "          {\n",
    "            \"date_deployment\": \"2021-08-11T16:16:00.000Z\"\n",
    "          },\n",
    "          {\n",
    "            \"date_deployment\": \"2021-11-28T18:40:00.000Z\"\n",
    "          },\n",
    "          {\n",
    "            \"date_deployment\": \"2022-01-07T19:51:00.000Z\"\n",
    "          },\n",
    "          {\n",
    "            \"date_deployment\": \"2022-02-07T18:35:00.000Z\"\n",
    "          },\n",
    "          {\n",
    "            \"date_deployment\": \"2022-04-03T13:36:00.000Z\"\n",
    "          },\n",
    "          {\n",
    "            \"date_deployment\": \"2022-06-02T16:38:00.000Z\"\n",
    "          }\n",
    "        ]\n",
    "      }\n",
    "    ]\n",
    "  }\n",
    "}\n",
    "```"
   ]
  },
  {
   "cell_type": "markdown",
   "id": "8bffd1d5-6213-4c5f-9ffc-de5be8dcb734",
   "metadata": {},
   "source": [
    "**Run again `move` cli using `2021-08-11` as date of deployment?**"
   ]
  },
  {
   "cell_type": "markdown",
   "id": "60e0d192-3ae7-45e7-9da9-4d7ccbac35d9",
   "metadata": {},
   "source": [
    "# 24)"
   ]
  },
  {
   "cell_type": "markdown",
   "id": "c6e130b4-a7cb-4c2f-af7a-8b134c44e088",
   "metadata": {},
   "source": [
    "`/LUSTRE/sacmod/SIPECAM/cumulo_13/entrega_27.abril.2022/RESPALDO MICRO SD AURA/NODO 3_13_1_1393/2/camara2`"
   ]
  },
  {
   "cell_type": "markdown",
   "id": "bde50b6c-010a-4982-9ff3-a8f6138cd330",
   "metadata": {},
   "source": [
    "Inicio:\n",
    "\n",
    "2021-08-15\n",
    "\n",
    "Fin:\n",
    "\n",
    "2021-09-30\n"
   ]
  },
  {
   "cell_type": "markdown",
   "id": "2c1f0284-88a6-4873-95bd-aea7ff654b0f",
   "metadata": {},
   "source": [
    "```\n",
    "query {\n",
    "  physical_devices(pagination: {limit: 0}, search: {field: serial_number, value: \"HLPXGM09048480\", operator: like}) {\n",
    "    device_deploymentsFilter(pagination: {limit: 0}) {\n",
    "      date_deployment\n",
    "    }\n",
    "  }\n",
    "}\n",
    "```\n",
    "\n",
    "```\n",
    "{\n",
    "  \"data\": {\n",
    "    \"physical_devices\": [\n",
    "      {\n",
    "        \"device_deploymentsFilter\": [\n",
    "          {\n",
    "            \"date_deployment\": \"2021-10-09T20:01:00.000Z\"\n",
    "          },\n",
    "          {\n",
    "            \"date_deployment\": \"2021-08-11T19:24:00.000Z\"\n",
    "          },\n",
    "          {\n",
    "            \"date_deployment\": \"2021-11-28T19:36:00.000Z\"\n",
    "          },\n",
    "          {\n",
    "            \"date_deployment\": \"2022-01-07T20:18:00.000Z\"\n",
    "          },\n",
    "          {\n",
    "            \"date_deployment\": \"2022-02-05T19:31:00.000Z\"\n",
    "          },\n",
    "          {\n",
    "            \"date_deployment\": \"2022-04-03T15:27:00.000Z\"\n",
    "          },\n",
    "          {\n",
    "            \"date_deployment\": \"2022-06-01T16:46:00.000Z\"\n",
    "          }\n",
    "        ]\n",
    "      }\n",
    "    ]\n",
    "  }\n",
    "}\n",
    "```"
   ]
  },
  {
   "cell_type": "markdown",
   "id": "6dc469a0-76ca-4624-923b-d4c17b11f407",
   "metadata": {},
   "source": [
    "**Run again `move` cli using `2021-08-11` as date of deployment?**"
   ]
  },
  {
   "cell_type": "markdown",
   "id": "18ce5735-b612-4fc9-9736-0964875a1e84",
   "metadata": {},
   "source": [
    "# 25)"
   ]
  },
  {
   "cell_type": "markdown",
   "id": "db9257f6-4605-4d23-819b-9f0f12aa425f",
   "metadata": {},
   "source": [
    "**Run again `extract` and `move` cli for: `/LUSTRE/sacmod/SIPECAM/cumulo_13/entrega_27.abril.2022/SIPECAM AUDIOS/Nodo 3_13_0_1399 LAS PIEDRAS/Audiomoth 1/Ultra.N5.T3`**"
   ]
  },
  {
   "cell_type": "markdown",
   "id": "69adf990-08c5-46b4-8b0f-89547218688f",
   "metadata": {},
   "source": [
    "# 26)"
   ]
  },
  {
   "cell_type": "markdown",
   "id": "fe1fd8a3-2ab1-4b57-b044-5cfc4941c0a5",
   "metadata": {},
   "source": [
    "**Run again `extract` and `move` cli for: `/LUSTRE/sacmod/SIPECAM/cumulo_13/entrega_27.abril.2022/SIPECAM AUDIOS/Nodo 3_13_0_1399 LAS PIEDRAS/Audiomoth 2/Ultra.N5.T3`**"
   ]
  },
  {
   "cell_type": "markdown",
   "id": "c91f9d31-30c3-42d8-a422-bca281b0da10",
   "metadata": {},
   "source": [
    "# 27)"
   ]
  },
  {
   "cell_type": "markdown",
   "id": "533501c5-0007-4f0e-a3ca-33ece1925e56",
   "metadata": {},
   "source": [
    "**Run again `extract` and `move` cli for: `/LUSTRE/sacmod/SIPECAM/cumulo_13/entrega_27.abril.2022/SIPECAM AUDIOS/Nodo 3_13_0_1399 LAS PIEDRAS/Audiomoth 2/Ultra.N5.T3 2`**"
   ]
  },
  {
   "cell_type": "markdown",
   "id": "4f3975b1-1202-4ff6-880e-c53d8ec397be",
   "metadata": {},
   "source": [
    "# 28)"
   ]
  },
  {
   "cell_type": "markdown",
   "id": "b65ce15b-6eca-4a5b-94b8-adfdcfa8c669",
   "metadata": {},
   "source": [
    "`/LUSTRE/sacmod/SIPECAM/cumulo_13/entrega_27.abril.2022/RESPALDO MICRO SD AURA/NODO 3_13_1_1393/GRABADORAS/ultra/10263609/`"
   ]
  },
  {
   "cell_type": "markdown",
   "id": "39bb1e05-eb3f-45f6-93b7-b6c3c6739d7e",
   "metadata": {},
   "source": [
    "No hay formularios asociados en las fechas de toma de archivos"
   ]
  },
  {
   "cell_type": "markdown",
   "id": "078714ef-d894-4027-8079-dd6dc6f73fc4",
   "metadata": {},
   "source": [
    "\n",
    "```\n",
    "query {\n",
    "  physical_devices(pagination: {limit: 0}, search: {field: comments, value: \"ADM248C7D075B1F40B4\", operator: like}) {\n",
    "    device_deploymentsFilter(pagination: {limit: 0}) {\n",
    "      date_deployment\n",
    "    }\n",
    "  }\n",
    "}\n",
    "```\n",
    "\n",
    "\n",
    "```\n",
    "{\n",
    "  \"data\": {\n",
    "    \"physical_devices\": [\n",
    "      {\n",
    "        \"device_deploymentsFilter\": []\n",
    "      }\n",
    "    ]\n",
    "  }\n",
    "}\n",
    "```"
   ]
  },
  {
   "cell_type": "code",
   "execution_count": null,
   "id": "ab8d0c17-eb85-412b-90c1-72a9fabc27ab",
   "metadata": {},
   "outputs": [],
   "source": []
  }
 ],
 "metadata": {
  "kernelspec": {
   "display_name": "Python 3 (ipykernel)",
   "language": "python",
   "name": "python3"
  },
  "language_info": {
   "codemirror_mode": {
    "name": "ipython",
    "version": 3
   },
   "file_extension": ".py",
   "mimetype": "text/x-python",
   "name": "python",
   "nbconvert_exporter": "python",
   "pygments_lexer": "ipython3",
   "version": "3.8.10"
  }
 },
 "nbformat": 4,
 "nbformat_minor": 5
}
