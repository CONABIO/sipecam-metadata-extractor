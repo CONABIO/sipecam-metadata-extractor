{
 "cells": [
  {
   "cell_type": "markdown",
   "id": "22c1e358-05ed-4eb4-96e5-f3b7e85516c4",
   "metadata": {
    "tags": []
   },
   "source": [
    "# List of files to extract metadata"
   ]
  },
  {
   "cell_type": "code",
   "execution_count": 1,
   "id": "4ee43f4f-5adb-43b7-80ca-a6469544c446",
   "metadata": {},
   "outputs": [],
   "source": [
    "%%bash\n",
    "dir_with_sipecam_data=/LUSTRE/sacmod/SIPECAM/Entregas_2021/octubre_2021/SIPECAM/\n",
    "list_of_files_and_subdirectories_to_extract_metadata --input_directory \"$dir_with_sipecam_data\""
   ]
  },
  {
   "cell_type": "markdown",
   "id": "d94bc532-1a09-4fed-b054-c0ce49c61551",
   "metadata": {
    "tags": []
   },
   "source": [
    "## Check"
   ]
  },
  {
   "cell_type": "code",
   "execution_count": 2,
   "id": "cdcdf0cc-222f-4bc5-8b8e-e7872a4e86a9",
   "metadata": {},
   "outputs": [
    {
     "name": "stdout",
     "output_type": "stream",
     "text": [
      "-rw-r--r-- 1 root root 3.2M Mar  8 13:35 /shared_volume/sipecam_files_to_extract_metadata_from_08-03-2022.txt\n"
     ]
    }
   ],
   "source": [
    "%%bash\n",
    "ls -lh /shared_volume/sipecam_files_to_extract_metadata_from_*"
   ]
  },
  {
   "cell_type": "code",
   "execution_count": 3,
   "id": "7f9e1d65-834d-4658-9be6-8bb23fd208eb",
   "metadata": {},
   "outputs": [
    {
     "name": "stdout",
     "output_type": "stream",
     "text": [
      "-rw-r--r-- 1 root root 1.8K Mar  8 13:35 /shared_volume/sipecam_subdirectories_08-03-2022.txt\n"
     ]
    }
   ],
   "source": [
    "%%bash\n",
    "ls -lh /shared_volume/sipecam_subdirectories_*"
   ]
  },
  {
   "cell_type": "code",
   "execution_count": 4,
   "id": "e7001026-dda1-40b0-aa2f-d9f899317ac9",
   "metadata": {},
   "outputs": [
    {
     "name": "stdout",
     "output_type": "stream",
     "text": [
      "29079 /shared_volume/sipecam_files_to_extract_metadata_from_08-03-2022.txt\n"
     ]
    }
   ],
   "source": [
    "%%bash\n",
    "wc -l /shared_volume/sipecam_files_to_extract_metadata_from_*"
   ]
  },
  {
   "cell_type": "code",
   "execution_count": 5,
   "id": "c34baac1-c3bf-4577-a680-13192c25a9d0",
   "metadata": {},
   "outputs": [
    {
     "name": "stdout",
     "output_type": "stream",
     "text": [
      "20 /shared_volume/sipecam_subdirectories_08-03-2022.txt\n"
     ]
    }
   ],
   "source": [
    "%%bash\n",
    "wc -l /shared_volume/sipecam_subdirectories_*"
   ]
  },
  {
   "cell_type": "code",
   "execution_count": 6,
   "id": "13a467d1-f103-435a-b109-2b098d7f97a8",
   "metadata": {},
   "outputs": [
    {
     "name": "stdout",
     "output_type": "stream",
     "text": [
      "/LUSTRE/sacmod/SIPECAM/Entregas_2021/octubre_2021/SIPECAM/Playon 1338/Audio/1338_1/Ultrasonico\n",
      "20210728_180000.WAV\n",
      "/LUSTRE/sacmod/SIPECAM/Entregas_2021/octubre_2021/SIPECAM/Playon 1338/Audio/1338_1/Audible\n",
      "20210728_093000.WAV\n",
      "/LUSTRE/sacmod/SIPECAM/Entregas_2021/octubre_2021/SIPECAM/Playon 1338/Audio/1338_2/Ultrasonico\n",
      "20210728_180000.WAV\n",
      "/LUSTRE/sacmod/SIPECAM/Entregas_2021/octubre_2021/SIPECAM/Playon 1338/Audio/1338_2/Audible\n",
      "20210728_105000.WAV\n",
      "/LUSTRE/sacmod/SIPECAM/Entregas_2021/octubre_2021/SIPECAM/Playon 1338/Audio/1338_3/Nueva carpeta/Unidad de USB\n",
      "20210728_141000.WAV\n",
      "/LUSTRE/sacmod/SIPECAM/Entregas_2021/octubre_2021/SIPECAM/Galacia 1339/1339_2/Audio/Ultrasonico\n",
      "20210729_102000.WAV\n",
      "/LUSTRE/sacmod/SIPECAM/Entregas_2021/octubre_2021/SIPECAM/Galacia 1339/1339_2/Audio/Audible\n",
      "20210729_180000.WAV\n",
      "/LUSTRE/sacmod/SIPECAM/Entregas_2021/octubre_2021/SIPECAM/Galacia 1339/1339_4/Audible\n",
      "20210729_133000.WAV\n",
      "/LUSTRE/sacmod/SIPECAM/Entregas_2021/octubre_2021/SIPECAM/Galacia 1339/1339_1/Audio\n",
      "20210729_090000.WAV\n",
      "/LUSTRE/sacmod/SIPECAM/Entregas_2021/octubre_2021/SIPECAM/Galacia 1339/1339_1/Audio/Ultrasonico\n",
      "20210729_180000.WAV\n",
      "/LUSTRE/sacmod/SIPECAM/Entregas_2021/octubre_2021/SIPECAM/Playon 1338/Camaras/1338_1/100RECNX\n",
      "RCNX0001.JPG\n",
      "/LUSTRE/sacmod/SIPECAM/Entregas_2021/octubre_2021/SIPECAM/Playon 1338/Camaras/1338_2/100RECNX\n",
      "RCNX0001.JPG\n",
      "/LUSTRE/sacmod/SIPECAM/Entregas_2021/octubre_2021/SIPECAM/Playon 1338/Camaras/1338_3/100RECNX\n",
      "RCNX0001.JPG\n",
      "/LUSTRE/sacmod/SIPECAM/Entregas_2021/octubre_2021/SIPECAM/Playon 1338/Camaras/1338_5\n",
      "RCNX0001.JPG\n",
      "/LUSTRE/sacmod/SIPECAM/Entregas_2021/octubre_2021/SIPECAM/Playon 1338/Camaras/1338_4/100RECNX\n",
      "RCNX0001.JPG\n",
      "/LUSTRE/sacmod/SIPECAM/Entregas_2021/octubre_2021/SIPECAM/Galacia 1339/1339_3/100RECNX\n",
      "RCNX0001.JPG\n",
      "/LUSTRE/sacmod/SIPECAM/Entregas_2021/octubre_2021/SIPECAM/Galacia 1339/1339_2/Cámaras\n",
      "RCNX0001.JPG\n",
      "/LUSTRE/sacmod/SIPECAM/Entregas_2021/octubre_2021/SIPECAM/Galacia 1339/1339_5/100RECNX\n",
      "RCNX0001.JPG\n",
      "/LUSTRE/sacmod/SIPECAM/Entregas_2021/octubre_2021/SIPECAM/Galacia 1339/1339_4\n",
      "RCNX0001.JPG\n",
      "/LUSTRE/sacmod/SIPECAM/Entregas_2021/octubre_2021/SIPECAM/Galacia 1339/1339_1/Camaras\n",
      "RCNX0001.JPG\n"
     ]
    }
   ],
   "source": [
    "%%bash\n",
    "#check every first subdirectory has a JPG, WAV or AVI file\n",
    "SAVEIFS=$IFS;IFS=$(echo -en \"\\n\\b\")\n",
    "for f in $(cat /shared_volume/sipecam_subdirectories_*.txt)\n",
    "  do echo \"$f\"\n",
    "     ls \"$f\"|grep \"[WAV|wav|JPG|jpg|AVI|avi]$\"|head -n 1\n",
    "done\n",
    "IFS=$SAVEIFS"
   ]
  },
  {
   "cell_type": "markdown",
   "id": "0c8980c9-137b-4554-99f3-10045f778bdb",
   "metadata": {
    "tags": []
   },
   "source": [
    "# Extract serial number, dates and metadata of files and device"
   ]
  },
  {
   "cell_type": "code",
   "execution_count": 10,
   "id": "52e023dc-4598-480f-8724-796b741e18da",
   "metadata": {},
   "outputs": [
    {
     "name": "stdout",
     "output_type": "stream",
     "text": [
      "/LUSTRE/sacmod/SIPECAM/Entregas_2021/octubre_2021/SIPECAM/Playon 1338/Audio/1338_1/Ultrasonico\n",
      "/LUSTRE/sacmod/SIPECAM/Entregas_2021/octubre_2021/SIPECAM/Playon 1338/Audio/1338_1/Audible\n"
     ]
    },
    {
     "name": "stderr",
     "output_type": "stream",
     "text": [
      "multiprocessing.pool.RemoteTraceback: \n",
      "\"\"\"\n",
      "Traceback (most recent call last):\n",
      "  File \"/usr/lib/python3.8/multiprocessing/pool.py\", line 125, in worker\n",
      "    result = (True, func(*args, **kwds))\n",
      "  File \"/usr/lib/python3.8/multiprocessing/pool.py\", line 48, in mapstar\n",
      "    return list(map(*args))\n",
      "  File \"/usr/local/lib/python3.8/dist-packages/simex/extract_serial_numbers_dates_and_metadata_of_files_and_device.py\", line 27, in extract_metadata\n",
      "    date_of_file = read_metadata_audio.extract_date(filename)\n",
      "  File \"/usr/local/lib/python3.8/dist-packages/simex/read_metadata_audio.py\", line 143, in extract_date\n",
      "    return get_date(comment_metadata)#example: 2021-07-28\n",
      "  File \"/usr/local/lib/python3.8/dist-packages/simex/read_metadata_audio.py\", line 92, in get_date\n",
      "    match_date = ONLY_DATE_REGEX.search(comment)\n",
      "TypeError: expected string or bytes-like object\n",
      "\"\"\"\n",
      "\n",
      "The above exception was the direct cause of the following exception:\n",
      "\n",
      "Traceback (most recent call last):\n",
      "  File \"/usr/local/bin/extract_serial_numbers_dates_and_metadata_of_files_and_device\", line 8, in <module>\n",
      "    sys.exit(main())\n",
      "  File \"/usr/local/lib/python3.8/dist-packages/simex/extract_serial_numbers_dates_and_metadata_of_files_and_device.py\", line 226, in main\n",
      "    extract_metadata_of_files(input_directory,\n",
      "  File \"/usr/local/lib/python3.8/dist-packages/simex/extract_serial_numbers_dates_and_metadata_of_files_and_device.py\", line 141, in extract_metadata_of_files\n",
      "    res_map = pool.map(extract_metadata,\n",
      "  File \"/usr/lib/python3.8/multiprocessing/pool.py\", line 364, in map\n",
      "    return self._map_async(func, iterable, mapstar, chunksize).get()\n",
      "  File \"/usr/lib/python3.8/multiprocessing/pool.py\", line 771, in get\n",
      "    raise self._value\n",
      "TypeError: expected string or bytes-like object\n"
     ]
    },
    {
     "name": "stdout",
     "output_type": "stream",
     "text": [
      "/LUSTRE/sacmod/SIPECAM/Entregas_2021/octubre_2021/SIPECAM/Playon 1338/Audio/1338_2/Ultrasonico\n"
     ]
    },
    {
     "name": "stderr",
     "output_type": "stream",
     "text": [
      "multiprocessing.pool.RemoteTraceback: \n",
      "\"\"\"\n",
      "Traceback (most recent call last):\n",
      "  File \"/usr/lib/python3.8/multiprocessing/pool.py\", line 125, in worker\n",
      "    result = (True, func(*args, **kwds))\n",
      "  File \"/usr/lib/python3.8/multiprocessing/pool.py\", line 48, in mapstar\n",
      "    return list(map(*args))\n",
      "  File \"/usr/local/lib/python3.8/dist-packages/simex/extract_serial_numbers_dates_and_metadata_of_files_and_device.py\", line 28, in extract_metadata\n",
      "    tuple_metadata_of_file = (filename,read_metadata_audio.get_metadata_of_file(filename))\n",
      "  File \"/usr/local/lib/python3.8/dist-packages/simex/read_metadata_audio.py\", line 120, in get_metadata_of_file\n",
      "    battery = get_am_battery_state(comment_metadata)\n",
      "  File \"/usr/local/lib/python3.8/dist-packages/simex/read_metadata_audio.py\", line 37, in get_am_battery_state\n",
      "    return match.group(1)\n",
      "AttributeError: 'NoneType' object has no attribute 'group'\n",
      "\"\"\"\n",
      "\n",
      "The above exception was the direct cause of the following exception:\n",
      "\n",
      "Traceback (most recent call last):\n",
      "  File \"/usr/local/bin/extract_serial_numbers_dates_and_metadata_of_files_and_device\", line 8, in <module>\n",
      "    sys.exit(main())\n",
      "  File \"/usr/local/lib/python3.8/dist-packages/simex/extract_serial_numbers_dates_and_metadata_of_files_and_device.py\", line 226, in main\n",
      "    extract_metadata_of_files(input_directory,\n",
      "  File \"/usr/local/lib/python3.8/dist-packages/simex/extract_serial_numbers_dates_and_metadata_of_files_and_device.py\", line 141, in extract_metadata_of_files\n",
      "    res_map = pool.map(extract_metadata,\n",
      "  File \"/usr/lib/python3.8/multiprocessing/pool.py\", line 364, in map\n",
      "    return self._map_async(func, iterable, mapstar, chunksize).get()\n",
      "  File \"/usr/lib/python3.8/multiprocessing/pool.py\", line 771, in get\n",
      "    raise self._value\n",
      "AttributeError: 'NoneType' object has no attribute 'group'\n"
     ]
    },
    {
     "name": "stdout",
     "output_type": "stream",
     "text": [
      "/LUSTRE/sacmod/SIPECAM/Entregas_2021/octubre_2021/SIPECAM/Playon 1338/Audio/1338_2/Audible\n"
     ]
    },
    {
     "name": "stderr",
     "output_type": "stream",
     "text": [
      "multiprocessing.pool.RemoteTraceback: \n",
      "\"\"\"\n",
      "Traceback (most recent call last):\n",
      "  File \"/usr/lib/python3.8/multiprocessing/pool.py\", line 125, in worker\n",
      "    result = (True, func(*args, **kwds))\n",
      "  File \"/usr/lib/python3.8/multiprocessing/pool.py\", line 48, in mapstar\n",
      "    return list(map(*args))\n",
      "  File \"/usr/local/lib/python3.8/dist-packages/simex/extract_serial_numbers_dates_and_metadata_of_files_and_device.py\", line 27, in extract_metadata\n",
      "    date_of_file = read_metadata_audio.extract_date(filename)\n",
      "  File \"/usr/local/lib/python3.8/dist-packages/simex/read_metadata_audio.py\", line 143, in extract_date\n",
      "    return get_date(comment_metadata)#example: 2021-07-28\n",
      "  File \"/usr/local/lib/python3.8/dist-packages/simex/read_metadata_audio.py\", line 92, in get_date\n",
      "    match_date = ONLY_DATE_REGEX.search(comment)\n",
      "TypeError: expected string or bytes-like object\n",
      "\"\"\"\n",
      "\n",
      "The above exception was the direct cause of the following exception:\n",
      "\n",
      "Traceback (most recent call last):\n",
      "  File \"/usr/local/bin/extract_serial_numbers_dates_and_metadata_of_files_and_device\", line 8, in <module>\n",
      "    sys.exit(main())\n",
      "  File \"/usr/local/lib/python3.8/dist-packages/simex/extract_serial_numbers_dates_and_metadata_of_files_and_device.py\", line 226, in main\n",
      "    extract_metadata_of_files(input_directory,\n",
      "  File \"/usr/local/lib/python3.8/dist-packages/simex/extract_serial_numbers_dates_and_metadata_of_files_and_device.py\", line 141, in extract_metadata_of_files\n",
      "    res_map = pool.map(extract_metadata,\n",
      "  File \"/usr/lib/python3.8/multiprocessing/pool.py\", line 364, in map\n",
      "    return self._map_async(func, iterable, mapstar, chunksize).get()\n",
      "  File \"/usr/lib/python3.8/multiprocessing/pool.py\", line 771, in get\n",
      "    raise self._value\n",
      "TypeError: expected string or bytes-like object\n"
     ]
    },
    {
     "name": "stdout",
     "output_type": "stream",
     "text": [
      "/LUSTRE/sacmod/SIPECAM/Entregas_2021/octubre_2021/SIPECAM/Playon 1338/Audio/1338_3/Nueva carpeta/Unidad de USB\n",
      "/LUSTRE/sacmod/SIPECAM/Entregas_2021/octubre_2021/SIPECAM/Galacia 1339/1339_2/Audio/Ultrasonico\n",
      "/LUSTRE/sacmod/SIPECAM/Entregas_2021/octubre_2021/SIPECAM/Galacia 1339/1339_2/Audio/Audible\n",
      "/LUSTRE/sacmod/SIPECAM/Entregas_2021/octubre_2021/SIPECAM/Galacia 1339/1339_4/Audible\n"
     ]
    },
    {
     "name": "stderr",
     "output_type": "stream",
     "text": [
      "multiprocessing.pool.RemoteTraceback: \n",
      "\"\"\"\n",
      "Traceback (most recent call last):\n",
      "  File \"/usr/lib/python3.8/multiprocessing/pool.py\", line 125, in worker\n",
      "    result = (True, func(*args, **kwds))\n",
      "  File \"/usr/lib/python3.8/multiprocessing/pool.py\", line 48, in mapstar\n",
      "    return list(map(*args))\n",
      "  File \"/usr/local/lib/python3.8/dist-packages/simex/extract_serial_numbers_dates_and_metadata_of_files_and_device.py\", line 27, in extract_metadata\n",
      "    date_of_file = read_metadata_audio.extract_date(filename)\n",
      "  File \"/usr/local/lib/python3.8/dist-packages/simex/read_metadata_audio.py\", line 143, in extract_date\n",
      "    return get_date(comment_metadata)#example: 2021-07-28\n",
      "  File \"/usr/local/lib/python3.8/dist-packages/simex/read_metadata_audio.py\", line 92, in get_date\n",
      "    match_date = ONLY_DATE_REGEX.search(comment)\n",
      "TypeError: expected string or bytes-like object\n",
      "\"\"\"\n",
      "\n",
      "The above exception was the direct cause of the following exception:\n",
      "\n",
      "Traceback (most recent call last):\n",
      "  File \"/usr/local/bin/extract_serial_numbers_dates_and_metadata_of_files_and_device\", line 8, in <module>\n",
      "    sys.exit(main())\n",
      "  File \"/usr/local/lib/python3.8/dist-packages/simex/extract_serial_numbers_dates_and_metadata_of_files_and_device.py\", line 226, in main\n",
      "    extract_metadata_of_files(input_directory,\n",
      "  File \"/usr/local/lib/python3.8/dist-packages/simex/extract_serial_numbers_dates_and_metadata_of_files_and_device.py\", line 141, in extract_metadata_of_files\n",
      "    res_map = pool.map(extract_metadata,\n",
      "  File \"/usr/lib/python3.8/multiprocessing/pool.py\", line 364, in map\n",
      "    return self._map_async(func, iterable, mapstar, chunksize).get()\n",
      "  File \"/usr/lib/python3.8/multiprocessing/pool.py\", line 771, in get\n",
      "    raise self._value\n",
      "TypeError: expected string or bytes-like object\n"
     ]
    },
    {
     "name": "stdout",
     "output_type": "stream",
     "text": [
      "/LUSTRE/sacmod/SIPECAM/Entregas_2021/octubre_2021/SIPECAM/Galacia 1339/1339_1/Audio\n",
      "/LUSTRE/sacmod/SIPECAM/Entregas_2021/octubre_2021/SIPECAM/Galacia 1339/1339_1/Audio/Ultrasonico\n",
      "/LUSTRE/sacmod/SIPECAM/Entregas_2021/octubre_2021/SIPECAM/Playon 1338/Camaras/1338_1/100RECNX\n",
      "/LUSTRE/sacmod/SIPECAM/Entregas_2021/octubre_2021/SIPECAM/Playon 1338/Camaras/1338_2/100RECNX\n",
      "/LUSTRE/sacmod/SIPECAM/Entregas_2021/octubre_2021/SIPECAM/Playon 1338/Camaras/1338_3/100RECNX\n",
      "/LUSTRE/sacmod/SIPECAM/Entregas_2021/octubre_2021/SIPECAM/Playon 1338/Camaras/1338_5\n",
      "/LUSTRE/sacmod/SIPECAM/Entregas_2021/octubre_2021/SIPECAM/Playon 1338/Camaras/1338_4/100RECNX\n",
      "/LUSTRE/sacmod/SIPECAM/Entregas_2021/octubre_2021/SIPECAM/Galacia 1339/1339_3/100RECNX\n",
      "/LUSTRE/sacmod/SIPECAM/Entregas_2021/octubre_2021/SIPECAM/Galacia 1339/1339_2/Cámaras\n",
      "/LUSTRE/sacmod/SIPECAM/Entregas_2021/octubre_2021/SIPECAM/Galacia 1339/1339_5/100RECNX\n"
     ]
    },
    {
     "name": "stderr",
     "output_type": "stream",
     "text": [
      "Traceback (most recent call last):\n",
      "  File \"/usr/local/bin/extract_serial_numbers_dates_and_metadata_of_files_and_device\", line 8, in <module>\n",
      "    sys.exit(main())\n",
      "  File \"/usr/local/lib/python3.8/dist-packages/simex/extract_serial_numbers_dates_and_metadata_of_files_and_device.py\", line 220, in main\n",
      "    extract_metadata_of_device_from_files(input_directory,\n",
      "  File \"/usr/local/lib/python3.8/dist-packages/simex/extract_serial_numbers_dates_and_metadata_of_files_and_device.py\", line 128, in extract_metadata_of_device_from_files\n",
      "    d_output[\"GPSFile\"] = read_metadata_image.extract_gps(filename)\n",
      "  File \"/usr/local/lib/python3.8/dist-packages/simex/read_metadata_image.py\", line 92, in extract_gps\n",
      "    gps_metadata[v] = exiftool_metadata[k]\n",
      "KeyError: 'Composite:GPSLatitude'\n"
     ]
    },
    {
     "name": "stdout",
     "output_type": "stream",
     "text": [
      "/LUSTRE/sacmod/SIPECAM/Entregas_2021/octubre_2021/SIPECAM/Galacia 1339/1339_4\n",
      "/LUSTRE/sacmod/SIPECAM/Entregas_2021/octubre_2021/SIPECAM/Galacia 1339/1339_1/Camaras\n"
     ]
    }
   ],
   "source": [
    "%%bash\n",
    "list_of_dirs_to_be_processed=/shared_volume/sipecam_subdirectories_08-03-2022.txt\n",
    "SAVEIFS=$IFS;IFS=$(echo -en \"\\n\\b\")\n",
    "for dir_to_be_processed in $(cat $list_of_dirs_to_be_processed)\n",
    "    do\n",
    "    echo \"$dir_to_be_processed\"\n",
    "    extract_serial_numbers_dates_and_metadata_of_files_and_device --input_dir \"$dir_to_be_processed\" --parallel --number_of_processes 10\n",
    "done\n",
    "IFS=$SAVEIFS"
   ]
  },
  {
   "cell_type": "markdown",
   "id": "dca8800f-5e11-45a4-ab4c-cf681b52c0b3",
   "metadata": {},
   "source": [
    "# Checking dirs that had error"
   ]
  },
  {
   "cell_type": "code",
   "execution_count": null,
   "id": "d238b8fc-c67b-4cc5-9051-41eefaca7f72",
   "metadata": {},
   "outputs": [],
   "source": [
    "#%%bash\n",
    "#dir_to_be_processed=\"/LUSTRE/sacmod/SIPECAM/Entregas_2021/octubre_2021/SIPECAM/Playon 1338/Audio/1338_1/Audible\"\n",
    "##default for parallel execution are 4 processes\n",
    "#extract_serial_numbers_dates_and_metadata_of_files_and_device --input_dir \"$dir_to_be_processed\" --parallel"
   ]
  }
 ],
 "metadata": {
  "kernelspec": {
   "display_name": "Python 3 (ipykernel)",
   "language": "python",
   "name": "python3"
  },
  "language_info": {
   "codemirror_mode": {
    "name": "ipython",
    "version": 3
   },
   "file_extension": ".py",
   "mimetype": "text/x-python",
   "name": "python",
   "nbconvert_exporter": "python",
   "pygments_lexer": "ipython3",
   "version": "3.8.10"
  }
 },
 "nbformat": 4,
 "nbformat_minor": 5
}
