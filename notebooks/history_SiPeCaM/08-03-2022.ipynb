{
 "cells": [
  {
   "cell_type": "markdown",
   "id": "22c1e358-05ed-4eb4-96e5-f3b7e85516c4",
   "metadata": {
    "tags": []
   },
   "source": [
    "# List of files to extract metadata"
   ]
  },
  {
   "cell_type": "code",
   "execution_count": 1,
   "id": "4ee43f4f-5adb-43b7-80ca-a6469544c446",
   "metadata": {},
   "outputs": [],
   "source": [
    "%%bash\n",
    "dir_with_sipecam_data=/LUSTRE/sacmod/SIPECAM/Entregas_2021/octubre_2021/SIPECAM/\n",
    "list_of_files_and_subdirectories_to_extract_metadata --input_directory \"$dir_with_sipecam_data\""
   ]
  },
  {
   "cell_type": "markdown",
   "id": "d94bc532-1a09-4fed-b054-c0ce49c61551",
   "metadata": {
    "tags": []
   },
   "source": [
    "## Check"
   ]
  },
  {
   "cell_type": "code",
   "execution_count": 2,
   "id": "cdcdf0cc-222f-4bc5-8b8e-e7872a4e86a9",
   "metadata": {},
   "outputs": [
    {
     "name": "stdout",
     "output_type": "stream",
     "text": [
      "-rw-r--r-- 1 root root 3.2M Mar  8 13:35 /shared_volume/sipecam_files_to_extract_metadata_from_08-03-2022.txt\n"
     ]
    }
   ],
   "source": [
    "%%bash\n",
    "ls -lh /shared_volume/sipecam_files_to_extract_metadata_from_*"
   ]
  },
  {
   "cell_type": "code",
   "execution_count": 3,
   "id": "7f9e1d65-834d-4658-9be6-8bb23fd208eb",
   "metadata": {},
   "outputs": [
    {
     "name": "stdout",
     "output_type": "stream",
     "text": [
      "-rw-r--r-- 1 root root 1.8K Mar  8 13:35 /shared_volume/sipecam_subdirectories_08-03-2022.txt\n"
     ]
    }
   ],
   "source": [
    "%%bash\n",
    "ls -lh /shared_volume/sipecam_subdirectories_*"
   ]
  },
  {
   "cell_type": "code",
   "execution_count": 4,
   "id": "e7001026-dda1-40b0-aa2f-d9f899317ac9",
   "metadata": {},
   "outputs": [
    {
     "name": "stdout",
     "output_type": "stream",
     "text": [
      "29079 /shared_volume/sipecam_files_to_extract_metadata_from_08-03-2022.txt\n"
     ]
    }
   ],
   "source": [
    "%%bash\n",
    "wc -l /shared_volume/sipecam_files_to_extract_metadata_from_*"
   ]
  },
  {
   "cell_type": "code",
   "execution_count": 5,
   "id": "c34baac1-c3bf-4577-a680-13192c25a9d0",
   "metadata": {},
   "outputs": [
    {
     "name": "stdout",
     "output_type": "stream",
     "text": [
      "20 /shared_volume/sipecam_subdirectories_08-03-2022.txt\n"
     ]
    }
   ],
   "source": [
    "%%bash\n",
    "wc -l /shared_volume/sipecam_subdirectories_*"
   ]
  },
  {
   "cell_type": "code",
   "execution_count": 6,
   "id": "13a467d1-f103-435a-b109-2b098d7f97a8",
   "metadata": {},
   "outputs": [
    {
     "name": "stdout",
     "output_type": "stream",
     "text": [
      "/LUSTRE/sacmod/SIPECAM/Entregas_2021/octubre_2021/SIPECAM/Playon 1338/Audio/1338_1/Ultrasonico\n",
      "20210728_180000.WAV\n",
      "/LUSTRE/sacmod/SIPECAM/Entregas_2021/octubre_2021/SIPECAM/Playon 1338/Audio/1338_1/Audible\n",
      "20210728_093000.WAV\n",
      "/LUSTRE/sacmod/SIPECAM/Entregas_2021/octubre_2021/SIPECAM/Playon 1338/Audio/1338_2/Ultrasonico\n",
      "20210728_180000.WAV\n",
      "/LUSTRE/sacmod/SIPECAM/Entregas_2021/octubre_2021/SIPECAM/Playon 1338/Audio/1338_2/Audible\n",
      "20210728_105000.WAV\n",
      "/LUSTRE/sacmod/SIPECAM/Entregas_2021/octubre_2021/SIPECAM/Playon 1338/Audio/1338_3/Nueva carpeta/Unidad de USB\n",
      "20210728_141000.WAV\n",
      "/LUSTRE/sacmod/SIPECAM/Entregas_2021/octubre_2021/SIPECAM/Galacia 1339/1339_2/Audio/Ultrasonico\n",
      "20210729_102000.WAV\n",
      "/LUSTRE/sacmod/SIPECAM/Entregas_2021/octubre_2021/SIPECAM/Galacia 1339/1339_2/Audio/Audible\n",
      "20210729_180000.WAV\n",
      "/LUSTRE/sacmod/SIPECAM/Entregas_2021/octubre_2021/SIPECAM/Galacia 1339/1339_4/Audible\n",
      "20210729_133000.WAV\n",
      "/LUSTRE/sacmod/SIPECAM/Entregas_2021/octubre_2021/SIPECAM/Galacia 1339/1339_1/Audio\n",
      "20210729_090000.WAV\n",
      "/LUSTRE/sacmod/SIPECAM/Entregas_2021/octubre_2021/SIPECAM/Galacia 1339/1339_1/Audio/Ultrasonico\n",
      "20210729_180000.WAV\n",
      "/LUSTRE/sacmod/SIPECAM/Entregas_2021/octubre_2021/SIPECAM/Playon 1338/Camaras/1338_1/100RECNX\n",
      "RCNX0001.JPG\n",
      "/LUSTRE/sacmod/SIPECAM/Entregas_2021/octubre_2021/SIPECAM/Playon 1338/Camaras/1338_2/100RECNX\n",
      "RCNX0001.JPG\n",
      "/LUSTRE/sacmod/SIPECAM/Entregas_2021/octubre_2021/SIPECAM/Playon 1338/Camaras/1338_3/100RECNX\n",
      "RCNX0001.JPG\n",
      "/LUSTRE/sacmod/SIPECAM/Entregas_2021/octubre_2021/SIPECAM/Playon 1338/Camaras/1338_5\n",
      "RCNX0001.JPG\n",
      "/LUSTRE/sacmod/SIPECAM/Entregas_2021/octubre_2021/SIPECAM/Playon 1338/Camaras/1338_4/100RECNX\n",
      "RCNX0001.JPG\n",
      "/LUSTRE/sacmod/SIPECAM/Entregas_2021/octubre_2021/SIPECAM/Galacia 1339/1339_3/100RECNX\n",
      "RCNX0001.JPG\n",
      "/LUSTRE/sacmod/SIPECAM/Entregas_2021/octubre_2021/SIPECAM/Galacia 1339/1339_2/Cámaras\n",
      "RCNX0001.JPG\n",
      "/LUSTRE/sacmod/SIPECAM/Entregas_2021/octubre_2021/SIPECAM/Galacia 1339/1339_5/100RECNX\n",
      "RCNX0001.JPG\n",
      "/LUSTRE/sacmod/SIPECAM/Entregas_2021/octubre_2021/SIPECAM/Galacia 1339/1339_4\n",
      "RCNX0001.JPG\n",
      "/LUSTRE/sacmod/SIPECAM/Entregas_2021/octubre_2021/SIPECAM/Galacia 1339/1339_1/Camaras\n",
      "RCNX0001.JPG\n"
     ]
    }
   ],
   "source": [
    "%%bash\n",
    "#check every first subdirectory has a JPG, WAV or AVI file\n",
    "SAVEIFS=$IFS;IFS=$(echo -en \"\\n\\b\")\n",
    "for f in $(cat /shared_volume/sipecam_subdirectories_*.txt)\n",
    "  do echo \"$f\"\n",
    "     ls \"$f\"|grep \"[WAV|wav|JPG|jpg|AVI|avi]$\"|head -n 1\n",
    "done\n",
    "IFS=$SAVEIFS"
   ]
  },
  {
   "cell_type": "markdown",
   "id": "0c8980c9-137b-4554-99f3-10045f778bdb",
   "metadata": {
    "tags": []
   },
   "source": [
    "# Extract serial number, dates and metadata of files and device"
   ]
  },
  {
   "cell_type": "code",
   "execution_count": 10,
   "id": "52e023dc-4598-480f-8724-796b741e18da",
   "metadata": {},
   "outputs": [
    {
     "name": "stdout",
     "output_type": "stream",
     "text": [
      "/LUSTRE/sacmod/SIPECAM/Entregas_2021/octubre_2021/SIPECAM/Playon 1338/Audio/1338_1/Ultrasonico\n",
      "/LUSTRE/sacmod/SIPECAM/Entregas_2021/octubre_2021/SIPECAM/Playon 1338/Audio/1338_1/Audible\n"
     ]
    },
    {
     "name": "stderr",
     "output_type": "stream",
     "text": [
      "multiprocessing.pool.RemoteTraceback: \n",
      "\"\"\"\n",
      "Traceback (most recent call last):\n",
      "  File \"/usr/lib/python3.8/multiprocessing/pool.py\", line 125, in worker\n",
      "    result = (True, func(*args, **kwds))\n",
      "  File \"/usr/lib/python3.8/multiprocessing/pool.py\", line 48, in mapstar\n",
      "    return list(map(*args))\n",
      "  File \"/usr/local/lib/python3.8/dist-packages/simex/extract_serial_numbers_dates_and_metadata_of_files_and_device.py\", line 27, in extract_metadata\n",
      "    date_of_file = read_metadata_audio.extract_date(filename)\n",
      "  File \"/usr/local/lib/python3.8/dist-packages/simex/read_metadata_audio.py\", line 143, in extract_date\n",
      "    return get_date(comment_metadata)#example: 2021-07-28\n",
      "  File \"/usr/local/lib/python3.8/dist-packages/simex/read_metadata_audio.py\", line 92, in get_date\n",
      "    match_date = ONLY_DATE_REGEX.search(comment)\n",
      "TypeError: expected string or bytes-like object\n",
      "\"\"\"\n",
      "\n",
      "The above exception was the direct cause of the following exception:\n",
      "\n",
      "Traceback (most recent call last):\n",
      "  File \"/usr/local/bin/extract_serial_numbers_dates_and_metadata_of_files_and_device\", line 8, in <module>\n",
      "    sys.exit(main())\n",
      "  File \"/usr/local/lib/python3.8/dist-packages/simex/extract_serial_numbers_dates_and_metadata_of_files_and_device.py\", line 226, in main\n",
      "    extract_metadata_of_files(input_directory,\n",
      "  File \"/usr/local/lib/python3.8/dist-packages/simex/extract_serial_numbers_dates_and_metadata_of_files_and_device.py\", line 141, in extract_metadata_of_files\n",
      "    res_map = pool.map(extract_metadata,\n",
      "  File \"/usr/lib/python3.8/multiprocessing/pool.py\", line 364, in map\n",
      "    return self._map_async(func, iterable, mapstar, chunksize).get()\n",
      "  File \"/usr/lib/python3.8/multiprocessing/pool.py\", line 771, in get\n",
      "    raise self._value\n",
      "TypeError: expected string or bytes-like object\n"
     ]
    },
    {
     "name": "stdout",
     "output_type": "stream",
     "text": [
      "/LUSTRE/sacmod/SIPECAM/Entregas_2021/octubre_2021/SIPECAM/Playon 1338/Audio/1338_2/Ultrasonico\n"
     ]
    },
    {
     "name": "stderr",
     "output_type": "stream",
     "text": [
      "multiprocessing.pool.RemoteTraceback: \n",
      "\"\"\"\n",
      "Traceback (most recent call last):\n",
      "  File \"/usr/lib/python3.8/multiprocessing/pool.py\", line 125, in worker\n",
      "    result = (True, func(*args, **kwds))\n",
      "  File \"/usr/lib/python3.8/multiprocessing/pool.py\", line 48, in mapstar\n",
      "    return list(map(*args))\n",
      "  File \"/usr/local/lib/python3.8/dist-packages/simex/extract_serial_numbers_dates_and_metadata_of_files_and_device.py\", line 28, in extract_metadata\n",
      "    tuple_metadata_of_file = (filename,read_metadata_audio.get_metadata_of_file(filename))\n",
      "  File \"/usr/local/lib/python3.8/dist-packages/simex/read_metadata_audio.py\", line 120, in get_metadata_of_file\n",
      "    battery = get_am_battery_state(comment_metadata)\n",
      "  File \"/usr/local/lib/python3.8/dist-packages/simex/read_metadata_audio.py\", line 37, in get_am_battery_state\n",
      "    return match.group(1)\n",
      "AttributeError: 'NoneType' object has no attribute 'group'\n",
      "\"\"\"\n",
      "\n",
      "The above exception was the direct cause of the following exception:\n",
      "\n",
      "Traceback (most recent call last):\n",
      "  File \"/usr/local/bin/extract_serial_numbers_dates_and_metadata_of_files_and_device\", line 8, in <module>\n",
      "    sys.exit(main())\n",
      "  File \"/usr/local/lib/python3.8/dist-packages/simex/extract_serial_numbers_dates_and_metadata_of_files_and_device.py\", line 226, in main\n",
      "    extract_metadata_of_files(input_directory,\n",
      "  File \"/usr/local/lib/python3.8/dist-packages/simex/extract_serial_numbers_dates_and_metadata_of_files_and_device.py\", line 141, in extract_metadata_of_files\n",
      "    res_map = pool.map(extract_metadata,\n",
      "  File \"/usr/lib/python3.8/multiprocessing/pool.py\", line 364, in map\n",
      "    return self._map_async(func, iterable, mapstar, chunksize).get()\n",
      "  File \"/usr/lib/python3.8/multiprocessing/pool.py\", line 771, in get\n",
      "    raise self._value\n",
      "AttributeError: 'NoneType' object has no attribute 'group'\n"
     ]
    },
    {
     "name": "stdout",
     "output_type": "stream",
     "text": [
      "/LUSTRE/sacmod/SIPECAM/Entregas_2021/octubre_2021/SIPECAM/Playon 1338/Audio/1338_2/Audible\n"
     ]
    },
    {
     "name": "stderr",
     "output_type": "stream",
     "text": [
      "multiprocessing.pool.RemoteTraceback: \n",
      "\"\"\"\n",
      "Traceback (most recent call last):\n",
      "  File \"/usr/lib/python3.8/multiprocessing/pool.py\", line 125, in worker\n",
      "    result = (True, func(*args, **kwds))\n",
      "  File \"/usr/lib/python3.8/multiprocessing/pool.py\", line 48, in mapstar\n",
      "    return list(map(*args))\n",
      "  File \"/usr/local/lib/python3.8/dist-packages/simex/extract_serial_numbers_dates_and_metadata_of_files_and_device.py\", line 27, in extract_metadata\n",
      "    date_of_file = read_metadata_audio.extract_date(filename)\n",
      "  File \"/usr/local/lib/python3.8/dist-packages/simex/read_metadata_audio.py\", line 143, in extract_date\n",
      "    return get_date(comment_metadata)#example: 2021-07-28\n",
      "  File \"/usr/local/lib/python3.8/dist-packages/simex/read_metadata_audio.py\", line 92, in get_date\n",
      "    match_date = ONLY_DATE_REGEX.search(comment)\n",
      "TypeError: expected string or bytes-like object\n",
      "\"\"\"\n",
      "\n",
      "The above exception was the direct cause of the following exception:\n",
      "\n",
      "Traceback (most recent call last):\n",
      "  File \"/usr/local/bin/extract_serial_numbers_dates_and_metadata_of_files_and_device\", line 8, in <module>\n",
      "    sys.exit(main())\n",
      "  File \"/usr/local/lib/python3.8/dist-packages/simex/extract_serial_numbers_dates_and_metadata_of_files_and_device.py\", line 226, in main\n",
      "    extract_metadata_of_files(input_directory,\n",
      "  File \"/usr/local/lib/python3.8/dist-packages/simex/extract_serial_numbers_dates_and_metadata_of_files_and_device.py\", line 141, in extract_metadata_of_files\n",
      "    res_map = pool.map(extract_metadata,\n",
      "  File \"/usr/lib/python3.8/multiprocessing/pool.py\", line 364, in map\n",
      "    return self._map_async(func, iterable, mapstar, chunksize).get()\n",
      "  File \"/usr/lib/python3.8/multiprocessing/pool.py\", line 771, in get\n",
      "    raise self._value\n",
      "TypeError: expected string or bytes-like object\n"
     ]
    },
    {
     "name": "stdout",
     "output_type": "stream",
     "text": [
      "/LUSTRE/sacmod/SIPECAM/Entregas_2021/octubre_2021/SIPECAM/Playon 1338/Audio/1338_3/Nueva carpeta/Unidad de USB\n",
      "/LUSTRE/sacmod/SIPECAM/Entregas_2021/octubre_2021/SIPECAM/Galacia 1339/1339_2/Audio/Ultrasonico\n",
      "/LUSTRE/sacmod/SIPECAM/Entregas_2021/octubre_2021/SIPECAM/Galacia 1339/1339_2/Audio/Audible\n",
      "/LUSTRE/sacmod/SIPECAM/Entregas_2021/octubre_2021/SIPECAM/Galacia 1339/1339_4/Audible\n"
     ]
    },
    {
     "name": "stderr",
     "output_type": "stream",
     "text": [
      "multiprocessing.pool.RemoteTraceback: \n",
      "\"\"\"\n",
      "Traceback (most recent call last):\n",
      "  File \"/usr/lib/python3.8/multiprocessing/pool.py\", line 125, in worker\n",
      "    result = (True, func(*args, **kwds))\n",
      "  File \"/usr/lib/python3.8/multiprocessing/pool.py\", line 48, in mapstar\n",
      "    return list(map(*args))\n",
      "  File \"/usr/local/lib/python3.8/dist-packages/simex/extract_serial_numbers_dates_and_metadata_of_files_and_device.py\", line 27, in extract_metadata\n",
      "    date_of_file = read_metadata_audio.extract_date(filename)\n",
      "  File \"/usr/local/lib/python3.8/dist-packages/simex/read_metadata_audio.py\", line 143, in extract_date\n",
      "    return get_date(comment_metadata)#example: 2021-07-28\n",
      "  File \"/usr/local/lib/python3.8/dist-packages/simex/read_metadata_audio.py\", line 92, in get_date\n",
      "    match_date = ONLY_DATE_REGEX.search(comment)\n",
      "TypeError: expected string or bytes-like object\n",
      "\"\"\"\n",
      "\n",
      "The above exception was the direct cause of the following exception:\n",
      "\n",
      "Traceback (most recent call last):\n",
      "  File \"/usr/local/bin/extract_serial_numbers_dates_and_metadata_of_files_and_device\", line 8, in <module>\n",
      "    sys.exit(main())\n",
      "  File \"/usr/local/lib/python3.8/dist-packages/simex/extract_serial_numbers_dates_and_metadata_of_files_and_device.py\", line 226, in main\n",
      "    extract_metadata_of_files(input_directory,\n",
      "  File \"/usr/local/lib/python3.8/dist-packages/simex/extract_serial_numbers_dates_and_metadata_of_files_and_device.py\", line 141, in extract_metadata_of_files\n",
      "    res_map = pool.map(extract_metadata,\n",
      "  File \"/usr/lib/python3.8/multiprocessing/pool.py\", line 364, in map\n",
      "    return self._map_async(func, iterable, mapstar, chunksize).get()\n",
      "  File \"/usr/lib/python3.8/multiprocessing/pool.py\", line 771, in get\n",
      "    raise self._value\n",
      "TypeError: expected string or bytes-like object\n"
     ]
    },
    {
     "name": "stdout",
     "output_type": "stream",
     "text": [
      "/LUSTRE/sacmod/SIPECAM/Entregas_2021/octubre_2021/SIPECAM/Galacia 1339/1339_1/Audio\n",
      "/LUSTRE/sacmod/SIPECAM/Entregas_2021/octubre_2021/SIPECAM/Galacia 1339/1339_1/Audio/Ultrasonico\n",
      "/LUSTRE/sacmod/SIPECAM/Entregas_2021/octubre_2021/SIPECAM/Playon 1338/Camaras/1338_1/100RECNX\n",
      "/LUSTRE/sacmod/SIPECAM/Entregas_2021/octubre_2021/SIPECAM/Playon 1338/Camaras/1338_2/100RECNX\n",
      "/LUSTRE/sacmod/SIPECAM/Entregas_2021/octubre_2021/SIPECAM/Playon 1338/Camaras/1338_3/100RECNX\n",
      "/LUSTRE/sacmod/SIPECAM/Entregas_2021/octubre_2021/SIPECAM/Playon 1338/Camaras/1338_5\n",
      "/LUSTRE/sacmod/SIPECAM/Entregas_2021/octubre_2021/SIPECAM/Playon 1338/Camaras/1338_4/100RECNX\n",
      "/LUSTRE/sacmod/SIPECAM/Entregas_2021/octubre_2021/SIPECAM/Galacia 1339/1339_3/100RECNX\n",
      "/LUSTRE/sacmod/SIPECAM/Entregas_2021/octubre_2021/SIPECAM/Galacia 1339/1339_2/Cámaras\n",
      "/LUSTRE/sacmod/SIPECAM/Entregas_2021/octubre_2021/SIPECAM/Galacia 1339/1339_5/100RECNX\n"
     ]
    },
    {
     "name": "stderr",
     "output_type": "stream",
     "text": [
      "Traceback (most recent call last):\n",
      "  File \"/usr/local/bin/extract_serial_numbers_dates_and_metadata_of_files_and_device\", line 8, in <module>\n",
      "    sys.exit(main())\n",
      "  File \"/usr/local/lib/python3.8/dist-packages/simex/extract_serial_numbers_dates_and_metadata_of_files_and_device.py\", line 220, in main\n",
      "    extract_metadata_of_device_from_files(input_directory,\n",
      "  File \"/usr/local/lib/python3.8/dist-packages/simex/extract_serial_numbers_dates_and_metadata_of_files_and_device.py\", line 128, in extract_metadata_of_device_from_files\n",
      "    d_output[\"GPSFile\"] = read_metadata_image.extract_gps(filename)\n",
      "  File \"/usr/local/lib/python3.8/dist-packages/simex/read_metadata_image.py\", line 92, in extract_gps\n",
      "    gps_metadata[v] = exiftool_metadata[k]\n",
      "KeyError: 'Composite:GPSLatitude'\n"
     ]
    },
    {
     "name": "stdout",
     "output_type": "stream",
     "text": [
      "/LUSTRE/sacmod/SIPECAM/Entregas_2021/octubre_2021/SIPECAM/Galacia 1339/1339_4\n",
      "/LUSTRE/sacmod/SIPECAM/Entregas_2021/octubre_2021/SIPECAM/Galacia 1339/1339_1/Camaras\n"
     ]
    }
   ],
   "source": [
    "%%bash\n",
    "list_of_dirs_to_be_processed=/shared_volume/sipecam_subdirectories_08-03-2022.txt\n",
    "SAVEIFS=$IFS;IFS=$(echo -en \"\\n\\b\")\n",
    "for dir_to_be_processed in $(cat $list_of_dirs_to_be_processed)\n",
    "    do\n",
    "    echo \"$dir_to_be_processed\"\n",
    "    extract_serial_numbers_dates_and_metadata_of_files_and_device --input_dir \"$dir_to_be_processed\" --parallel --number_of_processes 10\n",
    "done\n",
    "IFS=$SAVEIFS"
   ]
  },
  {
   "cell_type": "markdown",
   "id": "dca8800f-5e11-45a4-ab4c-cf681b52c0b3",
   "metadata": {},
   "source": [
    "# Checking dirs that had error"
   ]
  },
  {
   "cell_type": "code",
   "execution_count": 12,
   "id": "d238b8fc-c67b-4cc5-9051-41eefaca7f72",
   "metadata": {},
   "outputs": [
    {
     "name": "stderr",
     "output_type": "stream",
     "text": [
      "Traceback (most recent call last):\n",
      "  File \"/usr/local/bin/extract_serial_numbers_dates_and_metadata_of_files_and_device\", line 8, in <module>\n",
      "    sys.exit(main())\n",
      "  File \"/usr/local/lib/python3.8/dist-packages/simex/extract_serial_numbers_dates_and_metadata_of_files_and_device.py\", line 226, in main\n",
      "    extract_metadata_of_files(input_directory,\n",
      "  File \"/usr/local/lib/python3.8/dist-packages/simex/extract_serial_numbers_dates_and_metadata_of_files_and_device.py\", line 164, in extract_metadata_of_files\n",
      "    tuple_date, tuple_metadata_of_file = extract_metadata(filename)\n",
      "  File \"/usr/local/lib/python3.8/dist-packages/simex/extract_serial_numbers_dates_and_metadata_of_files_and_device.py\", line 27, in extract_metadata\n",
      "    date_of_file = read_metadata_audio.extract_date(filename)\n",
      "  File \"/usr/local/lib/python3.8/dist-packages/simex/read_metadata_audio.py\", line 143, in extract_date\n",
      "    return get_date(comment_metadata)#example: 2021-07-28\n",
      "  File \"/usr/local/lib/python3.8/dist-packages/simex/read_metadata_audio.py\", line 92, in get_date\n",
      "    match_date = ONLY_DATE_REGEX.search(comment)\n",
      "TypeError: expected string or bytes-like object\n"
     ]
    },
    {
     "ename": "CalledProcessError",
     "evalue": "Command 'b'dir_to_be_processed=\"/LUSTRE/sacmod/SIPECAM/Entregas_2021/octubre_2021/SIPECAM/Playon 1338/Audio/1338_1/Audible\"\\n#default for parallel execution are 4 processes\\nextract_serial_numbers_dates_and_metadata_of_files_and_device --input_dir \"$dir_to_be_processed\"\\n'' returned non-zero exit status 1.",
     "output_type": "error",
     "traceback": [
      "\u001b[0;31m---------------------------------------------------------------------------\u001b[0m",
      "\u001b[0;31mCalledProcessError\u001b[0m                        Traceback (most recent call last)",
      "Input \u001b[0;32mIn [12]\u001b[0m, in \u001b[0;36m<cell line: 1>\u001b[0;34m()\u001b[0m\n\u001b[0;32m----> 1\u001b[0m \u001b[43mget_ipython\u001b[49m\u001b[43m(\u001b[49m\u001b[43m)\u001b[49m\u001b[38;5;241;43m.\u001b[39;49m\u001b[43mrun_cell_magic\u001b[49m\u001b[43m(\u001b[49m\u001b[38;5;124;43m'\u001b[39;49m\u001b[38;5;124;43mbash\u001b[39;49m\u001b[38;5;124;43m'\u001b[39;49m\u001b[43m,\u001b[49m\u001b[43m \u001b[49m\u001b[38;5;124;43m'\u001b[39;49m\u001b[38;5;124;43m'\u001b[39;49m\u001b[43m,\u001b[49m\u001b[43m \u001b[49m\u001b[38;5;124;43m'\u001b[39;49m\u001b[38;5;124;43mdir_to_be_processed=\u001b[39;49m\u001b[38;5;124;43m\"\u001b[39;49m\u001b[38;5;124;43m/LUSTRE/sacmod/SIPECAM/Entregas_2021/octubre_2021/SIPECAM/Playon 1338/Audio/1338_1/Audible\u001b[39;49m\u001b[38;5;124;43m\"\u001b[39;49m\u001b[38;5;130;43;01m\\n\u001b[39;49;00m\u001b[38;5;124;43m#default for parallel execution are 4 processes\u001b[39;49m\u001b[38;5;130;43;01m\\n\u001b[39;49;00m\u001b[38;5;124;43mextract_serial_numbers_dates_and_metadata_of_files_and_device --input_dir \u001b[39;49m\u001b[38;5;124;43m\"\u001b[39;49m\u001b[38;5;124;43m$dir_to_be_processed\u001b[39;49m\u001b[38;5;124;43m\"\u001b[39;49m\u001b[38;5;130;43;01m\\n\u001b[39;49;00m\u001b[38;5;124;43m'\u001b[39;49m\u001b[43m)\u001b[49m\n",
      "File \u001b[0;32m/usr/local/lib/python3.8/dist-packages/IPython/core/interactiveshell.py:2338\u001b[0m, in \u001b[0;36mInteractiveShell.run_cell_magic\u001b[0;34m(self, magic_name, line, cell)\u001b[0m\n\u001b[1;32m   2336\u001b[0m \u001b[38;5;28;01mwith\u001b[39;00m \u001b[38;5;28mself\u001b[39m\u001b[38;5;241m.\u001b[39mbuiltin_trap:\n\u001b[1;32m   2337\u001b[0m     args \u001b[38;5;241m=\u001b[39m (magic_arg_s, cell)\n\u001b[0;32m-> 2338\u001b[0m     result \u001b[38;5;241m=\u001b[39m \u001b[43mfn\u001b[49m\u001b[43m(\u001b[49m\u001b[38;5;241;43m*\u001b[39;49m\u001b[43margs\u001b[49m\u001b[43m,\u001b[49m\u001b[43m \u001b[49m\u001b[38;5;241;43m*\u001b[39;49m\u001b[38;5;241;43m*\u001b[39;49m\u001b[43mkwargs\u001b[49m\u001b[43m)\u001b[49m\n\u001b[1;32m   2339\u001b[0m \u001b[38;5;28;01mreturn\u001b[39;00m result\n",
      "File \u001b[0;32m/usr/local/lib/python3.8/dist-packages/IPython/core/magics/script.py:153\u001b[0m, in \u001b[0;36mScriptMagics._make_script_magic.<locals>.named_script_magic\u001b[0;34m(line, cell)\u001b[0m\n\u001b[1;32m    151\u001b[0m \u001b[38;5;28;01melse\u001b[39;00m:\n\u001b[1;32m    152\u001b[0m     line \u001b[38;5;241m=\u001b[39m script\n\u001b[0;32m--> 153\u001b[0m \u001b[38;5;28;01mreturn\u001b[39;00m \u001b[38;5;28;43mself\u001b[39;49m\u001b[38;5;241;43m.\u001b[39;49m\u001b[43mshebang\u001b[49m\u001b[43m(\u001b[49m\u001b[43mline\u001b[49m\u001b[43m,\u001b[49m\u001b[43m \u001b[49m\u001b[43mcell\u001b[49m\u001b[43m)\u001b[49m\n",
      "File \u001b[0;32m/usr/local/lib/python3.8/dist-packages/IPython/core/magics/script.py:305\u001b[0m, in \u001b[0;36mScriptMagics.shebang\u001b[0;34m(self, line, cell)\u001b[0m\n\u001b[1;32m    300\u001b[0m \u001b[38;5;28;01mif\u001b[39;00m args\u001b[38;5;241m.\u001b[39mraise_error \u001b[38;5;129;01mand\u001b[39;00m p\u001b[38;5;241m.\u001b[39mreturncode \u001b[38;5;241m!=\u001b[39m \u001b[38;5;241m0\u001b[39m:\n\u001b[1;32m    301\u001b[0m     \u001b[38;5;66;03m# If we get here and p.returncode is still None, we must have\u001b[39;00m\n\u001b[1;32m    302\u001b[0m     \u001b[38;5;66;03m# killed it but not yet seen its return code. We don't wait for it,\u001b[39;00m\n\u001b[1;32m    303\u001b[0m     \u001b[38;5;66;03m# in case it's stuck in uninterruptible sleep. -9 = SIGKILL\u001b[39;00m\n\u001b[1;32m    304\u001b[0m     rc \u001b[38;5;241m=\u001b[39m p\u001b[38;5;241m.\u001b[39mreturncode \u001b[38;5;129;01mor\u001b[39;00m \u001b[38;5;241m-\u001b[39m\u001b[38;5;241m9\u001b[39m\n\u001b[0;32m--> 305\u001b[0m     \u001b[38;5;28;01mraise\u001b[39;00m CalledProcessError(rc, cell)\n",
      "\u001b[0;31mCalledProcessError\u001b[0m: Command 'b'dir_to_be_processed=\"/LUSTRE/sacmod/SIPECAM/Entregas_2021/octubre_2021/SIPECAM/Playon 1338/Audio/1338_1/Audible\"\\n#default for parallel execution are 4 processes\\nextract_serial_numbers_dates_and_metadata_of_files_and_device --input_dir \"$dir_to_be_processed\"\\n'' returned non-zero exit status 1."
     ]
    }
   ],
   "source": [
    "%%bash\n",
    "dir_to_be_processed=\"/LUSTRE/sacmod/SIPECAM/Entregas_2021/octubre_2021/SIPECAM/Playon 1338/Audio/1338_1/Audible\"\n",
    "#default for parallel execution are 4 processes\n",
    "extract_serial_numbers_dates_and_metadata_of_files_and_device --input_dir \"$dir_to_be_processed\""
   ]
  },
  {
   "cell_type": "markdown",
   "id": "b44c75a9-9431-46ff-9b48-e36f18a92c39",
   "metadata": {},
   "source": [
    "Problematic file:\n",
    "\n",
    "/LUSTRE/sacmod/SIPECAM/Entregas_2021/octubre_2021/SIPECAM/Playon 1338/Audio/1338_1/Audible/20210809_035000.WAV"
   ]
  },
  {
   "cell_type": "code",
   "execution_count": 13,
   "id": "c2af0a68-9451-4418-a1c2-7448aa0aa0ed",
   "metadata": {},
   "outputs": [],
   "source": [
    "filename = \"/LUSTRE/sacmod/SIPECAM/Entregas_2021/octubre_2021/SIPECAM/Playon 1338/Audio/1338_1/Audible/20210809_035000.WAV\""
   ]
  },
  {
   "cell_type": "code",
   "execution_count": 14,
   "id": "9b5a28c7-8977-460e-9403-160a25105f7a",
   "metadata": {},
   "outputs": [],
   "source": [
    "from simex import read_metadata_audio"
   ]
  },
  {
   "cell_type": "code",
   "execution_count": 16,
   "id": "0975af7c-f4ac-4eb7-9964-90bcda177168",
   "metadata": {},
   "outputs": [
    {
     "ename": "TypeError",
     "evalue": "expected string or bytes-like object",
     "output_type": "error",
     "traceback": [
      "\u001b[0;31m---------------------------------------------------------------------------\u001b[0m",
      "\u001b[0;31mTypeError\u001b[0m                                 Traceback (most recent call last)",
      "Input \u001b[0;32mIn [16]\u001b[0m, in \u001b[0;36m<cell line: 1>\u001b[0;34m()\u001b[0m\n\u001b[0;32m----> 1\u001b[0m date_of_file \u001b[38;5;241m=\u001b[39m \u001b[43mread_metadata_audio\u001b[49m\u001b[38;5;241;43m.\u001b[39;49m\u001b[43mextract_date\u001b[49m\u001b[43m(\u001b[49m\u001b[43mfilename\u001b[49m\u001b[43m)\u001b[49m\n",
      "File \u001b[0;32m/usr/local/lib/python3.8/dist-packages/simex/read_metadata_audio.py:143\u001b[0m, in \u001b[0;36mextract_date\u001b[0;34m(filename)\u001b[0m\n\u001b[1;32m    141\u001b[0m \u001b[38;5;28;01mdef\u001b[39;00m \u001b[38;5;21mextract_date\u001b[39m(filename):\n\u001b[1;32m    142\u001b[0m     comment_metadata \u001b[38;5;241m=\u001b[39m get_comment(filename)\n\u001b[0;32m--> 143\u001b[0m     \u001b[38;5;28;01mreturn\u001b[39;00m \u001b[43mget_date\u001b[49m\u001b[43m(\u001b[49m\u001b[43mcomment_metadata\u001b[49m\u001b[43m)\u001b[49m\n",
      "File \u001b[0;32m/usr/local/lib/python3.8/dist-packages/simex/read_metadata_audio.py:92\u001b[0m, in \u001b[0;36mget_date\u001b[0;34m(comment)\u001b[0m\n\u001b[1;32m     91\u001b[0m \u001b[38;5;28;01mdef\u001b[39;00m \u001b[38;5;21mget_date\u001b[39m(comment):\n\u001b[0;32m---> 92\u001b[0m     match_date \u001b[38;5;241m=\u001b[39m \u001b[43mONLY_DATE_REGEX\u001b[49m\u001b[38;5;241;43m.\u001b[39;49m\u001b[43msearch\u001b[49m\u001b[43m(\u001b[49m\u001b[43mcomment\u001b[49m\u001b[43m)\u001b[49m\n\u001b[1;32m     93\u001b[0m     date_of_file \u001b[38;5;241m=\u001b[39m match_date\u001b[38;5;241m.\u001b[39mgroup(\u001b[38;5;241m1\u001b[39m)\n\u001b[1;32m     94\u001b[0m     format_string_data \u001b[38;5;241m=\u001b[39m \u001b[38;5;124m\"\u001b[39m\u001b[38;5;132;01m%d\u001b[39;00m\u001b[38;5;124m/\u001b[39m\u001b[38;5;124m%\u001b[39m\u001b[38;5;124mm/\u001b[39m\u001b[38;5;124m%\u001b[39m\u001b[38;5;124mY\u001b[39m\u001b[38;5;124m\"\u001b[39m\n",
      "\u001b[0;31mTypeError\u001b[0m: expected string or bytes-like object"
     ]
    }
   ],
   "source": [
    "date_of_file = read_metadata_audio.extract_date(filename)"
   ]
  },
  {
   "cell_type": "code",
   "execution_count": 17,
   "id": "b03bc847-05ed-43d4-bf6d-7d06ae641efd",
   "metadata": {},
   "outputs": [
    {
     "ename": "TypeError",
     "evalue": "expected string or bytes-like object",
     "output_type": "error",
     "traceback": [
      "\u001b[0;31m---------------------------------------------------------------------------\u001b[0m",
      "\u001b[0;31mTypeError\u001b[0m                                 Traceback (most recent call last)",
      "Input \u001b[0;32mIn [17]\u001b[0m, in \u001b[0;36m<cell line: 1>\u001b[0;34m()\u001b[0m\n\u001b[0;32m----> 1\u001b[0m tuple_metadata_of_file \u001b[38;5;241m=\u001b[39m (filename,\u001b[43mread_metadata_audio\u001b[49m\u001b[38;5;241;43m.\u001b[39;49m\u001b[43mget_metadata_of_file\u001b[49m\u001b[43m(\u001b[49m\u001b[43mfilename\u001b[49m\u001b[43m)\u001b[49m)\n",
      "File \u001b[0;32m/usr/local/lib/python3.8/dist-packages/simex/read_metadata_audio.py:120\u001b[0m, in \u001b[0;36mget_metadata_of_file\u001b[0;34m(filename)\u001b[0m\n\u001b[1;32m    118\u001b[0m \u001b[38;5;28;01mdef\u001b[39;00m \u001b[38;5;21mget_metadata_of_file\u001b[39m(filename):\n\u001b[1;32m    119\u001b[0m     comment_metadata \u001b[38;5;241m=\u001b[39m get_comment(filename)\n\u001b[0;32m--> 120\u001b[0m     battery \u001b[38;5;241m=\u001b[39m \u001b[43mget_am_battery_state\u001b[49m\u001b[43m(\u001b[49m\u001b[43mcomment_metadata\u001b[49m\u001b[43m)\u001b[49m\n\u001b[1;32m    121\u001b[0m     date_with_timezone \u001b[38;5;241m=\u001b[39m get_date_with_timezone(comment_metadata)\n\u001b[1;32m    122\u001b[0m     gain \u001b[38;5;241m=\u001b[39m get_am_gain(comment_metadata)\n",
      "File \u001b[0;32m/usr/local/lib/python3.8/dist-packages/simex/read_metadata_audio.py:36\u001b[0m, in \u001b[0;36mget_am_battery_state\u001b[0;34m(comment)\u001b[0m\n\u001b[1;32m     35\u001b[0m \u001b[38;5;28;01mdef\u001b[39;00m \u001b[38;5;21mget_am_battery_state\u001b[39m(comment):\n\u001b[0;32m---> 36\u001b[0m     match \u001b[38;5;241m=\u001b[39m \u001b[43mBATTERY_REGEX\u001b[49m\u001b[38;5;241;43m.\u001b[39;49m\u001b[43msearch\u001b[49m\u001b[43m(\u001b[49m\u001b[43mcomment\u001b[49m\u001b[43m)\u001b[49m\n\u001b[1;32m     37\u001b[0m     \u001b[38;5;28;01mreturn\u001b[39;00m match\u001b[38;5;241m.\u001b[39mgroup(\u001b[38;5;241m1\u001b[39m)\n",
      "\u001b[0;31mTypeError\u001b[0m: expected string or bytes-like object"
     ]
    }
   ],
   "source": [
    "tuple_metadata_of_file = (filename,read_metadata_audio.get_metadata_of_file(filename))"
   ]
  },
  {
   "cell_type": "code",
   "execution_count": 18,
   "id": "a6a792f4-30c7-4e05-ab10-6c6d950a8e1a",
   "metadata": {},
   "outputs": [
    {
     "name": "stdout",
     "output_type": "stream",
     "text": [
      "[{\n",
      "  \"SourceFile\": \"/LUSTRE/sacmod/SIPECAM/Entregas_2021/octubre_2021/SIPECAM/Playon 1338/Audio/1338_1/Audible/20210809_035000.WAV\",\n",
      "  \"ExifToolVersion\": 12.40,\n",
      "  \"FileName\": \"20210809_035000.WAV\",\n",
      "  \"Directory\": \"/LUSTRE/sacmod/SIPECAM/Entregas_2021/octubre_2021/SIPECAM/Playon 1338/Audio/1338_1/Audible\",\n",
      "  \"FileSize\": \"5.5 MiB\",\n",
      "  \"FileModifyDate\": \"2021:10:27 12:45:24-05:00\",\n",
      "  \"FileAccessDate\": \"2022:03:08 16:22:40-06:00\",\n",
      "  \"FileInodeChangeDate\": \"2022:02:11 15:29:35-06:00\",\n",
      "  \"FilePermissions\": \"-rwxrwxrwx\",\n",
      "  \"Error\": \"Entire file is binary zeros\"\n",
      "}]\n"
     ]
    },
    {
     "ename": "CalledProcessError",
     "evalue": "Command 'b'filename=\"/LUSTRE/sacmod/SIPECAM/Entregas_2021/octubre_2021/SIPECAM/Playon 1338/Audio/1338_1/Audible/20210809_035000.WAV\"\\nexiftool -a -j \"$filename\"\\n'' returned non-zero exit status 1.",
     "output_type": "error",
     "traceback": [
      "\u001b[0;31m---------------------------------------------------------------------------\u001b[0m",
      "\u001b[0;31mCalledProcessError\u001b[0m                        Traceback (most recent call last)",
      "Input \u001b[0;32mIn [18]\u001b[0m, in \u001b[0;36m<cell line: 1>\u001b[0;34m()\u001b[0m\n\u001b[0;32m----> 1\u001b[0m \u001b[43mget_ipython\u001b[49m\u001b[43m(\u001b[49m\u001b[43m)\u001b[49m\u001b[38;5;241;43m.\u001b[39;49m\u001b[43mrun_cell_magic\u001b[49m\u001b[43m(\u001b[49m\u001b[38;5;124;43m'\u001b[39;49m\u001b[38;5;124;43mbash\u001b[39;49m\u001b[38;5;124;43m'\u001b[39;49m\u001b[43m,\u001b[49m\u001b[43m \u001b[49m\u001b[38;5;124;43m'\u001b[39;49m\u001b[38;5;124;43m'\u001b[39;49m\u001b[43m,\u001b[49m\u001b[43m \u001b[49m\u001b[38;5;124;43m'\u001b[39;49m\u001b[38;5;124;43mfilename=\u001b[39;49m\u001b[38;5;124;43m\"\u001b[39;49m\u001b[38;5;124;43m/LUSTRE/sacmod/SIPECAM/Entregas_2021/octubre_2021/SIPECAM/Playon 1338/Audio/1338_1/Audible/20210809_035000.WAV\u001b[39;49m\u001b[38;5;124;43m\"\u001b[39;49m\u001b[38;5;130;43;01m\\n\u001b[39;49;00m\u001b[38;5;124;43mexiftool -a -j \u001b[39;49m\u001b[38;5;124;43m\"\u001b[39;49m\u001b[38;5;124;43m$filename\u001b[39;49m\u001b[38;5;124;43m\"\u001b[39;49m\u001b[38;5;130;43;01m\\n\u001b[39;49;00m\u001b[38;5;124;43m'\u001b[39;49m\u001b[43m)\u001b[49m\n",
      "File \u001b[0;32m/usr/local/lib/python3.8/dist-packages/IPython/core/interactiveshell.py:2338\u001b[0m, in \u001b[0;36mInteractiveShell.run_cell_magic\u001b[0;34m(self, magic_name, line, cell)\u001b[0m\n\u001b[1;32m   2336\u001b[0m \u001b[38;5;28;01mwith\u001b[39;00m \u001b[38;5;28mself\u001b[39m\u001b[38;5;241m.\u001b[39mbuiltin_trap:\n\u001b[1;32m   2337\u001b[0m     args \u001b[38;5;241m=\u001b[39m (magic_arg_s, cell)\n\u001b[0;32m-> 2338\u001b[0m     result \u001b[38;5;241m=\u001b[39m \u001b[43mfn\u001b[49m\u001b[43m(\u001b[49m\u001b[38;5;241;43m*\u001b[39;49m\u001b[43margs\u001b[49m\u001b[43m,\u001b[49m\u001b[43m \u001b[49m\u001b[38;5;241;43m*\u001b[39;49m\u001b[38;5;241;43m*\u001b[39;49m\u001b[43mkwargs\u001b[49m\u001b[43m)\u001b[49m\n\u001b[1;32m   2339\u001b[0m \u001b[38;5;28;01mreturn\u001b[39;00m result\n",
      "File \u001b[0;32m/usr/local/lib/python3.8/dist-packages/IPython/core/magics/script.py:153\u001b[0m, in \u001b[0;36mScriptMagics._make_script_magic.<locals>.named_script_magic\u001b[0;34m(line, cell)\u001b[0m\n\u001b[1;32m    151\u001b[0m \u001b[38;5;28;01melse\u001b[39;00m:\n\u001b[1;32m    152\u001b[0m     line \u001b[38;5;241m=\u001b[39m script\n\u001b[0;32m--> 153\u001b[0m \u001b[38;5;28;01mreturn\u001b[39;00m \u001b[38;5;28;43mself\u001b[39;49m\u001b[38;5;241;43m.\u001b[39;49m\u001b[43mshebang\u001b[49m\u001b[43m(\u001b[49m\u001b[43mline\u001b[49m\u001b[43m,\u001b[49m\u001b[43m \u001b[49m\u001b[43mcell\u001b[49m\u001b[43m)\u001b[49m\n",
      "File \u001b[0;32m/usr/local/lib/python3.8/dist-packages/IPython/core/magics/script.py:305\u001b[0m, in \u001b[0;36mScriptMagics.shebang\u001b[0;34m(self, line, cell)\u001b[0m\n\u001b[1;32m    300\u001b[0m \u001b[38;5;28;01mif\u001b[39;00m args\u001b[38;5;241m.\u001b[39mraise_error \u001b[38;5;129;01mand\u001b[39;00m p\u001b[38;5;241m.\u001b[39mreturncode \u001b[38;5;241m!=\u001b[39m \u001b[38;5;241m0\u001b[39m:\n\u001b[1;32m    301\u001b[0m     \u001b[38;5;66;03m# If we get here and p.returncode is still None, we must have\u001b[39;00m\n\u001b[1;32m    302\u001b[0m     \u001b[38;5;66;03m# killed it but not yet seen its return code. We don't wait for it,\u001b[39;00m\n\u001b[1;32m    303\u001b[0m     \u001b[38;5;66;03m# in case it's stuck in uninterruptible sleep. -9 = SIGKILL\u001b[39;00m\n\u001b[1;32m    304\u001b[0m     rc \u001b[38;5;241m=\u001b[39m p\u001b[38;5;241m.\u001b[39mreturncode \u001b[38;5;129;01mor\u001b[39;00m \u001b[38;5;241m-\u001b[39m\u001b[38;5;241m9\u001b[39m\n\u001b[0;32m--> 305\u001b[0m     \u001b[38;5;28;01mraise\u001b[39;00m CalledProcessError(rc, cell)\n",
      "\u001b[0;31mCalledProcessError\u001b[0m: Command 'b'filename=\"/LUSTRE/sacmod/SIPECAM/Entregas_2021/octubre_2021/SIPECAM/Playon 1338/Audio/1338_1/Audible/20210809_035000.WAV\"\\nexiftool -a -j \"$filename\"\\n'' returned non-zero exit status 1."
     ]
    }
   ],
   "source": [
    "%%bash\n",
    "filename=\"/LUSTRE/sacmod/SIPECAM/Entregas_2021/octubre_2021/SIPECAM/Playon 1338/Audio/1338_1/Audible/20210809_035000.WAV\"\n",
    "exiftool -a -j \"$filename\""
   ]
  },
  {
   "cell_type": "markdown",
   "id": "1d36f120-3d0b-4cde-9eb6-7083d54ed1d6",
   "metadata": {},
   "source": [
    "Moving file to directory \"/LUSTRE/sacmod/SIPECAM/Entregas_2021/octubre_2021_error/SIPECAM/Playon 1338/Audio/1338_1/Audible/\""
   ]
  },
  {
   "cell_type": "code",
   "execution_count": 19,
   "id": "3dcc27af-63b9-465c-b732-7ac66117ef0b",
   "metadata": {},
   "outputs": [],
   "source": [
    "%%bash\n",
    "mv \"/LUSTRE/sacmod/SIPECAM/Entregas_2021/octubre_2021/SIPECAM/Playon 1338/Audio/1338_1/Audible/20210809_035000.WAV\" \"/LUSTRE/sacmod/SIPECAM/Entregas_2021/octubre_2021_error/SIPECAM/Playon 1338/Audio/1338_1/Audible/\""
   ]
  },
  {
   "cell_type": "markdown",
   "id": "0a61fea3-a186-4670-accd-b2ea8a62dde2",
   "metadata": {},
   "source": [
    "Rerunning cmd"
   ]
  },
  {
   "cell_type": "code",
   "execution_count": 20,
   "id": "6220d3b5-68fd-42c1-86f5-c4a9c61ab547",
   "metadata": {},
   "outputs": [],
   "source": [
    "%%bash\n",
    "dir_to_be_processed=\"/LUSTRE/sacmod/SIPECAM/Entregas_2021/octubre_2021/SIPECAM/Playon 1338/Audio/1338_1/Audible\"\n",
    "#default for parallel execution are 4 processes\n",
    "extract_serial_numbers_dates_and_metadata_of_files_and_device --input_dir \"$dir_to_be_processed\""
   ]
  },
  {
   "cell_type": "code",
   "execution_count": null,
   "id": "3afa8607-15d0-4b5e-acd7-194dd1fa331b",
   "metadata": {},
   "outputs": [],
   "source": []
  }
 ],
 "metadata": {
  "kernelspec": {
   "display_name": "Python 3 (ipykernel)",
   "language": "python",
   "name": "python3"
  },
  "language_info": {
   "codemirror_mode": {
    "name": "ipython",
    "version": 3
   },
   "file_extension": ".py",
   "mimetype": "text/x-python",
   "name": "python",
   "nbconvert_exporter": "python",
   "pygments_lexer": "ipython3",
   "version": "3.8.10"
  }
 },
 "nbformat": 4,
 "nbformat_minor": 5
}
