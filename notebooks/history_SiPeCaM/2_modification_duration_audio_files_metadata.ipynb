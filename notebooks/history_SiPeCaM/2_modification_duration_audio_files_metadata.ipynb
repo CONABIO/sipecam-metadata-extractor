{
 "cells": [
  {
   "cell_type": "markdown",
   "id": "0f867d83-8245-440a-9768-056d45365e78",
   "metadata": {},
   "source": [
    "# Implementing in `simex`: extract duration for audio in float type"
   ]
  },
  {
   "cell_type": "code",
   "execution_count": null,
   "id": "df0ee5ff-95c5-42ef-a175-961095fb3bd9",
   "metadata": {},
   "outputs": [],
   "source": [
    "import exiftool"
   ]
  },
  {
   "cell_type": "code",
   "execution_count": 6,
   "id": "f9bfd140-20fd-4d5f-8424-54321aed63f1",
   "metadata": {},
   "outputs": [],
   "source": [
    "filename = \"/LUSTRE/sacmod/SIPECAM/cumulo_92/primera_entrega/Mes 3/3_92_1_1334/09048594/10262847 audi/20211021_120000.WAV\""
   ]
  },
  {
   "cell_type": "code",
   "execution_count": 8,
   "id": "67f600e8-8d98-42bd-9c75-aa9f01df5ab2",
   "metadata": {},
   "outputs": [],
   "source": [
    "with exiftool.ExifTool(common_args=[\"-G\"]) as et:\n",
    "    exiftool_metadata = et.get_tags(TAGS_FOR_FILE.keys(), filename)"
   ]
  },
  {
   "cell_type": "code",
   "execution_count": 9,
   "id": "183a7e1a-a95d-433e-95bb-78f3e026fcca",
   "metadata": {},
   "outputs": [
    {
     "data": {
      "text/plain": [
       "{'SourceFile': '/LUSTRE/sacmod/SIPECAM/cumulo_92/primera_entrega/Mes 3/3_92_1_1334/09048594/10262847 audi/20211021_120000.WAV',\n",
       " 'File:FileSize': '5.5 MiB',\n",
       " 'RIFF:Encoding': 'Microsoft PCM',\n",
       " 'RIFF:NumChannels': 1,\n",
       " 'RIFF:SampleRate': 48000,\n",
       " 'RIFF:AvgBytesPerSec': 96000,\n",
       " 'RIFF:BitsPerSample': 16,\n",
       " 'RIFF:Comment': 'Recorded at 12:00:00 21/10/2021 (UTC-6) by AudioMoth 248C7D075B1F7CCE at medium gain setting while battery state was 4.1V and temperature was 26.0C.',\n",
       " 'Composite:Duration': '0:01:00'}"
      ]
     },
     "execution_count": 9,
     "metadata": {},
     "output_type": "execute_result"
    }
   ],
   "source": [
    "exiftool_metadata"
   ]
  },
  {
   "cell_type": "code",
   "execution_count": 16,
   "id": "18893f12-b57c-4b5a-a4b5-0b985a15c475",
   "metadata": {},
   "outputs": [],
   "source": [
    "with exiftool.ExifTool(common_args=[\"-G\"]) as et:\n",
    "    params = [\"-duration#\"]\n",
    "    exiftool_metadata = et.get_metadata(filename, params=params)"
   ]
  },
  {
   "cell_type": "code",
   "execution_count": 17,
   "id": "230ec133-01c2-42ec-a240-29f57ae6b063",
   "metadata": {},
   "outputs": [
    {
     "data": {
      "text/plain": [
       "{'SourceFile': '/LUSTRE/sacmod/SIPECAM/cumulo_92/primera_entrega/Mes 3/3_92_1_1334/09048594/10262847 audi/20211021_120000.WAV',\n",
       " 'Composite:Duration': 60.0050833333333}"
      ]
     },
     "execution_count": 17,
     "metadata": {},
     "output_type": "execute_result"
    }
   ],
   "source": [
    "exiftool_metadata"
   ]
  },
  {
   "cell_type": "code",
   "execution_count": 18,
   "id": "9b27b773-46bc-46e7-b1ae-1ed5f39ac17d",
   "metadata": {},
   "outputs": [],
   "source": [
    "filename = \"/LUSTRE/sacmod/SIPECAM/cumulo_92/primera_entrega/Mes 2/3_92_1_1340/1340_1/ultrasonica/20210911_180000.WAV\""
   ]
  },
  {
   "cell_type": "code",
   "execution_count": 19,
   "id": "d459624d-46a1-430f-9a38-fba6c202c8f8",
   "metadata": {},
   "outputs": [],
   "source": [
    "with exiftool.ExifTool(common_args=[\"-G\"]) as et:\n",
    "    exiftool_metadata = et.get_tags(TAGS_FOR_FILE.keys(), filename)"
   ]
  },
  {
   "cell_type": "code",
   "execution_count": 20,
   "id": "503abecc-e8e3-497b-a422-f8a984dac4b2",
   "metadata": {},
   "outputs": [
    {
     "data": {
      "text/plain": [
       "{'SourceFile': '/LUSTRE/sacmod/SIPECAM/cumulo_92/primera_entrega/Mes 2/3_92_1_1340/1340_1/ultrasonica/20210911_180000.WAV',\n",
       " 'File:FileSize': '22 MiB',\n",
       " 'RIFF:Encoding': 'Microsoft PCM',\n",
       " 'RIFF:NumChannels': 1,\n",
       " 'RIFF:SampleRate': 384000,\n",
       " 'RIFF:AvgBytesPerSec': 768000,\n",
       " 'RIFF:BitsPerSample': 16,\n",
       " 'RIFF:Comment': 'Recorded at 18:00:00 11/09/2021 (UTC-6) by AudioMoth 2423C2045F256D74 at medium gain setting while battery state was 3.9V and temperature was 26.6C.',\n",
       " 'Composite:Duration': '0:00:30'}"
      ]
     },
     "execution_count": 20,
     "metadata": {},
     "output_type": "execute_result"
    }
   ],
   "source": [
    "exiftool_metadata"
   ]
  },
  {
   "cell_type": "code",
   "execution_count": 21,
   "id": "34e6c546-ac9f-4b9a-a2c3-4f86b0555258",
   "metadata": {},
   "outputs": [],
   "source": [
    "with exiftool.ExifTool(common_args=[\"-G\"]) as et:\n",
    "    params = [\"-duration#\"]\n",
    "    exiftool_metadata = et.get_metadata(filename, params=params)"
   ]
  },
  {
   "cell_type": "code",
   "execution_count": 22,
   "id": "2109e312-6e1f-408f-836d-a8c82fc71dab",
   "metadata": {},
   "outputs": [
    {
     "data": {
      "text/plain": [
       "{'SourceFile': '/LUSTRE/sacmod/SIPECAM/cumulo_92/primera_entrega/Mes 2/3_92_1_1340/1340_1/ultrasonica/20210911_180000.WAV',\n",
       " 'Composite:Duration': 30.0006354166667}"
      ]
     },
     "execution_count": 22,
     "metadata": {},
     "output_type": "execute_result"
    }
   ],
   "source": [
    "exiftool_metadata"
   ]
  },
  {
   "cell_type": "code",
   "execution_count": 40,
   "id": "ad03f367-1bdb-4d50-8bd8-fe2b08437140",
   "metadata": {},
   "outputs": [],
   "source": [
    "%%bash\n",
    "dir_to_be_processed=\"/root/test_dir/\"\n",
    "extract_serial_numbers_dates_and_metadata_of_files_and_device --input_dir \"$dir_to_be_processed\""
   ]
  },
  {
   "cell_type": "code",
   "execution_count": 41,
   "id": "8e15817e-21ac-4d46-bea6-7bbb107a2844",
   "metadata": {},
   "outputs": [
    {
     "name": "stdout",
     "output_type": "stream",
     "text": [
      "{\n",
      "    \"MetadataDevice\": {\n",
      "        \"Artist\": \"AudioMoth 2423C2045F256D74\",\n",
      "        \"SerialNumber\": \"2423C2045F256D74\"\n",
      "    },\n",
      "    \"MetadataFiles\": {\n",
      "        \"/root/test_dir/20210902_204000.WAV\": {\n",
      "            \"Battery\": \"4.4V\",\n",
      "            \"Datetime\": \"20:40:00 02/09/2021 (UTC-0600)\",\n",
      "            \"Gain\": \"medium\",\n",
      "            \"Timezone\": \"UTC\",\n",
      "            \"BitRate\": \"6.1 Mbit/sec\",\n",
      "            \"SerialNumber\": \"2423C2045F256D74\",\n",
      "            \"FileSize\": \"22 MiB\",\n",
      "            \"Encoding\": \"Microsoft PCM\",\n",
      "            \"NumChannels\": 1,\n",
      "            \"SampleRate\": 384000,\n",
      "            \"AvgBytesPerSec\": 768000,\n",
      "            \"BitsPerSample\": 16,\n",
      "            \"Comment\": \"Recorded at 20:40:00 02/09/2021 (UTC-6) by AudioMoth 2423C2045F256D74 at medium gain setting while battery state was 4.4V and temperature was 23.6C.\",\n",
      "            \"Duration\": 30.0006354166667\n",
      "        },\n",
      "        \"/root/test_dir/20210902_190000.WAV\": {\n",
      "            \"Battery\": \"4.4V\",\n",
      "            \"Datetime\": \"19:00:00 02/09/2021 (UTC-0600)\",\n",
      "            \"Gain\": \"medium\",\n",
      "            \"Timezone\": \"UTC\",\n",
      "            \"BitRate\": \"6.1 Mbit/sec\",\n",
      "            \"SerialNumber\": \"2423C2045F256D74\",\n",
      "            \"FileSize\": \"22 MiB\",\n",
      "            \"Encoding\": \"Microsoft PCM\",\n",
      "            \"NumChannels\": 1,\n",
      "            \"SampleRate\": 384000,\n",
      "            \"AvgBytesPerSec\": 768000,\n",
      "            \"BitsPerSample\": 16,\n",
      "            \"Comment\": \"Recorded at 19:00:00 02/09/2021 (UTC-6) by AudioMoth 2423C2045F256D74 at medium gain setting while battery state was 4.4V and temperature was 27.2C.\",\n",
      "            \"Duration\": 30.0006354166667\n",
      "        },\n",
      "        \"/root/test_dir/20210902_184000.WAV\": {\n",
      "            \"Battery\": \"4.4V\",\n",
      "            \"Datetime\": \"18:40:00 02/09/2021 (UTC-0600)\",\n",
      "            \"Gain\": \"medium\",\n",
      "            \"Timezone\": \"UTC\",\n",
      "            \"BitRate\": \"6.1 Mbit/sec\",\n",
      "            \"SerialNumber\": \"2423C2045F256D74\",\n",
      "            \"FileSize\": \"22 MiB\",\n",
      "            \"Encoding\": \"Microsoft PCM\",\n",
      "            \"NumChannels\": 1,\n",
      "            \"SampleRate\": 384000,\n",
      "            \"AvgBytesPerSec\": 768000,\n",
      "            \"BitsPerSample\": 16,\n",
      "            \"Comment\": \"Recorded at 18:40:00 02/09/2021 (UTC-6) by AudioMoth 2423C2045F256D74 at medium gain setting while battery state was 4.4V and temperature was 27.5C.\",\n",
      "            \"Duration\": 30.0006354166667\n",
      "        },\n",
      "        \"/root/test_dir/20210902_182000.WAV\": {\n",
      "            \"Battery\": \"4.4V\",\n",
      "            \"Datetime\": \"18:20:00 02/09/2021 (UTC-0600)\",\n",
      "            \"Gain\": \"medium\",\n",
      "            \"Timezone\": \"UTC\",\n",
      "            \"BitRate\": \"6.1 Mbit/sec\",\n",
      "            \"SerialNumber\": \"2423C2045F256D74\",\n",
      "            \"FileSize\": \"22 MiB\",\n",
      "            \"Encoding\": \"Microsoft PCM\",\n",
      "            \"NumChannels\": 1,\n",
      "            \"SampleRate\": 384000,\n",
      "            \"AvgBytesPerSec\": 768000,\n",
      "            \"BitsPerSample\": 16,\n",
      "            \"Comment\": \"Recorded at 18:20:00 02/09/2021 (UTC-6) by AudioMoth 2423C2045F256D74 at medium gain setting while battery state was 4.4V and temperature was 28.0C.\",\n",
      "            \"Duration\": 30.0006354166667\n",
      "        },\n",
      "        \"/root/test_dir/20210902_202000.WAV\": {\n",
      "            \"Battery\": \"4.4V\",\n",
      "            \"Datetime\": \"20:20:00 02/09/2021 (UTC-0600)\",\n",
      "            \"Gain\": \"medium\",\n",
      "            \"Timezone\": \"UTC\",\n",
      "            \"BitRate\": \"6.1 Mbit/sec\",\n",
      "            \"SerialNumber\": \"2423C2045F256D74\",\n",
      "            \"FileSize\": \"22 MiB\",\n",
      "            \"Encoding\": \"Microsoft PCM\",\n",
      "            \"NumChannels\": 1,\n",
      "            \"SampleRate\": 384000,\n",
      "            \"AvgBytesPerSec\": 768000,\n",
      "            \"BitsPerSample\": 16,\n",
      "            \"Comment\": \"Recorded at 20:20:00 02/09/2021 (UTC-6) by AudioMoth 2423C2045F256D74 at medium gain setting while battery state was 4.4V and temperature was 24.0C.\",\n",
      "            \"Duration\": 30.0006354166667\n",
      "        },\n",
      "        \"/root/test_dir/20210902_194000.WAV\": {\n",
      "            \"Battery\": \"4.4V\",\n",
      "            \"Datetime\": \"19:40:00 02/09/2021 (UTC-0600)\",\n",
      "            \"Gain\": \"medium\",\n",
      "            \"Timezone\": \"UTC\",\n",
      "            \"BitRate\": \"6.1 Mbit/sec\",\n",
      "            \"SerialNumber\": \"2423C2045F256D74\",\n",
      "            \"FileSize\": \"22 MiB\",\n",
      "            \"Encoding\": \"Microsoft PCM\",\n",
      "            \"NumChannels\": 1,\n",
      "            \"SampleRate\": 384000,\n",
      "            \"AvgBytesPerSec\": 768000,\n",
      "            \"BitsPerSample\": 16,\n",
      "            \"Comment\": \"Recorded at 19:40:00 02/09/2021 (UTC-6) by AudioMoth 2423C2045F256D74 at medium gain setting while battery state was 4.4V and temperature was 25.3C.\",\n",
      "            \"Duration\": 30.0006354166667\n",
      "        },\n",
      "        \"/root/test_dir/20210902_210000.WAV\": {\n",
      "            \"Battery\": \"4.4V\",\n",
      "            \"Datetime\": \"21:00:00 02/09/2021 (UTC-0600)\",\n",
      "            \"Gain\": \"medium\",\n",
      "            \"Timezone\": \"UTC\",\n",
      "            \"BitRate\": \"6.1 Mbit/sec\",\n",
      "            \"SerialNumber\": \"2423C2045F256D74\",\n",
      "            \"FileSize\": \"22 MiB\",\n",
      "            \"Encoding\": \"Microsoft PCM\",\n",
      "            \"NumChannels\": 1,\n",
      "            \"SampleRate\": 384000,\n",
      "            \"AvgBytesPerSec\": 768000,\n",
      "            \"BitsPerSample\": 16,\n",
      "            \"Comment\": \"Recorded at 21:00:00 02/09/2021 (UTC-6) by AudioMoth 2423C2045F256D74 at medium gain setting while battery state was 4.4V and temperature was 23.9C.\",\n",
      "            \"Duration\": 30.0006354166667\n",
      "        },\n",
      "        \"/root/test_dir/20210902_192000.WAV\": {\n",
      "            \"Battery\": \"4.4V\",\n",
      "            \"Datetime\": \"19:20:00 02/09/2021 (UTC-0600)\",\n",
      "            \"Gain\": \"medium\",\n",
      "            \"Timezone\": \"UTC\",\n",
      "            \"BitRate\": \"6.1 Mbit/sec\",\n",
      "            \"SerialNumber\": \"2423C2045F256D74\",\n",
      "            \"FileSize\": \"22 MiB\",\n",
      "            \"Encoding\": \"Microsoft PCM\",\n",
      "            \"NumChannels\": 1,\n",
      "            \"SampleRate\": 384000,\n",
      "            \"AvgBytesPerSec\": 768000,\n",
      "            \"BitsPerSample\": 16,\n",
      "            \"Comment\": \"Recorded at 19:20:00 02/09/2021 (UTC-6) by AudioMoth 2423C2045F256D74 at medium gain setting while battery state was 4.4V and temperature was 26.6C.\",\n",
      "            \"Duration\": 30.0006354166667\n",
      "        },\n",
      "        \"/root/test_dir/20210902_180000.WAV\": {\n",
      "            \"Battery\": \"4.3V\",\n",
      "            \"Datetime\": \"18:00:00 02/09/2021 (UTC-0600)\",\n",
      "            \"Gain\": \"medium\",\n",
      "            \"Timezone\": \"UTC\",\n",
      "            \"BitRate\": \"6.1 Mbit/sec\",\n",
      "            \"SerialNumber\": \"2423C2045F256D74\",\n",
      "            \"FileSize\": \"22 MiB\",\n",
      "            \"Encoding\": \"Microsoft PCM\",\n",
      "            \"NumChannels\": 1,\n",
      "            \"SampleRate\": 384000,\n",
      "            \"AvgBytesPerSec\": 768000,\n",
      "            \"BitsPerSample\": 16,\n",
      "            \"Comment\": \"Recorded at 18:00:00 02/09/2021 (UTC-6) by AudioMoth 2423C2045F256D74 at medium gain setting while battery state was 4.3V and temperature was 28.2C.\",\n",
      "            \"Duration\": 30.0006354166667\n",
      "        },\n",
      "        \"/root/test_dir/20210902_200000.WAV\": {\n",
      "            \"Battery\": \"4.4V\",\n",
      "            \"Datetime\": \"20:00:00 02/09/2021 (UTC-0600)\",\n",
      "            \"Gain\": \"medium\",\n",
      "            \"Timezone\": \"UTC\",\n",
      "            \"BitRate\": \"6.1 Mbit/sec\",\n",
      "            \"SerialNumber\": \"2423C2045F256D74\",\n",
      "            \"FileSize\": \"22 MiB\",\n",
      "            \"Encoding\": \"Microsoft PCM\",\n",
      "            \"NumChannels\": 1,\n",
      "            \"SampleRate\": 384000,\n",
      "            \"AvgBytesPerSec\": 768000,\n",
      "            \"BitsPerSample\": 16,\n",
      "            \"Comment\": \"Recorded at 20:00:00 02/09/2021 (UTC-6) by AudioMoth 2423C2045F256D74 at medium gain setting while battery state was 4.4V and temperature was 24.4C.\",\n",
      "            \"Duration\": 30.0006354166667\n",
      "        }\n",
      "    },\n",
      "    \"FirstAndLastDate\": {\n",
      "        \"/root/test_dir/20210902_204000.WAV\": \"2021-09-02\",\n",
      "        \"/root/test_dir/20210902_200000.WAV\": \"2021-09-02\"\n",
      "    },\n",
      "    \"DaysBetweenFirstAndLastDate\": 1\n",
      "}\n"
     ]
    }
   ],
   "source": [
    "%%bash\n",
    "python3 -mjson.tool \"/root/test_dir/test_dir_simex_extract_serial_numbers_dates_and_metadata_of_files_and_device.json\""
   ]
  },
  {
   "cell_type": "markdown",
   "id": "426dc0a5-cb6e-454c-92b4-8cd3325d4d9b",
   "metadata": {},
   "source": [
    "# Executing extend_metadata for audio files"
   ]
  },
  {
   "cell_type": "code",
   "execution_count": null,
   "id": "8cd8b14e-c4e0-457f-abf4-4d40f18828a5",
   "metadata": {},
   "outputs": [],
   "source": [
    "%%bash\n",
    "sudo apt-get install -y parallel"
   ]
  },
  {
   "cell_type": "code",
   "execution_count": 1,
   "id": "d0c4f044-7979-4891-a346-213d0f8a868a",
   "metadata": {},
   "outputs": [],
   "source": [
    "from simex.utils.directories_and_files import multiple_file_types"
   ]
  },
  {
   "cell_type": "code",
   "execution_count": 2,
   "id": "d3bcd6d1-1ec8-4acb-adfb-fba14cadf4c4",
   "metadata": {},
   "outputs": [],
   "source": [
    "pattern = [\".WAV\"]"
   ]
  },
  {
   "cell_type": "code",
   "execution_count": 3,
   "id": "14324805-a0c8-4a91-957d-ae7967878891",
   "metadata": {},
   "outputs": [],
   "source": [
    "input_dir=\"/LUSTRE/sacmod/SIPECAM/data/\""
   ]
  },
  {
   "cell_type": "code",
   "execution_count": 4,
   "id": "e8b54a5c-3860-4a31-b5e6-e2376fabd456",
   "metadata": {},
   "outputs": [],
   "source": [
    "iterator = multiple_file_types(input_dir, pattern, recursive=True)"
   ]
  },
  {
   "cell_type": "code",
   "execution_count": 5,
   "id": "028e814c-00f1-4c29-8b1b-9d828f4d5340",
   "metadata": {},
   "outputs": [],
   "source": [
    "import pathlib"
   ]
  },
  {
   "cell_type": "code",
   "execution_count": 6,
   "id": "24c8d565-7e74-47e8-ad23-3e8597cf703c",
   "metadata": {},
   "outputs": [],
   "source": [
    "list_dirs_audio_files = []"
   ]
  },
  {
   "cell_type": "code",
   "execution_count": 7,
   "id": "334d647b-822f-4451-b804-09c49e110269",
   "metadata": {},
   "outputs": [],
   "source": [
    "filename_dirs_audio_files_to_extend_metadata = \"/root/list_dirs_audio_files_to_extend_metadata.txt\""
   ]
  },
  {
   "cell_type": "code",
   "execution_count": 8,
   "id": "48e32d43-79d0-4a26-890f-4abf750348dd",
   "metadata": {},
   "outputs": [
    {
     "name": "stdout",
     "output_type": "stream",
     "text": [
      "/LUSTRE/sacmod/SIPECAM/data/32/4_32_0_1281/248C7D075B1F3F31/2021-10-23/audios/Ultrasonico\n",
      "/LUSTRE/sacmod/SIPECAM/data/32/4_32_0_1281/2453AC025DAEB669/2021-10-23/audios/Ultrasonico\n",
      "/LUSTRE/sacmod/SIPECAM/data/32/4_32_0_1281/24E144055DAEB680/2021-10-23/audios/Audible\n",
      "/LUSTRE/sacmod/SIPECAM/data/32/4_32_0_1281/248C7D075B1F81B1/2021-10-23/audios/Audible\n",
      "/LUSTRE/sacmod/SIPECAM/data/32/4_32_0_1280/2453AC025DAEB669/2021-08-23/audios/Ultrasonico\n",
      "/LUSTRE/sacmod/SIPECAM/data/32/4_32_0_1280/248C7D075B1F81B1/2021-08-23/audios/Audible\n",
      "/LUSTRE/sacmod/SIPECAM/data/32/4_32_1_1285/243B1F055B1F3F9C/2021-12-09/audios/Audible\n",
      "/LUSTRE/sacmod/SIPECAM/data/32/4_32_1_1285/242A260460379379/2021-12-09/audios/Ultrasonico\n",
      "/LUSTRE/sacmod/SIPECAM/data/32/4_32_1_1285/24E1440360371F13/2021-12-09/audios/Ultrasonico\n",
      "/LUSTRE/sacmod/SIPECAM/data/32/4_32_0_1279/2453AC025DAEB669/2021-12-08/audios/Ultrasonico\n",
      "/LUSTRE/sacmod/SIPECAM/data/32/4_32_0_1279/243B1F055B1F95BF/2021-12-08/audios/Audible\n",
      "/LUSTRE/sacmod/SIPECAM/data/32/4_32_1_1287/243B1F055B1F3FEC/2021-08-11/audios/Ultrasonico\n",
      "/LUSTRE/sacmod/SIPECAM/data/32/4_32_1_1287/247AA5025EC9F2C8/2021-08-12/audios/Ultrasonico\n",
      "/LUSTRE/sacmod/SIPECAM/data/32/4_32_1_1287/243B1F055B1F95BF/2021-08-12/audios/Audible\n",
      "/LUSTRE/sacmod/SIPECAM/data/32/4_32_1_1287/248C7D075B1F3F16/2021-08-11/audios/Audible\n",
      "/LUSTRE/sacmod/SIPECAM/data/32/4_32_1_1286/243B1F055B1F95BF/2021-10-22/audios/Audible\n",
      "/LUSTRE/sacmod/SIPECAM/data/32/4_32_1_1286/242A260460379379/2021-10-22/audios/Audible\n",
      "/LUSTRE/sacmod/SIPECAM/data/92/3_92_0_1343/24E4C30453E1BE08/2021-10-09/audios/Audible\n",
      "/LUSTRE/sacmod/SIPECAM/data/92/3_92_0_1343/24E144036037BBB0/2021-10-09/audios/Ultrasonico\n",
      "/LUSTRE/sacmod/SIPECAM/data/92/3_92_0_1343/24E1440360371EA1/2021-10-09/audios/Ultrasonico\n",
      "/LUSTRE/sacmod/SIPECAM/data/92/3_92_1_1334/248D9B026037BB7D/2021-10-08/audios/Ultrasonico\n",
      "/LUSTRE/sacmod/SIPECAM/data/92/3_92_1_1334/2401010753E1BE19/2021-10-08/audios/Audible\n",
      "/LUSTRE/sacmod/SIPECAM/data/92/3_92_1_1334/248D9B045EC9E6B1/2021-10-08/audios/Audible\n",
      "/LUSTRE/sacmod/SIPECAM/data/92/3_92_0_1341/24E4C30453E1BE08/2021-11-14/audios/Ultrasonico\n",
      "/LUSTRE/sacmod/SIPECAM/data/92/3_92_0_1341/248C7D075B1F6103/2021-11-14/audios/Audible\n",
      "/LUSTRE/sacmod/SIPECAM/data/92/3_92_1_1338/248C7D075B1F7CCE/2021-07-28/audios/Audible\n",
      "/LUSTRE/sacmod/SIPECAM/data/92/3_92_1_1338/24E4C30453E1BE08/2021-07-28/audios/Ultrasonico\n",
      "/LUSTRE/sacmod/SIPECAM/data/92/3_92_1_1338/2453AC025DAEB645/2021-07-28/audios/Audible\n",
      "/LUSTRE/sacmod/SIPECAM/data/92/3_92_1_1338/2423C2045F256D74/2021-07-28/audios/Ultrasonico\n",
      "/LUSTRE/sacmod/SIPECAM/data/92/3_92_1_1338/2411E5085944299F/2021-07-28/audios/Audible\n",
      "/LUSTRE/sacmod/SIPECAM/data/92/3_92_0_1339/2401010753E1BE19/2021-07-29/audios/Audible\n",
      "/LUSTRE/sacmod/SIPECAM/data/92/3_92_0_1339/248D9B045EC9E6B1/2021-07-29/audios/Ultrasonico\n",
      "/LUSTRE/sacmod/SIPECAM/data/92/3_92_0_1339/243B1F055B1F7A97/2021-07-29/audios/Audible\n",
      "/LUSTRE/sacmod/SIPECAM/data/92/3_92_0_1339/24F3190160371DCA/2022-01-27/audios/Ultrasonico\n",
      "/LUSTRE/sacmod/SIPECAM/data/92/3_92_0_1339/24E144085F256D5B/2021-07-29/audios/Ultrasonico\n",
      "/LUSTRE/sacmod/SIPECAM/data/92/3_92_0_1339/2411E5085944285C/2021-07-29/audios/Audible\n",
      "/LUSTRE/sacmod/SIPECAM/data/92/3_92_0_1339/248C7D075B1F6133/2022-01-27/audios/Ultrasonico\n",
      "/LUSTRE/sacmod/SIPECAM/data/95/1_95_0_1348/240AA60353E1C0F7/2021-08-04/audios/Ultrasonico\n",
      "/LUSTRE/sacmod/SIPECAM/data/95/1_95_0_1348/2408640553E1C5AB/2021-08-04/audios/Ultrasonico\n",
      "/LUSTRE/sacmod/SIPECAM/data/95/1_95_0_1348/248C7D075B1FB916/2021-08-04/audios/Audible\n",
      "/LUSTRE/sacmod/SIPECAM/data/95/1_95_0_1348/248C7D075B1F7A39/2021-08-04/audios/Audible\n",
      "/LUSTRE/sacmod/SIPECAM/data/95/1_95_1_1350/2453AC025DAEB7B1/2021-08-05/audios/Audible\n",
      "/LUSTRE/sacmod/SIPECAM/data/95/1_95_1_1350/248C7D075B1F7CDB/2021-08-04/audios/Audible\n",
      "/LUSTRE/sacmod/SIPECAM/data/95/1_95_1_1350/2453AC025DAEB6A5/2021-08-05/audios/Ultrasonico\n",
      "/LUSTRE/sacmod/SIPECAM/data/95/1_95_1_1350/242CB60153E1C5A0/2021-08-04/audios/Ultrasonico\n"
     ]
    }
   ],
   "source": [
    "with open(filename_dirs_audio_files_to_extend_metadata, \"w+\") as dst:\n",
    "    for audio_file in iterator:\n",
    "        dir_audio_file = str(pathlib.Path(audio_file).parent)\n",
    "        \n",
    "        if dir_audio_file not in list_dirs_audio_files:\n",
    "            print(dir_audio_file)\n",
    "            list_dirs_audio_files.append(dir_audio_file)\n",
    "            dst.write(dir_audio_file + \"\\n\")"
   ]
  },
  {
   "cell_type": "code",
   "execution_count": 9,
   "id": "ac10496f-3c20-48ff-a88d-ff3802e774d2",
   "metadata": {},
   "outputs": [
    {
     "name": "stdout",
     "output_type": "stream",
     "text": [
      "/LUSTRE/sacmod/SIPECAM/data/32/4_32_0_1281/248C7D075B1F3F31/2021-10-23/audios/Ultrasonico\n",
      "/LUSTRE/sacmod/SIPECAM/data/32/4_32_0_1281/2453AC025DAEB669/2021-10-23/audios/Ultrasonico\n",
      "/LUSTRE/sacmod/SIPECAM/data/32/4_32_0_1281/24E144055DAEB680/2021-10-23/audios/Audible\n",
      "/LUSTRE/sacmod/SIPECAM/data/32/4_32_0_1281/248C7D075B1F81B1/2021-10-23/audios/Audible\n",
      "/LUSTRE/sacmod/SIPECAM/data/32/4_32_0_1280/2453AC025DAEB669/2021-08-23/audios/Ultrasonico\n",
      "/LUSTRE/sacmod/SIPECAM/data/32/4_32_0_1280/248C7D075B1F81B1/2021-08-23/audios/Audible\n",
      "/LUSTRE/sacmod/SIPECAM/data/32/4_32_1_1285/243B1F055B1F3F9C/2021-12-09/audios/Audible\n",
      "/LUSTRE/sacmod/SIPECAM/data/32/4_32_1_1285/242A260460379379/2021-12-09/audios/Ultrasonico\n",
      "/LUSTRE/sacmod/SIPECAM/data/32/4_32_1_1285/24E1440360371F13/2021-12-09/audios/Ultrasonico\n",
      "/LUSTRE/sacmod/SIPECAM/data/32/4_32_0_1279/2453AC025DAEB669/2021-12-08/audios/Ultrasonico\n",
      "/LUSTRE/sacmod/SIPECAM/data/32/4_32_0_1279/243B1F055B1F95BF/2021-12-08/audios/Audible\n",
      "/LUSTRE/sacmod/SIPECAM/data/32/4_32_1_1287/243B1F055B1F3FEC/2021-08-11/audios/Ultrasonico\n",
      "/LUSTRE/sacmod/SIPECAM/data/32/4_32_1_1287/247AA5025EC9F2C8/2021-08-12/audios/Ultrasonico\n",
      "/LUSTRE/sacmod/SIPECAM/data/32/4_32_1_1287/243B1F055B1F95BF/2021-08-12/audios/Audible\n",
      "/LUSTRE/sacmod/SIPECAM/data/32/4_32_1_1287/248C7D075B1F3F16/2021-08-11/audios/Audible\n",
      "/LUSTRE/sacmod/SIPECAM/data/32/4_32_1_1286/243B1F055B1F95BF/2021-10-22/audios/Audible\n",
      "/LUSTRE/sacmod/SIPECAM/data/32/4_32_1_1286/242A260460379379/2021-10-22/audios/Audible\n",
      "/LUSTRE/sacmod/SIPECAM/data/92/3_92_0_1343/24E4C30453E1BE08/2021-10-09/audios/Audible\n",
      "/LUSTRE/sacmod/SIPECAM/data/92/3_92_0_1343/24E144036037BBB0/2021-10-09/audios/Ultrasonico\n",
      "/LUSTRE/sacmod/SIPECAM/data/92/3_92_0_1343/24E1440360371EA1/2021-10-09/audios/Ultrasonico\n",
      "/LUSTRE/sacmod/SIPECAM/data/92/3_92_1_1334/248D9B026037BB7D/2021-10-08/audios/Ultrasonico\n",
      "/LUSTRE/sacmod/SIPECAM/data/92/3_92_1_1334/2401010753E1BE19/2021-10-08/audios/Audible\n",
      "/LUSTRE/sacmod/SIPECAM/data/92/3_92_1_1334/248D9B045EC9E6B1/2021-10-08/audios/Audible\n",
      "/LUSTRE/sacmod/SIPECAM/data/92/3_92_0_1341/24E4C30453E1BE08/2021-11-14/audios/Ultrasonico\n",
      "/LUSTRE/sacmod/SIPECAM/data/92/3_92_0_1341/248C7D075B1F6103/2021-11-14/audios/Audible\n",
      "/LUSTRE/sacmod/SIPECAM/data/92/3_92_1_1338/248C7D075B1F7CCE/2021-07-28/audios/Audible\n",
      "/LUSTRE/sacmod/SIPECAM/data/92/3_92_1_1338/24E4C30453E1BE08/2021-07-28/audios/Ultrasonico\n",
      "/LUSTRE/sacmod/SIPECAM/data/92/3_92_1_1338/2453AC025DAEB645/2021-07-28/audios/Audible\n",
      "/LUSTRE/sacmod/SIPECAM/data/92/3_92_1_1338/2423C2045F256D74/2021-07-28/audios/Ultrasonico\n",
      "/LUSTRE/sacmod/SIPECAM/data/92/3_92_1_1338/2411E5085944299F/2021-07-28/audios/Audible\n",
      "/LUSTRE/sacmod/SIPECAM/data/92/3_92_0_1339/2401010753E1BE19/2021-07-29/audios/Audible\n",
      "/LUSTRE/sacmod/SIPECAM/data/92/3_92_0_1339/248D9B045EC9E6B1/2021-07-29/audios/Ultrasonico\n",
      "/LUSTRE/sacmod/SIPECAM/data/92/3_92_0_1339/243B1F055B1F7A97/2021-07-29/audios/Audible\n",
      "/LUSTRE/sacmod/SIPECAM/data/92/3_92_0_1339/24F3190160371DCA/2022-01-27/audios/Ultrasonico\n",
      "/LUSTRE/sacmod/SIPECAM/data/92/3_92_0_1339/24E144085F256D5B/2021-07-29/audios/Ultrasonico\n",
      "/LUSTRE/sacmod/SIPECAM/data/92/3_92_0_1339/2411E5085944285C/2021-07-29/audios/Audible\n",
      "/LUSTRE/sacmod/SIPECAM/data/92/3_92_0_1339/248C7D075B1F6133/2022-01-27/audios/Ultrasonico\n",
      "/LUSTRE/sacmod/SIPECAM/data/95/1_95_0_1348/240AA60353E1C0F7/2021-08-04/audios/Ultrasonico\n",
      "/LUSTRE/sacmod/SIPECAM/data/95/1_95_0_1348/2408640553E1C5AB/2021-08-04/audios/Ultrasonico\n",
      "/LUSTRE/sacmod/SIPECAM/data/95/1_95_0_1348/248C7D075B1FB916/2021-08-04/audios/Audible\n",
      "/LUSTRE/sacmod/SIPECAM/data/95/1_95_0_1348/248C7D075B1F7A39/2021-08-04/audios/Audible\n",
      "/LUSTRE/sacmod/SIPECAM/data/95/1_95_1_1350/2453AC025DAEB7B1/2021-08-05/audios/Audible\n",
      "/LUSTRE/sacmod/SIPECAM/data/95/1_95_1_1350/248C7D075B1F7CDB/2021-08-04/audios/Audible\n",
      "/LUSTRE/sacmod/SIPECAM/data/95/1_95_1_1350/2453AC025DAEB6A5/2021-08-05/audios/Ultrasonico\n",
      "/LUSTRE/sacmod/SIPECAM/data/95/1_95_1_1350/242CB60153E1C5A0/2021-08-04/audios/Ultrasonico\n"
     ]
    }
   ],
   "source": [
    "%%bash\n",
    "cat \"/root/list_dirs_audio_files_to_extend_metadata.txt\""
   ]
  },
  {
   "cell_type": "code",
   "execution_count": 10,
   "id": "cbe9a822-88e8-4c4e-b646-13d4931cb9c7",
   "metadata": {},
   "outputs": [
    {
     "name": "stderr",
     "output_type": "stream",
     "text": [
      "\n",
      "Computers / CPU cores / Max jobs to run\n",
      "1:local / 32 / 8\n",
      "\n",
      "Computer:jobs running/jobs completed/%of started jobs/Average seconds to complete\n",
      "Task exception was never retrieved\n",
      "future: <Task finished name='Task-13' coro=<ScriptMagics.shebang.<locals>._handle_stream() done, defined at /usr/local/lib/python3.8/dist-packages/IPython/core/magics/script.py:211> exception=ValueError('Separator is not found, and chunk exceed the limit')>\n",
      "Traceback (most recent call last):\n",
      "  File \"/usr/lib/python3.8/asyncio/streams.py\", line 540, in readline\n",
      "    line = await self.readuntil(sep)\n",
      "  File \"/usr/lib/python3.8/asyncio/streams.py\", line 618, in readuntil\n",
      "    raise exceptions.LimitOverrunError(\n",
      "asyncio.exceptions.LimitOverrunError: Separator is not found, and chunk exceed the limit\n",
      "\n",
      "During handling of the above exception, another exception occurred:\n",
      "\n",
      "Traceback (most recent call last):\n",
      "  File \"/usr/local/lib/python3.8/dist-packages/IPython/core/magics/script.py\", line 213, in _handle_stream\n",
      "    line = (await stream.readline()).decode(\"utf8\")\n",
      "  File \"/usr/lib/python3.8/asyncio/streams.py\", line 549, in readline\n",
      "    raise ValueError(e.args[0])\n",
      "ValueError: Separator is not found, and chunk exceed the limit\n"
     ]
    }
   ],
   "source": [
    "%%bash\n",
    "cat \"/root/list_dirs_audio_files_to_extend_metadata.txt\" | parallel -j 8 --progress extend_metadata_of_audio_files --input_directory_audio"
   ]
  },
  {
   "cell_type": "markdown",
   "id": "4ebd8e5e-666d-459f-9547-337e8ebe7dab",
   "metadata": {},
   "source": [
    "# Check"
   ]
  },
  {
   "cell_type": "code",
   "execution_count": 13,
   "id": "4e087180-8d3c-427a-bb5a-9c135140d0b2",
   "metadata": {},
   "outputs": [
    {
     "name": "stdout",
     "output_type": "stream",
     "text": [
      "/LUSTRE/sacmod/SIPECAM/data/32/4_32_0_1281/248C7D075B1F3F31/2021-10-23/audios/Ultrasonico\n",
      "/LUSTRE/sacmod/SIPECAM/data/32/4_32_0_1281/248C7D075B1F3F31/2021-10-23/audios/Ultrasonico/Ultrasonico_simex_metadata_files_and_device_04-05-2022.json\n",
      "            \"Duration\": 30.0006354166667,\n",
      "            \"Duration\": 30.0006354166667,\n",
      "-----\n",
      "/LUSTRE/sacmod/SIPECAM/data/32/4_32_0_1281/2453AC025DAEB669/2021-10-23/audios/Ultrasonico\n",
      "/LUSTRE/sacmod/SIPECAM/data/32/4_32_0_1281/2453AC025DAEB669/2021-10-23/audios/Ultrasonico/Ultrasonico_simex_metadata_files_and_device_04-05-2022.json\n",
      "            \"Duration\": 30.0006354166667,\n",
      "            \"Duration\": 30.0006354166667,\n",
      "-----\n",
      "/LUSTRE/sacmod/SIPECAM/data/32/4_32_0_1281/24E144055DAEB680/2021-10-23/audios/Audible\n",
      "/LUSTRE/sacmod/SIPECAM/data/32/4_32_0_1281/24E144055DAEB680/2021-10-23/audios/Audible/Audible_simex_metadata_files_and_device_04-05-2022.json\n",
      "            \"Duration\": 60.0050833333333,\n",
      "            \"Duration\": 60.0050833333333,\n",
      "-----\n",
      "/LUSTRE/sacmod/SIPECAM/data/32/4_32_0_1281/248C7D075B1F81B1/2021-10-23/audios/Audible\n",
      "/LUSTRE/sacmod/SIPECAM/data/32/4_32_0_1281/248C7D075B1F81B1/2021-10-23/audios/Audible/Audible_simex_metadata_files_and_device_04-05-2022.json\n",
      "            \"Duration\": 60.0050833333333,\n",
      "            \"Duration\": 60.0050833333333,\n",
      "-----\n",
      "/LUSTRE/sacmod/SIPECAM/data/32/4_32_0_1280/2453AC025DAEB669/2021-08-23/audios/Ultrasonico\n",
      "/LUSTRE/sacmod/SIPECAM/data/32/4_32_0_1280/2453AC025DAEB669/2021-08-23/audios/Ultrasonico/Ultrasonico_simex_metadata_files_and_device_04-05-2022.json\n",
      "            \"Duration\": 30.0006354166667,\n",
      "            \"Duration\": 30.0006354166667,\n",
      "-----\n",
      "/LUSTRE/sacmod/SIPECAM/data/32/4_32_0_1280/248C7D075B1F81B1/2021-08-23/audios/Audible\n",
      "/LUSTRE/sacmod/SIPECAM/data/32/4_32_0_1280/248C7D075B1F81B1/2021-08-23/audios/Audible/Audible_simex_metadata_files_and_device_04-05-2022.json\n",
      "            \"Duration\": 60.0050833333333,\n",
      "            \"Duration\": 60.0050833333333,\n",
      "-----\n",
      "/LUSTRE/sacmod/SIPECAM/data/32/4_32_1_1285/243B1F055B1F3F9C/2021-12-09/audios/Audible\n",
      "/LUSTRE/sacmod/SIPECAM/data/32/4_32_1_1285/243B1F055B1F3F9C/2021-12-09/audios/Audible/Audible_simex_metadata_files_and_device_04-05-2022.json\n",
      "            \"Duration\": 60.0050833333333,\n",
      "            \"Duration\": 60.0050833333333,\n",
      "-----\n",
      "/LUSTRE/sacmod/SIPECAM/data/32/4_32_1_1285/242A260460379379/2021-12-09/audios/Ultrasonico\n",
      "/LUSTRE/sacmod/SIPECAM/data/32/4_32_1_1285/242A260460379379/2021-12-09/audios/Ultrasonico/Ultrasonico_simex_metadata_files_and_device_04-05-2022.json\n",
      "            \"Duration\": 30.0006354166667,\n",
      "            \"Duration\": 30.0006354166667,\n",
      "-----\n",
      "/LUSTRE/sacmod/SIPECAM/data/32/4_32_1_1285/24E1440360371F13/2021-12-09/audios/Ultrasonico\n",
      "/LUSTRE/sacmod/SIPECAM/data/32/4_32_1_1285/24E1440360371F13/2021-12-09/audios/Ultrasonico/Ultrasonico_simex_metadata_files_and_device_04-05-2022.json\n",
      "            \"Duration\": 30.0006354166667,\n",
      "            \"Duration\": 30.0006354166667,\n",
      "-----\n",
      "/LUSTRE/sacmod/SIPECAM/data/32/4_32_0_1279/2453AC025DAEB669/2021-12-08/audios/Ultrasonico\n",
      "/LUSTRE/sacmod/SIPECAM/data/32/4_32_0_1279/2453AC025DAEB669/2021-12-08/audios/Ultrasonico/Ultrasonico_simex_metadata_files_and_device_04-05-2022.json\n",
      "            \"Duration\": 30.0006354166667,\n",
      "            \"Duration\": 30.0006354166667,\n",
      "-----\n",
      "/LUSTRE/sacmod/SIPECAM/data/32/4_32_0_1279/243B1F055B1F95BF/2021-12-08/audios/Audible\n",
      "/LUSTRE/sacmod/SIPECAM/data/32/4_32_0_1279/243B1F055B1F95BF/2021-12-08/audios/Audible/Audible_simex_metadata_files_and_device_04-05-2022.json\n",
      "            \"Duration\": 60.0050833333333,\n",
      "            \"Duration\": 60.0050833333333,\n",
      "-----\n",
      "/LUSTRE/sacmod/SIPECAM/data/32/4_32_1_1287/243B1F055B1F3FEC/2021-08-11/audios/Ultrasonico\n",
      "/LUSTRE/sacmod/SIPECAM/data/32/4_32_1_1287/243B1F055B1F3FEC/2021-08-11/audios/Ultrasonico/Ultrasonico_simex_metadata_files_and_device_04-05-2022.json\n",
      "            \"Duration\": 30.0006354166667,\n",
      "            \"Duration\": 30.0006354166667,\n",
      "-----\n",
      "/LUSTRE/sacmod/SIPECAM/data/32/4_32_1_1287/247AA5025EC9F2C8/2021-08-12/audios/Ultrasonico\n",
      "/LUSTRE/sacmod/SIPECAM/data/32/4_32_1_1287/247AA5025EC9F2C8/2021-08-12/audios/Ultrasonico/Ultrasonico_simex_metadata_files_and_device_04-05-2022.json\n",
      "            \"Duration\": 30.0006354166667,\n",
      "            \"Duration\": 30.0006354166667,\n",
      "-----\n",
      "/LUSTRE/sacmod/SIPECAM/data/32/4_32_1_1287/243B1F055B1F95BF/2021-08-12/audios/Audible\n",
      "/LUSTRE/sacmod/SIPECAM/data/32/4_32_1_1287/243B1F055B1F95BF/2021-08-12/audios/Audible/Audible_simex_metadata_files_and_device_04-05-2022.json\n",
      "            \"Duration\": 60.0050833333333,\n",
      "            \"Duration\": 60.0050833333333,\n",
      "-----\n",
      "/LUSTRE/sacmod/SIPECAM/data/32/4_32_1_1287/248C7D075B1F3F16/2021-08-11/audios/Audible\n",
      "/LUSTRE/sacmod/SIPECAM/data/32/4_32_1_1287/248C7D075B1F3F16/2021-08-11/audios/Audible/Audible_simex_metadata_files_and_device_04-05-2022.json\n",
      "            \"Duration\": 60.0050833333333,\n",
      "            \"Duration\": 60.0050833333333,\n",
      "-----\n",
      "/LUSTRE/sacmod/SIPECAM/data/32/4_32_1_1286/243B1F055B1F95BF/2021-10-22/audios/Audible\n",
      "/LUSTRE/sacmod/SIPECAM/data/32/4_32_1_1286/243B1F055B1F95BF/2021-10-22/audios/Audible/Audible_simex_metadata_files_and_device_04-05-2022.json\n",
      "            \"Duration\": 60.0050833333333,\n",
      "            \"Duration\": 60.0050833333333,\n",
      "-----\n",
      "/LUSTRE/sacmod/SIPECAM/data/32/4_32_1_1286/242A260460379379/2021-10-22/audios/Audible\n",
      "/LUSTRE/sacmod/SIPECAM/data/32/4_32_1_1286/242A260460379379/2021-10-22/audios/Audible/Audible_simex_metadata_files_and_device_04-05-2022.json\n",
      "            \"Duration\": 60.0050833333333,\n",
      "            \"Duration\": 60.0050833333333,\n",
      "-----\n",
      "/LUSTRE/sacmod/SIPECAM/data/92/3_92_0_1343/24E4C30453E1BE08/2021-10-09/audios/Audible\n",
      "/LUSTRE/sacmod/SIPECAM/data/92/3_92_0_1343/24E4C30453E1BE08/2021-10-09/audios/Audible/Audible_simex_metadata_files_and_device_04-05-2022.json\n",
      "            \"Duration\": 60.0050833333333,\n",
      "            \"Duration\": 60.0050833333333,\n",
      "-----\n",
      "/LUSTRE/sacmod/SIPECAM/data/92/3_92_0_1343/24E144036037BBB0/2021-10-09/audios/Ultrasonico\n",
      "/LUSTRE/sacmod/SIPECAM/data/92/3_92_0_1343/24E144036037BBB0/2021-10-09/audios/Ultrasonico/Ultrasonico_simex_metadata_files_and_device_04-05-2022.json\n",
      "            \"Duration\": 30.0006354166667,\n",
      "            \"Duration\": 30.0006354166667,\n",
      "-----\n",
      "/LUSTRE/sacmod/SIPECAM/data/92/3_92_0_1343/24E1440360371EA1/2021-10-09/audios/Ultrasonico\n",
      "/LUSTRE/sacmod/SIPECAM/data/92/3_92_0_1343/24E1440360371EA1/2021-10-09/audios/Ultrasonico/Ultrasonico_simex_metadata_files_and_device_04-05-2022.json\n",
      "            \"Duration\": 30.0006354166667,\n",
      "            \"Duration\": 30.0006354166667,\n",
      "-----\n",
      "/LUSTRE/sacmod/SIPECAM/data/92/3_92_1_1334/248D9B026037BB7D/2021-10-08/audios/Ultrasonico\n",
      "/LUSTRE/sacmod/SIPECAM/data/92/3_92_1_1334/248D9B026037BB7D/2021-10-08/audios/Ultrasonico/Ultrasonico_simex_metadata_files_and_device_04-05-2022.json\n",
      "            \"Duration\": 30.0006354166667,\n",
      "            \"Duration\": 30.0006354166667,\n",
      "-----\n",
      "/LUSTRE/sacmod/SIPECAM/data/92/3_92_1_1334/2401010753E1BE19/2021-10-08/audios/Audible\n",
      "/LUSTRE/sacmod/SIPECAM/data/92/3_92_1_1334/2401010753E1BE19/2021-10-08/audios/Audible/Audible_simex_metadata_files_and_device_04-05-2022.json\n",
      "            \"Duration\": 60.0050833333333,\n",
      "            \"Duration\": 60.0050833333333,\n",
      "-----\n",
      "/LUSTRE/sacmod/SIPECAM/data/92/3_92_1_1334/248D9B045EC9E6B1/2021-10-08/audios/Audible\n",
      "/LUSTRE/sacmod/SIPECAM/data/92/3_92_1_1334/248D9B045EC9E6B1/2021-10-08/audios/Audible/Audible_simex_metadata_files_and_device_04-05-2022.json\n",
      "            \"Duration\": 60.0050833333333,\n",
      "            \"Duration\": 60.0050833333333,\n",
      "-----\n",
      "/LUSTRE/sacmod/SIPECAM/data/92/3_92_0_1341/24E4C30453E1BE08/2021-11-14/audios/Ultrasonico\n",
      "/LUSTRE/sacmod/SIPECAM/data/92/3_92_0_1341/24E4C30453E1BE08/2021-11-14/audios/Ultrasonico/Ultrasonico_simex_metadata_files_and_device_04-05-2022.json\n",
      "            \"Duration\": 30.0006354166667,\n",
      "            \"Duration\": 30.0006354166667,\n",
      "-----\n",
      "/LUSTRE/sacmod/SIPECAM/data/92/3_92_0_1341/248C7D075B1F6103/2021-11-14/audios/Audible\n",
      "/LUSTRE/sacmod/SIPECAM/data/92/3_92_0_1341/248C7D075B1F6103/2021-11-14/audios/Audible/Audible_simex_metadata_files_and_device_04-05-2022.json\n",
      "            \"Duration\": 60.0050833333333,\n",
      "            \"Duration\": 60.0050833333333,\n",
      "-----\n",
      "/LUSTRE/sacmod/SIPECAM/data/92/3_92_1_1338/248C7D075B1F7CCE/2021-07-28/audios/Audible\n",
      "/LUSTRE/sacmod/SIPECAM/data/92/3_92_1_1338/248C7D075B1F7CCE/2021-07-28/audios/Audible/Audible_simex_metadata_files_and_device_04-05-2022.json\n",
      "            \"Duration\": 60.0050833333333,\n",
      "            \"Duration\": 60.0050833333333,\n",
      "-----\n",
      "/LUSTRE/sacmod/SIPECAM/data/92/3_92_1_1338/24E4C30453E1BE08/2021-07-28/audios/Ultrasonico\n",
      "/LUSTRE/sacmod/SIPECAM/data/92/3_92_1_1338/24E4C30453E1BE08/2021-07-28/audios/Ultrasonico/Ultrasonico_simex_metadata_files_and_device_04-05-2022.json\n",
      "            \"Duration\": 30.0006354166667,\n",
      "            \"Duration\": 30.0006354166667,\n",
      "-----\n",
      "/LUSTRE/sacmod/SIPECAM/data/92/3_92_1_1338/2453AC025DAEB645/2021-07-28/audios/Audible\n",
      "/LUSTRE/sacmod/SIPECAM/data/92/3_92_1_1338/2453AC025DAEB645/2021-07-28/audios/Audible/Audible_simex_metadata_files_and_device_04-05-2022.json\n",
      "            \"Duration\": 60.0050833333333,\n",
      "            \"Duration\": 60.0050833333333,\n",
      "-----\n",
      "/LUSTRE/sacmod/SIPECAM/data/92/3_92_1_1338/2423C2045F256D74/2021-07-28/audios/Ultrasonico\n",
      "/LUSTRE/sacmod/SIPECAM/data/92/3_92_1_1338/2423C2045F256D74/2021-07-28/audios/Ultrasonico/Ultrasonico_simex_metadata_files_and_device_04-05-2022.json\n",
      "            \"Duration\": 30.0006354166667,\n",
      "            \"Duration\": 30.0006354166667,\n",
      "-----\n",
      "/LUSTRE/sacmod/SIPECAM/data/92/3_92_1_1338/2411E5085944299F/2021-07-28/audios/Audible\n",
      "/LUSTRE/sacmod/SIPECAM/data/92/3_92_1_1338/2411E5085944299F/2021-07-28/audios/Audible/Audible_simex_metadata_files_and_device_04-05-2022.json\n",
      "            \"Duration\": 60.0050833333333,\n",
      "            \"Duration\": 60.0050833333333,\n",
      "-----\n",
      "/LUSTRE/sacmod/SIPECAM/data/92/3_92_0_1339/2401010753E1BE19/2021-07-29/audios/Audible\n",
      "/LUSTRE/sacmod/SIPECAM/data/92/3_92_0_1339/2401010753E1BE19/2021-07-29/audios/Audible/Audible_simex_metadata_files_and_device_04-05-2022.json\n",
      "            \"Duration\": 60.0050833333333,\n",
      "            \"Duration\": 60.0050833333333,\n",
      "-----\n",
      "/LUSTRE/sacmod/SIPECAM/data/92/3_92_0_1339/248D9B045EC9E6B1/2021-07-29/audios/Ultrasonico\n",
      "/LUSTRE/sacmod/SIPECAM/data/92/3_92_0_1339/248D9B045EC9E6B1/2021-07-29/audios/Ultrasonico/Ultrasonico_simex_metadata_files_and_device_04-05-2022.json\n",
      "            \"Duration\": 30.0006354166667,\n",
      "            \"Duration\": 30.0006354166667,\n",
      "-----\n",
      "/LUSTRE/sacmod/SIPECAM/data/92/3_92_0_1339/243B1F055B1F7A97/2021-07-29/audios/Audible\n",
      "/LUSTRE/sacmod/SIPECAM/data/92/3_92_0_1339/243B1F055B1F7A97/2021-07-29/audios/Audible/Audible_simex_metadata_files_and_device_04-05-2022.json\n",
      "            \"Duration\": 60.0050833333333,\n",
      "            \"Duration\": 60.0050833333333,\n",
      "-----\n",
      "/LUSTRE/sacmod/SIPECAM/data/92/3_92_0_1339/24F3190160371DCA/2022-01-27/audios/Ultrasonico\n",
      "/LUSTRE/sacmod/SIPECAM/data/92/3_92_0_1339/24F3190160371DCA/2022-01-27/audios/Ultrasonico/Ultrasonico_simex_metadata_files_and_device_04-05-2022.json\n",
      "            \"Duration\": 30.0006354166667,\n",
      "            \"Duration\": 30.0006354166667,\n",
      "-----\n",
      "/LUSTRE/sacmod/SIPECAM/data/92/3_92_0_1339/24E144085F256D5B/2021-07-29/audios/Ultrasonico\n",
      "/LUSTRE/sacmod/SIPECAM/data/92/3_92_0_1339/24E144085F256D5B/2021-07-29/audios/Ultrasonico/Ultrasonico_simex_metadata_files_and_device_04-05-2022.json\n",
      "            \"Duration\": 30.0006354166667,\n",
      "            \"Duration\": 30.0006354166667,\n",
      "-----\n",
      "/LUSTRE/sacmod/SIPECAM/data/92/3_92_0_1339/2411E5085944285C/2021-07-29/audios/Audible\n",
      "/LUSTRE/sacmod/SIPECAM/data/92/3_92_0_1339/2411E5085944285C/2021-07-29/audios/Audible/Audible_simex_metadata_files_and_device_04-05-2022.json\n",
      "            \"Duration\": 60.0050833333333,\n",
      "            \"Duration\": 60.0050833333333,\n",
      "-----\n",
      "/LUSTRE/sacmod/SIPECAM/data/92/3_92_0_1339/248C7D075B1F6133/2022-01-27/audios/Ultrasonico\n",
      "/LUSTRE/sacmod/SIPECAM/data/92/3_92_0_1339/248C7D075B1F6133/2022-01-27/audios/Ultrasonico/Ultrasonico_simex_metadata_files_and_device_04-05-2022.json\n",
      "            \"Duration\": 30.0006354166667,\n",
      "            \"Duration\": 30.0006354166667,\n",
      "-----\n",
      "/LUSTRE/sacmod/SIPECAM/data/95/1_95_0_1348/240AA60353E1C0F7/2021-08-04/audios/Ultrasonico\n",
      "/LUSTRE/sacmod/SIPECAM/data/95/1_95_0_1348/240AA60353E1C0F7/2021-08-04/audios/Ultrasonico/Ultrasonico_simex_metadata_files_and_device_04-05-2022.json\n",
      "            \"Duration\": 30.0006354166667,\n",
      "            \"Duration\": 30.0006354166667,\n",
      "-----\n",
      "/LUSTRE/sacmod/SIPECAM/data/95/1_95_0_1348/2408640553E1C5AB/2021-08-04/audios/Ultrasonico\n",
      "/LUSTRE/sacmod/SIPECAM/data/95/1_95_0_1348/2408640553E1C5AB/2021-08-04/audios/Ultrasonico/Ultrasonico_simex_metadata_files_and_device_04-05-2022.json\n",
      "            \"Duration\": 30.0006354166667,\n",
      "            \"Duration\": 30.0006354166667,\n",
      "-----\n",
      "/LUSTRE/sacmod/SIPECAM/data/95/1_95_0_1348/248C7D075B1FB916/2021-08-04/audios/Audible\n",
      "/LUSTRE/sacmod/SIPECAM/data/95/1_95_0_1348/248C7D075B1FB916/2021-08-04/audios/Audible/Audible_simex_metadata_files_and_device_04-05-2022.json\n",
      "            \"Duration\": 60.0050833333333,\n",
      "            \"Duration\": 60.0050833333333,\n",
      "-----\n",
      "/LUSTRE/sacmod/SIPECAM/data/95/1_95_0_1348/248C7D075B1F7A39/2021-08-04/audios/Audible\n",
      "/LUSTRE/sacmod/SIPECAM/data/95/1_95_0_1348/248C7D075B1F7A39/2021-08-04/audios/Audible/Audible_simex_metadata_files_and_device_04-05-2022.json\n",
      "            \"Duration\": 60.0050833333333,\n",
      "            \"Duration\": 60.0050833333333,\n",
      "-----\n",
      "/LUSTRE/sacmod/SIPECAM/data/95/1_95_1_1350/2453AC025DAEB7B1/2021-08-05/audios/Audible\n",
      "/LUSTRE/sacmod/SIPECAM/data/95/1_95_1_1350/2453AC025DAEB7B1/2021-08-05/audios/Audible/Audible_simex_metadata_files_and_device_04-05-2022.json\n",
      "            \"Duration\": 60.0050833333333,\n",
      "            \"Duration\": 60.0050833333333,\n",
      "-----\n",
      "/LUSTRE/sacmod/SIPECAM/data/95/1_95_1_1350/248C7D075B1F7CDB/2021-08-04/audios/Audible\n",
      "/LUSTRE/sacmod/SIPECAM/data/95/1_95_1_1350/248C7D075B1F7CDB/2021-08-04/audios/Audible/Audible_simex_metadata_files_and_device_04-05-2022.json\n",
      "            \"Duration\": 60.0050833333333,\n",
      "            \"Duration\": 60.0050833333333,\n",
      "-----\n",
      "/LUSTRE/sacmod/SIPECAM/data/95/1_95_1_1350/2453AC025DAEB6A5/2021-08-05/audios/Ultrasonico\n",
      "/LUSTRE/sacmod/SIPECAM/data/95/1_95_1_1350/2453AC025DAEB6A5/2021-08-05/audios/Ultrasonico/Ultrasonico_simex_metadata_files_and_device_04-05-2022.json\n",
      "            \"Duration\": 30.0006354166667,\n",
      "            \"Duration\": 30.0006354166667,\n",
      "-----\n",
      "/LUSTRE/sacmod/SIPECAM/data/95/1_95_1_1350/242CB60153E1C5A0/2021-08-04/audios/Ultrasonico\n",
      "/LUSTRE/sacmod/SIPECAM/data/95/1_95_1_1350/242CB60153E1C5A0/2021-08-04/audios/Ultrasonico/Ultrasonico_simex_metadata_files_and_device_04-05-2022.json\n",
      "            \"Duration\": 30.0006354166667,\n",
      "            \"Duration\": 30.0006354166667,\n",
      "-----\n"
     ]
    }
   ],
   "source": [
    "%%bash\n",
    "auxiliary_txt=\"/root/list_dirs_audio_files_to_extend_metadata.txt\"\n",
    "for dir_processed in $(cat \"$auxiliary_txt\")\n",
    "do\n",
    "    echo \"$dir_processed\"\n",
    "    json_file=$(find \"$dir_processed\" -name \"*_04-05-2022.json\")\n",
    "    echo \"$json_file\"\n",
    "    python3 -mjson.tool \"$json_file\" | head -n 70|grep \"Duration\"\n",
    "    echo \"-----\"\n",
    "done\n",
    "\n",
    "\n",
    "\n"
   ]
  }
 ],
 "metadata": {
  "kernelspec": {
   "display_name": "Python 3 (ipykernel)",
   "language": "python",
   "name": "python3"
  },
  "language_info": {
   "codemirror_mode": {
    "name": "ipython",
    "version": 3
   },
   "file_extension": ".py",
   "mimetype": "text/x-python",
   "name": "python",
   "nbconvert_exporter": "python",
   "pygments_lexer": "ipython3",
   "version": "3.8.10"
  }
 },
 "nbformat": 4,
 "nbformat_minor": 5
}
