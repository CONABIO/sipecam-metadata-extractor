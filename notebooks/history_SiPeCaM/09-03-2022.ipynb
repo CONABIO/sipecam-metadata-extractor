{
 "cells": [
  {
   "cell_type": "markdown",
   "id": "3cbbd5fc-4569-4e7b-ba77-74b4858255eb",
   "metadata": {},
   "source": [
    "# Move files to standard directory"
   ]
  },
  {
   "cell_type": "code",
   "execution_count": 1,
   "id": "5bf61734-6abc-4874-99cd-ba697ae01afb",
   "metadata": {},
   "outputs": [],
   "source": [
    "%%bash\n",
    "echo \"SIPECAM_ZENDRO_GQL_URL=https://gql.sipecamdata.conabio.gob.mx/\" > ~/.simex_env\n",
    "echo \"SIPECAM_ZENDRO_GQL_USER=<user>\" >> ~/.simex_env\n",
    "echo \"SIPECAM_ZENDRO_GQL_PASSWORD=<password>\" >> ~/.simex_env\n"
   ]
  },
  {
   "cell_type": "code",
   "execution_count": 4,
   "id": "ca974abb-1f70-433e-8e57-31c3bdd23969",
   "metadata": {},
   "outputs": [
    {
     "name": "stdout",
     "output_type": "stream",
     "text": [
      "/LUSTRE/sacmod/SIPECAM/Entregas_2021/octubre_2021/SIPECAM/Playon 1338/Audio/1338_1/Ultrasonico\n",
      "/LUSTRE/sacmod/SIPECAM/Entregas_2021/octubre_2021/SIPECAM/Playon 1338/Audio/1338_1/Audible\n",
      "/LUSTRE/sacmod/SIPECAM/Entregas_2021/octubre_2021/SIPECAM/Playon 1338/Audio/1338_2/Ultrasonico\n",
      "/LUSTRE/sacmod/SIPECAM/Entregas_2021/octubre_2021/SIPECAM/Playon 1338/Audio/1338_2/Audible\n",
      "/LUSTRE/sacmod/SIPECAM/Entregas_2021/octubre_2021/SIPECAM/Playon 1338/Audio/1338_3/Nueva carpeta/Unidad de USB\n",
      "/LUSTRE/sacmod/SIPECAM/Entregas_2021/octubre_2021/SIPECAM/Galacia 1339/1339_2/Audio/Ultrasonico\n",
      "/LUSTRE/sacmod/SIPECAM/Entregas_2021/octubre_2021/SIPECAM/Galacia 1339/1339_2/Audio/Audible\n",
      "/LUSTRE/sacmod/SIPECAM/Entregas_2021/octubre_2021/SIPECAM/Galacia 1339/1339_4/Audible\n",
      "/LUSTRE/sacmod/SIPECAM/Entregas_2021/octubre_2021/SIPECAM/Galacia 1339/1339_1/Audio\n",
      "/LUSTRE/sacmod/SIPECAM/Entregas_2021/octubre_2021/SIPECAM/Galacia 1339/1339_1/Audio/Ultrasonico\n",
      "/LUSTRE/sacmod/SIPECAM/Entregas_2021/octubre_2021/SIPECAM/Playon 1338/Camaras/1338_1/100RECNX\n",
      "/LUSTRE/sacmod/SIPECAM/Entregas_2021/octubre_2021/SIPECAM/Playon 1338/Camaras/1338_2/100RECNX\n",
      "/LUSTRE/sacmod/SIPECAM/Entregas_2021/octubre_2021/SIPECAM/Playon 1338/Camaras/1338_3/100RECNX\n",
      "/LUSTRE/sacmod/SIPECAM/Entregas_2021/octubre_2021/SIPECAM/Playon 1338/Camaras/1338_5\n",
      "/LUSTRE/sacmod/SIPECAM/Entregas_2021/octubre_2021/SIPECAM/Playon 1338/Camaras/1338_4/100RECNX\n",
      "/LUSTRE/sacmod/SIPECAM/Entregas_2021/octubre_2021/SIPECAM/Galacia 1339/1339_3/100RECNX\n",
      "/LUSTRE/sacmod/SIPECAM/Entregas_2021/octubre_2021/SIPECAM/Galacia 1339/1339_2/Cámaras\n",
      "/LUSTRE/sacmod/SIPECAM/Entregas_2021/octubre_2021/SIPECAM/Galacia 1339/1339_5/100RECNX\n",
      "/LUSTRE/sacmod/SIPECAM/Entregas_2021/octubre_2021/SIPECAM/Galacia 1339/1339_4\n",
      "/LUSTRE/sacmod/SIPECAM/Entregas_2021/octubre_2021/SIPECAM/Galacia 1339/1339_1/Camaras\n"
     ]
    }
   ],
   "source": [
    "%%bash\n",
    "list_of_dirs_to_be_processed=/shared_volume/sipecam_subdirectories_08-03-2022.txt\n",
    "SAVEIFS=$IFS;IFS=$(echo -en \"\\n\\b\")\n",
    "path_std_dir=/LUSTRE/sacmod/SIPECAM/data\n",
    "for dir_to_be_processed in $(cat $list_of_dirs_to_be_processed)\n",
    "    do\n",
    "    echo \"$dir_to_be_processed\"\n",
    "    move_files_to_standard_directory --directory_with_file_of_serial_number_and_dates \"$dir_to_be_processed\" --path_for_standard_directory \"$path_std_dir\"\n",
    "done\n",
    "IFS=$SAVEIFS"
   ]
  },
  {
   "cell_type": "markdown",
   "id": "6c82f60e-5866-4e12-841e-22aec5b245b8",
   "metadata": {},
   "source": [
    "## Check"
   ]
  },
  {
   "cell_type": "markdown",
   "id": "b105b353-4b6d-4bc8-a607-a4915738fa45",
   "metadata": {},
   "source": [
    "Will use `list_of_files_and_subdirectories_to_extract_metadata` to count how many files were moved to std dir"
   ]
  },
  {
   "cell_type": "code",
   "execution_count": 5,
   "id": "b6936a10-b0f6-414d-8be5-3bf5232024e9",
   "metadata": {},
   "outputs": [],
   "source": [
    "%%bash\n",
    "dir_with_sipecam_data=/LUSTRE/sacmod/SIPECAM/data/\n",
    "list_of_files_and_subdirectories_to_extract_metadata --input_directory \"$dir_with_sipecam_data\""
   ]
  },
  {
   "cell_type": "markdown",
   "id": "88bf2f0f-793d-418a-a4b5-c21c99cee6a2",
   "metadata": {},
   "source": [
    "Changing name of /shared_volume/sipecam_files_to_extract_metadata_from_09-03-2022.txt and /shared_volume/sipecam_subdirectories_08-03-2022.txt to avoid errors when using simex with new directories that need to be processed"
   ]
  },
  {
   "cell_type": "code",
   "execution_count": 5,
   "id": "b5c00bb1-67f4-45e9-bfe9-e3557dbf2665",
   "metadata": {},
   "outputs": [],
   "source": [
    "%%bash\n",
    "mv /shared_volume/sipecam_files_to_extract_metadata_from_09-03-2022.txt /shared_volume/move_files_auxiliary_1_09-03-2022.txt\n",
    "mv /shared_volume/sipecam_subdirectories_09-03-2022.txt /shared_volume/move_files_auxiliary_2_09-03-2022.txt"
   ]
  },
  {
   "cell_type": "code",
   "execution_count": 6,
   "id": "93ebb0a8-9f15-41ae-86e0-88241986db24",
   "metadata": {},
   "outputs": [
    {
     "name": "stdout",
     "output_type": "stream",
     "text": [
      "28670 /shared_volume/move_files_auxiliary_1_09-03-2022.txt\n"
     ]
    }
   ],
   "source": [
    "%%bash\n",
    "wc -l /shared_volume/move_files_auxiliary_1_09-03-2022.txt"
   ]
  },
  {
   "cell_type": "markdown",
   "id": "cebd2828-ceee-440b-9185-2a3e1bde3b0f",
   "metadata": {},
   "source": [
    "There are missing 29079 - 28670 = 409 files"
   ]
  },
  {
   "cell_type": "code",
   "execution_count": 3,
   "id": "0f6c82a5-6aa7-48bf-a6d5-bd57b4964493",
   "metadata": {},
   "outputs": [
    {
     "name": "stdout",
     "output_type": "stream",
     "text": [
      "/LUSTRE/sacmod/SIPECAM/Entregas_2021/octubre_2021/SIPECAM/Playon 1338/Audio/1338_1/Ultrasonico\n",
      "0\n",
      "/LUSTRE/sacmod/SIPECAM/Entregas_2021/octubre_2021/SIPECAM/Playon 1338/Audio/1338_1/Audible\n",
      "0\n",
      "/LUSTRE/sacmod/SIPECAM/Entregas_2021/octubre_2021/SIPECAM/Playon 1338/Audio/1338_2/Ultrasonico\n",
      "0\n",
      "/LUSTRE/sacmod/SIPECAM/Entregas_2021/octubre_2021/SIPECAM/Playon 1338/Audio/1338_2/Audible\n",
      "0\n",
      "/LUSTRE/sacmod/SIPECAM/Entregas_2021/octubre_2021/SIPECAM/Playon 1338/Audio/1338_3/Nueva carpeta/Unidad de USB\n",
      "0\n",
      "/LUSTRE/sacmod/SIPECAM/Entregas_2021/octubre_2021/SIPECAM/Galacia 1339/1339_2/Audio/Ultrasonico\n",
      "0\n",
      "/LUSTRE/sacmod/SIPECAM/Entregas_2021/octubre_2021/SIPECAM/Galacia 1339/1339_2/Audio/Audible\n",
      "0\n",
      "/LUSTRE/sacmod/SIPECAM/Entregas_2021/octubre_2021/SIPECAM/Galacia 1339/1339_4/Audible\n",
      "0\n",
      "/LUSTRE/sacmod/SIPECAM/Entregas_2021/octubre_2021/SIPECAM/Galacia 1339/1339_1/Audio\n",
      "0\n",
      "/LUSTRE/sacmod/SIPECAM/Entregas_2021/octubre_2021/SIPECAM/Galacia 1339/1339_1/Audio/Ultrasonico\n",
      "0\n",
      "/LUSTRE/sacmod/SIPECAM/Entregas_2021/octubre_2021/SIPECAM/Playon 1338/Camaras/1338_1/100RECNX\n",
      "0\n",
      "/LUSTRE/sacmod/SIPECAM/Entregas_2021/octubre_2021/SIPECAM/Playon 1338/Camaras/1338_2/100RECNX\n",
      "0\n",
      "/LUSTRE/sacmod/SIPECAM/Entregas_2021/octubre_2021/SIPECAM/Playon 1338/Camaras/1338_3/100RECNX\n",
      "186\n",
      "/LUSTRE/sacmod/SIPECAM/Entregas_2021/octubre_2021/SIPECAM/Playon 1338/Camaras/1338_5\n",
      "0\n",
      "/LUSTRE/sacmod/SIPECAM/Entregas_2021/octubre_2021/SIPECAM/Playon 1338/Camaras/1338_4/100RECNX\n",
      "27\n",
      "/LUSTRE/sacmod/SIPECAM/Entregas_2021/octubre_2021/SIPECAM/Galacia 1339/1339_3/100RECNX\n",
      "72\n",
      "/LUSTRE/sacmod/SIPECAM/Entregas_2021/octubre_2021/SIPECAM/Galacia 1339/1339_2/Cámaras\n",
      "0\n",
      "/LUSTRE/sacmod/SIPECAM/Entregas_2021/octubre_2021/SIPECAM/Galacia 1339/1339_5/100RECNX\n",
      "101\n",
      "/LUSTRE/sacmod/SIPECAM/Entregas_2021/octubre_2021/SIPECAM/Galacia 1339/1339_4\n",
      "20\n",
      "/LUSTRE/sacmod/SIPECAM/Entregas_2021/octubre_2021/SIPECAM/Galacia 1339/1339_1/Camaras\n",
      "0\n"
     ]
    }
   ],
   "source": [
    "%%bash\n",
    "#check every first subdirectory has a JPG, WAV or AVI file\n",
    "SAVEIFS=$IFS;IFS=$(echo -en \"\\n\\b\")\n",
    "for f in $(cat /shared_volume/sipecam_subdirectories_08-03-2022.txt)\n",
    "  do echo \"$f\"\n",
    "     ls \"$f\"|grep \"[WAV|wav|JPG|jpg|AVI|avi]$\"|wc -l\n",
    "done\n",
    "IFS=$SAVEIFS"
   ]
  },
  {
   "cell_type": "code",
   "execution_count": 4,
   "id": "50263227-3a4b-4ecf-857b-163aeb3cc85c",
   "metadata": {},
   "outputs": [
    {
     "data": {
      "text/plain": [
       "406"
      ]
     },
     "execution_count": 4,
     "metadata": {},
     "output_type": "execute_result"
    }
   ],
   "source": [
    "186 + 27 + 72 + 101 + 20"
   ]
  },
  {
   "cell_type": "markdown",
   "id": "8fc1f5be-84ec-4930-a585-938ce4cfd522",
   "metadata": {},
   "source": [
    "plus 3 that were WAVS files that are empty "
   ]
  },
  {
   "cell_type": "markdown",
   "id": "ff0b8778-daa9-4f1d-b720-4568ae4a242f",
   "metadata": {},
   "source": [
    "/LUSTRE/sacmod/SIPECAM/Entregas_2021/octubre_2021/SIPECAM/Playon 1338/Camaras/1338_3/100RECNX"
   ]
  },
  {
   "cell_type": "markdown",
   "id": "cae63224-20c4-47a3-aa06-01489596ca76",
   "metadata": {},
   "source": [
    "```\n",
    "query {\n",
    "  physical_devices(pagination: {limit: 0}, search: {field: serial_number, value: \"HLPXGM09049514\", operator: like}) {\n",
    "    device_deploymentsFilter(pagination: {limit: 0}) {\n",
    "      date_deployment\n",
    "    }\n",
    "  }\n",
    "}\n",
    "```"
   ]
  },
  {
   "cell_type": "markdown",
   "id": "0169ba9e-d6c9-4f6f-af1f-d63ee59b5d2b",
   "metadata": {},
   "source": [
    "```\n",
    "query {\n",
    "  physical_devices(pagination: {limit: 0}, search: {field: serial_number, value: \"HLPXGM09049514\", operator: like}) {\n",
    "    device_deploymentsFilter(pagination: {limit: 0}, search: {operator: and, search: [{field: date_deployment, value: \"2021-07-28\", valueType: String, operator: gte}, {field: date_deployment, value: \"2021-08-26\", valueType: String, operator: lte}]}) {\n",
    "      node {\n",
    "        nomenclatura\n",
    "        cat_integr\n",
    "        ecosystems {\n",
    "          name\n",
    "        }\n",
    "      }\n",
    "      cumulus {\n",
    "        name\n",
    "      }\n",
    "      date_deployment\n",
    "      latitude\n",
    "      longitude\n",
    "    }\n",
    "  }\n",
    "}\n",
    "```"
   ]
  },
  {
   "cell_type": "markdown",
   "id": "3001fb7a-90e7-48a2-afbb-2570ceeb829d",
   "metadata": {},
   "source": [
    "/LUSTRE/sacmod/SIPECAM/Entregas_2021/octubre_2021/SIPECAM/Playon 1338/Camaras/1338_4/100RECNX"
   ]
  },
  {
   "cell_type": "markdown",
   "id": "8052c862-8626-466a-b5df-e5750ee8cc10",
   "metadata": {},
   "source": [
    "```\n",
    "query {\n",
    "  physical_devices(pagination: {limit: 0}, search: {field: serial_number, value: \"HLPXGM09049271\", operator: like}) {\n",
    "    device_deploymentsFilter(pagination: {limit: 0}) {\n",
    "      date_deployment\n",
    "    }\n",
    "  }\n",
    "}\n",
    "```"
   ]
  },
  {
   "cell_type": "markdown",
   "id": "86569284-57b5-4518-a88f-82bce32ba7e6",
   "metadata": {},
   "source": [
    "```\n",
    "query {\n",
    "  physical_devices(pagination: {limit: 0}, search: {field: serial_number, value: \"HLPXGM09049271\", operator: like}) {\n",
    "    device_deploymentsFilter(pagination: {limit: 0}, search: {operator: and, search: [{field: date_deployment, value: \"2021-07-29\", valueType: String, operator: gte}, {field: date_deployment, value: \"2021-08-26\", valueType: String, operator: lte}]}) {\n",
    "      node {\n",
    "        nomenclatura\n",
    "        cat_integr\n",
    "        ecosystems {\n",
    "          name\n",
    "        }\n",
    "      }\n",
    "      cumulus {\n",
    "        name\n",
    "      }\n",
    "      date_deployment\n",
    "      latitude\n",
    "      longitude\n",
    "    }\n",
    "  }\n",
    "}\n",
    "```"
   ]
  },
  {
   "cell_type": "markdown",
   "id": "807fbb0d-4d30-490f-9842-43c300d94baa",
   "metadata": {},
   "source": [
    "/LUSTRE/sacmod/SIPECAM/Entregas_2021/octubre_2021/SIPECAM/Galacia 1339/1339_3/100RECNX"
   ]
  },
  {
   "cell_type": "markdown",
   "id": "77e79b70-2293-41b9-8b9d-14a699e07058",
   "metadata": {},
   "source": [
    "```\n",
    "query {\n",
    "  physical_devices(pagination: {limit: 0}, search: {field: serial_number, value: \"HLPXGM09048925\", operator: like}) {\n",
    "    device_deploymentsFilter(pagination: {limit: 0}) {\n",
    "      date_deployment\n",
    "    }\n",
    "  }\n",
    "}\n",
    "```"
   ]
  },
  {
   "cell_type": "markdown",
   "id": "b9de58ee-18ce-45d0-a731-998e5ccc380f",
   "metadata": {},
   "source": [
    "```\n",
    "query {\n",
    "  physical_devices(pagination: {limit: 0}, search: {field: serial_number, value: \"HLPXGM09048925\", operator: like}) {\n",
    "    device_deploymentsFilter(pagination: {limit: 0}, search: {operator: and, search: [{field: date_deployment, value: \"2021-07-29\", valueType: String, operator: gte}, {field: date_deployment, value: \"2021-08-29\", valueType: String, operator: lte}]}) {\n",
    "      node {\n",
    "        nomenclatura\n",
    "        cat_integr\n",
    "        ecosystems {\n",
    "          name\n",
    "        }\n",
    "      }\n",
    "      cumulus {\n",
    "        name\n",
    "      }\n",
    "      date_deployment\n",
    "      latitude\n",
    "      longitude\n",
    "    }\n",
    "  }\n",
    "}\n",
    "```"
   ]
  },
  {
   "cell_type": "markdown",
   "id": "86e4e024-761b-4ac1-86a9-fdce8a2e12f9",
   "metadata": {},
   "source": [
    "/LUSTRE/sacmod/SIPECAM/Entregas_2021/octubre_2021/SIPECAM/Galacia 1339/1339_5/100RECNX"
   ]
  },
  {
   "cell_type": "markdown",
   "id": "ffa18453-f5f2-4978-8c7b-f2dd5d0d5c02",
   "metadata": {},
   "source": [
    "```\n",
    "query {\n",
    "  physical_devices(pagination: {limit: 0}, search: {field: serial_number, value: \"HLPXGM09049201\", operator: like}) {\n",
    "    device_deploymentsFilter(pagination: {limit: 0}, search: {operator: and, search: [{field: date_deployment, value: \"2021-06-29\", valueType: String, operator: gte}, {field: date_deployment, value: \"2021-07-31\", valueType: String, operator: lte}]}) {\n",
    "      node {\n",
    "        nomenclatura\n",
    "        cat_integr\n",
    "        ecosystems {\n",
    "          name\n",
    "        }\n",
    "      }\n",
    "      cumulus {\n",
    "        name\n",
    "      }\n",
    "      date_deployment\n",
    "      latitude\n",
    "      longitude\n",
    "    }\n",
    "  }\n",
    "}\n",
    "```"
   ]
  },
  {
   "cell_type": "markdown",
   "id": "850fdfd6-d469-44c2-a442-305cce044668",
   "metadata": {},
   "source": [
    "2022-03-09 08:18:52,824 [INFO]  There's no unique date of deployment and can not select one date to create standard directory"
   ]
  },
  {
   "cell_type": "markdown",
   "id": "8f8ef47f-f2e7-4c52-a0da-92b953e4ccb6",
   "metadata": {},
   "source": [
    "/LUSTRE/sacmod/SIPECAM/Entregas_2021/octubre_2021/SIPECAM/Galacia 1339/1339_4"
   ]
  },
  {
   "cell_type": "markdown",
   "id": "7d93edbb-56a1-415d-9fd4-c3fb70322054",
   "metadata": {},
   "source": [
    "```\n",
    "query {\n",
    "  physical_devices(pagination: {limit: 0}, search: {field: serial_number, value: \"HLPXGM09048599\", operator: like}) {\n",
    "    device_deploymentsFilter(pagination: {limit: 0}, search: {operator: and, search: [{field: date_deployment, value: \"2021-07-29\", valueType: String, operator: gte}, {field: date_deployment, value: \"2021-08-30\", valueType: String, operator: lte}]}) {\n",
    "      node {\n",
    "        nomenclatura\n",
    "        cat_integr\n",
    "        ecosystems {\n",
    "          name\n",
    "        }\n",
    "      }\n",
    "      cumulus {\n",
    "        name\n",
    "      }\n",
    "      date_deployment\n",
    "      latitude\n",
    "      longitude\n",
    "    }\n",
    "  }\n",
    "}\n",
    "```"
   ]
  }
 ],
 "metadata": {
  "kernelspec": {
   "display_name": "Python 3 (ipykernel)",
   "language": "python",
   "name": "python3"
  },
  "language_info": {
   "codemirror_mode": {
    "name": "ipython",
    "version": 3
   },
   "file_extension": ".py",
   "mimetype": "text/x-python",
   "name": "python",
   "nbconvert_exporter": "python",
   "pygments_lexer": "ipython3",
   "version": "3.8.10"
  }
 },
 "nbformat": 4,
 "nbformat_minor": 5
}
