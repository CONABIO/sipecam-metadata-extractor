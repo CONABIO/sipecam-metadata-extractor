{
 "cells": [
  {
   "cell_type": "markdown",
   "id": "3cbbd5fc-4569-4e7b-ba77-74b4858255eb",
   "metadata": {},
   "source": [
    "# Move files to standard directory"
   ]
  },
  {
   "cell_type": "code",
   "execution_count": null,
   "id": "5bf61734-6abc-4874-99cd-ba697ae01afb",
   "metadata": {},
   "outputs": [],
   "source": [
    "%%bash\n",
    "echo \"SIPECAM_ZENDRO_GQL_URL=https://gql.sipecamdata.conabio.gob.mx/\" > ~/.simex_env\n",
    "echo \"SIPECAM_ZENDRO_GQL_USER=<user>\" >> ~/.simex_env\n",
    "echo \"SIPECAM_ZENDRO_GQL_PASSWORD=<password>\" >> ~/.simex_env\n"
   ]
  },
  {
   "cell_type": "code",
   "execution_count": 4,
   "id": "ca974abb-1f70-433e-8e57-31c3bdd23969",
   "metadata": {},
   "outputs": [
    {
     "name": "stdout",
     "output_type": "stream",
     "text": [
      "/LUSTRE/sacmod/SIPECAM/Entregas_2021/octubre_2021/SIPECAM/Playon 1338/Audio/1338_1/Ultrasonico\n",
      "/LUSTRE/sacmod/SIPECAM/Entregas_2021/octubre_2021/SIPECAM/Playon 1338/Audio/1338_1/Audible\n",
      "/LUSTRE/sacmod/SIPECAM/Entregas_2021/octubre_2021/SIPECAM/Playon 1338/Audio/1338_2/Ultrasonico\n",
      "/LUSTRE/sacmod/SIPECAM/Entregas_2021/octubre_2021/SIPECAM/Playon 1338/Audio/1338_2/Audible\n",
      "/LUSTRE/sacmod/SIPECAM/Entregas_2021/octubre_2021/SIPECAM/Playon 1338/Audio/1338_3/Nueva carpeta/Unidad de USB\n",
      "/LUSTRE/sacmod/SIPECAM/Entregas_2021/octubre_2021/SIPECAM/Galacia 1339/1339_2/Audio/Ultrasonico\n",
      "/LUSTRE/sacmod/SIPECAM/Entregas_2021/octubre_2021/SIPECAM/Galacia 1339/1339_2/Audio/Audible\n",
      "/LUSTRE/sacmod/SIPECAM/Entregas_2021/octubre_2021/SIPECAM/Galacia 1339/1339_4/Audible\n",
      "/LUSTRE/sacmod/SIPECAM/Entregas_2021/octubre_2021/SIPECAM/Galacia 1339/1339_1/Audio\n",
      "/LUSTRE/sacmod/SIPECAM/Entregas_2021/octubre_2021/SIPECAM/Galacia 1339/1339_1/Audio/Ultrasonico\n",
      "/LUSTRE/sacmod/SIPECAM/Entregas_2021/octubre_2021/SIPECAM/Playon 1338/Camaras/1338_1/100RECNX\n",
      "/LUSTRE/sacmod/SIPECAM/Entregas_2021/octubre_2021/SIPECAM/Playon 1338/Camaras/1338_2/100RECNX\n",
      "/LUSTRE/sacmod/SIPECAM/Entregas_2021/octubre_2021/SIPECAM/Playon 1338/Camaras/1338_3/100RECNX\n",
      "/LUSTRE/sacmod/SIPECAM/Entregas_2021/octubre_2021/SIPECAM/Playon 1338/Camaras/1338_5\n",
      "/LUSTRE/sacmod/SIPECAM/Entregas_2021/octubre_2021/SIPECAM/Playon 1338/Camaras/1338_4/100RECNX\n",
      "/LUSTRE/sacmod/SIPECAM/Entregas_2021/octubre_2021/SIPECAM/Galacia 1339/1339_3/100RECNX\n",
      "/LUSTRE/sacmod/SIPECAM/Entregas_2021/octubre_2021/SIPECAM/Galacia 1339/1339_2/Cámaras\n",
      "/LUSTRE/sacmod/SIPECAM/Entregas_2021/octubre_2021/SIPECAM/Galacia 1339/1339_5/100RECNX\n",
      "/LUSTRE/sacmod/SIPECAM/Entregas_2021/octubre_2021/SIPECAM/Galacia 1339/1339_4\n",
      "/LUSTRE/sacmod/SIPECAM/Entregas_2021/octubre_2021/SIPECAM/Galacia 1339/1339_1/Camaras\n"
     ]
    }
   ],
   "source": [
    "%%bash\n",
    "list_of_dirs_to_be_processed=/shared_volume/sipecam_subdirectories_08-03-2022.txt\n",
    "SAVEIFS=$IFS;IFS=$(echo -en \"\\n\\b\")\n",
    "path_std_dir=/LUSTRE/sacmod/SIPECAM/data\n",
    "for dir_to_be_processed in $(cat $list_of_dirs_to_be_processed)\n",
    "    do\n",
    "    echo \"$dir_to_be_processed\"\n",
    "    move_files_to_standard_directory --directory_with_file_of_serial_number_and_dates \"$dir_to_be_processed\" --path_for_standard_directory \"$path_std_dir\"\n",
    "done\n",
    "IFS=$SAVEIFS"
   ]
  },
  {
   "cell_type": "markdown",
   "id": "6c82f60e-5866-4e12-841e-22aec5b245b8",
   "metadata": {},
   "source": [
    "## Check"
   ]
  },
  {
   "cell_type": "markdown",
   "id": "b105b353-4b6d-4bc8-a607-a4915738fa45",
   "metadata": {},
   "source": [
    "Will use `list_of_files_and_subdirectories_to_extract_metadata` to count how many files were moved to std dir"
   ]
  },
  {
   "cell_type": "code",
   "execution_count": 5,
   "id": "b6936a10-b0f6-414d-8be5-3bf5232024e9",
   "metadata": {},
   "outputs": [],
   "source": [
    "%%bash\n",
    "dir_with_sipecam_data=/LUSTRE/sacmod/SIPECAM/data/\n",
    "list_of_files_and_subdirectories_to_extract_metadata --input_directory \"$dir_with_sipecam_data\""
   ]
  },
  {
   "cell_type": "markdown",
   "id": "88bf2f0f-793d-418a-a4b5-c21c99cee6a2",
   "metadata": {},
   "source": [
    "Changing name of /shared_volume/sipecam_files_to_extract_metadata_from_09-03-2022.txt and /shared_volume/sipecam_subdirectories_08-03-2022.txt to avoid errors when using simex with new directories that need to be processed"
   ]
  },
  {
   "cell_type": "code",
   "execution_count": 5,
   "id": "b5c00bb1-67f4-45e9-bfe9-e3557dbf2665",
   "metadata": {},
   "outputs": [],
   "source": [
    "%%bash\n",
    "mv /shared_volume/sipecam_files_to_extract_metadata_from_09-03-2022.txt /shared_volume/move_files_auxiliary_1_09-03-2022.txt\n",
    "mv /shared_volume/sipecam_subdirectories_09-03-2022.txt /shared_volume/move_files_auxiliary_2_09-03-2022.txt"
   ]
  },
  {
   "cell_type": "code",
   "execution_count": 6,
   "id": "93ebb0a8-9f15-41ae-86e0-88241986db24",
   "metadata": {},
   "outputs": [
    {
     "name": "stdout",
     "output_type": "stream",
     "text": [
      "28670 /shared_volume/move_files_auxiliary_1_09-03-2022.txt\n"
     ]
    }
   ],
   "source": [
    "%%bash\n",
    "wc -l /shared_volume/move_files_auxiliary_1_09-03-2022.txt"
   ]
  },
  {
   "cell_type": "markdown",
   "id": "cebd2828-ceee-440b-9185-2a3e1bde3b0f",
   "metadata": {},
   "source": [
    "There are missing 29079 - 28670 = 409 files"
   ]
  },
  {
   "cell_type": "code",
   "execution_count": 3,
   "id": "0f6c82a5-6aa7-48bf-a6d5-bd57b4964493",
   "metadata": {},
   "outputs": [
    {
     "name": "stdout",
     "output_type": "stream",
     "text": [
      "/LUSTRE/sacmod/SIPECAM/Entregas_2021/octubre_2021/SIPECAM/Playon 1338/Audio/1338_1/Ultrasonico\n",
      "0\n",
      "/LUSTRE/sacmod/SIPECAM/Entregas_2021/octubre_2021/SIPECAM/Playon 1338/Audio/1338_1/Audible\n",
      "0\n",
      "/LUSTRE/sacmod/SIPECAM/Entregas_2021/octubre_2021/SIPECAM/Playon 1338/Audio/1338_2/Ultrasonico\n",
      "0\n",
      "/LUSTRE/sacmod/SIPECAM/Entregas_2021/octubre_2021/SIPECAM/Playon 1338/Audio/1338_2/Audible\n",
      "0\n",
      "/LUSTRE/sacmod/SIPECAM/Entregas_2021/octubre_2021/SIPECAM/Playon 1338/Audio/1338_3/Nueva carpeta/Unidad de USB\n",
      "0\n",
      "/LUSTRE/sacmod/SIPECAM/Entregas_2021/octubre_2021/SIPECAM/Galacia 1339/1339_2/Audio/Ultrasonico\n",
      "0\n",
      "/LUSTRE/sacmod/SIPECAM/Entregas_2021/octubre_2021/SIPECAM/Galacia 1339/1339_2/Audio/Audible\n",
      "0\n",
      "/LUSTRE/sacmod/SIPECAM/Entregas_2021/octubre_2021/SIPECAM/Galacia 1339/1339_4/Audible\n",
      "0\n",
      "/LUSTRE/sacmod/SIPECAM/Entregas_2021/octubre_2021/SIPECAM/Galacia 1339/1339_1/Audio\n",
      "0\n",
      "/LUSTRE/sacmod/SIPECAM/Entregas_2021/octubre_2021/SIPECAM/Galacia 1339/1339_1/Audio/Ultrasonico\n",
      "0\n",
      "/LUSTRE/sacmod/SIPECAM/Entregas_2021/octubre_2021/SIPECAM/Playon 1338/Camaras/1338_1/100RECNX\n",
      "0\n",
      "/LUSTRE/sacmod/SIPECAM/Entregas_2021/octubre_2021/SIPECAM/Playon 1338/Camaras/1338_2/100RECNX\n",
      "0\n",
      "/LUSTRE/sacmod/SIPECAM/Entregas_2021/octubre_2021/SIPECAM/Playon 1338/Camaras/1338_3/100RECNX\n",
      "186\n",
      "/LUSTRE/sacmod/SIPECAM/Entregas_2021/octubre_2021/SIPECAM/Playon 1338/Camaras/1338_5\n",
      "0\n",
      "/LUSTRE/sacmod/SIPECAM/Entregas_2021/octubre_2021/SIPECAM/Playon 1338/Camaras/1338_4/100RECNX\n",
      "27\n",
      "/LUSTRE/sacmod/SIPECAM/Entregas_2021/octubre_2021/SIPECAM/Galacia 1339/1339_3/100RECNX\n",
      "72\n",
      "/LUSTRE/sacmod/SIPECAM/Entregas_2021/octubre_2021/SIPECAM/Galacia 1339/1339_2/Cámaras\n",
      "0\n",
      "/LUSTRE/sacmod/SIPECAM/Entregas_2021/octubre_2021/SIPECAM/Galacia 1339/1339_5/100RECNX\n",
      "101\n",
      "/LUSTRE/sacmod/SIPECAM/Entregas_2021/octubre_2021/SIPECAM/Galacia 1339/1339_4\n",
      "20\n",
      "/LUSTRE/sacmod/SIPECAM/Entregas_2021/octubre_2021/SIPECAM/Galacia 1339/1339_1/Camaras\n",
      "0\n"
     ]
    }
   ],
   "source": [
    "%%bash\n",
    "#check every first subdirectory has a JPG, WAV or AVI file\n",
    "SAVEIFS=$IFS;IFS=$(echo -en \"\\n\\b\")\n",
    "for f in $(cat /shared_volume/sipecam_subdirectories_08-03-2022.txt)\n",
    "  do echo \"$f\"\n",
    "     ls \"$f\"|grep \"[WAV|wav|JPG|jpg|AVI|avi]$\"|wc -l\n",
    "done\n",
    "IFS=$SAVEIFS"
   ]
  },
  {
   "cell_type": "code",
   "execution_count": 4,
   "id": "50263227-3a4b-4ecf-857b-163aeb3cc85c",
   "metadata": {},
   "outputs": [
    {
     "data": {
      "text/plain": [
       "406"
      ]
     },
     "execution_count": 4,
     "metadata": {},
     "output_type": "execute_result"
    }
   ],
   "source": [
    "186 + 27 + 72 + 101 + 20"
   ]
  },
  {
   "cell_type": "markdown",
   "id": "8fc1f5be-84ec-4930-a585-938ce4cfd522",
   "metadata": {},
   "source": [
    "plus 3 that were WAVS files that are empty "
   ]
  },
  {
   "cell_type": "markdown",
   "id": "ff0b8778-daa9-4f1d-b720-4568ae4a242f",
   "metadata": {},
   "source": [
    "/LUSTRE/sacmod/SIPECAM/Entregas_2021/octubre_2021/SIPECAM/Playon 1338/Camaras/1338_3/100RECNX"
   ]
  },
  {
   "cell_type": "markdown",
   "id": "cae63224-20c4-47a3-aa06-01489596ca76",
   "metadata": {},
   "source": [
    "```\n",
    "query {\n",
    "  physical_devices(pagination: {limit: 0}, search: {field: serial_number, value: \"HLPXGM09049514\", operator: like}) {\n",
    "    device_deploymentsFilter(pagination: {limit: 0}) {\n",
    "      date_deployment\n",
    "    }\n",
    "  }\n",
    "}\n",
    "```"
   ]
  },
  {
   "cell_type": "markdown",
   "id": "0169ba9e-d6c9-4f6f-af1f-d63ee59b5d2b",
   "metadata": {},
   "source": [
    "```\n",
    "query {\n",
    "  physical_devices(pagination: {limit: 0}, search: {field: serial_number, value: \"HLPXGM09049514\", operator: like}) {\n",
    "    device_deploymentsFilter(pagination: {limit: 0}, search: {operator: and, search: [{field: date_deployment, value: \"2021-07-28\", valueType: String, operator: gte}, {field: date_deployment, value: \"2021-08-26\", valueType: String, operator: lte}]}) {\n",
    "      node {\n",
    "        nomenclatura\n",
    "        cat_integr\n",
    "        ecosystems {\n",
    "          name\n",
    "        }\n",
    "      }\n",
    "      cumulus {\n",
    "        name\n",
    "      }\n",
    "      date_deployment\n",
    "      latitude\n",
    "      longitude\n",
    "    }\n",
    "  }\n",
    "}\n",
    "```"
   ]
  },
  {
   "cell_type": "markdown",
   "id": "3001fb7a-90e7-48a2-afbb-2570ceeb829d",
   "metadata": {},
   "source": [
    "/LUSTRE/sacmod/SIPECAM/Entregas_2021/octubre_2021/SIPECAM/Playon 1338/Camaras/1338_4/100RECNX"
   ]
  },
  {
   "cell_type": "markdown",
   "id": "8052c862-8626-466a-b5df-e5750ee8cc10",
   "metadata": {},
   "source": [
    "```\n",
    "query {\n",
    "  physical_devices(pagination: {limit: 0}, search: {field: serial_number, value: \"HLPXGM09049271\", operator: like}) {\n",
    "    device_deploymentsFilter(pagination: {limit: 0}) {\n",
    "      date_deployment\n",
    "    }\n",
    "  }\n",
    "}\n",
    "```"
   ]
  },
  {
   "cell_type": "markdown",
   "id": "86569284-57b5-4518-a88f-82bce32ba7e6",
   "metadata": {},
   "source": [
    "```\n",
    "query {\n",
    "  physical_devices(pagination: {limit: 0}, search: {field: serial_number, value: \"HLPXGM09049271\", operator: like}) {\n",
    "    device_deploymentsFilter(pagination: {limit: 0}, search: {operator: and, search: [{field: date_deployment, value: \"2021-07-29\", valueType: String, operator: gte}, {field: date_deployment, value: \"2021-08-26\", valueType: String, operator: lte}]}) {\n",
    "      node {\n",
    "        nomenclatura\n",
    "        cat_integr\n",
    "        ecosystems {\n",
    "          name\n",
    "        }\n",
    "      }\n",
    "      cumulus {\n",
    "        name\n",
    "      }\n",
    "      date_deployment\n",
    "      latitude\n",
    "      longitude\n",
    "    }\n",
    "  }\n",
    "}\n",
    "```"
   ]
  },
  {
   "cell_type": "markdown",
   "id": "807fbb0d-4d30-490f-9842-43c300d94baa",
   "metadata": {},
   "source": [
    "/LUSTRE/sacmod/SIPECAM/Entregas_2021/octubre_2021/SIPECAM/Galacia 1339/1339_3/100RECNX"
   ]
  },
  {
   "cell_type": "markdown",
   "id": "77e79b70-2293-41b9-8b9d-14a699e07058",
   "metadata": {},
   "source": [
    "```\n",
    "query {\n",
    "  physical_devices(pagination: {limit: 0}, search: {field: serial_number, value: \"HLPXGM09048925\", operator: like}) {\n",
    "    device_deploymentsFilter(pagination: {limit: 0}) {\n",
    "      date_deployment\n",
    "    }\n",
    "  }\n",
    "}\n",
    "```"
   ]
  },
  {
   "cell_type": "markdown",
   "id": "b9de58ee-18ce-45d0-a731-998e5ccc380f",
   "metadata": {},
   "source": [
    "```\n",
    "query {\n",
    "  physical_devices(pagination: {limit: 0}, search: {field: serial_number, value: \"HLPXGM09048925\", operator: like}) {\n",
    "    device_deploymentsFilter(pagination: {limit: 0}, search: {operator: and, search: [{field: date_deployment, value: \"2021-07-29\", valueType: String, operator: gte}, {field: date_deployment, value: \"2021-08-29\", valueType: String, operator: lte}]}) {\n",
    "      node {\n",
    "        nomenclatura\n",
    "        cat_integr\n",
    "        ecosystems {\n",
    "          name\n",
    "        }\n",
    "      }\n",
    "      cumulus {\n",
    "        name\n",
    "      }\n",
    "      date_deployment\n",
    "      latitude\n",
    "      longitude\n",
    "    }\n",
    "  }\n",
    "}\n",
    "```"
   ]
  },
  {
   "cell_type": "markdown",
   "id": "86e4e024-761b-4ac1-86a9-fdce8a2e12f9",
   "metadata": {},
   "source": [
    "/LUSTRE/sacmod/SIPECAM/Entregas_2021/octubre_2021/SIPECAM/Galacia 1339/1339_5/100RECNX"
   ]
  },
  {
   "cell_type": "markdown",
   "id": "1bf095df-da14-4813-97f7-4113060c0242",
   "metadata": {},
   "source": [
    "```\n",
    "query {\n",
    "  physical_devices(pagination: {limit: 0}, search: {field: serial_number, value: \"HLPXGM09049201\", operator: like}) {\n",
    "    device_deploymentsFilter(pagination: {limit: 0}) {\n",
    "      date_deployment\n",
    "    }\n",
    "  }\n",
    "}\n",
    "```"
   ]
  },
  {
   "cell_type": "markdown",
   "id": "ffa18453-f5f2-4978-8c7b-f2dd5d0d5c02",
   "metadata": {},
   "source": [
    "```\n",
    "query {\n",
    "  physical_devices(pagination: {limit: 0}, search: {field: serial_number, value: \"HLPXGM09049201\", operator: like}) {\n",
    "    device_deploymentsFilter(pagination: {limit: 0}, search: {operator: and, search: [{field: date_deployment, value: \"2021-06-29\", valueType: String, operator: gte}, {field: date_deployment, value: \"2021-07-31\", valueType: String, operator: lte}]}) {\n",
    "      node {\n",
    "        nomenclatura\n",
    "        cat_integr\n",
    "        ecosystems {\n",
    "          name\n",
    "        }\n",
    "      }\n",
    "      cumulus {\n",
    "        name\n",
    "      }\n",
    "      date_deployment\n",
    "      latitude\n",
    "      longitude\n",
    "    }\n",
    "  }\n",
    "}\n",
    "```"
   ]
  },
  {
   "cell_type": "markdown",
   "id": "850fdfd6-d469-44c2-a442-305cce044668",
   "metadata": {},
   "source": [
    "2022-03-09 08:18:52,824 [INFO]  There's no unique date of deployment and can not select one date to create standard directory"
   ]
  },
  {
   "cell_type": "markdown",
   "id": "8f8ef47f-f2e7-4c52-a0da-92b953e4ccb6",
   "metadata": {},
   "source": [
    "/LUSTRE/sacmod/SIPECAM/Entregas_2021/octubre_2021/SIPECAM/Galacia 1339/1339_4"
   ]
  },
  {
   "cell_type": "markdown",
   "id": "35d6606c-94f8-4ca0-a26b-d302a9cb8667",
   "metadata": {},
   "source": [
    "```\n",
    "query {\n",
    "  physical_devices(pagination: {limit: 0}, search: {field: serial_number, value: \"HLPXGM09048599\", operator: like}) {\n",
    "    device_deploymentsFilter(pagination: {limit: 0}) {\n",
    "      date_deployment\n",
    "    }\n",
    "  }\n",
    "}\n",
    "```"
   ]
  },
  {
   "cell_type": "markdown",
   "id": "7d93edbb-56a1-415d-9fd4-c3fb70322054",
   "metadata": {},
   "source": [
    "```\n",
    "query {\n",
    "  physical_devices(pagination: {limit: 0}, search: {field: serial_number, value: \"HLPXGM09048599\", operator: like}) {\n",
    "    device_deploymentsFilter(pagination: {limit: 0}, search: {operator: and, search: [{field: date_deployment, value: \"2021-07-29\", valueType: String, operator: gte}, {field: date_deployment, value: \"2021-08-30\", valueType: String, operator: lte}]}) {\n",
    "      node {\n",
    "        nomenclatura\n",
    "        cat_integr\n",
    "        ecosystems {\n",
    "          name\n",
    "        }\n",
    "      }\n",
    "      cumulus {\n",
    "        name\n",
    "      }\n",
    "      date_deployment\n",
    "      latitude\n",
    "      longitude\n",
    "    }\n",
    "  }\n",
    "}\n",
    "```"
   ]
  },
  {
   "cell_type": "markdown",
   "id": "7d4602ce-2cdd-455c-a8fd-bcb3030d733b",
   "metadata": {},
   "source": [
    "Of all last queries only the one that has a duplicate date was fixed in Zendro table. Executing it again:"
   ]
  },
  {
   "cell_type": "code",
   "execution_count": 2,
   "id": "1935c172-47eb-4820-a1bf-f7154df338cc",
   "metadata": {},
   "outputs": [],
   "source": [
    "%%bash\n",
    "dir_to_be_processed=\"/LUSTRE/sacmod/SIPECAM/Entregas_2021/octubre_2021/SIPECAM/Galacia 1339/1339_5/100RECNX\"\n",
    "path_std_dir=/LUSTRE/sacmod/SIPECAM/data\n",
    "move_files_to_standard_directory --directory_with_file_of_serial_number_and_dates \"$dir_to_be_processed\" --path_for_standard_directory \"$path_std_dir\""
   ]
  },
  {
   "cell_type": "markdown",
   "id": "8da9d347-ccad-468f-baa4-b84a91e34903",
   "metadata": {},
   "source": [
    "The remaining dirs:\n",
    "\n",
    "```\n",
    "/LUSTRE/sacmod/SIPECAM/Entregas_2021/octubre_2021/SIPECAM/Playon 1338/Camaras/1338_3/100RECNX\n",
    "\n",
    "/LUSTRE/sacmod/SIPECAM/Entregas_2021/octubre_2021/SIPECAM/Playon 1338/Camaras/1338_4/100RECNX\n",
    "\n",
    "/LUSTRE/sacmod/SIPECAM/Entregas_2021/octubre_2021/SIPECAM/Galacia 1339/1339_3/100RECNX\n",
    "\n",
    "/LUSTRE/sacmod/SIPECAM/Entregas_2021/octubre_2021/SIPECAM/Galacia 1339/1339_4\n",
    "\n",
    "```\n",
    "\n",
    "we will wait until reports in kobo are filled.\n",
    "\n",
    "Each last dir is associated to devices:\n",
    "\n",
    "```\n",
    "HLPXGM09049514\n",
    "HLPXGM09049271\n",
    "HLPXGM09048925\n",
    "HLPXGM09048599\n",
    "```\n",
    "\n",
    "respectively"
   ]
  },
  {
   "cell_type": "markdown",
   "id": "fe91d555-4cd1-4e77-b61e-d5c9c5185e63",
   "metadata": {},
   "source": [
    "# Next delivery: /LUSTRE/sacmod/SIPECAM/cumulo_92/"
   ]
  },
  {
   "cell_type": "markdown",
   "id": "3f15c8d1-7d17-4c34-aaa8-2abc6c6368de",
   "metadata": {
    "tags": []
   },
   "source": [
    "# List of files to extract metadata"
   ]
  },
  {
   "cell_type": "code",
   "execution_count": 3,
   "id": "4ee43f4f-5adb-43b7-80ca-a6469544c446",
   "metadata": {},
   "outputs": [],
   "source": [
    "%%bash\n",
    "dir_with_sipecam_data=/LUSTRE/sacmod/SIPECAM/cumulo_92/\n",
    "list_of_files_and_subdirectories_to_extract_metadata --input_directory \"$dir_with_sipecam_data\""
   ]
  },
  {
   "cell_type": "markdown",
   "id": "36673430-0f97-461a-b72f-8867c89ca949",
   "metadata": {
    "tags": []
   },
   "source": [
    "## Check"
   ]
  },
  {
   "cell_type": "code",
   "execution_count": 2,
   "id": "cdcdf0cc-222f-4bc5-8b8e-e7872a4e86a9",
   "metadata": {},
   "outputs": [
    {
     "name": "stdout",
     "output_type": "stream",
     "text": [
      "-rw-r--r-- 1 root root 3.2M Mar  8 13:35 /shared_volume/sipecam_files_to_extract_metadata_from_08-03-2022.txt\n"
     ]
    }
   ],
   "source": [
    "%%bash\n",
    "ls -lh sipecam_files_to_extract_metadata_from_09-03-2022.txt"
   ]
  },
  {
   "cell_type": "code",
   "execution_count": 4,
   "id": "7f9e1d65-834d-4658-9be6-8bb23fd208eb",
   "metadata": {},
   "outputs": [
    {
     "name": "stdout",
     "output_type": "stream",
     "text": [
      "-rw-r--r-- 1 root root 4.8K Mar  9 15:57 /shared_volume/sipecam_subdirectories_09-03-2022.txt\n"
     ]
    }
   ],
   "source": [
    "%%bash\n",
    "ls -lh /shared_volume/sipecam_subdirectories_09-03-2022.txt"
   ]
  },
  {
   "cell_type": "code",
   "execution_count": 5,
   "id": "e7001026-dda1-40b0-aa2f-d9f899317ac9",
   "metadata": {},
   "outputs": [
    {
     "name": "stdout",
     "output_type": "stream",
     "text": [
      "68476 /shared_volume/sipecam_files_to_extract_metadata_from_09-03-2022.txt\n"
     ]
    }
   ],
   "source": [
    "%%bash\n",
    "wc -l /shared_volume/sipecam_files_to_extract_metadata_from_09-03-2022.txt"
   ]
  },
  {
   "cell_type": "code",
   "execution_count": 6,
   "id": "c34baac1-c3bf-4577-a680-13192c25a9d0",
   "metadata": {},
   "outputs": [
    {
     "name": "stdout",
     "output_type": "stream",
     "text": [
      "70 /shared_volume/sipecam_subdirectories_09-03-2022.txt\n"
     ]
    }
   ],
   "source": [
    "%%bash\n",
    "wc -l /shared_volume/sipecam_subdirectories_09-03-2022.txt"
   ]
  },
  {
   "cell_type": "code",
   "execution_count": 7,
   "id": "13a467d1-f103-435a-b109-2b098d7f97a8",
   "metadata": {},
   "outputs": [
    {
     "name": "stdout",
     "output_type": "stream",
     "text": [
      "/LUSTRE/sacmod/SIPECAM/cumulo_92/Mes 4/3_92_0_1341/3_92_0_1341_5/Audio\n",
      "20211114_133000.WAV\n",
      "/LUSTRE/sacmod/SIPECAM/cumulo_92/Mes 4/3_92_0_1341/3_92_0_1341_3/audio\n",
      "20211114_180000.WAV\n",
      "/LUSTRE/sacmod/SIPECAM/cumulo_92/Mes 4/3_92_0_1341/3_92_0_1341_3/audio/Nueva carpeta\n",
      "20211114_110000.WAV\n",
      "/LUSTRE/sacmod/SIPECAM/cumulo_92/Mes 4/3_92_0_1341/3_92_0_1341_2/Audio/Nueva carpeta/Unidad de USB\n",
      "20211114_180000.WAV\n",
      "/LUSTRE/sacmod/SIPECAM/cumulo_92/Mes 4/3_92_1_1335/3_92_1_1335_5/Audible\n",
      "19700101_000006.WAV\n",
      "/LUSTRE/sacmod/SIPECAM/cumulo_92/Mes 2/3_92_0_1342/1342_1/ultrasonico\n",
      "20210904_180000.WAV\n",
      "/LUSTRE/sacmod/SIPECAM/cumulo_92/Mes 2/3_92_0_1342/1342_1/audible\n",
      "19700110_172413.WAV\n",
      "/LUSTRE/sacmod/SIPECAM/cumulo_92/Mes 2/3_92_0_1342/1342_2/audible\n",
      "20210904_093000.WAV\n",
      "/LUSTRE/sacmod/SIPECAM/cumulo_92/Mes 2/3_92_0_1342/1342_4/audible\n",
      "20210904_123000.WAV\n",
      "/LUSTRE/sacmod/SIPECAM/cumulo_92/Mes 2/3_92_1_1340/1340_5/ultrasonica\n",
      "20210903_180000.WAV\n",
      "/LUSTRE/sacmod/SIPECAM/cumulo_92/Mes 2/3_92_1_1340/1340_5/audible\n",
      "20210903_144000.WAV\n",
      "/LUSTRE/sacmod/SIPECAM/cumulo_92/Mes 2/3_92_1_1340/1340_1/ultrasonica\n",
      "20210902_180000.WAV\n",
      "/LUSTRE/sacmod/SIPECAM/cumulo_92/Mes 2/3_92_1_1340/1340_1/audible\n",
      "20210902_111000.WAV\n",
      "/LUSTRE/sacmod/SIPECAM/cumulo_92/Mes 2/3_92_1_1340/1340_2/audible\n",
      "20210902_180000.WAV\n",
      "/LUSTRE/sacmod/SIPECAM/cumulo_92/Mes 3/3_92_0_1343/Ch1/10306783\n",
      "19700101_001629.WAV\n",
      "/LUSTRE/sacmod/SIPECAM/cumulo_92/Mes 3/3_92_0_1343/Ch1/10262856\n",
      "20211008_181005.WAV\n",
      "/LUSTRE/sacmod/SIPECAM/cumulo_92/Mes 3/3_92_0_1343/Ch3/10306733\n",
      "20211008_184000.WAV\n",
      "/LUSTRE/sacmod/SIPECAM/cumulo_92/Mes 3/3_92_0_1343/Ch5/10307341\n",
      "20211008_190000.WAV\n",
      "/LUSTRE/sacmod/SIPECAM/cumulo_92/Mes 3/3_92_1_1334/09048890/10263270 aud\n",
      "20211008_080000.WAV\n",
      "/LUSTRE/sacmod/SIPECAM/cumulo_92/Mes 3/3_92_1_1334/09048594/10306516 ultra\n",
      "19700101_000000.WAV\n",
      "/LUSTRE/sacmod/SIPECAM/cumulo_92/Mes 3/3_92_1_1334/09048594/10262847 audi\n",
      "20211008_091000.WAV\n",
      "/LUSTRE/sacmod/SIPECAM/cumulo_92/Mes 3/3_92_1_1334/09049271/10307447 ultra\n",
      "20211008_180000.WAV\n",
      "/LUSTRE/sacmod/SIPECAM/cumulo_92/Mes 3/3_92_1_1334/09049271/10262855 audi\n",
      "20211008_084000.WAV\n",
      "/LUSTRE/sacmod/SIPECAM/cumulo_92/Mes 1/3_92_1_1338/Audio/1338_1/Ultrasonico\n",
      "20210728_180000.WAV\n",
      "/LUSTRE/sacmod/SIPECAM/cumulo_92/Mes 1/3_92_1_1338/Audio/1338_1/Audible\n",
      "20210728_093000.WAV\n",
      "/LUSTRE/sacmod/SIPECAM/cumulo_92/Mes 1/3_92_1_1338/Audio/1338_2/Ultrasonico\n",
      "20210728_180000.WAV\n",
      "/LUSTRE/sacmod/SIPECAM/cumulo_92/Mes 1/3_92_1_1338/Audio/1338_2/Audible\n",
      "20210728_105000.WAV\n",
      "/LUSTRE/sacmod/SIPECAM/cumulo_92/Mes 1/3_92_1_1338/Audio/1338_3/Nueva carpeta/Unidad de USB\n",
      "20210728_141000.WAV\n",
      "/LUSTRE/sacmod/SIPECAM/cumulo_92/Mes 1/3_92_0_1339/1339_2/Audio/Ultrasonico\n",
      "20210729_102000.WAV\n",
      "/LUSTRE/sacmod/SIPECAM/cumulo_92/Mes 1/3_92_0_1339/1339_2/Audio/Audible\n",
      "20210729_180000.WAV\n",
      "/LUSTRE/sacmod/SIPECAM/cumulo_92/Mes 1/3_92_0_1339/1339_4/Audible\n",
      "20210729_133000.WAV\n",
      "/LUSTRE/sacmod/SIPECAM/cumulo_92/Mes 1/3_92_0_1339/1339_1/Audio\n",
      "20210729_090000.WAV\n",
      "/LUSTRE/sacmod/SIPECAM/cumulo_92/Mes 1/3_92_0_1339/1339_1/Audio/Ultrasonico\n",
      "20210729_180000.WAV\n",
      "/LUSTRE/sacmod/SIPECAM/cumulo_92/Mes 4/3_92_0_1341/3_92_0_1341_5/100RECNX\n",
      "RCNX0001.JPG\n",
      "/LUSTRE/sacmod/SIPECAM/cumulo_92/Mes 4/3_92_0_1341/3_92_0_1341_3/camras/centro\n",
      "RCNX0001.JPG\n",
      "/LUSTRE/sacmod/SIPECAM/cumulo_92/Mes 4/3_92_0_1341/3_92_0_1341_2/100RECNX\n",
      "RCNX0001.JPG\n",
      "/LUSTRE/sacmod/SIPECAM/cumulo_92/Mes 4/3_92_0_1341/3_92_0_1341_4/DCIM/100RECNX\n",
      "RCNX0001.JPG\n",
      "/LUSTRE/sacmod/SIPECAM/cumulo_92/Mes 4/3_92_1_1335/3_92_1_1335_5/DCIM/100RECNX\n",
      "RCNX0001.JPG\n",
      "/LUSTRE/sacmod/SIPECAM/cumulo_92/Mes 4/3_92_1_1335/3_92_1_1335_2/100RECNX\n",
      "RCNX0001.JPG\n",
      "/LUSTRE/sacmod/SIPECAM/cumulo_92/Mes 4/3_92_1_1335/3_92_1_1335_4/100RECNX\n",
      "RCNX0001.JPG\n",
      "/LUSTRE/sacmod/SIPECAM/cumulo_92/Mes 2/3_92_0_1342/1342_1\n",
      "RCNX0001.JPG\n",
      "/LUSTRE/sacmod/SIPECAM/cumulo_92/Mes 2/3_92_0_1342/1342_2\n",
      "RCNX0001.JPG\n",
      "/LUSTRE/sacmod/SIPECAM/cumulo_92/Mes 2/3_92_0_1342/1342_5\n",
      "RCNX0001.JPG\n",
      "/LUSTRE/sacmod/SIPECAM/cumulo_92/Mes 2/3_92_0_1342/1342_4\n",
      "RCNX0001.JPG\n",
      "/LUSTRE/sacmod/SIPECAM/cumulo_92/Mes 2/3_92_0_1342/1342_3/Nueva carpeta\n",
      "RCNX0001.JPG\n",
      "/LUSTRE/sacmod/SIPECAM/cumulo_92/Mes 2/3_92_1_1340/1340_5\n",
      "RCNX0001.JPG\n",
      "/LUSTRE/sacmod/SIPECAM/cumulo_92/Mes 2/3_92_1_1340/1340_1\n",
      "RCNX0002.JPG\n",
      "/LUSTRE/sacmod/SIPECAM/cumulo_92/Mes 2/3_92_1_1340/1340_2\n",
      "RCNX0001.JPG\n",
      "/LUSTRE/sacmod/SIPECAM/cumulo_92/Mes 2/3_92_1_1340/1340_4\n",
      "RCNX0001.JPG\n",
      "/LUSTRE/sacmod/SIPECAM/cumulo_92/Mes 2/3_92_1_1340/1340_3\n",
      "RCNX0001.JPG\n",
      "/LUSTRE/sacmod/SIPECAM/cumulo_92/Mes 3/3_92_0_1343/Ch1/HLPXGM09048599/100RECNX\n",
      "RCNX0001.JPG\n",
      "/LUSTRE/sacmod/SIPECAM/cumulo_92/Mes 3/3_92_0_1343/Ch3/HLPXGM09049514/HLPXGM09049514\n",
      "RCNX0001.JPG\n",
      "/LUSTRE/sacmod/SIPECAM/cumulo_92/Mes 3/3_92_0_1343/Ch4/HLPXGM09048271/100RECNX\n",
      "RCNX0001.JPG\n",
      "/LUSTRE/sacmod/SIPECAM/cumulo_92/Mes 3/3_92_0_1343/Ch5/HLPXGM09048565/100RECNX\n",
      "RCNX0001.JPG\n",
      "/LUSTRE/sacmod/SIPECAM/cumulo_92/Mes 3/3_92_0_1343/Ch2/HLPXGM0948270/100RECNX\n",
      "RCNX0001.JPG\n",
      "/LUSTRE/sacmod/SIPECAM/cumulo_92/Mes 3/3_92_1_1334/09048890\n",
      "RCNX0001.JPG\n",
      "/LUSTRE/sacmod/SIPECAM/cumulo_92/Mes 3/3_92_1_1334/09048594\n",
      "10262847 audi\n",
      "/LUSTRE/sacmod/SIPECAM/cumulo_92/Mes 3/3_92_1_1334/09049201\n",
      "RCNX0001.JPG\n",
      "/LUSTRE/sacmod/SIPECAM/cumulo_92/Mes 3/3_92_1_1334/09049271\n",
      "10262855 audi\n",
      "/LUSTRE/sacmod/SIPECAM/cumulo_92/Mes 3/3_92_1_1334/09049092\n",
      "RCNX0001.JPG\n",
      "/LUSTRE/sacmod/SIPECAM/cumulo_92/Mes 1/3_92_1_1338/Camaras/1338_1/100RECNX\n",
      "RCNX0001.JPG\n",
      "/LUSTRE/sacmod/SIPECAM/cumulo_92/Mes 1/3_92_1_1338/Camaras/1338_2/100RECNX\n",
      "RCNX0001.JPG\n",
      "/LUSTRE/sacmod/SIPECAM/cumulo_92/Mes 1/3_92_1_1338/Camaras/1338_3/100RECNX\n",
      "RCNX0001.JPG\n",
      "/LUSTRE/sacmod/SIPECAM/cumulo_92/Mes 1/3_92_1_1338/Camaras/1338_5\n",
      "RCNX0001.JPG\n",
      "/LUSTRE/sacmod/SIPECAM/cumulo_92/Mes 1/3_92_1_1338/Camaras/1338_4/100RECNX\n",
      "RCNX0001.JPG\n",
      "/LUSTRE/sacmod/SIPECAM/cumulo_92/Mes 1/3_92_0_1339/1339_3/100RECNX\n",
      "RCNX0001.JPG\n",
      "/LUSTRE/sacmod/SIPECAM/cumulo_92/Mes 1/3_92_0_1339/1339_2/Cámaras\n",
      "RCNX0001.JPG\n",
      "/LUSTRE/sacmod/SIPECAM/cumulo_92/Mes 1/3_92_0_1339/1339_5/100RECNX\n",
      "RCNX0001.JPG\n",
      "/LUSTRE/sacmod/SIPECAM/cumulo_92/Mes 1/3_92_0_1339/1339_4\n",
      "RCNX0001.JPG\n",
      "/LUSTRE/sacmod/SIPECAM/cumulo_92/Mes 1/3_92_0_1339/1339_1/Camaras\n",
      "RCNX0001.JPG\n"
     ]
    }
   ],
   "source": [
    "%%bash\n",
    "#check every first subdirectory has a JPG, WAV or AVI file\n",
    "SAVEIFS=$IFS;IFS=$(echo -en \"\\n\\b\")\n",
    "for f in $(cat /shared_volume/sipecam_subdirectories_09-03-2022.txt)\n",
    "  do echo \"$f\"\n",
    "     ls \"$f\"|grep \"[WAV|wav|JPG|jpg|AVI|avi]$\"|head -n 1\n",
    "done\n",
    "IFS=$SAVEIFS"
   ]
  },
  {
   "cell_type": "markdown",
   "id": "cf20d0d8-c9f6-487e-b522-d1e418c4f278",
   "metadata": {
    "tags": []
   },
   "source": [
    "# Extract serial number, dates and metadata of files and device"
   ]
  },
  {
   "cell_type": "code",
   "execution_count": 8,
   "id": "52e023dc-4598-480f-8724-796b741e18da",
   "metadata": {},
   "outputs": [
    {
     "name": "stdout",
     "output_type": "stream",
     "text": [
      "/LUSTRE/sacmod/SIPECAM/cumulo_92/Mes 4/3_92_0_1341/3_92_0_1341_5/Audio\n",
      "/LUSTRE/sacmod/SIPECAM/cumulo_92/Mes 4/3_92_0_1341/3_92_0_1341_3/audio\n",
      "/LUSTRE/sacmod/SIPECAM/cumulo_92/Mes 4/3_92_0_1341/3_92_0_1341_3/audio/Nueva carpeta\n",
      "/LUSTRE/sacmod/SIPECAM/cumulo_92/Mes 4/3_92_0_1341/3_92_0_1341_2/Audio/Nueva carpeta/Unidad de USB\n",
      "/LUSTRE/sacmod/SIPECAM/cumulo_92/Mes 4/3_92_1_1335/3_92_1_1335_5/Audible\n"
     ]
    },
    {
     "name": "stderr",
     "output_type": "stream",
     "text": [
      "multiprocessing.pool.RemoteTraceback: \n",
      "\"\"\"\n",
      "Traceback (most recent call last):\n",
      "  File \"/usr/lib/python3.8/multiprocessing/pool.py\", line 125, in worker\n",
      "    result = (True, func(*args, **kwds))\n",
      "  File \"/usr/lib/python3.8/multiprocessing/pool.py\", line 48, in mapstar\n",
      "    return list(map(*args))\n",
      "  File \"/usr/local/lib/python3.8/dist-packages/simex/extract_serial_numbers_dates_and_metadata_of_files_and_device.py\", line 28, in extract_metadata\n",
      "    tuple_metadata_of_file = (filename,read_metadata_audio.get_metadata_of_file(filename))\n",
      "  File \"/usr/local/lib/python3.8/dist-packages/simex/read_metadata_audio.py\", line 121, in get_metadata_of_file\n",
      "    date_with_timezone = get_date_with_timezone(comment_metadata)\n",
      "  File \"/usr/local/lib/python3.8/dist-packages/simex/read_metadata_audio.py\", line 74, in get_date_with_timezone\n",
      "    return date_with_timezone #example: 21:20:00 28/07/2021 (UTC-0600)\n",
      "UnboundLocalError: local variable 'date_with_timezone' referenced before assignment\n",
      "\"\"\"\n",
      "\n",
      "The above exception was the direct cause of the following exception:\n",
      "\n",
      "Traceback (most recent call last):\n",
      "  File \"/usr/local/bin/extract_serial_numbers_dates_and_metadata_of_files_and_device\", line 8, in <module>\n",
      "    sys.exit(main())\n",
      "  File \"/usr/local/lib/python3.8/dist-packages/simex/extract_serial_numbers_dates_and_metadata_of_files_and_device.py\", line 226, in main\n",
      "    extract_metadata_of_files(input_directory,\n",
      "  File \"/usr/local/lib/python3.8/dist-packages/simex/extract_serial_numbers_dates_and_metadata_of_files_and_device.py\", line 141, in extract_metadata_of_files\n",
      "    res_map = pool.map(extract_metadata,\n",
      "  File \"/usr/lib/python3.8/multiprocessing/pool.py\", line 364, in map\n",
      "    return self._map_async(func, iterable, mapstar, chunksize).get()\n",
      "  File \"/usr/lib/python3.8/multiprocessing/pool.py\", line 771, in get\n",
      "    raise self._value\n",
      "UnboundLocalError: local variable 'date_with_timezone' referenced before assignment\n"
     ]
    },
    {
     "name": "stdout",
     "output_type": "stream",
     "text": [
      "/LUSTRE/sacmod/SIPECAM/cumulo_92/Mes 2/3_92_0_1342/1342_1/ultrasonico\n",
      "/LUSTRE/sacmod/SIPECAM/cumulo_92/Mes 2/3_92_0_1342/1342_1/audible\n"
     ]
    },
    {
     "name": "stderr",
     "output_type": "stream",
     "text": [
      "multiprocessing.pool.RemoteTraceback: \n",
      "\"\"\"\n",
      "Traceback (most recent call last):\n",
      "  File \"/usr/lib/python3.8/multiprocessing/pool.py\", line 125, in worker\n",
      "    result = (True, func(*args, **kwds))\n",
      "  File \"/usr/lib/python3.8/multiprocessing/pool.py\", line 48, in mapstar\n",
      "    return list(map(*args))\n",
      "  File \"/usr/local/lib/python3.8/dist-packages/simex/extract_serial_numbers_dates_and_metadata_of_files_and_device.py\", line 27, in extract_metadata\n",
      "    date_of_file = read_metadata_audio.extract_date(filename)\n",
      "  File \"/usr/local/lib/python3.8/dist-packages/simex/read_metadata_audio.py\", line 143, in extract_date\n",
      "    return get_date(comment_metadata)#example: 2021-07-28\n",
      "  File \"/usr/local/lib/python3.8/dist-packages/simex/read_metadata_audio.py\", line 92, in get_date\n",
      "    match_date = ONLY_DATE_REGEX.search(comment)\n",
      "TypeError: expected string or bytes-like object\n",
      "\"\"\"\n",
      "\n",
      "The above exception was the direct cause of the following exception:\n",
      "\n",
      "Traceback (most recent call last):\n",
      "  File \"/usr/local/bin/extract_serial_numbers_dates_and_metadata_of_files_and_device\", line 8, in <module>\n",
      "    sys.exit(main())\n",
      "  File \"/usr/local/lib/python3.8/dist-packages/simex/extract_serial_numbers_dates_and_metadata_of_files_and_device.py\", line 226, in main\n",
      "    extract_metadata_of_files(input_directory,\n",
      "  File \"/usr/local/lib/python3.8/dist-packages/simex/extract_serial_numbers_dates_and_metadata_of_files_and_device.py\", line 141, in extract_metadata_of_files\n",
      "    res_map = pool.map(extract_metadata,\n",
      "  File \"/usr/lib/python3.8/multiprocessing/pool.py\", line 364, in map\n",
      "    return self._map_async(func, iterable, mapstar, chunksize).get()\n",
      "  File \"/usr/lib/python3.8/multiprocessing/pool.py\", line 771, in get\n",
      "    raise self._value\n",
      "TypeError: expected string or bytes-like object\n"
     ]
    },
    {
     "name": "stdout",
     "output_type": "stream",
     "text": [
      "/LUSTRE/sacmod/SIPECAM/cumulo_92/Mes 2/3_92_0_1342/1342_2/audible\n",
      "/LUSTRE/sacmod/SIPECAM/cumulo_92/Mes 2/3_92_0_1342/1342_4/audible\n",
      "/LUSTRE/sacmod/SIPECAM/cumulo_92/Mes 2/3_92_1_1340/1340_5/ultrasonica\n",
      "/LUSTRE/sacmod/SIPECAM/cumulo_92/Mes 2/3_92_1_1340/1340_5/audible\n",
      "/LUSTRE/sacmod/SIPECAM/cumulo_92/Mes 2/3_92_1_1340/1340_1/ultrasonica\n",
      "/LUSTRE/sacmod/SIPECAM/cumulo_92/Mes 2/3_92_1_1340/1340_1/audible\n",
      "/LUSTRE/sacmod/SIPECAM/cumulo_92/Mes 2/3_92_1_1340/1340_2/audible\n"
     ]
    },
    {
     "name": "stderr",
     "output_type": "stream",
     "text": [
      "multiprocessing.pool.RemoteTraceback: \n",
      "\"\"\"\n",
      "Traceback (most recent call last):\n",
      "  File \"/usr/lib/python3.8/multiprocessing/pool.py\", line 125, in worker\n",
      "    result = (True, func(*args, **kwds))\n",
      "  File \"/usr/lib/python3.8/multiprocessing/pool.py\", line 48, in mapstar\n",
      "    return list(map(*args))\n",
      "  File \"/usr/local/lib/python3.8/dist-packages/simex/extract_serial_numbers_dates_and_metadata_of_files_and_device.py\", line 27, in extract_metadata\n",
      "    date_of_file = read_metadata_audio.extract_date(filename)\n",
      "  File \"/usr/local/lib/python3.8/dist-packages/simex/read_metadata_audio.py\", line 143, in extract_date\n",
      "    return get_date(comment_metadata)#example: 2021-07-28\n",
      "  File \"/usr/local/lib/python3.8/dist-packages/simex/read_metadata_audio.py\", line 92, in get_date\n",
      "    match_date = ONLY_DATE_REGEX.search(comment)\n",
      "TypeError: expected string or bytes-like object\n",
      "\"\"\"\n",
      "\n",
      "The above exception was the direct cause of the following exception:\n",
      "\n",
      "Traceback (most recent call last):\n",
      "  File \"/usr/local/bin/extract_serial_numbers_dates_and_metadata_of_files_and_device\", line 8, in <module>\n",
      "    sys.exit(main())\n",
      "  File \"/usr/local/lib/python3.8/dist-packages/simex/extract_serial_numbers_dates_and_metadata_of_files_and_device.py\", line 226, in main\n",
      "    extract_metadata_of_files(input_directory,\n",
      "  File \"/usr/local/lib/python3.8/dist-packages/simex/extract_serial_numbers_dates_and_metadata_of_files_and_device.py\", line 141, in extract_metadata_of_files\n",
      "    res_map = pool.map(extract_metadata,\n",
      "  File \"/usr/lib/python3.8/multiprocessing/pool.py\", line 364, in map\n",
      "    return self._map_async(func, iterable, mapstar, chunksize).get()\n",
      "  File \"/usr/lib/python3.8/multiprocessing/pool.py\", line 771, in get\n",
      "    raise self._value\n",
      "TypeError: expected string or bytes-like object\n"
     ]
    },
    {
     "name": "stdout",
     "output_type": "stream",
     "text": [
      "/LUSTRE/sacmod/SIPECAM/cumulo_92/Mes 3/3_92_0_1343/Ch1/10306783\n"
     ]
    },
    {
     "name": "stderr",
     "output_type": "stream",
     "text": [
      "multiprocessing.pool.RemoteTraceback: \n",
      "\"\"\"\n",
      "Traceback (most recent call last):\n",
      "  File \"/usr/lib/python3.8/multiprocessing/pool.py\", line 125, in worker\n",
      "    result = (True, func(*args, **kwds))\n",
      "  File \"/usr/lib/python3.8/multiprocessing/pool.py\", line 48, in mapstar\n",
      "    return list(map(*args))\n",
      "  File \"/usr/local/lib/python3.8/dist-packages/simex/extract_serial_numbers_dates_and_metadata_of_files_and_device.py\", line 28, in extract_metadata\n",
      "    tuple_metadata_of_file = (filename,read_metadata_audio.get_metadata_of_file(filename))\n",
      "  File \"/usr/local/lib/python3.8/dist-packages/simex/read_metadata_audio.py\", line 121, in get_metadata_of_file\n",
      "    date_with_timezone = get_date_with_timezone(comment_metadata)\n",
      "  File \"/usr/local/lib/python3.8/dist-packages/simex/read_metadata_audio.py\", line 74, in get_date_with_timezone\n",
      "    return date_with_timezone #example: 21:20:00 28/07/2021 (UTC-0600)\n",
      "UnboundLocalError: local variable 'date_with_timezone' referenced before assignment\n",
      "\"\"\"\n",
      "\n",
      "The above exception was the direct cause of the following exception:\n",
      "\n",
      "Traceback (most recent call last):\n",
      "  File \"/usr/local/bin/extract_serial_numbers_dates_and_metadata_of_files_and_device\", line 8, in <module>\n",
      "    sys.exit(main())\n",
      "  File \"/usr/local/lib/python3.8/dist-packages/simex/extract_serial_numbers_dates_and_metadata_of_files_and_device.py\", line 226, in main\n",
      "    extract_metadata_of_files(input_directory,\n",
      "  File \"/usr/local/lib/python3.8/dist-packages/simex/extract_serial_numbers_dates_and_metadata_of_files_and_device.py\", line 141, in extract_metadata_of_files\n",
      "    res_map = pool.map(extract_metadata,\n",
      "  File \"/usr/lib/python3.8/multiprocessing/pool.py\", line 364, in map\n",
      "    return self._map_async(func, iterable, mapstar, chunksize).get()\n",
      "  File \"/usr/lib/python3.8/multiprocessing/pool.py\", line 771, in get\n",
      "    raise self._value\n",
      "UnboundLocalError: local variable 'date_with_timezone' referenced before assignment\n"
     ]
    },
    {
     "name": "stdout",
     "output_type": "stream",
     "text": [
      "/LUSTRE/sacmod/SIPECAM/cumulo_92/Mes 3/3_92_0_1343/Ch1/10262856\n",
      "/LUSTRE/sacmod/SIPECAM/cumulo_92/Mes 3/3_92_0_1343/Ch3/10306733\n",
      "/LUSTRE/sacmod/SIPECAM/cumulo_92/Mes 3/3_92_0_1343/Ch5/10307341\n",
      "/LUSTRE/sacmod/SIPECAM/cumulo_92/Mes 3/3_92_1_1334/09048890/10263270 aud\n",
      "/LUSTRE/sacmod/SIPECAM/cumulo_92/Mes 3/3_92_1_1334/09048594/10306516 ultra\n"
     ]
    },
    {
     "name": "stderr",
     "output_type": "stream",
     "text": [
      "multiprocessing.pool.RemoteTraceback: \n",
      "\"\"\"\n",
      "Traceback (most recent call last):\n",
      "  File \"/usr/lib/python3.8/multiprocessing/pool.py\", line 125, in worker\n",
      "    result = (True, func(*args, **kwds))\n",
      "  File \"/usr/lib/python3.8/multiprocessing/pool.py\", line 48, in mapstar\n",
      "    return list(map(*args))\n",
      "  File \"/usr/local/lib/python3.8/dist-packages/simex/extract_serial_numbers_dates_and_metadata_of_files_and_device.py\", line 27, in extract_metadata\n",
      "    date_of_file = read_metadata_audio.extract_date(filename)\n",
      "  File \"/usr/local/lib/python3.8/dist-packages/simex/read_metadata_audio.py\", line 143, in extract_date\n",
      "    return get_date(comment_metadata)#example: 2021-07-28\n",
      "  File \"/usr/local/lib/python3.8/dist-packages/simex/read_metadata_audio.py\", line 92, in get_date\n",
      "    match_date = ONLY_DATE_REGEX.search(comment)\n",
      "TypeError: expected string or bytes-like object\n",
      "\"\"\"\n",
      "\n",
      "The above exception was the direct cause of the following exception:\n",
      "\n",
      "Traceback (most recent call last):\n",
      "  File \"/usr/local/bin/extract_serial_numbers_dates_and_metadata_of_files_and_device\", line 8, in <module>\n",
      "    sys.exit(main())\n",
      "  File \"/usr/local/lib/python3.8/dist-packages/simex/extract_serial_numbers_dates_and_metadata_of_files_and_device.py\", line 226, in main\n",
      "    extract_metadata_of_files(input_directory,\n",
      "  File \"/usr/local/lib/python3.8/dist-packages/simex/extract_serial_numbers_dates_and_metadata_of_files_and_device.py\", line 141, in extract_metadata_of_files\n",
      "    res_map = pool.map(extract_metadata,\n",
      "  File \"/usr/lib/python3.8/multiprocessing/pool.py\", line 364, in map\n",
      "    return self._map_async(func, iterable, mapstar, chunksize).get()\n",
      "  File \"/usr/lib/python3.8/multiprocessing/pool.py\", line 771, in get\n",
      "    raise self._value\n",
      "TypeError: expected string or bytes-like object\n"
     ]
    },
    {
     "name": "stdout",
     "output_type": "stream",
     "text": [
      "/LUSTRE/sacmod/SIPECAM/cumulo_92/Mes 3/3_92_1_1334/09048594/10262847 audi\n",
      "/LUSTRE/sacmod/SIPECAM/cumulo_92/Mes 3/3_92_1_1334/09049271/10307447 ultra\n",
      "/LUSTRE/sacmod/SIPECAM/cumulo_92/Mes 3/3_92_1_1334/09049271/10262855 audi\n",
      "/LUSTRE/sacmod/SIPECAM/cumulo_92/Mes 1/3_92_1_1338/Audio/1338_1/Ultrasonico\n",
      "/LUSTRE/sacmod/SIPECAM/cumulo_92/Mes 1/3_92_1_1338/Audio/1338_1/Audible\n"
     ]
    },
    {
     "name": "stderr",
     "output_type": "stream",
     "text": [
      "multiprocessing.pool.RemoteTraceback: \n",
      "\"\"\"\n",
      "Traceback (most recent call last):\n",
      "  File \"/usr/lib/python3.8/multiprocessing/pool.py\", line 125, in worker\n",
      "    result = (True, func(*args, **kwds))\n",
      "  File \"/usr/lib/python3.8/multiprocessing/pool.py\", line 48, in mapstar\n",
      "    return list(map(*args))\n",
      "  File \"/usr/local/lib/python3.8/dist-packages/simex/extract_serial_numbers_dates_and_metadata_of_files_and_device.py\", line 27, in extract_metadata\n",
      "    date_of_file = read_metadata_audio.extract_date(filename)\n",
      "  File \"/usr/local/lib/python3.8/dist-packages/simex/read_metadata_audio.py\", line 143, in extract_date\n",
      "    return get_date(comment_metadata)#example: 2021-07-28\n",
      "  File \"/usr/local/lib/python3.8/dist-packages/simex/read_metadata_audio.py\", line 92, in get_date\n",
      "    match_date = ONLY_DATE_REGEX.search(comment)\n",
      "TypeError: expected string or bytes-like object\n",
      "\"\"\"\n",
      "\n",
      "The above exception was the direct cause of the following exception:\n",
      "\n",
      "Traceback (most recent call last):\n",
      "  File \"/usr/local/bin/extract_serial_numbers_dates_and_metadata_of_files_and_device\", line 8, in <module>\n",
      "    sys.exit(main())\n",
      "  File \"/usr/local/lib/python3.8/dist-packages/simex/extract_serial_numbers_dates_and_metadata_of_files_and_device.py\", line 226, in main\n",
      "    extract_metadata_of_files(input_directory,\n",
      "  File \"/usr/local/lib/python3.8/dist-packages/simex/extract_serial_numbers_dates_and_metadata_of_files_and_device.py\", line 141, in extract_metadata_of_files\n",
      "    res_map = pool.map(extract_metadata,\n",
      "  File \"/usr/lib/python3.8/multiprocessing/pool.py\", line 364, in map\n",
      "    return self._map_async(func, iterable, mapstar, chunksize).get()\n",
      "  File \"/usr/lib/python3.8/multiprocessing/pool.py\", line 771, in get\n",
      "    raise self._value\n",
      "TypeError: expected string or bytes-like object\n"
     ]
    },
    {
     "name": "stdout",
     "output_type": "stream",
     "text": [
      "/LUSTRE/sacmod/SIPECAM/cumulo_92/Mes 1/3_92_1_1338/Audio/1338_2/Ultrasonico\n",
      "/LUSTRE/sacmod/SIPECAM/cumulo_92/Mes 1/3_92_1_1338/Audio/1338_2/Audible\n"
     ]
    },
    {
     "name": "stderr",
     "output_type": "stream",
     "text": [
      "multiprocessing.pool.RemoteTraceback: \n",
      "\"\"\"\n",
      "Traceback (most recent call last):\n",
      "  File \"/usr/lib/python3.8/multiprocessing/pool.py\", line 125, in worker\n",
      "    result = (True, func(*args, **kwds))\n",
      "  File \"/usr/lib/python3.8/multiprocessing/pool.py\", line 48, in mapstar\n",
      "    return list(map(*args))\n",
      "  File \"/usr/local/lib/python3.8/dist-packages/simex/extract_serial_numbers_dates_and_metadata_of_files_and_device.py\", line 27, in extract_metadata\n",
      "    date_of_file = read_metadata_audio.extract_date(filename)\n",
      "  File \"/usr/local/lib/python3.8/dist-packages/simex/read_metadata_audio.py\", line 143, in extract_date\n",
      "    return get_date(comment_metadata)#example: 2021-07-28\n",
      "  File \"/usr/local/lib/python3.8/dist-packages/simex/read_metadata_audio.py\", line 92, in get_date\n",
      "    match_date = ONLY_DATE_REGEX.search(comment)\n",
      "TypeError: expected string or bytes-like object\n",
      "\"\"\"\n",
      "\n",
      "The above exception was the direct cause of the following exception:\n",
      "\n",
      "Traceback (most recent call last):\n",
      "  File \"/usr/local/bin/extract_serial_numbers_dates_and_metadata_of_files_and_device\", line 8, in <module>\n",
      "    sys.exit(main())\n",
      "  File \"/usr/local/lib/python3.8/dist-packages/simex/extract_serial_numbers_dates_and_metadata_of_files_and_device.py\", line 226, in main\n",
      "    extract_metadata_of_files(input_directory,\n",
      "  File \"/usr/local/lib/python3.8/dist-packages/simex/extract_serial_numbers_dates_and_metadata_of_files_and_device.py\", line 141, in extract_metadata_of_files\n",
      "    res_map = pool.map(extract_metadata,\n",
      "  File \"/usr/lib/python3.8/multiprocessing/pool.py\", line 364, in map\n",
      "    return self._map_async(func, iterable, mapstar, chunksize).get()\n",
      "  File \"/usr/lib/python3.8/multiprocessing/pool.py\", line 771, in get\n",
      "    raise self._value\n",
      "TypeError: expected string or bytes-like object\n"
     ]
    },
    {
     "name": "stdout",
     "output_type": "stream",
     "text": [
      "/LUSTRE/sacmod/SIPECAM/cumulo_92/Mes 1/3_92_1_1338/Audio/1338_3/Nueva carpeta/Unidad de USB\n",
      "/LUSTRE/sacmod/SIPECAM/cumulo_92/Mes 1/3_92_0_1339/1339_2/Audio/Ultrasonico\n",
      "/LUSTRE/sacmod/SIPECAM/cumulo_92/Mes 1/3_92_0_1339/1339_2/Audio/Audible\n",
      "/LUSTRE/sacmod/SIPECAM/cumulo_92/Mes 1/3_92_0_1339/1339_4/Audible\n"
     ]
    },
    {
     "name": "stderr",
     "output_type": "stream",
     "text": [
      "multiprocessing.pool.RemoteTraceback: \n",
      "\"\"\"\n",
      "Traceback (most recent call last):\n",
      "  File \"/usr/lib/python3.8/multiprocessing/pool.py\", line 125, in worker\n",
      "    result = (True, func(*args, **kwds))\n",
      "  File \"/usr/lib/python3.8/multiprocessing/pool.py\", line 48, in mapstar\n",
      "    return list(map(*args))\n",
      "  File \"/usr/local/lib/python3.8/dist-packages/simex/extract_serial_numbers_dates_and_metadata_of_files_and_device.py\", line 27, in extract_metadata\n",
      "    date_of_file = read_metadata_audio.extract_date(filename)\n",
      "  File \"/usr/local/lib/python3.8/dist-packages/simex/read_metadata_audio.py\", line 143, in extract_date\n",
      "    return get_date(comment_metadata)#example: 2021-07-28\n",
      "  File \"/usr/local/lib/python3.8/dist-packages/simex/read_metadata_audio.py\", line 92, in get_date\n",
      "    match_date = ONLY_DATE_REGEX.search(comment)\n",
      "TypeError: expected string or bytes-like object\n",
      "\"\"\"\n",
      "\n",
      "The above exception was the direct cause of the following exception:\n",
      "\n",
      "Traceback (most recent call last):\n",
      "  File \"/usr/local/bin/extract_serial_numbers_dates_and_metadata_of_files_and_device\", line 8, in <module>\n",
      "    sys.exit(main())\n",
      "  File \"/usr/local/lib/python3.8/dist-packages/simex/extract_serial_numbers_dates_and_metadata_of_files_and_device.py\", line 226, in main\n",
      "    extract_metadata_of_files(input_directory,\n",
      "  File \"/usr/local/lib/python3.8/dist-packages/simex/extract_serial_numbers_dates_and_metadata_of_files_and_device.py\", line 141, in extract_metadata_of_files\n",
      "    res_map = pool.map(extract_metadata,\n",
      "  File \"/usr/lib/python3.8/multiprocessing/pool.py\", line 364, in map\n",
      "    return self._map_async(func, iterable, mapstar, chunksize).get()\n",
      "  File \"/usr/lib/python3.8/multiprocessing/pool.py\", line 771, in get\n",
      "    raise self._value\n",
      "TypeError: expected string or bytes-like object\n"
     ]
    },
    {
     "name": "stdout",
     "output_type": "stream",
     "text": [
      "/LUSTRE/sacmod/SIPECAM/cumulo_92/Mes 1/3_92_0_1339/1339_1/Audio\n",
      "/LUSTRE/sacmod/SIPECAM/cumulo_92/Mes 1/3_92_0_1339/1339_1/Audio/Ultrasonico\n",
      "/LUSTRE/sacmod/SIPECAM/cumulo_92/Mes 4/3_92_0_1341/3_92_0_1341_5/100RECNX\n"
     ]
    },
    {
     "name": "stderr",
     "output_type": "stream",
     "text": [
      "Traceback (most recent call last):\n",
      "  File \"/usr/local/bin/extract_serial_numbers_dates_and_metadata_of_files_and_device\", line 8, in <module>\n",
      "    sys.exit(main())\n",
      "  File \"/usr/local/lib/python3.8/dist-packages/simex/extract_serial_numbers_dates_and_metadata_of_files_and_device.py\", line 220, in main\n",
      "    extract_metadata_of_device_from_files(input_directory,\n",
      "  File \"/usr/local/lib/python3.8/dist-packages/simex/extract_serial_numbers_dates_and_metadata_of_files_and_device.py\", line 128, in extract_metadata_of_device_from_files\n",
      "    d_output[\"GPSFile\"] = read_metadata_image.extract_gps(filename)\n",
      "  File \"/usr/local/lib/python3.8/dist-packages/simex/read_metadata_image.py\", line 92, in extract_gps\n",
      "    gps_metadata[v] = exiftool_metadata[k]\n",
      "KeyError: 'Composite:GPSLatitude'\n"
     ]
    },
    {
     "name": "stdout",
     "output_type": "stream",
     "text": [
      "/LUSTRE/sacmod/SIPECAM/cumulo_92/Mes 4/3_92_0_1341/3_92_0_1341_3/camras/centro\n"
     ]
    },
    {
     "name": "stderr",
     "output_type": "stream",
     "text": [
      "Traceback (most recent call last):\n",
      "  File \"/usr/local/bin/extract_serial_numbers_dates_and_metadata_of_files_and_device\", line 8, in <module>\n",
      "    sys.exit(main())\n",
      "  File \"/usr/local/lib/python3.8/dist-packages/simex/extract_serial_numbers_dates_and_metadata_of_files_and_device.py\", line 220, in main\n",
      "    extract_metadata_of_device_from_files(input_directory,\n",
      "  File \"/usr/local/lib/python3.8/dist-packages/simex/extract_serial_numbers_dates_and_metadata_of_files_and_device.py\", line 128, in extract_metadata_of_device_from_files\n",
      "    d_output[\"GPSFile\"] = read_metadata_image.extract_gps(filename)\n",
      "  File \"/usr/local/lib/python3.8/dist-packages/simex/read_metadata_image.py\", line 92, in extract_gps\n",
      "    gps_metadata[v] = exiftool_metadata[k]\n",
      "KeyError: 'Composite:GPSLatitude'\n"
     ]
    },
    {
     "name": "stdout",
     "output_type": "stream",
     "text": [
      "/LUSTRE/sacmod/SIPECAM/cumulo_92/Mes 4/3_92_0_1341/3_92_0_1341_2/100RECNX\n"
     ]
    },
    {
     "name": "stderr",
     "output_type": "stream",
     "text": [
      "Traceback (most recent call last):\n",
      "  File \"/usr/local/bin/extract_serial_numbers_dates_and_metadata_of_files_and_device\", line 8, in <module>\n",
      "    sys.exit(main())\n",
      "  File \"/usr/local/lib/python3.8/dist-packages/simex/extract_serial_numbers_dates_and_metadata_of_files_and_device.py\", line 220, in main\n",
      "    extract_metadata_of_device_from_files(input_directory,\n",
      "  File \"/usr/local/lib/python3.8/dist-packages/simex/extract_serial_numbers_dates_and_metadata_of_files_and_device.py\", line 128, in extract_metadata_of_device_from_files\n",
      "    d_output[\"GPSFile\"] = read_metadata_image.extract_gps(filename)\n",
      "  File \"/usr/local/lib/python3.8/dist-packages/simex/read_metadata_image.py\", line 92, in extract_gps\n",
      "    gps_metadata[v] = exiftool_metadata[k]\n",
      "KeyError: 'Composite:GPSLatitude'\n"
     ]
    },
    {
     "name": "stdout",
     "output_type": "stream",
     "text": [
      "/LUSTRE/sacmod/SIPECAM/cumulo_92/Mes 4/3_92_0_1341/3_92_0_1341_4/DCIM/100RECNX\n",
      "/LUSTRE/sacmod/SIPECAM/cumulo_92/Mes 4/3_92_1_1335/3_92_1_1335_5/DCIM/100RECNX\n"
     ]
    },
    {
     "name": "stderr",
     "output_type": "stream",
     "text": [
      "Traceback (most recent call last):\n",
      "  File \"/usr/local/bin/extract_serial_numbers_dates_and_metadata_of_files_and_device\", line 8, in <module>\n",
      "    sys.exit(main())\n",
      "  File \"/usr/local/lib/python3.8/dist-packages/simex/extract_serial_numbers_dates_and_metadata_of_files_and_device.py\", line 220, in main\n",
      "    extract_metadata_of_device_from_files(input_directory,\n",
      "  File \"/usr/local/lib/python3.8/dist-packages/simex/extract_serial_numbers_dates_and_metadata_of_files_and_device.py\", line 128, in extract_metadata_of_device_from_files\n",
      "    d_output[\"GPSFile\"] = read_metadata_image.extract_gps(filename)\n",
      "  File \"/usr/local/lib/python3.8/dist-packages/simex/read_metadata_image.py\", line 92, in extract_gps\n",
      "    gps_metadata[v] = exiftool_metadata[k]\n",
      "KeyError: 'Composite:GPSLatitude'\n"
     ]
    },
    {
     "name": "stdout",
     "output_type": "stream",
     "text": [
      "/LUSTRE/sacmod/SIPECAM/cumulo_92/Mes 4/3_92_1_1335/3_92_1_1335_2/100RECNX\n"
     ]
    },
    {
     "name": "stderr",
     "output_type": "stream",
     "text": [
      "Traceback (most recent call last):\n",
      "  File \"/usr/local/bin/extract_serial_numbers_dates_and_metadata_of_files_and_device\", line 8, in <module>\n",
      "    sys.exit(main())\n",
      "  File \"/usr/local/lib/python3.8/dist-packages/simex/extract_serial_numbers_dates_and_metadata_of_files_and_device.py\", line 220, in main\n",
      "    extract_metadata_of_device_from_files(input_directory,\n",
      "  File \"/usr/local/lib/python3.8/dist-packages/simex/extract_serial_numbers_dates_and_metadata_of_files_and_device.py\", line 128, in extract_metadata_of_device_from_files\n",
      "    d_output[\"GPSFile\"] = read_metadata_image.extract_gps(filename)\n",
      "  File \"/usr/local/lib/python3.8/dist-packages/simex/read_metadata_image.py\", line 92, in extract_gps\n",
      "    gps_metadata[v] = exiftool_metadata[k]\n",
      "KeyError: 'Composite:GPSLatitude'\n"
     ]
    },
    {
     "name": "stdout",
     "output_type": "stream",
     "text": [
      "/LUSTRE/sacmod/SIPECAM/cumulo_92/Mes 4/3_92_1_1335/3_92_1_1335_4/100RECNX\n"
     ]
    },
    {
     "name": "stderr",
     "output_type": "stream",
     "text": [
      "Traceback (most recent call last):\n",
      "  File \"/usr/local/bin/extract_serial_numbers_dates_and_metadata_of_files_and_device\", line 8, in <module>\n",
      "    sys.exit(main())\n",
      "  File \"/usr/local/lib/python3.8/dist-packages/simex/extract_serial_numbers_dates_and_metadata_of_files_and_device.py\", line 220, in main\n",
      "    extract_metadata_of_device_from_files(input_directory,\n",
      "  File \"/usr/local/lib/python3.8/dist-packages/simex/extract_serial_numbers_dates_and_metadata_of_files_and_device.py\", line 128, in extract_metadata_of_device_from_files\n",
      "    d_output[\"GPSFile\"] = read_metadata_image.extract_gps(filename)\n",
      "  File \"/usr/local/lib/python3.8/dist-packages/simex/read_metadata_image.py\", line 92, in extract_gps\n",
      "    gps_metadata[v] = exiftool_metadata[k]\n",
      "KeyError: 'Composite:GPSLatitude'\n"
     ]
    },
    {
     "name": "stdout",
     "output_type": "stream",
     "text": [
      "/LUSTRE/sacmod/SIPECAM/cumulo_92/Mes 2/3_92_0_1342/1342_1\n",
      "/LUSTRE/sacmod/SIPECAM/cumulo_92/Mes 2/3_92_0_1342/1342_2\n"
     ]
    },
    {
     "name": "stderr",
     "output_type": "stream",
     "text": [
      "Traceback (most recent call last):\n",
      "  File \"/usr/local/bin/extract_serial_numbers_dates_and_metadata_of_files_and_device\", line 8, in <module>\n",
      "    sys.exit(main())\n",
      "  File \"/usr/local/lib/python3.8/dist-packages/simex/extract_serial_numbers_dates_and_metadata_of_files_and_device.py\", line 220, in main\n",
      "    extract_metadata_of_device_from_files(input_directory,\n",
      "  File \"/usr/local/lib/python3.8/dist-packages/simex/extract_serial_numbers_dates_and_metadata_of_files_and_device.py\", line 128, in extract_metadata_of_device_from_files\n",
      "    d_output[\"GPSFile\"] = read_metadata_image.extract_gps(filename)\n",
      "  File \"/usr/local/lib/python3.8/dist-packages/simex/read_metadata_image.py\", line 92, in extract_gps\n",
      "    gps_metadata[v] = exiftool_metadata[k]\n",
      "KeyError: 'Composite:GPSLatitude'\n"
     ]
    },
    {
     "name": "stdout",
     "output_type": "stream",
     "text": [
      "/LUSTRE/sacmod/SIPECAM/cumulo_92/Mes 2/3_92_0_1342/1342_5\n"
     ]
    },
    {
     "name": "stderr",
     "output_type": "stream",
     "text": [
      "Traceback (most recent call last):\n",
      "  File \"/usr/local/bin/extract_serial_numbers_dates_and_metadata_of_files_and_device\", line 8, in <module>\n",
      "    sys.exit(main())\n",
      "  File \"/usr/local/lib/python3.8/dist-packages/simex/extract_serial_numbers_dates_and_metadata_of_files_and_device.py\", line 220, in main\n",
      "    extract_metadata_of_device_from_files(input_directory,\n",
      "  File \"/usr/local/lib/python3.8/dist-packages/simex/extract_serial_numbers_dates_and_metadata_of_files_and_device.py\", line 128, in extract_metadata_of_device_from_files\n",
      "    d_output[\"GPSFile\"] = read_metadata_image.extract_gps(filename)\n",
      "  File \"/usr/local/lib/python3.8/dist-packages/simex/read_metadata_image.py\", line 92, in extract_gps\n",
      "    gps_metadata[v] = exiftool_metadata[k]\n",
      "KeyError: 'Composite:GPSLatitude'\n"
     ]
    },
    {
     "name": "stdout",
     "output_type": "stream",
     "text": [
      "/LUSTRE/sacmod/SIPECAM/cumulo_92/Mes 2/3_92_0_1342/1342_4\n"
     ]
    },
    {
     "name": "stderr",
     "output_type": "stream",
     "text": [
      "Traceback (most recent call last):\n",
      "  File \"/usr/local/bin/extract_serial_numbers_dates_and_metadata_of_files_and_device\", line 8, in <module>\n",
      "    sys.exit(main())\n",
      "  File \"/usr/local/lib/python3.8/dist-packages/simex/extract_serial_numbers_dates_and_metadata_of_files_and_device.py\", line 220, in main\n",
      "    extract_metadata_of_device_from_files(input_directory,\n",
      "  File \"/usr/local/lib/python3.8/dist-packages/simex/extract_serial_numbers_dates_and_metadata_of_files_and_device.py\", line 128, in extract_metadata_of_device_from_files\n",
      "    d_output[\"GPSFile\"] = read_metadata_image.extract_gps(filename)\n",
      "  File \"/usr/local/lib/python3.8/dist-packages/simex/read_metadata_image.py\", line 92, in extract_gps\n",
      "    gps_metadata[v] = exiftool_metadata[k]\n",
      "KeyError: 'Composite:GPSLatitude'\n"
     ]
    },
    {
     "name": "stdout",
     "output_type": "stream",
     "text": [
      "/LUSTRE/sacmod/SIPECAM/cumulo_92/Mes 2/3_92_0_1342/1342_3/Nueva carpeta\n"
     ]
    },
    {
     "name": "stderr",
     "output_type": "stream",
     "text": [
      "Traceback (most recent call last):\n",
      "  File \"/usr/local/bin/extract_serial_numbers_dates_and_metadata_of_files_and_device\", line 8, in <module>\n",
      "    sys.exit(main())\n",
      "  File \"/usr/local/lib/python3.8/dist-packages/simex/extract_serial_numbers_dates_and_metadata_of_files_and_device.py\", line 220, in main\n",
      "    extract_metadata_of_device_from_files(input_directory,\n",
      "  File \"/usr/local/lib/python3.8/dist-packages/simex/extract_serial_numbers_dates_and_metadata_of_files_and_device.py\", line 128, in extract_metadata_of_device_from_files\n",
      "    d_output[\"GPSFile\"] = read_metadata_image.extract_gps(filename)\n",
      "  File \"/usr/local/lib/python3.8/dist-packages/simex/read_metadata_image.py\", line 92, in extract_gps\n",
      "    gps_metadata[v] = exiftool_metadata[k]\n",
      "KeyError: 'Composite:GPSLatitude'\n"
     ]
    },
    {
     "name": "stdout",
     "output_type": "stream",
     "text": [
      "/LUSTRE/sacmod/SIPECAM/cumulo_92/Mes 2/3_92_1_1340/1340_5\n"
     ]
    },
    {
     "name": "stderr",
     "output_type": "stream",
     "text": [
      "Traceback (most recent call last):\n",
      "  File \"/usr/local/bin/extract_serial_numbers_dates_and_metadata_of_files_and_device\", line 8, in <module>\n",
      "    sys.exit(main())\n",
      "  File \"/usr/local/lib/python3.8/dist-packages/simex/extract_serial_numbers_dates_and_metadata_of_files_and_device.py\", line 220, in main\n",
      "    extract_metadata_of_device_from_files(input_directory,\n",
      "  File \"/usr/local/lib/python3.8/dist-packages/simex/extract_serial_numbers_dates_and_metadata_of_files_and_device.py\", line 128, in extract_metadata_of_device_from_files\n",
      "    d_output[\"GPSFile\"] = read_metadata_image.extract_gps(filename)\n",
      "  File \"/usr/local/lib/python3.8/dist-packages/simex/read_metadata_image.py\", line 92, in extract_gps\n",
      "    gps_metadata[v] = exiftool_metadata[k]\n",
      "KeyError: 'Composite:GPSLatitude'\n"
     ]
    },
    {
     "name": "stdout",
     "output_type": "stream",
     "text": [
      "/LUSTRE/sacmod/SIPECAM/cumulo_92/Mes 2/3_92_1_1340/1340_1\n"
     ]
    },
    {
     "name": "stderr",
     "output_type": "stream",
     "text": [
      "Traceback (most recent call last):\n",
      "  File \"/usr/local/bin/extract_serial_numbers_dates_and_metadata_of_files_and_device\", line 8, in <module>\n",
      "    sys.exit(main())\n",
      "  File \"/usr/local/lib/python3.8/dist-packages/simex/extract_serial_numbers_dates_and_metadata_of_files_and_device.py\", line 220, in main\n",
      "    extract_metadata_of_device_from_files(input_directory,\n",
      "  File \"/usr/local/lib/python3.8/dist-packages/simex/extract_serial_numbers_dates_and_metadata_of_files_and_device.py\", line 128, in extract_metadata_of_device_from_files\n",
      "    d_output[\"GPSFile\"] = read_metadata_image.extract_gps(filename)\n",
      "  File \"/usr/local/lib/python3.8/dist-packages/simex/read_metadata_image.py\", line 92, in extract_gps\n",
      "    gps_metadata[v] = exiftool_metadata[k]\n",
      "KeyError: 'Composite:GPSLatitude'\n"
     ]
    },
    {
     "name": "stdout",
     "output_type": "stream",
     "text": [
      "/LUSTRE/sacmod/SIPECAM/cumulo_92/Mes 2/3_92_1_1340/1340_2\n"
     ]
    },
    {
     "name": "stderr",
     "output_type": "stream",
     "text": [
      "Traceback (most recent call last):\n",
      "  File \"/usr/local/bin/extract_serial_numbers_dates_and_metadata_of_files_and_device\", line 8, in <module>\n",
      "    sys.exit(main())\n",
      "  File \"/usr/local/lib/python3.8/dist-packages/simex/extract_serial_numbers_dates_and_metadata_of_files_and_device.py\", line 220, in main\n",
      "    extract_metadata_of_device_from_files(input_directory,\n",
      "  File \"/usr/local/lib/python3.8/dist-packages/simex/extract_serial_numbers_dates_and_metadata_of_files_and_device.py\", line 128, in extract_metadata_of_device_from_files\n",
      "    d_output[\"GPSFile\"] = read_metadata_image.extract_gps(filename)\n",
      "  File \"/usr/local/lib/python3.8/dist-packages/simex/read_metadata_image.py\", line 92, in extract_gps\n",
      "    gps_metadata[v] = exiftool_metadata[k]\n",
      "KeyError: 'Composite:GPSLatitude'\n"
     ]
    },
    {
     "name": "stdout",
     "output_type": "stream",
     "text": [
      "/LUSTRE/sacmod/SIPECAM/cumulo_92/Mes 2/3_92_1_1340/1340_4\n"
     ]
    },
    {
     "name": "stderr",
     "output_type": "stream",
     "text": [
      "Traceback (most recent call last):\n",
      "  File \"/usr/local/bin/extract_serial_numbers_dates_and_metadata_of_files_and_device\", line 8, in <module>\n",
      "    sys.exit(main())\n",
      "  File \"/usr/local/lib/python3.8/dist-packages/simex/extract_serial_numbers_dates_and_metadata_of_files_and_device.py\", line 220, in main\n",
      "    extract_metadata_of_device_from_files(input_directory,\n",
      "  File \"/usr/local/lib/python3.8/dist-packages/simex/extract_serial_numbers_dates_and_metadata_of_files_and_device.py\", line 128, in extract_metadata_of_device_from_files\n",
      "    d_output[\"GPSFile\"] = read_metadata_image.extract_gps(filename)\n",
      "  File \"/usr/local/lib/python3.8/dist-packages/simex/read_metadata_image.py\", line 92, in extract_gps\n",
      "    gps_metadata[v] = exiftool_metadata[k]\n",
      "KeyError: 'Composite:GPSLatitude'\n"
     ]
    },
    {
     "name": "stdout",
     "output_type": "stream",
     "text": [
      "/LUSTRE/sacmod/SIPECAM/cumulo_92/Mes 2/3_92_1_1340/1340_3\n"
     ]
    },
    {
     "name": "stderr",
     "output_type": "stream",
     "text": [
      "Traceback (most recent call last):\n",
      "  File \"/usr/local/bin/extract_serial_numbers_dates_and_metadata_of_files_and_device\", line 8, in <module>\n",
      "    sys.exit(main())\n",
      "  File \"/usr/local/lib/python3.8/dist-packages/simex/extract_serial_numbers_dates_and_metadata_of_files_and_device.py\", line 220, in main\n",
      "    extract_metadata_of_device_from_files(input_directory,\n",
      "  File \"/usr/local/lib/python3.8/dist-packages/simex/extract_serial_numbers_dates_and_metadata_of_files_and_device.py\", line 128, in extract_metadata_of_device_from_files\n",
      "    d_output[\"GPSFile\"] = read_metadata_image.extract_gps(filename)\n",
      "  File \"/usr/local/lib/python3.8/dist-packages/simex/read_metadata_image.py\", line 92, in extract_gps\n",
      "    gps_metadata[v] = exiftool_metadata[k]\n",
      "KeyError: 'Composite:GPSLatitude'\n"
     ]
    },
    {
     "name": "stdout",
     "output_type": "stream",
     "text": [
      "/LUSTRE/sacmod/SIPECAM/cumulo_92/Mes 3/3_92_0_1343/Ch1/HLPXGM09048599/100RECNX\n"
     ]
    },
    {
     "name": "stderr",
     "output_type": "stream",
     "text": [
      "Traceback (most recent call last):\n",
      "  File \"/usr/local/bin/extract_serial_numbers_dates_and_metadata_of_files_and_device\", line 8, in <module>\n",
      "    sys.exit(main())\n",
      "  File \"/usr/local/lib/python3.8/dist-packages/simex/extract_serial_numbers_dates_and_metadata_of_files_and_device.py\", line 220, in main\n",
      "    extract_metadata_of_device_from_files(input_directory,\n",
      "  File \"/usr/local/lib/python3.8/dist-packages/simex/extract_serial_numbers_dates_and_metadata_of_files_and_device.py\", line 128, in extract_metadata_of_device_from_files\n",
      "    d_output[\"GPSFile\"] = read_metadata_image.extract_gps(filename)\n",
      "  File \"/usr/local/lib/python3.8/dist-packages/simex/read_metadata_image.py\", line 92, in extract_gps\n",
      "    gps_metadata[v] = exiftool_metadata[k]\n",
      "KeyError: 'Composite:GPSLatitude'\n"
     ]
    },
    {
     "name": "stdout",
     "output_type": "stream",
     "text": [
      "/LUSTRE/sacmod/SIPECAM/cumulo_92/Mes 3/3_92_0_1343/Ch3/HLPXGM09049514/HLPXGM09049514\n"
     ]
    },
    {
     "name": "stderr",
     "output_type": "stream",
     "text": [
      "Traceback (most recent call last):\n",
      "  File \"/usr/local/bin/extract_serial_numbers_dates_and_metadata_of_files_and_device\", line 8, in <module>\n",
      "    sys.exit(main())\n",
      "  File \"/usr/local/lib/python3.8/dist-packages/simex/extract_serial_numbers_dates_and_metadata_of_files_and_device.py\", line 220, in main\n",
      "    extract_metadata_of_device_from_files(input_directory,\n",
      "  File \"/usr/local/lib/python3.8/dist-packages/simex/extract_serial_numbers_dates_and_metadata_of_files_and_device.py\", line 128, in extract_metadata_of_device_from_files\n",
      "    d_output[\"GPSFile\"] = read_metadata_image.extract_gps(filename)\n",
      "  File \"/usr/local/lib/python3.8/dist-packages/simex/read_metadata_image.py\", line 92, in extract_gps\n",
      "    gps_metadata[v] = exiftool_metadata[k]\n",
      "KeyError: 'Composite:GPSLatitude'\n"
     ]
    },
    {
     "name": "stdout",
     "output_type": "stream",
     "text": [
      "/LUSTRE/sacmod/SIPECAM/cumulo_92/Mes 3/3_92_0_1343/Ch4/HLPXGM09048271/100RECNX\n"
     ]
    },
    {
     "name": "stderr",
     "output_type": "stream",
     "text": [
      "Traceback (most recent call last):\n",
      "  File \"/usr/local/bin/extract_serial_numbers_dates_and_metadata_of_files_and_device\", line 8, in <module>\n",
      "    sys.exit(main())\n",
      "  File \"/usr/local/lib/python3.8/dist-packages/simex/extract_serial_numbers_dates_and_metadata_of_files_and_device.py\", line 220, in main\n",
      "    extract_metadata_of_device_from_files(input_directory,\n",
      "  File \"/usr/local/lib/python3.8/dist-packages/simex/extract_serial_numbers_dates_and_metadata_of_files_and_device.py\", line 128, in extract_metadata_of_device_from_files\n",
      "    d_output[\"GPSFile\"] = read_metadata_image.extract_gps(filename)\n",
      "  File \"/usr/local/lib/python3.8/dist-packages/simex/read_metadata_image.py\", line 92, in extract_gps\n",
      "    gps_metadata[v] = exiftool_metadata[k]\n",
      "KeyError: 'Composite:GPSLatitude'\n"
     ]
    },
    {
     "name": "stdout",
     "output_type": "stream",
     "text": [
      "/LUSTRE/sacmod/SIPECAM/cumulo_92/Mes 3/3_92_0_1343/Ch5/HLPXGM09048565/100RECNX\n",
      "/LUSTRE/sacmod/SIPECAM/cumulo_92/Mes 3/3_92_0_1343/Ch2/HLPXGM0948270/100RECNX\n"
     ]
    },
    {
     "name": "stderr",
     "output_type": "stream",
     "text": [
      "Traceback (most recent call last):\n",
      "  File \"/usr/local/bin/extract_serial_numbers_dates_and_metadata_of_files_and_device\", line 8, in <module>\n",
      "    sys.exit(main())\n",
      "  File \"/usr/local/lib/python3.8/dist-packages/simex/extract_serial_numbers_dates_and_metadata_of_files_and_device.py\", line 220, in main\n",
      "    extract_metadata_of_device_from_files(input_directory,\n",
      "  File \"/usr/local/lib/python3.8/dist-packages/simex/extract_serial_numbers_dates_and_metadata_of_files_and_device.py\", line 128, in extract_metadata_of_device_from_files\n",
      "    d_output[\"GPSFile\"] = read_metadata_image.extract_gps(filename)\n",
      "  File \"/usr/local/lib/python3.8/dist-packages/simex/read_metadata_image.py\", line 92, in extract_gps\n",
      "    gps_metadata[v] = exiftool_metadata[k]\n",
      "KeyError: 'Composite:GPSLatitude'\n"
     ]
    },
    {
     "name": "stdout",
     "output_type": "stream",
     "text": [
      "/LUSTRE/sacmod/SIPECAM/cumulo_92/Mes 3/3_92_1_1334/09048890\n"
     ]
    },
    {
     "name": "stderr",
     "output_type": "stream",
     "text": [
      "Traceback (most recent call last):\n",
      "  File \"/usr/local/bin/extract_serial_numbers_dates_and_metadata_of_files_and_device\", line 8, in <module>\n",
      "    sys.exit(main())\n",
      "  File \"/usr/local/lib/python3.8/dist-packages/simex/extract_serial_numbers_dates_and_metadata_of_files_and_device.py\", line 220, in main\n",
      "    extract_metadata_of_device_from_files(input_directory,\n",
      "  File \"/usr/local/lib/python3.8/dist-packages/simex/extract_serial_numbers_dates_and_metadata_of_files_and_device.py\", line 128, in extract_metadata_of_device_from_files\n",
      "    d_output[\"GPSFile\"] = read_metadata_image.extract_gps(filename)\n",
      "  File \"/usr/local/lib/python3.8/dist-packages/simex/read_metadata_image.py\", line 92, in extract_gps\n",
      "    gps_metadata[v] = exiftool_metadata[k]\n",
      "KeyError: 'Composite:GPSLatitude'\n"
     ]
    },
    {
     "name": "stdout",
     "output_type": "stream",
     "text": [
      "/LUSTRE/sacmod/SIPECAM/cumulo_92/Mes 3/3_92_1_1334/09048594\n"
     ]
    },
    {
     "name": "stderr",
     "output_type": "stream",
     "text": [
      "Traceback (most recent call last):\n",
      "  File \"/usr/local/bin/extract_serial_numbers_dates_and_metadata_of_files_and_device\", line 8, in <module>\n",
      "    sys.exit(main())\n",
      "  File \"/usr/local/lib/python3.8/dist-packages/simex/extract_serial_numbers_dates_and_metadata_of_files_and_device.py\", line 220, in main\n",
      "    extract_metadata_of_device_from_files(input_directory,\n",
      "  File \"/usr/local/lib/python3.8/dist-packages/simex/extract_serial_numbers_dates_and_metadata_of_files_and_device.py\", line 128, in extract_metadata_of_device_from_files\n",
      "    d_output[\"GPSFile\"] = read_metadata_image.extract_gps(filename)\n",
      "  File \"/usr/local/lib/python3.8/dist-packages/simex/read_metadata_image.py\", line 92, in extract_gps\n",
      "    gps_metadata[v] = exiftool_metadata[k]\n",
      "KeyError: 'Composite:GPSLatitude'\n"
     ]
    },
    {
     "name": "stdout",
     "output_type": "stream",
     "text": [
      "/LUSTRE/sacmod/SIPECAM/cumulo_92/Mes 3/3_92_1_1334/09049201\n"
     ]
    },
    {
     "name": "stderr",
     "output_type": "stream",
     "text": [
      "Traceback (most recent call last):\n",
      "  File \"/usr/local/bin/extract_serial_numbers_dates_and_metadata_of_files_and_device\", line 8, in <module>\n",
      "    sys.exit(main())\n",
      "  File \"/usr/local/lib/python3.8/dist-packages/simex/extract_serial_numbers_dates_and_metadata_of_files_and_device.py\", line 220, in main\n",
      "    extract_metadata_of_device_from_files(input_directory,\n",
      "  File \"/usr/local/lib/python3.8/dist-packages/simex/extract_serial_numbers_dates_and_metadata_of_files_and_device.py\", line 128, in extract_metadata_of_device_from_files\n",
      "    d_output[\"GPSFile\"] = read_metadata_image.extract_gps(filename)\n",
      "  File \"/usr/local/lib/python3.8/dist-packages/simex/read_metadata_image.py\", line 92, in extract_gps\n",
      "    gps_metadata[v] = exiftool_metadata[k]\n",
      "KeyError: 'Composite:GPSLatitude'\n"
     ]
    },
    {
     "name": "stdout",
     "output_type": "stream",
     "text": [
      "/LUSTRE/sacmod/SIPECAM/cumulo_92/Mes 3/3_92_1_1334/09049271\n"
     ]
    },
    {
     "name": "stderr",
     "output_type": "stream",
     "text": [
      "Traceback (most recent call last):\n",
      "  File \"/usr/local/bin/extract_serial_numbers_dates_and_metadata_of_files_and_device\", line 8, in <module>\n",
      "    sys.exit(main())\n",
      "  File \"/usr/local/lib/python3.8/dist-packages/simex/extract_serial_numbers_dates_and_metadata_of_files_and_device.py\", line 220, in main\n",
      "    extract_metadata_of_device_from_files(input_directory,\n",
      "  File \"/usr/local/lib/python3.8/dist-packages/simex/extract_serial_numbers_dates_and_metadata_of_files_and_device.py\", line 128, in extract_metadata_of_device_from_files\n",
      "    d_output[\"GPSFile\"] = read_metadata_image.extract_gps(filename)\n",
      "  File \"/usr/local/lib/python3.8/dist-packages/simex/read_metadata_image.py\", line 92, in extract_gps\n",
      "    gps_metadata[v] = exiftool_metadata[k]\n",
      "KeyError: 'Composite:GPSLatitude'\n"
     ]
    },
    {
     "name": "stdout",
     "output_type": "stream",
     "text": [
      "/LUSTRE/sacmod/SIPECAM/cumulo_92/Mes 3/3_92_1_1334/09049092\n",
      "/LUSTRE/sacmod/SIPECAM/cumulo_92/Mes 1/3_92_1_1338/Camaras/1338_1/100RECNX\n",
      "/LUSTRE/sacmod/SIPECAM/cumulo_92/Mes 1/3_92_1_1338/Camaras/1338_2/100RECNX\n",
      "/LUSTRE/sacmod/SIPECAM/cumulo_92/Mes 1/3_92_1_1338/Camaras/1338_3/100RECNX\n",
      "/LUSTRE/sacmod/SIPECAM/cumulo_92/Mes 1/3_92_1_1338/Camaras/1338_5\n",
      "/LUSTRE/sacmod/SIPECAM/cumulo_92/Mes 1/3_92_1_1338/Camaras/1338_4/100RECNX\n",
      "/LUSTRE/sacmod/SIPECAM/cumulo_92/Mes 1/3_92_0_1339/1339_3/100RECNX\n",
      "/LUSTRE/sacmod/SIPECAM/cumulo_92/Mes 1/3_92_0_1339/1339_2/Cámaras\n",
      "/LUSTRE/sacmod/SIPECAM/cumulo_92/Mes 1/3_92_0_1339/1339_5/100RECNX\n"
     ]
    },
    {
     "name": "stderr",
     "output_type": "stream",
     "text": [
      "Traceback (most recent call last):\n",
      "  File \"/usr/local/bin/extract_serial_numbers_dates_and_metadata_of_files_and_device\", line 8, in <module>\n",
      "    sys.exit(main())\n",
      "  File \"/usr/local/lib/python3.8/dist-packages/simex/extract_serial_numbers_dates_and_metadata_of_files_and_device.py\", line 220, in main\n",
      "    extract_metadata_of_device_from_files(input_directory,\n",
      "  File \"/usr/local/lib/python3.8/dist-packages/simex/extract_serial_numbers_dates_and_metadata_of_files_and_device.py\", line 128, in extract_metadata_of_device_from_files\n",
      "    d_output[\"GPSFile\"] = read_metadata_image.extract_gps(filename)\n",
      "  File \"/usr/local/lib/python3.8/dist-packages/simex/read_metadata_image.py\", line 92, in extract_gps\n",
      "    gps_metadata[v] = exiftool_metadata[k]\n",
      "KeyError: 'Composite:GPSLatitude'\n"
     ]
    },
    {
     "name": "stdout",
     "output_type": "stream",
     "text": [
      "/LUSTRE/sacmod/SIPECAM/cumulo_92/Mes 1/3_92_0_1339/1339_4\n",
      "/LUSTRE/sacmod/SIPECAM/cumulo_92/Mes 1/3_92_0_1339/1339_1/Camaras\n"
     ]
    }
   ],
   "source": [
    "%%bash\n",
    "list_of_dirs_to_be_processed=/shared_volume/sipecam_subdirectories_09-03-2022.txt\n",
    "SAVEIFS=$IFS;IFS=$(echo -en \"\\n\\b\")\n",
    "for dir_to_be_processed in $(cat $list_of_dirs_to_be_processed)\n",
    "    do\n",
    "    echo \"$dir_to_be_processed\"\n",
    "    extract_serial_numbers_dates_and_metadata_of_files_and_device --input_dir \"$dir_to_be_processed\" --parallel --number_of_processes 10\n",
    "done\n",
    "IFS=$SAVEIFS"
   ]
  },
  {
   "cell_type": "code",
   "execution_count": null,
   "id": "4acdd364-377c-4e88-957a-1d2f7f20418c",
   "metadata": {},
   "outputs": [],
   "source": []
  }
 ],
 "metadata": {
  "kernelspec": {
   "display_name": "Python 3 (ipykernel)",
   "language": "python",
   "name": "python3"
  },
  "language_info": {
   "codemirror_mode": {
    "name": "ipython",
    "version": 3
   },
   "file_extension": ".py",
   "mimetype": "text/x-python",
   "name": "python",
   "nbconvert_exporter": "python",
   "pygments_lexer": "ipython3",
   "version": "3.8.10"
  }
 },
 "nbformat": 4,
 "nbformat_minor": 5
}
