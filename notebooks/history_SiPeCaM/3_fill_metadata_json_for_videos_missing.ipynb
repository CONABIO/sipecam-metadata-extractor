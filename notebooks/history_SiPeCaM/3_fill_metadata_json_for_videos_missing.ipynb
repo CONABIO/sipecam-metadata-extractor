{
 "cells": [
  {
   "cell_type": "markdown",
   "id": "88db7e27-6eab-4db2-96d6-495e95363713",
   "metadata": {},
   "source": [
    "# In file: /LUSTRE/sacmod/SIPECAM/videos_without_metadata.json there are some videos that don't have metadata although they are in standard simex directory"
   ]
  },
  {
   "cell_type": "markdown",
   "id": "f4da1c03-2b23-48af-9deb-ddb494cd5c5b",
   "metadata": {},
   "source": [
    "Reading json file was founded that there were two paths which held this videos:\n",
    "\n",
    "```\n",
    "/LUSTRE/sacmod/SIPECAM/data/95/1_95_0_1348/HLPXGM09048642/2021-08-04/images_videos/\n",
    "\n",
    "/LUSTRE/sacmod/SIPECAM/data/92/3_92_0_1341/HLPXGM09048599/2021-11-14/images_videos\n",
    "```"
   ]
  },
  {
   "cell_type": "markdown",
   "id": "d61c513d-c890-4567-a725-44abb94074a4",
   "metadata": {},
   "source": [
    "First, name of videos will be extracted"
   ]
  },
  {
   "cell_type": "code",
   "execution_count": 1,
   "id": "7faaa303-3fde-4179-8c25-0b428aae8011",
   "metadata": {},
   "outputs": [],
   "source": [
    "import os\n",
    "import json\n",
    "import pathlib"
   ]
  },
  {
   "cell_type": "code",
   "execution_count": 2,
   "id": "cd0f5ae5-0bef-45da-9cd4-4fbdaa98c59b",
   "metadata": {},
   "outputs": [],
   "source": [
    "file_with_missing_videos_metadata = \"/LUSTRE/sacmod/SIPECAM/videos_without_metadata.json\""
   ]
  },
  {
   "cell_type": "code",
   "execution_count": 3,
   "id": "84551c8c-8e60-4c75-b5b0-5c96f1b9637d",
   "metadata": {},
   "outputs": [],
   "source": [
    "with open(file_with_missing_videos_metadata, 'r') as f:\n",
    "    dict_json = json.load(f)"
   ]
  },
  {
   "cell_type": "code",
   "execution_count": 4,
   "id": "452b2ecb-985e-43ee-994f-a77f3898b4db",
   "metadata": {},
   "outputs": [],
   "source": [
    "list_entries = dict_json[\"list\"][\"entries\"]"
   ]
  },
  {
   "cell_type": "code",
   "execution_count": 5,
   "id": "37d81d64-8342-4b26-a3b0-26ca101e6b55",
   "metadata": {},
   "outputs": [
    {
     "data": {
      "text/plain": [
       "3115"
      ]
     },
     "execution_count": 5,
     "metadata": {},
     "output_type": "execute_result"
    }
   ],
   "source": [
    "len(list_entries)"
   ]
  },
  {
   "cell_type": "code",
   "execution_count": 6,
   "id": "90127452-2178-4097-9748-bfd192218e2e",
   "metadata": {},
   "outputs": [
    {
     "data": {
      "text/plain": [
       "[{'entry': {'path': {'name': '/Company Home/Sites/sipecam/documentLibrary/95/1_95_0_1348/HLPXGM09048642/2021-08-04/images_videos',\n",
       "    'isComplete': True,\n",
       "    'elements': [{'id': 'def5c4ab-a8f4-4132-a428-19222e69d5f5',\n",
       "      'name': 'Company Home',\n",
       "      'nodeType': 'cm:folder',\n",
       "      'aspectNames': ['cm:titled', 'cm:auditable', 'app:uifacets']},\n",
       "     {'id': 'f8f4b493-5874-4b68-b1b2-ee447841e250',\n",
       "      'name': 'Sites',\n",
       "      'nodeType': 'st:sites',\n",
       "      'aspectNames': ['cm:titled', 'cm:auditable', 'app:uifacets']},\n",
       "     {'id': '2ed5f87f-36ff-4808-94da-1973f3cd94db',\n",
       "      'name': 'sipecam',\n",
       "      'nodeType': 'st:site',\n",
       "      'aspectNames': ['cm:tagscope', 'cm:titled', 'cm:auditable']},\n",
       "     {'id': '7bffabb9-af28-4a74-8f0c-555af30b9fd5',\n",
       "      'name': 'documentLibrary',\n",
       "      'nodeType': 'cm:folder',\n",
       "      'aspectNames': ['cm:tagscope', 'st:siteContainer', 'cm:auditable']},\n",
       "     {'id': '896eeb8d-f93d-4c5b-99b0-18f0fc425c4f',\n",
       "      'name': '95',\n",
       "      'nodeType': 'cm:folder',\n",
       "      'aspectNames': ['cm:auditable']},\n",
       "     {'id': '6104c337-6de1-4d90-8138-64bba17f6608',\n",
       "      'name': '1_95_0_1348',\n",
       "      'nodeType': 'cm:folder',\n",
       "      'aspectNames': ['cm:auditable']},\n",
       "     {'id': '62b9987d-2e4b-4553-87b1-d7232fe0fe0e',\n",
       "      'name': 'HLPXGM09048642',\n",
       "      'nodeType': 'cm:folder',\n",
       "      'aspectNames': ['cm:auditable']},\n",
       "     {'id': '976e9f9c-7d5a-4b26-af39-f5a04efd7052',\n",
       "      'name': '2021-08-04',\n",
       "      'nodeType': 'cm:folder',\n",
       "      'aspectNames': ['cm:auditable']},\n",
       "     {'id': 'ff674157-8c82-42da-ab70-881e85d4bfb5',\n",
       "      'name': 'images_videos',\n",
       "      'nodeType': 'cm:folder',\n",
       "      'aspectNames': ['cm:auditable']}]},\n",
       "   'name': '970dd5e982d07dc894c3752df1df9475_4560.mp4',\n",
       "   'id': '21742f61-fedf-4f3e-8a0c-aacfd53d4518',\n",
       "   'properties': {'cm:versionType': 'MAJOR',\n",
       "    'cm:versionLabel': '1.0',\n",
       "    'sipecam:EcosystemsName': 'Bosques templados',\n",
       "    'audio:sampleRate': 1000,\n",
       "    'sipecam:CumulusName': '95',\n",
       "    'sipecam:NomenclatureNode': '1_95_0_1348',\n",
       "    'sipecam:NodeCategoryIntegrity': 'Degradado',\n",
       "    'sipecam:DateDeployment': '2021-08-04T00:00:00.000+0000',\n",
       "    'sipecam:Timeexp': 1.0}}},\n",
       " {'entry': {'path': {'name': '/Company Home/Sites/sipecam/documentLibrary/95/1_95_0_1348/HLPXGM09048642/2021-08-04/images_videos',\n",
       "    'isComplete': True,\n",
       "    'elements': [{'id': 'def5c4ab-a8f4-4132-a428-19222e69d5f5',\n",
       "      'name': 'Company Home',\n",
       "      'nodeType': 'cm:folder',\n",
       "      'aspectNames': ['cm:titled', 'cm:auditable', 'app:uifacets']},\n",
       "     {'id': 'f8f4b493-5874-4b68-b1b2-ee447841e250',\n",
       "      'name': 'Sites',\n",
       "      'nodeType': 'st:sites',\n",
       "      'aspectNames': ['cm:titled', 'cm:auditable', 'app:uifacets']},\n",
       "     {'id': '2ed5f87f-36ff-4808-94da-1973f3cd94db',\n",
       "      'name': 'sipecam',\n",
       "      'nodeType': 'st:site',\n",
       "      'aspectNames': ['cm:tagscope', 'cm:titled', 'cm:auditable']},\n",
       "     {'id': '7bffabb9-af28-4a74-8f0c-555af30b9fd5',\n",
       "      'name': 'documentLibrary',\n",
       "      'nodeType': 'cm:folder',\n",
       "      'aspectNames': ['cm:tagscope', 'st:siteContainer', 'cm:auditable']},\n",
       "     {'id': '896eeb8d-f93d-4c5b-99b0-18f0fc425c4f',\n",
       "      'name': '95',\n",
       "      'nodeType': 'cm:folder',\n",
       "      'aspectNames': ['cm:auditable']},\n",
       "     {'id': '6104c337-6de1-4d90-8138-64bba17f6608',\n",
       "      'name': '1_95_0_1348',\n",
       "      'nodeType': 'cm:folder',\n",
       "      'aspectNames': ['cm:auditable']},\n",
       "     {'id': '62b9987d-2e4b-4553-87b1-d7232fe0fe0e',\n",
       "      'name': 'HLPXGM09048642',\n",
       "      'nodeType': 'cm:folder',\n",
       "      'aspectNames': ['cm:auditable']},\n",
       "     {'id': '976e9f9c-7d5a-4b26-af39-f5a04efd7052',\n",
       "      'name': '2021-08-04',\n",
       "      'nodeType': 'cm:folder',\n",
       "      'aspectNames': ['cm:auditable']},\n",
       "     {'id': 'ff674157-8c82-42da-ab70-881e85d4bfb5',\n",
       "      'name': 'images_videos',\n",
       "      'nodeType': 'cm:folder',\n",
       "      'aspectNames': ['cm:auditable']}]},\n",
       "   'name': '5ac4ea20e890fe19bd009f0499c969ce_0570.mp4',\n",
       "   'id': 'c6c54564-b8b0-4d1e-8b62-76e83ddca176',\n",
       "   'properties': {'cm:versionType': 'MAJOR',\n",
       "    'cm:versionLabel': '1.0',\n",
       "    'sipecam:EcosystemsName': 'Bosques templados',\n",
       "    'audio:sampleRate': 1000,\n",
       "    'sipecam:CumulusName': '95',\n",
       "    'sipecam:NomenclatureNode': '1_95_0_1348',\n",
       "    'sipecam:NodeCategoryIntegrity': 'Degradado',\n",
       "    'sipecam:DateDeployment': '2021-08-04T00:00:00.000+0000',\n",
       "    'sipecam:Timeexp': 1.0}}},\n",
       " {'entry': {'path': {'name': '/Company Home/Sites/sipecam/documentLibrary/95/1_95_0_1348/HLPXGM09048642/2021-08-04/images_videos',\n",
       "    'isComplete': True,\n",
       "    'elements': [{'id': 'def5c4ab-a8f4-4132-a428-19222e69d5f5',\n",
       "      'name': 'Company Home',\n",
       "      'nodeType': 'cm:folder',\n",
       "      'aspectNames': ['cm:titled', 'cm:auditable', 'app:uifacets']},\n",
       "     {'id': 'f8f4b493-5874-4b68-b1b2-ee447841e250',\n",
       "      'name': 'Sites',\n",
       "      'nodeType': 'st:sites',\n",
       "      'aspectNames': ['cm:titled', 'cm:auditable', 'app:uifacets']},\n",
       "     {'id': '2ed5f87f-36ff-4808-94da-1973f3cd94db',\n",
       "      'name': 'sipecam',\n",
       "      'nodeType': 'st:site',\n",
       "      'aspectNames': ['cm:tagscope', 'cm:titled', 'cm:auditable']},\n",
       "     {'id': '7bffabb9-af28-4a74-8f0c-555af30b9fd5',\n",
       "      'name': 'documentLibrary',\n",
       "      'nodeType': 'cm:folder',\n",
       "      'aspectNames': ['cm:tagscope', 'st:siteContainer', 'cm:auditable']},\n",
       "     {'id': '896eeb8d-f93d-4c5b-99b0-18f0fc425c4f',\n",
       "      'name': '95',\n",
       "      'nodeType': 'cm:folder',\n",
       "      'aspectNames': ['cm:auditable']},\n",
       "     {'id': '6104c337-6de1-4d90-8138-64bba17f6608',\n",
       "      'name': '1_95_0_1348',\n",
       "      'nodeType': 'cm:folder',\n",
       "      'aspectNames': ['cm:auditable']},\n",
       "     {'id': '62b9987d-2e4b-4553-87b1-d7232fe0fe0e',\n",
       "      'name': 'HLPXGM09048642',\n",
       "      'nodeType': 'cm:folder',\n",
       "      'aspectNames': ['cm:auditable']},\n",
       "     {'id': '976e9f9c-7d5a-4b26-af39-f5a04efd7052',\n",
       "      'name': '2021-08-04',\n",
       "      'nodeType': 'cm:folder',\n",
       "      'aspectNames': ['cm:auditable']},\n",
       "     {'id': 'ff674157-8c82-42da-ab70-881e85d4bfb5',\n",
       "      'name': 'images_videos',\n",
       "      'nodeType': 'cm:folder',\n",
       "      'aspectNames': ['cm:auditable']}]},\n",
       "   'name': '8f654c82aa85409bc25439e6f9f2f1db_3309.mp4',\n",
       "   'id': '319eb356-3c57-432c-84db-d7b8d08bfb5c',\n",
       "   'properties': {'cm:versionType': 'MAJOR',\n",
       "    'cm:versionLabel': '1.0',\n",
       "    'sipecam:EcosystemsName': 'Bosques templados',\n",
       "    'audio:sampleRate': 1000,\n",
       "    'sipecam:CumulusName': '95',\n",
       "    'sipecam:NomenclatureNode': '1_95_0_1348',\n",
       "    'sipecam:NodeCategoryIntegrity': 'Degradado',\n",
       "    'sipecam:DateDeployment': '2021-08-04T00:00:00.000+0000',\n",
       "    'sipecam:Timeexp': 1.0}}}]"
      ]
     },
     "execution_count": 6,
     "metadata": {},
     "output_type": "execute_result"
    }
   ],
   "source": [
    "list_entries[0:3]"
   ]
  },
  {
   "cell_type": "code",
   "execution_count": 7,
   "id": "92bcb794-d120-4a19-a71c-3a9c5b80dcae",
   "metadata": {},
   "outputs": [],
   "source": [
    "name_in_entry_1 = \"/Company Home/Sites/sipecam/documentLibrary/95/1_95_0_1348/HLPXGM09048642/2021-08-04/images_videos\"\n",
    "name_in_entry_2 = \"/Company Home/Sites/sipecam/documentLibrary/92/3_92_0_1341/HLPXGM09048599/2021-11-14/images_videos\"\n",
    "path_for_entry_1 = \"/LUSTRE/sacmod/SIPECAM/data/95/1_95_0_1348/HLPXGM09048642/2021-08-04/images_videos/\"\n",
    "path_for_entry_2 = \"/LUSTRE/sacmod/SIPECAM/data/92/3_92_0_1341/HLPXGM09048599/2021-11-14/images_videos\""
   ]
  },
  {
   "cell_type": "code",
   "execution_count": 8,
   "id": "07fa8b8c-c64f-4100-96e1-24ecb78e3103",
   "metadata": {},
   "outputs": [],
   "source": [
    "l_95 = []"
   ]
  },
  {
   "cell_type": "code",
   "execution_count": 9,
   "id": "009ef8c5-c634-40ff-a21b-097ec236d62e",
   "metadata": {},
   "outputs": [],
   "source": [
    "l_92 = []"
   ]
  },
  {
   "cell_type": "code",
   "execution_count": 10,
   "id": "701fb64e-68f8-40a1-a206-925be205291f",
   "metadata": {},
   "outputs": [],
   "source": [
    "for i in list_entries:\n",
    "    filename = i[\"entry\"][\"name\"]\n",
    "    filename_pathlib = pathlib.Path(filename)\n",
    "    if i[\"entry\"][\"path\"][\"name\"] == name_in_entry_1:\n",
    "        l_95.append(os.path.join(path_for_entry_1, filename_pathlib.stem + \".AVI\"))\n",
    "    else:\n",
    "        l_92.append(os.path.join(path_for_entry_2, filename_pathlib.stem + \".AVI\"))"
   ]
  },
  {
   "cell_type": "code",
   "execution_count": 11,
   "id": "4eac3409-8602-4a1c-87f2-011c7d8fefb2",
   "metadata": {},
   "outputs": [
    {
     "data": {
      "text/plain": [
       "['/LUSTRE/sacmod/SIPECAM/data/95/1_95_0_1348/HLPXGM09048642/2021-08-04/images_videos/970dd5e982d07dc894c3752df1df9475_4560.AVI',\n",
       " '/LUSTRE/sacmod/SIPECAM/data/95/1_95_0_1348/HLPXGM09048642/2021-08-04/images_videos/5ac4ea20e890fe19bd009f0499c969ce_0570.AVI',\n",
       " '/LUSTRE/sacmod/SIPECAM/data/95/1_95_0_1348/HLPXGM09048642/2021-08-04/images_videos/8f654c82aa85409bc25439e6f9f2f1db_3309.AVI',\n",
       " '/LUSTRE/sacmod/SIPECAM/data/95/1_95_0_1348/HLPXGM09048642/2021-08-04/images_videos/8971fec4f915d7e093d49f62ca5d3ed5_3156.AVI']"
      ]
     },
     "execution_count": 11,
     "metadata": {},
     "output_type": "execute_result"
    }
   ],
   "source": [
    "l_95[0:4]"
   ]
  },
  {
   "cell_type": "code",
   "execution_count": 12,
   "id": "791ef8db-611a-4423-8015-e8f439d10e36",
   "metadata": {},
   "outputs": [
    {
     "data": {
      "text/plain": [
       "['/LUSTRE/sacmod/SIPECAM/data/92/3_92_0_1341/HLPXGM09048599/2021-11-14/images_videos/2420c3561f82acdaa97e3bfa4f8db7c1_0429.AVI']"
      ]
     },
     "execution_count": 12,
     "metadata": {},
     "output_type": "execute_result"
    }
   ],
   "source": [
    "l_92"
   ]
  },
  {
   "cell_type": "code",
   "execution_count": 13,
   "id": "b2d81a7b-0c00-406a-8c16-1379403c534e",
   "metadata": {},
   "outputs": [],
   "source": [
    "with open(\"/LUSTRE/sacmod/SIPECAM/videos_without_metadata_95.txt\",'w') as dst:\n",
    "    for path in l_95:\n",
    "        dst.write(path + \"\\n\")"
   ]
  },
  {
   "cell_type": "code",
   "execution_count": 14,
   "id": "89b45eea-a889-4135-b72e-9282c5b0ae4f",
   "metadata": {},
   "outputs": [],
   "source": [
    "with open(\"/LUSTRE/sacmod/SIPECAM/videos_without_metadata_92.txt\",'w') as dst:\n",
    "    for path in l_92:\n",
    "        dst.write(path + \"\\n\")"
   ]
  },
  {
   "cell_type": "code",
   "execution_count": 15,
   "id": "3d23a618-8149-4ee4-a66e-bf4b6141d078",
   "metadata": {},
   "outputs": [
    {
     "data": {
      "text/plain": [
       "3114"
      ]
     },
     "execution_count": 15,
     "metadata": {},
     "output_type": "execute_result"
    }
   ],
   "source": [
    "len(l_95)"
   ]
  },
  {
   "cell_type": "code",
   "execution_count": 16,
   "id": "c2da4fea-5f79-446f-99d9-00c8fd962639",
   "metadata": {},
   "outputs": [
    {
     "data": {
      "text/plain": [
       "1"
      ]
     },
     "execution_count": 16,
     "metadata": {},
     "output_type": "execute_result"
    }
   ],
   "source": [
    "len(l_92)"
   ]
  },
  {
   "cell_type": "code",
   "execution_count": 25,
   "id": "0840ebde-1b01-43a8-8cf7-5c5fb7db9276",
   "metadata": {},
   "outputs": [],
   "source": [
    "with open(\"/LUSTRE/sacmod/SIPECAM/videos_without_metadata_95.txt\", 'r') as txt:\n",
    "    l = txt.read().splitlines()\n"
   ]
  },
  {
   "cell_type": "code",
   "execution_count": 26,
   "id": "fac5e2fe-43b7-452c-b5be-abdbd69f6c65",
   "metadata": {},
   "outputs": [
    {
     "data": {
      "text/plain": [
       "['/LUSTRE/sacmod/SIPECAM/data/95/1_95_0_1348/HLPXGM09048642/2021-08-04/images_videos/970dd5e982d07dc894c3752df1df9475_4560.AVI',\n",
       " '/LUSTRE/sacmod/SIPECAM/data/95/1_95_0_1348/HLPXGM09048642/2021-08-04/images_videos/5ac4ea20e890fe19bd009f0499c969ce_0570.AVI',\n",
       " '/LUSTRE/sacmod/SIPECAM/data/95/1_95_0_1348/HLPXGM09048642/2021-08-04/images_videos/8f654c82aa85409bc25439e6f9f2f1db_3309.AVI',\n",
       " '/LUSTRE/sacmod/SIPECAM/data/95/1_95_0_1348/HLPXGM09048642/2021-08-04/images_videos/8971fec4f915d7e093d49f62ca5d3ed5_3156.AVI',\n",
       " '/LUSTRE/sacmod/SIPECAM/data/95/1_95_0_1348/HLPXGM09048642/2021-08-04/images_videos/3d3c3d4abc1a146b81db27f1bc81fbf7_3390.AVI',\n",
       " '/LUSTRE/sacmod/SIPECAM/data/95/1_95_0_1348/HLPXGM09048642/2021-08-04/images_videos/8e6f83d681a8535a9a071dac213f3704_5007.AVI',\n",
       " '/LUSTRE/sacmod/SIPECAM/data/95/1_95_0_1348/HLPXGM09048642/2021-08-04/images_videos/8662b3c6938b78484ebd30452afbb60d_5127.AVI',\n",
       " '/LUSTRE/sacmod/SIPECAM/data/95/1_95_0_1348/HLPXGM09048642/2021-08-04/images_videos/9610e8556aeb34178bfc9e36946ef482_3165.AVI',\n",
       " '/LUSTRE/sacmod/SIPECAM/data/95/1_95_0_1348/HLPXGM09048642/2021-08-04/images_videos/8a658f4f75c2080240a4a4ecfe85be61_2367.AVI',\n",
       " '/LUSTRE/sacmod/SIPECAM/data/95/1_95_0_1348/HLPXGM09048642/2021-08-04/images_videos/599ea77212bb0d9fb6b129f3e2361365_0807.AVI']"
      ]
     },
     "execution_count": 26,
     "metadata": {},
     "output_type": "execute_result"
    }
   ],
   "source": [
    "l[0:10]"
   ]
  },
  {
   "cell_type": "markdown",
   "id": "978018a9-5a9a-445c-9b8c-8eeab3cc5bc4",
   "metadata": {},
   "source": [
    "# Executing extension of videos metadata cli"
   ]
  },
  {
   "cell_type": "code",
   "execution_count": 27,
   "id": "b59a9a3e-09b6-4df8-b155-506dc7ddfb8b",
   "metadata": {},
   "outputs": [],
   "source": [
    "%%bash\n",
    "dir_source=\"/LUSTRE/sacmod/SIPECAM/data/95/1_95_0_1348/HLPXGM09048642/2021-08-04/images_videos/\"\n",
    "extend_metadata_of_video_files --input_directory_video \"$dir_source\""
   ]
  },
  {
   "cell_type": "code",
   "execution_count": 28,
   "id": "562eab73-4856-4e38-9ba3-f941ffa311d0",
   "metadata": {},
   "outputs": [],
   "source": [
    "%%bash\n",
    "dir_source=\"/LUSTRE/sacmod/SIPECAM/data/92/3_92_0_1341/HLPXGM09048599/2021-11-14/images_videos/\"\n",
    "extend_metadata_of_video_files --input_directory_video \"$dir_source\""
   ]
  },
  {
   "cell_type": "code",
   "execution_count": null,
   "id": "df5a3e0b-6a72-43f9-ae07-f804bbf8fb9f",
   "metadata": {},
   "outputs": [],
   "source": []
  }
 ],
 "metadata": {
  "kernelspec": {
   "display_name": "Python 3 (ipykernel)",
   "language": "python",
   "name": "python3"
  },
  "language_info": {
   "codemirror_mode": {
    "name": "ipython",
    "version": 3
   },
   "file_extension": ".py",
   "mimetype": "text/x-python",
   "name": "python",
   "nbconvert_exporter": "python",
   "pygments_lexer": "ipython3",
   "version": "3.8.10"
  }
 },
 "nbformat": 4,
 "nbformat_minor": 5
}
