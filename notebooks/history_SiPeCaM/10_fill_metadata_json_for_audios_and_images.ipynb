{
 "cells": [
  {
   "cell_type": "markdown",
   "id": "760328ee-e943-419a-a4a7-c7dcdebc2c2a",
   "metadata": {},
   "source": [
    "# In file `files_with_missing_metadata_2022-07-29` there are files which don't have metadata in their correspondent `json` file"
   ]
  },
  {
   "cell_type": "code",
   "execution_count": 1,
   "id": "a3a582b0-a85b-41d6-8000-3917d433b381",
   "metadata": {},
   "outputs": [],
   "source": [
    "l = []\n",
    "file = \"files_with_missing_metadata_2022-07-29.txt\"\n",
    "with open(file, 'r') as src:\n",
    "    for f in src:\n",
    "        line = f.rstrip()\n",
    "        l.append(line)\n"
   ]
  },
  {
   "cell_type": "code",
   "execution_count": 2,
   "id": "1834f362-1ced-47ed-bda1-b413d9a04d53",
   "metadata": {},
   "outputs": [
    {
     "data": {
      "text/plain": [
       "['/LUSTRE/sacmod/SIPECAM/data/31/1_31_1_1213/248D9B0260371FD2/2022-02-22/audios/Audible/42d8aa3b49eb0d43954ed044ef58fdfc.wav',\n",
       " '/LUSTRE/sacmod/SIPECAM/data/31/1_31_1_1213/248D9B0260371FD2/2022-02-22/audios/Audible/fcf6407b5833c183baf810915b81b183.wav',\n",
       " '/LUSTRE/sacmod/SIPECAM/data/31/1_31_1_1213/248D9B0260371FD2/2022-02-22/audios/Audible/e3564578bbcc8314464a4248e5dede06.wav',\n",
       " '/LUSTRE/sacmod/SIPECAM/data/31/1_31_1_1213/248D9B0260371FD2/2022-02-22/audios/Audible/dfbabb8a28b8f234d88f6683f3da859b.wav',\n",
       " '/LUSTRE/sacmod/SIPECAM/data/31/1_31_1_1213/248D9B0260371FD2/2022-02-22/audios/Audible/4220711e3005214ddc83dee6d5d39c34.wav',\n",
       " '/LUSTRE/sacmod/SIPECAM/data/31/1_31_1_1213/248D9B0260371FD2/2022-02-22/audios/Audible/4dd2b2ee52388cc1aca233691beb3421.wav',\n",
       " '/LUSTRE/sacmod/SIPECAM/data/31/1_31_1_1213/248D9B0260371FD2/2022-02-22/audios/Audible/aa24ceb9fb6264f5c44bb3771315a831.wav',\n",
       " '/LUSTRE/sacmod/SIPECAM/data/31/1_31_1_1213/248D9B0260371FD2/2022-02-22/audios/Audible/a4e7684fc5c66c3a6d030e31989d914b.wav',\n",
       " '/LUSTRE/sacmod/SIPECAM/data/31/1_31_1_1213/248D9B0260371FD2/2022-02-22/audios/Audible/a9ae60e029ed4f6eb1e7518176a75284.wav',\n",
       " '/LUSTRE/sacmod/SIPECAM/data/31/1_31_1_1213/248D9B0260371FD2/2022-02-22/audios/Audible/44f3efd1aa636384f0aa25831712df9c.wav']"
      ]
     },
     "execution_count": 2,
     "metadata": {},
     "output_type": "execute_result"
    }
   ],
   "source": [
    "l[0:10]"
   ]
  },
  {
   "cell_type": "code",
   "execution_count": 3,
   "id": "e803eba0-473c-49be-b3d3-1dd903742827",
   "metadata": {},
   "outputs": [
    {
     "data": {
      "text/plain": [
       "102679"
      ]
     },
     "execution_count": 3,
     "metadata": {},
     "output_type": "execute_result"
    }
   ],
   "source": [
    "len(l)"
   ]
  },
  {
   "cell_type": "code",
   "execution_count": 4,
   "id": "684b9f43-b5c9-451f-b563-88732d1880ec",
   "metadata": {},
   "outputs": [
    {
     "data": {
      "text/plain": [
       "'/LUSTRE/sacmod/SIPECAM/data/33/1_33_0_1226/24F3190160377B16/2022-02-17/audios/Audible/5c0f93f5be5accea3b86c4bc94d7a5bb.WAV'"
      ]
     },
     "execution_count": 4,
     "metadata": {},
     "output_type": "execute_result"
    }
   ],
   "source": [
    "l[len(l)-1]"
   ]
  },
  {
   "cell_type": "code",
   "execution_count": 24,
   "id": "85e78300-fe4b-40cd-9e5d-557a70d9a40c",
   "metadata": {},
   "outputs": [],
   "source": [
    "l = []\n",
    "file = \"files_with_missing_metadata_2022-07-29.txt\"\n",
    "with open(file, 'r') as src:\n",
    "    for f in src:\n",
    "        line = f.rstrip()\n",
    "        substr = line.split(\"audios\")[0]\n",
    "        if \"images_videos\" not in substr:\n",
    "            if substr not in l:\n",
    "                l.append(substr)\n",
    "        else:\n",
    "            substr = line.split(\"images_videos\")[0]\n",
    "            if substr not in l:\n",
    "                l.append(substr)\n"
   ]
  },
  {
   "cell_type": "code",
   "execution_count": 25,
   "id": "81230ca6-8e8c-4ae9-b35e-300d18689547",
   "metadata": {},
   "outputs": [
    {
     "data": {
      "text/plain": [
       "['/LUSTRE/sacmod/SIPECAM/data/31/1_31_1_1213/248D9B0260371FD2/2022-02-22/',\n",
       " '/LUSTRE/sacmod/SIPECAM/data/31/1_31_1_1213/24E1440360372FF8/2022-02-22/',\n",
       " '/LUSTRE/sacmod/SIPECAM/data/31/1_31_1_1213/24F3190160371FAB/2022-02-23/',\n",
       " '/LUSTRE/sacmod/SIPECAM/data/31/1_31_0_1216/24F3190160371FAB/2022-01-15/',\n",
       " '/LUSTRE/sacmod/SIPECAM/data/31/1_31_0_1217/248D9B0260371FD2/2021-11-06/',\n",
       " '/LUSTRE/sacmod/SIPECAM/data/31/1_31_0_1217/24F31901603734A9/2021-11-06/',\n",
       " '/LUSTRE/sacmod/SIPECAM/data/31/1_31_1_1211/24E1440360371ED3/2021-12-12/',\n",
       " '/LUSTRE/sacmod/SIPECAM/data/31/1_31_1_1209/242A260460373575/2021-12-12/',\n",
       " '/LUSTRE/sacmod/SIPECAM/data/33/1_33_0_1223/242A2604603734A9/2021-12-04/',\n",
       " '/LUSTRE/sacmod/SIPECAM/data/33/1_33_0_1223/24F3190160377B16/2021-12-05/',\n",
       " '/LUSTRE/sacmod/SIPECAM/data/33/1_33_0_1223/248D9B0260377D10/2021-12-04/',\n",
       " '/LUSTRE/sacmod/SIPECAM/data/33/1_33_1_1219/24F3190160377B48/2022-02-19/',\n",
       " '/LUSTRE/sacmod/SIPECAM/data/33/1_33_1_1219/248D9B0260371F78/2022-02-19/',\n",
       " '/LUSTRE/sacmod/SIPECAM/data/33/1_33_0_1224/24E1440360374A34/2022-01-10/',\n",
       " '/LUSTRE/sacmod/SIPECAM/data/33/1_33_1_1222/HLPXGM09049899/2021-12-03/',\n",
       " '/LUSTRE/sacmod/SIPECAM/data/33/1_33_1_1222/248D9B0260371F78/2021-12-04/',\n",
       " '/LUSTRE/sacmod/SIPECAM/data/33/1_33_1_1222/248D9B0260372F15/2021-12-04/',\n",
       " '/LUSTRE/sacmod/SIPECAM/data/33/1_33_0_1226/24F3190160377B16/2022-02-17/']"
      ]
     },
     "execution_count": 25,
     "metadata": {},
     "output_type": "execute_result"
    }
   ],
   "source": [
    "l"
   ]
  },
  {
   "cell_type": "markdown",
   "id": "d7a21ce8-bafd-443d-afac-d4b80c60817a",
   "metadata": {},
   "source": [
    "**For the case of the dir with images let's see which files are not in `json`**"
   ]
  },
  {
   "cell_type": "code",
   "execution_count": 26,
   "id": "dd31addf-5d6b-4568-b605-5c1c6f8fa01f",
   "metadata": {},
   "outputs": [],
   "source": [
    "l = []\n",
    "file = \"files_with_missing_metadata_2022-07-29.txt\"\n",
    "with open(file, 'r') as src:\n",
    "    for f in src:\n",
    "        line = f.rstrip()\n",
    "        substr = line.split(\"audios\")[0]\n",
    "        if \"images_videos\" in substr:\n",
    "            l.append(substr)\n"
   ]
  },
  {
   "cell_type": "code",
   "execution_count": 27,
   "id": "b0e64625-529c-4cb5-9608-fd9c5243499a",
   "metadata": {},
   "outputs": [
    {
     "data": {
      "text/plain": [
       "['/LUSTRE/sacmod/SIPECAM/data/33/1_33_1_1222/HLPXGM09049899/2021-12-03/images_videos/ca811beabda05c07d7ce37209f45ac40_0008.JPG',\n",
       " '/LUSTRE/sacmod/SIPECAM/data/33/1_33_1_1222/HLPXGM09049899/2021-12-03/images_videos/15a3c8fa7a750ca6ada3792531a3dbf2_0004.JPG',\n",
       " '/LUSTRE/sacmod/SIPECAM/data/33/1_33_1_1222/HLPXGM09049899/2021-12-03/images_videos/74f3a15286d1f204e6019a7631d0f5a7_0002.JPG',\n",
       " '/LUSTRE/sacmod/SIPECAM/data/33/1_33_1_1222/HLPXGM09049899/2021-12-03/images_videos/1e20e16cbc5edbd7edb2f19d2f0c5083_0005.JPG',\n",
       " '/LUSTRE/sacmod/SIPECAM/data/33/1_33_1_1222/HLPXGM09049899/2021-12-03/images_videos/8eca12188c0b61969507741c9115d8a2_0001.JPG',\n",
       " '/LUSTRE/sacmod/SIPECAM/data/33/1_33_1_1222/HLPXGM09049899/2021-12-03/images_videos/0bc093f74bd086afc9ef9b728b374dda_0007.JPG']"
      ]
     },
     "execution_count": 27,
     "metadata": {},
     "output_type": "execute_result"
    }
   ],
   "source": [
    "l"
   ]
  },
  {
   "cell_type": "markdown",
   "id": "aa726ee8-4f98-47b2-9125-656716060a21",
   "metadata": {},
   "source": [
    "**Let's check if this numbers are repeated**"
   ]
  },
  {
   "cell_type": "code",
   "execution_count": 33,
   "id": "84dd6763-5f7e-4e42-8aca-f8e021db56ad",
   "metadata": {},
   "outputs": [
    {
     "name": "stdout",
     "output_type": "stream",
     "text": [
      "74f3a15286d1f204e6019a7631d0f5a7_0002.JPG\n",
      "8eca12188c0b61969507741c9115d8a2_0001.JPG\n",
      "ce6f5df4a590edb30eaeb014e0c2ffd4_0001.JPG\n",
      "e660334b7477becf3bb02b64135dd242_0002.JPG\n"
     ]
    }
   ],
   "source": [
    "%%bash\n",
    "d=\"/LUSTRE/sacmod/SIPECAM/data/33/1_33_1_1222/HLPXGM09049899/2021-12-03/images_videos/\"\n",
    "ls \"$d\"|grep \".*_000[1-2].JPG\""
   ]
  },
  {
   "cell_type": "code",
   "execution_count": 34,
   "id": "314f7d57-3ef6-407e-aa4a-076675061722",
   "metadata": {},
   "outputs": [
    {
     "name": "stdout",
     "output_type": "stream",
     "text": [
      "15a3c8fa7a750ca6ada3792531a3dbf2_0004.JPG\n",
      "1e20e16cbc5edbd7edb2f19d2f0c5083_0005.JPG\n",
      "31422e4d11873d87648cd6a4c75f841d_0005.JPG\n",
      "d8d6de82c7125a1e5998dbc5719bafb0_0004.JPG\n"
     ]
    }
   ],
   "source": [
    "%%bash\n",
    "d=\"/LUSTRE/sacmod/SIPECAM/data/33/1_33_1_1222/HLPXGM09049899/2021-12-03/images_videos/\"\n",
    "ls \"$d\"|grep \".*_000[4-5].JPG\""
   ]
  },
  {
   "cell_type": "code",
   "execution_count": 35,
   "id": "e4ec7013-e016-4019-853f-5c334e40ec04",
   "metadata": {},
   "outputs": [
    {
     "name": "stdout",
     "output_type": "stream",
     "text": [
      "0bc093f74bd086afc9ef9b728b374dda_0007.JPG\n",
      "c0683990047847e14629668f6781e62e_0008.JPG\n",
      "c564892ae2c4636620b77748fa18d7bb_0007.JPG\n",
      "ca811beabda05c07d7ce37209f45ac40_0008.JPG\n"
     ]
    }
   ],
   "source": [
    "%%bash\n",
    "d=\"/LUSTRE/sacmod/SIPECAM/data/33/1_33_1_1222/HLPXGM09049899/2021-12-03/images_videos/\"\n",
    "ls \"$d\"|grep \".*_000[7-8].JPG\""
   ]
  },
  {
   "cell_type": "code",
   "execution_count": 38,
   "id": "58643374-6600-489f-8aaa-684b5b943e5a",
   "metadata": {},
   "outputs": [
    {
     "name": "stdout",
     "output_type": "stream",
     "text": [
      "0fb63870e55b1b72a60357ffeb1b74f1_0010.JPG\n"
     ]
    }
   ],
   "source": [
    "%%bash\n",
    "d=\"/LUSTRE/sacmod/SIPECAM/data/33/1_33_1_1222/HLPXGM09049899/2021-12-03/images_videos/\"\n",
    "ls \"$d\"|grep \".*_0010.JPG\""
   ]
  },
  {
   "cell_type": "code",
   "execution_count": 39,
   "id": "deb3d2a6-350c-4448-bc1c-b75015bd0e85",
   "metadata": {},
   "outputs": [
    {
     "name": "stdout",
     "output_type": "stream",
     "text": [
      "cd3ef53bf41b698f987a0fd361ccc9c0_0011.JPG\n"
     ]
    }
   ],
   "source": [
    "%%bash\n",
    "d=\"/LUSTRE/sacmod/SIPECAM/data/33/1_33_1_1222/HLPXGM09049899/2021-12-03/images_videos/\"\n",
    "ls \"$d\"|grep \".*_0011.JPG\""
   ]
  },
  {
   "cell_type": "code",
   "execution_count": 42,
   "id": "73e6bd3e-8ea1-473e-be44-94907a69bfd5",
   "metadata": {},
   "outputs": [
    {
     "name": "stdout",
     "output_type": "stream",
     "text": [
      "11e1a01bdd48afd27ca3ab0257d0d962_0009.AVI\n",
      "50737fa64600d499eb82fcffe373666c_0003.AVI\n",
      "627b66600140fefb8a180e88a21fb722_0009.AVI\n",
      "9c739b7c2ee9958db05e2fbd98fbe26f_0003.AVI\n",
      "c686f7ee4fd5ae6698cd829aca0c705c_0006.AVI\n",
      "ceeb56704fb126659c02bf798e5e5c14_0006.AVI\n"
     ]
    }
   ],
   "source": [
    "%%bash\n",
    "d=\"/LUSTRE/sacmod/SIPECAM/data/33/1_33_1_1222/HLPXGM09049899/2021-12-03/images_videos/\"\n",
    "ls \"$d\"|grep \".*_000[3,6,9].AVI\""
   ]
  },
  {
   "cell_type": "code",
   "execution_count": 43,
   "id": "3bcf71c5-78d6-4e76-b8bf-225b5337c1a9",
   "metadata": {},
   "outputs": [
    {
     "name": "stdout",
     "output_type": "stream",
     "text": [
      "1623a2e2f5967352817986d16674963e_0012.AVI\n"
     ]
    }
   ],
   "source": [
    "%%bash\n",
    "d=\"/LUSTRE/sacmod/SIPECAM/data/33/1_33_1_1222/HLPXGM09049899/2021-12-03/images_videos/\"\n",
    "ls \"$d\"|grep \".*_0012.AVI\""
   ]
  },
  {
   "cell_type": "code",
   "execution_count": 45,
   "id": "7bc959c1-21bc-4aa3-89c9-94efd0bfec9a",
   "metadata": {},
   "outputs": [
    {
     "name": "stdout",
     "output_type": "stream",
     "text": [
      "11e1a01bdd48afd27ca3ab0257d0d962_0009.mp4\n",
      "50737fa64600d499eb82fcffe373666c_0003.mp4\n",
      "627b66600140fefb8a180e88a21fb722_0009.mp4\n",
      "9c739b7c2ee9958db05e2fbd98fbe26f_0003.mp4\n",
      "c686f7ee4fd5ae6698cd829aca0c705c_0006.mp4\n",
      "ceeb56704fb126659c02bf798e5e5c14_0006.mp4\n"
     ]
    }
   ],
   "source": [
    "%%bash\n",
    "d=\"/LUSTRE/sacmod/SIPECAM/data/33/1_33_1_1222/HLPXGM09049899/2021-12-03/images_videos/\"\n",
    "ls \"$d\"|grep \".*_000[3,6,9].mp4\""
   ]
  },
  {
   "cell_type": "code",
   "execution_count": 46,
   "id": "e7d0fbee-a66e-4a5e-a4f2-d54bd8560d13",
   "metadata": {},
   "outputs": [
    {
     "name": "stdout",
     "output_type": "stream",
     "text": [
      "11e1a01bdd48afd27ca3ab0257d0d962_0009.webm\n",
      "50737fa64600d499eb82fcffe373666c_0003.webm\n",
      "627b66600140fefb8a180e88a21fb722_0009.webm\n",
      "9c739b7c2ee9958db05e2fbd98fbe26f_0003.webm\n",
      "c686f7ee4fd5ae6698cd829aca0c705c_0006.webm\n",
      "ceeb56704fb126659c02bf798e5e5c14_0006.webm\n"
     ]
    }
   ],
   "source": [
    "%%bash\n",
    "d=\"/LUSTRE/sacmod/SIPECAM/data/33/1_33_1_1222/HLPXGM09049899/2021-12-03/images_videos/\"\n",
    "ls \"$d\"|grep \".*_000[3,6,9].webm\""
   ]
  },
  {
   "cell_type": "markdown",
   "id": "6c77ad1f-43fb-4641-8c57-41784fc72ac0",
   "metadata": {},
   "source": [
    "**Let's review json**"
   ]
  },
  {
   "cell_type": "code",
   "execution_count": 47,
   "id": "b24f3d7d-2f96-4dd4-9746-131c0ad609d0",
   "metadata": {},
   "outputs": [
    {
     "name": "stdout",
     "output_type": "stream",
     "text": [
      "{\n",
      "    \"DaysBetweenFirstAndLastDate\": 35,\n",
      "    \"MetadataDevice\": {\n",
      "        \"Make\": \"RECONYX\",\n",
      "        \"Model\": \"HF2 PRO COVERT\",\n",
      "        \"SerialNumber\": \"HLPXGM09049899\",\n",
      "        \"NomenclatureNode\": \"1_33_1_1222\",\n",
      "        \"CumulusName\": \"33\",\n",
      "        \"CentroidCumulusLatitude\": 17.57587,\n",
      "        \"CentroidCumulusLongitude\": -100.64479,\n",
      "        \"DateDeployment\": \"2021-12-03\",\n",
      "        \"EcosystemsName\": \"Bosques templados\",\n",
      "        \"Latitude\": 17.57516,\n",
      "        \"Longitude\": -100.53432,\n",
      "        \"NodeCategoryIntegrity\": \"Integro\"\n",
      "    },\n",
      "    \"MetadataFiles\": {\n",
      "        \"/LUSTRE/sacmod/SIPECAM/data/33/1_33_1_1222/HLPXGM09049899/2021-12-03/images_videos/120d7a479cedb659e94668fc8c8489a0_0049.JPG\": {\n",
      "            \"Make\": \"RECONYX\",\n",
      "            \"Model\": \"HF2 PRO COVERT\",\n",
      "            \"DateTimeOriginal\": \"2021:12:06 20:51:50\",\n",
      "            \"SerialNumber\": \"HLPXGM09049899\",\n",
      "            \"FileSize\": \"241 kB\",\n",
      "            \"ExifByteOrder\": \"Little-endian (Intel, II)\",\n",
      "            \"ImageWidth\": 2048,\n",
      "            \"ImageHeight\": 1440,\n",
      "            \"EncodingProcess\": \"Baseline DCT, Huffman coding\",\n",
      "            \"BitsPerSample\": 8,\n",
      "            \"ColorComponents\": 3,\n",
      "            \"YCbCrSubSampling\": \"YCbCr4:2:2 (2 1)\",\n",
      "            \"XResolution\": 72,\n",
      "            \"YResolution\": 72,\n",
      "            \"ResolutionUnit\": \"inches\",\n",
      "            \"YCbCrPositioning\": \"Co-sited\",\n",
      "            \"ExposureTime\": \"1/60\",\n",
      "            \"ISO\": 200,\n",
      "            \"TimeZoneOffset\": 0,\n",
      "            \"ComponentsConfiguration\": \"Y, Cb, Cr, -\",\n",
      "            \"ColorSpace\": \"sRGB\",\n",
      "            \"AmbientTemperature\": \"12 C\",\n",
      "            \"Contrast\": 128,\n",
      "            \"Brightness\": 0,\n",
      "            \"Sharpness\": 32,\n",
      "            \"Saturation\": 0,\n",
      "            \"Flash\": \"On\",\n",
      "            \"AmbientInfrared\": 0,\n",
      "            \"AmbientLight\": 0,\n",
      "            \"MotionSensitivity\": 100,\n",
      "            \"BatteryVoltage\": 5796,\n",
      "            \"BatteryVoltageAvg\": 7132,\n",
      "            \"Megapixels\": 2.94912,\n",
      "            \"GPSLatitudeRef\": \"North\",\n",
      "            \"GPSLongitudeRef\": \"West\",\n",
      "            \"GPSLatitude\": 17.5889,\n",
      "            \"GPSLongitude\": -100.5231,\n",
      "            \"CentroidCumulusLatitude\": 17.57587,\n",
      "            \"CentroidCumulusLongitude\": -100.64479\n",
      "        },\n",
      "        \"/LUSTRE/sacmod/SIPECAM/data/33/1_33_1_1222/HLPXGM09049899/2021-12-03/images_videos/65f63e4aec165a81c8dc21a9a2f89073_0130.JPG\": {\n",
      "            \"Make\": \"RECONYX\",\n",
      "            \"Model\": \"HF2 PRO COVERT\",\n",
      "            \"DateTimeOriginal\": \"2021:12:11 00:40:26\",\n",
      "            \"SerialNumber\": \"HLPXGM09049899\",\n",
      "            \"FileSize\": \"237 kB\",\n",
      "            \"ExifByteOrder\": \"Little-endian (Intel, II)\",\n",
      "            \"ImageWidth\": 2048,\n",
      "            \"ImageHeight\": 1440,\n",
      "            \"EncodingProcess\": \"Baseline DCT, Huffman coding\",\n",
      "            \"BitsPerSample\": 8,\n",
      "            \"ColorComponents\": 3,\n",
      "            \"YCbCrSubSampling\": \"YCbCr4:2:2 (2 1)\",\n",
      "            \"XResolution\": 72,\n",
      "            \"YResolution\": 72,\n",
      "            \"ResolutionUnit\": \"inches\",\n",
      "            \"YCbCrPositioning\": \"Co-sited\",\n",
      "            \"ExposureTime\": \"1/60\",\n",
      "            \"ISO\": 200,\n",
      "            \"TimeZoneOffset\": 0,\n",
      "            \"ComponentsConfiguration\": \"Y, Cb, Cr, -\",\n",
      "            \"ColorSpace\": \"sRGB\",\n"
     ]
    }
   ],
   "source": [
    "%%bash\n",
    "j=\"/LUSTRE/sacmod/SIPECAM/data/33/1_33_1_1222/HLPXGM09049899/2021-12-03/images_videos/images_videos_simex_metadata_files_and_device_17-07-2022.json\"\n",
    "python3 -mjson.tool \"$j\"|head -n 80"
   ]
  },
  {
   "cell_type": "code",
   "execution_count": 50,
   "id": "2046420d-cf20-4bc1-a78d-5ca2a8d8eb5b",
   "metadata": {},
   "outputs": [
    {
     "name": "stdout",
     "output_type": "stream",
     "text": [
      "        \"/LUSTRE/sacmod/SIPECAM/data/33/1_33_1_1222/HLPXGM09049899/2021-12-03/images_videos/c429c0c079b6a89a31055b6109d51fca_0108.AVI\": {\n",
      "            \"BitRate\": \"5.2 Mbit/sec\",\n",
      "            \"Endianness\": \"Little endian\",\n",
      "            \"VideoBitsPerPixel\": \"24\",\n",
      "            \"VideoCompression\": \"Motion JPEG DIB (fourcc:\\\"MJPG\\\")\",\n",
      "            \"AudioSampleRate\": \"\",\n",
      "            \"AudioCompressionRate\": \"\",\n",
      "            \"AudioCompression\": \"\",\n",
      "            \"AudioBitRate\": \"\",\n",
      "            \"FileSize\": \"3.3 MB\",\n",
      "            \"DateTimeOriginal\": \"2021:12:10 00:06:42\",\n",
      "            \"BMPVersion\": \"Windows V3\",\n",
      "            \"ImageWidth\": 1024,\n",
      "            \"ImageHeight\": 720,\n",
      "            \"Planes\": 1,\n",
      "            \"ImageLength\": 2211840,\n",
      "            \"PixelsPerMeterX\": 0,\n",
      "            \"PixelsPerMeterY\": 0,\n",
      "            \"NumColors\": \"Use BitDepth\",\n",
      "            \"NumImportantColors\": \"All\",\n",
      "            \"FrameRate\": 12.5,\n",
      "            \"FrameCount\": 64,\n",
      "            \"StreamCount\": 1,\n",
      "            \"AudioSampleCount\": -1,\n",
      "            \"Encoding\": \"\",\n",
      "            \"NumChannels\": -1,\n",
      "            \"AvgBytesPerSec\": -1,\n",
      "            \"BitsPerSample\": -1,\n",
      "            \"Duration\": \"5.12 s\",\n",
      "            \"MaxDataRate\": 26542080,\n",
      "            \"Megapixels\": 0.73728,\n",
      "            \"GPSLatitudeRef\": \"North\",\n",
      "            \"GPSLongitudeRef\": \"West\",\n",
      "            \"GPSLatitude\": 17.5889,\n",
      "            \"GPSLongitude\": -100.5231,\n",
      "            \"SerialNumber\": \"HLPXGM09049899\",\n",
      "            \"CentroidCumulusLatitude\": 17.57587,\n",
      "            \"CentroidCumulusLongitude\": -100.64479\n",
      "        },\n",
      "        \"/LUSTRE/sacmod/SIPECAM/data/33/1_33_1_1222/HLPXGM09049899/2021-12-03/images_videos/0a04f93f1c677b8f6a9cb418d2f7c72e_0351.AVI\": {\n",
      "            \"BitRate\": \"5.4 Mbit/sec\",\n",
      "            \"Endianness\": \"Little endian\",\n",
      "            \"VideoBitsPerPixel\": \"24\",\n",
      "            \"VideoCompression\": \"Motion JPEG DIB (fourcc:\\\"MJPG\\\")\",\n",
      "            \"AudioSampleRate\": \"\",\n",
      "            \"AudioCompressionRate\": \"\",\n",
      "            \"AudioCompression\": \"\",\n",
      "            \"AudioBitRate\": \"\",\n",
      "            \"FileSize\": \"3.5 MB\",\n",
      "            \"DateTimeOriginal\": \"2022:01:01 04:37:24\",\n",
      "            \"BMPVersion\": \"Windows V3\",\n",
      "            \"ImageWidth\": 1024,\n",
      "            \"ImageHeight\": 720,\n",
      "            \"Planes\": 1,\n",
      "            \"ImageLength\": 2211840,\n",
      "            \"PixelsPerMeterX\": 0,\n",
      "            \"PixelsPerMeterY\": 0,\n",
      "            \"NumColors\": \"Use BitDepth\",\n",
      "            \"NumImportantColors\": \"All\",\n",
      "            \"FrameRate\": 12.5,\n",
      "            \"FrameCount\": 64,\n",
      "            \"StreamCount\": 1,\n",
      "            \"AudioSampleCount\": -1,\n",
      "            \"Encoding\": \"\",\n",
      "            \"NumChannels\": -1,\n",
      "            \"AvgBytesPerSec\": -1,\n",
      "            \"BitsPerSample\": -1,\n",
      "            \"Duration\": \"5.12 s\",\n",
      "            \"MaxDataRate\": 26542080,\n",
      "            \"Megapixels\": 0.73728,\n",
      "            \"GPSLatitudeRef\": \"North\",\n",
      "            \"GPSLongitudeRef\": \"West\",\n",
      "            \"GPSLatitude\": 17.5889,\n",
      "            \"GPSLongitude\": -100.5231,\n",
      "            \"SerialNumber\": \"HLPXGM09049899\",\n",
      "            \"CentroidCumulusLatitude\": 17.57587,\n",
      "            \"CentroidCumulusLongitude\": -100.64479\n",
      "        }\n",
      "    }\n",
      "}\n"
     ]
    }
   ],
   "source": [
    "%%bash\n",
    "j=\"/LUSTRE/sacmod/SIPECAM/data/33/1_33_1_1222/HLPXGM09049899/2021-12-03/images_videos/images_videos_simex_metadata_files_and_device_17-07-2022.json\"\n",
    "python3 -mjson.tool \"$j\"|tail -n 80"
   ]
  },
  {
   "cell_type": "markdown",
   "id": "9d7b023a-7acd-45c7-911b-f20461522f06",
   "metadata": {},
   "source": [
    "**Let's check if any image has correct coordinates**"
   ]
  },
  {
   "cell_type": "code",
   "execution_count": 49,
   "id": "ba930398-8fd6-4fe5-abe4-2c5d7a430427",
   "metadata": {},
   "outputs": [
    {
     "name": "stdout",
     "output_type": "stream",
     "text": [
      "[{\n",
      "  \"SourceFile\": \"/LUSTRE/sacmod/SIPECAM/data/33/1_33_1_1222/HLPXGM09049899/2021-12-03/images_videos/050560667eb6bae9d137fc657888c633_0406.JPG\",\n",
      "  \"ExifToolVersion\": 12.43,\n",
      "  \"FileName\": \"050560667eb6bae9d137fc657888c633_0406.JPG\",\n",
      "  \"Directory\": \"/LUSTRE/sacmod/SIPECAM/data/33/1_33_1_1222/HLPXGM09049899/2021-12-03/images_videos\",\n",
      "  \"FileSize\": 250896,\n",
      "  \"FileModifyDate\": \"2022:01:03 21:19:08-06:00\",\n",
      "  \"FileAccessDate\": \"2022:08:02 12:17:27-05:00\",\n",
      "  \"FileInodeChangeDate\": \"2022:08:01 19:53:58-05:00\",\n",
      "  \"FilePermissions\": 100777,\n",
      "  \"FileType\": \"JPEG\",\n",
      "  \"FileTypeExtension\": \"JPG\",\n",
      "  \"MIMEType\": \"image/jpeg\",\n",
      "  \"ExifByteOrder\": \"II\",\n",
      "  \"Make\": \"RECONYX\",\n",
      "  \"Model\": \"HF2 PRO COVERT\",\n",
      "  \"XResolution\": 72,\n",
      "  \"YResolution\": 72,\n",
      "  \"ResolutionUnit\": 2,\n",
      "  \"ModifyDate\": \"2022:01:03 21:19:09\",\n",
      "  \"YCbCrPositioning\": 2,\n",
      "  \"ExposureTime\": 0.01666666667,\n",
      "  \"ISO\": 200,\n",
      "  \"TimeZoneOffset\": 0,\n",
      "  \"ExifVersion\": \"0220\",\n",
      "  \"DateTimeOriginal\": \"2022:01:03 21:19:09\",\n",
      "  \"CreateDate\": \"2022:01:03 21:19:09\",\n",
      "  \"ComponentsConfiguration\": \"1 2 3 0\",\n",
      "  \"FileNumber\": 406,\n",
      "  \"DirectoryNumber\": 103,\n",
      "  \"FirmwareVersion\": \"1.4d\",\n",
      "  \"FirmwareDate\": \"2019:10:11\",\n",
      "  \"TriggerMode\": \"M\",\n",
      "  \"Sequence\": \"1 2\",\n",
      "  \"EventNumber\": 136,\n",
      "  \"DayOfWeek\": 2,\n",
      "  \"MoonPhase\": 0,\n",
      "  \"AmbientTemperatureFahrenheit\": 51,\n",
      "  \"AmbientTemperature\": 11,\n",
      "  \"Contrast\": 128,\n",
      "  \"Brightness\": 0,\n",
      "  \"Sharpness\": 32,\n",
      "  \"Saturation\": 0,\n",
      "  \"Flash\": 1,\n",
      "  \"AmbientInfrared\": 0,\n",
      "  \"AmbientLight\": 0,\n",
      "  \"MotionSensitivity\": 100,\n",
      "  \"BatteryVoltage\": 5669,\n",
      "  \"BatteryVoltageAvg\": 7020,\n",
      "  \"BatteryType\": 0,\n",
      "  \"UserLabel\": \"HLPXGM09049899\",\n",
      "  \"SerialNumber\": \"HLPXGM09049899\",\n",
      "  \"FlashpixVersion\": \"0100\",\n",
      "  \"ColorSpace\": 1,\n",
      "  \"ExifImageWidth\": 2048,\n",
      "  \"ExifImageHeight\": 1440,\n",
      "  \"ExposureMode\": 0,\n",
      "  \"WhiteBalance\": 1,\n",
      "  \"SceneCaptureType\": 3,\n",
      "  \"GPSVersionID\": \"2 2 0 0\",\n",
      "  \"GPSLatitudeRef\": \"N\",\n",
      "  \"GPSLongitudeRef\": \"W\",\n",
      "  \"ImageWidth\": 2048,\n",
      "  \"ImageHeight\": 1440,\n",
      "  \"EncodingProcess\": 0,\n",
      "  \"BitsPerSample\": 8,\n",
      "  \"ColorComponents\": 3,\n",
      "  \"YCbCrSubSampling\": \"2 1\",\n",
      "  \"ImageSize\": \"2048 1440\",\n",
      "  \"Megapixels\": 2.94912,\n",
      "  \"ShutterSpeed\": 0.01666666667,\n",
      "  \"GPSLatitude\": 17.57587,\n",
      "  \"GPSLongitude\": -100.64479,\n",
      "  \"GPSPosition\": \"17.57587 -100.64479\"\n",
      "}]\n"
     ]
    }
   ],
   "source": [
    "%%bash\n",
    "f=\"/LUSTRE/sacmod/SIPECAM/data/33/1_33_1_1222/HLPXGM09049899/2021-12-03/images_videos/050560667eb6bae9d137fc657888c633_0406.JPG\"\n",
    "exiftool -a -j -n \"$f\""
   ]
  },
  {
   "cell_type": "markdown",
   "id": "ffb9484c-e409-4be1-b644-628a53c5e241",
   "metadata": {},
   "source": [
    "**It appear's the images have their coordinates masked...**"
   ]
  },
  {
   "cell_type": "markdown",
   "id": "10c7624d-38e3-4e14-9268-928f1f0d3a92",
   "metadata": {},
   "source": [
    "**Let's check coordinates of the images that have repeated number**"
   ]
  },
  {
   "cell_type": "code",
   "execution_count": 52,
   "id": "03d3293d-fc04-4ff2-8df4-5856c9e1ea4d",
   "metadata": {},
   "outputs": [
    {
     "name": "stdout",
     "output_type": "stream",
     "text": [
      "[{\n",
      "  \"SourceFile\": \"/LUSTRE/sacmod/SIPECAM/data/33/1_33_1_1222/HLPXGM09049899/2021-12-03/images_videos/8eca12188c0b61969507741c9115d8a2_0001.JPG\",\n",
      "  \"ExifToolVersion\": 12.43,\n",
      "  \"FileName\": \"8eca12188c0b61969507741c9115d8a2_0001.JPG\",\n",
      "  \"Directory\": \"/LUSTRE/sacmod/SIPECAM/data/33/1_33_1_1222/HLPXGM09049899/2021-12-03/images_videos\",\n",
      "  \"FileSize\": 292201,\n",
      "  \"FileModifyDate\": \"2021:12:03 19:02:06-06:00\",\n",
      "  \"FileAccessDate\": \"2022:08:02 12:27:51-05:00\",\n",
      "  \"FileInodeChangeDate\": \"2022:07:17 22:21:55-05:00\",\n",
      "  \"FilePermissions\": 100777,\n",
      "  \"FileType\": \"JPEG\",\n",
      "  \"FileTypeExtension\": \"JPG\",\n",
      "  \"MIMEType\": \"image/jpeg\",\n",
      "  \"ExifByteOrder\": \"II\",\n",
      "  \"Make\": \"RECONYX\",\n",
      "  \"Model\": \"HF2 PRO COVERT\",\n",
      "  \"XResolution\": 72,\n",
      "  \"YResolution\": 72,\n",
      "  \"ResolutionUnit\": 2,\n",
      "  \"ModifyDate\": \"2021:12:03 19:02:07\",\n",
      "  \"YCbCrPositioning\": 2,\n",
      "  \"ExposureTime\": 0.03333333333,\n",
      "  \"ISO\": 400,\n",
      "  \"ExifVersion\": \"0220\",\n",
      "  \"DateTimeOriginal\": \"2021:12:03 19:02:07\",\n",
      "  \"CreateDate\": \"2021:12:03 19:02:07\",\n",
      "  \"TimeZoneOffset\": 0,\n",
      "  \"ComponentsConfiguration\": \"1 2 3 0\",\n",
      "  \"FileNumber\": 1,\n",
      "  \"DirectoryNumber\": 102,\n",
      "  \"FirmwareVersion\": \"1.4d\",\n",
      "  \"FirmwareDate\": \"2019:10:11\",\n",
      "  \"TriggerMode\": \"M\",\n",
      "  \"Sequence\": \"1 2\",\n",
      "  \"EventNumber\": 1,\n",
      "  \"DayOfWeek\": 6,\n",
      "  \"MoonPhase\": 0,\n",
      "  \"AmbientTemperatureFahrenheit\": 55,\n",
      "  \"AmbientTemperature\": 13,\n",
      "  \"Contrast\": 128,\n",
      "  \"Brightness\": 0,\n",
      "  \"Sharpness\": 32,\n",
      "  \"Saturation\": 0,\n",
      "  \"Flash\": 1,\n",
      "  \"AmbientInfrared\": 0,\n",
      "  \"AmbientLight\": 0,\n",
      "  \"MotionSensitivity\": 100,\n",
      "  \"BatteryVoltage\": 5853,\n",
      "  \"BatteryVoltageAvg\": 7187,\n",
      "  \"BatteryType\": 0,\n",
      "  \"UserLabel\": \"HLPXGM09049899\",\n",
      "  \"SerialNumber\": \"HLPXGM09049899\",\n",
      "  \"FlashpixVersion\": \"0100\",\n",
      "  \"ColorSpace\": 1,\n",
      "  \"ExifImageWidth\": 2048,\n",
      "  \"ExifImageHeight\": 1440,\n",
      "  \"ExposureMode\": 0,\n",
      "  \"WhiteBalance\": 1,\n",
      "  \"SceneCaptureType\": 3,\n",
      "  \"GPSVersionID\": \"2 2 0 0\",\n",
      "  \"GPSLatitudeRef\": \"N\",\n",
      "  \"GPSLongitudeRef\": \"W\",\n",
      "  \"ImageWidth\": 2048,\n",
      "  \"ImageHeight\": 1440,\n",
      "  \"EncodingProcess\": 0,\n",
      "  \"BitsPerSample\": 8,\n",
      "  \"ColorComponents\": 3,\n",
      "  \"YCbCrSubSampling\": \"2 1\",\n",
      "  \"ImageSize\": \"2048 1440\",\n",
      "  \"Megapixels\": 2.94912,\n",
      "  \"ShutterSpeed\": 0.03333333333,\n",
      "  \"GPSLatitude\": 17.5751,\n",
      "  \"GPSLongitude\": -100.5342,\n",
      "  \"GPSPosition\": \"17.5751 -100.5342\"\n",
      "}]\n"
     ]
    }
   ],
   "source": [
    "%%bash\n",
    "f=\"/LUSTRE/sacmod/SIPECAM/data/33/1_33_1_1222/HLPXGM09049899/2021-12-03/images_videos/8eca12188c0b61969507741c9115d8a2_0001.JPG\"\n",
    "exiftool -a -j -n \"$f\""
   ]
  },
  {
   "cell_type": "code",
   "execution_count": 53,
   "id": "7e49779f-c37d-4014-b9eb-faf2753f5044",
   "metadata": {},
   "outputs": [
    {
     "name": "stdout",
     "output_type": "stream",
     "text": [
      "[{\n",
      "  \"SourceFile\": \"/LUSTRE/sacmod/SIPECAM/data/33/1_33_1_1222/HLPXGM09049899/2021-12-03/images_videos/ce6f5df4a590edb30eaeb014e0c2ffd4_0001.JPG\",\n",
      "  \"ExifToolVersion\": 12.43,\n",
      "  \"FileName\": \"ce6f5df4a590edb30eaeb014e0c2ffd4_0001.JPG\",\n",
      "  \"Directory\": \"/LUSTRE/sacmod/SIPECAM/data/33/1_33_1_1222/HLPXGM09049899/2021-12-03/images_videos\",\n",
      "  \"FileSize\": 729220,\n",
      "  \"FileModifyDate\": \"2021:12:05 11:40:10-06:00\",\n",
      "  \"FileAccessDate\": \"2022:08:01 19:53:08-05:00\",\n",
      "  \"FileInodeChangeDate\": \"2022:08:01 19:53:08-05:00\",\n",
      "  \"FilePermissions\": 100777,\n",
      "  \"FileType\": \"JPEG\",\n",
      "  \"FileTypeExtension\": \"JPG\",\n",
      "  \"MIMEType\": \"image/jpeg\",\n",
      "  \"ExifByteOrder\": \"II\",\n",
      "  \"Make\": \"RECONYX\",\n",
      "  \"Model\": \"HF2 PRO COVERT\",\n",
      "  \"XResolution\": 72,\n",
      "  \"YResolution\": 72,\n",
      "  \"ResolutionUnit\": 2,\n",
      "  \"ModifyDate\": \"2021:12:05 11:40:11\",\n",
      "  \"YCbCrPositioning\": 2,\n",
      "  \"ExposureTime\": 0.02677083333,\n",
      "  \"ISO\": 400,\n",
      "  \"TimeZoneOffset\": 0,\n",
      "  \"ExifVersion\": \"0220\",\n",
      "  \"DateTimeOriginal\": \"2021:12:05 11:40:11\",\n",
      "  \"CreateDate\": \"2021:12:05 11:40:11\",\n",
      "  \"ComponentsConfiguration\": \"1 2 3 0\",\n",
      "  \"FileNumber\": 1,\n",
      "  \"DirectoryNumber\": 103,\n",
      "  \"FirmwareVersion\": \"1.4d\",\n",
      "  \"FirmwareDate\": \"2019:10:11\",\n",
      "  \"TriggerMode\": \"M\",\n",
      "  \"Sequence\": \"1 2\",\n",
      "  \"EventNumber\": 1,\n",
      "  \"DayOfWeek\": 1,\n",
      "  \"MoonPhase\": 0,\n",
      "  \"AmbientTemperatureFahrenheit\": 69,\n",
      "  \"AmbientTemperature\": 21,\n",
      "  \"Contrast\": 128,\n",
      "  \"Brightness\": 0,\n",
      "  \"Sharpness\": 64,\n",
      "  \"Saturation\": 128,\n",
      "  \"Flash\": 0,\n",
      "  \"AmbientInfrared\": 764,\n",
      "  \"AmbientLight\": 1648,\n",
      "  \"MotionSensitivity\": 100,\n",
      "  \"BatteryVoltage\": 7187,\n",
      "  \"BatteryVoltageAvg\": 7197,\n",
      "  \"BatteryType\": 0,\n",
      "  \"UserLabel\": \"HLPXGM09049899\",\n",
      "  \"SerialNumber\": \"HLPXGM09049899\",\n",
      "  \"FlashpixVersion\": \"0100\",\n",
      "  \"ColorSpace\": 1,\n",
      "  \"ExifImageWidth\": 2048,\n",
      "  \"ExifImageHeight\": 1440,\n",
      "  \"ExposureMode\": 0,\n",
      "  \"WhiteBalance\": 1,\n",
      "  \"SceneCaptureType\": 0,\n",
      "  \"GPSVersionID\": \"2 2 0 0\",\n",
      "  \"GPSLatitudeRef\": \"N\",\n",
      "  \"GPSLongitudeRef\": \"W\",\n",
      "  \"ImageWidth\": 2048,\n",
      "  \"ImageHeight\": 1440,\n",
      "  \"EncodingProcess\": 0,\n",
      "  \"BitsPerSample\": 8,\n",
      "  \"ColorComponents\": 3,\n",
      "  \"YCbCrSubSampling\": \"2 1\",\n",
      "  \"ImageSize\": \"2048 1440\",\n",
      "  \"Megapixels\": 2.94912,\n",
      "  \"ShutterSpeed\": 0.02677083333,\n",
      "  \"GPSLatitude\": 17.57587,\n",
      "  \"GPSLongitude\": -100.64479,\n",
      "  \"GPSPosition\": \"17.57587 -100.64479\"\n",
      "}]\n"
     ]
    }
   ],
   "source": [
    "%%bash\n",
    "f=\"/LUSTRE/sacmod/SIPECAM/data/33/1_33_1_1222/HLPXGM09049899/2021-12-03/images_videos/ce6f5df4a590edb30eaeb014e0c2ffd4_0001.JPG\"\n",
    "exiftool -a -j -n \"$f\""
   ]
  },
  {
   "cell_type": "markdown",
   "id": "361bd7fb-5357-497a-8cf7-fbf8a136d17f",
   "metadata": {},
   "source": [
    "**Another images**"
   ]
  },
  {
   "cell_type": "code",
   "execution_count": 54,
   "id": "e3d960a2-92ac-4c34-b6bb-5e6b7549110b",
   "metadata": {},
   "outputs": [
    {
     "name": "stdout",
     "output_type": "stream",
     "text": [
      "[{\n",
      "  \"SourceFile\": \"/LUSTRE/sacmod/SIPECAM/data/33/1_33_1_1222/HLPXGM09049899/2021-12-03/images_videos/74f3a15286d1f204e6019a7631d0f5a7_0002.JPG\",\n",
      "  \"ExifToolVersion\": 12.43,\n",
      "  \"FileName\": \"74f3a15286d1f204e6019a7631d0f5a7_0002.JPG\",\n",
      "  \"Directory\": \"/LUSTRE/sacmod/SIPECAM/data/33/1_33_1_1222/HLPXGM09049899/2021-12-03/images_videos\",\n",
      "  \"FileSize\": 291208,\n",
      "  \"FileModifyDate\": \"2021:12:03 19:02:08-06:00\",\n",
      "  \"FileAccessDate\": \"2022:07:17 22:21:55-05:00\",\n",
      "  \"FileInodeChangeDate\": \"2022:07:17 22:21:55-05:00\",\n",
      "  \"FilePermissions\": 100777,\n",
      "  \"FileType\": \"JPEG\",\n",
      "  \"FileTypeExtension\": \"JPG\",\n",
      "  \"MIMEType\": \"image/jpeg\",\n",
      "  \"ExifByteOrder\": \"II\",\n",
      "  \"Make\": \"RECONYX\",\n",
      "  \"Model\": \"HF2 PRO COVERT\",\n",
      "  \"XResolution\": 72,\n",
      "  \"YResolution\": 72,\n",
      "  \"ResolutionUnit\": 2,\n",
      "  \"ModifyDate\": \"2021:12:03 19:02:08\",\n",
      "  \"YCbCrPositioning\": 2,\n",
      "  \"ExposureTime\": 0.03333333333,\n",
      "  \"ISO\": 400,\n",
      "  \"ExifVersion\": \"0220\",\n",
      "  \"DateTimeOriginal\": \"2021:12:03 19:02:08\",\n",
      "  \"CreateDate\": \"2021:12:03 19:02:08\",\n",
      "  \"TimeZoneOffset\": 0,\n",
      "  \"ComponentsConfiguration\": \"1 2 3 0\",\n",
      "  \"FileNumber\": 2,\n",
      "  \"DirectoryNumber\": 102,\n",
      "  \"FirmwareVersion\": \"1.4d\",\n",
      "  \"FirmwareDate\": \"2019:10:11\",\n",
      "  \"TriggerMode\": \"M\",\n",
      "  \"Sequence\": \"2 2\",\n",
      "  \"EventNumber\": 1,\n",
      "  \"DayOfWeek\": 6,\n",
      "  \"MoonPhase\": 0,\n",
      "  \"AmbientTemperatureFahrenheit\": 55,\n",
      "  \"AmbientTemperature\": 13,\n",
      "  \"Contrast\": 128,\n",
      "  \"Brightness\": 0,\n",
      "  \"Sharpness\": 32,\n",
      "  \"Saturation\": 0,\n",
      "  \"Flash\": 1,\n",
      "  \"AmbientInfrared\": 0,\n",
      "  \"AmbientLight\": 0,\n",
      "  \"MotionSensitivity\": 100,\n",
      "  \"BatteryVoltage\": 5928,\n",
      "  \"BatteryVoltageAvg\": 7187,\n",
      "  \"BatteryType\": 0,\n",
      "  \"UserLabel\": \"HLPXGM09049899\",\n",
      "  \"SerialNumber\": \"HLPXGM09049899\",\n",
      "  \"FlashpixVersion\": \"0100\",\n",
      "  \"ColorSpace\": 1,\n",
      "  \"ExifImageWidth\": 2048,\n",
      "  \"ExifImageHeight\": 1440,\n",
      "  \"ExposureMode\": 0,\n",
      "  \"WhiteBalance\": 1,\n",
      "  \"SceneCaptureType\": 3,\n",
      "  \"GPSVersionID\": \"2 2 0 0\",\n",
      "  \"GPSLatitudeRef\": \"N\",\n",
      "  \"GPSLongitudeRef\": \"W\",\n",
      "  \"ImageWidth\": 2048,\n",
      "  \"ImageHeight\": 1440,\n",
      "  \"EncodingProcess\": 0,\n",
      "  \"BitsPerSample\": 8,\n",
      "  \"ColorComponents\": 3,\n",
      "  \"YCbCrSubSampling\": \"2 1\",\n",
      "  \"ImageSize\": \"2048 1440\",\n",
      "  \"Megapixels\": 2.94912,\n",
      "  \"ShutterSpeed\": 0.03333333333,\n",
      "  \"GPSLatitude\": 17.5751,\n",
      "  \"GPSLongitude\": -100.5342,\n",
      "  \"GPSPosition\": \"17.5751 -100.5342\"\n",
      "}]\n"
     ]
    }
   ],
   "source": [
    "%%bash\n",
    "f=\"/LUSTRE/sacmod/SIPECAM/data/33/1_33_1_1222/HLPXGM09049899/2021-12-03/images_videos/74f3a15286d1f204e6019a7631d0f5a7_0002.JPG\"\n",
    "exiftool -a -j -n \"$f\""
   ]
  },
  {
   "cell_type": "code",
   "execution_count": 55,
   "id": "7dff899b-e27b-4461-ae7d-c0bb910c250b",
   "metadata": {},
   "outputs": [
    {
     "name": "stdout",
     "output_type": "stream",
     "text": [
      "[{\n",
      "  \"SourceFile\": \"/LUSTRE/sacmod/SIPECAM/data/33/1_33_1_1222/HLPXGM09049899/2021-12-03/images_videos/e660334b7477becf3bb02b64135dd242_0002.JPG\",\n",
      "  \"ExifToolVersion\": 12.43,\n",
      "  \"FileName\": \"e660334b7477becf3bb02b64135dd242_0002.JPG\",\n",
      "  \"Directory\": \"/LUSTRE/sacmod/SIPECAM/data/33/1_33_1_1222/HLPXGM09049899/2021-12-03/images_videos\",\n",
      "  \"FileSize\": 663833,\n",
      "  \"FileModifyDate\": \"2021:12:05 11:40:12-06:00\",\n",
      "  \"FileAccessDate\": \"2022:08:01 19:52:23-05:00\",\n",
      "  \"FileInodeChangeDate\": \"2022:08:01 19:52:23-05:00\",\n",
      "  \"FilePermissions\": 100777,\n",
      "  \"FileType\": \"JPEG\",\n",
      "  \"FileTypeExtension\": \"JPG\",\n",
      "  \"MIMEType\": \"image/jpeg\",\n",
      "  \"ExifByteOrder\": \"II\",\n",
      "  \"Make\": \"RECONYX\",\n",
      "  \"Model\": \"HF2 PRO COVERT\",\n",
      "  \"XResolution\": 72,\n",
      "  \"YResolution\": 72,\n",
      "  \"ResolutionUnit\": 2,\n",
      "  \"ModifyDate\": \"2021:12:05 11:40:12\",\n",
      "  \"YCbCrPositioning\": 2,\n",
      "  \"ExposureTime\": 0.02677083333,\n",
      "  \"ISO\": 400,\n",
      "  \"TimeZoneOffset\": 0,\n",
      "  \"ExifVersion\": \"0220\",\n",
      "  \"DateTimeOriginal\": \"2021:12:05 11:40:12\",\n",
      "  \"CreateDate\": \"2021:12:05 11:40:12\",\n",
      "  \"ComponentsConfiguration\": \"1 2 3 0\",\n",
      "  \"FileNumber\": 2,\n",
      "  \"DirectoryNumber\": 103,\n",
      "  \"FirmwareVersion\": \"1.4d\",\n",
      "  \"FirmwareDate\": \"2019:10:11\",\n",
      "  \"TriggerMode\": \"M\",\n",
      "  \"Sequence\": \"2 2\",\n",
      "  \"EventNumber\": 1,\n",
      "  \"DayOfWeek\": 1,\n",
      "  \"MoonPhase\": 0,\n",
      "  \"AmbientTemperatureFahrenheit\": 69,\n",
      "  \"AmbientTemperature\": 21,\n",
      "  \"Contrast\": 128,\n",
      "  \"Brightness\": 0,\n",
      "  \"Sharpness\": 64,\n",
      "  \"Saturation\": 128,\n",
      "  \"Flash\": 0,\n",
      "  \"AmbientInfrared\": 764,\n",
      "  \"AmbientLight\": 1648,\n",
      "  \"MotionSensitivity\": 100,\n",
      "  \"BatteryVoltage\": 7170,\n",
      "  \"BatteryVoltageAvg\": 7197,\n",
      "  \"BatteryType\": 0,\n",
      "  \"UserLabel\": \"HLPXGM09049899\",\n",
      "  \"SerialNumber\": \"HLPXGM09049899\",\n",
      "  \"FlashpixVersion\": \"0100\",\n",
      "  \"ColorSpace\": 1,\n",
      "  \"ExifImageWidth\": 2048,\n",
      "  \"ExifImageHeight\": 1440,\n",
      "  \"ExposureMode\": 0,\n",
      "  \"WhiteBalance\": 1,\n",
      "  \"SceneCaptureType\": 0,\n",
      "  \"GPSVersionID\": \"2 2 0 0\",\n",
      "  \"GPSLatitudeRef\": \"N\",\n",
      "  \"GPSLongitudeRef\": \"W\",\n",
      "  \"ImageWidth\": 2048,\n",
      "  \"ImageHeight\": 1440,\n",
      "  \"EncodingProcess\": 0,\n",
      "  \"BitsPerSample\": 8,\n",
      "  \"ColorComponents\": 3,\n",
      "  \"YCbCrSubSampling\": \"2 1\",\n",
      "  \"ImageSize\": \"2048 1440\",\n",
      "  \"Megapixels\": 2.94912,\n",
      "  \"ShutterSpeed\": 0.02677083333,\n",
      "  \"GPSLatitude\": 17.57587,\n",
      "  \"GPSLongitude\": -100.64479,\n",
      "  \"GPSPosition\": \"17.57587 -100.64479\"\n",
      "}]\n"
     ]
    }
   ],
   "source": [
    "%%bash\n",
    "f=\"/LUSTRE/sacmod/SIPECAM/data/33/1_33_1_1222/HLPXGM09049899/2021-12-03/images_videos/e660334b7477becf3bb02b64135dd242_0002.JPG\"\n",
    "exiftool -a -j -n \"$f\""
   ]
  },
  {
   "cell_type": "markdown",
   "id": "070cb81c-368f-4e12-b44d-bc191e60bab1",
   "metadata": {},
   "source": [
    "**Manually reviewing the images, next are the ones that need to be moved**"
   ]
  },
  {
   "cell_type": "code",
   "execution_count": 63,
   "id": "0f12fb35-af58-443f-b8ef-8a564f4d40dd",
   "metadata": {},
   "outputs": [],
   "source": [
    "%%bash\n",
    "d=\"/LUSTRE/sacmod/SIPECAM/data/33/1_33_1_1222/HLPXGM09049899/2021-12-03/images_videos/\"\n",
    "dst=\"/LUSTRE/sacmod/SIPECAM/sipecam_files_simex_error\"\n",
    "mv \"$d/ce6f5df4a590edb30eaeb014e0c2ffd4_0001.JPG\" \"$dst/\"\n",
    "mv \"$d/d8d6de82c7125a1e5998dbc5719bafb0_0004.JPG\" \"$dst/\"\n",
    "mv \"$d/31422e4d11873d87648cd6a4c75f841d_0005.JPG\" \"$dst/\"\n",
    "mv \"$d/c564892ae2c4636620b77748fa18d7bb_0007.JPG\" \"$dst/\"\n",
    "mv \"$d/c0683990047847e14629668f6781e62e_0008.JPG\" \"$dst/\""
   ]
  },
  {
   "cell_type": "markdown",
   "id": "3106d173-ad20-45f8-8fe1-67c8062f004f",
   "metadata": {},
   "source": [
    "**Manually reviewing the videos, next are the ones that need to be moved**"
   ]
  },
  {
   "cell_type": "code",
   "execution_count": 67,
   "id": "f14e2ff6-c73d-45ba-8520-534725a338cb",
   "metadata": {},
   "outputs": [],
   "source": [
    "%%bash\n",
    "d=\"/LUSTRE/sacmod/SIPECAM/data/33/1_33_1_1222/HLPXGM09049899/2021-12-03/images_videos/\"\n",
    "dst=\"/LUSTRE/sacmod/SIPECAM/sipecam_files_simex_error\"\n",
    "mv \"$d/9c739b7c2ee9958db05e2fbd98fbe26f_0003.mp4\" \"$dst/\"\n",
    "mv \"$d/9c739b7c2ee9958db05e2fbd98fbe26f_0003.AVI\" \"$dst/\"\n",
    "mv \"$d/9c739b7c2ee9958db05e2fbd98fbe26f_0003.webm\" \"$dst/\"\n",
    "mv \"$d/ceeb56704fb126659c02bf798e5e5c14_0006.mp4\" \"$dst/\"\n",
    "mv \"$d/ceeb56704fb126659c02bf798e5e5c14_0006.AVI\" \"$dst/\"\n",
    "mv \"$d/ceeb56704fb126659c02bf798e5e5c14_0006.webm\" \"$dst/\"\n",
    "mv \"$d/627b66600140fefb8a180e88a21fb722_0009.mp4\" \"$dst/\"\n",
    "mv \"$d/627b66600140fefb8a180e88a21fb722_0009.webm\" \"$dst/\"\n",
    "mv \"$d/627b66600140fefb8a180e88a21fb722_0009.AVI\" \"$dst/\""
   ]
  },
  {
   "cell_type": "markdown",
   "id": "ce567c41-6467-4dd1-bb86-c4495a4f92c5",
   "metadata": {},
   "source": [
    "**Reviewing manually the images, it seems that the coordinates that must be in json are:**"
   ]
  },
  {
   "cell_type": "markdown",
   "id": "3f56e758-b76f-45da-9f1c-4eb9dff6c615",
   "metadata": {},
   "source": [
    "\n",
    "```\n",
    "    \"MetadataDevice\": {\n",
    "        \"Make\": \"RECONYX\",\n",
    "        \"Model\": \"HF2 PRO COVERT\",\n",
    "        \"SerialNumber\": \"HLPXGM09049899\",\n",
    "        \"NomenclatureNode\": \"1_33_1_1222\",\n",
    "        \"CumulusName\": \"33\",\n",
    "        \"CentroidCumulusLatitude\": 17.57587,\n",
    "        \"CentroidCumulusLongitude\": -100.64479,\n",
    "        \"DateDeployment\": \"2021-12-03\",\n",
    "        \"EcosystemsName\": \"Bosques templados\",\n",
    "        \"Latitude\": 17.5751,\n",
    "        \"Longitude\": -100.5342,\n",
    "        \"NodeCategoryIntegrity\": \"Integro\"\n",
    "    }\n",
    "```"
   ]
  },
  {
   "cell_type": "markdown",
   "id": "a9e3d166-17c7-454c-b006-3157059c2627",
   "metadata": {},
   "source": [
    "**Hardcoding code of `extract`cli with last info...**"
   ]
  },
  {
   "cell_type": "markdown",
   "id": "e8d2125b-657f-431a-a11a-d64d5dea1524",
   "metadata": {},
   "source": [
    "**extract**"
   ]
  },
  {
   "cell_type": "code",
   "execution_count": 72,
   "id": "fa678dab-0925-4551-8baf-c3900ac7605e",
   "metadata": {},
   "outputs": [],
   "source": [
    "%%bash\n",
    "dir_to_be_processed=\"/LUSTRE/sacmod/SIPECAM/data/33/1_33_1_1222/HLPXGM09049899/2021-12-03/images_videos/\"\n",
    "#if number_of_processes is passed as arg then is assumed will execute in parallel\n",
    "extract_serial_numbers_dates_and_metadata_of_files_and_device --input_dir \"$dir_to_be_processed\" --number_of_processes 12"
   ]
  },
  {
   "cell_type": "markdown",
   "id": "296c8dc7-b837-4d3f-a8dc-4d9667a67f3b",
   "metadata": {},
   "source": [
    "**Check**"
   ]
  },
  {
   "cell_type": "code",
   "execution_count": 75,
   "id": "cd666349-3b2a-487f-b598-63a8c30b2381",
   "metadata": {},
   "outputs": [
    {
     "name": "stdout",
     "output_type": "stream",
     "text": [
      "{\n",
      "    \"MetadataDevice\": {\n",
      "        \"Make\": \"RECONYX\",\n",
      "        \"Model\": \"HF2 PRO COVERT\",\n",
      "        \"SerialNumber\": \"HLPXGM09049899\",\n",
      "        \"NomenclatureNode\": \"1_33_1_1222\",\n",
      "        \"CumulusName\": \"33\",\n",
      "        \"CentroidCumulusLatitude\": 17.57587,\n",
      "        \"CentroidCumulusLongitude\": -100.64479,\n",
      "        \"DateDeployment\": \"2021-12-03\",\n",
      "        \"EcosystemsName\": \"Bosques templados\",\n",
      "        \"Latitude\": 17.5751,\n",
      "        \"Longitude\": -100.5342,\n",
      "        \"NodeCategoryIntegrity\": \"Integro\"\n",
      "    },\n",
      "    \"MetadataFiles\": {\n",
      "        \"/LUSTRE/sacmod/SIPECAM/data/33/1_33_1_1222/HLPXGM09049899/2021-12-03/images_videos/fabb0f21925f38252cf722f3bf30a876_0290.JPG\": {\n",
      "            \"Make\": \"RECONYX\",\n",
      "            \"Model\": \"HF2 PRO COVERT\",\n",
      "            \"DateTimeOriginal\": \"2021:12:30 18:22:26\",\n",
      "            \"SerialNumber\": \"HLPXGM09049899\",\n",
      "            \"FileSize\": \"251 kB\",\n",
      "            \"ExifByteOrder\": \"Little-endian (Intel, II)\",\n",
      "            \"ImageWidth\": 2048,\n",
      "            \"ImageHeight\": 1440,\n",
      "            \"EncodingProcess\": \"Baseline DCT, Huffman coding\",\n",
      "            \"BitsPerSample\": 8,\n",
      "            \"ColorComponents\": 3,\n",
      "            \"YCbCrSubSampling\": \"YCbCr4:2:2 (2 1)\",\n",
      "            \"XResolution\": 72,\n",
      "            \"YResolution\": 72,\n",
      "            \"ResolutionUnit\": \"inches\",\n",
      "            \"YCbCrPositioning\": \"Co-sited\",\n",
      "            \"ExposureTime\": \"1/60\",\n",
      "            \"ISO\": 200,\n",
      "            \"TimeZoneOffset\": 0,\n",
      "            \"ComponentsConfiguration\": \"Y, Cb, Cr, -\",\n",
      "            \"ColorSpace\": \"sRGB\",\n",
      "            \"AmbientTemperature\": \"14 C\",\n",
      "            \"Contrast\": 128,\n",
      "            \"Brightness\": 0,\n",
      "            \"Sharpness\": 32,\n",
      "            \"Saturation\": 0,\n",
      "            \"Flash\": \"On\",\n",
      "            \"AmbientInfrared\": 1,\n",
      "            \"AmbientLight\": 2,\n",
      "            \"MotionSensitivity\": 100,\n",
      "            \"BatteryVoltage\": 5813,\n",
      "            \"BatteryVoltageAvg\": 7050,\n",
      "            \"Megapixels\": 2.94912,\n",
      "            \"GPSLatitudeRef\": \"North\",\n",
      "            \"GPSLongitudeRef\": \"West\",\n",
      "            \"GPSLatitude\": 17.5751,\n",
      "            \"GPSLongitude\": -100.5342,\n",
      "            \"CentroidCumulusLatitude\": 17.57587,\n",
      "            \"CentroidCumulusLongitude\": -100.64479\n",
      "        },\n",
      "        \"/LUSTRE/sacmod/SIPECAM/data/33/1_33_1_1222/HLPXGM09049899/2021-12-03/images_videos/af8aca02e97bd6b2821a1cc76fc70b49_0065.JPG\": {\n",
      "            \"Make\": \"RECONYX\",\n",
      "            \"Model\": \"HF2 PRO COVERT\",\n",
      "            \"DateTimeOriginal\": \"2021:12:07 19:39:56\",\n",
      "            \"SerialNumber\": \"HLPXGM09049899\",\n",
      "            \"FileSize\": \"245 kB\",\n",
      "            \"ExifByteOrder\": \"Little-endian (Intel, II)\",\n",
      "            \"ImageWidth\": 2048,\n",
      "            \"ImageHeight\": 1440,\n",
      "            \"EncodingProcess\": \"Baseline DCT, Huffman coding\",\n",
      "            \"BitsPerSample\": 8,\n",
      "            \"ColorComponents\": 3,\n",
      "            \"YCbCrSubSampling\": \"YCbCr4:2:2 (2 1)\",\n",
      "            \"XResolution\": 72,\n",
      "            \"YResolution\": 72,\n",
      "            \"ResolutionUnit\": \"inches\",\n",
      "            \"YCbCrPositioning\": \"Co-sited\",\n",
      "            \"ExposureTime\": \"1/60\",\n",
      "            \"ISO\": 200,\n",
      "            \"TimeZoneOffset\": 0,\n",
      "            \"ComponentsConfiguration\": \"Y, Cb, Cr, -\",\n",
      "            \"ColorSpace\": \"sRGB\",\n",
      "            \"AmbientTemperature\": \"13 C\",\n"
     ]
    }
   ],
   "source": [
    "%%bash\n",
    "f=\"/LUSTRE/sacmod/SIPECAM/data/33/1_33_1_1222/HLPXGM09049899/2021-12-03/images_videos/images_videos_simex_metadata_files_and_device_03-08-2022.json\"\n",
    "python3 -mjson.tool \"$f\"|head -n 80"
   ]
  },
  {
   "cell_type": "code",
   "execution_count": 76,
   "id": "354c20a0-682b-4a7b-91a0-b326b51a1ef4",
   "metadata": {},
   "outputs": [
    {
     "name": "stdout",
     "output_type": "stream",
     "text": [
      "            \"AudioSampleRate\": \"\",\n",
      "            \"AudioCompressionRate\": \"\",\n",
      "            \"AudioCompression\": \"\",\n",
      "            \"AudioBitRate\": \"\",\n",
      "            \"FileSize\": \"3.5 MB\",\n",
      "            \"DateTimeOriginal\": \"2021:12:13 01:45:24\",\n",
      "            \"BMPVersion\": \"Windows V3\",\n",
      "            \"ImageWidth\": 1024,\n",
      "            \"ImageHeight\": 720,\n",
      "            \"Planes\": 1,\n",
      "            \"ImageLength\": 2211840,\n",
      "            \"PixelsPerMeterX\": 0,\n",
      "            \"PixelsPerMeterY\": 0,\n",
      "            \"NumColors\": \"Use BitDepth\",\n",
      "            \"NumImportantColors\": \"All\",\n",
      "            \"FrameRate\": 12.5,\n",
      "            \"FrameCount\": 64,\n",
      "            \"StreamCount\": 1,\n",
      "            \"AudioSampleCount\": -1,\n",
      "            \"Encoding\": \"\",\n",
      "            \"NumChannels\": -1,\n",
      "            \"AvgBytesPerSec\": -1,\n",
      "            \"BitsPerSample\": -1,\n",
      "            \"Duration\": \"5.12 s\",\n",
      "            \"MaxDataRate\": 26542080,\n",
      "            \"Megapixels\": 0.73728,\n",
      "            \"GPSLatitudeRef\": \"North\",\n",
      "            \"GPSLongitudeRef\": \"West\",\n",
      "            \"GPSLatitude\": 17.5751,\n",
      "            \"GPSLongitude\": -100.5342,\n",
      "            \"SerialNumber\": \"HLPXGM09049899\",\n",
      "            \"CentroidCumulusLatitude\": 17.57587,\n",
      "            \"CentroidCumulusLongitude\": -100.64479\n",
      "        },\n",
      "        \"/LUSTRE/sacmod/SIPECAM/data/33/1_33_1_1222/HLPXGM09049899/2021-12-03/images_videos/6306e051c59cd4485ab4668992c95f96_0309.AVI\": {\n",
      "            \"BitRate\": \"5.6 Mbit/sec\",\n",
      "            \"Endianness\": \"Little endian\",\n",
      "            \"VideoBitsPerPixel\": \"24\",\n",
      "            \"VideoCompression\": \"Motion JPEG DIB (fourcc:\\\"MJPG\\\")\",\n",
      "            \"AudioSampleRate\": \"\",\n",
      "            \"AudioCompressionRate\": \"\",\n",
      "            \"AudioCompression\": \"\",\n",
      "            \"AudioBitRate\": \"\",\n",
      "            \"FileSize\": \"3.6 MB\",\n",
      "            \"DateTimeOriginal\": \"2021:12:31 00:59:00\",\n",
      "            \"BMPVersion\": \"Windows V3\",\n",
      "            \"ImageWidth\": 1024,\n",
      "            \"ImageHeight\": 720,\n",
      "            \"Planes\": 1,\n",
      "            \"ImageLength\": 2211840,\n",
      "            \"PixelsPerMeterX\": 0,\n",
      "            \"PixelsPerMeterY\": 0,\n",
      "            \"NumColors\": \"Use BitDepth\",\n",
      "            \"NumImportantColors\": \"All\",\n",
      "            \"FrameRate\": 12.5,\n",
      "            \"FrameCount\": 64,\n",
      "            \"StreamCount\": 1,\n",
      "            \"AudioSampleCount\": -1,\n",
      "            \"Encoding\": \"\",\n",
      "            \"NumChannels\": -1,\n",
      "            \"AvgBytesPerSec\": -1,\n",
      "            \"BitsPerSample\": -1,\n",
      "            \"Duration\": \"5.12 s\",\n",
      "            \"MaxDataRate\": 26542080,\n",
      "            \"Megapixels\": 0.73728,\n",
      "            \"GPSLatitudeRef\": \"North\",\n",
      "            \"GPSLongitudeRef\": \"West\",\n",
      "            \"GPSLatitude\": 17.5751,\n",
      "            \"GPSLongitude\": -100.5342,\n",
      "            \"SerialNumber\": \"HLPXGM09049899\",\n",
      "            \"CentroidCumulusLatitude\": 17.57587,\n",
      "            \"CentroidCumulusLongitude\": -100.64479\n",
      "        }\n",
      "    },\n",
      "    \"FirstAndLastDate\": {\n",
      "        \"/LUSTRE/sacmod/SIPECAM/data/33/1_33_1_1222/HLPXGM09049899/2021-12-03/images_videos/74f3a15286d1f204e6019a7631d0f5a7_0002.JPG\": \"2021-12-03\",\n",
      "        \"/LUSTRE/sacmod/SIPECAM/data/33/1_33_1_1222/HLPXGM09049899/2021-12-03/images_videos/544455c5b41d7a59aef9f925f6284052_0516.AVI\": \"2022-01-09\"\n",
      "    },\n",
      "    \"DaysBetweenFirstAndLastDate\": 37\n",
      "}\n"
     ]
    }
   ],
   "source": [
    "%%bash\n",
    "f=\"/LUSTRE/sacmod/SIPECAM/data/33/1_33_1_1222/HLPXGM09049899/2021-12-03/images_videos/images_videos_simex_metadata_files_and_device_03-08-2022.json\"\n",
    "python3 -mjson.tool \"$f\"|tail -n 80"
   ]
  },
  {
   "cell_type": "code",
   "execution_count": null,
   "id": "76cd0cea-9d2f-4d40-85a4-cfca2f25e863",
   "metadata": {},
   "outputs": [],
   "source": []
  }
 ],
 "metadata": {
  "kernelspec": {
   "display_name": "Python 3 (ipykernel)",
   "language": "python",
   "name": "python3"
  },
  "language_info": {
   "codemirror_mode": {
    "name": "ipython",
    "version": 3
   },
   "file_extension": ".py",
   "mimetype": "text/x-python",
   "name": "python",
   "nbconvert_exporter": "python",
   "pygments_lexer": "ipython3",
   "version": "3.8.10"
  }
 },
 "nbformat": 4,
 "nbformat_minor": 5
}
